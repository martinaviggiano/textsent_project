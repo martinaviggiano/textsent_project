{
 "cells": [
  {
   "cell_type": "markdown",
   "metadata": {},
   "source": [
    "# Hate speech"
   ]
  },
  {
   "cell_type": "markdown",
   "metadata": {},
   "source": [
    "### 1. Data import and error removal"
   ]
  },
  {
   "cell_type": "code",
   "execution_count": 1,
   "metadata": {
    "execution": {
     "iopub.execute_input": "2021-04-10T21:57:22.015613Z",
     "iopub.status.busy": "2021-04-10T21:57:22.015154Z",
     "iopub.status.idle": "2021-04-10T21:57:22.389257Z",
     "shell.execute_reply": "2021-04-10T21:57:22.388641Z",
     "shell.execute_reply.started": "2021-04-10T21:57:22.015562Z"
    }
   },
   "outputs": [
    {
     "name": "stderr",
     "output_type": "stream",
     "text": [
      "C:\\Users\\marti\\anaconda3\\lib\\site-packages\\tqdm\\std.py:697: FutureWarning: The Panel class is removed from pandas. Accessing it from the top-level namespace will also be removed in the next version\n",
      "  from pandas import Panel\n"
     ]
    }
   ],
   "source": [
    "import pandas as pd\n",
    "import numpy as np\n",
    "import glob\n",
    "import os\n",
    "from tqdm import tqdm\n",
    "import ntpath\n",
    "from sklearn.feature_extraction.text import CountVectorizer, TfidfVectorizer\n",
    "import matplotlib.pyplot as plt\n",
    "tqdm.pandas()"
   ]
  },
  {
   "cell_type": "code",
   "execution_count": 2,
   "metadata": {
    "execution": {
     "iopub.execute_input": "2021-04-10T21:52:48.722170Z",
     "iopub.status.busy": "2021-04-10T21:52:48.721823Z",
     "iopub.status.idle": "2021-04-10T21:52:48.752571Z",
     "shell.execute_reply": "2021-04-10T21:52:48.751663Z",
     "shell.execute_reply.started": "2021-04-10T21:52:48.722134Z"
    }
   },
   "outputs": [],
   "source": [
    "all_files_paths = glob.glob(\"C:/Users/marti/repos/textsent_project/hate-speech-dataset/all_files/*.txt\")"
   ]
  },
  {
   "cell_type": "code",
   "execution_count": 3,
   "metadata": {
    "execution": {
     "iopub.execute_input": "2021-04-10T21:52:48.777032Z",
     "iopub.status.busy": "2021-04-10T21:52:48.776870Z",
     "iopub.status.idle": "2021-04-10T21:52:49.242312Z",
     "shell.execute_reply": "2021-04-10T21:52:49.241790Z",
     "shell.execute_reply.started": "2021-04-10T21:52:48.777011Z"
    }
   },
   "outputs": [],
   "source": [
    "all_files_paths = [f for f in all_files_paths if os.path.isfile(f)]"
   ]
  },
  {
   "cell_type": "code",
   "execution_count": 4,
   "metadata": {
    "execution": {
     "iopub.execute_input": "2021-04-10T21:52:49.243076Z",
     "iopub.status.busy": "2021-04-10T21:52:49.242958Z",
     "iopub.status.idle": "2021-04-10T21:52:49.271360Z",
     "shell.execute_reply": "2021-04-10T21:52:49.270838Z",
     "shell.execute_reply.started": "2021-04-10T21:52:49.243061Z"
    }
   },
   "outputs": [],
   "source": [
    "all_files_names = [str(ntpath.basename(f)).replace(\".txt\", \"\") for f in all_files_paths]"
   ]
  },
  {
   "cell_type": "code",
   "execution_count": 5,
   "metadata": {
    "execution": {
     "iopub.execute_input": "2021-04-10T21:52:49.272219Z",
     "iopub.status.busy": "2021-04-10T21:52:49.272073Z",
     "iopub.status.idle": "2021-04-10T21:52:50.457646Z",
     "shell.execute_reply": "2021-04-10T21:52:50.457230Z",
     "shell.execute_reply.started": "2021-04-10T21:52:49.272202Z"
    }
   },
   "outputs": [
    {
     "name": "stderr",
     "output_type": "stream",
     "text": [
      "100%|██████████| 10944/10944 [00:42<00:00, 258.35it/s] \n"
     ]
    }
   ],
   "source": [
    "txt_content = {}\n",
    "errors = []\n",
    "for name, path in tqdm(list(zip(all_files_names, all_files_paths))):\n",
    "    with open(path, \"r\") as txt:\n",
    "        try:\n",
    "            txt_content[name] = txt.readline()\n",
    "        except Exception as ex:\n",
    "            errors.append((name, str(ex)))"
   ]
  },
  {
   "cell_type": "code",
   "execution_count": 6,
   "metadata": {
    "execution": {
     "iopub.execute_input": "2021-04-10T21:52:50.458377Z",
     "iopub.status.busy": "2021-04-10T21:52:50.458232Z",
     "iopub.status.idle": "2021-04-10T21:52:50.461172Z",
     "shell.execute_reply": "2021-04-10T21:52:50.460770Z",
     "shell.execute_reply.started": "2021-04-10T21:52:50.458359Z"
    },
    "scrolled": true
   },
   "outputs": [
    {
     "data": {
      "text/plain": [
       "[('13491591_4',\n",
       "  \"'charmap' codec can't decode byte 0x81 in position 23: character maps to <undefined>\"),\n",
       " ('13493456_1',\n",
       "  \"'charmap' codec can't decode byte 0x81 in position 169: character maps to <undefined>\"),\n",
       " ('13500400_1',\n",
       "  \"'charmap' codec can't decode byte 0x81 in position 67: character maps to <undefined>\"),\n",
       " ('13560796_1',\n",
       "  \"'charmap' codec can't decode byte 0x81 in position 5: character maps to <undefined>\"),\n",
       " ('13572081_1',\n",
       "  \"'charmap' codec can't decode byte 0x81 in position 3: character maps to <undefined>\"),\n",
       " ('13588794_3',\n",
       "  \"'charmap' codec can't decode byte 0x81 in position 54: character maps to <undefined>\"),\n",
       " ('13595072_1',\n",
       "  \"'charmap' codec can't decode byte 0x8d in position 75: character maps to <undefined>\"),\n",
       " ('13595072_5',\n",
       "  \"'charmap' codec can't decode byte 0x8d in position 78: character maps to <undefined>\"),\n",
       " ('14061724_1',\n",
       "  \"'charmap' codec can't decode byte 0x81 in position 181: character maps to <undefined>\"),\n",
       " ('14065492_1',\n",
       "  \"'charmap' codec can't decode byte 0x90 in position 203: character maps to <undefined>\"),\n",
       " ('30422455_1',\n",
       "  \"'charmap' codec can't decode byte 0x8d in position 94: character maps to <undefined>\"),\n",
       " ('30422455_2',\n",
       "  \"'charmap' codec can't decode byte 0x8d in position 65: character maps to <undefined>\"),\n",
       " ('30443860_2',\n",
       "  \"'charmap' codec can't decode byte 0x90 in position 20: character maps to <undefined>\"),\n",
       " ('30569404_3',\n",
       "  \"'charmap' codec can't decode byte 0x8d in position 55: character maps to <undefined>\"),\n",
       " ('30586603_2',\n",
       "  \"'charmap' codec can't decode byte 0x8d in position 235: character maps to <undefined>\"),\n",
       " ('30659540_3',\n",
       "  \"'charmap' codec can't decode byte 0x8f in position 68: character maps to <undefined>\"),\n",
       " ('33500574_1',\n",
       "  \"'charmap' codec can't decode byte 0x90 in position 1: character maps to <undefined>\"),\n",
       " ('33500574_2',\n",
       "  \"'charmap' codec can't decode byte 0x90 in position 1: character maps to <undefined>\")]"
      ]
     },
     "execution_count": 6,
     "metadata": {},
     "output_type": "execute_result"
    }
   ],
   "source": [
    "errors"
   ]
  },
  {
   "cell_type": "code",
   "execution_count": 7,
   "metadata": {
    "execution": {
     "iopub.execute_input": "2021-04-10T21:52:50.516491Z",
     "iopub.status.busy": "2021-04-10T21:52:50.516255Z",
     "iopub.status.idle": "2021-04-10T21:52:50.519356Z",
     "shell.execute_reply": "2021-04-10T21:52:50.518803Z",
     "shell.execute_reply.started": "2021-04-10T21:52:50.516443Z"
    }
   },
   "outputs": [],
   "source": [
    "errors_list = [err[0] for err in errors]"
   ]
  },
  {
   "cell_type": "code",
   "execution_count": 8,
   "metadata": {
    "execution": {
     "iopub.execute_input": "2021-04-10T21:52:50.580716Z",
     "iopub.status.busy": "2021-04-10T21:52:50.580451Z",
     "iopub.status.idle": "2021-04-10T21:52:50.591827Z",
     "shell.execute_reply": "2021-04-10T21:52:50.591191Z",
     "shell.execute_reply.started": "2021-04-10T21:52:50.580682Z"
    }
   },
   "outputs": [],
   "source": [
    "df = pd.DataFrame.from_dict(txt_content, orient='index').reset_index()\n",
    "df.columns = [\"file_id\", \"text\"]"
   ]
  },
  {
   "cell_type": "code",
   "execution_count": 9,
   "metadata": {
    "execution": {
     "iopub.execute_input": "2021-04-10T21:52:52.161954Z",
     "iopub.status.busy": "2021-04-10T21:52:52.161727Z",
     "iopub.status.idle": "2021-04-10T21:52:52.173424Z",
     "shell.execute_reply": "2021-04-10T21:52:52.172603Z",
     "shell.execute_reply.started": "2021-04-10T21:52:52.161930Z"
    }
   },
   "outputs": [
    {
     "data": {
      "text/html": [
       "<div>\n",
       "<style scoped>\n",
       "    .dataframe tbody tr th:only-of-type {\n",
       "        vertical-align: middle;\n",
       "    }\n",
       "\n",
       "    .dataframe tbody tr th {\n",
       "        vertical-align: top;\n",
       "    }\n",
       "\n",
       "    .dataframe thead th {\n",
       "        text-align: right;\n",
       "    }\n",
       "</style>\n",
       "<table border=\"1\" class=\"dataframe\">\n",
       "  <thead>\n",
       "    <tr style=\"text-align: right;\">\n",
       "      <th></th>\n",
       "      <th>file_id</th>\n",
       "      <th>text</th>\n",
       "    </tr>\n",
       "  </thead>\n",
       "  <tbody>\n",
       "    <tr>\n",
       "      <th>0</th>\n",
       "      <td>12834217_1</td>\n",
       "      <td>As of March 13th , 2014 , the booklet had been...</td>\n",
       "    </tr>\n",
       "    <tr>\n",
       "      <th>1</th>\n",
       "      <td>12834217_10</td>\n",
       "      <td>Thank you in advance. : ) Download the youtube...</td>\n",
       "    </tr>\n",
       "    <tr>\n",
       "      <th>2</th>\n",
       "      <td>12834217_2</td>\n",
       "      <td>In order to help increase the booklets downloa...</td>\n",
       "    </tr>\n",
       "    <tr>\n",
       "      <th>3</th>\n",
       "      <td>12834217_3</td>\n",
       "      <td>( Simply copy and paste the following text int...</td>\n",
       "    </tr>\n",
       "    <tr>\n",
       "      <th>4</th>\n",
       "      <td>12834217_4</td>\n",
       "      <td>Click below for a FREE download of a colorfull...</td>\n",
       "    </tr>\n",
       "  </tbody>\n",
       "</table>\n",
       "</div>"
      ],
      "text/plain": [
       "       file_id                                               text\n",
       "0   12834217_1  As of March 13th , 2014 , the booklet had been...\n",
       "1  12834217_10  Thank you in advance. : ) Download the youtube...\n",
       "2   12834217_2  In order to help increase the booklets downloa...\n",
       "3   12834217_3  ( Simply copy and paste the following text int...\n",
       "4   12834217_4  Click below for a FREE download of a colorfull..."
      ]
     },
     "execution_count": 9,
     "metadata": {},
     "output_type": "execute_result"
    }
   ],
   "source": [
    "df.head()"
   ]
  },
  {
   "cell_type": "code",
   "execution_count": 10,
   "metadata": {
    "execution": {
     "iopub.execute_input": "2021-04-10T21:52:53.527906Z",
     "iopub.status.busy": "2021-04-10T21:52:53.527191Z",
     "iopub.status.idle": "2021-04-10T21:52:53.559968Z",
     "shell.execute_reply": "2021-04-10T21:52:53.559105Z",
     "shell.execute_reply.started": "2021-04-10T21:52:53.527819Z"
    }
   },
   "outputs": [],
   "source": [
    "ann = pd.read_csv('C:/Users/marti/repos/textsent_project/hate-speech-dataset/annotations_metadata.csv')"
   ]
  },
  {
   "cell_type": "code",
   "execution_count": 11,
   "metadata": {
    "execution": {
     "iopub.execute_input": "2021-04-10T21:52:54.009346Z",
     "iopub.status.busy": "2021-04-10T21:52:54.009101Z",
     "iopub.status.idle": "2021-04-10T21:52:54.018221Z",
     "shell.execute_reply": "2021-04-10T21:52:54.017582Z",
     "shell.execute_reply.started": "2021-04-10T21:52:54.009318Z"
    }
   },
   "outputs": [
    {
     "data": {
      "text/html": [
       "<div>\n",
       "<style scoped>\n",
       "    .dataframe tbody tr th:only-of-type {\n",
       "        vertical-align: middle;\n",
       "    }\n",
       "\n",
       "    .dataframe tbody tr th {\n",
       "        vertical-align: top;\n",
       "    }\n",
       "\n",
       "    .dataframe thead th {\n",
       "        text-align: right;\n",
       "    }\n",
       "</style>\n",
       "<table border=\"1\" class=\"dataframe\">\n",
       "  <thead>\n",
       "    <tr style=\"text-align: right;\">\n",
       "      <th></th>\n",
       "      <th>file_id</th>\n",
       "      <th>user_id</th>\n",
       "      <th>subforum_id</th>\n",
       "      <th>num_contexts</th>\n",
       "      <th>label</th>\n",
       "    </tr>\n",
       "  </thead>\n",
       "  <tbody>\n",
       "    <tr>\n",
       "      <th>0</th>\n",
       "      <td>12834217_1</td>\n",
       "      <td>572066</td>\n",
       "      <td>1346</td>\n",
       "      <td>0</td>\n",
       "      <td>noHate</td>\n",
       "    </tr>\n",
       "    <tr>\n",
       "      <th>1</th>\n",
       "      <td>12834217_2</td>\n",
       "      <td>572066</td>\n",
       "      <td>1346</td>\n",
       "      <td>0</td>\n",
       "      <td>noHate</td>\n",
       "    </tr>\n",
       "    <tr>\n",
       "      <th>2</th>\n",
       "      <td>12834217_3</td>\n",
       "      <td>572066</td>\n",
       "      <td>1346</td>\n",
       "      <td>0</td>\n",
       "      <td>noHate</td>\n",
       "    </tr>\n",
       "    <tr>\n",
       "      <th>3</th>\n",
       "      <td>12834217_4</td>\n",
       "      <td>572066</td>\n",
       "      <td>1346</td>\n",
       "      <td>0</td>\n",
       "      <td>hate</td>\n",
       "    </tr>\n",
       "    <tr>\n",
       "      <th>4</th>\n",
       "      <td>12834217_5</td>\n",
       "      <td>572066</td>\n",
       "      <td>1346</td>\n",
       "      <td>0</td>\n",
       "      <td>noHate</td>\n",
       "    </tr>\n",
       "  </tbody>\n",
       "</table>\n",
       "</div>"
      ],
      "text/plain": [
       "      file_id  user_id  subforum_id  num_contexts   label\n",
       "0  12834217_1   572066         1346             0  noHate\n",
       "1  12834217_2   572066         1346             0  noHate\n",
       "2  12834217_3   572066         1346             0  noHate\n",
       "3  12834217_4   572066         1346             0    hate\n",
       "4  12834217_5   572066         1346             0  noHate"
      ]
     },
     "execution_count": 11,
     "metadata": {},
     "output_type": "execute_result"
    }
   ],
   "source": [
    "ann.head()"
   ]
  },
  {
   "cell_type": "code",
   "execution_count": 12,
   "metadata": {
    "execution": {
     "iopub.execute_input": "2021-04-10T21:52:56.063533Z",
     "iopub.status.busy": "2021-04-10T21:52:56.062810Z",
     "iopub.status.idle": "2021-04-10T21:52:56.085106Z",
     "shell.execute_reply": "2021-04-10T21:52:56.083731Z",
     "shell.execute_reply.started": "2021-04-10T21:52:56.063451Z"
    }
   },
   "outputs": [],
   "source": [
    "ann = ann[~ann['file_id'].isin(errors_list)]"
   ]
  },
  {
   "cell_type": "code",
   "execution_count": 13,
   "metadata": {
    "execution": {
     "iopub.execute_input": "2021-04-10T21:52:56.427589Z",
     "iopub.status.busy": "2021-04-10T21:52:56.426842Z",
     "iopub.status.idle": "2021-04-10T21:52:56.465196Z",
     "shell.execute_reply": "2021-04-10T21:52:56.464190Z",
     "shell.execute_reply.started": "2021-04-10T21:52:56.427484Z"
    }
   },
   "outputs": [
    {
     "data": {
      "text/html": [
       "<div>\n",
       "<style scoped>\n",
       "    .dataframe tbody tr th:only-of-type {\n",
       "        vertical-align: middle;\n",
       "    }\n",
       "\n",
       "    .dataframe tbody tr th {\n",
       "        vertical-align: top;\n",
       "    }\n",
       "\n",
       "    .dataframe thead th {\n",
       "        text-align: right;\n",
       "    }\n",
       "</style>\n",
       "<table border=\"1\" class=\"dataframe\">\n",
       "  <thead>\n",
       "    <tr style=\"text-align: right;\">\n",
       "      <th></th>\n",
       "      <th>file_id</th>\n",
       "      <th>user_id</th>\n",
       "      <th>subforum_id</th>\n",
       "      <th>num_contexts</th>\n",
       "      <th>label</th>\n",
       "      <th>text</th>\n",
       "    </tr>\n",
       "  </thead>\n",
       "  <tbody>\n",
       "    <tr>\n",
       "      <th>0</th>\n",
       "      <td>12834217_1</td>\n",
       "      <td>572066</td>\n",
       "      <td>1346</td>\n",
       "      <td>0</td>\n",
       "      <td>noHate</td>\n",
       "      <td>As of March 13th , 2014 , the booklet had been...</td>\n",
       "    </tr>\n",
       "    <tr>\n",
       "      <th>1</th>\n",
       "      <td>12834217_2</td>\n",
       "      <td>572066</td>\n",
       "      <td>1346</td>\n",
       "      <td>0</td>\n",
       "      <td>noHate</td>\n",
       "      <td>In order to help increase the booklets downloa...</td>\n",
       "    </tr>\n",
       "    <tr>\n",
       "      <th>2</th>\n",
       "      <td>12834217_3</td>\n",
       "      <td>572066</td>\n",
       "      <td>1346</td>\n",
       "      <td>0</td>\n",
       "      <td>noHate</td>\n",
       "      <td>( Simply copy and paste the following text int...</td>\n",
       "    </tr>\n",
       "    <tr>\n",
       "      <th>3</th>\n",
       "      <td>12834217_4</td>\n",
       "      <td>572066</td>\n",
       "      <td>1346</td>\n",
       "      <td>0</td>\n",
       "      <td>hate</td>\n",
       "      <td>Click below for a FREE download of a colorfull...</td>\n",
       "    </tr>\n",
       "    <tr>\n",
       "      <th>4</th>\n",
       "      <td>12834217_5</td>\n",
       "      <td>572066</td>\n",
       "      <td>1346</td>\n",
       "      <td>0</td>\n",
       "      <td>noHate</td>\n",
       "      <td>Click on the `` DOWNLOAD ( 7.42 MB ) '' green ...</td>\n",
       "    </tr>\n",
       "  </tbody>\n",
       "</table>\n",
       "</div>"
      ],
      "text/plain": [
       "      file_id  user_id  subforum_id  num_contexts   label  \\\n",
       "0  12834217_1   572066         1346             0  noHate   \n",
       "1  12834217_2   572066         1346             0  noHate   \n",
       "2  12834217_3   572066         1346             0  noHate   \n",
       "3  12834217_4   572066         1346             0    hate   \n",
       "4  12834217_5   572066         1346             0  noHate   \n",
       "\n",
       "                                                text  \n",
       "0  As of March 13th , 2014 , the booklet had been...  \n",
       "1  In order to help increase the booklets downloa...  \n",
       "2  ( Simply copy and paste the following text int...  \n",
       "3  Click below for a FREE download of a colorfull...  \n",
       "4  Click on the `` DOWNLOAD ( 7.42 MB ) '' green ...  "
      ]
     },
     "execution_count": 13,
     "metadata": {},
     "output_type": "execute_result"
    }
   ],
   "source": [
    "data = pd.merge(left=ann, right=df, left_on='file_id', right_on='file_id')\n",
    "data.shape\n",
    "data.head()"
   ]
  },
  {
   "cell_type": "code",
   "execution_count": 14,
   "metadata": {
    "execution": {
     "iopub.execute_input": "2021-04-10T21:52:59.327306Z",
     "iopub.status.busy": "2021-04-10T21:52:59.326499Z",
     "iopub.status.idle": "2021-04-10T21:52:59.435777Z",
     "shell.execute_reply": "2021-04-10T21:52:59.435152Z",
     "shell.execute_reply.started": "2021-04-10T21:52:59.327214Z"
    }
   },
   "outputs": [],
   "source": [
    "data['label'] = data.apply(lambda x: 0 if x['label'] == \"noHate\" else 1, axis=1)"
   ]
  },
  {
   "cell_type": "markdown",
   "metadata": {},
   "source": [
    "### 2. Cleaning and tokenization"
   ]
  },
  {
   "cell_type": "code",
   "execution_count": 15,
   "metadata": {
    "execution": {
     "iopub.execute_input": "2021-04-10T21:53:22.160636Z",
     "iopub.status.busy": "2021-04-10T21:53:22.160180Z",
     "iopub.status.idle": "2021-04-10T21:53:22.666978Z",
     "shell.execute_reply": "2021-04-10T21:53:22.666374Z",
     "shell.execute_reply.started": "2021-04-10T21:53:22.160587Z"
    }
   },
   "outputs": [
    {
     "name": "stderr",
     "output_type": "stream",
     "text": [
      "[nltk_data] Downloading package vader_lexicon to\n",
      "[nltk_data]     C:\\Users\\marti\\AppData\\Roaming\\nltk_data...\n",
      "[nltk_data]   Package vader_lexicon is already up-to-date!\n"
     ]
    },
    {
     "data": {
      "text/plain": [
       "True"
      ]
     },
     "execution_count": 15,
     "metadata": {},
     "output_type": "execute_result"
    }
   ],
   "source": [
    "import nltk\n",
    "from nltk.corpus import stopwords\n",
    "from nltk.tokenize import word_tokenize\n",
    "from nltk.tokenize import sent_tokenize\n",
    "from nltk.stem import WordNetLemmatizer\n",
    "from nltk.stem import PorterStemmer\n",
    "import string\n",
    "import nltk.sentiment.vader as vd\n",
    "from nltk import download\n",
    "download('vader_lexicon')"
   ]
  },
  {
   "cell_type": "markdown",
   "metadata": {},
   "source": [
    "#### 2.1 Removing links, tags, numbers and bias"
   ]
  },
  {
   "cell_type": "code",
   "execution_count": 16,
   "metadata": {
    "execution": {
     "iopub.execute_input": "2021-04-10T21:53:36.794871Z",
     "iopub.status.busy": "2021-04-10T21:53:36.794079Z",
     "iopub.status.idle": "2021-04-10T21:53:36.979757Z",
     "shell.execute_reply": "2021-04-10T21:53:36.979274Z",
     "shell.execute_reply.started": "2021-04-10T21:53:36.794791Z"
    }
   },
   "outputs": [],
   "source": [
    "additional  = ['rt','rts','retweet']\n",
    "swords = set().union(stopwords.words('english'), additional, string.punctuation)\n",
    "data['text_clean'] = data['text'].str.lower()\\\n",
    "    .str.replace('(@[a-z0-9]+)\\w+',' ')\\\n",
    "    .str.replace('(http\\S+)', ' ')\\\n",
    "    .str.replace('(www\\S+)',' ')\\\n",
    "    .str.replace(r'com$', ' ')\\\n",
    "    .str.replace('[0-9]+(?:st| st|nd| nd|rd| rd|th| th)', '')\\\n",
    "    .str.replace('([^a-z \\t])',' ')\\\n",
    "    .str.replace(' +',' ')\\\n",
    "    .apply(lambda x: \" \".join([i for i in x.split() if not i in swords]))\n",
    "#any alpha numeric after @ #http # any value except alpha numeric tab character ('\\u0009')"
   ]
  },
  {
   "cell_type": "code",
   "execution_count": 17,
   "metadata": {
    "execution": {
     "iopub.execute_input": "2021-04-10T21:53:51.554707Z",
     "iopub.status.busy": "2021-04-10T21:53:51.553997Z",
     "iopub.status.idle": "2021-04-10T21:53:53.702040Z",
     "shell.execute_reply": "2021-04-10T21:53:53.701429Z",
     "shell.execute_reply.started": "2021-04-10T21:53:51.554623Z"
    }
   },
   "outputs": [],
   "source": [
    "# Stemming\n",
    "ps = PorterStemmer()\n",
    "data['stemmed'] = data['text_clean'].apply(lambda x: \" \".join([ps.stem(i) for i in word_tokenize(x)]))"
   ]
  },
  {
   "cell_type": "code",
   "execution_count": 18,
   "metadata": {
    "execution": {
     "iopub.execute_input": "2021-04-10T21:53:53.731999Z",
     "iopub.status.busy": "2021-04-10T21:53:53.731780Z",
     "iopub.status.idle": "2021-04-10T21:53:56.069867Z",
     "shell.execute_reply": "2021-04-10T21:53:56.069336Z",
     "shell.execute_reply.started": "2021-04-10T21:53:53.731970Z"
    }
   },
   "outputs": [],
   "source": [
    "# Lemmatizer\n",
    "lm = nltk.WordNetLemmatizer()\n",
    "data['lemmatized'] = data['text_clean'].apply(lambda x: \" \".join([lm.lemmatize(i) for i in word_tokenize(x)]))"
   ]
  },
  {
   "cell_type": "code",
   "execution_count": null,
   "metadata": {
    "execution": {
     "iopub.execute_input": "2021-04-10T21:53:56.099543Z",
     "iopub.status.busy": "2021-04-10T21:53:56.099384Z",
     "iopub.status.idle": "2021-04-10T21:53:56.108841Z",
     "shell.execute_reply": "2021-04-10T21:53:56.108340Z",
     "shell.execute_reply.started": "2021-04-10T21:53:56.099524Z"
    }
   },
   "outputs": [],
   "source": [
    "data.head()"
   ]
  },
  {
   "cell_type": "markdown",
   "metadata": {
    "collapsed": "true"
   },
   "source": [
    "#### 2.3 Bow and Tfidf"
   ]
  },
  {
   "cell_type": "code",
   "execution_count": 19,
   "metadata": {},
   "outputs": [],
   "source": [
    "# Bow vectorizer\n",
    "bow_vectorizer = CountVectorizer()\n",
    "X_bow = bow_vectorizer.fit_transform(data['lemmatized'])"
   ]
  },
  {
   "cell_type": "code",
   "execution_count": null,
   "metadata": {
    "scrolled": true
   },
   "outputs": [],
   "source": [
    "print(bow_vectorizer.get_feature_names())"
   ]
  },
  {
   "cell_type": "code",
   "execution_count": 20,
   "metadata": {},
   "outputs": [
    {
     "name": "stdout",
     "output_type": "stream",
     "text": [
      "['ago', 'also', 'always', 'anyone', 'anything', 'area', 'around', 'back', 'black', 'child', 'come', 'could', 'country', 'day', 'dont', 'even', 'ever', 'every', 'eye', 'find', 'first', 'friend', 'get', 'girl', 'go', 'god', 'going', 'good', 'got', 'great', 'group', 'guy', 'home', 'hope', 'im', 'ireland', 'jew', 'kid', 'know', 'last', 'let', 'like', 'little', 'live', 'long', 'look', 'looking', 'lot', 'make', 'man', 'many', 'maybe', 'much', 'nationalist', 'need', 'negro', 'never', 'new', 'news', 'non', 'nothing', 'old', 'one', 'people', 'place', 'post', 'put', 'race', 'read', 'really', 'right', 'said', 'saw', 'say', 'school', 'see', 'show', 'someone', 'something', 'start', 'take', 'talk', 'thing', 'think', 'thread', 'time', 'two', 'video', 'want', 'watch', 'way', 'week', 'well', 'white', 'woman', 'work', 'world', 'would', 'year', 'youtube']\n"
     ]
    }
   ],
   "source": [
    "# Tfidf vectorizer\n",
    "tfidf_vectorizer = TfidfVectorizer(max_features=100)\n",
    "X_tfidf = tfidf_vectorizer.fit_transform(data['lemmatized'])\n",
    "print(tfidf_vectorizer.get_feature_names())"
   ]
  },
  {
   "cell_type": "code",
   "execution_count": null,
   "metadata": {},
   "outputs": [],
   "source": [
    "pd.DataFrame(X_tfidf[1:11,7:23].toarray(), columns=list(tfidf_vectorizer.vocabulary_.keys())[7:23])"
   ]
  },
  {
   "cell_type": "markdown",
   "metadata": {
    "execution": {
     "iopub.execute_input": "2021-04-10T21:54:53.405206Z",
     "iopub.status.busy": "2021-04-10T21:54:53.404483Z",
     "iopub.status.idle": "2021-04-10T21:54:53.413166Z",
     "shell.execute_reply": "2021-04-10T21:54:53.410680Z",
     "shell.execute_reply.started": "2021-04-10T21:54:53.405126Z"
    }
   },
   "source": [
    "#### 2.4 Top words"
   ]
  },
  {
   "cell_type": "code",
   "execution_count": 21,
   "metadata": {
    "execution": {
     "iopub.execute_input": "2021-04-10T21:56:00.409725Z",
     "iopub.status.busy": "2021-04-10T21:56:00.409221Z",
     "iopub.status.idle": "2021-04-10T21:56:00.417733Z",
     "shell.execute_reply": "2021-04-10T21:56:00.416561Z",
     "shell.execute_reply.started": "2021-04-10T21:56:00.409668Z"
    }
   },
   "outputs": [],
   "source": [
    "# https://medium.com/@cristhianboujon/how-to-list-the-most-common-words-from-text-corpus-using-scikit-learn-dad4d0cab41d\n",
    "def get_top_n_words(corpus, n=None):\n",
    "    vec = CountVectorizer().fit(corpus)\n",
    "    bag_of_words = vec.transform(corpus)\n",
    "    sum_words = bag_of_words.sum(axis=0) \n",
    "    words_freq = [(word, sum_words[0, idx]) for word, idx in vec.vocabulary_.items()]\n",
    "    words_freq = sorted(words_freq, key = lambda x: x[1], reverse=True)\n",
    "    return words_freq[:n]"
   ]
  },
  {
   "cell_type": "code",
   "execution_count": 22,
   "metadata": {
    "execution": {
     "iopub.execute_input": "2021-04-10T21:57:00.593291Z",
     "iopub.status.busy": "2021-04-10T21:57:00.592819Z",
     "iopub.status.idle": "2021-04-10T21:57:00.811989Z",
     "shell.execute_reply": "2021-04-10T21:57:00.811450Z",
     "shell.execute_reply.started": "2021-04-10T21:57:00.593237Z"
    }
   },
   "outputs": [],
   "source": [
    "common_words = get_top_n_words(data['lemmatized'], 50)\n",
    "cmw = {word: freq for word, freq in common_words}"
   ]
  },
  {
   "cell_type": "code",
   "execution_count": 23,
   "metadata": {
    "execution": {
     "iopub.execute_input": "2021-04-10T21:57:03.051749Z",
     "iopub.status.busy": "2021-04-10T21:57:03.051058Z",
     "iopub.status.idle": "2021-04-10T21:57:03.066212Z",
     "shell.execute_reply": "2021-04-10T21:57:03.063215Z",
     "shell.execute_reply.started": "2021-04-10T21:57:03.051669Z"
    }
   },
   "outputs": [],
   "source": [
    "mcw = pd.DataFrame.from_dict(cmw, orient='index').reset_index()\n",
    "mcw.columns = [\"words\", \"freq\"]"
   ]
  },
  {
   "cell_type": "code",
   "execution_count": 24,
   "metadata": {
    "execution": {
     "iopub.execute_input": "2021-04-10T21:57:03.440736Z",
     "iopub.status.busy": "2021-04-10T21:57:03.440489Z",
     "iopub.status.idle": "2021-04-10T21:57:03.451106Z",
     "shell.execute_reply": "2021-04-10T21:57:03.450411Z",
     "shell.execute_reply.started": "2021-04-10T21:57:03.440709Z"
    },
    "scrolled": true
   },
   "outputs": [
    {
     "data": {
      "text/html": [
       "<div>\n",
       "<style scoped>\n",
       "    .dataframe tbody tr th:only-of-type {\n",
       "        vertical-align: middle;\n",
       "    }\n",
       "\n",
       "    .dataframe tbody tr th {\n",
       "        vertical-align: top;\n",
       "    }\n",
       "\n",
       "    .dataframe thead th {\n",
       "        text-align: right;\n",
       "    }\n",
       "</style>\n",
       "<table border=\"1\" class=\"dataframe\">\n",
       "  <thead>\n",
       "    <tr style=\"text-align: right;\">\n",
       "      <th></th>\n",
       "      <th>words</th>\n",
       "      <th>freq</th>\n",
       "    </tr>\n",
       "  </thead>\n",
       "  <tbody>\n",
       "    <tr>\n",
       "      <th>0</th>\n",
       "      <td>white</td>\n",
       "      <td>1596</td>\n",
       "    </tr>\n",
       "    <tr>\n",
       "      <th>1</th>\n",
       "      <td>like</td>\n",
       "      <td>803</td>\n",
       "    </tr>\n",
       "    <tr>\n",
       "      <th>2</th>\n",
       "      <td>people</td>\n",
       "      <td>630</td>\n",
       "    </tr>\n",
       "    <tr>\n",
       "      <th>3</th>\n",
       "      <td>black</td>\n",
       "      <td>619</td>\n",
       "    </tr>\n",
       "    <tr>\n",
       "      <th>4</th>\n",
       "      <td>one</td>\n",
       "      <td>569</td>\n",
       "    </tr>\n",
       "    <tr>\n",
       "      <th>5</th>\n",
       "      <td>get</td>\n",
       "      <td>523</td>\n",
       "    </tr>\n",
       "    <tr>\n",
       "      <th>6</th>\n",
       "      <td>would</td>\n",
       "      <td>515</td>\n",
       "    </tr>\n",
       "    <tr>\n",
       "      <th>7</th>\n",
       "      <td>youtube</td>\n",
       "      <td>470</td>\n",
       "    </tr>\n",
       "    <tr>\n",
       "      <th>8</th>\n",
       "      <td>year</td>\n",
       "      <td>420</td>\n",
       "    </tr>\n",
       "    <tr>\n",
       "      <th>9</th>\n",
       "      <td>time</td>\n",
       "      <td>396</td>\n",
       "    </tr>\n",
       "    <tr>\n",
       "      <th>10</th>\n",
       "      <td>see</td>\n",
       "      <td>377</td>\n",
       "    </tr>\n",
       "    <tr>\n",
       "      <th>11</th>\n",
       "      <td>good</td>\n",
       "      <td>374</td>\n",
       "    </tr>\n",
       "    <tr>\n",
       "      <th>12</th>\n",
       "      <td>school</td>\n",
       "      <td>359</td>\n",
       "    </tr>\n",
       "    <tr>\n",
       "      <th>13</th>\n",
       "      <td>go</td>\n",
       "      <td>355</td>\n",
       "    </tr>\n",
       "    <tr>\n",
       "      <th>14</th>\n",
       "      <td>know</td>\n",
       "      <td>350</td>\n",
       "    </tr>\n",
       "    <tr>\n",
       "      <th>15</th>\n",
       "      <td>say</td>\n",
       "      <td>311</td>\n",
       "    </tr>\n",
       "    <tr>\n",
       "      <th>16</th>\n",
       "      <td>day</td>\n",
       "      <td>301</td>\n",
       "    </tr>\n",
       "    <tr>\n",
       "      <th>17</th>\n",
       "      <td>think</td>\n",
       "      <td>299</td>\n",
       "    </tr>\n",
       "    <tr>\n",
       "      <th>18</th>\n",
       "      <td>want</td>\n",
       "      <td>292</td>\n",
       "    </tr>\n",
       "    <tr>\n",
       "      <th>19</th>\n",
       "      <td>kid</td>\n",
       "      <td>272</td>\n",
       "    </tr>\n",
       "    <tr>\n",
       "      <th>20</th>\n",
       "      <td>new</td>\n",
       "      <td>272</td>\n",
       "    </tr>\n",
       "    <tr>\n",
       "      <th>21</th>\n",
       "      <td>race</td>\n",
       "      <td>270</td>\n",
       "    </tr>\n",
       "    <tr>\n",
       "      <th>22</th>\n",
       "      <td>back</td>\n",
       "      <td>265</td>\n",
       "    </tr>\n",
       "    <tr>\n",
       "      <th>23</th>\n",
       "      <td>look</td>\n",
       "      <td>260</td>\n",
       "    </tr>\n",
       "    <tr>\n",
       "      <th>24</th>\n",
       "      <td>well</td>\n",
       "      <td>244</td>\n",
       "    </tr>\n",
       "    <tr>\n",
       "      <th>25</th>\n",
       "      <td>make</td>\n",
       "      <td>239</td>\n",
       "    </tr>\n",
       "    <tr>\n",
       "      <th>26</th>\n",
       "      <td>way</td>\n",
       "      <td>231</td>\n",
       "    </tr>\n",
       "    <tr>\n",
       "      <th>27</th>\n",
       "      <td>video</td>\n",
       "      <td>230</td>\n",
       "    </tr>\n",
       "    <tr>\n",
       "      <th>28</th>\n",
       "      <td>jew</td>\n",
       "      <td>228</td>\n",
       "    </tr>\n",
       "    <tr>\n",
       "      <th>29</th>\n",
       "      <td>many</td>\n",
       "      <td>226</td>\n",
       "    </tr>\n",
       "    <tr>\n",
       "      <th>30</th>\n",
       "      <td>thing</td>\n",
       "      <td>224</td>\n",
       "    </tr>\n",
       "    <tr>\n",
       "      <th>31</th>\n",
       "      <td>old</td>\n",
       "      <td>224</td>\n",
       "    </tr>\n",
       "    <tr>\n",
       "      <th>32</th>\n",
       "      <td>country</td>\n",
       "      <td>223</td>\n",
       "    </tr>\n",
       "    <tr>\n",
       "      <th>33</th>\n",
       "      <td>got</td>\n",
       "      <td>212</td>\n",
       "    </tr>\n",
       "    <tr>\n",
       "      <th>34</th>\n",
       "      <td>need</td>\n",
       "      <td>211</td>\n",
       "    </tr>\n",
       "    <tr>\n",
       "      <th>35</th>\n",
       "      <td>around</td>\n",
       "      <td>208</td>\n",
       "    </tr>\n",
       "    <tr>\n",
       "      <th>36</th>\n",
       "      <td>even</td>\n",
       "      <td>205</td>\n",
       "    </tr>\n",
       "    <tr>\n",
       "      <th>37</th>\n",
       "      <td>never</td>\n",
       "      <td>203</td>\n",
       "    </tr>\n",
       "    <tr>\n",
       "      <th>38</th>\n",
       "      <td>child</td>\n",
       "      <td>193</td>\n",
       "    </tr>\n",
       "    <tr>\n",
       "      <th>39</th>\n",
       "      <td>could</td>\n",
       "      <td>191</td>\n",
       "    </tr>\n",
       "    <tr>\n",
       "      <th>40</th>\n",
       "      <td>every</td>\n",
       "      <td>191</td>\n",
       "    </tr>\n",
       "    <tr>\n",
       "      <th>41</th>\n",
       "      <td>going</td>\n",
       "      <td>188</td>\n",
       "    </tr>\n",
       "    <tr>\n",
       "      <th>42</th>\n",
       "      <td>great</td>\n",
       "      <td>183</td>\n",
       "    </tr>\n",
       "    <tr>\n",
       "      <th>43</th>\n",
       "      <td>find</td>\n",
       "      <td>182</td>\n",
       "    </tr>\n",
       "    <tr>\n",
       "      <th>44</th>\n",
       "      <td>post</td>\n",
       "      <td>180</td>\n",
       "    </tr>\n",
       "    <tr>\n",
       "      <th>45</th>\n",
       "      <td>also</td>\n",
       "      <td>178</td>\n",
       "    </tr>\n",
       "    <tr>\n",
       "      <th>46</th>\n",
       "      <td>come</td>\n",
       "      <td>177</td>\n",
       "    </tr>\n",
       "    <tr>\n",
       "      <th>47</th>\n",
       "      <td>let</td>\n",
       "      <td>176</td>\n",
       "    </tr>\n",
       "    <tr>\n",
       "      <th>48</th>\n",
       "      <td>woman</td>\n",
       "      <td>175</td>\n",
       "    </tr>\n",
       "    <tr>\n",
       "      <th>49</th>\n",
       "      <td>show</td>\n",
       "      <td>174</td>\n",
       "    </tr>\n",
       "  </tbody>\n",
       "</table>\n",
       "</div>"
      ],
      "text/plain": [
       "      words  freq\n",
       "0     white  1596\n",
       "1      like   803\n",
       "2    people   630\n",
       "3     black   619\n",
       "4       one   569\n",
       "5       get   523\n",
       "6     would   515\n",
       "7   youtube   470\n",
       "8      year   420\n",
       "9      time   396\n",
       "10      see   377\n",
       "11     good   374\n",
       "12   school   359\n",
       "13       go   355\n",
       "14     know   350\n",
       "15      say   311\n",
       "16      day   301\n",
       "17    think   299\n",
       "18     want   292\n",
       "19      kid   272\n",
       "20      new   272\n",
       "21     race   270\n",
       "22     back   265\n",
       "23     look   260\n",
       "24     well   244\n",
       "25     make   239\n",
       "26      way   231\n",
       "27    video   230\n",
       "28      jew   228\n",
       "29     many   226\n",
       "30    thing   224\n",
       "31      old   224\n",
       "32  country   223\n",
       "33      got   212\n",
       "34     need   211\n",
       "35   around   208\n",
       "36     even   205\n",
       "37    never   203\n",
       "38    child   193\n",
       "39    could   191\n",
       "40    every   191\n",
       "41    going   188\n",
       "42    great   183\n",
       "43     find   182\n",
       "44     post   180\n",
       "45     also   178\n",
       "46     come   177\n",
       "47      let   176\n",
       "48    woman   175\n",
       "49     show   174"
      ]
     },
     "execution_count": 24,
     "metadata": {},
     "output_type": "execute_result"
    }
   ],
   "source": [
    "mcw # Most common words between lemmatized words and frequencies"
   ]
  },
  {
   "cell_type": "code",
   "execution_count": 25,
   "metadata": {
    "execution": {
     "iopub.execute_input": "2021-04-10T21:58:01.171280Z",
     "iopub.status.busy": "2021-04-10T21:58:01.170927Z",
     "iopub.status.idle": "2021-04-10T21:58:01.562588Z",
     "shell.execute_reply": "2021-04-10T21:58:01.562024Z",
     "shell.execute_reply.started": "2021-04-10T21:58:01.171240Z"
    }
   },
   "outputs": [
    {
     "data": {
      "image/png": "[encoded data removed]",
      "text/plain": [
       "<Figure size 720x360 with 1 Axes>"
      ]
     },
     "metadata": {
      "needs_background": "light"
     },
     "output_type": "display_data"
    }
   ],
   "source": [
    "mcw.plot(x=\"words\", y=\"freq\", kind=\"bar\", figsize=(10,5))\n",
    "plt.show()"
   ]
  },
  {
   "cell_type": "code",
   "execution_count": 26,
   "metadata": {
    "execution": {
     "iopub.execute_input": "2021-04-10T21:58:10.393921Z",
     "iopub.status.busy": "2021-04-10T21:58:10.393227Z",
     "iopub.status.idle": "2021-04-10T21:58:11.234606Z",
     "shell.execute_reply": "2021-04-10T21:58:11.234231Z",
     "shell.execute_reply.started": "2021-04-10T21:58:10.393840Z"
    }
   },
   "outputs": [],
   "source": [
    "data['tokens'] = data['text_clean'].apply(word_tokenize)"
   ]
  },
  {
   "cell_type": "code",
   "execution_count": null,
   "metadata": {
    "execution": {
     "iopub.execute_input": "2021-04-10T21:58:14.686393Z",
     "iopub.status.busy": "2021-04-10T21:58:14.685894Z",
     "iopub.status.idle": "2021-04-10T21:58:14.705058Z",
     "shell.execute_reply": "2021-04-10T21:58:14.704219Z",
     "shell.execute_reply.started": "2021-04-10T21:58:14.686340Z"
    }
   },
   "outputs": [],
   "source": [
    "data.head()"
   ]
  },
  {
   "cell_type": "markdown",
   "metadata": {},
   "source": [
    "#### 2.5 Part of speech (POS)"
   ]
  },
  {
   "cell_type": "code",
   "execution_count": 27,
   "metadata": {},
   "outputs": [],
   "source": [
    "# POS\n",
    "from textblob import TextBlob\n",
    "def pos_tag(text):\n",
    "    try:\n",
    "        return TextBlob(text).tags\n",
    "    except:\n",
    "        return None"
   ]
  },
  {
   "cell_type": "code",
   "execution_count": 28,
   "metadata": {},
   "outputs": [
    {
     "data": {
      "text/plain": [
       "[('click', 'NN'),\n",
       " ('download', 'NN'),\n",
       " ('mb', 'NN'),\n",
       " ('green', 'JJ'),\n",
       " ('banner', 'NN'),\n",
       " ('link', 'NN')]"
      ]
     },
     "execution_count": 28,
     "metadata": {},
     "output_type": "execute_result"
    }
   ],
   "source": [
    "from textblob import TextBlob\n",
    "TextBlob(data.iloc[4][\"text_clean\"]).tags"
   ]
  },
  {
   "cell_type": "code",
   "execution_count": 29,
   "metadata": {},
   "outputs": [
    {
     "data": {
      "text/plain": [
       "[('click', 'NN'),\n",
       " ('download', 'NN'),\n",
       " ('mb', 'NN'),\n",
       " ('green', 'JJ'),\n",
       " ('banner', 'NN'),\n",
       " ('link', 'NN')]"
      ]
     },
     "execution_count": 29,
     "metadata": {},
     "output_type": "execute_result"
    }
   ],
   "source": [
    "TextBlob(data.iloc[4][\"stemmed\"]).tags"
   ]
  },
  {
   "cell_type": "code",
   "execution_count": 30,
   "metadata": {
    "execution": {
     "iopub.execute_input": "2021-04-10T21:58:56.571565Z",
     "iopub.status.busy": "2021-04-10T21:58:56.570861Z",
     "iopub.status.idle": "2021-04-10T21:58:57.367871Z",
     "shell.execute_reply": "2021-04-10T21:58:57.367331Z",
     "shell.execute_reply.started": "2021-04-10T21:58:56.571483Z"
    }
   },
   "outputs": [],
   "source": [
    "import spacy\n",
    "nlp = spacy.load(\"en_core_web_sm\")"
   ]
  },
  {
   "cell_type": "code",
   "execution_count": 31,
   "metadata": {
    "execution": {
     "iopub.execute_input": "2021-04-10T21:59:09.749774Z",
     "iopub.status.busy": "2021-04-10T21:59:09.749299Z",
     "iopub.status.idle": "2021-04-10T22:00:16.912259Z",
     "shell.execute_reply": "2021-04-10T22:00:16.911799Z",
     "shell.execute_reply.started": "2021-04-10T21:59:09.749722Z"
    }
   },
   "outputs": [
    {
     "name": "stderr",
     "output_type": "stream",
     "text": [
      "100%|██████████| 10926/10926 [02:23<00:00, 76.13it/s]\n"
     ]
    }
   ],
   "source": [
    "data['POS_spacy'] = data['lemmatized'].progress_apply(lambda x: [(token.text, token.pos_) for token in nlp(x)])"
   ]
  },
  {
   "cell_type": "code",
   "execution_count": 32,
   "metadata": {
    "execution": {
     "iopub.execute_input": "2021-04-10T22:00:26.925327Z",
     "iopub.status.busy": "2021-04-10T22:00:26.925044Z",
     "iopub.status.idle": "2021-04-10T22:00:26.953761Z",
     "shell.execute_reply": "2021-04-10T22:00:26.953223Z",
     "shell.execute_reply.started": "2021-04-10T22:00:26.925294Z"
    }
   },
   "outputs": [
    {
     "data": {
      "text/html": [
       "<div>\n",
       "<style scoped>\n",
       "    .dataframe tbody tr th:only-of-type {\n",
       "        vertical-align: middle;\n",
       "    }\n",
       "\n",
       "    .dataframe tbody tr th {\n",
       "        vertical-align: top;\n",
       "    }\n",
       "\n",
       "    .dataframe thead th {\n",
       "        text-align: right;\n",
       "    }\n",
       "</style>\n",
       "<table border=\"1\" class=\"dataframe\">\n",
       "  <thead>\n",
       "    <tr style=\"text-align: right;\">\n",
       "      <th></th>\n",
       "      <th>file_id</th>\n",
       "      <th>user_id</th>\n",
       "      <th>subforum_id</th>\n",
       "      <th>num_contexts</th>\n",
       "      <th>label</th>\n",
       "      <th>text</th>\n",
       "      <th>text_clean</th>\n",
       "      <th>stemmed</th>\n",
       "      <th>lemmatized</th>\n",
       "      <th>tokens</th>\n",
       "      <th>POS_spacy</th>\n",
       "    </tr>\n",
       "  </thead>\n",
       "  <tbody>\n",
       "    <tr>\n",
       "      <th>0</th>\n",
       "      <td>12834217_1</td>\n",
       "      <td>572066</td>\n",
       "      <td>1346</td>\n",
       "      <td>0</td>\n",
       "      <td>0</td>\n",
       "      <td>As of March 13th , 2014 , the booklet had been...</td>\n",
       "      <td>march booklet downloaded times counting</td>\n",
       "      <td>march booklet download time count</td>\n",
       "      <td>march booklet downloaded time counting</td>\n",
       "      <td>[march, booklet, downloaded, times, counting]</td>\n",
       "      <td>[(march, PROPN), (booklet, PROPN), (downloaded...</td>\n",
       "    </tr>\n",
       "    <tr>\n",
       "      <th>1</th>\n",
       "      <td>12834217_2</td>\n",
       "      <td>572066</td>\n",
       "      <td>1346</td>\n",
       "      <td>0</td>\n",
       "      <td>0</td>\n",
       "      <td>In order to help increase the booklets downloa...</td>\n",
       "      <td>order help increase booklets downloads would g...</td>\n",
       "      <td>order help increas booklet download would grea...</td>\n",
       "      <td>order help increase booklet downloads would gr...</td>\n",
       "      <td>[order, help, increase, booklets, downloads, w...</td>\n",
       "      <td>[(order, NOUN), (help, VERB), (increase, VERB)...</td>\n",
       "    </tr>\n",
       "    <tr>\n",
       "      <th>2</th>\n",
       "      <td>12834217_3</td>\n",
       "      <td>572066</td>\n",
       "      <td>1346</td>\n",
       "      <td>0</td>\n",
       "      <td>0</td>\n",
       "      <td>( Simply copy and paste the following text int...</td>\n",
       "      <td>simply copy paste following text youtube video...</td>\n",
       "      <td>simpli copi past follow text youtub video desc...</td>\n",
       "      <td>simply copy paste following text youtube video...</td>\n",
       "      <td>[simply, copy, paste, following, text, youtube...</td>\n",
       "      <td>[(simply, ADV), (copy, VERB), (paste, NOUN), (...</td>\n",
       "    </tr>\n",
       "    <tr>\n",
       "      <th>3</th>\n",
       "      <td>12834217_4</td>\n",
       "      <td>572066</td>\n",
       "      <td>1346</td>\n",
       "      <td>0</td>\n",
       "      <td>1</td>\n",
       "      <td>Click below for a FREE download of a colorfull...</td>\n",
       "      <td>click free download colorfully illustrated pag...</td>\n",
       "      <td>click free download color illustr page e book ...</td>\n",
       "      <td>click free download colorfully illustrated pag...</td>\n",
       "      <td>[click, free, download, colorfully, illustrate...</td>\n",
       "      <td>[(click, VERB), (free, ADJ), (download, NOUN),...</td>\n",
       "    </tr>\n",
       "    <tr>\n",
       "      <th>4</th>\n",
       "      <td>12834217_5</td>\n",
       "      <td>572066</td>\n",
       "      <td>1346</td>\n",
       "      <td>0</td>\n",
       "      <td>0</td>\n",
       "      <td>Click on the `` DOWNLOAD ( 7.42 MB ) '' green ...</td>\n",
       "      <td>click download mb green banner link</td>\n",
       "      <td>click download mb green banner link</td>\n",
       "      <td>click download mb green banner link</td>\n",
       "      <td>[click, download, mb, green, banner, link]</td>\n",
       "      <td>[(click, VERB), (download, PROPN), (mb, PROPN)...</td>\n",
       "    </tr>\n",
       "  </tbody>\n",
       "</table>\n",
       "</div>"
      ],
      "text/plain": [
       "      file_id  user_id  subforum_id  num_contexts  label  \\\n",
       "0  12834217_1   572066         1346             0      0   \n",
       "1  12834217_2   572066         1346             0      0   \n",
       "2  12834217_3   572066         1346             0      0   \n",
       "3  12834217_4   572066         1346             0      1   \n",
       "4  12834217_5   572066         1346             0      0   \n",
       "\n",
       "                                                text  \\\n",
       "0  As of March 13th , 2014 , the booklet had been...   \n",
       "1  In order to help increase the booklets downloa...   \n",
       "2  ( Simply copy and paste the following text int...   \n",
       "3  Click below for a FREE download of a colorfull...   \n",
       "4  Click on the `` DOWNLOAD ( 7.42 MB ) '' green ...   \n",
       "\n",
       "                                          text_clean  \\\n",
       "0            march booklet downloaded times counting   \n",
       "1  order help increase booklets downloads would g...   \n",
       "2  simply copy paste following text youtube video...   \n",
       "3  click free download colorfully illustrated pag...   \n",
       "4                click download mb green banner link   \n",
       "\n",
       "                                             stemmed  \\\n",
       "0                  march booklet download time count   \n",
       "1  order help increas booklet download would grea...   \n",
       "2  simpli copi past follow text youtub video desc...   \n",
       "3  click free download color illustr page e book ...   \n",
       "4                click download mb green banner link   \n",
       "\n",
       "                                          lemmatized  \\\n",
       "0             march booklet downloaded time counting   \n",
       "1  order help increase booklet downloads would gr...   \n",
       "2  simply copy paste following text youtube video...   \n",
       "3  click free download colorfully illustrated pag...   \n",
       "4                click download mb green banner link   \n",
       "\n",
       "                                              tokens  \\\n",
       "0      [march, booklet, downloaded, times, counting]   \n",
       "1  [order, help, increase, booklets, downloads, w...   \n",
       "2  [simply, copy, paste, following, text, youtube...   \n",
       "3  [click, free, download, colorfully, illustrate...   \n",
       "4         [click, download, mb, green, banner, link]   \n",
       "\n",
       "                                           POS_spacy  \n",
       "0  [(march, PROPN), (booklet, PROPN), (downloaded...  \n",
       "1  [(order, NOUN), (help, VERB), (increase, VERB)...  \n",
       "2  [(simply, ADV), (copy, VERB), (paste, NOUN), (...  \n",
       "3  [(click, VERB), (free, ADJ), (download, NOUN),...  \n",
       "4  [(click, VERB), (download, PROPN), (mb, PROPN)...  "
      ]
     },
     "execution_count": 32,
     "metadata": {},
     "output_type": "execute_result"
    }
   ],
   "source": [
    "data.head()"
   ]
  },
  {
   "cell_type": "code",
   "execution_count": 33,
   "metadata": {
    "execution": {
     "iopub.execute_input": "2021-04-10T22:00:38.337957Z",
     "iopub.status.busy": "2021-04-10T22:00:38.337053Z",
     "iopub.status.idle": "2021-04-10T22:00:41.884297Z",
     "shell.execute_reply": "2021-04-10T22:00:41.883377Z",
     "shell.execute_reply.started": "2021-04-10T22:00:38.337872Z"
    }
   },
   "outputs": [],
   "source": [
    "all_pos = data['POS_spacy'].sum()"
   ]
  },
  {
   "cell_type": "code",
   "execution_count": 34,
   "metadata": {
    "execution": {
     "iopub.execute_input": "2021-04-10T22:00:42.011320Z",
     "iopub.status.busy": "2021-04-10T22:00:42.011172Z",
     "iopub.status.idle": "2021-04-10T22:00:42.019764Z",
     "shell.execute_reply": "2021-04-10T22:00:42.019194Z",
     "shell.execute_reply.started": "2021-04-10T22:00:42.011294Z"
    }
   },
   "outputs": [],
   "source": [
    "all_adjs = [x[0] for x in all_pos if x[1] == \"ADJ\"]\n",
    "all_nouns = [x[0] for x in all_pos if x[1] == \"NOUN\"]"
   ]
  },
  {
   "cell_type": "code",
   "execution_count": 35,
   "metadata": {},
   "outputs": [],
   "source": [
    "hate = data.loc[data[\"label\"] == 1]"
   ]
  },
  {
   "cell_type": "code",
   "execution_count": 36,
   "metadata": {},
   "outputs": [
    {
     "data": {
      "text/plain": [
       "(1428, 10926)"
      ]
     },
     "execution_count": 36,
     "metadata": {},
     "output_type": "execute_result"
    }
   ],
   "source": [
    "hate.shape[0], data.shape[0] # 1428 over 10926 rows"
   ]
  },
  {
   "cell_type": "code",
   "execution_count": 37,
   "metadata": {},
   "outputs": [
    {
     "data": {
      "text/plain": [
       "0    9498\n",
       "1    1428\n",
       "Name: label, dtype: int64"
      ]
     },
     "execution_count": 37,
     "metadata": {},
     "output_type": "execute_result"
    }
   ],
   "source": [
    "data.label.value_counts()"
   ]
  },
  {
   "cell_type": "code",
   "execution_count": 38,
   "metadata": {
    "execution": {
     "iopub.execute_input": "2021-04-10T22:08:23.002900Z",
     "iopub.status.busy": "2021-04-10T22:08:23.002040Z",
     "iopub.status.idle": "2021-04-10T22:08:23.085610Z",
     "shell.execute_reply": "2021-04-10T22:08:23.084961Z",
     "shell.execute_reply.started": "2021-04-10T22:08:23.002815Z"
    }
   },
   "outputs": [],
   "source": [
    "all_pos_hate = hate['POS_spacy'].sum()"
   ]
  },
  {
   "cell_type": "code",
   "execution_count": 39,
   "metadata": {
    "execution": {
     "iopub.execute_input": "2021-04-10T22:08:23.464642Z",
     "iopub.status.busy": "2021-04-10T22:08:23.464359Z",
     "iopub.status.idle": "2021-04-10T22:08:23.472130Z",
     "shell.execute_reply": "2021-04-10T22:08:23.471258Z",
     "shell.execute_reply.started": "2021-04-10T22:08:23.464614Z"
    }
   },
   "outputs": [],
   "source": [
    "all_adjs_hate = [x[0] for x in all_pos_hate if x[1] == \"ADJ\"]\n",
    "all_nouns_hate = [x[0] for x in all_pos_hate if x[1] == \"NOUN\"]"
   ]
  },
  {
   "cell_type": "code",
   "execution_count": 40,
   "metadata": {
    "execution": {
     "iopub.execute_input": "2021-04-10T22:04:46.728307Z",
     "iopub.status.busy": "2021-04-10T22:04:46.727824Z",
     "iopub.status.idle": "2021-04-10T22:04:46.738785Z",
     "shell.execute_reply": "2021-04-10T22:04:46.737990Z",
     "shell.execute_reply.started": "2021-04-10T22:04:46.728254Z"
    },
    "scrolled": true
   },
   "outputs": [],
   "source": [
    "adj_counter = {}\n",
    "for word in all_adjs:\n",
    "    if word in adj_counter:\n",
    "        adj_counter[word] += 1\n",
    "    else:\n",
    "        adj_counter[word] = 1\n",
    "\n",
    "top_20_adj = {k: v for k, v in sorted(adj_counter.items(), key=lambda item: item[1], reverse=True)[:20]}"
   ]
  },
  {
   "cell_type": "code",
   "execution_count": 41,
   "metadata": {
    "execution": {
     "iopub.execute_input": "2021-04-10T22:07:10.458454Z",
     "iopub.status.busy": "2021-04-10T22:07:10.458214Z",
     "iopub.status.idle": "2021-04-10T22:07:10.468699Z",
     "shell.execute_reply": "2021-04-10T22:07:10.467971Z",
     "shell.execute_reply.started": "2021-04-10T22:07:10.458428Z"
    }
   },
   "outputs": [
    {
     "data": {
      "text/html": [
       "<div>\n",
       "<style scoped>\n",
       "    .dataframe tbody tr th:only-of-type {\n",
       "        vertical-align: middle;\n",
       "    }\n",
       "\n",
       "    .dataframe tbody tr th {\n",
       "        vertical-align: top;\n",
       "    }\n",
       "\n",
       "    .dataframe thead th {\n",
       "        text-align: right;\n",
       "    }\n",
       "</style>\n",
       "<table border=\"1\" class=\"dataframe\">\n",
       "  <thead>\n",
       "    <tr style=\"text-align: right;\">\n",
       "      <th></th>\n",
       "      <th>index</th>\n",
       "      <th>Freq</th>\n",
       "    </tr>\n",
       "  </thead>\n",
       "  <tbody>\n",
       "    <tr>\n",
       "      <th>0</th>\n",
       "      <td>white</td>\n",
       "      <td>944</td>\n",
       "    </tr>\n",
       "    <tr>\n",
       "      <th>1</th>\n",
       "      <td>black</td>\n",
       "      <td>460</td>\n",
       "    </tr>\n",
       "    <tr>\n",
       "      <th>2</th>\n",
       "      <td>good</td>\n",
       "      <td>337</td>\n",
       "    </tr>\n",
       "    <tr>\n",
       "      <th>3</th>\n",
       "      <td>many</td>\n",
       "      <td>226</td>\n",
       "    </tr>\n",
       "    <tr>\n",
       "      <th>4</th>\n",
       "      <td>old</td>\n",
       "      <td>194</td>\n",
       "    </tr>\n",
       "    <tr>\n",
       "      <th>5</th>\n",
       "      <td>new</td>\n",
       "      <td>183</td>\n",
       "    </tr>\n",
       "    <tr>\n",
       "      <th>6</th>\n",
       "      <td>last</td>\n",
       "      <td>159</td>\n",
       "    </tr>\n",
       "    <tr>\n",
       "      <th>7</th>\n",
       "      <td>great</td>\n",
       "      <td>151</td>\n",
       "    </tr>\n",
       "    <tr>\n",
       "      <th>8</th>\n",
       "      <td>non</td>\n",
       "      <td>131</td>\n",
       "    </tr>\n",
       "    <tr>\n",
       "      <th>9</th>\n",
       "      <td>little</td>\n",
       "      <td>114</td>\n",
       "    </tr>\n",
       "    <tr>\n",
       "      <th>10</th>\n",
       "      <td>much</td>\n",
       "      <td>111</td>\n",
       "    </tr>\n",
       "    <tr>\n",
       "      <th>11</th>\n",
       "      <td>bad</td>\n",
       "      <td>93</td>\n",
       "    </tr>\n",
       "    <tr>\n",
       "      <th>12</th>\n",
       "      <td>free</td>\n",
       "      <td>83</td>\n",
       "    </tr>\n",
       "    <tr>\n",
       "      <th>13</th>\n",
       "      <td>right</td>\n",
       "      <td>78</td>\n",
       "    </tr>\n",
       "    <tr>\n",
       "      <th>14</th>\n",
       "      <td>next</td>\n",
       "      <td>76</td>\n",
       "    </tr>\n",
       "    <tr>\n",
       "      <th>15</th>\n",
       "      <td>big</td>\n",
       "      <td>72</td>\n",
       "    </tr>\n",
       "    <tr>\n",
       "      <th>16</th>\n",
       "      <td>different</td>\n",
       "      <td>69</td>\n",
       "    </tr>\n",
       "    <tr>\n",
       "      <th>17</th>\n",
       "      <td>nationalist</td>\n",
       "      <td>68</td>\n",
       "    </tr>\n",
       "    <tr>\n",
       "      <th>18</th>\n",
       "      <td>high</td>\n",
       "      <td>68</td>\n",
       "    </tr>\n",
       "    <tr>\n",
       "      <th>19</th>\n",
       "      <td>first</td>\n",
       "      <td>65</td>\n",
       "    </tr>\n",
       "  </tbody>\n",
       "</table>\n",
       "</div>"
      ],
      "text/plain": [
       "          index  Freq\n",
       "0         white   944\n",
       "1         black   460\n",
       "2          good   337\n",
       "3          many   226\n",
       "4           old   194\n",
       "5           new   183\n",
       "6          last   159\n",
       "7         great   151\n",
       "8           non   131\n",
       "9        little   114\n",
       "10         much   111\n",
       "11          bad    93\n",
       "12         free    83\n",
       "13        right    78\n",
       "14         next    76\n",
       "15          big    72\n",
       "16    different    69\n",
       "17  nationalist    68\n",
       "18         high    68\n",
       "19        first    65"
      ]
     },
     "execution_count": 41,
     "metadata": {},
     "output_type": "execute_result"
    }
   ],
   "source": [
    "pd.DataFrame.from_dict(top_20_adj, orient=\"index\", columns=[\"Freq\"]).reset_index()"
   ]
  },
  {
   "cell_type": "code",
   "execution_count": 42,
   "metadata": {
    "execution": {
     "iopub.execute_input": "2021-04-10T22:05:11.865388Z",
     "iopub.status.busy": "2021-04-10T22:05:11.865039Z",
     "iopub.status.idle": "2021-04-10T22:05:11.883130Z",
     "shell.execute_reply": "2021-04-10T22:05:11.882484Z",
     "shell.execute_reply.started": "2021-04-10T22:05:11.865349Z"
    },
    "scrolled": true
   },
   "outputs": [],
   "source": [
    "noun_counter = {}\n",
    "for word in all_nouns:\n",
    "    if word in noun_counter:\n",
    "        noun_counter[word] += 1\n",
    "    else:\n",
    "        noun_counter[word] = 1\n",
    "            \n",
    "top_20_noun = {k: v for k, v in sorted(noun_counter.items(), key=lambda item: item[1], reverse=True)[:20]}"
   ]
  },
  {
   "cell_type": "code",
   "execution_count": 43,
   "metadata": {
    "execution": {
     "iopub.execute_input": "2021-04-10T22:08:14.248068Z",
     "iopub.status.busy": "2021-04-10T22:08:14.247608Z",
     "iopub.status.idle": "2021-04-10T22:08:14.262247Z",
     "shell.execute_reply": "2021-04-10T22:08:14.261527Z",
     "shell.execute_reply.started": "2021-04-10T22:08:14.248016Z"
    }
   },
   "outputs": [
    {
     "data": {
      "text/html": [
       "<div>\n",
       "<style scoped>\n",
       "    .dataframe tbody tr th:only-of-type {\n",
       "        vertical-align: middle;\n",
       "    }\n",
       "\n",
       "    .dataframe tbody tr th {\n",
       "        vertical-align: top;\n",
       "    }\n",
       "\n",
       "    .dataframe thead th {\n",
       "        text-align: right;\n",
       "    }\n",
       "</style>\n",
       "<table border=\"1\" class=\"dataframe\">\n",
       "  <thead>\n",
       "    <tr style=\"text-align: right;\">\n",
       "      <th></th>\n",
       "      <th>index</th>\n",
       "      <th>Freq</th>\n",
       "    </tr>\n",
       "  </thead>\n",
       "  <tbody>\n",
       "    <tr>\n",
       "      <th>0</th>\n",
       "      <td>people</td>\n",
       "      <td>624</td>\n",
       "    </tr>\n",
       "    <tr>\n",
       "      <th>1</th>\n",
       "      <td>year</td>\n",
       "      <td>387</td>\n",
       "    </tr>\n",
       "    <tr>\n",
       "      <th>2</th>\n",
       "      <td>time</td>\n",
       "      <td>367</td>\n",
       "    </tr>\n",
       "    <tr>\n",
       "      <th>3</th>\n",
       "      <td>school</td>\n",
       "      <td>274</td>\n",
       "    </tr>\n",
       "    <tr>\n",
       "      <th>4</th>\n",
       "      <td>race</td>\n",
       "      <td>256</td>\n",
       "    </tr>\n",
       "    <tr>\n",
       "      <th>5</th>\n",
       "      <td>day</td>\n",
       "      <td>231</td>\n",
       "    </tr>\n",
       "    <tr>\n",
       "      <th>6</th>\n",
       "      <td>thing</td>\n",
       "      <td>208</td>\n",
       "    </tr>\n",
       "    <tr>\n",
       "      <th>7</th>\n",
       "      <td>country</td>\n",
       "      <td>203</td>\n",
       "    </tr>\n",
       "    <tr>\n",
       "      <th>8</th>\n",
       "      <td>child</td>\n",
       "      <td>190</td>\n",
       "    </tr>\n",
       "    <tr>\n",
       "      <th>9</th>\n",
       "      <td>video</td>\n",
       "      <td>189</td>\n",
       "    </tr>\n",
       "    <tr>\n",
       "      <th>10</th>\n",
       "      <td>way</td>\n",
       "      <td>162</td>\n",
       "    </tr>\n",
       "    <tr>\n",
       "      <th>11</th>\n",
       "      <td>woman</td>\n",
       "      <td>150</td>\n",
       "    </tr>\n",
       "    <tr>\n",
       "      <th>12</th>\n",
       "      <td>kid</td>\n",
       "      <td>145</td>\n",
       "    </tr>\n",
       "    <tr>\n",
       "      <th>13</th>\n",
       "      <td>friend</td>\n",
       "      <td>137</td>\n",
       "    </tr>\n",
       "    <tr>\n",
       "      <th>14</th>\n",
       "      <td>thread</td>\n",
       "      <td>136</td>\n",
       "    </tr>\n",
       "    <tr>\n",
       "      <th>15</th>\n",
       "      <td>place</td>\n",
       "      <td>129</td>\n",
       "    </tr>\n",
       "    <tr>\n",
       "      <th>16</th>\n",
       "      <td>area</td>\n",
       "      <td>121</td>\n",
       "    </tr>\n",
       "    <tr>\n",
       "      <th>17</th>\n",
       "      <td>girl</td>\n",
       "      <td>120</td>\n",
       "    </tr>\n",
       "    <tr>\n",
       "      <th>18</th>\n",
       "      <td>week</td>\n",
       "      <td>118</td>\n",
       "    </tr>\n",
       "    <tr>\n",
       "      <th>19</th>\n",
       "      <td>world</td>\n",
       "      <td>110</td>\n",
       "    </tr>\n",
       "  </tbody>\n",
       "</table>\n",
       "</div>"
      ],
      "text/plain": [
       "      index  Freq\n",
       "0    people   624\n",
       "1      year   387\n",
       "2      time   367\n",
       "3    school   274\n",
       "4      race   256\n",
       "5       day   231\n",
       "6     thing   208\n",
       "7   country   203\n",
       "8     child   190\n",
       "9     video   189\n",
       "10      way   162\n",
       "11    woman   150\n",
       "12      kid   145\n",
       "13   friend   137\n",
       "14   thread   136\n",
       "15    place   129\n",
       "16     area   121\n",
       "17     girl   120\n",
       "18     week   118\n",
       "19    world   110"
      ]
     },
     "execution_count": 43,
     "metadata": {},
     "output_type": "execute_result"
    }
   ],
   "source": [
    "pd.DataFrame.from_dict(top_20_noun, orient=\"index\", columns=[\"Freq\"]).reset_index()"
   ]
  },
  {
   "cell_type": "code",
   "execution_count": 44,
   "metadata": {
    "execution": {
     "iopub.execute_input": "2021-04-10T22:08:43.360239Z",
     "iopub.status.busy": "2021-04-10T22:08:43.359779Z",
     "iopub.status.idle": "2021-04-10T22:08:43.367491Z",
     "shell.execute_reply": "2021-04-10T22:08:43.366515Z",
     "shell.execute_reply.started": "2021-04-10T22:08:43.360187Z"
    },
    "scrolled": true
   },
   "outputs": [],
   "source": [
    "adj_counter1 = {}\n",
    "for word in all_adjs_hate:\n",
    "    if word in adj_counter1:\n",
    "        adj_counter1[word] += 1\n",
    "    else:\n",
    "        adj_counter1[word] = 1\n",
    "            \n",
    "top_20_adj1 = {k: v for k, v in sorted(adj_counter1.items(), key=lambda item: item[1], reverse=True)[:20]}"
   ]
  },
  {
   "cell_type": "code",
   "execution_count": 45,
   "metadata": {
    "execution": {
     "iopub.execute_input": "2021-04-10T22:08:58.588596Z",
     "iopub.status.busy": "2021-04-10T22:08:58.588131Z",
     "iopub.status.idle": "2021-04-10T22:08:58.595937Z",
     "shell.execute_reply": "2021-04-10T22:08:58.595316Z",
     "shell.execute_reply.started": "2021-04-10T22:08:58.588544Z"
    },
    "scrolled": true
   },
   "outputs": [],
   "source": [
    "noun_counter1 = {}\n",
    "for word in all_nouns_hate:\n",
    "    if word in noun_counter1:\n",
    "        noun_counter1[word] += 1\n",
    "    else:\n",
    "        noun_counter1[word] = 1\n",
    "            \n",
    "top_20_noun1 = {k: v for k, v in sorted(noun_counter1.items(), key=lambda item: item[1], reverse=True)[:20]}"
   ]
  },
  {
   "cell_type": "code",
   "execution_count": 46,
   "metadata": {
    "execution": {
     "iopub.execute_input": "2021-04-10T22:10:44.563709Z",
     "iopub.status.busy": "2021-04-10T22:10:44.563340Z",
     "iopub.status.idle": "2021-04-10T22:10:44.584442Z",
     "shell.execute_reply": "2021-04-10T22:10:44.583875Z",
     "shell.execute_reply.started": "2021-04-10T22:10:44.563664Z"
    }
   },
   "outputs": [
    {
     "data": {
      "text/html": [
       "<div>\n",
       "<style scoped>\n",
       "    .dataframe tbody tr th:only-of-type {\n",
       "        vertical-align: middle;\n",
       "    }\n",
       "\n",
       "    .dataframe tbody tr th {\n",
       "        vertical-align: top;\n",
       "    }\n",
       "\n",
       "    .dataframe thead th {\n",
       "        text-align: right;\n",
       "    }\n",
       "</style>\n",
       "<table border=\"1\" class=\"dataframe\">\n",
       "  <thead>\n",
       "    <tr style=\"text-align: right;\">\n",
       "      <th></th>\n",
       "      <th>Total</th>\n",
       "      <th>Freq Total</th>\n",
       "      <th>Hate Speech</th>\n",
       "      <th>Freq Hate Speech</th>\n",
       "    </tr>\n",
       "  </thead>\n",
       "  <tbody>\n",
       "    <tr>\n",
       "      <th>0</th>\n",
       "      <td>people</td>\n",
       "      <td>624</td>\n",
       "      <td>people</td>\n",
       "      <td>105</td>\n",
       "    </tr>\n",
       "    <tr>\n",
       "      <th>1</th>\n",
       "      <td>year</td>\n",
       "      <td>387</td>\n",
       "      <td>race</td>\n",
       "      <td>87</td>\n",
       "    </tr>\n",
       "    <tr>\n",
       "      <th>2</th>\n",
       "      <td>time</td>\n",
       "      <td>367</td>\n",
       "      <td>country</td>\n",
       "      <td>67</td>\n",
       "    </tr>\n",
       "    <tr>\n",
       "      <th>3</th>\n",
       "      <td>school</td>\n",
       "      <td>274</td>\n",
       "      <td>time</td>\n",
       "      <td>48</td>\n",
       "    </tr>\n",
       "    <tr>\n",
       "      <th>4</th>\n",
       "      <td>race</td>\n",
       "      <td>256</td>\n",
       "      <td>woman</td>\n",
       "      <td>44</td>\n",
       "    </tr>\n",
       "    <tr>\n",
       "      <th>5</th>\n",
       "      <td>day</td>\n",
       "      <td>231</td>\n",
       "      <td>child</td>\n",
       "      <td>41</td>\n",
       "    </tr>\n",
       "    <tr>\n",
       "      <th>6</th>\n",
       "      <td>thing</td>\n",
       "      <td>208</td>\n",
       "      <td>thing</td>\n",
       "      <td>41</td>\n",
       "    </tr>\n",
       "    <tr>\n",
       "      <th>7</th>\n",
       "      <td>country</td>\n",
       "      <td>203</td>\n",
       "      <td>school</td>\n",
       "      <td>39</td>\n",
       "    </tr>\n",
       "    <tr>\n",
       "      <th>8</th>\n",
       "      <td>child</td>\n",
       "      <td>190</td>\n",
       "      <td>way</td>\n",
       "      <td>33</td>\n",
       "    </tr>\n",
       "    <tr>\n",
       "      <th>9</th>\n",
       "      <td>video</td>\n",
       "      <td>189</td>\n",
       "      <td>ape</td>\n",
       "      <td>33</td>\n",
       "    </tr>\n",
       "    <tr>\n",
       "      <th>10</th>\n",
       "      <td>way</td>\n",
       "      <td>162</td>\n",
       "      <td>year</td>\n",
       "      <td>30</td>\n",
       "    </tr>\n",
       "    <tr>\n",
       "      <th>11</th>\n",
       "      <td>woman</td>\n",
       "      <td>150</td>\n",
       "      <td>day</td>\n",
       "      <td>28</td>\n",
       "    </tr>\n",
       "    <tr>\n",
       "      <th>12</th>\n",
       "      <td>kid</td>\n",
       "      <td>145</td>\n",
       "      <td>kid</td>\n",
       "      <td>24</td>\n",
       "    </tr>\n",
       "    <tr>\n",
       "      <th>13</th>\n",
       "      <td>friend</td>\n",
       "      <td>137</td>\n",
       "      <td>crime</td>\n",
       "      <td>24</td>\n",
       "    </tr>\n",
       "    <tr>\n",
       "      <th>14</th>\n",
       "      <td>thread</td>\n",
       "      <td>136</td>\n",
       "      <td>place</td>\n",
       "      <td>23</td>\n",
       "    </tr>\n",
       "    <tr>\n",
       "      <th>15</th>\n",
       "      <td>place</td>\n",
       "      <td>129</td>\n",
       "      <td>girl</td>\n",
       "      <td>22</td>\n",
       "    </tr>\n",
       "    <tr>\n",
       "      <th>16</th>\n",
       "      <td>area</td>\n",
       "      <td>121</td>\n",
       "      <td>world</td>\n",
       "      <td>21</td>\n",
       "    </tr>\n",
       "    <tr>\n",
       "      <th>17</th>\n",
       "      <td>girl</td>\n",
       "      <td>120</td>\n",
       "      <td>mud</td>\n",
       "      <td>20</td>\n",
       "    </tr>\n",
       "    <tr>\n",
       "      <th>18</th>\n",
       "      <td>week</td>\n",
       "      <td>118</td>\n",
       "      <td>life</td>\n",
       "      <td>19</td>\n",
       "    </tr>\n",
       "    <tr>\n",
       "      <th>19</th>\n",
       "      <td>world</td>\n",
       "      <td>110</td>\n",
       "      <td>job</td>\n",
       "      <td>18</td>\n",
       "    </tr>\n",
       "  </tbody>\n",
       "</table>\n",
       "</div>"
      ],
      "text/plain": [
       "      Total  Freq Total Hate Speech  Freq Hate Speech\n",
       "0    people         624      people               105\n",
       "1      year         387        race                87\n",
       "2      time         367     country                67\n",
       "3    school         274        time                48\n",
       "4      race         256       woman                44\n",
       "5       day         231       child                41\n",
       "6     thing         208       thing                41\n",
       "7   country         203      school                39\n",
       "8     child         190         way                33\n",
       "9     video         189         ape                33\n",
       "10      way         162        year                30\n",
       "11    woman         150         day                28\n",
       "12      kid         145         kid                24\n",
       "13   friend         137       crime                24\n",
       "14   thread         136       place                23\n",
       "15    place         129        girl                22\n",
       "16     area         121       world                21\n",
       "17     girl         120         mud                20\n",
       "18     week         118        life                19\n",
       "19    world         110         job                18"
      ]
     },
     "execution_count": 46,
     "metadata": {},
     "output_type": "execute_result"
    }
   ],
   "source": [
    "top_noun = {\"Total\": top_20_noun.keys(), \"Freq Total\": top_20_noun.values(), \"Hate Speech\": top_20_noun1.keys(), \"Freq Hate Speech\": top_20_noun1.values()}\n",
    "top_noun = pd.DataFrame(top_noun)\n",
    "top_noun"
   ]
  },
  {
   "cell_type": "code",
   "execution_count": 47,
   "metadata": {
    "execution": {
     "iopub.execute_input": "2021-04-10T22:11:23.554004Z",
     "iopub.status.busy": "2021-04-10T22:11:23.553714Z",
     "iopub.status.idle": "2021-04-10T22:11:23.558766Z",
     "shell.execute_reply": "2021-04-10T22:11:23.557691Z",
     "shell.execute_reply.started": "2021-04-10T22:11:23.553973Z"
    }
   },
   "outputs": [],
   "source": [
    "common_nouns = list(set(top_noun[\"Hate Speech\"].values).union(set(top_noun[\"Total\"].values)))"
   ]
  },
  {
   "cell_type": "code",
   "execution_count": 48,
   "metadata": {
    "execution": {
     "iopub.execute_input": "2021-04-10T22:11:26.034386Z",
     "iopub.status.busy": "2021-04-10T22:11:26.033570Z",
     "iopub.status.idle": "2021-04-10T22:11:26.040561Z",
     "shell.execute_reply": "2021-04-10T22:11:26.039502Z",
     "shell.execute_reply.started": "2021-04-10T22:11:26.034292Z"
    }
   },
   "outputs": [],
   "source": [
    "freq_common_tot = [noun_counter[x] for x in common_nouns]\n",
    "freq_common_hate = [noun_counter1[x] for x in common_nouns]"
   ]
  },
  {
   "cell_type": "code",
   "execution_count": 49,
   "metadata": {
    "execution": {
     "iopub.execute_input": "2021-04-10T22:11:28.856506Z",
     "iopub.status.busy": "2021-04-10T22:11:28.856051Z",
     "iopub.status.idle": "2021-04-10T22:11:28.861704Z",
     "shell.execute_reply": "2021-04-10T22:11:28.860788Z",
     "shell.execute_reply.started": "2021-04-10T22:11:28.856451Z"
    }
   },
   "outputs": [],
   "source": [
    "common_noun_df = pd.DataFrame({\"Nouns\" : common_nouns, \"Freq tot\": freq_common_tot, \"Freq Hate Speech\": freq_common_hate })"
   ]
  },
  {
   "cell_type": "code",
   "execution_count": 50,
   "metadata": {
    "execution": {
     "iopub.execute_input": "2021-04-10T22:11:29.362617Z",
     "iopub.status.busy": "2021-04-10T22:11:29.361882Z",
     "iopub.status.idle": "2021-04-10T22:11:29.375503Z",
     "shell.execute_reply": "2021-04-10T22:11:29.372668Z",
     "shell.execute_reply.started": "2021-04-10T22:11:29.362535Z"
    }
   },
   "outputs": [],
   "source": [
    "common_noun_df.sort_values(by=[\"Freq Hate Speech\"], ascending= False, inplace=True)"
   ]
  },
  {
   "cell_type": "code",
   "execution_count": 51,
   "metadata": {
    "execution": {
     "iopub.execute_input": "2021-04-10T22:11:31.302984Z",
     "iopub.status.busy": "2021-04-10T22:11:31.302271Z",
     "iopub.status.idle": "2021-04-10T22:11:31.605611Z",
     "shell.execute_reply": "2021-04-10T22:11:31.604996Z",
     "shell.execute_reply.started": "2021-04-10T22:11:31.302902Z"
    }
   },
   "outputs": [
    {
     "data": {
      "image/png": "[encoded data removed]",
      "text/plain": [
       "<Figure size 720x360 with 1 Axes>"
      ]
     },
     "metadata": {
      "needs_background": "light"
     },
     "output_type": "display_data"
    }
   ],
   "source": [
    "common_noun_df.plot('Nouns', y=['Freq tot', 'Freq Hate Speech'], kind='bar', figsize=(10,5))\n",
    "plt.show()"
   ]
  },
  {
   "cell_type": "code",
   "execution_count": 52,
   "metadata": {},
   "outputs": [
    {
     "data": {
      "image/png": "[encoded data removed]",
      "text/plain": [
       "<Figure size 432x288 with 2 Axes>"
      ]
     },
     "metadata": {
      "needs_background": "light"
     },
     "output_type": "display_data"
    }
   ],
   "source": [
    "fig = plt.figure() # Create matplotlib figure\n",
    "\n",
    "ax = fig.add_subplot(111) # Create matplotlib axes\n",
    "ax2 = ax.twinx() # Create another axes that shares the same x-axis as ax.\n",
    "\n",
    "width = 0.4\n",
    "\n",
    "common_noun_df.plot(kind='bar', color='red', ax=ax, width=width, position=1)\n",
    "common_noun_df.plot(kind='bar', color='blue', ax=ax2, width=width, position=0)\n",
    "\n",
    "ax.set_ylabel('Freq tot')\n",
    "ax2.set_ylabel('Freq Hate Speech')\n",
    "\n",
    "plt.show()"
   ]
  },
  {
   "cell_type": "code",
   "execution_count": 53,
   "metadata": {
    "execution": {
     "iopub.execute_input": "2021-04-10T22:15:40.154829Z",
     "iopub.status.busy": "2021-04-10T22:15:40.154140Z",
     "iopub.status.idle": "2021-04-10T22:15:40.169504Z",
     "shell.execute_reply": "2021-04-10T22:15:40.168806Z",
     "shell.execute_reply.started": "2021-04-10T22:15:40.154750Z"
    }
   },
   "outputs": [
    {
     "data": {
      "text/html": [
       "<div>\n",
       "<style scoped>\n",
       "    .dataframe tbody tr th:only-of-type {\n",
       "        vertical-align: middle;\n",
       "    }\n",
       "\n",
       "    .dataframe tbody tr th {\n",
       "        vertical-align: top;\n",
       "    }\n",
       "\n",
       "    .dataframe thead th {\n",
       "        text-align: right;\n",
       "    }\n",
       "</style>\n",
       "<table border=\"1\" class=\"dataframe\">\n",
       "  <thead>\n",
       "    <tr style=\"text-align: right;\">\n",
       "      <th></th>\n",
       "      <th>Total</th>\n",
       "      <th>Freq Total</th>\n",
       "      <th>Hate Speech</th>\n",
       "      <th>Freq Hate Speech</th>\n",
       "    </tr>\n",
       "  </thead>\n",
       "  <tbody>\n",
       "    <tr>\n",
       "      <th>0</th>\n",
       "      <td>white</td>\n",
       "      <td>944</td>\n",
       "      <td>white</td>\n",
       "      <td>259</td>\n",
       "    </tr>\n",
       "    <tr>\n",
       "      <th>1</th>\n",
       "      <td>black</td>\n",
       "      <td>460</td>\n",
       "      <td>black</td>\n",
       "      <td>166</td>\n",
       "    </tr>\n",
       "    <tr>\n",
       "      <th>2</th>\n",
       "      <td>good</td>\n",
       "      <td>337</td>\n",
       "      <td>non</td>\n",
       "      <td>53</td>\n",
       "    </tr>\n",
       "    <tr>\n",
       "      <th>3</th>\n",
       "      <td>many</td>\n",
       "      <td>226</td>\n",
       "      <td>good</td>\n",
       "      <td>40</td>\n",
       "    </tr>\n",
       "    <tr>\n",
       "      <th>4</th>\n",
       "      <td>old</td>\n",
       "      <td>194</td>\n",
       "      <td>many</td>\n",
       "      <td>36</td>\n",
       "    </tr>\n",
       "    <tr>\n",
       "      <th>5</th>\n",
       "      <td>new</td>\n",
       "      <td>183</td>\n",
       "      <td>last</td>\n",
       "      <td>31</td>\n",
       "    </tr>\n",
       "    <tr>\n",
       "      <th>6</th>\n",
       "      <td>last</td>\n",
       "      <td>159</td>\n",
       "      <td>negro</td>\n",
       "      <td>30</td>\n",
       "    </tr>\n",
       "    <tr>\n",
       "      <th>7</th>\n",
       "      <td>great</td>\n",
       "      <td>151</td>\n",
       "      <td>little</td>\n",
       "      <td>25</td>\n",
       "    </tr>\n",
       "    <tr>\n",
       "      <th>8</th>\n",
       "      <td>non</td>\n",
       "      <td>131</td>\n",
       "      <td>liberal</td>\n",
       "      <td>24</td>\n",
       "    </tr>\n",
       "    <tr>\n",
       "      <th>9</th>\n",
       "      <td>little</td>\n",
       "      <td>114</td>\n",
       "      <td>much</td>\n",
       "      <td>21</td>\n",
       "    </tr>\n",
       "    <tr>\n",
       "      <th>10</th>\n",
       "      <td>much</td>\n",
       "      <td>111</td>\n",
       "      <td>jewish</td>\n",
       "      <td>19</td>\n",
       "    </tr>\n",
       "    <tr>\n",
       "      <th>11</th>\n",
       "      <td>bad</td>\n",
       "      <td>93</td>\n",
       "      <td>great</td>\n",
       "      <td>18</td>\n",
       "    </tr>\n",
       "    <tr>\n",
       "      <th>12</th>\n",
       "      <td>free</td>\n",
       "      <td>83</td>\n",
       "      <td>asian</td>\n",
       "      <td>18</td>\n",
       "    </tr>\n",
       "    <tr>\n",
       "      <th>13</th>\n",
       "      <td>right</td>\n",
       "      <td>78</td>\n",
       "      <td>bad</td>\n",
       "      <td>17</td>\n",
       "    </tr>\n",
       "    <tr>\n",
       "      <th>14</th>\n",
       "      <td>next</td>\n",
       "      <td>76</td>\n",
       "      <td>old</td>\n",
       "      <td>17</td>\n",
       "    </tr>\n",
       "    <tr>\n",
       "      <th>15</th>\n",
       "      <td>big</td>\n",
       "      <td>72</td>\n",
       "      <td>new</td>\n",
       "      <td>16</td>\n",
       "    </tr>\n",
       "    <tr>\n",
       "      <th>16</th>\n",
       "      <td>different</td>\n",
       "      <td>69</td>\n",
       "      <td>poor</td>\n",
       "      <td>16</td>\n",
       "    </tr>\n",
       "    <tr>\n",
       "      <th>17</th>\n",
       "      <td>nationalist</td>\n",
       "      <td>68</td>\n",
       "      <td>dumb</td>\n",
       "      <td>15</td>\n",
       "    </tr>\n",
       "    <tr>\n",
       "      <th>18</th>\n",
       "      <td>high</td>\n",
       "      <td>68</td>\n",
       "      <td>real</td>\n",
       "      <td>14</td>\n",
       "    </tr>\n",
       "    <tr>\n",
       "      <th>19</th>\n",
       "      <td>first</td>\n",
       "      <td>65</td>\n",
       "      <td>wrong</td>\n",
       "      <td>14</td>\n",
       "    </tr>\n",
       "  </tbody>\n",
       "</table>\n",
       "</div>"
      ],
      "text/plain": [
       "          Total  Freq Total Hate Speech  Freq Hate Speech\n",
       "0         white         944       white               259\n",
       "1         black         460       black               166\n",
       "2          good         337         non                53\n",
       "3          many         226        good                40\n",
       "4           old         194        many                36\n",
       "5           new         183        last                31\n",
       "6          last         159       negro                30\n",
       "7         great         151      little                25\n",
       "8           non         131     liberal                24\n",
       "9        little         114        much                21\n",
       "10         much         111      jewish                19\n",
       "11          bad          93       great                18\n",
       "12         free          83       asian                18\n",
       "13        right          78         bad                17\n",
       "14         next          76         old                17\n",
       "15          big          72         new                16\n",
       "16    different          69        poor                16\n",
       "17  nationalist          68        dumb                15\n",
       "18         high          68        real                14\n",
       "19        first          65       wrong                14"
      ]
     },
     "execution_count": 53,
     "metadata": {},
     "output_type": "execute_result"
    }
   ],
   "source": [
    "top_adj = {\"Total\": top_20_adj.keys(), \"Freq Total\": top_20_adj.values(), \"Hate Speech\": top_20_adj1.keys(), \"Freq Hate Speech\": top_20_adj1.values()}\n",
    "top_adj = pd.DataFrame(top_adj)\n",
    "top_adj"
   ]
  },
  {
   "cell_type": "code",
   "execution_count": 54,
   "metadata": {},
   "outputs": [
    {
     "data": {
      "text/html": [
       "<div>\n",
       "<style scoped>\n",
       "    .dataframe tbody tr th:only-of-type {\n",
       "        vertical-align: middle;\n",
       "    }\n",
       "\n",
       "    .dataframe tbody tr th {\n",
       "        vertical-align: top;\n",
       "    }\n",
       "\n",
       "    .dataframe thead th {\n",
       "        text-align: right;\n",
       "    }\n",
       "</style>\n",
       "<table border=\"1\" class=\"dataframe\">\n",
       "  <thead>\n",
       "    <tr style=\"text-align: right;\">\n",
       "      <th></th>\n",
       "      <th>file_id</th>\n",
       "      <th>user_id</th>\n",
       "      <th>subforum_id</th>\n",
       "      <th>num_contexts</th>\n",
       "      <th>label</th>\n",
       "      <th>text</th>\n",
       "      <th>text_clean</th>\n",
       "      <th>stemmed</th>\n",
       "      <th>lemmatized</th>\n",
       "      <th>tokens</th>\n",
       "      <th>POS_spacy</th>\n",
       "    </tr>\n",
       "  </thead>\n",
       "  <tbody>\n",
       "    <tr>\n",
       "      <th>108</th>\n",
       "      <td>13391410_1</td>\n",
       "      <td>579214</td>\n",
       "      <td>1345</td>\n",
       "      <td>1</td>\n",
       "      <td>1</td>\n",
       "      <td>they act as if negros with aids should have th...</td>\n",
       "      <td>act negros aids right reproduce die way take c...</td>\n",
       "      <td>act negro aid right reproduc die way take care...</td>\n",
       "      <td>act negro aid right reproduce die way take car...</td>\n",
       "      <td>[act, negros, aids, right, reproduce, die, way...</td>\n",
       "      <td>[(act, VERB), (negro, PROPN), (aid, NOUN), (ri...</td>\n",
       "    </tr>\n",
       "    <tr>\n",
       "      <th>112</th>\n",
       "      <td>13406897_1</td>\n",
       "      <td>579436</td>\n",
       "      <td>1345</td>\n",
       "      <td>0</td>\n",
       "      <td>1</td>\n",
       "      <td>He's a retarded feral negro ( yes , feral huma...</td>\n",
       "      <td>retarded feral negro yes feral humans cannot t...</td>\n",
       "      <td>retard feral negro ye feral human can not talk...</td>\n",
       "      <td>retarded feral negro yes feral human can not t...</td>\n",
       "      <td>[retarded, feral, negro, yes, feral, humans, c...</td>\n",
       "      <td>[(retarded, PROPN), (feral, PROPN), (negro, PR...</td>\n",
       "    </tr>\n",
       "    <tr>\n",
       "      <th>114</th>\n",
       "      <td>13406897_3</td>\n",
       "      <td>579436</td>\n",
       "      <td>1345</td>\n",
       "      <td>0</td>\n",
       "      <td>1</td>\n",
       "      <td>I 've seen negroes who look ( and undoubtedly ...</td>\n",
       "      <td>seen negroes look undoubtedly act like</td>\n",
       "      <td>seen negro look undoubtedli act like</td>\n",
       "      <td>seen negro look undoubtedly act like</td>\n",
       "      <td>[seen, negroes, look, undoubtedly, act, like]</td>\n",
       "      <td>[(seen, VERB), (negro, PROPN), (look, VERB), (...</td>\n",
       "    </tr>\n",
       "    <tr>\n",
       "      <th>230</th>\n",
       "      <td>13503127_1</td>\n",
       "      <td>572147</td>\n",
       "      <td>1345</td>\n",
       "      <td>0</td>\n",
       "      <td>0</td>\n",
       "      <td>Hispanic: A woman threw her 2 1/2-year-old gra...</td>\n",
       "      <td>hispanic woman threw year old granddaughter se...</td>\n",
       "      <td>hispan woman threw year old granddaught sever ...</td>\n",
       "      <td>hispanic woman threw year old granddaughter se...</td>\n",
       "      <td>[hispanic, woman, threw, year, old, granddaugh...</td>\n",
       "      <td>[(hispanic, ADJ), (woman, NOUN), (threw, VERB)...</td>\n",
       "    </tr>\n",
       "    <tr>\n",
       "      <th>390</th>\n",
       "      <td>14031472_1</td>\n",
       "      <td>596265</td>\n",
       "      <td>1387</td>\n",
       "      <td>2</td>\n",
       "      <td>0</td>\n",
       "      <td>i do this and the looks i get out of disgust a...</td>\n",
       "      <td>looks get disgust regular happily carry walkin...</td>\n",
       "      <td>look get disgust regular happili carri walk la...</td>\n",
       "      <td>look get disgust regular happily carry walking...</td>\n",
       "      <td>[looks, get, disgust, regular, happily, carry,...</td>\n",
       "      <td>[(look, VERB), (get, AUX), (disgust, VERB), (r...</td>\n",
       "    </tr>\n",
       "    <tr>\n",
       "      <th>...</th>\n",
       "      <td>...</td>\n",
       "      <td>...</td>\n",
       "      <td>...</td>\n",
       "      <td>...</td>\n",
       "      <td>...</td>\n",
       "      <td>...</td>\n",
       "      <td>...</td>\n",
       "      <td>...</td>\n",
       "      <td>...</td>\n",
       "      <td>...</td>\n",
       "      <td>...</td>\n",
       "    </tr>\n",
       "    <tr>\n",
       "      <th>9838</th>\n",
       "      <td>12882012_2</td>\n",
       "      <td>577734</td>\n",
       "      <td>1345</td>\n",
       "      <td>0</td>\n",
       "      <td>1</td>\n",
       "      <td>I reported some time ago that negroes will eve...</td>\n",
       "      <td>reported time ago negroes even strip bricks ho...</td>\n",
       "      <td>report time ago negro even strip brick home aw...</td>\n",
       "      <td>reported time ago negro even strip brick home ...</td>\n",
       "      <td>[reported, time, ago, negroes, even, strip, br...</td>\n",
       "      <td>[(reported, VERB), (time, NOUN), (ago, ADV), (...</td>\n",
       "    </tr>\n",
       "    <tr>\n",
       "      <th>9984</th>\n",
       "      <td>13503418_1</td>\n",
       "      <td>576356</td>\n",
       "      <td>1395</td>\n",
       "      <td>0</td>\n",
       "      <td>1</td>\n",
       "      <td>Yes, before age of 10 i never saw an negro in ...</td>\n",
       "      <td>yes age never saw negro real life moved hollan...</td>\n",
       "      <td>ye age never saw negro real life move holland ...</td>\n",
       "      <td>yes age never saw negro real life moved hollan...</td>\n",
       "      <td>[yes, age, never, saw, negro, real, life, move...</td>\n",
       "      <td>[(yes, INTJ), (age, NOUN), (never, ADV), (saw,...</td>\n",
       "    </tr>\n",
       "    <tr>\n",
       "      <th>10397</th>\n",
       "      <td>14413050_1</td>\n",
       "      <td>574116</td>\n",
       "      <td>1375</td>\n",
       "      <td>1</td>\n",
       "      <td>1</td>\n",
       "      <td>Don't stop trying because the negro will prove...</td>\n",
       "      <td>stop trying negro prove right</td>\n",
       "      <td>stop tri negro prove right</td>\n",
       "      <td>stop trying negro prove right</td>\n",
       "      <td>[stop, trying, negro, prove, right]</td>\n",
       "      <td>[(stop, VERB), (trying, VERB), (negro, ADJ), (...</td>\n",
       "    </tr>\n",
       "    <tr>\n",
       "      <th>10698</th>\n",
       "      <td>30603595_1</td>\n",
       "      <td>573095</td>\n",
       "      <td>1359</td>\n",
       "      <td>3</td>\n",
       "      <td>0</td>\n",
       "      <td>By the way he did n't film the scene for enter...</td>\n",
       "      <td>way n film scene entertainment negro would lie...</td>\n",
       "      <td>way n film scene entertain negro would lie whi...</td>\n",
       "      <td>way n film scene entertainment negro would lie...</td>\n",
       "      <td>[way, n, film, scene, entertainment, negro, wo...</td>\n",
       "      <td>[(way, PROPN), (n, PROPN), (film, PROPN), (sce...</td>\n",
       "    </tr>\n",
       "    <tr>\n",
       "      <th>10718</th>\n",
       "      <td>30631655_3</td>\n",
       "      <td>576450</td>\n",
       "      <td>1359</td>\n",
       "      <td>0</td>\n",
       "      <td>1</td>\n",
       "      <td>That negro 's place is in Africa , and the tea...</td>\n",
       "      <td>negro place africa teacher n send</td>\n",
       "      <td>negro place africa teacher n send</td>\n",
       "      <td>negro place africa teacher n send</td>\n",
       "      <td>[negro, place, africa, teacher, n, send]</td>\n",
       "      <td>[(negro, PROPN), (place, PROPN), (africa, PROP...</td>\n",
       "    </tr>\n",
       "  </tbody>\n",
       "</table>\n",
       "<p>116 rows × 11 columns</p>\n",
       "</div>"
      ],
      "text/plain": [
       "          file_id  user_id  subforum_id  num_contexts  label  \\\n",
       "108    13391410_1   579214         1345             1      1   \n",
       "112    13406897_1   579436         1345             0      1   \n",
       "114    13406897_3   579436         1345             0      1   \n",
       "230    13503127_1   572147         1345             0      0   \n",
       "390    14031472_1   596265         1387             2      0   \n",
       "...           ...      ...          ...           ...    ...   \n",
       "9838   12882012_2   577734         1345             0      1   \n",
       "9984   13503418_1   576356         1395             0      1   \n",
       "10397  14413050_1   574116         1375             1      1   \n",
       "10698  30603595_1   573095         1359             3      0   \n",
       "10718  30631655_3   576450         1359             0      1   \n",
       "\n",
       "                                                    text  \\\n",
       "108    they act as if negros with aids should have th...   \n",
       "112    He's a retarded feral negro ( yes , feral huma...   \n",
       "114    I 've seen negroes who look ( and undoubtedly ...   \n",
       "230    Hispanic: A woman threw her 2 1/2-year-old gra...   \n",
       "390    i do this and the looks i get out of disgust a...   \n",
       "...                                                  ...   \n",
       "9838   I reported some time ago that negroes will eve...   \n",
       "9984   Yes, before age of 10 i never saw an negro in ...   \n",
       "10397  Don't stop trying because the negro will prove...   \n",
       "10698  By the way he did n't film the scene for enter...   \n",
       "10718  That negro 's place is in Africa , and the tea...   \n",
       "\n",
       "                                              text_clean  \\\n",
       "108    act negros aids right reproduce die way take c...   \n",
       "112    retarded feral negro yes feral humans cannot t...   \n",
       "114               seen negroes look undoubtedly act like   \n",
       "230    hispanic woman threw year old granddaughter se...   \n",
       "390    looks get disgust regular happily carry walkin...   \n",
       "...                                                  ...   \n",
       "9838   reported time ago negroes even strip bricks ho...   \n",
       "9984   yes age never saw negro real life moved hollan...   \n",
       "10397                      stop trying negro prove right   \n",
       "10698  way n film scene entertainment negro would lie...   \n",
       "10718                  negro place africa teacher n send   \n",
       "\n",
       "                                                 stemmed  \\\n",
       "108    act negro aid right reproduc die way take care...   \n",
       "112    retard feral negro ye feral human can not talk...   \n",
       "114                 seen negro look undoubtedli act like   \n",
       "230    hispan woman threw year old granddaught sever ...   \n",
       "390    look get disgust regular happili carri walk la...   \n",
       "...                                                  ...   \n",
       "9838   report time ago negro even strip brick home aw...   \n",
       "9984   ye age never saw negro real life move holland ...   \n",
       "10397                         stop tri negro prove right   \n",
       "10698  way n film scene entertain negro would lie whi...   \n",
       "10718                  negro place africa teacher n send   \n",
       "\n",
       "                                              lemmatized  \\\n",
       "108    act negro aid right reproduce die way take car...   \n",
       "112    retarded feral negro yes feral human can not t...   \n",
       "114                 seen negro look undoubtedly act like   \n",
       "230    hispanic woman threw year old granddaughter se...   \n",
       "390    look get disgust regular happily carry walking...   \n",
       "...                                                  ...   \n",
       "9838   reported time ago negro even strip brick home ...   \n",
       "9984   yes age never saw negro real life moved hollan...   \n",
       "10397                      stop trying negro prove right   \n",
       "10698  way n film scene entertainment negro would lie...   \n",
       "10718                  negro place africa teacher n send   \n",
       "\n",
       "                                                  tokens  \\\n",
       "108    [act, negros, aids, right, reproduce, die, way...   \n",
       "112    [retarded, feral, negro, yes, feral, humans, c...   \n",
       "114        [seen, negroes, look, undoubtedly, act, like]   \n",
       "230    [hispanic, woman, threw, year, old, granddaugh...   \n",
       "390    [looks, get, disgust, regular, happily, carry,...   \n",
       "...                                                  ...   \n",
       "9838   [reported, time, ago, negroes, even, strip, br...   \n",
       "9984   [yes, age, never, saw, negro, real, life, move...   \n",
       "10397                [stop, trying, negro, prove, right]   \n",
       "10698  [way, n, film, scene, entertainment, negro, wo...   \n",
       "10718           [negro, place, africa, teacher, n, send]   \n",
       "\n",
       "                                               POS_spacy  \n",
       "108    [(act, VERB), (negro, PROPN), (aid, NOUN), (ri...  \n",
       "112    [(retarded, PROPN), (feral, PROPN), (negro, PR...  \n",
       "114    [(seen, VERB), (negro, PROPN), (look, VERB), (...  \n",
       "230    [(hispanic, ADJ), (woman, NOUN), (threw, VERB)...  \n",
       "390    [(look, VERB), (get, AUX), (disgust, VERB), (r...  \n",
       "...                                                  ...  \n",
       "9838   [(reported, VERB), (time, NOUN), (ago, ADV), (...  \n",
       "9984   [(yes, INTJ), (age, NOUN), (never, ADV), (saw,...  \n",
       "10397  [(stop, VERB), (trying, VERB), (negro, ADJ), (...  \n",
       "10698  [(way, PROPN), (n, PROPN), (film, PROPN), (sce...  \n",
       "10718  [(negro, PROPN), (place, PROPN), (africa, PROP...  \n",
       "\n",
       "[116 rows x 11 columns]"
      ]
     },
     "execution_count": 54,
     "metadata": {},
     "output_type": "execute_result"
    }
   ],
   "source": [
    "data[data['text'].str.contains(\"negro\")][:]"
   ]
  },
  {
   "cell_type": "code",
   "execution_count": 55,
   "metadata": {
    "execution": {
     "iopub.execute_input": "2021-04-10T22:17:20.774812Z",
     "iopub.status.busy": "2021-04-10T22:17:20.774101Z",
     "iopub.status.idle": "2021-04-10T22:17:20.780107Z",
     "shell.execute_reply": "2021-04-10T22:17:20.779315Z",
     "shell.execute_reply.started": "2021-04-10T22:17:20.774731Z"
    }
   },
   "outputs": [],
   "source": [
    "common_adj = list(set(top_adj[\"Hate Speech\"].values).union(set(top_adj[\"Total\"].values)))"
   ]
  },
  {
   "cell_type": "code",
   "execution_count": 56,
   "metadata": {
    "execution": {
     "iopub.execute_input": "2021-04-10T22:17:21.158688Z",
     "iopub.status.busy": "2021-04-10T22:17:21.157994Z",
     "iopub.status.idle": "2021-04-10T22:17:21.169190Z",
     "shell.execute_reply": "2021-04-10T22:17:21.166295Z",
     "shell.execute_reply.started": "2021-04-10T22:17:21.158609Z"
    }
   },
   "outputs": [],
   "source": [
    "freq_common_tot_adj = [adj_counter[x] for x in common_adj]\n",
    "freq_common_hate_adj = [adj_counter1[x] for x in common_adj]"
   ]
  },
  {
   "cell_type": "code",
   "execution_count": 57,
   "metadata": {
    "execution": {
     "iopub.execute_input": "2021-04-10T22:17:47.314619Z",
     "iopub.status.busy": "2021-04-10T22:17:47.314273Z",
     "iopub.status.idle": "2021-04-10T22:17:47.319883Z",
     "shell.execute_reply": "2021-04-10T22:17:47.319064Z",
     "shell.execute_reply.started": "2021-04-10T22:17:47.314580Z"
    }
   },
   "outputs": [],
   "source": [
    "common_adj_df = pd.DataFrame({\"Adj\" : common_adj, \"Freq tot\": freq_common_tot_adj, \"Freq Hate Speech\": freq_common_hate_adj })"
   ]
  },
  {
   "cell_type": "code",
   "execution_count": 58,
   "metadata": {
    "execution": {
     "iopub.execute_input": "2021-04-10T22:17:47.537234Z",
     "iopub.status.busy": "2021-04-10T22:17:47.536973Z",
     "iopub.status.idle": "2021-04-10T22:17:47.541927Z",
     "shell.execute_reply": "2021-04-10T22:17:47.541097Z",
     "shell.execute_reply.started": "2021-04-10T22:17:47.537204Z"
    }
   },
   "outputs": [],
   "source": [
    "common_adj_df.sort_values(by=[\"Freq Hate Speech\"], ascending= False, inplace=True)"
   ]
  },
  {
   "cell_type": "code",
   "execution_count": 59,
   "metadata": {
    "execution": {
     "iopub.execute_input": "2021-04-10T22:17:47.741494Z",
     "iopub.status.busy": "2021-04-10T22:17:47.741320Z",
     "iopub.status.idle": "2021-04-10T22:17:47.990612Z",
     "shell.execute_reply": "2021-04-10T22:17:47.990092Z",
     "shell.execute_reply.started": "2021-04-10T22:17:47.741473Z"
    }
   },
   "outputs": [
    {
     "data": {
      "image/png": "[encoded data removed]",
      "text/plain": [
       "<Figure size 720x360 with 1 Axes>"
      ]
     },
     "metadata": {
      "needs_background": "light"
     },
     "output_type": "display_data"
    }
   ],
   "source": [
    "common_adj_df.plot(x='Adj', y=['Freq tot', 'Freq Hate Speech'], kind='bar', figsize=(10,5))\n",
    "plt.show()"
   ]
  },
  {
   "cell_type": "code",
   "execution_count": 60,
   "metadata": {
    "execution": {
     "iopub.execute_input": "2021-04-10T22:20:06.344441Z",
     "iopub.status.busy": "2021-04-10T22:20:06.344212Z",
     "iopub.status.idle": "2021-04-10T22:20:06.371097Z",
     "shell.execute_reply": "2021-04-10T22:20:06.370392Z",
     "shell.execute_reply.started": "2021-04-10T22:20:06.344416Z"
    }
   },
   "outputs": [],
   "source": [
    "pos_counter = {}\n",
    "for x in all_pos:\n",
    "    if x[1] in pos_counter:\n",
    "        pos_counter[x[1]] += 1\n",
    "    else:\n",
    "        pos_counter[x[1]] = 1\n",
    "        \n",
    "top_20_pos = {k: v for k, v in sorted(pos_counter.items(), key=lambda item: item[1], reverse=True)[:20]}"
   ]
  },
  {
   "cell_type": "code",
   "execution_count": 61,
   "metadata": {
    "execution": {
     "iopub.execute_input": "2021-04-10T22:20:22.305880Z",
     "iopub.status.busy": "2021-04-10T22:20:22.305635Z",
     "iopub.status.idle": "2021-04-10T22:20:22.316834Z",
     "shell.execute_reply": "2021-04-10T22:20:22.315939Z",
     "shell.execute_reply.started": "2021-04-10T22:20:22.305853Z"
    },
    "scrolled": true
   },
   "outputs": [
    {
     "data": {
      "text/html": [
       "<div>\n",
       "<style scoped>\n",
       "    .dataframe tbody tr th:only-of-type {\n",
       "        vertical-align: middle;\n",
       "    }\n",
       "\n",
       "    .dataframe tbody tr th {\n",
       "        vertical-align: top;\n",
       "    }\n",
       "\n",
       "    .dataframe thead th {\n",
       "        text-align: right;\n",
       "    }\n",
       "</style>\n",
       "<table border=\"1\" class=\"dataframe\">\n",
       "  <thead>\n",
       "    <tr style=\"text-align: right;\">\n",
       "      <th></th>\n",
       "      <th>index</th>\n",
       "      <th>Freq</th>\n",
       "    </tr>\n",
       "  </thead>\n",
       "  <tbody>\n",
       "    <tr>\n",
       "      <th>0</th>\n",
       "      <td>NOUN</td>\n",
       "      <td>26153</td>\n",
       "    </tr>\n",
       "    <tr>\n",
       "      <th>1</th>\n",
       "      <td>PROPN</td>\n",
       "      <td>22194</td>\n",
       "    </tr>\n",
       "    <tr>\n",
       "      <th>2</th>\n",
       "      <td>VERB</td>\n",
       "      <td>18206</td>\n",
       "    </tr>\n",
       "    <tr>\n",
       "      <th>3</th>\n",
       "      <td>ADJ</td>\n",
       "      <td>12077</td>\n",
       "    </tr>\n",
       "    <tr>\n",
       "      <th>4</th>\n",
       "      <td>ADV</td>\n",
       "      <td>5369</td>\n",
       "    </tr>\n",
       "    <tr>\n",
       "      <th>5</th>\n",
       "      <td>PRON</td>\n",
       "      <td>1167</td>\n",
       "    </tr>\n",
       "    <tr>\n",
       "      <th>6</th>\n",
       "      <td>INTJ</td>\n",
       "      <td>1092</td>\n",
       "    </tr>\n",
       "    <tr>\n",
       "      <th>7</th>\n",
       "      <td>SCONJ</td>\n",
       "      <td>1004</td>\n",
       "    </tr>\n",
       "    <tr>\n",
       "      <th>8</th>\n",
       "      <td>NUM</td>\n",
       "      <td>1000</td>\n",
       "    </tr>\n",
       "    <tr>\n",
       "      <th>9</th>\n",
       "      <td>ADP</td>\n",
       "      <td>807</td>\n",
       "    </tr>\n",
       "    <tr>\n",
       "      <th>10</th>\n",
       "      <td>AUX</td>\n",
       "      <td>579</td>\n",
       "    </tr>\n",
       "    <tr>\n",
       "      <th>11</th>\n",
       "      <td>DET</td>\n",
       "      <td>450</td>\n",
       "    </tr>\n",
       "    <tr>\n",
       "      <th>12</th>\n",
       "      <td>CCONJ</td>\n",
       "      <td>429</td>\n",
       "    </tr>\n",
       "    <tr>\n",
       "      <th>13</th>\n",
       "      <td>PART</td>\n",
       "      <td>359</td>\n",
       "    </tr>\n",
       "    <tr>\n",
       "      <th>14</th>\n",
       "      <td>X</td>\n",
       "      <td>276</td>\n",
       "    </tr>\n",
       "    <tr>\n",
       "      <th>15</th>\n",
       "      <td>SYM</td>\n",
       "      <td>48</td>\n",
       "    </tr>\n",
       "    <tr>\n",
       "      <th>16</th>\n",
       "      <td>PUNCT</td>\n",
       "      <td>35</td>\n",
       "    </tr>\n",
       "  </tbody>\n",
       "</table>\n",
       "</div>"
      ],
      "text/plain": [
       "    index   Freq\n",
       "0    NOUN  26153\n",
       "1   PROPN  22194\n",
       "2    VERB  18206\n",
       "3     ADJ  12077\n",
       "4     ADV   5369\n",
       "5    PRON   1167\n",
       "6    INTJ   1092\n",
       "7   SCONJ   1004\n",
       "8     NUM   1000\n",
       "9     ADP    807\n",
       "10    AUX    579\n",
       "11    DET    450\n",
       "12  CCONJ    429\n",
       "13   PART    359\n",
       "14      X    276\n",
       "15    SYM     48\n",
       "16  PUNCT     35"
      ]
     },
     "execution_count": 61,
     "metadata": {},
     "output_type": "execute_result"
    }
   ],
   "source": [
    "tpos = pd.DataFrame.from_dict(top_20_pos, orient=\"index\", columns=[\"Freq\"]).reset_index()\n",
    "tpos"
   ]
  },
  {
   "cell_type": "code",
   "execution_count": 62,
   "metadata": {},
   "outputs": [],
   "source": [
    "def counter_to_relative(counter):\n",
    "    total_count = sum(counter.values())\n",
    "    relative = {}\n",
    "    for key in counter:\n",
    "        relative[key] = counter[key] / total_count\n",
    "    return relative"
   ]
  },
  {
   "cell_type": "code",
   "execution_count": 63,
   "metadata": {},
   "outputs": [],
   "source": [
    "def relative_frequency(lst, element):\n",
    "    return lst.count(element) / float(len(lst))\n",
    "\n",
    "#words = ['apple', 'banana', 'apple', 'orange']\n",
    "#print(relative_frequency(words, 'apple'))"
   ]
  },
  {
   "cell_type": "code",
   "execution_count": 64,
   "metadata": {},
   "outputs": [
    {
     "ename": "KeyError",
     "evalue": "'Requested level (NOUN) does not match index name (None)'",
     "output_type": "error",
     "traceback": [
      "\u001b[1;31m---------------------------------------------------------------------------\u001b[0m",
      "\u001b[1;31mKeyError\u001b[0m                                  Traceback (most recent call last)",
      "\u001b[1;32m<ipython-input-64-a3ffdf9c8c1d>\u001b[0m in \u001b[0;36m<module>\u001b[1;34m\u001b[0m\n\u001b[1;32m----> 1\u001b[1;33m \u001b[0mprint\u001b[0m\u001b[1;33m(\u001b[0m\u001b[0mrelative_frequency\u001b[0m\u001b[1;33m(\u001b[0m\u001b[0mtpos\u001b[0m\u001b[1;33m[\u001b[0m\u001b[1;34m'index'\u001b[0m\u001b[1;33m]\u001b[0m\u001b[1;33m,\u001b[0m \u001b[1;34m'NOUN'\u001b[0m\u001b[1;33m)\u001b[0m\u001b[1;33m)\u001b[0m\u001b[1;33m\u001b[0m\u001b[1;33m\u001b[0m\u001b[0m\n\u001b[0m",
      "\u001b[1;32m<ipython-input-63-311765e4a892>\u001b[0m in \u001b[0;36mrelative_frequency\u001b[1;34m(lst, element)\u001b[0m\n\u001b[0;32m      1\u001b[0m \u001b[1;32mdef\u001b[0m \u001b[0mrelative_frequency\u001b[0m\u001b[1;33m(\u001b[0m\u001b[0mlst\u001b[0m\u001b[1;33m,\u001b[0m \u001b[0melement\u001b[0m\u001b[1;33m)\u001b[0m\u001b[1;33m:\u001b[0m\u001b[1;33m\u001b[0m\u001b[1;33m\u001b[0m\u001b[0m\n\u001b[1;32m----> 2\u001b[1;33m     \u001b[1;32mreturn\u001b[0m \u001b[0mlst\u001b[0m\u001b[1;33m.\u001b[0m\u001b[0mcount\u001b[0m\u001b[1;33m(\u001b[0m\u001b[0melement\u001b[0m\u001b[1;33m)\u001b[0m \u001b[1;33m/\u001b[0m \u001b[0mfloat\u001b[0m\u001b[1;33m(\u001b[0m\u001b[0mlen\u001b[0m\u001b[1;33m(\u001b[0m\u001b[0mlst\u001b[0m\u001b[1;33m)\u001b[0m\u001b[1;33m)\u001b[0m\u001b[1;33m\u001b[0m\u001b[1;33m\u001b[0m\u001b[0m\n\u001b[0m\u001b[0;32m      3\u001b[0m \u001b[1;33m\u001b[0m\u001b[0m\n\u001b[0;32m      4\u001b[0m \u001b[1;31m#words = ['apple', 'banana', 'apple', 'orange']\u001b[0m\u001b[1;33m\u001b[0m\u001b[1;33m\u001b[0m\u001b[1;33m\u001b[0m\u001b[0m\n\u001b[0;32m      5\u001b[0m \u001b[1;31m#print(relative_frequency(words, 'apple'))\u001b[0m\u001b[1;33m\u001b[0m\u001b[1;33m\u001b[0m\u001b[1;33m\u001b[0m\u001b[0m\n",
      "\u001b[1;32m~\\anaconda3\\lib\\site-packages\\pandas\\core\\series.py\u001b[0m in \u001b[0;36mcount\u001b[1;34m(self, level)\u001b[0m\n\u001b[0;32m   1768\u001b[0m \u001b[1;33m\u001b[0m\u001b[0m\n\u001b[0;32m   1769\u001b[0m         \u001b[1;32mif\u001b[0m \u001b[0misinstance\u001b[0m\u001b[1;33m(\u001b[0m\u001b[0mlevel\u001b[0m\u001b[1;33m,\u001b[0m \u001b[0mstr\u001b[0m\u001b[1;33m)\u001b[0m\u001b[1;33m:\u001b[0m\u001b[1;33m\u001b[0m\u001b[1;33m\u001b[0m\u001b[0m\n\u001b[1;32m-> 1770\u001b[1;33m             \u001b[0mlevel\u001b[0m \u001b[1;33m=\u001b[0m \u001b[0mself\u001b[0m\u001b[1;33m.\u001b[0m\u001b[0mindex\u001b[0m\u001b[1;33m.\u001b[0m\u001b[0m_get_level_number\u001b[0m\u001b[1;33m(\u001b[0m\u001b[0mlevel\u001b[0m\u001b[1;33m)\u001b[0m\u001b[1;33m\u001b[0m\u001b[1;33m\u001b[0m\u001b[0m\n\u001b[0m\u001b[0;32m   1771\u001b[0m \u001b[1;33m\u001b[0m\u001b[0m\n\u001b[0;32m   1772\u001b[0m         \u001b[0mlev\u001b[0m \u001b[1;33m=\u001b[0m \u001b[0mself\u001b[0m\u001b[1;33m.\u001b[0m\u001b[0mindex\u001b[0m\u001b[1;33m.\u001b[0m\u001b[0mlevels\u001b[0m\u001b[1;33m[\u001b[0m\u001b[0mlevel\u001b[0m\u001b[1;33m]\u001b[0m\u001b[1;33m\u001b[0m\u001b[1;33m\u001b[0m\u001b[0m\n",
      "\u001b[1;32m~\\anaconda3\\lib\\site-packages\\pandas\\core\\indexes\\base.py\u001b[0m in \u001b[0;36m_get_level_number\u001b[1;34m(self, level)\u001b[0m\n\u001b[0;32m   1413\u001b[0m \u001b[1;33m\u001b[0m\u001b[0m\n\u001b[0;32m   1414\u001b[0m     \u001b[1;32mdef\u001b[0m \u001b[0m_get_level_number\u001b[0m\u001b[1;33m(\u001b[0m\u001b[0mself\u001b[0m\u001b[1;33m,\u001b[0m \u001b[0mlevel\u001b[0m\u001b[1;33m)\u001b[0m \u001b[1;33m->\u001b[0m \u001b[0mint\u001b[0m\u001b[1;33m:\u001b[0m\u001b[1;33m\u001b[0m\u001b[1;33m\u001b[0m\u001b[0m\n\u001b[1;32m-> 1415\u001b[1;33m         \u001b[0mself\u001b[0m\u001b[1;33m.\u001b[0m\u001b[0m_validate_index_level\u001b[0m\u001b[1;33m(\u001b[0m\u001b[0mlevel\u001b[0m\u001b[1;33m)\u001b[0m\u001b[1;33m\u001b[0m\u001b[1;33m\u001b[0m\u001b[0m\n\u001b[0m\u001b[0;32m   1416\u001b[0m         \u001b[1;32mreturn\u001b[0m \u001b[1;36m0\u001b[0m\u001b[1;33m\u001b[0m\u001b[1;33m\u001b[0m\u001b[0m\n\u001b[0;32m   1417\u001b[0m \u001b[1;33m\u001b[0m\u001b[0m\n",
      "\u001b[1;32m~\\anaconda3\\lib\\site-packages\\pandas\\core\\indexes\\base.py\u001b[0m in \u001b[0;36m_validate_index_level\u001b[1;34m(self, level)\u001b[0m\n\u001b[0;32m   1408\u001b[0m                 )\n\u001b[0;32m   1409\u001b[0m         \u001b[1;32melif\u001b[0m \u001b[0mlevel\u001b[0m \u001b[1;33m!=\u001b[0m \u001b[0mself\u001b[0m\u001b[1;33m.\u001b[0m\u001b[0mname\u001b[0m\u001b[1;33m:\u001b[0m\u001b[1;33m\u001b[0m\u001b[1;33m\u001b[0m\u001b[0m\n\u001b[1;32m-> 1410\u001b[1;33m             raise KeyError(\n\u001b[0m\u001b[0;32m   1411\u001b[0m                 \u001b[1;34mf\"Requested level ({level}) does not match index name ({self.name})\"\u001b[0m\u001b[1;33m\u001b[0m\u001b[1;33m\u001b[0m\u001b[0m\n\u001b[0;32m   1412\u001b[0m             )\n",
      "\u001b[1;31mKeyError\u001b[0m: 'Requested level (NOUN) does not match index name (None)'"
     ]
    }
   ],
   "source": [
    "print(relative_frequency(tpos['index'], 'NOUN'))"
   ]
  },
  {
   "cell_type": "code",
   "execution_count": null,
   "metadata": {},
   "outputs": [],
   "source": [
    "absolute_frequencies_dict = {data['POS_spacy'][1]:data['POS_spacy'][1].count(x) for x in data['POS_spacy'][1]}"
   ]
  },
  {
   "cell_type": "code",
   "execution_count": null,
   "metadata": {},
   "outputs": [],
   "source": [
    "absolute_frequencies_dict = {top_20_pos:top_20_pos.count(x) for x in top_20_pos}"
   ]
  },
  {
   "cell_type": "code",
   "execution_count": 65,
   "metadata": {
    "execution": {
     "iopub.execute_input": "2021-04-10T22:21:26.137945Z",
     "iopub.status.busy": "2021-04-10T22:21:26.137601Z",
     "iopub.status.idle": "2021-04-10T22:21:26.149442Z",
     "shell.execute_reply": "2021-04-10T22:21:26.148701Z",
     "shell.execute_reply.started": "2021-04-10T22:21:26.137906Z"
    },
    "scrolled": true
   },
   "outputs": [],
   "source": [
    "pos_counter_hate = {}\n",
    "for x in all_pos_hate:\n",
    "    if x[1] in pos_counter_hate:\n",
    "        pos_counter_hate[x[1]] += 1\n",
    "    else:\n",
    "        pos_counter_hate[x[1]] = 1\n",
    "        \n",
    "top_20_pos_hate = {k: v for k, v in sorted(pos_counter_hate.items(), key=lambda item: item[1], reverse=True)[:20]}"
   ]
  },
  {
   "cell_type": "code",
   "execution_count": 66,
   "metadata": {
    "execution": {
     "iopub.execute_input": "2021-04-10T22:21:26.414061Z",
     "iopub.status.busy": "2021-04-10T22:21:26.413863Z",
     "iopub.status.idle": "2021-04-10T22:21:26.422580Z",
     "shell.execute_reply": "2021-04-10T22:21:26.421980Z",
     "shell.execute_reply.started": "2021-04-10T22:21:26.414040Z"
    }
   },
   "outputs": [
    {
     "data": {
      "text/html": [
       "<div>\n",
       "<style scoped>\n",
       "    .dataframe tbody tr th:only-of-type {\n",
       "        vertical-align: middle;\n",
       "    }\n",
       "\n",
       "    .dataframe tbody tr th {\n",
       "        vertical-align: top;\n",
       "    }\n",
       "\n",
       "    .dataframe thead th {\n",
       "        text-align: right;\n",
       "    }\n",
       "</style>\n",
       "<table border=\"1\" class=\"dataframe\">\n",
       "  <thead>\n",
       "    <tr style=\"text-align: right;\">\n",
       "      <th></th>\n",
       "      <th>index</th>\n",
       "      <th>Freq</th>\n",
       "    </tr>\n",
       "  </thead>\n",
       "  <tbody>\n",
       "    <tr>\n",
       "      <th>0</th>\n",
       "      <td>NOUN</td>\n",
       "      <td>4191</td>\n",
       "    </tr>\n",
       "    <tr>\n",
       "      <th>1</th>\n",
       "      <td>PROPN</td>\n",
       "      <td>3472</td>\n",
       "    </tr>\n",
       "    <tr>\n",
       "      <th>2</th>\n",
       "      <td>VERB</td>\n",
       "      <td>3083</td>\n",
       "    </tr>\n",
       "    <tr>\n",
       "      <th>3</th>\n",
       "      <td>ADJ</td>\n",
       "      <td>2276</td>\n",
       "    </tr>\n",
       "    <tr>\n",
       "      <th>4</th>\n",
       "      <td>ADV</td>\n",
       "      <td>891</td>\n",
       "    </tr>\n",
       "    <tr>\n",
       "      <th>5</th>\n",
       "      <td>SCONJ</td>\n",
       "      <td>175</td>\n",
       "    </tr>\n",
       "    <tr>\n",
       "      <th>6</th>\n",
       "      <td>PRON</td>\n",
       "      <td>157</td>\n",
       "    </tr>\n",
       "    <tr>\n",
       "      <th>7</th>\n",
       "      <td>NUM</td>\n",
       "      <td>149</td>\n",
       "    </tr>\n",
       "    <tr>\n",
       "      <th>8</th>\n",
       "      <td>INTJ</td>\n",
       "      <td>122</td>\n",
       "    </tr>\n",
       "    <tr>\n",
       "      <th>9</th>\n",
       "      <td>ADP</td>\n",
       "      <td>120</td>\n",
       "    </tr>\n",
       "    <tr>\n",
       "      <th>10</th>\n",
       "      <td>DET</td>\n",
       "      <td>86</td>\n",
       "    </tr>\n",
       "    <tr>\n",
       "      <th>11</th>\n",
       "      <td>CCONJ</td>\n",
       "      <td>81</td>\n",
       "    </tr>\n",
       "    <tr>\n",
       "      <th>12</th>\n",
       "      <td>AUX</td>\n",
       "      <td>75</td>\n",
       "    </tr>\n",
       "    <tr>\n",
       "      <th>13</th>\n",
       "      <td>PART</td>\n",
       "      <td>59</td>\n",
       "    </tr>\n",
       "    <tr>\n",
       "      <th>14</th>\n",
       "      <td>X</td>\n",
       "      <td>34</td>\n",
       "    </tr>\n",
       "    <tr>\n",
       "      <th>15</th>\n",
       "      <td>PUNCT</td>\n",
       "      <td>2</td>\n",
       "    </tr>\n",
       "    <tr>\n",
       "      <th>16</th>\n",
       "      <td>SYM</td>\n",
       "      <td>1</td>\n",
       "    </tr>\n",
       "  </tbody>\n",
       "</table>\n",
       "</div>"
      ],
      "text/plain": [
       "    index  Freq\n",
       "0    NOUN  4191\n",
       "1   PROPN  3472\n",
       "2    VERB  3083\n",
       "3     ADJ  2276\n",
       "4     ADV   891\n",
       "5   SCONJ   175\n",
       "6    PRON   157\n",
       "7     NUM   149\n",
       "8    INTJ   122\n",
       "9     ADP   120\n",
       "10    DET    86\n",
       "11  CCONJ    81\n",
       "12    AUX    75\n",
       "13   PART    59\n",
       "14      X    34\n",
       "15  PUNCT     2\n",
       "16    SYM     1"
      ]
     },
     "execution_count": 66,
     "metadata": {},
     "output_type": "execute_result"
    }
   ],
   "source": [
    "pd.DataFrame.from_dict(top_20_pos_hate, orient=\"index\", columns=[\"Freq\"]).reset_index()"
   ]
  },
  {
   "cell_type": "code",
   "execution_count": 67,
   "metadata": {},
   "outputs": [
    {
     "data": {
      "text/html": [
       "<div>\n",
       "<style scoped>\n",
       "    .dataframe tbody tr th:only-of-type {\n",
       "        vertical-align: middle;\n",
       "    }\n",
       "\n",
       "    .dataframe tbody tr th {\n",
       "        vertical-align: top;\n",
       "    }\n",
       "\n",
       "    .dataframe thead th {\n",
       "        text-align: right;\n",
       "    }\n",
       "</style>\n",
       "<table border=\"1\" class=\"dataframe\">\n",
       "  <thead>\n",
       "    <tr style=\"text-align: right;\">\n",
       "      <th></th>\n",
       "      <th>Total</th>\n",
       "      <th>Freq Total</th>\n",
       "      <th>Hate Speech</th>\n",
       "      <th>Freq Hate Speech</th>\n",
       "    </tr>\n",
       "  </thead>\n",
       "  <tbody>\n",
       "    <tr>\n",
       "      <th>0</th>\n",
       "      <td>NOUN</td>\n",
       "      <td>26153</td>\n",
       "      <td>NOUN</td>\n",
       "      <td>4191</td>\n",
       "    </tr>\n",
       "    <tr>\n",
       "      <th>1</th>\n",
       "      <td>PROPN</td>\n",
       "      <td>22194</td>\n",
       "      <td>PROPN</td>\n",
       "      <td>3472</td>\n",
       "    </tr>\n",
       "    <tr>\n",
       "      <th>2</th>\n",
       "      <td>VERB</td>\n",
       "      <td>18206</td>\n",
       "      <td>VERB</td>\n",
       "      <td>3083</td>\n",
       "    </tr>\n",
       "    <tr>\n",
       "      <th>3</th>\n",
       "      <td>ADJ</td>\n",
       "      <td>12077</td>\n",
       "      <td>ADJ</td>\n",
       "      <td>2276</td>\n",
       "    </tr>\n",
       "    <tr>\n",
       "      <th>4</th>\n",
       "      <td>ADV</td>\n",
       "      <td>5369</td>\n",
       "      <td>ADV</td>\n",
       "      <td>891</td>\n",
       "    </tr>\n",
       "  </tbody>\n",
       "</table>\n",
       "</div>"
      ],
      "text/plain": [
       "   Total  Freq Total Hate Speech  Freq Hate Speech\n",
       "0   NOUN       26153        NOUN              4191\n",
       "1  PROPN       22194       PROPN              3472\n",
       "2   VERB       18206        VERB              3083\n",
       "3    ADJ       12077         ADJ              2276\n",
       "4    ADV        5369         ADV               891"
      ]
     },
     "execution_count": 67,
     "metadata": {},
     "output_type": "execute_result"
    }
   ],
   "source": [
    "top_pos = {\"Total\": top_20_pos.keys(), \"Freq Total\": top_20_pos.values(), \"Hate Speech\": top_20_pos_hate.keys(), \"Freq Hate Speech\": top_20_pos_hate.values()}\n",
    "top_pos = pd.DataFrame(top_pos)\n",
    "top_pos.head()"
   ]
  },
  {
   "cell_type": "markdown",
   "metadata": {
    "collapsed": "true"
   },
   "source": [
    "#### Sentiment analysis"
   ]
  },
  {
   "cell_type": "code",
   "execution_count": 68,
   "metadata": {},
   "outputs": [],
   "source": [
    "# Sentiment Analysis by nltk VADER\n",
    "sia = vd.SentimentIntensityAnalyzer()\n",
    "data['sentiment_score'] = data['lemmatized'].apply(lambda x: sum([sia.polarity_scores(i)['compound'] for i in word_tokenize(x)]))"
   ]
  },
  {
   "cell_type": "code",
   "execution_count": 69,
   "metadata": {},
   "outputs": [
    {
     "data": {
      "text/plain": [
       "array([ 0.    ,  1.345 , -0.0613, ...,  0.7524, -0.1933, -0.2308])"
      ]
     },
     "execution_count": 69,
     "metadata": {},
     "output_type": "execute_result"
    }
   ],
   "source": [
    "data.sentiment_score.unique()"
   ]
  },
  {
   "cell_type": "code",
   "execution_count": 70,
   "metadata": {},
   "outputs": [
    {
     "name": "stdout",
     "output_type": "stream",
     "text": [
      "-0.11454004822119156\n"
     ]
    }
   ],
   "source": [
    "col1 = data['label']\n",
    "col2 = data['sentiment_score']\n",
    "correlation_df = col1.corr(col2)\n",
    "print(correlation_df)"
   ]
  },
  {
   "cell_type": "code",
   "execution_count": 71,
   "metadata": {},
   "outputs": [],
   "source": [
    "# RELATION BTW LABEL AND SENTIMETN_SCORE"
   ]
  },
  {
   "cell_type": "markdown",
   "metadata": {
    "collapsed": "true"
   },
   "source": [
    "# SPELLING"
   ]
  },
  {
   "cell_type": "code",
   "execution_count": 72,
   "metadata": {},
   "outputs": [
    {
     "name": "stderr",
     "output_type": "stream",
     "text": [
      "[nltk_data] Downloading package words to\n",
      "[nltk_data]     C:\\Users\\marti\\AppData\\Roaming\\nltk_data...\n",
      "[nltk_data]   Package words is already up-to-date!\n"
     ]
    },
    {
     "data": {
      "text/plain": [
       "True"
      ]
     },
     "execution_count": 72,
     "metadata": {},
     "output_type": "execute_result"
    }
   ],
   "source": [
    "import nltk\n",
    "nltk.download('words')"
   ]
  },
  {
   "cell_type": "code",
   "execution_count": 73,
   "metadata": {},
   "outputs": [],
   "source": [
    "def unusual_words(text):\n",
    "    text_vocab = set(w.lower() for w in text if w.isalpha())\n",
    "    english_vocab = set(w.lower() for w in nltk.corpus.words.words())\n",
    "    unusual = text_vocab.difference(english_vocab)\n",
    "    return sorted(unusual)"
   ]
  },
  {
   "cell_type": "code",
   "execution_count": 74,
   "metadata": {},
   "outputs": [
    {
     "name": "stdout",
     "output_type": "stream",
     "text": [
      "['africa', 'aragorn', 'asked', 'asking', 'asmodean', 'bb', 'braun', 'btl', 'bugsy', 'calman', 'camie', 'cf', 'cheaper', 'congrats', 'cripppinnn', 'czynski', 'dallas', 'downloads', 'dr', 'dublin', 'ebonics', 'edmonton', 'einherjer', 'embarassing', 'fbi', 'flanative', 'groupid', 'gyspsies', 'haha', 'hahahahahaha', 'heil', 'hups', 'hz', 'ii', 'iii', 'im', 'internet', 'iv', 'kaboom', 'kid', 'kidding', 'kr', 'lk', 'located', 'lol', 'meh', 'minnesota', 'mmm', 'motivated', 'mrbadgersir', 'msciwoj', 'muahaha', 'needed', 'neofolk', 'nigga', 'nordenwulf', 'okay', 'opendocument', 'opps', 'oz', 'patrioticmama', 'pawel', 'pffffft', 'pm', 'politifuldm', 'reproducing', 'rumour', 'ssupreme', 'stormfront', 'studying', 'sveiks', 'swva', 'tereasa', 'tf', 'threadid', 'tnb', 'topix', 'tv', 'twp', 'ty', 'usa', 'vancouver', 'wehrwolf', 'weku', 'whiteutopian', 'wierd', 'wiki', 'wp', 'wpww', 'wrs', 'wulfi', 'wv', 'youtube', 'yuenglings', 'yup', 'zdrowie', 'zoe']\n"
     ]
    }
   ],
   "source": [
    "crt = unusual_words(data['lemmatized'])\n",
    "print(crt)"
   ]
  },
  {
   "cell_type": "code",
   "execution_count": 75,
   "metadata": {
    "scrolled": true
   },
   "outputs": [
    {
     "data": {
      "text/plain": [
       "['africa',\n",
       " 'dragoon',\n",
       " 'asked',\n",
       " 'asking',\n",
       " 'asmodean',\n",
       " 'by',\n",
       " 'brain',\n",
       " 'bal',\n",
       " 'busy',\n",
       " 'cabman',\n",
       " 'came',\n",
       " 'cf',\n",
       " 'cheaper',\n",
       " 'congress',\n",
       " 'cripppinnn',\n",
       " 'czynski',\n",
       " 'dallas',\n",
       " 'download',\n",
       " 'dr',\n",
       " 'dublin',\n",
       " 'tonics',\n",
       " 'edmonton',\n",
       " 'einherjer',\n",
       " 'embarrassing',\n",
       " 'foi',\n",
       " 'flanative',\n",
       " 'grouped',\n",
       " 'gypsies',\n",
       " 'hata',\n",
       " 'hahahahahaha',\n",
       " 'heal',\n",
       " 'huts',\n",
       " 'he',\n",
       " 'ii',\n",
       " 'iii',\n",
       " 'in',\n",
       " 'internet',\n",
       " 'iv',\n",
       " 'boom',\n",
       " 'kid',\n",
       " 'bidding',\n",
       " 'or',\n",
       " 'll',\n",
       " 'located',\n",
       " 'll',\n",
       " 'me',\n",
       " 'minnesota',\n",
       " 'mmm',\n",
       " 'motivate',\n",
       " 'mrbadgersir',\n",
       " 'msciwoj',\n",
       " 'muahaha',\n",
       " 'needed',\n",
       " 'norfolk',\n",
       " 'night',\n",
       " 'nordenwulf',\n",
       " 'okay',\n",
       " 'opendocument',\n",
       " 'open',\n",
       " 'oz',\n",
       " 'patrioticmama',\n",
       " 'panel',\n",
       " 'pffffft',\n",
       " 'pm',\n",
       " 'politifuldm',\n",
       " 'reproducing',\n",
       " 'rumour',\n",
       " 'supreme',\n",
       " 'stormfront',\n",
       " 'studying',\n",
       " 'veins',\n",
       " 'saw',\n",
       " 'theresa',\n",
       " 'of',\n",
       " 'thread',\n",
       " 'tub',\n",
       " 'topic',\n",
       " 'to',\n",
       " 'two',\n",
       " 'ty',\n",
       " 'us',\n",
       " 'vancouver',\n",
       " 'wehrwolf',\n",
       " 'wetu',\n",
       " 'whiteutopian',\n",
       " 'wired',\n",
       " 'wiki',\n",
       " 'up',\n",
       " 'www',\n",
       " 'was',\n",
       " 'wolf',\n",
       " 'we',\n",
       " 'couture',\n",
       " 'yuenglings',\n",
       " 'up',\n",
       " 'zdrowie',\n",
       " 'toe']"
      ]
     },
     "execution_count": 75,
     "metadata": {},
     "output_type": "execute_result"
    }
   ],
   "source": [
    "corrected_w =[TextBlob(word).correct().words[0] for word in crt]\n",
    "corrected_w"
   ]
  },
  {
   "cell_type": "code",
   "execution_count": 76,
   "metadata": {},
   "outputs": [],
   "source": [
    "from autocorrect import Speller\n",
    "def autocorr(text):\n",
    "    crt = unusual_words(text)\n",
    "    for t in crt:\n",
    "        auto = Speller(lang='en')\n",
    "        corr = auto(t)\n",
    "        if t != corr:\n",
    "            print(t, corr)"
   ]
  },
  {
   "cell_type": "code",
   "execution_count": 77,
   "metadata": {
    "scrolled": true
   },
   "outputs": [
    {
     "name": "stdout",
     "output_type": "stream",
     "text": [
      "aragorn dragon\n",
      "btl bl\n",
      "bugsy bugs\n",
      "calman salman\n",
      "camie came\n",
      "congrats contrast\n",
      "embarassing embarrassing\n",
      "groupid grouped\n",
      "heil heir\n",
      "hups ups\n",
      "kaboom boom\n",
      "neofolk norfolk\n",
      "nigga nigra\n",
      "opps apps\n",
      "pawel panel\n",
      "pffffft ffffff\n",
      "ssupreme supreme\n",
      "stormfront storefront\n",
      "sveiks speaks\n",
      "swva swa\n",
      "tereasa teresa\n",
      "threadid threaded\n",
      "tnb nb\n",
      "topix topic\n",
      "wehrwolf werewolf\n",
      "weku wek\n",
      "wierd weird\n",
      "wpww www\n",
      "wulfi multi\n"
     ]
    }
   ],
   "source": [
    "autocorr(data['lemmatized']) ##"
   ]
  },
  {
   "cell_type": "code",
   "execution_count": null,
   "metadata": {},
   "outputs": [],
   "source": []
  },
  {
   "cell_type": "code",
   "execution_count": 78,
   "metadata": {},
   "outputs": [],
   "source": [
    "# sentiment polarity TEXTBLOB https://textblob.readthedocs.io/en/dev/quickstart.html"
   ]
  },
  {
   "cell_type": "code",
   "execution_count": null,
   "metadata": {},
   "outputs": [],
   "source": []
  },
  {
   "cell_type": "markdown",
   "metadata": {
    "collapsed": "true"
   },
   "source": [
    "# MODELS"
   ]
  },
  {
   "cell_type": "code",
   "execution_count": 79,
   "metadata": {},
   "outputs": [
    {
     "data": {
      "text/plain": [
       "(10926, 13170)"
      ]
     },
     "execution_count": 79,
     "metadata": {},
     "output_type": "execute_result"
    }
   ],
   "source": [
    "tfidf_vectorizer = TfidfVectorizer()\n",
    "X_class = tfidf_vectorizer.fit_transform(data['lemmatized'])\n",
    "y_class = data[\"label\"]\n",
    "X_class.shape"
   ]
  },
  {
   "cell_type": "code",
   "execution_count": 80,
   "metadata": {},
   "outputs": [],
   "source": [
    "from sklearn.model_selection import train_test_split\n",
    "X_train, X_test, y_train, y_test = train_test_split(X_class, y_class, test_size=0.3, random_state=42, stratify=y_class)"
   ]
  },
  {
   "cell_type": "code",
   "execution_count": 81,
   "metadata": {},
   "outputs": [],
   "source": [
    "from sklearn.metrics import f1_score, accuracy_score, precision_score, recall_score, classification_report, confusion_matrix\n",
    "from sklearn.naive_bayes import MultinomialNB\n",
    "from sklearn import tree\n",
    "from sklearn.tree import DecisionTreeRegressor\n",
    "from sklearn.neighbors import KNeighborsClassifier\n",
    "from sklearn.svm import SVC\n",
    "import sklearn as sk\n",
    "from sklearn.neural_network import MLPClassifier\n",
    "from sklearn.linear_model import LogisticRegression\n",
    "from sklearn.ensemble import RandomForestClassifier\n",
    "from sklearn import svm\n",
    "random_state = np.random.RandomState(0)"
   ]
  },
  {
   "cell_type": "code",
   "execution_count": 82,
   "metadata": {},
   "outputs": [],
   "source": [
    "# Multinomial Naive Bayes\n",
    "mnb = MultinomialNB(alpha=0.01)\n",
    "mnb.fit(X_train, y_train)\n",
    "y_mnb = mnb.predict(X_test)"
   ]
  },
  {
   "cell_type": "code",
   "execution_count": 83,
   "metadata": {},
   "outputs": [],
   "source": [
    "as_mnb = accuracy_score(y_test, y_mnb)\n",
    "f1s_mnb = f1_score(y_test, y_mnb, average= \"macro\")\n",
    "prec_mnb = precision_score(y_test, y_mnb)\n",
    "rec_mnb = recall_score(y_test, y_mnb, average='macro')"
   ]
  },
  {
   "cell_type": "code",
   "execution_count": 84,
   "metadata": {},
   "outputs": [
    {
     "name": "stdout",
     "output_type": "stream",
     "text": [
      "[[2693  157]\n",
      " [ 322  106]]\n",
      "              precision    recall  f1-score   support\n",
      "\n",
      "           0       0.89      0.94      0.92      2850\n",
      "           1       0.40      0.25      0.31       428\n",
      "\n",
      "    accuracy                           0.85      3278\n",
      "   macro avg       0.65      0.60      0.61      3278\n",
      "weighted avg       0.83      0.85      0.84      3278\n",
      "\n",
      "0.8538743136058572\n"
     ]
    }
   ],
   "source": [
    "print(confusion_matrix(y_test,y_mnb))\n",
    "print(classification_report(y_test,y_mnb))\n",
    "print(accuracy_score(y_test, y_mnb))"
   ]
  },
  {
   "cell_type": "code",
   "execution_count": 85,
   "metadata": {},
   "outputs": [
    {
     "name": "stdout",
     "output_type": "stream",
     "text": [
      "[LibSVM]"
     ]
    }
   ],
   "source": [
    "# Support Vector Machine\n",
    "svc = SVC(verbose=10)\n",
    "svc.fit(X_train, y_train)\n",
    "y_svc = svc.predict(X_test)"
   ]
  },
  {
   "cell_type": "code",
   "execution_count": 86,
   "metadata": {},
   "outputs": [],
   "source": [
    "as_svc = accuracy_score(y_test, y_svc)\n",
    "f1s_svc = f1_score(y_test, y_svc, average=\"macro\")\n",
    "prec_svc = precision_score(y_test, y_svc)\n",
    "rec_svc = recall_score(y_test, y_svc, average='macro')"
   ]
  },
  {
   "cell_type": "code",
   "execution_count": 87,
   "metadata": {},
   "outputs": [
    {
     "name": "stdout",
     "output_type": "stream",
     "text": [
      "[[2847    3]\n",
      " [ 407   21]]\n",
      "              precision    recall  f1-score   support\n",
      "\n",
      "           0       0.87      1.00      0.93      2850\n",
      "           1       0.88      0.05      0.09       428\n",
      "\n",
      "    accuracy                           0.87      3278\n",
      "   macro avg       0.87      0.52      0.51      3278\n",
      "weighted avg       0.87      0.87      0.82      3278\n",
      "\n",
      "0.8749237339841367\n"
     ]
    }
   ],
   "source": [
    "print(confusion_matrix(y_test,y_svc))\n",
    "print(classification_report(y_test,y_svc))\n",
    "print(accuracy_score(y_test, y_svc))"
   ]
  },
  {
   "cell_type": "code",
   "execution_count": 88,
   "metadata": {},
   "outputs": [],
   "source": [
    "# Logistic\n",
    "log_fit = LogisticRegression(random_state=42).fit(X_train, y_train)\n",
    "y_log = log_fit.predict(X_test)"
   ]
  },
  {
   "cell_type": "code",
   "execution_count": 89,
   "metadata": {},
   "outputs": [],
   "source": [
    "as_log = accuracy_score(y_test, y_log)\n",
    "f1s_log = f1_score(y_test, y_log, average= \"macro\")\n",
    "prec_log = precision_score(y_test, y_log)\n",
    "rec_log = recall_score(y_test, y_log, average='macro')"
   ]
  },
  {
   "cell_type": "code",
   "execution_count": 121,
   "metadata": {},
   "outputs": [
    {
     "name": "stdout",
     "output_type": "stream",
     "text": [
      "[[324 105]\n",
      " [138 290]]\n",
      "              precision    recall  f1-score   support\n",
      "\n",
      "           0       0.70      0.76      0.73       429\n",
      "           1       0.73      0.68      0.70       428\n",
      "\n",
      "    accuracy                           0.72       857\n",
      "   macro avg       0.72      0.72      0.72       857\n",
      "weighted avg       0.72      0.72      0.72       857\n",
      "\n",
      "0.7164527421236873\n"
     ]
    }
   ],
   "source": [
    "print(confusion_matrix(y_test,y_log))\n",
    "print(classification_report(y_test,y_log))\n",
    "print(accuracy_score(y_test, y_log))"
   ]
  },
  {
   "cell_type": "code",
   "execution_count": 90,
   "metadata": {},
   "outputs": [],
   "source": [
    "# Random Forest\n",
    "rf = RandomForestClassifier(n_estimators=10, random_state=42)\n",
    "rf.fit(X_train, y_train) \n",
    "y_rf = rf.predict(X_test)"
   ]
  },
  {
   "cell_type": "code",
   "execution_count": 91,
   "metadata": {},
   "outputs": [],
   "source": [
    "as_rf = accuracy_score(y_test, y_rf)\n",
    "f1s_rf = f1_score(y_test, y_rf, average= \"macro\")\n",
    "prec_rf = precision_score(y_test, y_rf)\n",
    "rec_rf = recall_score(y_test, y_rf, average='macro')"
   ]
  },
  {
   "cell_type": "code",
   "execution_count": 92,
   "metadata": {},
   "outputs": [
    {
     "name": "stdout",
     "output_type": "stream",
     "text": [
      "[[2815   35]\n",
      " [ 380   48]]\n",
      "              precision    recall  f1-score   support\n",
      "\n",
      "           0       0.88      0.99      0.93      2850\n",
      "           1       0.58      0.11      0.19       428\n",
      "\n",
      "    accuracy                           0.87      3278\n",
      "   macro avg       0.73      0.55      0.56      3278\n",
      "weighted avg       0.84      0.87      0.83      3278\n",
      "\n",
      "0.87339841366687\n"
     ]
    }
   ],
   "source": [
    "print(confusion_matrix(y_test,y_rf))\n",
    "print(classification_report(y_test,y_rf))\n",
    "print(accuracy_score(y_test, y_rf))"
   ]
  },
  {
   "cell_type": "code",
   "execution_count": 93,
   "metadata": {},
   "outputs": [
    {
     "name": "stderr",
     "output_type": "stream",
     "text": [
      "C:\\Users\\marti\\anaconda3\\lib\\site-packages\\sklearn\\neural_network\\_multilayer_perceptron.py:614: ConvergenceWarning: Stochastic Optimizer: Maximum iterations (10) reached and the optimization hasn't converged yet.\n",
      "  warnings.warn(\n"
     ]
    }
   ],
   "source": [
    "# Neural Networks\n",
    "NN = MLPClassifier(random_state=42, max_iter=10)\n",
    "NN.fit(X_train, y_train)\n",
    "#NN.score(X_test, y_test)\n",
    "y_NN = NN.predict(X_test)"
   ]
  },
  {
   "cell_type": "code",
   "execution_count": 94,
   "metadata": {},
   "outputs": [],
   "source": [
    "as_NN = accuracy_score(y_test, y_NN)\n",
    "f1s_NN = f1_score(y_test, y_NN, average= \"macro\")\n",
    "prec_NN = precision_score(y_test, y_NN)\n",
    "rec_NN = recall_score(y_test, y_NN, average='macro')"
   ]
  },
  {
   "cell_type": "code",
   "execution_count": 95,
   "metadata": {},
   "outputs": [
    {
     "name": "stdout",
     "output_type": "stream",
     "text": [
      "[[2737  113]\n",
      " [ 311  117]]\n",
      "              precision    recall  f1-score   support\n",
      "\n",
      "           0       0.90      0.96      0.93      2850\n",
      "           1       0.51      0.27      0.36       428\n",
      "\n",
      "    accuracy                           0.87      3278\n",
      "   macro avg       0.70      0.62      0.64      3278\n",
      "weighted avg       0.85      0.87      0.85      3278\n",
      "\n",
      "0.8706528370957901\n"
     ]
    }
   ],
   "source": [
    "print(confusion_matrix(y_test,y_NN))\n",
    "print(classification_report(y_test,y_NN))\n",
    "print(accuracy_score(y_test, y_NN))"
   ]
  },
  {
   "cell_type": "code",
   "execution_count": 96,
   "metadata": {},
   "outputs": [],
   "source": [
    "# Decision Tree\n",
    "from sklearn.tree import DecisionTreeClassifier\n",
    "tree = DecisionTreeClassifier()\n",
    "tree.fit(X_train, y_train)\n",
    "y_tree = tree.predict(X_test)"
   ]
  },
  {
   "cell_type": "code",
   "execution_count": 97,
   "metadata": {},
   "outputs": [],
   "source": [
    "as_tree = accuracy_score(y_test, y_tree)\n",
    "f1s_tree = f1_score(y_test, y_tree, average= \"macro\")\n",
    "prec_tree = precision_score(y_test, y_tree)\n",
    "rec_tree = recall_score(y_test, y_tree, average='macro')"
   ]
  },
  {
   "cell_type": "code",
   "execution_count": 98,
   "metadata": {},
   "outputs": [
    {
     "name": "stdout",
     "output_type": "stream",
     "text": [
      "[[2609  241]\n",
      " [ 274  154]]\n",
      "              precision    recall  f1-score   support\n",
      "\n",
      "           0       0.90      0.92      0.91      2850\n",
      "           1       0.39      0.36      0.37       428\n",
      "\n",
      "    accuracy                           0.84      3278\n",
      "   macro avg       0.65      0.64      0.64      3278\n",
      "weighted avg       0.84      0.84      0.84      3278\n",
      "\n",
      "0.8428920073215376\n"
     ]
    }
   ],
   "source": [
    "print(confusion_matrix(y_test,y_tree))\n",
    "print(classification_report(y_test,y_tree))\n",
    "print(accuracy_score(y_test, y_tree))"
   ]
  },
  {
   "cell_type": "code",
   "execution_count": 99,
   "metadata": {},
   "outputs": [],
   "source": [
    "# K-Nearest Neighbors\n",
    "knn = KNeighborsClassifier()\n",
    "knn.fit(X_train, y_train)\n",
    "y_knn = knn.predict(X_test)"
   ]
  },
  {
   "cell_type": "code",
   "execution_count": 100,
   "metadata": {},
   "outputs": [],
   "source": [
    "as_knn = accuracy_score(y_test, y_knn)\n",
    "f1s_knn = f1_score(y_test, y_knn, average= \"macro\")\n",
    "prec_knn = precision_score(y_test, y_knn)\n",
    "rec_knn = recall_score(y_test, y_knn, average='macro')"
   ]
  },
  {
   "cell_type": "code",
   "execution_count": 101,
   "metadata": {},
   "outputs": [
    {
     "name": "stdout",
     "output_type": "stream",
     "text": [
      "[[2850    0]\n",
      " [ 420    8]]\n",
      "              precision    recall  f1-score   support\n",
      "\n",
      "           0       0.87      1.00      0.93      2850\n",
      "           1       1.00      0.02      0.04       428\n",
      "\n",
      "    accuracy                           0.87      3278\n",
      "   macro avg       0.94      0.51      0.48      3278\n",
      "weighted avg       0.89      0.87      0.81      3278\n",
      "\n",
      "0.8718730933496034\n"
     ]
    }
   ],
   "source": [
    "print(confusion_matrix(y_test,y_knn))\n",
    "print(classification_report(y_test,y_knn))\n",
    "print(accuracy_score(y_test, y_knn))"
   ]
  },
  {
   "cell_type": "code",
   "execution_count": 102,
   "metadata": {},
   "outputs": [
    {
     "data": {
      "text/html": [
       "<style  type=\"text/css\" >\n",
       "#T_baefdfe5_9c41_11eb_9980_dd5ff9df9a67row2_col0,#T_baefdfe5_9c41_11eb_9980_dd5ff9df9a67row5_col2,#T_baefdfe5_9c41_11eb_9980_dd5ff9df9a67row5_col3,#T_baefdfe5_9c41_11eb_9980_dd5ff9df9a67row6_col1{\n",
       "            background-color:  lightgreen;\n",
       "        }#T_baefdfe5_9c41_11eb_9980_dd5ff9df9a67row5_col0,#T_baefdfe5_9c41_11eb_9980_dd5ff9df9a67row5_col1,#T_baefdfe5_9c41_11eb_9980_dd5ff9df9a67row6_col2,#T_baefdfe5_9c41_11eb_9980_dd5ff9df9a67row6_col3{\n",
       "            background-color:  tomato;\n",
       "        }</style><table id=\"T_baefdfe5_9c41_11eb_9980_dd5ff9df9a67\" ><thead>    <tr>        <th class=\"blank level0\" ></th>        <th class=\"col_heading level0 col0\" >Accuracy Score</th>        <th class=\"col_heading level0 col1\" >Precision Score</th>        <th class=\"col_heading level0 col2\" >Recall Score</th>        <th class=\"col_heading level0 col3\" >F1 Score</th>    </tr></thead><tbody>\n",
       "                <tr>\n",
       "                        <th id=\"T_baefdfe5_9c41_11eb_9980_dd5ff9df9a67level0_row0\" class=\"row_heading level0 row0\" >Multinomial Naive Bayes</th>\n",
       "                        <td id=\"T_baefdfe5_9c41_11eb_9980_dd5ff9df9a67row0_col0\" class=\"data row0 col0\" >0.853874</td>\n",
       "                        <td id=\"T_baefdfe5_9c41_11eb_9980_dd5ff9df9a67row0_col1\" class=\"data row0 col1\" >0.403042</td>\n",
       "                        <td id=\"T_baefdfe5_9c41_11eb_9980_dd5ff9df9a67row0_col2\" class=\"data row0 col2\" >0.596288</td>\n",
       "                        <td id=\"T_baefdfe5_9c41_11eb_9980_dd5ff9df9a67row0_col3\" class=\"data row0 col3\" >0.612565</td>\n",
       "            </tr>\n",
       "            <tr>\n",
       "                        <th id=\"T_baefdfe5_9c41_11eb_9980_dd5ff9df9a67level0_row1\" class=\"row_heading level0 row1\" >Support Vector Machine</th>\n",
       "                        <td id=\"T_baefdfe5_9c41_11eb_9980_dd5ff9df9a67row1_col0\" class=\"data row1 col0\" >0.874924</td>\n",
       "                        <td id=\"T_baefdfe5_9c41_11eb_9980_dd5ff9df9a67row1_col1\" class=\"data row1 col1\" >0.875000</td>\n",
       "                        <td id=\"T_baefdfe5_9c41_11eb_9980_dd5ff9df9a67row1_col2\" class=\"data row1 col2\" >0.524006</td>\n",
       "                        <td id=\"T_baefdfe5_9c41_11eb_9980_dd5ff9df9a67row1_col3\" class=\"data row1 col3\" >0.512876</td>\n",
       "            </tr>\n",
       "            <tr>\n",
       "                        <th id=\"T_baefdfe5_9c41_11eb_9980_dd5ff9df9a67level0_row2\" class=\"row_heading level0 row2\" >Logistic Regression</th>\n",
       "                        <td id=\"T_baefdfe5_9c41_11eb_9980_dd5ff9df9a67row2_col0\" class=\"data row2 col0\" >0.875229</td>\n",
       "                        <td id=\"T_baefdfe5_9c41_11eb_9980_dd5ff9df9a67row2_col1\" class=\"data row2 col1\" >0.743590</td>\n",
       "                        <td id=\"T_baefdfe5_9c41_11eb_9980_dd5ff9df9a67row2_col2\" class=\"data row2 col2\" >0.532124</td>\n",
       "                        <td id=\"T_baefdfe5_9c41_11eb_9980_dd5ff9df9a67row2_col3\" class=\"data row2 col3\" >0.528513</td>\n",
       "            </tr>\n",
       "            <tr>\n",
       "                        <th id=\"T_baefdfe5_9c41_11eb_9980_dd5ff9df9a67level0_row3\" class=\"row_heading level0 row3\" >Random Forest</th>\n",
       "                        <td id=\"T_baefdfe5_9c41_11eb_9980_dd5ff9df9a67row3_col0\" class=\"data row3 col0\" >0.873398</td>\n",
       "                        <td id=\"T_baefdfe5_9c41_11eb_9980_dd5ff9df9a67row3_col1\" class=\"data row3 col1\" >0.578313</td>\n",
       "                        <td id=\"T_baefdfe5_9c41_11eb_9980_dd5ff9df9a67row3_col2\" class=\"data row3 col2\" >0.549934</td>\n",
       "                        <td id=\"T_baefdfe5_9c41_11eb_9980_dd5ff9df9a67row3_col3\" class=\"data row3 col3\" >0.559608</td>\n",
       "            </tr>\n",
       "            <tr>\n",
       "                        <th id=\"T_baefdfe5_9c41_11eb_9980_dd5ff9df9a67level0_row4\" class=\"row_heading level0 row4\" >Neural Networks</th>\n",
       "                        <td id=\"T_baefdfe5_9c41_11eb_9980_dd5ff9df9a67row4_col0\" class=\"data row4 col0\" >0.870653</td>\n",
       "                        <td id=\"T_baefdfe5_9c41_11eb_9980_dd5ff9df9a67row4_col1\" class=\"data row4 col1\" >0.508696</td>\n",
       "                        <td id=\"T_baefdfe5_9c41_11eb_9980_dd5ff9df9a67row4_col2\" class=\"data row4 col2\" >0.616858</td>\n",
       "                        <td id=\"T_baefdfe5_9c41_11eb_9980_dd5ff9df9a67row4_col3\" class=\"data row4 col3\" >0.641867</td>\n",
       "            </tr>\n",
       "            <tr>\n",
       "                        <th id=\"T_baefdfe5_9c41_11eb_9980_dd5ff9df9a67level0_row5\" class=\"row_heading level0 row5\" >Decision Tree</th>\n",
       "                        <td id=\"T_baefdfe5_9c41_11eb_9980_dd5ff9df9a67row5_col0\" class=\"data row5 col0\" >0.842892</td>\n",
       "                        <td id=\"T_baefdfe5_9c41_11eb_9980_dd5ff9df9a67row5_col1\" class=\"data row5 col1\" >0.389873</td>\n",
       "                        <td id=\"T_baefdfe5_9c41_11eb_9980_dd5ff9df9a67row5_col2\" class=\"data row5 col2\" >0.637626</td>\n",
       "                        <td id=\"T_baefdfe5_9c41_11eb_9980_dd5ff9df9a67row5_col3\" class=\"data row5 col3\" >0.642205</td>\n",
       "            </tr>\n",
       "            <tr>\n",
       "                        <th id=\"T_baefdfe5_9c41_11eb_9980_dd5ff9df9a67level0_row6\" class=\"row_heading level0 row6\" >K-Nearest Neighbors</th>\n",
       "                        <td id=\"T_baefdfe5_9c41_11eb_9980_dd5ff9df9a67row6_col0\" class=\"data row6 col0\" >0.871873</td>\n",
       "                        <td id=\"T_baefdfe5_9c41_11eb_9980_dd5ff9df9a67row6_col1\" class=\"data row6 col1\" >1.000000</td>\n",
       "                        <td id=\"T_baefdfe5_9c41_11eb_9980_dd5ff9df9a67row6_col2\" class=\"data row6 col2\" >0.509346</td>\n",
       "                        <td id=\"T_baefdfe5_9c41_11eb_9980_dd5ff9df9a67row6_col3\" class=\"data row6 col3\" >0.484035</td>\n",
       "            </tr>\n",
       "    </tbody></table>"
      ],
      "text/plain": [
       "<pandas.io.formats.style.Styler at 0x1b173f31c10>"
      ]
     },
     "execution_count": 102,
     "metadata": {},
     "output_type": "execute_result"
    }
   ],
   "source": [
    "s1 = pd.Series([as_mnb, as_svc, as_log, as_rf, as_NN, as_tree, as_knn], index=['Multinomial Naive Bayes', 'Support Vector Machine', 'Logistic Regression', 'Random Forest', 'Neural Networks', 'Decision Tree', 'K-Nearest Neighbors'])\n",
    "s2 = pd.Series([f1s_mnb, f1s_svc, f1s_log, f1s_rf, f1s_NN, f1s_tree, f1s_knn], index=['Multinomial Naive Bayes', 'Support Vector Machine', 'Logistic Regression','Random Forest', 'Neural Networks', 'Decision Tree', 'K-Nearest Neighbors'])\n",
    "s3 = pd.Series([prec_mnb, prec_svc, prec_log, prec_rf, prec_NN, prec_tree, prec_knn], index=['Multinomial Naive Bayes', 'Support Vector Machine', 'Logistic Regression', 'Random Forest', 'Neural Networks', 'Decision Tree', 'K-Nearest Neighbors'])\n",
    "s4 = pd.Series([rec_mnb, rec_svc, rec_log, rec_rf, rec_NN, rec_tree, rec_knn], index=['Multinomial Naive Bayes', 'Support Vector Machine', 'Logistic Regression', 'Random Forest', 'Neural Networks', 'Decision Tree', 'K-Nearest Neighbors'])\n",
    "d = {'Accuracy Score' : s1, 'Precision Score': s3, 'Recall Score' : s4, 'F1 Score' : s2 }\n",
    "dfm = pd.DataFrame(d)\n",
    "dfm.style.highlight_max(color = 'lightgreen', axis = 0).highlight_min(color = 'tomato', axis = 0)"
   ]
  },
  {
   "cell_type": "code",
   "execution_count": 103,
   "metadata": {},
   "outputs": [
    {
     "data": {
      "text/plain": [
       "Text(0.5, 1.0, '2-class Precision-Recall curve: AP=0.88')"
      ]
     },
     "execution_count": 103,
     "metadata": {},
     "output_type": "execute_result"
    },
    {
     "data": {
      "image/png": "[encoded data removed]",
      "text/plain": [
       "<Figure size 432x288 with 1 Axes>"
      ]
     },
     "metadata": {
      "needs_background": "light"
     },
     "output_type": "display_data"
    }
   ],
   "source": [
    "from sklearn.metrics import precision_recall_curve\n",
    "from sklearn.metrics import plot_precision_recall_curve\n",
    "import matplotlib.pyplot as plt\n",
    "\n",
    "classifier = svm.LinearSVC(random_state=random_state)\n",
    "classifier.fit(X_train, y_train)\n",
    "\n",
    "disp = plot_precision_recall_curve(classifier, X_test, y_test)\n",
    "disp.ax_.set_title('2-class Precision-Recall curve: '\n",
    "                   'AP={0:0.2f}'.format(prec_svc))"
   ]
  },
  {
   "cell_type": "code",
   "execution_count": 104,
   "metadata": {},
   "outputs": [],
   "source": [
    "## ONLY"
   ]
  },
  {
   "cell_type": "code",
   "execution_count": null,
   "metadata": {},
   "outputs": [],
   "source": []
  },
  {
   "cell_type": "markdown",
   "metadata": {},
   "source": [
    "# Imbalanced"
   ]
  },
  {
   "cell_type": "code",
   "execution_count": 106,
   "metadata": {},
   "outputs": [
    {
     "name": "stdout",
     "output_type": "stream",
     "text": [
      "Requirement already satisfied: imbalanced-learn in c:\\users\\marti\\anaconda3\\lib\\site-packages (0.8.0)\n",
      "Requirement already satisfied: numpy>=1.13.3 in c:\\users\\marti\\anaconda3\\lib\\site-packages (from imbalanced-learn) (1.19.2)\n",
      "Requirement already satisfied: joblib>=0.11 in c:\\users\\marti\\anaconda3\\lib\\site-packages (from imbalanced-learn) (0.17.0)\n",
      "Requirement already satisfied: scipy>=0.19.1 in c:\\users\\marti\\anaconda3\\lib\\site-packages (from imbalanced-learn) (1.5.2)\n",
      "Requirement already satisfied: scikit-learn>=0.24 in c:\\users\\marti\\anaconda3\\lib\\site-packages (from imbalanced-learn) (0.24.1)\n",
      "Requirement already satisfied: threadpoolctl>=2.0.0 in c:\\users\\marti\\anaconda3\\lib\\site-packages (from scikit-learn>=0.24->imbalanced-learn) (2.1.0)\n",
      "Note: you may need to restart the kernel to use updated packages.\n"
     ]
    }
   ],
   "source": [
    "pip install imbalanced-learn"
   ]
  },
  {
   "cell_type": "code",
   "execution_count": 107,
   "metadata": {},
   "outputs": [],
   "source": [
    "import imblearn\n",
    "from imblearn.under_sampling import RandomUnderSampler \n",
    "undersample = RandomUnderSampler(sampling_strategy='majority')"
   ]
  },
  {
   "cell_type": "code",
   "execution_count": 108,
   "metadata": {},
   "outputs": [],
   "source": [
    "X_over, y_over = undersample.fit_resample(X_class, y_class)"
   ]
  },
  {
   "cell_type": "code",
   "execution_count": 111,
   "metadata": {},
   "outputs": [
    {
     "name": "stdout",
     "output_type": "stream",
     "text": [
      "Counter({0: 1428, 1: 1428})\n"
     ]
    }
   ],
   "source": [
    "from collections import Counter\n",
    "print(Counter(y_over))"
   ]
  },
  {
   "cell_type": "code",
   "execution_count": 113,
   "metadata": {},
   "outputs": [],
   "source": [
    "X_train, X_test, y_train, y_test = train_test_split(X_over, y_over, test_size=0.3, random_state=42, stratify=y_over)"
   ]
  },
  {
   "cell_type": "code",
   "execution_count": 132,
   "metadata": {},
   "outputs": [
    {
     "name": "stdout",
     "output_type": "stream",
     "text": [
      "[[268 161]\n",
      " [119 309]]\n",
      "              precision    recall  f1-score   support\n",
      "\n",
      "           0       0.69      0.62      0.66       429\n",
      "           1       0.66      0.72      0.69       428\n",
      "\n",
      "    accuracy                           0.67       857\n",
      "   macro avg       0.67      0.67      0.67       857\n",
      "weighted avg       0.67      0.67      0.67       857\n",
      "\n",
      "0.6732788798133023\n"
     ]
    }
   ],
   "source": [
    "# Multinomial Naive Bayes\n",
    "mnb_i = MultinomialNB(alpha=0.01)\n",
    "mnb_i.fit(X_train, y_train)\n",
    "y_mnb_i = mnb_i.predict(X_test)\n",
    "as_mnb_i = accuracy_score(y_test, y_mnb_i)\n",
    "f1s_mnb_i = f1_score(y_test, y_mnb_i, average= \"macro\")\n",
    "prec_mnb_i = precision_score(y_test, y_mnb_i)\n",
    "rec_mnb_i = recall_score(y_test, y_mnb_i, average='macro')\n",
    "print(confusion_matrix(y_test,y_mnb_i))\n",
    "print(classification_report(y_test,y_mnb_i))\n",
    "print(accuracy_score(y_test, y_mnb_i))"
   ]
  },
  {
   "cell_type": "code",
   "execution_count": 134,
   "metadata": {},
   "outputs": [
    {
     "name": "stdout",
     "output_type": "stream",
     "text": [
      "[LibSVM][[325 104]\n",
      " [136 292]]\n",
      "              precision    recall  f1-score   support\n",
      "\n",
      "           0       0.70      0.76      0.73       429\n",
      "           1       0.74      0.68      0.71       428\n",
      "\n",
      "    accuracy                           0.72       857\n",
      "   macro avg       0.72      0.72      0.72       857\n",
      "weighted avg       0.72      0.72      0.72       857\n",
      "\n",
      "0.7199533255542591\n"
     ]
    }
   ],
   "source": [
    "# Support Vector Machine\n",
    "svc_i = SVC(verbose=10)\n",
    "svc_i.fit(X_train, y_train)\n",
    "y_svc_i = svc_i.predict(X_test)\n",
    "as_svc_i = accuracy_score(y_test, y_svc_i)\n",
    "f1s_svc_i = f1_score(y_test, y_svc_i, average=\"macro\")\n",
    "prec_svc_i = precision_score(y_test, y_svc_i)\n",
    "rec_svc_i = recall_score(y_test, y_svc_i, average='macro')\n",
    "print(confusion_matrix(y_test,y_svc_i))\n",
    "print(classification_report(y_test,y_svc_i))\n",
    "print(accuracy_score(y_test, y_svc_i))"
   ]
  },
  {
   "cell_type": "code",
   "execution_count": 135,
   "metadata": {},
   "outputs": [
    {
     "name": "stdout",
     "output_type": "stream",
     "text": [
      "[[324 105]\n",
      " [138 290]]\n",
      "              precision    recall  f1-score   support\n",
      "\n",
      "           0       0.70      0.76      0.73       429\n",
      "           1       0.73      0.68      0.70       428\n",
      "\n",
      "    accuracy                           0.72       857\n",
      "   macro avg       0.72      0.72      0.72       857\n",
      "weighted avg       0.72      0.72      0.72       857\n",
      "\n",
      "0.7164527421236873\n"
     ]
    }
   ],
   "source": [
    "# Logistic\n",
    "log_fit_i = LogisticRegression(random_state=42).fit(X_train, y_train)\n",
    "y_log_i = log_fit_i.predict(X_test)\n",
    "as_log_i = accuracy_score(y_test, y_log_i)\n",
    "f1s_log_i = f1_score(y_test, y_log_i, average= \"macro\")\n",
    "prec_log_i = precision_score(y_test, y_log_i)\n",
    "rec_log_i = recall_score(y_test, y_log_i, average='macro')\n",
    "print(confusion_matrix(y_test,y_log_i))\n",
    "print(classification_report(y_test,y_log_i))\n",
    "print(accuracy_score(y_test, y_log_i))"
   ]
  },
  {
   "cell_type": "code",
   "execution_count": 136,
   "metadata": {},
   "outputs": [
    {
     "name": "stdout",
     "output_type": "stream",
     "text": [
      "[[333  96]\n",
      " [177 251]]\n",
      "              precision    recall  f1-score   support\n",
      "\n",
      "           0       0.65      0.78      0.71       429\n",
      "           1       0.72      0.59      0.65       428\n",
      "\n",
      "    accuracy                           0.68       857\n",
      "   macro avg       0.69      0.68      0.68       857\n",
      "weighted avg       0.69      0.68      0.68       857\n",
      "\n",
      "0.6814469078179697\n"
     ]
    }
   ],
   "source": [
    "# Random Forest\n",
    "rf_i = RandomForestClassifier(n_estimators=10, random_state=42)\n",
    "rf_i.fit(X_train, y_train) \n",
    "y_rf_i = rf_i.predict(X_test)\n",
    "as_rf_i = accuracy_score(y_test, y_rf_i)\n",
    "f1s_rf_i = f1_score(y_test, y_rf_i, average= \"macro\")\n",
    "prec_rf_i = precision_score(y_test, y_rf_i)\n",
    "rec_rf_i = recall_score(y_test, y_rf_i, average='macro')\n",
    "print(confusion_matrix(y_test,y_rf_i))\n",
    "print(classification_report(y_test,y_rf_i))\n",
    "print(accuracy_score(y_test, y_rf_i))"
   ]
  },
  {
   "cell_type": "code",
   "execution_count": 137,
   "metadata": {},
   "outputs": [
    {
     "name": "stdout",
     "output_type": "stream",
     "text": [
      "[[306 123]\n",
      " [128 300]]\n",
      "              precision    recall  f1-score   support\n",
      "\n",
      "           0       0.71      0.71      0.71       429\n",
      "           1       0.71      0.70      0.71       428\n",
      "\n",
      "    accuracy                           0.71       857\n",
      "   macro avg       0.71      0.71      0.71       857\n",
      "weighted avg       0.71      0.71      0.71       857\n",
      "\n",
      "0.7071178529754959\n"
     ]
    },
    {
     "name": "stderr",
     "output_type": "stream",
     "text": [
      "C:\\Users\\marti\\anaconda3\\lib\\site-packages\\sklearn\\neural_network\\_multilayer_perceptron.py:614: ConvergenceWarning: Stochastic Optimizer: Maximum iterations (10) reached and the optimization hasn't converged yet.\n",
      "  warnings.warn(\n"
     ]
    }
   ],
   "source": [
    "# Neural Networks\n",
    "NN_i = MLPClassifier(random_state=42, max_iter=10)\n",
    "NN_i.fit(X_train, y_train)\n",
    "#NN.score(X_test, y_test)\n",
    "y_NN_i = NN_i.predict(X_test)\n",
    "as_NN_i = accuracy_score(y_test, y_NN_i)\n",
    "f1s_NN_i = f1_score(y_test, y_NN_i, average= \"macro\")\n",
    "prec_NN_i = precision_score(y_test, y_NN_i)\n",
    "rec_NN_i = recall_score(y_test, y_NN_i, average='macro')\n",
    "print(confusion_matrix(y_test,y_NN_i))\n",
    "print(classification_report(y_test,y_NN_i))\n",
    "print(accuracy_score(y_test, y_NN_i))"
   ]
  },
  {
   "cell_type": "code",
   "execution_count": 138,
   "metadata": {},
   "outputs": [
    {
     "name": "stdout",
     "output_type": "stream",
     "text": [
      "[[279 150]\n",
      " [160 268]]\n",
      "              precision    recall  f1-score   support\n",
      "\n",
      "           0       0.64      0.65      0.64       429\n",
      "           1       0.64      0.63      0.63       428\n",
      "\n",
      "    accuracy                           0.64       857\n",
      "   macro avg       0.64      0.64      0.64       857\n",
      "weighted avg       0.64      0.64      0.64       857\n",
      "\n",
      "0.6382730455075846\n"
     ]
    }
   ],
   "source": [
    "# Decision Tree\n",
    "from sklearn.tree import DecisionTreeClassifier\n",
    "tree_i = DecisionTreeClassifier()\n",
    "tree_i.fit(X_train, y_train)\n",
    "y_tree_i = tree_i.predict(X_test)\n",
    "as_tree_i = accuracy_score(y_test, y_tree_i)\n",
    "f1s_tree_i = f1_score(y_test, y_tree_i, average= \"macro\")\n",
    "prec_tree_i = precision_score(y_test, y_tree_i)\n",
    "rec_tree_i = recall_score(y_test, y_tree_i, average='macro')\n",
    "print(confusion_matrix(y_test,y_tree_i))\n",
    "print(classification_report(y_test,y_tree_i))\n",
    "print(accuracy_score(y_test, y_tree_i))"
   ]
  },
  {
   "cell_type": "code",
   "execution_count": 139,
   "metadata": {},
   "outputs": [
    {
     "name": "stdout",
     "output_type": "stream",
     "text": [
      "[[427   2]\n",
      " [415  13]]\n",
      "              precision    recall  f1-score   support\n",
      "\n",
      "           0       0.51      1.00      0.67       429\n",
      "           1       0.87      0.03      0.06       428\n",
      "\n",
      "    accuracy                           0.51       857\n",
      "   macro avg       0.69      0.51      0.37       857\n",
      "weighted avg       0.69      0.51      0.37       857\n",
      "\n",
      "0.5134189031505251\n"
     ]
    }
   ],
   "source": [
    "# K-Nearest Neighbors\n",
    "knn_i = KNeighborsClassifier()\n",
    "knn_i.fit(X_train, y_train)\n",
    "y_knn_i = knn_i.predict(X_test)\n",
    "as_knn_i = accuracy_score(y_test, y_knn_i)\n",
    "f1s_knn_i = f1_score(y_test, y_knn_i, average= \"macro\")\n",
    "prec_knn_i = precision_score(y_test, y_knn_i)\n",
    "rec_knn_i = recall_score(y_test, y_knn_i, average='macro')\n",
    "print(confusion_matrix(y_test,y_knn_i))\n",
    "print(classification_report(y_test,y_knn_i))\n",
    "print(accuracy_score(y_test, y_knn_i))"
   ]
  },
  {
   "cell_type": "code",
   "execution_count": 141,
   "metadata": {},
   "outputs": [
    {
     "data": {
      "text/html": [
       "<style  type=\"text/css\" >\n",
       "#T_795544a0_9c44_11eb_a47f_dd5ff9df9a67row1_col0,#T_795544a0_9c44_11eb_a47f_dd5ff9df9a67row1_col2,#T_795544a0_9c44_11eb_a47f_dd5ff9df9a67row1_col3,#T_795544a0_9c44_11eb_a47f_dd5ff9df9a67row6_col1{\n",
       "            background-color:  lightgreen;\n",
       "        }#T_795544a0_9c44_11eb_a47f_dd5ff9df9a67row5_col1,#T_795544a0_9c44_11eb_a47f_dd5ff9df9a67row6_col0,#T_795544a0_9c44_11eb_a47f_dd5ff9df9a67row6_col2,#T_795544a0_9c44_11eb_a47f_dd5ff9df9a67row6_col3{\n",
       "            background-color:  tomato;\n",
       "        }</style><table id=\"T_795544a0_9c44_11eb_a47f_dd5ff9df9a67\" ><thead>    <tr>        <th class=\"blank level0\" ></th>        <th class=\"col_heading level0 col0\" >Accuracy Score</th>        <th class=\"col_heading level0 col1\" >Precision Score</th>        <th class=\"col_heading level0 col2\" >Recall Score</th>        <th class=\"col_heading level0 col3\" >F1 Score</th>    </tr></thead><tbody>\n",
       "                <tr>\n",
       "                        <th id=\"T_795544a0_9c44_11eb_a47f_dd5ff9df9a67level0_row0\" class=\"row_heading level0 row0\" >Multinomial Naive Bayes</th>\n",
       "                        <td id=\"T_795544a0_9c44_11eb_a47f_dd5ff9df9a67row0_col0\" class=\"data row0 col0\" >0.673279</td>\n",
       "                        <td id=\"T_795544a0_9c44_11eb_a47f_dd5ff9df9a67row0_col1\" class=\"data row0 col1\" >0.657447</td>\n",
       "                        <td id=\"T_795544a0_9c44_11eb_a47f_dd5ff9df9a67row0_col2\" class=\"data row0 col2\" >0.673336</td>\n",
       "                        <td id=\"T_795544a0_9c44_11eb_a47f_dd5ff9df9a67row0_col3\" class=\"data row0 col3\" >0.672529</td>\n",
       "            </tr>\n",
       "            <tr>\n",
       "                        <th id=\"T_795544a0_9c44_11eb_a47f_dd5ff9df9a67level0_row1\" class=\"row_heading level0 row1\" >Support Vector Machine</th>\n",
       "                        <td id=\"T_795544a0_9c44_11eb_a47f_dd5ff9df9a67row1_col0\" class=\"data row1 col0\" >0.719953</td>\n",
       "                        <td id=\"T_795544a0_9c44_11eb_a47f_dd5ff9df9a67row1_col1\" class=\"data row1 col1\" >0.737374</td>\n",
       "                        <td id=\"T_795544a0_9c44_11eb_a47f_dd5ff9df9a67row1_col2\" class=\"data row1 col2\" >0.719909</td>\n",
       "                        <td id=\"T_795544a0_9c44_11eb_a47f_dd5ff9df9a67row1_col3\" class=\"data row1 col3\" >0.719537</td>\n",
       "            </tr>\n",
       "            <tr>\n",
       "                        <th id=\"T_795544a0_9c44_11eb_a47f_dd5ff9df9a67level0_row2\" class=\"row_heading level0 row2\" >Logistic Regression</th>\n",
       "                        <td id=\"T_795544a0_9c44_11eb_a47f_dd5ff9df9a67row2_col0\" class=\"data row2 col0\" >0.716453</td>\n",
       "                        <td id=\"T_795544a0_9c44_11eb_a47f_dd5ff9df9a67row2_col1\" class=\"data row2 col1\" >0.734177</td>\n",
       "                        <td id=\"T_795544a0_9c44_11eb_a47f_dd5ff9df9a67row2_col2\" class=\"data row2 col2\" >0.716407</td>\n",
       "                        <td id=\"T_795544a0_9c44_11eb_a47f_dd5ff9df9a67row2_col3\" class=\"data row2 col3\" >0.716006</td>\n",
       "            </tr>\n",
       "            <tr>\n",
       "                        <th id=\"T_795544a0_9c44_11eb_a47f_dd5ff9df9a67level0_row3\" class=\"row_heading level0 row3\" >Random Forest</th>\n",
       "                        <td id=\"T_795544a0_9c44_11eb_a47f_dd5ff9df9a67row3_col0\" class=\"data row3 col0\" >0.681447</td>\n",
       "                        <td id=\"T_795544a0_9c44_11eb_a47f_dd5ff9df9a67row3_col1\" class=\"data row3 col1\" >0.723343</td>\n",
       "                        <td id=\"T_795544a0_9c44_11eb_a47f_dd5ff9df9a67row3_col2\" class=\"data row3 col2\" >0.681336</td>\n",
       "                        <td id=\"T_795544a0_9c44_11eb_a47f_dd5ff9df9a67row3_col3\" class=\"data row3 col3\" >0.678504</td>\n",
       "            </tr>\n",
       "            <tr>\n",
       "                        <th id=\"T_795544a0_9c44_11eb_a47f_dd5ff9df9a67level0_row4\" class=\"row_heading level0 row4\" >Neural Networks</th>\n",
       "                        <td id=\"T_795544a0_9c44_11eb_a47f_dd5ff9df9a67row4_col0\" class=\"data row4 col0\" >0.707118</td>\n",
       "                        <td id=\"T_795544a0_9c44_11eb_a47f_dd5ff9df9a67row4_col1\" class=\"data row4 col1\" >0.709220</td>\n",
       "                        <td id=\"T_795544a0_9c44_11eb_a47f_dd5ff9df9a67row4_col2\" class=\"data row4 col2\" >0.707111</td>\n",
       "                        <td id=\"T_795544a0_9c44_11eb_a47f_dd5ff9df9a67row4_col3\" class=\"data row4 col3\" >0.707103</td>\n",
       "            </tr>\n",
       "            <tr>\n",
       "                        <th id=\"T_795544a0_9c44_11eb_a47f_dd5ff9df9a67level0_row5\" class=\"row_heading level0 row5\" >Decision Tree</th>\n",
       "                        <td id=\"T_795544a0_9c44_11eb_a47f_dd5ff9df9a67row5_col0\" class=\"data row5 col0\" >0.638273</td>\n",
       "                        <td id=\"T_795544a0_9c44_11eb_a47f_dd5ff9df9a67row5_col1\" class=\"data row5 col1\" >0.641148</td>\n",
       "                        <td id=\"T_795544a0_9c44_11eb_a47f_dd5ff9df9a67row5_col2\" class=\"data row5 col2\" >0.635942</td>\n",
       "                        <td id=\"T_795544a0_9c44_11eb_a47f_dd5ff9df9a67row5_col3\" class=\"data row5 col3\" >0.638213</td>\n",
       "            </tr>\n",
       "            <tr>\n",
       "                        <th id=\"T_795544a0_9c44_11eb_a47f_dd5ff9df9a67level0_row6\" class=\"row_heading level0 row6\" >K-Nearest Neighbors</th>\n",
       "                        <td id=\"T_795544a0_9c44_11eb_a47f_dd5ff9df9a67row6_col0\" class=\"data row6 col0\" >0.513419</td>\n",
       "                        <td id=\"T_795544a0_9c44_11eb_a47f_dd5ff9df9a67row6_col1\" class=\"data row6 col1\" >0.866667</td>\n",
       "                        <td id=\"T_795544a0_9c44_11eb_a47f_dd5ff9df9a67row6_col2\" class=\"data row6 col2\" >0.512856</td>\n",
       "                        <td id=\"T_795544a0_9c44_11eb_a47f_dd5ff9df9a67row6_col3\" class=\"data row6 col3\" >0.365301</td>\n",
       "            </tr>\n",
       "    </tbody></table>"
      ],
      "text/plain": [
       "<pandas.io.formats.style.Styler at 0x1b172a9bf70>"
      ]
     },
     "execution_count": 141,
     "metadata": {},
     "output_type": "execute_result"
    }
   ],
   "source": [
    "s1_i = pd.Series([as_mnb_i, as_svc_i, as_log_i, as_rf_i, as_NN_i, as_tree_i, as_knn_i], index=['Multinomial Naive Bayes', 'Support Vector Machine', 'Logistic Regression', 'Random Forest', 'Neural Networks', 'Decision Tree', 'K-Nearest Neighbors'])\n",
    "s2_i = pd.Series([f1s_mnb_i, f1s_svc_i, f1s_log_i, f1s_rf_i, f1s_NN_i, f1s_tree_i, f1s_knn_i], index=['Multinomial Naive Bayes', 'Support Vector Machine', 'Logistic Regression','Random Forest', 'Neural Networks', 'Decision Tree', 'K-Nearest Neighbors'])\n",
    "s3_i = pd.Series([prec_mnb_i, prec_svc_i, prec_log_i, prec_rf_i, prec_NN_i, prec_tree_i, prec_knn_i], index=['Multinomial Naive Bayes', 'Support Vector Machine', 'Logistic Regression', 'Random Forest', 'Neural Networks', 'Decision Tree', 'K-Nearest Neighbors'])\n",
    "s4_i = pd.Series([rec_mnb, rec_svc, rec_log, rec_rf, rec_NN, rec_tree, rec_knn], index=['Multinomial Naive Bayes', 'Support Vector Machine', 'Logistic Regression', 'Random Forest', 'Neural Networks', 'Decision Tree', 'K-Nearest Neighbors'])\n",
    "d_i = {'Accuracy Score' : s1_i, 'Precision Score': s3_i, 'Recall Score' : s4_i, 'F1 Score' : s2_i}\n",
    "dfm_i = pd.DataFrame(d_i)\n",
    "dfm_i.style.highlight_max(color = 'lightgreen', axis = 0).highlight_min(color = 'tomato', axis = 0)"
   ]
  },
  {
   "cell_type": "code",
   "execution_count": null,
   "metadata": {},
   "outputs": [],
   "source": []
  }
 ],
 "metadata": {
  "kernelspec": {
   "display_name": "Python 3",
   "language": "python",
   "name": "python3"
  },
  "language_info": {
   "codemirror_mode": {
    "name": "ipython",
    "version": 3
   },
   "file_extension": ".py",
   "mimetype": "text/x-python",
   "name": "python",
   "nbconvert_exporter": "python",
   "pygments_lexer": "ipython3",
   "version": "3.8.5"
  }
 },
 "nbformat": 4,
 "nbformat_minor": 4
}
