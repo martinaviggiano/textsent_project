{
 "cells": [
  {
   "cell_type": "markdown",
   "metadata": {},
   "source": [
    "# Hate speech"
   ]
  },
  {
   "cell_type": "markdown",
   "metadata": {},
   "source": [
    "### 1. Data import and error removal"
   ]
  },
  {
   "cell_type": "code",
   "execution_count": 1,
   "metadata": {
    "execution": {
     "iopub.execute_input": "2021-04-10T21:57:22.015613Z",
     "iopub.status.busy": "2021-04-10T21:57:22.015154Z",
     "iopub.status.idle": "2021-04-10T21:57:22.389257Z",
     "shell.execute_reply": "2021-04-10T21:57:22.388641Z",
     "shell.execute_reply.started": "2021-04-10T21:57:22.015562Z"
    }
   },
   "outputs": [
    {
     "name": "stderr",
     "output_type": "stream",
     "text": [
      "C:\\Users\\marti\\anaconda3\\lib\\site-packages\\tqdm\\std.py:697: FutureWarning: The Panel class is removed from pandas. Accessing it from the top-level namespace will also be removed in the next version\n",
      "  from pandas import Panel\n"
     ]
    }
   ],
   "source": [
    "import pandas as pd\n",
    "import numpy as np\n",
    "import glob\n",
    "import os\n",
    "from tqdm import tqdm\n",
    "import ntpath\n",
    "from sklearn.feature_extraction.text import CountVectorizer, TfidfVectorizer\n",
    "import matplotlib.pyplot as plt\n",
    "tqdm.pandas()"
   ]
  },
  {
   "cell_type": "code",
   "execution_count": 2,
   "metadata": {
    "execution": {
     "iopub.execute_input": "2021-04-10T21:52:48.722170Z",
     "iopub.status.busy": "2021-04-10T21:52:48.721823Z",
     "iopub.status.idle": "2021-04-10T21:52:48.752571Z",
     "shell.execute_reply": "2021-04-10T21:52:48.751663Z",
     "shell.execute_reply.started": "2021-04-10T21:52:48.722134Z"
    }
   },
   "outputs": [],
   "source": [
    "all_files_paths = glob.glob(\"C:/Users/marti/repos/textsent_project/hate-speech-dataset/all_files/*.txt\")"
   ]
  },
  {
   "cell_type": "code",
   "execution_count": 3,
   "metadata": {
    "execution": {
     "iopub.execute_input": "2021-04-10T21:52:48.777032Z",
     "iopub.status.busy": "2021-04-10T21:52:48.776870Z",
     "iopub.status.idle": "2021-04-10T21:52:49.242312Z",
     "shell.execute_reply": "2021-04-10T21:52:49.241790Z",
     "shell.execute_reply.started": "2021-04-10T21:52:48.777011Z"
    }
   },
   "outputs": [],
   "source": [
    "all_files_paths = [f for f in all_files_paths if os.path.isfile(f)]"
   ]
  },
  {
   "cell_type": "code",
   "execution_count": 4,
   "metadata": {
    "execution": {
     "iopub.execute_input": "2021-04-10T21:52:49.243076Z",
     "iopub.status.busy": "2021-04-10T21:52:49.242958Z",
     "iopub.status.idle": "2021-04-10T21:52:49.271360Z",
     "shell.execute_reply": "2021-04-10T21:52:49.270838Z",
     "shell.execute_reply.started": "2021-04-10T21:52:49.243061Z"
    }
   },
   "outputs": [],
   "source": [
    "all_files_names = [str(ntpath.basename(f)).replace(\".txt\", \"\") for f in all_files_paths]"
   ]
  },
  {
   "cell_type": "code",
   "execution_count": 5,
   "metadata": {
    "execution": {
     "iopub.execute_input": "2021-04-10T21:52:49.272219Z",
     "iopub.status.busy": "2021-04-10T21:52:49.272073Z",
     "iopub.status.idle": "2021-04-10T21:52:50.457646Z",
     "shell.execute_reply": "2021-04-10T21:52:50.457230Z",
     "shell.execute_reply.started": "2021-04-10T21:52:49.272202Z"
    }
   },
   "outputs": [
    {
     "name": "stderr",
     "output_type": "stream",
     "text": [
      "100%|██████████| 10944/10944 [00:02<00:00, 3858.04it/s]\n"
     ]
    }
   ],
   "source": [
    "txt_content = {}\n",
    "errors = []\n",
    "for name, path in tqdm(list(zip(all_files_names, all_files_paths))):\n",
    "    with open(path, \"r\") as txt:\n",
    "        try:\n",
    "            txt_content[name] = txt.readline()\n",
    "        except Exception as ex:\n",
    "            errors.append((name, str(ex)))"
   ]
  },
  {
   "cell_type": "code",
   "execution_count": 6,
   "metadata": {
    "execution": {
     "iopub.execute_input": "2021-04-10T21:52:50.458377Z",
     "iopub.status.busy": "2021-04-10T21:52:50.458232Z",
     "iopub.status.idle": "2021-04-10T21:52:50.461172Z",
     "shell.execute_reply": "2021-04-10T21:52:50.460770Z",
     "shell.execute_reply.started": "2021-04-10T21:52:50.458359Z"
    },
    "scrolled": true
   },
   "outputs": [
    {
     "data": {
      "text/plain": [
       "[('13491591_4',\n",
       "  \"'charmap' codec can't decode byte 0x81 in position 23: character maps to <undefined>\"),\n",
       " ('13493456_1',\n",
       "  \"'charmap' codec can't decode byte 0x81 in position 169: character maps to <undefined>\"),\n",
       " ('13500400_1',\n",
       "  \"'charmap' codec can't decode byte 0x81 in position 67: character maps to <undefined>\"),\n",
       " ('13560796_1',\n",
       "  \"'charmap' codec can't decode byte 0x81 in position 5: character maps to <undefined>\"),\n",
       " ('13572081_1',\n",
       "  \"'charmap' codec can't decode byte 0x81 in position 3: character maps to <undefined>\"),\n",
       " ('13588794_3',\n",
       "  \"'charmap' codec can't decode byte 0x81 in position 54: character maps to <undefined>\"),\n",
       " ('13595072_1',\n",
       "  \"'charmap' codec can't decode byte 0x8d in position 75: character maps to <undefined>\"),\n",
       " ('13595072_5',\n",
       "  \"'charmap' codec can't decode byte 0x8d in position 78: character maps to <undefined>\"),\n",
       " ('14061724_1',\n",
       "  \"'charmap' codec can't decode byte 0x81 in position 181: character maps to <undefined>\"),\n",
       " ('14065492_1',\n",
       "  \"'charmap' codec can't decode byte 0x90 in position 203: character maps to <undefined>\"),\n",
       " ('30422455_1',\n",
       "  \"'charmap' codec can't decode byte 0x8d in position 94: character maps to <undefined>\"),\n",
       " ('30422455_2',\n",
       "  \"'charmap' codec can't decode byte 0x8d in position 65: character maps to <undefined>\"),\n",
       " ('30443860_2',\n",
       "  \"'charmap' codec can't decode byte 0x90 in position 20: character maps to <undefined>\"),\n",
       " ('30569404_3',\n",
       "  \"'charmap' codec can't decode byte 0x8d in position 55: character maps to <undefined>\"),\n",
       " ('30586603_2',\n",
       "  \"'charmap' codec can't decode byte 0x8d in position 235: character maps to <undefined>\"),\n",
       " ('30659540_3',\n",
       "  \"'charmap' codec can't decode byte 0x8f in position 68: character maps to <undefined>\"),\n",
       " ('33500574_1',\n",
       "  \"'charmap' codec can't decode byte 0x90 in position 1: character maps to <undefined>\"),\n",
       " ('33500574_2',\n",
       "  \"'charmap' codec can't decode byte 0x90 in position 1: character maps to <undefined>\")]"
      ]
     },
     "execution_count": 6,
     "metadata": {},
     "output_type": "execute_result"
    }
   ],
   "source": [
    "errors"
   ]
  },
  {
   "cell_type": "code",
   "execution_count": 7,
   "metadata": {
    "execution": {
     "iopub.execute_input": "2021-04-10T21:52:50.516491Z",
     "iopub.status.busy": "2021-04-10T21:52:50.516255Z",
     "iopub.status.idle": "2021-04-10T21:52:50.519356Z",
     "shell.execute_reply": "2021-04-10T21:52:50.518803Z",
     "shell.execute_reply.started": "2021-04-10T21:52:50.516443Z"
    }
   },
   "outputs": [],
   "source": [
    "errors_list = [err[0] for err in errors]"
   ]
  },
  {
   "cell_type": "code",
   "execution_count": 8,
   "metadata": {
    "execution": {
     "iopub.execute_input": "2021-04-10T21:52:50.580716Z",
     "iopub.status.busy": "2021-04-10T21:52:50.580451Z",
     "iopub.status.idle": "2021-04-10T21:52:50.591827Z",
     "shell.execute_reply": "2021-04-10T21:52:50.591191Z",
     "shell.execute_reply.started": "2021-04-10T21:52:50.580682Z"
    }
   },
   "outputs": [],
   "source": [
    "df = pd.DataFrame.from_dict(txt_content, orient='index').reset_index()\n",
    "df.columns = [\"file_id\", \"text\"]"
   ]
  },
  {
   "cell_type": "code",
   "execution_count": 9,
   "metadata": {
    "execution": {
     "iopub.execute_input": "2021-04-10T21:52:52.161954Z",
     "iopub.status.busy": "2021-04-10T21:52:52.161727Z",
     "iopub.status.idle": "2021-04-10T21:52:52.173424Z",
     "shell.execute_reply": "2021-04-10T21:52:52.172603Z",
     "shell.execute_reply.started": "2021-04-10T21:52:52.161930Z"
    }
   },
   "outputs": [
    {
     "data": {
      "text/html": [
       "<div>\n",
       "<style scoped>\n",
       "    .dataframe tbody tr th:only-of-type {\n",
       "        vertical-align: middle;\n",
       "    }\n",
       "\n",
       "    .dataframe tbody tr th {\n",
       "        vertical-align: top;\n",
       "    }\n",
       "\n",
       "    .dataframe thead th {\n",
       "        text-align: right;\n",
       "    }\n",
       "</style>\n",
       "<table border=\"1\" class=\"dataframe\">\n",
       "  <thead>\n",
       "    <tr style=\"text-align: right;\">\n",
       "      <th></th>\n",
       "      <th>file_id</th>\n",
       "      <th>text</th>\n",
       "    </tr>\n",
       "  </thead>\n",
       "  <tbody>\n",
       "    <tr>\n",
       "      <th>0</th>\n",
       "      <td>12834217_1</td>\n",
       "      <td>As of March 13th , 2014 , the booklet had been...</td>\n",
       "    </tr>\n",
       "    <tr>\n",
       "      <th>1</th>\n",
       "      <td>12834217_10</td>\n",
       "      <td>Thank you in advance. : ) Download the youtube...</td>\n",
       "    </tr>\n",
       "    <tr>\n",
       "      <th>2</th>\n",
       "      <td>12834217_2</td>\n",
       "      <td>In order to help increase the booklets downloa...</td>\n",
       "    </tr>\n",
       "    <tr>\n",
       "      <th>3</th>\n",
       "      <td>12834217_3</td>\n",
       "      <td>( Simply copy and paste the following text int...</td>\n",
       "    </tr>\n",
       "    <tr>\n",
       "      <th>4</th>\n",
       "      <td>12834217_4</td>\n",
       "      <td>Click below for a FREE download of a colorfull...</td>\n",
       "    </tr>\n",
       "  </tbody>\n",
       "</table>\n",
       "</div>"
      ],
      "text/plain": [
       "       file_id                                               text\n",
       "0   12834217_1  As of March 13th , 2014 , the booklet had been...\n",
       "1  12834217_10  Thank you in advance. : ) Download the youtube...\n",
       "2   12834217_2  In order to help increase the booklets downloa...\n",
       "3   12834217_3  ( Simply copy and paste the following text int...\n",
       "4   12834217_4  Click below for a FREE download of a colorfull..."
      ]
     },
     "execution_count": 9,
     "metadata": {},
     "output_type": "execute_result"
    }
   ],
   "source": [
    "df.head()"
   ]
  },
  {
   "cell_type": "code",
   "execution_count": 10,
   "metadata": {
    "execution": {
     "iopub.execute_input": "2021-04-10T21:52:53.527906Z",
     "iopub.status.busy": "2021-04-10T21:52:53.527191Z",
     "iopub.status.idle": "2021-04-10T21:52:53.559968Z",
     "shell.execute_reply": "2021-04-10T21:52:53.559105Z",
     "shell.execute_reply.started": "2021-04-10T21:52:53.527819Z"
    }
   },
   "outputs": [],
   "source": [
    "ann = pd.read_csv('C:/Users/marti/repos/textsent_project/hate-speech-dataset/annotations_metadata.csv')"
   ]
  },
  {
   "cell_type": "code",
   "execution_count": 11,
   "metadata": {
    "execution": {
     "iopub.execute_input": "2021-04-10T21:52:54.009346Z",
     "iopub.status.busy": "2021-04-10T21:52:54.009101Z",
     "iopub.status.idle": "2021-04-10T21:52:54.018221Z",
     "shell.execute_reply": "2021-04-10T21:52:54.017582Z",
     "shell.execute_reply.started": "2021-04-10T21:52:54.009318Z"
    }
   },
   "outputs": [
    {
     "data": {
      "text/html": [
       "<div>\n",
       "<style scoped>\n",
       "    .dataframe tbody tr th:only-of-type {\n",
       "        vertical-align: middle;\n",
       "    }\n",
       "\n",
       "    .dataframe tbody tr th {\n",
       "        vertical-align: top;\n",
       "    }\n",
       "\n",
       "    .dataframe thead th {\n",
       "        text-align: right;\n",
       "    }\n",
       "</style>\n",
       "<table border=\"1\" class=\"dataframe\">\n",
       "  <thead>\n",
       "    <tr style=\"text-align: right;\">\n",
       "      <th></th>\n",
       "      <th>file_id</th>\n",
       "      <th>user_id</th>\n",
       "      <th>subforum_id</th>\n",
       "      <th>num_contexts</th>\n",
       "      <th>label</th>\n",
       "    </tr>\n",
       "  </thead>\n",
       "  <tbody>\n",
       "    <tr>\n",
       "      <th>0</th>\n",
       "      <td>12834217_1</td>\n",
       "      <td>572066</td>\n",
       "      <td>1346</td>\n",
       "      <td>0</td>\n",
       "      <td>noHate</td>\n",
       "    </tr>\n",
       "    <tr>\n",
       "      <th>1</th>\n",
       "      <td>12834217_2</td>\n",
       "      <td>572066</td>\n",
       "      <td>1346</td>\n",
       "      <td>0</td>\n",
       "      <td>noHate</td>\n",
       "    </tr>\n",
       "    <tr>\n",
       "      <th>2</th>\n",
       "      <td>12834217_3</td>\n",
       "      <td>572066</td>\n",
       "      <td>1346</td>\n",
       "      <td>0</td>\n",
       "      <td>noHate</td>\n",
       "    </tr>\n",
       "    <tr>\n",
       "      <th>3</th>\n",
       "      <td>12834217_4</td>\n",
       "      <td>572066</td>\n",
       "      <td>1346</td>\n",
       "      <td>0</td>\n",
       "      <td>hate</td>\n",
       "    </tr>\n",
       "    <tr>\n",
       "      <th>4</th>\n",
       "      <td>12834217_5</td>\n",
       "      <td>572066</td>\n",
       "      <td>1346</td>\n",
       "      <td>0</td>\n",
       "      <td>noHate</td>\n",
       "    </tr>\n",
       "  </tbody>\n",
       "</table>\n",
       "</div>"
      ],
      "text/plain": [
       "      file_id  user_id  subforum_id  num_contexts   label\n",
       "0  12834217_1   572066         1346             0  noHate\n",
       "1  12834217_2   572066         1346             0  noHate\n",
       "2  12834217_3   572066         1346             0  noHate\n",
       "3  12834217_4   572066         1346             0    hate\n",
       "4  12834217_5   572066         1346             0  noHate"
      ]
     },
     "execution_count": 11,
     "metadata": {},
     "output_type": "execute_result"
    }
   ],
   "source": [
    "ann.head()"
   ]
  },
  {
   "cell_type": "code",
   "execution_count": 12,
   "metadata": {
    "execution": {
     "iopub.execute_input": "2021-04-10T21:52:56.063533Z",
     "iopub.status.busy": "2021-04-10T21:52:56.062810Z",
     "iopub.status.idle": "2021-04-10T21:52:56.085106Z",
     "shell.execute_reply": "2021-04-10T21:52:56.083731Z",
     "shell.execute_reply.started": "2021-04-10T21:52:56.063451Z"
    }
   },
   "outputs": [],
   "source": [
    "ann = ann[~ann['file_id'].isin(errors_list)]"
   ]
  },
  {
   "cell_type": "code",
   "execution_count": 13,
   "metadata": {
    "execution": {
     "iopub.execute_input": "2021-04-10T21:52:56.427589Z",
     "iopub.status.busy": "2021-04-10T21:52:56.426842Z",
     "iopub.status.idle": "2021-04-10T21:52:56.465196Z",
     "shell.execute_reply": "2021-04-10T21:52:56.464190Z",
     "shell.execute_reply.started": "2021-04-10T21:52:56.427484Z"
    }
   },
   "outputs": [
    {
     "data": {
      "text/html": [
       "<div>\n",
       "<style scoped>\n",
       "    .dataframe tbody tr th:only-of-type {\n",
       "        vertical-align: middle;\n",
       "    }\n",
       "\n",
       "    .dataframe tbody tr th {\n",
       "        vertical-align: top;\n",
       "    }\n",
       "\n",
       "    .dataframe thead th {\n",
       "        text-align: right;\n",
       "    }\n",
       "</style>\n",
       "<table border=\"1\" class=\"dataframe\">\n",
       "  <thead>\n",
       "    <tr style=\"text-align: right;\">\n",
       "      <th></th>\n",
       "      <th>file_id</th>\n",
       "      <th>user_id</th>\n",
       "      <th>subforum_id</th>\n",
       "      <th>num_contexts</th>\n",
       "      <th>label</th>\n",
       "      <th>text</th>\n",
       "    </tr>\n",
       "  </thead>\n",
       "  <tbody>\n",
       "    <tr>\n",
       "      <th>0</th>\n",
       "      <td>12834217_1</td>\n",
       "      <td>572066</td>\n",
       "      <td>1346</td>\n",
       "      <td>0</td>\n",
       "      <td>noHate</td>\n",
       "      <td>As of March 13th , 2014 , the booklet had been...</td>\n",
       "    </tr>\n",
       "    <tr>\n",
       "      <th>1</th>\n",
       "      <td>12834217_2</td>\n",
       "      <td>572066</td>\n",
       "      <td>1346</td>\n",
       "      <td>0</td>\n",
       "      <td>noHate</td>\n",
       "      <td>In order to help increase the booklets downloa...</td>\n",
       "    </tr>\n",
       "    <tr>\n",
       "      <th>2</th>\n",
       "      <td>12834217_3</td>\n",
       "      <td>572066</td>\n",
       "      <td>1346</td>\n",
       "      <td>0</td>\n",
       "      <td>noHate</td>\n",
       "      <td>( Simply copy and paste the following text int...</td>\n",
       "    </tr>\n",
       "    <tr>\n",
       "      <th>3</th>\n",
       "      <td>12834217_4</td>\n",
       "      <td>572066</td>\n",
       "      <td>1346</td>\n",
       "      <td>0</td>\n",
       "      <td>hate</td>\n",
       "      <td>Click below for a FREE download of a colorfull...</td>\n",
       "    </tr>\n",
       "    <tr>\n",
       "      <th>4</th>\n",
       "      <td>12834217_5</td>\n",
       "      <td>572066</td>\n",
       "      <td>1346</td>\n",
       "      <td>0</td>\n",
       "      <td>noHate</td>\n",
       "      <td>Click on the `` DOWNLOAD ( 7.42 MB ) '' green ...</td>\n",
       "    </tr>\n",
       "  </tbody>\n",
       "</table>\n",
       "</div>"
      ],
      "text/plain": [
       "      file_id  user_id  subforum_id  num_contexts   label  \\\n",
       "0  12834217_1   572066         1346             0  noHate   \n",
       "1  12834217_2   572066         1346             0  noHate   \n",
       "2  12834217_3   572066         1346             0  noHate   \n",
       "3  12834217_4   572066         1346             0    hate   \n",
       "4  12834217_5   572066         1346             0  noHate   \n",
       "\n",
       "                                                text  \n",
       "0  As of March 13th , 2014 , the booklet had been...  \n",
       "1  In order to help increase the booklets downloa...  \n",
       "2  ( Simply copy and paste the following text int...  \n",
       "3  Click below for a FREE download of a colorfull...  \n",
       "4  Click on the `` DOWNLOAD ( 7.42 MB ) '' green ...  "
      ]
     },
     "execution_count": 13,
     "metadata": {},
     "output_type": "execute_result"
    }
   ],
   "source": [
    "data = pd.merge(left=ann, right=df, left_on='file_id', right_on='file_id')\n",
    "data.shape\n",
    "data.head()"
   ]
  },
  {
   "cell_type": "code",
   "execution_count": 14,
   "metadata": {
    "execution": {
     "iopub.execute_input": "2021-04-10T21:52:59.327306Z",
     "iopub.status.busy": "2021-04-10T21:52:59.326499Z",
     "iopub.status.idle": "2021-04-10T21:52:59.435777Z",
     "shell.execute_reply": "2021-04-10T21:52:59.435152Z",
     "shell.execute_reply.started": "2021-04-10T21:52:59.327214Z"
    }
   },
   "outputs": [],
   "source": [
    "data['label'] = data.apply(lambda x: 0 if x['label'] == \"noHate\" else 1, axis=1)"
   ]
  },
  {
   "cell_type": "markdown",
   "metadata": {},
   "source": [
    "### 2. Cleaning and tokenization"
   ]
  },
  {
   "cell_type": "code",
   "execution_count": 15,
   "metadata": {
    "execution": {
     "iopub.execute_input": "2021-04-10T21:53:22.160636Z",
     "iopub.status.busy": "2021-04-10T21:53:22.160180Z",
     "iopub.status.idle": "2021-04-10T21:53:22.666978Z",
     "shell.execute_reply": "2021-04-10T21:53:22.666374Z",
     "shell.execute_reply.started": "2021-04-10T21:53:22.160587Z"
    }
   },
   "outputs": [
    {
     "name": "stderr",
     "output_type": "stream",
     "text": [
      "[nltk_data] Downloading package vader_lexicon to\n",
      "[nltk_data]     C:\\Users\\marti\\AppData\\Roaming\\nltk_data...\n",
      "[nltk_data]   Package vader_lexicon is already up-to-date!\n"
     ]
    },
    {
     "data": {
      "text/plain": [
       "True"
      ]
     },
     "execution_count": 15,
     "metadata": {},
     "output_type": "execute_result"
    }
   ],
   "source": [
    "import nltk\n",
    "from nltk.corpus import stopwords\n",
    "from nltk.tokenize import word_tokenize\n",
    "from nltk.tokenize import sent_tokenize\n",
    "from nltk.stem import WordNetLemmatizer\n",
    "from nltk.stem import PorterStemmer\n",
    "import string\n",
    "import nltk.sentiment.vader as vd\n",
    "from nltk import download\n",
    "download('vader_lexicon')"
   ]
  },
  {
   "cell_type": "markdown",
   "metadata": {},
   "source": [
    "#### 2.1 Removing links, tags, numbers and bias"
   ]
  },
  {
   "cell_type": "code",
   "execution_count": 16,
   "metadata": {
    "execution": {
     "iopub.execute_input": "2021-04-10T21:53:36.794871Z",
     "iopub.status.busy": "2021-04-10T21:53:36.794079Z",
     "iopub.status.idle": "2021-04-10T21:53:36.979757Z",
     "shell.execute_reply": "2021-04-10T21:53:36.979274Z",
     "shell.execute_reply.started": "2021-04-10T21:53:36.794791Z"
    }
   },
   "outputs": [],
   "source": [
    "additional  = ['rt','rts','retweet']\n",
    "swords = set().union(stopwords.words('english'), additional, string.punctuation)\n",
    "data['text_clean'] = data['text'].str.lower()\\\n",
    "    .str.replace('(@[a-z0-9]+)\\w+',' ')\\\n",
    "    .str.replace('(http\\S+)', ' ')\\\n",
    "    .str.replace('(www\\S+)',' ')\\\n",
    "    .str.replace(r'com$', ' ')\\\n",
    "    .str.replace('[0-9]+(?:st| st|nd| nd|rd| rd|th| th)', '')\\\n",
    "    .str.replace('([^a-z \\t])',' ')\\\n",
    "    .str.replace(' +',' ')\\\n",
    "    .apply(lambda x: \" \".join([i for i in x.split() if not i in swords]))\n",
    "#any alpha numeric after @ #http # any value except alpha numeric tab character ('\\u0009')"
   ]
  },
  {
   "cell_type": "code",
   "execution_count": 17,
   "metadata": {
    "execution": {
     "iopub.execute_input": "2021-04-10T21:53:51.554707Z",
     "iopub.status.busy": "2021-04-10T21:53:51.553997Z",
     "iopub.status.idle": "2021-04-10T21:53:53.702040Z",
     "shell.execute_reply": "2021-04-10T21:53:53.701429Z",
     "shell.execute_reply.started": "2021-04-10T21:53:51.554623Z"
    }
   },
   "outputs": [],
   "source": [
    "# Stemming\n",
    "ps = PorterStemmer()\n",
    "data['stemmed'] = data['text_clean'].apply(lambda x: \" \".join([ps.stem(i) for i in word_tokenize(x)]))"
   ]
  },
  {
   "cell_type": "code",
   "execution_count": 18,
   "metadata": {
    "execution": {
     "iopub.execute_input": "2021-04-10T21:53:53.731999Z",
     "iopub.status.busy": "2021-04-10T21:53:53.731780Z",
     "iopub.status.idle": "2021-04-10T21:53:56.069867Z",
     "shell.execute_reply": "2021-04-10T21:53:56.069336Z",
     "shell.execute_reply.started": "2021-04-10T21:53:53.731970Z"
    }
   },
   "outputs": [],
   "source": [
    "# Lemmatizer\n",
    "lm = nltk.WordNetLemmatizer()\n",
    "data['lemmatized'] = data['text_clean'].apply(lambda x: \" \".join([lm.lemmatize(i) for i in word_tokenize(x)]))"
   ]
  },
  {
   "cell_type": "code",
   "execution_count": 19,
   "metadata": {
    "execution": {
     "iopub.execute_input": "2021-04-10T21:53:56.099543Z",
     "iopub.status.busy": "2021-04-10T21:53:56.099384Z",
     "iopub.status.idle": "2021-04-10T21:53:56.108841Z",
     "shell.execute_reply": "2021-04-10T21:53:56.108340Z",
     "shell.execute_reply.started": "2021-04-10T21:53:56.099524Z"
    }
   },
   "outputs": [
    {
     "data": {
      "text/html": [
       "<div>\n",
       "<style scoped>\n",
       "    .dataframe tbody tr th:only-of-type {\n",
       "        vertical-align: middle;\n",
       "    }\n",
       "\n",
       "    .dataframe tbody tr th {\n",
       "        vertical-align: top;\n",
       "    }\n",
       "\n",
       "    .dataframe thead th {\n",
       "        text-align: right;\n",
       "    }\n",
       "</style>\n",
       "<table border=\"1\" class=\"dataframe\">\n",
       "  <thead>\n",
       "    <tr style=\"text-align: right;\">\n",
       "      <th></th>\n",
       "      <th>file_id</th>\n",
       "      <th>user_id</th>\n",
       "      <th>subforum_id</th>\n",
       "      <th>num_contexts</th>\n",
       "      <th>label</th>\n",
       "      <th>text</th>\n",
       "      <th>text_clean</th>\n",
       "      <th>stemmed</th>\n",
       "      <th>lemmatized</th>\n",
       "    </tr>\n",
       "  </thead>\n",
       "  <tbody>\n",
       "    <tr>\n",
       "      <th>0</th>\n",
       "      <td>12834217_1</td>\n",
       "      <td>572066</td>\n",
       "      <td>1346</td>\n",
       "      <td>0</td>\n",
       "      <td>0</td>\n",
       "      <td>As of March 13th , 2014 , the booklet had been...</td>\n",
       "      <td>march booklet downloaded times counting</td>\n",
       "      <td>march booklet download time count</td>\n",
       "      <td>march booklet downloaded time counting</td>\n",
       "    </tr>\n",
       "    <tr>\n",
       "      <th>1</th>\n",
       "      <td>12834217_2</td>\n",
       "      <td>572066</td>\n",
       "      <td>1346</td>\n",
       "      <td>0</td>\n",
       "      <td>0</td>\n",
       "      <td>In order to help increase the booklets downloa...</td>\n",
       "      <td>order help increase booklets downloads would g...</td>\n",
       "      <td>order help increas booklet download would grea...</td>\n",
       "      <td>order help increase booklet downloads would gr...</td>\n",
       "    </tr>\n",
       "    <tr>\n",
       "      <th>2</th>\n",
       "      <td>12834217_3</td>\n",
       "      <td>572066</td>\n",
       "      <td>1346</td>\n",
       "      <td>0</td>\n",
       "      <td>0</td>\n",
       "      <td>( Simply copy and paste the following text int...</td>\n",
       "      <td>simply copy paste following text youtube video...</td>\n",
       "      <td>simpli copi past follow text youtub video desc...</td>\n",
       "      <td>simply copy paste following text youtube video...</td>\n",
       "    </tr>\n",
       "    <tr>\n",
       "      <th>3</th>\n",
       "      <td>12834217_4</td>\n",
       "      <td>572066</td>\n",
       "      <td>1346</td>\n",
       "      <td>0</td>\n",
       "      <td>1</td>\n",
       "      <td>Click below for a FREE download of a colorfull...</td>\n",
       "      <td>click free download colorfully illustrated pag...</td>\n",
       "      <td>click free download color illustr page e book ...</td>\n",
       "      <td>click free download colorfully illustrated pag...</td>\n",
       "    </tr>\n",
       "    <tr>\n",
       "      <th>4</th>\n",
       "      <td>12834217_5</td>\n",
       "      <td>572066</td>\n",
       "      <td>1346</td>\n",
       "      <td>0</td>\n",
       "      <td>0</td>\n",
       "      <td>Click on the `` DOWNLOAD ( 7.42 MB ) '' green ...</td>\n",
       "      <td>click download mb green banner link</td>\n",
       "      <td>click download mb green banner link</td>\n",
       "      <td>click download mb green banner link</td>\n",
       "    </tr>\n",
       "  </tbody>\n",
       "</table>\n",
       "</div>"
      ],
      "text/plain": [
       "      file_id  user_id  subforum_id  num_contexts  label  \\\n",
       "0  12834217_1   572066         1346             0      0   \n",
       "1  12834217_2   572066         1346             0      0   \n",
       "2  12834217_3   572066         1346             0      0   \n",
       "3  12834217_4   572066         1346             0      1   \n",
       "4  12834217_5   572066         1346             0      0   \n",
       "\n",
       "                                                text  \\\n",
       "0  As of March 13th , 2014 , the booklet had been...   \n",
       "1  In order to help increase the booklets downloa...   \n",
       "2  ( Simply copy and paste the following text int...   \n",
       "3  Click below for a FREE download of a colorfull...   \n",
       "4  Click on the `` DOWNLOAD ( 7.42 MB ) '' green ...   \n",
       "\n",
       "                                          text_clean  \\\n",
       "0            march booklet downloaded times counting   \n",
       "1  order help increase booklets downloads would g...   \n",
       "2  simply copy paste following text youtube video...   \n",
       "3  click free download colorfully illustrated pag...   \n",
       "4                click download mb green banner link   \n",
       "\n",
       "                                             stemmed  \\\n",
       "0                  march booklet download time count   \n",
       "1  order help increas booklet download would grea...   \n",
       "2  simpli copi past follow text youtub video desc...   \n",
       "3  click free download color illustr page e book ...   \n",
       "4                click download mb green banner link   \n",
       "\n",
       "                                          lemmatized  \n",
       "0             march booklet downloaded time counting  \n",
       "1  order help increase booklet downloads would gr...  \n",
       "2  simply copy paste following text youtube video...  \n",
       "3  click free download colorfully illustrated pag...  \n",
       "4                click download mb green banner link  "
      ]
     },
     "execution_count": 19,
     "metadata": {},
     "output_type": "execute_result"
    }
   ],
   "source": [
    "data.head()"
   ]
  },
  {
   "cell_type": "markdown",
   "metadata": {
    "collapsed": "true"
   },
   "source": [
    "#### 2.3 Bow and Tfidf"
   ]
  },
  {
   "cell_type": "code",
   "execution_count": 20,
   "metadata": {},
   "outputs": [],
   "source": [
    "# Bow vectorizer\n",
    "bow_vectorizer = CountVectorizer()\n",
    "X_bow = bow_vectorizer.fit_transform(data['lemmatized'])"
   ]
  },
  {
   "cell_type": "code",
   "execution_count": 21,
   "metadata": {
    "scrolled": true
   },
   "outputs": [
    {
     "name": "stdout",
     "output_type": "stream",
     "text": [
      "['ab', 'abandon', 'abandoned', 'abbey', 'abc', 'abduction', 'abhor', 'abiding', 'ability', 'abit', 'able', 'aboard', 'abominable', 'abomination', 'aborigine', 'aborigional', 'aborted', 'abortion', 'abound', 'abouts', 'abraham', 'abroad', 'absolut', 'absolute', 'absolutely', 'absorbing', 'absurd', 'absurdity', 'abt', 'abundant', 'abuse', 'abused', 'abusing', 'abusive', 'ac', 'acadamys', 'academia', 'academic', 'academy', 'accelerates', 'accent', 'accept', 'acceptable', 'acceptance', 'accepted', 'accepting', 'access', 'accessible', 'accessing', 'accessory', 'accessouries', 'accident', 'accidentally', 'accommonadate', 'accomodation', 'accompaigned', 'accomplice', 'accomplish', 'accomplished', 'accomplishment', 'according', 'accordingly', 'accost', 'account', 'accountable', 'accountant', 'accounted', 'accross', 'accumulate', 'accuracy', 'accurate', 'accurately', 'accusation', 'accuse', 'accused', 'accusing', 'accutrigger', 'ache', 'achieve', 'achieved', 'achievement', 'achiever', 'acitivities', 'acknowledge', 'aclemfaal', 'aclemfaalthat', 'acne', 'acquaintance', 'acquire', 'acquired', 'acre', 'acronym', 'across', 'act', 'acted', 'acting', 'action', 'activate', 'active', 'actively', 'activism', 'activist', 'activity', 'actor', 'actress', 'actual', 'actuallly', 'actually', 'actualy', 'actully', 'acuast', 'ad', 'adam', 'adamite', 'adaptation', 'adaye', 'add', 'added', 'adderall', 'addict', 'addiction', 'adding', 'address', 'addressed', 'addressing', 'addy', 'adj', 'adjective', 'adjoining', 'adjust', 'adjustable', 'adjustment', 'adl', 'admin', 'administration', 'admirable', 'admiration', 'admire', 'admired', 'admission', 'admit', 'admits', 'admitted', 'admittedly', 'adn', 'adolescent', 'adolf', 'adopt', 'adopted', 'adopting', 'adoption', 'adorable', 'adore', 'adores', 'adress', 'adrien', 'adult', 'adulthood', 'advance', 'advanced', 'advancement', 'advancing', 'advantage', 'advent', 'adventure', 'adversary', 'adverse', 'advert', 'advertised', 'advertisement', 'advertising', 'advice', 'advise', 'advocate', 'advocating', 'adware', 'aeon', 'aerobic', 'aerox', 'aeternum', 'af', 'afa', 'affair', 'affika', 'affirm', 'affirmative', 'affluent', 'afford', 'affordable', 'afganies', 'afghanistan', 'afraid', 'afreaka', 'afreakkaland', 'afreka', 'africa', 'african', 'afrikaans', 'afrocant', 'afternoon', 'afterwards', 'ag', 'agad', 'agane', 'age', 'aged', 'agency', 'agenda', 'agent', 'aggellos', 'aggravated', 'aggressive', 'aggressiveness', 'aggrooigirl', 'aginst', 'agnostic', 'ago', 'agree', 'agreeable', 'agreeance', 'agreed', 'agreement', 'agrees', 'agression', 'agriculture', 'agus', 'agw', 'ah', 'ahead', 'ahem', 'ahero', 'ahhh', 'ahold', 'ahx', 'ai', 'aid', 'aided', 'aiken', 'aim', 'aimed', 'aimee', 'aint', 'aipac', 'air', 'aired', 'airing', 'airport', 'airwave', 'airy', 'ajattara', 'ak', 'aka', 'akademins', 'akem', 'aki', 'akira', 'al', 'ala', 'alabama', 'alakitok', 'alan', 'alarm', 'alaska', 'alaskan', 'alba', 'albanian', 'albany', 'albert', 'alberta', 'albion', 'albo', 'albright', 'album', 'alcohol', 'alcoholic', 'alcoholism', 'alenth', 'alert', 'aleviated', 'alex', 'alexander', 'alfred', 'algebra', 'algebraic', 'alice', 'alien', 'alienate', 'align', 'alike', 'aliquippa', 'alive', 'allah', 'alle', 'allegation', 'allege', 'alleged', 'allegedly', 'allegiance', 'alleging', 'allen', 'allergic', 'alley', 'alliance', 'allied', 'allison', 'allot', 'allow', 'allowed', 'allowing', 'allows', 'allread', 'allude', 'alluring', 'allways', 'ally', 'alma', 'almighty', 'almost', 'alone', 'along', 'alongside', 'alot', 'aloud', 'alphabet', 'alphabetical', 'alpine', 'alpm', 'alprazolam', 'already', 'alright', 'alsatian', 'also', 'alt', 'altar', 'alter', 'alternative', 'although', 'althought', 'altogether', 'aluminum', 'always', 'amarillo', 'amateur', 'amazed', 'amazement', 'amazes', 'amazing', 'amazon', 'amazonaws', 'amazonian', 'ambulance', 'amd', 'amen', 'amendment', 'america', 'american', 'americanos', 'americanus', 'amerindian', 'amhr', 'ami', 'amiable', 'amikor', 'amira', 'amish', 'ammo', 'ammunition', 'amnesiac', 'amnesty', 'amok', 'among', 'amongest', 'amongst', 'amount', 'ampaign', 'ample', 'amputee', 'amry', 'amsterdam', 'amt', 'amtrak', 'amused', 'amusing', 'amy', 'analogy', 'analysis', 'anaphora', 'anarchist', 'anatolia', 'anatoly', 'anatomy', 'anc', 'ancestor', 'ancestory', 'ancestral', 'ancestry', 'anchor', 'anchored', 'anchovy', 'ancient', 'andard', 'andersen', 'anderson', 'andme', 'andr', 'andre', 'andreas', 'andrei', 'andrew', 'andy', 'angel', 'angela', 'angeles', 'angelic', 'anger', 'angle', 'anglian', 'anglin', 'anglo', 'angry', 'anigif', 'animal', 'animalistic', 'animated', 'animatrix', 'anime', 'animosity', 'anita', 'anker', 'ankle', 'anna', 'annabella', 'annapolis', 'annexed', 'annhilate', 'annie', 'annihilate', 'anniversary', 'announced', 'announcing', 'annoying', 'annual', 'annually', 'anomaly', 'anonymous', 'another', 'answares', 'answer', 'answered', 'answering', 'ant', 'antagonist', 'antarctica', 'antelope', 'antenna', 'anthony', 'anthropological', 'anthropologist', 'anthropology', 'anti', 'antiblack', 'antic', 'antichrist', 'anticipated', 'antifa', 'antifac', 'antique', 'antisemetism', 'antisemitic', 'antoher', 'antonio', 'antoniopuffi', 'antwoord', 'anu', 'anus', 'anyboby', 'anybody', 'anymore', 'anyone', 'anyones', 'anything', 'anytime', 'anyway', 'anyways', 'anywhere', 'ao', 'aoh', 'aol', 'aor', 'ap', 'apart', 'apartheid', 'apartment', 'apathetic', 'apathy', 'ape', 'apelanta', 'apelantic', 'apelike', 'apeling', 'aplenty', 'apologist', 'apologize', 'apology', 'appalling', 'apparantly', 'apparel', 'apparently', 'appartement', 'appeal', 'appear', 'appearance', 'appeared', 'appearing', 'appears', 'appease', 'appel', 'appendix', 'applaud', 'applauding', 'apple', 'appliance', 'applicant', 'application', 'applied', 'applies', 'apply', 'applying', 'appointed', 'apprecated', 'appreciate', 'appreciated', 'appreciation', 'apprehend', 'apprehended', 'apprentice', 'approach', 'approached', 'appropriate', 'approval', 'approved', 'approx', 'approximately', 'april', 'apt', 'aquinas', 'ar', 'arab', 'arabic', 'aragorn', 'aran', 'ararat', 'arasztva', 'arbitration', 'arbucks', 'archaic', 'archbishop', 'archery', 'architecture', 'archive', 'arcing', 'ardently', 'area', 'arent', 'argath', 'argent', 'argentina', 'argue', 'argued', 'arguement', 'arguing', 'argument', 'ari', 'aria', 'arid', 'ariel', 'arise', 'arises', 'arising', 'aristocracy', 'arizona', 'arizonan', 'ark', 'arkan', 'arkansas', 'arkona', 'arm', 'armageddon', 'armbar', 'arme', 'armed', 'armenia', 'armenian', 'armine', 'armor', 'army', 'armyless', 'arno', 'arnold', 'arnt', 'arond', 'around', 'arpovci', 'arranged', 'arrangement', 'arrest', 'arrestants', 'arrested', 'arrival', 'arrive', 'arrived', 'arrives', 'arriving', 'arrogance', 'arrogant', 'arrow', 'arse', 'arseniy', 'art', 'arteamus', 'arthur', 'article', 'articls', 'artid', 'artificial', 'artillery', 'artist', 'artistic', 'aryan', 'as', 'asap', 'asatru', 'ash', 'ashamed', 'ashbury', 'ashley', 'ashore', 'asia', 'asiacourt', 'asian', 'asiatic', 'aside', 'ask', 'askari', 'asked', 'asking', 'asks', 'asleep', 'asmodean', 'asocial', 'aspartame', 'aspect', 'aspire', 'ass', 'assailant', 'assassin', 'assault', 'assaulted', 'assaulting', 'assembly', 'assertion', 'assesment', 'asset', 'assigment', 'assignment', 'assimilate', 'assimilated', 'assimilation', 'assistance', 'assisting', 'associate', 'associated', 'association', 'assorted', 'asst', 'assume', 'assumed', 'assuming', 'assumption', 'assyrian', 'asthough', 'astonishing', 'astorga', 'astr', 'astronomer', 'astrophysical', 'asurance', 'aswell', 'asyl', 'asylmottak', 'asylum', 'atcually', 'ate', 'atheistic', 'athenian', 'athenry', 'athens', 'athlete', 'athletic', 'ation', 'atlanta', 'atlantic', 'atlantid', 'atlas', 'atleast', 'atm', 'atom', 'atop', 'atra', 'atrabiliar', 'atrabilious', 'att', 'attaboy', 'attach', 'attached', 'attachment', 'attack', 'attacked', 'attacker', 'attacking', 'attempt', 'attempted', 'attempting', 'attend', 'attendance', 'attendant', 'attended', 'attending', 'attends', 'attention', 'attentive', 'attic', 'attire', 'attitude', 'attitute', 'attorney', 'attract', 'attracted', 'attracting', 'attraction', 'attractive', 'attributing', 'attwood', 'atv', 'au', 'auction', 'audience', 'audio', 'audit', 'auf', 'aufgeben', 'aufidena', 'aug', 'augen', 'aught', 'august', 'augustine', 'aunt', 'aura', 'aurora', 'auschwitz', 'aussie', 'austin', 'australia', 'australian', 'austria', 'austrian', 'austro', 'authenithic', 'authentic', 'authenticity', 'author', 'authoritarian', 'authority', 'auto', 'automaidan', 'automatic', 'autopsy', 'av', 'avaaz', 'avaialble', 'available', 'avatar', 'ave', 'avenger', 'avenue', 'average', 'averge', 'aviefw', 'avitar', 'avoid', 'avoided', 'avon', 'avondale', 'avramow', 'avreage', 'aw', 'awaits', 'awake', 'awaken', 'awakened', 'awakening', 'awakens', 'award', 'awarded', 'aware', 'away', 'awe', 'awesome', 'awful', 'awhile', 'awoke', 'aww', 'axe', 'axis', 'axle', 'aye', 'az', 'azer', 'azeri', 'aztlan', 'baba', 'babbina', 'babboon', 'babcock', 'babe', 'baboon', 'baby', 'babydaddys', 'babyface', 'babysit', 'babysitter', 'bacause', 'bach', 'bachelor', 'back', 'backdoor', 'backed', 'backfile', 'background', 'backing', 'backpack', 'backround', 'backscatter', 'backward', 'backwards', 'backyard', 'bad', 'badboybillx', 'badge', 'badger', 'badische', 'badly', 'baffling', 'baffrooms', 'bag', 'bagel', 'baggy', 'bagly', 'bah', 'baia', 'bailouts', 'baka', 'bake', 'baked', 'bakersfi', 'bakh', 'balaika', 'balance', 'bald', 'baldr', 'balduri', 'baldwin', 'balham', 'balije', 'balkan', 'ball', 'ballad', 'ballbreaking', 'ballet', 'ballina', 'ballistic', 'ballistics', 'ballot', 'ballymena', 'ballymun', 'balt', 'baltic', 'baltimore', 'baltimoresun', 'bamaman', 'ban', 'banana', 'band', 'bandera', 'bandit', 'bandura', 'bandwidth', 'bandwith', 'bang', 'banging', 'bangladeshi', 'bank', 'banker', 'banking', 'bankroll', 'bankruptcy', 'bankrupted', 'banksters', 'banned', 'banner', 'banning', 'banquet', 'banter', 'baofeng', 'baptiste', 'bar', 'barbara', 'barbarian', 'barbed', 'barbell', 'barber', 'barbie', 'bardeen', 'bardot', 'bare', 'barely', 'barfy', 'barion', 'barkaszi', 'barking', 'barley', 'barn', 'barnepige', 'baroque', 'barrel', 'barrett', 'barretts', 'barrier', 'barrrytheanglosaxon', 'bart', 'bartender', 'bartending', 'barter', 'barth', 'basayev', 'base', 'baseball', 'based', 'basen', 'bashed', 'bashing', 'basic', 'basically', 'basis', 'basket', 'basketball', 'basque', 'bast', 'bastard', 'bastrop', 'bat', 'bataan', 'batch', 'bath', 'bathory', 'bathroom', 'baton', 'battery', 'battistelli', 'battle', 'battleship', 'bauk', 'bautista', 'bay', 'baylor', 'bayonet', 'baz', 'bb', 'bbc', 'bbq', 'bbut', 'bc', 'bcg', 'bclaw', 'bdg', 'bdp', 'beach', 'beacuse', 'beaker', 'bean', 'beaner', 'beanpole', 'bear', 'beard', 'bearing', 'beast', 'beat', 'beata', 'beatdown', 'beaten', 'beater', 'beating', 'beautician', 'beautiful', 'beauty', 'beaver', 'bebop', 'became', 'becareful', 'becasue', 'become', 'becomes', 'becoming', 'becouse', 'becs', 'bed', 'bedfordshire', 'bedroom', 'bedside', 'bee', 'beef', 'beefcake', 'beeline', 'beer', 'beethoven', 'beethovenian', 'beez', 'beforehand', 'befriend', 'beg', 'began', 'begger', 'begging', 'begin', 'begininning', 'beginning', 'begley', 'begun', 'behalf', 'behave', 'behaved', 'behaving', 'behavior', 'behaviour', 'beheading', 'behind', 'behold', 'being', 'beittu', 'bel', 'bela', 'belac', 'belarus', 'belated', 'beleif', 'beleive', 'belfast', 'belfasttelegraph', 'belfry', 'belgian', 'belgium', 'belgrade', 'belief', 'believe', 'believed', 'believer', 'believing', 'belive', 'belived', 'bell', 'bellied', 'bellovits', 'bellowing', 'bellyaching', 'belong', 'belonged', 'belongs', 'beloved', 'belt', 'belted', 'ben', 'benach', 'bench', 'bending', 'beneath', 'benedictinos', 'benef', 'benefit', 'benelli', 'benifit', 'benjamin', 'bennett', 'bent', 'beo', 'berber', 'beret', 'berkeley', 'berlin', 'bernard', 'bernardino', 'bernstein', 'bernt', 'berserkergrrl', 'berzerker', 'beside', 'besides', 'bessie', 'best', 'bestyrelse', 'bet', 'betray', 'betrayal', 'better', 'betterment', 'bettie', 'betty', 'beuthen', 'beutiful', 'beutifull', 'bevandorlokkal', 'beverage', 'bevonul', 'beware', 'bey', 'beyond', 'beytter', 'bf', 'bg', 'bi', 'bias', 'biased', 'bible', 'biblical', 'bickering', 'bicycle', 'bicycling', 'bid', 'bielefeld', 'biewers', 'big', 'bigger', 'biggest', 'bigging', 'bigguy', 'bighorn', 'bigot', 'bigtime', 'bike', 'bikel', 'bikers', 'bikini', 'bil', 'bilal', 'bild', 'bile', 'bili', 'bill', 'billboard', 'billet', 'billion', 'billionaries', 'billy', 'bimetallic', 'binder', 'bio', 'biological', 'biologie', 'biology', 'biracial', 'birch', 'bird', 'birmingham', 'birth', 'birthcertificate', 'birthday', 'birthplace', 'birthrate', 'biscuit', 'bisexual', 'bismarck', 'bit', 'bitch', 'bitching', 'bite', 'biting', 'bitmapbillede', 'bitzer', 'bizarre', 'biztos', 'bjj', 'blabbering', 'black', 'blackface', 'blackhawk', 'blacklist', 'blackmail', 'blackness', 'blackout', 'blackpowder', 'blackshirt', 'blacktail', 'bladder', 'blade', 'blahhblahdieblah', 'blake', 'blame', 'blamed', 'blanche', 'blanco', 'blank', 'blanket', 'blanketed', 'blare', 'blasphemied', 'blasphemy', 'blast', 'blasted', 'blazak', 'blazer', 'blazin', 'bleach', 'bleak', 'bleed', 'bleeding', 'bleeds', 'bleep', 'blend', 'blending', 'bless', 'blessed', 'blesses', 'blessing', 'blew', 'blight', 'blind', 'blinded', 'blinder', 'blindness', 'bling', 'blizzard', 'blmtards', 'bloch', 'block', 'blockbuster', 'blocked', 'blocker', 'blocking', 'bloddy', 'bloemfontein', 'bloeslaw', 'blog', 'blogger', 'blond', 'blonde', 'blondism', 'blood', 'blooded', 'bloodline', 'bloody', 'blow', 'blowhard', 'blowing', 'blown', 'blowout', 'blowzy', 'blue', 'bluebell', 'bluegrass', 'blunts', 'blurred', 'blut', 'bm', 'bmdwcp', 'bmo', 'bmx', 'bmxer', 'bnp', 'bo', 'board', 'boarder', 'boarding', 'boasted', 'boasting', 'boat', 'boatload', 'bob', 'bobby', 'boddington', 'bodom', 'body', 'bodybuilding', 'boer', 'boggle', 'boggling', 'boginki', 'bohemian', 'bohm', 'boil', 'boke', 'bokmal', 'bold', 'boleslav', 'bollich', 'bollix', 'bolshevik', 'bolt', 'bolton', 'bomb', 'bombarded', 'bomber', 'bombing', 'bonb', 'bond', 'bondage', 'bone', 'bonfire', 'bongo', 'bonnier', 'bono', 'bonus', 'boob', 'book', 'booked', 'booking', 'booklet', 'bookmark', 'bookmarked', 'bookseller', 'boom', 'boomer', 'boomerang', 'booming', 'boonfren', 'boooom', 'boost', 'boot', 'bootcamp', 'booth', 'booze', 'bor', 'border', 'bordering', 'borderline', 'bore', 'bored', 'boredom', 'born', 'borne', 'bos', 'bosnian', 'boss', 'boston', 'botched', 'botha', 'bother', 'bothered', 'botswana', 'bottle', 'bottled', 'bottom', 'bought', 'boulevard', 'bound', 'bounty', 'bourbon', 'bourgeois', 'bourne', 'bout', 'bow', 'bowe', 'bowel', 'bowl', 'bowlin', 'bowman', 'box', 'boy', 'boycott', 'boycottkosher', 'boyfriend', 'boyhowdy', 'boyz', 'bpata', 'br', 'brace', 'bracelet', 'braddock', 'bradford', 'bradley', 'bradman', 'brady', 'brag', 'brain', 'brainless', 'brainpolluted', 'brainwash', 'brainwashed', 'brainwashing', 'brake', 'brampton', 'branch', 'brand', 'branded', 'brandenburg', 'brandishing', 'brandon', 'brash', 'brass', 'brat', 'bratislava', 'brattain', 'braun', 'brave', 'braved', 'braveheart', 'brawl', 'brazilian', 'bread', 'breading', 'break', 'breakdown', 'breakfast', 'breaking', 'breakthesilence', 'breastfeeding', 'breath', 'breathing', 'bred', 'breech', 'breed', 'breeding', 'brennan', 'brentworld', 'brethern', 'brew', 'brewer', 'brewery', 'brewing', 'brian', 'briana', 'brick', 'bridge', 'bridget', 'bridgewater', 'brief', 'brigade', 'bright', 'brighten', 'brighter', 'brighton', 'brigitte', 'brilliant', 'brilliantly', 'brin', 'bring', 'bringing', 'brings', 'brink', 'brit', 'britain', 'britannia', 'british', 'briton', 'britta', 'brittany', 'bro', 'broad', 'broadcast', 'broadcasted', 'broadcasting', 'broaden', 'broadly', 'broadway', 'brock', 'brod', 'brodie', 'broke', 'broken', 'brokenheart', 'bromsgrove', 'bronx', 'bronze', 'brood', 'brooklyn', 'broom', 'brotha', 'brothas', 'brother', 'brought', 'brown', 'brownie', 'browning', 'brownshirt', 'brownstone', 'browse', 'browsing', 'bruckner', 'brunette', 'bruno', 'brunt', 'brush', 'brussels', 'brutal', 'brutality', 'brutally', 'brute', 'bsa', 'bsoy', 'bt', 'btl', 'btw', 'bubble', 'bubweiser', 'bucharest', 'buck', 'bucket', 'buckle', 'buckshot', 'buckwheat', 'bucur', 'bud', 'budapest', 'buddha', 'buddy', 'buddylist', 'budget', 'budweiser', 'buffalo', 'buffed', 'buffer', 'bug', 'bugchasing', 'bugger', 'bugging', 'bugsy', 'buhnt', 'build', 'building', 'built', 'buisiness', 'buisness', 'bujdos', 'bujgyo', 'bukavac', 'buki', 'bukovina', 'bulba', 'bulbous', 'bulgar', 'bulgaria', 'bulgarian', 'bulgayria', 'bulikat', 'bulk', 'bull', 'bullcrap', 'bulldog', 'bullet', 'bullhead', 'bullock', 'bullsh', 'bullsnot', 'bully', 'bullying', 'bum', 'bumbling', 'bump', 'bun', 'bunch', 'bundesarchiv', 'bunny', 'burbage', 'burbs', 'burden', 'bureau', 'burg', 'burger', 'burglar', 'burglarized', 'burglary', 'burgundy', 'burka', 'burkha', 'burlington', 'burn', 'burnaby', 'burned', 'burner', 'burnin', 'burning', 'burnt', 'burr', 'burrito', 'burrowed', 'burst', 'burstein', 'bursting', 'burton', 'bury', 'burzum', 'bus', 'bused', 'bush', 'busier', 'business', 'busing', 'bussing', 'bust', 'buste', 'buster', 'busy', 'butch', 'butchered', 'butchy', 'butik', 'butler', 'butt', 'butte', 'butter', 'butternut', 'butthole', 'buttock', 'button', 'buy', 'buying', 'buzz', 'buzzpo', 'bwz', 'bye', 'byjiffylube', 'byte', 'bytom', 'ca', 'cabal', 'cabbage', 'cabin', 'cable', 'cadet', 'cafe', 'cage', 'cai', 'cairo', 'cake', 'cal', 'calculate', 'calculated', 'calculating', 'calculator', 'calgary', 'cali', 'caliber', 'calif', 'california', 'californian', 'call', 'calle', 'called', 'calledputin', 'caller', 'callin', 'calling', 'calm', 'calmady', 'calman', 'calvin', 'cam', 'cambridge', 'camden', 'came', 'camel', 'camelback', 'camellia', 'camera', 'cameraman', 'cameron', 'cameroun', 'camie', 'camille', 'camp', 'campaign', 'campbell', 'campfire', 'campground', 'campiness', 'camping', 'campo', 'campus', 'can', 'canada', 'canadian', 'cancel', 'cancelled', 'cancer', 'candidate', 'candle', 'candor', 'candy', 'canned', 'cannibalism', 'cannon', 'cant', 'cantata', 'cantina', 'canton', 'cantor', 'canvas', 'canyon', 'cap', 'capability', 'capable', 'capacity', 'caparison', 'cape', 'capital', 'capitalism', 'capitalist', 'capitulate', 'caplock', 'capped', 'captivating', 'capture', 'captured', 'caput', 'car', 'carbine', 'carcass', 'card', 'care', 'cared', 'career', 'careful', 'carefully', 'caregiver', 'careing', 'carey', 'cariboo', 'caring', 'carl', 'carley', 'carlo', 'carmageddon', 'carnage', 'carnation', 'caro', 'carol', 'carolina', 'carolus', 'carpathian', 'carpathians', 'carpenter', 'carpentry', 'carried', 'carroll', 'carrot', 'carry', 'carrying', 'cart', 'cartel', 'carton', 'cartoon', 'carved', 'carver', 'casablanca', 'case', 'cash', 'casing', 'cason', 'casper', 'cassidy', 'cassini', 'cast', 'caste', 'castle', 'castro', 'casual', 'casually', 'casualty', 'casull', 'cat', 'catalog', 'cataloged', 'catch', 'categorically', 'category', 'cater', 'catharines', 'cathedral', 'catherdral', 'catholic', 'catholicism', 'cattle', 'caucasian', 'caucasus', 'caught', 'cauldron', 'cause', 'caused', 'causeway', 'causing', 'cave', 'cb', 'cbc', 'cbr', 'cbs', 'cc', 'ccm', 'ccw', 'cd', 'ce', 'cebephibe', 'ceiling', 'celebrate', 'celebrated', 'celebrates', 'celebrating', 'celebration', 'celebrity', 'celestial', 'cell', 'cello', 'cellphone', 'celt', 'celtic', 'cemetary', 'censor', 'censored', 'censorship', 'census', 'cent', 'centaurus', 'center', 'centered', 'central', 'centre', 'centric', 'century', 'cept', 'ceremony', 'certain', 'certainly', 'certian', 'certificate', 'certification', 'cesspit', 'cesspool', 'cf', 'cgg', 'chain', 'chaining', 'chair', 'chairman', 'chairperson', 'chalk', 'challenge', 'challenged', 'challenging', 'chamber', 'chambered', 'champ', 'champion', 'chance', 'chandra', 'change', 'changed', 'changing', 'channel', 'chant', 'chantcd', 'chaos', 'chap', 'chaperoned', 'chapter', 'character', 'characteristic', 'charade', 'charcateristics', 'charge', 'charged', 'charger', 'charity', 'charles', 'charleston', 'charlie', 'charlotte', 'charlton', 'charming', 'charney', 'chart', 'charter', 'chase', 'chased', 'chasing', 'chaste', 'chat', 'chatboards', 'chatroom', 'chattin', 'chatting', 'chauvinist', 'chav', 'chavs', 'cheap', 'cheaper', 'cheated', 'chechen', 'chechnya', 'check', 'checked', 'checkering', 'checkin', 'checking', 'checklist', 'checkout', 'cheddar', 'cheek', 'cheer', 'cheered', 'cheering', 'cheerleader', 'cheese', 'cheetah', 'cheeto', 'chef', 'chem', 'chemical', 'chemistry', 'chemung', 'cheney', 'chepstow', 'cherrybyrd', 'cheryl', 'chess', 'chest', 'chetniks', 'chew', 'chezch', 'chf', 'chic', 'chicago', 'chick', 'chicken', 'chief', 'child', 'childbearing', 'childhood', 'childish', 'chile', 'chilling', 'chilrens', 'chimp', 'chimping', 'chimpout', 'chin', 'china', 'chinaman', 'chinease', 'chinese', 'chingford', 'chino', 'chip', 'chipie', 'chirstians', 'chivalry', 'chloroform', 'cho', 'chock', 'chocolate', 'choice', 'choir', 'choke', 'cholera', 'cholerae', 'choose', 'chooses', 'choosing', 'chop', 'chopin', 'chopping', 'chorus', 'chose', 'chosen', 'chowaja', 'chrildren', 'chris', 'christ', 'christains', 'christendom', 'christentum', 'christian', 'christianity', 'christmas', 'christopher', 'christy', 'chrobry', 'chroi', 'chrome', 'chrommagus', 'chromosomal', 'chromosome', 'chron', 'chronicle', 'chuck', 'chuckers', 'chucking', 'chuckle', 'chucky', 'church', 'churchill', 'chva', 'cia', 'cicero', 'cid', 'cigar', 'cigarette', 'cikavac', 'cinco', 'cindy', 'cinema', 'cinnamon', 'circle', 'circumcision', 'circumstance', 'cirurgy', 'cite', 'cited', 'citizen', 'citizenship', 'citrus', 'city', 'civ', 'civil', 'civilian', 'civilisation', 'civilised', 'civilization', 'civilize', 'civilized', 'cjo', 'ck', 'ckers', 'ckin', 'cking', 'cla', 'clad', 'claim', 'claimed', 'claiming', 'clamp', 'clap', 'clapped', 'claremont', 'clarisworks', 'clark', 'clash', 'class', 'classed', 'classic', 'classical', 'classification', 'classified', 'classmate', 'classroom', 'classwork', 'clast', 'claus', 'clause', 'clav', 'clavier', 'claw', 'clean', 'cleaned', 'cleanest', 'cleaning', 'cleansed', 'cleansing', 'clear', 'cleared', 'clearer', 'clearly', 'clemente', 'clerk', 'cleveland', 'clever', 'cliams', 'click', 'clicked', 'clientele', 'cliff', 'climb', 'clime', 'clinging', 'clinic', 'clinton', 'clip', 'clique', 'clobbering', 'clock', 'cloghane', 'clooney', 'close', 'closed', 'closely', 'closer', 'closest', 'closet', 'closing', 'closure', 'clothes', 'clothing', 'cloud', 'clown', 'club', 'clubhouse', 'clue', 'clueless', 'clumpsy', 'cluster', 'clutter', 'cm', 'cnn', 'co', 'coach', 'coal', 'coalburner', 'coalition', 'coast', 'coat', 'coating', 'cockle', 'cockroach', 'cocktail', 'cocoa', 'coconut', 'code', 'coding', 'cody', 'coffee', 'coffin', 'cohen', 'cohesion', 'coincidence', 'coke', 'col', 'cold', 'coldblooded', 'coldern', 'cole', 'coli', 'collaborationist', 'collapse', 'collapsed', 'collar', 'collateral', 'colleague', 'collect', 'collected', 'collection', 'collective', 'collectivism', 'collectivist', 'collectivization', 'collector', 'college', 'collegesposted', 'collier', 'cologne', 'colombian', 'colonial', 'colonisation', 'colonised', 'colonnade', 'colononialize', 'colony', 'color', 'colorado', 'colored', 'colorfully', 'coloring', 'colorless', 'colosseum', 'colour', 'coloured', 'colourful', 'colt', 'colud', 'columbia', 'columbus', 'columnist', 'com', 'coma', 'combat', 'combatant', 'combatives', 'combination', 'combine', 'combined', 'combing', 'come', 'comedy', 'comercial', 'comfort', 'comfortable', 'comfortably', 'comfy', 'comic', 'comical', 'coming', 'comit', 'command', 'commando', 'commemorate', 'comment', 'commentary', 'commented', 'commenters', 'commenting', 'commerce', 'commercial', 'commercialize', 'commie', 'comming', 'commissar', 'commission', 'commissioner', 'commit', 'commited', 'commitment', 'commits', 'committed', 'committing', 'common', 'commonplace', 'commrades', 'commune', 'communicate', 'communicating', 'communication', 'communism', 'communist', 'communistic', 'community', 'comp', 'compact', 'companion', 'companionship', 'company', 'comparative', 'compare', 'compared', 'comparing', 'comparison', 'compartmentalizing', 'compass', 'compassion', 'compatible', 'compatriot', 'compensation', 'compete', 'competition', 'compilation', 'compiles', 'complain', 'complainer', 'complaining', 'complains', 'complaint', 'complete', 'completed', 'completely', 'completion', 'completly', 'complex', 'complexion', 'complicated', 'complicit', 'complied', 'compliment', 'component', 'composed', 'composer', 'composite', 'compost', 'compound', 'comprehend', 'compression', 'comprising', 'compromised', 'compsing', 'compton', 'compulsatory', 'computer', 'comrade', 'comradeship', 'con', 'concealable', 'concealed', 'conceited', 'concentrate', 'concentrated', 'concentrating', 'concentration', 'concept', 'concern', 'concernd', 'concerned', 'concert', 'concerto', 'concession', 'concider', 'concidering', 'conclude', 'conclusion', 'concur', 'condemn', 'condemned', 'condemning', 'condensed', 'condensening', 'conderence', 'condition', 'conditioned', 'condoleeza', 'conducting', 'cone', 'confederate', 'conference', 'confermation', 'confess', 'confession', 'confined', 'confirm', 'confirmed', 'confiscated', 'conflict', 'confrontational', 'confrontingthe', 'confuse', 'confused', 'confusing', 'confusion', 'conger', 'congo', 'congolese', 'congrats', 'congratulate', 'congratulating', 'congratulation', 'congress', 'congressional', 'congressman', 'conjunction', 'connect', 'connecticut', 'connection', 'connor', 'conor', 'conqer', 'conquer', 'conquered', 'conquest', 'conroe', 'conscience', 'conscious', 'consciousness', 'consensual', 'consensus', 'consent', 'consequence', 'conservative', 'conservativeunderground', 'consider', 'considerable', 'consideration', 'considered', 'considering', 'considers', 'consist', 'consisted', 'consistent', 'consistently', 'conslour', 'consolidate', 'conspiracy', 'conspired', 'constant', 'constantly', 'constitution', 'constitutional', 'constructed', 'construction', 'construe', 'consulting', 'consumed', 'consumer', 'contact', 'contacted', 'contacting', 'contain', 'contained', 'container', 'contains', 'contaminate', 'contaminated', 'contaminating', 'contemplating', 'contemporary', 'contempt', 'contend', 'contender', 'content', 'contest', 'contestant', 'context', 'continent', 'continental', 'continually', 'continue', 'continued', 'continues', 'continuing', 'contract', 'contraction', 'contractor', 'contradict', 'contradicting', 'contradiction', 'contradicts', 'contrapuntal', 'contrary', 'contrast', 'contre', 'contribute', 'contributing', 'contribution', 'control', 'controlled', 'controller', 'controlling', 'controversy', 'contry', 'convened', 'convenience', 'convention', 'conversation', 'converse', 'conversing', 'convert', 'converted', 'convict', 'convicted', 'convicting', 'conviction', 'convienent', 'convince', 'convinced', 'convincing', 'convoy', 'cook', 'cooked', 'cookie', 'cooking', 'cookout', 'cooky', 'cool', 'cooler', 'coon', 'cooper', 'coordinate', 'coordinating', 'cop', 'coper', 'copper', 'copy', 'copying', 'copyright', 'cor', 'coram', 'corbett', 'cordless', 'core', 'cork', 'corn', 'cornelius', 'corner', 'cornielious', 'corona', 'corp', 'corperate', 'corporate', 'corporation', 'corps', 'corpse', 'correct', 'corrected', 'correctly', 'correctness', 'correia', 'correlation', 'correspondance', 'corressponds', 'corroding', 'corrupt', 'corrupted', 'corruption', 'cosmic', 'cossack', 'cost', 'costa', 'costanzo', 'costume', 'cotton', 'couch', 'cough', 'could', 'couldnt', 'couldve', 'council', 'counsel', 'counsellor', 'count', 'counted', 'counter', 'counterpart', 'counterproductive', 'counting', 'country', 'countryside', 'county', 'coupla', 'couple', 'coupling', 'coupon', 'courage', 'courier', 'course', 'court', 'courtesy', 'courtney', 'cousin', 'covenant', 'cover', 'coverage', 'covered', 'covering', 'covertly', 'cow', 'coward', 'cowardly', 'cowboy', 'coworkers', 'coyote', 'coz', 'cozy', 'cp', 'cpamike', 'cpamikei', 'cpath', 'cpl', 'cr', 'crab', 'crack', 'cracka', 'cracked', 'crackheads', 'cracking', 'crackle', 'cradle', 'cradlesong', 'craft', 'craig', 'crakker', 'crakron', 'cranberry', 'crane', 'crank', 'crap', 'craphole', 'crappy', 'crash', 'crashed', 'crate', 'crave', 'craving', 'crawl', 'crawling', 'crazy', 'cream', 'create', 'created', 'creates', 'creating', 'creation', 'creationism', 'creative', 'creatively', 'creativity', 'creator', 'creature', 'credibility', 'credit', 'credited', 'creek', 'creep', 'creeping', 'creepy', 'cremated', 'crepe', 'cresskill', 'creston', 'cretin', 'crew', 'crime', 'crimea', 'criminal', 'criminalized', 'crimmigrant', 'crimusz', 'cringe', 'crippin', 'cripppinnn', 'crips', 'crisis', 'crisscross', 'crissy', 'critic', 'critical', 'critisizing', 'critter', 'crkve', 'croat', 'croatia', 'croatian', 'crock', 'crocker', 'crocodile', 'crocodilian', 'cronulla', 'crony', 'crooked', 'cross', 'crossbreeding', 'crossdressers', 'crossed', 'crossing', 'crotch', 'crow', 'crowd', 'crowded', 'crowding', 'crown', 'croydon', 'crucifixion', 'crucify', 'crude', 'cruel', 'cruelty', 'cruise', 'crumble', 'crumbling', 'crusade', 'crusader', 'crush', 'crushed', 'crustacean', 'cry', 'cryptic', 'crypto', 'crystal', 'csabi', 'csey', 'csinalunk', 'cst', 'ct', 'ctr', 'ctv', 'cubicle', 'cuddle', 'cuddly', 'cue', 'cult', 'cultural', 'culturalism', 'culturally', 'culture', 'cultured', 'culturism', 'cultus', 'cummins', 'cunning', 'cup', 'cupboard', 'cupped', 'curb', 'cure', 'curfew', 'curious', 'currency', 'current', 'currently', 'curriculum', 'currie', 'curse', 'cursing', 'cursor', 'curtis', 'curve', 'cussed', 'custody', 'custom', 'customer', 'cut', 'cutback', 'cute', 'cutting', 'cuz', 'cuzco', 'cvricket', 'cw', 'cwii', 'cwpv', 'cyber', 'cyberfascist', 'cycle', 'cyclinder', 'cycling', 'cyf', 'cylinder', 'cymru', 'cyndi', 'cypress', 'cyrus', 'cz', 'czech', 'czynski', 'da', 'daay', 'dad', 'daddy', 'dagger', 'daily', 'dailymotion', 'dairy', 'dakota', 'dallas', 'dalmatie', 'dam', 'damage', 'damaged', 'damardzic', 'dame', 'damian', 'damn', 'damnable', 'damned', 'damnit', 'dan', 'dana', 'dance', 'dancing', 'dandy', 'dang', 'danger', 'dangerous', 'dangle', 'dangling', 'daniel', 'danielle', 'danish', 'danny', 'danube', 'dapkunaite', 'dare', 'daredevil', 'dark', 'darker', 'darkes', 'darkness', 'darkthrone', 'darky', 'darlington', 'darn', 'darned', 'darnell', 'darwin', 'dary', 'dash', 'dat', 'data', 'date', 'dated', 'dating', 'daughter', 'dave', 'david', 'davidduke', 'davidson', 'davis', 'davison', 'dawg', 'dawn', 'day', 'daylight', 'dc', 'de', 'dea', 'deactivation', 'dead', 'deadly', 'deaf', 'deal', 'dealer', 'dealing', 'dealt', 'dean', 'deanna', 'dear', 'death', 'deathskull', 'deathstar', 'debate', 'debated', 'debating', 'debili', 'debras', 'debris', 'debt', 'dec', 'decade', 'decapitated', 'decay', 'decaying', 'deceased', 'deceit', 'december', 'decent', 'decide', 'decided', 'decimated', 'decipher', 'decision', 'decked', 'declaration', 'declare', 'declared', 'declaring', 'decline', 'declined', 'decloration', 'decoration', 'decrease', 'decreased', 'decreed', 'ded', 'dedicated', 'dedication', 'deed', 'deemed', 'deep', 'deeper', 'deer', 'defame', 'defamed', 'default', 'defeat', 'defeated', 'defence', 'defend', 'defendant', 'defending', 'defense', 'defenseless', 'defensor', 'deffinetly', 'defiantly', 'defile', 'definatly', 'defined', 'defining', 'definite', 'definitely', 'definition', 'definitly', 'defrauded', 'deg', 'degeneracy', 'degenerate', 'degradation', 'degrade', 'degrading', 'degree', 'dehydrated', 'deinen', 'deiw', 'dekalb', 'deklerk', 'delacroix', 'delay', 'delete', 'deleted', 'deliberate', 'deliberately', 'delica', 'delicious', 'delig', 'delight', 'delightful', 'deliver', 'delivered', 'delivery', 'deltar', 'deluded', 'delusional', 'dem', 'demand', 'demanding', 'demarco', 'dementieva', 'demian', 'demise', 'demiurge', 'demo', 'democracy', 'democrat', 'democratic', 'democratically', 'demographic', 'demon', 'demonic', 'demonizing', 'demonstranten', 'demonstrated', 'demonstrating', 'demonstration', 'demonstrator', 'demoralising', 'demoralize', 'demoralizing', 'demostration', 'demps', 'den', 'dendu', 'deniability', 'denial', 'denied', 'denies', 'denmark', 'dennis', 'dennys', 'denominational', 'denoucing', 'denson', 'denver', 'deny', 'denying', 'departement', 'department', 'depend', 'dependence', 'dependent', 'depending', 'depends', 'depicting', 'depicts', 'deport', 'deportation', 'deported', 'depresion', 'depressed', 'depressing', 'depression', 'deprivation', 'deprived', 'depriving', 'dept', 'depth', 'deputy', 'der', 'derail', 'derailer', 'derailers', 'dere', 'derren', 'descendant', 'descended', 'descent', 'describe', 'described', 'describes', 'describing', 'description', 'desecrate', 'desert', 'deserve', 'deserved', 'deserves', 'deshawn', 'design', 'designed', 'designer', 'desirable', 'desire', 'desired', 'desk', 'desktop', 'desperate', 'desperately', 'despicable', 'despise', 'despised', 'despite', 'dessert', 'destination', 'destined', 'destoration', 'destory', 'destroy', 'destroyed', 'destroying', 'destroys', 'destruction', 'destructive', 'det', 'detail', 'detained', 'detective', 'detector', 'detent', 'detention', 'deter', 'determination', 'determine', 'determined', 'determines', 'deters', 'detest', 'detrimental', 'detroid', 'detroit', 'detroying', 'deuteronomy', 'deutsch', 'deutschen', 'deutschland', 'devastating', 'develop', 'develope', 'developed', 'developer', 'development', 'developmentally', 'devestating', 'deviant', 'device', 'devil', 'devise', 'devoid', 'devoted', 'devotional', 'dew', 'dey', 'dfu', 'dh', 'dhuibh', 'diabetes', 'diablo', 'diabolical', 'diabulus', 'dial', 'dialogue', 'diameter', 'diamond', 'dian', 'diaper', 'diary', 'diaz', 'dice', 'dick', 'dictate', 'dictator', 'dictionary', 'didnt', 'dids', 'die', 'died', 'diego', 'diesel', 'diet', 'dieversity', 'diferences', 'differ', 'difference', 'different', 'differently', 'differs', 'difficult', 'difuses', 'dig', 'digg', 'digging', 'digital', 'dignity', 'dilbaeqqrqy', 'dillon', 'dime', 'din', 'dinaric', 'dinarid', 'dine', 'dingle', 'dingleberry', 'dinner', 'dino', 'diocese', 'dion', 'dip', 'diploma', 'dipped', 'dire', 'direct', 'directed', 'directing', 'direction', 'directive', 'directly', 'directorate', 'directory', 'direland', 'dirt', 'dirty', 'disadvantaged', 'disagree', 'disagrees', 'disappear', 'disappearance', 'disappeared', 'disappearing', 'disappears', 'disappointed', 'disappointing', 'disapproval', 'disaster', 'disc', 'discharge', 'disciplinarian', 'discipline', 'disclose', 'discourage', 'discouraged', 'discover', 'discovered', 'discovery', 'discreetly', 'discriminate', 'discrimination', 'discus', 'discussed', 'discussing', 'discussion', 'disease', 'dised', 'disenfranchisement', 'disgrace', 'disgraceful', 'disgust', 'disgusted', 'disgusting', 'disgustingly', 'dish', 'dishing', 'disinformation', 'disk', 'diskriminacije', 'disliked', 'dismal', 'dismissed', 'dismissive', 'disney', 'disorder', 'disorderly', 'disowned', 'dispatch', 'dispatched', 'display', 'displayed', 'disposal', 'disprove', 'dispute', 'disrespect', 'disrespectful', 'disrupting', 'disruptive', 'disrupts', 'dissappeared', 'dissaprove', 'disseminating', 'disservice', 'dissident', 'dissolve', 'dissuad', 'distance', 'distant', 'distinction', 'distinctive', 'distinguish', 'distinguished', 'distortion', 'distracted', 'distraction', 'distressed', 'distribute', 'distributed', 'distribution', 'district', 'disturb', 'disturbance', 'disturbing', 'disunity', 'dive', 'dived', 'diverse', 'diversified', 'diversity', 'divide', 'divided', 'divine', 'diving', 'divinity', 'division', 'divorce', 'divorced', 'dixie', 'dj', 'django', 'dmitri', 'dmitriy', 'dna', 'dnwk', 'dob', 'dobbs', 'doc', 'docid', 'docking', 'doctor', 'doctrine', 'docu', 'document', 'documentary', 'documentation', 'documented', 'docx', 'doer', 'doesnt', 'dog', 'dogma', 'doh', 'doi', 'doin', 'doings', 'doj', 'dol', 'dole', 'doll', 'dollar', 'dollhouse', 'dom', 'domestic', 'domesticated', 'dominant', 'dominantly', 'dominate', 'dominated', 'dominating', 'dommer', 'donate', 'donated', 'donation', 'done', 'donetsk', 'dong', 'donig', 'donkey', 'dont', 'donut', 'doo', 'doofus', 'doom', 'doomed', 'door', 'doorman', 'doorstep', 'dope', 'dora', 'dorati', 'dormant', 'dose', 'dot', 'dottk', 'double', 'doubly', 'doubt', 'doubtful', 'doug', 'dough', 'douglad', 'douglas', 'dov', 'dover', 'downfall', 'download', 'downloaded', 'downloading', 'downloads', 'downplaying', 'downtown', 'downunder', 'doze', 'dozen', 'dr', 'draco', 'dracula', 'draft', 'drafted', 'drag', 'dragged', 'dragging', 'dragnet', 'dragon', 'dragonball', 'dragoon', 'draiodoir', 'drama', 'dramastein', 'dramatic', 'dramatica', 'drank', 'draw', 'drawback', 'drawer', 'drawing', 'drawn', 'drc', 'dreadful', 'dreadlock', 'dream', 'dreaming', 'dresden', 'dress', 'dressed', 'dresser', 'dressier', 'dressing', 'drew', 'drift', 'drifter', 'drill', 'drilling', 'drink', 'drinking', 'dripping', 'drive', 'drivel', 'driven', 'driver', 'driveway', 'drivin', 'driving', 'drm', 'drmradio', 'drone', 'drool', 'drooling', 'droop', 'drooping', 'drop', 'dropped', 'dropper', 'dropping', 'drought', 'drove', 'drown', 'drowning', 'drug', 'druggies', 'druig', 'drummer', 'drunk', 'drunkenly', 'dry', 'drying', 'dt', 'du', 'dubai', 'dubious', 'dublin', 'duck', 'dude', 'dudley', 'due', 'duetschgirltx', 'duke', 'dull', 'dumb', 'dumbbell', 'dumbed', 'dumber', 'dummy', 'dump', 'dumped', 'dumping', 'dung', 'dungeon', 'dunham', 'dunkin', 'dunnes', 'dunno', 'dup', 'duplicate', 'dupont', 'durn', 'dust', 'dusty', 'dutch', 'dutchy', 'dutton', 'duty', 'dvd', 'dvu', 'dw', 'dwarf', 'dwelled', 'dweller', 'dwhwn', 'dy', 'dye', 'dyed', 'dyeing', 'dying', 'dyke', 'dynamite', 'dyrker', 'dysgenics', 'dysnomia', 'dyson', 'eachother', 'eagle', 'eagnews', 'ear', 'eariler', 'earl', 'earlier', 'earliest', 'early', 'earn', 'earned', 'earring', 'earshot', 'earth', 'earthly', 'ease', 'easier', 'easiest', 'easily', 'east', 'easten', 'easter', 'eastern', 'easy', 'eat', 'eaten', 'eating', 'eats', 'eature', 'ebay', 'ebola', 'ebonics', 'ebony', 'ebook', 'ecclesiastical', 'echo', 'economic', 'economical', 'economics', 'economy', 'ecstasy', 'ect', 'ed', 'eddie', 'edgar', 'edge', 'edgefielddaily', 'edible', 'edin', 'edinburgh', 'edit', 'edited', 'edition', 'edits', 'edl', 'edlinger', 'edmonton', 'edt', 'eduard', 'educate', 'educated', 'educating', 'education', 'educational', 'edward', 'edwin', 'eeeeh', 'effect', 'effective', 'effectiveness', 'efficient', 'effin', 'effort', 'eftir', 'eg', 'egar', 'ege', 'egg', 'egtgg', 'eguptshuns', 'egy', 'egyet', 'egypt', 'egyptian', 'egyutest', 'eh', 'ehre', 'eight', 'eiginkonu', 'ein', 'einen', 'einer', 'einherjer', 'einst', 'einstein', 'eisenhower', 'either', 'eithre', 'ek', 'eka', 'ekh', 'eko', 'eksamen', 'ekspansja', 'el', 'elaborate', 'elapsed', 'elated', 'elbow', 'eld', 'eldawg', 'elderly', 'eldest', 'eldritch', 'elect', 'elected', 'election', 'electric', 'electrical', 'electrically', 'electricty', 'electrocuted', 'electronics', 'element', 'elementary', 'elena', 'elevate', 'elevating', 'eleventh', 'elf', 'elgin', 'eliminate', 'eliminated', 'elimination', 'elite', 'elizabeth', 'elk', 'eller', 'elliott', 'elliptical', 'elmira', 'elo', 'else', 'elsewhere', 'eltz', 'elusive', 'em', 'email', 'emailed', 'emailing', 'emain', 'embarassing', 'embaressing', 'embarisment', 'embarrassed', 'embarrassing', 'embarrassment', 'embassy', 'embedded', 'embernek', 'emblem', 'emboldened', 'embrace', 'embraced', 'embracing', 'embroiled', 'emc', 'ememy', 'emerald', 'emergency', 'emerging', 'emily', 'eminem', 'emission', 'emmigration', 'emos', 'emperor', 'emphasis', 'empire', 'employ', 'employed', 'employee', 'employer', 'employing', 'employment', 'empowerment', 'empty', 'emulate', 'emulating', 'en', 'enable', 'enablers', 'enabling', 'enca', 'enchanting', 'enchantment', 'encircled', 'enclave', 'encounter', 'encountered', 'encourage', 'encouraged', 'encouragement', 'encouraging', 'encyclopedia', 'end', 'endeavour', 'ended', 'endgame', 'ending', 'endla', 'endless', 'endorse', 'endorsed', 'endscreen', 'endurance', 'endure', 'enemy', 'energy', 'enforced', 'enforcement', 'enforcing', 'enforcment', 'engaged', 'engages', 'engaging', 'engdahl', 'engelhardt', 'engeset', 'engine', 'engineer', 'engineered', 'engineering', 'england', 'englehart', 'engles', 'english', 'enigma', 'eniko', 'enjoy', 'enjoyed', 'enjoying', 'enjoyment', 'enjoys', 'enlarge', 'enlightened', 'enlightening', 'enlroll', 'ennfremur', 'enoch', 'enough', 'enraged', 'enriched', 'enrichers', 'enriches', 'enriching', 'enrichment', 'enrolling', 'enrollment', 'ensemble', 'enslaved', 'enslavement', 'ensued', 'ensure', 'entanglement', 'enter', 'entered', 'entering', 'entertain', 'entertaining', 'entertainment', 'enthusiast', 'enthusiastic', 'entice', 'entire', 'entirely', 'entirety', 'entitled', 'entitlement', 'entrancing', 'entry', 'entshandout', 'enugh', 'enught', 'environment', 'envy', 'ep', 'epi', 'episode', 'epistrophe', 'epithet', 'epitome', 'epost', 'epp', 'equal', 'equality', 'equally', 'equate', 'equation', 'equinox', 'equipment', 'equivalent', 'er', 'era', 'erase', 'erd', 'ere', 'erected', 'erffs', 'erfi', 'ergo', 'eric', 'erica', 'ericahoesch', 'erick', 'erik', 'erin', 'eris', 'ernst', 'err', 'error', 'erwin', 'erzelmeit', 'esa', 'escalator', 'escape', 'eschewed', 'escorted', 'esik', 'esp', 'espagnol', 'espanol', 'especially', 'esque', 'essay', 'essayist', 'essence', 'essential', 'essentially', 'essex', 'est', 'establish', 'established', 'establishedmen', 'establishment', 'estate', 'estimate', 'estimation', 'estonia', 'estonian', 'estranged', 'eszter', 'et', 'eta', 'etc', 'etecerta', 'eternal', 'eternity', 'ethan', 'ethical', 'ethicts', 'ethiopia', 'ethnic', 'ethnical', 'ethnically', 'ethnicity', 'ethno', 'ethnocentric', 'ethnonym', 'ethyl', 'etters', 'etymology', 'eu', 'euaggelion', 'euclid', 'eugene', 'eugenics', 'euorpe', 'euro', 'eurocatb', 'eurocentric', 'eurodate', 'euromutt', 'europa', 'europae', 'europe', 'european', 'europeoid', 'europeons', 'europhobia', 'europhobic', 'europid', 'europids', 'europoid', 'eurorus', 'eurosport', 'euthanized', 'evaline', 'evancho', 'evangel', 'evangelist', 'eve', 'even', 'evening', 'event', 'eventhough', 'eventually', 'ever', 'evertime', 'everton', 'every', 'everybody', 'everyday', 'everyone', 'everyones', 'everything', 'everytime', 'everywhere', 'evidence', 'evil', 'evllzrd', 'evoluated', 'evolution', 'evolutionary', 'evolve', 'evolved', 'evtsys', 'ewell', 'ewige', 'ex', 'exact', 'exactly', 'exaggerated', 'exaggerates', 'exaggerating', 'exaggeration', 'exam', 'example', 'exatly', 'excelled', 'excellent', 'except', 'exception', 'excersize', 'excess', 'exchange', 'excited', 'exciting', 'excludes', 'exclusive', 'exclusively', 'excuse', 'execellent', 'executed', 'execution', 'executive', 'exempt', 'exercise', 'exercising', 'exist', 'existant', 'existed', 'existence', 'existent', 'existing', 'exists', 'exit', 'exotic', 'expand', 'expanded', 'expanding', 'expansion', 'expansive', 'expect', 'expectation', 'expected', 'expecting', 'expeled', 'expelled', 'expense', 'expensive', 'experience', 'experienced', 'experiencing', 'experiment', 'expert', 'explain', 'explained', 'explaining', 'explains', 'explanation', 'explicitly', 'explode', 'exploded', 'exploited', 'exploiting', 'explore', 'explored', 'explores', 'explosion', 'exponentially', 'export', 'expose', 'exposed', 'exposing', 'exposure', 'express', 'expressed', 'expressing', 'expression', 'expulsion', 'exquisitely', 'exsplosives', 'extended', 'extending', 'extensive', 'extensively', 'extent', 'exterminate', 'exterminated', 'exterminating', 'extermination', 'extinct', 'extinction', 'extintion', 'extra', 'extract', 'extracurriculars', 'extraversion', 'extrea', 'extreme', 'extremely', 'extremist', 'ey', 'eye', 'eyed', 'eyh', 'eynde', 'ez', 'fa', 'fabric', 'fabricated', 'facade', 'face', 'facebook', 'facial', 'facility', 'facing', 'facist', 'fact', 'factbook', 'factor', 'factory', 'factual', 'faculteit', 'faculty', 'fadas', 'faderen', 'fading', 'fag', 'fagan', 'faggot', 'faggotry', 'fail', 'failed', 'failing', 'fails', 'failure', 'faint', 'fair', 'faire', 'fairground', 'fairly', 'fairy', 'faith', 'fake', 'fall', 'fallacy', 'fallen', 'falling', 'fallout', 'false', 'falsely', 'falwells', 'fame', 'familes', 'familiar', 'familier', 'family', 'famine', 'famous', 'fan', 'fanboy', 'fantastic', 'fantasy', 'far', 'farcical', 'fare', 'fareo', 'fargo', 'farhard', 'farkel', 'farkin', 'farm', 'farmer', 'farming', 'fart', 'farther', 'fascinating', 'fascism', 'fascist', 'fashion', 'fashionable', 'fashioned', 'fast', 'faster', 'fastest', 'fat', 'fatal', 'fatally', 'fate', 'father', 'fatherless', 'fathom', 'fatter', 'fattest', 'fatty', 'faught', 'fault', 'faust', 'fauster', 'faux', 'fav', 'faves', 'favor', 'favorable', 'favoriate', 'favorite', 'favour', 'favourite', 'fawk', 'fawning', 'fax', 'fay', 'fb', 'fbc', 'fbcdn', 'fbi', 'fcks', 'fe', 'fear', 'fearful', 'feast', 'feather', 'feature', 'featured', 'featuring', 'feb', 'february', 'fecal', 'feces', 'feck', 'fecken', 'fed', 'federal', 'federalist', 'federation', 'fedex', 'fedor', 'fedora', 'fee', 'feebly', 'feed', 'feeding', 'feeeaaver', 'feel', 'feeling', 'feesible', 'feher', 'fel', 'fell', 'fella', 'felling', 'fellow', 'felony', 'felt', 'felv', 'female', 'feminine', 'feminism', 'feminist', 'femur', 'fence', 'fenced', 'fend', 'fenian', 'fenris', 'feral', 'ferguson', 'feria', 'fertile', 'fertilization', 'fession', 'fest', 'festival', 'fetish', 'fetus', 'fever', 'fewer', 'ff', 'fffg', 'ffg', 'ffs', 'fh', 'fianc', 'fiction', 'fictional', 'fiddler', 'fidelity', 'field', 'fierce', 'fiercely', 'fifa', 'fifteen', 'fifth', 'fifty', 'fight', 'fighter', 'fightin', 'fighting', 'figure', 'figured', 'figurehead', 'file', 'filed', 'filipina', 'filipino', 'fill', 'fille', 'filled', 'film', 'filmed', 'filt', 'filter', 'filth', 'filthy', 'fin', 'final', 'finally', 'finallytransformedformersovietjewnion', 'finance', 'financial', 'financialy', 'financing', 'find', 'finding', 'findlay', 'fine', 'finest', 'finger', 'fingerprint', 'finially', 'finish', 'finished', 'finishing', 'finland', 'finlly', 'finn', 'finnic', 'finnish', 'finnkampen', 'finno', 'fire', 'firearm', 'firebird', 'fired', 'firefighter', 'firefox', 'firestorm', 'firework', 'firm', 'firmly', 'first', 'fish', 'fisherman', 'fishing', 'fishman', 'fist', 'fit', 'fithy', 'fitness', 'fittest', 'fitting', 'five', 'fix', 'fixed', 'fl', 'fla', 'flag', 'flagged', 'flame', 'flanative', 'flanders', 'flanked', 'flap', 'flare', 'flash', 'flat', 'flatland', 'flatten', 'flattened', 'flavor', 'flavored', 'flaw', 'flawed', 'flax', 'flea', 'fled', 'flee', 'fleeing', 'fleet', 'fleming', 'flesh', 'flew', 'flexible', 'flick', 'flickering', 'flier', 'flight', 'fling', 'flint', 'flintshire', 'flip', 'flipped', 'flipping', 'flipside', 'flirting', 'floating', 'flock', 'flood', 'flooded', 'flooding', 'floor', 'flop', 'flopping', 'florida', 'flour', 'flourished', 'flow', 'flower', 'floyd', 'fluffing', 'flung', 'flush', 'flv', 'fly', 'flyer', 'flyering', 'flying', 'flyres', 'fm', 'fmj', 'fmjjsd', 'fnf', 'fo', 'focus', 'focused', 'focusing', 'foeigners', 'fogalmam', 'foggy', 'fohrendorf', 'foisted', 'fold', 'folder', 'folding', 'folio', 'folk', 'folketingets', 'folklore', 'folkwear', 'follow', 'followed', 'follower', 'following', 'follows', 'fom', 'fond', 'fondling', 'food', 'fool', 'foolish', 'foot', 'footage', 'football', 'footbridge', 'footing', 'forbes', 'forbid', 'forbidden', 'force', 'forced', 'forcing', 'ford', 'forecast', 'forefather', 'forehead', 'foreighners', 'foreign', 'foreigner', 'foreman', 'foremost', 'forensic', 'foresee', 'foresight', 'foreskin', 'forest', 'forever', 'forewarned', 'forgein', 'forget', 'forgive', 'forgiven', 'forgiveness', 'forgot', 'forgotten', 'foriegn', 'foriegners', 'forking', 'forklift', 'forlorad', 'form', 'formal', 'format', 'formed', 'former', 'forming', 'formula', 'formulate', 'forn', 'forresten', 'forskin', 'fort', 'forth', 'forthwith', 'fortson', 'fortunate', 'fortunately', 'fortune', 'forty', 'forum', 'foruth', 'forward', 'forwarded', 'fosse', 'fossey', 'foster', 'fotos', 'fought', 'found', 'foundamental', 'foundation', 'founded', 'founding', 'fountain', 'four', 'fourteen', 'fourth', 'fowl', 'fox', 'foxnews', 'fpv', 'fqpazvlq', 'fr', 'fraction', 'fracture', 'frakkin', 'frame', 'framed', 'framer', 'framing', 'fran', 'france', 'francesca', 'franciscan', 'francisco', 'franco', 'frank', 'frankfurt', 'frankish', 'franklin', 'frankly', 'frankreich', 'franz', 'fraser', 'fraternity', 'fraud', 'freak', 'freaking', 'freakout', 'freckled', 'fred', 'frederic', 'fredericia', 'frederick', 'frederik', 'fredrik', 'free', 'freedman', 'freedom', 'freedomranger', 'freehold', 'freelance', 'freely', 'freeman', 'freemason', 'freese', 'freeway', 'freewheel', 'freewill', 'freeze', 'fref', 'frei', 'freiburg', 'french', 'frenzy', 'frequency', 'frequently', 'fresh', 'freshly', 'freuer', 'freundschaft', 'fri', 'friction', 'friday', 'fridge', 'fried', 'friend', 'friendly', 'friendship', 'friesl', 'frigg', 'friggen', 'frigging', 'friggsday', 'frightened', 'frightens', 'frigin', 'frist', 'fritid', 'fritz', 'fro', 'frome', 'fromm', 'front', 'frontline', 'frown', 'froze', 'frozen', 'fructose', 'fruit', 'fruita', 'frustrated', 'frustration', 'fry', 'fsb', 'fsicqgo', 'fstoppers', 'ft', 'ftf', 'fu', 'fubu', 'fufilled', 'fugitive', 'fugue', 'fukushima', 'full', 'fullest', 'fully', 'fumble', 'fumigate', 'fun', 'function', 'functional', 'functionality', 'functioning', 'fund', 'fundamental', 'fundamentalist', 'funded', 'fundimental', 'funding', 'fundraising', 'funeral', 'funk', 'funnel', 'funneling', 'funniest', 'funny', 'fur', 'furguson', 'furiously', 'furman', 'furnished', 'furthermore', 'furture', 'furtwangler', 'fusion', 'future', 'fuzzy', 'fvmq', 'fwy', 'fxck', 'fyrdung', 'fyromanians', 'fyromia', 'fyromians', 'ga', 'gacek', 'gaelach', 'gaelic', 'gaga', 'gagged', 'gain', 'gained', 'gainesville', 'gal', 'galan', 'galaxy', 'galicia', 'gallagher', 'gallon', 'galveston', 'galway', 'gambit', 'game', 'gamekeeper', 'gameplay', 'gander', 'gang', 'gangbangers', 'ganges', 'gangsta', 'gangstaas', 'gangster', 'gaol', 'gap', 'gar', 'garage', 'garbage', 'garda', 'gardai', 'garden', 'gardener', 'gargling', 'garland', 'garmgormius', 'garner', 'garnered', 'garry', 'garvaghy', 'gary', 'gas', 'gasoline', 'gasp', 'gat', 'gate', 'gated', 'gather', 'gathered', 'gatherer', 'gathering', 'gatsby', 'gatto', 'gauge', 'gauged', 'gaul', 'gauleiter', 'gaurantee', 'gaurd', 'gave', 'gawk', 'gay', 'gayest', 'gazette', 'gazing', 'gb', 'gcse', 'gd', 'gdansk', 'gdp', 'gdyjju', 'ge', 'gear', 'geared', 'ged', 'gee', 'geesh', 'gefin', 'gegen', 'gekas', 'gel', 'geller', 'gelman', 'geminorum', 'gen', 'gender', 'gene', 'general', 'generally', 'generated', 'generating', 'generation', 'generational', 'genesis', 'genet', 'genetic', 'genetical', 'genetically', 'geneticist', 'genetics', 'genicide', 'genitals', 'genius', 'genocidal', 'genocide', 'genotype', 'genre', 'gentile', 'gentleman', 'genug', 'genuine', 'geocities', 'geographic', 'geography', 'george', 'georgetown', 'georgia', 'georgian', 'gerber', 'gerdes', 'germ', 'german', 'germanic', 'germany', 'geroge', 'gerrard', 'gerry', 'geschworn', 'gesture', 'gesund', 'get', 'getcha', 'getting', 'getz', 'geyser', 'gf', 'ghastly', 'ghetto', 'ghlight', 'ghost', 'gi', 'giant', 'gibb', 'gibberish', 'gick', 'gide', 'gift', 'gifted', 'gig', 'gille', 'gillespie', 'gilmore', 'gilt', 'gimmiegrunts', 'ginger', 'gingerbread', 'gioese', 'girl', 'girlfriend', 'gish', 'git', 'give', 'given', 'giving', 'gj', 'gjhr', 'gk', 'gl', 'glaciation', 'glacier', 'glad', 'gladiator', 'gladly', 'gladys', 'glamorises', 'glared', 'glasgow', 'glass', 'glasser', 'glassy', 'glbt', 'glee', 'gleiwitz', 'glendale', 'glimmering', 'glimpe', 'glimps', 'gliwice', 'global', 'globalism', 'globalnews', 'globe', 'glock', 'glorification', 'glorified', 'glorify', 'glorious', 'glory', 'gloucester', 'glove', 'glow', 'glued', 'gm', 'gmail', 'gmo', 'gn', 'gnotella', 'go', 'goal', 'goat', 'goatee', 'gobbledegook', 'gobi', 'goblin', 'god', 'goddamn', 'goddess', 'godforsaken', 'godsend', 'godunov', 'goetz', 'goffer', 'goin', 'going', 'goinna', 'gold', 'goldberg', 'goldeboy', 'golden', 'goldenboy', 'golf', 'golgo', 'gollnisch', 'gon', 'gone', 'gontyna', 'gonz', 'gonzalez', 'good', 'goodbye', 'goode', 'goodness', 'goodreads', 'goody', 'goof', 'google', 'gook', 'goose', 'gopro', 'gordon', 'gordons', 'gorgeous', 'gorgoroth', 'gorilla', 'gorton', 'gospel', 'got', 'gota', 'gotchya', 'goth', 'gothard', 'goto', 'gott', 'gottem', 'gotten', 'goudreau', 'gouge', 'gourmet', 'gov', 'goverment', 'government', 'governmental', 'governor', 'govt', 'gow', 'gowdy', 'gower', 'goy', 'gpa', 'gps', 'gr', 'gra', 'grab', 'grabbed', 'grabber', 'grabbing', 'grace', 'gracious', 'grad', 'grade', 'grading', 'gradual', 'gradually', 'gradualy', 'graduate', 'graduated', 'graduation', 'graf', 'graffiti', 'grafton', 'graham', 'grain', 'grammar', 'gramme', 'grammer', 'grand', 'grandad', 'grandchild', 'granddaughter', 'grandfather', 'grandma', 'grandmother', 'grandpa', 'grandparent', 'grandparental', 'grandson', 'grange', 'granite', 'grant', 'granted', 'grape', 'graphic', 'grappler', 'grappling', 'grasp', 'grass', 'grateful', 'gratia', 'gratification', 'gratitude', 'gratuitous', 'grave', 'graveland', 'graveyard', 'gravitates', 'gravy', 'gray', 'gread', 'great', 'greater', 'greatest', 'greatly', 'greece', 'greedy', 'greek', 'green', 'greencard', 'greeneville', 'greenville', 'greet', 'greeter', 'greeting', 'greetz', 'greg', 'gregorian', 'greit', 'grenade', 'grenadier', 'gretchen', 'gretel', 'grew', 'grey', 'greyhound', 'grid', 'grief', 'grieving', 'griffin', 'grill', 'grilling', 'grin', 'grindres', 'grinned', 'grip', 'gripe', 'gripfasts', 'grizzly', 'gro', 'grocery', 'groid', 'groidal', 'groids', 'groomed', 'grooving', 'gross', 'grossed', 'grouch', 'ground', 'grounded', 'group', 'groupid', 'grouping', 'grove', 'groveling', 'grover', 'grow', 'growing', 'grown', 'growth', 'grrrr', 'gru', 'grub', 'grubbers', 'gruesome', 'grumbling', 'grunge', 'gruop', 'gta', 'guantanamo', 'guarantee', 'guard', 'guardian', 'gud', 'guelph', 'guess', 'guessed', 'guessing', 'guest', 'guidance', 'guide', 'guided', 'guideline', 'guilt', 'guilty', 'guinea', 'guiness', 'guinness', 'guise', 'guitar', 'gulag', 'gulf', 'gulyas', 'gum', 'gun', 'gunfire', 'gunman', 'gunner', 'gunpoint', 'gunsmithing', 'gunther', 'gurnow', 'gut', 'gutierrez', 'gutless', 'guy', 'gvideo', 'gy', 'gyc', 'gym', 'gymnastics', 'gypises', 'gypsie', 'gypsy', 'gyspsies', 'ha', 'haben', 'habit', 'hack', 'hacked', 'hacking', 'hadding', 'haddock', 'hadnt', 'hadsereg', 'hafi', 'hag', 'hagel', 'hagen', 'hagis', 'haha', 'hahaha', 'hahahahahaha', 'hahahhah', 'hai', 'haid', 'haight', 'hail', 'hair', 'haircut', 'haired', 'hairstyle', 'haiti', 'haitian', 'hal', 'halasz', 'half', 'halfway', 'hall', 'halliujah', 'halloween', 'hallway', 'halt', 'ham', 'haman', 'hamburg', 'hamilton', 'hamlet', 'hammer', 'hammerfist', 'hammerskins', 'hamms', 'hampden', 'han', 'hand', 'handball', 'handbook', 'handed', 'handel', 'handelsbetjent', 'handelsskolen', 'handful', 'handgun', 'handily', 'handing', 'handle', 'handlebar', 'handled', 'handler', 'handling', 'handout', 'handsome', 'handwritten', 'handy', 'handyman', 'hang', 'hanged', 'hanger', 'hanging', 'hangout', 'hannah', 'hansel', 'hanson', 'hapless', 'haplogroup', 'haplotype', 'happen', 'happend', 'happened', 'happening', 'happenned', 'happens', 'happily', 'happy', 'har', 'hara', 'harass', 'harassed', 'harassment', 'harbor', 'harbour', 'hard', 'hardcopies', 'hardcopy', 'hardcore', 'hardcover', 'hardened', 'harder', 'hardest', 'hardin', 'hardly', 'hardware', 'hardy', 'haribo', 'harlem', 'harley', 'harm', 'harmful', 'harmonic', 'harnett', 'harold', 'harp', 'harrington', 'harris', 'harrisburg', 'harrison', 'harry', 'harryville', 'harsh', 'harvard', 'harvest', 'hasnt', 'hassel', 'hasten', 'hat', 'hate', 'hated', 'hateful', 'hater', 'hatewatch', 'hatey', 'hathaway', 'hating', 'hatred', 'hatt', 'haughey', 'haul', 'haulin', 'hauling', 'haunted', 'havent', 'havin', 'havoc', 'hawaiian', 'hawken', 'hawking', 'hawkins', 'hawthorne', 'hay', 'hayden', 'hayes', 'haymaker', 'haywire', 'hazafias', 'hazel', 'hb', 'hcf', 'hd', 'he', 'hea', 'head', 'headed', 'headfirst', 'headind', 'heading', 'headline', 'headphone', 'headscarf', 'headteacher', 'heal', 'healing', 'health', 'healthcare', 'healthy', 'heap', 'hear', 'heard', 'hearing', 'hears', 'heart', 'heartbeat', 'heartbreaking', 'hearted', 'heartless', 'hearty', 'heat', 'heated', 'heater', 'heath', 'heathen', 'heathrow', 'heathway', 'heaven', 'heavenly', 'heavier', 'heavily', 'heavy', 'heavyweight', 'hebrew', 'hectic', 'hector', 'hee', 'heel', 'heem', 'hef', 'hegemony', 'heh', 'hehe', 'heheh', 'hehehe', 'height', 'heil', 'heily', 'heims', 'heinious', 'heinrich', 'heisst', 'hel', 'hela', 'held', 'helge', 'helicopter', 'hell', 'hellenic', 'hellenistic', 'hellhole', 'helll', 'hello', 'helmet', 'helmsdeep', 'help', 'helpdesk', 'helped', 'helpful', 'helping', 'helpless', 'hence', 'henry', 'herbrews', 'hercules', 'herd', 'herditary', 'herford', 'heritage', 'herman', 'hero', 'heroin', 'heroine', 'heroism', 'herp', 'herr', 'hershey', 'hertfordshire', 'hervaldi', 'hesitate', 'hess', 'heston', 'het', 'heterosexual', 'hetrosexuality', 'hewlett', 'hews', 'hexakopter', 'hey', 'hg', 'hh', 'hi', 'hibernating', 'hickory', 'hidden', 'hide', 'hiding', 'hierarchy', 'high', 'highclere', 'higher', 'highest', 'highland', 'highlight', 'highligted', 'highly', 'highrise', 'highschool', 'highway', 'higvcjfcq', 'hihetetlen', 'hijab', 'hike', 'hiking', 'hilarious', 'hill', 'hillary', 'hillsdale', 'hilton', 'himmler', 'hindu', 'hint', 'hip', 'hipicrits', 'hipocracy', 'hippy', 'hippyism', 'hire', 'hired', 'hiring', 'hiroshima', 'hirschel', 'hispanic', 'hiss', 'historian', 'historic', 'historical', 'historically', 'history', 'hit', 'hitched', 'hitchens', 'hitchers', 'hitchhiking', 'hitching', 'hitler', 'hitlerjugend', 'hitting', 'hiv', 'hiya', 'hk', 'hl', 'hmm', 'hmmmm', 'ho', 'hoard', 'hoarding', 'hoax', 'hobbit', 'hobbling', 'hobby', 'hockey', 'hoe', 'hoffman', 'hofmeyer', 'hog', 'hogy', 'holahoax', 'holboth', 'hold', 'holder', 'holding', 'holdomor', 'hole', 'holiday', 'holidaying', 'holier', 'holiness', 'holla', 'holland', 'hollow', 'hollum', 'holly', 'hollywood', 'holocau', 'holocaust', 'holohoax', 'holstein', 'holster', 'holston', 'holtyre', 'holy', 'holycost', 'holyfield', 'home', 'homeland', 'homeles', 'homeless', 'homemade', 'homemaking', 'homepage', 'homer', 'homeschool', 'homeschooled', 'homeschooling', 'homeshcool', 'homework', 'homey', 'homicide', 'homies', 'hominems', 'homo', 'homogenous', 'homophobic', 'homosexual', 'homosexuality', 'honda', 'honest', 'honestly', 'honesty', 'hong', 'hongary', 'hongcouver', 'honor', 'honorable', 'honored', 'honour', 'honourable', 'honoured', 'honv', 'hoo', 'hood', 'hoodies', 'hoof', 'hook', 'hooker', 'hooking', 'hoola', 'hooligan', 'hooliganism', 'hools', 'hoop', 'hoot', 'hop', 'hope', 'hopefully', 'hopeless', 'hopfully', 'hoping', 'hopkins', 'hopper', 'horace', 'horde', 'horizon', 'horizontally', 'horn', 'horny', 'horrible', 'horrified', 'horror', 'horse', 'hortons', 'hose', 'hospital', 'hospitalised', 'hospitality', 'host', 'hostage', 'hosted', 'hostile', 'hostility', 'hosting', 'hot', 'hotbed', 'hotel', 'hotter', 'hound', 'hounters', 'hour', 'house', 'housed', 'household', 'housemate', 'houser', 'housing', 'houston', 'hovhannisyan', 'howard', 'howe', 'however', 'hows', 'howzit', 'hp', 'hpd', 'hphotos', 'hpzxtq', 'hq', 'hr', 'hrabri', 'htia', 'html', 'hu', 'hub', 'hubbard', 'hubble', 'huckleberry', 'hudeksem', 'hueys', 'huffed', 'huge', 'huh', 'hulu', 'hum', 'human', 'humanism', 'humanity', 'humanoid', 'humiliation', 'humility', 'humor', 'humour', 'humourous', 'hump', 'humpback', 'hundred', 'hung', 'hungarian', 'hungary', 'hunger', 'hungry', 'hunt', 'hunted', 'hunter', 'hunting', 'huntington', 'hups', 'hur', 'hurford', 'hurlee', 'hurling', 'huron', 'hurricane', 'hurrying', 'hurt', 'husband', 'hussar', 'hustle', 'hut', 'hutsul', 'huus', 'hve', 'hvorostovsk', 'hvorostovskiy', 'hvorostovsky', 'hwy', 'hxbcyx', 'hybrid', 'hyde', 'hydradeck', 'hydrogen', 'hydroshok', 'hyena', 'hygiene', 'hymn', 'hype', 'hyperdrive', 'hyperinflation', 'hyperlinked', 'hypnotist', 'hypocrisy', 'hypocrite', 'hypocritical', 'hypothetical', 'hysterical', 'hz', 'hzupf', 'iam', 'ian', 'iazn', 'iberian', 'ic', 'ice', 'iceberg', 'iceland', 'icelander', 'icelandic', 'ich', 'iconic', 'iconoclast', 'icq', 'icsc', 'icy', 'id', 'idag', 'idea', 'ideal', 'idenity', 'identifiable', 'identified', 'identifing', 'identify', 'identifying', 'identity', 'ideological', 'ideology', 'idf', 'idhlig', 'idiocy', 'idiot', 'idiotic', 'idlewild', 'idolize', 'idolized', 'idolizes', 'idolizing', 'ie', 'ifyouwant', 'igger', 'iggers', 'ight', 'ignorance', 'ignorant', 'ignore', 'ignored', 'ignores', 'ignoring', 'igor', 'iguana', 'ii', 'iii', 'iirc', 'ij', 'ik', 'ika', 'ike', 'ikea', 'ikevald', 'ikke', 'il', 'ilge', 'iliad', 'ill', 'illegal', 'illegally', 'illegals', 'illegaly', 'illinois', 'illiteracy', 'illiterate', 'illness', 'illogical', 'illusion', 'illustrated', 'illustration', 'illyrian', 'im', 'ima', 'image', 'imageshack', 'imaginable', 'imagination', 'imagine', 'imbecile', 'imbed', 'imediate', 'img', 'imidated', 'imigration', 'imitate', 'immaculate', 'immagrants', 'immediate', 'immediately', 'immigrant', 'immigrate', 'immigration', 'immoral', 'immortal', 'imo', 'impact', 'impaled', 'impart', 'impera', 'imperial', 'imperium', 'impersonated', 'implement', 'implemented', 'implementing', 'implication', 'implied', 'implimentation', 'imply', 'implying', 'imporant', 'import', 'important', 'importantly', 'imported', 'imposes', 'impossible', 'impossibly', 'impoverished', 'impractical', 'impressed', 'impressesed', 'impression', 'impressive', 'imprisoned', 'improve', 'improved', 'improvement', 'impulsive', 'in', 'inaccurate', 'inaction', 'inactive', 'inadvertently', 'inappropriate', 'inbox', 'inbred', 'inc', 'inca', 'incan', 'incapable', 'incarnation', 'inception', 'inch', 'incidence', 'incident', 'incinerate', 'incinerated', 'include', 'included', 'includes', 'including', 'inclusion', 'income', 'incompetence', 'incompetent', 'incomprihensible', 'incongruity', 'incorporated', 'incorporating', 'incorrect', 'increase', 'increased', 'increasing', 'incredible', 'incredibly', 'indeed', 'independance', 'independence', 'independent', 'independently', 'index', 'indgrid', 'india', 'indian', 'indiana', 'indicate', 'indicates', 'indicating', 'indicted', 'indictement', 'indigenous', 'indirectly', 'indisputably', 'indistinguishable', 'individual', 'indo', 'indoctrinated', 'indoctrination', 'indoctronation', 'indoor', 'industrialized', 'industry', 'indy', 'inet', 'inexpensive', 'infact', 'infant', 'infantry', 'infect', 'infected', 'infecting', 'infection', 'inferior', 'inferium', 'infestation', 'infested', 'infesting', 'infidel', 'infighting', 'infiltrate', 'infirior', 'infirmed', 'inflate', 'inflation', 'inflected', 'inflict', 'inflicting', 'influence', 'influenced', 'influx', 'info', 'inform', 'informal', 'information', 'informationen', 'informative', 'informed', 'informing', 'infrastructure', 'infringed', 'ing', 'ingeborga', 'ingesting', 'ingestion', 'ingratiate', 'ingredient', 'ingvar', 'inhabitant', 'inhabited', 'inhalte', 'inherent', 'inherit', 'inheritance', 'inherited', 'inhumanity', 'initial', 'initiative', 'inject', 'injojed', 'injun', 'injure', 'injured', 'injury', 'injustice', 'ink', 'inland', 'inmate', 'innate', 'inner', 'innocence', 'innocent', 'innovation', 'innovative', 'innuit', 'input', 'insane', 'insanity', 'insert', 'inserted', 'inside', 'insight', 'insightful', 'insightfull', 'insinuating', 'insisting', 'insists', 'inspector', 'inspiration', 'inspire', 'inspired', 'inspiring', 'instability', 'installation', 'installing', 'instance', 'instant', 'instantly', 'instead', 'instigated', 'instill', 'instilled', 'instinct', 'institute', 'institution', 'institutionalized', 'instructed', 'instruction', 'instrument', 'instrumental', 'insult', 'insulted', 'insulting', 'insurance', 'int', 'intact', 'inte', 'intedity', 'integral', 'integrate', 'integrated', 'integration', 'integrity', 'intel', 'intellect', 'intellectual', 'intelligence', 'intelligencia', 'intelligent', 'intend', 'intended', 'intense', 'intensity', 'intent', 'intention', 'intentional', 'intentionally', 'inter', 'interact', 'interbred', 'interbreed', 'interchange', 'interchangeable', 'interdependency', 'interest', 'interested', 'interesting', 'interference', 'intergrate', 'intergraton', 'interia', 'interior', 'intermediate', 'intermixed', 'intermixes', 'internally', 'international', 'internationalist', 'internationally', 'interned', 'internet', 'internment', 'interogation', 'interpret', 'interpretation', 'interracial', 'interred', 'interrogation', 'interrupted', 'intersects', 'interstate', 'interstellar', 'intervention', 'interview', 'interviewed', 'intimidae', 'intimidate', 'intimidated', 'intimidation', 'intimmidating', 'intj', 'intolerance', 'intolerant', 'intressting', 'intrested', 'intrigue', 'intro', 'introduce', 'introduced', 'introducing', 'introduction', 'introversion', 'introvert', 'intruder', 'intuition', 'intuitive', 'inuit', 'invaded', 'invader', 'invading', 'invalid', 'invariably', 'invasion', 'invent', 'invented', 'invention', 'inventor', 'invest', 'invested', 'investigate', 'investigates', 'investigating', 'investigation', 'investigative', 'investigator', 'investment', 'investor', 'invictus', 'invisible', 'invite', 'invited', 'inviting', 'invitro', 'involve', 'involved', 'involvement', 'involves', 'involving', 'involvment', 'ionian', 'iou', 'iowa', 'ipad', 'iphone', 'iq', 'ir', 'ira', 'iran', 'iranian', 'iraq', 'iraqi', 'ire', 'ireland', 'irika', 'irish', 'irishcentral', 'irms', 'iron', 'ironic', 'ironically', 'irony', 'irrelevant', 'irreparable', 'irresponsible', 'irritable', 'irritates', 'irritation', 'irs', 'iru', 'irving', 'isaac', 'isbn', 'isd', 'iserlohn', 'ishmael', 'islam', 'islamic', 'islamisation', 'islamization', 'islamophobic', 'island', 'islander', 'isle', 'ismer', 'ismerek', 'isnt', 'isobox', 'isolate', 'isolated', 'isotonic', 'israel', 'israeli', 'israelite', 'israely', 'isreali', 'issue', 'ist', 'istan', 'isyfirl', 'italian', 'italianos', 'italy', 'item', 'itemid', 'itf', 'itmes', 'itt', 'itv', 'iv', 'ivan', 'ivanovich', 'ive', 'ivy', 'iweala', 'iz', 'izlezi', 'iznad', 'izvor', 'jaarsveld', 'jab', 'jack', 'jackass', 'jacket', 'jacketed', 'jackhammer', 'jackie', 'jacking', 'jackson', 'jacksonville', 'jacob', 'jacqueline', 'jade', 'jag', 'jager', 'jagt', 'jahshawn', 'jail', 'jam', 'jamaica', 'james', 'jamican', 'jamie', 'jan', 'jane', 'janet', 'janice', 'janj', 'january', 'jap', 'japan', 'japanese', 'japods', 'jared', 'jarilo', 'jarve', 'jason', 'jaw', 'jax', 'jay', 'jazera', 'jc', 'jd', 'jdownloads', 'jdrrwffjkkw', 'je', 'jealous', 'jealousy', 'jean', 'jeet', 'jeeze', 'jeff', 'jefferson', 'jeffrey', 'jehovas', 'jellyfish', 'jenkins', 'jennifer', 'jennings', 'jepordy', 'jeremiah', 'jeremy', 'jerk', 'jerry', 'jersey', 'jerusalem', 'jesery', 'jesli', 'jesse', 'jest', 'jesus', 'jeune', 'jeunes', 'jew', 'jewdo', 'jewel', 'jeweler', 'jewelry', 'jewess', 'jewey', 'jewgled', 'jewish', 'jewlords', 'jewry', 'jewtube', 'jewv', 'jewwatch', 'jgm', 'jgsales', 'jiffy', 'jig', 'jim', 'jimmy', 'jist', 'jitsu', 'jiu', 'jiving', 'jj', 'jjt', 'jk', 'jly', 'jmho', 'jo', 'job', 'jodr', 'joe', 'joeblogs', 'joel', 'jogging', 'johann', 'john', 'johnnie', 'johnny', 'johnson', 'join', 'joined', 'joing', 'joining', 'joint', 'joke', 'joking', 'jomfure', 'jonathan', 'jones', 'joo', 'joos', 'jord', 'jose', 'joseph', 'josh', 'joshua', 'jotunheim', 'journalism', 'journalist', 'journey', 'jovoje', 'joy', 'joyful', 'joyfully', 'joyous', 'jp', 'jpeg', 'jpg', 'jr', 'jscw', 'jt', 'ju', 'judaic', 'jude', 'judea', 'juden', 'judeo', 'judge', 'judged', 'judgement', 'judging', 'judy', 'jueda', 'juice', 'jul', 'julia', 'julie', 'july', 'jum', 'jump', 'jumped', 'junction', 'june', 'jungle', 'junglef', 'junior', 'junk', 'junky', 'jup', 'jurij', 'juror', 'jury', 'jus', 'justice', 'justified', 'justifies', 'justify', 'justifying', 'justin', 'justintime', 'jvxnrzb', 'jwfq', 'jy', 'jyvz', 'ka', 'kabc', 'kaboom', 'kaffer', 'kaffir', 'kai', 'kaj', 'kakkers', 'kalamzoo', 'kali', 'kalispell', 'kamerad', 'kameraden', 'kamerat', 'kamieniec', 'kaminietz', 'kamla', 'kampf', 'kanadaba', 'kanadai', 'kanal', 'kansa', 'kansallismielisi', 'kanye', 'kapela', 'kapo', 'kar', 'karajan', 'karate', 'karel', 'karen', 'karewit', 'karina', 'karl', 'karoke', 'karpov', 'karpyshyn', 'karze', 'kashmir', 'kasparov', 'kassin', 'kata', 'kataxu', 'katowice', 'katrina', 'katz', 'kaukana', 'kazaa', 'kazoo', 'kbd', 'kc', 'kdyts', 'ke', 'keck', 'ked', 'keen', 'keene', 'keenly', 'keep', 'keeper', 'keeping', 'kein', 'kelly', 'kelsey', 'kelso', 'kelt', 'kemp', 'kempton', 'ken', 'kennerly', 'kenneth', 'kent', 'kentucky', 'kenya', 'kenyan', 'kenyon', 'kept', 'ker', 'kerrigan', 'kerry', 'kes', 'kettledrummer', 'kevin', 'key', 'keyboard', 'keyboarding', 'kf', 'kgb', 'khan', 'khanty', 'khudoyan', 'kibble', 'kick', 'kicked', 'kicking', 'kickstarter', 'kid', 'kiddie', 'kiddin', 'kidding', 'kidnap', 'kidnapping', 'kidnaps', 'kidner', 'kiel', 'kieler', 'kiev', 'kievsky', 'kijiji', 'kike', 'kill', 'killa', 'killed', 'killer', 'killergods', 'killing', 'kilometer', 'kilroy', 'kim', 'kimondani', 'kimora', 'kin', 'kind', 'kinda', 'kinder', 'kindergarden', 'kindergardeners', 'kindergarten', 'kindest', 'kindle', 'kindling', 'kindly', 'kindness', 'kindred', 'king', 'kingdom', 'kingston', 'kinsman', 'kiosk', 'kir', 'kirche', 'kirkland', 'kiss', 'kissed', 'kissimmee', 'kissing', 'kit', 'kitartas', 'kitchen', 'kitchener', 'kjunum', 'kkk', 'kkkk', 'kl', 'klan', 'klanmen', 'klansman', 'kleiber', 'klement', 'kletterger', 'klike', 'klingingberg', 'klux', 'kn', 'knacker', 'knee', 'kneegrow', 'kneegrows', 'knew', 'knez', 'knickknack', 'knife', 'knight', 'knightrider', 'kno', 'knock', 'knocked', 'knocking', 'knoll', 'know', 'knowbody', 'knowing', 'knowingly', 'knowledge', 'known', 'knts', 'knuckle', 'knucklehead', 'ko', 'koblenz', 'kobo', 'koco', 'kod', 'kogo', 'kohlenrevier', 'kokkepige', 'kold', 'kolding', 'kollade', 'kolovrat', 'kolozsv', 'kommen', 'komsic', 'konavle', 'kondor', 'kong', 'konqueror', 'kontaktudvalget', 'kook', 'kop', 'koran', 'korean', 'korefan', 'kosher', 'koska', 'kosovo', 'kosovski', 'kouassi', 'kountze', 'kournikova', 'kovacs', 'kr', 'krampus', 'krautschrockerts', 'krav', 'krdycxpb', 'kredsen', 'krekar', 'kremlin', 'kresnik', 'krigsforbrytelser', 'kris', 'kristel', 'kristine', 'kritayuga', 'krtv', 'krueger', 'kruger', 'kry', 'ksr', 'kt', 'ktvu', 'ku', 'kubelik', 'kubi', 'kubisova', 'kulla', 'kundgebung', 'kung', 'kurd', 'kurdish', 'kurent', 'kursk', 'kurt', 'kuzmin', 'kv', 'kveldulf', 'kwanzaa', 'kwx', 'ky', 'kyk', 'kyle', 'kynan', 'kyrgiz', 'la', 'label', 'labeled', 'labeling', 'labelled', 'labled', 'labor', 'labour', 'labrat', 'labyrinth', 'laced', 'lachkrampf', 'lack', 'lackies', 'lacking', 'lacrosse', 'lactose', 'lad', 'ladieees', 'lady', 'ladyaryan', 'ladylike', 'lagathas', 'lager', 'laguna', 'laid', 'lair', 'lake', 'lakeland', 'lakewood', 'lakota', 'lam', 'lamb', 'lambent', 'lambere', 'lame', 'laminator', 'lamp', 'lancaster', 'lancasteronline', 'land', 'landed', 'landi', 'landing', 'landlord', 'landscape', 'landseer', 'lane', 'langauges', 'language', 'lanky', 'lantern', 'lap', 'lapd', 'lapp', 'lappoid', 'laptop', 'larceny', 'lard', 'laredo', 'large', 'largely', 'larger', 'largest', 'larry', 'lars', 'lass', 'lassigie', 'last', 'lasted', 'lasting', 'lastword', 'laszcz', 'late', 'lately', 'later', 'latest', 'latha', 'latin', 'latino', 'latrine', 'latte', 'latvia', 'latvian', 'laugh', 'laughable', 'laughed', 'laughing', 'laughter', 'launched', 'launching', 'laungage', 'lauper', 'laurie', 'laurin', 'lauseng', 'law', 'lawdog', 'lawn', 'lawrence', 'lawsuit', 'lawyer', 'lay', 'laying', 'lazy', 'lb', 'lbbqwtf', 'lc', 'lcr', 'le', 'lead', 'leader', 'leaf', 'leaflet', 'league', 'leaked', 'leakey', 'leamond', 'lean', 'learn', 'learned', 'learner', 'learning', 'learns', 'learnt', 'least', 'leather', 'leave', 'leaving', 'lebanese', 'lebt', 'leche', 'lecture', 'lectured', 'led', 'ledven', 'lee', 'leech', 'left', 'leftie', 'leftist', 'lefty', 'leg', 'legacy', 'legal', 'legalize', 'legally', 'legend', 'legendary', 'legion', 'legionism', 'legislation', 'legislative', 'legit', 'legitimate', 'lego', 'legtobb', 'lehar', 'lehet', 'leicester', 'leida', 'leighas', 'leighton', 'leinad', 'leinster', 'leith', 'leithnd', 'lejeune', 'lejla', 'lem', 'lemming', 'lemon', 'lemper', 'length', 'lengthy', 'lenin', 'lenni', 'lenny', 'lentin', 'leo', 'leominster', 'leon', 'leopold', 'leprechaun', 'leroy', 'lerret', 'lervik', 'lesbian', 'lesley', 'lesnar', 'lessen', 'lesser', 'lesson', 'let', 'lethal', 'lethargic', 'letitia', 'letter', 'letting', 'lettres', 'lettuce', 'level', 'levi', 'levon', 'lewis', 'lexington', 'lez', 'lezginka', 'lfsst', 'lfst', 'lg', 'lgbt', 'lhpsbx', 'li', 'liability', 'liar', 'libaneser', 'liberal', 'liberia', 'libertarian', 'liberty', 'libral', 'library', 'libtard', 'libtards', 'libturd', 'license', 'licensed', 'lick', 'lickers', 'licking', 'lie', 'lied', 'lier', 'life', 'lifeline', 'lifestyle', 'lift', 'lifted', 'light', 'lightbulb', 'lighten', 'lighter', 'lighting', 'lightly', 'lightning', 'lik', 'likable', 'like', 'liked', 'likely', 'likelyhood', 'likened', 'likewise', 'lil', 'lila', 'lillian', 'lily', 'limb', 'limerick', 'limerickpit', 'limit', 'limited', 'limiter', 'limousine', 'lincoln', 'linda', 'line', 'liner', 'linger', 'link', 'linked', 'linking', 'linux', 'lion', 'lip', 'lippe', 'lipped', 'lippen', 'liquefied', 'liquid', 'liquor', 'lisa', 'lische', 'lisner', 'list', 'listed', 'listen', 'listened', 'listener', 'listening', 'listens', 'listing', 'lit', 'lite', 'liter', 'literacy', 'literal', 'literally', 'literary', 'literature', 'lithuania', 'lithuanian', 'litrichean', 'litt', 'litte', 'litter', 'littered', 'littering', 'little', 'littlehatekitten', 'liturature', 'liv', 'live', 'lived', 'liveleak', 'livelihood', 'livestock', 'living', 'livy', 'liz', 'lizard', 'ljpk', 'lk', 'lmao', 'lmwao', 'lne', 'lo', 'load', 'loaded', 'loan', 'lobbed', 'local', 'locate', 'located', 'location', 'lock', 'locked', 'locker', 'locust', 'lodge', 'lodger', 'lodz', 'loftus', 'log', 'logan', 'logged', 'logging', 'logic', 'logical', 'logins', 'logistics', 'logo', 'loki', 'lol', 'lololo', 'lololol', 'lolz', 'lom', 'londen', 'london', 'londonistan', 'londonstormfront', 'londynie', 'lone', 'loneliness', 'lonely', 'lonewolfing', 'long', 'longer', 'look', 'looked', 'looken', 'lookhow', 'lookin', 'looking', 'lookout', 'looming', 'looney', 'looooooooooooong', 'loop', 'loopwheels', 'loose', 'loot', 'looted', 'looting', 'lord', 'lorelei', 'loris', 'lorraine', 'lorry', 'los', 'lose', 'loser', 'loses', 'losing', 'loss', 'lost', 'lot', 'lotion', 'lotsa', 'lotsof', 'lott', 'lottery', 'lou', 'loud', 'louder', 'loudly', 'louis', 'louisiana', 'louisville', 'lounge', 'love', 'lovecraft', 'loved', 'lovelorn', 'lovely', 'lover', 'loving', 'low', 'lower', 'lowest', 'lowlife', 'lowriders', 'loyal', 'loyaldefender', 'loyalist', 'loyalty', 'lqpgbvvl', 'lr', 'lrm', 'lub', 'lube', 'lucie', 'luck', 'lucked', 'luckey', 'luckily', 'lucky', 'lucrative', 'ludicrous', 'luke', 'lully', 'lumberton', 'luminous', 'lunch', 'lunge', 'lurker', 'lurkin', 'lurking', 'lust', 'lustige', 'luther', 'luton', 'luxury', 'lv', 'lviv', 'lwdshfl', 'ly', 'lybe', 'lycurgus', 'lyf', 'lygin', 'lyi', 'lying', 'lyman', 'lyn', 'lynched', 'lynching', 'lynda', 'lynn', 'lyric', 'lyset', 'lyublyu', 'lzf', 'maaaaany', 'mac', 'macc', 'maccabees', 'mace', 'macedonia', 'macedonian', 'machete', 'machette', 'machination', 'machine', 'machined', 'machinist', 'macon', 'macth', 'mad', 'madam', 'maddening', 'made', 'madeline', 'madex', 'madick', 'madison', 'madness', 'mae', 'maffia', 'mafia', 'mag', 'maga', 'magazine', 'maggie', 'magic', 'magnesium', 'magnet', 'magneto', 'magnificat', 'magnificent', 'magnum', 'magyar', 'mah', 'maia', 'maid', 'maiden', 'mail', 'mailbox', 'mailed', 'main', 'maine', 'mainly', 'mainstream', 'maintain', 'maintaining', 'maintains', 'maintenance', 'majd', 'majestic', 'major', 'majoring', 'majority', 'make', 'makedonia', 'makeing', 'maker', 'makeup', 'making', 'malamute', 'malaysian', 'male', 'malema', 'malfunction', 'malibu', 'mall', 'maltese', 'malton', 'malvern', 'mam', 'mamma', 'mammy', 'man', 'manage', 'managed', 'manager', 'managment', 'manchvagas', 'mandan', 'mandarin', 'mandatory', 'mandela', 'mango', 'manhattan', 'manheim', 'maniac', 'maniacal', 'manialy', 'manic', 'manipulated', 'manipulating', 'manipulation', 'manistee', 'manitoba', 'mankind', 'manner', 'mannered', 'mannerism', 'manning', 'manolis', 'manor', 'mansion', 'manslaughter', 'manstopper', 'mantra', 'manufacturer', 'manufacturing', 'many', 'map', 'maple', 'mar', 'mara', 'maraca', 'marathon', 'marc', 'march', 'marched', 'marcher', 'marching', 'marci', 'marco', 'marconi', 'maria', 'marie', 'marijuana', 'marine', 'marisa', 'marital', 'maritimer', 'maritimes', 'mark', 'marked', 'marker', 'market', 'marketing', 'marking', 'markus', 'marlene', 'marlin', 'marriage', 'married', 'marriner', 'marry', 'marshal', 'marshrutka', 'marta', 'marte', 'martell', 'martial', 'martin', 'martinez', 'martinson', 'marxism', 'marxist', 'mary', 'maryland', 'masculine', 'mashed', 'mask', 'mason', 'masonic', 'masqueraded', 'masquerading', 'mass', 'massachusetts', 'massacre', 'massage', 'massive', 'massively', 'masslive', 'master', 'mastermind', 'masterpiece', 'match', 'matchbook', 'matched', 'mate', 'material', 'materialistic', 'maternal', 'math', 'mathematics', 'mathieson', 'mathisen', 'mating', 'matt', 'matter', 'matthew', 'matthias', 'mattogno', 'mature', 'maturity', 'mauricio', 'mauseleum', 'mauser', 'max', 'maxi', 'maximum', 'maxx', 'may', 'mayan', 'maybe', 'mayheeko', 'mayhem', 'mayo', 'mayor', 'maze', 'mb', 'mc', 'mcadam', 'mcalvany', 'mccan', 'mccausland', 'mccourt', 'mcdaniel', 'mcdonald', 'mcdonalds', 'mcgrane', 'mcgregor', 'mckee', 'mckenna', 'mckenzie', 'mclamb', 'mcmurtry', 'md', 'mdash', 'mdr', 'me', 'mead', 'meal', 'mean', 'meaning', 'meaningful', 'meaningless', 'meant', 'meantime', 'meanwhile', 'measure', 'measurement', 'meat', 'meatloaf', 'mebbe', 'mecca', 'mechanic', 'mechanisation', 'mechanism', 'med', 'medal', 'medborgarskap', 'meddling', 'median', 'medical', 'medication', 'medicene', 'medicience', 'medicine', 'medieval', 'mediterranean', 'mediterranian', 'mediterrenrean', 'meditteranean', 'medium', 'medlem', 'meek', 'meet', 'meeting', 'meg', 'mega', 'meh', 'mehico', 'mehr', 'mein', 'meineehre', 'melancholy', 'melbourne', 'meldungen', 'melee', 'melinda', 'melita', 'melody', 'melt', 'meltdown', 'melted', 'melting', 'melvin', 'member', 'membership', 'memo', 'memorial', 'memorize', 'memory', 'memphis', 'men', 'mending', 'mennonite', 'mennyi', 'mental', 'mentality', 'mentally', 'menteur', 'menting', 'mention', 'mentioned', 'mentioning', 'mentor', 'mentorship', 'menu', 'mera', 'merciful', 'merciless', 'mercs', 'mercury', 'mercy', 'mere', 'meredith', 'merely', 'merge', 'merger', 'merrimack', 'merry', 'mert', 'mesa', 'mesico', 'mess', 'message', 'messager', 'messaging', 'messed', 'messege', 'messenger', 'messiah', 'messican', 'messing', 'messy', 'mestizo', 'met', 'meta', 'metal', 'metalgod', 'metalhead', 'metallica', 'metaphor', 'meter', 'meth', 'methinks', 'method', 'metric', 'metro', 'metropolitan', 'meum', 'mex', 'mexcicans', 'mexic', 'mexican', 'mexico', 'mi', 'miami', 'mic', 'mich', 'michael', 'michelle', 'michigan', 'michoel', 'mickie', 'micro', 'micronesians', 'microsoft', 'mid', 'middle', 'midgard', 'midland', 'midnight', 'midwestern', 'might', 'mighty', 'migrant', 'migrated', 'mike', 'mikill', 'mikkke', 'miklav', 'miklir', 'mil', 'mild', 'mildura', 'mile', 'miley', 'militant', 'military', 'militia', 'milk', 'mill', 'milleches', 'milliken', 'million', 'millionaire', 'millionaries', 'millsaps', 'milmilk', 'milo', 'milton', 'milwaukee', 'mimic', 'mimimatthews', 'min', 'mind', 'minded', 'mindig', 'mindless', 'mine', 'mini', 'minimal', 'minimize', 'minimum', 'minion', 'miniority', 'miniskirt', 'minister', 'minn', 'minnesota', 'minor', 'minority', 'minster', 'minstrel', 'mint', 'minu', 'minus', 'minute', 'mio', 'miraculous', 'mirada', 'mirror', 'misbehaving', 'miscegenation', 'miscegination', 'mischief', 'misconstrued', 'misdemeanor', 'miserable', 'misery', 'misimovi', 'misinformation', 'misleading', 'misled', 'mismovic', 'miss', 'missed', 'misshapened', 'missing', 'mission', 'missiouri', 'missippi', 'mississauga', 'mississippi', 'missouri', 'mist', 'mistake', 'mistaken', 'mistenkt', 'mistreat', 'mistreatment', 'mistress', 'misunderstood', 'misusing', 'mit', 'mitcham', 'mithotyn', 'mitochondriat', 'mitt', 'mix', 'mixed', 'mixer', 'mixing', 'mixture', 'mjo', 'mjodr', 'mk', 'ml', 'mlk', 'mlst', 'mm', 'mma', 'mmm', 'mn', 'mo', 'mob', 'mobile', 'mobilized', 'mobilizing', 'moblie', 'moby', 'mock', 'mockery', 'mocking', 'mod', 'modding', 'mode', 'model', 'moderate', 'moderation', 'moderator', 'modern', 'modified', 'modise', 'moeisha', 'moet', 'mofo', 'mohammed', 'moi', 'moines', 'mold', 'moldavia', 'moldova', 'molecular', 'molester', 'molesting', 'mom', 'momce', 'moment', 'momentous', 'mommy', 'momofsix', 'mon', 'monarchy', 'monday', 'money', 'mongering', 'mongol', 'mongoloid', 'mongrel', 'mongrelise', 'mongrelizing', 'monique', 'monitor', 'monkey', 'monkies', 'mononoke', 'monopoly', 'monorities', 'monster', 'montana', 'monterey', 'montessori', 'month', 'monthes', 'monthly', 'montpellier', 'montreal', 'monty', 'monument', 'mooching', 'mood', 'mooleys', 'moon', 'moonbats', 'moore', 'moose', 'moot', 'mop', 'mopar', 'moped', 'mor', 'moral', 'morale', 'morality', 'morally', 'moran', 'morbidly', 'moreover', 'morgan', 'mormon', 'morning', 'morningside', 'moroccan', 'moron', 'moroz', 'morphed', 'morrow', 'mortality', 'mortar', 'mortgage', 'mosaic', 'moscow', 'moselle', 'mosier', 'mosin', 'moskva', 'moslem', 'mosley', 'mosque', 'mossad', 'mossberg', 'mostly', 'motel', 'mother', 'motherboard', 'mothergrinninbird', 'motherland', 'motile', 'motivate', 'motivated', 'motive', 'motivic', 'motor', 'motorcycle', 'motorcyclist', 'motorized', 'motorrad', 'mound', 'mount', 'mountain', 'mountainous', 'mourn', 'mourner', 'mourning', 'moussed', 'moustache', 'mousy', 'mouth', 'mouthful', 'move', 'moved', 'movement', 'movie', 'moving', 'moyross', 'mp', 'mph', 'mr', 'mrbadgersir', 'msciwoj', 'msg', 'msi', 'msm', 'msn', 'msnbc', 'msrp', 'mt', 'mtn', 'mtv', 'mu', 'muaddib', 'muahaha', 'muay', 'much', 'muck', 'mud', 'mudd', 'mudds', 'muddy', 'muder', 'mudraces', 'mudslide', 'mudslums', 'muenster', 'muffet', 'mug', 'mugabe', 'mugged', 'mugger', 'mugging', 'mugshot', 'mulatto', 'mulattoe', 'mulitracial', 'multi', 'multicult', 'multiculti', 'multicultural', 'multiculturalism', 'multiculturalist', 'multiculturatism', 'multiculturism', 'multiculturistic', 'multikulti', 'multikulturalizmus', 'multiple', 'multiply', 'multiracial', 'multireligious', 'multispeed', 'multitude', 'mum', 'mummy', 'mumsy', 'munch', 'munich', 'munster', 'munter', 'muppet', 'murder', 'murdered', 'murderer', 'murdering', 'murderous', 'murphy', 'muscle', 'museum', 'mush', 'mushroom', 'music', 'musica', 'musical', 'musician', 'musicman', 'musilms', 'muslim', 'muslime', 'mussorgsky', 'must', 'mutated', 'mutating', 'mutation', 'mutha', 'mutilate', 'mutilated', 'mvi', 'mycket', 'myers', 'myndighetene', 'myron', 'myspace', 'mysql', 'mysterious', 'mysteriously', 'mystery', 'mystical', 'mystified', 'myth', 'mythology', 'mzxter', 'na', 'naacp', 'nachrichten', 'nackers', 'nadmo', 'nagant', 'nagger', 'naglfar', 'nagorny', 'nagyon', 'nah', 'nail', 'naive', 'naked', 'name', 'named', 'nameen', 'namely', 'nancy', 'napervile', 'napj', 'naples', 'nappy', 'narcissistic', 'nargaroth', 'narrated', 'narrative', 'narrow', 'narrowband', 'nasa', 'nascar', 'nasjonalitet', 'nast', 'nastassja', 'nasty', 'nate', 'nathan', 'natiocracy', 'nation', 'national', 'nationalism', 'nationalist', 'nationalistic', 'nationality', 'nationally', 'nationell', 'native', 'nato', 'natural', 'naturally', 'nature', 'naughty', 'nauseum', 'navel', 'navigating', 'navy', 'nazarene', 'nazi', 'naziwhowantstokillsixmillionjews', 'nb', 'nba', 'nbc', 'nbpp', 'nc', 'nchen', 'ncop', 'nd', 'ne', 'neanderthal', 'neanderthalensis', 'near', 'nearby', 'nearest', 'nearing', 'nearly', 'nebbie', 'nebraska', 'nebula', 'necassary', 'necessary', 'neck', 'need', 'needed', 'needing', 'needle', 'neevr', 'negate', 'negative', 'negiotiations', 'neglect', 'neglectful', 'negotiator', 'negress', 'negro', 'negrogreek', 'negroid', 'nehhqhltae', 'neichzche', 'neighbor', 'neighborhood', 'neighbour', 'neighbourhood', 'neighbouring', 'neil', 'neill', 'neither', 'nelli', 'nelson', 'nem', 'nember', 'nemesis', 'neo', 'neobiocp', 'neofolk', 'neolithic', 'nepa', 'nephew', 'ner', 'nerd', 'neretva', 'nerve', 'nervous', 'nesem', 'nesen', 'ness', 'nest', 'nestle', 'nestled', 'net', 'netherlands', 'network', 'networking', 'neue', 'neues', 'neurosurgeon', 'neutral', 'neutron', 'nevah', 'neve', 'never', 'nevermind', 'nevertheless', 'nevesinje', 'new', 'newark', 'newcastle', 'newer', 'newest', 'newfoundland', 'newly', 'newport', 'news', 'newscaster', 'newsletter', 'newsnet', 'newspaper', 'newsroom', 'next', 'nf', 'nfl', 'ng', 'ngc', 'ngo', 'ni', 'nians', 'nib', 'nice', 'nicely', 'nicer', 'nicest', 'niche', 'nicholas', 'nicholaus', 'nick', 'nicked', 'nickel', 'nickelodeon', 'nicking', 'nickname', 'nicolas', 'nicole', 'nid', 'nie', 'niece', 'niemals', 'nig', 'nigdy', 'nigeria', 'nigerian', 'nigga', 'niggah', 'niggardly', 'niggs', 'nigh', 'night', 'nightly', 'nightmare', 'nightwish', 'niglet', 'niglets', 'nignog', 'nigs', 'niks', 'nincs', 'nine', 'ninety', 'ning', 'ninja', 'nip', 'nipple', 'nirvana', 'nitrogen', 'nj', 'njord', 'nk', 'nlfrsregii', 'nment', 'nnn', 'nno', 'nnp', 'no', 'nobel', 'noble', 'noblest', 'nobody', 'noch', 'nog', 'nogensinde', 'nogger', 'noise', 'noisy', 'nomination', 'non', 'none', 'nonsense', 'nonsensical', 'nonskin', 'nonwhite', 'nonwhites', 'noose', 'nope', 'nordenwulf', 'nordic', 'nordicfest', 'nordicists', 'nordid', 'noremorsenoregrets', 'norfolk', 'norge', 'norhat', 'normal', 'normally', 'norman', 'normandy', 'norse', 'norske', 'north', 'northeast', 'northerly', 'northern', 'northfield', 'northwest', 'norway', 'norwegains', 'norwegian', 'norweigian', 'nose', 'nostalgia', 'nostalgic', 'nostradamus', 'not', 'notch', 'note', 'notebook', 'noted', 'notepad', 'nothern', 'nothing', 'notice', 'noticeboard', 'noticed', 'noting', 'notion', 'notre', 'nottice', 'nou', 'noun', 'novel', 'novelist', 'november', 'novgorod', 'novi', 'nowadays', 'nowegians', 'nowhere', 'nowthe', 'npd', 'npr', 'nr', 'nra', 'nrw', 'nrysg', 'nsa', 'nsbm', 'nt', 'ntent', 'nter', 'nu', 'nuclear', 'nucleus', 'nuffin', 'nugent', 'nuke', 'numa', 'numb', 'numba', 'number', 'numerous', 'nurnberg', 'nurse', 'nursery', 'nut', 'nutjob', 'nutritionals', 'nv', 'nw', 'nwo', 'nx', 'nxt', 'ny', 'nya', 'nyborg', 'nyder', 'nypd', 'nyse', 'nyt', 'nz', 'nzjydlgm', 'oak', 'oakland', 'ob', 'obama', 'obamamania', 'obango', 'obedience', 'obedient', 'oberschlesien', 'oberschlesischen', 'obese', 'obey', 'obituary', 'object', 'objecting', 'objection', 'objective', 'objectively', 'obligatory', 'obongo', 'obrenovic', 'obselete', 'observation', 'observe', 'observer', 'obsessed', 'obsession', 'obsolete', 'obstacle', 'obtain', 'obtained', 'obvious', 'obviously', 'obvisously', 'oc', 'ocasionally', 'occasion', 'occasional', 'occasionally', 'occassionaly', 'occupation', 'occur', 'occuring', 'occurred', 'occurrence', 'occurs', 'ocean', 'och', 'ocked', 'ocksa', 'ockupied', 'oct', 'octavian', 'october', 'od', 'odd', 'oddly', 'oddness', 'odds', 'odin', 'odinists', 'odium', 'odysseus', 'oel', 'offence', 'offenceive', 'offend', 'offended', 'offender', 'offending', 'offensive', 'offer', 'offered', 'offering', 'office', 'officer', 'official', 'officially', 'offshore', 'offspring', 'offtop', 'ofra', 'often', 'og', 'oh', 'ohhh', 'ohhhh', 'ohio', 'oi', 'oil', 'oildale', 'oje', 'ok', 'okay', 'okayafrica', 'oklahoma', 'oktoberfest', 'ol', 'olaf', 'old', 'olde', 'older', 'oldest', 'ole', 'olean', 'oleg', 'oligarch', 'olive', 'oliver', 'olje', 'ollsson', 'olympic', 'olympics', 'om', 'omaha', 'ombudsman', 'omg', 'one', 'onegin', 'oneill', 'ongoing', 'online', 'onlooker', 'onn', 'ons', 'onstage', 'ontario', 'onto', 'onward', 'ony', 'onyl', 'ooohhh', 'oooops', 'oops', 'op', 'open', 'opendocument', 'opened', 'opening', 'openly', 'opera', 'operate', 'operated', 'operating', 'operation', 'ophanage', 'opinberri', 'opinion', 'opitomy', 'opp', 'oppholdstillatelse', 'oppinion', 'opponent', 'opportunity', 'oppose', 'opposed', 'opposing', 'opposite', 'opposition', 'oppression', 'opps', 'oprah', 'opsec', 'optic', 'optical', 'option', 'optional', 'oragus', 'orange', 'orangeman', 'orangutan', 'oranguz', 'orania', 'oraszaga', 'orbit', 'orchestra', 'orchestral', 'orchestrating', 'orchestre', 'ord', 'ordained', 'order', 'ordered', 'ordlista', 'ordure', 'ore', 'oregon', 'oreo', 'org', 'organ', 'organic', 'organisation', 'organised', 'organism', 'organist', 'organization', 'organize', 'organized', 'organizes', 'organizing', 'orgs', 'oriental', 'orientation', 'origin', 'original', 'originally', 'originate', 'originated', 'origo', 'orillia', 'orion', 'orlando', 'orleans', 'orphanage', 'orsolya', 'orszag', 'orthodox', 'ortolani', 'orture', 'orwell', 'ose', 'oslo', 'osoyoos', 'osp', 'ostracized', 'osttruppen', 'ostwestfalen', 'ota', 'others', 'otherwise', 'ott', 'ottawa', 'ought', 'ounce', 'ouncers', 'ourselfes', 'ourselfs', 'ourtimewillcome', 'ous', 'ousand', 'out', 'outcast', 'outcome', 'outdone', 'outdoor', 'outdoors', 'outer', 'outfit', 'outgassing', 'outlawed', 'outlet', 'outlier', 'outline', 'outnumber', 'outnumbered', 'outnumbering', 'outperforming', 'outpost', 'output', 'outrage', 'outraged', 'outrageous', 'outreach', 'outright', 'outrunning', 'outscored', 'outside', 'outsourcing', 'outspoken', 'outspokenly', 'outstanding', 'outta', 'outwards', 'ouuuuuuu', 'ov', 'oven', 'overall', 'overboard', 'overcome', 'overdosed', 'overdoses', 'overdue', 'overeactcted', 'overflowing', 'overlooked', 'overly', 'overman', 'overnite', 'overpass', 'overpenetration', 'overpowering', 'overpriced', 'overran', 'overrated', 'overrun', 'overseas', 'overtime', 'overweight', 'overwhelming', 'overwhelmingly', 'owe', 'owl', 'owned', 'owner', 'ownership', 'owns', 'ox', 'oxegen', 'oxford', 'oxfordshire', 'oxygen', 'oxymoronicness', 'oz', 'ozarks', 'pa', 'paa', 'paare', 'pace', 'pacific', 'pacify', 'pack', 'package', 'packard', 'packed', 'packi', 'packing', 'pact', 'pad', 'paddy', 'paderborn', 'paedophile', 'paedophilia', 'pagan', 'paganism', 'page', 'pageid', 'paid', 'pail', 'pain', 'painfull', 'painstakingly', 'paint', 'paintball', 'painted', 'painter', 'painting', 'pair', 'paisleyland', 'paki', 'pakis', 'pakistan', 'pakistani', 'pakkis', 'pal', 'palace', 'palatka', 'pale', 'palenka', 'palestinian', 'paljon', 'pallada', 'pallessen', 'palm', 'pamela', 'pamphlet', 'pancho', 'pancrase', 'pander', 'panel', 'panga', 'panic', 'pankration', 'pant', 'pantheon', 'panther', 'pantlegs', 'panty', 'panzerfaust', 'paper', 'paperback', 'paperwork', 'papirforretn', 'par', 'para', 'parade', 'parading', 'paradise', 'paragraph', 'paramilitary', 'parasise', 'parasite', 'parasitical', 'pardon', 'parent', 'paris', 'parish', 'park', 'parked', 'parkelj', 'parking', 'parkinson', 'parliament', 'parlor', 'parody', 'parolee', 'parrot', 'part', 'parteitag', 'partial', 'partially', 'participate', 'participated', 'participating', 'participle', 'particle', 'particular', 'particularly', 'partied', 'partisan', 'partita', 'partition', 'partly', 'partner', 'party', 'partying', 'pas', 'pasadena', 'pascal', 'pased', 'paso', 'pasqulino', 'pass', 'passacaglia', 'passed', 'passenger', 'passing', 'passion', 'passionately', 'passop', 'passover', 'passport', 'password', 'past', 'paste', 'pasting', 'pastira', 'pastor', 'pastoralists', 'pasture', 'pat', 'patch', 'patched', 'paternal', 'path', 'pathetic', 'pathological', 'patience', 'patient', 'patio', 'patrcks', 'patrick', 'patriot', 'patriotic', 'patrioticmama', 'patrol', 'pattern', 'patterson', 'patting', 'paul', 'paula', 'paulo', 'paulus', 'pavav', 'pavement', 'pawel', 'pawing', 'pawn', 'pay', 'paycheck', 'payed', 'payer', 'paying', 'payment', 'pb', 'pc', 'pdf', 'pdx', 'peace', 'peaceful', 'peacemaker', 'peachy', 'peak', 'peanut', 'pearce', 'pearl', 'peasant', 'pecan', 'pechtra', 'peckerwood', 'peculiar', 'pedal', 'peddle', 'pedestal', 'pedo', 'pedophile', 'pedophilia', 'pedro', 'peebo', 'peek', 'peep', 'peeper', 'peer', 'pehta', 'peice', 'pellet', 'pembroke', 'pen', 'pena', 'penalty', 'penaltyyou', 'penetrate', 'penguin', 'penis', 'pennance', 'pennington', 'pennsylvania', 'penny', 'pensacola', 'pensierosa', 'pension', 'people', 'peoria', 'peppahmintz', 'pepper', 'pepperdine', 'per', 'perceive', 'perceiving', 'percent', 'percentage', 'percunatele', 'percussion', 'perfect', 'perfected', 'perfection', 'perfectly', 'perform', 'performance', 'performed', 'performing', 'perhaps', 'pericings', 'period', 'perish', 'perished', 'perishes', 'perkunas', 'permanent', 'permission', 'permit', 'peroutka', 'perpetrating', 'perpetrator', 'perpetuate', 'perplexing', 'perps', 'perry', 'persafl', 'perse', 'persecution', 'perserving', 'person', 'personal', 'personality', 'personally', 'personnel', 'perspective', 'persuasive', 'persucuted', 'persze', 'pertaining', 'pertains', 'perun', 'perverse', 'perversion', 'pervert', 'perverted', 'pest', 'pesticide', 'pet', 'peter', 'peterhoff', 'petersburg', 'peterson', 'petition', 'petrified', 'petrol', 'petting', 'petty', 'pf', 'pffffft', 'pg', 'pgj', 'ph', 'phantom', 'phd', 'phe', 'phenomenon', 'phenotype', 'phil', 'philadelphia', 'philidelphia', 'philip', 'philipinos', 'philippe', 'philippine', 'philly', 'philosophy', 'phobe', 'phoenix', 'phone', 'phony', 'phosphor', 'photgraph', 'photo', 'photobucket', 'photocopy', 'photograph', 'photoshop', 'php', 'phrase', 'physic', 'physical', 'physically', 'physicist', 'pi', 'piano', 'pic', 'pick', 'picked', 'pickering', 'picket', 'picking', 'picky', 'picnic', 'picture', 'pid', 'pie', 'piece', 'pier', 'pierce', 'pierre', 'piff', 'pig', 'pigmentation', 'piibe', 'pike', 'pilate', 'pile', 'piled', 'pill', 'pillow', 'pimp', 'pimped', 'pimpin', 'pin', 'pinders', 'pine', 'pinhead', 'pink', 'pinkerton', 'pinned', 'pinpoint', 'pinpointed', 'pint', 'pioneer', 'pipe', 'piss', 'pistol', 'pit', 'pitbull', 'pitch', 'pitched', 'pitchfork', 'pitt', 'pittance', 'pittsburgh', 'pity', 'pixie', 'pizdas', 'pizza', 'pkk', 'pla', 'place', 'placed', 'placing', 'plague', 'plagued', 'plain', 'plainly', 'plan', 'plane', 'planed', 'planet', 'planned', 'planner', 'planning', 'plant', 'plantation', 'plastic', 'plat', 'plate', 'platform', 'platinum', 'plausable', 'plausible', 'play', 'playas', 'played', 'player', 'playground', 'playing', 'playpen', 'ple', 'pleader', 'pleads', 'pleasant', 'please', 'pleased', 'pleasent', 'pleasure', 'pledged', 'pleiadian', 'plenty', 'ples', 'plinker', 'plop', 'plot', 'plug', 'pluirin', 'plummer', 'plunge', 'plus', 'pluton', 'plymouth', 'plzlzpnc', 'pm', 'pmc', 'png', 'pnr', 'po', 'poacher', 'poche', 'pocket', 'pocketing', 'pod', 'poem', 'poet', 'poetic', 'poetry', 'poignant', 'point', 'pointed', 'pointing', 'poison', 'poisoned', 'poisoning', 'poisonous', 'poker', 'poland', 'pole', 'polevik', 'poli', 'police', 'policeand', 'policeman', 'policy', 'polish', 'polite', 'politely', 'political', 'politically', 'politicans', 'politician', 'politicize', 'politics', 'politifuldm', 'poll', 'pollute', 'polluting', 'pollution', 'polly', 'polska', 'poly', 'polymorphism', 'pomp', 'pond', 'pont', 'pontifex', 'pontius', 'pool', 'poop', 'pooping', 'poor', 'pop', 'pope', 'popeye', 'popeyes', 'popish', 'poportion', 'popped', 'popping', 'popular', 'popularity', 'populated', 'population', 'porch', 'porenut', 'porewit', 'pork', 'porn', 'pornography', 'porr', 'port', 'portage', 'portillo', 'portion', 'portland', 'portrait', 'portray', 'portraying', 'portugal', 'portugese', 'portuguese', 'posada', 'pose', 'posed', 'posing', 'position', 'positive', 'possessed', 'possession', 'possibility', 'possible', 'possibly', 'possile', 'possition', 'post', 'postcard', 'postcount', 'posted', 'poster', 'posterity', 'posting', 'posto', 'postting', 'pot', 'potato', 'potchefstroom', 'potential', 'potentially', 'potst', 'potter', 'poughkeepsie', 'pound', 'pounded', 'pour', 'pouring', 'pourpose', 'pov', 'poverty', 'pow', 'poway', 'powder', 'powderly', 'powell', 'power', 'powerade', 'powered', 'powerful', 'powering', 'powerlines', 'powerpoint', 'ppl', 'ppv', 'practically', 'practice', 'practicing', 'prague', 'prairie', 'praise', 'prank', 'prawo', 'pray', 'prayer', 'praying', 'pre', 'preach', 'preacher', 'preceed', 'precious', 'precipitous', 'precisely', 'predator', 'predicament', 'predict', 'prediction', 'predominantly', 'predominatly', 'prefer', 'preferably', 'preference', 'preferiblly', 'preferred', 'preffer', 'pregnancy', 'pregnant', 'prejudice', 'premed', 'premier', 'premiere', 'premium', 'prepare', 'prepared', 'preparedness', 'preparing', 'prepeared', 'preposterous', 'prepping', 'pres', 'presence', 'present', 'presented', 'presenter', 'presenting', 'presently', 'preservation', 'preservative', 'preserve', 'preserved', 'preserving', 'president', 'press', 'pressed', 'pressing', 'pressure', 'pressured', 'presumably', 'pretend', 'pretended', 'pretending', 'pretty', 'prevail', 'prevailed', 'prevailing', 'prevent', 'preverbial', 'previous', 'previously', 'prey', 'price', 'priced', 'priceless', 'pricipal', 'pride', 'primal', 'primarily', 'primary', 'primate', 'prime', 'primitive', 'prince', 'princess', 'princeton', 'principal', 'principle', 'pringle', 'print', 'printed', 'printer', 'printing', 'prior', 'priority', 'prison', 'prisoner', 'privacy', 'private', 'priviledge', 'privilege', 'privileged', 'prize', 'pro', 'prob', 'probably', 'probally', 'probaly', 'probation', 'problem', 'probly', 'probz', 'procedure', 'proceed', 'proceeded', 'proceeding', 'process', 'processed', 'processing', 'proclaim', 'proclaimed', 'procreate', 'prodigal', 'prodigy', 'produce', 'produced', 'producer', 'producing', 'product', 'production', 'productive', 'prof', 'profane', 'profanity', 'professes', 'profession', 'professional', 'professionally', 'professor', 'proffesional', 'proffesionalism', 'profiecent', 'profile', 'profit', 'profitable', 'profited', 'profoss', 'progeny', 'program', 'programing', 'programme', 'programming', 'progress', 'progressing', 'progression', 'progressive', 'progressivist', 'prohibit', 'prohibition', 'prohibits', 'project', 'projected', 'proksa', 'proliferated', 'prom', 'prominent', 'promise', 'promising', 'promo', 'promote', 'promoted', 'promotes', 'promoting', 'promotional', 'proncipal', 'prone', 'pronounced', 'pronunciation', 'proof', 'prop', 'propagand', 'propaganda', 'propagating', 'propeller', 'proper', 'properly', 'property', 'prophecy', 'proportion', 'proscribed', 'prosecute', 'prosecuted', 'prosecuting', 'prosecutor', 'prospect', 'prosper', 'prostitute', 'prostitution', 'protect', 'protected', 'protecting', 'protection', 'protest', 'protestant', 'protester', 'protesting', 'protiv', 'protocol', 'proud', 'proudly', 'prouductive', 'prove', 'proved', 'proven', 'proverb', 'proverbial', 'provide', 'provided', 'providence', 'provides', 'providi', 'providing', 'province', 'provincial', 'proving', 'provoke', 'provoked', 'prowhites', 'prowl', 'prowling', 'proximity', 'proxy', 'prreachers', 'prussian', 'pseudo', 'psg', 'psni', 'psoglav', 'pst', 'psyche', 'psycho', 'psychology', 'psychosocial', 'psyhical', 'pt', 'pttm', 'pu', 'pub', 'public', 'publically', 'publication', 'publicity', 'publicly', 'publish', 'published', 'pudgy', 'puerta', 'puerto', 'pug', 'puhetta', 'pul', 'pull', 'pulled', 'pulling', 'pulpit', 'pump', 'pumped', 'pumpkin', 'pun', 'punch', 'punched', 'punet', 'punish', 'punishable', 'punished', 'punishing', 'punishment', 'punk', 'punta', 'pup', 'pupil', 'puppet', 'puppy', 'purchase', 'purchasing', 'pure', 'pureblood', 'purebred', 'purebreed', 'purely', 'purge', 'purification', 'purist', 'purity', 'purloined', 'purple', 'purpoise', 'purported', 'purpose', 'purposefully', 'purpouses', 'purse', 'pursue', 'pursuit', 'purveyed', 'push', 'pushed', 'pushing', 'pushover', 'put', 'putin', 'puting', 'putinistan', 'putnam', 'putting', 'puzzled', 'pvc', 'pw', 'pykies', 'pyramid', 'pyre', 'pyrodex', 'python', 'qaeda', 'qnkb', 'qrls', 'quadia', 'quadratic', 'quadrupled', 'quake', 'qualified', 'qualify', 'quality', 'quantity', 'quantum', 'quarrel', 'quarter', 'quarterback', 'quartz', 'quash', 'quebec', 'queen', 'queer', 'quenten', 'question', 'questioning', 'quex', 'quibble', 'quick', 'quicker', 'quickly', 'quickresponse', 'quid', 'quiet', 'quietly', 'quinn', 'quip', 'quit', 'quite', 'quits', 'quiz', 'quo', 'quota', 'quote', 'quoting', 'quran', 'ra', 'rab', 'rabbi', 'rabbit', 'rabid', 'raccoon', 'race', 'raced', 'racemixing', 'racial', 'racialist', 'racially', 'racialy', 'racily', 'racine', 'racism', 'racist', 'raciste', 'racistly', 'radawie', 'radiant', 'radical', 'radicalized', 'radio', 'radioactive', 'radius', 'rag', 'rage', 'raging', 'ragnar', 'ragnars', 'rahowa', 'raid', 'rail', 'railed', 'railing', 'railway', 'rain', 'rainbow', 'rained', 'rainforest', 'raining', 'raise', 'raised', 'raising', 'raj', 'rakija', 'rakwan', 'rally', 'rallying', 'ralph', 'rambling', 'rameau', 'ramification', 'rammstein', 'ramona', 'ramore', 'rampage', 'rampant', 'ramrod', 'ramsey', 'ran', 'ranch', 'rancher', 'random', 'randomness', 'randow', 'randy', 'range', 'ranger', 'rank', 'ranked', 'ranson', 'rant', 'ranting', 'rap', 'rape', 'raped', 'rapeugees', 'rapid', 'rapidly', 'raping', 'rapist', 'rappas', 'rapper', 'rare', 'rarely', 'rasa', 'rascist', 'rasin', 'rasne', 'raspecfull', 'rasslin', 'rasszista', 'rasta', 'rastus', 'rat', 'ratajczak', 'rate', 'rated', 'rather', 'rating', 'ration', 'rationalize', 'ratm', 'rattle', 'ravaged', 'raw', 'ray', 'rbphm', 'reach', 'reached', 'reaching', 'react', 'reaction', 'reactor', 'read', 'reader', 'readily', 'reading', 'readnesta', 'ready', 'reah', 'real', 'realamericans', 'realise', 'realised', 'realistic', 'reality', 'realize', 'realized', 'realizing', 'really', 'realy', 'reapply', 'rear', 'rearing', 'reason', 'reasonably', 'reasoned', 'reasoning', 'reassure', 'reat', 'rebel', 'rebellion', 'rebelliousness', 'rebelsong', 'rebuild', 'rebuilding', 'rec', 'recall', 'receipt', 'receive', 'received', 'receives', 'receiving', 'recent', 'recently', 'recenty', 'reception', 'receptive', 'recess', 'rechts', 'recieve', 'reckon', 'recognition', 'recognizable', 'recognize', 'recognized', 'recognizing', 'recoil', 'recommend', 'recommendation', 'recommended', 'recon', 'reconstruction', 'record', 'recorded', 'recording', 'recover', 'recovered', 'recovering', 'recovers', 'recovery', 'recrimination', 'recruit', 'recruiting', 'recrute', 'recut', 'red', 'redbarron', 'reddish', 'redneck', 'redpilled', 'redstone', 'reduce', 'reduced', 'reed', 'reet', 'refer', 'reference', 'refering', 'referral', 'referred', 'referring', 'refers', 'reflect', 'reflecting', 'reflection', 'reform', 'reformatting', 'refrain', 'refreshment', 'refuge', 'refugee', 'refuse', 'refused', 'refusing', 'regain', 'regal', 'regard', 'regarded', 'regardin', 'regarding', 'regardless', 'regency', 'regime', 'regiment', 'regina', 'region', 'regional', 'register', 'registered', 'registering', 'registration', 'regret', 'reguard', 'regular', 'regularly', 'regulation', 'regurgitate', 'regurgitation', 'rehabilitates', 'reiceived', 'reich', 'reign', 'reimbursement', 'reinforce', 'reisntalled', 'reiteration', 'reject', 'rejected', 'relate', 'related', 'relating', 'relation', 'relationship', 'relationshp', 'relative', 'relatively', 'relax', 'relaxe', 'relaxing', 'release', 'released', 'relented', 'relevant', 'reliable', 'relief', 'relies', 'religion', 'religious', 'relized', 'relocated', 'relocating', 'relocation', 'relsen', 'reluctant', 'reluctantly', 'rely', 'remain', 'remained', 'remaining', 'remains', 'remark', 'remarkable', 'remember', 'remembered', 'remembering', 'remembrance', 'remind', 'reminded', 'reminder', 'reminds', 'remington', 'reminiscent', 'remnant', 'remorse', 'remote', 'remotely', 'remoteness', 'remove', 'removed', 'removing', 'renaissance', 'renamed', 'render', 'renee', 'renewed', 'renoir', 'renounce', 'rensburg', 'rensen', 'rent', 'renting', 'rep', 'repaid', 'repairman', 'reparation', 'repatriation', 'repay', 'repeat', 'repeatable', 'repeated', 'repeatedly', 'repeating', 'repercussion', 'repersents', 'repetition', 'replace', 'replete', 'replica', 'replicate', 'replied', 'reply', 'replying', 'reponse', 'report', 'reported', 'reporter', 'reporting', 'repped', 'reprazent', 'represent', 'representation', 'representative', 'represented', 'representin', 'representing', 'represents', 'reproduce', 'reproducing', 'reptile', 'republic', 'republican', 'repulsive', 'reputation', 'request', 'requested', 'requesting', 'require', 'required', 'requirement', 'requires', 'requiring', 'reread', 'rescue', 'research', 'researcher', 'researching', 'resemblance', 'resemble', 'resembling', 'reservation', 'reserve', 'resettled', 'resettlement', 'reside', 'residence', 'residency', 'resident', 'resides', 'resigned', 'resipiance', 'resist', 'resistance', 'resistant', 'resisting', 'resoluteness', 'resolved', 'resort', 'resorted', 'resource', 'respect', 'respectable', 'respected', 'respectfully', 'respekt', 'respond', 'responded', 'responding', 'response', 'responsibility', 'responsible', 'rest', 'restaurant', 'reste', 'resticted', 'restore', 'restrained', 'restrict', 'restricted', 'restriction', 'restroom', 'restrung', 'resturant', 'result', 'resulted', 'resume', 'resurrected', 'retail', 'retailer', 'retained', 'retake', 'retaliation', 'retard', 'retarded', 'retch', 'rethink', 'reticle', 'retire', 'retired', 'retirement', 'retract', 'retreat', 'retreating', 'retrial', 'retro', 'return', 'returned', 'returning', 'reue', 'reupload', 'reuters', 'reveal', 'revealed', 'revealing', 'reveals', 'revelation', 'revenge', 'revenue', 'revered', 'reverence', 'reversal', 'reverse', 'reverts', 'review', 'reviewed', 'revised', 'revision', 'revisionist', 'revisited', 'revolting', 'revolution', 'revolutionary', 'revolver', 'revving', 'reward', 'rex', 'reyes', 'reynolds', 'rgerlich', 'rgr', 'rgyi', 'rhetoric', 'rhetorical', 'rhodes', 'rhodesia', 'rhodine', 'rhyme', 'rhythm', 'ri', 'rib', 'ribbon', 'rica', 'rican', 'ricans', 'rice', 'ricearrives', 'rich', 'richard', 'richer', 'richest', 'richland', 'richmond', 'rid', 'ridden', 'riddick', 'ride', 'rider', 'ridge', 'ridiculed', 'ridiculous', 'ridiculus', 'riding', 'rieu', 'rifle', 'rifling', 'rig', 'riga', 'rigby', 'rigged', 'right', 'righteous', 'riikonen', 'riksdag', 'riksmal', 'rim', 'ring', 'rink', 'riot', 'rioting', 'rip', 'ripe', 'ripped', 'ripping', 'rir', 'rise', 'rish', 'rising', 'risk', 'risky', 'ritual', 'river', 'riverside', 'rk', 'rkneyjar', 'rlach', 'rlm', 'rnf', 'rnmen', 'rnrphewelo', 'rnu', 'ro', 'roa', 'roach', 'road', 'roadhog', 'roadrunner', 'roar', 'rob', 'robably', 'robbed', 'robber', 'robbery', 'robbie', 'robbing', 'robert', 'robin', 'robinson', 'robotech', 'robust', 'robyn', 'rock', 'rocker', 'rockies', 'rockin', 'rockland', 'rod', 'rode', 'rodendorf', 'rodeo', 'rodriguez', 'roga', 'roger', 'rohawa', 'rohirrim', 'roi', 'rokl', 'role', 'rolex', 'rolf', 'roll', 'rollbar', 'rolled', 'roller', 'rolling', 'rom', 'roman', 'romance', 'romania', 'romanian', 'romantic', 'rome', 'romero', 'romney', 'romper', 'rony', 'roof', 'roofing', 'room', 'rooney', 'roosevelt', 'root', 'rope', 'roper', 'rosanna', 'rose', 'rosen', 'rosenblat', 'ross', 'roswell', 'rosy', 'rot', 'rothschild', 'rotisserie', 'rotten', 'rotting', 'rottweiller', 'rotweiler', 'rouge', 'rough', 'roughly', 'round', 'roundabout', 'roundit', 'roundup', 'rouse', 'rousey', 'route', 'routine', 'row', 'roxbury', 'roy', 'royal', 'royalities', 'royality', 'royalty', 'rqk', 'rr', 'rsbkpcf', 'rskkyzb', 'rta', 'rticle', 'rtl', 'ru', 'rua', 'rubber', 'rubbish', 'rubric', 'ruby', 'rude', 'rudeness', 'rudimentary', 'rudolph', 'rugby', 'ruger', 'rugged', 'rugiewit', 'ruin', 'ruined', 'ruining', 'rule', 'ruled', 'ruler', 'ruling', 'rumble', 'rumour', 'run', 'runiing', 'runned', 'runnin', 'running', 'rupaul', 'rural', 'rurally', 'rush', 'rushton', 'russell', 'russia', 'russian', 'russophobia', 'rust', 'rusya', 'rutten', 'rv', 'rvale', 'rx', 'ry', 'ryan', 'ryhtm', 'ryssland', 'ryvjgddt', 'sa', 'sabbath', 'saborne', 'sabot', 'sabotaging', 'sabra', 'sack', 'sacramento', 'sacramentum', 'sacred', 'sacrifical', 'sacrifice', 'sacrificing', 'sad', 'saddening', 'sadder', 'saddest', 'sadest', 'sadistic', 'sadly', 'sadness', 'safe', 'safely', 'safer', 'safest', 'safety', 'safty', 'sag', 'saga', 'saharan', 'said', 'sailor', 'saint', 'sajn', 'sajnos', 'sake', 'salad', 'salata', 'sale', 'salem', 'sally', 'salt', 'salty', 'salute', 'saluteunknown', 'salvage', 'sam', 'samael', 'sambo', 'samford', 'samhain', 'sami', 'sample', 'sampling', 'samt', 'samuel', 'san', 'sanctioned', 'sand', 'sanda', 'sandiego', 'sandra', 'sandwich', 'sandy', 'sanford', 'sang', 'sanitizer', 'sanity', 'santa', 'sao', 'sapien', 'sapiens', 'sapper', 'sar', 'sardine', 'sarge', 'sargent', 'sars', 'sask', 'saskatoon', 'sat', 'satan', 'satanic', 'satanically', 'satellite', 'saturday', 'saturn', 'satzvey', 'sauce', 'saul', 'sava', 'savage', 'savagery', 'savannah', 'savate', 'save', 'saved', 'saver', 'saving', 'savior', 'saw', 'saxon', 'say', 'sayanim', 'saying', 'saylum', 'saysay', 'sb', 'sc', 'scale', 'scalp', 'scalping', 'scam', 'scammer', 'scan', 'scandianavism', 'scandinavia', 'scandinavian', 'scanned', 'scanner', 'scantily', 'scar', 'scarborough', 'scare', 'scarecrow', 'scared', 'scarey', 'scarlett', 'scary', 'scatter', 'scattered', 'scenario', 'scene', 'scenery', 'sceptical', 'schatzi', 'schedule', 'scheduled', 'scheiss', 'scheme', 'scherehart', 'schermerhorn', 'schiro', 'schleswig', 'schlimm', 'schlitz', 'schmidt', 'scholar', 'scholary', 'school', 'schoolchildren', 'schooled', 'schoolers', 'schooli', 'schooling', 'schweigen', 'schweitzer', 'sci', 'science', 'scientific', 'scientifically', 'scientist', 'scipio', 'scontent', 'scooter', 'scope', 'scoped', 'score', 'scored', 'scot', 'scotch', 'scotland', 'scotlandville', 'scott', 'scottish', 'scourge', 'scout', 'scouting', 'scrap', 'scratched', 'scrawny', 'scream', 'screamed', 'screaming', 'screeching', 'screen', 'screening', 'screw', 'screwing', 'script', 'scroll', 'scrounging', 'scrutiny', 'sculptor', 'sculpture', 'scum', 'scumalians', 'scumbag', 'scumbags', 'sd', 'sdl', 'se', 'sea', 'seagal', 'seal', 'sealed', 'seaman', 'seamonkey', 'sean', 'search', 'searched', 'searching', 'seashore', 'season', 'seat', 'seated', 'seattle', 'sebastian', 'sec', 'second', 'secondary', 'secondly', 'secret', 'sectarian', 'section', 'sector', 'secular', 'secularism', 'secure', 'secured', 'securing', 'security', 'sedan', 'see', 'seed', 'seeding', 'seeing', 'seek', 'seeker', 'seeking', 'seem', 'seemed', 'seemingly', 'seems', 'seen', 'seens', 'segment', 'segregated', 'segregating', 'segregationist', 'seig', 'seige', 'seim', 'seizing', 'seizure', 'select', 'selecting', 'selection', 'selective', 'self', 'selfish', 'selfishness', 'selimbar', 'sell', 'seller', 'selling', 'selv', 'sem', 'semen', 'semester', 'semi', 'seminary', 'semite', 'semitic', 'semitism', 'semm', 'semmelweis', 'send', 'sender', 'sendin', 'sending', 'sends', 'senegal', 'senior', 'sens', 'sensationalist', 'sense', 'senseless', 'sensi', 'sensibility', 'sensible', 'sensing', 'sent', 'sentence', 'sentenced', 'sententiously', 'sentiment', 'sentimentalism', 'sentimentality', 'separate', 'separated', 'separating', 'separation', 'separatist', 'seperated', 'sept', 'september', 'ser', 'serb', 'serbia', 'serbian', 'serbo', 'serenade', 'sergeant', 'sergey', 'serial', 'series', 'seriour', 'serious', 'seriously', 'serve', 'served', 'servents', 'server', 'service', 'serving', 'sesira', 'session', 'set', 'setherial', 'setting', 'settingsblueguardskrivebordny', 'settle', 'settled', 'settlement', 'settler', 'seuss', 'seven', 'seventh', 'seventy', 'several', 'severe', 'severely', 'sewing', 'sex', 'sexism', 'sexist', 'sextus', 'sexual', 'sexuality', 'sexy', 'sey', 'sf', 'sfbritain', 'sfdu', 'sfgb', 'sfi', 'sh', 'shacked', 'shacking', 'shade', 'shadow', 'shaft', 'shake', 'shakespeare', 'shall', 'shallow', 'shalt', 'sham', 'shame', 'shameful', 'shameless', 'shamrock', 'shane', 'shaniqua', 'shann', 'shannon', 'shanson', 'shape', 'shaped', 'share', 'shared', 'sharia', 'sharing', 'shark', 'sharp', 'sharpen', 'sharpened', 'sharpless', 'sharpton', 'shatter', 'shattila', 'shave', 'shaved', 'shaving', 'shead', 'shearing', 'shebeen', 'sheboon', 'shed', 'sheeeeiit', 'sheep', 'sheeple', 'sheer', 'sheet', 'sheety', 'shegroid', 'sheldon', 'shelf', 'shell', 'shelter', 'sheltered', 'sheot', 'shepherd', 'sheriff', 'sherrod', 'shes', 'shield', 'shift', 'shiloh', 'shilton', 'shimer', 'shin', 'shine', 'shiny', 'ship', 'shipping', 'shir', 'shiraz', 'shirt', 'shishkin', 'shiver', 'shoa', 'shock', 'shocked', 'shocking', 'shockingly', 'shockley', 'shockly', 'shoe', 'shool', 'shools', 'shoot', 'shooter', 'shooting', 'shootout', 'shop', 'shoplifter', 'shopper', 'shopping', 'shore', 'short', 'shortage', 'shortly', 'shot', 'shotgun', 'shoudl', 'shoulder', 'shout', 'shouting', 'shoved', 'shovel', 'shovelful', 'shoving', 'show', 'showed', 'shower', 'showing', 'shown', 'shred', 'shreddin', 'shrine', 'shrinking', 'shrug', 'shtf', 'shunning', 'shut', 'shutdown', 'shutting', 'shy', 'shylock', 'si', 'sicilian', 'sick', 'sicken', 'sickening', 'sickens', 'sickle', 'sickness', 'sicko', 'sickos', 'sid', 'side', 'sidedness', 'sideline', 'sideways', 'sie', 'sieg', 'siege', 'sielt', 'sig', 'sigh', 'sight', 'sighted', 'sign', 'signal', 'signature', 'signed', 'significant', 'significantly', 'signifying', 'signing', 'sigs', 'sikgirl', 'sikh', 'sila', 'silence', 'silenced', 'silent', 'silesia', 'silesian', 'silicon', 'silja', 'silly', 'silo', 'silva', 'silver', 'simian', 'similar', 'similiar', 'simmons', 'simon', 'simple', 'simpleton', 'simply', 'simpson', 'simular', 'simultaneous', 'simultaneously', 'sin', 'since', 'sincere', 'sincerely', 'sincs', 'sine', 'sing', 'singapore', 'singer', 'singin', 'singing', 'single', 'sings', 'singular', 'singuna', 'sinister', 'sink', 'sinner', 'sinni', 'sinopoli', 'sip', 'sipovo', 'sir', 'siren', 'sissi', 'sister', 'sisto', 'sit', 'sitcom', 'site', 'sitges', 'sits', 'sitting', 'situated', 'situation', 'six', 'sixteen', 'sixth', 'size', 'sj', 'sk', 'skadarlija', 'skal', 'skandinavia', 'skank', 'skater', 'skating', 'sketch', 'skew', 'skg', 'ski', 'skier', 'skifahren', 'skijoring', 'skill', 'skilled', 'skin', 'skingirl', 'skinhead', 'skinheadsi', 'skink', 'skinned', 'skinny', 'skinranger', 'skip', 'skipping', 'skireisen', 'skirt', 'skistern', 'skrewdriver', 'sks', 'skulk', 'skulking', 'skull', 'sky', 'skype', 'skyrocketed', 'skyrocketing', 'skyyjohn', 'slabve', 'slack', 'slag', 'slam', 'slang', 'slap', 'slaping', 'slapp', 'slapped', 'slapping', 'slashed', 'slashing', 'slather', 'slaughter', 'slaughterhouse', 'slaughtering', 'slav', 'slave', 'slavery', 'slavic', 'slayer', 'slaying', 'slc', 'sleaze', 'sledgehammer', 'sleep', 'sleeper', 'sleeve', 'sleipnir', 'slept', 'slice', 'slicker', 'slide', 'slideshow', 'slidesong', 'sliding', 'slight', 'slightest', 'slightly', 'slip', 'slipknot', 'slippage', 'slipping', 'slit', 'slither', 'slobber', 'slobbering', 'slogan', 'slope', 'sloppy', 'slothful', 'slovakia', 'slovenia', 'slovenian', 'slovo', 'slow', 'slower', 'slowly', 'sludge', 'slug', 'slum', 'slur', 'slut', 'smack', 'small', 'smaller', 'smallwood', 'smart', 'smarter', 'smartest', 'smash', 'smashed', 'smashing', 'smearing', 'smell', 'smelling', 'smh', 'smile', 'smiley', 'smilie', 'smiling', 'smirking', 'smith', 'smithfield', 'smithy', 'smoke', 'smoked', 'smoking', 'smooth', 'smoother', 'smuggler', 'smut', 'smxi', 'snack', 'snake', 'snakk', 'snapped', 'sneak', 'sneaker', 'sneaking', 'sneeze', 'snicker', 'sniper', 'snooping', 'snotty', 'snow', 'snowball', 'snowy', 'snyder', 'so', 'soak', 'soaked', 'soaker', 'soap', 'soapbox', 'soaring', 'socal', 'soccer', 'social', 'socialism', 'socialist', 'socialistic', 'socialization', 'socialize', 'socialized', 'society', 'sociology', 'sock', 'sod', 'soda', 'soderberg', 'sofia', 'soft', 'softball', 'softer', 'softly', 'software', 'soil', 'solar', 'sold', 'soldier', 'soldierfn', 'sole', 'soleil', 'solely', 'solicited', 'solid', 'solidarity', 'solo', 'solution', 'solve', 'solved', 'solvent', 'som', 'somali', 'somalia', 'somalian', 'somalies', 'sombitches', 'sombody', 'somebody', 'someday', 'somehow', 'somehwere', 'somene', 'someone', 'someplace', 'somethign', 'something', 'sometime', 'sometimes', 'somewhat', 'somewhere', 'son', 'sonata', 'song', 'songwriter', 'soo', 'soon', 'sooner', 'soooo', 'sooooooo', 'sophomore', 'soprano', 'sorcerer', 'sorensen', 'sorenyos', 'soros', 'sorrow', 'sorry', 'sort', 'sorted', 'sote', 'sotries', 'soul', 'sould', 'soulseek', 'soumalian', 'soumalians', 'sound', 'sounded', 'sounding', 'soundtrack', 'soup', 'souped', 'source', 'sourced', 'sourcex', 'south', 'southaven', 'southeast', 'southeastern', 'southern', 'southernman', 'southernmost', 'southwest', 'sov', 'sovereign', 'soviet', 'sovine', 'soya', 'sp', 'space', 'spacers', 'spade', 'spain', 'spaniard', 'spanish', 'spanking', 'spare', 'spared', 'spark', 'sparkly', 'spartacus', 'spartali', 'spat', 'spca', 'speak', 'speaker', 'speaking', 'speaks', 'spear', 'spearchuckers', 'spec', 'special', 'specialist', 'specialized', 'specially', 'specialty', 'specie', 'specific', 'specifically', 'specified', 'specimen', 'speck', 'spectacular', 'spectator', 'speculation', 'speech', 'speed', 'spel', 'spell', 'spellblast', 'spelling', 'spelt', 'spend', 'spende', 'spending', 'spends', 'spent', 'speny', 'sperm', 'spew', 'spewing', 'spg', 'spic', 'spice', 'spider', 'spin', 'spine', 'spingola', 'spiral', 'spirit', 'spirited', 'spiritual', 'spit', 'spite', 'spitting', 'spl', 'splc', 'splendidly', 'splenetic', 'split', 'spoke', 'spoken', 'sponge', 'sponsor', 'sponsored', 'spook', 'sport', 'sporting', 'spot', 'spotkalem', 'spotted', 'spray', 'spraying', 'spraypaint', 'spread', 'spreading', 'spree', 'spring', 'springer', 'springfield', 'springing', 'sps', 'spy', 'spyderco', 'spying', 'spyware', 'sq', 'squandle', 'square', 'squash', 'squatting', 'squeeze', 'squeezing', 'squelch', 'squirell', 'squirm', 'sqwincher', 'srceaming', 'sre', 'srpska', 'srpski', 'srrogate', 'sry', 'sshh', 'ssmwp', 'ssupreme', 'sszemle', 'st', 'stab', 'stabbed', 'stabbing', 'stable', 'stack', 'staddur', 'stadium', 'stadt', 'staff', 'staffed', 'stafford', 'stage', 'staged', 'stahl', 'stainless', 'stake', 'stale', 'stali', 'stalin', 'stalk', 'stalking', 'stall', 'stamp', 'stamped', 'stampede', 'stance', 'stand', 'standard', 'standing', 'stanford', 'stanis', 'star', 'starbucks', 'starchy', 'stare', 'stared', 'staring', 'stark', 'starred', 'starring', 'start', 'started', 'starter', 'starting', 'starvation', 'starve', 'starving', 'stash', 'stat', 'state', 'stated', 'statement', 'statewide', 'stating', 'station', 'statistic', 'stats', 'statuatory', 'statue', 'status', 'staunch', 'staunchly', 'stay', 'stayed', 'staying', 'std', 'steady', 'steal', 'stealing', 'steam', 'steel', 'steele', 'steeltoe', 'steered', 'steering', 'stein', 'stellar', 'stem', 'stenbeck', 'stench', 'stength', 'stenka', 'step', 'stephanos', 'stephen', 'steppe', 'stepped', 'stepping', 'stereotype', 'stereotypical', 'sterilize', 'sterlization', 'stern', 'sternmotor', 'steubenville', 'steuckers', 'steve', 'steven', 'stevens', 'stfu', 'stick', 'sticker', 'stickied', 'sticking', 'sticky', 'stiff', 'stigmatized', 'still', 'stillman', 'stillz', 'stimulus', 'stink', 'stinky', 'stir', 'stk', 'stl', 'stll', 'stock', 'stockholm', 'stocking', 'stockpile', 'stockton', 'stocky', 'stoep', 'stole', 'stolen', 'stomach', 'stomper', 'stone', 'stoney', 'stoning', 'stood', 'stooge', 'stoop', 'stop', 'stopped', 'stopping', 'stor', 'store', 'storm', 'stormed', 'stormer', 'stormfront', 'stormfronters', 'stormproof', 'stormy', 'stornonger', 'story', 'storyid', 'storyline', 'strachan', 'straight', 'strand', 'strange', 'stranger', 'strangled', 'strangles', 'strangling', 'strategical', 'strategy', 'stratfor', 'stratford', 'straub', 'straw', 'strawbale', 'strawman', 'stream', 'streaming', 'street', 'streicher', 'strength', 'strengthen', 'strenth', 'stress', 'stressing', 'stretch', 'stretcher', 'stricken', 'strict', 'strictly', 'stride', 'strife', 'strike', 'striked', 'striker', 'striking', 'string', 'strip', 'stripper', 'stripping', 'strive', 'strmfrnt', 'stromfront', 'strong', 'stronger', 'strongest', 'stronghold', 'strongly', 'strophe', 'strtting', 'structure', 'struggle', 'struggling', 'stuck', 'student', 'studing', 'studio', 'study', 'studying', 'stuepige', 'stuff', 'stuffed', 'stuffing', 'stuha', 'stuides', 'stumbled', 'stumbling', 'stunk', 'stunning', 'stunningly', 'stupid', 'stupidity', 'sture', 'sturm', 'sturmbrigade', 'style', 'stylish', 'styrketr', 'sub', 'subclades', 'subconscious', 'subculture', 'subhuman', 'subhumans', 'subject', 'subjected', 'subjective', 'subliminal', 'submission', 'submit', 'submits', 'submitted', 'subrace', 'subraces', 'subracial', 'subsequently', 'subspecies', 'substance', 'substantial', 'substantially', 'substitute', 'subtiitles', 'subtitle', 'subtle', 'subtracting', 'subtypes', 'suburb', 'suburban', 'subversion', 'subvert', 'subway', 'succeed', 'succeeded', 'succeeding', 'success', 'successful', 'successive', 'succumb', 'succumbing', 'suced', 'suck', 'sucker', 'sucking', 'sudan', 'sudanese', 'sudden', 'suddenly', 'sue', 'sued', 'suffer', 'suffered', 'suffering', 'suffice', 'sufficient', 'sugar', 'suggest', 'suggested', 'suggesting', 'suggestion', 'suggestive', 'suggests', 'suicide', 'suing', 'suit', 'suitable', 'suitation', 'suitcase', 'suite', 'suited', 'sukkel', 'sum', 'summary', 'summation', 'summer', 'sun', 'sunbathing', 'sundae', 'sunday', 'sunderland', 'sunette', 'sunk', 'sunken', 'sunnier', 'sunny', 'sunofsvarog', 'sunrise', 'sunset', 'sunshine', 'suntanned', 'sunwheel', 'suomalainen', 'suomi', 'super', 'superb', 'superior', 'superiority', 'superiour', 'supermarket', 'supernova', 'superstar', 'suport', 'suposed', 'supossed', 'supper', 'supply', 'support', 'supported', 'supporter', 'supporting', 'supportive', 'suppose', 'supposed', 'supposedly', 'suppressed', 'suppresses', 'supremacism', 'supremacist', 'supreme', 'supremicism', 'supressing', 'suprise', 'suprised', 'sure', 'surely', 'surf', 'surface', 'surfed', 'surfing', 'surgery', 'surplus', 'surprise', 'surprised', 'surprising', 'surprisingly', 'surreal', 'surrender', 'surreptitious', 'surrey', 'surround', 'surrounded', 'surrounding', 'surveillance', 'survey', 'survival', 'survivalism', 'survivalist', 'survive', 'survived', 'surviving', 'survivor', 'sus', 'susan', 'suspect', 'suspected', 'suspended', 'suspender', 'suspense', 'suspicion', 'suspicious', 'suspiciously', 'susq', 'sussed', 'sustained', 'sustaining', 'sv', 'svalbard', 'svarog', 'svea', 'svega', 'sveiks', 'sven', 'svensk', 'svenska', 'svetovid', 'svidd', 'svitjod', 'svrljig', 'svt', 'sw', 'swam', 'swamp', 'swamped', 'swampers', 'swan', 'swastika', 'swazi', 'swe', 'swear', 'swears', 'sweat', 'sweated', 'sweater', 'sweatpants', 'swede', 'sweden', 'swedish', 'sweds', 'sweet', 'sweetener', 'sweetie', 'sweetshirts', 'swerve', 'swim', 'swimming', 'swimsuit', 'swindled', 'swindling', 'swine', 'swing', 'swinging', 'swiss', 'swissgirl', 'switch', 'switching', 'switzerland', 'sword', 'swordfish', 'swp', 'swva', 'sxe', 'sxkpdxixkgy', 'sydney', 'syk', 'syllabus', 'symbiosis', 'symbol', 'sympathy', 'symphony', 'symptom', 'syn', 'syndicate', 'synosis', 'sypply', 'syria', 'syrian', 'syrup', 'sysselmannen', 'system', 'syunik', 'szandra', 'szbhztunw', 'szczecry', 'szp', 'ta', 'taara', 'tab', 'table', 'tablet', 'tack', 'tackle', 'tackling', 'tacky', 'taco', 'tacoma', 'tactic', 'tactical', 'tadema', 'tag', 'taganrog', 'taget', 'tail', 'tailor', 'taim', 'taint', 'tainted', 'tairm', 'taiwan', 'take', 'takebakamer', 'takedown', 'taken', 'takeover', 'takin', 'taking', 'tala', 'tale', 'talent', 'talentless', 'talk', 'talked', 'talkie', 'talkin', 'talking', 'tall', 'tallaght', 'tally', 'talmud', 'talmudivision', 'talysh', 'tamir', 'tampa', 'tan', 'tang', 'tank', 'tanned', 'taoiseach', 'tap', 'tape', 'tapio', 'tapp', 'tapped', 'tar', 'tara', 'tarantino', 'target', 'targeted', 'targeting', 'tarja', 'tartan', 'tarzan', 'taser', 'task', 'tassled', 'taste', 'tasted', 'tat', 'tatar', 'tate', 'tatiana', 'tatto', 'tattoo', 'tattooed', 'tattooist', 'taught', 'taunt', 'taurus', 'tax', 'taxi', 'taxpayer', 'taylor', 'tazewell', 'tb', 'tbe', 'tch', 'tchaikovsky', 'td', 'te', 'tea', 'teach', 'teacher', 'teaching', 'team', 'tear', 'tearing', 'teaser', 'teasing', 'tech', 'technical', 'technician', 'technique', 'technology', 'ted', 'tee', 'teef', 'teeming', 'teen', 'teenage', 'teenager', 'teespring', 'teeth', 'tehran', 'tel', 'telegraf', 'telegraph', 'teleket', 'telephone', 'telescope', 'telescopic', 'television', 'tell', 'teller', 'telling', 'telly', 'tellyspeople', 'temnaya', 'temp', 'temper', 'temperament', 'temperature', 'tempered', 'temple', 'temporarily', 'temporary', 'tempting', 'ten', 'tenacity', 'tenant', 'tend', 'tendency', 'tends', 'tenet', 'tenn', 'tenner', 'tennessee', 'tennis', 'tension', 'tent', 'tentacle', 'tenth', 'tereasa', 'term', 'terminal', 'termination', 'ternopil', 'terribel', 'terrible', 'terrier', 'terrific', 'terrified', 'territorial', 'territory', 'terror', 'terrorhandlinger', 'terroris', 'terrorism', 'terrorist', 'terrorize', 'terry', 'tersloh', 'terxxl', 'tesak', 'tesco', 'test', 'testament', 'tested', 'testing', 'texas', 'text', 'textbook', 'texture', 'tf', 'tfp', 'tfr', 'th', 'tha', 'thaat', 'thad', 'thai', 'thaiguys', 'thailand', 'thames', 'thandi', 'thank', 'thankful', 'thankfully', 'thanking', 'thanks', 'thanksgiving', 'thankx', 'thankyou', 'thanx', 'thatll', 'thats', 'thay', 'thea', 'thease', 'theater', 'theatre', 'thebest', 'thecoloured', 'thedark', 'thee', 'theft', 'thegirl', 'thelgbt', 'theman', 'themd', 'theme', 'theoden', 'theodore', 'theodoric', 'theology', 'theorizing', 'theory', 'thepiratebay', 'therapy', 'there', 'therealfixxx', 'thereapist', 'therefor', 'therefore', 'therein', 'thereof', 'thermal', 'thesame', 'thewhitewolf', 'theyre', 'thi', 'thick', 'thickest', 'thief', 'thier', 'thierry', 'thiery', 'thieving', 'thin', 'thing', 'thingy', 'think', 'thinker', 'thinking', 'thir', 'third', 'thirsty', 'thirty', 'thnkx', 'tho', 'thoguht', 'thomas', 'thompson', 'thor', 'thorn', 'thorny', 'thorongil', 'thoroughly', 'thorsday', 'thot', 'thou', 'though', 'thought', 'thoughtless', 'thousand', 'thow', 'thraco', 'thread', 'threadid', 'threat', 'threaten', 'threatened', 'threatening', 'three', 'threw', 'thrill', 'thrive', 'throat', 'throne', 'throng', 'throu', 'throughit', 'throughout', 'throw', 'throwing', 'thrown', 'thru', 'thug', 'thugreport', 'thule', 'thumb', 'thump', 'thumper', 'thunder', 'thunderbolt', 'thunderphoenix', 'thunderstorm', 'thurman', 'thursday', 'thus', 'thwart', 'ti', 'tia', 'tibet', 'ticker', 'ticket', 'tico', 'tide', 'tidings', 'tie', 'tied', 'tiegs', 'tienestefolk', 'tiger', 'tight', 'tightening', 'tighter', 'tightly', 'tiiu', 'til', 'till', 'tilv', 'tim', 'timber', 'timbered', 'time', 'timely', 'times', 'timing', 'timmy', 'ting', 'tinker', 'tiny', 'tinypic', 'tiolets', 'tion', 'tip', 'tire', 'tired', 'tit', 'titan', 'title', 'titled', 'tjenestepige', 'tk', 'tkdq', 'tl', 'tlc', 'tn', 'tnb', 'toalets', 'toast', 'toasted', 'toccata', 'tod', 'today', 'toddler', 'toe', 'together', 'togethers', 'toilet', 'tojan', 'told', 'tolerance', 'tolerate', 'tolkien', 'tolleson', 'tom', 'tomb', 'tommy', 'tomorrow', 'ton', 'tone', 'tongue', 'tonight', 'tony', 'took', 'tool', 'toot', 'tooting', 'top', 'topeka', 'topham', 'topic', 'topix', 'topless', 'tor', 'torah', 'torch', 'torchlight', 'torment', 'tormented', 'tormenting', 'torn', 'tornouments', 'toronto', 'torpedo', 'torpid', 'torture', 'tortured', 'tory', 'toss', 'tosser', 'tost', 'toszek', 'total', 'totally', 'totp', 'totta', 'tottenham', 'totuus', 'touch', 'touched', 'touching', 'tougether', 'tough', 'tougher', 'tour', 'tourism', 'tourist', 'tournament', 'towan', 'toward', 'towards', 'tower', 'town', 'township', 'toxic', 'toy', 'tp', 'tr', 'tra', 'trabants', 'trace', 'traced', 'track', 'tracking', 'tract', 'trade', 'traded', 'trader', 'tradition', 'traditional', 'traditionally', 'traffic', 'trafficked', 'trafficking', 'tragedy', 'tragic', 'tragically', 'tragted', 'trail', 'trailer', 'trailered', 'train', 'trained', 'training', 'trainnig', 'traitor', 'tralee', 'tramp', 'tramping', 'tranning', 'tranny', 'transcona', 'transcribed', 'transcript', 'transcription', 'transfer', 'transfiguration', 'transformation', 'transformed', 'transforming', 'transgender', 'transilvanian', 'transistor', 'transit', 'transitive', 'translate', 'translated', 'translates', 'translation', 'transmission', 'transmitted', 'transmitting', 'transnistria', 'transparency', 'transparent', 'transplant', 'transport', 'transportation', 'transylvania', 'trap', 'trapped', 'trash', 'trashy', 'trauma', 'traumatized', 'travel', 'traveled', 'traveling', 'traveller', 'travelling', 'traverse', 'travesty', 'travis', 'tread', 'treading', 'treason', 'treat', 'treated', 'treater', 'treatment', 'treblinka', 'tree', 'treet', 'trek', 'trend', 'trespass', 'trespasser', 'trespassing', 'treue', 'trevligt', 'trevor', 'trey', 'tri', 'trial', 'triangle', 'trianon', 'tribal', 'tribalism', 'tribe', 'trick', 'trickster', 'tricoleur', 'tricycle', 'tried', 'trier', 'trigger', 'triggered', 'trigonometry', 'trilidon', 'trimmed', 'tring', 'trip', 'tripe', 'triple', 'tripled', 'tripped', 'tripping', 'tripple', 'trisha', 'tristania', 'triumph', 'trlwaksmkha', 'tro', 'troika', 'trois', 'trojan', 'trojka', 'troll', 'trolling', 'trollsville', 'troop', 'trophy', 'trotis', 'trotski', 'trotsky', 'trouble', 'troublemaker', 'troublesome', 'trout', 'troy', 'truck', 'trucker', 'truckstop', 'truckstops', 'trudeau', 'true', 'truely', 'truh', 'truly', 'trump', 'trunk', 'trust', 'trusted', 'trusting', 'trusty', 'truth', 'try', 'trying', 'tschubtschik', 'tshinvaly', 'tshirt', 'tsjetsjener', 'tsunami', 'tt', 'ttc', 'tti', 'ttjnz', 'ttogather', 'ttrfivsuf', 'tubb', 'tube', 'tucson', 'tudok', 'tuesday', 'tuf', 'tuffet', 'tuition', 'tuleistu', 'tulsa', 'tumblin', 'tummy', 'tuna', 'tune', 'tunisian', 'tunnel', 'tupelo', 'turanid', 'turbo', 'turd', 'turdos', 'turk', 'turkey', 'turkic', 'turkish', 'turn', 'turnage', 'turned', 'turner', 'turning', 'turnout', 'turret', 'tuti', 'tutor', 'tutorial', 'tv', 'tvat', 'tvhjssc', 'twelve', 'twhzxn', 'twice', 'twilight', 'twin', 'twist', 'twisted', 'twitter', 'two', 'twp', 'twylytegrl', 'tx', 'txt', 'ty', 'tyep', 'type', 'typed', 'typhus', 'typical', 'typing', 'tyr', 'tyrannic', 'tyre', 'tyrone', 'tyrsday', 'tyrus', 'tyskland', 'tyson', 'ua', 'uaf', 'uber', 'ubiquity', 'ubroadcast', 'uc', 'ucc', 'uci', 'ucla', 'ucsb', 'udins', 'ufc', 'ugh', 'ugly', 'ugric', 'uh', 'uk', 'uka', 'ukar', 'ukip', 'ukraine', 'ukrainian', 'ukranian', 'ulster', 'ulterior', 'ultima', 'ultimate', 'ultra', 'ultras', 'ultrasound', 'um', 'umberto', 'umbrotat', 'umpteenth', 'umteenth', 'un', 'una', 'unable', 'unacceptable', 'unapologetic', 'unappreciated', 'unarmed', 'unassuming', 'unattacked', 'unattracitive', 'unaware', 'unbearable', 'unbeautiful', 'unbelievable', 'uncalled', 'uncensored', 'uncertain', 'unchained', 'uncivilized', 'uncle', 'uncomfortable', 'unconditional', 'unconscious', 'uncontrollable', 'unconventional', 'uncover', 'uncovered', 'uncovering', 'und', 'undeclared', 'underage', 'underbid', 'undercutting', 'underestimate', 'undergraduate', 'underground', 'underholdes', 'undermine', 'underprivilidged', 'understand', 'understanding', 'understood', 'undertone', 'underwater', 'underwraps', 'undesirable', 'undisclosed', 'undo', 'undoing', 'undoubtedly', 'une', 'unedited', 'uneducated', 'unemployable', 'unemployed', 'unemployment', 'unenlightened', 'uneven', 'unfair', 'unfare', 'unfolded', 'unfolding', 'unforgivable', 'unfortuantely', 'unfortunately', 'unfortunatly', 'unguarded', 'unhappy', 'unheard', 'uni', 'unibomber', 'unifed', 'unification', 'unified', 'uniform', 'uniformly', 'unimportant', 'uninspected', 'unintelligent', 'union', 'unionized', 'unique', 'unit', 'unite', 'united', 'unitedfrontcanada', 'uniting', 'unity', 'unitynd', 'universal', 'universe', 'universiteit', 'university', 'unjustifiably', 'unknowingly', 'unknown', 'unlearn', 'unleash', 'unless', 'unlike', 'unmoderated', 'unnatural', 'unnecessary', 'unnecesserily', 'unnoticed', 'unperoked', 'unpleasant', 'unproductive', 'unpunished', 'unpure', 'unqualified', 'unread', 'unreal', 'unrealistic', 'unregistered', 'unreserved', 'unrest', 'unrestrained', 'unrivaled', 'unruly', 'unseen', 'unspecified', 'unstable', 'unsubscribed', 'unsuccessful', 'unsuspecting', 'unsustainable', 'untainted', 'untalented', 'unteachable', 'untelling', 'untermench', 'untill', 'unto', 'untouched', 'untrue', 'unused', 'unuseful', 'unusual', 'unwaged', 'unwashed', 'unwatchable', 'unwhite', 'unworthy', 'upa', 'upc', 'upcoming', 'update', 'updated', 'upgraded', 'upheld', 'uphold', 'upid', 'upington', 'uplifting', 'upload', 'uploaded', 'uploading', 'uploads', 'upon', 'upper', 'upperbody', 'uppercut', 'upright', 'uprising', 'uproar', 'ups', 'upset', 'upside', 'upsome', 'upstanding', 'upstream', 'ur', 'urainian', 'urban', 'urge', 'urging', 'urine', 'url', 'urm', 'uruguay', 'us', 'usa', 'usally', 'usc', 'usd', 'use', 'used', 'useful', 'useless', 'user', 'username', 'ushered', 'usikker', 'using', 'ussually', 'ustasha', 'usual', 'usually', 'usualy', 'ut', 'uta', 'utah', 'ute', 'utf', 'utility', 'utopia', 'utopian', 'utter', 'uttering', 'utterly', 'utv', 'uuuu', 'uuuugh', 'uv', 'uva', 'uvb', 'uyif', 'uzi', 'uzodinma', 'va', 'vacate', 'vacation', 'vaccinating', 'vaccine', 'vaezznw', 'vagina', 'vague', 'vagy', 'vail', 'vain', 'val', 'valentine', 'valentino', 'valgt', 'valhalla', 'valiant', 'valid', 'validating', 'validity', 'valkyrie', 'valley', 'value', 'valued', 'valueless', 'vampire', 'van', 'vancouver', 'vandalised', 'vanemuine', 'vanguard', 'vanhanen', 'vanish', 'vanishment', 'vanity', 'vantage', 'vaporous', 'var', 'variance', 'variant', 'variation', 'varied', 'variety', 'various', 'varit', 'varmit', 'varsity', 'vassal', 'vast', 'vastly', 'vat', 'vault', 'vd', 'vebtw', 'vedder', 'veggie', 'vegitation', 'vehicle', 'veiws', 'vejle', 'vekol', 'veles', 'velocity', 'venezuelan', 'vengeance', 'vent', 'venting', 'venture', 'venue', 'venus', 'vera', 'verb', 'verbal', 'verdict', 'verdil', 'veri', 'verify', 'verl', 'vermin', 'vermont', 'vernita', 'vers', 'versailles', 'versand', 'verse', 'version', 'versus', 'vet', 'vfq', 'vh', 'vhs', 'vi', 'via', 'vibrant', 'vice', 'vicinity', 'vicious', 'viciously', 'vicory', 'victim', 'victimisation', 'victimised', 'victimizing', 'victoria', 'victorian', 'victoriously', 'victory', 'vid', 'vide', 'video', 'vie', 'vied', 'vierling', 'vietnam', 'view', 'viewer', 'viewing', 'vigger', 'vigoursoly', 'viimeisi', 'viking', 'vikinginme', 'vil', 'vile', 'village', 'villager', 'villoja', 'vine', 'vineyard', 'vinnytsya', 'vintage', 'viol', 'violating', 'violation', 'violator', 'violence', 'violent', 'violin', 'violinist', 'violist', 'viral', 'virgin', 'virginia', 'virile', 'virtual', 'virtually', 'virtue', 'virus', 'visa', 'visible', 'vision', 'visionary', 'visist', 'visit', 'visited', 'visiting', 'visitor', 'vital', 'vitals', 'viva', 'vladimir', 'vm', 'vnn', 'vnto', 'vocal', 'vocalise', 'vocational', 'vodka', 'vodm', 'vogel', 'voice', 'vojvodina', 'volksfront', 'volksgemeinshaft', 'volkstaat', 'volume', 'voluntary', 'volunteer', 'vomit', 'von', 'vonfreyja', 'voo', 'voodoo', 'vosotros', 'vote', 'voted', 'voter', 'voting', 'vouch', 'vox', 'vq', 'vrbas', 'vreview', 'vrije', 'vtac', 'vulnerable', 'vurderer', 'vvalentines', 'vy', 'wa', 'waar', 'wacko', 'waco', 'wacpg', 'wad', 'wade', 'waffen', 'wage', 'waged', 'wagner', 'wagon', 'waht', 'wait', 'waited', 'waiting', 'wake', 'waking', 'wale', 'walk', 'walked', 'walker', 'walkie', 'walkiing', 'walking', 'walkway', 'wall', 'wallet', 'wallin', 'walmart', 'walt', 'walter', 'wan', 'wander', 'wanderin', 'wandering', 'wanker', 'want', 'wanted', 'wanting', 'war', 'warborough', 'warburg', 'warchief', 'warcrimes', 'ward', 'ware', 'waren', 'warfare', 'wariors', 'warm', 'warming', 'warms', 'warn', 'warning', 'warrent', 'warrior', 'warriour', 'warsaw', 'warspirit', 'warzecha', 'wash', 'washed', 'washington', 'wasnt', 'wasp', 'waste', 'wasted', 'wasteland', 'wasting', 'watch', 'watchdog', 'watched', 'watching', 'watct', 'water', 'watered', 'waterfall', 'waterford', 'watermelon', 'watertight', 'waukegan', 'waukesha', 'wave', 'waving', 'wax', 'way', 'wayne', 'wc', 'wcotc', 'wctoc', 'wday', 'weak', 'weaker', 'weakness', 'weale', 'weall', 'wealth', 'wealthier', 'weapon', 'wear', 'wearing', 'weather', 'weaving', 'web', 'webcam', 'webmaster', 'webpage', 'website', 'webster', 'wecome', 'wedding', 'wedge', 'wednesday', 'wee', 'weed', 'week', 'weekday', 'weekend', 'weekly', 'weg', 'wehrmacht', 'wehrwolf', 'wei', 'weigh', 'weight', 'weiner', 'weird', 'weirdo', 'weissersturm', 'weku', 'welcome', 'welcomed', 'welcoming', 'weldin', 'welding', 'welfare', 'welffare', 'well', 'wellbeing', 'wellsburg', 'welsh', 'welt', 'weman', 'wends', 'wendy', 'went', 'weonly', 'weq', 'werent', 'wesley', 'wesson', 'west', 'westchester', 'western', 'westf', 'westminster', 'westmoreland', 'wet', 'wetback', 'wethepeople', 'wetm', 'weve', 'wf', 'wfin', 'wgbph', 'wgcl', 'wgs', 'whacked', 'whale', 'whatever', 'whatnot', 'whats', 'whatsoever', 'wheat', 'wheaton', 'wheel', 'wheelin', 'whenever', 'whereas', 'wherein', 'wherever', 'whether', 'whew', 'whichever', 'whigger', 'whille', 'whilst', 'whine', 'whining', 'whinorities', 'whip', 'whipe', 'whipping', 'whisk', 'whisker', 'whiskey', 'white', 'whitebyp', 'whitefish', 'whitegenocide', 'whitehouse', 'whitelion', 'whiten', 'whiteness', 'whitepride', 'whiteqt', 'whiter', 'whiteresistanceradio', 'whitest', 'whiteteacher', 'whitetiger', 'whiteutopian', 'whitey', 'who', 'whoever', 'whole', 'wholly', 'whore', 'whose', 'whut', 'whyman', 'wichita', 'wickliffe', 'wide', 'wider', 'widespread', 'widow', 'wiedza', 'wieghtlifting', 'wielding', 'wields', 'wierd', 'wiesenthal', 'wif', 'wife', 'wifi', 'wigerish', 'wigga', 'wiggah', 'wigged', 'wigger', 'wiggerism', 'wiggers', 'wigggers', 'wiggle', 'wiki', 'wikipedia', 'wilbraham', 'wild', 'wilde', 'wildly', 'wildness', 'wilhelm', 'willed', 'willens', 'william', 'williams', 'williamsburg', 'willing', 'willingly', 'willowick', 'wiltshire', 'win', 'winchester', 'wind', 'window', 'windowless', 'windpipe', 'windshield', 'windtalker', 'windy', 'wine', 'winehouse', 'wing', 'winged', 'winner', 'winning', 'winnipeg', 'winston', 'winter', 'winxp', 'wipe', 'wiped', 'wiper', 'wir', 'wire', 'wisconsin', 'wisdom', 'wise', 'wisely', 'wish', 'wishful', 'wishing', 'wit', 'witch', 'witherwack', 'withhold', 'within', 'without', 'withouth', 'witness', 'witwe', 'wizard', 'wkf', 'wltx', 'wn', 'wnct', 'wnn', 'wnps', 'wns', 'wntube', 'wo', 'woda', 'wodin', 'wodinsday', 'wog', 'wojnar', 'wolf', 'wolfie', 'wolga', 'wolrd', 'woman', 'wombat', 'wonder', 'wondered', 'wonderful', 'wonderfull', 'wondering', 'wondetring', 'wondrous', 'wont', 'woo', 'wood', 'wooden', 'woodland', 'woodpile', 'woodstock', 'woodtemple', 'woodwork', 'wool', 'woooh', 'worcester', 'word', 'wording', 'wordy', 'wore', 'work', 'worked', 'worker', 'workforce', 'working', 'workout', 'workshop', 'workwear', 'world', 'worlders', 'worldwide', 'worm', 'worn', 'worried', 'worry', 'worrying', 'worse', 'worship', 'worshipping', 'worst', 'wort', 'worth', 'worthless', 'worthwhile', 'worthy', 'wortrh', 'wos', 'would', 'wouldnt', 'wouldve', 'wound', 'wow', 'woy', 'wp', 'wpfr', 'wpww', 'wrapped', 'wreck', 'wrecker', 'wrecking', 'wrench', 'wrenching', 'wrestle', 'wrestled', 'wrestlemania', 'wrestler', 'wrestling', 'wretched', 'wretstr', 'wright', 'wrist', 'write', 'writer', 'writes', 'writing', 'written', 'wrong', 'wrongful', 'wrongfully', 'wrongly', 'wrote', 'wrs', 'wrvtngl', 'wsu', 'wtf', 'wtnfdpxtfek', 'wtov', 'wu', 'wulfi', 'wussed', 'wuz', 'wv', 'ww', 'wwf', 'wwi', 'wwii', 'xasxribb', 'xcywpdorysa', 'xd', 'xdm', 'xdr', 'xe', 'xg', 'xgpkj', 'xk', 'xox', 'xoxoxoxoxoxox', 'xq', 'xqx', 'xter', 'xtreme', 'xx', 'xxboobearxx', 'xxv', 'ya', 'yada', 'yah', 'yahoo', 'yale', 'yalecourses', 'yam', 'yamaha', 'yamoto', 'yancy', 'yank', 'yankee', 'yanukovych', 'yar', 'yard', 'yatsenyuk', 'yawn', 'yay', 'yd', 'ye', 'yea', 'yeah', 'year', 'yearly', 'yeh', 'yeletsky', 'yell', 'yelled', 'yellen', 'yelling', 'yellow', 'yelow', 'yep', 'yepiskoposyan', 'yer', 'yerevan', 'yes', 'yesterday', 'yet', 'yevgeny', 'yez', 'yg', 'yihaa', 'yiu', 'yj', 'yngste', 'yo', 'yodeller', 'yoke', 'yonge', 'yopur', 'york', 'young', 'younger', 'youngest', 'youngster', 'youre', 'youshchinsky', 'youth', 'youtu', 'youtube', 'youtubes', 'yr', 'yt', 'yuck', 'yucky', 'yuenglings', 'yuga', 'yugo', 'yugoslavia', 'yule', 'yulunga', 'yummier', 'yup', 'yus', 'zadar', 'zadnego', 'zagami', 'zahariadis', 'zakeshia', 'zakus', 'zaporojie', 'zapoy', 'zbthcy', 'zdhmnfnm', 'zdrowie', 'zduha', 'zealand', 'zealot', 'zebowice', 'zebra', 'zehlendorf', 'zeitung', 'zek', 'zeleni', 'zeljko', 'zembowitz', 'zero', 'zhivago', 'zimbabwe', 'zimbawee', 'zimmer', 'zimmerman', 'zionism', 'zionist', 'zip', 'zo', 'zoe', 'zog', 'zogworld', 'zombie', 'zone', 'zoo', 'zowg', 'zpridez', 'zsofia', 'ztv', 'zuerich', 'zulu', 'zum', 'zuma', 'zundel', 'zur', 'zuul', 'zv', 'zvjezdan', 'zwei', 'zwillings', 'zxyy', 'zyklon', 'zzsjrfozlfy']\n"
     ]
    }
   ],
   "source": [
    "print(bow_vectorizer.get_feature_names())"
   ]
  },
  {
   "cell_type": "code",
   "execution_count": 22,
   "metadata": {},
   "outputs": [
    {
     "name": "stdout",
     "output_type": "stream",
     "text": [
      "['ago', 'also', 'always', 'anyone', 'anything', 'area', 'around', 'back', 'black', 'child', 'come', 'could', 'country', 'day', 'dont', 'even', 'ever', 'every', 'eye', 'find', 'first', 'friend', 'get', 'girl', 'go', 'god', 'going', 'good', 'got', 'great', 'group', 'guy', 'home', 'hope', 'im', 'ireland', 'jew', 'kid', 'know', 'last', 'let', 'like', 'little', 'live', 'long', 'look', 'looking', 'lot', 'make', 'man', 'many', 'maybe', 'much', 'nationalist', 'need', 'negro', 'never', 'new', 'news', 'non', 'nothing', 'old', 'one', 'people', 'place', 'post', 'put', 'race', 'read', 'really', 'right', 'said', 'saw', 'say', 'school', 'see', 'show', 'someone', 'something', 'start', 'take', 'talk', 'thing', 'think', 'thread', 'time', 'two', 'video', 'want', 'watch', 'way', 'week', 'well', 'white', 'woman', 'work', 'world', 'would', 'year', 'youtube']\n"
     ]
    }
   ],
   "source": [
    "# Tfidf vectorizer\n",
    "tfidf_vectorizer = TfidfVectorizer(max_features=100)\n",
    "X_tfidf = tfidf_vectorizer.fit_transform(data['lemmatized'])\n",
    "print(tfidf_vectorizer.get_feature_names())"
   ]
  },
  {
   "cell_type": "code",
   "execution_count": 23,
   "metadata": {},
   "outputs": [
    {
     "data": {
      "text/html": [
       "<div>\n",
       "<style scoped>\n",
       "    .dataframe tbody tr th:only-of-type {\n",
       "        vertical-align: middle;\n",
       "    }\n",
       "\n",
       "    .dataframe tbody tr th {\n",
       "        vertical-align: top;\n",
       "    }\n",
       "\n",
       "    .dataframe thead th {\n",
       "        text-align: right;\n",
       "    }\n",
       "</style>\n",
       "<table border=\"1\" class=\"dataframe\">\n",
       "  <thead>\n",
       "    <tr style=\"text-align: right;\">\n",
       "      <th></th>\n",
       "      <th>white</th>\n",
       "      <th>back</th>\n",
       "      <th>world</th>\n",
       "      <th>jew</th>\n",
       "      <th>think</th>\n",
       "      <th>black</th>\n",
       "      <th>every</th>\n",
       "      <th>get</th>\n",
       "      <th>look</th>\n",
       "      <th>hope</th>\n",
       "      <th>one</th>\n",
       "      <th>say</th>\n",
       "      <th>read</th>\n",
       "      <th>well</th>\n",
       "      <th>always</th>\n",
       "      <th>like</th>\n",
       "    </tr>\n",
       "  </thead>\n",
       "  <tbody>\n",
       "    <tr>\n",
       "      <th>0</th>\n",
       "      <td>0.000000</td>\n",
       "      <td>0.000000</td>\n",
       "      <td>0.0</td>\n",
       "      <td>0.0</td>\n",
       "      <td>0.382474</td>\n",
       "      <td>0.0</td>\n",
       "      <td>0.0</td>\n",
       "      <td>0.0</td>\n",
       "      <td>0.0</td>\n",
       "      <td>0.0</td>\n",
       "      <td>0.000000</td>\n",
       "      <td>0.0</td>\n",
       "      <td>0.0</td>\n",
       "      <td>0.0</td>\n",
       "      <td>0.0</td>\n",
       "      <td>0.000000</td>\n",
       "    </tr>\n",
       "    <tr>\n",
       "      <th>1</th>\n",
       "      <td>0.000000</td>\n",
       "      <td>0.000000</td>\n",
       "      <td>0.0</td>\n",
       "      <td>0.0</td>\n",
       "      <td>0.000000</td>\n",
       "      <td>0.0</td>\n",
       "      <td>0.0</td>\n",
       "      <td>0.0</td>\n",
       "      <td>0.0</td>\n",
       "      <td>0.0</td>\n",
       "      <td>0.000000</td>\n",
       "      <td>0.0</td>\n",
       "      <td>0.0</td>\n",
       "      <td>0.0</td>\n",
       "      <td>0.0</td>\n",
       "      <td>0.000000</td>\n",
       "    </tr>\n",
       "    <tr>\n",
       "      <th>2</th>\n",
       "      <td>0.000000</td>\n",
       "      <td>0.000000</td>\n",
       "      <td>0.0</td>\n",
       "      <td>0.0</td>\n",
       "      <td>0.000000</td>\n",
       "      <td>0.0</td>\n",
       "      <td>0.0</td>\n",
       "      <td>0.0</td>\n",
       "      <td>0.0</td>\n",
       "      <td>0.0</td>\n",
       "      <td>0.000000</td>\n",
       "      <td>0.0</td>\n",
       "      <td>0.0</td>\n",
       "      <td>0.0</td>\n",
       "      <td>0.0</td>\n",
       "      <td>0.000000</td>\n",
       "    </tr>\n",
       "    <tr>\n",
       "      <th>3</th>\n",
       "      <td>0.000000</td>\n",
       "      <td>0.000000</td>\n",
       "      <td>0.0</td>\n",
       "      <td>0.0</td>\n",
       "      <td>0.000000</td>\n",
       "      <td>0.0</td>\n",
       "      <td>0.0</td>\n",
       "      <td>0.0</td>\n",
       "      <td>0.0</td>\n",
       "      <td>0.0</td>\n",
       "      <td>0.000000</td>\n",
       "      <td>0.0</td>\n",
       "      <td>0.0</td>\n",
       "      <td>0.0</td>\n",
       "      <td>0.0</td>\n",
       "      <td>0.000000</td>\n",
       "    </tr>\n",
       "    <tr>\n",
       "      <th>4</th>\n",
       "      <td>0.000000</td>\n",
       "      <td>0.000000</td>\n",
       "      <td>0.0</td>\n",
       "      <td>0.0</td>\n",
       "      <td>0.000000</td>\n",
       "      <td>0.0</td>\n",
       "      <td>0.0</td>\n",
       "      <td>0.0</td>\n",
       "      <td>0.0</td>\n",
       "      <td>0.0</td>\n",
       "      <td>0.000000</td>\n",
       "      <td>0.0</td>\n",
       "      <td>0.0</td>\n",
       "      <td>0.0</td>\n",
       "      <td>0.0</td>\n",
       "      <td>0.000000</td>\n",
       "    </tr>\n",
       "    <tr>\n",
       "      <th>5</th>\n",
       "      <td>0.000000</td>\n",
       "      <td>0.000000</td>\n",
       "      <td>0.0</td>\n",
       "      <td>0.0</td>\n",
       "      <td>0.000000</td>\n",
       "      <td>0.0</td>\n",
       "      <td>0.0</td>\n",
       "      <td>0.0</td>\n",
       "      <td>0.0</td>\n",
       "      <td>0.0</td>\n",
       "      <td>0.000000</td>\n",
       "      <td>0.0</td>\n",
       "      <td>0.0</td>\n",
       "      <td>0.0</td>\n",
       "      <td>0.0</td>\n",
       "      <td>0.000000</td>\n",
       "    </tr>\n",
       "    <tr>\n",
       "      <th>6</th>\n",
       "      <td>0.443277</td>\n",
       "      <td>0.000000</td>\n",
       "      <td>0.0</td>\n",
       "      <td>0.0</td>\n",
       "      <td>0.000000</td>\n",
       "      <td>0.0</td>\n",
       "      <td>0.0</td>\n",
       "      <td>0.0</td>\n",
       "      <td>0.0</td>\n",
       "      <td>0.0</td>\n",
       "      <td>0.000000</td>\n",
       "      <td>0.0</td>\n",
       "      <td>0.0</td>\n",
       "      <td>0.0</td>\n",
       "      <td>0.0</td>\n",
       "      <td>0.000000</td>\n",
       "    </tr>\n",
       "    <tr>\n",
       "      <th>7</th>\n",
       "      <td>0.000000</td>\n",
       "      <td>0.000000</td>\n",
       "      <td>0.0</td>\n",
       "      <td>0.0</td>\n",
       "      <td>0.000000</td>\n",
       "      <td>0.0</td>\n",
       "      <td>0.0</td>\n",
       "      <td>0.0</td>\n",
       "      <td>0.0</td>\n",
       "      <td>0.0</td>\n",
       "      <td>0.000000</td>\n",
       "      <td>0.0</td>\n",
       "      <td>0.0</td>\n",
       "      <td>0.0</td>\n",
       "      <td>0.0</td>\n",
       "      <td>0.000000</td>\n",
       "    </tr>\n",
       "    <tr>\n",
       "      <th>8</th>\n",
       "      <td>0.000000</td>\n",
       "      <td>0.000000</td>\n",
       "      <td>0.0</td>\n",
       "      <td>0.0</td>\n",
       "      <td>0.000000</td>\n",
       "      <td>0.0</td>\n",
       "      <td>0.0</td>\n",
       "      <td>0.0</td>\n",
       "      <td>0.0</td>\n",
       "      <td>0.0</td>\n",
       "      <td>0.000000</td>\n",
       "      <td>0.0</td>\n",
       "      <td>0.0</td>\n",
       "      <td>0.0</td>\n",
       "      <td>0.0</td>\n",
       "      <td>0.000000</td>\n",
       "    </tr>\n",
       "    <tr>\n",
       "      <th>9</th>\n",
       "      <td>0.000000</td>\n",
       "      <td>0.377809</td>\n",
       "      <td>0.0</td>\n",
       "      <td>0.0</td>\n",
       "      <td>0.000000</td>\n",
       "      <td>0.0</td>\n",
       "      <td>0.0</td>\n",
       "      <td>0.0</td>\n",
       "      <td>0.0</td>\n",
       "      <td>0.0</td>\n",
       "      <td>0.472976</td>\n",
       "      <td>0.0</td>\n",
       "      <td>0.0</td>\n",
       "      <td>0.0</td>\n",
       "      <td>0.0</td>\n",
       "      <td>0.382452</td>\n",
       "    </tr>\n",
       "  </tbody>\n",
       "</table>\n",
       "</div>"
      ],
      "text/plain": [
       "      white      back  world  jew     think  black  every  get  look  hope  \\\n",
       "0  0.000000  0.000000    0.0  0.0  0.382474    0.0    0.0  0.0   0.0   0.0   \n",
       "1  0.000000  0.000000    0.0  0.0  0.000000    0.0    0.0  0.0   0.0   0.0   \n",
       "2  0.000000  0.000000    0.0  0.0  0.000000    0.0    0.0  0.0   0.0   0.0   \n",
       "3  0.000000  0.000000    0.0  0.0  0.000000    0.0    0.0  0.0   0.0   0.0   \n",
       "4  0.000000  0.000000    0.0  0.0  0.000000    0.0    0.0  0.0   0.0   0.0   \n",
       "5  0.000000  0.000000    0.0  0.0  0.000000    0.0    0.0  0.0   0.0   0.0   \n",
       "6  0.443277  0.000000    0.0  0.0  0.000000    0.0    0.0  0.0   0.0   0.0   \n",
       "7  0.000000  0.000000    0.0  0.0  0.000000    0.0    0.0  0.0   0.0   0.0   \n",
       "8  0.000000  0.000000    0.0  0.0  0.000000    0.0    0.0  0.0   0.0   0.0   \n",
       "9  0.000000  0.377809    0.0  0.0  0.000000    0.0    0.0  0.0   0.0   0.0   \n",
       "\n",
       "        one  say  read  well  always      like  \n",
       "0  0.000000  0.0   0.0   0.0     0.0  0.000000  \n",
       "1  0.000000  0.0   0.0   0.0     0.0  0.000000  \n",
       "2  0.000000  0.0   0.0   0.0     0.0  0.000000  \n",
       "3  0.000000  0.0   0.0   0.0     0.0  0.000000  \n",
       "4  0.000000  0.0   0.0   0.0     0.0  0.000000  \n",
       "5  0.000000  0.0   0.0   0.0     0.0  0.000000  \n",
       "6  0.000000  0.0   0.0   0.0     0.0  0.000000  \n",
       "7  0.000000  0.0   0.0   0.0     0.0  0.000000  \n",
       "8  0.000000  0.0   0.0   0.0     0.0  0.000000  \n",
       "9  0.472976  0.0   0.0   0.0     0.0  0.382452  "
      ]
     },
     "execution_count": 23,
     "metadata": {},
     "output_type": "execute_result"
    }
   ],
   "source": [
    "pd.DataFrame(X_tfidf[1:11,7:23].toarray(), columns=list(tfidf_vectorizer.vocabulary_.keys())[7:23])"
   ]
  },
  {
   "cell_type": "markdown",
   "metadata": {
    "execution": {
     "iopub.execute_input": "2021-04-10T21:54:53.405206Z",
     "iopub.status.busy": "2021-04-10T21:54:53.404483Z",
     "iopub.status.idle": "2021-04-10T21:54:53.413166Z",
     "shell.execute_reply": "2021-04-10T21:54:53.410680Z",
     "shell.execute_reply.started": "2021-04-10T21:54:53.405126Z"
    }
   },
   "source": [
    "#### 2.4 Top words"
   ]
  },
  {
   "cell_type": "code",
   "execution_count": 24,
   "metadata": {
    "execution": {
     "iopub.execute_input": "2021-04-10T21:56:00.409725Z",
     "iopub.status.busy": "2021-04-10T21:56:00.409221Z",
     "iopub.status.idle": "2021-04-10T21:56:00.417733Z",
     "shell.execute_reply": "2021-04-10T21:56:00.416561Z",
     "shell.execute_reply.started": "2021-04-10T21:56:00.409668Z"
    }
   },
   "outputs": [],
   "source": [
    "# https://medium.com/@cristhianboujon/how-to-list-the-most-common-words-from-text-corpus-using-scikit-learn-dad4d0cab41d\n",
    "def get_top_n_words(corpus, n=None):\n",
    "    vec = CountVectorizer().fit(corpus)\n",
    "    bag_of_words = vec.transform(corpus)\n",
    "    sum_words = bag_of_words.sum(axis=0) \n",
    "    words_freq = [(word, sum_words[0, idx]) for word, idx in vec.vocabulary_.items()]\n",
    "    words_freq = sorted(words_freq, key = lambda x: x[1], reverse=True)\n",
    "    return words_freq[:n]"
   ]
  },
  {
   "cell_type": "code",
   "execution_count": 25,
   "metadata": {
    "execution": {
     "iopub.execute_input": "2021-04-10T21:57:00.593291Z",
     "iopub.status.busy": "2021-04-10T21:57:00.592819Z",
     "iopub.status.idle": "2021-04-10T21:57:00.811989Z",
     "shell.execute_reply": "2021-04-10T21:57:00.811450Z",
     "shell.execute_reply.started": "2021-04-10T21:57:00.593237Z"
    }
   },
   "outputs": [],
   "source": [
    "common_words = get_top_n_words(data['lemmatized'], 50)\n",
    "cmw = {word: freq for word, freq in common_words}"
   ]
  },
  {
   "cell_type": "code",
   "execution_count": 26,
   "metadata": {
    "execution": {
     "iopub.execute_input": "2021-04-10T21:57:03.051749Z",
     "iopub.status.busy": "2021-04-10T21:57:03.051058Z",
     "iopub.status.idle": "2021-04-10T21:57:03.066212Z",
     "shell.execute_reply": "2021-04-10T21:57:03.063215Z",
     "shell.execute_reply.started": "2021-04-10T21:57:03.051669Z"
    }
   },
   "outputs": [],
   "source": [
    "mcw = pd.DataFrame.from_dict(cmw, orient='index').reset_index()\n",
    "mcw.columns = [\"words\", \"freq\"]"
   ]
  },
  {
   "cell_type": "code",
   "execution_count": 27,
   "metadata": {
    "execution": {
     "iopub.execute_input": "2021-04-10T21:57:03.440736Z",
     "iopub.status.busy": "2021-04-10T21:57:03.440489Z",
     "iopub.status.idle": "2021-04-10T21:57:03.451106Z",
     "shell.execute_reply": "2021-04-10T21:57:03.450411Z",
     "shell.execute_reply.started": "2021-04-10T21:57:03.440709Z"
    },
    "scrolled": true
   },
   "outputs": [
    {
     "data": {
      "text/html": [
       "<div>\n",
       "<style scoped>\n",
       "    .dataframe tbody tr th:only-of-type {\n",
       "        vertical-align: middle;\n",
       "    }\n",
       "\n",
       "    .dataframe tbody tr th {\n",
       "        vertical-align: top;\n",
       "    }\n",
       "\n",
       "    .dataframe thead th {\n",
       "        text-align: right;\n",
       "    }\n",
       "</style>\n",
       "<table border=\"1\" class=\"dataframe\">\n",
       "  <thead>\n",
       "    <tr style=\"text-align: right;\">\n",
       "      <th></th>\n",
       "      <th>words</th>\n",
       "      <th>freq</th>\n",
       "    </tr>\n",
       "  </thead>\n",
       "  <tbody>\n",
       "    <tr>\n",
       "      <th>0</th>\n",
       "      <td>white</td>\n",
       "      <td>1596</td>\n",
       "    </tr>\n",
       "    <tr>\n",
       "      <th>1</th>\n",
       "      <td>like</td>\n",
       "      <td>803</td>\n",
       "    </tr>\n",
       "    <tr>\n",
       "      <th>2</th>\n",
       "      <td>people</td>\n",
       "      <td>630</td>\n",
       "    </tr>\n",
       "    <tr>\n",
       "      <th>3</th>\n",
       "      <td>black</td>\n",
       "      <td>619</td>\n",
       "    </tr>\n",
       "    <tr>\n",
       "      <th>4</th>\n",
       "      <td>one</td>\n",
       "      <td>569</td>\n",
       "    </tr>\n",
       "    <tr>\n",
       "      <th>5</th>\n",
       "      <td>get</td>\n",
       "      <td>523</td>\n",
       "    </tr>\n",
       "    <tr>\n",
       "      <th>6</th>\n",
       "      <td>would</td>\n",
       "      <td>515</td>\n",
       "    </tr>\n",
       "    <tr>\n",
       "      <th>7</th>\n",
       "      <td>youtube</td>\n",
       "      <td>470</td>\n",
       "    </tr>\n",
       "    <tr>\n",
       "      <th>8</th>\n",
       "      <td>year</td>\n",
       "      <td>420</td>\n",
       "    </tr>\n",
       "    <tr>\n",
       "      <th>9</th>\n",
       "      <td>time</td>\n",
       "      <td>396</td>\n",
       "    </tr>\n",
       "    <tr>\n",
       "      <th>10</th>\n",
       "      <td>see</td>\n",
       "      <td>377</td>\n",
       "    </tr>\n",
       "    <tr>\n",
       "      <th>11</th>\n",
       "      <td>good</td>\n",
       "      <td>374</td>\n",
       "    </tr>\n",
       "    <tr>\n",
       "      <th>12</th>\n",
       "      <td>school</td>\n",
       "      <td>359</td>\n",
       "    </tr>\n",
       "    <tr>\n",
       "      <th>13</th>\n",
       "      <td>go</td>\n",
       "      <td>355</td>\n",
       "    </tr>\n",
       "    <tr>\n",
       "      <th>14</th>\n",
       "      <td>know</td>\n",
       "      <td>350</td>\n",
       "    </tr>\n",
       "    <tr>\n",
       "      <th>15</th>\n",
       "      <td>say</td>\n",
       "      <td>311</td>\n",
       "    </tr>\n",
       "    <tr>\n",
       "      <th>16</th>\n",
       "      <td>day</td>\n",
       "      <td>301</td>\n",
       "    </tr>\n",
       "    <tr>\n",
       "      <th>17</th>\n",
       "      <td>think</td>\n",
       "      <td>299</td>\n",
       "    </tr>\n",
       "    <tr>\n",
       "      <th>18</th>\n",
       "      <td>want</td>\n",
       "      <td>292</td>\n",
       "    </tr>\n",
       "    <tr>\n",
       "      <th>19</th>\n",
       "      <td>kid</td>\n",
       "      <td>272</td>\n",
       "    </tr>\n",
       "    <tr>\n",
       "      <th>20</th>\n",
       "      <td>new</td>\n",
       "      <td>272</td>\n",
       "    </tr>\n",
       "    <tr>\n",
       "      <th>21</th>\n",
       "      <td>race</td>\n",
       "      <td>270</td>\n",
       "    </tr>\n",
       "    <tr>\n",
       "      <th>22</th>\n",
       "      <td>back</td>\n",
       "      <td>265</td>\n",
       "    </tr>\n",
       "    <tr>\n",
       "      <th>23</th>\n",
       "      <td>look</td>\n",
       "      <td>260</td>\n",
       "    </tr>\n",
       "    <tr>\n",
       "      <th>24</th>\n",
       "      <td>well</td>\n",
       "      <td>244</td>\n",
       "    </tr>\n",
       "    <tr>\n",
       "      <th>25</th>\n",
       "      <td>make</td>\n",
       "      <td>239</td>\n",
       "    </tr>\n",
       "    <tr>\n",
       "      <th>26</th>\n",
       "      <td>way</td>\n",
       "      <td>231</td>\n",
       "    </tr>\n",
       "    <tr>\n",
       "      <th>27</th>\n",
       "      <td>video</td>\n",
       "      <td>230</td>\n",
       "    </tr>\n",
       "    <tr>\n",
       "      <th>28</th>\n",
       "      <td>jew</td>\n",
       "      <td>228</td>\n",
       "    </tr>\n",
       "    <tr>\n",
       "      <th>29</th>\n",
       "      <td>many</td>\n",
       "      <td>226</td>\n",
       "    </tr>\n",
       "    <tr>\n",
       "      <th>30</th>\n",
       "      <td>thing</td>\n",
       "      <td>224</td>\n",
       "    </tr>\n",
       "    <tr>\n",
       "      <th>31</th>\n",
       "      <td>old</td>\n",
       "      <td>224</td>\n",
       "    </tr>\n",
       "    <tr>\n",
       "      <th>32</th>\n",
       "      <td>country</td>\n",
       "      <td>223</td>\n",
       "    </tr>\n",
       "    <tr>\n",
       "      <th>33</th>\n",
       "      <td>got</td>\n",
       "      <td>212</td>\n",
       "    </tr>\n",
       "    <tr>\n",
       "      <th>34</th>\n",
       "      <td>need</td>\n",
       "      <td>211</td>\n",
       "    </tr>\n",
       "    <tr>\n",
       "      <th>35</th>\n",
       "      <td>around</td>\n",
       "      <td>208</td>\n",
       "    </tr>\n",
       "    <tr>\n",
       "      <th>36</th>\n",
       "      <td>even</td>\n",
       "      <td>205</td>\n",
       "    </tr>\n",
       "    <tr>\n",
       "      <th>37</th>\n",
       "      <td>never</td>\n",
       "      <td>203</td>\n",
       "    </tr>\n",
       "    <tr>\n",
       "      <th>38</th>\n",
       "      <td>child</td>\n",
       "      <td>193</td>\n",
       "    </tr>\n",
       "    <tr>\n",
       "      <th>39</th>\n",
       "      <td>could</td>\n",
       "      <td>191</td>\n",
       "    </tr>\n",
       "    <tr>\n",
       "      <th>40</th>\n",
       "      <td>every</td>\n",
       "      <td>191</td>\n",
       "    </tr>\n",
       "    <tr>\n",
       "      <th>41</th>\n",
       "      <td>going</td>\n",
       "      <td>188</td>\n",
       "    </tr>\n",
       "    <tr>\n",
       "      <th>42</th>\n",
       "      <td>great</td>\n",
       "      <td>183</td>\n",
       "    </tr>\n",
       "    <tr>\n",
       "      <th>43</th>\n",
       "      <td>find</td>\n",
       "      <td>182</td>\n",
       "    </tr>\n",
       "    <tr>\n",
       "      <th>44</th>\n",
       "      <td>post</td>\n",
       "      <td>180</td>\n",
       "    </tr>\n",
       "    <tr>\n",
       "      <th>45</th>\n",
       "      <td>also</td>\n",
       "      <td>178</td>\n",
       "    </tr>\n",
       "    <tr>\n",
       "      <th>46</th>\n",
       "      <td>come</td>\n",
       "      <td>177</td>\n",
       "    </tr>\n",
       "    <tr>\n",
       "      <th>47</th>\n",
       "      <td>let</td>\n",
       "      <td>176</td>\n",
       "    </tr>\n",
       "    <tr>\n",
       "      <th>48</th>\n",
       "      <td>woman</td>\n",
       "      <td>175</td>\n",
       "    </tr>\n",
       "    <tr>\n",
       "      <th>49</th>\n",
       "      <td>show</td>\n",
       "      <td>174</td>\n",
       "    </tr>\n",
       "  </tbody>\n",
       "</table>\n",
       "</div>"
      ],
      "text/plain": [
       "      words  freq\n",
       "0     white  1596\n",
       "1      like   803\n",
       "2    people   630\n",
       "3     black   619\n",
       "4       one   569\n",
       "5       get   523\n",
       "6     would   515\n",
       "7   youtube   470\n",
       "8      year   420\n",
       "9      time   396\n",
       "10      see   377\n",
       "11     good   374\n",
       "12   school   359\n",
       "13       go   355\n",
       "14     know   350\n",
       "15      say   311\n",
       "16      day   301\n",
       "17    think   299\n",
       "18     want   292\n",
       "19      kid   272\n",
       "20      new   272\n",
       "21     race   270\n",
       "22     back   265\n",
       "23     look   260\n",
       "24     well   244\n",
       "25     make   239\n",
       "26      way   231\n",
       "27    video   230\n",
       "28      jew   228\n",
       "29     many   226\n",
       "30    thing   224\n",
       "31      old   224\n",
       "32  country   223\n",
       "33      got   212\n",
       "34     need   211\n",
       "35   around   208\n",
       "36     even   205\n",
       "37    never   203\n",
       "38    child   193\n",
       "39    could   191\n",
       "40    every   191\n",
       "41    going   188\n",
       "42    great   183\n",
       "43     find   182\n",
       "44     post   180\n",
       "45     also   178\n",
       "46     come   177\n",
       "47      let   176\n",
       "48    woman   175\n",
       "49     show   174"
      ]
     },
     "execution_count": 27,
     "metadata": {},
     "output_type": "execute_result"
    }
   ],
   "source": [
    "mcw # Most common words between lemmatized words and frequencies"
   ]
  },
  {
   "cell_type": "code",
   "execution_count": 28,
   "metadata": {
    "execution": {
     "iopub.execute_input": "2021-04-10T21:58:01.171280Z",
     "iopub.status.busy": "2021-04-10T21:58:01.170927Z",
     "iopub.status.idle": "2021-04-10T21:58:01.562588Z",
     "shell.execute_reply": "2021-04-10T21:58:01.562024Z",
     "shell.execute_reply.started": "2021-04-10T21:58:01.171240Z"
    }
   },
   "outputs": [
    {
     "data": {
      "image/png": "[encoded data removed]",
      "text/plain": [
       "<Figure size 720x360 with 1 Axes>"
      ]
     },
     "metadata": {
      "needs_background": "light"
     },
     "output_type": "display_data"
    }
   ],
   "source": [
    "mcw.plot(x=\"words\", y=\"freq\", kind=\"bar\", figsize=(10,5))\n",
    "plt.show()"
   ]
  },
  {
   "cell_type": "code",
   "execution_count": 29,
   "metadata": {
    "execution": {
     "iopub.execute_input": "2021-04-10T21:58:10.393921Z",
     "iopub.status.busy": "2021-04-10T21:58:10.393227Z",
     "iopub.status.idle": "2021-04-10T21:58:11.234606Z",
     "shell.execute_reply": "2021-04-10T21:58:11.234231Z",
     "shell.execute_reply.started": "2021-04-10T21:58:10.393840Z"
    }
   },
   "outputs": [],
   "source": [
    "data['tokens'] = data['text_clean'].apply(word_tokenize)"
   ]
  },
  {
   "cell_type": "code",
   "execution_count": 30,
   "metadata": {
    "execution": {
     "iopub.execute_input": "2021-04-10T21:58:14.686393Z",
     "iopub.status.busy": "2021-04-10T21:58:14.685894Z",
     "iopub.status.idle": "2021-04-10T21:58:14.705058Z",
     "shell.execute_reply": "2021-04-10T21:58:14.704219Z",
     "shell.execute_reply.started": "2021-04-10T21:58:14.686340Z"
    }
   },
   "outputs": [
    {
     "data": {
      "text/html": [
       "<div>\n",
       "<style scoped>\n",
       "    .dataframe tbody tr th:only-of-type {\n",
       "        vertical-align: middle;\n",
       "    }\n",
       "\n",
       "    .dataframe tbody tr th {\n",
       "        vertical-align: top;\n",
       "    }\n",
       "\n",
       "    .dataframe thead th {\n",
       "        text-align: right;\n",
       "    }\n",
       "</style>\n",
       "<table border=\"1\" class=\"dataframe\">\n",
       "  <thead>\n",
       "    <tr style=\"text-align: right;\">\n",
       "      <th></th>\n",
       "      <th>file_id</th>\n",
       "      <th>user_id</th>\n",
       "      <th>subforum_id</th>\n",
       "      <th>num_contexts</th>\n",
       "      <th>label</th>\n",
       "      <th>text</th>\n",
       "      <th>text_clean</th>\n",
       "      <th>stemmed</th>\n",
       "      <th>lemmatized</th>\n",
       "      <th>tokens</th>\n",
       "    </tr>\n",
       "  </thead>\n",
       "  <tbody>\n",
       "    <tr>\n",
       "      <th>0</th>\n",
       "      <td>12834217_1</td>\n",
       "      <td>572066</td>\n",
       "      <td>1346</td>\n",
       "      <td>0</td>\n",
       "      <td>0</td>\n",
       "      <td>As of March 13th , 2014 , the booklet had been...</td>\n",
       "      <td>march booklet downloaded times counting</td>\n",
       "      <td>march booklet download time count</td>\n",
       "      <td>march booklet downloaded time counting</td>\n",
       "      <td>[march, booklet, downloaded, times, counting]</td>\n",
       "    </tr>\n",
       "    <tr>\n",
       "      <th>1</th>\n",
       "      <td>12834217_2</td>\n",
       "      <td>572066</td>\n",
       "      <td>1346</td>\n",
       "      <td>0</td>\n",
       "      <td>0</td>\n",
       "      <td>In order to help increase the booklets downloa...</td>\n",
       "      <td>order help increase booklets downloads would g...</td>\n",
       "      <td>order help increas booklet download would grea...</td>\n",
       "      <td>order help increase booklet downloads would gr...</td>\n",
       "      <td>[order, help, increase, booklets, downloads, w...</td>\n",
       "    </tr>\n",
       "    <tr>\n",
       "      <th>2</th>\n",
       "      <td>12834217_3</td>\n",
       "      <td>572066</td>\n",
       "      <td>1346</td>\n",
       "      <td>0</td>\n",
       "      <td>0</td>\n",
       "      <td>( Simply copy and paste the following text int...</td>\n",
       "      <td>simply copy paste following text youtube video...</td>\n",
       "      <td>simpli copi past follow text youtub video desc...</td>\n",
       "      <td>simply copy paste following text youtube video...</td>\n",
       "      <td>[simply, copy, paste, following, text, youtube...</td>\n",
       "    </tr>\n",
       "    <tr>\n",
       "      <th>3</th>\n",
       "      <td>12834217_4</td>\n",
       "      <td>572066</td>\n",
       "      <td>1346</td>\n",
       "      <td>0</td>\n",
       "      <td>1</td>\n",
       "      <td>Click below for a FREE download of a colorfull...</td>\n",
       "      <td>click free download colorfully illustrated pag...</td>\n",
       "      <td>click free download color illustr page e book ...</td>\n",
       "      <td>click free download colorfully illustrated pag...</td>\n",
       "      <td>[click, free, download, colorfully, illustrate...</td>\n",
       "    </tr>\n",
       "    <tr>\n",
       "      <th>4</th>\n",
       "      <td>12834217_5</td>\n",
       "      <td>572066</td>\n",
       "      <td>1346</td>\n",
       "      <td>0</td>\n",
       "      <td>0</td>\n",
       "      <td>Click on the `` DOWNLOAD ( 7.42 MB ) '' green ...</td>\n",
       "      <td>click download mb green banner link</td>\n",
       "      <td>click download mb green banner link</td>\n",
       "      <td>click download mb green banner link</td>\n",
       "      <td>[click, download, mb, green, banner, link]</td>\n",
       "    </tr>\n",
       "  </tbody>\n",
       "</table>\n",
       "</div>"
      ],
      "text/plain": [
       "      file_id  user_id  subforum_id  num_contexts  label  \\\n",
       "0  12834217_1   572066         1346             0      0   \n",
       "1  12834217_2   572066         1346             0      0   \n",
       "2  12834217_3   572066         1346             0      0   \n",
       "3  12834217_4   572066         1346             0      1   \n",
       "4  12834217_5   572066         1346             0      0   \n",
       "\n",
       "                                                text  \\\n",
       "0  As of March 13th , 2014 , the booklet had been...   \n",
       "1  In order to help increase the booklets downloa...   \n",
       "2  ( Simply copy and paste the following text int...   \n",
       "3  Click below for a FREE download of a colorfull...   \n",
       "4  Click on the `` DOWNLOAD ( 7.42 MB ) '' green ...   \n",
       "\n",
       "                                          text_clean  \\\n",
       "0            march booklet downloaded times counting   \n",
       "1  order help increase booklets downloads would g...   \n",
       "2  simply copy paste following text youtube video...   \n",
       "3  click free download colorfully illustrated pag...   \n",
       "4                click download mb green banner link   \n",
       "\n",
       "                                             stemmed  \\\n",
       "0                  march booklet download time count   \n",
       "1  order help increas booklet download would grea...   \n",
       "2  simpli copi past follow text youtub video desc...   \n",
       "3  click free download color illustr page e book ...   \n",
       "4                click download mb green banner link   \n",
       "\n",
       "                                          lemmatized  \\\n",
       "0             march booklet downloaded time counting   \n",
       "1  order help increase booklet downloads would gr...   \n",
       "2  simply copy paste following text youtube video...   \n",
       "3  click free download colorfully illustrated pag...   \n",
       "4                click download mb green banner link   \n",
       "\n",
       "                                              tokens  \n",
       "0      [march, booklet, downloaded, times, counting]  \n",
       "1  [order, help, increase, booklets, downloads, w...  \n",
       "2  [simply, copy, paste, following, text, youtube...  \n",
       "3  [click, free, download, colorfully, illustrate...  \n",
       "4         [click, download, mb, green, banner, link]  "
      ]
     },
     "execution_count": 30,
     "metadata": {},
     "output_type": "execute_result"
    }
   ],
   "source": [
    "data.head()"
   ]
  },
  {
   "cell_type": "markdown",
   "metadata": {},
   "source": [
    "#### 2.5 Part of speech (POS)"
   ]
  },
  {
   "cell_type": "code",
   "execution_count": 31,
   "metadata": {},
   "outputs": [],
   "source": [
    "# POS\n",
    "from textblob import TextBlob\n",
    "def pos_tag(text):\n",
    "    try:\n",
    "        return TextBlob(text).tags\n",
    "    except:\n",
    "        return None"
   ]
  },
  {
   "cell_type": "code",
   "execution_count": 32,
   "metadata": {},
   "outputs": [
    {
     "data": {
      "text/plain": [
       "[('click', 'NN'),\n",
       " ('download', 'NN'),\n",
       " ('mb', 'NN'),\n",
       " ('green', 'JJ'),\n",
       " ('banner', 'NN'),\n",
       " ('link', 'NN')]"
      ]
     },
     "execution_count": 32,
     "metadata": {},
     "output_type": "execute_result"
    }
   ],
   "source": [
    "from textblob import TextBlob\n",
    "TextBlob(data.iloc[4][\"text_clean\"]).tags"
   ]
  },
  {
   "cell_type": "code",
   "execution_count": 33,
   "metadata": {},
   "outputs": [
    {
     "data": {
      "text/plain": [
       "[('click', 'NN'),\n",
       " ('download', 'NN'),\n",
       " ('mb', 'NN'),\n",
       " ('green', 'JJ'),\n",
       " ('banner', 'NN'),\n",
       " ('link', 'NN')]"
      ]
     },
     "execution_count": 33,
     "metadata": {},
     "output_type": "execute_result"
    }
   ],
   "source": [
    "TextBlob(data.iloc[4][\"stemmed\"]).tags"
   ]
  },
  {
   "cell_type": "code",
   "execution_count": 34,
   "metadata": {
    "execution": {
     "iopub.execute_input": "2021-04-10T21:58:56.571565Z",
     "iopub.status.busy": "2021-04-10T21:58:56.570861Z",
     "iopub.status.idle": "2021-04-10T21:58:57.367871Z",
     "shell.execute_reply": "2021-04-10T21:58:57.367331Z",
     "shell.execute_reply.started": "2021-04-10T21:58:56.571483Z"
    }
   },
   "outputs": [],
   "source": [
    "import spacy\n",
    "nlp = spacy.load(\"en_core_web_sm\")"
   ]
  },
  {
   "cell_type": "code",
   "execution_count": 35,
   "metadata": {
    "execution": {
     "iopub.execute_input": "2021-04-10T21:59:09.749774Z",
     "iopub.status.busy": "2021-04-10T21:59:09.749299Z",
     "iopub.status.idle": "2021-04-10T22:00:16.912259Z",
     "shell.execute_reply": "2021-04-10T22:00:16.911799Z",
     "shell.execute_reply.started": "2021-04-10T21:59:09.749722Z"
    }
   },
   "outputs": [
    {
     "name": "stderr",
     "output_type": "stream",
     "text": [
      "100%|██████████| 10926/10926 [02:28<00:00, 73.49it/s]\n"
     ]
    }
   ],
   "source": [
    "data['POS_spacy'] = data['lemmatized'].progress_apply(lambda x: [(token.text, token.pos_) for token in nlp(x)])"
   ]
  },
  {
   "cell_type": "code",
   "execution_count": 36,
   "metadata": {
    "execution": {
     "iopub.execute_input": "2021-04-10T22:00:26.925327Z",
     "iopub.status.busy": "2021-04-10T22:00:26.925044Z",
     "iopub.status.idle": "2021-04-10T22:00:26.953761Z",
     "shell.execute_reply": "2021-04-10T22:00:26.953223Z",
     "shell.execute_reply.started": "2021-04-10T22:00:26.925294Z"
    }
   },
   "outputs": [
    {
     "data": {
      "text/html": [
       "<div>\n",
       "<style scoped>\n",
       "    .dataframe tbody tr th:only-of-type {\n",
       "        vertical-align: middle;\n",
       "    }\n",
       "\n",
       "    .dataframe tbody tr th {\n",
       "        vertical-align: top;\n",
       "    }\n",
       "\n",
       "    .dataframe thead th {\n",
       "        text-align: right;\n",
       "    }\n",
       "</style>\n",
       "<table border=\"1\" class=\"dataframe\">\n",
       "  <thead>\n",
       "    <tr style=\"text-align: right;\">\n",
       "      <th></th>\n",
       "      <th>file_id</th>\n",
       "      <th>user_id</th>\n",
       "      <th>subforum_id</th>\n",
       "      <th>num_contexts</th>\n",
       "      <th>label</th>\n",
       "      <th>text</th>\n",
       "      <th>text_clean</th>\n",
       "      <th>stemmed</th>\n",
       "      <th>lemmatized</th>\n",
       "      <th>tokens</th>\n",
       "      <th>POS_spacy</th>\n",
       "    </tr>\n",
       "  </thead>\n",
       "  <tbody>\n",
       "    <tr>\n",
       "      <th>0</th>\n",
       "      <td>12834217_1</td>\n",
       "      <td>572066</td>\n",
       "      <td>1346</td>\n",
       "      <td>0</td>\n",
       "      <td>0</td>\n",
       "      <td>As of March 13th , 2014 , the booklet had been...</td>\n",
       "      <td>march booklet downloaded times counting</td>\n",
       "      <td>march booklet download time count</td>\n",
       "      <td>march booklet downloaded time counting</td>\n",
       "      <td>[march, booklet, downloaded, times, counting]</td>\n",
       "      <td>[(march, PROPN), (booklet, PROPN), (downloaded...</td>\n",
       "    </tr>\n",
       "    <tr>\n",
       "      <th>1</th>\n",
       "      <td>12834217_2</td>\n",
       "      <td>572066</td>\n",
       "      <td>1346</td>\n",
       "      <td>0</td>\n",
       "      <td>0</td>\n",
       "      <td>In order to help increase the booklets downloa...</td>\n",
       "      <td>order help increase booklets downloads would g...</td>\n",
       "      <td>order help increas booklet download would grea...</td>\n",
       "      <td>order help increase booklet downloads would gr...</td>\n",
       "      <td>[order, help, increase, booklets, downloads, w...</td>\n",
       "      <td>[(order, NOUN), (help, VERB), (increase, VERB)...</td>\n",
       "    </tr>\n",
       "    <tr>\n",
       "      <th>2</th>\n",
       "      <td>12834217_3</td>\n",
       "      <td>572066</td>\n",
       "      <td>1346</td>\n",
       "      <td>0</td>\n",
       "      <td>0</td>\n",
       "      <td>( Simply copy and paste the following text int...</td>\n",
       "      <td>simply copy paste following text youtube video...</td>\n",
       "      <td>simpli copi past follow text youtub video desc...</td>\n",
       "      <td>simply copy paste following text youtube video...</td>\n",
       "      <td>[simply, copy, paste, following, text, youtube...</td>\n",
       "      <td>[(simply, ADV), (copy, VERB), (paste, NOUN), (...</td>\n",
       "    </tr>\n",
       "    <tr>\n",
       "      <th>3</th>\n",
       "      <td>12834217_4</td>\n",
       "      <td>572066</td>\n",
       "      <td>1346</td>\n",
       "      <td>0</td>\n",
       "      <td>1</td>\n",
       "      <td>Click below for a FREE download of a colorfull...</td>\n",
       "      <td>click free download colorfully illustrated pag...</td>\n",
       "      <td>click free download color illustr page e book ...</td>\n",
       "      <td>click free download colorfully illustrated pag...</td>\n",
       "      <td>[click, free, download, colorfully, illustrate...</td>\n",
       "      <td>[(click, VERB), (free, ADJ), (download, NOUN),...</td>\n",
       "    </tr>\n",
       "    <tr>\n",
       "      <th>4</th>\n",
       "      <td>12834217_5</td>\n",
       "      <td>572066</td>\n",
       "      <td>1346</td>\n",
       "      <td>0</td>\n",
       "      <td>0</td>\n",
       "      <td>Click on the `` DOWNLOAD ( 7.42 MB ) '' green ...</td>\n",
       "      <td>click download mb green banner link</td>\n",
       "      <td>click download mb green banner link</td>\n",
       "      <td>click download mb green banner link</td>\n",
       "      <td>[click, download, mb, green, banner, link]</td>\n",
       "      <td>[(click, VERB), (download, PROPN), (mb, PROPN)...</td>\n",
       "    </tr>\n",
       "  </tbody>\n",
       "</table>\n",
       "</div>"
      ],
      "text/plain": [
       "      file_id  user_id  subforum_id  num_contexts  label  \\\n",
       "0  12834217_1   572066         1346             0      0   \n",
       "1  12834217_2   572066         1346             0      0   \n",
       "2  12834217_3   572066         1346             0      0   \n",
       "3  12834217_4   572066         1346             0      1   \n",
       "4  12834217_5   572066         1346             0      0   \n",
       "\n",
       "                                                text  \\\n",
       "0  As of March 13th , 2014 , the booklet had been...   \n",
       "1  In order to help increase the booklets downloa...   \n",
       "2  ( Simply copy and paste the following text int...   \n",
       "3  Click below for a FREE download of a colorfull...   \n",
       "4  Click on the `` DOWNLOAD ( 7.42 MB ) '' green ...   \n",
       "\n",
       "                                          text_clean  \\\n",
       "0            march booklet downloaded times counting   \n",
       "1  order help increase booklets downloads would g...   \n",
       "2  simply copy paste following text youtube video...   \n",
       "3  click free download colorfully illustrated pag...   \n",
       "4                click download mb green banner link   \n",
       "\n",
       "                                             stemmed  \\\n",
       "0                  march booklet download time count   \n",
       "1  order help increas booklet download would grea...   \n",
       "2  simpli copi past follow text youtub video desc...   \n",
       "3  click free download color illustr page e book ...   \n",
       "4                click download mb green banner link   \n",
       "\n",
       "                                          lemmatized  \\\n",
       "0             march booklet downloaded time counting   \n",
       "1  order help increase booklet downloads would gr...   \n",
       "2  simply copy paste following text youtube video...   \n",
       "3  click free download colorfully illustrated pag...   \n",
       "4                click download mb green banner link   \n",
       "\n",
       "                                              tokens  \\\n",
       "0      [march, booklet, downloaded, times, counting]   \n",
       "1  [order, help, increase, booklets, downloads, w...   \n",
       "2  [simply, copy, paste, following, text, youtube...   \n",
       "3  [click, free, download, colorfully, illustrate...   \n",
       "4         [click, download, mb, green, banner, link]   \n",
       "\n",
       "                                           POS_spacy  \n",
       "0  [(march, PROPN), (booklet, PROPN), (downloaded...  \n",
       "1  [(order, NOUN), (help, VERB), (increase, VERB)...  \n",
       "2  [(simply, ADV), (copy, VERB), (paste, NOUN), (...  \n",
       "3  [(click, VERB), (free, ADJ), (download, NOUN),...  \n",
       "4  [(click, VERB), (download, PROPN), (mb, PROPN)...  "
      ]
     },
     "execution_count": 36,
     "metadata": {},
     "output_type": "execute_result"
    }
   ],
   "source": [
    "data.head()"
   ]
  },
  {
   "cell_type": "code",
   "execution_count": 37,
   "metadata": {
    "execution": {
     "iopub.execute_input": "2021-04-10T22:00:38.337957Z",
     "iopub.status.busy": "2021-04-10T22:00:38.337053Z",
     "iopub.status.idle": "2021-04-10T22:00:41.884297Z",
     "shell.execute_reply": "2021-04-10T22:00:41.883377Z",
     "shell.execute_reply.started": "2021-04-10T22:00:38.337872Z"
    }
   },
   "outputs": [],
   "source": [
    "all_pos = data['POS_spacy'].sum()"
   ]
  },
  {
   "cell_type": "code",
   "execution_count": 38,
   "metadata": {
    "execution": {
     "iopub.execute_input": "2021-04-10T22:00:42.011320Z",
     "iopub.status.busy": "2021-04-10T22:00:42.011172Z",
     "iopub.status.idle": "2021-04-10T22:00:42.019764Z",
     "shell.execute_reply": "2021-04-10T22:00:42.019194Z",
     "shell.execute_reply.started": "2021-04-10T22:00:42.011294Z"
    }
   },
   "outputs": [],
   "source": [
    "all_adjs = [x[0] for x in all_pos if x[1] == \"ADJ\"]\n",
    "all_nouns = [x[0] for x in all_pos if x[1] == \"NOUN\"]"
   ]
  },
  {
   "cell_type": "code",
   "execution_count": 39,
   "metadata": {},
   "outputs": [],
   "source": [
    "hate = data.loc[data[\"label\"] == 1]"
   ]
  },
  {
   "cell_type": "code",
   "execution_count": 40,
   "metadata": {},
   "outputs": [
    {
     "data": {
      "text/plain": [
       "(1428, 10926)"
      ]
     },
     "execution_count": 40,
     "metadata": {},
     "output_type": "execute_result"
    }
   ],
   "source": [
    "hate.shape[0], data.shape[0] # 1428 over 10926 rows"
   ]
  },
  {
   "cell_type": "code",
   "execution_count": 41,
   "metadata": {},
   "outputs": [
    {
     "data": {
      "text/plain": [
       "0    9498\n",
       "1    1428\n",
       "Name: label, dtype: int64"
      ]
     },
     "execution_count": 41,
     "metadata": {},
     "output_type": "execute_result"
    }
   ],
   "source": [
    "data.label.value_counts()"
   ]
  },
  {
   "cell_type": "code",
   "execution_count": 42,
   "metadata": {
    "execution": {
     "iopub.execute_input": "2021-04-10T22:08:23.002900Z",
     "iopub.status.busy": "2021-04-10T22:08:23.002040Z",
     "iopub.status.idle": "2021-04-10T22:08:23.085610Z",
     "shell.execute_reply": "2021-04-10T22:08:23.084961Z",
     "shell.execute_reply.started": "2021-04-10T22:08:23.002815Z"
    }
   },
   "outputs": [],
   "source": [
    "all_pos_hate = hate['POS_spacy'].sum()"
   ]
  },
  {
   "cell_type": "code",
   "execution_count": 43,
   "metadata": {
    "execution": {
     "iopub.execute_input": "2021-04-10T22:08:23.464642Z",
     "iopub.status.busy": "2021-04-10T22:08:23.464359Z",
     "iopub.status.idle": "2021-04-10T22:08:23.472130Z",
     "shell.execute_reply": "2021-04-10T22:08:23.471258Z",
     "shell.execute_reply.started": "2021-04-10T22:08:23.464614Z"
    }
   },
   "outputs": [],
   "source": [
    "all_adjs_hate = [x[0] for x in all_pos_hate if x[1] == \"ADJ\"]\n",
    "all_nouns_hate = [x[0] for x in all_pos_hate if x[1] == \"NOUN\"]"
   ]
  },
  {
   "cell_type": "code",
   "execution_count": 44,
   "metadata": {
    "execution": {
     "iopub.execute_input": "2021-04-10T22:04:46.728307Z",
     "iopub.status.busy": "2021-04-10T22:04:46.727824Z",
     "iopub.status.idle": "2021-04-10T22:04:46.738785Z",
     "shell.execute_reply": "2021-04-10T22:04:46.737990Z",
     "shell.execute_reply.started": "2021-04-10T22:04:46.728254Z"
    },
    "scrolled": true
   },
   "outputs": [],
   "source": [
    "adj_counter = {}\n",
    "for word in all_adjs:\n",
    "    if word in adj_counter:\n",
    "        adj_counter[word] += 1\n",
    "    else:\n",
    "        adj_counter[word] = 1\n",
    "\n",
    "top_20_adj = {k: v for k, v in sorted(adj_counter.items(), key=lambda item: item[1], reverse=True)[:20]}"
   ]
  },
  {
   "cell_type": "code",
   "execution_count": 45,
   "metadata": {
    "execution": {
     "iopub.execute_input": "2021-04-10T22:07:10.458454Z",
     "iopub.status.busy": "2021-04-10T22:07:10.458214Z",
     "iopub.status.idle": "2021-04-10T22:07:10.468699Z",
     "shell.execute_reply": "2021-04-10T22:07:10.467971Z",
     "shell.execute_reply.started": "2021-04-10T22:07:10.458428Z"
    }
   },
   "outputs": [
    {
     "data": {
      "text/html": [
       "<div>\n",
       "<style scoped>\n",
       "    .dataframe tbody tr th:only-of-type {\n",
       "        vertical-align: middle;\n",
       "    }\n",
       "\n",
       "    .dataframe tbody tr th {\n",
       "        vertical-align: top;\n",
       "    }\n",
       "\n",
       "    .dataframe thead th {\n",
       "        text-align: right;\n",
       "    }\n",
       "</style>\n",
       "<table border=\"1\" class=\"dataframe\">\n",
       "  <thead>\n",
       "    <tr style=\"text-align: right;\">\n",
       "      <th></th>\n",
       "      <th>index</th>\n",
       "      <th>Freq</th>\n",
       "    </tr>\n",
       "  </thead>\n",
       "  <tbody>\n",
       "    <tr>\n",
       "      <th>0</th>\n",
       "      <td>white</td>\n",
       "      <td>944</td>\n",
       "    </tr>\n",
       "    <tr>\n",
       "      <th>1</th>\n",
       "      <td>black</td>\n",
       "      <td>460</td>\n",
       "    </tr>\n",
       "    <tr>\n",
       "      <th>2</th>\n",
       "      <td>good</td>\n",
       "      <td>337</td>\n",
       "    </tr>\n",
       "    <tr>\n",
       "      <th>3</th>\n",
       "      <td>many</td>\n",
       "      <td>226</td>\n",
       "    </tr>\n",
       "    <tr>\n",
       "      <th>4</th>\n",
       "      <td>old</td>\n",
       "      <td>194</td>\n",
       "    </tr>\n",
       "    <tr>\n",
       "      <th>5</th>\n",
       "      <td>new</td>\n",
       "      <td>183</td>\n",
       "    </tr>\n",
       "    <tr>\n",
       "      <th>6</th>\n",
       "      <td>last</td>\n",
       "      <td>159</td>\n",
       "    </tr>\n",
       "    <tr>\n",
       "      <th>7</th>\n",
       "      <td>great</td>\n",
       "      <td>151</td>\n",
       "    </tr>\n",
       "    <tr>\n",
       "      <th>8</th>\n",
       "      <td>non</td>\n",
       "      <td>131</td>\n",
       "    </tr>\n",
       "    <tr>\n",
       "      <th>9</th>\n",
       "      <td>little</td>\n",
       "      <td>114</td>\n",
       "    </tr>\n",
       "    <tr>\n",
       "      <th>10</th>\n",
       "      <td>much</td>\n",
       "      <td>111</td>\n",
       "    </tr>\n",
       "    <tr>\n",
       "      <th>11</th>\n",
       "      <td>bad</td>\n",
       "      <td>93</td>\n",
       "    </tr>\n",
       "    <tr>\n",
       "      <th>12</th>\n",
       "      <td>free</td>\n",
       "      <td>83</td>\n",
       "    </tr>\n",
       "    <tr>\n",
       "      <th>13</th>\n",
       "      <td>right</td>\n",
       "      <td>78</td>\n",
       "    </tr>\n",
       "    <tr>\n",
       "      <th>14</th>\n",
       "      <td>next</td>\n",
       "      <td>76</td>\n",
       "    </tr>\n",
       "    <tr>\n",
       "      <th>15</th>\n",
       "      <td>big</td>\n",
       "      <td>72</td>\n",
       "    </tr>\n",
       "    <tr>\n",
       "      <th>16</th>\n",
       "      <td>different</td>\n",
       "      <td>69</td>\n",
       "    </tr>\n",
       "    <tr>\n",
       "      <th>17</th>\n",
       "      <td>nationalist</td>\n",
       "      <td>68</td>\n",
       "    </tr>\n",
       "    <tr>\n",
       "      <th>18</th>\n",
       "      <td>high</td>\n",
       "      <td>68</td>\n",
       "    </tr>\n",
       "    <tr>\n",
       "      <th>19</th>\n",
       "      <td>first</td>\n",
       "      <td>65</td>\n",
       "    </tr>\n",
       "  </tbody>\n",
       "</table>\n",
       "</div>"
      ],
      "text/plain": [
       "          index  Freq\n",
       "0         white   944\n",
       "1         black   460\n",
       "2          good   337\n",
       "3          many   226\n",
       "4           old   194\n",
       "5           new   183\n",
       "6          last   159\n",
       "7         great   151\n",
       "8           non   131\n",
       "9        little   114\n",
       "10         much   111\n",
       "11          bad    93\n",
       "12         free    83\n",
       "13        right    78\n",
       "14         next    76\n",
       "15          big    72\n",
       "16    different    69\n",
       "17  nationalist    68\n",
       "18         high    68\n",
       "19        first    65"
      ]
     },
     "execution_count": 45,
     "metadata": {},
     "output_type": "execute_result"
    }
   ],
   "source": [
    "pd.DataFrame.from_dict(top_20_adj, orient=\"index\", columns=[\"Freq\"]).reset_index()"
   ]
  },
  {
   "cell_type": "code",
   "execution_count": 46,
   "metadata": {
    "execution": {
     "iopub.execute_input": "2021-04-10T22:05:11.865388Z",
     "iopub.status.busy": "2021-04-10T22:05:11.865039Z",
     "iopub.status.idle": "2021-04-10T22:05:11.883130Z",
     "shell.execute_reply": "2021-04-10T22:05:11.882484Z",
     "shell.execute_reply.started": "2021-04-10T22:05:11.865349Z"
    },
    "scrolled": true
   },
   "outputs": [],
   "source": [
    "noun_counter = {}\n",
    "for word in all_nouns:\n",
    "    if word in noun_counter:\n",
    "        noun_counter[word] += 1\n",
    "    else:\n",
    "        noun_counter[word] = 1\n",
    "            \n",
    "top_20_noun = {k: v for k, v in sorted(noun_counter.items(), key=lambda item: item[1], reverse=True)[:20]}"
   ]
  },
  {
   "cell_type": "code",
   "execution_count": 47,
   "metadata": {
    "execution": {
     "iopub.execute_input": "2021-04-10T22:08:14.248068Z",
     "iopub.status.busy": "2021-04-10T22:08:14.247608Z",
     "iopub.status.idle": "2021-04-10T22:08:14.262247Z",
     "shell.execute_reply": "2021-04-10T22:08:14.261527Z",
     "shell.execute_reply.started": "2021-04-10T22:08:14.248016Z"
    }
   },
   "outputs": [
    {
     "data": {
      "text/html": [
       "<div>\n",
       "<style scoped>\n",
       "    .dataframe tbody tr th:only-of-type {\n",
       "        vertical-align: middle;\n",
       "    }\n",
       "\n",
       "    .dataframe tbody tr th {\n",
       "        vertical-align: top;\n",
       "    }\n",
       "\n",
       "    .dataframe thead th {\n",
       "        text-align: right;\n",
       "    }\n",
       "</style>\n",
       "<table border=\"1\" class=\"dataframe\">\n",
       "  <thead>\n",
       "    <tr style=\"text-align: right;\">\n",
       "      <th></th>\n",
       "      <th>index</th>\n",
       "      <th>Freq</th>\n",
       "    </tr>\n",
       "  </thead>\n",
       "  <tbody>\n",
       "    <tr>\n",
       "      <th>0</th>\n",
       "      <td>people</td>\n",
       "      <td>624</td>\n",
       "    </tr>\n",
       "    <tr>\n",
       "      <th>1</th>\n",
       "      <td>year</td>\n",
       "      <td>387</td>\n",
       "    </tr>\n",
       "    <tr>\n",
       "      <th>2</th>\n",
       "      <td>time</td>\n",
       "      <td>367</td>\n",
       "    </tr>\n",
       "    <tr>\n",
       "      <th>3</th>\n",
       "      <td>school</td>\n",
       "      <td>274</td>\n",
       "    </tr>\n",
       "    <tr>\n",
       "      <th>4</th>\n",
       "      <td>race</td>\n",
       "      <td>256</td>\n",
       "    </tr>\n",
       "    <tr>\n",
       "      <th>5</th>\n",
       "      <td>day</td>\n",
       "      <td>231</td>\n",
       "    </tr>\n",
       "    <tr>\n",
       "      <th>6</th>\n",
       "      <td>thing</td>\n",
       "      <td>208</td>\n",
       "    </tr>\n",
       "    <tr>\n",
       "      <th>7</th>\n",
       "      <td>country</td>\n",
       "      <td>203</td>\n",
       "    </tr>\n",
       "    <tr>\n",
       "      <th>8</th>\n",
       "      <td>child</td>\n",
       "      <td>190</td>\n",
       "    </tr>\n",
       "    <tr>\n",
       "      <th>9</th>\n",
       "      <td>video</td>\n",
       "      <td>189</td>\n",
       "    </tr>\n",
       "    <tr>\n",
       "      <th>10</th>\n",
       "      <td>way</td>\n",
       "      <td>162</td>\n",
       "    </tr>\n",
       "    <tr>\n",
       "      <th>11</th>\n",
       "      <td>woman</td>\n",
       "      <td>150</td>\n",
       "    </tr>\n",
       "    <tr>\n",
       "      <th>12</th>\n",
       "      <td>kid</td>\n",
       "      <td>145</td>\n",
       "    </tr>\n",
       "    <tr>\n",
       "      <th>13</th>\n",
       "      <td>friend</td>\n",
       "      <td>137</td>\n",
       "    </tr>\n",
       "    <tr>\n",
       "      <th>14</th>\n",
       "      <td>thread</td>\n",
       "      <td>136</td>\n",
       "    </tr>\n",
       "    <tr>\n",
       "      <th>15</th>\n",
       "      <td>place</td>\n",
       "      <td>129</td>\n",
       "    </tr>\n",
       "    <tr>\n",
       "      <th>16</th>\n",
       "      <td>area</td>\n",
       "      <td>121</td>\n",
       "    </tr>\n",
       "    <tr>\n",
       "      <th>17</th>\n",
       "      <td>girl</td>\n",
       "      <td>120</td>\n",
       "    </tr>\n",
       "    <tr>\n",
       "      <th>18</th>\n",
       "      <td>week</td>\n",
       "      <td>118</td>\n",
       "    </tr>\n",
       "    <tr>\n",
       "      <th>19</th>\n",
       "      <td>world</td>\n",
       "      <td>110</td>\n",
       "    </tr>\n",
       "  </tbody>\n",
       "</table>\n",
       "</div>"
      ],
      "text/plain": [
       "      index  Freq\n",
       "0    people   624\n",
       "1      year   387\n",
       "2      time   367\n",
       "3    school   274\n",
       "4      race   256\n",
       "5       day   231\n",
       "6     thing   208\n",
       "7   country   203\n",
       "8     child   190\n",
       "9     video   189\n",
       "10      way   162\n",
       "11    woman   150\n",
       "12      kid   145\n",
       "13   friend   137\n",
       "14   thread   136\n",
       "15    place   129\n",
       "16     area   121\n",
       "17     girl   120\n",
       "18     week   118\n",
       "19    world   110"
      ]
     },
     "execution_count": 47,
     "metadata": {},
     "output_type": "execute_result"
    }
   ],
   "source": [
    "pd.DataFrame.from_dict(top_20_noun, orient=\"index\", columns=[\"Freq\"]).reset_index()"
   ]
  },
  {
   "cell_type": "code",
   "execution_count": 48,
   "metadata": {
    "execution": {
     "iopub.execute_input": "2021-04-10T22:08:43.360239Z",
     "iopub.status.busy": "2021-04-10T22:08:43.359779Z",
     "iopub.status.idle": "2021-04-10T22:08:43.367491Z",
     "shell.execute_reply": "2021-04-10T22:08:43.366515Z",
     "shell.execute_reply.started": "2021-04-10T22:08:43.360187Z"
    },
    "scrolled": true
   },
   "outputs": [],
   "source": [
    "adj_counter1 = {}\n",
    "for word in all_adjs_hate:\n",
    "    if word in adj_counter1:\n",
    "        adj_counter1[word] += 1\n",
    "    else:\n",
    "        adj_counter1[word] = 1\n",
    "            \n",
    "top_20_adj1 = {k: v for k, v in sorted(adj_counter1.items(), key=lambda item: item[1], reverse=True)[:20]}"
   ]
  },
  {
   "cell_type": "code",
   "execution_count": 49,
   "metadata": {
    "execution": {
     "iopub.execute_input": "2021-04-10T22:08:58.588596Z",
     "iopub.status.busy": "2021-04-10T22:08:58.588131Z",
     "iopub.status.idle": "2021-04-10T22:08:58.595937Z",
     "shell.execute_reply": "2021-04-10T22:08:58.595316Z",
     "shell.execute_reply.started": "2021-04-10T22:08:58.588544Z"
    },
    "scrolled": true
   },
   "outputs": [],
   "source": [
    "noun_counter1 = {}\n",
    "for word in all_nouns_hate:\n",
    "    if word in noun_counter1:\n",
    "        noun_counter1[word] += 1\n",
    "    else:\n",
    "        noun_counter1[word] = 1\n",
    "            \n",
    "top_20_noun1 = {k: v for k, v in sorted(noun_counter1.items(), key=lambda item: item[1], reverse=True)[:20]}"
   ]
  },
  {
   "cell_type": "code",
   "execution_count": 50,
   "metadata": {
    "execution": {
     "iopub.execute_input": "2021-04-10T22:10:44.563709Z",
     "iopub.status.busy": "2021-04-10T22:10:44.563340Z",
     "iopub.status.idle": "2021-04-10T22:10:44.584442Z",
     "shell.execute_reply": "2021-04-10T22:10:44.583875Z",
     "shell.execute_reply.started": "2021-04-10T22:10:44.563664Z"
    }
   },
   "outputs": [
    {
     "data": {
      "text/html": [
       "<div>\n",
       "<style scoped>\n",
       "    .dataframe tbody tr th:only-of-type {\n",
       "        vertical-align: middle;\n",
       "    }\n",
       "\n",
       "    .dataframe tbody tr th {\n",
       "        vertical-align: top;\n",
       "    }\n",
       "\n",
       "    .dataframe thead th {\n",
       "        text-align: right;\n",
       "    }\n",
       "</style>\n",
       "<table border=\"1\" class=\"dataframe\">\n",
       "  <thead>\n",
       "    <tr style=\"text-align: right;\">\n",
       "      <th></th>\n",
       "      <th>Total</th>\n",
       "      <th>Freq Total</th>\n",
       "      <th>Hate Speech</th>\n",
       "      <th>Freq Hate Speech</th>\n",
       "    </tr>\n",
       "  </thead>\n",
       "  <tbody>\n",
       "    <tr>\n",
       "      <th>0</th>\n",
       "      <td>people</td>\n",
       "      <td>624</td>\n",
       "      <td>people</td>\n",
       "      <td>105</td>\n",
       "    </tr>\n",
       "    <tr>\n",
       "      <th>1</th>\n",
       "      <td>year</td>\n",
       "      <td>387</td>\n",
       "      <td>race</td>\n",
       "      <td>87</td>\n",
       "    </tr>\n",
       "    <tr>\n",
       "      <th>2</th>\n",
       "      <td>time</td>\n",
       "      <td>367</td>\n",
       "      <td>country</td>\n",
       "      <td>67</td>\n",
       "    </tr>\n",
       "    <tr>\n",
       "      <th>3</th>\n",
       "      <td>school</td>\n",
       "      <td>274</td>\n",
       "      <td>time</td>\n",
       "      <td>48</td>\n",
       "    </tr>\n",
       "    <tr>\n",
       "      <th>4</th>\n",
       "      <td>race</td>\n",
       "      <td>256</td>\n",
       "      <td>woman</td>\n",
       "      <td>44</td>\n",
       "    </tr>\n",
       "    <tr>\n",
       "      <th>5</th>\n",
       "      <td>day</td>\n",
       "      <td>231</td>\n",
       "      <td>child</td>\n",
       "      <td>41</td>\n",
       "    </tr>\n",
       "    <tr>\n",
       "      <th>6</th>\n",
       "      <td>thing</td>\n",
       "      <td>208</td>\n",
       "      <td>thing</td>\n",
       "      <td>41</td>\n",
       "    </tr>\n",
       "    <tr>\n",
       "      <th>7</th>\n",
       "      <td>country</td>\n",
       "      <td>203</td>\n",
       "      <td>school</td>\n",
       "      <td>39</td>\n",
       "    </tr>\n",
       "    <tr>\n",
       "      <th>8</th>\n",
       "      <td>child</td>\n",
       "      <td>190</td>\n",
       "      <td>way</td>\n",
       "      <td>33</td>\n",
       "    </tr>\n",
       "    <tr>\n",
       "      <th>9</th>\n",
       "      <td>video</td>\n",
       "      <td>189</td>\n",
       "      <td>ape</td>\n",
       "      <td>33</td>\n",
       "    </tr>\n",
       "    <tr>\n",
       "      <th>10</th>\n",
       "      <td>way</td>\n",
       "      <td>162</td>\n",
       "      <td>year</td>\n",
       "      <td>30</td>\n",
       "    </tr>\n",
       "    <tr>\n",
       "      <th>11</th>\n",
       "      <td>woman</td>\n",
       "      <td>150</td>\n",
       "      <td>day</td>\n",
       "      <td>28</td>\n",
       "    </tr>\n",
       "    <tr>\n",
       "      <th>12</th>\n",
       "      <td>kid</td>\n",
       "      <td>145</td>\n",
       "      <td>kid</td>\n",
       "      <td>24</td>\n",
       "    </tr>\n",
       "    <tr>\n",
       "      <th>13</th>\n",
       "      <td>friend</td>\n",
       "      <td>137</td>\n",
       "      <td>crime</td>\n",
       "      <td>24</td>\n",
       "    </tr>\n",
       "    <tr>\n",
       "      <th>14</th>\n",
       "      <td>thread</td>\n",
       "      <td>136</td>\n",
       "      <td>place</td>\n",
       "      <td>23</td>\n",
       "    </tr>\n",
       "    <tr>\n",
       "      <th>15</th>\n",
       "      <td>place</td>\n",
       "      <td>129</td>\n",
       "      <td>girl</td>\n",
       "      <td>22</td>\n",
       "    </tr>\n",
       "    <tr>\n",
       "      <th>16</th>\n",
       "      <td>area</td>\n",
       "      <td>121</td>\n",
       "      <td>world</td>\n",
       "      <td>21</td>\n",
       "    </tr>\n",
       "    <tr>\n",
       "      <th>17</th>\n",
       "      <td>girl</td>\n",
       "      <td>120</td>\n",
       "      <td>mud</td>\n",
       "      <td>20</td>\n",
       "    </tr>\n",
       "    <tr>\n",
       "      <th>18</th>\n",
       "      <td>week</td>\n",
       "      <td>118</td>\n",
       "      <td>life</td>\n",
       "      <td>19</td>\n",
       "    </tr>\n",
       "    <tr>\n",
       "      <th>19</th>\n",
       "      <td>world</td>\n",
       "      <td>110</td>\n",
       "      <td>job</td>\n",
       "      <td>18</td>\n",
       "    </tr>\n",
       "  </tbody>\n",
       "</table>\n",
       "</div>"
      ],
      "text/plain": [
       "      Total  Freq Total Hate Speech  Freq Hate Speech\n",
       "0    people         624      people               105\n",
       "1      year         387        race                87\n",
       "2      time         367     country                67\n",
       "3    school         274        time                48\n",
       "4      race         256       woman                44\n",
       "5       day         231       child                41\n",
       "6     thing         208       thing                41\n",
       "7   country         203      school                39\n",
       "8     child         190         way                33\n",
       "9     video         189         ape                33\n",
       "10      way         162        year                30\n",
       "11    woman         150         day                28\n",
       "12      kid         145         kid                24\n",
       "13   friend         137       crime                24\n",
       "14   thread         136       place                23\n",
       "15    place         129        girl                22\n",
       "16     area         121       world                21\n",
       "17     girl         120         mud                20\n",
       "18     week         118        life                19\n",
       "19    world         110         job                18"
      ]
     },
     "execution_count": 50,
     "metadata": {},
     "output_type": "execute_result"
    }
   ],
   "source": [
    "top_noun = {\"Total\": top_20_noun.keys(), \"Freq Total\": top_20_noun.values(), \"Hate Speech\": top_20_noun1.keys(), \"Freq Hate Speech\": top_20_noun1.values()}\n",
    "top_noun = pd.DataFrame(top_noun)\n",
    "top_noun"
   ]
  },
  {
   "cell_type": "code",
   "execution_count": 51,
   "metadata": {
    "execution": {
     "iopub.execute_input": "2021-04-10T22:11:23.554004Z",
     "iopub.status.busy": "2021-04-10T22:11:23.553714Z",
     "iopub.status.idle": "2021-04-10T22:11:23.558766Z",
     "shell.execute_reply": "2021-04-10T22:11:23.557691Z",
     "shell.execute_reply.started": "2021-04-10T22:11:23.553973Z"
    }
   },
   "outputs": [],
   "source": [
    "common_nouns = list(set(top_noun[\"Hate Speech\"].values).union(set(top_noun[\"Total\"].values)))"
   ]
  },
  {
   "cell_type": "code",
   "execution_count": 52,
   "metadata": {
    "execution": {
     "iopub.execute_input": "2021-04-10T22:11:26.034386Z",
     "iopub.status.busy": "2021-04-10T22:11:26.033570Z",
     "iopub.status.idle": "2021-04-10T22:11:26.040561Z",
     "shell.execute_reply": "2021-04-10T22:11:26.039502Z",
     "shell.execute_reply.started": "2021-04-10T22:11:26.034292Z"
    }
   },
   "outputs": [],
   "source": [
    "freq_common_tot = [noun_counter[x] for x in common_nouns]\n",
    "freq_common_hate = [noun_counter1[x] for x in common_nouns]"
   ]
  },
  {
   "cell_type": "code",
   "execution_count": 53,
   "metadata": {
    "execution": {
     "iopub.execute_input": "2021-04-10T22:11:28.856506Z",
     "iopub.status.busy": "2021-04-10T22:11:28.856051Z",
     "iopub.status.idle": "2021-04-10T22:11:28.861704Z",
     "shell.execute_reply": "2021-04-10T22:11:28.860788Z",
     "shell.execute_reply.started": "2021-04-10T22:11:28.856451Z"
    }
   },
   "outputs": [],
   "source": [
    "common_noun_df = pd.DataFrame({\"Nouns\" : common_nouns, \"Freq tot\": freq_common_tot, \"Freq Hate Speech\": freq_common_hate })"
   ]
  },
  {
   "cell_type": "code",
   "execution_count": 54,
   "metadata": {
    "execution": {
     "iopub.execute_input": "2021-04-10T22:11:29.362617Z",
     "iopub.status.busy": "2021-04-10T22:11:29.361882Z",
     "iopub.status.idle": "2021-04-10T22:11:29.375503Z",
     "shell.execute_reply": "2021-04-10T22:11:29.372668Z",
     "shell.execute_reply.started": "2021-04-10T22:11:29.362535Z"
    }
   },
   "outputs": [],
   "source": [
    "common_noun_df.sort_values(by=[\"Freq Hate Speech\"], ascending= False, inplace=True)"
   ]
  },
  {
   "cell_type": "code",
   "execution_count": 55,
   "metadata": {
    "execution": {
     "iopub.execute_input": "2021-04-10T22:11:31.302984Z",
     "iopub.status.busy": "2021-04-10T22:11:31.302271Z",
     "iopub.status.idle": "2021-04-10T22:11:31.605611Z",
     "shell.execute_reply": "2021-04-10T22:11:31.604996Z",
     "shell.execute_reply.started": "2021-04-10T22:11:31.302902Z"
    }
   },
   "outputs": [
    {
     "data": {
      "image/png": "[encoded data removed]",
      "text/plain": [
       "<Figure size 720x360 with 1 Axes>"
      ]
     },
     "metadata": {
      "needs_background": "light"
     },
     "output_type": "display_data"
    }
   ],
   "source": [
    "common_noun_df.plot('Nouns', y=['Freq tot', 'Freq Hate Speech'], kind='bar', figsize=(10,5))\n",
    "plt.show()"
   ]
  },
  {
   "cell_type": "code",
   "execution_count": 56,
   "metadata": {},
   "outputs": [
    {
     "data": {
      "image/png": "[encoded data removed]",
      "text/plain": [
       "<Figure size 432x288 with 2 Axes>"
      ]
     },
     "metadata": {
      "needs_background": "light"
     },
     "output_type": "display_data"
    }
   ],
   "source": [
    "fig = plt.figure() # Create matplotlib figure\n",
    "\n",
    "ax = fig.add_subplot(111) # Create matplotlib axes\n",
    "ax2 = ax.twinx() # Create another axes that shares the same x-axis as ax.\n",
    "\n",
    "width = 0.4\n",
    "\n",
    "common_noun_df.plot(kind='bar', color='red', ax=ax, width=width, position=1)\n",
    "common_noun_df.plot(kind='bar', color='blue', ax=ax2, width=width, position=0)\n",
    "\n",
    "ax.set_ylabel('Freq tot')\n",
    "ax2.set_ylabel('Freq Hate Speech')\n",
    "\n",
    "plt.show()"
   ]
  },
  {
   "cell_type": "code",
   "execution_count": 57,
   "metadata": {
    "execution": {
     "iopub.execute_input": "2021-04-10T22:15:40.154829Z",
     "iopub.status.busy": "2021-04-10T22:15:40.154140Z",
     "iopub.status.idle": "2021-04-10T22:15:40.169504Z",
     "shell.execute_reply": "2021-04-10T22:15:40.168806Z",
     "shell.execute_reply.started": "2021-04-10T22:15:40.154750Z"
    }
   },
   "outputs": [
    {
     "data": {
      "text/html": [
       "<div>\n",
       "<style scoped>\n",
       "    .dataframe tbody tr th:only-of-type {\n",
       "        vertical-align: middle;\n",
       "    }\n",
       "\n",
       "    .dataframe tbody tr th {\n",
       "        vertical-align: top;\n",
       "    }\n",
       "\n",
       "    .dataframe thead th {\n",
       "        text-align: right;\n",
       "    }\n",
       "</style>\n",
       "<table border=\"1\" class=\"dataframe\">\n",
       "  <thead>\n",
       "    <tr style=\"text-align: right;\">\n",
       "      <th></th>\n",
       "      <th>Total</th>\n",
       "      <th>Freq Total</th>\n",
       "      <th>Hate Speech</th>\n",
       "      <th>Freq Hate Speech</th>\n",
       "    </tr>\n",
       "  </thead>\n",
       "  <tbody>\n",
       "    <tr>\n",
       "      <th>0</th>\n",
       "      <td>white</td>\n",
       "      <td>944</td>\n",
       "      <td>white</td>\n",
       "      <td>259</td>\n",
       "    </tr>\n",
       "    <tr>\n",
       "      <th>1</th>\n",
       "      <td>black</td>\n",
       "      <td>460</td>\n",
       "      <td>black</td>\n",
       "      <td>166</td>\n",
       "    </tr>\n",
       "    <tr>\n",
       "      <th>2</th>\n",
       "      <td>good</td>\n",
       "      <td>337</td>\n",
       "      <td>non</td>\n",
       "      <td>53</td>\n",
       "    </tr>\n",
       "    <tr>\n",
       "      <th>3</th>\n",
       "      <td>many</td>\n",
       "      <td>226</td>\n",
       "      <td>good</td>\n",
       "      <td>40</td>\n",
       "    </tr>\n",
       "    <tr>\n",
       "      <th>4</th>\n",
       "      <td>old</td>\n",
       "      <td>194</td>\n",
       "      <td>many</td>\n",
       "      <td>36</td>\n",
       "    </tr>\n",
       "    <tr>\n",
       "      <th>5</th>\n",
       "      <td>new</td>\n",
       "      <td>183</td>\n",
       "      <td>last</td>\n",
       "      <td>31</td>\n",
       "    </tr>\n",
       "    <tr>\n",
       "      <th>6</th>\n",
       "      <td>last</td>\n",
       "      <td>159</td>\n",
       "      <td>negro</td>\n",
       "      <td>30</td>\n",
       "    </tr>\n",
       "    <tr>\n",
       "      <th>7</th>\n",
       "      <td>great</td>\n",
       "      <td>151</td>\n",
       "      <td>little</td>\n",
       "      <td>25</td>\n",
       "    </tr>\n",
       "    <tr>\n",
       "      <th>8</th>\n",
       "      <td>non</td>\n",
       "      <td>131</td>\n",
       "      <td>liberal</td>\n",
       "      <td>24</td>\n",
       "    </tr>\n",
       "    <tr>\n",
       "      <th>9</th>\n",
       "      <td>little</td>\n",
       "      <td>114</td>\n",
       "      <td>much</td>\n",
       "      <td>21</td>\n",
       "    </tr>\n",
       "    <tr>\n",
       "      <th>10</th>\n",
       "      <td>much</td>\n",
       "      <td>111</td>\n",
       "      <td>jewish</td>\n",
       "      <td>19</td>\n",
       "    </tr>\n",
       "    <tr>\n",
       "      <th>11</th>\n",
       "      <td>bad</td>\n",
       "      <td>93</td>\n",
       "      <td>great</td>\n",
       "      <td>18</td>\n",
       "    </tr>\n",
       "    <tr>\n",
       "      <th>12</th>\n",
       "      <td>free</td>\n",
       "      <td>83</td>\n",
       "      <td>asian</td>\n",
       "      <td>18</td>\n",
       "    </tr>\n",
       "    <tr>\n",
       "      <th>13</th>\n",
       "      <td>right</td>\n",
       "      <td>78</td>\n",
       "      <td>bad</td>\n",
       "      <td>17</td>\n",
       "    </tr>\n",
       "    <tr>\n",
       "      <th>14</th>\n",
       "      <td>next</td>\n",
       "      <td>76</td>\n",
       "      <td>old</td>\n",
       "      <td>17</td>\n",
       "    </tr>\n",
       "    <tr>\n",
       "      <th>15</th>\n",
       "      <td>big</td>\n",
       "      <td>72</td>\n",
       "      <td>new</td>\n",
       "      <td>16</td>\n",
       "    </tr>\n",
       "    <tr>\n",
       "      <th>16</th>\n",
       "      <td>different</td>\n",
       "      <td>69</td>\n",
       "      <td>poor</td>\n",
       "      <td>16</td>\n",
       "    </tr>\n",
       "    <tr>\n",
       "      <th>17</th>\n",
       "      <td>nationalist</td>\n",
       "      <td>68</td>\n",
       "      <td>dumb</td>\n",
       "      <td>15</td>\n",
       "    </tr>\n",
       "    <tr>\n",
       "      <th>18</th>\n",
       "      <td>high</td>\n",
       "      <td>68</td>\n",
       "      <td>real</td>\n",
       "      <td>14</td>\n",
       "    </tr>\n",
       "    <tr>\n",
       "      <th>19</th>\n",
       "      <td>first</td>\n",
       "      <td>65</td>\n",
       "      <td>wrong</td>\n",
       "      <td>14</td>\n",
       "    </tr>\n",
       "  </tbody>\n",
       "</table>\n",
       "</div>"
      ],
      "text/plain": [
       "          Total  Freq Total Hate Speech  Freq Hate Speech\n",
       "0         white         944       white               259\n",
       "1         black         460       black               166\n",
       "2          good         337         non                53\n",
       "3          many         226        good                40\n",
       "4           old         194        many                36\n",
       "5           new         183        last                31\n",
       "6          last         159       negro                30\n",
       "7         great         151      little                25\n",
       "8           non         131     liberal                24\n",
       "9        little         114        much                21\n",
       "10         much         111      jewish                19\n",
       "11          bad          93       great                18\n",
       "12         free          83       asian                18\n",
       "13        right          78         bad                17\n",
       "14         next          76         old                17\n",
       "15          big          72         new                16\n",
       "16    different          69        poor                16\n",
       "17  nationalist          68        dumb                15\n",
       "18         high          68        real                14\n",
       "19        first          65       wrong                14"
      ]
     },
     "execution_count": 57,
     "metadata": {},
     "output_type": "execute_result"
    }
   ],
   "source": [
    "top_adj = {\"Total\": top_20_adj.keys(), \"Freq Total\": top_20_adj.values(), \"Hate Speech\": top_20_adj1.keys(), \"Freq Hate Speech\": top_20_adj1.values()}\n",
    "top_adj = pd.DataFrame(top_adj)\n",
    "top_adj"
   ]
  },
  {
   "cell_type": "code",
   "execution_count": 58,
   "metadata": {},
   "outputs": [
    {
     "data": {
      "text/html": [
       "<div>\n",
       "<style scoped>\n",
       "    .dataframe tbody tr th:only-of-type {\n",
       "        vertical-align: middle;\n",
       "    }\n",
       "\n",
       "    .dataframe tbody tr th {\n",
       "        vertical-align: top;\n",
       "    }\n",
       "\n",
       "    .dataframe thead th {\n",
       "        text-align: right;\n",
       "    }\n",
       "</style>\n",
       "<table border=\"1\" class=\"dataframe\">\n",
       "  <thead>\n",
       "    <tr style=\"text-align: right;\">\n",
       "      <th></th>\n",
       "      <th>file_id</th>\n",
       "      <th>user_id</th>\n",
       "      <th>subforum_id</th>\n",
       "      <th>num_contexts</th>\n",
       "      <th>label</th>\n",
       "      <th>text</th>\n",
       "      <th>text_clean</th>\n",
       "      <th>stemmed</th>\n",
       "      <th>lemmatized</th>\n",
       "      <th>tokens</th>\n",
       "      <th>POS_spacy</th>\n",
       "    </tr>\n",
       "  </thead>\n",
       "  <tbody>\n",
       "    <tr>\n",
       "      <th>108</th>\n",
       "      <td>13391410_1</td>\n",
       "      <td>579214</td>\n",
       "      <td>1345</td>\n",
       "      <td>1</td>\n",
       "      <td>1</td>\n",
       "      <td>they act as if negros with aids should have th...</td>\n",
       "      <td>act negros aids right reproduce die way take c...</td>\n",
       "      <td>act negro aid right reproduc die way take care...</td>\n",
       "      <td>act negro aid right reproduce die way take car...</td>\n",
       "      <td>[act, negros, aids, right, reproduce, die, way...</td>\n",
       "      <td>[(act, VERB), (negro, PROPN), (aid, NOUN), (ri...</td>\n",
       "    </tr>\n",
       "    <tr>\n",
       "      <th>112</th>\n",
       "      <td>13406897_1</td>\n",
       "      <td>579436</td>\n",
       "      <td>1345</td>\n",
       "      <td>0</td>\n",
       "      <td>1</td>\n",
       "      <td>He's a retarded feral negro ( yes , feral huma...</td>\n",
       "      <td>retarded feral negro yes feral humans cannot t...</td>\n",
       "      <td>retard feral negro ye feral human can not talk...</td>\n",
       "      <td>retarded feral negro yes feral human can not t...</td>\n",
       "      <td>[retarded, feral, negro, yes, feral, humans, c...</td>\n",
       "      <td>[(retarded, PROPN), (feral, PROPN), (negro, PR...</td>\n",
       "    </tr>\n",
       "    <tr>\n",
       "      <th>114</th>\n",
       "      <td>13406897_3</td>\n",
       "      <td>579436</td>\n",
       "      <td>1345</td>\n",
       "      <td>0</td>\n",
       "      <td>1</td>\n",
       "      <td>I 've seen negroes who look ( and undoubtedly ...</td>\n",
       "      <td>seen negroes look undoubtedly act like</td>\n",
       "      <td>seen negro look undoubtedli act like</td>\n",
       "      <td>seen negro look undoubtedly act like</td>\n",
       "      <td>[seen, negroes, look, undoubtedly, act, like]</td>\n",
       "      <td>[(seen, VERB), (negro, PROPN), (look, VERB), (...</td>\n",
       "    </tr>\n",
       "    <tr>\n",
       "      <th>230</th>\n",
       "      <td>13503127_1</td>\n",
       "      <td>572147</td>\n",
       "      <td>1345</td>\n",
       "      <td>0</td>\n",
       "      <td>0</td>\n",
       "      <td>Hispanic: A woman threw her 2 1/2-year-old gra...</td>\n",
       "      <td>hispanic woman threw year old granddaughter se...</td>\n",
       "      <td>hispan woman threw year old granddaught sever ...</td>\n",
       "      <td>hispanic woman threw year old granddaughter se...</td>\n",
       "      <td>[hispanic, woman, threw, year, old, granddaugh...</td>\n",
       "      <td>[(hispanic, ADJ), (woman, NOUN), (threw, VERB)...</td>\n",
       "    </tr>\n",
       "    <tr>\n",
       "      <th>390</th>\n",
       "      <td>14031472_1</td>\n",
       "      <td>596265</td>\n",
       "      <td>1387</td>\n",
       "      <td>2</td>\n",
       "      <td>0</td>\n",
       "      <td>i do this and the looks i get out of disgust a...</td>\n",
       "      <td>looks get disgust regular happily carry walkin...</td>\n",
       "      <td>look get disgust regular happili carri walk la...</td>\n",
       "      <td>look get disgust regular happily carry walking...</td>\n",
       "      <td>[looks, get, disgust, regular, happily, carry,...</td>\n",
       "      <td>[(look, VERB), (get, AUX), (disgust, VERB), (r...</td>\n",
       "    </tr>\n",
       "    <tr>\n",
       "      <th>...</th>\n",
       "      <td>...</td>\n",
       "      <td>...</td>\n",
       "      <td>...</td>\n",
       "      <td>...</td>\n",
       "      <td>...</td>\n",
       "      <td>...</td>\n",
       "      <td>...</td>\n",
       "      <td>...</td>\n",
       "      <td>...</td>\n",
       "      <td>...</td>\n",
       "      <td>...</td>\n",
       "    </tr>\n",
       "    <tr>\n",
       "      <th>9838</th>\n",
       "      <td>12882012_2</td>\n",
       "      <td>577734</td>\n",
       "      <td>1345</td>\n",
       "      <td>0</td>\n",
       "      <td>1</td>\n",
       "      <td>I reported some time ago that negroes will eve...</td>\n",
       "      <td>reported time ago negroes even strip bricks ho...</td>\n",
       "      <td>report time ago negro even strip brick home aw...</td>\n",
       "      <td>reported time ago negro even strip brick home ...</td>\n",
       "      <td>[reported, time, ago, negroes, even, strip, br...</td>\n",
       "      <td>[(reported, VERB), (time, NOUN), (ago, ADV), (...</td>\n",
       "    </tr>\n",
       "    <tr>\n",
       "      <th>9984</th>\n",
       "      <td>13503418_1</td>\n",
       "      <td>576356</td>\n",
       "      <td>1395</td>\n",
       "      <td>0</td>\n",
       "      <td>1</td>\n",
       "      <td>Yes, before age of 10 i never saw an negro in ...</td>\n",
       "      <td>yes age never saw negro real life moved hollan...</td>\n",
       "      <td>ye age never saw negro real life move holland ...</td>\n",
       "      <td>yes age never saw negro real life moved hollan...</td>\n",
       "      <td>[yes, age, never, saw, negro, real, life, move...</td>\n",
       "      <td>[(yes, INTJ), (age, NOUN), (never, ADV), (saw,...</td>\n",
       "    </tr>\n",
       "    <tr>\n",
       "      <th>10397</th>\n",
       "      <td>14413050_1</td>\n",
       "      <td>574116</td>\n",
       "      <td>1375</td>\n",
       "      <td>1</td>\n",
       "      <td>1</td>\n",
       "      <td>Don't stop trying because the negro will prove...</td>\n",
       "      <td>stop trying negro prove right</td>\n",
       "      <td>stop tri negro prove right</td>\n",
       "      <td>stop trying negro prove right</td>\n",
       "      <td>[stop, trying, negro, prove, right]</td>\n",
       "      <td>[(stop, VERB), (trying, VERB), (negro, ADJ), (...</td>\n",
       "    </tr>\n",
       "    <tr>\n",
       "      <th>10698</th>\n",
       "      <td>30603595_1</td>\n",
       "      <td>573095</td>\n",
       "      <td>1359</td>\n",
       "      <td>3</td>\n",
       "      <td>0</td>\n",
       "      <td>By the way he did n't film the scene for enter...</td>\n",
       "      <td>way n film scene entertainment negro would lie...</td>\n",
       "      <td>way n film scene entertain negro would lie whi...</td>\n",
       "      <td>way n film scene entertainment negro would lie...</td>\n",
       "      <td>[way, n, film, scene, entertainment, negro, wo...</td>\n",
       "      <td>[(way, PROPN), (n, PROPN), (film, PROPN), (sce...</td>\n",
       "    </tr>\n",
       "    <tr>\n",
       "      <th>10718</th>\n",
       "      <td>30631655_3</td>\n",
       "      <td>576450</td>\n",
       "      <td>1359</td>\n",
       "      <td>0</td>\n",
       "      <td>1</td>\n",
       "      <td>That negro 's place is in Africa , and the tea...</td>\n",
       "      <td>negro place africa teacher n send</td>\n",
       "      <td>negro place africa teacher n send</td>\n",
       "      <td>negro place africa teacher n send</td>\n",
       "      <td>[negro, place, africa, teacher, n, send]</td>\n",
       "      <td>[(negro, PROPN), (place, PROPN), (africa, PROP...</td>\n",
       "    </tr>\n",
       "  </tbody>\n",
       "</table>\n",
       "<p>116 rows × 11 columns</p>\n",
       "</div>"
      ],
      "text/plain": [
       "          file_id  user_id  subforum_id  num_contexts  label  \\\n",
       "108    13391410_1   579214         1345             1      1   \n",
       "112    13406897_1   579436         1345             0      1   \n",
       "114    13406897_3   579436         1345             0      1   \n",
       "230    13503127_1   572147         1345             0      0   \n",
       "390    14031472_1   596265         1387             2      0   \n",
       "...           ...      ...          ...           ...    ...   \n",
       "9838   12882012_2   577734         1345             0      1   \n",
       "9984   13503418_1   576356         1395             0      1   \n",
       "10397  14413050_1   574116         1375             1      1   \n",
       "10698  30603595_1   573095         1359             3      0   \n",
       "10718  30631655_3   576450         1359             0      1   \n",
       "\n",
       "                                                    text  \\\n",
       "108    they act as if negros with aids should have th...   \n",
       "112    He's a retarded feral negro ( yes , feral huma...   \n",
       "114    I 've seen negroes who look ( and undoubtedly ...   \n",
       "230    Hispanic: A woman threw her 2 1/2-year-old gra...   \n",
       "390    i do this and the looks i get out of disgust a...   \n",
       "...                                                  ...   \n",
       "9838   I reported some time ago that negroes will eve...   \n",
       "9984   Yes, before age of 10 i never saw an negro in ...   \n",
       "10397  Don't stop trying because the negro will prove...   \n",
       "10698  By the way he did n't film the scene for enter...   \n",
       "10718  That negro 's place is in Africa , and the tea...   \n",
       "\n",
       "                                              text_clean  \\\n",
       "108    act negros aids right reproduce die way take c...   \n",
       "112    retarded feral negro yes feral humans cannot t...   \n",
       "114               seen negroes look undoubtedly act like   \n",
       "230    hispanic woman threw year old granddaughter se...   \n",
       "390    looks get disgust regular happily carry walkin...   \n",
       "...                                                  ...   \n",
       "9838   reported time ago negroes even strip bricks ho...   \n",
       "9984   yes age never saw negro real life moved hollan...   \n",
       "10397                      stop trying negro prove right   \n",
       "10698  way n film scene entertainment negro would lie...   \n",
       "10718                  negro place africa teacher n send   \n",
       "\n",
       "                                                 stemmed  \\\n",
       "108    act negro aid right reproduc die way take care...   \n",
       "112    retard feral negro ye feral human can not talk...   \n",
       "114                 seen negro look undoubtedli act like   \n",
       "230    hispan woman threw year old granddaught sever ...   \n",
       "390    look get disgust regular happili carri walk la...   \n",
       "...                                                  ...   \n",
       "9838   report time ago negro even strip brick home aw...   \n",
       "9984   ye age never saw negro real life move holland ...   \n",
       "10397                         stop tri negro prove right   \n",
       "10698  way n film scene entertain negro would lie whi...   \n",
       "10718                  negro place africa teacher n send   \n",
       "\n",
       "                                              lemmatized  \\\n",
       "108    act negro aid right reproduce die way take car...   \n",
       "112    retarded feral negro yes feral human can not t...   \n",
       "114                 seen negro look undoubtedly act like   \n",
       "230    hispanic woman threw year old granddaughter se...   \n",
       "390    look get disgust regular happily carry walking...   \n",
       "...                                                  ...   \n",
       "9838   reported time ago negro even strip brick home ...   \n",
       "9984   yes age never saw negro real life moved hollan...   \n",
       "10397                      stop trying negro prove right   \n",
       "10698  way n film scene entertainment negro would lie...   \n",
       "10718                  negro place africa teacher n send   \n",
       "\n",
       "                                                  tokens  \\\n",
       "108    [act, negros, aids, right, reproduce, die, way...   \n",
       "112    [retarded, feral, negro, yes, feral, humans, c...   \n",
       "114        [seen, negroes, look, undoubtedly, act, like]   \n",
       "230    [hispanic, woman, threw, year, old, granddaugh...   \n",
       "390    [looks, get, disgust, regular, happily, carry,...   \n",
       "...                                                  ...   \n",
       "9838   [reported, time, ago, negroes, even, strip, br...   \n",
       "9984   [yes, age, never, saw, negro, real, life, move...   \n",
       "10397                [stop, trying, negro, prove, right]   \n",
       "10698  [way, n, film, scene, entertainment, negro, wo...   \n",
       "10718           [negro, place, africa, teacher, n, send]   \n",
       "\n",
       "                                               POS_spacy  \n",
       "108    [(act, VERB), (negro, PROPN), (aid, NOUN), (ri...  \n",
       "112    [(retarded, PROPN), (feral, PROPN), (negro, PR...  \n",
       "114    [(seen, VERB), (negro, PROPN), (look, VERB), (...  \n",
       "230    [(hispanic, ADJ), (woman, NOUN), (threw, VERB)...  \n",
       "390    [(look, VERB), (get, AUX), (disgust, VERB), (r...  \n",
       "...                                                  ...  \n",
       "9838   [(reported, VERB), (time, NOUN), (ago, ADV), (...  \n",
       "9984   [(yes, INTJ), (age, NOUN), (never, ADV), (saw,...  \n",
       "10397  [(stop, VERB), (trying, VERB), (negro, ADJ), (...  \n",
       "10698  [(way, PROPN), (n, PROPN), (film, PROPN), (sce...  \n",
       "10718  [(negro, PROPN), (place, PROPN), (africa, PROP...  \n",
       "\n",
       "[116 rows x 11 columns]"
      ]
     },
     "execution_count": 58,
     "metadata": {},
     "output_type": "execute_result"
    }
   ],
   "source": [
    "data[data['text'].str.contains(\"negro\")][:]"
   ]
  },
  {
   "cell_type": "code",
   "execution_count": 59,
   "metadata": {
    "execution": {
     "iopub.execute_input": "2021-04-10T22:17:20.774812Z",
     "iopub.status.busy": "2021-04-10T22:17:20.774101Z",
     "iopub.status.idle": "2021-04-10T22:17:20.780107Z",
     "shell.execute_reply": "2021-04-10T22:17:20.779315Z",
     "shell.execute_reply.started": "2021-04-10T22:17:20.774731Z"
    }
   },
   "outputs": [],
   "source": [
    "common_adj = list(set(top_adj[\"Hate Speech\"].values).union(set(top_adj[\"Total\"].values)))"
   ]
  },
  {
   "cell_type": "code",
   "execution_count": 60,
   "metadata": {
    "execution": {
     "iopub.execute_input": "2021-04-10T22:17:21.158688Z",
     "iopub.status.busy": "2021-04-10T22:17:21.157994Z",
     "iopub.status.idle": "2021-04-10T22:17:21.169190Z",
     "shell.execute_reply": "2021-04-10T22:17:21.166295Z",
     "shell.execute_reply.started": "2021-04-10T22:17:21.158609Z"
    }
   },
   "outputs": [],
   "source": [
    "freq_common_tot_adj = [adj_counter[x] for x in common_adj]\n",
    "freq_common_hate_adj = [adj_counter1[x] for x in common_adj]"
   ]
  },
  {
   "cell_type": "code",
   "execution_count": 61,
   "metadata": {
    "execution": {
     "iopub.execute_input": "2021-04-10T22:17:47.314619Z",
     "iopub.status.busy": "2021-04-10T22:17:47.314273Z",
     "iopub.status.idle": "2021-04-10T22:17:47.319883Z",
     "shell.execute_reply": "2021-04-10T22:17:47.319064Z",
     "shell.execute_reply.started": "2021-04-10T22:17:47.314580Z"
    }
   },
   "outputs": [],
   "source": [
    "common_adj_df = pd.DataFrame({\"Adj\" : common_adj, \"Freq tot\": freq_common_tot_adj, \"Freq Hate Speech\": freq_common_hate_adj })"
   ]
  },
  {
   "cell_type": "code",
   "execution_count": 62,
   "metadata": {
    "execution": {
     "iopub.execute_input": "2021-04-10T22:17:47.537234Z",
     "iopub.status.busy": "2021-04-10T22:17:47.536973Z",
     "iopub.status.idle": "2021-04-10T22:17:47.541927Z",
     "shell.execute_reply": "2021-04-10T22:17:47.541097Z",
     "shell.execute_reply.started": "2021-04-10T22:17:47.537204Z"
    }
   },
   "outputs": [],
   "source": [
    "common_adj_df.sort_values(by=[\"Freq Hate Speech\"], ascending= False, inplace=True)"
   ]
  },
  {
   "cell_type": "code",
   "execution_count": 63,
   "metadata": {
    "execution": {
     "iopub.execute_input": "2021-04-10T22:17:47.741494Z",
     "iopub.status.busy": "2021-04-10T22:17:47.741320Z",
     "iopub.status.idle": "2021-04-10T22:17:47.990612Z",
     "shell.execute_reply": "2021-04-10T22:17:47.990092Z",
     "shell.execute_reply.started": "2021-04-10T22:17:47.741473Z"
    }
   },
   "outputs": [
    {
     "data": {
      "image/png": "[encoded data removed]",
      "text/plain": [
       "<Figure size 720x360 with 1 Axes>"
      ]
     },
     "metadata": {
      "needs_background": "light"
     },
     "output_type": "display_data"
    }
   ],
   "source": [
    "common_adj_df.plot(x='Adj', y=['Freq tot', 'Freq Hate Speech'], kind='bar', figsize=(10,5))\n",
    "plt.show()"
   ]
  },
  {
   "cell_type": "code",
   "execution_count": 64,
   "metadata": {
    "execution": {
     "iopub.execute_input": "2021-04-10T22:20:06.344441Z",
     "iopub.status.busy": "2021-04-10T22:20:06.344212Z",
     "iopub.status.idle": "2021-04-10T22:20:06.371097Z",
     "shell.execute_reply": "2021-04-10T22:20:06.370392Z",
     "shell.execute_reply.started": "2021-04-10T22:20:06.344416Z"
    }
   },
   "outputs": [],
   "source": [
    "pos_counter = {}\n",
    "for x in all_pos:\n",
    "    if x[1] in pos_counter:\n",
    "        pos_counter[x[1]] += 1\n",
    "    else:\n",
    "        pos_counter[x[1]] = 1\n",
    "        \n",
    "top_20_pos = {k: v for k, v in sorted(pos_counter.items(), key=lambda item: item[1], reverse=True)[:20]}"
   ]
  },
  {
   "cell_type": "code",
   "execution_count": 116,
   "metadata": {
    "execution": {
     "iopub.execute_input": "2021-04-10T22:20:22.305880Z",
     "iopub.status.busy": "2021-04-10T22:20:22.305635Z",
     "iopub.status.idle": "2021-04-10T22:20:22.316834Z",
     "shell.execute_reply": "2021-04-10T22:20:22.315939Z",
     "shell.execute_reply.started": "2021-04-10T22:20:22.305853Z"
    },
    "scrolled": true
   },
   "outputs": [
    {
     "data": {
      "text/html": [
       "<div>\n",
       "<style scoped>\n",
       "    .dataframe tbody tr th:only-of-type {\n",
       "        vertical-align: middle;\n",
       "    }\n",
       "\n",
       "    .dataframe tbody tr th {\n",
       "        vertical-align: top;\n",
       "    }\n",
       "\n",
       "    .dataframe thead th {\n",
       "        text-align: right;\n",
       "    }\n",
       "</style>\n",
       "<table border=\"1\" class=\"dataframe\">\n",
       "  <thead>\n",
       "    <tr style=\"text-align: right;\">\n",
       "      <th></th>\n",
       "      <th>index</th>\n",
       "      <th>Freq</th>\n",
       "    </tr>\n",
       "  </thead>\n",
       "  <tbody>\n",
       "    <tr>\n",
       "      <th>0</th>\n",
       "      <td>NOUN</td>\n",
       "      <td>26153</td>\n",
       "    </tr>\n",
       "    <tr>\n",
       "      <th>1</th>\n",
       "      <td>PROPN</td>\n",
       "      <td>22194</td>\n",
       "    </tr>\n",
       "    <tr>\n",
       "      <th>2</th>\n",
       "      <td>VERB</td>\n",
       "      <td>18206</td>\n",
       "    </tr>\n",
       "    <tr>\n",
       "      <th>3</th>\n",
       "      <td>ADJ</td>\n",
       "      <td>12077</td>\n",
       "    </tr>\n",
       "    <tr>\n",
       "      <th>4</th>\n",
       "      <td>ADV</td>\n",
       "      <td>5369</td>\n",
       "    </tr>\n",
       "    <tr>\n",
       "      <th>5</th>\n",
       "      <td>PRON</td>\n",
       "      <td>1167</td>\n",
       "    </tr>\n",
       "    <tr>\n",
       "      <th>6</th>\n",
       "      <td>INTJ</td>\n",
       "      <td>1092</td>\n",
       "    </tr>\n",
       "    <tr>\n",
       "      <th>7</th>\n",
       "      <td>SCONJ</td>\n",
       "      <td>1004</td>\n",
       "    </tr>\n",
       "    <tr>\n",
       "      <th>8</th>\n",
       "      <td>NUM</td>\n",
       "      <td>1000</td>\n",
       "    </tr>\n",
       "    <tr>\n",
       "      <th>9</th>\n",
       "      <td>ADP</td>\n",
       "      <td>807</td>\n",
       "    </tr>\n",
       "    <tr>\n",
       "      <th>10</th>\n",
       "      <td>AUX</td>\n",
       "      <td>579</td>\n",
       "    </tr>\n",
       "    <tr>\n",
       "      <th>11</th>\n",
       "      <td>DET</td>\n",
       "      <td>450</td>\n",
       "    </tr>\n",
       "    <tr>\n",
       "      <th>12</th>\n",
       "      <td>CCONJ</td>\n",
       "      <td>429</td>\n",
       "    </tr>\n",
       "    <tr>\n",
       "      <th>13</th>\n",
       "      <td>PART</td>\n",
       "      <td>359</td>\n",
       "    </tr>\n",
       "    <tr>\n",
       "      <th>14</th>\n",
       "      <td>X</td>\n",
       "      <td>276</td>\n",
       "    </tr>\n",
       "    <tr>\n",
       "      <th>15</th>\n",
       "      <td>SYM</td>\n",
       "      <td>48</td>\n",
       "    </tr>\n",
       "    <tr>\n",
       "      <th>16</th>\n",
       "      <td>PUNCT</td>\n",
       "      <td>35</td>\n",
       "    </tr>\n",
       "  </tbody>\n",
       "</table>\n",
       "</div>"
      ],
      "text/plain": [
       "    index   Freq\n",
       "0    NOUN  26153\n",
       "1   PROPN  22194\n",
       "2    VERB  18206\n",
       "3     ADJ  12077\n",
       "4     ADV   5369\n",
       "5    PRON   1167\n",
       "6    INTJ   1092\n",
       "7   SCONJ   1004\n",
       "8     NUM   1000\n",
       "9     ADP    807\n",
       "10    AUX    579\n",
       "11    DET    450\n",
       "12  CCONJ    429\n",
       "13   PART    359\n",
       "14      X    276\n",
       "15    SYM     48\n",
       "16  PUNCT     35"
      ]
     },
     "execution_count": 116,
     "metadata": {},
     "output_type": "execute_result"
    }
   ],
   "source": [
    "tpos = pd.DataFrame.from_dict(top_20_pos, orient=\"index\", columns=[\"Freq\"]).reset_index()\n",
    "tpos"
   ]
  },
  {
   "cell_type": "code",
   "execution_count": 105,
   "metadata": {},
   "outputs": [],
   "source": [
    "def counter_to_relative(counter):\n",
    "    total_count = sum(counter.values())\n",
    "    relative = {}\n",
    "    for key in counter:\n",
    "        relative[key] = counter[key] / total_count\n",
    "    return relative"
   ]
  },
  {
   "cell_type": "code",
   "execution_count": 107,
   "metadata": {},
   "outputs": [],
   "source": [
    "def relative_frequency(lst, element):\n",
    "    return lst.count(element) / float(len(lst))\n",
    "\n",
    "#words = ['apple', 'banana', 'apple', 'orange']\n",
    "#print(relative_frequency(words, 'apple'))"
   ]
  },
  {
   "cell_type": "code",
   "execution_count": 119,
   "metadata": {},
   "outputs": [
    {
     "ename": "KeyError",
     "evalue": "'Requested level (NOUN) does not match index name (None)'",
     "output_type": "error",
     "traceback": [
      "\u001b[1;31m---------------------------------------------------------------------------\u001b[0m",
      "\u001b[1;31mKeyError\u001b[0m                                  Traceback (most recent call last)",
      "\u001b[1;32m<ipython-input-119-a3ffdf9c8c1d>\u001b[0m in \u001b[0;36m<module>\u001b[1;34m\u001b[0m\n\u001b[1;32m----> 1\u001b[1;33m \u001b[0mprint\u001b[0m\u001b[1;33m(\u001b[0m\u001b[0mrelative_frequency\u001b[0m\u001b[1;33m(\u001b[0m\u001b[0mtpos\u001b[0m\u001b[1;33m[\u001b[0m\u001b[1;34m'index'\u001b[0m\u001b[1;33m]\u001b[0m\u001b[1;33m,\u001b[0m \u001b[1;34m'NOUN'\u001b[0m\u001b[1;33m)\u001b[0m\u001b[1;33m)\u001b[0m\u001b[1;33m\u001b[0m\u001b[1;33m\u001b[0m\u001b[0m\n\u001b[0m",
      "\u001b[1;32m<ipython-input-107-311765e4a892>\u001b[0m in \u001b[0;36mrelative_frequency\u001b[1;34m(lst, element)\u001b[0m\n\u001b[0;32m      1\u001b[0m \u001b[1;32mdef\u001b[0m \u001b[0mrelative_frequency\u001b[0m\u001b[1;33m(\u001b[0m\u001b[0mlst\u001b[0m\u001b[1;33m,\u001b[0m \u001b[0melement\u001b[0m\u001b[1;33m)\u001b[0m\u001b[1;33m:\u001b[0m\u001b[1;33m\u001b[0m\u001b[1;33m\u001b[0m\u001b[0m\n\u001b[1;32m----> 2\u001b[1;33m     \u001b[1;32mreturn\u001b[0m \u001b[0mlst\u001b[0m\u001b[1;33m.\u001b[0m\u001b[0mcount\u001b[0m\u001b[1;33m(\u001b[0m\u001b[0melement\u001b[0m\u001b[1;33m)\u001b[0m \u001b[1;33m/\u001b[0m \u001b[0mfloat\u001b[0m\u001b[1;33m(\u001b[0m\u001b[0mlen\u001b[0m\u001b[1;33m(\u001b[0m\u001b[0mlst\u001b[0m\u001b[1;33m)\u001b[0m\u001b[1;33m)\u001b[0m\u001b[1;33m\u001b[0m\u001b[1;33m\u001b[0m\u001b[0m\n\u001b[0m\u001b[0;32m      3\u001b[0m \u001b[1;33m\u001b[0m\u001b[0m\n\u001b[0;32m      4\u001b[0m \u001b[1;31m#words = ['apple', 'banana', 'apple', 'orange']\u001b[0m\u001b[1;33m\u001b[0m\u001b[1;33m\u001b[0m\u001b[1;33m\u001b[0m\u001b[0m\n\u001b[0;32m      5\u001b[0m \u001b[1;31m#print(relative_frequency(words, 'apple'))\u001b[0m\u001b[1;33m\u001b[0m\u001b[1;33m\u001b[0m\u001b[1;33m\u001b[0m\u001b[0m\n",
      "\u001b[1;32m~\\anaconda3\\lib\\site-packages\\pandas\\core\\series.py\u001b[0m in \u001b[0;36mcount\u001b[1;34m(self, level)\u001b[0m\n\u001b[0;32m   1768\u001b[0m \u001b[1;33m\u001b[0m\u001b[0m\n\u001b[0;32m   1769\u001b[0m         \u001b[1;32mif\u001b[0m \u001b[0misinstance\u001b[0m\u001b[1;33m(\u001b[0m\u001b[0mlevel\u001b[0m\u001b[1;33m,\u001b[0m \u001b[0mstr\u001b[0m\u001b[1;33m)\u001b[0m\u001b[1;33m:\u001b[0m\u001b[1;33m\u001b[0m\u001b[1;33m\u001b[0m\u001b[0m\n\u001b[1;32m-> 1770\u001b[1;33m             \u001b[0mlevel\u001b[0m \u001b[1;33m=\u001b[0m \u001b[0mself\u001b[0m\u001b[1;33m.\u001b[0m\u001b[0mindex\u001b[0m\u001b[1;33m.\u001b[0m\u001b[0m_get_level_number\u001b[0m\u001b[1;33m(\u001b[0m\u001b[0mlevel\u001b[0m\u001b[1;33m)\u001b[0m\u001b[1;33m\u001b[0m\u001b[1;33m\u001b[0m\u001b[0m\n\u001b[0m\u001b[0;32m   1771\u001b[0m \u001b[1;33m\u001b[0m\u001b[0m\n\u001b[0;32m   1772\u001b[0m         \u001b[0mlev\u001b[0m \u001b[1;33m=\u001b[0m \u001b[0mself\u001b[0m\u001b[1;33m.\u001b[0m\u001b[0mindex\u001b[0m\u001b[1;33m.\u001b[0m\u001b[0mlevels\u001b[0m\u001b[1;33m[\u001b[0m\u001b[0mlevel\u001b[0m\u001b[1;33m]\u001b[0m\u001b[1;33m\u001b[0m\u001b[1;33m\u001b[0m\u001b[0m\n",
      "\u001b[1;32m~\\anaconda3\\lib\\site-packages\\pandas\\core\\indexes\\base.py\u001b[0m in \u001b[0;36m_get_level_number\u001b[1;34m(self, level)\u001b[0m\n\u001b[0;32m   1413\u001b[0m \u001b[1;33m\u001b[0m\u001b[0m\n\u001b[0;32m   1414\u001b[0m     \u001b[1;32mdef\u001b[0m \u001b[0m_get_level_number\u001b[0m\u001b[1;33m(\u001b[0m\u001b[0mself\u001b[0m\u001b[1;33m,\u001b[0m \u001b[0mlevel\u001b[0m\u001b[1;33m)\u001b[0m \u001b[1;33m->\u001b[0m \u001b[0mint\u001b[0m\u001b[1;33m:\u001b[0m\u001b[1;33m\u001b[0m\u001b[1;33m\u001b[0m\u001b[0m\n\u001b[1;32m-> 1415\u001b[1;33m         \u001b[0mself\u001b[0m\u001b[1;33m.\u001b[0m\u001b[0m_validate_index_level\u001b[0m\u001b[1;33m(\u001b[0m\u001b[0mlevel\u001b[0m\u001b[1;33m)\u001b[0m\u001b[1;33m\u001b[0m\u001b[1;33m\u001b[0m\u001b[0m\n\u001b[0m\u001b[0;32m   1416\u001b[0m         \u001b[1;32mreturn\u001b[0m \u001b[1;36m0\u001b[0m\u001b[1;33m\u001b[0m\u001b[1;33m\u001b[0m\u001b[0m\n\u001b[0;32m   1417\u001b[0m \u001b[1;33m\u001b[0m\u001b[0m\n",
      "\u001b[1;32m~\\anaconda3\\lib\\site-packages\\pandas\\core\\indexes\\base.py\u001b[0m in \u001b[0;36m_validate_index_level\u001b[1;34m(self, level)\u001b[0m\n\u001b[0;32m   1408\u001b[0m                 )\n\u001b[0;32m   1409\u001b[0m         \u001b[1;32melif\u001b[0m \u001b[0mlevel\u001b[0m \u001b[1;33m!=\u001b[0m \u001b[0mself\u001b[0m\u001b[1;33m.\u001b[0m\u001b[0mname\u001b[0m\u001b[1;33m:\u001b[0m\u001b[1;33m\u001b[0m\u001b[1;33m\u001b[0m\u001b[0m\n\u001b[1;32m-> 1410\u001b[1;33m             raise KeyError(\n\u001b[0m\u001b[0;32m   1411\u001b[0m                 \u001b[1;34mf\"Requested level ({level}) does not match index name ({self.name})\"\u001b[0m\u001b[1;33m\u001b[0m\u001b[1;33m\u001b[0m\u001b[0m\n\u001b[0;32m   1412\u001b[0m             )\n",
      "\u001b[1;31mKeyError\u001b[0m: 'Requested level (NOUN) does not match index name (None)'"
     ]
    }
   ],
   "source": [
    "print(relative_frequency(tpos['index'], 'NOUN'))"
   ]
  },
  {
   "cell_type": "code",
   "execution_count": 146,
   "metadata": {},
   "outputs": [
    {
     "ename": "TypeError",
     "evalue": "unhashable type: 'list'",
     "output_type": "error",
     "traceback": [
      "\u001b[1;31m---------------------------------------------------------------------------\u001b[0m",
      "\u001b[1;31mTypeError\u001b[0m                                 Traceback (most recent call last)",
      "\u001b[1;32m<ipython-input-146-15addaeff450>\u001b[0m in \u001b[0;36m<module>\u001b[1;34m\u001b[0m\n\u001b[1;32m----> 1\u001b[1;33m \u001b[0mabsolute_frequencies_dict\u001b[0m \u001b[1;33m=\u001b[0m \u001b[1;33m{\u001b[0m\u001b[0mdata\u001b[0m\u001b[1;33m[\u001b[0m\u001b[1;34m'POS_spacy'\u001b[0m\u001b[1;33m]\u001b[0m\u001b[1;33m[\u001b[0m\u001b[1;36m1\u001b[0m\u001b[1;33m]\u001b[0m\u001b[1;33m:\u001b[0m\u001b[0mdata\u001b[0m\u001b[1;33m[\u001b[0m\u001b[1;34m'POS_spacy'\u001b[0m\u001b[1;33m]\u001b[0m\u001b[1;33m[\u001b[0m\u001b[1;36m1\u001b[0m\u001b[1;33m]\u001b[0m\u001b[1;33m.\u001b[0m\u001b[0mcount\u001b[0m\u001b[1;33m(\u001b[0m\u001b[0mx\u001b[0m\u001b[1;33m)\u001b[0m \u001b[1;32mfor\u001b[0m \u001b[0mx\u001b[0m \u001b[1;32min\u001b[0m \u001b[0mdata\u001b[0m\u001b[1;33m[\u001b[0m\u001b[1;34m'POS_spacy'\u001b[0m\u001b[1;33m]\u001b[0m\u001b[1;33m[\u001b[0m\u001b[1;36m1\u001b[0m\u001b[1;33m]\u001b[0m\u001b[1;33m}\u001b[0m\u001b[1;33m\u001b[0m\u001b[1;33m\u001b[0m\u001b[0m\n\u001b[0m",
      "\u001b[1;32m<ipython-input-146-15addaeff450>\u001b[0m in \u001b[0;36m<dictcomp>\u001b[1;34m(.0)\u001b[0m\n\u001b[1;32m----> 1\u001b[1;33m \u001b[0mabsolute_frequencies_dict\u001b[0m \u001b[1;33m=\u001b[0m \u001b[1;33m{\u001b[0m\u001b[0mdata\u001b[0m\u001b[1;33m[\u001b[0m\u001b[1;34m'POS_spacy'\u001b[0m\u001b[1;33m]\u001b[0m\u001b[1;33m[\u001b[0m\u001b[1;36m1\u001b[0m\u001b[1;33m]\u001b[0m\u001b[1;33m:\u001b[0m\u001b[0mdata\u001b[0m\u001b[1;33m[\u001b[0m\u001b[1;34m'POS_spacy'\u001b[0m\u001b[1;33m]\u001b[0m\u001b[1;33m[\u001b[0m\u001b[1;36m1\u001b[0m\u001b[1;33m]\u001b[0m\u001b[1;33m.\u001b[0m\u001b[0mcount\u001b[0m\u001b[1;33m(\u001b[0m\u001b[0mx\u001b[0m\u001b[1;33m)\u001b[0m \u001b[1;32mfor\u001b[0m \u001b[0mx\u001b[0m \u001b[1;32min\u001b[0m \u001b[0mdata\u001b[0m\u001b[1;33m[\u001b[0m\u001b[1;34m'POS_spacy'\u001b[0m\u001b[1;33m]\u001b[0m\u001b[1;33m[\u001b[0m\u001b[1;36m1\u001b[0m\u001b[1;33m]\u001b[0m\u001b[1;33m}\u001b[0m\u001b[1;33m\u001b[0m\u001b[1;33m\u001b[0m\u001b[0m\n\u001b[0m",
      "\u001b[1;31mTypeError\u001b[0m: unhashable type: 'list'"
     ]
    }
   ],
   "source": [
    "absolute_frequencies_dict = {data['POS_spacy'][1]:data['POS_spacy'][1].count(x) for x in data['POS_spacy'][1]}"
   ]
  },
  {
   "cell_type": "code",
   "execution_count": 147,
   "metadata": {},
   "outputs": [
    {
     "ename": "AttributeError",
     "evalue": "'dict' object has no attribute 'count'",
     "output_type": "error",
     "traceback": [
      "\u001b[1;31m---------------------------------------------------------------------------\u001b[0m",
      "\u001b[1;31mAttributeError\u001b[0m                            Traceback (most recent call last)",
      "\u001b[1;32m<ipython-input-147-95a33c23f0ee>\u001b[0m in \u001b[0;36m<module>\u001b[1;34m\u001b[0m\n\u001b[1;32m----> 1\u001b[1;33m \u001b[0mabsolute_frequencies_dict\u001b[0m \u001b[1;33m=\u001b[0m \u001b[1;33m{\u001b[0m\u001b[0mtop_20_pos\u001b[0m\u001b[1;33m:\u001b[0m\u001b[0mtop_20_pos\u001b[0m\u001b[1;33m.\u001b[0m\u001b[0mcount\u001b[0m\u001b[1;33m(\u001b[0m\u001b[0mx\u001b[0m\u001b[1;33m)\u001b[0m \u001b[1;32mfor\u001b[0m \u001b[0mx\u001b[0m \u001b[1;32min\u001b[0m \u001b[0mtop_20_pos\u001b[0m\u001b[1;33m}\u001b[0m\u001b[1;33m\u001b[0m\u001b[1;33m\u001b[0m\u001b[0m\n\u001b[0m",
      "\u001b[1;32m<ipython-input-147-95a33c23f0ee>\u001b[0m in \u001b[0;36m<dictcomp>\u001b[1;34m(.0)\u001b[0m\n\u001b[1;32m----> 1\u001b[1;33m \u001b[0mabsolute_frequencies_dict\u001b[0m \u001b[1;33m=\u001b[0m \u001b[1;33m{\u001b[0m\u001b[0mtop_20_pos\u001b[0m\u001b[1;33m:\u001b[0m\u001b[0mtop_20_pos\u001b[0m\u001b[1;33m.\u001b[0m\u001b[0mcount\u001b[0m\u001b[1;33m(\u001b[0m\u001b[0mx\u001b[0m\u001b[1;33m)\u001b[0m \u001b[1;32mfor\u001b[0m \u001b[0mx\u001b[0m \u001b[1;32min\u001b[0m \u001b[0mtop_20_pos\u001b[0m\u001b[1;33m}\u001b[0m\u001b[1;33m\u001b[0m\u001b[1;33m\u001b[0m\u001b[0m\n\u001b[0m",
      "\u001b[1;31mAttributeError\u001b[0m: 'dict' object has no attribute 'count'"
     ]
    }
   ],
   "source": [
    "absolute_frequencies_dict = {top_20_pos:top_20_pos.count(x) for x in top_20_pos}"
   ]
  },
  {
   "cell_type": "code",
   "execution_count": 66,
   "metadata": {
    "execution": {
     "iopub.execute_input": "2021-04-10T22:21:26.137945Z",
     "iopub.status.busy": "2021-04-10T22:21:26.137601Z",
     "iopub.status.idle": "2021-04-10T22:21:26.149442Z",
     "shell.execute_reply": "2021-04-10T22:21:26.148701Z",
     "shell.execute_reply.started": "2021-04-10T22:21:26.137906Z"
    },
    "scrolled": true
   },
   "outputs": [],
   "source": [
    "pos_counter_hate = {}\n",
    "for x in all_pos_hate:\n",
    "    if x[1] in pos_counter_hate:\n",
    "        pos_counter_hate[x[1]] += 1\n",
    "    else:\n",
    "        pos_counter_hate[x[1]] = 1\n",
    "        \n",
    "top_20_pos_hate = {k: v for k, v in sorted(pos_counter_hate.items(), key=lambda item: item[1], reverse=True)[:20]}"
   ]
  },
  {
   "cell_type": "code",
   "execution_count": 67,
   "metadata": {
    "execution": {
     "iopub.execute_input": "2021-04-10T22:21:26.414061Z",
     "iopub.status.busy": "2021-04-10T22:21:26.413863Z",
     "iopub.status.idle": "2021-04-10T22:21:26.422580Z",
     "shell.execute_reply": "2021-04-10T22:21:26.421980Z",
     "shell.execute_reply.started": "2021-04-10T22:21:26.414040Z"
    }
   },
   "outputs": [
    {
     "data": {
      "text/html": [
       "<div>\n",
       "<style scoped>\n",
       "    .dataframe tbody tr th:only-of-type {\n",
       "        vertical-align: middle;\n",
       "    }\n",
       "\n",
       "    .dataframe tbody tr th {\n",
       "        vertical-align: top;\n",
       "    }\n",
       "\n",
       "    .dataframe thead th {\n",
       "        text-align: right;\n",
       "    }\n",
       "</style>\n",
       "<table border=\"1\" class=\"dataframe\">\n",
       "  <thead>\n",
       "    <tr style=\"text-align: right;\">\n",
       "      <th></th>\n",
       "      <th>index</th>\n",
       "      <th>Freq</th>\n",
       "    </tr>\n",
       "  </thead>\n",
       "  <tbody>\n",
       "    <tr>\n",
       "      <th>0</th>\n",
       "      <td>NOUN</td>\n",
       "      <td>4191</td>\n",
       "    </tr>\n",
       "    <tr>\n",
       "      <th>1</th>\n",
       "      <td>PROPN</td>\n",
       "      <td>3472</td>\n",
       "    </tr>\n",
       "    <tr>\n",
       "      <th>2</th>\n",
       "      <td>VERB</td>\n",
       "      <td>3083</td>\n",
       "    </tr>\n",
       "    <tr>\n",
       "      <th>3</th>\n",
       "      <td>ADJ</td>\n",
       "      <td>2276</td>\n",
       "    </tr>\n",
       "    <tr>\n",
       "      <th>4</th>\n",
       "      <td>ADV</td>\n",
       "      <td>891</td>\n",
       "    </tr>\n",
       "    <tr>\n",
       "      <th>5</th>\n",
       "      <td>SCONJ</td>\n",
       "      <td>175</td>\n",
       "    </tr>\n",
       "    <tr>\n",
       "      <th>6</th>\n",
       "      <td>PRON</td>\n",
       "      <td>157</td>\n",
       "    </tr>\n",
       "    <tr>\n",
       "      <th>7</th>\n",
       "      <td>NUM</td>\n",
       "      <td>149</td>\n",
       "    </tr>\n",
       "    <tr>\n",
       "      <th>8</th>\n",
       "      <td>INTJ</td>\n",
       "      <td>122</td>\n",
       "    </tr>\n",
       "    <tr>\n",
       "      <th>9</th>\n",
       "      <td>ADP</td>\n",
       "      <td>120</td>\n",
       "    </tr>\n",
       "    <tr>\n",
       "      <th>10</th>\n",
       "      <td>DET</td>\n",
       "      <td>86</td>\n",
       "    </tr>\n",
       "    <tr>\n",
       "      <th>11</th>\n",
       "      <td>CCONJ</td>\n",
       "      <td>81</td>\n",
       "    </tr>\n",
       "    <tr>\n",
       "      <th>12</th>\n",
       "      <td>AUX</td>\n",
       "      <td>75</td>\n",
       "    </tr>\n",
       "    <tr>\n",
       "      <th>13</th>\n",
       "      <td>PART</td>\n",
       "      <td>59</td>\n",
       "    </tr>\n",
       "    <tr>\n",
       "      <th>14</th>\n",
       "      <td>X</td>\n",
       "      <td>34</td>\n",
       "    </tr>\n",
       "    <tr>\n",
       "      <th>15</th>\n",
       "      <td>PUNCT</td>\n",
       "      <td>2</td>\n",
       "    </tr>\n",
       "    <tr>\n",
       "      <th>16</th>\n",
       "      <td>SYM</td>\n",
       "      <td>1</td>\n",
       "    </tr>\n",
       "  </tbody>\n",
       "</table>\n",
       "</div>"
      ],
      "text/plain": [
       "    index  Freq\n",
       "0    NOUN  4191\n",
       "1   PROPN  3472\n",
       "2    VERB  3083\n",
       "3     ADJ  2276\n",
       "4     ADV   891\n",
       "5   SCONJ   175\n",
       "6    PRON   157\n",
       "7     NUM   149\n",
       "8    INTJ   122\n",
       "9     ADP   120\n",
       "10    DET    86\n",
       "11  CCONJ    81\n",
       "12    AUX    75\n",
       "13   PART    59\n",
       "14      X    34\n",
       "15  PUNCT     2\n",
       "16    SYM     1"
      ]
     },
     "execution_count": 67,
     "metadata": {},
     "output_type": "execute_result"
    }
   ],
   "source": [
    "pd.DataFrame.from_dict(top_20_pos_hate, orient=\"index\", columns=[\"Freq\"]).reset_index()"
   ]
  },
  {
   "cell_type": "code",
   "execution_count": 68,
   "metadata": {},
   "outputs": [
    {
     "data": {
      "text/html": [
       "<div>\n",
       "<style scoped>\n",
       "    .dataframe tbody tr th:only-of-type {\n",
       "        vertical-align: middle;\n",
       "    }\n",
       "\n",
       "    .dataframe tbody tr th {\n",
       "        vertical-align: top;\n",
       "    }\n",
       "\n",
       "    .dataframe thead th {\n",
       "        text-align: right;\n",
       "    }\n",
       "</style>\n",
       "<table border=\"1\" class=\"dataframe\">\n",
       "  <thead>\n",
       "    <tr style=\"text-align: right;\">\n",
       "      <th></th>\n",
       "      <th>Total</th>\n",
       "      <th>Freq Total</th>\n",
       "      <th>Hate Speech</th>\n",
       "      <th>Freq Hate Speech</th>\n",
       "    </tr>\n",
       "  </thead>\n",
       "  <tbody>\n",
       "    <tr>\n",
       "      <th>0</th>\n",
       "      <td>NOUN</td>\n",
       "      <td>26153</td>\n",
       "      <td>NOUN</td>\n",
       "      <td>4191</td>\n",
       "    </tr>\n",
       "    <tr>\n",
       "      <th>1</th>\n",
       "      <td>PROPN</td>\n",
       "      <td>22194</td>\n",
       "      <td>PROPN</td>\n",
       "      <td>3472</td>\n",
       "    </tr>\n",
       "    <tr>\n",
       "      <th>2</th>\n",
       "      <td>VERB</td>\n",
       "      <td>18206</td>\n",
       "      <td>VERB</td>\n",
       "      <td>3083</td>\n",
       "    </tr>\n",
       "    <tr>\n",
       "      <th>3</th>\n",
       "      <td>ADJ</td>\n",
       "      <td>12077</td>\n",
       "      <td>ADJ</td>\n",
       "      <td>2276</td>\n",
       "    </tr>\n",
       "    <tr>\n",
       "      <th>4</th>\n",
       "      <td>ADV</td>\n",
       "      <td>5369</td>\n",
       "      <td>ADV</td>\n",
       "      <td>891</td>\n",
       "    </tr>\n",
       "  </tbody>\n",
       "</table>\n",
       "</div>"
      ],
      "text/plain": [
       "   Total  Freq Total Hate Speech  Freq Hate Speech\n",
       "0   NOUN       26153        NOUN              4191\n",
       "1  PROPN       22194       PROPN              3472\n",
       "2   VERB       18206        VERB              3083\n",
       "3    ADJ       12077         ADJ              2276\n",
       "4    ADV        5369         ADV               891"
      ]
     },
     "execution_count": 68,
     "metadata": {},
     "output_type": "execute_result"
    }
   ],
   "source": [
    "top_pos = {\"Total\": top_20_pos.keys(), \"Freq Total\": top_20_pos.values(), \"Hate Speech\": top_20_pos_hate.keys(), \"Freq Hate Speech\": top_20_pos_hate.values()}\n",
    "top_pos = pd.DataFrame(top_pos)\n",
    "top_pos.head()"
   ]
  },
  {
   "cell_type": "markdown",
   "metadata": {
    "collapsed": "true"
   },
   "source": [
    "#### Sentiment analysis"
   ]
  },
  {
   "cell_type": "code",
   "execution_count": 69,
   "metadata": {},
   "outputs": [],
   "source": [
    "# Sentiment Analysis by nltk VADER\n",
    "sia = vd.SentimentIntensityAnalyzer()\n",
    "data['sentiment_score'] = data['lemmatized'].apply(lambda x: sum([sia.polarity_scores(i)['compound'] for i in word_tokenize(x)]))"
   ]
  },
  {
   "cell_type": "code",
   "execution_count": 70,
   "metadata": {},
   "outputs": [
    {
     "data": {
      "text/plain": [
       "array([ 0.    ,  1.345 , -0.0613, ...,  0.7524, -0.1933, -0.2308])"
      ]
     },
     "execution_count": 70,
     "metadata": {},
     "output_type": "execute_result"
    }
   ],
   "source": [
    "data.sentiment_score.unique()"
   ]
  },
  {
   "cell_type": "code",
   "execution_count": 71,
   "metadata": {},
   "outputs": [
    {
     "name": "stdout",
     "output_type": "stream",
     "text": [
      "-0.11454004822119156\n"
     ]
    }
   ],
   "source": [
    "col1 = data['label']\n",
    "col2 = data['sentiment_score']\n",
    "correlation_df = col1.corr(col2)\n",
    "print(correlation_df)"
   ]
  },
  {
   "cell_type": "code",
   "execution_count": 72,
   "metadata": {},
   "outputs": [],
   "source": [
    "# RELATION BTW LABEL AND SENTIMETN_SCORE"
   ]
  },
  {
   "cell_type": "markdown",
   "metadata": {
    "collapsed": "true"
   },
   "source": [
    "# SPELLING"
   ]
  },
  {
   "cell_type": "code",
   "execution_count": 73,
   "metadata": {},
   "outputs": [
    {
     "name": "stderr",
     "output_type": "stream",
     "text": [
      "[nltk_data] Downloading package words to\n",
      "[nltk_data]     C:\\Users\\marti\\AppData\\Roaming\\nltk_data...\n",
      "[nltk_data]   Package words is already up-to-date!\n"
     ]
    },
    {
     "data": {
      "text/plain": [
       "True"
      ]
     },
     "execution_count": 73,
     "metadata": {},
     "output_type": "execute_result"
    }
   ],
   "source": [
    "import nltk\n",
    "nltk.download('words')"
   ]
  },
  {
   "cell_type": "code",
   "execution_count": 74,
   "metadata": {},
   "outputs": [],
   "source": [
    "def unusual_words(text):\n",
    "    text_vocab = set(w.lower() for w in text if w.isalpha())\n",
    "    english_vocab = set(w.lower() for w in nltk.corpus.words.words())\n",
    "    unusual = text_vocab.difference(english_vocab)\n",
    "    return sorted(unusual)"
   ]
  },
  {
   "cell_type": "code",
   "execution_count": 75,
   "metadata": {},
   "outputs": [
    {
     "name": "stdout",
     "output_type": "stream",
     "text": [
      "['africa', 'aragorn', 'asked', 'asking', 'asmodean', 'bb', 'braun', 'btl', 'bugsy', 'calman', 'camie', 'cf', 'cheaper', 'congrats', 'cripppinnn', 'czynski', 'dallas', 'downloads', 'dr', 'dublin', 'ebonics', 'edmonton', 'einherjer', 'embarassing', 'fbi', 'flanative', 'groupid', 'gyspsies', 'haha', 'hahahahahaha', 'heil', 'hups', 'hz', 'ii', 'iii', 'im', 'internet', 'iv', 'kaboom', 'kid', 'kidding', 'kr', 'lk', 'located', 'lol', 'meh', 'minnesota', 'mmm', 'motivated', 'mrbadgersir', 'msciwoj', 'muahaha', 'needed', 'neofolk', 'nigga', 'nordenwulf', 'okay', 'opendocument', 'opps', 'oz', 'patrioticmama', 'pawel', 'pffffft', 'pm', 'politifuldm', 'reproducing', 'rumour', 'ssupreme', 'stormfront', 'studying', 'sveiks', 'swva', 'tereasa', 'tf', 'threadid', 'tnb', 'topix', 'tv', 'twp', 'ty', 'usa', 'vancouver', 'wehrwolf', 'weku', 'whiteutopian', 'wierd', 'wiki', 'wp', 'wpww', 'wrs', 'wulfi', 'wv', 'youtube', 'yuenglings', 'yup', 'zdrowie', 'zoe']\n"
     ]
    }
   ],
   "source": [
    "crt = unusual_words(data['lemmatized'])\n",
    "print(crt)"
   ]
  },
  {
   "cell_type": "code",
   "execution_count": 76,
   "metadata": {
    "scrolled": true
   },
   "outputs": [
    {
     "data": {
      "text/plain": [
       "['africa',\n",
       " 'dragoon',\n",
       " 'asked',\n",
       " 'asking',\n",
       " 'asmodean',\n",
       " 'by',\n",
       " 'brain',\n",
       " 'bal',\n",
       " 'busy',\n",
       " 'cabman',\n",
       " 'came',\n",
       " 'cf',\n",
       " 'cheaper',\n",
       " 'congress',\n",
       " 'cripppinnn',\n",
       " 'czynski',\n",
       " 'dallas',\n",
       " 'download',\n",
       " 'dr',\n",
       " 'dublin',\n",
       " 'tonics',\n",
       " 'edmonton',\n",
       " 'einherjer',\n",
       " 'embarrassing',\n",
       " 'foi',\n",
       " 'flanative',\n",
       " 'grouped',\n",
       " 'gypsies',\n",
       " 'hata',\n",
       " 'hahahahahaha',\n",
       " 'heal',\n",
       " 'huts',\n",
       " 'he',\n",
       " 'ii',\n",
       " 'iii',\n",
       " 'in',\n",
       " 'internet',\n",
       " 'iv',\n",
       " 'boom',\n",
       " 'kid',\n",
       " 'bidding',\n",
       " 'or',\n",
       " 'll',\n",
       " 'located',\n",
       " 'll',\n",
       " 'me',\n",
       " 'minnesota',\n",
       " 'mmm',\n",
       " 'motivate',\n",
       " 'mrbadgersir',\n",
       " 'msciwoj',\n",
       " 'muahaha',\n",
       " 'needed',\n",
       " 'norfolk',\n",
       " 'night',\n",
       " 'nordenwulf',\n",
       " 'okay',\n",
       " 'opendocument',\n",
       " 'open',\n",
       " 'oz',\n",
       " 'patrioticmama',\n",
       " 'panel',\n",
       " 'pffffft',\n",
       " 'pm',\n",
       " 'politifuldm',\n",
       " 'reproducing',\n",
       " 'rumour',\n",
       " 'supreme',\n",
       " 'stormfront',\n",
       " 'studying',\n",
       " 'veins',\n",
       " 'saw',\n",
       " 'theresa',\n",
       " 'of',\n",
       " 'thread',\n",
       " 'tub',\n",
       " 'topic',\n",
       " 'to',\n",
       " 'two',\n",
       " 'ty',\n",
       " 'us',\n",
       " 'vancouver',\n",
       " 'wehrwolf',\n",
       " 'wetu',\n",
       " 'whiteutopian',\n",
       " 'wired',\n",
       " 'wiki',\n",
       " 'up',\n",
       " 'www',\n",
       " 'was',\n",
       " 'wolf',\n",
       " 'we',\n",
       " 'couture',\n",
       " 'yuenglings',\n",
       " 'up',\n",
       " 'zdrowie',\n",
       " 'toe']"
      ]
     },
     "execution_count": 76,
     "metadata": {},
     "output_type": "execute_result"
    }
   ],
   "source": [
    "corrected_w =[TextBlob(word).correct().words[0] for word in crt]\n",
    "corrected_w"
   ]
  },
  {
   "cell_type": "code",
   "execution_count": 77,
   "metadata": {},
   "outputs": [],
   "source": [
    "from autocorrect import Speller\n",
    "def autocorr(text):\n",
    "    crt = unusual_words(text)\n",
    "    for t in crt:\n",
    "        auto = Speller(lang='en')\n",
    "        corr = auto(t)\n",
    "        if t != corr:\n",
    "            print(t, corr)"
   ]
  },
  {
   "cell_type": "code",
   "execution_count": 78,
   "metadata": {
    "scrolled": true
   },
   "outputs": [
    {
     "name": "stdout",
     "output_type": "stream",
     "text": [
      "aragorn dragon\n",
      "btl bl\n",
      "bugsy bugs\n",
      "calman salman\n",
      "camie came\n",
      "congrats contrast\n",
      "embarassing embarrassing\n",
      "groupid grouped\n",
      "heil heir\n",
      "hups ups\n",
      "kaboom boom\n",
      "neofolk norfolk\n",
      "nigga nigra\n",
      "opps apps\n",
      "pawel panel\n",
      "pffffft ffffff\n",
      "ssupreme supreme\n",
      "stormfront storefront\n",
      "sveiks speaks\n",
      "swva swa\n",
      "tereasa teresa\n",
      "threadid threaded\n",
      "tnb nb\n",
      "topix topic\n",
      "wehrwolf werewolf\n",
      "weku wek\n",
      "wierd weird\n",
      "wpww www\n",
      "wulfi multi\n"
     ]
    }
   ],
   "source": [
    "autocorr(data['lemmatized']) ##"
   ]
  },
  {
   "cell_type": "code",
   "execution_count": null,
   "metadata": {},
   "outputs": [],
   "source": []
  },
  {
   "cell_type": "code",
   "execution_count": 79,
   "metadata": {},
   "outputs": [],
   "source": [
    "# sentiment polarity TEXTBLOB https://textblob.readthedocs.io/en/dev/quickstart.html"
   ]
  },
  {
   "cell_type": "code",
   "execution_count": null,
   "metadata": {},
   "outputs": [],
   "source": []
  },
  {
   "cell_type": "markdown",
   "metadata": {
    "collapsed": "true"
   },
   "source": [
    "# MODELS"
   ]
  },
  {
   "cell_type": "code",
   "execution_count": 80,
   "metadata": {},
   "outputs": [
    {
     "data": {
      "text/plain": [
       "(10926, 13170)"
      ]
     },
     "execution_count": 80,
     "metadata": {},
     "output_type": "execute_result"
    }
   ],
   "source": [
    "tfidf_vectorizer = TfidfVectorizer()\n",
    "X_class = tfidf_vectorizer.fit_transform(data['lemmatized'])\n",
    "y_class = data[\"label\"]\n",
    "X_class.shape"
   ]
  },
  {
   "cell_type": "code",
   "execution_count": 81,
   "metadata": {},
   "outputs": [],
   "source": [
    "from sklearn.model_selection import train_test_split\n",
    "X_train, X_test, y_train, y_test = train_test_split(X_class, y_class, test_size=0.3, random_state=42, stratify=y_class)"
   ]
  },
  {
   "cell_type": "code",
   "execution_count": 82,
   "metadata": {},
   "outputs": [],
   "source": [
    "from sklearn.metrics import f1_score, accuracy_score, precision_score, recall_score, classification_report, confusion_matrix\n",
    "from sklearn.naive_bayes import MultinomialNB\n",
    "from sklearn import tree\n",
    "from sklearn.tree import DecisionTreeRegressor\n",
    "from sklearn.neighbors import KNeighborsClassifier\n",
    "from sklearn.svm import SVC\n",
    "import sklearn as sk\n",
    "from sklearn.neural_network import MLPClassifier\n",
    "from sklearn.linear_model import LogisticRegression\n",
    "from sklearn.ensemble import RandomForestClassifier\n",
    "from sklearn import svm\n",
    "random_state = np.random.RandomState(0)"
   ]
  },
  {
   "cell_type": "code",
   "execution_count": 83,
   "metadata": {},
   "outputs": [],
   "source": [
    "# Multinomial Naive Bayes\n",
    "mnb = MultinomialNB(alpha=0.01)\n",
    "mnb.fit(X_train, y_train)\n",
    "y_mnb = mnb.predict(X_test)"
   ]
  },
  {
   "cell_type": "code",
   "execution_count": 84,
   "metadata": {},
   "outputs": [],
   "source": [
    "as_mnb = accuracy_score(y_test, y_mnb)\n",
    "f1s_mnb = f1_score(y_test, y_mnb, average= \"macro\")\n",
    "prec_mnb = precision_score(y_test, y_mnb)\n",
    "rec_mnb = recall_score(y_test, y_mnb, average='macro')"
   ]
  },
  {
   "cell_type": "code",
   "execution_count": 85,
   "metadata": {},
   "outputs": [
    {
     "name": "stdout",
     "output_type": "stream",
     "text": [
      "[[2693  157]\n",
      " [ 322  106]]\n",
      "              precision    recall  f1-score   support\n",
      "\n",
      "           0       0.89      0.94      0.92      2850\n",
      "           1       0.40      0.25      0.31       428\n",
      "\n",
      "    accuracy                           0.85      3278\n",
      "   macro avg       0.65      0.60      0.61      3278\n",
      "weighted avg       0.83      0.85      0.84      3278\n",
      "\n",
      "0.8538743136058572\n"
     ]
    }
   ],
   "source": [
    "print(confusion_matrix(y_test,y_mnb))\n",
    "print(classification_report(y_test,y_mnb))\n",
    "print(accuracy_score(y_test, y_mnb))"
   ]
  },
  {
   "cell_type": "code",
   "execution_count": 86,
   "metadata": {},
   "outputs": [
    {
     "name": "stdout",
     "output_type": "stream",
     "text": [
      "[LibSVM]"
     ]
    }
   ],
   "source": [
    "# Support Vector Machine\n",
    "svc = SVC(verbose=10)\n",
    "svc.fit(X_train, y_train)\n",
    "y_svc = svc.predict(X_test)"
   ]
  },
  {
   "cell_type": "code",
   "execution_count": 87,
   "metadata": {},
   "outputs": [],
   "source": [
    "as_svc = accuracy_score(y_test, y_svc)\n",
    "f1s_svc = f1_score(y_test, y_svc, average=\"macro\")\n",
    "prec_svc = precision_score(y_test, y_svc)\n",
    "rec_svc = recall_score(y_test, y_svc, average='macro')"
   ]
  },
  {
   "cell_type": "code",
   "execution_count": 88,
   "metadata": {},
   "outputs": [
    {
     "name": "stdout",
     "output_type": "stream",
     "text": [
      "[[2847    3]\n",
      " [ 407   21]]\n",
      "              precision    recall  f1-score   support\n",
      "\n",
      "           0       0.87      1.00      0.93      2850\n",
      "           1       0.88      0.05      0.09       428\n",
      "\n",
      "    accuracy                           0.87      3278\n",
      "   macro avg       0.87      0.52      0.51      3278\n",
      "weighted avg       0.87      0.87      0.82      3278\n",
      "\n",
      "0.8749237339841367\n"
     ]
    }
   ],
   "source": [
    "print(confusion_matrix(y_test,y_svc))\n",
    "print(classification_report(y_test,y_svc))\n",
    "print(accuracy_score(y_test, y_svc))"
   ]
  },
  {
   "cell_type": "code",
   "execution_count": 89,
   "metadata": {},
   "outputs": [],
   "source": [
    "# Logistic\n",
    "log_fit = LogisticRegression(random_state=42).fit(X_train, y_train)\n",
    "y_log = log_fit.predict(X_test)"
   ]
  },
  {
   "cell_type": "code",
   "execution_count": 90,
   "metadata": {},
   "outputs": [],
   "source": [
    "as_log = accuracy_score(y_test, y_log)\n",
    "f1s_log = f1_score(y_test, y_log, average= \"macro\")\n",
    "prec_log = precision_score(y_test, y_log)\n",
    "rec_log = recall_score(y_test, y_log, average='macro')"
   ]
  },
  {
   "cell_type": "code",
   "execution_count": 91,
   "metadata": {},
   "outputs": [],
   "source": [
    "# Random Forest\n",
    "rf = RandomForestClassifier(n_estimators=10, random_state=42)\n",
    "rf.fit(X_train, y_train) \n",
    "y_rf = rf.predict(X_test)"
   ]
  },
  {
   "cell_type": "code",
   "execution_count": 92,
   "metadata": {},
   "outputs": [],
   "source": [
    "as_rf = accuracy_score(y_test, y_rf)\n",
    "f1s_rf = f1_score(y_test, y_rf, average= \"macro\")\n",
    "prec_rf = precision_score(y_test, y_rf)\n",
    "rec_rf = recall_score(y_test, y_rf, average='macro')"
   ]
  },
  {
   "cell_type": "code",
   "execution_count": 93,
   "metadata": {},
   "outputs": [
    {
     "name": "stdout",
     "output_type": "stream",
     "text": [
      "[[2815   35]\n",
      " [ 380   48]]\n",
      "              precision    recall  f1-score   support\n",
      "\n",
      "           0       0.88      0.99      0.93      2850\n",
      "           1       0.58      0.11      0.19       428\n",
      "\n",
      "    accuracy                           0.87      3278\n",
      "   macro avg       0.73      0.55      0.56      3278\n",
      "weighted avg       0.84      0.87      0.83      3278\n",
      "\n",
      "0.87339841366687\n"
     ]
    }
   ],
   "source": [
    "print(confusion_matrix(y_test,y_rf))\n",
    "print(classification_report(y_test,y_rf))\n",
    "print(accuracy_score(y_test, y_rf))"
   ]
  },
  {
   "cell_type": "code",
   "execution_count": 94,
   "metadata": {},
   "outputs": [
    {
     "name": "stderr",
     "output_type": "stream",
     "text": [
      "C:\\Users\\marti\\anaconda3\\lib\\site-packages\\sklearn\\neural_network\\_multilayer_perceptron.py:582: ConvergenceWarning: Stochastic Optimizer: Maximum iterations (10) reached and the optimization hasn't converged yet.\n",
      "  warnings.warn(\n"
     ]
    }
   ],
   "source": [
    "# Neural Networks\n",
    "NN = MLPClassifier(random_state=42, max_iter=10)\n",
    "NN.fit(X_train, y_train)\n",
    "#NN.score(X_test, y_test)\n",
    "y_NN = NN.predict(X_test)"
   ]
  },
  {
   "cell_type": "code",
   "execution_count": 95,
   "metadata": {},
   "outputs": [],
   "source": [
    "as_NN = accuracy_score(y_test, y_NN)\n",
    "f1s_NN = f1_score(y_test, y_NN, average= \"macro\")\n",
    "prec_NN = precision_score(y_test, y_NN)\n",
    "rec_NN = recall_score(y_test, y_NN, average='macro')"
   ]
  },
  {
   "cell_type": "code",
   "execution_count": 96,
   "metadata": {},
   "outputs": [
    {
     "name": "stdout",
     "output_type": "stream",
     "text": [
      "[[2737  113]\n",
      " [ 311  117]]\n",
      "              precision    recall  f1-score   support\n",
      "\n",
      "           0       0.90      0.96      0.93      2850\n",
      "           1       0.51      0.27      0.36       428\n",
      "\n",
      "    accuracy                           0.87      3278\n",
      "   macro avg       0.70      0.62      0.64      3278\n",
      "weighted avg       0.85      0.87      0.85      3278\n",
      "\n",
      "0.8706528370957901\n"
     ]
    }
   ],
   "source": [
    "print(confusion_matrix(y_test,y_NN))\n",
    "print(classification_report(y_test,y_NN))\n",
    "print(accuracy_score(y_test, y_NN))"
   ]
  },
  {
   "cell_type": "code",
   "execution_count": 97,
   "metadata": {},
   "outputs": [],
   "source": [
    "# Decision Tree\n",
    "from sklearn.tree import DecisionTreeClassifier\n",
    "tree = DecisionTreeClassifier()\n",
    "tree.fit(X_train, y_train)\n",
    "y_tree = tree.predict(X_test)"
   ]
  },
  {
   "cell_type": "code",
   "execution_count": 98,
   "metadata": {},
   "outputs": [],
   "source": [
    "as_tree = accuracy_score(y_test, y_tree)\n",
    "f1s_tree = f1_score(y_test, y_tree, average= \"macro\")\n",
    "prec_tree = precision_score(y_test, y_tree)\n",
    "rec_tree = recall_score(y_test, y_tree, average='macro')"
   ]
  },
  {
   "cell_type": "code",
   "execution_count": 99,
   "metadata": {},
   "outputs": [
    {
     "name": "stdout",
     "output_type": "stream",
     "text": [
      "[[2623  227]\n",
      " [ 282  146]]\n",
      "              precision    recall  f1-score   support\n",
      "\n",
      "           0       0.90      0.92      0.91      2850\n",
      "           1       0.39      0.34      0.36       428\n",
      "\n",
      "    accuracy                           0.84      3278\n",
      "   macro avg       0.65      0.63      0.64      3278\n",
      "weighted avg       0.84      0.84      0.84      3278\n",
      "\n",
      "0.8447223917022575\n"
     ]
    }
   ],
   "source": [
    "print(confusion_matrix(y_test,y_tree))\n",
    "print(classification_report(y_test,y_tree))\n",
    "print(accuracy_score(y_test, y_tree))"
   ]
  },
  {
   "cell_type": "code",
   "execution_count": 100,
   "metadata": {},
   "outputs": [],
   "source": [
    "# K-Nearest Neighbors\n",
    "knn = KNeighborsClassifier()\n",
    "knn.fit(X_train, y_train)\n",
    "y_knn = knn.predict(X_test)"
   ]
  },
  {
   "cell_type": "code",
   "execution_count": 101,
   "metadata": {},
   "outputs": [],
   "source": [
    "as_knn = accuracy_score(y_test, y_knn)\n",
    "f1s_knn = f1_score(y_test, y_knn, average= \"macro\")\n",
    "prec_knn = precision_score(y_test, y_knn)\n",
    "rec_knn = recall_score(y_test, y_knn, average='macro')"
   ]
  },
  {
   "cell_type": "code",
   "execution_count": 102,
   "metadata": {},
   "outputs": [
    {
     "name": "stdout",
     "output_type": "stream",
     "text": [
      "[[2850    0]\n",
      " [ 420    8]]\n",
      "              precision    recall  f1-score   support\n",
      "\n",
      "           0       0.87      1.00      0.93      2850\n",
      "           1       1.00      0.02      0.04       428\n",
      "\n",
      "    accuracy                           0.87      3278\n",
      "   macro avg       0.94      0.51      0.48      3278\n",
      "weighted avg       0.89      0.87      0.81      3278\n",
      "\n",
      "0.8718730933496034\n"
     ]
    }
   ],
   "source": [
    "print(confusion_matrix(y_test,y_knn))\n",
    "print(classification_report(y_test,y_knn))\n",
    "print(accuracy_score(y_test, y_knn))"
   ]
  },
  {
   "cell_type": "code",
   "execution_count": 103,
   "metadata": {},
   "outputs": [
    {
     "data": {
      "text/html": [
       "<style  type=\"text/css\" >\n",
       "#T_c849aff4_9c39_11eb_8086_dd5ff9df9a67row2_col0,#T_c849aff4_9c39_11eb_8086_dd5ff9df9a67row4_col3,#T_c849aff4_9c39_11eb_8086_dd5ff9df9a67row5_col2,#T_c849aff4_9c39_11eb_8086_dd5ff9df9a67row6_col1{\n",
       "            background-color:  lightgreen;\n",
       "        }#T_c849aff4_9c39_11eb_8086_dd5ff9df9a67row5_col0,#T_c849aff4_9c39_11eb_8086_dd5ff9df9a67row5_col1,#T_c849aff4_9c39_11eb_8086_dd5ff9df9a67row6_col2,#T_c849aff4_9c39_11eb_8086_dd5ff9df9a67row6_col3{\n",
       "            background-color:  tomato;\n",
       "        }</style><table id=\"T_c849aff4_9c39_11eb_8086_dd5ff9df9a67\" ><thead>    <tr>        <th class=\"blank level0\" ></th>        <th class=\"col_heading level0 col0\" >Accuracy Score</th>        <th class=\"col_heading level0 col1\" >Precision Score</th>        <th class=\"col_heading level0 col2\" >Recall Score</th>        <th class=\"col_heading level0 col3\" >F1 Score</th>    </tr></thead><tbody>\n",
       "                <tr>\n",
       "                        <th id=\"T_c849aff4_9c39_11eb_8086_dd5ff9df9a67level0_row0\" class=\"row_heading level0 row0\" >Multinomial Naive Bayes</th>\n",
       "                        <td id=\"T_c849aff4_9c39_11eb_8086_dd5ff9df9a67row0_col0\" class=\"data row0 col0\" >0.853874</td>\n",
       "                        <td id=\"T_c849aff4_9c39_11eb_8086_dd5ff9df9a67row0_col1\" class=\"data row0 col1\" >0.403042</td>\n",
       "                        <td id=\"T_c849aff4_9c39_11eb_8086_dd5ff9df9a67row0_col2\" class=\"data row0 col2\" >0.596288</td>\n",
       "                        <td id=\"T_c849aff4_9c39_11eb_8086_dd5ff9df9a67row0_col3\" class=\"data row0 col3\" >0.612565</td>\n",
       "            </tr>\n",
       "            <tr>\n",
       "                        <th id=\"T_c849aff4_9c39_11eb_8086_dd5ff9df9a67level0_row1\" class=\"row_heading level0 row1\" >Support Vector Machine</th>\n",
       "                        <td id=\"T_c849aff4_9c39_11eb_8086_dd5ff9df9a67row1_col0\" class=\"data row1 col0\" >0.874924</td>\n",
       "                        <td id=\"T_c849aff4_9c39_11eb_8086_dd5ff9df9a67row1_col1\" class=\"data row1 col1\" >0.875000</td>\n",
       "                        <td id=\"T_c849aff4_9c39_11eb_8086_dd5ff9df9a67row1_col2\" class=\"data row1 col2\" >0.524006</td>\n",
       "                        <td id=\"T_c849aff4_9c39_11eb_8086_dd5ff9df9a67row1_col3\" class=\"data row1 col3\" >0.512876</td>\n",
       "            </tr>\n",
       "            <tr>\n",
       "                        <th id=\"T_c849aff4_9c39_11eb_8086_dd5ff9df9a67level0_row2\" class=\"row_heading level0 row2\" >Logistic Regression</th>\n",
       "                        <td id=\"T_c849aff4_9c39_11eb_8086_dd5ff9df9a67row2_col0\" class=\"data row2 col0\" >0.875229</td>\n",
       "                        <td id=\"T_c849aff4_9c39_11eb_8086_dd5ff9df9a67row2_col1\" class=\"data row2 col1\" >0.743590</td>\n",
       "                        <td id=\"T_c849aff4_9c39_11eb_8086_dd5ff9df9a67row2_col2\" class=\"data row2 col2\" >0.532124</td>\n",
       "                        <td id=\"T_c849aff4_9c39_11eb_8086_dd5ff9df9a67row2_col3\" class=\"data row2 col3\" >0.528513</td>\n",
       "            </tr>\n",
       "            <tr>\n",
       "                        <th id=\"T_c849aff4_9c39_11eb_8086_dd5ff9df9a67level0_row3\" class=\"row_heading level0 row3\" >Random Forest</th>\n",
       "                        <td id=\"T_c849aff4_9c39_11eb_8086_dd5ff9df9a67row3_col0\" class=\"data row3 col0\" >0.873398</td>\n",
       "                        <td id=\"T_c849aff4_9c39_11eb_8086_dd5ff9df9a67row3_col1\" class=\"data row3 col1\" >0.578313</td>\n",
       "                        <td id=\"T_c849aff4_9c39_11eb_8086_dd5ff9df9a67row3_col2\" class=\"data row3 col2\" >0.549934</td>\n",
       "                        <td id=\"T_c849aff4_9c39_11eb_8086_dd5ff9df9a67row3_col3\" class=\"data row3 col3\" >0.559608</td>\n",
       "            </tr>\n",
       "            <tr>\n",
       "                        <th id=\"T_c849aff4_9c39_11eb_8086_dd5ff9df9a67level0_row4\" class=\"row_heading level0 row4\" >Neural Networks</th>\n",
       "                        <td id=\"T_c849aff4_9c39_11eb_8086_dd5ff9df9a67row4_col0\" class=\"data row4 col0\" >0.870653</td>\n",
       "                        <td id=\"T_c849aff4_9c39_11eb_8086_dd5ff9df9a67row4_col1\" class=\"data row4 col1\" >0.508696</td>\n",
       "                        <td id=\"T_c849aff4_9c39_11eb_8086_dd5ff9df9a67row4_col2\" class=\"data row4 col2\" >0.616858</td>\n",
       "                        <td id=\"T_c849aff4_9c39_11eb_8086_dd5ff9df9a67row4_col3\" class=\"data row4 col3\" >0.641867</td>\n",
       "            </tr>\n",
       "            <tr>\n",
       "                        <th id=\"T_c849aff4_9c39_11eb_8086_dd5ff9df9a67level0_row5\" class=\"row_heading level0 row5\" >Decision Tree</th>\n",
       "                        <td id=\"T_c849aff4_9c39_11eb_8086_dd5ff9df9a67row5_col0\" class=\"data row5 col0\" >0.844722</td>\n",
       "                        <td id=\"T_c849aff4_9c39_11eb_8086_dd5ff9df9a67row5_col1\" class=\"data row5 col1\" >0.391421</td>\n",
       "                        <td id=\"T_c849aff4_9c39_11eb_8086_dd5ff9df9a67row5_col2\" class=\"data row5 col2\" >0.630736</td>\n",
       "                        <td id=\"T_c849aff4_9c39_11eb_8086_dd5ff9df9a67row5_col3\" class=\"data row5 col3\" >0.638050</td>\n",
       "            </tr>\n",
       "            <tr>\n",
       "                        <th id=\"T_c849aff4_9c39_11eb_8086_dd5ff9df9a67level0_row6\" class=\"row_heading level0 row6\" >K-Nearest Neighbors</th>\n",
       "                        <td id=\"T_c849aff4_9c39_11eb_8086_dd5ff9df9a67row6_col0\" class=\"data row6 col0\" >0.871873</td>\n",
       "                        <td id=\"T_c849aff4_9c39_11eb_8086_dd5ff9df9a67row6_col1\" class=\"data row6 col1\" >1.000000</td>\n",
       "                        <td id=\"T_c849aff4_9c39_11eb_8086_dd5ff9df9a67row6_col2\" class=\"data row6 col2\" >0.509346</td>\n",
       "                        <td id=\"T_c849aff4_9c39_11eb_8086_dd5ff9df9a67row6_col3\" class=\"data row6 col3\" >0.484035</td>\n",
       "            </tr>\n",
       "    </tbody></table>"
      ],
      "text/plain": [
       "<pandas.io.formats.style.Styler at 0x1c81b532460>"
      ]
     },
     "execution_count": 103,
     "metadata": {},
     "output_type": "execute_result"
    }
   ],
   "source": [
    "s1 = pd.Series([as_mnb, as_svc, as_log, as_rf, as_NN, as_tree, as_knn], index=['Multinomial Naive Bayes', 'Support Vector Machine', 'Logistic Regression', 'Random Forest', 'Neural Networks', 'Decision Tree', 'K-Nearest Neighbors'])\n",
    "s2 = pd.Series([f1s_mnb, f1s_svc, f1s_log, f1s_rf, f1s_NN, f1s_tree, f1s_knn], index=['Multinomial Naive Bayes', 'Support Vector Machine', 'Logistic Regression','Random Forest', 'Neural Networks', 'Decision Tree', 'K-Nearest Neighbors'])\n",
    "s3 = pd.Series([prec_mnb, prec_svc, prec_log, prec_rf, prec_NN, prec_tree, prec_knn], index=['Multinomial Naive Bayes', 'Support Vector Machine', 'Logistic Regression', 'Random Forest', 'Neural Networks', 'Decision Tree', 'K-Nearest Neighbors'])\n",
    "s4 = pd.Series([rec_mnb, rec_svc, rec_log, rec_rf, rec_NN, rec_tree, rec_knn], index=['Multinomial Naive Bayes', 'Support Vector Machine', 'Logistic Regression', 'Random Forest', 'Neural Networks', 'Decision Tree', 'K-Nearest Neighbors'])\n",
    "d = {'Accuracy Score' : s1, 'Precision Score': s3, 'Recall Score' : s4, 'F1 Score' : s2 }\n",
    "dfm = pd.DataFrame(d)\n",
    "dfm.style.highlight_max(color = 'lightgreen', axis = 0).highlight_min(color = 'tomato', axis = 0)"
   ]
  },
  {
   "cell_type": "code",
   "execution_count": 104,
   "metadata": {},
   "outputs": [
    {
     "data": {
      "text/plain": [
       "Text(0.5, 1.0, '2-class Precision-Recall curve: AP=0.88')"
      ]
     },
     "execution_count": 104,
     "metadata": {},
     "output_type": "execute_result"
    },
    {
     "data": {
      "image/png": "[encoded data removed]",
      "text/plain": [
       "<Figure size 432x288 with 1 Axes>"
      ]
     },
     "metadata": {
      "needs_background": "light"
     },
     "output_type": "display_data"
    }
   ],
   "source": [
    "from sklearn.metrics import precision_recall_curve\n",
    "from sklearn.metrics import plot_precision_recall_curve\n",
    "import matplotlib.pyplot as plt\n",
    "\n",
    "classifier = svm.LinearSVC(random_state=random_state)\n",
    "classifier.fit(X_train, y_train)\n",
    "\n",
    "disp = plot_precision_recall_curve(classifier, X_test, y_test)\n",
    "disp.ax_.set_title('2-class Precision-Recall curve: '\n",
    "                   'AP={0:0.2f}'.format(prec_svc))"
   ]
  },
  {
   "cell_type": "code",
   "execution_count": null,
   "metadata": {},
   "outputs": [],
   "source": [
    "## ONLY"
   ]
  },
  {
   "cell_type": "code",
   "execution_count": null,
   "metadata": {},
   "outputs": [],
   "source": []
  },
  {
   "cell_type": "code",
   "execution_count": null,
   "metadata": {},
   "outputs": [],
   "source": []
  }
 ],
 "metadata": {
  "kernelspec": {
   "display_name": "Python 3",
   "language": "python",
   "name": "python3"
  },
  "language_info": {
   "codemirror_mode": {
    "name": "ipython",
    "version": 3
   },
   "file_extension": ".py",
   "mimetype": "text/x-python",
   "name": "python",
   "nbconvert_exporter": "python",
   "pygments_lexer": "ipython3",
   "version": "3.8.5"
  }
 },
 "nbformat": 4,
 "nbformat_minor": 4
}
