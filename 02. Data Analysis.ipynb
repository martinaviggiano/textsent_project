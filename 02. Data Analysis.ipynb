{
 "cells": [
  {
   "cell_type": "markdown",
   "metadata": {},
   "source": [
    "# DATA ANALYSIS"
   ]
  },
  {
   "cell_type": "code",
   "execution_count": 1,
   "metadata": {},
   "outputs": [],
   "source": [
    "import matplotlib.pyplot as plt\n",
    "import pandas as pd\n",
    "import numpy as np\n",
    "import pickle\n",
    "from wordcloud import WordCloud\n",
    "from sklearn.feature_extraction.text import CountVectorizer, TfidfVectorizer\n",
    "import nltk.sentiment.vader as vd\n",
    "from nltk.tokenize import word_tokenize\n",
    "from PIL import Image\n",
    "from os import path, getcwd"
   ]
  },
  {
   "cell_type": "code",
   "execution_count": 2,
   "metadata": {},
   "outputs": [],
   "source": [
    "with open(\"serialized/data.pkl\", \"rb\") as f:\n",
    "    data = pickle.load(f)"
   ]
  },
  {
   "cell_type": "markdown",
   "metadata": {},
   "source": [
    "## 1. Frequencies"
   ]
  },
  {
   "cell_type": "code",
   "execution_count": 3,
   "metadata": {},
   "outputs": [
    {
     "data": {
      "image/png": "[encoded data removed]",
      "text/plain": [
       "<Figure size 360x360 with 1 Axes>"
      ]
     },
     "metadata": {
      "needs_background": "light"
     },
     "output_type": "display_data"
    }
   ],
   "source": [
    "fig, ax = plt.subplots(figsize=(5,5))\n",
    "labels = data[\"label\"].value_counts().values\n",
    "rects1 = ax.bar(\"0\", data[\"label\"].value_counts().values[0], color=['lightblue'], label='Not hate')\n",
    "rects2 = ax.bar(\"1\", data[\"label\"].value_counts().values[1], color=[ 'royalblue'], label='Hate')\n",
    "rects = ax.patches\n",
    "ax.legend()\n",
    "#ax.tick_params(axis='both', colors='grey')\n",
    "for rect, label in zip(rects, labels):\n",
    "    height = rect.get_height()\n",
    "    ax.text(rect.get_x() + rect.get_width() / 2, height + 5, label,\n",
    "            ha='center', va='bottom')#.set_color(\"grey\")\n",
    "plt.title('Frequency per Label', fontsize = 13)#.set_color(\"grey\")\n",
    "fig.savefig(\"images_d\\Freq_labels.png\")"
   ]
  },
  {
   "cell_type": "code",
   "execution_count": 4,
   "metadata": {},
   "outputs": [
    {
     "data": {
      "image/png": "[encoded data removed]",
      "text/plain": [
       "<Figure size 576x360 with 2 Axes>"
      ]
     },
     "metadata": {
      "needs_background": "light"
     },
     "output_type": "display_data"
    }
   ],
   "source": [
    "fig = plt.figure()\n",
    "ax = plt.subplot(1,2,1)\n",
    "#plt.figure(figsize=(10,5))\n",
    "plt.hist(data.word_count_before.values, bins = range(0, 50))\n",
    "plt.title('Words per sentence before cleaning')#.set_color(\"grey\")\n",
    "plt.xlabel(\"Number of words\")#.set_color(\"grey\")\n",
    "plt.ylabel(\"Number of sentences\")#.set_color(\"grey\")\n",
    "#ax.tick_params(axis='both', colors='grey')\n",
    "plt.grid(True)\n",
    "\n",
    "ax = plt.subplot(1,2,2)\n",
    "plt.hist(data.word_count.values, bins = range(0, 50))\n",
    "plt.title('Words per sentence after cleaning')#.set_color(\"grey\")\n",
    "plt.xlabel(\"Number of words\")#.set_color(\"grey\")\n",
    "plt.ylabel(\"Number of sentences\") #.set_color(\"grey\")\n",
    "#ax.tick_params(axis='both', colors='grey')\n",
    "plt.grid(True)\n",
    "\n",
    "plt.tight_layout(w_pad=3.5, h_pad=1.0)\n",
    "fig.set_figheight(5)\n",
    "fig.set_figwidth(8)\n",
    "fig.savefig(\"images_d\\Words_before_after.png\")\n",
    "plt.show()"
   ]
  },
  {
   "cell_type": "markdown",
   "metadata": {},
   "source": [
    "## 2. Top words"
   ]
  },
  {
   "cell_type": "code",
   "execution_count": 5,
   "metadata": {},
   "outputs": [],
   "source": [
    "def get_top_n_words(corpus, n=None):\n",
    "    vec = CountVectorizer().fit(corpus)\n",
    "    bag_of_words = vec.transform(corpus)\n",
    "    sum_words = bag_of_words.sum(axis=0) \n",
    "    words_freq = [(word, sum_words[0, idx]) for word, idx in vec.vocabulary_.items()]\n",
    "    words_freq = sorted(words_freq, key = lambda x: x[1], reverse=True)\n",
    "    return words_freq[:n]"
   ]
  },
  {
   "cell_type": "code",
   "execution_count": 6,
   "metadata": {},
   "outputs": [],
   "source": [
    "common_words = get_top_n_words(data['lemmatized'], 50)\n",
    "cmw = {word: freq for word, freq in common_words}"
   ]
  },
  {
   "cell_type": "code",
   "execution_count": 7,
   "metadata": {},
   "outputs": [
    {
     "data": {
      "text/html": [
       "<div>\n",
       "<style scoped>\n",
       "    .dataframe tbody tr th:only-of-type {\n",
       "        vertical-align: middle;\n",
       "    }\n",
       "\n",
       "    .dataframe tbody tr th {\n",
       "        vertical-align: top;\n",
       "    }\n",
       "\n",
       "    .dataframe thead th {\n",
       "        text-align: right;\n",
       "    }\n",
       "</style>\n",
       "<table border=\"1\" class=\"dataframe\">\n",
       "  <thead>\n",
       "    <tr style=\"text-align: right;\">\n",
       "      <th></th>\n",
       "      <th>words</th>\n",
       "      <th>freq</th>\n",
       "    </tr>\n",
       "  </thead>\n",
       "  <tbody>\n",
       "    <tr>\n",
       "      <th>0</th>\n",
       "      <td>pron</td>\n",
       "      <td>12032</td>\n",
       "    </tr>\n",
       "    <tr>\n",
       "      <th>1</th>\n",
       "      <td>be</td>\n",
       "      <td>6976</td>\n",
       "    </tr>\n",
       "    <tr>\n",
       "      <th>2</th>\n",
       "      <td>the</td>\n",
       "      <td>6650</td>\n",
       "    </tr>\n",
       "    <tr>\n",
       "      <th>3</th>\n",
       "      <td>to</td>\n",
       "      <td>4678</td>\n",
       "    </tr>\n",
       "    <tr>\n",
       "      <th>4</th>\n",
       "      <td>and</td>\n",
       "      <td>4258</td>\n",
       "    </tr>\n",
       "    <tr>\n",
       "      <th>5</th>\n",
       "      <td>of</td>\n",
       "      <td>3416</td>\n",
       "    </tr>\n",
       "    <tr>\n",
       "      <th>6</th>\n",
       "      <td>in</td>\n",
       "      <td>2807</td>\n",
       "    </tr>\n",
       "    <tr>\n",
       "      <th>7</th>\n",
       "      <td>have</td>\n",
       "      <td>2346</td>\n",
       "    </tr>\n",
       "    <tr>\n",
       "      <th>8</th>\n",
       "      <td>that</td>\n",
       "      <td>1941</td>\n",
       "    </tr>\n",
       "    <tr>\n",
       "      <th>9</th>\n",
       "      <td>not</td>\n",
       "      <td>1844</td>\n",
       "    </tr>\n",
       "    <tr>\n",
       "      <th>10</th>\n",
       "      <td>for</td>\n",
       "      <td>1652</td>\n",
       "    </tr>\n",
       "    <tr>\n",
       "      <th>11</th>\n",
       "      <td>white</td>\n",
       "      <td>1440</td>\n",
       "    </tr>\n",
       "    <tr>\n",
       "      <th>12</th>\n",
       "      <td>on</td>\n",
       "      <td>1428</td>\n",
       "    </tr>\n",
       "    <tr>\n",
       "      <th>13</th>\n",
       "      <td>do</td>\n",
       "      <td>1385</td>\n",
       "    </tr>\n",
       "    <tr>\n",
       "      <th>14</th>\n",
       "      <td>this</td>\n",
       "      <td>1305</td>\n",
       "    </tr>\n",
       "    <tr>\n",
       "      <th>15</th>\n",
       "      <td>with</td>\n",
       "      <td>1033</td>\n",
       "    </tr>\n",
       "    <tr>\n",
       "      <th>16</th>\n",
       "      <td>all</td>\n",
       "      <td>868</td>\n",
       "    </tr>\n",
       "    <tr>\n",
       "      <th>17</th>\n",
       "      <td>but</td>\n",
       "      <td>839</td>\n",
       "    </tr>\n",
       "    <tr>\n",
       "      <th>18</th>\n",
       "      <td>as</td>\n",
       "      <td>823</td>\n",
       "    </tr>\n",
       "    <tr>\n",
       "      <th>19</th>\n",
       "      <td>will</td>\n",
       "      <td>813</td>\n",
       "    </tr>\n",
       "  </tbody>\n",
       "</table>\n",
       "</div>"
      ],
      "text/plain": [
       "    words   freq\n",
       "0    pron  12032\n",
       "1      be   6976\n",
       "2     the   6650\n",
       "3      to   4678\n",
       "4     and   4258\n",
       "5      of   3416\n",
       "6      in   2807\n",
       "7    have   2346\n",
       "8    that   1941\n",
       "9     not   1844\n",
       "10    for   1652\n",
       "11  white   1440\n",
       "12     on   1428\n",
       "13     do   1385\n",
       "14   this   1305\n",
       "15   with   1033\n",
       "16    all    868\n",
       "17    but    839\n",
       "18     as    823\n",
       "19   will    813"
      ]
     },
     "execution_count": 7,
     "metadata": {},
     "output_type": "execute_result"
    }
   ],
   "source": [
    "mcw = pd.DataFrame.from_dict(cmw, orient='index').reset_index()\n",
    "mcw.columns = [\"words\", \"freq\"]\n",
    "mcw[:20]"
   ]
  },
  {
   "cell_type": "code",
   "execution_count": 8,
   "metadata": {},
   "outputs": [
    {
     "data": {
      "text/html": [
       "<div>\n",
       "<style scoped>\n",
       "    .dataframe tbody tr th:only-of-type {\n",
       "        vertical-align: middle;\n",
       "    }\n",
       "\n",
       "    .dataframe tbody tr th {\n",
       "        vertical-align: top;\n",
       "    }\n",
       "\n",
       "    .dataframe thead th {\n",
       "        text-align: right;\n",
       "    }\n",
       "</style>\n",
       "<table border=\"1\" class=\"dataframe\">\n",
       "  <thead>\n",
       "    <tr style=\"text-align: right;\">\n",
       "      <th></th>\n",
       "      <th>label</th>\n",
       "      <th>text</th>\n",
       "      <th>text_clean</th>\n",
       "      <th>POS_spacy</th>\n",
       "      <th>lemmatized</th>\n",
       "      <th>tokens</th>\n",
       "      <th>language</th>\n",
       "      <th>word_count_before</th>\n",
       "      <th>word_count</th>\n",
       "      <th>word_cleaning</th>\n",
       "      <th>...</th>\n",
       "      <th>ADJ</th>\n",
       "      <th>ADJ_count</th>\n",
       "      <th>ADV</th>\n",
       "      <th>ADV_count</th>\n",
       "      <th>PRON</th>\n",
       "      <th>PRON_count</th>\n",
       "      <th>SCONJ</th>\n",
       "      <th>SCONJ_count</th>\n",
       "      <th>INTJ</th>\n",
       "      <th>INTJ_count</th>\n",
       "    </tr>\n",
       "  </thead>\n",
       "  <tbody>\n",
       "    <tr>\n",
       "      <th>1017</th>\n",
       "      <td>0</td>\n",
       "      <td>ingratiate Main Entry : in Â· gra Â· ti Â· ate...</td>\n",
       "      <td>ingratiate main entry in gra ti ate pronunciat...</td>\n",
       "      <td>[(ingratiate, VERB), (main, ADJ), (entry, NOUN...</td>\n",
       "      <td>ingratiate main entry in gra ti eat pronunciat...</td>\n",
       "      <td>[ingratiate, main, entry, in, gra, ti, ate, pr...</td>\n",
       "      <td>en</td>\n",
       "      <td>116</td>\n",
       "      <td>63</td>\n",
       "      <td>53</td>\n",
       "      <td>...</td>\n",
       "      <td>main transitive latin favorable deliberate</td>\n",
       "      <td>5</td>\n",
       "      <td>usually</td>\n",
       "      <td>1</td>\n",
       "      <td>themselves</td>\n",
       "      <td>1</td>\n",
       "      <td></td>\n",
       "      <td>0</td>\n",
       "      <td></td>\n",
       "      <td>0</td>\n",
       "    </tr>\n",
       "    <tr>\n",
       "      <th>1080</th>\n",
       "      <td>1</td>\n",
       "      <td>You are white and you are better then them and...</td>\n",
       "      <td>you are white and you are better then them and...</td>\n",
       "      <td>[(you, PRON), (are, AUX), (white, ADJ), (and, ...</td>\n",
       "      <td>-PRON- be white and -PRON- be well then -PRON-...</td>\n",
       "      <td>[you, are, white, and, you, are, better, then,...</td>\n",
       "      <td>en</td>\n",
       "      <td>32</td>\n",
       "      <td>30</td>\n",
       "      <td>2</td>\n",
       "      <td>...</td>\n",
       "      <td>white better next proncipal</td>\n",
       "      <td>4</td>\n",
       "      <td>then else</td>\n",
       "      <td>2</td>\n",
       "      <td>you you them they you someone</td>\n",
       "      <td>6</td>\n",
       "      <td></td>\n",
       "      <td>0</td>\n",
       "      <td></td>\n",
       "      <td>0</td>\n",
       "    </tr>\n",
       "    <tr>\n",
       "      <th>3114</th>\n",
       "      <td>0</td>\n",
       "      <td>Seems to me that aluminum is lighter  softer  ...</td>\n",
       "      <td>seems to me that aluminum is lighter softer mo...</td>\n",
       "      <td>[(seems, VERB), (to, ADP), (me, PRON), (that, ...</td>\n",
       "      <td>seem to -PRON- that aluminum be light soft mor...</td>\n",
       "      <td>[seems, to, me, that, aluminum, is, lighter, s...</td>\n",
       "      <td>en</td>\n",
       "      <td>23</td>\n",
       "      <td>22</td>\n",
       "      <td>1</td>\n",
       "      <td>...</td>\n",
       "      <td>lighter softer prone more</td>\n",
       "      <td>4</td>\n",
       "      <td>more as well more easily</td>\n",
       "      <td>5</td>\n",
       "      <td>me</td>\n",
       "      <td>1</td>\n",
       "      <td>as</td>\n",
       "      <td>1</td>\n",
       "      <td></td>\n",
       "      <td>1</td>\n",
       "    </tr>\n",
       "    <tr>\n",
       "      <th>4259</th>\n",
       "      <td>1</td>\n",
       "      <td>Mexicans are real prone to diabetes and I want...</td>\n",
       "      <td>mexicans are real prone to diabetes and want t...</td>\n",
       "      <td>[(mexicans, PROPN), (are, AUX), (real, ADV), (...</td>\n",
       "      <td>mexicans be real prone to diabetes and want to...</td>\n",
       "      <td>[mexicans, are, real, prone, to, diabetes, and...</td>\n",
       "      <td>en</td>\n",
       "      <td>20</td>\n",
       "      <td>18</td>\n",
       "      <td>2</td>\n",
       "      <td>...</td>\n",
       "      <td>prone possible</td>\n",
       "      <td>2</td>\n",
       "      <td>real as soon</td>\n",
       "      <td>3</td>\n",
       "      <td>them</td>\n",
       "      <td>1</td>\n",
       "      <td>as</td>\n",
       "      <td>1</td>\n",
       "      <td></td>\n",
       "      <td>1</td>\n",
       "    </tr>\n",
       "    <tr>\n",
       "      <th>10830</th>\n",
       "      <td>0</td>\n",
       "      <td>Main Entry : epis Â· tro Â· phe Pronunciation ...</td>\n",
       "      <td>main entry epis tro phe pronunciation pistr fe...</td>\n",
       "      <td>[(main, ADJ), (entry, NOUN), (epis, NOUN), (tr...</td>\n",
       "      <td>main entry epis tro phe pronunciation pistr fe...</td>\n",
       "      <td>[main, entry, epis, tro, phe, pronunciation, p...</td>\n",
       "      <td>en</td>\n",
       "      <td>81</td>\n",
       "      <td>57</td>\n",
       "      <td>24</td>\n",
       "      <td>...</td>\n",
       "      <td>main epi successive rhetorical poetic</td>\n",
       "      <td>5</td>\n",
       "      <td>literally more especially</td>\n",
       "      <td>3</td>\n",
       "      <td></td>\n",
       "      <td>0</td>\n",
       "      <td>as</td>\n",
       "      <td>1</td>\n",
       "      <td></td>\n",
       "      <td>1</td>\n",
       "    </tr>\n",
       "  </tbody>\n",
       "</table>\n",
       "<p>5 rows × 26 columns</p>\n",
       "</div>"
      ],
      "text/plain": [
       "       label                                               text  \\\n",
       "1017       0  ingratiate Main Entry : in Â· gra Â· ti Â· ate...   \n",
       "1080       1  You are white and you are better then them and...   \n",
       "3114       0  Seems to me that aluminum is lighter  softer  ...   \n",
       "4259       1  Mexicans are real prone to diabetes and I want...   \n",
       "10830      0  Main Entry : epis Â· tro Â· phe Pronunciation ...   \n",
       "\n",
       "                                              text_clean  \\\n",
       "1017   ingratiate main entry in gra ti ate pronunciat...   \n",
       "1080   you are white and you are better then them and...   \n",
       "3114   seems to me that aluminum is lighter softer mo...   \n",
       "4259   mexicans are real prone to diabetes and want t...   \n",
       "10830  main entry epis tro phe pronunciation pistr fe...   \n",
       "\n",
       "                                               POS_spacy  \\\n",
       "1017   [(ingratiate, VERB), (main, ADJ), (entry, NOUN...   \n",
       "1080   [(you, PRON), (are, AUX), (white, ADJ), (and, ...   \n",
       "3114   [(seems, VERB), (to, ADP), (me, PRON), (that, ...   \n",
       "4259   [(mexicans, PROPN), (are, AUX), (real, ADV), (...   \n",
       "10830  [(main, ADJ), (entry, NOUN), (epis, NOUN), (tr...   \n",
       "\n",
       "                                              lemmatized  \\\n",
       "1017   ingratiate main entry in gra ti eat pronunciat...   \n",
       "1080   -PRON- be white and -PRON- be well then -PRON-...   \n",
       "3114   seem to -PRON- that aluminum be light soft mor...   \n",
       "4259   mexicans be real prone to diabetes and want to...   \n",
       "10830  main entry epis tro phe pronunciation pistr fe...   \n",
       "\n",
       "                                                  tokens language  \\\n",
       "1017   [ingratiate, main, entry, in, gra, ti, ate, pr...       en   \n",
       "1080   [you, are, white, and, you, are, better, then,...       en   \n",
       "3114   [seems, to, me, that, aluminum, is, lighter, s...       en   \n",
       "4259   [mexicans, are, real, prone, to, diabetes, and...       en   \n",
       "10830  [main, entry, epis, tro, phe, pronunciation, p...       en   \n",
       "\n",
       "       word_count_before  word_count  word_cleaning  ...  \\\n",
       "1017                 116          63             53  ...   \n",
       "1080                  32          30              2  ...   \n",
       "3114                  23          22              1  ...   \n",
       "4259                  20          18              2  ...   \n",
       "10830                 81          57             24  ...   \n",
       "\n",
       "                                              ADJ  ADJ_count  \\\n",
       "1017   main transitive latin favorable deliberate          5   \n",
       "1080                  white better next proncipal          4   \n",
       "3114                    lighter softer prone more          4   \n",
       "4259                               prone possible          2   \n",
       "10830       main epi successive rhetorical poetic          5   \n",
       "\n",
       "                             ADV  ADV_count                           PRON  \\\n",
       "1017                     usually          1                     themselves   \n",
       "1080                   then else          2  you you them they you someone   \n",
       "3114    more as well more easily          5                             me   \n",
       "4259                real as soon          3                           them   \n",
       "10830  literally more especially          3                                  \n",
       "\n",
       "       PRON_count SCONJ  SCONJ_count INTJ  INTJ_count  \n",
       "1017            1                  0                0  \n",
       "1080            6                  0                0  \n",
       "3114            1    as            1                1  \n",
       "4259            1    as            1                1  \n",
       "10830           0    as            1                1  \n",
       "\n",
       "[5 rows x 26 columns]"
      ]
     },
     "execution_count": 8,
     "metadata": {},
     "output_type": "execute_result"
    }
   ],
   "source": [
    "data[data['lemmatized'].str.contains('pron')]"
   ]
  },
  {
   "cell_type": "code",
   "execution_count": 9,
   "metadata": {},
   "outputs": [],
   "source": [
    "with open(\"serialized/mcw.pkl\", \"wb\") as f:\n",
    "    pickle.dump(mcw[:20], f)"
   ]
  },
  {
   "cell_type": "code",
   "execution_count": 10,
   "metadata": {},
   "outputs": [
    {
     "data": {
      "image/png": "[encoded data removed]",
      "text/plain": [
       "<Figure size 864x360 with 1 Axes>"
      ]
     },
     "metadata": {
      "needs_background": "light"
     },
     "output_type": "display_data"
    }
   ],
   "source": [
    "mcw.plot(x=\"words\", y=\"freq\", kind=\"bar\", figsize=(12,5), width=0.6)\n",
    "plt.savefig(\"images_d\\Top20_words.png\")\n",
    "plt.show()"
   ]
  },
  {
   "cell_type": "markdown",
   "metadata": {},
   "source": [
    "## 3.1 Part of Speech"
   ]
  },
  {
   "cell_type": "code",
   "execution_count": 11,
   "metadata": {},
   "outputs": [],
   "source": [
    "all_pos = data['POS_spacy'].sum()"
   ]
  },
  {
   "cell_type": "code",
   "execution_count": 12,
   "metadata": {},
   "outputs": [],
   "source": [
    "all_adjs = [x[0] for x in all_pos if x[1] == \"ADJ\"]\n",
    "all_nouns = [x[0] for x in all_pos if x[1] == \"NOUN\"]\n",
    "all_propn = [x[0] for x in all_pos if x[1] == \"PROPN\"]\n",
    "all_verbs = [x[0] for x in all_pos if x[1] == \"VERB\"]"
   ]
  },
  {
   "cell_type": "code",
   "execution_count": 13,
   "metadata": {},
   "outputs": [],
   "source": [
    "hate = data.loc[data[\"label\"] == 1]"
   ]
  },
  {
   "cell_type": "code",
   "execution_count": 14,
   "metadata": {},
   "outputs": [],
   "source": [
    "all_pos_hate = hate['POS_spacy'].sum()"
   ]
  },
  {
   "cell_type": "code",
   "execution_count": 15,
   "metadata": {},
   "outputs": [],
   "source": [
    "all_adjs_hate = [x[0] for x in all_pos_hate if x[1] == \"ADJ\"]\n",
    "all_nouns_hate = [x[0] for x in all_pos_hate if x[1] == \"NOUN\"]\n",
    "all_propn_hate = [x[0] for x in all_pos_hate if x[1] == \"PROPN\"]\n",
    "all_verbs_hate = [x[0] for x in all_pos_hate if x[1] == \"VERB\"]"
   ]
  },
  {
   "cell_type": "code",
   "execution_count": 16,
   "metadata": {},
   "outputs": [],
   "source": [
    "no_hate = data.loc[data[\"label\"] == 0]"
   ]
  },
  {
   "cell_type": "code",
   "execution_count": 17,
   "metadata": {},
   "outputs": [],
   "source": [
    "all_pos_no_hate = no_hate['POS_spacy'].sum()"
   ]
  },
  {
   "cell_type": "code",
   "execution_count": 18,
   "metadata": {},
   "outputs": [],
   "source": [
    "all_adjs_no_hate = [x[0] for x in all_pos_no_hate if x[1] == \"ADJ\"]\n",
    "all_nouns_no_hate = [x[0] for x in all_pos_no_hate if x[1] == \"NOUN\"]\n",
    "all_propn_no_hate = [x[0] for x in all_pos_no_hate if x[1] == \"PROPN\"]\n",
    "all_verbs_no_hate = [x[0] for x in all_pos_no_hate if x[1] == \"VERB\"]"
   ]
  },
  {
   "cell_type": "markdown",
   "metadata": {},
   "source": [
    "## 3.2 Top POS"
   ]
  },
  {
   "cell_type": "code",
   "execution_count": 19,
   "metadata": {},
   "outputs": [],
   "source": [
    "pos_counter_no = {}\n",
    "for x in all_pos_no_hate:\n",
    "    if x[1] in pos_counter_no:\n",
    "        pos_counter_no[x[1]] += 1\n",
    "    else:\n",
    "        pos_counter_no[x[1]] = 1\n",
    "        \n",
    "top_pos_no = {k: v for k, v in sorted(pos_counter_no.items(), key=lambda item: item[1], reverse=True)}"
   ]
  },
  {
   "cell_type": "code",
   "execution_count": 20,
   "metadata": {},
   "outputs": [],
   "source": [
    "freq_pos_no = pd.DataFrame.from_dict(top_pos_no, orient=\"index\", columns=[\"Freq\"]).reset_index()\n",
    "freq_pos_no[\"R_Freq\"] = freq_pos_no.apply(lambda x: np.round(x.Freq / freq_pos_no.Freq.sum(), 2), axis=1)"
   ]
  },
  {
   "cell_type": "code",
   "execution_count": 21,
   "metadata": {},
   "outputs": [],
   "source": [
    "pos_counter_hate = {}\n",
    "for x in all_pos_hate:\n",
    "    if x[1] in pos_counter_hate:\n",
    "        pos_counter_hate[x[1]] += 1\n",
    "    else:\n",
    "        pos_counter_hate[x[1]] = 1\n",
    "        \n",
    "top_pos_hate = {k: v for k, v in sorted(pos_counter_hate.items(), key=lambda item: item[1], reverse=True)}"
   ]
  },
  {
   "cell_type": "code",
   "execution_count": 22,
   "metadata": {},
   "outputs": [],
   "source": [
    "freq_pos_hate = pd.DataFrame.from_dict(top_pos_hate, orient=\"index\", columns=[\"Freq\"]).reset_index()\n",
    "freq_pos_hate[\"R_Freq\"] = freq_pos_hate.apply(lambda x: np.round(x.Freq / freq_pos_hate.Freq.sum(), 2), axis=1)"
   ]
  },
  {
   "cell_type": "code",
   "execution_count": 23,
   "metadata": {},
   "outputs": [
    {
     "data": {
      "text/html": [
       "<div>\n",
       "<style scoped>\n",
       "    .dataframe tbody tr th:only-of-type {\n",
       "        vertical-align: middle;\n",
       "    }\n",
       "\n",
       "    .dataframe tbody tr th {\n",
       "        vertical-align: top;\n",
       "    }\n",
       "\n",
       "    .dataframe thead th {\n",
       "        text-align: right;\n",
       "    }\n",
       "</style>\n",
       "<table border=\"1\" class=\"dataframe\">\n",
       "  <thead>\n",
       "    <tr style=\"text-align: right;\">\n",
       "      <th></th>\n",
       "      <th>No_Hate</th>\n",
       "      <th>R_Freq_No_Hate</th>\n",
       "      <th>Hate_Speech</th>\n",
       "      <th>R_Freq_Hate</th>\n",
       "    </tr>\n",
       "  </thead>\n",
       "  <tbody>\n",
       "    <tr>\n",
       "      <th>0</th>\n",
       "      <td>NOUN</td>\n",
       "      <td>0.194</td>\n",
       "      <td>NOUN</td>\n",
       "      <td>0.190</td>\n",
       "    </tr>\n",
       "    <tr>\n",
       "      <th>1</th>\n",
       "      <td>VERB</td>\n",
       "      <td>0.144</td>\n",
       "      <td>VERB</td>\n",
       "      <td>0.154</td>\n",
       "    </tr>\n",
       "    <tr>\n",
       "      <th>2</th>\n",
       "      <td>ADP</td>\n",
       "      <td>0.105</td>\n",
       "      <td>DET</td>\n",
       "      <td>0.106</td>\n",
       "    </tr>\n",
       "    <tr>\n",
       "      <th>3</th>\n",
       "      <td>DET</td>\n",
       "      <td>0.097</td>\n",
       "      <td>ADP</td>\n",
       "      <td>0.097</td>\n",
       "    </tr>\n",
       "    <tr>\n",
       "      <th>4</th>\n",
       "      <td>ADJ</td>\n",
       "      <td>0.085</td>\n",
       "      <td>ADJ</td>\n",
       "      <td>0.088</td>\n",
       "    </tr>\n",
       "    <tr>\n",
       "      <th>5</th>\n",
       "      <td>PROPN</td>\n",
       "      <td>0.073</td>\n",
       "      <td>PRON</td>\n",
       "      <td>0.073</td>\n",
       "    </tr>\n",
       "    <tr>\n",
       "      <th>6</th>\n",
       "      <td>PRON</td>\n",
       "      <td>0.067</td>\n",
       "      <td>ADV</td>\n",
       "      <td>0.065</td>\n",
       "    </tr>\n",
       "    <tr>\n",
       "      <th>7</th>\n",
       "      <td>AUX</td>\n",
       "      <td>0.067</td>\n",
       "      <td>AUX</td>\n",
       "      <td>0.064</td>\n",
       "    </tr>\n",
       "    <tr>\n",
       "      <th>8</th>\n",
       "      <td>ADV</td>\n",
       "      <td>0.066</td>\n",
       "      <td>PROPN</td>\n",
       "      <td>0.052</td>\n",
       "    </tr>\n",
       "    <tr>\n",
       "      <th>9</th>\n",
       "      <td>CCONJ</td>\n",
       "      <td>0.036</td>\n",
       "      <td>CCONJ</td>\n",
       "      <td>0.040</td>\n",
       "    </tr>\n",
       "    <tr>\n",
       "      <th>10</th>\n",
       "      <td>PART</td>\n",
       "      <td>0.031</td>\n",
       "      <td>PART</td>\n",
       "      <td>0.034</td>\n",
       "    </tr>\n",
       "    <tr>\n",
       "      <th>11</th>\n",
       "      <td>SCONJ</td>\n",
       "      <td>0.023</td>\n",
       "      <td>SCONJ</td>\n",
       "      <td>0.028</td>\n",
       "    </tr>\n",
       "    <tr>\n",
       "      <th>12</th>\n",
       "      <td>INTJ</td>\n",
       "      <td>0.006</td>\n",
       "      <td>INTJ</td>\n",
       "      <td>0.004</td>\n",
       "    </tr>\n",
       "    <tr>\n",
       "      <th>13</th>\n",
       "      <td>NUM</td>\n",
       "      <td>0.005</td>\n",
       "      <td>NUM</td>\n",
       "      <td>0.004</td>\n",
       "    </tr>\n",
       "    <tr>\n",
       "      <th>14</th>\n",
       "      <td>X</td>\n",
       "      <td>0.001</td>\n",
       "      <td>X</td>\n",
       "      <td>0.001</td>\n",
       "    </tr>\n",
       "    <tr>\n",
       "      <th>15</th>\n",
       "      <td>PUNCT</td>\n",
       "      <td>0.000</td>\n",
       "      <td>PUNCT</td>\n",
       "      <td>0.000</td>\n",
       "    </tr>\n",
       "  </tbody>\n",
       "</table>\n",
       "</div>"
      ],
      "text/plain": [
       "   No_Hate  R_Freq_No_Hate Hate_Speech  R_Freq_Hate\n",
       "0     NOUN           0.194        NOUN        0.190\n",
       "1     VERB           0.144        VERB        0.154\n",
       "2      ADP           0.105         DET        0.106\n",
       "3      DET           0.097         ADP        0.097\n",
       "4      ADJ           0.085         ADJ        0.088\n",
       "5    PROPN           0.073        PRON        0.073\n",
       "6     PRON           0.067         ADV        0.065\n",
       "7      AUX           0.067         AUX        0.064\n",
       "8      ADV           0.066       PROPN        0.052\n",
       "9    CCONJ           0.036       CCONJ        0.040\n",
       "10    PART           0.031        PART        0.034\n",
       "11   SCONJ           0.023       SCONJ        0.028\n",
       "12    INTJ           0.006        INTJ        0.004\n",
       "13     NUM           0.005         NUM        0.004\n",
       "14       X           0.001           X        0.001\n",
       "15   PUNCT           0.000       PUNCT        0.000"
      ]
     },
     "execution_count": 23,
     "metadata": {},
     "output_type": "execute_result"
    }
   ],
   "source": [
    "compared_pos = {\"No_Hate\": list(top_pos_no.keys())[:len(top_pos_hate)], \"Freq_No_Hate\": list(top_pos_no.values())[:len(top_pos_hate)], \"Hate_Speech\": top_pos_hate.keys(), \"Freq_Hate\": top_pos_hate.values()}\n",
    "compared_pos = pd.DataFrame(compared_pos)\n",
    "compared_pos[\"R_Freq_No_Hate\"] = compared_pos.apply(lambda x: np.round(x.Freq_No_Hate / compared_pos.Freq_No_Hate.sum(), 3), axis=1)\n",
    "compared_pos[\"R_Freq_Hate\"] = compared_pos.apply(lambda x: np.round(x.Freq_Hate / compared_pos.Freq_Hate.sum(), 3), axis=1)\n",
    "compared_pos = compared_pos.reindex(columns=['No_Hate', 'R_Freq_No_Hate', 'Hate_Speech', 'R_Freq_Hate'])\n",
    "compared_pos"
   ]
  },
  {
   "cell_type": "code",
   "execution_count": 24,
   "metadata": {},
   "outputs": [],
   "source": [
    "with open(\"serialized/top_pos.pkl\", \"wb\") as f:\n",
    "    pickle.dump(compared_pos, f)"
   ]
  },
  {
   "cell_type": "markdown",
   "metadata": {},
   "source": [
    "## 3.3 Top Adjectives"
   ]
  },
  {
   "cell_type": "code",
   "execution_count": 25,
   "metadata": {},
   "outputs": [],
   "source": [
    "adj_counter_no = {}\n",
    "for word in all_adjs_no_hate:\n",
    "    if word in adj_counter_no:\n",
    "        adj_counter_no[word] += 1\n",
    "    else:\n",
    "        adj_counter_no[word] = 1\n",
    "\n",
    "top_20_adj_no = {k: v for k, v in sorted(adj_counter_no.items(), key=lambda item: item[1], reverse=True)[:20]}"
   ]
  },
  {
   "cell_type": "code",
   "execution_count": 26,
   "metadata": {},
   "outputs": [],
   "source": [
    "adj_counter1 = {}\n",
    "for word in all_adjs_hate:\n",
    "    if word in adj_counter1:\n",
    "        adj_counter1[word] += 1\n",
    "    else:\n",
    "        adj_counter1[word] = 1\n",
    "            \n",
    "top_20_adj1 = {k: v for k, v in sorted(adj_counter1.items(), key=lambda item: item[1], reverse=True)[:20]}"
   ]
  },
  {
   "cell_type": "code",
   "execution_count": 27,
   "metadata": {},
   "outputs": [
    {
     "data": {
      "image/png": "[encoded data removed]",
      "text/plain": [
       "<Figure size 576x360 with 1 Axes>"
      ]
     },
     "metadata": {
      "needs_background": "light"
     },
     "output_type": "display_data"
    }
   ],
   "source": [
    "path_cloud = \"C:/Users/marti/OneDrive - Università degli Studi di Milano/Desktop/Text mining before final version/images/aa.png\"\n",
    "cloud = np.array(Image.open(path_cloud))\n",
    "wc_a_hate = WordCloud(background_color=\"white\", mask=cloud).generate_from_frequencies(top_20_adj1)\n",
    "plt.figure(figsize=(8,5))\n",
    "plt.imshow(wc_a_hate, interpolation=\"bilinear\")\n",
    "plt.axis(\"off\")\n",
    "wc_a_hate.to_file(\"images_d\\wc_a_hate.png\")\n",
    "plt.show()"
   ]
  },
  {
   "cell_type": "code",
   "execution_count": 28,
   "metadata": {},
   "outputs": [
    {
     "data": {
      "text/html": [
       "<div>\n",
       "<style scoped>\n",
       "    .dataframe tbody tr th:only-of-type {\n",
       "        vertical-align: middle;\n",
       "    }\n",
       "\n",
       "    .dataframe tbody tr th {\n",
       "        vertical-align: top;\n",
       "    }\n",
       "\n",
       "    .dataframe thead th {\n",
       "        text-align: right;\n",
       "    }\n",
       "</style>\n",
       "<table border=\"1\" class=\"dataframe\">\n",
       "  <thead>\n",
       "    <tr style=\"text-align: right;\">\n",
       "      <th></th>\n",
       "      <th>No_Hate</th>\n",
       "      <th>R_Freq_No_Hate</th>\n",
       "      <th>Hate_Speech</th>\n",
       "      <th>R_Freq_Hate</th>\n",
       "    </tr>\n",
       "  </thead>\n",
       "  <tbody>\n",
       "    <tr>\n",
       "      <th>0</th>\n",
       "      <td>white</td>\n",
       "      <td>0.214</td>\n",
       "      <td>white</td>\n",
       "      <td>0.264</td>\n",
       "    </tr>\n",
       "    <tr>\n",
       "      <th>1</th>\n",
       "      <td>good</td>\n",
       "      <td>0.083</td>\n",
       "      <td>black</td>\n",
       "      <td>0.138</td>\n",
       "    </tr>\n",
       "    <tr>\n",
       "      <th>2</th>\n",
       "      <td>black</td>\n",
       "      <td>0.065</td>\n",
       "      <td>other</td>\n",
       "      <td>0.060</td>\n",
       "    </tr>\n",
       "    <tr>\n",
       "      <th>3</th>\n",
       "      <td>other</td>\n",
       "      <td>0.062</td>\n",
       "      <td>more</td>\n",
       "      <td>0.051</td>\n",
       "    </tr>\n",
       "    <tr>\n",
       "      <th>4</th>\n",
       "      <td>few</td>\n",
       "      <td>0.058</td>\n",
       "      <td>good</td>\n",
       "      <td>0.047</td>\n",
       "    </tr>\n",
       "    <tr>\n",
       "      <th>5</th>\n",
       "      <td>more</td>\n",
       "      <td>0.055</td>\n",
       "      <td>many</td>\n",
       "      <td>0.046</td>\n",
       "    </tr>\n",
       "    <tr>\n",
       "      <th>6</th>\n",
       "      <td>new</td>\n",
       "      <td>0.054</td>\n",
       "      <td>last</td>\n",
       "      <td>0.042</td>\n",
       "    </tr>\n",
       "    <tr>\n",
       "      <th>7</th>\n",
       "      <td>many</td>\n",
       "      <td>0.050</td>\n",
       "      <td>own</td>\n",
       "      <td>0.039</td>\n",
       "    </tr>\n",
       "    <tr>\n",
       "      <th>8</th>\n",
       "      <td>old</td>\n",
       "      <td>0.046</td>\n",
       "      <td>little</td>\n",
       "      <td>0.034</td>\n",
       "    </tr>\n",
       "    <tr>\n",
       "      <th>9</th>\n",
       "      <td>same</td>\n",
       "      <td>0.042</td>\n",
       "      <td>same</td>\n",
       "      <td>0.032</td>\n",
       "    </tr>\n",
       "    <tr>\n",
       "      <th>10</th>\n",
       "      <td>great</td>\n",
       "      <td>0.041</td>\n",
       "      <td>non</td>\n",
       "      <td>0.031</td>\n",
       "    </tr>\n",
       "    <tr>\n",
       "      <th>11</th>\n",
       "      <td>own</td>\n",
       "      <td>0.034</td>\n",
       "      <td>negro</td>\n",
       "      <td>0.029</td>\n",
       "    </tr>\n",
       "    <tr>\n",
       "      <th>12</th>\n",
       "      <td>last</td>\n",
       "      <td>0.033</td>\n",
       "      <td>few</td>\n",
       "      <td>0.028</td>\n",
       "    </tr>\n",
       "    <tr>\n",
       "      <th>13</th>\n",
       "      <td>first</td>\n",
       "      <td>0.027</td>\n",
       "      <td>only</td>\n",
       "      <td>0.025</td>\n",
       "    </tr>\n",
       "    <tr>\n",
       "      <th>14</th>\n",
       "      <td>most</td>\n",
       "      <td>0.025</td>\n",
       "      <td>such</td>\n",
       "      <td>0.024</td>\n",
       "    </tr>\n",
       "    <tr>\n",
       "      <th>15</th>\n",
       "      <td>little</td>\n",
       "      <td>0.024</td>\n",
       "      <td>jewish</td>\n",
       "      <td>0.024</td>\n",
       "    </tr>\n",
       "    <tr>\n",
       "      <th>16</th>\n",
       "      <td>free</td>\n",
       "      <td>0.023</td>\n",
       "      <td>new</td>\n",
       "      <td>0.021</td>\n",
       "    </tr>\n",
       "    <tr>\n",
       "      <th>17</th>\n",
       "      <td>personal</td>\n",
       "      <td>0.023</td>\n",
       "      <td>bad</td>\n",
       "      <td>0.021</td>\n",
       "    </tr>\n",
       "    <tr>\n",
       "      <th>18</th>\n",
       "      <td>bad</td>\n",
       "      <td>0.021</td>\n",
       "      <td>great</td>\n",
       "      <td>0.021</td>\n",
       "    </tr>\n",
       "    <tr>\n",
       "      <th>19</th>\n",
       "      <td>only</td>\n",
       "      <td>0.019</td>\n",
       "      <td>big</td>\n",
       "      <td>0.021</td>\n",
       "    </tr>\n",
       "  </tbody>\n",
       "</table>\n",
       "</div>"
      ],
      "text/plain": [
       "     No_Hate  R_Freq_No_Hate Hate_Speech  R_Freq_Hate\n",
       "0      white           0.214       white        0.264\n",
       "1       good           0.083       black        0.138\n",
       "2      black           0.065       other        0.060\n",
       "3      other           0.062        more        0.051\n",
       "4        few           0.058        good        0.047\n",
       "5       more           0.055        many        0.046\n",
       "6        new           0.054        last        0.042\n",
       "7       many           0.050         own        0.039\n",
       "8        old           0.046      little        0.034\n",
       "9       same           0.042        same        0.032\n",
       "10     great           0.041         non        0.031\n",
       "11       own           0.034       negro        0.029\n",
       "12      last           0.033         few        0.028\n",
       "13     first           0.027        only        0.025\n",
       "14      most           0.025        such        0.024\n",
       "15    little           0.024      jewish        0.024\n",
       "16      free           0.023         new        0.021\n",
       "17  personal           0.023         bad        0.021\n",
       "18       bad           0.021       great        0.021\n",
       "19      only           0.019         big        0.021"
      ]
     },
     "execution_count": 28,
     "metadata": {},
     "output_type": "execute_result"
    }
   ],
   "source": [
    "top_adj = {\"No_Hate\": top_20_adj_no.keys(), \"Freq_No_Hate\": top_20_adj_no.values(), \"Hate_Speech\": top_20_adj1.keys(), \"Freq_Hate\": top_20_adj1.values()}\n",
    "top_adj = pd.DataFrame(top_adj)\n",
    "top_adj[\"R_Freq_No_Hate\"] = top_adj.apply(lambda x: np.round(x.Freq_No_Hate / top_adj.Freq_No_Hate.sum(), 3), axis=1)\n",
    "top_adj[\"R_Freq_Hate\"] = top_adj.apply(lambda x: np.round(x.Freq_Hate / top_adj.Freq_Hate.sum(), 3), axis=1)\n",
    "top_adj = top_adj.reindex(columns=['No_Hate', 'R_Freq_No_Hate', 'Hate_Speech', 'R_Freq_Hate'])\n",
    "top_adj"
   ]
  },
  {
   "cell_type": "code",
   "execution_count": 29,
   "metadata": {},
   "outputs": [],
   "source": [
    "common_adj = list(set(top_adj[\"Hate_Speech\"].values).intersection(set(top_adj[\"No_Hate\"].values)))"
   ]
  },
  {
   "cell_type": "code",
   "execution_count": 30,
   "metadata": {},
   "outputs": [],
   "source": [
    "freq_common_no_adj = [adj_counter_no[x] for x in common_adj]\n",
    "freq_common_hate_adj = [adj_counter1[x] for x in common_adj]"
   ]
  },
  {
   "cell_type": "code",
   "execution_count": 31,
   "metadata": {},
   "outputs": [],
   "source": [
    "common_adj_df = pd.DataFrame({\"Adj\" : common_adj, \"Freq_No_Hate\": freq_common_no_adj, \"Freq_Hate_Speech\": freq_common_hate_adj } )\n",
    "common_adj_df = common_adj_df.sort_values(by = ['Freq_Hate_Speech'], ascending = False, ignore_index=True)"
   ]
  },
  {
   "cell_type": "code",
   "execution_count": 32,
   "metadata": {},
   "outputs": [],
   "source": [
    "with open(\"serialized/top20adj.pkl\", \"wb\") as f:\n",
    "    pickle.dump(common_adj_df, f)"
   ]
  },
  {
   "cell_type": "code",
   "execution_count": 33,
   "metadata": {},
   "outputs": [
    {
     "data": {
      "image/png": "[encoded data removed]",
      "text/plain": [
       "<Figure size 864x504 with 2 Axes>"
      ]
     },
     "metadata": {
      "needs_background": "light"
     },
     "output_type": "display_data"
    }
   ],
   "source": [
    "common_adj_df.set_index(\"Adj\").plot(secondary_y=['Freq_Hate_Speech'], kind='bar', color=['lightblue', 'royalblue'], figsize=(12,7), width=0.6)\n",
    "#plt.tick_params(axis= 'y', colors = 'grey')\n",
    "#plt.grid(True)\n",
    "plt.title('Difference in frequency for Adjectives between labels', fontsize = 13)#.set_color(\"grey\")\n",
    "plt.savefig(\"images_d\\Adj_tot_hate.png\")\n",
    "plt.show()"
   ]
  },
  {
   "cell_type": "markdown",
   "metadata": {},
   "source": [
    "## 3.4 Top Nouns"
   ]
  },
  {
   "cell_type": "code",
   "execution_count": 34,
   "metadata": {},
   "outputs": [],
   "source": [
    "noun_counter_no = {}\n",
    "for word in all_nouns_no_hate:\n",
    "    if word in noun_counter_no:\n",
    "        noun_counter_no[word] += 1\n",
    "    else:\n",
    "        noun_counter_no[word] = 1\n",
    "            \n",
    "top_20_noun_no = {k: v for k, v in sorted(noun_counter_no.items(), key=lambda item: item[1], reverse=True)[:20]}"
   ]
  },
  {
   "cell_type": "code",
   "execution_count": 35,
   "metadata": {},
   "outputs": [],
   "source": [
    "noun_counter1 = {}\n",
    "for word in all_nouns_hate:\n",
    "    if word in noun_counter1:\n",
    "        noun_counter1[word] += 1\n",
    "    else:\n",
    "        noun_counter1[word] = 1\n",
    "            \n",
    "top_20_noun1 = {k: v for k, v in sorted(noun_counter1.items(), key=lambda item: item[1], reverse=True)[:20]}"
   ]
  },
  {
   "cell_type": "code",
   "execution_count": 36,
   "metadata": {},
   "outputs": [
    {
     "data": {
      "image/png": "[encoded data removed]",
      "text/plain": [
       "<Figure size 576x360 with 1 Axes>"
      ]
     },
     "metadata": {
      "needs_background": "light"
     },
     "output_type": "display_data"
    }
   ],
   "source": [
    "wc_n_hate = WordCloud(background_color=\"white\", mask=cloud).generate_from_frequencies(top_20_noun1)\n",
    "plt.figure(figsize=(8,5))\n",
    "plt.imshow(wc_n_hate, interpolation=\"bilinear\")\n",
    "plt.axis(\"off\")\n",
    "wc_n_hate.to_file(\"images_d\\wc_n_hate.png\")\n",
    "plt.show()"
   ]
  },
  {
   "cell_type": "code",
   "execution_count": 37,
   "metadata": {},
   "outputs": [
    {
     "data": {
      "text/html": [
       "<div>\n",
       "<style scoped>\n",
       "    .dataframe tbody tr th:only-of-type {\n",
       "        vertical-align: middle;\n",
       "    }\n",
       "\n",
       "    .dataframe tbody tr th {\n",
       "        vertical-align: top;\n",
       "    }\n",
       "\n",
       "    .dataframe thead th {\n",
       "        text-align: right;\n",
       "    }\n",
       "</style>\n",
       "<table border=\"1\" class=\"dataframe\">\n",
       "  <thead>\n",
       "    <tr style=\"text-align: right;\">\n",
       "      <th></th>\n",
       "      <th>No_Hate</th>\n",
       "      <th>R_Freq_No_Hate</th>\n",
       "      <th>Hate_Speech</th>\n",
       "      <th>R_Freq_Hate</th>\n",
       "    </tr>\n",
       "  </thead>\n",
       "  <tbody>\n",
       "    <tr>\n",
       "      <th>0</th>\n",
       "      <td>people</td>\n",
       "      <td>0.152</td>\n",
       "      <td>people</td>\n",
       "      <td>0.120</td>\n",
       "    </tr>\n",
       "    <tr>\n",
       "      <th>1</th>\n",
       "      <td>time</td>\n",
       "      <td>0.071</td>\n",
       "      <td>whites</td>\n",
       "      <td>0.117</td>\n",
       "    </tr>\n",
       "    <tr>\n",
       "      <th>2</th>\n",
       "      <td>school</td>\n",
       "      <td>0.066</td>\n",
       "      <td>blacks</td>\n",
       "      <td>0.097</td>\n",
       "    </tr>\n",
       "    <tr>\n",
       "      <th>3</th>\n",
       "      <td>whites</td>\n",
       "      <td>0.055</td>\n",
       "      <td>race</td>\n",
       "      <td>0.087</td>\n",
       "    </tr>\n",
       "    <tr>\n",
       "      <th>4</th>\n",
       "      <td>years</td>\n",
       "      <td>0.055</td>\n",
       "      <td>country</td>\n",
       "      <td>0.056</td>\n",
       "    </tr>\n",
       "    <tr>\n",
       "      <th>5</th>\n",
       "      <td>kids</td>\n",
       "      <td>0.053</td>\n",
       "      <td>time</td>\n",
       "      <td>0.049</td>\n",
       "    </tr>\n",
       "    <tr>\n",
       "      <th>6</th>\n",
       "      <td>year</td>\n",
       "      <td>0.052</td>\n",
       "      <td>way</td>\n",
       "      <td>0.049</td>\n",
       "    </tr>\n",
       "    <tr>\n",
       "      <th>7</th>\n",
       "      <td>day</td>\n",
       "      <td>0.050</td>\n",
       "      <td>school</td>\n",
       "      <td>0.045</td>\n",
       "    </tr>\n",
       "    <tr>\n",
       "      <th>8</th>\n",
       "      <td>way</td>\n",
       "      <td>0.050</td>\n",
       "      <td>negroes</td>\n",
       "      <td>0.043</td>\n",
       "    </tr>\n",
       "    <tr>\n",
       "      <th>9</th>\n",
       "      <td>video</td>\n",
       "      <td>0.047</td>\n",
       "      <td>kids</td>\n",
       "      <td>0.038</td>\n",
       "    </tr>\n",
       "    <tr>\n",
       "      <th>10</th>\n",
       "      <td>race</td>\n",
       "      <td>0.045</td>\n",
       "      <td>world</td>\n",
       "      <td>0.035</td>\n",
       "    </tr>\n",
       "    <tr>\n",
       "      <th>11</th>\n",
       "      <td>thread</td>\n",
       "      <td>0.042</td>\n",
       "      <td>women</td>\n",
       "      <td>0.034</td>\n",
       "    </tr>\n",
       "    <tr>\n",
       "      <th>12</th>\n",
       "      <td>country</td>\n",
       "      <td>0.035</td>\n",
       "      <td>day</td>\n",
       "      <td>0.034</td>\n",
       "    </tr>\n",
       "    <tr>\n",
       "      <th>13</th>\n",
       "      <td>message</td>\n",
       "      <td>0.035</td>\n",
       "      <td>children</td>\n",
       "      <td>0.031</td>\n",
       "    </tr>\n",
       "    <tr>\n",
       "      <th>14</th>\n",
       "      <td>thing</td>\n",
       "      <td>0.033</td>\n",
       "      <td>thing</td>\n",
       "      <td>0.030</td>\n",
       "    </tr>\n",
       "    <tr>\n",
       "      <th>15</th>\n",
       "      <td>blacks</td>\n",
       "      <td>0.033</td>\n",
       "      <td>scum</td>\n",
       "      <td>0.028</td>\n",
       "    </tr>\n",
       "    <tr>\n",
       "      <th>16</th>\n",
       "      <td>youtube</td>\n",
       "      <td>0.032</td>\n",
       "      <td>countries</td>\n",
       "      <td>0.028</td>\n",
       "    </tr>\n",
       "    <tr>\n",
       "      <th>17</th>\n",
       "      <td>world</td>\n",
       "      <td>0.032</td>\n",
       "      <td>place</td>\n",
       "      <td>0.028</td>\n",
       "    </tr>\n",
       "    <tr>\n",
       "      <th>18</th>\n",
       "      <td>area</td>\n",
       "      <td>0.032</td>\n",
       "      <td>nonwhites</td>\n",
       "      <td>0.026</td>\n",
       "    </tr>\n",
       "    <tr>\n",
       "      <th>19</th>\n",
       "      <td>man</td>\n",
       "      <td>0.031</td>\n",
       "      <td>years</td>\n",
       "      <td>0.025</td>\n",
       "    </tr>\n",
       "  </tbody>\n",
       "</table>\n",
       "</div>"
      ],
      "text/plain": [
       "    No_Hate  R_Freq_No_Hate Hate_Speech  R_Freq_Hate\n",
       "0    people           0.152      people        0.120\n",
       "1      time           0.071      whites        0.117\n",
       "2    school           0.066      blacks        0.097\n",
       "3    whites           0.055        race        0.087\n",
       "4     years           0.055     country        0.056\n",
       "5      kids           0.053        time        0.049\n",
       "6      year           0.052         way        0.049\n",
       "7       day           0.050      school        0.045\n",
       "8       way           0.050     negroes        0.043\n",
       "9     video           0.047        kids        0.038\n",
       "10     race           0.045       world        0.035\n",
       "11   thread           0.042       women        0.034\n",
       "12  country           0.035         day        0.034\n",
       "13  message           0.035    children        0.031\n",
       "14    thing           0.033       thing        0.030\n",
       "15   blacks           0.033        scum        0.028\n",
       "16  youtube           0.032   countries        0.028\n",
       "17    world           0.032       place        0.028\n",
       "18     area           0.032   nonwhites        0.026\n",
       "19      man           0.031       years        0.025"
      ]
     },
     "execution_count": 37,
     "metadata": {},
     "output_type": "execute_result"
    }
   ],
   "source": [
    "top_noun = {\"No_Hate\": top_20_noun_no.keys(), \"Freq_No_Hate\": top_20_noun_no.values(), \"Hate_Speech\": top_20_noun1.keys(), \"Freq_Hate\": top_20_noun1.values()}\n",
    "top_noun = pd.DataFrame(top_noun)\n",
    "top_noun[\"R_Freq_No_Hate\"] = top_noun.apply(lambda x: np.round(x.Freq_No_Hate / top_noun.Freq_No_Hate.sum(), 3), axis=1)\n",
    "top_noun[\"R_Freq_Hate\"] = top_noun.apply(lambda x: np.round(x.Freq_Hate / top_noun.Freq_Hate.sum(), 3), axis=1)\n",
    "top_noun = top_noun.reindex(columns=['No_Hate', 'R_Freq_No_Hate', 'Hate_Speech', 'R_Freq_Hate'])\n",
    "top_noun"
   ]
  },
  {
   "cell_type": "code",
   "execution_count": 38,
   "metadata": {},
   "outputs": [],
   "source": [
    "common_nouns = list(set(top_noun[\"Hate_Speech\"].values).intersection(set(top_noun[\"No_Hate\"].values)))"
   ]
  },
  {
   "cell_type": "code",
   "execution_count": 39,
   "metadata": {},
   "outputs": [],
   "source": [
    "freq_common_noun_no = [noun_counter_no[x] for x in common_nouns]\n",
    "freq_common_noun_hate = [noun_counter1[x] for x in common_nouns]"
   ]
  },
  {
   "cell_type": "code",
   "execution_count": 40,
   "metadata": {},
   "outputs": [],
   "source": [
    "common_noun_df = pd.DataFrame({\"Nouns\" : common_nouns, \"Freq_No_Hate\": freq_common_noun_no, \"Freq_Hate_Speech\": freq_common_noun_hate })\n",
    "common_noun_df = common_noun_df.sort_values(by = ['Freq_Hate_Speech'], ascending = False, ignore_index=True)"
   ]
  },
  {
   "cell_type": "code",
   "execution_count": 41,
   "metadata": {},
   "outputs": [],
   "source": [
    "with open(\"serialized/top20noun.pkl\", \"wb\") as f:\n",
    "    pickle.dump(common_noun_df, f)"
   ]
  },
  {
   "cell_type": "code",
   "execution_count": 42,
   "metadata": {},
   "outputs": [
    {
     "data": {
      "image/png": "[encoded data removed]",
      "text/plain": [
       "<Figure size 864x504 with 2 Axes>"
      ]
     },
     "metadata": {
      "needs_background": "light"
     },
     "output_type": "display_data"
    }
   ],
   "source": [
    "common_noun_df.set_index(\"Nouns\").plot(secondary_y=['Freq_Hate_Speech'], kind='bar', color=['lightblue', 'royalblue'], figsize=(12,7), width=0.6)\n",
    "#plt.tick_params(axis= 'y', colors = 'grey')\n",
    "#plt.grid(True)\n",
    "plt.title('Difference in frequency for Nouns between labels', fontsize = 13)#.set_color(\"grey\")\n",
    "plt.savefig(\"images_d\\ Noun_tot_hate.png\")\n",
    "plt.show()"
   ]
  },
  {
   "cell_type": "markdown",
   "metadata": {},
   "source": [
    "## 3.5 Top Proper Nouns"
   ]
  },
  {
   "cell_type": "code",
   "execution_count": 43,
   "metadata": {},
   "outputs": [],
   "source": [
    "propn_counter_no = {}\n",
    "for word in all_propn_no_hate:\n",
    "    if word in propn_counter_no:\n",
    "        propn_counter_no[word] += 1\n",
    "    else:\n",
    "        propn_counter_no[word] = 1\n",
    "\n",
    "top_20_propn_no = {k: v for k, v in sorted(propn_counter_no.items(), key=lambda item: item[1], reverse=True)[:20]}"
   ]
  },
  {
   "cell_type": "code",
   "execution_count": 44,
   "metadata": {},
   "outputs": [],
   "source": [
    "propn_counter1 = {}\n",
    "for word in all_propn_hate:\n",
    "    if word in propn_counter1:\n",
    "        propn_counter1[word] += 1\n",
    "    else:\n",
    "        propn_counter1[word] = 1\n",
    "            \n",
    "top_20_propn1 = {k: v for k, v in sorted(propn_counter1.items(), key=lambda item: item[1], reverse=True)[:20]}"
   ]
  },
  {
   "cell_type": "code",
   "execution_count": 45,
   "metadata": {},
   "outputs": [
    {
     "data": {
      "image/png": "[encoded data removed]",
      "text/plain": [
       "<Figure size 576x360 with 1 Axes>"
      ]
     },
     "metadata": {
      "needs_background": "light"
     },
     "output_type": "display_data"
    }
   ],
   "source": [
    "wc_p_hate = WordCloud(background_color=\"white\", mask=cloud).generate_from_frequencies(top_20_propn1)\n",
    "plt.figure(figsize=(8,5))\n",
    "plt.imshow(wc_p_hate, interpolation=\"bilinear\")\n",
    "plt.axis(\"off\")\n",
    "wc_p_hate.to_file(\"images_d\\wc_p_hate.png\")\n",
    "plt.show()"
   ]
  },
  {
   "cell_type": "code",
   "execution_count": 46,
   "metadata": {},
   "outputs": [
    {
     "data": {
      "text/html": [
       "<div>\n",
       "<style scoped>\n",
       "    .dataframe tbody tr th:only-of-type {\n",
       "        vertical-align: middle;\n",
       "    }\n",
       "\n",
       "    .dataframe tbody tr th {\n",
       "        vertical-align: top;\n",
       "    }\n",
       "\n",
       "    .dataframe thead th {\n",
       "        text-align: right;\n",
       "    }\n",
       "</style>\n",
       "<table border=\"1\" class=\"dataframe\">\n",
       "  <thead>\n",
       "    <tr style=\"text-align: right;\">\n",
       "      <th></th>\n",
       "      <th>No_Hate</th>\n",
       "      <th>R_Freq_No_Hate</th>\n",
       "      <th>Hate_Speech</th>\n",
       "      <th>R_Freq_Hate</th>\n",
       "    </tr>\n",
       "  </thead>\n",
       "  <tbody>\n",
       "    <tr>\n",
       "      <th>0</th>\n",
       "      <td>youtube</td>\n",
       "      <td>0.233</td>\n",
       "      <td>jews</td>\n",
       "      <td>0.176</td>\n",
       "    </tr>\n",
       "    <tr>\n",
       "      <th>1</th>\n",
       "      <td>white</td>\n",
       "      <td>0.095</td>\n",
       "      <td>jew</td>\n",
       "      <td>0.110</td>\n",
       "    </tr>\n",
       "    <tr>\n",
       "      <th>2</th>\n",
       "      <td>ireland</td>\n",
       "      <td>0.072</td>\n",
       "      <td>white</td>\n",
       "      <td>0.087</td>\n",
       "    </tr>\n",
       "    <tr>\n",
       "      <th>3</th>\n",
       "      <td>jews</td>\n",
       "      <td>0.048</td>\n",
       "      <td>africa</td>\n",
       "      <td>0.087</td>\n",
       "    </tr>\n",
       "    <tr>\n",
       "      <th>4</th>\n",
       "      <td>god</td>\n",
       "      <td>0.045</td>\n",
       "      <td>ireland</td>\n",
       "      <td>0.068</td>\n",
       "    </tr>\n",
       "    <tr>\n",
       "      <th>5</th>\n",
       "      <td>st</td>\n",
       "      <td>0.044</td>\n",
       "      <td>asians</td>\n",
       "      <td>0.052</td>\n",
       "    </tr>\n",
       "    <tr>\n",
       "      <th>6</th>\n",
       "      <td>europe</td>\n",
       "      <td>0.042</td>\n",
       "      <td>god</td>\n",
       "      <td>0.052</td>\n",
       "    </tr>\n",
       "    <tr>\n",
       "      <th>7</th>\n",
       "      <td>english</td>\n",
       "      <td>0.041</td>\n",
       "      <td>negro</td>\n",
       "      <td>0.050</td>\n",
       "    </tr>\n",
       "    <tr>\n",
       "      <th>8</th>\n",
       "      <td>canada</td>\n",
       "      <td>0.039</td>\n",
       "      <td>london</td>\n",
       "      <td>0.037</td>\n",
       "    </tr>\n",
       "    <tr>\n",
       "      <th>9</th>\n",
       "      <td>stormfront</td>\n",
       "      <td>0.033</td>\n",
       "      <td>canada</td>\n",
       "      <td>0.034</td>\n",
       "    </tr>\n",
       "    <tr>\n",
       "      <th>10</th>\n",
       "      <td>new</td>\n",
       "      <td>0.033</td>\n",
       "      <td>sweden</td>\n",
       "      <td>0.029</td>\n",
       "    </tr>\n",
       "    <tr>\n",
       "      <th>11</th>\n",
       "      <td>jew</td>\n",
       "      <td>0.033</td>\n",
       "      <td>youtube</td>\n",
       "      <td>0.029</td>\n",
       "    </tr>\n",
       "    <tr>\n",
       "      <th>12</th>\n",
       "      <td>africa</td>\n",
       "      <td>0.033</td>\n",
       "      <td>hell</td>\n",
       "      <td>0.026</td>\n",
       "    </tr>\n",
       "    <tr>\n",
       "      <th>13</th>\n",
       "      <td>america</td>\n",
       "      <td>0.032</td>\n",
       "      <td>south</td>\n",
       "      <td>0.026</td>\n",
       "    </tr>\n",
       "    <tr>\n",
       "      <th>14</th>\n",
       "      <td>london</td>\n",
       "      <td>0.030</td>\n",
       "      <td>america</td>\n",
       "      <td>0.024</td>\n",
       "    </tr>\n",
       "    <tr>\n",
       "      <th>15</th>\n",
       "      <td>sf</td>\n",
       "      <td>0.030</td>\n",
       "      <td>house</td>\n",
       "      <td>0.024</td>\n",
       "    </tr>\n",
       "    <tr>\n",
       "      <th>16</th>\n",
       "      <td>us</td>\n",
       "      <td>0.030</td>\n",
       "      <td>europe</td>\n",
       "      <td>0.024</td>\n",
       "    </tr>\n",
       "    <tr>\n",
       "      <th>17</th>\n",
       "      <td>dr</td>\n",
       "      <td>0.029</td>\n",
       "      <td>indians</td>\n",
       "      <td>0.024</td>\n",
       "    </tr>\n",
       "    <tr>\n",
       "      <th>18</th>\n",
       "      <td>news</td>\n",
       "      <td>0.029</td>\n",
       "      <td>black</td>\n",
       "      <td>0.021</td>\n",
       "    </tr>\n",
       "    <tr>\n",
       "      <th>19</th>\n",
       "      <td>march</td>\n",
       "      <td>0.028</td>\n",
       "      <td>mexicans</td>\n",
       "      <td>0.021</td>\n",
       "    </tr>\n",
       "  </tbody>\n",
       "</table>\n",
       "</div>"
      ],
      "text/plain": [
       "       No_Hate  R_Freq_No_Hate Hate_Speech  R_Freq_Hate\n",
       "0      youtube           0.233        jews        0.176\n",
       "1        white           0.095         jew        0.110\n",
       "2      ireland           0.072       white        0.087\n",
       "3         jews           0.048      africa        0.087\n",
       "4          god           0.045     ireland        0.068\n",
       "5           st           0.044      asians        0.052\n",
       "6       europe           0.042         god        0.052\n",
       "7      english           0.041       negro        0.050\n",
       "8       canada           0.039      london        0.037\n",
       "9   stormfront           0.033      canada        0.034\n",
       "10         new           0.033      sweden        0.029\n",
       "11         jew           0.033     youtube        0.029\n",
       "12      africa           0.033        hell        0.026\n",
       "13     america           0.032       south        0.026\n",
       "14      london           0.030     america        0.024\n",
       "15          sf           0.030       house        0.024\n",
       "16          us           0.030      europe        0.024\n",
       "17          dr           0.029     indians        0.024\n",
       "18        news           0.029       black        0.021\n",
       "19       march           0.028    mexicans        0.021"
      ]
     },
     "execution_count": 46,
     "metadata": {},
     "output_type": "execute_result"
    }
   ],
   "source": [
    "top_propn = {\"No_Hate\": top_20_propn_no.keys(), \"Freq_No_Hate\": top_20_propn_no.values(), \"Hate_Speech\": top_20_propn1.keys(), \"Freq_Hate\": top_20_propn1.values()}\n",
    "top_propn = pd.DataFrame(top_propn)\n",
    "top_propn[\"R_Freq_No_Hate\"] = top_propn.apply(lambda x: np.round(x.Freq_No_Hate / top_propn.Freq_No_Hate.sum(), 3), axis=1)\n",
    "top_propn[\"R_Freq_Hate\"] = top_propn.apply(lambda x: np.round(x.Freq_Hate / top_propn.Freq_Hate.sum(), 3), axis=1)\n",
    "top_propn = top_propn.reindex(columns=['No_Hate', 'R_Freq_No_Hate', 'Hate_Speech', 'R_Freq_Hate'])\n",
    "top_propn"
   ]
  },
  {
   "cell_type": "code",
   "execution_count": 47,
   "metadata": {},
   "outputs": [],
   "source": [
    "common_propn = list(set(top_propn[\"Hate_Speech\"].values).intersection(set(top_propn[\"No_Hate\"].values)))"
   ]
  },
  {
   "cell_type": "code",
   "execution_count": 48,
   "metadata": {},
   "outputs": [],
   "source": [
    "freq_common_propn_no = [propn_counter_no[x] for x in common_propn]\n",
    "freq_common_propn_hate = [propn_counter1[x] for x in common_propn]"
   ]
  },
  {
   "cell_type": "code",
   "execution_count": 49,
   "metadata": {},
   "outputs": [],
   "source": [
    "common_propn_df = pd.DataFrame({\"Proper Nouns\" : common_propn, \"Freq_No_Hate\": freq_common_propn_no, \"Freq_Hate_Speech\": freq_common_propn_hate })\n",
    "common_propn_df = common_propn_df.sort_values(by = ['Freq_Hate_Speech'], ascending = False, ignore_index=True)"
   ]
  },
  {
   "cell_type": "code",
   "execution_count": 50,
   "metadata": {},
   "outputs": [],
   "source": [
    "with open(\"serialized/top20propn.pkl\", \"wb\") as f:\n",
    "    pickle.dump(common_propn_df, f)"
   ]
  },
  {
   "cell_type": "code",
   "execution_count": 51,
   "metadata": {},
   "outputs": [
    {
     "data": {
      "image/png": "[encoded data removed]",
      "text/plain": [
       "<Figure size 864x504 with 2 Axes>"
      ]
     },
     "metadata": {
      "needs_background": "light"
     },
     "output_type": "display_data"
    }
   ],
   "source": [
    "common_propn_df.set_index(\"Proper Nouns\").plot(secondary_y=['Freq_Hate_Speech'], kind='bar', color=['lightblue', 'royalblue'], figsize=(12,7), width=0.6)\n",
    "#plt.tick_params(axis= 'y', colors = 'grey')\n",
    "#plt.grid(True)\n",
    "plt.title('Difference in frequency for Proper Nouns between labels', fontsize = 13)#.set_color(\"grey\")\n",
    "plt.savefig(\"images_d\\Propn_tot_hate.png\")\n",
    "plt.show()"
   ]
  },
  {
   "cell_type": "markdown",
   "metadata": {},
   "source": [
    "## 3.3 Top Verbs"
   ]
  },
  {
   "cell_type": "code",
   "execution_count": 52,
   "metadata": {},
   "outputs": [],
   "source": [
    "verb_counter_no = {}\n",
    "for word in all_verbs_no_hate:\n",
    "    if word in verb_counter_no:\n",
    "        verb_counter_no[word] += 1\n",
    "    else:\n",
    "        verb_counter_no[word] = 1\n",
    "\n",
    "top_20_verb_no = {k: v for k, v in sorted(verb_counter_no.items(), key=lambda item: item[1], reverse=True)[:20]}"
   ]
  },
  {
   "cell_type": "code",
   "execution_count": 53,
   "metadata": {},
   "outputs": [],
   "source": [
    "verb_counter1 = {}\n",
    "for word in all_verbs_hate:\n",
    "    if word in verb_counter1:\n",
    "        verb_counter1[word] += 1\n",
    "    else:\n",
    "        verb_counter1[word] = 1\n",
    "            \n",
    "top_20_verb1 = {k: v for k, v in sorted(verb_counter1.items(), key=lambda item: item[1], reverse=True)[:20]}"
   ]
  },
  {
   "cell_type": "code",
   "execution_count": 54,
   "metadata": {},
   "outputs": [
    {
     "data": {
      "image/png": "[encoded data removed]",
      "text/plain": [
       "<Figure size 576x360 with 1 Axes>"
      ]
     },
     "metadata": {
      "needs_background": "light"
     },
     "output_type": "display_data"
    }
   ],
   "source": [
    "wc_v_hate = WordCloud(background_color=\"white\", mask=cloud).generate_from_frequencies(top_20_verb1)\n",
    "plt.figure(figsize=(8,5))\n",
    "plt.imshow(wc_v_hate, interpolation=\"bilinear\")\n",
    "plt.axis(\"off\")\n",
    "wc_v_hate.to_file(\"images_d\\wc_v_hate.png\")\n",
    "plt.show()"
   ]
  },
  {
   "cell_type": "code",
   "execution_count": 55,
   "metadata": {},
   "outputs": [
    {
     "data": {
      "text/html": [
       "<div>\n",
       "<style scoped>\n",
       "    .dataframe tbody tr th:only-of-type {\n",
       "        vertical-align: middle;\n",
       "    }\n",
       "\n",
       "    .dataframe tbody tr th {\n",
       "        vertical-align: top;\n",
       "    }\n",
       "\n",
       "    .dataframe thead th {\n",
       "        text-align: right;\n",
       "    }\n",
       "</style>\n",
       "<table border=\"1\" class=\"dataframe\">\n",
       "  <thead>\n",
       "    <tr style=\"text-align: right;\">\n",
       "      <th></th>\n",
       "      <th>No_Hate</th>\n",
       "      <th>R_Freq_No_Hate</th>\n",
       "      <th>Hate_Speech</th>\n",
       "      <th>R_Freq_Hate</th>\n",
       "    </tr>\n",
       "  </thead>\n",
       "  <tbody>\n",
       "    <tr>\n",
       "      <th>0</th>\n",
       "      <td>will</td>\n",
       "      <td>0.139</td>\n",
       "      <td>will</td>\n",
       "      <td>0.156</td>\n",
       "    </tr>\n",
       "    <tr>\n",
       "      <th>1</th>\n",
       "      <td>can</td>\n",
       "      <td>0.100</td>\n",
       "      <td>would</td>\n",
       "      <td>0.098</td>\n",
       "    </tr>\n",
       "    <tr>\n",
       "      <th>2</th>\n",
       "      <td>would</td>\n",
       "      <td>0.092</td>\n",
       "      <td>can</td>\n",
       "      <td>0.084</td>\n",
       "    </tr>\n",
       "    <tr>\n",
       "      <th>3</th>\n",
       "      <td>see</td>\n",
       "      <td>0.065</td>\n",
       "      <td>see</td>\n",
       "      <td>0.070</td>\n",
       "    </tr>\n",
       "    <tr>\n",
       "      <th>4</th>\n",
       "      <td>know</td>\n",
       "      <td>0.059</td>\n",
       "      <td>should</td>\n",
       "      <td>0.059</td>\n",
       "    </tr>\n",
       "    <tr>\n",
       "      <th>5</th>\n",
       "      <td>go</td>\n",
       "      <td>0.054</td>\n",
       "      <td>go</td>\n",
       "      <td>0.052</td>\n",
       "    </tr>\n",
       "    <tr>\n",
       "      <th>6</th>\n",
       "      <td>think</td>\n",
       "      <td>0.047</td>\n",
       "      <td>think</td>\n",
       "      <td>0.049</td>\n",
       "    </tr>\n",
       "    <tr>\n",
       "      <th>7</th>\n",
       "      <td>say</td>\n",
       "      <td>0.044</td>\n",
       "      <td>want</td>\n",
       "      <td>0.048</td>\n",
       "    </tr>\n",
       "    <tr>\n",
       "      <th>8</th>\n",
       "      <td>should</td>\n",
       "      <td>0.043</td>\n",
       "      <td>know</td>\n",
       "      <td>0.038</td>\n",
       "    </tr>\n",
       "    <tr>\n",
       "      <th>9</th>\n",
       "      <td>want</td>\n",
       "      <td>0.043</td>\n",
       "      <td>make</td>\n",
       "      <td>0.034</td>\n",
       "    </tr>\n",
       "    <tr>\n",
       "      <th>10</th>\n",
       "      <td>got</td>\n",
       "      <td>0.039</td>\n",
       "      <td>going</td>\n",
       "      <td>0.034</td>\n",
       "    </tr>\n",
       "    <tr>\n",
       "      <th>11</th>\n",
       "      <td>could</td>\n",
       "      <td>0.036</td>\n",
       "      <td>got</td>\n",
       "      <td>0.034</td>\n",
       "    </tr>\n",
       "    <tr>\n",
       "      <th>12</th>\n",
       "      <td>going</td>\n",
       "      <td>0.033</td>\n",
       "      <td>say</td>\n",
       "      <td>0.033</td>\n",
       "    </tr>\n",
       "    <tr>\n",
       "      <th>13</th>\n",
       "      <td>find</td>\n",
       "      <td>0.032</td>\n",
       "      <td>find</td>\n",
       "      <td>0.033</td>\n",
       "    </tr>\n",
       "    <tr>\n",
       "      <th>14</th>\n",
       "      <td>make</td>\n",
       "      <td>0.031</td>\n",
       "      <td>need</td>\n",
       "      <td>0.032</td>\n",
       "    </tr>\n",
       "    <tr>\n",
       "      <th>15</th>\n",
       "      <td>look</td>\n",
       "      <td>0.030</td>\n",
       "      <td>could</td>\n",
       "      <td>0.032</td>\n",
       "    </tr>\n",
       "    <tr>\n",
       "      <th>16</th>\n",
       "      <td>looking</td>\n",
       "      <td>0.030</td>\n",
       "      <td>come</td>\n",
       "      <td>0.030</td>\n",
       "    </tr>\n",
       "    <tr>\n",
       "      <th>17</th>\n",
       "      <td>need</td>\n",
       "      <td>0.029</td>\n",
       "      <td>take</td>\n",
       "      <td>0.029</td>\n",
       "    </tr>\n",
       "    <tr>\n",
       "      <th>18</th>\n",
       "      <td>m</td>\n",
       "      <td>0.027</td>\n",
       "      <td>put</td>\n",
       "      <td>0.029</td>\n",
       "    </tr>\n",
       "    <tr>\n",
       "      <th>19</th>\n",
       "      <td>like</td>\n",
       "      <td>0.027</td>\n",
       "      <td>look</td>\n",
       "      <td>0.028</td>\n",
       "    </tr>\n",
       "  </tbody>\n",
       "</table>\n",
       "</div>"
      ],
      "text/plain": [
       "    No_Hate  R_Freq_No_Hate Hate_Speech  R_Freq_Hate\n",
       "0      will           0.139        will        0.156\n",
       "1       can           0.100       would        0.098\n",
       "2     would           0.092         can        0.084\n",
       "3       see           0.065         see        0.070\n",
       "4      know           0.059      should        0.059\n",
       "5        go           0.054          go        0.052\n",
       "6     think           0.047       think        0.049\n",
       "7       say           0.044        want        0.048\n",
       "8    should           0.043        know        0.038\n",
       "9      want           0.043        make        0.034\n",
       "10      got           0.039       going        0.034\n",
       "11    could           0.036         got        0.034\n",
       "12    going           0.033         say        0.033\n",
       "13     find           0.032        find        0.033\n",
       "14     make           0.031        need        0.032\n",
       "15     look           0.030       could        0.032\n",
       "16  looking           0.030        come        0.030\n",
       "17     need           0.029        take        0.029\n",
       "18        m           0.027         put        0.029\n",
       "19     like           0.027        look        0.028"
      ]
     },
     "execution_count": 55,
     "metadata": {},
     "output_type": "execute_result"
    }
   ],
   "source": [
    "top_verb = {\"No_Hate\": top_20_verb_no.keys(), \"Freq_No_Hate\": top_20_verb_no.values(), \"Hate_Speech\": top_20_verb1.keys(), \"Freq_Hate\": top_20_verb1.values()}\n",
    "top_verb = pd.DataFrame(top_verb)\n",
    "top_verb[\"R_Freq_No_Hate\"] = top_verb.apply(lambda x: np.round(x.Freq_No_Hate / top_verb.Freq_No_Hate.sum(), 3), axis=1)\n",
    "top_verb[\"R_Freq_Hate\"] = top_verb.apply(lambda x: np.round(x.Freq_Hate / top_verb.Freq_Hate.sum(), 3), axis=1)\n",
    "top_verb = top_verb.reindex(columns=['No_Hate', 'R_Freq_No_Hate', 'Hate_Speech', 'R_Freq_Hate'])\n",
    "top_verb"
   ]
  },
  {
   "cell_type": "code",
   "execution_count": 56,
   "metadata": {},
   "outputs": [],
   "source": [
    "common_verb = list(set(top_verb[\"Hate_Speech\"].values).intersection(set(top_verb[\"No_Hate\"].values)))"
   ]
  },
  {
   "cell_type": "code",
   "execution_count": 57,
   "metadata": {},
   "outputs": [],
   "source": [
    "freq_common_no_verb = [verb_counter_no[x] for x in common_verb]\n",
    "freq_common_hate_verb = [verb_counter1[x] for x in common_verb]"
   ]
  },
  {
   "cell_type": "code",
   "execution_count": 58,
   "metadata": {},
   "outputs": [],
   "source": [
    "common_verb_df = pd.DataFrame({\"Verb\" : common_verb, \"Freq_No_Hate\": freq_common_no_verb, \"Freq_Hate_Speech\": freq_common_hate_verb } )\n",
    "common_verb_df = common_verb_df.sort_values(by = ['Freq_Hate_Speech'], ascending = False, ignore_index=True)"
   ]
  },
  {
   "cell_type": "code",
   "execution_count": 59,
   "metadata": {},
   "outputs": [],
   "source": [
    "with open(\"serialized/top20verb.pkl\", \"wb\") as f:\n",
    "    pickle.dump(common_verb_df, f)"
   ]
  },
  {
   "cell_type": "code",
   "execution_count": 60,
   "metadata": {},
   "outputs": [
    {
     "data": {
      "image/png": "[encoded data removed]",
      "text/plain": [
       "<Figure size 864x504 with 2 Axes>"
      ]
     },
     "metadata": {
      "needs_background": "light"
     },
     "output_type": "display_data"
    }
   ],
   "source": [
    "common_verb_df.set_index(\"Verb\").plot(secondary_y=['Freq_Hate_Speech'], kind='bar', color=['lightblue', 'royalblue'], figsize=(12,7), width=0.6)\n",
    "#plt.tick_params(axis= 'y', colors = 'grey')\n",
    "#plt.grid(True)\n",
    "plt.title('Difference in frequency for Verbs between labels', fontsize = 13)#.set_color(\"grey\")\n",
    "plt.savefig(\"images_d\\Verb_tot_hate.png\")\n",
    "plt.show()"
   ]
  },
  {
   "cell_type": "code",
   "execution_count": null,
   "metadata": {},
   "outputs": [],
   "source": []
  },
  {
   "cell_type": "markdown",
   "metadata": {},
   "source": [
    "### Cloud of top words"
   ]
  },
  {
   "cell_type": "code",
   "execution_count": 61,
   "metadata": {},
   "outputs": [],
   "source": [
    "total = {**top_20_adj1 , **top_20_noun1, **top_20_propn1}"
   ]
  },
  {
   "cell_type": "code",
   "execution_count": 62,
   "metadata": {},
   "outputs": [
    {
     "data": {
      "image/png": "[encoded data removed]",
      "text/plain": [
       "<Figure size 432x288 with 1 Axes>"
      ]
     },
     "metadata": {
      "needs_background": "light"
     },
     "output_type": "display_data"
    }
   ],
   "source": [
    "path = \"C:/Users/marti/OneDrive - Università degli Studi di Milano/Desktop/Text mining before final version/images/hate5b.png\"\n",
    "mask = np.array(Image.open(path))\n",
    "wordcloud = WordCloud(width=5000, height=400, colormap=\"Reds\", background_color=\"black\", mask=mask).generate_from_frequencies(total)\n",
    "plt.imshow(wordcloud, interpolation=\"bilinear\")\n",
    "plt.axis(\"off\")\n",
    "plt.tight_layout(pad=0)\n",
    "figsize=(10,8)\n",
    "wordcloud.to_file(\"images_d\\wc_tot_hate.png\")\n",
    "plt.show()"
   ]
  },
  {
   "cell_type": "code",
   "execution_count": null,
   "metadata": {},
   "outputs": [],
   "source": []
  },
  {
   "cell_type": "markdown",
   "metadata": {},
   "source": [
    "## 4. Sentiment Analysis by nltk VEDER "
   ]
  },
  {
   "cell_type": "code",
   "execution_count": 63,
   "metadata": {},
   "outputs": [],
   "source": [
    "def filter_text_pos(x):\n",
    "    final_pos_text = []\n",
    "    for elem in x:\n",
    "        for pos in pos_list:\n",
    "            if elem[1] == pos:\n",
    "                final_pos_text.append(elem[0])\n",
    "    \n",
    "    return \" \".join(final_pos_text)"
   ]
  },
  {
   "cell_type": "code",
   "execution_count": 64,
   "metadata": {},
   "outputs": [
    {
     "name": "stdout",
     "output_type": "stream",
     "text": [
      "-0.1345571236474063\n"
     ]
    }
   ],
   "source": [
    "sia = vd.SentimentIntensityAnalyzer()\n",
    "pos_list = [\"NOUN\", \"VERB\", \"DET\", \"ADP\", \"ADJ\" ]\n",
    "data[\"NOUN_VERB_DET_ADP_ADJ\"] = data.apply(lambda x: filter_text_pos(x[\"POS_spacy\"]), axis=1)\n",
    "data['sentiment_NOUN_VERB_DET_ADP_ADJ'] = data[\"NOUN_VERB_DET_ADP_ADJ\"].apply(lambda x: sum([sia.polarity_scores(i)['compound'] for i in word_tokenize(x)]))\n",
    "col1 = data['label']\n",
    "col2 = data['sentiment_NOUN_VERB_DET_ADP_ADJ']\n",
    "correl_NOUN_VERB_DET_ADP_ADJ = col1.corr(col2)\n",
    "print(correl_NOUN_VERB_DET_ADP_ADJ)"
   ]
  },
  {
   "cell_type": "code",
   "execution_count": 65,
   "metadata": {},
   "outputs": [
    {
     "name": "stdout",
     "output_type": "stream",
     "text": [
      "-0.13406183240476716\n"
     ]
    }
   ],
   "source": [
    "pos_list = [\"NOUN\",\"PROPN\", \"VERB\", \"ADJ\", \"ADV\", \"ADP\", \"DET\" ]\n",
    "data[\"NOUN_PROPN_VERB_ADJ_ADV_ADP_DET\"] = data.apply(lambda x: filter_text_pos(x[\"POS_spacy\"]), axis=1)\n",
    "data['sentiment_NOUN_PROPN_VERB_ADJ_ADV_ADP_DET'] = data[\"NOUN_PROPN_VERB_ADJ_ADV_ADP_DET\"].apply(lambda x: sum([sia.polarity_scores(i)['compound'] for i in word_tokenize(x)]))\n",
    "col1 = data['label']\n",
    "col2 = data['sentiment_NOUN_PROPN_VERB_ADJ_ADV_ADP_DET']\n",
    "correl_NOUN_PROPN_VERB_ADJ_ADV_ADP_DET = col1.corr(col2)\n",
    "print(correl_NOUN_PROPN_VERB_ADJ_ADV_ADP_DET)"
   ]
  },
  {
   "cell_type": "code",
   "execution_count": 66,
   "metadata": {},
   "outputs": [
    {
     "name": "stdout",
     "output_type": "stream",
     "text": [
      "-0.13391474909642492\n"
     ]
    }
   ],
   "source": [
    "pos_list = [\"NOUN\",\"PROPN\", \"VERB\", \"ADJ\", \"ADV\",  \"DET\" ]\n",
    "data[\"NOUN_PROPN_VERB_ADJ_ADV_DET\"] = data.apply(lambda x: filter_text_pos(x[\"POS_spacy\"]), axis=1)\n",
    "data['sentiment_NOUN_PROPN_VERB_ADJ_ADV_DET'] = data[\"NOUN_PROPN_VERB_ADJ_ADV_DET\"].apply(lambda x: sum([sia.polarity_scores(i)['compound'] for i in word_tokenize(x)]))\n",
    "col1 = data['label']\n",
    "col2 = data['sentiment_NOUN_PROPN_VERB_ADJ_ADV_DET']\n",
    "correl_NOUN_PROPN_VERB_ADJ_ADV_DET = col1.corr(col2)\n",
    "print(correl_NOUN_PROPN_VERB_ADJ_ADV_DET)"
   ]
  },
  {
   "cell_type": "code",
   "execution_count": 67,
   "metadata": {},
   "outputs": [
    {
     "name": "stdout",
     "output_type": "stream",
     "text": [
      "-0.12969309956905445\n"
     ]
    }
   ],
   "source": [
    "pos_list = [\"NOUN\",\"PROPN\", \"VERB\", \"ADJ\", \"ADV\", \"ADP\" ]\n",
    "data[\"NOUN_PROPN_VERB_ADJ_ADV_ADP\"] = data.apply(lambda x: filter_text_pos(x[\"POS_spacy\"]), axis=1)\n",
    "data['sentiment_NOUN_PROPN_VERB_ADJ_ADV_ADP'] = data[\"NOUN_PROPN_VERB_ADJ_ADV_ADP\"].apply(lambda x: sum([sia.polarity_scores(i)['compound'] for i in word_tokenize(x)]))\n",
    "col1 = data['label']\n",
    "col2 = data['sentiment_NOUN_PROPN_VERB_ADJ_ADV_ADP']\n",
    "correl_NOUN_PROPN_VERB_ADJ_ADV_ADP = col1.corr(col2)\n",
    "print(correl_NOUN_PROPN_VERB_ADJ_ADV_ADP)"
   ]
  },
  {
   "cell_type": "code",
   "execution_count": 68,
   "metadata": {},
   "outputs": [
    {
     "name": "stdout",
     "output_type": "stream",
     "text": [
      "-0.12955040688521188\n"
     ]
    }
   ],
   "source": [
    "pos_list = [\"NOUN\",\"PROPN\", \"VERB\", \"ADJ\", \"ADV\" ]\n",
    "data[\"NOUN_PROPN_VERB_ADJ_ADV\"] = data.apply(lambda x: filter_text_pos(x[\"POS_spacy\"]), axis=1)\n",
    "data['sentiment_NOUN_PROPN_VERB_ADJ_ADV'] = data[\"NOUN_PROPN_VERB_ADJ_ADV\"].apply(lambda x: sum([sia.polarity_scores(i)['compound'] for i in word_tokenize(x)]))\n",
    "col1 = data['label']\n",
    "col2 = data['sentiment_NOUN_PROPN_VERB_ADJ_ADV']\n",
    "correl_NOUN_PROPN_VERB_ADJ_ADV = col1.corr(col2)\n",
    "print(correl_NOUN_PROPN_VERB_ADJ_ADV)"
   ]
  },
  {
   "cell_type": "code",
   "execution_count": 69,
   "metadata": {},
   "outputs": [
    {
     "name": "stdout",
     "output_type": "stream",
     "text": [
      "-0.12328124218885073\n"
     ]
    }
   ],
   "source": [
    "data['sentiment_text'] = data[\"lemmatized\"].apply(lambda x: sum([sia.polarity_scores(i)['compound'] for i in word_tokenize(x)]))\n",
    "col1 = data['label']\n",
    "col2 = data['sentiment_text']\n",
    "correl_text = col1.corr(col2)\n",
    "print(correl_text)"
   ]
  },
  {
   "cell_type": "code",
   "execution_count": 70,
   "metadata": {},
   "outputs": [
    {
     "name": "stdout",
     "output_type": "stream",
     "text": [
      "-0.12064447028606412\n"
     ]
    }
   ],
   "source": [
    "pos_list = [\"NOUN\",\"PROPN\", \"VERB\", \"ADJ\", \"ADV\", \"SCONJ\"]\n",
    "data[\"NOUN_PROPN_VERB_ADJ_ADV_SCONJ\"] = data.apply(lambda x: filter_text_pos(x[\"POS_spacy\"]), axis=1)\n",
    "data['sentiment_NOUN_PROPN_VERB_ADJ_ADV_SCONJ'] = data[\"NOUN_PROPN_VERB_ADJ_ADV_SCONJ\"].apply(lambda x: sum([sia.polarity_scores(i)['compound'] for i in word_tokenize(x)]))\n",
    "col1 = data['label']\n",
    "col2 = data['sentiment_NOUN_PROPN_VERB_ADJ_ADV_SCONJ']\n",
    "correl_NOUN_PROPN_VERB_ADJ_ADV_SCONJ = col1.corr(col2)\n",
    "print(correl_NOUN_PROPN_VERB_ADJ_ADV_SCONJ)"
   ]
  },
  {
   "cell_type": "code",
   "execution_count": 71,
   "metadata": {},
   "outputs": [
    {
     "name": "stdout",
     "output_type": "stream",
     "text": [
      "-0.10994786289813493\n"
     ]
    }
   ],
   "source": [
    "pos_list = [\"NOUN\",\"PROPN\", \"ADJ\", \"ADV\" ]\n",
    "data[\"NOUN_PROPN_ADJ_ADV\"] = data.apply(lambda x: filter_text_pos(x[\"POS_spacy\"]), axis=1)\n",
    "data['sentiment_NOUN_PROPN_ADJ_ADV'] = data[\"NOUN_PROPN_ADJ_ADV\"].apply(lambda x: sum([sia.polarity_scores(i)['compound'] for i in word_tokenize(x)]))\n",
    "col1 = data['label']\n",
    "col2 = data['sentiment_NOUN_PROPN_ADJ_ADV']\n",
    "correl_NOUN_PROPN_ADJ_ADV = col1.corr(col2)\n",
    "print(correl_NOUN_PROPN_ADJ_ADV)"
   ]
  },
  {
   "cell_type": "code",
   "execution_count": 72,
   "metadata": {},
   "outputs": [
    {
     "name": "stdout",
     "output_type": "stream",
     "text": [
      "-0.10955694069320285\n"
     ]
    }
   ],
   "source": [
    "pos_list = [\"NOUN\",\"PROPN\", \"ADJ\" ]\n",
    "data[\"NOUN_PROPN_ADJ\"] = data.apply(lambda x: filter_text_pos(x[\"POS_spacy\"]), axis=1)\n",
    "data['sentiment_NOUN_PROPN_ADJ'] = data[\"NOUN_PROPN_ADJ\"].apply(lambda x: sum([sia.polarity_scores(i)['compound'] for i in word_tokenize(x)]))\n",
    "col1 = data['label']\n",
    "col2 = data['sentiment_NOUN_PROPN_ADJ']\n",
    "correl_NOUN_PROPN_ADJ = col1.corr(col2)\n",
    "print(correl_NOUN_PROPN_ADJ)"
   ]
  },
  {
   "cell_type": "code",
   "execution_count": 73,
   "metadata": {},
   "outputs": [
    {
     "name": "stdout",
     "output_type": "stream",
     "text": [
      "-0.08579024709360271\n"
     ]
    }
   ],
   "source": [
    "data['sentiment_ADJ'] = data[\"ADJ\"].apply(lambda x: sum([sia.polarity_scores(i)['compound'] for i in word_tokenize(x)]))\n",
    "col1 = data['label']\n",
    "col2 = data['sentiment_ADJ']\n",
    "correl_ADJ = col1.corr(col2)\n",
    "print(correl_ADJ)"
   ]
  },
  {
   "cell_type": "code",
   "execution_count": 74,
   "metadata": {},
   "outputs": [
    {
     "name": "stdout",
     "output_type": "stream",
     "text": [
      "-0.08221487852960037\n"
     ]
    }
   ],
   "source": [
    "data['sentiment_VERB'] = data[\"VERB\"].apply(lambda x: sum([sia.polarity_scores(i)['compound'] for i in word_tokenize(x)]))\n",
    "col1 = data['label']\n",
    "col2 = data['sentiment_VERB']\n",
    "correl_VERB = col1.corr(col2)\n",
    "print(correl_VERB)"
   ]
  },
  {
   "cell_type": "code",
   "execution_count": 75,
   "metadata": {},
   "outputs": [
    {
     "name": "stdout",
     "output_type": "stream",
     "text": [
      "-0.07673258352489348\n"
     ]
    }
   ],
   "source": [
    "data['sentiment_NOUN'] = data[\"NOUN\"].apply(lambda x: sum([sia.polarity_scores(i)['compound'] for i in word_tokenize(x)]))\n",
    "col1 = data['label']\n",
    "col2 = data['sentiment_NOUN']\n",
    "correl_NOUN = col1.corr(col2)\n",
    "print(correl_NOUN)"
   ]
  },
  {
   "cell_type": "code",
   "execution_count": 76,
   "metadata": {},
   "outputs": [
    {
     "name": "stdout",
     "output_type": "stream",
     "text": [
      "-0.052735370519527765\n"
     ]
    }
   ],
   "source": [
    "pos_list = [\"DET\"]\n",
    "data[\"DET\"] = data.apply(lambda x: filter_text_pos(x[\"POS_spacy\"]), axis=1)\n",
    "data['sentiment_DET'] = data[\"DET\"].apply(lambda x: sum([sia.polarity_scores(i)['compound'] for i in word_tokenize(x)]))\n",
    "col1 = data['label']\n",
    "col2 = data['sentiment_DET']\n",
    "correl_DET = col1.corr(col2)\n",
    "print(correl_DET)"
   ]
  },
  {
   "cell_type": "code",
   "execution_count": 77,
   "metadata": {},
   "outputs": [
    {
     "name": "stdout",
     "output_type": "stream",
     "text": [
      "-0.016940121253982872\n"
     ]
    }
   ],
   "source": [
    "data['sentiment_PROPN'] = data[\"PROPN\"].apply(lambda x: sum([sia.polarity_scores(i)['compound'] for i in word_tokenize(x)]))\n",
    "col1 = data['label']\n",
    "col2 = data['sentiment_PROPN']\n",
    "correl_PROPN = col1.corr(col2)\n",
    "print(correl_PROPN)"
   ]
  },
  {
   "cell_type": "code",
   "execution_count": 78,
   "metadata": {},
   "outputs": [
    {
     "name": "stdout",
     "output_type": "stream",
     "text": [
      "-0.016532715203977234\n"
     ]
    }
   ],
   "source": [
    "data['sentiment_ADV'] = data[\"ADV\"].apply(lambda x: sum([sia.polarity_scores(i)['compound'] for i in word_tokenize(x)]))\n",
    "col1 = data['label']\n",
    "col2 = data['sentiment_ADV']\n",
    "correl_ADV = col1.corr(col2)\n",
    "print(correl_ADV)"
   ]
  },
  {
   "cell_type": "code",
   "execution_count": 79,
   "metadata": {},
   "outputs": [
    {
     "name": "stdout",
     "output_type": "stream",
     "text": [
      "-0.00908902676846732\n"
     ]
    }
   ],
   "source": [
    "pos_list = [\"ADP\"]\n",
    "data[\"ADP\"] = data.apply(lambda x: filter_text_pos(x[\"POS_spacy\"]), axis=1)\n",
    "data['sentiment_ADP'] = data[\"ADP\"].apply(lambda x: sum([sia.polarity_scores(i)['compound'] for i in word_tokenize(x)]))\n",
    "col1 = data['label']\n",
    "col2 = data['sentiment_ADP']\n",
    "correl_PROPN = col1.corr(col2)\n",
    "print(correl_PROPN)"
   ]
  },
  {
   "cell_type": "code",
   "execution_count": 80,
   "metadata": {},
   "outputs": [
    {
     "name": "stdout",
     "output_type": "stream",
     "text": [
      "-0.0034744508004525537\n"
     ]
    }
   ],
   "source": [
    "data['sentiment_PRON'] = data[\"PRON\"].apply(lambda x: sum([sia.polarity_scores(i)['compound'] for i in word_tokenize(x)]))\n",
    "col1 = data['label']\n",
    "col2 = data['sentiment_PRON']\n",
    "correl_PRON = col1.corr(col2)\n",
    "print(correl_PRON)"
   ]
  },
  {
   "cell_type": "code",
   "execution_count": 81,
   "metadata": {},
   "outputs": [
    {
     "name": "stdout",
     "output_type": "stream",
     "text": [
      "0.04782244182932744\n"
     ]
    }
   ],
   "source": [
    "data['sentiment_SCONJ'] = data[\"SCONJ\"].apply(lambda x: sum([sia.polarity_scores(i)['compound'] for i in word_tokenize(x)]))\n",
    "col1 = data['label']\n",
    "col2 = data['sentiment_SCONJ']\n",
    "correl_SCONJ = col1.corr(col2)\n",
    "print(correl_SCONJ)"
   ]
  },
  {
   "cell_type": "code",
   "execution_count": null,
   "metadata": {},
   "outputs": [],
   "source": []
  }
 ],
 "metadata": {
  "kernelspec": {
   "display_name": "Python 3",
   "language": "python",
   "name": "python3"
  },
  "language_info": {
   "codemirror_mode": {
    "name": "ipython",
    "version": 3
   },
   "file_extension": ".py",
   "mimetype": "text/x-python",
   "name": "python",
   "nbconvert_exporter": "python",
   "pygments_lexer": "ipython3",
   "version": "3.8.5"
  }
 },
 "nbformat": 4,
 "nbformat_minor": 4
}
