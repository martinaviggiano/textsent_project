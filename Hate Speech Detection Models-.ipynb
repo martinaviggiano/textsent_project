{
 "cells": [
  {
   "cell_type": "markdown",
   "metadata": {},
   "source": [
    "# HATE SPEECH DETECTION - Sentiment Analysis Project\n",
    "\n",
    "\n",
    "Viggiano Martina (954603)"
   ]
  },
  {
   "cell_type": "markdown",
   "metadata": {},
   "source": [
    "## 1. Data import and error removal\n",
    "Hate speech dataset from a white supremacist forum:  https://github.com/Vicomtech/hate-speech-dataset"
   ]
  },
  {
   "cell_type": "code",
   "execution_count": 1,
   "metadata": {
    "execution": {
     "iopub.execute_input": "2021-04-13T19:41:43.266996Z",
     "iopub.status.busy": "2021-04-13T19:41:43.266711Z",
     "iopub.status.idle": "2021-04-13T19:41:43.658246Z",
     "shell.execute_reply": "2021-04-13T19:41:43.657234Z",
     "shell.execute_reply.started": "2021-04-13T19:41:43.266964Z"
    }
   },
   "outputs": [
    {
     "name": "stderr",
     "output_type": "stream",
     "text": [
      "C:\\Users\\marti\\anaconda3\\lib\\site-packages\\tqdm\\std.py:697: FutureWarning: The Panel class is removed from pandas. Accessing it from the top-level namespace will also be removed in the next version\n",
      "  from pandas import Panel\n"
     ]
    }
   ],
   "source": [
    "import pandas as pd\n",
    "import numpy as np\n",
    "import glob\n",
    "import os\n",
    "from tqdm import tqdm\n",
    "import ntpath\n",
    "from sklearn.feature_extraction.text import CountVectorizer, TfidfVectorizer\n",
    "import matplotlib.pyplot as plt\n",
    "tqdm.pandas()"
   ]
  },
  {
   "cell_type": "code",
   "execution_count": 2,
   "metadata": {
    "execution": {
     "iopub.execute_input": "2021-04-13T19:41:44.161998Z",
     "iopub.status.busy": "2021-04-13T19:41:44.161743Z",
     "iopub.status.idle": "2021-04-13T19:41:44.193604Z",
     "shell.execute_reply": "2021-04-13T19:41:44.192912Z",
     "shell.execute_reply.started": "2021-04-13T19:41:44.161973Z"
    }
   },
   "outputs": [],
   "source": [
    "all_files_paths = glob.glob(\"hate-speech-dataset/all_files/*.txt\")"
   ]
  },
  {
   "cell_type": "code",
   "execution_count": 3,
   "metadata": {
    "execution": {
     "iopub.execute_input": "2021-04-13T19:41:44.667316Z",
     "iopub.status.busy": "2021-04-13T19:41:44.666609Z",
     "iopub.status.idle": "2021-04-13T19:41:45.442194Z",
     "shell.execute_reply": "2021-04-13T19:41:45.441283Z",
     "shell.execute_reply.started": "2021-04-13T19:41:44.667235Z"
    }
   },
   "outputs": [],
   "source": [
    "all_files_paths = [f for f in all_files_paths if os.path.isfile(f)]"
   ]
  },
  {
   "cell_type": "code",
   "execution_count": 4,
   "metadata": {
    "execution": {
     "iopub.execute_input": "2021-04-13T19:41:45.453641Z",
     "iopub.status.busy": "2021-04-13T19:41:45.453476Z",
     "iopub.status.idle": "2021-04-13T19:41:45.489155Z",
     "shell.execute_reply": "2021-04-13T19:41:45.488473Z",
     "shell.execute_reply.started": "2021-04-13T19:41:45.453621Z"
    }
   },
   "outputs": [],
   "source": [
    "all_files_names = [str(ntpath.basename(f)).replace(\".txt\", \"\") for f in all_files_paths]"
   ]
  },
  {
   "cell_type": "code",
   "execution_count": 5,
   "metadata": {
    "execution": {
     "iopub.execute_input": "2021-04-13T19:41:45.951405Z",
     "iopub.status.busy": "2021-04-13T19:41:45.950713Z",
     "iopub.status.idle": "2021-04-13T19:41:47.634339Z",
     "shell.execute_reply": "2021-04-13T19:41:47.633827Z",
     "shell.execute_reply.started": "2021-04-13T19:41:45.951326Z"
    }
   },
   "outputs": [
    {
     "name": "stderr",
     "output_type": "stream",
     "text": [
      "100%|██████████| 10944/10944 [00:01<00:00, 8567.09it/s]\n"
     ]
    }
   ],
   "source": [
    "txt_content = {}\n",
    "errors = []\n",
    "for name, path in tqdm(list(zip(all_files_names, all_files_paths))):\n",
    "    with open(path, \"r\") as txt:\n",
    "        try:\n",
    "            txt_content[name] = txt.readline()\n",
    "        except Exception as ex:\n",
    "            errors.append((name, str(ex)))"
   ]
  },
  {
   "cell_type": "code",
   "execution_count": 6,
   "metadata": {
    "execution": {
     "iopub.execute_input": "2021-04-13T19:41:48.367469Z",
     "iopub.status.busy": "2021-04-13T19:41:48.367219Z",
     "iopub.status.idle": "2021-04-13T19:41:48.371709Z",
     "shell.execute_reply": "2021-04-13T19:41:48.370960Z",
     "shell.execute_reply.started": "2021-04-13T19:41:48.367441Z"
    },
    "scrolled": true
   },
   "outputs": [
    {
     "data": {
      "text/plain": [
       "[('13491591_4',\n",
       "  \"'charmap' codec can't decode byte 0x81 in position 23: character maps to <undefined>\"),\n",
       " ('13493456_1',\n",
       "  \"'charmap' codec can't decode byte 0x81 in position 169: character maps to <undefined>\"),\n",
       " ('13500400_1',\n",
       "  \"'charmap' codec can't decode byte 0x81 in position 67: character maps to <undefined>\"),\n",
       " ('13560796_1',\n",
       "  \"'charmap' codec can't decode byte 0x81 in position 5: character maps to <undefined>\"),\n",
       " ('13572081_1',\n",
       "  \"'charmap' codec can't decode byte 0x81 in position 3: character maps to <undefined>\"),\n",
       " ('13588794_3',\n",
       "  \"'charmap' codec can't decode byte 0x81 in position 54: character maps to <undefined>\"),\n",
       " ('13595072_1',\n",
       "  \"'charmap' codec can't decode byte 0x8d in position 75: character maps to <undefined>\"),\n",
       " ('13595072_5',\n",
       "  \"'charmap' codec can't decode byte 0x8d in position 78: character maps to <undefined>\"),\n",
       " ('14061724_1',\n",
       "  \"'charmap' codec can't decode byte 0x81 in position 181: character maps to <undefined>\"),\n",
       " ('14065492_1',\n",
       "  \"'charmap' codec can't decode byte 0x90 in position 203: character maps to <undefined>\"),\n",
       " ('30422455_1',\n",
       "  \"'charmap' codec can't decode byte 0x8d in position 94: character maps to <undefined>\"),\n",
       " ('30422455_2',\n",
       "  \"'charmap' codec can't decode byte 0x8d in position 65: character maps to <undefined>\"),\n",
       " ('30443860_2',\n",
       "  \"'charmap' codec can't decode byte 0x90 in position 20: character maps to <undefined>\"),\n",
       " ('30569404_3',\n",
       "  \"'charmap' codec can't decode byte 0x8d in position 55: character maps to <undefined>\"),\n",
       " ('30586603_2',\n",
       "  \"'charmap' codec can't decode byte 0x8d in position 235: character maps to <undefined>\"),\n",
       " ('30659540_3',\n",
       "  \"'charmap' codec can't decode byte 0x8f in position 68: character maps to <undefined>\"),\n",
       " ('33500574_1',\n",
       "  \"'charmap' codec can't decode byte 0x90 in position 1: character maps to <undefined>\"),\n",
       " ('33500574_2',\n",
       "  \"'charmap' codec can't decode byte 0x90 in position 1: character maps to <undefined>\")]"
      ]
     },
     "execution_count": 6,
     "metadata": {},
     "output_type": "execute_result"
    }
   ],
   "source": [
    "errors"
   ]
  },
  {
   "cell_type": "code",
   "execution_count": 7,
   "metadata": {
    "execution": {
     "iopub.execute_input": "2021-04-13T19:41:49.279295Z",
     "iopub.status.busy": "2021-04-13T19:41:49.278004Z",
     "iopub.status.idle": "2021-04-13T19:41:49.289284Z",
     "shell.execute_reply": "2021-04-13T19:41:49.287796Z",
     "shell.execute_reply.started": "2021-04-13T19:41:49.279130Z"
    }
   },
   "outputs": [],
   "source": [
    "errors_list = [err[0] for err in errors]"
   ]
  },
  {
   "cell_type": "code",
   "execution_count": 8,
   "metadata": {
    "execution": {
     "iopub.execute_input": "2021-04-13T19:41:49.773335Z",
     "iopub.status.busy": "2021-04-13T19:41:49.772542Z",
     "iopub.status.idle": "2021-04-13T19:41:49.797825Z",
     "shell.execute_reply": "2021-04-13T19:41:49.797102Z",
     "shell.execute_reply.started": "2021-04-13T19:41:49.773219Z"
    }
   },
   "outputs": [],
   "source": [
    "df = pd.DataFrame.from_dict(txt_content, orient='index').reset_index()\n",
    "df.columns = [\"file_id\", \"text\"]"
   ]
  },
  {
   "cell_type": "code",
   "execution_count": 9,
   "metadata": {
    "execution": {
     "iopub.execute_input": "2021-04-13T19:41:50.654305Z",
     "iopub.status.busy": "2021-04-13T19:41:50.653589Z",
     "iopub.status.idle": "2021-04-13T19:41:50.676955Z",
     "shell.execute_reply": "2021-04-13T19:41:50.675693Z",
     "shell.execute_reply.started": "2021-04-13T19:41:50.654213Z"
    }
   },
   "outputs": [
    {
     "data": {
      "text/html": [
       "<div>\n",
       "<style scoped>\n",
       "    .dataframe tbody tr th:only-of-type {\n",
       "        vertical-align: middle;\n",
       "    }\n",
       "\n",
       "    .dataframe tbody tr th {\n",
       "        vertical-align: top;\n",
       "    }\n",
       "\n",
       "    .dataframe thead th {\n",
       "        text-align: right;\n",
       "    }\n",
       "</style>\n",
       "<table border=\"1\" class=\"dataframe\">\n",
       "  <thead>\n",
       "    <tr style=\"text-align: right;\">\n",
       "      <th></th>\n",
       "      <th>file_id</th>\n",
       "      <th>text</th>\n",
       "    </tr>\n",
       "  </thead>\n",
       "  <tbody>\n",
       "    <tr>\n",
       "      <th>0</th>\n",
       "      <td>12834217_1</td>\n",
       "      <td>As of March 13th , 2014 , the booklet had been...</td>\n",
       "    </tr>\n",
       "    <tr>\n",
       "      <th>1</th>\n",
       "      <td>12834217_10</td>\n",
       "      <td>Thank you in advance. : ) Download the youtube...</td>\n",
       "    </tr>\n",
       "    <tr>\n",
       "      <th>2</th>\n",
       "      <td>12834217_2</td>\n",
       "      <td>In order to help increase the booklets downloa...</td>\n",
       "    </tr>\n",
       "    <tr>\n",
       "      <th>3</th>\n",
       "      <td>12834217_3</td>\n",
       "      <td>( Simply copy and paste the following text int...</td>\n",
       "    </tr>\n",
       "    <tr>\n",
       "      <th>4</th>\n",
       "      <td>12834217_4</td>\n",
       "      <td>Click below for a FREE download of a colorfull...</td>\n",
       "    </tr>\n",
       "  </tbody>\n",
       "</table>\n",
       "</div>"
      ],
      "text/plain": [
       "       file_id                                               text\n",
       "0   12834217_1  As of March 13th , 2014 , the booklet had been...\n",
       "1  12834217_10  Thank you in advance. : ) Download the youtube...\n",
       "2   12834217_2  In order to help increase the booklets downloa...\n",
       "3   12834217_3  ( Simply copy and paste the following text int...\n",
       "4   12834217_4  Click below for a FREE download of a colorfull..."
      ]
     },
     "execution_count": 9,
     "metadata": {},
     "output_type": "execute_result"
    }
   ],
   "source": [
    "df.head()"
   ]
  },
  {
   "cell_type": "code",
   "execution_count": 10,
   "metadata": {
    "execution": {
     "iopub.execute_input": "2021-04-13T19:41:54.535670Z",
     "iopub.status.busy": "2021-04-13T19:41:54.535200Z",
     "iopub.status.idle": "2021-04-13T19:41:54.558561Z",
     "shell.execute_reply": "2021-04-13T19:41:54.557202Z",
     "shell.execute_reply.started": "2021-04-13T19:41:54.535615Z"
    }
   },
   "outputs": [],
   "source": [
    "ann = pd.read_csv('hate-speech-dataset/annotations_metadata.csv')"
   ]
  },
  {
   "cell_type": "code",
   "execution_count": 11,
   "metadata": {
    "execution": {
     "iopub.execute_input": "2021-04-13T19:41:55.562888Z",
     "iopub.status.busy": "2021-04-13T19:41:55.562151Z",
     "iopub.status.idle": "2021-04-13T19:41:55.580248Z",
     "shell.execute_reply": "2021-04-13T19:41:55.579237Z",
     "shell.execute_reply.started": "2021-04-13T19:41:55.562804Z"
    }
   },
   "outputs": [
    {
     "data": {
      "text/html": [
       "<div>\n",
       "<style scoped>\n",
       "    .dataframe tbody tr th:only-of-type {\n",
       "        vertical-align: middle;\n",
       "    }\n",
       "\n",
       "    .dataframe tbody tr th {\n",
       "        vertical-align: top;\n",
       "    }\n",
       "\n",
       "    .dataframe thead th {\n",
       "        text-align: right;\n",
       "    }\n",
       "</style>\n",
       "<table border=\"1\" class=\"dataframe\">\n",
       "  <thead>\n",
       "    <tr style=\"text-align: right;\">\n",
       "      <th></th>\n",
       "      <th>file_id</th>\n",
       "      <th>user_id</th>\n",
       "      <th>subforum_id</th>\n",
       "      <th>num_contexts</th>\n",
       "      <th>label</th>\n",
       "    </tr>\n",
       "  </thead>\n",
       "  <tbody>\n",
       "    <tr>\n",
       "      <th>0</th>\n",
       "      <td>12834217_1</td>\n",
       "      <td>572066</td>\n",
       "      <td>1346</td>\n",
       "      <td>0</td>\n",
       "      <td>noHate</td>\n",
       "    </tr>\n",
       "    <tr>\n",
       "      <th>1</th>\n",
       "      <td>12834217_2</td>\n",
       "      <td>572066</td>\n",
       "      <td>1346</td>\n",
       "      <td>0</td>\n",
       "      <td>noHate</td>\n",
       "    </tr>\n",
       "    <tr>\n",
       "      <th>2</th>\n",
       "      <td>12834217_3</td>\n",
       "      <td>572066</td>\n",
       "      <td>1346</td>\n",
       "      <td>0</td>\n",
       "      <td>noHate</td>\n",
       "    </tr>\n",
       "    <tr>\n",
       "      <th>3</th>\n",
       "      <td>12834217_4</td>\n",
       "      <td>572066</td>\n",
       "      <td>1346</td>\n",
       "      <td>0</td>\n",
       "      <td>hate</td>\n",
       "    </tr>\n",
       "    <tr>\n",
       "      <th>4</th>\n",
       "      <td>12834217_5</td>\n",
       "      <td>572066</td>\n",
       "      <td>1346</td>\n",
       "      <td>0</td>\n",
       "      <td>noHate</td>\n",
       "    </tr>\n",
       "  </tbody>\n",
       "</table>\n",
       "</div>"
      ],
      "text/plain": [
       "      file_id  user_id  subforum_id  num_contexts   label\n",
       "0  12834217_1   572066         1346             0  noHate\n",
       "1  12834217_2   572066         1346             0  noHate\n",
       "2  12834217_3   572066         1346             0  noHate\n",
       "3  12834217_4   572066         1346             0    hate\n",
       "4  12834217_5   572066         1346             0  noHate"
      ]
     },
     "execution_count": 11,
     "metadata": {},
     "output_type": "execute_result"
    }
   ],
   "source": [
    "ann.head()"
   ]
  },
  {
   "cell_type": "code",
   "execution_count": 12,
   "metadata": {
    "execution": {
     "iopub.execute_input": "2021-04-13T19:41:56.051924Z",
     "iopub.status.busy": "2021-04-13T19:41:56.050751Z",
     "iopub.status.idle": "2021-04-13T19:41:56.072639Z",
     "shell.execute_reply": "2021-04-13T19:41:56.071101Z",
     "shell.execute_reply.started": "2021-04-13T19:41:56.051789Z"
    }
   },
   "outputs": [],
   "source": [
    "ann = ann[~ann['file_id'].isin(errors_list)]"
   ]
  },
  {
   "cell_type": "code",
   "execution_count": 13,
   "metadata": {
    "execution": {
     "iopub.execute_input": "2021-04-13T19:41:56.348498Z",
     "iopub.status.busy": "2021-04-13T19:41:56.347680Z",
     "iopub.status.idle": "2021-04-13T19:41:56.384187Z",
     "shell.execute_reply": "2021-04-13T19:41:56.383286Z",
     "shell.execute_reply.started": "2021-04-13T19:41:56.348412Z"
    }
   },
   "outputs": [
    {
     "data": {
      "text/html": [
       "<div>\n",
       "<style scoped>\n",
       "    .dataframe tbody tr th:only-of-type {\n",
       "        vertical-align: middle;\n",
       "    }\n",
       "\n",
       "    .dataframe tbody tr th {\n",
       "        vertical-align: top;\n",
       "    }\n",
       "\n",
       "    .dataframe thead th {\n",
       "        text-align: right;\n",
       "    }\n",
       "</style>\n",
       "<table border=\"1\" class=\"dataframe\">\n",
       "  <thead>\n",
       "    <tr style=\"text-align: right;\">\n",
       "      <th></th>\n",
       "      <th>file_id</th>\n",
       "      <th>user_id</th>\n",
       "      <th>subforum_id</th>\n",
       "      <th>num_contexts</th>\n",
       "      <th>label</th>\n",
       "      <th>text</th>\n",
       "    </tr>\n",
       "  </thead>\n",
       "  <tbody>\n",
       "    <tr>\n",
       "      <th>0</th>\n",
       "      <td>12834217_1</td>\n",
       "      <td>572066</td>\n",
       "      <td>1346</td>\n",
       "      <td>0</td>\n",
       "      <td>noHate</td>\n",
       "      <td>As of March 13th , 2014 , the booklet had been...</td>\n",
       "    </tr>\n",
       "    <tr>\n",
       "      <th>1</th>\n",
       "      <td>12834217_2</td>\n",
       "      <td>572066</td>\n",
       "      <td>1346</td>\n",
       "      <td>0</td>\n",
       "      <td>noHate</td>\n",
       "      <td>In order to help increase the booklets downloa...</td>\n",
       "    </tr>\n",
       "    <tr>\n",
       "      <th>2</th>\n",
       "      <td>12834217_3</td>\n",
       "      <td>572066</td>\n",
       "      <td>1346</td>\n",
       "      <td>0</td>\n",
       "      <td>noHate</td>\n",
       "      <td>( Simply copy and paste the following text int...</td>\n",
       "    </tr>\n",
       "    <tr>\n",
       "      <th>3</th>\n",
       "      <td>12834217_4</td>\n",
       "      <td>572066</td>\n",
       "      <td>1346</td>\n",
       "      <td>0</td>\n",
       "      <td>hate</td>\n",
       "      <td>Click below for a FREE download of a colorfull...</td>\n",
       "    </tr>\n",
       "    <tr>\n",
       "      <th>4</th>\n",
       "      <td>12834217_5</td>\n",
       "      <td>572066</td>\n",
       "      <td>1346</td>\n",
       "      <td>0</td>\n",
       "      <td>noHate</td>\n",
       "      <td>Click on the `` DOWNLOAD ( 7.42 MB ) '' green ...</td>\n",
       "    </tr>\n",
       "  </tbody>\n",
       "</table>\n",
       "</div>"
      ],
      "text/plain": [
       "      file_id  user_id  subforum_id  num_contexts   label  \\\n",
       "0  12834217_1   572066         1346             0  noHate   \n",
       "1  12834217_2   572066         1346             0  noHate   \n",
       "2  12834217_3   572066         1346             0  noHate   \n",
       "3  12834217_4   572066         1346             0    hate   \n",
       "4  12834217_5   572066         1346             0  noHate   \n",
       "\n",
       "                                                text  \n",
       "0  As of March 13th , 2014 , the booklet had been...  \n",
       "1  In order to help increase the booklets downloa...  \n",
       "2  ( Simply copy and paste the following text int...  \n",
       "3  Click below for a FREE download of a colorfull...  \n",
       "4  Click on the `` DOWNLOAD ( 7.42 MB ) '' green ...  "
      ]
     },
     "execution_count": 13,
     "metadata": {},
     "output_type": "execute_result"
    }
   ],
   "source": [
    "data = pd.merge(left=ann, right=df, left_on='file_id', right_on='file_id')\n",
    "data.shape\n",
    "data.head()"
   ]
  },
  {
   "cell_type": "code",
   "execution_count": 14,
   "metadata": {
    "execution": {
     "iopub.execute_input": "2021-04-13T19:41:57.833776Z",
     "iopub.status.busy": "2021-04-13T19:41:57.833100Z",
     "iopub.status.idle": "2021-04-13T19:41:57.951245Z",
     "shell.execute_reply": "2021-04-13T19:41:57.950622Z",
     "shell.execute_reply.started": "2021-04-13T19:41:57.833698Z"
    }
   },
   "outputs": [],
   "source": [
    "data['label'] = data.apply(lambda x: 0 if x['label'] == \"noHate\" else 1, axis=1)"
   ]
  },
  {
   "cell_type": "markdown",
   "metadata": {},
   "source": [
    "### 2. Cleaning and tokenization"
   ]
  },
  {
   "cell_type": "code",
   "execution_count": 15,
   "metadata": {
    "execution": {
     "iopub.execute_input": "2021-04-13T19:42:03.415905Z",
     "iopub.status.busy": "2021-04-13T19:42:03.415617Z",
     "iopub.status.idle": "2021-04-13T19:42:03.823460Z",
     "shell.execute_reply": "2021-04-13T19:42:03.822975Z",
     "shell.execute_reply.started": "2021-04-13T19:42:03.415874Z"
    },
    "scrolled": true
   },
   "outputs": [
    {
     "name": "stderr",
     "output_type": "stream",
     "text": [
      "[nltk_data] Downloading package vader_lexicon to\n",
      "[nltk_data]     C:\\Users\\marti\\AppData\\Roaming\\nltk_data...\n",
      "[nltk_data]   Package vader_lexicon is already up-to-date!\n"
     ]
    },
    {
     "data": {
      "text/plain": [
       "True"
      ]
     },
     "execution_count": 15,
     "metadata": {},
     "output_type": "execute_result"
    }
   ],
   "source": [
    "import nltk\n",
    "from nltk.corpus import stopwords\n",
    "from nltk.tokenize import word_tokenize\n",
    "from nltk.tokenize import sent_tokenize\n",
    "from nltk.stem import WordNetLemmatizer\n",
    "from nltk.stem import PorterStemmer\n",
    "import string\n",
    "import nltk.sentiment.vader as vd\n",
    "from nltk import download\n",
    "download('vader_lexicon')"
   ]
  },
  {
   "cell_type": "markdown",
   "metadata": {},
   "source": [
    "#### 2.1 Removing links, tags, numbers and bias"
   ]
  },
  {
   "cell_type": "code",
   "execution_count": 16,
   "metadata": {},
   "outputs": [],
   "source": [
    "#engl = []\n",
    "#other = []\n",
    "#for x in range(len(data['text'])):\n",
    "#    try:\n",
    "#        if detect(data['text'][x]) == 'en':\n",
    "#            engl.append(data['text'][x], detect(data['text'][x])\n",
    "#        else:\n",
    "#            other,(data['text'][x], detect(data['text'][x]))\n",
    "#    except:\n",
    "#        None"
   ]
  },
  {
   "cell_type": "code",
   "execution_count": 17,
   "metadata": {},
   "outputs": [],
   "source": [
    "import re\n",
    "cList = {\n",
    "    \"n't\": \"not\",\n",
    "    \"/TD\": \" \",\n",
    "    \"pm\": \"personal message\",\n",
    "    \"PM\": \"personal message\",\n",
    "    \"Donot\": \"do not\",\n",
    "    \"MB\" : \"megabytes\"}\n",
    "c_re = re.compile('(%s)' % '|'.join(cList.keys()))\n",
    "\n",
    "def expandContractions(text, c_re=c_re):\n",
    "    def replace(match):\n",
    "        return cList[match.group(0)]\n",
    "    return c_re.sub(replace, text)"
   ]
  },
  {
   "cell_type": "code",
   "execution_count": 18,
   "metadata": {},
   "outputs": [],
   "source": [
    "data['text']= [expandContractions(x) for x in data['text']]"
   ]
  },
  {
   "cell_type": "code",
   "execution_count": 19,
   "metadata": {
    "execution": {
     "iopub.execute_input": "2021-04-13T19:42:07.317594Z",
     "iopub.status.busy": "2021-04-13T19:42:07.317114Z",
     "iopub.status.idle": "2021-04-13T19:42:07.519821Z",
     "shell.execute_reply": "2021-04-13T19:42:07.519288Z",
     "shell.execute_reply.started": "2021-04-13T19:42:07.317526Z"
    }
   },
   "outputs": [],
   "source": [
    "additional  = ['rt','rts','retweet']\n",
    "swords = set().union(stopwords.words('english'), additional, string.punctuation)\n",
    "data['text_clean'] = data['text'].str.lower()\\\n",
    "    .str.replace('(@[a-z0-9]+)\\w+',' ')\\\n",
    "    .str.replace(r'http\\S+', '')\\\n",
    "    .str.replace(r'www\\S+',' ')\\\n",
    "    .str.replace(r'com/watch', ' ')\\\n",
    "    .str.replace(r'\\S*[.,:;!?-]\\S*[^\\s\\.,:;!?-]',' ')\\\n",
    "    .str.replace(r' ca ', ' cannot ')\\\n",
    "    .str.replace(r'\\w*\\d\\w*',' ')\\\n",
    "    .str.replace(r'rlm',' ')\\\n",
    "    .str.replace(r'pttm',' ')\\\n",
    "    .str.replace(r'ghlight',' ')\\\n",
    "    .str.replace('[0-9]+(?:st| st|nd| nd|rd| rd|th| th)', '')\\\n",
    "    .str.replace('([^a-z \\t])',' ')\\\n",
    "    .str.replace(' +',' ')\\\n",
    "    .apply(lambda x: \" \".join([i for i in x.split() if not i in swords]))\n",
    "#any alpha numeric after @ #http # any value except alpha numeric tab character ('\\u0009')\n",
    "#.str.replace(r'#\\S+', ' ')\\"
   ]
  },
  {
   "cell_type": "code",
   "execution_count": 20,
   "metadata": {},
   "outputs": [
    {
     "data": {
      "text/plain": [
       "\"Classic trucker songs YouTube - & #x202a ; Dave Dudley - Diesel Smoke ( 18WoS : PTTM ) & #x202c ; & rlm ; Diesel Smoke another of same song , different video , says the artist was Red Simpson YouTube - & #x202a ; Red Simpson - Diesel smoke , & #x202c ; & rlm ; YouTube - & #x202a ; Red Sovine-Truck Drivin ' Son Of A Gun & #x202c ; & rlm ; Truck Drivin ' Son of a Gun YouTube - & #x202a ; Terry Allen - Amarillo Highway & #x202c ; & rlm ; Amarillo Highway ( slow version , live , with violins ) YouTube - & #x202a ; Robert Earl Keen - Amarillo Highway & #x202c ; & rlm ; Fast rockin ' country version by Robert Earl Keene\""
      ]
     },
     "execution_count": 20,
     "metadata": {},
     "output_type": "execute_result"
    }
   ],
   "source": [
    "data['text'][3156]"
   ]
  },
  {
   "cell_type": "code",
   "execution_count": 21,
   "metadata": {},
   "outputs": [
    {
     "data": {
      "text/plain": [
       "'classic trucker songs youtube dave dudley diesel smoke diesel smoke another song different video says artist red simpson youtube red simpson diesel smoke youtube red drivin son gun truck drivin son gun youtube terry allen amarillo highway amarillo highway slow version live violins youtube robert earl keen amarillo highway fast rockin country version robert earl keene'"
      ]
     },
     "execution_count": 21,
     "metadata": {},
     "output_type": "execute_result"
    }
   ],
   "source": [
    "data['text_clean'][3156]"
   ]
  },
  {
   "cell_type": "code",
   "execution_count": 22,
   "metadata": {},
   "outputs": [
    {
     "data": {
      "text/plain": [
       "Series([], Name: text, dtype: object)"
      ]
     },
     "execution_count": 22,
     "metadata": {},
     "output_type": "execute_result"
    }
   ],
   "source": [
    "data['text'][data['text_clean'].str.contains(\"#\")]"
   ]
  },
  {
   "cell_type": "code",
   "execution_count": 23,
   "metadata": {
    "execution": {
     "iopub.execute_input": "2021-04-13T19:42:07.798311Z",
     "iopub.status.busy": "2021-04-13T19:42:07.797074Z",
     "iopub.status.idle": "2021-04-13T19:42:10.131498Z",
     "shell.execute_reply": "2021-04-13T19:42:10.130965Z",
     "shell.execute_reply.started": "2021-04-13T19:42:07.798155Z"
    }
   },
   "outputs": [],
   "source": [
    "# Stemming\n",
    "ps = PorterStemmer()\n",
    "data['stemmed'] = data['text_clean'].apply(lambda x: \" \".join([ps.stem(i) for i in word_tokenize(x)]))"
   ]
  },
  {
   "cell_type": "code",
   "execution_count": 24,
   "metadata": {
    "execution": {
     "iopub.execute_input": "2021-04-13T19:42:12.769666Z",
     "iopub.status.busy": "2021-04-13T19:42:12.768953Z",
     "iopub.status.idle": "2021-04-13T19:42:15.518103Z",
     "shell.execute_reply": "2021-04-13T19:42:15.517561Z",
     "shell.execute_reply.started": "2021-04-13T19:42:12.769584Z"
    }
   },
   "outputs": [],
   "source": [
    "# Lemmatizer\n",
    "lm = nltk.WordNetLemmatizer()\n",
    "data['lemmatized'] = data['text_clean'].apply(lambda x: \" \".join([lm.lemmatize(i) for i in word_tokenize(x)]))"
   ]
  },
  {
   "cell_type": "code",
   "execution_count": 25,
   "metadata": {},
   "outputs": [],
   "source": [
    "data['tokens'] = data['lemmatized'].apply(word_tokenize)"
   ]
  },
  {
   "cell_type": "code",
   "execution_count": 26,
   "metadata": {},
   "outputs": [
    {
     "name": "stderr",
     "output_type": "stream",
     "text": [
      "100%|██████████| 10926/10926 [01:36<00:00, 113.18it/s]\n"
     ]
    }
   ],
   "source": [
    "from langdetect import detect\n",
    "languages = []\n",
    "for x in tqdm(range(len(data['text']))):\n",
    "    try:\n",
    "        languages.append(detect(data['text'][x]))\n",
    "    except:\n",
    "        None"
   ]
  },
  {
   "cell_type": "code",
   "execution_count": 27,
   "metadata": {},
   "outputs": [
    {
     "name": "stderr",
     "output_type": "stream",
     "text": [
      "  0%|          | 26/10926 [00:00<04:00, 45.35it/s]"
     ]
    },
    {
     "name": "stdout",
     "output_type": "stream",
     "text": [
      "downloads pl\n",
      "came across piece garbage ro\n",
      "comment say sa fr\n"
     ]
    },
    {
     "name": "stderr",
     "output_type": "stream",
     "text": [
      "  0%|          | 43/10926 [00:00<03:38, 49.72it/s]"
     ]
    },
    {
     "name": "stdout",
     "output_type": "stream",
     "text": [
      "old tarzan movie zulu king kong many image tl\n",
      "girl start talking guy middle lip start moving no\n",
      "believe dog would like get far away possible af\n"
     ]
    },
    {
     "name": "stderr",
     "output_type": "stream",
     "text": [
      "\r",
      "  0%|          | 51/10926 [00:00<03:15, 55.73it/s]"
     ]
    },
    {
     "name": "stdout",
     "output_type": "stream",
     "text": [
      "watch hollywood movie en\n",
      "v entire myron fagan video youtube es\n",
      "v sk\n"
     ]
    },
    {
     "name": "stderr",
     "output_type": "stream",
     "text": [
      "\r",
      "  1%|          | 57/10926 [00:01<05:05, 35.54it/s]"
     ]
    },
    {
     "name": "stdout",
     "output_type": "stream",
     "text": [
      "note it\n",
      "wntube pl\n",
      "please contribute donate ro\n",
      "vid code es\n"
     ]
    },
    {
     "name": "stderr",
     "output_type": "stream",
     "text": [
      "  1%|          | 76/10926 [00:01<04:22, 41.35it/s]"
     ]
    },
    {
     "name": "stdout",
     "output_type": "stream",
     "text": [
      "jesus christ lord indeed nl\n",
      "nice day tr\n",
      "sooner better no\n"
     ]
    },
    {
     "name": "stderr",
     "output_type": "stream",
     "text": [
      "  1%|          | 98/10926 [00:02<03:30, 51.52it/s]"
     ]
    },
    {
     "name": "stdout",
     "output_type": "stream",
     "text": [
      "hard time believing da\n",
      "hundred people black da\n",
      "excellent article jail fr\n"
     ]
    },
    {
     "name": "stderr",
     "output_type": "stream",
     "text": [
      "\r",
      "  1%|          | 109/10926 [00:02<03:00, 59.99it/s]"
     ]
    },
    {
     "name": "stdout",
     "output_type": "stream",
     "text": [
      "good so\n",
      "hope starve da\n"
     ]
    },
    {
     "name": "stderr",
     "output_type": "stream",
     "text": [
      "  1%|          | 123/10926 [00:02<03:51, 46.60it/s]"
     ]
    },
    {
     "name": "stdout",
     "output_type": "stream",
     "text": [
      "aragorn cy\n",
      "respond armenian scum stop ro\n",
      "see giving af\n",
      "btl tr\n",
      "apologize ignorance it\n"
     ]
    },
    {
     "name": "stderr",
     "output_type": "stream",
     "text": [
      "  1%|▏         | 145/10926 [00:02<03:22, 53.18it/s]"
     ]
    },
    {
     "name": "stdout",
     "output_type": "stream",
     "text": [
      "give example progress made skinhead klan da\n",
      "seems precipitous decline ca\n",
      "never drink diet anything either aspartame water fish en\n"
     ]
    },
    {
     "name": "stderr",
     "output_type": "stream",
     "text": [
      "  2%|▏         | 164/10926 [00:03<03:29, 51.44it/s]"
     ]
    },
    {
     "name": "stdout",
     "output_type": "stream",
     "text": [
      "pesticide fresh fruit veggie ca\n"
     ]
    },
    {
     "name": "stderr",
     "output_type": "stream",
     "text": [
      "  2%|▏         | 196/10926 [00:03<02:57, 60.34it/s]"
     ]
    },
    {
     "name": "stdout",
     "output_type": "stream",
     "text": [
      "pffffft cy\n",
      "thanks saving picture one saw black guy looking laptop white girl sitting next laughing hanging also looking laptop show laptop tl\n",
      "jew represents snake en\n",
      "hell care kosher en\n"
     ]
    },
    {
     "name": "stderr",
     "output_type": "stream",
     "text": [
      "\r",
      "  2%|▏         | 203/10926 [00:03<03:21, 53.18it/s]"
     ]
    },
    {
     "name": "stdout",
     "output_type": "stream",
     "text": [
      "concerned zog controlling u russia it\n",
      "kris roman jan kristel dr alfred vierling dr david duke thiery van roy frederik ranson andreas thierry stephanos gekas af\n",
      "robert steuckers dr david duke gunther van den eynde en dr david duke nl\n"
     ]
    },
    {
     "name": "stderr",
     "output_type": "stream",
     "text": [
      "  2%|▏         | 218/10926 [00:04<04:06, 43.46it/s]"
     ]
    },
    {
     "name": "stdout",
     "output_type": "stream",
     "text": [
      "traitor it\n",
      "attaboy putin tl\n"
     ]
    },
    {
     "name": "stderr",
     "output_type": "stream",
     "text": [
      "  2%|▏         | 230/10926 [00:04<04:20, 41.06it/s]"
     ]
    },
    {
     "name": "stdout",
     "output_type": "stream",
     "text": [
      "keep telling people thing like never believe af\n",
      "great ro\n",
      "go work pl\n",
      "lol es\n"
     ]
    },
    {
     "name": "stderr",
     "output_type": "stream",
     "text": [
      "  2%|▏         | 255/10926 [00:05<03:56, 45.10it/s]"
     ]
    },
    {
     "name": "stdout",
     "output_type": "stream",
     "text": [
      "group sweden genuine thief steal money never send good order en\n",
      "swede hide best looking female af\n",
      "gl delig jul da\n",
      "interesting"
     ]
    },
    {
     "name": "stderr",
     "output_type": "stream",
     "text": [
      "  2%|▏         | 266/10926 [00:05<04:45, 37.31it/s]"
     ]
    },
    {
     "name": "stdout",
     "output_type": "stream",
     "text": [
      " en\n",
      "found pretty interesting hope g delig jul no\n",
      "make damn angry swede can not see af\n",
      "black brown detroying sweden nobody anything madex madex madex en\n"
     ]
    },
    {
     "name": "stderr",
     "output_type": "stream",
     "text": [
      "  3%|▎         | 276/10926 [00:05<06:10, 28.75it/s]"
     ]
    },
    {
     "name": "stdout",
     "output_type": "stream",
     "text": [
      "det er forresten en ting til rkneyjar vil si deg tack mycket no\n",
      "say jotunheim fi\n",
      "figure ro\n",
      "much important estimation fr\n",
      "denmark assuming population million good job denmark en\n"
     ]
    },
    {
     "name": "stderr",
     "output_type": "stream",
     "text": [
      "  3%|▎         | 287/10926 [00:06<05:20, 33.16it/s]"
     ]
    },
    {
     "name": "stdout",
     "output_type": "stream",
     "text": [
      "let see get zero nl\n",
      "aragorn tl\n",
      "good news norge cy\n",
      "possible fr\n",
      "dare look so\n",
      "see grandma hair looked like year ago af\n",
      "jag har inte sj lv varit med n gon g ng men jag har stor respekt f r de som deltar"
     ]
    },
    {
     "name": "stderr",
     "output_type": "stream",
     "text": [
      "  3%|▎         | 299/10926 [00:06<04:28, 39.62it/s]"
     ]
    },
    {
     "name": "stdout",
     "output_type": "stream",
     "text": [
      " no\n",
      "damn finland closing sweden poll sv\n",
      "suomalainen totta kai fi\n",
      "reminds old joke et\n"
     ]
    },
    {
     "name": "stderr",
     "output_type": "stream",
     "text": [
      "  3%|▎         | 327/10926 [00:06<02:47, 63.35it/s]"
     ]
    },
    {
     "name": "stdout",
     "output_type": "stream",
     "text": [
      "cheer nl\n"
     ]
    },
    {
     "name": "stderr",
     "output_type": "stream",
     "text": [
      "  3%|▎         | 344/10926 [00:06<02:43, 64.75it/s]"
     ]
    },
    {
     "name": "stdout",
     "output_type": "stream",
     "text": [
      "looking forward af\n",
      "regard draiodoir cy\n",
      "true vi\n",
      "look jealousy cs\n",
      "lie lie lie af\n",
      "love darker hair skin eye no\n",
      "stunning kiss fi\n"
     ]
    },
    {
     "name": "stderr",
     "output_type": "stream",
     "text": [
      "  3%|▎         | 362/10926 [00:07<02:56, 59.70it/s]"
     ]
    },
    {
     "name": "stdout",
     "output_type": "stream",
     "text": [
      "use personal message get touch fr\n"
     ]
    },
    {
     "name": "stderr",
     "output_type": "stream",
     "text": [
      "  4%|▎         | 387/10926 [00:07<02:54, 60.43it/s]"
     ]
    },
    {
     "name": "stdout",
     "output_type": "stream",
     "text": [
      "happening school nl\n",
      "donot ridiculous pt\n",
      "indeed nl\n",
      "buying gun bullet tr\n",
      "fault bnp run gangster no\n"
     ]
    },
    {
     "name": "stderr",
     "output_type": "stream",
     "text": [
      "  4%|▎         | 409/10926 [00:08<03:00, 58.17it/s]"
     ]
    },
    {
     "name": "stdout",
     "output_type": "stream",
     "text": [
      "hello friend forum no\n",
      "sat minute took dog walk af\n"
     ]
    },
    {
     "name": "stderr",
     "output_type": "stream",
     "text": [
      "  4%|▍         | 427/10926 [00:08<03:32, 49.46it/s]"
     ]
    },
    {
     "name": "stdout",
     "output_type": "stream",
     "text": [
      "sugar bowl lemon side es\n",
      "pleasure make acquaintance madam fr\n",
      "mean ro\n"
     ]
    },
    {
     "name": "stderr",
     "output_type": "stream",
     "text": [
      "\r",
      "  4%|▍         | 434/10926 [00:08<04:50, 36.11it/s]"
     ]
    },
    {
     "name": "stdout",
     "output_type": "stream",
     "text": [
      "better hated loved da\n",
      "rule britannia ro\n"
     ]
    },
    {
     "name": "stderr",
     "output_type": "stream",
     "text": [
      "  4%|▍         | 454/10926 [00:09<04:07, 42.34it/s]"
     ]
    },
    {
     "name": "stdout",
     "output_type": "stream",
     "text": [
      "telling kid frankfurt foreigner da\n",
      "jeeze worst uk pl\n",
      "girl indeed amazing tr\n"
     ]
    },
    {
     "name": "stderr",
     "output_type": "stream",
     "text": [
      "  4%|▍         | 467/10926 [00:09<04:28, 38.99it/s]"
     ]
    },
    {
     "name": "stdout",
     "output_type": "stream",
     "text": [
      "ukraine russia poland romania fake ukrainian et\n",
      "p someone else csabi according csabi romanian listen hungarian music en\n",
      "ap ro g ant trois jeunes soup onn de viol fr\n",
      "start"
     ]
    },
    {
     "name": "stderr",
     "output_type": "stream",
     "text": [
      "  4%|▍         | 481/10926 [00:09<03:45, 46.34it/s]"
     ]
    },
    {
     "name": "stdout",
     "output_type": "stream",
     "text": [
      " sv\n",
      "genius lt\n",
      "liberia awaits id\n",
      "tired da\n"
     ]
    },
    {
     "name": "stderr",
     "output_type": "stream",
     "text": [
      "  5%|▍         | 494/10926 [00:10<03:44, 46.43it/s]"
     ]
    },
    {
     "name": "stdout",
     "output_type": "stream",
     "text": [
      "hope negro beat negro af\n",
      "stupid hr\n",
      "indeed nl\n",
      "dusty rhodes cy\n",
      "name past tl\n"
     ]
    },
    {
     "name": "stderr",
     "output_type": "stream",
     "text": [
      "  5%|▍         | 517/10926 [00:10<03:11, 54.39it/s]"
     ]
    },
    {
     "name": "stdout",
     "output_type": "stream",
     "text": [
      "last time kissed yesterday et\n",
      "try link en\n",
      "use one part fr\n"
     ]
    },
    {
     "name": "stderr",
     "output_type": "stream",
     "text": [
      "  5%|▍         | 532/10926 [00:10<03:21, 51.54it/s]"
     ]
    },
    {
     "name": "stdout",
     "output_type": "stream",
     "text": [
      "kalamzoo u odinists town hr\n",
      "like jager et\n",
      "neofolk no\n",
      "email personal message fr\n",
      "would like talk af\n",
      "jeremy wpww pl\n",
      "dallas it\n"
     ]
    },
    {
     "name": "stderr",
     "output_type": "stream",
     "text": [
      "  5%|▌         | 570/10926 [00:11<02:39, 64.96it/s]"
     ]
    },
    {
     "name": "stdout",
     "output_type": "stream",
     "text": [
      "worker af\n",
      "inch dark blonde hazel green eye lb babyface nl\n",
      "well good cy\n"
     ]
    },
    {
     "name": "stderr",
     "output_type": "stream",
     "text": [
      "  5%|▌         | 590/10926 [00:11<03:27, 49.70it/s]"
     ]
    },
    {
     "name": "stdout",
     "output_type": "stream",
     "text": [
      "live san bernardino send personal message da\n",
      "live san bernardino send personal message ontario mill eh it\n",
      "like week ago got new doc maybe talk af\n",
      "like wall idea af\n"
     ]
    },
    {
     "name": "stderr",
     "output_type": "stream",
     "text": [
      "  6%|▌         | 605/10926 [00:12<03:29, 49.30it/s]"
     ]
    },
    {
     "name": "stdout",
     "output_type": "stream",
     "text": [
      "next read ro\n",
      "everyone keep spreading dr duke video around internet soon win war af\n",
      "would die child"
     ]
    },
    {
     "name": "stderr",
     "output_type": "stream",
     "text": [
      "  6%|▌         | 618/10926 [00:12<03:35, 47.84it/s]"
     ]
    },
    {
     "name": "stdout",
     "output_type": "stream",
     "text": [
      " nl\n",
      "taken dance class various time enjoy fr\n",
      "problem multiracial environment mean dance ca\n",
      "eurocentric civ documentary europhobia ro\n",
      "hahahahahaha"
     ]
    },
    {
     "name": "stderr",
     "output_type": "stream",
     "text": [
      "\r",
      "  6%|▌         | 624/10926 [00:12<03:35, 47.89it/s]"
     ]
    },
    {
     "name": "stdout",
     "output_type": "stream",
     "text": [
      " so\n",
      "kinda place tr\n",
      "picture sig mennonite farm creston couple mile typing en\n"
     ]
    },
    {
     "name": "stderr",
     "output_type": "stream",
     "text": [
      "  6%|▌         | 638/10926 [00:12<03:49, 44.82it/s]"
     ]
    },
    {
     "name": "stdout",
     "output_type": "stream",
     "text": [
      "even someone openly us name en\n",
      "flyer home symbol look return home get info da\n",
      "saw poll missippi said think lott step segregationist remark et\n"
     ]
    },
    {
     "name": "stderr",
     "output_type": "stream",
     "text": [
      "  6%|▌         | 656/10926 [00:13<03:45, 45.51it/s]"
     ]
    },
    {
     "name": "stdout",
     "output_type": "stream",
     "text": [
      "jew responsible massive immigration europe north america en\n",
      "justifies policy fr\n",
      "last paragraph essay talk sticker technique fr\n",
      "awakening still print id\n"
     ]
    },
    {
     "name": "stderr",
     "output_type": "stream",
     "text": [
      "  6%|▌         | 672/10926 [00:13<03:00, 56.86it/s]"
     ]
    },
    {
     "name": "stdout",
     "output_type": "stream",
     "text": [
      "wonder nl\n",
      "idiot like fail last surrounded pet name alleged savior lip get diversified"
     ]
    },
    {
     "name": "stderr",
     "output_type": "stream",
     "text": [
      "  6%|▋         | 691/10926 [00:13<03:26, 49.68it/s]"
     ]
    },
    {
     "name": "stdout",
     "output_type": "stream",
     "text": [
      " no\n",
      "mention business jail among gang id\n",
      "exactly want u lay die en\n",
      "word deed declare staunchly favor genocide people nl\n"
     ]
    },
    {
     "name": "stderr",
     "output_type": "stream",
     "text": [
      "  7%|▋         | 722/10926 [00:14<03:00, 56.65it/s]"
     ]
    },
    {
     "name": "stdout",
     "output_type": "stream",
     "text": [
      "tell legalize drug pedophilia it\n",
      "dear ro\n"
     ]
    },
    {
     "name": "stderr",
     "output_type": "stream",
     "text": [
      "  7%|▋         | 741/10926 [00:14<03:49, 44.39it/s]"
     ]
    },
    {
     "name": "stdout",
     "output_type": "stream",
     "text": [
      "upgraded black sv\n",
      "asian id\n",
      "light skin dark hair af\n",
      "native american it\n",
      "jew enemy good set brain pl\n"
     ]
    },
    {
     "name": "stderr",
     "output_type": "stream",
     "text": [
      "  7%|▋         | 758/10926 [00:15<04:28, 37.87it/s]"
     ]
    },
    {
     "name": "stdout",
     "output_type": "stream",
     "text": [
      "nope it\n",
      "keep civil nl\n",
      "peanut butter ro\n",
      "traffic lite ro\n",
      "link fi\n",
      "want go back law school pl\n",
      "pretty simple come come it\n"
     ]
    },
    {
     "name": "stderr",
     "output_type": "stream",
     "text": [
      "  7%|▋         | 776/10926 [00:15<04:12, 40.18it/s]"
     ]
    },
    {
     "name": "stdout",
     "output_type": "stream",
     "text": [
      "ya got virgin shooter af\n",
      "hundred yard cy\n",
      "paper plate ca\n",
      "minute et\n",
      "problem cs\n"
     ]
    },
    {
     "name": "stderr",
     "output_type": "stream",
     "text": [
      "  7%|▋         | 800/10926 [00:16<03:19, 50.66it/s]"
     ]
    },
    {
     "name": "stdout",
     "output_type": "stream",
     "text": [
      "youtube id\n",
      "display id\n",
      "good shape so\n",
      "look picture put clear en\n",
      "working splendidly af\n"
     ]
    },
    {
     "name": "stderr",
     "output_type": "stream",
     "text": [
      "  7%|▋         | 817/10926 [00:16<03:21, 50.11it/s]"
     ]
    },
    {
     "name": "stdout",
     "output_type": "stream",
     "text": [
      "stay away alberta so\n",
      "lol tim it\n"
     ]
    },
    {
     "name": "stderr",
     "output_type": "stream",
     "text": [
      "  8%|▊         | 836/10926 [00:16<03:55, 42.89it/s]"
     ]
    },
    {
     "name": "stdout",
     "output_type": "stream",
     "text": [
      "yep tr\n",
      "anyone ever asked da\n",
      "say dont care fr\n",
      "want mixed kid so\n",
      "hate crime said en\n",
      "facebook van page nl\n"
     ]
    },
    {
     "name": "stderr",
     "output_type": "stream",
     "text": [
      "  8%|▊         | 847/10926 [00:17<04:58, 33.79it/s]"
     ]
    },
    {
     "name": "stdout",
     "output_type": "stream",
     "text": [
      "lot old ambulance rescue van ripe modding live ro\n",
      "predator xtreme august ro\n",
      "ever gave hard knock better got no\n",
      "taken together dark region suggest many shape running man no\n",
      "yeah hay ride popular tl\n",
      "gone corn maze well it\n",
      "good memory cy\n"
     ]
    },
    {
     "name": "stderr",
     "output_type": "stream",
     "text": [
      "  8%|▊         | 858/10926 [00:17<04:15, 39.35it/s]"
     ]
    },
    {
     "name": "stdout",
     "output_type": "stream",
     "text": [
      "one fi\n",
      "watch sw\n",
      "need get done luck find idf general da\n",
      "transfer uni"
     ]
    },
    {
     "name": "stderr",
     "output_type": "stream",
     "text": [
      "  8%|▊         | 882/10926 [00:17<02:55, 57.23it/s]"
     ]
    },
    {
     "name": "stdout",
     "output_type": "stream",
     "text": [
      " ca\n",
      "teach alot lie student ro\n",
      "gone full retard it\n"
     ]
    },
    {
     "name": "stderr",
     "output_type": "stream",
     "text": [
      "\r",
      "  8%|▊         | 892/10926 [00:17<02:33, 65.39it/s]"
     ]
    },
    {
     "name": "stdout",
     "output_type": "stream",
     "text": [
      "ever wonder nl\n",
      "basketball baseball id\n",
      "pellet flattened quite nicely it\n"
     ]
    },
    {
     "name": "stderr",
     "output_type": "stream",
     "text": [
      "  8%|▊         | 907/10926 [00:18<03:25, 48.85it/s]"
     ]
    },
    {
     "name": "stdout",
     "output_type": "stream",
     "text": [
      "even smaller pellet probably ideal buck perhaps no\n",
      "always partial lully rameau jean baptiste lully l orchestre du roi soleil youtube jean philippe rameau orchestral suite youtube fr\n",
      "except peanut butter ro\n"
     ]
    },
    {
     "name": "stderr",
     "output_type": "stream",
     "text": [
      "  8%|▊         | 923/10926 [00:18<03:30, 47.44it/s]"
     ]
    },
    {
     "name": "stdout",
     "output_type": "stream",
     "text": [
      "like french da\n",
      "also like renoir sl\n",
      "man idiot id\n",
      "yuenglings tl\n",
      "problem cs\n"
     ]
    },
    {
     "name": "stderr",
     "output_type": "stream",
     "text": [
      "  9%|▊         | 937/10926 [00:18<03:05, 53.92it/s]"
     ]
    },
    {
     "name": "stdout",
     "output_type": "stream",
     "text": [
      "kid come get nl\n",
      "yamaha aerox p youtube yep cc aerox id\n",
      "thanks encouragement en\n"
     ]
    },
    {
     "name": "stderr",
     "output_type": "stream",
     "text": [
      "\r",
      "  9%|▊         | 944/10926 [00:19<03:26, 48.42it/s]"
     ]
    },
    {
     "name": "stdout",
     "output_type": "stream",
     "text": [
      "sister grey eye sister blue eye sister green eye brother blue eye no\n",
      "hitler mein kampf de\n",
      "slowly making way romanian bible got birthday july so\n",
      "gon na suggest old marlin remembered mag en\n"
     ]
    },
    {
     "name": "stderr",
     "output_type": "stream",
     "text": [
      "  9%|▉         | 962/10926 [00:19<03:49, 43.45it/s]"
     ]
    },
    {
     "name": "stdout",
     "output_type": "stream",
     "text": [
      "week two one kid asks jewish pl\n",
      "goy friend cy\n"
     ]
    },
    {
     "name": "stderr",
     "output_type": "stream",
     "text": [
      "  9%|▉         | 979/10926 [00:19<03:01, 54.71it/s]"
     ]
    },
    {
     "name": "stdout",
     "output_type": "stream",
     "text": [
      "ghost goblin etc cy\n",
      "went baofeng website chinese de\n",
      "saw one palm spring tl\n"
     ]
    },
    {
     "name": "stderr",
     "output_type": "stream",
     "text": [
      "  9%|▉         | 992/10926 [00:20<03:53, 42.63it/s]"
     ]
    },
    {
     "name": "stdout",
     "output_type": "stream",
     "text": [
      "surprised see palm canyon drive detail en\n"
     ]
    },
    {
     "name": "stderr",
     "output_type": "stream",
     "text": [
      "  9%|▉         | 1009/10926 [00:20<04:18, 38.29it/s]"
     ]
    },
    {
     "name": "stdout",
     "output_type": "stream",
     "text": [
      "great ro\n",
      "trying dumb u purpose said say working tl\n",
      "look nonsense tv af\n",
      "wife post pl\n"
     ]
    },
    {
     "name": "stderr",
     "output_type": "stream",
     "text": [
      "  9%|▉         | 1021/10926 [00:20<04:10, 39.51it/s]"
     ]
    },
    {
     "name": "stdout",
     "output_type": "stream",
     "text": [
      "still great liberal experiment continues ca\n",
      "find inspiring da\n",
      "bull tr\n"
     ]
    },
    {
     "name": "stderr",
     "output_type": "stream",
     "text": [
      "  9%|▉         | 1033/10926 [00:21<03:54, 42.23it/s]"
     ]
    },
    {
     "name": "stdout",
     "output_type": "stream",
     "text": [
      "son ever come home something like bet something say da\n",
      "cool site it\n",
      "yeah tr\n"
     ]
    },
    {
     "name": "stderr",
     "output_type": "stream",
     "text": [
      " 10%|▉         | 1043/10926 [00:21<03:50, 42.97it/s]"
     ]
    },
    {
     "name": "stdout",
     "output_type": "stream",
     "text": [
      "describe sister es\n",
      "come pride stay love es\n",
      "six remember dark"
     ]
    },
    {
     "name": "stderr",
     "output_type": "stream",
     "text": [
      " 10%|▉         | 1053/10926 [00:21<03:43, 44.20it/s]"
     ]
    },
    {
     "name": "stdout",
     "output_type": "stream",
     "text": [
      " id\n",
      "god one claim merciful like nature hr\n"
     ]
    },
    {
     "name": "stderr",
     "output_type": "stream",
     "text": [
      " 10%|▉         | 1075/10926 [00:22<03:24, 48.12it/s]"
     ]
    },
    {
     "name": "stdout",
     "output_type": "stream",
     "text": [
      "bet negro planning insanity defense may get no\n",
      "donot love double standard fr\n"
     ]
    },
    {
     "name": "stderr",
     "output_type": "stream",
     "text": [
      " 10%|█         | 1104/10926 [00:22<03:02, 53.87it/s]"
     ]
    },
    {
     "name": "stdout",
     "output_type": "stream",
     "text": [
      "parent like no\n",
      "wulfi so\n",
      "feel nl\n",
      "keep simple et\n"
     ]
    },
    {
     "name": "stderr",
     "output_type": "stream",
     "text": [
      "\r",
      " 10%|█         | 1113/10926 [00:22<02:43, 60.14it/s]"
     ]
    },
    {
     "name": "stdout",
     "output_type": "stream",
     "text": [
      "well good hear cy\n",
      "good so\n",
      "well im glad hear youth world let hope mudds niggs go cy\n",
      "knew kid street home schooled didnt act like kid age nl\n",
      "maybe so\n"
     ]
    },
    {
     "name": "stderr",
     "output_type": "stream",
     "text": [
      " 10%|█         | 1138/10926 [00:23<02:33, 63.83it/s]"
     ]
    },
    {
     "name": "stdout",
     "output_type": "stream",
     "text": [
      "freuer frei da\n",
      "im roxbury pl\n",
      "god save hr\n"
     ]
    },
    {
     "name": "stderr",
     "output_type": "stream",
     "text": [
      " 11%|█         | 1154/10926 [00:23<03:36, 45.10it/s]"
     ]
    },
    {
     "name": "stdout",
     "output_type": "stream",
     "text": [
      "robbie funny problem sk\n",
      "typical afrikaans music af\n",
      "seen interview seem trashy af\n"
     ]
    },
    {
     "name": "stderr",
     "output_type": "stream",
     "text": [
      " 11%|█         | 1167/10926 [00:23<03:10, 51.18it/s]"
     ]
    },
    {
     "name": "stdout",
     "output_type": "stream",
     "text": [
      "agreed af\n",
      "absolutely hu\n"
     ]
    },
    {
     "name": "stderr",
     "output_type": "stream",
     "text": [
      " 11%|█         | 1187/10926 [00:24<02:53, 56.20it/s]"
     ]
    },
    {
     "name": "stdout",
     "output_type": "stream",
     "text": [
      "nope it\n",
      "pastor saying truth tl\n",
      "bean potato yam id\n",
      "seems nature taking trash et\n"
     ]
    },
    {
     "name": "stderr",
     "output_type": "stream",
     "text": [
      "\r",
      " 11%|█         | 1194/10926 [00:24<03:11, 50.77it/s]"
     ]
    },
    {
     "name": "stdout",
     "output_type": "stream",
     "text": [
      "certain cultural practice tell volume people ro\n",
      "goody run cy\n",
      "absolute stupidity et\n"
     ]
    },
    {
     "name": "stderr",
     "output_type": "stream",
     "text": [
      " 11%|█         | 1209/10926 [00:24<03:36, 44.79it/s]"
     ]
    },
    {
     "name": "stdout",
     "output_type": "stream",
     "text": [
      "beeline tv watch online tv free internet tv live tv channel got number japanese tv link streaming en\n",
      "lenny pitt article one fr\n"
     ]
    },
    {
     "name": "stderr",
     "output_type": "stream",
     "text": [
      " 11%|█         | 1228/10926 [00:24<03:08, 51.50it/s]"
     ]
    },
    {
     "name": "stdout",
     "output_type": "stream",
     "text": [
      "knew report lie entire time fr\n",
      "make sw\n"
     ]
    },
    {
     "name": "stderr",
     "output_type": "stream",
     "text": [
      " 11%|█▏        | 1244/10926 [00:25<03:01, 53.35it/s]"
     ]
    },
    {
     "name": "stdout",
     "output_type": "stream",
     "text": [
      "embarassing id\n",
      "doubt coming leprechaun chinese flavored uncle sam fr\n",
      "rumour fr\n",
      "disgusting negro make u white people look bad en\n"
     ]
    },
    {
     "name": "stderr",
     "output_type": "stream",
     "text": [
      " 12%|█▏        | 1266/10926 [00:25<03:10, 50.82it/s]"
     ]
    },
    {
     "name": "stdout",
     "output_type": "stream",
     "text": [
      "make tired hr\n",
      "cologne seat it\n",
      "put cursor american dissident voice tab click link menu drop ro\n"
     ]
    },
    {
     "name": "stderr",
     "output_type": "stream",
     "text": [
      " 12%|█▏        | 1292/10926 [00:26<02:41, 59.77it/s]"
     ]
    },
    {
     "name": "stdout",
     "output_type": "stream",
     "text": [
      "never ever grocery look like af\n",
      "even like buying carton juice nl\n",
      "hate crime video posted pt\n"
     ]
    },
    {
     "name": "stderr",
     "output_type": "stream",
     "text": [
      "\r",
      " 12%|█▏        | 1300/10926 [00:26<02:37, 60.97it/s]"
     ]
    },
    {
     "name": "stdout",
     "output_type": "stream",
     "text": [
      "fa pageid cy\n",
      "notice say kid jew pl\n",
      "sad happens want take think want date one negro woman af\n",
      "bid good night cy\n"
     ]
    },
    {
     "name": "stderr",
     "output_type": "stream",
     "text": [
      " 12%|█▏        | 1314/10926 [00:26<03:15, 49.28it/s]"
     ]
    },
    {
     "name": "stdout",
     "output_type": "stream",
     "text": [
      "dmitriy hvorostovskiy prince yeletsky queen spade tchaikovsky hvorostovsky metropolitan opera youtube ya va lyublyu dmitri hvorostovsky renee fleming dmitri hvorostovsky perform final scene tchaikovsky yevgeny onegin part youtube yevgeny onegin final scene hvorostovsky fleming renee fleming dmitri hvorostovsky perform final scene tchaikovsky yevgeny onegin part ii youtube yevgeny onegin final scene hvorostovsky fleming ii renee fleming tatiana dmitri hvorostovsky eugene onegin first act aria tchaikovsky opera sk\n",
      "youtube dmitri hvorostovsky eugene onegin onegin act aria renee fleming dmitri hvorostovsk lippen schweigen lehar die lustige witwe youtube lippen schweigen hvorostovsky fleming offtop bonus hvorostovsky troika youtube hvorostovsky troika dmitri hvorostovsky temnaya noch youtube temnaya noch dmitri hvorostovsky little bell youtube hvorostovsky little bell dmitri hvorostovsky moscow night youtube dmitri hvorostovsky moscow night sk\n",
      "eye nose skin tone give away af\n",
      "yes born svrljig hr\n"
     ]
    },
    {
     "name": "stderr",
     "output_type": "stream",
     "text": [
      " 12%|█▏        | 1333/10926 [00:26<03:19, 48.10it/s]"
     ]
    },
    {
     "name": "stdout",
     "output_type": "stream",
     "text": [
      "read million figure million figure estimate million figure compromised it\n",
      "gon na long post see konavle look better map small land important af\n"
     ]
    },
    {
     "name": "stderr",
     "output_type": "stream",
     "text": [
      " 12%|█▏        | 1354/10926 [00:27<03:07, 50.98it/s]"
     ]
    },
    {
     "name": "stdout",
     "output_type": "stream",
     "text": [
      "pray sk\n",
      "peter drafted army said no\n",
      "live forum day job da\n",
      "riga day so\n",
      "anyone like meet drink love say hello personal message reply no\n"
     ]
    },
    {
     "name": "stderr",
     "output_type": "stream",
     "text": [
      " 13%|█▎        | 1366/10926 [00:27<03:20, 47.70it/s]"
     ]
    },
    {
     "name": "stdout",
     "output_type": "stream",
     "text": [
      "picture truly revolting ro\n",
      "matter dress mud no\n",
      "mud mud mud et\n",
      "gypsie woman like black sabbath dont like gypsy af\n",
      "sympathy cy\n",
      "yes muslim breed like vermin believe part intention breed race order make majority en\n"
     ]
    },
    {
     "name": "stderr",
     "output_type": "stream",
     "text": [
      "\r",
      " 13%|█▎        | 1372/10926 [00:27<04:46, 33.31it/s]"
     ]
    },
    {
     "name": "stdout",
     "output_type": "stream",
     "text": [
      "rensen r er f dt april kolding da\n",
      "har taget en p handelsskolen nyborg da\n",
      "medlem af dfu bestyrelse da\n"
     ]
    },
    {
     "name": "stderr",
     "output_type": "stream",
     "text": [
      "\r",
      " 13%|█▎        | 1377/10926 [00:28<06:30, 24.48it/s]"
     ]
    },
    {
     "name": "stdout",
     "output_type": "stream",
     "text": [
      "sin fritid g r karina rensen p jagt med sin far dyrker styrketr ning eller nyder tilv relsen med sin k reste no\n",
      "valgt vejle amt som folketingets yngste medlem nogensinde da\n",
      "karina rensen er medlem af kontaktudvalget da\n",
      "karina sorensen member danish people party heritage party en\n"
     ]
    },
    {
     "name": "stderr",
     "output_type": "stream",
     "text": [
      " 13%|█▎        | 1387/10926 [00:28<06:15, 25.41it/s]"
     ]
    },
    {
     "name": "stdout",
     "output_type": "stream",
     "text": [
      "rensen year old born april kolding da\n",
      "member dfu directorate ro\n",
      "anyway good luck so\n"
     ]
    },
    {
     "name": "stderr",
     "output_type": "stream",
     "text": [
      " 13%|█▎        | 1396/10926 [00:28<05:23, 29.46it/s]"
     ]
    },
    {
     "name": "stdout",
     "output_type": "stream",
     "text": [
      "homo tried fag pride parade serbia year ago beaten es\n",
      "suggesting anything tl\n",
      "aragorn cy\n",
      "damn making tag along tl\n",
      "good night europe af\n"
     ]
    },
    {
     "name": "stderr",
     "output_type": "stream",
     "text": [
      "\r",
      " 13%|█▎        | 1406/10926 [00:28<04:15, 37.24it/s]"
     ]
    },
    {
     "name": "stdout",
     "output_type": "stream",
     "text": [
      "susan tl\n",
      "mistenkt krigsforbrytelser ker asyl norge en tsjetsjener etters kt terrorhandlinger og en libaneser mistenkt ha beg tt krigsforbrytelser bor p asylmottak norge med sine familier no\n"
     ]
    },
    {
     "name": "stderr",
     "output_type": "stream",
     "text": [
      " 13%|█▎        | 1417/10926 [00:29<04:43, 33.49it/s]"
     ]
    },
    {
     "name": "stdout",
     "output_type": "stream",
     "text": [
      "myndighetene vurderer n om de skal f permanent oppholdstillatelse da\n",
      "lebanese one massacre sabra shattila direction israel it\n",
      "may put away good tl\n",
      "wolf pl\n",
      "look like dennys list af\n",
      "aoh legend de\n"
     ]
    },
    {
     "name": "stderr",
     "output_type": "stream",
     "text": [
      " 13%|█▎        | 1434/10926 [00:29<04:21, 36.24it/s]"
     ]
    },
    {
     "name": "stdout",
     "output_type": "stream",
     "text": [
      "likely moving belfast no\n",
      "send personal message going da\n"
     ]
    },
    {
     "name": "stderr",
     "output_type": "stream",
     "text": [
      "\r",
      " 13%|█▎        | 1441/10926 [00:29<04:26, 35.59it/s]"
     ]
    },
    {
     "name": "stdout",
     "output_type": "stream",
     "text": [
      "e u soviet system much worse af\n",
      "well done cy\n",
      "time drive traitor sq\n"
     ]
    },
    {
     "name": "stderr",
     "output_type": "stream",
     "text": [
      " 13%|█▎        | 1464/10926 [00:30<03:13, 48.95it/s]"
     ]
    },
    {
     "name": "stdout",
     "output_type": "stream",
     "text": [
      "perhaps proud indigenous inhabitant dublin want culture enriching ruining tripe like nl\n",
      "scum ro\n",
      "back ya came id\n",
      "gone find it\n"
     ]
    },
    {
     "name": "stderr",
     "output_type": "stream",
     "text": [
      "\r",
      " 13%|█▎        | 1474/10926 [00:30<02:44, 57.50it/s]"
     ]
    },
    {
     "name": "stdout",
     "output_type": "stream",
     "text": [
      "go okay sshh so\n",
      "wow pl\n",
      "video etc welcome nl\n",
      "get lead example ca\n"
     ]
    },
    {
     "name": "stderr",
     "output_type": "stream",
     "text": [
      " 14%|█▎        | 1495/10926 [00:30<02:59, 52.58it/s]"
     ]
    },
    {
     "name": "stdout",
     "output_type": "stream",
     "text": [
      "alot work done af\n",
      "criminal scum ro\n",
      "wisdom post pl\n",
      "still prefer native every japanese korean no\n"
     ]
    },
    {
     "name": "stderr",
     "output_type": "stream",
     "text": [
      "\r",
      " 14%|█▍        | 1504/10926 [00:31<03:15, 48.12it/s]"
     ]
    },
    {
     "name": "stdout",
     "output_type": "stream",
     "text": [
      "dont see people ignore issue much longer fr\n",
      "get mine outlet even enemy one nl\n",
      "good keep track enemy well see saying af\n"
     ]
    },
    {
     "name": "stderr",
     "output_type": "stream",
     "text": [
      " 14%|█▍        | 1517/10926 [00:31<03:29, 44.87it/s]"
     ]
    },
    {
     "name": "stdout",
     "output_type": "stream",
     "text": [
      "damn canada so\n",
      "let get lad da\n",
      "bad news cy\n"
     ]
    },
    {
     "name": "stderr",
     "output_type": "stream",
     "text": [
      " 14%|█▍        | 1533/10926 [00:31<03:04, 50.97it/s]"
     ]
    },
    {
     "name": "stdout",
     "output_type": "stream",
     "text": [
      "wait open door poor people tb capital europe romania ro\n"
     ]
    },
    {
     "name": "stderr",
     "output_type": "stream",
     "text": [
      " 14%|█▍        | 1553/10926 [00:31<02:33, 60.92it/s]"
     ]
    },
    {
     "name": "stdout",
     "output_type": "stream",
     "text": [
      "absolute madness et\n",
      "london f ked da\n",
      "oh irony cy\n"
     ]
    },
    {
     "name": "stderr",
     "output_type": "stream",
     "text": [
      " 14%|█▍        | 1568/10926 [00:32<03:14, 48.12it/s]"
     ]
    },
    {
     "name": "stdout",
     "output_type": "stream",
     "text": [
      "black muslim majority lt\n",
      "perhaps would like comment link nl\n",
      "got quote someone it\n"
     ]
    },
    {
     "name": "stderr",
     "output_type": "stream",
     "text": [
      " 15%|█▍        | 1585/10926 [00:32<02:47, 55.74it/s]"
     ]
    },
    {
     "name": "stdout",
     "output_type": "stream",
     "text": [
      "saw clip tl\n",
      "mean warsaw uprising museum id\n",
      "feel like et\n",
      "let make clear like muslim still slav brother long keep religion problem no\n"
     ]
    },
    {
     "name": "stderr",
     "output_type": "stream",
     "text": [
      " 15%|█▍        | 1615/10926 [00:33<02:40, 57.85it/s]"
     ]
    },
    {
     "name": "stdout",
     "output_type": "stream",
     "text": [
      "groupid fr\n",
      "got nothing slav slav no\n",
      "part ethnic group fr\n",
      "salute bulgaria comrade ro\n",
      "wonder many mom would kill look good kid af\n"
     ]
    },
    {
     "name": "stderr",
     "output_type": "stream",
     "text": [
      " 15%|█▌        | 1641/10926 [00:33<02:31, 61.41it/s]"
     ]
    },
    {
     "name": "stdout",
     "output_type": "stream",
     "text": [
      "let alone fr\n",
      "beautiful fr\n",
      "address read enjoy no\n",
      "link fi\n"
     ]
    },
    {
     "name": "stderr",
     "output_type": "stream",
     "text": [
      " 15%|█▌        | 1656/10926 [00:33<03:07, 49.52it/s]"
     ]
    },
    {
     "name": "stdout",
     "output_type": "stream",
     "text": [
      "maybe skip generation da\n",
      "get ride see time summer cool need get someone nj name hal talk want meet go see stop see ok af\n",
      "live peoria az it\n",
      "normal pt\n"
     ]
    },
    {
     "name": "stderr",
     "output_type": "stream",
     "text": [
      " 15%|█▌        | 1670/10926 [00:34<03:03, 50.40it/s]"
     ]
    },
    {
     "name": "stdout",
     "output_type": "stream",
     "text": [
      "normal people left ro\n",
      "hehe de\n",
      "damn cool so\n",
      "would like help project nl\n",
      "u want kick greek u much nationalistic mind u live usa"
     ]
    },
    {
     "name": "stderr",
     "output_type": "stream",
     "text": [
      " 15%|█▌        | 1683/10926 [00:34<03:17, 46.83it/s]"
     ]
    },
    {
     "name": "stdout",
     "output_type": "stream",
     "text": [
      " en\n",
      "hello name sean brennan live mission kansa looking people area hang please email nirvana en\n",
      "im irish skin id like hear skin nonskin girl around world af\n",
      "tight referring slogan no\n"
     ]
    },
    {
     "name": "stderr",
     "output_type": "stream",
     "text": [
      " 16%|█▌        | 1696/10926 [00:34<02:59, 51.49it/s]"
     ]
    },
    {
     "name": "stdout",
     "output_type": "stream",
     "text": [
      "curious ro\n",
      "lass fi\n",
      "mod gone cy\n"
     ]
    },
    {
     "name": "stderr",
     "output_type": "stream",
     "text": [
      " 16%|█▌        | 1722/10926 [00:35<02:37, 58.46it/s]"
     ]
    },
    {
     "name": "stdout",
     "output_type": "stream",
     "text": [
      "make sense no\n",
      "promote nordic superiority it\n",
      "anyone know tl\n",
      "ty fi\n"
     ]
    },
    {
     "name": "stderr",
     "output_type": "stream",
     "text": [
      " 16%|█▌        | 1738/10926 [00:35<03:21, 45.51it/s]"
     ]
    },
    {
     "name": "stdout",
     "output_type": "stream",
     "text": [
      "rode bus since fr\n",
      "plan making trip kalispell early august tl\n",
      "passed devil lake nd flooding en\n",
      "massive fi\n",
      "good so\n",
      "welcome ku klux klan knight party af\n"
     ]
    },
    {
     "name": "stderr",
     "output_type": "stream",
     "text": [
      " 16%|█▌        | 1769/10926 [00:35<02:42, 56.51it/s]"
     ]
    },
    {
     "name": "stdout",
     "output_type": "stream",
     "text": [
      "let keep fight one roof keep one fight free af\n",
      "planet ape no\n",
      "good so\n",
      "little troll longer going nip pant leg let look platform no\n",
      "figure available none made public fr\n"
     ]
    },
    {
     "name": "stderr",
     "output_type": "stream",
     "text": [
      " 16%|█▋        | 1784/10926 [00:36<02:58, 51.18it/s]"
     ]
    },
    {
     "name": "stdout",
     "output_type": "stream",
     "text": [
      "yeah surprised id\n",
      "guess keep et\n",
      "good point hr\n"
     ]
    },
    {
     "name": "stderr",
     "output_type": "stream",
     "text": [
      " 16%|█▋        | 1802/10926 [00:36<02:52, 52.88it/s]"
     ]
    },
    {
     "name": "stdout",
     "output_type": "stream",
     "text": [
      "horny dumb kid sk\n",
      "philippine tl\n",
      "jesus christ hr\n",
      "tf care ro\n",
      "get nl\n"
     ]
    },
    {
     "name": "stderr",
     "output_type": "stream",
     "text": [
      " 17%|█▋        | 1813/10926 [00:36<03:56, 38.57it/s]"
     ]
    },
    {
     "name": "stdout",
     "output_type": "stream",
     "text": [
      "extra concern care tibet ro\n",
      "look talking et\n",
      "moron"
     ]
    },
    {
     "name": "stderr",
     "output_type": "stream",
     "text": [
      " 17%|█▋        | 1825/10926 [00:37<03:26, 44.06it/s]"
     ]
    },
    {
     "name": "stdout",
     "output_type": "stream",
     "text": [
      " sk\n",
      "wow pl\n",
      "hey negro genius cy\n",
      "swim back jew arm pl\n",
      "unreal ro\n",
      "situation it\n"
     ]
    },
    {
     "name": "stderr",
     "output_type": "stream",
     "text": [
      " 17%|█▋        | 1851/10926 [00:37<02:49, 53.41it/s]"
     ]
    },
    {
     "name": "stdout",
     "output_type": "stream",
     "text": [
      "wrong cy\n",
      "also genocide stop calling it\n",
      "wow pl\n",
      "putting meet feel free private message"
     ]
    },
    {
     "name": "stderr",
     "output_type": "stream",
     "text": [
      " 17%|█▋        | 1867/10926 [00:37<02:44, 54.95it/s]"
     ]
    },
    {
     "name": "stdout",
     "output_type": "stream",
     "text": [
      " no\n",
      "well wo stand af\n",
      "visit today"
     ]
    },
    {
     "name": "stderr",
     "output_type": "stream",
     "text": [
      "\r",
      " 17%|█▋        | 1878/10926 [00:37<02:28, 60.90it/s]"
     ]
    },
    {
     "name": "stdout",
     "output_type": "stream",
     "text": [
      " fi\n",
      "try vi\n",
      "see one et\n",
      "also available line source ie ke l b fr\n"
     ]
    },
    {
     "name": "stderr",
     "output_type": "stream",
     "text": [
      " 17%|█▋        | 1895/10926 [00:38<02:44, 54.89it/s]"
     ]
    },
    {
     "name": "stdout",
     "output_type": "stream",
     "text": [
      "trudeau sneaking like et\n",
      "could trudeau buddy set fire request fr\n",
      "hiv aid killing fast enough et\n"
     ]
    },
    {
     "name": "stderr",
     "output_type": "stream",
     "text": [
      "\r",
      " 17%|█▋        | 1902/10926 [00:38<03:01, 49.59it/s]"
     ]
    },
    {
     "name": "stdout",
     "output_type": "stream",
     "text": [
      "yes want way sw\n",
      "enlightening nl\n"
     ]
    },
    {
     "name": "stderr",
     "output_type": "stream",
     "text": [
      " 18%|█▊        | 1915/10926 [00:38<03:31, 42.69it/s]"
     ]
    },
    {
     "name": "stdout",
     "output_type": "stream",
     "text": [
      "letter would fall deaf ear en\n",
      "call government appropriate name it\n",
      "gotten fatter year no\n",
      "used bikini model skinny sl\n"
     ]
    },
    {
     "name": "stderr",
     "output_type": "stream",
     "text": [
      " 18%|█▊        | 1926/10926 [00:38<03:16, 45.83it/s]"
     ]
    },
    {
     "name": "stdout",
     "output_type": "stream",
     "text": [
      "may want read so\n",
      "later went get beer opened door yep guessed blood geyser af\n"
     ]
    },
    {
     "name": "stderr",
     "output_type": "stream",
     "text": [
      " 18%|█▊        | 1945/10926 [00:39<03:35, 41.63it/s]"
     ]
    },
    {
     "name": "stdout",
     "output_type": "stream",
     "text": [
      "sport no\n",
      "lying marxist tl\n",
      "title like teach black kid en\n",
      "people utter garbage get brain transplant no\n"
     ]
    },
    {
     "name": "stderr",
     "output_type": "stream",
     "text": [
      " 18%|█▊        | 1954/10926 [00:39<04:14, 35.26it/s]"
     ]
    },
    {
     "name": "stdout",
     "output_type": "stream",
     "text": [
      "sentiment exactly en\n",
      "make happen nl\n",
      "told go said ar around ya lol cy\n",
      "wo talk anymore wo go church anymore pl\n"
     ]
    },
    {
     "name": "stderr",
     "output_type": "stream",
     "text": [
      " 18%|█▊        | 1964/10926 [00:40<04:06, 36.39it/s]"
     ]
    },
    {
     "name": "stdout",
     "output_type": "stream",
     "text": [
      "listening fi\n",
      "minute gorgeous et\n",
      "dresden remembrance last year year es\n",
      "yep tr\n"
     ]
    },
    {
     "name": "stderr",
     "output_type": "stream",
     "text": [
      " 18%|█▊        | 1979/10926 [00:40<03:22, 44.25it/s]"
     ]
    },
    {
     "name": "stdout",
     "output_type": "stream",
     "text": [
      "law center prevent gun violence fr\n"
     ]
    },
    {
     "name": "stderr",
     "output_type": "stream",
     "text": [
      "\r",
      " 18%|█▊        | 1985/10926 [00:40<04:57, 30.05it/s]"
     ]
    },
    {
     "name": "stdout",
     "output_type": "stream",
     "text": [
      "period basket stamped full top flap holster da\n",
      "best part fr\n",
      "lisa grandpa department poker game back id\n",
      "nobody nobody part basque made w hybrid cy\n"
     ]
    },
    {
     "name": "stderr",
     "output_type": "stream",
     "text": [
      " 18%|█▊        | 1996/10926 [00:40<04:40, 31.88it/s]"
     ]
    },
    {
     "name": "stdout",
     "output_type": "stream",
     "text": [
      "mom blue eye dad green eye got eye af\n",
      "matter quickly dropped fr\n",
      "love video much sk\n",
      "seen believe sf thank posting af\n",
      "seem grasp fact jew stolen german identity first place blend"
     ]
    },
    {
     "name": "stderr",
     "output_type": "stream",
     "text": [
      " 18%|█▊        | 2007/10926 [00:41<04:19, 34.33it/s]"
     ]
    },
    {
     "name": "stdout",
     "output_type": "stream",
     "text": [
      " en\n",
      "haha thinking thing vi\n",
      "nah man enough tl\n",
      "like mauricio rua lt\n",
      "like rony jason fi\n"
     ]
    },
    {
     "name": "stderr",
     "output_type": "stream",
     "text": [
      " 18%|█▊        | 2016/10926 [00:41<04:53, 30.32it/s]"
     ]
    },
    {
     "name": "stdout",
     "output_type": "stream",
     "text": [
      "skin color race hope dont come picture blonde jew fr\n",
      "im giving watching mma good en\n",
      "ufc tuf rigged staged da\n",
      "true vi\n"
     ]
    },
    {
     "name": "stderr",
     "output_type": "stream",
     "text": [
      " 19%|█▊        | 2030/10926 [00:41<03:45, 39.51it/s]"
     ]
    },
    {
     "name": "stdout",
     "output_type": "stream",
     "text": [
      "younger one say survivor sperm men egg woman en\n"
     ]
    },
    {
     "name": "stderr",
     "output_type": "stream",
     "text": [
      " 19%|█▉        | 2051/10926 [00:42<03:00, 49.26it/s]"
     ]
    },
    {
     "name": "stdout",
     "output_type": "stream",
     "text": [
      "unforgivable da\n",
      "guess jew rabbi guy say must serve jew iraqi jew hr\n"
     ]
    },
    {
     "name": "stderr",
     "output_type": "stream",
     "text": [
      " 19%|█▉        | 2063/10926 [00:42<03:19, 44.35it/s]"
     ]
    },
    {
     "name": "stdout",
     "output_type": "stream",
     "text": [
      "fact immoral irresponsible parent influence child immoral irresponsible en\n",
      "grin bear keep getting respectable grade af\n",
      "requirement circumcision found nt fr\n"
     ]
    },
    {
     "name": "stderr",
     "output_type": "stream",
     "text": [
      " 19%|█▉        | 2083/10926 [00:42<03:09, 46.64it/s]"
     ]
    },
    {
     "name": "stdout",
     "output_type": "stream",
     "text": [
      "truth vi\n",
      "virtually useless fi\n",
      "take look blog example no\n",
      "ha so\n",
      "like teach negro"
     ]
    },
    {
     "name": "stderr",
     "output_type": "stream",
     "text": [
      "\r",
      " 19%|█▉        | 2089/10926 [00:42<03:01, 48.64it/s]"
     ]
    },
    {
     "name": "stdout",
     "output_type": "stream",
     "text": [
      " sl\n"
     ]
    },
    {
     "name": "stderr",
     "output_type": "stream",
     "text": [
      " 19%|█▉        | 2106/10926 [00:43<03:15, 45.15it/s]"
     ]
    },
    {
     "name": "stdout",
     "output_type": "stream",
     "text": [
      "problem jew destroyed one else da\n",
      "usa also ca\n",
      "youtube id\n",
      "laughable ca\n",
      "intended"
     ]
    },
    {
     "name": "stderr",
     "output_type": "stream",
     "text": [
      "\r",
      " 19%|█▉        | 2111/10926 [00:43<03:23, 43.24it/s]"
     ]
    },
    {
     "name": "stdout",
     "output_type": "stream",
     "text": [
      " nl\n",
      "get stafford loan stupid school go refuse student loan turned en\n"
     ]
    },
    {
     "name": "stderr",
     "output_type": "stream",
     "text": [
      " 20%|█▉        | 2132/10926 [00:43<03:15, 44.90it/s]"
     ]
    },
    {
     "name": "stdout",
     "output_type": "stream",
     "text": [
      "git happy as tl\n",
      "iran war time id\n",
      "solution simple fr\n"
     ]
    },
    {
     "name": "stderr",
     "output_type": "stream",
     "text": [
      " 20%|█▉        | 2145/10926 [00:44<03:05, 47.29it/s]"
     ]
    },
    {
     "name": "stdout",
     "output_type": "stream",
     "text": [
      "break no\n",
      "making really expensive purpose making panic en\n",
      "please keep mind et\n",
      "regard kyle sv\n",
      "liberal care diversity it\n"
     ]
    },
    {
     "name": "stderr",
     "output_type": "stream",
     "text": [
      " 20%|█▉        | 2168/10926 [00:44<02:28, 58.80it/s]"
     ]
    },
    {
     "name": "stdout",
     "output_type": "stream",
     "text": [
      "let race continue fr\n",
      "link fi\n",
      "check de\n",
      "jim sw\n",
      "god cy\n"
     ]
    },
    {
     "name": "stderr",
     "output_type": "stream",
     "text": [
      " 20%|██        | 2190/10926 [00:45<02:50, 51.27it/s]"
     ]
    },
    {
     "name": "stdout",
     "output_type": "stream",
     "text": [
      "hell ill even give pic aim p ladieees p aim trilidon ca\n",
      "ya lazy cant get real job deal drug jump job job job sl\n",
      "great ro\n",
      "black wont kid"
     ]
    },
    {
     "name": "stderr",
     "output_type": "stream",
     "text": [
      " 20%|██        | 2222/10926 [00:45<02:49, 51.20it/s]"
     ]
    },
    {
     "name": "stdout",
     "output_type": "stream",
     "text": [
      " nl\n",
      "im grade im hr\n",
      "havent put logins no\n",
      "great ro\n",
      "jew insane literal demonic dna sl\n"
     ]
    },
    {
     "name": "stderr",
     "output_type": "stream",
     "text": [
      "\r",
      " 20%|██        | 2228/10926 [00:45<02:44, 52.99it/s]"
     ]
    },
    {
     "name": "stdout",
     "output_type": "stream",
     "text": [
      "feel nl\n",
      "adrien holboth julia kovacs anita salata dora barkaszi zsofia buki beata frank eszter gulyas eniko halasz ramona kiss marta knoll szandra proksa hu\n",
      "hungary justice en\n",
      "never understand pain must felt no\n"
     ]
    },
    {
     "name": "stderr",
     "output_type": "stream",
     "text": [
      " 21%|██        | 2247/10926 [00:46<03:19, 43.46it/s]"
     ]
    },
    {
     "name": "stdout",
     "output_type": "stream",
     "text": [
      "lunch surreal en\n",
      "kid allowed talk so\n",
      "silence fr\n",
      "ready go cy\n",
      "fun es\n"
     ]
    },
    {
     "name": "stderr",
     "output_type": "stream",
     "text": [
      " 21%|██        | 2277/10926 [00:46<02:41, 53.43it/s]"
     ]
    },
    {
     "name": "stdout",
     "output_type": "stream",
     "text": [
      "obama declare martial law freedom outpost pt\n",
      "god rest man soul fr\n",
      "perhaps get put bnp sticker sv\n"
     ]
    },
    {
     "name": "stderr",
     "output_type": "stream",
     "text": [
      " 21%|██        | 2290/10926 [00:46<02:57, 48.78it/s]"
     ]
    },
    {
     "name": "stdout",
     "output_type": "stream",
     "text": [
      "r student negro nl\n",
      "barely rail cy\n"
     ]
    },
    {
     "name": "stderr",
     "output_type": "stream",
     "text": [
      " 21%|██        | 2301/10926 [00:47<03:21, 42.86it/s]"
     ]
    },
    {
     "name": "stdout",
     "output_type": "stream",
     "text": [
      "better head tube en\n",
      "else da\n",
      "thorongil get one twin get"
     ]
    },
    {
     "name": "stderr",
     "output_type": "stream",
     "text": [
      " 21%|██▏       | 2323/10926 [00:47<02:32, 56.46it/s]"
     ]
    },
    {
     "name": "stdout",
     "output_type": "stream",
     "text": [
      " nl\n",
      "oh god cy\n",
      "good so\n",
      "ai daddy new world order either like jew world order af\n"
     ]
    },
    {
     "name": "stderr",
     "output_type": "stream",
     "text": [
      " 21%|██▏       | 2336/10926 [00:47<02:42, 52.97it/s]"
     ]
    },
    {
     "name": "stdout",
     "output_type": "stream",
     "text": [
      "latest attack groid fr\n",
      "impulsive negro stripping it\n",
      "made visit word describe racial situation city en\n",
      "driving near usc darky sv\n"
     ]
    },
    {
     "name": "stderr",
     "output_type": "stream",
     "text": [
      " 22%|██▏       | 2369/10926 [00:48<02:24, 59.34it/s]"
     ]
    },
    {
     "name": "stdout",
     "output_type": "stream",
     "text": [
      "ca ro\n",
      "allegedly grabbed knife home kitchen ended stabbing engelhardt father alan maternal grandmother marlene gacek en\n",
      "source fr\n",
      "dont get kid burden white people nl\n",
      "say love god much like"
     ]
    },
    {
     "name": "stderr",
     "output_type": "stream",
     "text": [
      " 22%|██▏       | 2383/10926 [00:48<02:38, 53.75it/s]"
     ]
    },
    {
     "name": "stdout",
     "output_type": "stream",
     "text": [
      " hr\n",
      "get right af\n",
      "go figure it\n",
      "absolutely en\n",
      "disgusting advertisement ever seen fact disgusting thing seen ever nl\n"
     ]
    },
    {
     "name": "stderr",
     "output_type": "stream",
     "text": [
      " 22%|██▏       | 2395/10926 [00:48<02:51, 49.77it/s]"
     ]
    },
    {
     "name": "stdout",
     "output_type": "stream",
     "text": [
      "image melvin wei de\n",
      "wow beautiful wn like seig heil salute need woman like beautiful indeed af\n",
      "look like quite picked lot aryan gene af\n"
     ]
    },
    {
     "name": "stderr",
     "output_type": "stream",
     "text": [
      "\r",
      " 22%|██▏       | 2402/10926 [00:49<02:54, 48.90it/s]"
     ]
    },
    {
     "name": "stdout",
     "output_type": "stream",
     "text": [
      "aragorn tl\n",
      "struggle make self da\n",
      "truth vi\n",
      "someone tell find cebephibe bpata it\n"
     ]
    },
    {
     "name": "stderr",
     "output_type": "stream",
     "text": [
      " 22%|██▏       | 2432/10926 [00:49<02:35, 54.50it/s]"
     ]
    },
    {
     "name": "stdout",
     "output_type": "stream",
     "text": [
      "msciwoj pl\n",
      "soccer music it\n",
      "google skill failed da\n",
      "lycurgus moderation forever let da\n"
     ]
    },
    {
     "name": "stderr",
     "output_type": "stream",
     "text": [
      " 22%|██▏       | 2444/10926 [00:49<03:22, 41.84it/s]"
     ]
    },
    {
     "name": "stdout",
     "output_type": "stream",
     "text": [
      "middle ground da\n",
      "live oslo huge problem sl\n",
      "sad true es\n",
      "downfall begun cy\n"
     ]
    },
    {
     "name": "stderr",
     "output_type": "stream",
     "text": [
      " 22%|██▏       | 2456/10926 [00:50<03:04, 45.95it/s]"
     ]
    },
    {
     "name": "stdout",
     "output_type": "stream",
     "text": [
      "kiss uncle samael et\n",
      "look arabic anything tl\n",
      "aragorn cy\n",
      "far excelled anatoly karpov garry kasparov sv\n"
     ]
    },
    {
     "name": "stderr",
     "output_type": "stream",
     "text": [
      " 23%|██▎       | 2476/10926 [00:50<02:44, 51.29it/s]"
     ]
    },
    {
     "name": "stdout",
     "output_type": "stream",
     "text": [
      "adopting kid answer af\n",
      "oh wait never happened en\n",
      "ethnic crime ro\n"
     ]
    },
    {
     "name": "stderr",
     "output_type": "stream",
     "text": [
      "\r",
      " 23%|██▎       | 2482/10926 [00:50<03:37, 38.76it/s]"
     ]
    },
    {
     "name": "stdout",
     "output_type": "stream",
     "text": [
      "get nl\n",
      "refuse believe af\n",
      "fun way"
     ]
    },
    {
     "name": "stderr",
     "output_type": "stream",
     "text": [
      "\r",
      " 23%|██▎       | 2487/10926 [00:50<04:23, 31.99it/s]"
     ]
    },
    {
     "name": "stdout",
     "output_type": "stream",
     "text": [
      " so\n",
      "aragorn tl\n",
      "matter time become hell hole like sweden uk da\n",
      "god bless"
     ]
    },
    {
     "name": "stderr",
     "output_type": "stream",
     "text": [
      " 23%|██▎       | 2495/10926 [00:51<04:29, 31.27it/s]"
     ]
    },
    {
     "name": "stdout",
     "output_type": "stream",
     "text": [
      " cy\n",
      "good news happens european nation doubt pushed like jew like summer redstone mtv af\n",
      "god bless cy\n"
     ]
    },
    {
     "name": "stderr",
     "output_type": "stream",
     "text": [
      " 23%|██▎       | 2523/10926 [00:51<02:50, 49.43it/s]"
     ]
    },
    {
     "name": "stdout",
     "output_type": "stream",
     "text": [
      "islamisation going europe object fr\n",
      "agreed af\n",
      "nice pl\n",
      "bull tr\n"
     ]
    },
    {
     "name": "stderr",
     "output_type": "stream",
     "text": [
      " 23%|██▎       | 2555/10926 [00:51<01:59, 69.94it/s]"
     ]
    },
    {
     "name": "stdout",
     "output_type": "stream",
     "text": [
      "eu wonderful af\n",
      "id cy\n",
      "sure seen munster fan last weekend af\n",
      "czynski pl\n"
     ]
    },
    {
     "name": "stderr",
     "output_type": "stream",
     "text": [
      "\r",
      " 23%|██▎       | 2565/10926 [00:52<02:29, 55.96it/s]"
     ]
    },
    {
     "name": "stdout",
     "output_type": "stream",
     "text": [
      "visited website facebook page like see af\n",
      "bad bc so\n",
      "would meet ya lot work lol af\n",
      "maaaaany pinders asian tl\n",
      "sound like sensible well plan no\n"
     ]
    },
    {
     "name": "stderr",
     "output_type": "stream",
     "text": [
      "\r",
      " 24%|██▎       | 2573/10926 [00:52<02:33, 54.25it/s]"
     ]
    },
    {
     "name": "stdout",
     "output_type": "stream",
     "text": [
      "dumb dumb dumb fr\n",
      "government keep track suit vodka first loot kit brood"
     ]
    },
    {
     "name": "stderr",
     "output_type": "stream",
     "text": [
      "\r",
      " 24%|██▎       | 2581/10926 [00:52<02:45, 50.49it/s]"
     ]
    },
    {
     "name": "stdout",
     "output_type": "stream",
     "text": [
      " af\n",
      "went talk georgetown university last week nl\n",
      "wonder happened nl\n"
     ]
    },
    {
     "name": "stderr",
     "output_type": "stream",
     "text": [
      " 24%|██▍       | 2596/10926 [00:52<03:01, 45.87it/s]"
     ]
    },
    {
     "name": "stdout",
     "output_type": "stream",
     "text": [
      "prime miss jean brodie trailer youtube fr\n",
      "difference it\n",
      "andr rieu beautiful blue danube youtube fr\n"
     ]
    },
    {
     "name": "stderr",
     "output_type": "stream",
     "text": [
      " 24%|██▍       | 2623/10926 [00:53<02:17, 60.54it/s]"
     ]
    },
    {
     "name": "stdout",
     "output_type": "stream",
     "text": [
      "man game every player get together nice cuddle en\n",
      "kindest regard je sl\n",
      "usa fi\n",
      "many tl\n",
      "indeed nl\n"
     ]
    },
    {
     "name": "stderr",
     "output_type": "stream",
     "text": [
      " 24%|██▍       | 2655/10926 [00:53<01:52, 73.41it/s]"
     ]
    },
    {
     "name": "stdout",
     "output_type": "stream",
     "text": [
      "c vi\n",
      "situation australia canada it\n"
     ]
    },
    {
     "name": "stderr",
     "output_type": "stream",
     "text": [
      "\r",
      " 24%|██▍       | 2663/10926 [00:53<02:33, 53.95it/s]"
     ]
    },
    {
     "name": "stdout",
     "output_type": "stream",
     "text": [
      "indian stanis spit street af\n",
      "disgusting af\n"
     ]
    },
    {
     "name": "stderr",
     "output_type": "stream",
     "text": [
      " 24%|██▍       | 2676/10926 [00:54<02:48, 49.05it/s]"
     ]
    },
    {
     "name": "stdout",
     "output_type": "stream",
     "text": [
      "glad realized hr\n",
      "correct es\n",
      "changing guard changing negro tl\n",
      "lol es\n",
      "npd demonstration hamburg attendant sv\n",
      "said lv\n"
     ]
    },
    {
     "name": "stderr",
     "output_type": "stream",
     "text": [
      " 25%|██▍       | 2688/10926 [00:54<03:12, 42.82it/s]"
     ]
    },
    {
     "name": "stdout",
     "output_type": "stream",
     "text": [
      "demonstranten gegen au dem land kn kieler nachrichten kiel kurd pkk demostration today de\n",
      "google translate google translate af\n"
     ]
    },
    {
     "name": "stderr",
     "output_type": "stream",
     "text": [
      " 25%|██▍       | 2717/10926 [00:54<02:16, 60.03it/s]"
     ]
    },
    {
     "name": "stdout",
     "output_type": "stream",
     "text": [
      "nice picture video ro\n",
      "wait going people euro af\n",
      "send u drmradio cy\n",
      "john fi\n",
      "vancouver fr\n"
     ]
    },
    {
     "name": "stderr",
     "output_type": "stream",
     "text": [
      " 25%|██▌       | 2739/10926 [00:55<02:08, 63.95it/s]"
     ]
    },
    {
     "name": "stdout",
     "output_type": "stream",
     "text": [
      "want female smart look like top model imporant ask deserve af\n",
      "note self lose wombat af\n",
      "seen happen nl\n"
     ]
    },
    {
     "name": "stderr",
     "output_type": "stream",
     "text": [
      " 25%|██▌       | 2754/10926 [00:55<02:15, 60.31it/s]"
     ]
    },
    {
     "name": "stdout",
     "output_type": "stream",
     "text": [
      "around hungarian anyone tl\n",
      "get credit nl\n",
      "place go deep foot nl\n",
      "guess could fr\n",
      "alot busier saturday sunday"
     ]
    },
    {
     "name": "stderr",
     "output_type": "stream",
     "text": [
      " 25%|██▌       | 2780/10926 [00:55<01:56, 69.81it/s]"
     ]
    },
    {
     "name": "stdout",
     "output_type": "stream",
     "text": [
      " id\n",
      "buddy boat cy\n"
     ]
    },
    {
     "name": "stderr",
     "output_type": "stream",
     "text": [
      " 26%|██▌       | 2796/10926 [00:56<02:23, 56.62it/s]"
     ]
    },
    {
     "name": "stdout",
     "output_type": "stream",
     "text": [
      "go near it\n",
      "agreeance great place speak vent anger get living zogworld nl\n",
      "wp wp wp wp pl\n",
      "race skin color ro\n",
      "like japanese really et\n",
      "respect es\n",
      "sweet af\n",
      "bb hu\n",
      "u wan na chat drop line rahowa pl\n",
      "many wonderful people mention meet soon enough nl\n",
      "good luck so\n"
     ]
    },
    {
     "name": "stderr",
     "output_type": "stream",
     "text": [
      " 26%|██▌       | 2816/10926 [00:56<02:20, 57.74it/s]"
     ]
    },
    {
     "name": "stdout",
     "output_type": "stream",
     "text": [
      "black metal preserving european culture value ro\n",
      "kc skin boy looking kc skin girl af\n",
      "draco cy\n"
     ]
    },
    {
     "name": "stderr",
     "output_type": "stream",
     "text": [
      " 26%|██▌       | 2831/10926 [00:57<02:37, 51.30it/s]"
     ]
    },
    {
     "name": "stdout",
     "output_type": "stream",
     "text": [
      "go school oregon nl\n",
      "cheer edward nl\n",
      "little one adorable en\n",
      "look like jjt taken lead et\n"
     ]
    },
    {
     "name": "stderr",
     "output_type": "stream",
     "text": [
      " 26%|██▌       | 2847/10926 [00:57<02:19, 57.71it/s]"
     ]
    },
    {
     "name": "stdout",
     "output_type": "stream",
     "text": [
      "defend boarder da\n",
      "mrbadgersir da\n"
     ]
    },
    {
     "name": "stderr",
     "output_type": "stream",
     "text": [
      " 26%|██▌       | 2867/10926 [00:57<02:14, 59.88it/s]"
     ]
    },
    {
     "name": "stdout",
     "output_type": "stream",
     "text": [
      "dont doubt saying bnp hope well af\n",
      "bless mr duke no\n",
      "medium praise encourage establishment denoucing degrading white man establishment en\n",
      "persecution"
     ]
    },
    {
     "name": "stderr",
     "output_type": "stream",
     "text": [
      " 26%|██▋       | 2882/10926 [00:57<02:30, 53.60it/s]"
     ]
    },
    {
     "name": "stdout",
     "output_type": "stream",
     "text": [
      " ro\n",
      "able elect mayor soon es\n",
      "harsh punishment rapist sq\n",
      "klansman refuse see real problem"
     ]
    },
    {
     "name": "stderr",
     "output_type": "stream",
     "text": [
      "\r",
      " 26%|██▋       | 2889/10926 [00:58<03:32, 37.83it/s]"
     ]
    },
    {
     "name": "stdout",
     "output_type": "stream",
     "text": [
      " no\n",
      "time perplexing ro\n",
      "good work af\n",
      "plan going work making money tl\n"
     ]
    },
    {
     "name": "stderr",
     "output_type": "stream",
     "text": [
      " 27%|██▋       | 2899/10926 [00:58<03:20, 39.97it/s]"
     ]
    },
    {
     "name": "stdout",
     "output_type": "stream",
     "text": [
      "sent email day last night handed leaflet made david duke talk duke lacrosse case st louis volksfront donated fr\n",
      "idea page it\n",
      "jim sw\n"
     ]
    },
    {
     "name": "stderr",
     "output_type": "stream",
     "text": [
      " 27%|██▋       | 2914/10926 [00:58<03:20, 39.87it/s]"
     ]
    },
    {
     "name": "stdout",
     "output_type": "stream",
     "text": [
      "calman ca\n",
      "thank skingirl af\n"
     ]
    },
    {
     "name": "stderr",
     "output_type": "stream",
     "text": [
      " 27%|██▋       | 2927/10926 [00:59<03:09, 42.24it/s]"
     ]
    },
    {
     "name": "stdout",
     "output_type": "stream",
     "text": [
      "cf cy\n",
      "evolve homo sapiens quite contrary retained intelligence spite it\n"
     ]
    },
    {
     "name": "stderr",
     "output_type": "stream",
     "text": [
      " 27%|██▋       | 2948/10926 [00:59<02:22, 56.06it/s]"
     ]
    },
    {
     "name": "stdout",
     "output_type": "stream",
     "text": [
      "rotten core it\n",
      "israel disagrees af\n",
      "asian smart id\n"
     ]
    },
    {
     "name": "stderr",
     "output_type": "stream",
     "text": [
      " 27%|██▋       | 2967/10926 [00:59<02:01, 65.76it/s]"
     ]
    },
    {
     "name": "stdout",
     "output_type": "stream",
     "text": [
      "glad gay so\n",
      "contradicts statement race dont exist fr\n",
      "play game day want so\n"
     ]
    },
    {
     "name": "stderr",
     "output_type": "stream",
     "text": [
      " 27%|██▋       | 2984/10926 [00:59<02:06, 62.79it/s]"
     ]
    },
    {
     "name": "stdout",
     "output_type": "stream",
     "text": [
      "must met point time fr\n",
      "guess taste pt\n",
      "elk hunter no\n",
      "dr cy\n",
      "nation desperate need immigration time zero tolerance policy illegally it\n",
      "think video inappropriate child"
     ]
    },
    {
     "name": "stderr",
     "output_type": "stream",
     "text": [
      " 28%|██▊       | 3009/10926 [01:00<02:05, 63.02it/s]"
     ]
    },
    {
     "name": "stdout",
     "output_type": "stream",
     "text": [
      " en\n",
      "tactical pen ca\n",
      "else new af\n",
      "gay late party tl\n",
      "saying sky blue grass green no\n"
     ]
    },
    {
     "name": "stderr",
     "output_type": "stream",
     "text": [
      " 28%|██▊       | 3035/10926 [01:00<01:55, 68.04it/s]"
     ]
    },
    {
     "name": "stdout",
     "output_type": "stream",
     "text": [
      "way so\n",
      "tnb no\n",
      "savage mag tl\n",
      "scope it\n",
      "anyone wonder white student avoid uc berkeley nl\n",
      "oh look al qaeda so\n"
     ]
    },
    {
     "name": "stderr",
     "output_type": "stream",
     "text": [
      " 28%|██▊       | 3054/10926 [01:00<01:59, 65.64it/s]"
     ]
    },
    {
     "name": "stdout",
     "output_type": "stream",
     "text": [
      "like et\n",
      "would af\n",
      "people friend fr\n",
      "doubt los angeles ce pool es\n"
     ]
    },
    {
     "name": "stderr",
     "output_type": "stream",
     "text": [
      " 28%|██▊       | 3070/10926 [01:01<02:29, 52.43it/s]"
     ]
    },
    {
     "name": "stdout",
     "output_type": "stream",
     "text": [
      "hearing wagner end video made want charge night sword af\n",
      "bookmarked website last night af\n",
      "went miss state saw jew student nl\n",
      "got ta represent coconut mango yo ca\n"
     ]
    },
    {
     "name": "stderr",
     "output_type": "stream",
     "text": [
      " 28%|██▊       | 3083/10926 [01:01<03:16, 39.91it/s]"
     ]
    },
    {
     "name": "stdout",
     "output_type": "stream",
     "text": [
      "since college suggest working degree plan moving k working new school en\n",
      "start somewhere talk no\n"
     ]
    },
    {
     "name": "stderr",
     "output_type": "stream",
     "text": [
      " 29%|██▊       | 3115/10926 [01:02<02:09, 60.30it/s]"
     ]
    },
    {
     "name": "stdout",
     "output_type": "stream",
     "text": [
      "one hell system designed flood shaft da\n",
      "saw episode soprano applauding tony tl\n"
     ]
    },
    {
     "name": "stderr",
     "output_type": "stream",
     "text": [
      " 29%|██▊       | 3129/10926 [01:02<02:56, 44.13it/s]"
     ]
    },
    {
     "name": "stdout",
     "output_type": "stream",
     "text": [
      "never liked working metal much wood af\n",
      "steel casing harder gun nl\n",
      "steel harder brass nl\n"
     ]
    },
    {
     "name": "stderr",
     "output_type": "stream",
     "text": [
      " 29%|██▉       | 3149/10926 [01:02<02:28, 52.27it/s]"
     ]
    },
    {
     "name": "stdout",
     "output_type": "stream",
     "text": [
      "pull right push sq\n",
      "agreed af\n",
      "worried well af\n",
      "herp vet gone til middle april can not wait get checked nl\n"
     ]
    },
    {
     "name": "stderr",
     "output_type": "stream",
     "text": [
      " 29%|██▉       | 3168/10926 [01:03<02:46, 46.54it/s]"
     ]
    },
    {
     "name": "stdout",
     "output_type": "stream",
     "text": [
      "roll big mamma youtube tl\n",
      "like legend vigger charlie crack da\n",
      "go see tube video van af\n",
      "fedor going like hurt lot no\n",
      "anything tl\n"
     ]
    },
    {
     "name": "stderr",
     "output_type": "stream",
     "text": [
      " 29%|██▉       | 3192/10926 [01:03<02:27, 52.38it/s]"
     ]
    },
    {
     "name": "stdout",
     "output_type": "stream",
     "text": [
      "v vaezznw mjo sl\n",
      "one talk real problem et\n"
     ]
    },
    {
     "name": "stderr",
     "output_type": "stream",
     "text": [
      " 30%|██▉       | 3233/10926 [01:04<01:44, 73.67it/s]"
     ]
    },
    {
     "name": "stdout",
     "output_type": "stream",
     "text": [
      "take little person no\n",
      "pagan wedding man woman tl\n",
      "amazing picture ro\n"
     ]
    },
    {
     "name": "stderr",
     "output_type": "stream",
     "text": [
      "\r",
      " 30%|██▉       | 3242/10926 [01:04<01:52, 68.17it/s]"
     ]
    },
    {
     "name": "stdout",
     "output_type": "stream",
     "text": [
      "jew demanding worst patient nl\n",
      "seen happen many time explode en\n",
      "link document b moore put film ro\n"
     ]
    },
    {
     "name": "stderr",
     "output_type": "stream",
     "text": [
      " 30%|██▉       | 3259/10926 [01:04<02:05, 61.01it/s]"
     ]
    },
    {
     "name": "stdout",
     "output_type": "stream",
     "text": [
      "good site sign newsletter af\n",
      "keep spread word af\n",
      "love big dog sl\n"
     ]
    },
    {
     "name": "stderr",
     "output_type": "stream",
     "text": [
      "\r",
      " 30%|██▉       | 3267/10926 [01:04<02:08, 59.40it/s]"
     ]
    },
    {
     "name": "stdout",
     "output_type": "stream",
     "text": [
      "nice picture ro\n",
      "david s sv\n",
      "take care en\n",
      "seems old proverb dog flea come mind da\n"
     ]
    },
    {
     "name": "stderr",
     "output_type": "stream",
     "text": [
      " 30%|███       | 3292/10926 [01:05<02:05, 60.92it/s]"
     ]
    },
    {
     "name": "stdout",
     "output_type": "stream",
     "text": [
      "course dog noble creature fr\n",
      "allude et\n",
      "well like said keep et\n",
      "good luck so\n"
     ]
    },
    {
     "name": "stderr",
     "output_type": "stream",
     "text": [
      "\r",
      " 30%|███       | 3300/10926 [01:05<02:07, 59.87it/s]"
     ]
    },
    {
     "name": "stdout",
     "output_type": "stream",
     "text": [
      "make easier form no\n",
      "im girl year old skin canada tr\n",
      "put msn dont accept dont want en\n",
      "judge color hip en\n",
      "colour ghetto fly super dawg slang en\n"
     ]
    },
    {
     "name": "stderr",
     "output_type": "stream",
     "text": [
      " 30%|███       | 3314/10926 [01:05<02:25, 52.30it/s]"
     ]
    },
    {
     "name": "stdout",
     "output_type": "stream",
     "text": [
      "girl bey fly cy\n",
      "thanks greg en\n",
      "attack sv\n",
      "fair enough cy\n"
     ]
    },
    {
     "name": "stderr",
     "output_type": "stream",
     "text": [
      " 31%|███       | 3337/10926 [01:06<02:08, 58.90it/s]"
     ]
    },
    {
     "name": "stdout",
     "output_type": "stream",
     "text": [
      "got message trying get across first post felt like messing no\n",
      "haha so\n",
      "send message plan come make arrangement meet nl\n",
      "sixteen jones die antwoord daughter youtube"
     ]
    },
    {
     "name": "stderr",
     "output_type": "stream",
     "text": [
      " 31%|███       | 3353/10926 [01:06<02:18, 54.65it/s]"
     ]
    },
    {
     "name": "stdout",
     "output_type": "stream",
     "text": [
      " af\n",
      "keep hearing wonderful someone even likened christ nl\n",
      "happening nl\n"
     ]
    },
    {
     "name": "stderr",
     "output_type": "stream",
     "text": [
      " 31%|███       | 3368/10926 [01:06<02:39, 47.47it/s]"
     ]
    },
    {
     "name": "stdout",
     "output_type": "stream",
     "text": [
      "zulu final attack youtube ro\n",
      "rapist technique fr\n",
      "think video talking earlier make grateful guy keep driving mile mile af\n",
      "youtube tour detroit ghetto fr\n",
      "uncalled unwhite uncivilized"
     ]
    },
    {
     "name": "stderr",
     "output_type": "stream",
     "text": [
      "\r",
      " 31%|███       | 3374/10926 [01:07<03:38, 34.61it/s]"
     ]
    },
    {
     "name": "stdout",
     "output_type": "stream",
     "text": [
      " it\n",
      "period it\n",
      "picture headline detroit crap fr\n"
     ]
    },
    {
     "name": "stderr",
     "output_type": "stream",
     "text": [
      "\r",
      " 31%|███       | 3388/10926 [01:07<02:49, 44.49it/s]"
     ]
    },
    {
     "name": "stdout",
     "output_type": "stream",
     "text": [
      "dung stupid able tap market id\n",
      "story like sad no\n"
     ]
    },
    {
     "name": "stderr",
     "output_type": "stream",
     "text": [
      " 31%|███       | 3402/10926 [01:07<03:05, 40.45it/s]"
     ]
    },
    {
     "name": "stdout",
     "output_type": "stream",
     "text": [
      "reading article one get get impression comp sci department desperate grateful body regardless color department en\n",
      "jack mclamb contacted ca\n",
      "course fr\n",
      "nancy grace news week pl\n"
     ]
    },
    {
     "name": "stderr",
     "output_type": "stream",
     "text": [
      " 31%|███▏      | 3427/10926 [01:08<02:44, 45.60it/s]"
     ]
    },
    {
     "name": "stdout",
     "output_type": "stream",
     "text": [
      "string em da\n",
      "bible jewish pl\n",
      "always take something someone else make no\n",
      "taken particular test like ten time no\n",
      "people circle acquaintance bit obsessed iq fr\n"
     ]
    },
    {
     "name": "stderr",
     "output_type": "stream",
     "text": [
      " 31%|███▏      | 3438/10926 [01:08<03:18, 37.77it/s]"
     ]
    },
    {
     "name": "stdout",
     "output_type": "stream",
     "text": [
      "pretty sure troll it\n",
      "take back said report en\n",
      "interesting guy never seen derren brown nl\n",
      "got kid got ta pay kid tl\n",
      "youtube obama going pay gas mortgage tl\n"
     ]
    },
    {
     "name": "stderr",
     "output_type": "stream",
     "text": [
      " 32%|███▏      | 3460/10926 [01:08<02:30, 49.58it/s]"
     ]
    },
    {
     "name": "stdout",
     "output_type": "stream",
     "text": [
      "youtube id\n",
      "crippin nigga tl\n",
      "crippin nigga tl\n",
      "cripppinnn it\n"
     ]
    },
    {
     "name": "stderr",
     "output_type": "stream",
     "text": [
      " 32%|███▏      | 3476/10926 [01:09<02:16, 54.65it/s]"
     ]
    },
    {
     "name": "stdout",
     "output_type": "stream",
     "text": [
      "going get bad come nl\n",
      "hydradeck human youtube cy\n"
     ]
    },
    {
     "name": "stderr",
     "output_type": "stream",
     "text": [
      " 32%|███▏      | 3491/10926 [01:09<02:22, 52.19it/s]"
     ]
    },
    {
     "name": "stdout",
     "output_type": "stream",
     "text": [
      "imagine uproar black girl said ten ro\n",
      "youtube id\n",
      "study ago cy\n"
     ]
    },
    {
     "name": "stderr",
     "output_type": "stream",
     "text": [
      " 32%|███▏      | 3507/10926 [01:09<02:07, 58.39it/s]"
     ]
    },
    {
     "name": "stdout",
     "output_type": "stream",
     "text": [
      "tf no\n",
      "love sl\n"
     ]
    },
    {
     "name": "stderr",
     "output_type": "stream",
     "text": [
      " 32%|███▏      | 3520/10926 [01:09<02:13, 55.56it/s]"
     ]
    },
    {
     "name": "stdout",
     "output_type": "stream",
     "text": [
      "azer syria georgia greece ro\n",
      "mongol england tl\n",
      "mean look photo dont get feeling nl\n",
      "edin eko bosnian soccer player zvjezdan misimovi mismovic eko bosnian president zeljko komsic angela lejla damardzic bosnian special force ose bosnian street people sl\n"
     ]
    },
    {
     "name": "stderr",
     "output_type": "stream",
     "text": [
      " 32%|███▏      | 3532/10926 [01:10<02:59, 41.18it/s]"
     ]
    },
    {
     "name": "stdout",
     "output_type": "stream",
     "text": [
      "please put picture average people model ro\n",
      "mate one would asking af\n",
      "wow pl\n",
      "slav black darker hair color sv\n",
      "would like see one time faves en\n"
     ]
    },
    {
     "name": "stderr",
     "output_type": "stream",
     "text": [
      " 33%|███▎      | 3554/10926 [01:10<02:32, 48.50it/s]"
     ]
    },
    {
     "name": "stdout",
     "output_type": "stream",
     "text": [
      "keep russia free dark skinned being thank please forgive mistake no\n",
      "know gypises look like easten europe seen many lviv ukraine begging food no\n",
      "opendocument ro\n"
     ]
    },
    {
     "name": "stderr",
     "output_type": "stream",
     "text": [
      "\r",
      " 33%|███▎      | 3560/10926 [01:10<02:27, 49.92it/s]"
     ]
    },
    {
     "name": "stdout",
     "output_type": "stream",
     "text": [
      "kkk ku klux klan time et\n",
      "since eleventh letter alphabet k k ku klux klan da\n",
      "skinhead racial prejudice skinheadsi protiv rasne diskriminacije arpovci debili hr\n"
     ]
    },
    {
     "name": "stderr",
     "output_type": "stream",
     "text": [
      "\r",
      " 33%|███▎      | 3566/10926 [01:10<03:06, 39.41it/s]"
     ]
    },
    {
     "name": "stdout",
     "output_type": "stream",
     "text": [
      "restaurant ca\n",
      "oldest belgrade restaurant built property knez milo obrenovic en\n"
     ]
    },
    {
     "name": "stderr",
     "output_type": "stream",
     "text": [
      " 33%|███▎      | 3582/10926 [01:11<03:15, 37.59it/s]"
     ]
    },
    {
     "name": "stdout",
     "output_type": "stream",
     "text": [
      "restaurant skadarlija tri sesira restaurant summer skadarlija id\n",
      "restaurant summer skadarlija ima dana restaurant id\n",
      "download enjoy en\n",
      "aragorn cy\n",
      "never forget heroism da\n"
     ]
    },
    {
     "name": "stderr",
     "output_type": "stream",
     "text": [
      " 33%|███▎      | 3608/10926 [01:11<02:34, 47.50it/s]"
     ]
    },
    {
     "name": "stdout",
     "output_type": "stream",
     "text": [
      "hello fi\n",
      "swede cy\n",
      "tell wo happen nl\n",
      "father sweden watch daughter safety cy\n"
     ]
    },
    {
     "name": "stderr",
     "output_type": "stream",
     "text": [
      " 33%|███▎      | 3622/10926 [01:12<02:41, 45.10it/s]"
     ]
    },
    {
     "name": "stdout",
     "output_type": "stream",
     "text": [
      "dream negress sd come riksdag no\n",
      "gone cy\n",
      "taking advantage nature far long tl\n"
     ]
    },
    {
     "name": "stderr",
     "output_type": "stream",
     "text": [
      " 33%|███▎      | 3638/10926 [01:12<02:37, 46.19it/s]"
     ]
    },
    {
     "name": "stdout",
     "output_type": "stream",
     "text": [
      "ya gota fecken kiddin st patrick black sv\n",
      "hope sort protest fr\n",
      "ireland need arab scum like en\n"
     ]
    },
    {
     "name": "stderr",
     "output_type": "stream",
     "text": [
      " 33%|███▎      | 3654/10926 [01:12<02:10, 55.80it/s]"
     ]
    },
    {
     "name": "stdout",
     "output_type": "stream",
     "text": [
      "hail cy\n",
      "expert please explain never drug seizure linked even arrest nl\n",
      "nobody idolizes ira lv\n"
     ]
    },
    {
     "name": "stderr",
     "output_type": "stream",
     "text": [
      " 34%|███▎      | 3674/10926 [01:13<02:44, 44.12it/s]"
     ]
    },
    {
     "name": "stdout",
     "output_type": "stream",
     "text": [
      "id pt n sv\n",
      "truly sad en\n",
      "say draiodoir cy\n",
      "elizabeth sq\n"
     ]
    },
    {
     "name": "stderr",
     "output_type": "stream",
     "text": [
      " 34%|███▍      | 3697/10926 [01:13<02:02, 58.97it/s]"
     ]
    },
    {
     "name": "stdout",
     "output_type": "stream",
     "text": [
      "like see video picture et\n",
      "like new group like wo af\n"
     ]
    },
    {
     "name": "stderr",
     "output_type": "stream",
     "text": [
      " 34%|███▍      | 3711/10926 [01:13<02:10, 55.49it/s]"
     ]
    },
    {
     "name": "stdout",
     "output_type": "stream",
     "text": [
      "gon na soon tl\n",
      "male female ro\n",
      "simple it\n"
     ]
    },
    {
     "name": "stderr",
     "output_type": "stream",
     "text": [
      " 34%|███▍      | 3743/10926 [01:14<02:03, 57.93it/s]"
     ]
    },
    {
     "name": "stdout",
     "output_type": "stream",
     "text": [
      "bad never lower self level self denial blindness da\n",
      "hello typing see message no\n",
      "indeed nl\n"
     ]
    },
    {
     "name": "stderr",
     "output_type": "stream",
     "text": [
      "\r",
      " 34%|███▍      | 3750/10926 [01:14<03:04, 38.83it/s]"
     ]
    },
    {
     "name": "stdout",
     "output_type": "stream",
     "text": [
      "slag anyone vote bnp nf tl\n",
      "excuse pt\n",
      "fact reflect actual essence person could fr\n",
      "hello fi\n"
     ]
    },
    {
     "name": "stderr",
     "output_type": "stream",
     "text": [
      " 34%|███▍      | 3768/10926 [01:15<02:35, 46.10it/s]"
     ]
    },
    {
     "name": "stdout",
     "output_type": "stream",
     "text": [
      "asmodean pt\n",
      "greeting af\n",
      "supporting destruction future generation fr\n",
      "beuthen gro stadt im oberschlesischen kohlenrevier youtube de\n",
      "dunnes striker attend funeral let hope red mistaken usual white target jungle savage no\n",
      "anything day two en\n",
      "id"
     ]
    },
    {
     "name": "stderr",
     "output_type": "stream",
     "text": [
      " 35%|███▍      | 3789/10926 [01:15<02:16, 52.47it/s]"
     ]
    },
    {
     "name": "stdout",
     "output_type": "stream",
     "text": [
      " cy\n",
      "wonder taste come europe couple decade fr\n",
      "never met london no\n",
      "jesli sa sie chowaja albo nie wiedza co stormfront pl\n",
      "nigdy nie spotkalem zadnego w londynie pl\n",
      "greeting af\n",
      "must say younger guy sure keep gal young fit en\n"
     ]
    },
    {
     "name": "stderr",
     "output_type": "stream",
     "text": [
      " 35%|███▍      | 3804/10926 [01:15<02:11, 54.20it/s]"
     ]
    },
    {
     "name": "stdout",
     "output_type": "stream",
     "text": [
      "eye linger no\n",
      "said year old cy\n",
      "im de\n",
      "kelly hu\n"
     ]
    },
    {
     "name": "stderr",
     "output_type": "stream",
     "text": [
      " 35%|███▍      | 3820/10926 [01:16<02:00, 58.83it/s]"
     ]
    },
    {
     "name": "stdout",
     "output_type": "stream",
     "text": [
      "clue lol es\n",
      "anyways wan na party respond en\n"
     ]
    },
    {
     "name": "stderr",
     "output_type": "stream",
     "text": [
      "\r",
      " 35%|███▌      | 3827/10926 [01:16<02:34, 45.86it/s]"
     ]
    },
    {
     "name": "stdout",
     "output_type": "stream",
     "text": [
      "hundred skin esp area da\n",
      "sent ya personal message id\n",
      "check local regional post it\n",
      "gott mit un de\n"
     ]
    },
    {
     "name": "stderr",
     "output_type": "stream",
     "text": [
      " 35%|███▌      | 3844/10926 [01:16<03:00, 39.26it/s]"
     ]
    },
    {
     "name": "stdout",
     "output_type": "stream",
     "text": [
      "going tl\n",
      "skin hr\n",
      "ca ro\n",
      "looking pen pal would like hear u af\n",
      "wolf pl\n",
      "anybody new york cy\n"
     ]
    },
    {
     "name": "stderr",
     "output_type": "stream",
     "text": [
      "\r",
      " 35%|███▌      | 3850/10926 [01:16<03:05, 38.19it/s]"
     ]
    },
    {
     "name": "stdout",
     "output_type": "stream",
     "text": [
      "sean gillespie attack it\n",
      "cool dude fr\n",
      "right want lil rotweiler het one name schatzi aww cause sweetie val love smiley nl\n"
     ]
    },
    {
     "name": "stderr",
     "output_type": "stream",
     "text": [
      " 35%|███▌      | 3859/10926 [01:17<03:50, 30.64it/s]"
     ]
    },
    {
     "name": "stdout",
     "output_type": "stream",
     "text": [
      "driving virtual adventure no\n",
      "youtube kalispell one favorite city it\n",
      "butte montana promotional video youtube it\n",
      "guess everyone glacier weekend nl\n",
      "long day beautiful course fr\n",
      "getting someone else dirty work got u mess today af\n"
     ]
    },
    {
     "name": "stderr",
     "output_type": "stream",
     "text": [
      "\r",
      " 35%|███▌      | 3871/10926 [01:17<03:12, 36.74it/s]"
     ]
    },
    {
     "name": "stdout",
     "output_type": "stream",
     "text": [
      "decided take debate personal message ca\n",
      "check personal message it\n",
      "robert sk\n",
      "perhaps retire"
     ]
    },
    {
     "name": "stderr",
     "output_type": "stream",
     "text": [
      " 36%|███▌      | 3886/10926 [01:17<02:49, 41.45it/s]"
     ]
    },
    {
     "name": "stdout",
     "output_type": "stream",
     "text": [
      " ca\n",
      "kind say coming tl\n",
      "congrats"
     ]
    },
    {
     "name": "stderr",
     "output_type": "stream",
     "text": [
      " 36%|███▌      | 3903/10926 [01:17<02:19, 50.29it/s]"
     ]
    },
    {
     "name": "stdout",
     "output_type": "stream",
     "text": [
      " ca\n",
      "comment spot target fr\n",
      "absolutely en\n",
      "hoodies sweetshirts woman t men t af\n"
     ]
    },
    {
     "name": "stderr",
     "output_type": "stream",
     "text": [
      " 36%|███▌      | 3918/10926 [01:18<02:23, 48.73it/s]"
     ]
    },
    {
     "name": "stdout",
     "output_type": "stream",
     "text": [
      "crime particular problem live ro\n",
      "stay away fast food garbage so\n",
      "let pollute body garbage da\n"
     ]
    },
    {
     "name": "stderr",
     "output_type": "stream",
     "text": [
      " 36%|███▌      | 3943/10926 [01:18<01:53, 61.63it/s]"
     ]
    },
    {
     "name": "stdout",
     "output_type": "stream",
     "text": [
      "maybe so\n",
      "vouch cs\n",
      "working af\n",
      "w event id nl\n"
     ]
    },
    {
     "name": "stderr",
     "output_type": "stream",
     "text": [
      " 36%|███▌      | 3959/10926 [01:18<01:46, 65.29it/s]"
     ]
    },
    {
     "name": "stdout",
     "output_type": "stream",
     "text": [
      "big talk none ball tell skin face no\n",
      "skin wore suit rally af\n",
      "asked da\n",
      "like idea et\n",
      "never smile da\n",
      "talk like gangster yo yo yo"
     ]
    },
    {
     "name": "stderr",
     "output_type": "stream",
     "text": [
      " 36%|███▋      | 3981/10926 [01:19<02:00, 57.53it/s]"
     ]
    },
    {
     "name": "stdout",
     "output_type": "stream",
     "text": [
      " tr\n",
      "smoke skinny cigar sv\n",
      "avoid fi\n",
      "never seen asian woman dating asian like white man wiggers detrimental towards af\n",
      "seen happen many time site lurking day id\n"
     ]
    },
    {
     "name": "stderr",
     "output_type": "stream",
     "text": [
      " 37%|███▋      | 3996/10926 [01:19<02:09, 53.59it/s]"
     ]
    },
    {
     "name": "stdout",
     "output_type": "stream",
     "text": [
      "disgusting af\n",
      "hi sw\n",
      "welfare cy\n",
      "dont move nebraska sl\n",
      "minnesota fi\n"
     ]
    },
    {
     "name": "stderr",
     "output_type": "stream",
     "text": [
      " 37%|███▋      | 4015/10926 [01:19<02:06, 54.48it/s]"
     ]
    },
    {
     "name": "stdout",
     "output_type": "stream",
     "text": [
      "deal es\n",
      "sexual reference ca\n",
      "like groomed af\n"
     ]
    },
    {
     "name": "stderr",
     "output_type": "stream",
     "text": [
      " 37%|███▋      | 4031/10926 [01:20<02:33, 44.95it/s]"
     ]
    },
    {
     "name": "stdout",
     "output_type": "stream",
     "text": [
      "v index list de\n"
     ]
    },
    {
     "name": "stderr",
     "output_type": "stream",
     "text": [
      " 37%|███▋      | 4051/10926 [01:20<02:19, 49.14it/s]"
     ]
    },
    {
     "name": "stdout",
     "output_type": "stream",
     "text": [
      "never sl\n",
      "v deiw v v v wtnfdpxtfek sk\n",
      "man got listen pas nl\n",
      "get trouble speaking no\n"
     ]
    },
    {
     "name": "stderr",
     "output_type": "stream",
     "text": [
      " 37%|███▋      | 4069/10926 [01:21<02:19, 49.12it/s]"
     ]
    },
    {
     "name": "stdout",
     "output_type": "stream",
     "text": [
      "alien de\n",
      "look degree much used nl\n"
     ]
    },
    {
     "name": "stderr",
     "output_type": "stream",
     "text": [
      " 37%|███▋      | 4079/10926 [01:21<02:39, 42.97it/s]"
     ]
    },
    {
     "name": "stdout",
     "output_type": "stream",
     "text": [
      "vital fi\n",
      "total disgrace dollar go promoting degenerate filth it\n",
      "expect homosexual muslim mayor es\n",
      "say dont want take gun tl\n",
      "say want mile apart tl\n",
      "oh fi\n",
      "easier explain fr\n"
     ]
    },
    {
     "name": "stderr",
     "output_type": "stream",
     "text": [
      " 38%|███▊      | 4104/10926 [01:21<02:05, 54.17it/s]"
     ]
    },
    {
     "name": "stdout",
     "output_type": "stream",
     "text": [
      "anything like market today no\n",
      "op faggot da\n",
      "hardly slav great great grandma serbian little slavic no\n"
     ]
    },
    {
     "name": "stderr",
     "output_type": "stream",
     "text": [
      " 38%|███▊      | 4120/10926 [01:21<02:01, 56.21it/s]"
     ]
    },
    {
     "name": "stdout",
     "output_type": "stream",
     "text": [
      "suggestion get da\n",
      "make suck jew run black play hr\n",
      "warning lot naked skin boob hope forgive"
     ]
    },
    {
     "name": "stderr",
     "output_type": "stream",
     "text": [
      " 38%|███▊      | 4132/10926 [01:22<02:37, 43.09it/s]"
     ]
    },
    {
     "name": "stdout",
     "output_type": "stream",
     "text": [
      " en\n",
      "never fell hump back day en\n",
      "year ago cy\n",
      "run three mile day week day hike rifle alice gear weekend"
     ]
    },
    {
     "name": "stderr",
     "output_type": "stream",
     "text": [
      " 38%|███▊      | 4144/10926 [01:22<02:31, 44.68it/s]"
     ]
    },
    {
     "name": "stdout",
     "output_type": "stream",
     "text": [
      " en\n",
      "yup id\n"
     ]
    },
    {
     "name": "stderr",
     "output_type": "stream",
     "text": [
      " 38%|███▊      | 4154/10926 [01:22<03:14, 34.78it/s]"
     ]
    },
    {
     "name": "stdout",
     "output_type": "stream",
     "text": [
      "stay gel test af\n",
      "fantastic idea it\n",
      "support it\n",
      "gay dude so\n",
      "disagree af\n"
     ]
    },
    {
     "name": "stderr",
     "output_type": "stream",
     "text": [
      " 38%|███▊      | 4181/10926 [01:23<02:16, 49.58it/s]"
     ]
    },
    {
     "name": "stdout",
     "output_type": "stream",
     "text": [
      "got deserved da\n",
      "imagine got percent negro it\n"
     ]
    },
    {
     "name": "stderr",
     "output_type": "stream",
     "text": [
      " 38%|███▊      | 4205/10926 [01:23<02:05, 53.70it/s]"
     ]
    },
    {
     "name": "stdout",
     "output_type": "stream",
     "text": [
      "never seen poster af\n",
      "like selecting movie en\n",
      "movie sk\n"
     ]
    },
    {
     "name": "stderr",
     "output_type": "stream",
     "text": [
      " 39%|███▊      | 4223/10926 [01:24<02:17, 48.73it/s]"
     ]
    },
    {
     "name": "stdout",
     "output_type": "stream",
     "text": [
      "like said rule change would destroy sport af\n",
      "striking even dominated grappling rule minimal let alone no\n",
      "ignorance sport pretty striking no\n",
      "hope compete pt\n",
      "evangel n af\n",
      "going play black sheep say nothing wrong tl\n"
     ]
    },
    {
     "name": "stderr",
     "output_type": "stream",
     "text": [
      " 39%|███▉      | 4237/10926 [01:24<02:00, 55.65it/s]"
     ]
    },
    {
     "name": "stdout",
     "output_type": "stream",
     "text": [
      "mechanism death question along remembrance people die fr\n",
      "miss dr pierce much fr\n",
      "music lesson fr\n"
     ]
    },
    {
     "name": "stderr",
     "output_type": "stream",
     "text": [
      "\r",
      " 39%|███▉      | 4243/10926 [01:24<02:59, 37.27it/s]"
     ]
    },
    {
     "name": "stdout",
     "output_type": "stream",
     "text": [
      "lord fredrik leighton no\n",
      "monster no\n",
      "compulsatory education school special pleader suspense girl dog la pensierosa es\n",
      "marie spartali stillman"
     ]
    },
    {
     "name": "stderr",
     "output_type": "stream",
     "text": [
      " 39%|███▉      | 4263/10926 [01:25<02:34, 43.24it/s]"
     ]
    },
    {
     "name": "stdout",
     "output_type": "stream",
     "text": [
      " it\n",
      "mary gow pl\n",
      "lady dream cy\n",
      "calmady child cy\n"
     ]
    },
    {
     "name": "stderr",
     "output_type": "stream",
     "text": [
      "\r",
      " 39%|███▉      | 4269/10926 [01:25<02:28, 44.76it/s]"
     ]
    },
    {
     "name": "stdout",
     "output_type": "stream",
     "text": [
      "maybe different cy\n",
      "one nice doll it\n"
     ]
    },
    {
     "name": "stderr",
     "output_type": "stream",
     "text": [
      " 39%|███▉      | 4290/10926 [01:25<02:07, 52.23it/s]"
     ]
    },
    {
     "name": "stdout",
     "output_type": "stream",
     "text": [
      "youtube barbie doll test fr\n",
      "bump id\n"
     ]
    },
    {
     "name": "stderr",
     "output_type": "stream",
     "text": [
      " 39%|███▉      | 4306/10926 [01:25<01:55, 57.21it/s]"
     ]
    },
    {
     "name": "stdout",
     "output_type": "stream",
     "text": [
      "explain garbage son fr\n",
      "comment appreciated it\n",
      "like wiggers af\n"
     ]
    },
    {
     "name": "stderr",
     "output_type": "stream",
     "text": [
      " 40%|███▉      | 4319/10926 [01:26<02:20, 47.13it/s]"
     ]
    },
    {
     "name": "stdout",
     "output_type": "stream",
     "text": [
      "dress like black talk ike act stupid no\n",
      "thing go get skin dyed en\n",
      "sad time et\n"
     ]
    },
    {
     "name": "stderr",
     "output_type": "stream",
     "text": [
      " 40%|███▉      | 4343/10926 [01:26<01:55, 57.08it/s]"
     ]
    },
    {
     "name": "stdout",
     "output_type": "stream",
     "text": [
      "voted likely take world first kill af\n",
      "never ever gotten first base no\n",
      "better five buck hour da\n"
     ]
    },
    {
     "name": "stderr",
     "output_type": "stream",
     "text": [
      " 40%|███▉      | 4356/10926 [01:26<02:06, 51.77it/s]"
     ]
    },
    {
     "name": "stdout",
     "output_type": "stream",
     "text": [
      "look like black lost even one lol diablo et\n",
      "wan na look like skinny white lady black beautiful shake head en\n",
      "maybe similar tl\n",
      "peter great no\n"
     ]
    },
    {
     "name": "stderr",
     "output_type": "stream",
     "text": [
      " 40%|████      | 4374/10926 [01:27<02:13, 48.97it/s]"
     ]
    },
    {
     "name": "stdout",
     "output_type": "stream",
     "text": [
      "lived union truckstop truckstop milliken avenue exit sv\n",
      "drink beer relaxe good luck af\n"
     ]
    },
    {
     "name": "stderr",
     "output_type": "stream",
     "text": [
      "\r",
      " 40%|████      | 4380/10926 [01:27<02:15, 48.44it/s]"
     ]
    },
    {
     "name": "stdout",
     "output_type": "stream",
     "text": [
      "school begin week answering question nl\n",
      "well done cy\n",
      "disgusting perverted"
     ]
    },
    {
     "name": "stderr",
     "output_type": "stream",
     "text": [
      " 40%|████      | 4398/10926 [01:27<02:18, 47.00it/s]"
     ]
    },
    {
     "name": "stdout",
     "output_type": "stream",
     "text": [
      " af\n",
      "asset fi\n",
      "true good point hr\n"
     ]
    },
    {
     "name": "stderr",
     "output_type": "stream",
     "text": [
      " 40%|████      | 4418/10926 [01:28<01:56, 55.74it/s]"
     ]
    },
    {
     "name": "stdout",
     "output_type": "stream",
     "text": [
      "putting u debt id\n",
      "go post soon possible fr\n",
      "none video play es\n",
      "seem fake window trying get go hook site af\n"
     ]
    },
    {
     "name": "stderr",
     "output_type": "stream",
     "text": [
      " 41%|████      | 4431/10926 [01:28<02:04, 52.19it/s]"
     ]
    },
    {
     "name": "stdout",
     "output_type": "stream",
     "text": [
      "god bless cy\n",
      "good video af\n",
      "deserve as kicking en\n",
      "ple sayanim tl\n",
      "wiki sw\n"
     ]
    },
    {
     "name": "stderr",
     "output_type": "stream",
     "text": [
      " 41%|████      | 4443/10926 [01:28<02:48, 38.37it/s]"
     ]
    },
    {
     "name": "stdout",
     "output_type": "stream",
     "text": [
      "close finnic estonian ro\n",
      "since die stem racist ro\n"
     ]
    },
    {
     "name": "stderr",
     "output_type": "stream",
     "text": [
      " 41%|████      | 4455/10926 [01:29<03:02, 35.55it/s]"
     ]
    },
    {
     "name": "stdout",
     "output_type": "stream",
     "text": [
      "saved site no\n",
      "get vomit bag nl\n",
      "oh ing god cy\n"
     ]
    },
    {
     "name": "stderr",
     "output_type": "stream",
     "text": [
      " 41%|████      | 4477/10926 [01:29<02:10, 49.52it/s]"
     ]
    },
    {
     "name": "stdout",
     "output_type": "stream",
     "text": [
      "negro cy\n",
      "sure negro coming it\n",
      "youtube euclid square mall dead mall anyone report euclid ohio ca\n",
      "yah guess id\n"
     ]
    },
    {
     "name": "stderr",
     "output_type": "stream",
     "text": [
      " 41%|████▏     | 4514/10926 [01:29<01:28, 72.22it/s]"
     ]
    },
    {
     "name": "stdout",
     "output_type": "stream",
     "text": [
      "black send back sv\n",
      "wonder one victim opened door apartment reason en\n",
      "open door anyone nl\n"
     ]
    },
    {
     "name": "stderr",
     "output_type": "stream",
     "text": [
      " 41%|████▏     | 4529/10926 [01:30<01:50, 57.70it/s]"
     ]
    },
    {
     "name": "stdout",
     "output_type": "stream",
     "text": [
      "assuming skinhead tattoo kill people fun et\n",
      "ha ha true vi\n",
      "yo crap es\n",
      "sound like intelligent person say need remove race message message da\n",
      "cant protest fr\n",
      "youtube id\n"
     ]
    },
    {
     "name": "stderr",
     "output_type": "stream",
     "text": [
      " 42%|████▏     | 4543/10926 [01:30<01:53, 56.30it/s]"
     ]
    },
    {
     "name": "stdout",
     "output_type": "stream",
     "text": [
      "send afreaka sink farkin boat da\n",
      "bernard goetz need af\n",
      "uk july fi\n"
     ]
    },
    {
     "name": "stderr",
     "output_type": "stream",
     "text": [
      " 42%|████▏     | 4556/10926 [01:30<02:17, 46.44it/s]"
     ]
    },
    {
     "name": "stdout",
     "output_type": "stream",
     "text": [
      "los angeles gone es\n",
      "yes saw tl\n",
      "uncomfortable es\n",
      "like god telling u work af\n"
     ]
    },
    {
     "name": "stderr",
     "output_type": "stream",
     "text": [
      " 42%|████▏     | 4571/10926 [01:31<01:54, 55.33it/s]"
     ]
    },
    {
     "name": "stdout",
     "output_type": "stream",
     "text": [
      "week grocery look like around world fstoppers af\n",
      "himmler bundesarchiv june de\n",
      "yes tr\n",
      "sometimes european look alike af\n"
     ]
    },
    {
     "name": "stderr",
     "output_type": "stream",
     "text": [
      " 42%|████▏     | 4585/10926 [01:31<01:45, 60.08it/s]"
     ]
    },
    {
     "name": "stdout",
     "output_type": "stream",
     "text": [
      "likewise af\n",
      "il kidnap sl\n",
      "cia fsb team ca\n"
     ]
    },
    {
     "name": "stderr",
     "output_type": "stream",
     "text": [
      " 42%|████▏     | 4598/10926 [01:31<02:11, 48.11it/s]"
     ]
    },
    {
     "name": "stdout",
     "output_type": "stream",
     "text": [
      "need feel skin next time wont give land subhuman muslim dog en\n",
      "good see back public display kremlin hr\n",
      "saying see tl\n"
     ]
    },
    {
     "name": "stderr",
     "output_type": "stream",
     "text": [
      " 42%|████▏     | 4609/10926 [01:31<02:19, 45.13it/s]"
     ]
    },
    {
     "name": "stdout",
     "output_type": "stream",
     "text": [
      "hate drama bull like tr\n",
      "ukraine matter fi\n"
     ]
    },
    {
     "name": "stderr",
     "output_type": "stream",
     "text": [
      " 42%|████▏     | 4628/10926 [01:32<02:38, 39.79it/s]"
     ]
    },
    {
     "name": "stdout",
     "output_type": "stream",
     "text": [
      "bloody hell kondor rnu excellent mate no\n",
      "appreciate it\n",
      "lot pic godunov anyone ever care see ca\n",
      "muahaha id\n",
      "palatka fla id\n"
     ]
    },
    {
     "name": "stderr",
     "output_type": "stream",
     "text": [
      " 43%|████▎     | 4644/10926 [01:32<02:20, 44.66it/s]"
     ]
    },
    {
     "name": "stdout",
     "output_type": "stream",
     "text": [
      "getting heart matter work well af\n",
      "hope line discussion die time it\n"
     ]
    },
    {
     "name": "stderr",
     "output_type": "stream",
     "text": [
      " 43%|████▎     | 4669/10926 [01:33<01:55, 54.37it/s]"
     ]
    },
    {
     "name": "stdout",
     "output_type": "stream",
     "text": [
      "shore sq\n",
      "good day so\n",
      "seen young latvian girl prague airport dark arab little girl dark id\n",
      "get unreserved total support no\n",
      "hail new king norway tl\n"
     ]
    },
    {
     "name": "stderr",
     "output_type": "stream",
     "text": [
      " 43%|████▎     | 4702/10926 [01:33<01:57, 52.82it/s]"
     ]
    },
    {
     "name": "stdout",
     "output_type": "stream",
     "text": [
      "massive fan skrewdriver like song da\n",
      "sure guy red like song no\n"
     ]
    },
    {
     "name": "stderr",
     "output_type": "stream",
     "text": [
      " 43%|████▎     | 4722/10926 [01:34<01:55, 53.58it/s]"
     ]
    },
    {
     "name": "stdout",
     "output_type": "stream",
     "text": [
      "come support it\n",
      "like blowing old lady little kid no\n",
      "went old friend day drink af\n"
     ]
    },
    {
     "name": "stderr",
     "output_type": "stream",
     "text": [
      "\r",
      " 43%|████▎     | 4730/10926 [01:34<01:44, 59.08it/s]"
     ]
    },
    {
     "name": "stdout",
     "output_type": "stream",
     "text": [
      "yeah tr\n",
      "meineehre heisst treue treue und ehre bi zum tod niemals aufgeben niemals reue da haben wir un einst geschworn class song de\n",
      "maybe opened eye see en\n",
      "still snooping eh tl\n",
      "accident"
     ]
    },
    {
     "name": "stderr",
     "output_type": "stream",
     "text": [
      " 43%|████▎     | 4743/10926 [01:34<02:13, 46.43it/s]"
     ]
    },
    {
     "name": "stdout",
     "output_type": "stream",
     "text": [
      " es\n",
      "nonsense af\n",
      "rosanna davison think name fi\n"
     ]
    },
    {
     "name": "stderr",
     "output_type": "stream",
     "text": [
      " 44%|████▎     | 4755/10926 [01:34<02:04, 49.46it/s]"
     ]
    },
    {
     "name": "stdout",
     "output_type": "stream",
     "text": [
      "ugly hag so\n",
      "bye no\n",
      "dave live frigin brampton"
     ]
    },
    {
     "name": "stderr",
     "output_type": "stream",
     "text": [
      " 44%|████▎     | 4766/10926 [01:35<02:41, 38.20it/s]"
     ]
    },
    {
     "name": "stdout",
     "output_type": "stream",
     "text": [
      " da\n",
      "would like see white people get together get u white pride day en\n",
      "hello joined fi\n",
      "told immigrant like go home af\n",
      "knew girl school went one en\n"
     ]
    },
    {
     "name": "stderr",
     "output_type": "stream",
     "text": [
      " 44%|████▎     | 4779/10926 [01:35<02:24, 42.41it/s]"
     ]
    },
    {
     "name": "stdout",
     "output_type": "stream",
     "text": [
      "last week af\n",
      "fantastic it\n",
      "week ago af\n",
      "gross af\n"
     ]
    },
    {
     "name": "stderr",
     "output_type": "stream",
     "text": [
      " 44%|████▍     | 4814/10926 [01:35<01:29, 68.12it/s]"
     ]
    },
    {
     "name": "stdout",
     "output_type": "stream",
     "text": [
      "thats baz rutten ken shamrock started ufc sv\n",
      "hd download gb read episode cy\n",
      "muslim sikh et\n",
      "cultural threat ro\n"
     ]
    },
    {
     "name": "stderr",
     "output_type": "stream",
     "text": [
      " 44%|████▍     | 4829/10926 [01:36<01:45, 57.94it/s]"
     ]
    },
    {
     "name": "stdout",
     "output_type": "stream",
     "text": [
      "marxist america ca\n",
      "running giving mud no\n",
      "call lost cause call home it\n"
     ]
    },
    {
     "name": "stderr",
     "output_type": "stream",
     "text": [
      " 44%|████▍     | 4855/10926 [01:36<01:38, 61.70it/s]"
     ]
    },
    {
     "name": "stdout",
     "output_type": "stream",
     "text": [
      "related slav no\n",
      "wow pl\n",
      "live bad da\n",
      "tell u it\n",
      "karl tr\n",
      "small dog like maltese thing call stoep kakkers good leaving turd stoop af\n",
      "welcome greatest site meet like minded white folk like world af\n"
     ]
    },
    {
     "name": "stderr",
     "output_type": "stream",
     "text": [
      " 45%|████▍     | 4868/10926 [01:36<02:13, 45.22it/s]"
     ]
    },
    {
     "name": "stdout",
     "output_type": "stream",
     "text": [
      "wpww sw\n",
      "sure someone come along it\n",
      "patience virtue know fr\n",
      "control medium it\n",
      "wonder nl\n",
      "good luck so\n"
     ]
    },
    {
     "name": "stderr",
     "output_type": "stream",
     "text": [
      " 45%|████▍     | 4883/10926 [01:37<01:49, 55.19it/s]"
     ]
    },
    {
     "name": "stdout",
     "output_type": "stream",
     "text": [
      "blut und ehre de\n",
      "chris de\n",
      "liquor store le half mile radius one stop selling beer midnight af\n",
      "lol es\n"
     ]
    },
    {
     "name": "stderr",
     "output_type": "stream",
     "text": [
      " 45%|████▍     | 4907/10926 [01:37<02:20, 42.83it/s]"
     ]
    },
    {
     "name": "stdout",
     "output_type": "stream",
     "text": [
      "love speak sl\n",
      "got personal message strange no\n",
      "work way af\n",
      "camie es\n",
      "met cute florida girl logan pas today es\n"
     ]
    },
    {
     "name": "stderr",
     "output_type": "stream",
     "text": [
      " 45%|████▌     | 4919/10926 [01:37<02:12, 45.33it/s]"
     ]
    },
    {
     "name": "stdout",
     "output_type": "stream",
     "text": [
      "decided go road trip es\n",
      "agreed af\n",
      "nice pl\n"
     ]
    },
    {
     "name": "stderr",
     "output_type": "stream",
     "text": [
      " 45%|████▌     | 4932/10926 [01:38<01:59, 50.35it/s]"
     ]
    },
    {
     "name": "stdout",
     "output_type": "stream",
     "text": [
      "ouuuuuuu hate fi\n",
      "hi age sw\n"
     ]
    },
    {
     "name": "stderr",
     "output_type": "stream",
     "text": [
      " 45%|████▌     | 4949/10926 [01:38<01:41, 59.01it/s]"
     ]
    },
    {
     "name": "stdout",
     "output_type": "stream",
     "text": [
      "done it\n",
      "great work mjodr af\n"
     ]
    },
    {
     "name": "stderr",
     "output_type": "stream",
     "text": [
      " 45%|████▌     | 4963/10926 [01:38<01:48, 55.12it/s]"
     ]
    },
    {
     "name": "stdout",
     "output_type": "stream",
     "text": [
      "hard american get sa nl\n",
      "never visa left continental usa it\n",
      "owner bar dont even look bartender place bar nl\n",
      "subtle message et\n",
      "click enlarge save desktop use cb punet cbr punet can not punet made day ago using craig list europe"
     ]
    },
    {
     "name": "stderr",
     "output_type": "stream",
     "text": [
      " 46%|████▌     | 4982/10926 [01:38<01:49, 54.40it/s]"
     ]
    },
    {
     "name": "stdout",
     "output_type": "stream",
     "text": [
      " fr\n",
      "glad planning getting sv\n",
      "people must eat stupid pill like candy et\n",
      "arkan usa id\n",
      "great"
     ]
    },
    {
     "name": "stderr",
     "output_type": "stream",
     "text": [
      " 46%|████▌     | 4994/10926 [01:39<02:04, 47.77it/s]"
     ]
    },
    {
     "name": "stdout",
     "output_type": "stream",
     "text": [
      " ro\n",
      "judge moore spoke constitution party event st louis drew people en\n",
      "suggestion distribution collection fr\n",
      "zip one big file share gnotella new movie it\n"
     ]
    },
    {
     "name": "stderr",
     "output_type": "stream",
     "text": [
      " 46%|████▌     | 5022/10926 [01:39<01:50, 53.28it/s]"
     ]
    },
    {
     "name": "stdout",
     "output_type": "stream",
     "text": [
      "quick fr\n",
      "pop quiz pt\n",
      "ready go cy\n",
      "hate term black reference niggardly kind da\n"
     ]
    },
    {
     "name": "stderr",
     "output_type": "stream",
     "text": [
      " 46%|████▌     | 5035/10926 [01:40<02:17, 42.72it/s]"
     ]
    },
    {
     "name": "stdout",
     "output_type": "stream",
     "text": [
      "arenot u tired ur propaganda sv\n",
      "mr cy\n",
      "different manipulating jew id\n",
      "lying tl\n"
     ]
    },
    {
     "name": "stderr",
     "output_type": "stream",
     "text": [
      " 46%|████▌     | 5051/10926 [01:40<01:51, 52.59it/s]"
     ]
    },
    {
     "name": "stdout",
     "output_type": "stream",
     "text": [
      "flint violent no\n"
     ]
    },
    {
     "name": "stderr",
     "output_type": "stream",
     "text": [
      " 46%|████▋     | 5067/10926 [01:40<01:43, 56.80it/s]"
     ]
    },
    {
     "name": "stdout",
     "output_type": "stream",
     "text": [
      "gee son obama matter sv\n",
      "see af\n",
      "unless conscience fr\n"
     ]
    },
    {
     "name": "stderr",
     "output_type": "stream",
     "text": [
      " 47%|████▋     | 5090/10926 [01:40<01:33, 62.20it/s]"
     ]
    },
    {
     "name": "stdout",
     "output_type": "stream",
     "text": [
      "youtube sa survival secret pt youtube sa survival secret pt youtube sa survival secret pt youtube sa survival secret pt youtube sa survival secret pt youtube sa survival secret pt fr\n",
      "greeting af\n",
      "next week thanksgiving af\n"
     ]
    },
    {
     "name": "stderr",
     "output_type": "stream",
     "text": [
      "\r",
      " 47%|████▋     | 5097/10926 [01:41<01:42, 56.69it/s]"
     ]
    },
    {
     "name": "stdout",
     "output_type": "stream",
     "text": [
      "still seeing pumpkin et\n",
      "scum traitor ro\n",
      "said like et\n",
      "great job guy"
     ]
    },
    {
     "name": "stderr",
     "output_type": "stream",
     "text": [
      " 47%|████▋     | 5110/10926 [01:41<02:00, 48.39it/s]"
     ]
    },
    {
     "name": "stdout",
     "output_type": "stream",
     "text": [
      " no\n",
      "hope help nl\n",
      "yep junk fi\n"
     ]
    },
    {
     "name": "stderr",
     "output_type": "stream",
     "text": [
      " 47%|████▋     | 5123/10926 [01:41<02:27, 39.37it/s]"
     ]
    },
    {
     "name": "stdout",
     "output_type": "stream",
     "text": [
      "post sl\n",
      "wonder one guy jew nl\n",
      "graduate school seems like good place meet marry man intelligent obviously nl\n",
      "german men sound sexy sv\n"
     ]
    },
    {
     "name": "stderr",
     "output_type": "stream",
     "text": [
      " 47%|████▋     | 5138/10926 [01:42<02:49, 34.11it/s]"
     ]
    },
    {
     "name": "stdout",
     "output_type": "stream",
     "text": [
      "oh song sv\n",
      "hook nose af\n",
      "enemy germany inside border time da\n",
      "well welcome move ever nl\n",
      "picture truly beautiful ro\n",
      "speak soul race cs\n"
     ]
    },
    {
     "name": "stderr",
     "output_type": "stream",
     "text": [
      " 47%|████▋     | 5147/10926 [01:42<03:19, 28.96it/s]"
     ]
    },
    {
     "name": "stdout",
     "output_type": "stream",
     "text": [
      "youtube ukraine lt\n",
      "would nice en\n",
      "didnot get government memo nl\n",
      "even black pakistani somehow diverse sv\n"
     ]
    },
    {
     "name": "stderr",
     "output_type": "stream",
     "text": [
      " 47%|████▋     | 5161/10926 [01:42<02:29, 38.50it/s]"
     ]
    },
    {
     "name": "stdout",
     "output_type": "stream",
     "text": [
      "suggesting appreciate it\n",
      "mam dad side irish so\n",
      "kid get candy good bowl cy\n",
      "even mention jest nl\n"
     ]
    },
    {
     "name": "stderr",
     "output_type": "stream",
     "text": [
      " 47%|████▋     | 5172/10926 [01:43<02:27, 39.02it/s]"
     ]
    },
    {
     "name": "stdout",
     "output_type": "stream",
     "text": [
      "form letter send german government behalf ernst zundel da\n",
      "help keep case alive nl\n",
      "would want die go heaven germany af\n",
      "like made good money et\n"
     ]
    },
    {
     "name": "stderr",
     "output_type": "stream",
     "text": [
      " 48%|████▊     | 5198/10926 [01:43<01:51, 51.39it/s]"
     ]
    },
    {
     "name": "stdout",
     "output_type": "stream",
     "text": [
      "made sweet potato pie it\n",
      "awesome af\n",
      "please keep u updated result get et\n",
      "download pdf free en\n"
     ]
    },
    {
     "name": "stderr",
     "output_type": "stream",
     "text": [
      " 48%|████▊     | 5209/10926 [01:43<02:14, 42.61it/s]"
     ]
    },
    {
     "name": "stdout",
     "output_type": "stream",
     "text": [
      "fmj full metal jacket bullet sv\n",
      "day age possible fr\n",
      "german japanese italianos id\n",
      "peeper getting old no\n"
     ]
    },
    {
     "name": "stderr",
     "output_type": "stream",
     "text": [
      " 48%|████▊     | 5219/10926 [01:44<02:26, 38.94it/s]"
     ]
    },
    {
     "name": "stdout",
     "output_type": "stream",
     "text": [
      "hard find video version song youtube delete da\n",
      "let try no\n",
      "kettledrummer elo sambo prussian life guard hussar no\n",
      "suggestion da\n"
     ]
    },
    {
     "name": "stderr",
     "output_type": "stream",
     "text": [
      " 48%|████▊     | 5228/10926 [01:44<03:06, 30.63it/s]"
     ]
    },
    {
     "name": "stdout",
     "output_type": "stream",
     "text": [
      "video demonstrating handle front tire da\n",
      "slam brake hr\n",
      "youtube id\n",
      "meat potato bread rice en\n"
     ]
    },
    {
     "name": "stderr",
     "output_type": "stream",
     "text": [
      " 48%|████▊     | 5239/10926 [01:44<02:33, 37.14it/s]"
     ]
    },
    {
     "name": "stdout",
     "output_type": "stream",
     "text": [
      "part expensive exclusive fr\n",
      "ammo expensive pt\n",
      "list go fr\n",
      "also get rig pretty darn cheap day en\n",
      "wont last jump nl\n"
     ]
    },
    {
     "name": "stderr",
     "output_type": "stream",
     "text": [
      " 48%|████▊     | 5257/10926 [01:45<02:26, 38.62it/s]"
     ]
    },
    {
     "name": "stdout",
     "output_type": "stream",
     "text": [
      "opinion lt\n",
      "would love ancient greek pagan name en\n",
      "good time get af\n"
     ]
    },
    {
     "name": "stderr",
     "output_type": "stream",
     "text": [
      "\r",
      " 48%|████▊     | 5262/10926 [01:45<02:47, 33.73it/s]"
     ]
    },
    {
     "name": "stdout",
     "output_type": "stream",
     "text": [
      "get armor da\n",
      "get armor every member family da\n",
      "get ballistic helmet nl\n"
     ]
    },
    {
     "name": "stderr",
     "output_type": "stream",
     "text": [
      "\r",
      " 48%|████▊     | 5266/10926 [01:45<03:38, 25.85it/s]"
     ]
    },
    {
     "name": "stdout",
     "output_type": "stream",
     "text": [
      "get gas mask lv\n",
      "get armor kid da\n",
      "get armor dog da\n",
      "buy regret bill like ever pass no\n"
     ]
    },
    {
     "name": "stderr",
     "output_type": "stream",
     "text": [
      " 48%|████▊     | 5284/10926 [01:46<02:46, 33.82it/s]"
     ]
    },
    {
     "name": "stdout",
     "output_type": "stream",
     "text": [
      "border fence border fence da\n",
      "good crow duck squirell rabbit etecerta fr\n",
      "living well best revenge"
     ]
    },
    {
     "name": "stderr",
     "output_type": "stream",
     "text": [
      " 48%|████▊     | 5294/10926 [01:46<02:36, 36.07it/s]"
     ]
    },
    {
     "name": "stdout",
     "output_type": "stream",
     "text": [
      " nl\n",
      "yet black get friend jump da\n",
      "youtube david irving part"
     ]
    },
    {
     "name": "stderr",
     "output_type": "stream",
     "text": [
      " 49%|████▊     | 5311/10926 [01:46<02:14, 41.61it/s]"
     ]
    },
    {
     "name": "stdout",
     "output_type": "stream",
     "text": [
      " en\n",
      "practice use lr learn ro\n",
      "purchase rifle pistol en\n",
      "wp pl\n"
     ]
    },
    {
     "name": "stderr",
     "output_type": "stream",
     "text": [
      " 49%|████▉     | 5335/10926 [01:47<02:11, 42.65it/s]"
     ]
    },
    {
     "name": "stdout",
     "output_type": "stream",
     "text": [
      "never lesson fr\n",
      "funny cy\n",
      "dragonball z hairstyle rage amongst yr old boy cy\n",
      "concerned japanese culture insinuating american culture ro\n",
      "doubt ask clerk no\n"
     ]
    },
    {
     "name": "stderr",
     "output_type": "stream",
     "text": [
      " 49%|████▉     | 5354/10926 [01:47<02:15, 41.04it/s]"
     ]
    },
    {
     "name": "stdout",
     "output_type": "stream",
     "text": [
      "year going dog two friend going ghost mail man en\n",
      "vox romantic it\n",
      "like many sw\n",
      "greatest movement romantic join fr\n",
      "hello rome it\n"
     ]
    },
    {
     "name": "stderr",
     "output_type": "stream",
     "text": [
      " 49%|████▉     | 5365/10926 [01:47<02:04, 44.57it/s]"
     ]
    },
    {
     "name": "stdout",
     "output_type": "stream",
     "text": [
      "post back cs\n",
      "go defending jew nl\n",
      "ok get dont like talk bad jew btw said kapo af\n"
     ]
    },
    {
     "name": "stderr",
     "output_type": "stream",
     "text": [
      " 49%|████▉     | 5380/10926 [01:48<02:13, 41.51it/s]"
     ]
    },
    {
     "name": "stdout",
     "output_type": "stream",
     "text": [
      "much doubt anybody else ask hardly anybody else go like cs\n",
      "treatment ethnic german east west german surrender real genocide one want talk en\n",
      "hope go well cy\n",
      "good so\n"
     ]
    },
    {
     "name": "stderr",
     "output_type": "stream",
     "text": [
      " 49%|████▉     | 5407/10926 [01:48<01:47, 51.26it/s]"
     ]
    },
    {
     "name": "stdout",
     "output_type": "stream",
     "text": [
      "ah old day so\n",
      "sure result discrimination it\n",
      "type museum zoo need museum animal nature et\n"
     ]
    },
    {
     "name": "stderr",
     "output_type": "stream",
     "text": [
      " 50%|████▉     | 5437/10926 [01:49<01:29, 61.60it/s]"
     ]
    },
    {
     "name": "stdout",
     "output_type": "stream",
     "text": [
      "good find cy\n",
      "black strong sv\n",
      "also left comment need wait see get approved nl\n"
     ]
    },
    {
     "name": "stderr",
     "output_type": "stream",
     "text": [
      "\r",
      " 50%|████▉     | 5444/10926 [01:49<01:38, 55.67it/s]"
     ]
    },
    {
     "name": "stdout",
     "output_type": "stream",
     "text": [
      "comment quite favorable fiercely favorable fr\n",
      "negative it\n",
      "honest long overdue no\n",
      "like see iran wipe israel map af\n"
     ]
    },
    {
     "name": "stderr",
     "output_type": "stream",
     "text": [
      " 50%|████▉     | 5458/10926 [01:49<01:57, 46.47it/s]"
     ]
    },
    {
     "name": "stdout",
     "output_type": "stream",
     "text": [
      "would gook want look white af\n",
      "proud race admire u want proud fr\n",
      "kimora lee simmons fi\n",
      "visit used book store riverside af\n",
      "check stack pl\n"
     ]
    },
    {
     "name": "stderr",
     "output_type": "stream",
     "text": [
      " 50%|█████     | 5469/10926 [01:49<02:14, 40.60it/s]"
     ]
    },
    {
     "name": "stdout",
     "output_type": "stream",
     "text": [
      "also national alliance local area contact riverside can not it\n",
      "college claremont calif it\n",
      "college va it\n",
      "hillsdale college hillsdale mich it\n"
     ]
    },
    {
     "name": "stderr",
     "output_type": "stream",
     "text": [
      " 50%|█████     | 5501/10926 [01:50<01:45, 51.25it/s]"
     ]
    },
    {
     "name": "stdout",
     "output_type": "stream",
     "text": [
      "thomas aquinas college santa paula calif es\n",
      "congratulation decision it\n",
      "good good friend cy\n"
     ]
    },
    {
     "name": "stderr",
     "output_type": "stream",
     "text": [
      " 51%|█████     | 5526/10926 [01:50<01:30, 59.57it/s]"
     ]
    },
    {
     "name": "stdout",
     "output_type": "stream",
     "text": [
      "well skin san diego however glad see back af\n",
      "peter great no\n",
      "enjoy classical music ca\n",
      "peter great no\n"
     ]
    },
    {
     "name": "stderr",
     "output_type": "stream",
     "text": [
      "\r",
      " 51%|█████     | 5533/10926 [01:51<01:31, 58.74it/s]"
     ]
    },
    {
     "name": "stdout",
     "output_type": "stream",
     "text": [
      "ya hey der so\n",
      "seen initial fi\n"
     ]
    },
    {
     "name": "stderr",
     "output_type": "stream",
     "text": [
      " 51%|█████     | 5546/10926 [01:51<02:01, 44.36it/s]"
     ]
    },
    {
     "name": "stdout",
     "output_type": "stream",
     "text": [
      "so sv\n",
      "jesus even said face son satan fr\n",
      "yes tr\n",
      "seen price beef nl\n",
      "nice day pl\n",
      "zdrowie pl\n"
     ]
    },
    {
     "name": "stderr",
     "output_type": "stream",
     "text": [
      " 51%|█████     | 5562/10926 [01:51<01:40, 53.33it/s]"
     ]
    },
    {
     "name": "stdout",
     "output_type": "stream",
     "text": [
      "booklet updated dec nl\n",
      "downloads pl\n",
      "becs let napj vide nagyon tuti mindig amikor n zek felv teleket vagy ismer seim bar taim me lik hihetetlen sajn lom h tan v pont gy esik h nem tudok ott lenni hu\n",
      "u dollar please"
     ]
    },
    {
     "name": "stderr",
     "output_type": "stream",
     "text": [
      " 51%|█████     | 5578/10926 [01:51<01:30, 59.13it/s]"
     ]
    },
    {
     "name": "stdout",
     "output_type": "stream",
     "text": [
      " es\n",
      "got wrong cy\n",
      "yeah de moines fr\n",
      "one fi\n"
     ]
    },
    {
     "name": "stderr",
     "output_type": "stream",
     "text": [
      "\r",
      " 51%|█████     | 5587/10926 [01:52<01:41, 52.80it/s]"
     ]
    },
    {
     "name": "stdout",
     "output_type": "stream",
     "text": [
      "let ask stop federal reserve grab book long no\n",
      "wow hope negro race pl\n"
     ]
    },
    {
     "name": "stderr",
     "output_type": "stream",
     "text": [
      " 51%|█████     | 5598/10926 [01:52<02:11, 40.52it/s]"
     ]
    },
    {
     "name": "stdout",
     "output_type": "stream",
     "text": [
      "hope god blesses da\n",
      "patrioticmama it\n"
     ]
    },
    {
     "name": "stderr",
     "output_type": "stream",
     "text": [
      " 51%|█████▏    | 5608/10926 [01:52<02:28, 35.89it/s]"
     ]
    },
    {
     "name": "stdout",
     "output_type": "stream",
     "text": [
      "protesting funeral no\n",
      "saying south africa die kop dom moet die lyf sukkel af\n",
      "feel sorry little sister maybe saved becoming wigger look older sister example da\n",
      "seems like jewtube hour af\n",
      "update message cst"
     ]
    },
    {
     "name": "stderr",
     "output_type": "stream",
     "text": [
      " 51%|█████▏    | 5619/10926 [01:53<02:25, 36.56it/s]"
     ]
    },
    {
     "name": "stdout",
     "output_type": "stream",
     "text": [
      " fr\n",
      "japan reactor rod melt ro\n",
      "japan reactor rod melt ro\n"
     ]
    },
    {
     "name": "stderr",
     "output_type": "stream",
     "text": [
      " 52%|█████▏    | 5631/10926 [01:53<02:04, 42.46it/s]"
     ]
    },
    {
     "name": "stdout",
     "output_type": "stream",
     "text": [
      "idea accurate description could happen fr\n",
      "know say tl\n",
      "probably cs\n"
     ]
    },
    {
     "name": "stderr",
     "output_type": "stream",
     "text": [
      " 52%|█████▏    | 5643/10926 [01:53<02:04, 42.54it/s]"
     ]
    },
    {
     "name": "stdout",
     "output_type": "stream",
     "text": [
      "yawn sw\n",
      "doesnt even look right af\n",
      "get used looking like looked obviously fake af\n"
     ]
    },
    {
     "name": "stderr",
     "output_type": "stream",
     "text": [
      " 52%|█████▏    | 5656/10926 [01:53<02:02, 42.88it/s]"
     ]
    },
    {
     "name": "stdout",
     "output_type": "stream",
     "text": [
      "came nonsense posting part it\n",
      "see symbol ware af\n",
      "added treblinka carlo mattogno extermination camp transit camp it\n"
     ]
    },
    {
     "name": "stderr",
     "output_type": "stream",
     "text": [
      " 52%|█████▏    | 5677/10926 [01:54<01:43, 50.52it/s]"
     ]
    },
    {
     "name": "stdout",
     "output_type": "stream",
     "text": [
      "mitt fi\n",
      "pure ro\n",
      "school system broken nl\n"
     ]
    },
    {
     "name": "stderr",
     "output_type": "stream",
     "text": [
      "\r",
      " 52%|█████▏    | 5683/10926 [01:54<02:02, 42.72it/s]"
     ]
    },
    {
     "name": "stdout",
     "output_type": "stream",
     "text": [
      "youtube detroit gang battle funeral no\n",
      "never date outside race someone site post fr\n",
      "noble effort no\n"
     ]
    },
    {
     "name": "stderr",
     "output_type": "stream",
     "text": [
      " 52%|█████▏    | 5707/10926 [01:55<02:28, 35.19it/s]"
     ]
    },
    {
     "name": "stdout",
     "output_type": "stream",
     "text": [
      "wonder gobi nl\n",
      "two element comment quite baffling fr\n",
      "advocate n simultaneously declare core defining principle blasphemy ro\n"
     ]
    },
    {
     "name": "stderr",
     "output_type": "stream",
     "text": [
      " 52%|█████▏    | 5722/10926 [01:55<02:14, 38.75it/s]"
     ]
    },
    {
     "name": "stdout",
     "output_type": "stream",
     "text": [
      "gon na see hell like af\n",
      "nra may longer exist tl\n",
      "ukraine need rid jewish oligarch en\n",
      "youtube kolovrat kosovski front lrm sl\n"
     ]
    },
    {
     "name": "stderr",
     "output_type": "stream",
     "text": [
      " 53%|█████▎    | 5741/10926 [01:55<01:49, 47.21it/s]"
     ]
    },
    {
     "name": "stdout",
     "output_type": "stream",
     "text": [
      "pallada photo san francisco bay es\n",
      "untrue ro\n",
      "sign time da\n",
      "ukrainian lt\n",
      "alba so\n"
     ]
    },
    {
     "name": "stderr",
     "output_type": "stream",
     "text": [
      " 53%|█████▎    | 5755/10926 [01:56<01:37, 52.80it/s]"
     ]
    },
    {
     "name": "stdout",
     "output_type": "stream",
     "text": [
      "good idea release video et\n",
      "refusing register sex offender molesting year old girl da\n",
      "get dog track say da\n"
     ]
    },
    {
     "name": "stderr",
     "output_type": "stream",
     "text": [
      " 53%|█████▎    | 5772/10926 [01:56<01:51, 46.22it/s]"
     ]
    },
    {
     "name": "stdout",
     "output_type": "stream",
     "text": [
      "croat fortunate reliable ally en\n",
      "barbarian id\n",
      "leaf surprise fr\n",
      "kill fast would kill enemy da\n"
     ]
    },
    {
     "name": "stderr",
     "output_type": "stream",
     "text": [
      " 53%|█████▎    | 5787/10926 [01:56<01:31, 56.43it/s]"
     ]
    },
    {
     "name": "stdout",
     "output_type": "stream",
     "text": [
      "braun lv\n",
      "style posting unique unappreciated fr\n",
      "young man tl\n",
      "tch tch tch vi\n"
     ]
    },
    {
     "name": "stderr",
     "output_type": "stream",
     "text": [
      " 53%|█████▎    | 5800/10926 [01:56<01:42, 49.87it/s]"
     ]
    },
    {
     "name": "stdout",
     "output_type": "stream",
     "text": [
      "wolf pl\n",
      "hups sw\n"
     ]
    },
    {
     "name": "stderr",
     "output_type": "stream",
     "text": [
      " 53%|█████▎    | 5822/10926 [01:57<01:24, 60.32it/s]"
     ]
    },
    {
     "name": "stdout",
     "output_type": "stream",
     "text": [
      "mean muddy bay cy\n",
      "sure fr\n",
      "sick de\n"
     ]
    },
    {
     "name": "stderr",
     "output_type": "stream",
     "text": [
      " 53%|█████▎    | 5835/10926 [01:57<01:35, 53.44it/s]"
     ]
    },
    {
     "name": "stdout",
     "output_type": "stream",
     "text": [
      "wonder let keep extra euro say unwaged nl\n",
      "correct es\n",
      "meh id\n"
     ]
    },
    {
     "name": "stderr",
     "output_type": "stream",
     "text": [
      " 54%|█████▎    | 5855/10926 [01:57<01:39, 50.86it/s]"
     ]
    },
    {
     "name": "stdout",
     "output_type": "stream",
     "text": [
      "mr correct es\n",
      "enjoy sq\n",
      "would like hear af\n",
      "damn fine job sure fr\n",
      "israel arrest bet lentin co student looking see scum jew nl\n"
     ]
    },
    {
     "name": "stderr",
     "output_type": "stream",
     "text": [
      " 54%|█████▍    | 5879/10926 [01:58<01:23, 60.60it/s]"
     ]
    },
    {
     "name": "stdout",
     "output_type": "stream",
     "text": [
      "mean ro\n",
      "agree af\n",
      "anyone go last night tl\n"
     ]
    },
    {
     "name": "stderr",
     "output_type": "stream",
     "text": [
      " 54%|█████▍    | 5897/10926 [01:58<01:14, 67.42it/s]"
     ]
    },
    {
     "name": "stdout",
     "output_type": "stream",
     "text": [
      "looking website sell deliver flag ireland da\n",
      "anyone ireland got flag please say got want en\n",
      "uh oh bad move mr king sl\n",
      "aragorn cy\n"
     ]
    },
    {
     "name": "stderr",
     "output_type": "stream",
     "text": [
      " 54%|█████▍    | 5920/10926 [01:58<01:17, 65.00it/s]"
     ]
    },
    {
     "name": "stdout",
     "output_type": "stream",
     "text": [
      "look like jew good broken car garage laugh saw af\n",
      "anyone back zoo lately hu\n",
      "sad true es\n",
      "double standard fr\n"
     ]
    },
    {
     "name": "stderr",
     "output_type": "stream",
     "text": [
      " 54%|█████▍    | 5934/10926 [01:59<01:35, 52.48it/s]"
     ]
    },
    {
     "name": "stdout",
     "output_type": "stream",
     "text": [
      "even close es\n",
      "stopped looked like wtf af\n",
      "gift keep giving da\n",
      "n government view dangerous people would decide worthy unworthy would make king maker decide nl\n",
      "parent need go home get one nl\n",
      "text table going destroy culture implement communist state"
     ]
    },
    {
     "name": "stderr",
     "output_type": "stream",
     "text": [
      " 54%|█████▍    | 5951/10926 [01:59<01:18, 63.10it/s]"
     ]
    },
    {
     "name": "stdout",
     "output_type": "stream",
     "text": [
      " fr\n",
      "got ta travel light governor en\n"
     ]
    },
    {
     "name": "stderr",
     "output_type": "stream",
     "text": [
      " 55%|█████▍    | 5964/10926 [01:59<01:46, 46.65it/s]"
     ]
    },
    {
     "name": "stdout",
     "output_type": "stream",
     "text": [
      "lurker grandson royal marine green beret stormed normandy served pacific da\n",
      "scumbag swine churchill en\n",
      "roosevelt deserve die thousand death nl\n",
      "saying tl\n",
      "manslaughter nl\n"
     ]
    },
    {
     "name": "stderr",
     "output_type": "stream",
     "text": [
      " 55%|█████▍    | 5976/10926 [02:00<01:55, 42.70it/s]"
     ]
    },
    {
     "name": "stdout",
     "output_type": "stream",
     "text": [
      "mate id\n",
      "cheer nl\n",
      "men saying id\n",
      "multiple gang tl\n",
      "bang tl\n"
     ]
    },
    {
     "name": "stderr",
     "output_type": "stream",
     "text": [
      "\r",
      " 55%|█████▍    | 5985/10926 [02:00<01:40, 49.36it/s]"
     ]
    },
    {
     "name": "stdout",
     "output_type": "stream",
     "text": [
      "hello fi\n",
      "someone kindly tell enter signature no\n"
     ]
    },
    {
     "name": "stderr",
     "output_type": "stream",
     "text": [
      " 55%|█████▍    | 6005/10926 [02:00<02:11, 37.43it/s]"
     ]
    },
    {
     "name": "stdout",
     "output_type": "stream",
     "text": [
      "imagine someone tell fault provoked russian similar idiotic bullcrap it\n",
      "ukrainian sign pact devil get rid putinistan aka russian federation id\n",
      "plan new sf europe en\n",
      "youtube"
     ]
    },
    {
     "name": "stderr",
     "output_type": "stream",
     "text": [
      " 55%|█████▌    | 6019/10926 [02:01<01:46, 45.96it/s]"
     ]
    },
    {
     "name": "stdout",
     "output_type": "stream",
     "text": [
      " id\n",
      "ugh so\n",
      "god willing cy\n",
      "full name saylum tr\n"
     ]
    },
    {
     "name": "stderr",
     "output_type": "stream",
     "text": [
      " 55%|█████▌    | 6032/10926 [02:01<01:47, 45.57it/s]"
     ]
    },
    {
     "name": "stdout",
     "output_type": "stream",
     "text": [
      "dragging blanket around went closet get warm sweater af\n",
      "yeah tr\n",
      "haha doze gangstaas kno sheeeeiit bout pimpin tl\n",
      "got ta surprise else get away af\n"
     ]
    },
    {
     "name": "stderr",
     "output_type": "stream",
     "text": [
      " 55%|█████▌    | 6043/10926 [02:01<02:07, 38.17it/s]"
     ]
    },
    {
     "name": "stdout",
     "output_type": "stream",
     "text": [
      "work af\n",
      "pic taken summer fi\n",
      "eeeeh great summer nl\n",
      "friend mar nice cat ro\n",
      "pawel cy\n",
      "lazy want digg two graf fallen soldier af\n"
     ]
    },
    {
     "name": "stderr",
     "output_type": "stream",
     "text": [
      "\r",
      " 55%|█████▌    | 6048/10926 [02:01<02:34, 31.65it/s]"
     ]
    },
    {
     "name": "stdout",
     "output_type": "stream",
     "text": [
      "brutal war so\n",
      "look like everyone got haircut door except friend af\n",
      "sign like passop danger da\n",
      "badly spelt like everything else holland no\n",
      "comment fr\n"
     ]
    },
    {
     "name": "stderr",
     "output_type": "stream",
     "text": [
      " 56%|█████▌    | 6069/10926 [02:02<01:55, 41.88it/s]"
     ]
    },
    {
     "name": "stdout",
     "output_type": "stream",
     "text": [
      "guess must forgotten engles lack use try espagnol fr\n",
      "later paid byjiffylube car good new cy\n",
      "live stevens point fr\n"
     ]
    },
    {
     "name": "stderr",
     "output_type": "stream",
     "text": [
      " 56%|█████▌    | 6084/10926 [02:02<01:32, 52.28it/s]"
     ]
    },
    {
     "name": "stdout",
     "output_type": "stream",
     "text": [
      "wan na talk im personal message id\n",
      "hey hows live georgia wan na talk like talk maybe ill see powderly ky nordicfest af\n",
      "single live elizabeth nj sq\n"
     ]
    },
    {
     "name": "stderr",
     "output_type": "stream",
     "text": [
      " 56%|█████▌    | 6097/10926 [02:02<01:49, 44.20it/s]"
     ]
    },
    {
     "name": "stdout",
     "output_type": "stream",
     "text": [
      "want meet single girl alberta idea want meet old let know nl\n",
      "tereasa en\n",
      "may god goddess watch cy\n",
      "wonder list hate jew nl\n"
     ]
    },
    {
     "name": "stderr",
     "output_type": "stream",
     "text": [
      " 56%|█████▌    | 6113/10926 [02:03<01:28, 54.36it/s]"
     ]
    },
    {
     "name": "stdout",
     "output_type": "stream",
     "text": [
      "see af\n",
      "la es\n"
     ]
    },
    {
     "name": "stderr",
     "output_type": "stream",
     "text": [
      " 56%|█████▌    | 6126/10926 [02:03<01:59, 40.30it/s]"
     ]
    },
    {
     "name": "stdout",
     "output_type": "stream",
     "text": [
      "eric de\n",
      "event would made great tv en\n",
      "america hate crime law en\n"
     ]
    },
    {
     "name": "stderr",
     "output_type": "stream",
     "text": [
      " 56%|█████▌    | 6137/10926 [02:03<02:02, 39.02it/s]"
     ]
    },
    {
     "name": "stdout",
     "output_type": "stream",
     "text": [
      "sometimes person dye hair black look strange en\n",
      "dark hair dyed hair black looked odd cy\n",
      "ask away redneck pl\n",
      "saw post day ago tl\n",
      "place look job"
     ]
    },
    {
     "name": "stderr",
     "output_type": "stream",
     "text": [
      " 56%|█████▋    | 6155/10926 [02:04<01:48, 43.79it/s]"
     ]
    },
    {
     "name": "stdout",
     "output_type": "stream",
     "text": [
      " sl\n",
      "utah id\n",
      "example local economy employment opportunity en\n",
      "call it\n",
      "fsicqgo agw cy\n"
     ]
    },
    {
     "name": "stderr",
     "output_type": "stream",
     "text": [
      "\r",
      " 56%|█████▋    | 6162/10926 [02:04<01:41, 47.14it/s]"
     ]
    },
    {
     "name": "stdout",
     "output_type": "stream",
     "text": [
      "time sq\n",
      "wonder jackhammer vault foundation nl\n",
      "last one night durn tired format jpeg pdf get flyering da\n"
     ]
    },
    {
     "name": "stderr",
     "output_type": "stream",
     "text": [
      " 56%|█████▋    | 6173/10926 [02:04<02:06, 37.65it/s]"
     ]
    },
    {
     "name": "stdout",
     "output_type": "stream",
     "text": [
      "cf cy\n",
      "give taste medicience it\n",
      "actually u killing killing u fi\n",
      "way say hi so\n"
     ]
    },
    {
     "name": "stderr",
     "output_type": "stream",
     "text": [
      " 57%|█████▋    | 6194/10926 [02:05<01:53, 41.66it/s]"
     ]
    },
    {
     "name": "stdout",
     "output_type": "stream",
     "text": [
      "like pas paper nationalist time looking tl\n",
      "check web site de\n",
      "best paper movement no\n",
      "sound like paradise"
     ]
    },
    {
     "name": "stderr",
     "output_type": "stream",
     "text": [
      " 57%|█████▋    | 6208/10926 [02:05<01:37, 48.18it/s]"
     ]
    },
    {
     "name": "stdout",
     "output_type": "stream",
     "text": [
      " no\n",
      "sad so\n",
      "african anyway cy\n"
     ]
    },
    {
     "name": "stderr",
     "output_type": "stream",
     "text": [
      "\r",
      " 57%|█████▋    | 6215/10926 [02:05<01:29, 52.43it/s]"
     ]
    },
    {
     "name": "stdout",
     "output_type": "stream",
     "text": [
      "understand post depressing en\n",
      "trolling venting no\n",
      "problem black pride"
     ]
    },
    {
     "name": "stderr",
     "output_type": "stream",
     "text": [
      " 57%|█████▋    | 6226/10926 [02:05<02:23, 32.70it/s]"
     ]
    },
    {
     "name": "stdout",
     "output_type": "stream",
     "text": [
      " da\n",
      "even support no\n"
     ]
    },
    {
     "name": "stderr",
     "output_type": "stream",
     "text": [
      " 57%|█████▋    | 6246/10926 [02:06<01:41, 46.07it/s]"
     ]
    },
    {
     "name": "stdout",
     "output_type": "stream",
     "text": [
      "fbi da\n",
      "discus ro\n"
     ]
    },
    {
     "name": "stderr",
     "output_type": "stream",
     "text": [
      "\r",
      " 57%|█████▋    | 6253/10926 [02:06<01:58, 39.58it/s]"
     ]
    },
    {
     "name": "stdout",
     "output_type": "stream",
     "text": [
      "get nl\n",
      "ant tl\n"
     ]
    },
    {
     "name": "stderr",
     "output_type": "stream",
     "text": [
      " 57%|█████▋    | 6264/10926 [02:06<01:58, 39.41it/s]"
     ]
    },
    {
     "name": "stdout",
     "output_type": "stream",
     "text": [
      "ant create civilization monarchy en\n",
      "like wolf fight die af\n",
      "see ripped guy like wonder sexy type woman would go internet warrior nerd like af\n",
      "completely disgusting continue house people complete contempt u law custom en\n",
      "check"
     ]
    },
    {
     "name": "stderr",
     "output_type": "stream",
     "text": [
      " 57%|█████▋    | 6274/10926 [02:07<02:02, 37.91it/s]"
     ]
    },
    {
     "name": "stdout",
     "output_type": "stream",
     "text": [
      " de\n",
      "deadly cy\n",
      "n tl\n",
      "let see say fi\n",
      "moment situation dire it\n",
      "crazy pl\n",
      "keep eye open time fallen powerlines"
     ]
    },
    {
     "name": "stderr",
     "output_type": "stream",
     "text": [
      " 58%|█████▊    | 6291/10926 [02:07<01:36, 47.90it/s]"
     ]
    },
    {
     "name": "stdout",
     "output_type": "stream",
     "text": [
      " nl\n",
      "seen game store nl\n"
     ]
    },
    {
     "name": "stderr",
     "output_type": "stream",
     "text": [
      " 58%|█████▊    | 6304/10926 [02:07<01:34, 48.75it/s]"
     ]
    },
    {
     "name": "stdout",
     "output_type": "stream",
     "text": [
      "well done cy\n",
      "sub compact xdm ro\n",
      "get hand get one fit nl\n",
      "yes kkk canada invited get tr\n",
      "like keep cop af\n"
     ]
    },
    {
     "name": "stderr",
     "output_type": "stream",
     "text": [
      " 58%|█████▊    | 6325/10926 [02:07<01:39, 46.28it/s]"
     ]
    },
    {
     "name": "stdout",
     "output_type": "stream",
     "text": [
      "simple lack judgement caused fr\n",
      "sad so\n",
      "disgusting justin want live af\n",
      "disturbing muslim refugee video ever see buzzpo af\n"
     ]
    },
    {
     "name": "stderr",
     "output_type": "stream",
     "text": [
      " 58%|█████▊    | 6337/10926 [02:08<01:51, 41.17it/s]"
     ]
    },
    {
     "name": "stdout",
     "output_type": "stream",
     "text": [
      "least people u gun defend ro\n",
      "started reading mein kampf en\n",
      "canada big so\n"
     ]
    },
    {
     "name": "stderr",
     "output_type": "stream",
     "text": [
      "\r",
      " 58%|█████▊    | 6342/10926 [02:08<02:04, 36.84it/s]"
     ]
    },
    {
     "name": "stdout",
     "output_type": "stream",
     "text": [
      "still bottle cage bike da\n",
      "put sport drink longer ride keep water camelback en\n"
     ]
    },
    {
     "name": "stderr",
     "output_type": "stream",
     "text": [
      "\r",
      " 58%|█████▊    | 6347/10926 [02:08<02:21, 32.26it/s]"
     ]
    },
    {
     "name": "stdout",
     "output_type": "stream",
     "text": [
      "cindy pl\n",
      "walked right af\n"
     ]
    },
    {
     "name": "stderr",
     "output_type": "stream",
     "text": [
      " 58%|█████▊    | 6358/10926 [02:09<02:37, 28.93it/s]"
     ]
    },
    {
     "name": "stdout",
     "output_type": "stream",
     "text": [
      "going get time da\n",
      "kick piece pl\n",
      "ask friend da\n",
      "plan youtube tl\n",
      "oh better believe da\n",
      "black sv\n"
     ]
    },
    {
     "name": "stderr",
     "output_type": "stream",
     "text": [
      " 58%|█████▊    | 6369/10926 [02:09<02:23, 31.86it/s]"
     ]
    },
    {
     "name": "stdout",
     "output_type": "stream",
     "text": [
      "im gon na see get kobo damn nope af\n",
      "norman conquest es\n",
      "send u email"
     ]
    },
    {
     "name": "stderr",
     "output_type": "stream",
     "text": [
      "\r",
      " 58%|█████▊    | 6374/10926 [02:09<02:08, 35.52it/s]"
     ]
    },
    {
     "name": "stdout",
     "output_type": "stream",
     "text": [
      " fr\n",
      "defend de\n",
      "look good so\n",
      "love audio"
     ]
    },
    {
     "name": "stderr",
     "output_type": "stream",
     "text": [
      " 59%|█████▊    | 6395/10926 [02:09<01:37, 46.29it/s]"
     ]
    },
    {
     "name": "stdout",
     "output_type": "stream",
     "text": [
      " fr\n",
      "evidence es\n"
     ]
    },
    {
     "name": "stderr",
     "output_type": "stream",
     "text": [
      "\r",
      " 59%|█████▊    | 6401/10926 [02:10<02:14, 33.76it/s]"
     ]
    },
    {
     "name": "stdout",
     "output_type": "stream",
     "text": [
      "v clav neck karel dr marta kubi ov dary nesem youtube sl\n",
      "somebody know sk\n",
      "gun show year so\n",
      "young gun show tl\n"
     ]
    },
    {
     "name": "stderr",
     "output_type": "stream",
     "text": [
      " 59%|█████▉    | 6421/10926 [02:10<01:49, 41.06it/s]"
     ]
    },
    {
     "name": "stdout",
     "output_type": "stream",
     "text": [
      "black need black pas gene sv\n",
      "let see find da\n",
      "okay enjoy toast fi\n",
      "yeh yay so\n"
     ]
    },
    {
     "name": "stderr",
     "output_type": "stream",
     "text": [
      " 59%|█████▉    | 6435/10926 [02:10<01:51, 40.37it/s]"
     ]
    },
    {
     "name": "stdout",
     "output_type": "stream",
     "text": [
      "age old start driving truck long haul en\n",
      "special spring snack kes en\n",
      "smell gone matter second it\n",
      "x x so\n",
      "solution walkie talkie take double battery af\n"
     ]
    },
    {
     "name": "stderr",
     "output_type": "stream",
     "text": [
      " 59%|█████▉    | 6471/10926 [02:11<01:14, 59.51it/s]"
     ]
    },
    {
     "name": "stdout",
     "output_type": "stream",
     "text": [
      "looked like inch tall saw et\n",
      "many master desire ca\n"
     ]
    },
    {
     "name": "stderr",
     "output_type": "stream",
     "text": [
      " 59%|█████▉    | 6485/10926 [02:11<01:34, 46.89it/s]"
     ]
    },
    {
     "name": "stdout",
     "output_type": "stream",
     "text": [
      "dare give u evidence crime tape it\n",
      "video like make go hmm sl\n",
      "brass super blackhawk dragoon grip frame sv\n",
      "best cap ball revolver ever made"
     ]
    },
    {
     "name": "stderr",
     "output_type": "stream",
     "text": [
      " 59%|█████▉    | 6496/10926 [02:12<01:47, 41.24it/s]"
     ]
    },
    {
     "name": "stdout",
     "output_type": "stream",
     "text": [
      " no\n",
      "period it\n",
      "rifle cy\n",
      "best round mean grain pyrodex pellet grain fffg cap get job done fr\n",
      "need new stock ramrod nipple en\n"
     ]
    },
    {
     "name": "stderr",
     "output_type": "stream",
     "text": [
      " 60%|█████▉    | 6517/10926 [02:12<01:23, 52.55it/s]"
     ]
    },
    {
     "name": "stdout",
     "output_type": "stream",
     "text": [
      "ruger old army moore harris double da\n",
      "shame so\n",
      "typical negro en\n"
     ]
    },
    {
     "name": "stderr",
     "output_type": "stream",
     "text": [
      " 60%|█████▉    | 6534/10926 [02:12<01:08, 64.00it/s]"
     ]
    },
    {
     "name": "stdout",
     "output_type": "stream",
     "text": [
      "student vote class nl\n",
      "oh fawk cy\n",
      "zoo nl\n"
     ]
    },
    {
     "name": "stderr",
     "output_type": "stream",
     "text": [
      " 60%|█████▉    | 6550/10926 [02:12<01:09, 63.01it/s]"
     ]
    },
    {
     "name": "stdout",
     "output_type": "stream",
     "text": [
      "hard either de\n",
      "spanish language tl\n"
     ]
    },
    {
     "name": "stderr",
     "output_type": "stream",
     "text": [
      " 60%|██████    | 6580/10926 [02:13<01:04, 67.53it/s]"
     ]
    },
    {
     "name": "stdout",
     "output_type": "stream",
     "text": [
      "racist someone love race en\n",
      "little miss little miss muffet sat tuffet eating big mac fry along came spider sat beside yuck said prefer fly en\n",
      "get aid soon die af\n",
      "hi michael sw\n"
     ]
    },
    {
     "name": "stderr",
     "output_type": "stream",
     "text": [
      " 60%|██████    | 6607/10926 [02:13<01:11, 60.52it/s]"
     ]
    },
    {
     "name": "stdout",
     "output_type": "stream",
     "text": [
      "personal message it\n",
      "maybe know so\n",
      "print get comic store get lot coverage population oppinion en\n",
      "im central nj pt\n"
     ]
    },
    {
     "name": "stderr",
     "output_type": "stream",
     "text": [
      " 61%|██████    | 6623/10926 [02:14<01:09, 62.10it/s]"
     ]
    },
    {
     "name": "stdout",
     "output_type": "stream",
     "text": [
      "aim n lv\n",
      "holla cy\n",
      "ebonics ca\n"
     ]
    },
    {
     "name": "stderr",
     "output_type": "stream",
     "text": [
      " 61%|██████    | 6641/10926 [02:14<01:01, 70.10it/s]"
     ]
    },
    {
     "name": "stdout",
     "output_type": "stream",
     "text": [
      "wigger stage da\n",
      "wpww eddie cy\n",
      "couple get fr\n",
      "justin trudeau embarrassment canada youtube"
     ]
    },
    {
     "name": "stderr",
     "output_type": "stream",
     "text": [
      " 61%|██████    | 6656/10926 [02:14<01:25, 50.15it/s]"
     ]
    },
    {
     "name": "stdout",
     "output_type": "stream",
     "text": [
      " ca\n",
      "sheet paper take meant bull sheet poster said en\n",
      "van rensburg nostradamus etc sv\n",
      "handler joe slovo no\n",
      "ai deaf yet"
     ]
    },
    {
     "name": "stderr",
     "output_type": "stream",
     "text": [
      " 61%|██████    | 6669/10926 [02:14<01:24, 50.14it/s]"
     ]
    },
    {
     "name": "stdout",
     "output_type": "stream",
     "text": [
      " cy\n",
      "people still join militia fi\n",
      "militia risky fed sk\n",
      "idiot hasten armageddon get free ride heaven"
     ]
    },
    {
     "name": "stderr",
     "output_type": "stream",
     "text": [
      " 61%|██████    | 6692/10926 [02:15<01:16, 55.50it/s]"
     ]
    },
    {
     "name": "stdout",
     "output_type": "stream",
     "text": [
      " nl\n",
      "kidding af\n",
      "wierd pl\n",
      "v maker video may jewish sure big nose af\n"
     ]
    },
    {
     "name": "stderr",
     "output_type": "stream",
     "text": [
      "\r",
      " 61%|██████▏   | 6698/10926 [02:15<01:54, 36.81it/s]"
     ]
    },
    {
     "name": "stdout",
     "output_type": "stream",
     "text": [
      "enough support mesico support africa en\n",
      "hmm wonder get jump river put ad tv billion gold bottom river sv\n",
      "david duke bruno gollnisch de\n"
     ]
    },
    {
     "name": "stderr",
     "output_type": "stream",
     "text": [
      " 61%|██████▏   | 6712/10926 [02:15<01:42, 41.22it/s]"
     ]
    },
    {
     "name": "stdout",
     "output_type": "stream",
     "text": [
      "poor monkey ever nl\n",
      "heat mean gun case ai wit da slang id\n",
      "amen ca\n",
      "sad so\n"
     ]
    },
    {
     "name": "stderr",
     "output_type": "stream",
     "text": [
      " 62%|██████▏   | 6724/10926 [02:16<01:40, 41.70it/s]"
     ]
    },
    {
     "name": "stdout",
     "output_type": "stream",
     "text": [
      "folk nigeria acting like one big ghetto queen squeezing baby negro bigger handout government no\n",
      "good lion cy\n",
      "took test af\n",
      "scored it\n"
     ]
    },
    {
     "name": "stderr",
     "output_type": "stream",
     "text": [
      " 62%|██████▏   | 6749/10926 [02:16<01:28, 47.07it/s]"
     ]
    },
    {
     "name": "stdout",
     "output_type": "stream",
     "text": [
      "like public board sl\n",
      "matter time hit europe fr\n",
      "eu apology racist ad youtube fr\n",
      "favourite dr pierce fr\n"
     ]
    },
    {
     "name": "stderr",
     "output_type": "stream",
     "text": [
      " 62%|██████▏   | 6769/10926 [02:17<01:15, 54.97it/s]"
     ]
    },
    {
     "name": "stdout",
     "output_type": "stream",
     "text": [
      "amen ca\n",
      "tamir hamilton sadistic rapist murder et\n"
     ]
    },
    {
     "name": "stderr",
     "output_type": "stream",
     "text": [
      " 62%|██████▏   | 6781/10926 [02:17<01:14, 55.31it/s]"
     ]
    },
    {
     "name": "stdout",
     "output_type": "stream",
     "text": [
      "get site click dark crime it\n",
      "cause rage fr\n",
      "source fr\n",
      "making history none tl\n",
      "mate britain"
     ]
    },
    {
     "name": "stderr",
     "output_type": "stream",
     "text": [
      " 62%|██████▏   | 6796/10926 [02:17<01:06, 62.42it/s]"
     ]
    },
    {
     "name": "stdout",
     "output_type": "stream",
     "text": [
      " ro\n",
      "yea tr\n"
     ]
    },
    {
     "name": "stderr",
     "output_type": "stream",
     "text": [
      " 62%|██████▏   | 6809/10926 [02:17<01:20, 51.22it/s]"
     ]
    },
    {
     "name": "stdout",
     "output_type": "stream",
     "text": [
      "sound like smart idea no\n",
      "dull sometimes it\n",
      "freehold da\n",
      "listen radio fi\n",
      "hz sw\n"
     ]
    },
    {
     "name": "stderr",
     "output_type": "stream",
     "text": [
      " 63%|██████▎   | 6831/10926 [02:18<01:20, 51.02it/s]"
     ]
    },
    {
     "name": "stdout",
     "output_type": "stream",
     "text": [
      "blog page tl\n",
      "v sk\n",
      "already tell friend da\n"
     ]
    },
    {
     "name": "stderr",
     "output_type": "stream",
     "text": [
      " 63%|██████▎   | 6845/10926 [02:18<01:18, 52.28it/s]"
     ]
    },
    {
     "name": "stdout",
     "output_type": "stream",
     "text": [
      "true friend serb people da\n",
      "mod refused cy\n",
      "och nu har jag ocksa forlorad min svensk medborgarskap och far inte har en nya passport sv\n",
      "always campaign multikulti propaganda tl\n",
      "know owner en\n"
     ]
    },
    {
     "name": "stderr",
     "output_type": "stream",
     "text": [
      " 63%|██████▎   | 6857/10926 [02:18<01:39, 41.01it/s]"
     ]
    },
    {
     "name": "stdout",
     "output_type": "stream",
     "text": [
      "ztv owner tv sk\n",
      "also swede least get mtv eurosport nl\n",
      "sum situation sweden complete disaster it\n",
      "even happened nl\n",
      "kokkepige stuepige barnepige tjenestepige tienestefolk huus jomfure no\n"
     ]
    },
    {
     "name": "stderr",
     "output_type": "stream",
     "text": [
      " 63%|██████▎   | 6877/10926 [02:19<01:26, 46.74it/s]"
     ]
    },
    {
     "name": "stdout",
     "output_type": "stream",
     "text": [
      "politifuldm ro\n",
      "lodger da\n",
      "also student underholdes af faderen student da\n",
      "beautiful glad went well cy\n"
     ]
    },
    {
     "name": "stderr",
     "output_type": "stream",
     "text": [
      " 63%|██████▎   | 6889/10926 [02:19<01:23, 48.23it/s]"
     ]
    },
    {
     "name": "stdout",
     "output_type": "stream",
     "text": [
      "see hook nose af\n",
      "see dark hair id\n",
      "verdil se snakk af\n",
      "greit du er forn yd med din nasjonalitet det er ikke det er snakk om slapp av kamerat no\n",
      "men det ser ut som om du er litt usikker deg selv n r du fr gar om nesen din no\n",
      "seems little uncertain ask question nose fr\n",
      "wolf pl\n",
      "arrest"
     ]
    },
    {
     "name": "stderr",
     "output_type": "stream",
     "text": [
      "\r",
      " 63%|██████▎   | 6895/10926 [02:19<01:32, 43.74it/s]"
     ]
    },
    {
     "name": "stdout",
     "output_type": "stream",
     "text": [
      " ca\n",
      "id cy\n",
      "continue it\n"
     ]
    },
    {
     "name": "stderr",
     "output_type": "stream",
     "text": [
      " 63%|██████▎   | 6908/10926 [02:20<01:45, 38.10it/s]"
     ]
    },
    {
     "name": "stdout",
     "output_type": "stream",
     "text": [
      "click video look happening sweden nl\n",
      "tall lassigie it\n",
      "trying kill tl\n",
      "odd cy\n"
     ]
    },
    {
     "name": "stderr",
     "output_type": "stream",
     "text": [
      "\r",
      " 63%|██████▎   | 6919/10926 [02:20<01:46, 37.66it/s]"
     ]
    },
    {
     "name": "stdout",
     "output_type": "stream",
     "text": [
      "forget ira da\n"
     ]
    },
    {
     "name": "stderr",
     "output_type": "stream",
     "text": [
      " 63%|██████▎   | 6935/10926 [02:20<02:13, 29.91it/s]"
     ]
    },
    {
     "name": "stdout",
     "output_type": "stream",
     "text": [
      "brit everyone else da\n",
      "moral sl\n"
     ]
    },
    {
     "name": "stderr",
     "output_type": "stream",
     "text": [
      " 64%|██████▎   | 6947/10926 [02:21<02:00, 32.90it/s]"
     ]
    },
    {
     "name": "stdout",
     "output_type": "stream",
     "text": [
      "see gardai grab deport none entitled fr\n",
      "full version lightning sun no\n",
      "way so\n",
      "onward cy\n"
     ]
    },
    {
     "name": "stderr",
     "output_type": "stream",
     "text": [
      " 64%|██████▍   | 6968/10926 [02:21<01:24, 46.81it/s]"
     ]
    },
    {
     "name": "stdout",
     "output_type": "stream",
     "text": [
      "hope hard feeling nl\n",
      "yea tr\n",
      "quick fr\n",
      "like always said say till dying day beyond tl\n",
      "b tr\n",
      "ever spent time outside vancouver area fr\n"
     ]
    },
    {
     "name": "stderr",
     "output_type": "stream",
     "text": [
      " 64%|██████▍   | 6983/10926 [02:21<01:23, 47.11it/s]"
     ]
    },
    {
     "name": "stdout",
     "output_type": "stream",
     "text": [
      "internet de\n"
     ]
    },
    {
     "name": "stderr",
     "output_type": "stream",
     "text": [
      " 64%|██████▍   | 7007/10926 [02:22<01:03, 61.98it/s]"
     ]
    },
    {
     "name": "stdout",
     "output_type": "stream",
     "text": [
      "im also young probably young tl\n",
      "glad hanging tl\n",
      "macc lad got gordons youtube ca\n",
      "asking af\n",
      "like suggested get get amongst folk good da\n"
     ]
    },
    {
     "name": "stderr",
     "output_type": "stream",
     "text": [
      " 64%|██████▍   | 7041/10926 [02:22<01:09, 56.24it/s]"
     ]
    },
    {
     "name": "stdout",
     "output_type": "stream",
     "text": [
      "saying tl\n",
      "dog pt\n",
      "kinda place tr\n"
     ]
    },
    {
     "name": "stderr",
     "output_type": "stream",
     "text": [
      " 65%|██████▍   | 7055/10926 [02:23<01:06, 58.16it/s]"
     ]
    },
    {
     "name": "stdout",
     "output_type": "stream",
     "text": [
      "oberschlesien al die deutschen weg waren youtube de\n",
      "kapela osp radawie pl\n"
     ]
    },
    {
     "name": "stderr",
     "output_type": "stream",
     "text": [
      " 65%|██████▍   | 7068/10926 [02:23<01:23, 45.94it/s]"
     ]
    },
    {
     "name": "stdout",
     "output_type": "stream",
     "text": [
      "arrestants personal friend mean lot u ca\n",
      "funny language similar tl\n",
      "boleslav brave sk\n",
      "google translate work kinda af\n"
     ]
    },
    {
     "name": "stderr",
     "output_type": "stream",
     "text": [
      "\r",
      " 65%|██████▍   | 7074/10926 [02:23<01:33, 41.26it/s]"
     ]
    },
    {
     "name": "stdout",
     "output_type": "stream",
     "text": [
      "see getting belted robbed sofia da\n",
      "gentleman remember post english deleted en\n"
     ]
    },
    {
     "name": "stderr",
     "output_type": "stream",
     "text": [
      " 65%|██████▍   | 7085/10926 [02:24<01:50, 34.79it/s]"
     ]
    },
    {
     "name": "stdout",
     "output_type": "stream",
     "text": [
      "understood sf bulgaria da\n",
      "certainly enigma en\n"
     ]
    },
    {
     "name": "stderr",
     "output_type": "stream",
     "text": [
      " 65%|██████▍   | 7097/10926 [02:24<01:43, 37.11it/s]"
     ]
    },
    {
     "name": "stdout",
     "output_type": "stream",
     "text": [
      "bg mk bg mk error see like average answares le change no\n",
      "damn fine son sv\n"
     ]
    },
    {
     "name": "stderr",
     "output_type": "stream",
     "text": [
      "\r",
      " 65%|██████▌   | 7109/10926 [02:24<01:24, 45.43it/s]"
     ]
    },
    {
     "name": "stdout",
     "output_type": "stream",
     "text": [
      "rule britannia love ro\n",
      "hello fi\n"
     ]
    },
    {
     "name": "stderr",
     "output_type": "stream",
     "text": [
      " 65%|██████▌   | 7123/10926 [02:24<01:27, 43.50it/s]"
     ]
    },
    {
     "name": "stdout",
     "output_type": "stream",
     "text": [
      "talk fi\n",
      "edmonton it\n",
      "gott mit un de\n"
     ]
    },
    {
     "name": "stderr",
     "output_type": "stream",
     "text": [
      " 65%|██████▌   | 7139/10926 [02:24<01:11, 52.76it/s]"
     ]
    },
    {
     "name": "stdout",
     "output_type": "stream",
     "text": [
      "yes action ruin image rest en\n",
      "anything tl\n"
     ]
    },
    {
     "name": "stderr",
     "output_type": "stream",
     "text": [
      "\r",
      " 65%|██████▌   | 7146/10926 [02:25<01:45, 35.75it/s]"
     ]
    },
    {
     "name": "stdout",
     "output_type": "stream",
     "text": [
      "take care en\n",
      "looking intelligent white man sense humor age nl\n",
      "yr old live mn da\n",
      "entertaining nl\n"
     ]
    },
    {
     "name": "stderr",
     "output_type": "stream",
     "text": [
      " 66%|██████▌   | 7178/10926 [02:25<01:06, 56.45it/s]"
     ]
    },
    {
     "name": "stdout",
     "output_type": "stream",
     "text": [
      "look forward seeing af\n",
      "note mention part four fr\n",
      "put last hour fr\n",
      "ghetto north it\n"
     ]
    },
    {
     "name": "stderr",
     "output_type": "stream",
     "text": [
      " 66%|██████▌   | 7195/10926 [02:26<01:20, 46.40it/s]"
     ]
    },
    {
     "name": "stdout",
     "output_type": "stream",
     "text": [
      "someone genius no\n",
      "jim sw\n",
      "win way lol so\n",
      "could get link nl\n"
     ]
    },
    {
     "name": "stderr",
     "output_type": "stream",
     "text": [
      " 66%|██████▌   | 7209/10926 [02:26<01:28, 42.24it/s]"
     ]
    },
    {
     "name": "stdout",
     "output_type": "stream",
     "text": [
      "many sw\n",
      "name josh gilmore sl\n",
      "saw girl tl\n",
      "singing cute tl\n"
     ]
    },
    {
     "name": "stderr",
     "output_type": "stream",
     "text": [
      " 66%|██████▌   | 7224/10926 [02:26<01:23, 44.51it/s]"
     ]
    },
    {
     "name": "stdout",
     "output_type": "stream",
     "text": [
      "hope continue fr\n",
      "true essence divinity fr\n",
      "dresden got see well wonderful thing see af\n",
      "extreme mini blizzard cookie dough dairy extremist fr\n"
     ]
    },
    {
     "name": "stderr",
     "output_type": "stream",
     "text": [
      "\r",
      " 66%|██████▌   | 7229/10926 [02:27<01:32, 40.15it/s]"
     ]
    },
    {
     "name": "stdout",
     "output_type": "stream",
     "text": [
      "extreme paper move fr\n",
      "evidence support oppose it\n"
     ]
    },
    {
     "name": "stderr",
     "output_type": "stream",
     "text": [
      " 66%|██████▋   | 7255/10926 [02:27<01:18, 46.74it/s]"
     ]
    },
    {
     "name": "stdout",
     "output_type": "stream",
     "text": [
      "well done guy let keep sticking system af\n",
      "david answer question activism ability acquire resource much better en\n",
      "people wake en\n"
     ]
    },
    {
     "name": "stderr",
     "output_type": "stream",
     "text": [
      " 67%|██████▋   | 7267/10926 [02:27<01:19, 46.24it/s]"
     ]
    },
    {
     "name": "stdout",
     "output_type": "stream",
     "text": [
      "saw tl\n",
      "need help nl\n",
      "cf cy\n",
      "bump id\n"
     ]
    },
    {
     "name": "stderr",
     "output_type": "stream",
     "text": [
      " 67%|██████▋   | 7284/10926 [02:28<01:22, 44.30it/s]"
     ]
    },
    {
     "name": "stdout",
     "output_type": "stream",
     "text": [
      "close call es\n",
      "loyal punk dead men would underbid labor slave negro race es\n",
      "quite farcical actually ca\n",
      "youtube video guy fb page es\n"
     ]
    },
    {
     "name": "stderr",
     "output_type": "stream",
     "text": [
      " 67%|██████▋   | 7306/10926 [02:28<01:06, 54.24it/s]"
     ]
    },
    {
     "name": "stdout",
     "output_type": "stream",
     "text": [
      "achieved whole lot greek ever ever en\n",
      "disgusting af\n",
      "course fr\n"
     ]
    },
    {
     "name": "stderr",
     "output_type": "stream",
     "text": [
      " 67%|██████▋   | 7323/10926 [02:28<01:01, 58.45it/s]"
     ]
    },
    {
     "name": "stdout",
     "output_type": "stream",
     "text": [
      "ignorant troll sadly even entertaining no\n",
      "wolf dog wolf coyote cy\n",
      "link appears broken sv\n"
     ]
    },
    {
     "name": "stderr",
     "output_type": "stream",
     "text": [
      "\r",
      " 67%|██████▋   | 7330/10926 [02:28<01:01, 58.41it/s]"
     ]
    },
    {
     "name": "stdout",
     "output_type": "stream",
     "text": [
      "good grief cy\n",
      "david irving site offer hitler table talk no\n"
     ]
    },
    {
     "name": "stderr",
     "output_type": "stream",
     "text": [
      " 67%|██████▋   | 7342/10926 [02:29<01:27, 40.97it/s]"
     ]
    },
    {
     "name": "stdout",
     "output_type": "stream",
     "text": [
      "letter david irving website no\n",
      "give skype answer question fr\n",
      "seems like message getting right people af\n",
      "look forward meeting like minded people next friday en\n"
     ]
    },
    {
     "name": "stderr",
     "output_type": "stream",
     "text": [
      " 67%|██████▋   | 7356/10926 [02:29<01:22, 43.15it/s]"
     ]
    },
    {
     "name": "stdout",
     "output_type": "stream",
     "text": [
      "god bless mr trump da\n",
      "wow pl\n",
      "see injun feature ro\n"
     ]
    },
    {
     "name": "stderr",
     "output_type": "stream",
     "text": [
      " 68%|██████▊   | 7376/10926 [02:30<01:12, 48.74it/s]"
     ]
    },
    {
     "name": "stdout",
     "output_type": "stream",
     "text": [
      "love sl\n",
      "appalling it\n",
      "nothing patriotic acting like nagger en\n",
      "adopt musical style hand gesture poison soul fr\n",
      "bernt anker hoffman pakkis da\n",
      "olje p lerret x cm no\n"
     ]
    },
    {
     "name": "stderr",
     "output_type": "stream",
     "text": [
      "\r",
      " 68%|██████▊   | 7382/10926 [02:30<02:03, 28.72it/s]"
     ]
    },
    {
     "name": "stdout",
     "output_type": "stream",
     "text": [
      "sysselmannen p svalbard sv\n",
      "bernt anker hoffman da\n",
      "oil canvas x cm pt\n",
      "governor svalbard"
     ]
    },
    {
     "name": "stderr",
     "output_type": "stream",
     "text": [
      " 68%|██████▊   | 7403/10926 [02:30<01:34, 37.34it/s]"
     ]
    },
    {
     "name": "stdout",
     "output_type": "stream",
     "text": [
      " hr\n",
      "pakkis common slang nickname arab general original link pakistani immigrant tl\n",
      "take dna test mountain salt fi\n",
      "stupid hell happens time"
     ]
    },
    {
     "name": "stderr",
     "output_type": "stream",
     "text": [
      " 68%|██████▊   | 7417/10926 [02:31<01:21, 42.79it/s]"
     ]
    },
    {
     "name": "stdout",
     "output_type": "stream",
     "text": [
      " sv\n",
      "sue racism es\n",
      "point bible verse support position fr\n",
      "guess canada pt\n",
      "wonder like af\n"
     ]
    },
    {
     "name": "stderr",
     "output_type": "stream",
     "text": [
      "\r",
      " 68%|██████▊   | 7423/10926 [02:31<01:33, 37.44it/s]"
     ]
    },
    {
     "name": "stdout",
     "output_type": "stream",
     "text": [
      "older folk interesting much offer da\n",
      "get strongest pepper spray find"
     ]
    },
    {
     "name": "stderr",
     "output_type": "stream",
     "text": [
      " 68%|██████▊   | 7434/10926 [02:31<01:39, 35.26it/s]"
     ]
    },
    {
     "name": "stdout",
     "output_type": "stream",
     "text": [
      " da\n",
      "make practice en\n",
      "lesson child fr\n",
      "live near london it\n"
     ]
    },
    {
     "name": "stderr",
     "output_type": "stream",
     "text": [
      " 68%|██████▊   | 7452/10926 [02:32<01:30, 38.54it/s]"
     ]
    },
    {
     "name": "stdout",
     "output_type": "stream",
     "text": [
      "brother want meet send message start talking hang sometime af\n",
      "hitlerjugend quex der ewige jude jude sus movie nazi made good informative fr\n"
     ]
    },
    {
     "name": "stderr",
     "output_type": "stream",
     "text": [
      " 68%|██████▊   | 7465/10926 [02:32<01:13, 46.82it/s]"
     ]
    },
    {
     "name": "stdout",
     "output_type": "stream",
     "text": [
      "looked like going start slapping white guy af\n",
      "dont quote im pretty sure open carry long gun texas legal en\n"
     ]
    },
    {
     "name": "stderr",
     "output_type": "stream",
     "text": [
      " 68%|██████▊   | 7476/10926 [02:32<01:25, 40.20it/s]"
     ]
    },
    {
     "name": "stdout",
     "output_type": "stream",
     "text": [
      "going go old man tl\n",
      "week see whole day night per week drive take something af\n",
      "say like idea ruger lcr da\n",
      "new ruger lcr truth gun cy\n",
      "eye dull dark green yellow speck tr\n"
     ]
    },
    {
     "name": "stderr",
     "output_type": "stream",
     "text": [
      " 69%|██████▊   | 7496/10926 [02:33<01:13, 46.74it/s]"
     ]
    },
    {
     "name": "stdout",
     "output_type": "stream",
     "text": [
      "grade pt\n",
      "like said world gone freak af\n",
      "parent girl nothing say tl\n"
     ]
    },
    {
     "name": "stderr",
     "output_type": "stream",
     "text": [
      "\r",
      " 69%|██████▊   | 7502/10926 [02:33<01:13, 46.34it/s]"
     ]
    },
    {
     "name": "stdout",
     "output_type": "stream",
     "text": [
      "one greatest time one personal favorite portrait french artist eugene delacroix fr\n",
      "arab militia doubly pt\n"
     ]
    },
    {
     "name": "stderr",
     "output_type": "stream",
     "text": [
      " 69%|██████▉   | 7515/10926 [02:33<01:20, 42.19it/s]"
     ]
    },
    {
     "name": "stdout",
     "output_type": "stream",
     "text": [
      "surprise anyone fr\n",
      "else house block af\n"
     ]
    },
    {
     "name": "stderr",
     "output_type": "stream",
     "text": [
      " 69%|██████▉   | 7532/10926 [02:33<01:15, 45.22it/s]"
     ]
    },
    {
     "name": "stdout",
     "output_type": "stream",
     "text": [
      "arab so\n",
      "asian id\n",
      "mexican es\n",
      "guy seems get otherwise sorry jig af\n",
      "impressive site it\n",
      "shall see en\n"
     ]
    },
    {
     "name": "stderr",
     "output_type": "stream",
     "text": [
      " 69%|██████▉   | 7548/10926 [02:34<01:03, 53.52it/s]"
     ]
    },
    {
     "name": "stdout",
     "output_type": "stream",
     "text": [
      "talk adult kid age et\n",
      "hidden message found da\n",
      "time undo damage pt\n",
      "dog collar toddler cy\n"
     ]
    },
    {
     "name": "stderr",
     "output_type": "stream",
     "text": [
      " 69%|██████▉   | 7567/10926 [02:34<01:03, 53.07it/s]"
     ]
    },
    {
     "name": "stdout",
     "output_type": "stream",
     "text": [
      "idea et\n",
      "aware event detail nl\n",
      "brave brave man hr\n",
      "nigga tl\n"
     ]
    },
    {
     "name": "stderr",
     "output_type": "stream",
     "text": [
      " 69%|██████▉   | 7579/10926 [02:34<01:15, 44.27it/s]"
     ]
    },
    {
     "name": "stdout",
     "output_type": "stream",
     "text": [
      "singer leaf eye da\n",
      "love voice sk\n",
      "looked amazon hu\n",
      "may get one day nl\n"
     ]
    },
    {
     "name": "stderr",
     "output_type": "stream",
     "text": [
      " 70%|██████▉   | 7594/10926 [02:35<01:04, 51.84it/s]"
     ]
    },
    {
     "name": "stdout",
     "output_type": "stream",
     "text": [
      "time game sq\n",
      "although work freelance degree keep door open work firm choose nl\n",
      "good luck so\n"
     ]
    },
    {
     "name": "stderr",
     "output_type": "stream",
     "text": [
      " 70%|██████▉   | 7618/10926 [02:35<00:56, 59.05it/s]"
     ]
    },
    {
     "name": "stdout",
     "output_type": "stream",
     "text": [
      "burger king next no\n",
      "sabotaging system good idea tl\n"
     ]
    },
    {
     "name": "stderr",
     "output_type": "stream",
     "text": [
      " 70%|██████▉   | 7636/10926 [02:35<00:49, 66.59it/s]"
     ]
    },
    {
     "name": "stdout",
     "output_type": "stream",
     "text": [
      "yeah sad see people like et\n",
      "run jap tonight fi\n"
     ]
    },
    {
     "name": "stderr",
     "output_type": "stream",
     "text": [
      " 70%|███████   | 7649/10926 [02:36<01:05, 50.02it/s]"
     ]
    },
    {
     "name": "stdout",
     "output_type": "stream",
     "text": [
      "lame es\n",
      "struggle race culture ro\n",
      "see af\n"
     ]
    },
    {
     "name": "stderr",
     "output_type": "stream",
     "text": [
      " 70%|███████   | 7675/10926 [02:36<00:54, 59.41it/s]"
     ]
    },
    {
     "name": "stdout",
     "output_type": "stream",
     "text": [
      "dont even include face fr\n"
     ]
    },
    {
     "name": "stderr",
     "output_type": "stream",
     "text": [
      " 70%|███████   | 7701/10926 [02:36<00:45, 70.18it/s]"
     ]
    },
    {
     "name": "stdout",
     "output_type": "stream",
     "text": [
      "constant movement fr\n",
      "cent pt\n",
      "joined marine fi\n"
     ]
    },
    {
     "name": "stderr",
     "output_type": "stream",
     "text": [
      " 71%|███████   | 7716/10926 [02:37<00:59, 53.91it/s]"
     ]
    },
    {
     "name": "stdout",
     "output_type": "stream",
     "text": [
      "well cy\n",
      "hello nl\n",
      "hope labrat get back liked site da\n",
      "never mind post da\n"
     ]
    },
    {
     "name": "stderr",
     "output_type": "stream",
     "text": [
      " 71%|███████   | 7729/10926 [02:37<01:05, 49.02it/s]"
     ]
    },
    {
     "name": "stdout",
     "output_type": "stream",
     "text": [
      "seig heil andrew de\n",
      "think would tighter grip zog would u en\n",
      "goal hr\n",
      "travel usa it\n",
      "course none set stone fr\n",
      "conclusion"
     ]
    },
    {
     "name": "stderr",
     "output_type": "stream",
     "text": [
      " 71%|███████   | 7741/10926 [02:37<01:16, 41.69it/s]"
     ]
    },
    {
     "name": "stdout",
     "output_type": "stream",
     "text": [
      " it\n",
      "please keep seeding af\n",
      "best af\n",
      "duke id\n"
     ]
    },
    {
     "name": "stderr",
     "output_type": "stream",
     "text": [
      " 71%|███████   | 7760/10926 [02:38<01:11, 44.06it/s]"
     ]
    },
    {
     "name": "stdout",
     "output_type": "stream",
     "text": [
      "ya saw laughed sick cy\n",
      "praying rain id\n",
      "seems like great idea promote cause en\n",
      "glad walk thing so\n",
      "definition genocide es\n"
     ]
    },
    {
     "name": "stderr",
     "output_type": "stream",
     "text": [
      " 71%|███████   | 7773/10926 [02:38<01:20, 39.21it/s]"
     ]
    },
    {
     "name": "stdout",
     "output_type": "stream",
     "text": [
      "rhodine van der walt shot killed home kempton park saturday night feb black da\n",
      "good start one prodigal genius written john j neill nl\n",
      "weku pl\n"
     ]
    },
    {
     "name": "stderr",
     "output_type": "stream",
     "text": [
      " 71%|███████▏  | 7787/10926 [02:38<01:17, 40.64it/s]"
     ]
    },
    {
     "name": "stdout",
     "output_type": "stream",
     "text": [
      "share prepare sq\n",
      "youtube multicultural enrichment stop violence ro\n",
      "time like present sq\n"
     ]
    },
    {
     "name": "stderr",
     "output_type": "stream",
     "text": [
      " 71%|███████▏  | 7812/10926 [02:39<00:53, 58.26it/s]"
     ]
    },
    {
     "name": "stdout",
     "output_type": "stream",
     "text": [
      "maybe unionized it\n",
      "article reinforce mind dealing ro\n"
     ]
    },
    {
     "name": "stderr",
     "output_type": "stream",
     "text": [
      " 72%|███████▏  | 7828/10926 [02:39<00:49, 63.04it/s]"
     ]
    },
    {
     "name": "stdout",
     "output_type": "stream",
     "text": [
      "wow pl\n",
      "p sl\n",
      "wonder juden nl\n"
     ]
    },
    {
     "name": "stderr",
     "output_type": "stream",
     "text": [
      " 72%|███████▏  | 7849/10926 [02:40<01:18, 39.31it/s]"
     ]
    },
    {
     "name": "stdout",
     "output_type": "stream",
     "text": [
      "lord planet solar system beyond no\n",
      "hail imperium europae ro\n",
      "black girl take baseball bat carry baseball bat date id\n",
      "dr duke really drive nerve center communism video clip"
     ]
    },
    {
     "name": "stderr",
     "output_type": "stream",
     "text": [
      "\r",
      " 72%|███████▏  | 7859/10926 [02:40<01:09, 44.23it/s]"
     ]
    },
    {
     "name": "stdout",
     "output_type": "stream",
     "text": [
      " en\n",
      "outstanding af\n",
      "wow pl\n",
      "vice guide travel liberia part youtube"
     ]
    },
    {
     "name": "stderr",
     "output_type": "stream",
     "text": [
      " 72%|███████▏  | 7874/10926 [02:40<01:05, 46.90it/s]"
     ]
    },
    {
     "name": "stdout",
     "output_type": "stream",
     "text": [
      " es\n",
      "oslo turning major criminal muslim mecca ro\n",
      "dr william pierce pl\n"
     ]
    },
    {
     "name": "stderr",
     "output_type": "stream",
     "text": [
      " 72%|███████▏  | 7897/10926 [02:40<00:59, 50.57it/s]"
     ]
    },
    {
     "name": "stdout",
     "output_type": "stream",
     "text": [
      "maybe mistaken et\n",
      "inhabitant village perhaps ethnic georgian nl\n"
     ]
    },
    {
     "name": "stderr",
     "output_type": "stream",
     "text": [
      " 72%|███████▏  | 7911/10926 [02:41<00:57, 51.99it/s]"
     ]
    },
    {
     "name": "stdout",
     "output_type": "stream",
     "text": [
      "boy so\n",
      "call soul economical mean it\n",
      "true vi\n"
     ]
    },
    {
     "name": "stderr",
     "output_type": "stream",
     "text": [
      " 73%|███████▎  | 7928/10926 [02:41<00:54, 55.46it/s]"
     ]
    },
    {
     "name": "stdout",
     "output_type": "stream",
     "text": [
      "elmira tr\n",
      "serbian chetniks german soldier stop telling lie serbian chetniks nazi german soldier af\n",
      "slavic people make european population ro\n"
     ]
    },
    {
     "name": "stderr",
     "output_type": "stream",
     "text": [
      " 73%|███████▎  | 7948/10926 [02:41<01:05, 45.43it/s]"
     ]
    },
    {
     "name": "stdout",
     "output_type": "stream",
     "text": [
      "kid living apartment et\n",
      "look partner steve hamilton no\n",
      "consider ignored it\n",
      "agent bulldog sweden oi cy\n"
     ]
    },
    {
     "name": "stderr",
     "output_type": "stream",
     "text": [
      " 73%|███████▎  | 7958/10926 [02:42<01:16, 38.75it/s]"
     ]
    },
    {
     "name": "stdout",
     "output_type": "stream",
     "text": [
      "hero snow sweden rock roll midgard ner sweden oi nl\n",
      "norske legion norway oi no\n",
      "contain song many ballbreaking band tl\n"
     ]
    },
    {
     "name": "stderr",
     "output_type": "stream",
     "text": [
      " 73%|███████▎  | 7970/10926 [02:42<01:07, 43.66it/s]"
     ]
    },
    {
     "name": "stdout",
     "output_type": "stream",
     "text": [
      "take care en\n",
      "rebel da\n",
      "tuleistu minu k rvale et\n",
      "suitable singing talking singing tl\n"
     ]
    },
    {
     "name": "stderr",
     "output_type": "stream",
     "text": [
      " 73%|███████▎  | 7994/10926 [02:42<00:58, 49.95it/s]"
     ]
    },
    {
     "name": "stdout",
     "output_type": "stream",
     "text": [
      "proven many time jew medium sk\n",
      "like img document settingsblueguardskrivebordny img sv\n"
     ]
    },
    {
     "name": "stderr",
     "output_type": "stream",
     "text": [
      " 73%|███████▎  | 8014/10926 [02:43<00:48, 59.99it/s]"
     ]
    },
    {
     "name": "stdout",
     "output_type": "stream",
     "text": [
      "dunham english name de\n",
      "look like obama lived legacy et\n",
      "never attacked son plus dont care problem"
     ]
    },
    {
     "name": "stderr",
     "output_type": "stream",
     "text": [
      " 73%|███████▎  | 8030/10926 [02:43<00:50, 57.68it/s]"
     ]
    },
    {
     "name": "stdout",
     "output_type": "stream",
     "text": [
      " fr\n",
      "dublin fr\n"
     ]
    },
    {
     "name": "stderr",
     "output_type": "stream",
     "text": [
      " 74%|███████▎  | 8055/10926 [02:43<00:44, 64.58it/s]"
     ]
    },
    {
     "name": "stdout",
     "output_type": "stream",
     "text": [
      "one last place expect fr\n",
      "quite opposite fact fr\n",
      "hail cy\n",
      "people differ it\n",
      "hail cy\n"
     ]
    },
    {
     "name": "stderr",
     "output_type": "stream",
     "text": [
      " 74%|███████▍  | 8076/10926 [02:44<00:38, 74.84it/s]"
     ]
    },
    {
     "name": "stdout",
     "output_type": "stream",
     "text": [
      "aragorn tl\n",
      "grow fruit af\n",
      "really like idea en\n"
     ]
    },
    {
     "name": "stderr",
     "output_type": "stream",
     "text": [
      " 74%|███████▍  | 8102/10926 [02:44<00:39, 71.13it/s]"
     ]
    },
    {
     "name": "stdout",
     "output_type": "stream",
     "text": [
      "idea mississauga canada decided look pt\n",
      "agree af\n",
      "day so\n",
      "fan cy\n"
     ]
    },
    {
     "name": "stderr",
     "output_type": "stream",
     "text": [
      "\r",
      " 74%|███████▍  | 8110/10926 [02:44<00:47, 59.73it/s]"
     ]
    },
    {
     "name": "stdout",
     "output_type": "stream",
     "text": [
      "new supreme court justice lord dyson jc article fr\n",
      "lk so\n"
     ]
    },
    {
     "name": "stderr",
     "output_type": "stream",
     "text": [
      " 74%|███████▍  | 8124/10926 [02:45<01:03, 44.45it/s]"
     ]
    },
    {
     "name": "stdout",
     "output_type": "stream",
     "text": [
      "pretty much say get mugged fault sv\n",
      "people scum ro\n",
      "get one next time see asatru versand kein islam europa da christentum ist schlimm genug kein islam europa da christentum ist schlimm genug de\n",
      "like usa et\n",
      "code word max nl\n",
      "never called nazi it\n"
     ]
    },
    {
     "name": "stderr",
     "output_type": "stream",
     "text": [
      " 75%|███████▍  | 8152/10926 [02:45<00:55, 50.10it/s]"
     ]
    },
    {
     "name": "stdout",
     "output_type": "stream",
     "text": [
      "worse benefit st af\n",
      "keeping weekly get togethers group pro white like minded people would like continue grow group usually dinner weekend keep people close en\n",
      "gleiwitz oberschlesien youtube de\n",
      "okay take word people use word say cymru wale polska poland pl\n",
      "must mossad cia ca\n",
      "guess automaidan fr\n"
     ]
    },
    {
     "name": "stderr",
     "output_type": "stream",
     "text": [
      " 75%|███████▍  | 8163/10926 [02:45<01:16, 36.08it/s]"
     ]
    },
    {
     "name": "stdout",
     "output_type": "stream",
     "text": [
      "read car participated ro\n",
      "idea et\n",
      "indeed look like strange thing af\n",
      "poster damn unsuccessful troll it\n"
     ]
    },
    {
     "name": "stderr",
     "output_type": "stream",
     "text": [
      " 75%|███████▍  | 8179/10926 [02:46<01:10, 39.17it/s]"
     ]
    },
    {
     "name": "stdout",
     "output_type": "stream",
     "text": [
      "need get pic tonight get done shaving nl\n",
      "want get done pro money tight nl\n",
      "believe looking never find true love da\n"
     ]
    },
    {
     "name": "stderr",
     "output_type": "stream",
     "text": [
      " 75%|███████▍  | 8193/10926 [02:46<01:00, 45.03it/s]"
     ]
    },
    {
     "name": "stdout",
     "output_type": "stream",
     "text": [
      "camie es\n",
      "br tapio lt\n",
      "course virile u would happen would nl\n"
     ]
    },
    {
     "name": "stderr",
     "output_type": "stream",
     "text": [
      " 75%|███████▌  | 8205/10926 [02:46<01:03, 42.76it/s]"
     ]
    },
    {
     "name": "stdout",
     "output_type": "stream",
     "text": [
      "german fest da\n",
      "hope see word af\n",
      "beautiful place ro\n",
      "part berserkergrrl no\n",
      "figured would get worst af\n"
     ]
    },
    {
     "name": "stderr",
     "output_type": "stream",
     "text": [
      " 75%|███████▌  | 8220/10926 [02:47<01:13, 36.81it/s]"
     ]
    },
    {
     "name": "stdout",
     "output_type": "stream",
     "text": [
      "later ro\n",
      "hope talk later af\n",
      "aimee et\n",
      "im sorry find talk talk someone trying get degree personal message sf im aol yahoo no\n"
     ]
    },
    {
     "name": "stderr",
     "output_type": "stream",
     "text": [
      " 75%|███████▌  | 8233/10926 [02:47<01:12, 37.28it/s]"
     ]
    },
    {
     "name": "stdout",
     "output_type": "stream",
     "text": [
      "welcome nl\n",
      "hi glendale az it\n",
      "like going gym anything athletic en\n"
     ]
    },
    {
     "name": "stderr",
     "output_type": "stream",
     "text": [
      " 76%|███████▌  | 8250/10926 [02:48<01:02, 42.78it/s]"
     ]
    },
    {
     "name": "stdout",
     "output_type": "stream",
     "text": [
      "even restaurant fr\n",
      "google see mean af\n",
      "possible someone construe post way"
     ]
    },
    {
     "name": "stderr",
     "output_type": "stream",
     "text": [
      " 76%|███████▌  | 8265/10926 [02:48<01:02, 42.60it/s]"
     ]
    },
    {
     "name": "stdout",
     "output_type": "stream",
     "text": [
      " en\n",
      "next read ro\n"
     ]
    },
    {
     "name": "stderr",
     "output_type": "stream",
     "text": [
      " 76%|███████▌  | 8277/10926 [02:48<00:58, 45.18it/s]"
     ]
    },
    {
     "name": "stdout",
     "output_type": "stream",
     "text": [
      "alabama so\n",
      "birmingham even nicer suburban area getting darker darker id\n",
      "needed af\n",
      "long place get warm heater water doesnt freeze fine nl\n"
     ]
    },
    {
     "name": "stderr",
     "output_type": "stream",
     "text": [
      " 76%|███████▌  | 8288/10926 [02:48<01:02, 42.02it/s]"
     ]
    },
    {
     "name": "stdout",
     "output_type": "stream",
     "text": [
      "dont think would get nl\n"
     ]
    },
    {
     "name": "stderr",
     "output_type": "stream",
     "text": [
      " 76%|███████▌  | 8304/10926 [02:49<01:03, 41.42it/s]"
     ]
    },
    {
     "name": "stdout",
     "output_type": "stream",
     "text": [
      "let beaner da\n",
      "good luck so\n",
      "jim sw\n"
     ]
    },
    {
     "name": "stderr",
     "output_type": "stream",
     "text": [
      "\r",
      " 76%|███████▌  | 8310/10926 [02:49<01:10, 37.31it/s]"
     ]
    },
    {
     "name": "stdout",
     "output_type": "stream",
     "text": [
      "sveiks no\n",
      "dc"
     ]
    },
    {
     "name": "stderr",
     "output_type": "stream",
     "text": [
      " 76%|███████▌  | 8324/10926 [02:49<01:14, 34.90it/s]"
     ]
    },
    {
     "name": "stdout",
     "output_type": "stream",
     "text": [
      " pt\n",
      "lemming hears duke awaken af\n",
      "seen couple chinese japanese tourist dont hate fr\n",
      "allegiance mexico first america second"
     ]
    },
    {
     "name": "stderr",
     "output_type": "stream",
     "text": [
      " 76%|███████▋  | 8338/10926 [02:50<00:59, 43.23it/s]"
     ]
    },
    {
     "name": "stdout",
     "output_type": "stream",
     "text": [
      " it\n",
      "leave fr\n",
      "please save u buzz hr\n",
      "maybe so\n"
     ]
    },
    {
     "name": "stderr",
     "output_type": "stream",
     "text": [
      " 76%|███████▋  | 8350/10926 [02:50<01:04, 40.17it/s]"
     ]
    },
    {
     "name": "stdout",
     "output_type": "stream",
     "text": [
      "guess fit ca\n",
      "see reliable source connect leon trotski lenin freemason en\n",
      "race traitor"
     ]
    },
    {
     "name": "stderr",
     "output_type": "stream",
     "text": [
      " 77%|███████▋  | 8361/10926 [02:50<01:08, 37.35it/s]"
     ]
    },
    {
     "name": "stdout",
     "output_type": "stream",
     "text": [
      " fr\n",
      "million can not it\n",
      "say article tl\n",
      "fit dna dna found ancient mummy ca\n",
      "egyptian arab egyptian hu\n",
      "like see et\n"
     ]
    },
    {
     "name": "stderr",
     "output_type": "stream",
     "text": [
      " 77%|███████▋  | 8371/10926 [02:50<01:10, 36.02it/s]"
     ]
    },
    {
     "name": "stdout",
     "output_type": "stream",
     "text": [
      "post vnn cs\n",
      "say black arab jew lie pl\n",
      "nation fraud fr\n",
      "never build da\n"
     ]
    },
    {
     "name": "stderr",
     "output_type": "stream",
     "text": [
      " 77%|███████▋  | 8381/10926 [02:51<01:24, 29.99it/s]"
     ]
    },
    {
     "name": "stdout",
     "output_type": "stream",
     "text": [
      "deal es\n",
      "control medium proof it\n",
      "gun n rose music es\n",
      "skin color alone make race en\n"
     ]
    },
    {
     "name": "stderr",
     "output_type": "stream",
     "text": [
      " 77%|███████▋  | 8404/10926 [02:51<01:00, 41.67it/s]"
     ]
    },
    {
     "name": "stdout",
     "output_type": "stream",
     "text": [
      "folk melody da\n",
      "cool texas good so\n"
     ]
    },
    {
     "name": "stderr",
     "output_type": "stream",
     "text": [
      " 77%|███████▋  | 8418/10926 [02:51<00:49, 50.57it/s]"
     ]
    },
    {
     "name": "stdout",
     "output_type": "stream",
     "text": [
      "knowledge skill trump gear everytime en\n",
      "v sk\n",
      "guy soooo annoying so\n"
     ]
    },
    {
     "name": "stderr",
     "output_type": "stream",
     "text": [
      " 77%|███████▋  | 8434/10926 [02:52<00:42, 58.79it/s]"
     ]
    },
    {
     "name": "stdout",
     "output_type": "stream",
     "text": [
      "kkk sent shiver fear spine enemy like never know no\n",
      "vancouver fr\n",
      "vancouver fr\n"
     ]
    },
    {
     "name": "stderr",
     "output_type": "stream",
     "text": [
      "\r",
      " 77%|███████▋  | 8441/10926 [02:52<00:55, 45.14it/s]"
     ]
    },
    {
     "name": "stdout",
     "output_type": "stream",
     "text": [
      "like hongcouver fr\n",
      "mound misshapened aluminum en\n",
      "reminds homer simpson angry art look like something made kid winner af\n",
      "scottish mom side portuguese dad side live north portugal pt\n"
     ]
    },
    {
     "name": "stderr",
     "output_type": "stream",
     "text": [
      " 77%|███████▋  | 8464/10926 [02:52<00:42, 57.75it/s]"
     ]
    },
    {
     "name": "stdout",
     "output_type": "stream",
     "text": [
      "ugh so\n",
      "apart decent video ca\n"
     ]
    },
    {
     "name": "stderr",
     "output_type": "stream",
     "text": [
      " 78%|███████▊  | 8477/10926 [02:53<00:53, 45.46it/s]"
     ]
    },
    {
     "name": "stdout",
     "output_type": "stream",
     "text": [
      "dealer messing da\n",
      "look et\n",
      "order beer ask af\n",
      "okay pl\n",
      "ta ra aye so\n",
      "credit nasa esa brown"
     ]
    },
    {
     "name": "stderr",
     "output_type": "stream",
     "text": [
      " 78%|███████▊  | 8491/10926 [02:53<00:52, 46.34it/s]"
     ]
    },
    {
     "name": "stdout",
     "output_type": "stream",
     "text": [
      " pt\n",
      "valid et\n",
      "au n ft p cy\n",
      "false front jew present world jew quite varied opinion belief en\n"
     ]
    },
    {
     "name": "stderr",
     "output_type": "stream",
     "text": [
      " 78%|███████▊  | 8513/10926 [02:53<00:44, 54.80it/s]"
     ]
    },
    {
     "name": "stdout",
     "output_type": "stream",
     "text": [
      "ca comment content yet fr\n",
      "fine shirt sq\n"
     ]
    },
    {
     "name": "stderr",
     "output_type": "stream",
     "text": [
      "\r",
      " 78%|███████▊  | 8521/10926 [02:53<00:45, 52.32it/s]"
     ]
    },
    {
     "name": "stdout",
     "output_type": "stream",
     "text": [
      "truly vi\n",
      "blue green grey different time no\n",
      "anybody else experience ca\n",
      "make wonder man built range anti gun zealot like neighbor together nl\n"
     ]
    },
    {
     "name": "stderr",
     "output_type": "stream",
     "text": [
      " 78%|███████▊  | 8536/10926 [02:54<00:56, 42.34it/s]"
     ]
    },
    {
     "name": "stdout",
     "output_type": "stream",
     "text": [
      "boat extent ro\n",
      "like max"
     ]
    },
    {
     "name": "stderr",
     "output_type": "stream",
     "text": [
      " 78%|███████▊  | 8557/10926 [02:54<00:42, 55.75it/s]"
     ]
    },
    {
     "name": "stdout",
     "output_type": "stream",
     "text": [
      " et\n",
      "weekend decoration go nl\n"
     ]
    },
    {
     "name": "stderr",
     "output_type": "stream",
     "text": [
      " 78%|███████▊  | 8572/10926 [02:54<00:45, 51.48it/s]"
     ]
    },
    {
     "name": "stdout",
     "output_type": "stream",
     "text": [
      "youtube id\n",
      "nice see ro\n",
      "say big brother tl\n"
     ]
    },
    {
     "name": "stderr",
     "output_type": "stream",
     "text": [
      " 79%|███████▊  | 8587/10926 [02:55<00:51, 45.11it/s]"
     ]
    },
    {
     "name": "stdout",
     "output_type": "stream",
     "text": [
      "green eye seem pretty rare af\n",
      "ya ignorant want registered gun criminal gun ca\n",
      "great idea see go crime stats it\n",
      "funny cy\n"
     ]
    },
    {
     "name": "stderr",
     "output_type": "stream",
     "text": [
      " 79%|███████▉  | 8608/10926 [02:55<00:42, 55.14it/s]"
     ]
    },
    {
     "name": "stdout",
     "output_type": "stream",
     "text": [
      "project hr\n",
      "check sig idea de\n",
      "lambent adjective ca\n"
     ]
    },
    {
     "name": "stderr",
     "output_type": "stream",
     "text": [
      " 79%|███████▉  | 8620/10926 [02:55<00:53, 42.92it/s]"
     ]
    },
    {
     "name": "stdout",
     "output_type": "stream",
     "text": [
      "agree af\n",
      "go non denominational private school it\n",
      "funny see guy make fun u call u dumb redneck spell grade level ca\n"
     ]
    },
    {
     "name": "stderr",
     "output_type": "stream",
     "text": [
      "\r",
      " 79%|███████▉  | 8627/10926 [02:56<00:51, 45.00it/s]"
     ]
    },
    {
     "name": "stdout",
     "output_type": "stream",
     "text": [
      "going cy\n",
      "ok get back picking school nl\n",
      "personal message address name get started no\n",
      "wow pl\n",
      "mean kill thread looooooooooooong post"
     ]
    },
    {
     "name": "stderr",
     "output_type": "stream",
     "text": [
      " 79%|███████▉  | 8637/10926 [02:56<01:05, 35.15it/s]"
     ]
    },
    {
     "name": "stdout",
     "output_type": "stream",
     "text": [
      " en\n",
      "david s sv\n",
      "double standard fr\n",
      "raise kid one language et\n",
      "kid et\n"
     ]
    },
    {
     "name": "stderr",
     "output_type": "stream",
     "text": [
      " 79%|███████▉  | 8664/10926 [02:56<00:45, 50.21it/s]"
     ]
    },
    {
     "name": "stdout",
     "output_type": "stream",
     "text": [
      "stupidity punishment sq\n",
      "living consequence punishment enough en\n",
      "kosher slaughter blessed every rabbi sun en\n",
      "capitalism it\n"
     ]
    },
    {
     "name": "stderr",
     "output_type": "stream",
     "text": [
      " 79%|███████▉  | 8684/10926 [02:57<00:43, 51.69it/s]"
     ]
    },
    {
     "name": "stdout",
     "output_type": "stream",
     "text": [
      "agreed af\n",
      "may add something say asian like black mostly en\n",
      "look internet see af\n",
      "big plan"
     ]
    },
    {
     "name": "stderr",
     "output_type": "stream",
     "text": [
      " 80%|███████▉  | 8700/10926 [02:57<00:42, 52.15it/s]"
     ]
    },
    {
     "name": "stdout",
     "output_type": "stream",
     "text": [
      " tl\n",
      "ika klansman tl\n",
      "im lol sl\n"
     ]
    },
    {
     "name": "stderr",
     "output_type": "stream",
     "text": [
      " 80%|███████▉  | 8729/10926 [02:57<00:32, 68.04it/s]"
     ]
    },
    {
     "name": "stdout",
     "output_type": "stream",
     "text": [
      "time scarey alone it\n",
      "mix like et\n",
      "kamerad id\n",
      "fag big problem recruiting kid school pay en\n"
     ]
    },
    {
     "name": "stderr",
     "output_type": "stream",
     "text": [
      " 80%|████████  | 8746/10926 [02:58<00:37, 58.10it/s]"
     ]
    },
    {
     "name": "stdout",
     "output_type": "stream",
     "text": [
      "wrs cy\n",
      "hello fi\n",
      "hello wondering tripple flag stand"
     ]
    },
    {
     "name": "stderr",
     "output_type": "stream",
     "text": [
      " 80%|████████  | 8760/10926 [02:58<00:44, 49.11it/s]"
     ]
    },
    {
     "name": "stdout",
     "output_type": "stream",
     "text": [
      " nl\n",
      "canada sure mean american injun innuit ro\n",
      "especially cariboo es\n"
     ]
    },
    {
     "name": "stderr",
     "output_type": "stream",
     "text": [
      " 80%|████████  | 8782/10926 [02:59<00:39, 54.94it/s]"
     ]
    },
    {
     "name": "stdout",
     "output_type": "stream",
     "text": [
      "look like african blood maybe makeup af\n",
      "wrong cy\n",
      "lady gaga so\n",
      "get support ever no\n"
     ]
    },
    {
     "name": "stderr",
     "output_type": "stream",
     "text": [
      "\r",
      " 80%|████████  | 8789/10926 [02:59<00:48, 44.17it/s]"
     ]
    },
    {
     "name": "stdout",
     "output_type": "stream",
     "text": [
      "bad move jew puppet en\n",
      "idea et\n"
     ]
    },
    {
     "name": "stderr",
     "output_type": "stream",
     "text": [
      " 81%|████████  | 8808/10926 [02:59<00:44, 47.47it/s]"
     ]
    },
    {
     "name": "stdout",
     "output_type": "stream",
     "text": [
      "spiritual awakening say stupid id\n",
      "ten dollar would give entertainment nl\n",
      "definitely act genocide es\n",
      "guess blind idiot overlooked nfl nba like leave one miss et\n"
     ]
    },
    {
     "name": "stderr",
     "output_type": "stream",
     "text": [
      " 81%|████████  | 8825/10926 [03:00<00:46, 45.55it/s]"
     ]
    },
    {
     "name": "stdout",
     "output_type": "stream",
     "text": [
      "black sv\n",
      "justice emily fr\n",
      "imagine hell young girl went long en\n",
      "let poor kid die vain still draw air af\n",
      "poor kid swing folk also get good guard breed dog"
     ]
    },
    {
     "name": "stderr",
     "output_type": "stream",
     "text": [
      "\r",
      " 81%|████████  | 8830/10926 [03:00<00:49, 42.61it/s]"
     ]
    },
    {
     "name": "stdout",
     "output_type": "stream",
     "text": [
      " af\n",
      "groids scared death big aggressive dog en\n",
      "negro dumb it\n",
      "planet x let stop talking start looking like crazy"
     ]
    },
    {
     "name": "stderr",
     "output_type": "stream",
     "text": [
      "\r",
      " 81%|████████  | 8838/10926 [03:00<00:48, 43.07it/s]"
     ]
    },
    {
     "name": "stdout",
     "output_type": "stream",
     "text": [
      " af\n",
      "hell planet x nl\n",
      "glimps docid hl ca\n"
     ]
    },
    {
     "name": "stderr",
     "output_type": "stream",
     "text": [
      " 81%|████████  | 8853/10926 [03:00<01:05, 31.49it/s]"
     ]
    },
    {
     "name": "stdout",
     "output_type": "stream",
     "text": [
      "great link no\n",
      "rep later ro\n",
      "africa epitome progress it\n",
      "good one cy\n"
     ]
    },
    {
     "name": "stderr",
     "output_type": "stream",
     "text": [
      " 81%|████████  | 8862/10926 [03:01<01:02, 32.90it/s]"
     ]
    },
    {
     "name": "stdout",
     "output_type": "stream",
     "text": [
      "orture mode pf fr\n",
      "battle language english en\n",
      "fun trying convince european unite one government eu collapse fr\n"
     ]
    },
    {
     "name": "stderr",
     "output_type": "stream",
     "text": [
      " 81%|████████  | 8875/10926 [03:01<01:00, 34.04it/s]"
     ]
    },
    {
     "name": "stdout",
     "output_type": "stream",
     "text": [
      "wo one entrancing en\n",
      "computer equally unproductive least control expose en\n",
      "guess ghetto express it\n"
     ]
    },
    {
     "name": "stderr",
     "output_type": "stream",
     "text": [
      " 81%|████████▏ | 8886/10926 [03:01<00:53, 38.46it/s]"
     ]
    },
    {
     "name": "stdout",
     "output_type": "stream",
     "text": [
      "word needed af\n",
      "vie isobox rec sk\n",
      "seems none pinhead wanted get dirty af\n"
     ]
    },
    {
     "name": "stderr",
     "output_type": "stream",
     "text": [
      " 82%|████████▏ | 8908/10926 [03:02<00:36, 54.98it/s]"
     ]
    },
    {
     "name": "stdout",
     "output_type": "stream",
     "text": [
      "last two time saw saw zero pl\n",
      "wrong husband en\n"
     ]
    },
    {
     "name": "stderr",
     "output_type": "stream",
     "text": [
      "\r",
      " 82%|████████▏ | 8915/10926 [03:02<00:52, 38.50it/s]"
     ]
    },
    {
     "name": "stdout",
     "output_type": "stream",
     "text": [
      "god bless hell black cy\n",
      "angela spain murdered home drifter negro da\n",
      "ran id\n",
      "indeed nl\n",
      "give take good hr\n"
     ]
    },
    {
     "name": "stderr",
     "output_type": "stream",
     "text": [
      "\r",
      " 82%|████████▏ | 8921/10926 [03:02<00:50, 39.40it/s]"
     ]
    },
    {
     "name": "stdout",
     "output_type": "stream",
     "text": [
      "good pumped awesome knocking door asking surrender gun af\n",
      "obama civilian defense force different name ca\n"
     ]
    },
    {
     "name": "stderr",
     "output_type": "stream",
     "text": [
      " 82%|████████▏ | 8930/10926 [03:03<01:05, 30.54it/s]"
     ]
    },
    {
     "name": "stdout",
     "output_type": "stream",
     "text": [
      "see video af\n",
      "fan german rock band rammstein sv\n",
      "ricearrives lithuania nato talk go home africa condoleeza rice it\n",
      "want lithuania usa sw\n"
     ]
    },
    {
     "name": "stderr",
     "output_type": "stream",
     "text": [
      " 82%|████████▏ | 8953/10926 [03:03<00:42, 46.63it/s]"
     ]
    },
    {
     "name": "stdout",
     "output_type": "stream",
     "text": [
      "wellsburg de\n",
      "body melinda nicole brown allen son ethan james michael brown found wednesday night en\n",
      "twp en\n"
     ]
    },
    {
     "name": "stderr",
     "output_type": "stream",
     "text": [
      " 82%|████████▏ | 8971/10926 [03:03<00:38, 50.82it/s]"
     ]
    },
    {
     "name": "stdout",
     "output_type": "stream",
     "text": [
      "absolutely fi\n",
      "good fence make good neighbor en\n",
      "awesome post af\n"
     ]
    },
    {
     "name": "stderr",
     "output_type": "stream",
     "text": [
      " 82%|████████▏ | 8983/10926 [03:03<00:38, 50.64it/s]"
     ]
    },
    {
     "name": "stdout",
     "output_type": "stream",
     "text": [
      "much add said would like say welcome garmgormius cy\n",
      "good see norwegian af\n",
      "suomalainen nest kansallismielisi koska nyt vied n viimeisi fi\n",
      "say let let rant mouth mudslums fr\n",
      "far seen"
     ]
    },
    {
     "name": "stderr",
     "output_type": "stream",
     "text": [
      "\r",
      " 82%|████████▏ | 8993/10926 [03:04<00:35, 54.04it/s]"
     ]
    },
    {
     "name": "stdout",
     "output_type": "stream",
     "text": [
      " nl\n",
      "way go so\n"
     ]
    },
    {
     "name": "stderr",
     "output_type": "stream",
     "text": [
      "\r",
      " 82%|████████▏ | 9003/10926 [03:04<00:37, 51.46it/s]"
     ]
    },
    {
     "name": "stdout",
     "output_type": "stream",
     "text": [
      "message vanish af\n"
     ]
    },
    {
     "name": "stderr",
     "output_type": "stream",
     "text": [
      " 83%|████████▎ | 9025/10926 [03:04<00:40, 46.55it/s]"
     ]
    },
    {
     "name": "stdout",
     "output_type": "stream",
     "text": [
      "anybody pointed finland part scandinavia yet hur gick det finnkampen vet ni det no\n",
      "jag kollade inte sv\n",
      "like said kevin myers always voice u ireland af\n",
      "bad looking either af\n"
     ]
    },
    {
     "name": "stderr",
     "output_type": "stream",
     "text": [
      " 83%|████████▎ | 9042/10926 [03:05<00:38, 49.57it/s]"
     ]
    },
    {
     "name": "stdout",
     "output_type": "stream",
     "text": [
      "could celt non celt verify true ro\n",
      "dream driving car past time running b no\n",
      "got b af\n"
     ]
    },
    {
     "name": "stderr",
     "output_type": "stream",
     "text": [
      "\r",
      " 83%|████████▎ | 9050/10926 [03:05<00:39, 47.91it/s]"
     ]
    },
    {
     "name": "stdout",
     "output_type": "stream",
     "text": [
      "id pt n sv\n",
      "bnp fill gap sv\n"
     ]
    },
    {
     "name": "stderr",
     "output_type": "stream",
     "text": [
      " 83%|████████▎ | 9072/10926 [03:05<00:38, 48.54it/s]"
     ]
    },
    {
     "name": "stdout",
     "output_type": "stream",
     "text": [
      "understand unfortunatly one else turn da\n",
      "many child en\n",
      "especially brampton es\n",
      "heil de\n"
     ]
    },
    {
     "name": "stderr",
     "output_type": "stream",
     "text": [
      " 83%|████████▎ | 9085/10926 [03:06<00:43, 42.59it/s]"
     ]
    },
    {
     "name": "stdout",
     "output_type": "stream",
     "text": [
      "best ignore individual like da\n",
      "wanted thank meeting weekend af\n",
      "good meet decent conversation nl\n"
     ]
    },
    {
     "name": "stderr",
     "output_type": "stream",
     "text": [
      " 83%|████████▎ | 9098/10926 [03:06<00:45, 39.98it/s]"
     ]
    },
    {
     "name": "stdout",
     "output_type": "stream",
     "text": [
      "terrible da\n",
      "truth lie vi\n",
      "please comment fr\n",
      "obviously cs\n",
      "hello norfolk"
     ]
    },
    {
     "name": "stderr",
     "output_type": "stream",
     "text": [
      " 83%|████████▎ | 9115/10926 [03:06<00:39, 45.62it/s]"
     ]
    },
    {
     "name": "stdout",
     "output_type": "stream",
     "text": [
      " no\n",
      "jerry springer attack kkk dad part youtube no\n",
      "burka bad enough hijab need ban burka so\n"
     ]
    },
    {
     "name": "stderr",
     "output_type": "stream",
     "text": [
      " 84%|████████▎ | 9130/10926 [03:06<00:34, 52.55it/s]"
     ]
    },
    {
     "name": "stdout",
     "output_type": "stream",
     "text": [
      "episode watch benefit street channel uk uploaded youtube filt fit street get treet download xasxribb megabyte episode total en\n",
      "p sl\n"
     ]
    },
    {
     "name": "stderr",
     "output_type": "stream",
     "text": [
      " 84%|████████▍ | 9151/10926 [03:07<00:35, 49.97it/s]"
     ]
    },
    {
     "name": "stdout",
     "output_type": "stream",
     "text": [
      "reader stand donetsk sv\n",
      "rest tatar ca\n",
      "ukrainian carpathians id\n"
     ]
    },
    {
     "name": "stderr",
     "output_type": "stream",
     "text": [
      " 84%|████████▍ | 9163/10926 [03:07<00:42, 41.59it/s]"
     ]
    },
    {
     "name": "stdout",
     "output_type": "stream",
     "text": [
      "try find stupid message forum da\n",
      "youtube id\n",
      "ok idiot see act nl\n"
     ]
    },
    {
     "name": "stderr",
     "output_type": "stream",
     "text": [
      " 84%|████████▍ | 9180/10926 [03:07<00:34, 50.38it/s]"
     ]
    },
    {
     "name": "stdout",
     "output_type": "stream",
     "text": [
      "adult late ro\n",
      "luck driving sv\n",
      "second it\n"
     ]
    },
    {
     "name": "stderr",
     "output_type": "stream",
     "text": [
      "\r",
      " 84%|████████▍ | 9187/10926 [03:08<00:51, 33.71it/s]"
     ]
    },
    {
     "name": "stdout",
     "output_type": "stream",
     "text": [
      "also dont drink drive nl\n",
      "finish drinking drive sv\n",
      "better no\n",
      "drive risk accident drunk walk certainly get murdered kaffir da\n",
      "side country en\n"
     ]
    },
    {
     "name": "stderr",
     "output_type": "stream",
     "text": [
      " 84%|████████▍ | 9201/10926 [03:08<00:45, 38.17it/s]"
     ]
    },
    {
     "name": "stdout",
     "output_type": "stream",
     "text": [
      "ever ridden dirt bike florida da\n",
      "mile bad so\n",
      "hi chandra cy\n",
      "feel pain"
     ]
    },
    {
     "name": "stderr",
     "output_type": "stream",
     "text": [
      " 84%|████████▍ | 9216/10926 [03:08<00:37, 45.45it/s]"
     ]
    },
    {
     "name": "stdout",
     "output_type": "stream",
     "text": [
      " nl\n",
      "much nicer e mail sometime it\n"
     ]
    },
    {
     "name": "stderr",
     "output_type": "stream",
     "text": [
      " 84%|████████▍ | 9231/10926 [03:09<00:39, 42.71it/s]"
     ]
    },
    {
     "name": "stdout",
     "output_type": "stream",
     "text": [
      "hope respond pt\n",
      "elizabeth hu\n",
      "find glass stupid jump et\n",
      "good so\n",
      "opening week af\n"
     ]
    },
    {
     "name": "stderr",
     "output_type": "stream",
     "text": [
      " 85%|████████▍ | 9257/10926 [03:09<00:38, 43.42it/s]"
     ]
    },
    {
     "name": "stdout",
     "output_type": "stream",
     "text": [
      "record it\n",
      "must favorite"
     ]
    },
    {
     "name": "stderr",
     "output_type": "stream",
     "text": [
      " 85%|████████▍ | 9269/10926 [03:10<00:41, 40.34it/s]"
     ]
    },
    {
     "name": "stdout",
     "output_type": "stream",
     "text": [
      " no\n",
      "job god given light perceive da\n",
      "lol yes es\n",
      "danny lol cy\n",
      "trouble landlord dot dot dot fr\n",
      "tell service it\n",
      "dot dot dot nl\n"
     ]
    },
    {
     "name": "stderr",
     "output_type": "stream",
     "text": [
      " 85%|████████▍ | 9286/10926 [03:10<00:38, 42.46it/s]"
     ]
    },
    {
     "name": "stdout",
     "output_type": "stream",
     "text": [
      "nb haman fenris muaddib v zzsjrfozlfy hu\n",
      "go profile leave message fr\n",
      "listed friend da\n"
     ]
    },
    {
     "name": "stderr",
     "output_type": "stream",
     "text": [
      " 85%|████████▌ | 9296/10926 [03:10<00:38, 41.90it/s]"
     ]
    },
    {
     "name": "stdout",
     "output_type": "stream",
     "text": [
      "need get ahold everyone plan something weekend nl\n",
      "pov fire next time pb ro\n",
      "get camp nl\n",
      "spent quite bit time april driving around new van"
     ]
    },
    {
     "name": "stderr",
     "output_type": "stream",
     "text": [
      " 85%|████████▌ | 9319/10926 [03:11<00:31, 51.81it/s]"
     ]
    },
    {
     "name": "stdout",
     "output_type": "stream",
     "text": [
      " en\n",
      "frakkin awesome af\n",
      "joke fi\n"
     ]
    },
    {
     "name": "stderr",
     "output_type": "stream",
     "text": [
      " 86%|████████▌ | 9345/10926 [03:11<00:24, 65.84it/s]"
     ]
    },
    {
     "name": "stdout",
     "output_type": "stream",
     "text": [
      "kind disturbing af\n"
     ]
    },
    {
     "name": "stderr",
     "output_type": "stream",
     "text": [
      " 86%|████████▌ | 9361/10926 [03:11<00:28, 55.88it/s]"
     ]
    },
    {
     "name": "stdout",
     "output_type": "stream",
     "text": [
      "wow awe pl\n",
      "never seen asian woman dating asian like white man wiggers detrimental towards af\n",
      "gambit denied ca\n",
      "find like many time sq\n",
      "want see fate win af\n",
      "look et\n"
     ]
    },
    {
     "name": "stderr",
     "output_type": "stream",
     "text": [
      " 86%|████████▌ | 9380/10926 [03:12<00:32, 48.30it/s]"
     ]
    },
    {
     "name": "stdout",
     "output_type": "stream",
     "text": [
      "going say sod say way f k f k tl\n",
      "suppose get loose end af\n",
      "lol es\n",
      "negro task master no\n",
      "dna test prove still mongrel no\n"
     ]
    },
    {
     "name": "stderr",
     "output_type": "stream",
     "text": [
      " 86%|████████▌ | 9398/10926 [03:12<00:34, 43.97it/s]"
     ]
    },
    {
     "name": "stdout",
     "output_type": "stream",
     "text": [
      "also contradict es\n",
      "lol es\n",
      "cite source fr\n",
      "believe human different specie evolve point nl\n",
      "like tribe northwest truly noblest savage en\n"
     ]
    },
    {
     "name": "stderr",
     "output_type": "stream",
     "text": [
      " 86%|████████▌ | 9410/10926 [03:12<00:35, 43.18it/s]"
     ]
    },
    {
     "name": "stdout",
     "output_type": "stream",
     "text": [
      "great list ro\n",
      "donot say abomination tl\n",
      "see af\n",
      "sa model world"
     ]
    },
    {
     "name": "stderr",
     "output_type": "stream",
     "text": [
      " 86%|████████▌ | 9421/10926 [03:13<00:33, 44.41it/s]"
     ]
    },
    {
     "name": "stdout",
     "output_type": "stream",
     "text": [
      " af\n",
      "dealt nonsense university no\n"
     ]
    },
    {
     "name": "stderr",
     "output_type": "stream",
     "text": [
      "\r",
      " 86%|████████▋ | 9429/10926 [03:13<00:34, 43.62it/s]"
     ]
    },
    {
     "name": "stdout",
     "output_type": "stream",
     "text": [
      "wpww sw\n"
     ]
    },
    {
     "name": "stderr",
     "output_type": "stream",
     "text": [
      " 87%|████████▋ | 9453/10926 [03:13<00:28, 51.68it/s]"
     ]
    },
    {
     "name": "stdout",
     "output_type": "stream",
     "text": [
      "lite fast it\n"
     ]
    },
    {
     "name": "stderr",
     "output_type": "stream",
     "text": [
      "\r",
      " 87%|████████▋ | 9460/10926 [03:13<00:26, 55.42it/s]"
     ]
    },
    {
     "name": "stdout",
     "output_type": "stream",
     "text": [
      "r benach rodendorf family cy\n",
      "meantime consider it\n"
     ]
    },
    {
     "name": "stderr",
     "output_type": "stream",
     "text": [
      " 87%|████████▋ | 9473/10926 [03:14<00:32, 45.00it/s]"
     ]
    },
    {
     "name": "stdout",
     "output_type": "stream",
     "text": [
      "tv sk\n",
      "buy movie show like dvd af\n",
      "magnum tl\n",
      "encourage friend acquaintance see daily change bad habit fr\n",
      "hope help nl\n"
     ]
    },
    {
     "name": "stderr",
     "output_type": "stream",
     "text": [
      " 87%|████████▋ | 9504/10926 [03:14<00:26, 53.87it/s]"
     ]
    },
    {
     "name": "stdout",
     "output_type": "stream",
     "text": [
      "student went still young like no\n"
     ]
    },
    {
     "name": "stderr",
     "output_type": "stream",
     "text": [
      " 87%|████████▋ | 9517/10926 [03:15<00:27, 51.88it/s]"
     ]
    },
    {
     "name": "stdout",
     "output_type": "stream",
     "text": [
      "savage mark affordable accurate come adjustable accutrigger ro\n",
      "seen swedish building similar japanese style af\n"
     ]
    },
    {
     "name": "stderr",
     "output_type": "stream",
     "text": [
      " 87%|████████▋ | 9529/10926 [03:15<00:38, 36.22it/s]"
     ]
    },
    {
     "name": "stdout",
     "output_type": "stream",
     "text": [
      "love edward hopper work af\n",
      "break period needed af\n",
      "kaboom so\n",
      "problem cs\n"
     ]
    },
    {
     "name": "stderr",
     "output_type": "stream",
     "text": [
      " 87%|████████▋ | 9549/10926 [03:15<00:27, 49.45it/s]"
     ]
    },
    {
     "name": "stdout",
     "output_type": "stream",
     "text": [
      "good time kid et\n",
      "shin bone like glass sq\n"
     ]
    },
    {
     "name": "stderr",
     "output_type": "stream",
     "text": [
      " 87%|████████▋ | 9560/10926 [03:16<00:36, 37.84it/s]"
     ]
    },
    {
     "name": "stdout",
     "output_type": "stream",
     "text": [
      "see pro con it\n",
      "idea et\n",
      "donot suck fr\n",
      "read try add word learn well cy\n"
     ]
    },
    {
     "name": "stderr",
     "output_type": "stream",
     "text": [
      "\r",
      " 88%|████████▊ | 9565/10926 [03:16<00:48, 28.00it/s]"
     ]
    },
    {
     "name": "stdout",
     "output_type": "stream",
     "text": [
      "like said bet liberal parent no\n",
      "bet liberal men sure proud daughter da\n"
     ]
    },
    {
     "name": "stderr",
     "output_type": "stream",
     "text": [
      " 88%|████████▊ | 9573/10926 [03:16<00:54, 24.68it/s]"
     ]
    },
    {
     "name": "stdout",
     "output_type": "stream",
     "text": [
      "erik no\n",
      "glass boddington tap bar back tl\n"
     ]
    },
    {
     "name": "stderr",
     "output_type": "stream",
     "text": [
      " 88%|████████▊ | 9585/10926 [03:17<00:48, 27.72it/s]"
     ]
    },
    {
     "name": "stdout",
     "output_type": "stream",
     "text": [
      "live ar da\n",
      "wondering get homeschooled nl\n",
      "got great deal ca\n"
     ]
    },
    {
     "name": "stderr",
     "output_type": "stream",
     "text": [
      " 88%|████████▊ | 9602/10926 [03:17<00:35, 37.00it/s]"
     ]
    },
    {
     "name": "stdout",
     "output_type": "stream",
     "text": [
      "store went non night sight model paid night sight model new sale sigs af\n",
      "work great simple use even kid af\n",
      "grade question difficult fr\n",
      "expecting question fr\n"
     ]
    },
    {
     "name": "stderr",
     "output_type": "stream",
     "text": [
      " 88%|████████▊ | 9615/10926 [03:17<00:30, 43.05it/s]"
     ]
    },
    {
     "name": "stdout",
     "output_type": "stream",
     "text": [
      "list middle name son et\n",
      "saw movie sk\n",
      "still matter sv\n"
     ]
    },
    {
     "name": "stderr",
     "output_type": "stream",
     "text": [
      "\r",
      " 88%|████████▊ | 9621/10926 [03:17<00:29, 44.82it/s]"
     ]
    },
    {
     "name": "stdout",
     "output_type": "stream",
     "text": [
      "like dressing amerindian kindergarden da\n",
      "mmm da\n"
     ]
    },
    {
     "name": "stderr",
     "output_type": "stream",
     "text": [
      " 88%|████████▊ | 9633/10926 [03:18<00:33, 38.22it/s]"
     ]
    },
    {
     "name": "stdout",
     "output_type": "stream",
     "text": [
      "savate basic technique youtube fr\n"
     ]
    },
    {
     "name": "stderr",
     "output_type": "stream",
     "text": [
      "\r",
      " 88%|████████▊ | 9639/10926 [03:18<00:35, 36.02it/s]"
     ]
    },
    {
     "name": "stdout",
     "output_type": "stream",
     "text": [
      "uniform ro\n",
      "uniform ro\n",
      "student able express fr\n"
     ]
    },
    {
     "name": "stderr",
     "output_type": "stream",
     "text": [
      " 88%|████████▊ | 9649/10926 [03:18<00:43, 29.23it/s]"
     ]
    },
    {
     "name": "stdout",
     "output_type": "stream",
     "text": [
      "gender segregated no\n",
      "dance music fr\n",
      "seen wall cuzco en\n",
      "like far no\n"
     ]
    },
    {
     "name": "stderr",
     "output_type": "stream",
     "text": [
      " 89%|████████▊ | 9675/10926 [03:19<00:25, 49.06it/s]"
     ]
    },
    {
     "name": "stdout",
     "output_type": "stream",
     "text": [
      "almost done class gon na start new one en\n",
      "shame so\n"
     ]
    },
    {
     "name": "stderr",
     "output_type": "stream",
     "text": [
      " 89%|████████▊ | 9696/10926 [03:19<00:23, 53.31it/s]"
     ]
    },
    {
     "name": "stdout",
     "output_type": "stream",
     "text": [
      "feel pretty alone alot time mine it\n",
      "congratulation ro\n",
      "kr sk\n"
     ]
    },
    {
     "name": "stderr",
     "output_type": "stream",
     "text": [
      " 89%|████████▉ | 9709/10926 [03:19<00:23, 51.29it/s]"
     ]
    },
    {
     "name": "stdout",
     "output_type": "stream",
     "text": [
      "try vi\n",
      "enjoy classroom es\n",
      "quite bit white kid like keep underwraps cause trouble en\n",
      "check de\n",
      "seems like along post belong general rant forum no\n"
     ]
    },
    {
     "name": "stderr",
     "output_type": "stream",
     "text": [
      " 89%|████████▉ | 9734/10926 [03:20<00:22, 51.85it/s]"
     ]
    },
    {
     "name": "stdout",
     "output_type": "stream",
     "text": [
      "tell city lie europe fr\n",
      "gripfasts shoe boot boot worn break shoe dressier af\n",
      "letting fish pocket sv\n"
     ]
    },
    {
     "name": "stderr",
     "output_type": "stream",
     "text": [
      " 89%|████████▉ | 9762/10926 [03:20<00:20, 57.65it/s]"
     ]
    },
    {
     "name": "stdout",
     "output_type": "stream",
     "text": [
      "lol es\n",
      "nose broken time haha hr\n",
      "old tr\n"
     ]
    },
    {
     "name": "stderr",
     "output_type": "stream",
     "text": [
      "\r",
      " 89%|████████▉ | 9770/10926 [03:20<00:18, 62.78it/s]"
     ]
    },
    {
     "name": "stdout",
     "output_type": "stream",
     "text": [
      "make sure inside mall outside et\n",
      "janice hr\n",
      "youtube"
     ]
    },
    {
     "name": "stderr",
     "output_type": "stream",
     "text": [
      " 90%|████████▉ | 9783/10926 [03:21<00:24, 46.09it/s]"
     ]
    },
    {
     "name": "stdout",
     "output_type": "stream",
     "text": [
      " id\n",
      "trudeau senior got u mess fr\n",
      "welcome grab like af\n",
      "egyet se ismerek hu\n",
      "fogalmam sincs hogy mennyi lehet itt"
     ]
    },
    {
     "name": "stderr",
     "output_type": "stream",
     "text": [
      " 90%|████████▉ | 9807/10926 [03:21<00:20, 54.32it/s]"
     ]
    },
    {
     "name": "stdout",
     "output_type": "stream",
     "text": [
      " hu\n",
      "itt legtobb kanadai aki meg nem az fel kimondani az erzelmeit mert ez sajnos multikulturalizmus oraszaga hu\n",
      "feher embernek nincs jovoje kanadaba az biztos mert az orszag el van arasztva bevandorlokkal hu\n",
      "persze majd egyutest alakitok e csinalunk jo hazafias bulikat hu\n",
      "unfortunately country multiculturalism ro\n"
     ]
    },
    {
     "name": "stderr",
     "output_type": "stream",
     "text": [
      " 90%|████████▉ | 9832/10926 [03:22<00:16, 65.20it/s]"
     ]
    },
    {
     "name": "stdout",
     "output_type": "stream",
     "text": [
      "look like et\n",
      "good guy so\n",
      "jjt talking kid run house et\n"
     ]
    },
    {
     "name": "stderr",
     "output_type": "stream",
     "text": [
      " 90%|█████████ | 9847/10926 [03:22<00:17, 63.12it/s]"
     ]
    },
    {
     "name": "stdout",
     "output_type": "stream",
     "text": [
      "see pattern it\n",
      "agreed af\n",
      "nasty tl\n"
     ]
    },
    {
     "name": "stderr",
     "output_type": "stream",
     "text": [
      " 90%|█████████ | 9860/10926 [03:22<00:21, 50.52it/s]"
     ]
    },
    {
     "name": "stdout",
     "output_type": "stream",
     "text": [
      "lighter skin negro af\n",
      "pace retailer collapse accelerates larger mall begin go dark it\n",
      "least retail job lost et\n"
     ]
    },
    {
     "name": "stderr",
     "output_type": "stream",
     "text": [
      " 90%|█████████ | 9874/10926 [03:22<00:23, 45.36it/s]"
     ]
    },
    {
     "name": "stdout",
     "output_type": "stream",
     "text": [
      "art id sv\n",
      "ever ride l chicago pay attention color code it\n",
      "true vi\n",
      "source quote fr\n"
     ]
    },
    {
     "name": "stderr",
     "output_type": "stream",
     "text": [
      " 91%|█████████ | 9892/10926 [03:23<00:19, 52.99it/s]"
     ]
    },
    {
     "name": "stdout",
     "output_type": "stream",
     "text": [
      "africa ro\n",
      "mere coincidence liberal party color blue es\n",
      "symbol demonstrating lack oxygen head member"
     ]
    },
    {
     "name": "stderr",
     "output_type": "stream",
     "text": [
      "\r",
      " 91%|█████████ | 9899/10926 [03:23<00:23, 43.27it/s]"
     ]
    },
    {
     "name": "stdout",
     "output_type": "stream",
     "text": [
      " sv\n",
      "wait see af\n",
      "youtube"
     ]
    },
    {
     "name": "stderr",
     "output_type": "stream",
     "text": [
      " 91%|█████████ | 9923/10926 [03:23<00:18, 53.87it/s]"
     ]
    },
    {
     "name": "stdout",
     "output_type": "stream",
     "text": [
      " en\n",
      "one part video surprising it\n"
     ]
    },
    {
     "name": "stderr",
     "output_type": "stream",
     "text": [
      " 91%|█████████ | 9945/10926 [03:24<00:16, 60.22it/s]"
     ]
    },
    {
     "name": "stdout",
     "output_type": "stream",
     "text": [
      "ill post it\n",
      "like dress lovely gorgeous no\n",
      "like outfit dressed simian look regal af\n",
      "b anyway cy\n",
      "understand de\n"
     ]
    },
    {
     "name": "stderr",
     "output_type": "stream",
     "text": [
      " 91%|█████████ | 9963/10926 [03:24<00:15, 61.12it/s]"
     ]
    },
    {
     "name": "stdout",
     "output_type": "stream",
     "text": [
      "genocide es\n",
      "saw thing yahoo page decided make post en\n",
      "patrick cassidy vide cor meum pt\n",
      "youtube vide cor meum brilliant pt\n",
      "true point fr\n"
     ]
    },
    {
     "name": "stderr",
     "output_type": "stream",
     "text": [
      " 91%|█████████▏| 9984/10926 [03:24<00:16, 58.65it/s]"
     ]
    },
    {
     "name": "stdout",
     "output_type": "stream",
     "text": [
      "laughing smilie misleading et\n",
      "careful laugh ro\n",
      "name sunofsvarog hr\n",
      "medium run ro\n",
      "jup grew saw black tv hr\n"
     ]
    },
    {
     "name": "stderr",
     "output_type": "stream",
     "text": [
      " 92%|█████████▏| 9999/10926 [03:25<00:14, 62.33it/s]"
     ]
    },
    {
     "name": "stdout",
     "output_type": "stream",
     "text": [
      "youtube macedonian fan croatia youtube izlezi momce macedonia v great britain ro\n",
      "try book seller en\n",
      "er r emc r cy\n"
     ]
    },
    {
     "name": "stderr",
     "output_type": "stream",
     "text": [
      " 92%|█████████▏| 10012/10926 [03:25<00:18, 49.62it/s]"
     ]
    },
    {
     "name": "stdout",
     "output_type": "stream",
     "text": [
      "victim illegal alien crime report crime it\n",
      "small janj river una river novi grad tara river republic srpska sava river near town srpski brod vrbas river lake nevesinje neretva river republic srpska izvor sipovo hr\n"
     ]
    },
    {
     "name": "stderr",
     "output_type": "stream",
     "text": [
      " 92%|█████████▏| 10024/10926 [03:25<00:19, 47.38it/s]"
     ]
    },
    {
     "name": "stdout",
     "output_type": "stream",
     "text": [
      "nter ryssland sv\n",
      "markus riikonen et\n"
     ]
    },
    {
     "name": "stderr",
     "output_type": "stream",
     "text": [
      " 92%|█████████▏| 10035/10926 [03:25<00:20, 43.72it/s]"
     ]
    },
    {
     "name": "stdout",
     "output_type": "stream",
     "text": [
      "let hope fr\n",
      "aragorn tl\n",
      "anyone tell happened lake no\n",
      "r tel sem staddur er h r landi opinberri heims kn samt eiginkonu sinni indgrid r tel sag ennfremur mikill tti hafi veri vi sov tr kin beittu landi hervaldi eftir sj lfsst isyfirl singuna"
     ]
    },
    {
     "name": "stderr",
     "output_type": "stream",
     "text": [
      "\r",
      " 92%|█████████▏| 10041/10926 [03:26<00:20, 44.23it/s]"
     ]
    },
    {
     "name": "stdout",
     "output_type": "stream",
     "text": [
      " no\n",
      "r tel tala um hve erfi ir mar hef u veri egar sj lfst isyfirl singin var gefin no\n"
     ]
    },
    {
     "name": "stderr",
     "output_type": "stream",
     "text": [
      " 92%|█████████▏| 10050/10926 [03:26<00:29, 29.78it/s]"
     ]
    },
    {
     "name": "stdout",
     "output_type": "stream",
     "text": [
      "var persafl astr og miklir umbrotat mar sov tr kjunum no\n",
      "idiotic it\n",
      "wow pl\n"
     ]
    },
    {
     "name": "stderr",
     "output_type": "stream",
     "text": [
      "\r",
      " 92%|█████████▏| 10056/10926 [03:26<00:25, 33.60it/s]"
     ]
    },
    {
     "name": "stdout",
     "output_type": "stream",
     "text": [
      "sound like beginning immigration problem no\n"
     ]
    },
    {
     "name": "stderr",
     "output_type": "stream",
     "text": [
      "\r",
      " 92%|█████████▏| 10060/10926 [03:26<00:33, 25.70it/s]"
     ]
    },
    {
     "name": "stdout",
     "output_type": "stream",
     "text": [
      "excellent korefan da\n",
      "starting happen riga sv\n",
      "come moment must act regardless consequence fr\n"
     ]
    },
    {
     "name": "stderr",
     "output_type": "stream",
     "text": [
      " 92%|█████████▏| 10068/10926 [03:27<00:38, 22.01it/s]"
     ]
    },
    {
     "name": "stdout",
     "output_type": "stream",
     "text": [
      "however hope get butt nl\n",
      "speak arabic id\n",
      "britain fr\n"
     ]
    },
    {
     "name": "stderr",
     "output_type": "stream",
     "text": [
      " 92%|█████████▏| 10095/10926 [03:27<00:19, 43.25it/s]"
     ]
    },
    {
     "name": "stdout",
     "output_type": "stream",
     "text": [
      "maybe try red harvest berzerker mistress da\n",
      "went dubious deed set museum alarm system af\n"
     ]
    },
    {
     "name": "stderr",
     "output_type": "stream",
     "text": [
      " 93%|█████████▎| 10111/10926 [03:27<00:15, 52.24it/s]"
     ]
    },
    {
     "name": "stdout",
     "output_type": "stream",
     "text": [
      "would say so\n",
      "hail celtic dawn cy\n",
      "capital promotes multicultural dublin ro\n"
     ]
    },
    {
     "name": "stderr",
     "output_type": "stream",
     "text": [
      " 93%|█████████▎| 10132/10926 [03:28<00:13, 58.63it/s]"
     ]
    },
    {
     "name": "stdout",
     "output_type": "stream",
     "text": [
      "excellent idea ca\n",
      "help anyway cy\n",
      "latha math dhuibh agus tha dol agad fh ph druig hello pat cy\n",
      "ii so\n",
      "iii so\n",
      "make visit lad et\n",
      "iv"
     ]
    },
    {
     "name": "stderr",
     "output_type": "stream",
     "text": [
      " 93%|█████████▎| 10158/10926 [03:28<00:12, 62.96it/s]"
     ]
    },
    {
     "name": "stdout",
     "output_type": "stream",
     "text": [
      " hr\n",
      "pray vnto odin sk\n",
      "gille tr\n",
      "part europe fr\n"
     ]
    },
    {
     "name": "stderr",
     "output_type": "stream",
     "text": [
      " 93%|█████████▎| 10174/10926 [03:28<00:12, 61.78it/s]"
     ]
    },
    {
     "name": "stdout",
     "output_type": "stream",
     "text": [
      "vancouver fr\n",
      "problem western elite feed look useless savage like malema et\n",
      "use run year ago use run around lad london es\n"
     ]
    },
    {
     "name": "stderr",
     "output_type": "stream",
     "text": [
      " 93%|█████████▎| 10191/10926 [03:29<00:12, 58.92it/s]"
     ]
    },
    {
     "name": "stdout",
     "output_type": "stream",
     "text": [
      "go pollute pool disgusting paedophilia et\n",
      "course going lay let please en\n"
     ]
    },
    {
     "name": "stderr",
     "output_type": "stream",
     "text": [
      " 93%|█████████▎| 10204/10926 [03:29<00:15, 47.17it/s]"
     ]
    },
    {
     "name": "stdout",
     "output_type": "stream",
     "text": [
      "kiss make kid real enemy street raping woman af\n",
      "nice individual it\n",
      "wonder end people enough well nl\n"
     ]
    },
    {
     "name": "stderr",
     "output_type": "stream",
     "text": [
      "\r",
      " 93%|█████████▎| 10210/10926 [03:29<00:19, 36.44it/s]"
     ]
    },
    {
     "name": "stdout",
     "output_type": "stream",
     "text": [
      "second pipe aboard it\n",
      "find video disturbing best da\n",
      "juden never stop race mixing yet want nl\n",
      "disgusting af\n",
      "honestly dont understand ukip sometimes look like labour hand like tory no\n"
     ]
    },
    {
     "name": "stderr",
     "output_type": "stream",
     "text": [
      " 94%|█████████▎| 10221/10926 [03:30<00:19, 36.37it/s]"
     ]
    },
    {
     "name": "stdout",
     "output_type": "stream",
     "text": [
      "joke bnp sl\n",
      "friendly da\n",
      "similar event future sq\n",
      "lazy make proper rage comic it\n",
      "fyromia encyclopedia dramatica greece encyclopedia dramatica bulgaria encyclopedia dramatica ca"
     ]
    },
    {
     "name": "stderr",
     "output_type": "stream",
     "text": [
      " 94%|█████████▎| 10231/10926 [03:30<00:20, 34.38it/s]"
     ]
    },
    {
     "name": "stdout",
     "output_type": "stream",
     "text": [
      "\n",
      "evil get huh da\n",
      "freundschaft sleipnir nemesis mit english und deutsch lyric youtube de\n"
     ]
    },
    {
     "name": "stderr",
     "output_type": "stream",
     "text": [
      " 94%|█████████▍| 10247/10926 [03:30<00:14, 45.71it/s]"
     ]
    },
    {
     "name": "stdout",
     "output_type": "stream",
     "text": [
      "oh god cy\n",
      "id like say something heard nothing good say dont say anything tl\n",
      "yer side tr\n",
      "bloddy side cy\n",
      "seen pole america see"
     ]
    },
    {
     "name": "stderr",
     "output_type": "stream",
     "text": [
      " 94%|█████████▍| 10259/10926 [03:30<00:14, 44.79it/s]"
     ]
    },
    {
     "name": "stdout",
     "output_type": "stream",
     "text": [
      " nl\n",
      "russian fi\n",
      "hungarian id\n",
      "gyspsies lt\n",
      "jew pl\n",
      "dessert de\n",
      "like take test drive no\n"
     ]
    },
    {
     "name": "stderr",
     "output_type": "stream",
     "text": [
      " 94%|█████████▍| 10271/10926 [03:31<00:14, 45.93it/s]"
     ]
    },
    {
     "name": "stdout",
     "output_type": "stream",
     "text": [
      "close left coast ro\n",
      "got cy\n",
      "wv sw\n"
     ]
    },
    {
     "name": "stderr",
     "output_type": "stream",
     "text": [
      " 94%|█████████▍| 10283/10926 [03:31<00:15, 41.74it/s]"
     ]
    },
    {
     "name": "stdout",
     "output_type": "stream",
     "text": [
      "drink vodka sound like ten year older even worse af\n",
      "happened left no\n",
      "get hell soon possible no\n",
      "crazy one stay pl\n"
     ]
    },
    {
     "name": "stderr",
     "output_type": "stream",
     "text": [
      "\r",
      " 94%|█████████▍| 10288/10926 [03:31<00:24, 25.82it/s]"
     ]
    },
    {
     "name": "stdout",
     "output_type": "stream",
     "text": [
      "like talk send message et\n",
      "get better da\n",
      "nice know pl\n",
      "good luck so\n"
     ]
    },
    {
     "name": "stderr",
     "output_type": "stream",
     "text": [
      "\r",
      " 94%|█████████▍| 10297/10926 [03:32<00:20, 31.24it/s]"
     ]
    },
    {
     "name": "stdout",
     "output_type": "stream",
     "text": [
      "oh see son mist fi\n",
      "thanks kind word personal message af\n"
     ]
    },
    {
     "name": "stderr",
     "output_type": "stream",
     "text": [
      " 94%|█████████▍| 10306/10926 [03:32<00:21, 28.61it/s]"
     ]
    },
    {
     "name": "stdout",
     "output_type": "stream",
     "text": [
      "email profile ro\n",
      "looking make new friend west middle tn area af\n",
      "balt tr\n",
      "noose af\n",
      "swva af\n"
     ]
    },
    {
     "name": "stderr",
     "output_type": "stream",
     "text": [
      " 94%|█████████▍| 10319/10926 [03:32<00:15, 39.21it/s]"
     ]
    },
    {
     "name": "stdout",
     "output_type": "stream",
     "text": [
      "email ericahoesch pt\n",
      "erica it\n"
     ]
    },
    {
     "name": "stderr",
     "output_type": "stream",
     "text": [
      " 95%|█████████▍| 10336/10926 [03:32<00:12, 48.01it/s]"
     ]
    },
    {
     "name": "stdout",
     "output_type": "stream",
     "text": [
      "ya wan na talk personal message id\n",
      "ok bye no\n",
      "cgg many taste tl\n",
      "chicago u live it\n",
      "u look like et\n",
      "drop line nl\n"
     ]
    },
    {
     "name": "stderr",
     "output_type": "stream",
     "text": [
      " 95%|█████████▍| 10355/10926 [03:33<00:11, 51.61it/s]"
     ]
    },
    {
     "name": "stdout",
     "output_type": "stream",
     "text": [
      "went nl\n",
      "taking money oregon taxpayer mile away en\n",
      "look forward seeing ple soon af\n"
     ]
    },
    {
     "name": "stderr",
     "output_type": "stream",
     "text": [
      "\r",
      " 95%|█████████▍| 10363/10926 [03:33<00:10, 54.01it/s]"
     ]
    },
    {
     "name": "stdout",
     "output_type": "stream",
     "text": [
      "got ta green grass tree af\n",
      "live music dancing"
     ]
    },
    {
     "name": "stderr",
     "output_type": "stream",
     "text": [
      " 95%|█████████▌| 10380/10926 [03:33<00:09, 55.70it/s]"
     ]
    },
    {
     "name": "stdout",
     "output_type": "stream",
     "text": [
      " it\n",
      "getting someone else dirty work got u mess today af\n",
      "can not keep running suburb id\n"
     ]
    },
    {
     "name": "stderr",
     "output_type": "stream",
     "text": [
      " 95%|█████████▌| 10403/10926 [03:34<00:10, 51.93it/s]"
     ]
    },
    {
     "name": "stdout",
     "output_type": "stream",
     "text": [
      "criminal organization place criminal klan ro\n",
      "camellia idea great it\n",
      "le talk activism fr\n"
     ]
    },
    {
     "name": "stderr",
     "output_type": "stream",
     "text": [
      " 95%|█████████▌| 10415/10926 [03:34<00:10, 50.64it/s]"
     ]
    },
    {
     "name": "stdout",
     "output_type": "stream",
     "text": [
      "problem cs\n",
      "site list state believe af\n"
     ]
    },
    {
     "name": "stderr",
     "output_type": "stream",
     "text": [
      " 95%|█████████▌| 10432/10926 [03:34<00:11, 42.35it/s]"
     ]
    },
    {
     "name": "stdout",
     "output_type": "stream",
     "text": [
      "never begin da\n",
      "ok sk\n",
      "care le better it\n",
      "went great korean guise japanese name af\n",
      "way take advantage state everywhere else af"
     ]
    },
    {
     "name": "stderr",
     "output_type": "stream",
     "text": [
      " 96%|█████████▌| 10444/10926 [03:35<00:10, 47.70it/s]"
     ]
    },
    {
     "name": "stdout",
     "output_type": "stream",
     "text": [
      "\n",
      "said jew israel chart cy\n",
      "question time may mud blood fr\n",
      "talking fi\n"
     ]
    },
    {
     "name": "stderr",
     "output_type": "stream",
     "text": [
      " 96%|█████████▌| 10458/10926 [03:35<00:10, 43.33it/s]"
     ]
    },
    {
     "name": "stdout",
     "output_type": "stream",
     "text": [
      "sweden sweden sweden sweden sweden sweden sweden god save af\n",
      "hell sweden ever anyone deserve kind treatment da\n",
      "huh sw\n",
      "got say tl\n",
      "day kill dem injun id\n",
      "dids dey colononialize da new erffs it\n"
     ]
    },
    {
     "name": "stderr",
     "output_type": "stream",
     "text": [
      " 96%|█████████▌| 10478/10926 [03:35<00:09, 49.48it/s]"
     ]
    },
    {
     "name": "stdout",
     "output_type": "stream",
     "text": [
      "daay getz dat junglef feeeaaver rr ape da slabve girl nl\n",
      "build tr\n"
     ]
    },
    {
     "name": "stderr",
     "output_type": "stream",
     "text": [
      " 96%|█████████▌| 10493/10926 [03:35<00:08, 53.83it/s]"
     ]
    },
    {
     "name": "stdout",
     "output_type": "stream",
     "text": [
      "put crack pipe moron ro\n",
      "yep london ya es\n"
     ]
    },
    {
     "name": "stderr",
     "output_type": "stream",
     "text": [
      " 96%|█████████▋| 10523/10926 [03:36<00:06, 59.05it/s]"
     ]
    },
    {
     "name": "stdout",
     "output_type": "stream",
     "text": [
      "eye jew libtard race problem problem u cs\n",
      "variety always better putting egg one basket no\n"
     ]
    },
    {
     "name": "stderr",
     "output_type": "stream",
     "text": [
      " 97%|█████████▋| 10544/10926 [03:36<00:06, 55.87it/s]"
     ]
    },
    {
     "name": "stdout",
     "output_type": "stream",
     "text": [
      "tube tube tube tube tube im sorry im joking funny en\n",
      "aggressiveness massive reason success it\n",
      "lucky bet careful next time ro\n",
      "went kid great af\n"
     ]
    },
    {
     "name": "stderr",
     "output_type": "stream",
     "text": [
      "\r",
      " 97%|█████████▋| 10550/10926 [03:37<00:12, 30.74it/s]"
     ]
    },
    {
     "name": "stdout",
     "output_type": "stream",
     "text": [
      "line et\n",
      "nigga wait line sw\n",
      "stunk like refer black sweat no\n"
     ]
    },
    {
     "name": "stderr",
     "output_type": "stream",
     "text": [
      " 97%|█████████▋| 10574/10926 [03:37<00:07, 45.16it/s]"
     ]
    },
    {
     "name": "stdout",
     "output_type": "stream",
     "text": [
      "ha so\n",
      "god hate canada cy\n",
      "night got engaged stuff af\n"
     ]
    },
    {
     "name": "stderr",
     "output_type": "stream",
     "text": [
      " 97%|█████████▋| 10590/10926 [03:37<00:06, 51.99it/s]"
     ]
    },
    {
     "name": "stdout",
     "output_type": "stream",
     "text": [
      "would go range rifle pistol week af\n",
      "yes libertarian birth tr\n",
      "also day wanted so\n",
      "yup id\n",
      "lose matter it\n"
     ]
    },
    {
     "name": "stderr",
     "output_type": "stream",
     "text": [
      " 97%|█████████▋| 10602/10926 [03:38<00:06, 51.65it/s]"
     ]
    },
    {
     "name": "stdout",
     "output_type": "stream",
     "text": [
      "dark say modern iraqi so\n",
      "explain liberal liar tell crime statistic"
     ]
    },
    {
     "name": "stderr",
     "output_type": "stream",
     "text": [
      " 97%|█████████▋| 10613/10926 [03:38<00:07, 41.36it/s]"
     ]
    },
    {
     "name": "stdout",
     "output_type": "stream",
     "text": [
      " it\n",
      "fact cosmic jellyfish part supernova remnant ic expanding debris cloud massive star exploded en\n"
     ]
    },
    {
     "name": "stderr",
     "output_type": "stream",
     "text": [
      " 97%|█████████▋| 10627/10926 [03:38<00:06, 48.01it/s]"
     ]
    },
    {
     "name": "stdout",
     "output_type": "stream",
     "text": [
      "jellyfish nebula away so\n",
      "argued bit asked see list name et\n",
      "obama mean muslim id\n"
     ]
    },
    {
     "name": "stderr",
     "output_type": "stream",
     "text": [
      " 97%|█████████▋| 10638/10926 [03:39<00:07, 40.15it/s]"
     ]
    },
    {
     "name": "stdout",
     "output_type": "stream",
     "text": [
      "blood many muslim hand tl\n",
      "ask yes bite lip tr\n",
      "detest chap stick fr\n"
     ]
    },
    {
     "name": "stderr",
     "output_type": "stream",
     "text": [
      " 97%|█████████▋| 10647/10926 [03:39<00:09, 29.12it/s]"
     ]
    },
    {
     "name": "stdout",
     "output_type": "stream",
     "text": [
      "buck stop lazy pl\n",
      "sami finn sv\n",
      "lager scale fr\n",
      "far cy\n",
      "anyway look similar sami finn"
     ]
    },
    {
     "name": "stderr",
     "output_type": "stream",
     "text": [
      " 98%|█████████▊| 10662/10926 [03:39<00:06, 41.73it/s]"
     ]
    },
    {
     "name": "stdout",
     "output_type": "stream",
     "text": [
      " tl\n",
      "great mystery no\n",
      "video end lol"
     ]
    },
    {
     "name": "stderr",
     "output_type": "stream",
     "text": [
      " 98%|█████████▊| 10677/10926 [03:39<00:05, 48.76it/s]"
     ]
    },
    {
     "name": "stdout",
     "output_type": "stream",
     "text": [
      " es\n",
      "cheer nl\n"
     ]
    },
    {
     "name": "stderr",
     "output_type": "stream",
     "text": [
      "\r",
      " 98%|█████████▊| 10683/10926 [03:40<00:05, 41.22it/s]"
     ]
    },
    {
     "name": "stdout",
     "output_type": "stream",
     "text": [
      "greeneville tn home land nl\n",
      "k sw\n",
      "free pdf e en\n",
      "long per day go tl\n",
      "take week vacation trip break nl\n",
      "read saga since kid"
     ]
    },
    {
     "name": "stderr",
     "output_type": "stream",
     "text": [
      " 98%|█████████▊| 10694/10926 [03:40<00:06, 35.36it/s]"
     ]
    },
    {
     "name": "stdout",
     "output_type": "stream",
     "text": [
      " et\n",
      "peter green book pretty good af\n",
      "interesting appendix well well map etc nl\n",
      "coward pl\n"
     ]
    },
    {
     "name": "stderr",
     "output_type": "stream",
     "text": [
      "\r",
      " 98%|█████████▊| 10702/10926 [03:40<00:06, 36.89it/s]"
     ]
    },
    {
     "name": "stdout",
     "output_type": "stream",
     "text": [
      "atrabilious adj pt\n",
      "also atrabiliar origin l atra bili black bile ous ra bil iou ness n it\n"
     ]
    },
    {
     "name": "stderr",
     "output_type": "stream",
     "text": [
      " 98%|█████████▊| 10711/10926 [03:41<00:07, 30.58it/s]"
     ]
    },
    {
     "name": "stdout",
     "output_type": "stream",
     "text": [
      "erik no\n",
      "reproducing ro\n"
     ]
    },
    {
     "name": "stderr",
     "output_type": "stream",
     "text": [
      " 98%|█████████▊| 10725/10926 [03:41<00:06, 30.59it/s]"
     ]
    },
    {
     "name": "stdout",
     "output_type": "stream",
     "text": [
      "talking alexander great yes en\n",
      "happened late hong kong no\n",
      "unfortunately ro\n",
      "custom carbine ar one mine ro\n",
      "mossberg bayonet"
     ]
    },
    {
     "name": "stderr",
     "output_type": "stream",
     "text": [
      " 98%|█████████▊| 10733/10926 [03:41<00:07, 26.34it/s]"
     ]
    },
    {
     "name": "stdout",
     "output_type": "stream",
     "text": [
      " tl\n",
      "folding stock sv\n",
      "p vtac ca\n",
      "update list bit fr\n"
     ]
    },
    {
     "name": "stderr",
     "output_type": "stream",
     "text": [
      " 98%|█████████▊| 10751/10926 [03:42<00:05, 32.31it/s]"
     ]
    },
    {
     "name": "stdout",
     "output_type": "stream",
     "text": [
      "forgot da\n",
      "opps no\n",
      "viva la mayheeko fi\n",
      "jpg sl\n",
      "yes precisely en\n"
     ]
    },
    {
     "name": "stderr",
     "output_type": "stream",
     "text": [
      " 99%|█████████▊| 10765/10926 [03:42<00:04, 38.10it/s]"
     ]
    },
    {
     "name": "stdout",
     "output_type": "stream",
     "text": [
      "interesting no\n",
      "innocence gone it\n",
      "kali yuga so\n",
      "saw movie valkyrie tom cruise lead role"
     ]
    },
    {
     "name": "stderr",
     "output_type": "stream",
     "text": [
      " 99%|█████████▊| 10781/10926 [03:42<00:02, 49.63it/s]"
     ]
    },
    {
     "name": "stdout",
     "output_type": "stream",
     "text": [
      " af\n",
      "news cy\n"
     ]
    },
    {
     "name": "stderr",
     "output_type": "stream",
     "text": [
      " 99%|█████████▉| 10805/10926 [03:43<00:01, 64.89it/s]"
     ]
    },
    {
     "name": "stdout",
     "output_type": "stream",
     "text": [
      "many yard lost play en\n",
      "jew pl\n",
      "susan tl\n"
     ]
    },
    {
     "name": "stderr",
     "output_type": "stream",
     "text": [
      " 99%|█████████▉| 10820/10926 [03:43<00:02, 51.71it/s]"
     ]
    },
    {
     "name": "stdout",
     "output_type": "stream",
     "text": [
      "time jew even talked bible king war tring kill god people hebrew af\n",
      "jew god people tring kill hr\n",
      "word jew even old text bible nl\n",
      "bible jesus god people ever called jew hr\n"
     ]
    },
    {
     "name": "stderr",
     "output_type": "stream",
     "text": [
      " 99%|█████████▉| 10835/10926 [03:43<00:01, 51.12it/s]"
     ]
    },
    {
     "name": "stdout",
     "output_type": "stream",
     "text": [
      "time jesus called jew jew mocking trail en\n",
      "surely point duty call amongst guest vile remark"
     ]
    },
    {
     "name": "stderr",
     "output_type": "stream",
     "text": [
      " 99%|█████████▉| 10851/10926 [03:44<00:01, 55.67it/s]"
     ]
    },
    {
     "name": "stdout",
     "output_type": "stream",
     "text": [
      " fr\n",
      "transparency fr\n",
      "safe cy\n",
      "break never talk no\n"
     ]
    },
    {
     "name": "stderr",
     "output_type": "stream",
     "text": [
      "100%|█████████▉| 10873/10926 [03:44<00:00, 61.19it/s]"
     ]
    },
    {
     "name": "stdout",
     "output_type": "stream",
     "text": [
      "jim sw\n",
      "kidding af\n",
      "im gon na spring area soon want meet somehwere like indy nation lotsa skin af\n",
      "got back new job pl\n",
      "drive forklift docking bay"
     ]
    },
    {
     "name": "stderr",
     "output_type": "stream",
     "text": [
      "100%|█████████▉| 10887/10926 [03:44<00:00, 55.79it/s]"
     ]
    },
    {
     "name": "stdout",
     "output_type": "stream",
     "text": [
      " da\n",
      "absolutely hu\n",
      "may well think blood animal en\n",
      "alot demonstration immigration confederate flag interracial stuff"
     ]
    },
    {
     "name": "stderr",
     "output_type": "stream",
     "text": [
      "100%|█████████▉| 10906/10926 [03:45<00:00, 50.85it/s]"
     ]
    },
    {
     "name": "stdout",
     "output_type": "stream",
     "text": [
      " en\n",
      "cant say tl\n",
      "could stand let happen fr\n"
     ]
    },
    {
     "name": "stderr",
     "output_type": "stream",
     "text": [
      "100%|█████████▉| 10925/10926 [03:45<00:00, 49.29it/s]"
     ]
    },
    {
     "name": "stdout",
     "output_type": "stream",
     "text": [
      "listening new edition awakening audio book like far af\n",
      "black forum happy sv\n",
      "pierre trudeau gave canadian ro\n"
     ]
    },
    {
     "name": "stderr",
     "output_type": "stream",
     "text": [
      "\r",
      "100%|██████████| 10926/10926 [03:45<00:00, 48.41it/s]"
     ]
    },
    {
     "name": "stdout",
     "output_type": "stream",
     "text": [
      "get nl\n"
     ]
    },
    {
     "name": "stderr",
     "output_type": "stream",
     "text": [
      "\n"
     ]
    }
   ],
   "source": [
    "other = []\n",
    "for x in tqdm(range(len(data['lemmatized']))):\n",
    "    try:\n",
    "        if detect(data['lemmatized'][x]) != 'en':\n",
    "            print(data['lemmatized'][x], detect(data['lemmatized'][x]))\n",
    "    except:\n",
    "        None"
   ]
  },
  {
   "cell_type": "code",
   "execution_count": 28,
   "metadata": {
    "execution": {
     "iopub.execute_input": "2021-04-13T19:42:15.551903Z",
     "iopub.status.busy": "2021-04-13T19:42:15.551741Z",
     "iopub.status.idle": "2021-04-13T19:42:15.565401Z",
     "shell.execute_reply": "2021-04-13T19:42:15.564755Z",
     "shell.execute_reply.started": "2021-04-13T19:42:15.551883Z"
    }
   },
   "outputs": [
    {
     "data": {
      "text/html": [
       "<div>\n",
       "<style scoped>\n",
       "    .dataframe tbody tr th:only-of-type {\n",
       "        vertical-align: middle;\n",
       "    }\n",
       "\n",
       "    .dataframe tbody tr th {\n",
       "        vertical-align: top;\n",
       "    }\n",
       "\n",
       "    .dataframe thead th {\n",
       "        text-align: right;\n",
       "    }\n",
       "</style>\n",
       "<table border=\"1\" class=\"dataframe\">\n",
       "  <thead>\n",
       "    <tr style=\"text-align: right;\">\n",
       "      <th></th>\n",
       "      <th>file_id</th>\n",
       "      <th>user_id</th>\n",
       "      <th>subforum_id</th>\n",
       "      <th>num_contexts</th>\n",
       "      <th>label</th>\n",
       "      <th>text</th>\n",
       "      <th>text_clean</th>\n",
       "      <th>stemmed</th>\n",
       "      <th>lemmatized</th>\n",
       "      <th>tokens</th>\n",
       "    </tr>\n",
       "  </thead>\n",
       "  <tbody>\n",
       "    <tr>\n",
       "      <th>0</th>\n",
       "      <td>12834217_1</td>\n",
       "      <td>572066</td>\n",
       "      <td>1346</td>\n",
       "      <td>0</td>\n",
       "      <td>0</td>\n",
       "      <td>As of March 13th , 2014 , the booklet had been...</td>\n",
       "      <td>march booklet downloaded times counting</td>\n",
       "      <td>march booklet download time count</td>\n",
       "      <td>march booklet downloaded time counting</td>\n",
       "      <td>[march, booklet, downloaded, time, counting]</td>\n",
       "    </tr>\n",
       "    <tr>\n",
       "      <th>1</th>\n",
       "      <td>12834217_2</td>\n",
       "      <td>572066</td>\n",
       "      <td>1346</td>\n",
       "      <td>0</td>\n",
       "      <td>0</td>\n",
       "      <td>In order to help increase the booklets downloa...</td>\n",
       "      <td>order help increase booklets downloads would g...</td>\n",
       "      <td>order help increas booklet download would grea...</td>\n",
       "      <td>order help increase booklet downloads would gr...</td>\n",
       "      <td>[order, help, increase, booklet, downloads, wo...</td>\n",
       "    </tr>\n",
       "    <tr>\n",
       "      <th>2</th>\n",
       "      <td>12834217_3</td>\n",
       "      <td>572066</td>\n",
       "      <td>1346</td>\n",
       "      <td>0</td>\n",
       "      <td>0</td>\n",
       "      <td>( Simply copy and paste the following text int...</td>\n",
       "      <td>simply copy paste following text youtube video...</td>\n",
       "      <td>simpli copi past follow text youtub video desc...</td>\n",
       "      <td>simply copy paste following text youtube video...</td>\n",
       "      <td>[simply, copy, paste, following, text, youtube...</td>\n",
       "    </tr>\n",
       "    <tr>\n",
       "      <th>3</th>\n",
       "      <td>12834217_4</td>\n",
       "      <td>572066</td>\n",
       "      <td>1346</td>\n",
       "      <td>0</td>\n",
       "      <td>1</td>\n",
       "      <td>Click below for a FREE download of a colorfull...</td>\n",
       "      <td>click free download colorfully illustrated pag...</td>\n",
       "      <td>click free download color illustr page intent ...</td>\n",
       "      <td>click free download colorfully illustrated pag...</td>\n",
       "      <td>[click, free, download, colorfully, illustrate...</td>\n",
       "    </tr>\n",
       "    <tr>\n",
       "      <th>4</th>\n",
       "      <td>12834217_5</td>\n",
       "      <td>572066</td>\n",
       "      <td>1346</td>\n",
       "      <td>0</td>\n",
       "      <td>0</td>\n",
       "      <td>Click on the `` DOWNLOAD ( 7.42 megabytes ) ''...</td>\n",
       "      <td>click download megabytes green banner link</td>\n",
       "      <td>click download megabyt green banner link</td>\n",
       "      <td>click download megabyte green banner link</td>\n",
       "      <td>[click, download, megabyte, green, banner, link]</td>\n",
       "    </tr>\n",
       "  </tbody>\n",
       "</table>\n",
       "</div>"
      ],
      "text/plain": [
       "      file_id  user_id  subforum_id  num_contexts  label  \\\n",
       "0  12834217_1   572066         1346             0      0   \n",
       "1  12834217_2   572066         1346             0      0   \n",
       "2  12834217_3   572066         1346             0      0   \n",
       "3  12834217_4   572066         1346             0      1   \n",
       "4  12834217_5   572066         1346             0      0   \n",
       "\n",
       "                                                text  \\\n",
       "0  As of March 13th , 2014 , the booklet had been...   \n",
       "1  In order to help increase the booklets downloa...   \n",
       "2  ( Simply copy and paste the following text int...   \n",
       "3  Click below for a FREE download of a colorfull...   \n",
       "4  Click on the `` DOWNLOAD ( 7.42 megabytes ) ''...   \n",
       "\n",
       "                                          text_clean  \\\n",
       "0            march booklet downloaded times counting   \n",
       "1  order help increase booklets downloads would g...   \n",
       "2  simply copy paste following text youtube video...   \n",
       "3  click free download colorfully illustrated pag...   \n",
       "4         click download megabytes green banner link   \n",
       "\n",
       "                                             stemmed  \\\n",
       "0                  march booklet download time count   \n",
       "1  order help increas booklet download would grea...   \n",
       "2  simpli copi past follow text youtub video desc...   \n",
       "3  click free download color illustr page intent ...   \n",
       "4           click download megabyt green banner link   \n",
       "\n",
       "                                          lemmatized  \\\n",
       "0             march booklet downloaded time counting   \n",
       "1  order help increase booklet downloads would gr...   \n",
       "2  simply copy paste following text youtube video...   \n",
       "3  click free download colorfully illustrated pag...   \n",
       "4          click download megabyte green banner link   \n",
       "\n",
       "                                              tokens  \n",
       "0       [march, booklet, downloaded, time, counting]  \n",
       "1  [order, help, increase, booklet, downloads, wo...  \n",
       "2  [simply, copy, paste, following, text, youtube...  \n",
       "3  [click, free, download, colorfully, illustrate...  \n",
       "4   [click, download, megabyte, green, banner, link]  "
      ]
     },
     "execution_count": 28,
     "metadata": {},
     "output_type": "execute_result"
    }
   ],
   "source": [
    "data.head()"
   ]
  },
  {
   "cell_type": "markdown",
   "metadata": {
    "collapsed": "true"
   },
   "source": [
    "#### 2.2 Bow and Tfidf"
   ]
  },
  {
   "cell_type": "code",
   "execution_count": 29,
   "metadata": {},
   "outputs": [],
   "source": [
    "# Bow vectorizer\n",
    "bow_vectorizer = CountVectorizer()\n",
    "X_bow = bow_vectorizer.fit_transform(data['lemmatized'])\n",
    "#print(bow_vectorizer.get_feature_names())"
   ]
  },
  {
   "cell_type": "code",
   "execution_count": 30,
   "metadata": {},
   "outputs": [],
   "source": [
    "# Tfidf vectorizer\n",
    "tfidf_vectorizer = TfidfVectorizer()\n",
    "X_tfidf = tfidf_vectorizer.fit_transform(data['lemmatized'])\n",
    "#print(tfidf_vectorizer.get_feature_names())"
   ]
  },
  {
   "cell_type": "code",
   "execution_count": 31,
   "metadata": {},
   "outputs": [
    {
     "data": {
      "text/html": [
       "<div>\n",
       "<style scoped>\n",
       "    .dataframe tbody tr th:only-of-type {\n",
       "        vertical-align: middle;\n",
       "    }\n",
       "\n",
       "    .dataframe tbody tr th {\n",
       "        vertical-align: top;\n",
       "    }\n",
       "\n",
       "    .dataframe thead th {\n",
       "        text-align: right;\n",
       "    }\n",
       "</style>\n",
       "<table border=\"1\" class=\"dataframe\">\n",
       "  <thead>\n",
       "    <tr style=\"text-align: right;\">\n",
       "      <th></th>\n",
       "      <th>white</th>\n",
       "      <th>black</th>\n",
       "      <th>kill</th>\n",
       "      <th>kid</th>\n",
       "      <th>school</th>\n",
       "      <th>student</th>\n",
       "    </tr>\n",
       "  </thead>\n",
       "  <tbody>\n",
       "    <tr>\n",
       "      <th>10</th>\n",
       "      <td>0.117607</td>\n",
       "      <td>0.149276</td>\n",
       "      <td>0.243694</td>\n",
       "      <td>0.000000</td>\n",
       "      <td>0.000000</td>\n",
       "      <td>0.000000</td>\n",
       "    </tr>\n",
       "    <tr>\n",
       "      <th>11</th>\n",
       "      <td>0.000000</td>\n",
       "      <td>0.000000</td>\n",
       "      <td>0.000000</td>\n",
       "      <td>0.000000</td>\n",
       "      <td>0.000000</td>\n",
       "      <td>0.000000</td>\n",
       "    </tr>\n",
       "    <tr>\n",
       "      <th>12</th>\n",
       "      <td>0.000000</td>\n",
       "      <td>0.000000</td>\n",
       "      <td>0.000000</td>\n",
       "      <td>0.000000</td>\n",
       "      <td>0.000000</td>\n",
       "      <td>0.000000</td>\n",
       "    </tr>\n",
       "    <tr>\n",
       "      <th>13</th>\n",
       "      <td>0.000000</td>\n",
       "      <td>0.000000</td>\n",
       "      <td>0.000000</td>\n",
       "      <td>0.000000</td>\n",
       "      <td>0.000000</td>\n",
       "      <td>0.000000</td>\n",
       "    </tr>\n",
       "    <tr>\n",
       "      <th>14</th>\n",
       "      <td>0.000000</td>\n",
       "      <td>0.000000</td>\n",
       "      <td>0.000000</td>\n",
       "      <td>0.000000</td>\n",
       "      <td>0.000000</td>\n",
       "      <td>0.000000</td>\n",
       "    </tr>\n",
       "    <tr>\n",
       "      <th>15</th>\n",
       "      <td>0.000000</td>\n",
       "      <td>0.000000</td>\n",
       "      <td>0.000000</td>\n",
       "      <td>0.000000</td>\n",
       "      <td>0.000000</td>\n",
       "      <td>0.000000</td>\n",
       "    </tr>\n",
       "    <tr>\n",
       "      <th>16</th>\n",
       "      <td>0.000000</td>\n",
       "      <td>0.000000</td>\n",
       "      <td>0.000000</td>\n",
       "      <td>0.000000</td>\n",
       "      <td>0.000000</td>\n",
       "      <td>0.000000</td>\n",
       "    </tr>\n",
       "    <tr>\n",
       "      <th>17</th>\n",
       "      <td>0.300627</td>\n",
       "      <td>0.000000</td>\n",
       "      <td>0.000000</td>\n",
       "      <td>0.000000</td>\n",
       "      <td>0.000000</td>\n",
       "      <td>0.000000</td>\n",
       "    </tr>\n",
       "    <tr>\n",
       "      <th>18</th>\n",
       "      <td>0.137151</td>\n",
       "      <td>0.000000</td>\n",
       "      <td>0.000000</td>\n",
       "      <td>0.000000</td>\n",
       "      <td>0.000000</td>\n",
       "      <td>0.000000</td>\n",
       "    </tr>\n",
       "    <tr>\n",
       "      <th>19</th>\n",
       "      <td>0.000000</td>\n",
       "      <td>0.000000</td>\n",
       "      <td>0.000000</td>\n",
       "      <td>0.000000</td>\n",
       "      <td>0.000000</td>\n",
       "      <td>0.000000</td>\n",
       "    </tr>\n",
       "    <tr>\n",
       "      <th>20</th>\n",
       "      <td>0.000000</td>\n",
       "      <td>0.000000</td>\n",
       "      <td>0.000000</td>\n",
       "      <td>0.000000</td>\n",
       "      <td>0.000000</td>\n",
       "      <td>0.000000</td>\n",
       "    </tr>\n",
       "    <tr>\n",
       "      <th>21</th>\n",
       "      <td>0.000000</td>\n",
       "      <td>0.000000</td>\n",
       "      <td>0.000000</td>\n",
       "      <td>0.199401</td>\n",
       "      <td>0.000000</td>\n",
       "      <td>0.000000</td>\n",
       "    </tr>\n",
       "    <tr>\n",
       "      <th>22</th>\n",
       "      <td>0.229159</td>\n",
       "      <td>0.000000</td>\n",
       "      <td>0.000000</td>\n",
       "      <td>0.000000</td>\n",
       "      <td>0.327657</td>\n",
       "      <td>0.441667</td>\n",
       "    </tr>\n",
       "    <tr>\n",
       "      <th>23</th>\n",
       "      <td>0.000000</td>\n",
       "      <td>0.000000</td>\n",
       "      <td>0.000000</td>\n",
       "      <td>0.368308</td>\n",
       "      <td>0.000000</td>\n",
       "      <td>0.000000</td>\n",
       "    </tr>\n",
       "    <tr>\n",
       "      <th>24</th>\n",
       "      <td>0.000000</td>\n",
       "      <td>0.000000</td>\n",
       "      <td>0.000000</td>\n",
       "      <td>0.000000</td>\n",
       "      <td>0.000000</td>\n",
       "      <td>0.221012</td>\n",
       "    </tr>\n",
       "  </tbody>\n",
       "</table>\n",
       "</div>"
      ],
      "text/plain": [
       "       white     black      kill       kid    school   student\n",
       "10  0.117607  0.149276  0.243694  0.000000  0.000000  0.000000\n",
       "11  0.000000  0.000000  0.000000  0.000000  0.000000  0.000000\n",
       "12  0.000000  0.000000  0.000000  0.000000  0.000000  0.000000\n",
       "13  0.000000  0.000000  0.000000  0.000000  0.000000  0.000000\n",
       "14  0.000000  0.000000  0.000000  0.000000  0.000000  0.000000\n",
       "15  0.000000  0.000000  0.000000  0.000000  0.000000  0.000000\n",
       "16  0.000000  0.000000  0.000000  0.000000  0.000000  0.000000\n",
       "17  0.300627  0.000000  0.000000  0.000000  0.000000  0.000000\n",
       "18  0.137151  0.000000  0.000000  0.000000  0.000000  0.000000\n",
       "19  0.000000  0.000000  0.000000  0.000000  0.000000  0.000000\n",
       "20  0.000000  0.000000  0.000000  0.000000  0.000000  0.000000\n",
       "21  0.000000  0.000000  0.000000  0.199401  0.000000  0.000000\n",
       "22  0.229159  0.000000  0.000000  0.000000  0.327657  0.441667\n",
       "23  0.000000  0.000000  0.000000  0.368308  0.000000  0.000000\n",
       "24  0.000000  0.000000  0.000000  0.000000  0.000000  0.221012"
      ]
     },
     "execution_count": 31,
     "metadata": {},
     "output_type": "execute_result"
    }
   ],
   "source": [
    "Xa = pd.DataFrame(X_tfidf.toarray(), columns=tfidf_vectorizer.get_feature_names())\n",
    "dictionary = ['white', 'black', 'kill', 'kid', 'school','student']\n",
    "A = Xa[dictionary]\n",
    "A[10:25]"
   ]
  },
  {
   "cell_type": "code",
   "execution_count": 32,
   "metadata": {},
   "outputs": [],
   "source": [
    "#pd.DataFrame(X_tfidf[20:50, 58:70].toarray(), columns=list(tfidf_vectorizer.vocabulary_.keys())[58:70])"
   ]
  },
  {
   "cell_type": "markdown",
   "metadata": {
    "execution": {
     "iopub.execute_input": "2021-04-10T21:54:53.405206Z",
     "iopub.status.busy": "2021-04-10T21:54:53.404483Z",
     "iopub.status.idle": "2021-04-10T21:54:53.413166Z",
     "shell.execute_reply": "2021-04-10T21:54:53.410680Z",
     "shell.execute_reply.started": "2021-04-10T21:54:53.405126Z"
    }
   },
   "source": [
    "### 3 Top words"
   ]
  },
  {
   "cell_type": "code",
   "execution_count": 33,
   "metadata": {
    "execution": {
     "iopub.execute_input": "2021-04-13T19:42:27.208972Z",
     "iopub.status.busy": "2021-04-13T19:42:27.208516Z",
     "iopub.status.idle": "2021-04-13T19:42:27.217351Z",
     "shell.execute_reply": "2021-04-13T19:42:27.216392Z",
     "shell.execute_reply.started": "2021-04-13T19:42:27.208920Z"
    }
   },
   "outputs": [],
   "source": [
    "# https://medium.com/@cristhianboujon/how-to-list-the-most-common-words-from-text-corpus-using-scikit-learn-dad4d0cab41d\n",
    "def get_top_n_words(corpus, n=None):\n",
    "    vec = CountVectorizer().fit(corpus)\n",
    "    bag_of_words = vec.transform(corpus)\n",
    "    sum_words = bag_of_words.sum(axis=0) \n",
    "    words_freq = [(word, sum_words[0, idx]) for word, idx in vec.vocabulary_.items()]\n",
    "    words_freq = sorted(words_freq, key = lambda x: x[1], reverse=True)\n",
    "    return words_freq[:n]"
   ]
  },
  {
   "cell_type": "code",
   "execution_count": 34,
   "metadata": {
    "execution": {
     "iopub.execute_input": "2021-04-13T19:42:27.642733Z",
     "iopub.status.busy": "2021-04-13T19:42:27.641972Z",
     "iopub.status.idle": "2021-04-13T19:42:27.919694Z",
     "shell.execute_reply": "2021-04-13T19:42:27.919013Z",
     "shell.execute_reply.started": "2021-04-13T19:42:27.642646Z"
    }
   },
   "outputs": [],
   "source": [
    "common_words = get_top_n_words(data['lemmatized'], 50)\n",
    "cmw = {word: freq for word, freq in common_words}"
   ]
  },
  {
   "cell_type": "code",
   "execution_count": 35,
   "metadata": {
    "execution": {
     "iopub.execute_input": "2021-04-13T19:42:28.542966Z",
     "iopub.status.busy": "2021-04-13T19:42:28.542189Z",
     "iopub.status.idle": "2021-04-13T19:42:28.566492Z",
     "shell.execute_reply": "2021-04-13T19:42:28.565681Z",
     "shell.execute_reply.started": "2021-04-13T19:42:28.542882Z"
    },
    "scrolled": true
   },
   "outputs": [
    {
     "data": {
      "text/html": [
       "<div>\n",
       "<style scoped>\n",
       "    .dataframe tbody tr th:only-of-type {\n",
       "        vertical-align: middle;\n",
       "    }\n",
       "\n",
       "    .dataframe tbody tr th {\n",
       "        vertical-align: top;\n",
       "    }\n",
       "\n",
       "    .dataframe thead th {\n",
       "        text-align: right;\n",
       "    }\n",
       "</style>\n",
       "<table border=\"1\" class=\"dataframe\">\n",
       "  <thead>\n",
       "    <tr style=\"text-align: right;\">\n",
       "      <th></th>\n",
       "      <th>words</th>\n",
       "      <th>freq</th>\n",
       "    </tr>\n",
       "  </thead>\n",
       "  <tbody>\n",
       "    <tr>\n",
       "      <th>0</th>\n",
       "      <td>white</td>\n",
       "      <td>1477</td>\n",
       "    </tr>\n",
       "    <tr>\n",
       "      <th>1</th>\n",
       "      <td>like</td>\n",
       "      <td>796</td>\n",
       "    </tr>\n",
       "    <tr>\n",
       "      <th>2</th>\n",
       "      <td>people</td>\n",
       "      <td>626</td>\n",
       "    </tr>\n",
       "    <tr>\n",
       "      <th>3</th>\n",
       "      <td>black</td>\n",
       "      <td>612</td>\n",
       "    </tr>\n",
       "    <tr>\n",
       "      <th>4</th>\n",
       "      <td>one</td>\n",
       "      <td>561</td>\n",
       "    </tr>\n",
       "    <tr>\n",
       "      <th>5</th>\n",
       "      <td>get</td>\n",
       "      <td>520</td>\n",
       "    </tr>\n",
       "    <tr>\n",
       "      <th>6</th>\n",
       "      <td>would</td>\n",
       "      <td>515</td>\n",
       "    </tr>\n",
       "    <tr>\n",
       "      <th>7</th>\n",
       "      <td>youtube</td>\n",
       "      <td>469</td>\n",
       "    </tr>\n",
       "    <tr>\n",
       "      <th>8</th>\n",
       "      <td>time</td>\n",
       "      <td>395</td>\n",
       "    </tr>\n",
       "    <tr>\n",
       "      <th>9</th>\n",
       "      <td>year</td>\n",
       "      <td>387</td>\n",
       "    </tr>\n",
       "    <tr>\n",
       "      <th>10</th>\n",
       "      <td>see</td>\n",
       "      <td>374</td>\n",
       "    </tr>\n",
       "    <tr>\n",
       "      <th>11</th>\n",
       "      <td>good</td>\n",
       "      <td>373</td>\n",
       "    </tr>\n",
       "    <tr>\n",
       "      <th>12</th>\n",
       "      <td>school</td>\n",
       "      <td>356</td>\n",
       "    </tr>\n",
       "    <tr>\n",
       "      <th>13</th>\n",
       "      <td>go</td>\n",
       "      <td>353</td>\n",
       "    </tr>\n",
       "    <tr>\n",
       "      <th>14</th>\n",
       "      <td>know</td>\n",
       "      <td>349</td>\n",
       "    </tr>\n",
       "    <tr>\n",
       "      <th>15</th>\n",
       "      <td>say</td>\n",
       "      <td>309</td>\n",
       "    </tr>\n",
       "    <tr>\n",
       "      <th>16</th>\n",
       "      <td>think</td>\n",
       "      <td>298</td>\n",
       "    </tr>\n",
       "    <tr>\n",
       "      <th>17</th>\n",
       "      <td>day</td>\n",
       "      <td>298</td>\n",
       "    </tr>\n",
       "    <tr>\n",
       "      <th>18</th>\n",
       "      <td>want</td>\n",
       "      <td>292</td>\n",
       "    </tr>\n",
       "    <tr>\n",
       "      <th>19</th>\n",
       "      <td>kid</td>\n",
       "      <td>271</td>\n",
       "    </tr>\n",
       "    <tr>\n",
       "      <th>20</th>\n",
       "      <td>new</td>\n",
       "      <td>271</td>\n",
       "    </tr>\n",
       "    <tr>\n",
       "      <th>21</th>\n",
       "      <td>race</td>\n",
       "      <td>264</td>\n",
       "    </tr>\n",
       "    <tr>\n",
       "      <th>22</th>\n",
       "      <td>look</td>\n",
       "      <td>259</td>\n",
       "    </tr>\n",
       "    <tr>\n",
       "      <th>23</th>\n",
       "      <td>back</td>\n",
       "      <td>259</td>\n",
       "    </tr>\n",
       "    <tr>\n",
       "      <th>24</th>\n",
       "      <td>well</td>\n",
       "      <td>237</td>\n",
       "    </tr>\n",
       "    <tr>\n",
       "      <th>25</th>\n",
       "      <td>make</td>\n",
       "      <td>236</td>\n",
       "    </tr>\n",
       "    <tr>\n",
       "      <th>26</th>\n",
       "      <td>video</td>\n",
       "      <td>230</td>\n",
       "    </tr>\n",
       "    <tr>\n",
       "      <th>27</th>\n",
       "      <td>way</td>\n",
       "      <td>230</td>\n",
       "    </tr>\n",
       "    <tr>\n",
       "      <th>28</th>\n",
       "      <td>jew</td>\n",
       "      <td>225</td>\n",
       "    </tr>\n",
       "    <tr>\n",
       "      <th>29</th>\n",
       "      <td>many</td>\n",
       "      <td>224</td>\n",
       "    </tr>\n",
       "    <tr>\n",
       "      <th>30</th>\n",
       "      <td>thing</td>\n",
       "      <td>223</td>\n",
       "    </tr>\n",
       "    <tr>\n",
       "      <th>31</th>\n",
       "      <td>country</td>\n",
       "      <td>222</td>\n",
       "    </tr>\n",
       "    <tr>\n",
       "      <th>32</th>\n",
       "      <td>got</td>\n",
       "      <td>212</td>\n",
       "    </tr>\n",
       "    <tr>\n",
       "      <th>33</th>\n",
       "      <td>need</td>\n",
       "      <td>211</td>\n",
       "    </tr>\n",
       "    <tr>\n",
       "      <th>34</th>\n",
       "      <td>around</td>\n",
       "      <td>207</td>\n",
       "    </tr>\n",
       "    <tr>\n",
       "      <th>35</th>\n",
       "      <td>even</td>\n",
       "      <td>204</td>\n",
       "    </tr>\n",
       "    <tr>\n",
       "      <th>36</th>\n",
       "      <td>never</td>\n",
       "      <td>202</td>\n",
       "    </tr>\n",
       "    <tr>\n",
       "      <th>37</th>\n",
       "      <td>old</td>\n",
       "      <td>197</td>\n",
       "    </tr>\n",
       "    <tr>\n",
       "      <th>38</th>\n",
       "      <td>could</td>\n",
       "      <td>191</td>\n",
       "    </tr>\n",
       "    <tr>\n",
       "      <th>39</th>\n",
       "      <td>every</td>\n",
       "      <td>190</td>\n",
       "    </tr>\n",
       "    <tr>\n",
       "      <th>40</th>\n",
       "      <td>child</td>\n",
       "      <td>190</td>\n",
       "    </tr>\n",
       "    <tr>\n",
       "      <th>41</th>\n",
       "      <td>going</td>\n",
       "      <td>188</td>\n",
       "    </tr>\n",
       "    <tr>\n",
       "      <th>42</th>\n",
       "      <td>find</td>\n",
       "      <td>182</td>\n",
       "    </tr>\n",
       "    <tr>\n",
       "      <th>43</th>\n",
       "      <td>great</td>\n",
       "      <td>181</td>\n",
       "    </tr>\n",
       "    <tr>\n",
       "      <th>44</th>\n",
       "      <td>also</td>\n",
       "      <td>177</td>\n",
       "    </tr>\n",
       "    <tr>\n",
       "      <th>45</th>\n",
       "      <td>woman</td>\n",
       "      <td>175</td>\n",
       "    </tr>\n",
       "    <tr>\n",
       "      <th>46</th>\n",
       "      <td>come</td>\n",
       "      <td>175</td>\n",
       "    </tr>\n",
       "    <tr>\n",
       "      <th>47</th>\n",
       "      <td>show</td>\n",
       "      <td>173</td>\n",
       "    </tr>\n",
       "    <tr>\n",
       "      <th>48</th>\n",
       "      <td>anyone</td>\n",
       "      <td>171</td>\n",
       "    </tr>\n",
       "    <tr>\n",
       "      <th>49</th>\n",
       "      <td>post</td>\n",
       "      <td>169</td>\n",
       "    </tr>\n",
       "  </tbody>\n",
       "</table>\n",
       "</div>"
      ],
      "text/plain": [
       "      words  freq\n",
       "0     white  1477\n",
       "1      like   796\n",
       "2    people   626\n",
       "3     black   612\n",
       "4       one   561\n",
       "5       get   520\n",
       "6     would   515\n",
       "7   youtube   469\n",
       "8      time   395\n",
       "9      year   387\n",
       "10      see   374\n",
       "11     good   373\n",
       "12   school   356\n",
       "13       go   353\n",
       "14     know   349\n",
       "15      say   309\n",
       "16    think   298\n",
       "17      day   298\n",
       "18     want   292\n",
       "19      kid   271\n",
       "20      new   271\n",
       "21     race   264\n",
       "22     look   259\n",
       "23     back   259\n",
       "24     well   237\n",
       "25     make   236\n",
       "26    video   230\n",
       "27      way   230\n",
       "28      jew   225\n",
       "29     many   224\n",
       "30    thing   223\n",
       "31  country   222\n",
       "32      got   212\n",
       "33     need   211\n",
       "34   around   207\n",
       "35     even   204\n",
       "36    never   202\n",
       "37      old   197\n",
       "38    could   191\n",
       "39    every   190\n",
       "40    child   190\n",
       "41    going   188\n",
       "42     find   182\n",
       "43    great   181\n",
       "44     also   177\n",
       "45    woman   175\n",
       "46     come   175\n",
       "47     show   173\n",
       "48   anyone   171\n",
       "49     post   169"
      ]
     },
     "execution_count": 35,
     "metadata": {},
     "output_type": "execute_result"
    }
   ],
   "source": [
    "mcw = pd.DataFrame.from_dict(cmw, orient='index').reset_index()\n",
    "mcw.columns = [\"words\", \"freq\"]\n",
    "mcw # Most common words between lemmatized words and frequencies"
   ]
  },
  {
   "cell_type": "code",
   "execution_count": 36,
   "metadata": {
    "execution": {
     "iopub.execute_input": "2021-04-13T19:42:29.334035Z",
     "iopub.status.busy": "2021-04-13T19:42:29.333146Z",
     "iopub.status.idle": "2021-04-13T19:42:29.841426Z",
     "shell.execute_reply": "2021-04-13T19:42:29.840867Z",
     "shell.execute_reply.started": "2021-04-13T19:42:29.333934Z"
    }
   },
   "outputs": [
    {
     "data": {
      "image/png": "[encoded data removed]",
      "text/plain": [
       "<Figure size 720x360 with 1 Axes>"
      ]
     },
     "metadata": {
      "needs_background": "light"
     },
     "output_type": "display_data"
    }
   ],
   "source": [
    "mcw.plot(x=\"words\", y=\"freq\", kind=\"bar\", figsize=(10,5))\n",
    "plt.show()"
   ]
  },
  {
   "cell_type": "markdown",
   "metadata": {},
   "source": [
    "#### 3.1 Part of speech (POS)"
   ]
  },
  {
   "cell_type": "code",
   "execution_count": 37,
   "metadata": {},
   "outputs": [],
   "source": [
    "from textblob import TextBlob\n",
    "def pos_tag(text):\n",
    "    try:\n",
    "        return TextBlob(text).tags\n",
    "    except:\n",
    "        return None"
   ]
  },
  {
   "cell_type": "code",
   "execution_count": 38,
   "metadata": {},
   "outputs": [
    {
     "name": "stdout",
     "output_type": "stream",
     "text": [
      "[('click', 'NN'), ('download', 'NN'), ('megabytes', 'VBZ'), ('green', 'JJ'), ('banner', 'NN'), ('link', 'NN')]\n",
      "[('click', 'NN'), ('download', 'NN'), ('megabyt', 'NN'), ('green', 'JJ'), ('banner', 'NN'), ('link', 'NN')]\n"
     ]
    }
   ],
   "source": [
    "print(TextBlob(data.iloc[4][\"text_clean\"]).tags)\n",
    "print(TextBlob(data.iloc[4][\"stemmed\"]).tags)"
   ]
  },
  {
   "cell_type": "code",
   "execution_count": 39,
   "metadata": {
    "execution": {
     "iopub.execute_input": "2021-04-13T19:42:52.339515Z",
     "iopub.status.busy": "2021-04-13T19:42:52.339165Z",
     "iopub.status.idle": "2021-04-13T19:42:53.240746Z",
     "shell.execute_reply": "2021-04-13T19:42:53.240096Z",
     "shell.execute_reply.started": "2021-04-13T19:42:52.339476Z"
    }
   },
   "outputs": [],
   "source": [
    "import spacy\n",
    "nlp = spacy.load(\"en_core_web_sm\")"
   ]
  },
  {
   "cell_type": "code",
   "execution_count": 40,
   "metadata": {
    "execution": {
     "iopub.execute_input": "2021-04-13T19:42:54.606664Z",
     "iopub.status.busy": "2021-04-13T19:42:54.605946Z",
     "iopub.status.idle": "2021-04-13T19:44:13.751490Z",
     "shell.execute_reply": "2021-04-13T19:44:13.750789Z",
     "shell.execute_reply.started": "2021-04-13T19:42:54.606582Z"
    }
   },
   "outputs": [
    {
     "name": "stderr",
     "output_type": "stream",
     "text": [
      "100%|██████████| 10926/10926 [01:35<00:00, 113.95it/s]\n"
     ]
    }
   ],
   "source": [
    "data['POS_spacy'] = data['lemmatized'].progress_apply(lambda x: [(token.text, token.pos_) for token in nlp(x)])"
   ]
  },
  {
   "cell_type": "code",
   "execution_count": 41,
   "metadata": {
    "execution": {
     "iopub.execute_input": "2021-04-13T19:46:04.797538Z",
     "iopub.status.busy": "2021-04-13T19:46:04.797163Z",
     "iopub.status.idle": "2021-04-13T19:46:11.552215Z",
     "shell.execute_reply": "2021-04-13T19:46:11.551164Z",
     "shell.execute_reply.started": "2021-04-13T19:46:04.797491Z"
    }
   },
   "outputs": [],
   "source": [
    "all_pos = data['POS_spacy'].sum()"
   ]
  },
  {
   "cell_type": "code",
   "execution_count": 42,
   "metadata": {
    "execution": {
     "iopub.execute_input": "2021-04-13T19:46:11.554280Z",
     "iopub.status.busy": "2021-04-13T19:46:11.553976Z",
     "iopub.status.idle": "2021-04-13T19:46:11.587179Z",
     "shell.execute_reply": "2021-04-13T19:46:11.586399Z",
     "shell.execute_reply.started": "2021-04-13T19:46:11.554244Z"
    }
   },
   "outputs": [],
   "source": [
    "all_adjs = [x[0] for x in all_pos if x[1] == \"ADJ\"]\n",
    "all_nouns = [x[0] for x in all_pos if x[1] == \"NOUN\"]"
   ]
  },
  {
   "cell_type": "code",
   "execution_count": 43,
   "metadata": {
    "execution": {
     "iopub.execute_input": "2021-04-13T19:46:11.588739Z",
     "iopub.status.busy": "2021-04-13T19:46:11.588527Z",
     "iopub.status.idle": "2021-04-13T19:46:11.621946Z",
     "shell.execute_reply": "2021-04-13T19:46:11.621161Z",
     "shell.execute_reply.started": "2021-04-13T19:46:11.588714Z"
    }
   },
   "outputs": [],
   "source": [
    "hate = data.loc[data[\"label\"] == 1]"
   ]
  },
  {
   "cell_type": "code",
   "execution_count": 44,
   "metadata": {
    "execution": {
     "iopub.execute_input": "2021-04-13T19:46:11.623286Z",
     "iopub.status.busy": "2021-04-13T19:46:11.623063Z",
     "iopub.status.idle": "2021-04-13T19:46:11.630382Z",
     "shell.execute_reply": "2021-04-13T19:46:11.627536Z",
     "shell.execute_reply.started": "2021-04-13T19:46:11.623258Z"
    }
   },
   "outputs": [
    {
     "data": {
      "text/plain": [
       "(1428, 10926)"
      ]
     },
     "execution_count": 44,
     "metadata": {},
     "output_type": "execute_result"
    }
   ],
   "source": [
    "hate.shape[0], data.shape[0] # 1428 over 10926 rows"
   ]
  },
  {
   "cell_type": "code",
   "execution_count": 45,
   "metadata": {
    "execution": {
     "iopub.execute_input": "2021-04-13T19:46:11.633465Z",
     "iopub.status.busy": "2021-04-13T19:46:11.632577Z",
     "iopub.status.idle": "2021-04-13T19:46:11.642394Z",
     "shell.execute_reply": "2021-04-13T19:46:11.641750Z",
     "shell.execute_reply.started": "2021-04-13T19:46:11.633387Z"
    }
   },
   "outputs": [
    {
     "data": {
      "text/plain": [
       "0    9498\n",
       "1    1428\n",
       "Name: label, dtype: int64"
      ]
     },
     "execution_count": 45,
     "metadata": {},
     "output_type": "execute_result"
    }
   ],
   "source": [
    "data.label.value_counts()"
   ]
  },
  {
   "cell_type": "code",
   "execution_count": 46,
   "metadata": {
    "execution": {
     "iopub.execute_input": "2021-04-13T19:46:11.643538Z",
     "iopub.status.busy": "2021-04-13T19:46:11.643316Z",
     "iopub.status.idle": "2021-04-13T19:46:11.725274Z",
     "shell.execute_reply": "2021-04-13T19:46:11.724354Z",
     "shell.execute_reply.started": "2021-04-13T19:46:11.643511Z"
    }
   },
   "outputs": [],
   "source": [
    "all_pos_hate = hate['POS_spacy'].sum()"
   ]
  },
  {
   "cell_type": "code",
   "execution_count": 47,
   "metadata": {
    "execution": {
     "iopub.execute_input": "2021-04-13T19:46:11.726879Z",
     "iopub.status.busy": "2021-04-13T19:46:11.726527Z",
     "iopub.status.idle": "2021-04-13T19:46:11.738477Z",
     "shell.execute_reply": "2021-04-13T19:46:11.737875Z",
     "shell.execute_reply.started": "2021-04-13T19:46:11.726839Z"
    }
   },
   "outputs": [],
   "source": [
    "all_adjs_hate = [x[0] for x in all_pos_hate if x[1] == \"ADJ\"]\n",
    "all_nouns_hate = [x[0] for x in all_pos_hate if x[1] == \"NOUN\"]"
   ]
  },
  {
   "cell_type": "code",
   "execution_count": 48,
   "metadata": {
    "execution": {
     "iopub.execute_input": "2021-04-13T19:46:17.103327Z",
     "iopub.status.busy": "2021-04-13T19:46:17.103040Z",
     "iopub.status.idle": "2021-04-13T19:46:17.124498Z",
     "shell.execute_reply": "2021-04-13T19:46:17.123907Z",
     "shell.execute_reply.started": "2021-04-13T19:46:17.103294Z"
    },
    "scrolled": true
   },
   "outputs": [],
   "source": [
    "adj_counter = {}\n",
    "for word in all_adjs:\n",
    "    if word in adj_counter:\n",
    "        adj_counter[word] += 1\n",
    "    else:\n",
    "        adj_counter[word] = 1\n",
    "\n",
    "top_20_adj = {k: v for k, v in sorted(adj_counter.items(), key=lambda item: item[1], reverse=True)[:20]}\n",
    "#pd.DataFrame.from_dict(top_20_adj, orient=\"index\", columns=[\"Freq\"]).reset_index()"
   ]
  },
  {
   "cell_type": "code",
   "execution_count": 49,
   "metadata": {
    "execution": {
     "iopub.execute_input": "2021-04-13T19:46:21.313836Z",
     "iopub.status.busy": "2021-04-13T19:46:21.313313Z",
     "iopub.status.idle": "2021-04-13T19:46:21.341592Z",
     "shell.execute_reply": "2021-04-13T19:46:21.340919Z",
     "shell.execute_reply.started": "2021-04-13T19:46:21.313775Z"
    },
    "scrolled": true
   },
   "outputs": [],
   "source": [
    "noun_counter = {}\n",
    "for word in all_nouns:\n",
    "    if word in noun_counter:\n",
    "        noun_counter[word] += 1\n",
    "    else:\n",
    "        noun_counter[word] = 1\n",
    "            \n",
    "top_20_noun = {k: v for k, v in sorted(noun_counter.items(), key=lambda item: item[1], reverse=True)[:20]}\n",
    "#pd.DataFrame.from_dict(top_20_noun, orient=\"index\", columns=[\"Freq\"]).reset_index()"
   ]
  },
  {
   "cell_type": "code",
   "execution_count": 50,
   "metadata": {
    "execution": {
     "iopub.execute_input": "2021-04-13T19:46:28.273267Z",
     "iopub.status.busy": "2021-04-13T19:46:28.272970Z",
     "iopub.status.idle": "2021-04-13T19:46:28.289280Z",
     "shell.execute_reply": "2021-04-13T19:46:28.288365Z",
     "shell.execute_reply.started": "2021-04-13T19:46:28.273235Z"
    },
    "scrolled": true
   },
   "outputs": [],
   "source": [
    "adj_counter1 = {}\n",
    "for word in all_adjs_hate:\n",
    "    if word in adj_counter1:\n",
    "        adj_counter1[word] += 1\n",
    "    else:\n",
    "        adj_counter1[word] = 1\n",
    "            \n",
    "top_20_adj1 = {k: v for k, v in sorted(adj_counter1.items(), key=lambda item: item[1], reverse=True)[:20]}\n",
    "#pd.DataFrame.from_dict(top_20_adj1, orient=\"index\", columns=[\"Freq\"]).reset_index()"
   ]
  },
  {
   "cell_type": "code",
   "execution_count": 51,
   "metadata": {
    "execution": {
     "iopub.execute_input": "2021-04-13T19:46:28.668734Z",
     "iopub.status.busy": "2021-04-13T19:46:28.668378Z",
     "iopub.status.idle": "2021-04-13T19:46:28.690872Z",
     "shell.execute_reply": "2021-04-13T19:46:28.687351Z",
     "shell.execute_reply.started": "2021-04-13T19:46:28.668695Z"
    },
    "scrolled": true
   },
   "outputs": [],
   "source": [
    "noun_counter1 = {}\n",
    "for word in all_nouns_hate:\n",
    "    if word in noun_counter1:\n",
    "        noun_counter1[word] += 1\n",
    "    else:\n",
    "        noun_counter1[word] = 1\n",
    "            \n",
    "top_20_noun1 = {k: v for k, v in sorted(noun_counter1.items(), key=lambda item: item[1], reverse=True)[:20]}\n",
    "#pd.DataFrame.from_dict(top_20_noun1, orient=\"index\", columns=[\"Freq\"]).reset_index()"
   ]
  },
  {
   "cell_type": "code",
   "execution_count": 52,
   "metadata": {},
   "outputs": [
    {
     "data": {
      "image/png": "[encoded data removed]",
      "text/plain": [
       "<Figure size 432x288 with 1 Axes>"
      ]
     },
     "metadata": {
      "needs_background": "light"
     },
     "output_type": "display_data"
    }
   ],
   "source": [
    "from wordcloud import WordCloud\n",
    "wc = WordCloud().generate_from_frequencies(top_20_noun1)\n",
    "plt.figure()\n",
    "plt.imshow(wc, interpolation=\"bilinear\")\n",
    "plt.axis(\"off\")\n",
    "plt.show()"
   ]
  },
  {
   "cell_type": "code",
   "execution_count": 53,
   "metadata": {},
   "outputs": [
    {
     "data": {
      "image/png": "[encoded data removed]",
      "text/plain": [
       "<Figure size 432x288 with 1 Axes>"
      ]
     },
     "metadata": {
      "needs_background": "light"
     },
     "output_type": "display_data"
    }
   ],
   "source": [
    "wc = WordCloud().generate_from_frequencies(top_20_adj1)\n",
    "plt.figure()\n",
    "plt.imshow(wc, interpolation=\"bilinear\")\n",
    "plt.axis(\"off\")\n",
    "plt.show()"
   ]
  },
  {
   "cell_type": "code",
   "execution_count": 54,
   "metadata": {
    "execution": {
     "iopub.execute_input": "2021-04-13T19:46:31.909283Z",
     "iopub.status.busy": "2021-04-13T19:46:31.908992Z",
     "iopub.status.idle": "2021-04-13T19:46:31.924599Z",
     "shell.execute_reply": "2021-04-13T19:46:31.923916Z",
     "shell.execute_reply.started": "2021-04-13T19:46:31.909250Z"
    }
   },
   "outputs": [
    {
     "data": {
      "text/html": [
       "<div>\n",
       "<style scoped>\n",
       "    .dataframe tbody tr th:only-of-type {\n",
       "        vertical-align: middle;\n",
       "    }\n",
       "\n",
       "    .dataframe tbody tr th {\n",
       "        vertical-align: top;\n",
       "    }\n",
       "\n",
       "    .dataframe thead th {\n",
       "        text-align: right;\n",
       "    }\n",
       "</style>\n",
       "<table border=\"1\" class=\"dataframe\">\n",
       "  <thead>\n",
       "    <tr style=\"text-align: right;\">\n",
       "      <th></th>\n",
       "      <th>Total</th>\n",
       "      <th>R_Freq_Total</th>\n",
       "      <th>Hate_Speech</th>\n",
       "      <th>R_Freq_Hate</th>\n",
       "    </tr>\n",
       "  </thead>\n",
       "  <tbody>\n",
       "    <tr>\n",
       "      <th>0</th>\n",
       "      <td>people</td>\n",
       "      <td>0.146</td>\n",
       "      <td>people</td>\n",
       "      <td>0.138</td>\n",
       "    </tr>\n",
       "    <tr>\n",
       "      <th>1</th>\n",
       "      <td>time</td>\n",
       "      <td>0.086</td>\n",
       "      <td>race</td>\n",
       "      <td>0.111</td>\n",
       "    </tr>\n",
       "    <tr>\n",
       "      <th>2</th>\n",
       "      <td>year</td>\n",
       "      <td>0.085</td>\n",
       "      <td>country</td>\n",
       "      <td>0.087</td>\n",
       "    </tr>\n",
       "    <tr>\n",
       "      <th>3</th>\n",
       "      <td>school</td>\n",
       "      <td>0.064</td>\n",
       "      <td>time</td>\n",
       "      <td>0.063</td>\n",
       "    </tr>\n",
       "    <tr>\n",
       "      <th>4</th>\n",
       "      <td>race</td>\n",
       "      <td>0.059</td>\n",
       "      <td>woman</td>\n",
       "      <td>0.058</td>\n",
       "    </tr>\n",
       "    <tr>\n",
       "      <th>5</th>\n",
       "      <td>day</td>\n",
       "      <td>0.054</td>\n",
       "      <td>thing</td>\n",
       "      <td>0.054</td>\n",
       "    </tr>\n",
       "    <tr>\n",
       "      <th>6</th>\n",
       "      <td>thing</td>\n",
       "      <td>0.049</td>\n",
       "      <td>child</td>\n",
       "      <td>0.051</td>\n",
       "    </tr>\n",
       "    <tr>\n",
       "      <th>7</th>\n",
       "      <td>country</td>\n",
       "      <td>0.048</td>\n",
       "      <td>school</td>\n",
       "      <td>0.051</td>\n",
       "    </tr>\n",
       "    <tr>\n",
       "      <th>8</th>\n",
       "      <td>video</td>\n",
       "      <td>0.044</td>\n",
       "      <td>way</td>\n",
       "      <td>0.043</td>\n",
       "    </tr>\n",
       "    <tr>\n",
       "      <th>9</th>\n",
       "      <td>child</td>\n",
       "      <td>0.044</td>\n",
       "      <td>ape</td>\n",
       "      <td>0.043</td>\n",
       "    </tr>\n",
       "    <tr>\n",
       "      <th>10</th>\n",
       "      <td>way</td>\n",
       "      <td>0.038</td>\n",
       "      <td>year</td>\n",
       "      <td>0.039</td>\n",
       "    </tr>\n",
       "    <tr>\n",
       "      <th>11</th>\n",
       "      <td>woman</td>\n",
       "      <td>0.035</td>\n",
       "      <td>day</td>\n",
       "      <td>0.037</td>\n",
       "    </tr>\n",
       "    <tr>\n",
       "      <th>12</th>\n",
       "      <td>message</td>\n",
       "      <td>0.035</td>\n",
       "      <td>crime</td>\n",
       "      <td>0.032</td>\n",
       "    </tr>\n",
       "    <tr>\n",
       "      <th>13</th>\n",
       "      <td>kid</td>\n",
       "      <td>0.034</td>\n",
       "      <td>kid</td>\n",
       "      <td>0.030</td>\n",
       "    </tr>\n",
       "    <tr>\n",
       "      <th>14</th>\n",
       "      <td>thread</td>\n",
       "      <td>0.032</td>\n",
       "      <td>place</td>\n",
       "      <td>0.030</td>\n",
       "    </tr>\n",
       "    <tr>\n",
       "      <th>15</th>\n",
       "      <td>friend</td>\n",
       "      <td>0.032</td>\n",
       "      <td>world</td>\n",
       "      <td>0.029</td>\n",
       "    </tr>\n",
       "    <tr>\n",
       "      <th>16</th>\n",
       "      <td>place</td>\n",
       "      <td>0.030</td>\n",
       "      <td>girl</td>\n",
       "      <td>0.029</td>\n",
       "    </tr>\n",
       "    <tr>\n",
       "      <th>17</th>\n",
       "      <td>girl</td>\n",
       "      <td>0.028</td>\n",
       "      <td>mud</td>\n",
       "      <td>0.026</td>\n",
       "    </tr>\n",
       "    <tr>\n",
       "      <th>18</th>\n",
       "      <td>week</td>\n",
       "      <td>0.028</td>\n",
       "      <td>job</td>\n",
       "      <td>0.024</td>\n",
       "    </tr>\n",
       "    <tr>\n",
       "      <th>19</th>\n",
       "      <td>area</td>\n",
       "      <td>0.028</td>\n",
       "      <td>life</td>\n",
       "      <td>0.024</td>\n",
       "    </tr>\n",
       "  </tbody>\n",
       "</table>\n",
       "</div>"
      ],
      "text/plain": [
       "      Total  R_Freq_Total Hate_Speech  R_Freq_Hate\n",
       "0    people         0.146      people        0.138\n",
       "1      time         0.086        race        0.111\n",
       "2      year         0.085     country        0.087\n",
       "3    school         0.064        time        0.063\n",
       "4      race         0.059       woman        0.058\n",
       "5       day         0.054       thing        0.054\n",
       "6     thing         0.049       child        0.051\n",
       "7   country         0.048      school        0.051\n",
       "8     video         0.044         way        0.043\n",
       "9     child         0.044         ape        0.043\n",
       "10      way         0.038        year        0.039\n",
       "11    woman         0.035         day        0.037\n",
       "12  message         0.035       crime        0.032\n",
       "13      kid         0.034         kid        0.030\n",
       "14   thread         0.032       place        0.030\n",
       "15   friend         0.032       world        0.029\n",
       "16    place         0.030        girl        0.029\n",
       "17     girl         0.028         mud        0.026\n",
       "18     week         0.028         job        0.024\n",
       "19     area         0.028        life        0.024"
      ]
     },
     "execution_count": 54,
     "metadata": {},
     "output_type": "execute_result"
    }
   ],
   "source": [
    "top_noun = {\"Total\": top_20_noun.keys(), \"Freq_Total\": top_20_noun.values(), \"Hate_Speech\": top_20_noun1.keys(), \"Freq_Hate\": top_20_noun1.values()}\n",
    "top_noun = pd.DataFrame(top_noun)\n",
    "top_noun[\"R_Freq_Total\"] = top_noun.apply(lambda x: np.round(x.Freq_Total / top_noun.Freq_Total.sum(), 3), axis=1)\n",
    "top_noun[\"R_Freq_Hate\"] = top_noun.apply(lambda x: np.round(x.Freq_Hate / top_noun.Freq_Hate.sum(), 3), axis=1)\n",
    "top_noun = top_noun.reindex(columns=['Total', 'R_Freq_Total', 'Hate_Speech', 'R_Freq_Hate'])\n",
    "top_noun"
   ]
  },
  {
   "cell_type": "code",
   "execution_count": 55,
   "metadata": {
    "execution": {
     "iopub.execute_input": "2021-04-13T19:46:34.765335Z",
     "iopub.status.busy": "2021-04-13T19:46:34.764991Z",
     "iopub.status.idle": "2021-04-13T19:46:34.769486Z",
     "shell.execute_reply": "2021-04-13T19:46:34.768825Z",
     "shell.execute_reply.started": "2021-04-13T19:46:34.765297Z"
    }
   },
   "outputs": [],
   "source": [
    "common_nouns = list(set(top_noun[\"Hate_Speech\"].values).union(set(top_noun[\"Total\"].values)))"
   ]
  },
  {
   "cell_type": "code",
   "execution_count": 56,
   "metadata": {
    "execution": {
     "iopub.execute_input": "2021-04-13T19:46:35.110203Z",
     "iopub.status.busy": "2021-04-13T19:46:35.109915Z",
     "iopub.status.idle": "2021-04-13T19:46:35.114804Z",
     "shell.execute_reply": "2021-04-13T19:46:35.113614Z",
     "shell.execute_reply.started": "2021-04-13T19:46:35.110171Z"
    }
   },
   "outputs": [],
   "source": [
    "freq_common_tot = [noun_counter[x] for x in common_nouns]\n",
    "freq_common_hate = [noun_counter1[x] for x in common_nouns]"
   ]
  },
  {
   "cell_type": "code",
   "execution_count": 57,
   "metadata": {
    "execution": {
     "iopub.execute_input": "2021-04-13T19:46:35.348657Z",
     "iopub.status.busy": "2021-04-13T19:46:35.348406Z",
     "iopub.status.idle": "2021-04-13T19:46:35.353359Z",
     "shell.execute_reply": "2021-04-13T19:46:35.352475Z",
     "shell.execute_reply.started": "2021-04-13T19:46:35.348631Z"
    }
   },
   "outputs": [],
   "source": [
    "common_noun_df = pd.DataFrame({\"Nouns\" : common_nouns, \"Freq_tot\": freq_common_tot, \"Freq_Hate_Speech\": freq_common_hate })"
   ]
  },
  {
   "cell_type": "code",
   "execution_count": 58,
   "metadata": {
    "execution": {
     "iopub.execute_input": "2021-04-13T19:46:36.238385Z",
     "iopub.status.busy": "2021-04-13T19:46:36.237674Z",
     "iopub.status.idle": "2021-04-13T19:46:36.249855Z",
     "shell.execute_reply": "2021-04-13T19:46:36.247511Z",
     "shell.execute_reply.started": "2021-04-13T19:46:36.238304Z"
    }
   },
   "outputs": [],
   "source": [
    "common_noun_df.sort_values(by=[\"Freq_Hate_Speech\"], ascending= False, inplace=True)"
   ]
  },
  {
   "cell_type": "code",
   "execution_count": 59,
   "metadata": {
    "execution": {
     "iopub.execute_input": "2021-04-13T19:46:36.542882Z",
     "iopub.status.busy": "2021-04-13T19:46:36.542595Z",
     "iopub.status.idle": "2021-04-13T19:46:36.898645Z",
     "shell.execute_reply": "2021-04-13T19:46:36.897578Z",
     "shell.execute_reply.started": "2021-04-13T19:46:36.542850Z"
    }
   },
   "outputs": [
    {
     "data": {
      "image/png": "[encoded data removed]",
      "text/plain": [
       "<Figure size 720x576 with 1 Axes>"
      ]
     },
     "metadata": {
      "needs_background": "light"
     },
     "output_type": "display_data"
    }
   ],
   "source": [
    "common_noun_df.plot('Nouns', y=['Freq_tot', 'Freq_Hate_Speech'], kind='bar', figsize=(10,8))\n",
    "plt.show()"
   ]
  },
  {
   "cell_type": "code",
   "execution_count": 60,
   "metadata": {
    "execution": {
     "iopub.execute_input": "2021-04-13T19:47:24.841579Z",
     "iopub.status.busy": "2021-04-13T19:47:24.841292Z",
     "iopub.status.idle": "2021-04-13T19:47:24.856848Z",
     "shell.execute_reply": "2021-04-13T19:47:24.856151Z",
     "shell.execute_reply.started": "2021-04-13T19:47:24.841547Z"
    }
   },
   "outputs": [
    {
     "data": {
      "text/html": [
       "<div>\n",
       "<style scoped>\n",
       "    .dataframe tbody tr th:only-of-type {\n",
       "        vertical-align: middle;\n",
       "    }\n",
       "\n",
       "    .dataframe tbody tr th {\n",
       "        vertical-align: top;\n",
       "    }\n",
       "\n",
       "    .dataframe thead th {\n",
       "        text-align: right;\n",
       "    }\n",
       "</style>\n",
       "<table border=\"1\" class=\"dataframe\">\n",
       "  <thead>\n",
       "    <tr style=\"text-align: right;\">\n",
       "      <th></th>\n",
       "      <th>Total</th>\n",
       "      <th>R_Freq_Total</th>\n",
       "      <th>Hate_Speech</th>\n",
       "      <th>R_Freq_Hate</th>\n",
       "    </tr>\n",
       "  </thead>\n",
       "  <tbody>\n",
       "    <tr>\n",
       "      <th>0</th>\n",
       "      <td>white</td>\n",
       "      <td>0.244</td>\n",
       "      <td>white</td>\n",
       "      <td>0.290</td>\n",
       "    </tr>\n",
       "    <tr>\n",
       "      <th>1</th>\n",
       "      <td>black</td>\n",
       "      <td>0.128</td>\n",
       "      <td>black</td>\n",
       "      <td>0.211</td>\n",
       "    </tr>\n",
       "    <tr>\n",
       "      <th>2</th>\n",
       "      <td>good</td>\n",
       "      <td>0.096</td>\n",
       "      <td>good</td>\n",
       "      <td>0.051</td>\n",
       "    </tr>\n",
       "    <tr>\n",
       "      <th>3</th>\n",
       "      <td>many</td>\n",
       "      <td>0.064</td>\n",
       "      <td>many</td>\n",
       "      <td>0.046</td>\n",
       "    </tr>\n",
       "    <tr>\n",
       "      <th>4</th>\n",
       "      <td>new</td>\n",
       "      <td>0.052</td>\n",
       "      <td>last</td>\n",
       "      <td>0.040</td>\n",
       "    </tr>\n",
       "    <tr>\n",
       "      <th>5</th>\n",
       "      <td>old</td>\n",
       "      <td>0.051</td>\n",
       "      <td>negro</td>\n",
       "      <td>0.038</td>\n",
       "    </tr>\n",
       "    <tr>\n",
       "      <th>6</th>\n",
       "      <td>last</td>\n",
       "      <td>0.045</td>\n",
       "      <td>little</td>\n",
       "      <td>0.033</td>\n",
       "    </tr>\n",
       "    <tr>\n",
       "      <th>7</th>\n",
       "      <td>great</td>\n",
       "      <td>0.042</td>\n",
       "      <td>liberal</td>\n",
       "      <td>0.029</td>\n",
       "    </tr>\n",
       "    <tr>\n",
       "      <th>8</th>\n",
       "      <td>little</td>\n",
       "      <td>0.033</td>\n",
       "      <td>non</td>\n",
       "      <td>0.028</td>\n",
       "    </tr>\n",
       "    <tr>\n",
       "      <th>9</th>\n",
       "      <td>much</td>\n",
       "      <td>0.032</td>\n",
       "      <td>much</td>\n",
       "      <td>0.027</td>\n",
       "    </tr>\n",
       "    <tr>\n",
       "      <th>10</th>\n",
       "      <td>bad</td>\n",
       "      <td>0.026</td>\n",
       "      <td>great</td>\n",
       "      <td>0.023</td>\n",
       "    </tr>\n",
       "    <tr>\n",
       "      <th>11</th>\n",
       "      <td>personal</td>\n",
       "      <td>0.025</td>\n",
       "      <td>jewish</td>\n",
       "      <td>0.023</td>\n",
       "    </tr>\n",
       "    <tr>\n",
       "      <th>12</th>\n",
       "      <td>free</td>\n",
       "      <td>0.024</td>\n",
       "      <td>new</td>\n",
       "      <td>0.022</td>\n",
       "    </tr>\n",
       "    <tr>\n",
       "      <th>13</th>\n",
       "      <td>right</td>\n",
       "      <td>0.023</td>\n",
       "      <td>bad</td>\n",
       "      <td>0.022</td>\n",
       "    </tr>\n",
       "    <tr>\n",
       "      <th>14</th>\n",
       "      <td>next</td>\n",
       "      <td>0.022</td>\n",
       "      <td>old</td>\n",
       "      <td>0.022</td>\n",
       "    </tr>\n",
       "    <tr>\n",
       "      <th>15</th>\n",
       "      <td>big</td>\n",
       "      <td>0.020</td>\n",
       "      <td>poor</td>\n",
       "      <td>0.020</td>\n",
       "    </tr>\n",
       "    <tr>\n",
       "      <th>16</th>\n",
       "      <td>different</td>\n",
       "      <td>0.019</td>\n",
       "      <td>asian</td>\n",
       "      <td>0.019</td>\n",
       "    </tr>\n",
       "    <tr>\n",
       "      <th>17</th>\n",
       "      <td>nationalist</td>\n",
       "      <td>0.019</td>\n",
       "      <td>dumb</td>\n",
       "      <td>0.019</td>\n",
       "    </tr>\n",
       "    <tr>\n",
       "      <th>18</th>\n",
       "      <td>first</td>\n",
       "      <td>0.019</td>\n",
       "      <td>real</td>\n",
       "      <td>0.018</td>\n",
       "    </tr>\n",
       "    <tr>\n",
       "      <th>19</th>\n",
       "      <td>public</td>\n",
       "      <td>0.018</td>\n",
       "      <td>wrong</td>\n",
       "      <td>0.018</td>\n",
       "    </tr>\n",
       "  </tbody>\n",
       "</table>\n",
       "</div>"
      ],
      "text/plain": [
       "          Total  R_Freq_Total Hate_Speech  R_Freq_Hate\n",
       "0         white         0.244       white        0.290\n",
       "1         black         0.128       black        0.211\n",
       "2          good         0.096        good        0.051\n",
       "3          many         0.064        many        0.046\n",
       "4           new         0.052        last        0.040\n",
       "5           old         0.051       negro        0.038\n",
       "6          last         0.045      little        0.033\n",
       "7         great         0.042     liberal        0.029\n",
       "8        little         0.033         non        0.028\n",
       "9          much         0.032        much        0.027\n",
       "10          bad         0.026       great        0.023\n",
       "11     personal         0.025      jewish        0.023\n",
       "12         free         0.024         new        0.022\n",
       "13        right         0.023         bad        0.022\n",
       "14         next         0.022         old        0.022\n",
       "15          big         0.020        poor        0.020\n",
       "16    different         0.019       asian        0.019\n",
       "17  nationalist         0.019        dumb        0.019\n",
       "18        first         0.019        real        0.018\n",
       "19       public         0.018       wrong        0.018"
      ]
     },
     "execution_count": 60,
     "metadata": {},
     "output_type": "execute_result"
    }
   ],
   "source": [
    "top_adj = {\"Total\": top_20_adj.keys(), \"Freq_Total\": top_20_adj.values(), \"Hate_Speech\": top_20_adj1.keys(), \"Freq_Hate\": top_20_adj1.values()}\n",
    "top_adj = pd.DataFrame(top_adj)\n",
    "top_adj[\"R_Freq_Total\"] = top_adj.apply(lambda x: np.round(x.Freq_Total / top_adj.Freq_Total.sum(), 3), axis=1)\n",
    "top_adj[\"R_Freq_Hate\"] = top_adj.apply(lambda x: np.round(x.Freq_Hate / top_adj.Freq_Hate.sum(), 3), axis=1)\n",
    "top_adj = top_adj.reindex(columns=['Total', 'R_Freq_Total', 'Hate_Speech', 'R_Freq_Hate'])\n",
    "top_adj"
   ]
  },
  {
   "cell_type": "code",
   "execution_count": 61,
   "metadata": {
    "execution": {
     "iopub.execute_input": "2021-04-13T19:47:30.779056Z",
     "iopub.status.busy": "2021-04-13T19:47:30.778772Z",
     "iopub.status.idle": "2021-04-13T19:47:30.782784Z",
     "shell.execute_reply": "2021-04-13T19:47:30.781996Z",
     "shell.execute_reply.started": "2021-04-13T19:47:30.779024Z"
    }
   },
   "outputs": [],
   "source": [
    "common_adj = list(set(top_adj[\"Hate_Speech\"].values).union(set(top_adj[\"Total\"].values)))"
   ]
  },
  {
   "cell_type": "code",
   "execution_count": 62,
   "metadata": {
    "execution": {
     "iopub.execute_input": "2021-04-13T19:47:31.820147Z",
     "iopub.status.busy": "2021-04-13T19:47:31.818830Z",
     "iopub.status.idle": "2021-04-13T19:47:31.829277Z",
     "shell.execute_reply": "2021-04-13T19:47:31.827627Z",
     "shell.execute_reply.started": "2021-04-13T19:47:31.820034Z"
    }
   },
   "outputs": [],
   "source": [
    "freq_common_tot_adj = [adj_counter[x] for x in common_adj]\n",
    "freq_common_hate_adj = [adj_counter1[x] for x in common_adj]"
   ]
  },
  {
   "cell_type": "code",
   "execution_count": 63,
   "metadata": {
    "execution": {
     "iopub.execute_input": "2021-04-13T19:47:32.111424Z",
     "iopub.status.busy": "2021-04-13T19:47:32.110719Z",
     "iopub.status.idle": "2021-04-13T19:47:32.122748Z",
     "shell.execute_reply": "2021-04-13T19:47:32.121479Z",
     "shell.execute_reply.started": "2021-04-13T19:47:32.111341Z"
    }
   },
   "outputs": [],
   "source": [
    "common_adj_df = pd.DataFrame({\"Adj\" : common_adj, \"Freq_tot\": freq_common_tot_adj, \"Freq_Hate_Speech\": freq_common_hate_adj })"
   ]
  },
  {
   "cell_type": "code",
   "execution_count": 64,
   "metadata": {
    "execution": {
     "iopub.execute_input": "2021-04-13T19:47:32.347323Z",
     "iopub.status.busy": "2021-04-13T19:47:32.347118Z",
     "iopub.status.idle": "2021-04-13T19:47:32.352107Z",
     "shell.execute_reply": "2021-04-13T19:47:32.350228Z",
     "shell.execute_reply.started": "2021-04-13T19:47:32.347301Z"
    }
   },
   "outputs": [],
   "source": [
    "common_adj_df.sort_values(by=[\"Freq_Hate_Speech\"], ascending= False, inplace=True)"
   ]
  },
  {
   "cell_type": "code",
   "execution_count": 65,
   "metadata": {
    "execution": {
     "iopub.execute_input": "2021-04-13T19:47:33.577691Z",
     "iopub.status.busy": "2021-04-13T19:47:33.576869Z",
     "iopub.status.idle": "2021-04-13T19:47:33.922826Z",
     "shell.execute_reply": "2021-04-13T19:47:33.922203Z",
     "shell.execute_reply.started": "2021-04-13T19:47:33.577610Z"
    }
   },
   "outputs": [
    {
     "data": {
      "image/png": "[encoded data removed]",
      "text/plain": [
       "<Figure size 720x576 with 1 Axes>"
      ]
     },
     "metadata": {
      "needs_background": "light"
     },
     "output_type": "display_data"
    }
   ],
   "source": [
    "common_adj_df.plot(x='Adj', y=['Freq_tot', 'Freq_Hate_Speech'], kind='bar', figsize=(10,8))\n",
    "plt.show()"
   ]
  },
  {
   "cell_type": "code",
   "execution_count": 67,
   "metadata": {
    "execution": {
     "iopub.execute_input": "2021-04-13T19:51:19.325466Z",
     "iopub.status.busy": "2021-04-13T19:51:19.325091Z",
     "iopub.status.idle": "2021-04-13T19:51:19.362674Z",
     "shell.execute_reply": "2021-04-13T19:51:19.361643Z",
     "shell.execute_reply.started": "2021-04-13T19:51:19.325425Z"
    }
   },
   "outputs": [],
   "source": [
    "pos_counter = {}\n",
    "for x in all_pos:\n",
    "    if x[1] in pos_counter:\n",
    "        pos_counter[x[1]] += 1\n",
    "    else:\n",
    "        pos_counter[x[1]] = 1\n",
    "        \n",
    "top_pos = {k: v for k, v in sorted(pos_counter.items(), key=lambda item: item[1], reverse=True)}"
   ]
  },
  {
   "cell_type": "code",
   "execution_count": 68,
   "metadata": {
    "execution": {
     "iopub.execute_input": "2021-04-13T19:51:19.587304Z",
     "iopub.status.busy": "2021-04-13T19:51:19.586982Z",
     "iopub.status.idle": "2021-04-13T19:51:19.601857Z",
     "shell.execute_reply": "2021-04-13T19:51:19.601032Z",
     "shell.execute_reply.started": "2021-04-13T19:51:19.587267Z"
    },
    "scrolled": true
   },
   "outputs": [],
   "source": [
    "freq_pos = pd.DataFrame.from_dict(top_pos, orient=\"index\", columns=[\"Freq\"]).reset_index()\n",
    "freq_pos[\"R_Freq\"] = freq_pos.apply(lambda x: np.round(x.Freq / freq_pos.Freq.sum(), 2), axis=1)"
   ]
  },
  {
   "cell_type": "code",
   "execution_count": 69,
   "metadata": {
    "execution": {
     "iopub.execute_input": "2021-04-13T19:51:22.830012Z",
     "iopub.status.busy": "2021-04-13T19:51:22.829656Z",
     "iopub.status.idle": "2021-04-13T19:51:22.840234Z",
     "shell.execute_reply": "2021-04-13T19:51:22.839652Z",
     "shell.execute_reply.started": "2021-04-13T19:51:22.829970Z"
    },
    "scrolled": true
   },
   "outputs": [],
   "source": [
    "pos_counter_hate = {}\n",
    "for x in all_pos_hate:\n",
    "    if x[1] in pos_counter_hate:\n",
    "        pos_counter_hate[x[1]] += 1\n",
    "    else:\n",
    "        pos_counter_hate[x[1]] = 1\n",
    "        \n",
    "top_pos_hate = {k: v for k, v in sorted(pos_counter_hate.items(), key=lambda item: item[1], reverse=True)}"
   ]
  },
  {
   "cell_type": "code",
   "execution_count": 70,
   "metadata": {
    "execution": {
     "iopub.execute_input": "2021-04-13T19:51:23.233307Z",
     "iopub.status.busy": "2021-04-13T19:51:23.232972Z",
     "iopub.status.idle": "2021-04-13T19:51:23.244850Z",
     "shell.execute_reply": "2021-04-13T19:51:23.243922Z",
     "shell.execute_reply.started": "2021-04-13T19:51:23.233274Z"
    }
   },
   "outputs": [],
   "source": [
    "freq_pos_hate = pd.DataFrame.from_dict(top_pos_hate, orient=\"index\", columns=[\"Freq\"]).reset_index()\n",
    "freq_pos_hate[\"R_Freq\"] = freq_pos_hate.apply(lambda x: np.round(x.Freq / freq_pos_hate.Freq.sum(), 2), axis=1)"
   ]
  },
  {
   "cell_type": "code",
   "execution_count": 71,
   "metadata": {
    "execution": {
     "iopub.execute_input": "2021-04-13T19:51:32.665223Z",
     "iopub.status.busy": "2021-04-13T19:51:32.664981Z",
     "iopub.status.idle": "2021-04-13T19:51:32.677093Z",
     "shell.execute_reply": "2021-04-13T19:51:32.676431Z",
     "shell.execute_reply.started": "2021-04-13T19:51:32.665196Z"
    }
   },
   "outputs": [
    {
     "data": {
      "text/html": [
       "<div>\n",
       "<style scoped>\n",
       "    .dataframe tbody tr th:only-of-type {\n",
       "        vertical-align: middle;\n",
       "    }\n",
       "\n",
       "    .dataframe tbody tr th {\n",
       "        vertical-align: top;\n",
       "    }\n",
       "\n",
       "    .dataframe thead th {\n",
       "        text-align: right;\n",
       "    }\n",
       "</style>\n",
       "<table border=\"1\" class=\"dataframe\">\n",
       "  <thead>\n",
       "    <tr style=\"text-align: right;\">\n",
       "      <th></th>\n",
       "      <th>Total</th>\n",
       "      <th>R_Freq_Total</th>\n",
       "      <th>Hate_Speech</th>\n",
       "      <th>R_Freq_Hate</th>\n",
       "    </tr>\n",
       "  </thead>\n",
       "  <tbody>\n",
       "    <tr>\n",
       "      <th>0</th>\n",
       "      <td>NOUN</td>\n",
       "      <td>0.291</td>\n",
       "      <td>NOUN</td>\n",
       "      <td>0.284</td>\n",
       "    </tr>\n",
       "    <tr>\n",
       "      <th>1</th>\n",
       "      <td>PROPN</td>\n",
       "      <td>0.236</td>\n",
       "      <td>PROPN</td>\n",
       "      <td>0.228</td>\n",
       "    </tr>\n",
       "    <tr>\n",
       "      <th>2</th>\n",
       "      <td>VERB</td>\n",
       "      <td>0.205</td>\n",
       "      <td>VERB</td>\n",
       "      <td>0.211</td>\n",
       "    </tr>\n",
       "    <tr>\n",
       "      <th>3</th>\n",
       "      <td>ADJ</td>\n",
       "      <td>0.133</td>\n",
       "      <td>ADJ</td>\n",
       "      <td>0.149</td>\n",
       "    </tr>\n",
       "    <tr>\n",
       "      <th>4</th>\n",
       "      <td>ADV</td>\n",
       "      <td>0.059</td>\n",
       "      <td>ADV</td>\n",
       "      <td>0.060</td>\n",
       "    </tr>\n",
       "    <tr>\n",
       "      <th>5</th>\n",
       "      <td>PRON</td>\n",
       "      <td>0.013</td>\n",
       "      <td>SCONJ</td>\n",
       "      <td>0.012</td>\n",
       "    </tr>\n",
       "    <tr>\n",
       "      <th>6</th>\n",
       "      <td>INTJ</td>\n",
       "      <td>0.012</td>\n",
       "      <td>PRON</td>\n",
       "      <td>0.011</td>\n",
       "    </tr>\n",
       "  </tbody>\n",
       "</table>\n",
       "</div>"
      ],
      "text/plain": [
       "   Total  R_Freq_Total Hate_Speech  R_Freq_Hate\n",
       "0   NOUN         0.291        NOUN        0.284\n",
       "1  PROPN         0.236       PROPN        0.228\n",
       "2   VERB         0.205        VERB        0.211\n",
       "3    ADJ         0.133         ADJ        0.149\n",
       "4    ADV         0.059         ADV        0.060\n",
       "5   PRON         0.013       SCONJ        0.012\n",
       "6   INTJ         0.012        PRON        0.011"
      ]
     },
     "execution_count": 71,
     "metadata": {},
     "output_type": "execute_result"
    }
   ],
   "source": [
    "compared_pos = {\"Total\": top_pos.keys(), \"Freq_Total\": top_pos.values(), \"Hate_Speech\": top_pos_hate.keys(), \"Freq_Hate\": top_pos_hate.values()}\n",
    "compared_pos = pd.DataFrame(compared_pos)\n",
    "compared_pos[\"R_Freq_Total\"] = compared_pos.apply(lambda x: np.round(x.Freq_Total / compared_pos.Freq_Total.sum(), 3), axis=1)\n",
    "compared_pos[\"R_Freq_Hate\"] = compared_pos.apply(lambda x: np.round(x.Freq_Hate / compared_pos.Freq_Hate.sum(), 3), axis=1)\n",
    "compared_pos = compared_pos.reindex(columns=['Total', 'R_Freq_Total', 'Hate_Speech', 'R_Freq_Hate'])\n",
    "compared_pos[:7]"
   ]
  },
  {
   "cell_type": "markdown",
   "metadata": {},
   "source": [
    "# SPELLING"
   ]
  },
  {
   "cell_type": "code",
   "execution_count": 72,
   "metadata": {},
   "outputs": [
    {
     "name": "stderr",
     "output_type": "stream",
     "text": [
      "[nltk_data] Downloading package words to\n",
      "[nltk_data]     C:\\Users\\marti\\AppData\\Roaming\\nltk_data...\n",
      "[nltk_data]   Package words is already up-to-date!\n"
     ]
    },
    {
     "data": {
      "text/plain": [
       "True"
      ]
     },
     "execution_count": 72,
     "metadata": {},
     "output_type": "execute_result"
    }
   ],
   "source": [
    "import nltk\n",
    "nltk.download('words')"
   ]
  },
  {
   "cell_type": "code",
   "execution_count": 73,
   "metadata": {},
   "outputs": [],
   "source": [
    "def unusual_words(text):\n",
    "    text_vocab = set(w.lower() for w in text if w.isalpha())\n",
    "    english_vocab = set(w.lower() for w in nltk.corpus.words.words())\n",
    "    unusual = text_vocab.difference(english_vocab)\n",
    "    return sorted(unusual)"
   ]
  },
  {
   "cell_type": "code",
   "execution_count": 74,
   "metadata": {},
   "outputs": [
    {
     "name": "stdout",
     "output_type": "stream",
     "text": [
      "['africa', 'aragorn', 'asked', 'asking', 'asmodean', 'bb', 'braun', 'btl', 'calman', 'camie', 'cf', 'cheaper', 'congrats', 'contradicting', 'cripppinnn', 'czynski', 'dallas', 'dc', 'downloads', 'dr', 'dublin', 'ebonics', 'edmonton', 'elmira', 'embarassing', 'fbi', 'gille', 'groupid', 'gyspsies', 'haha', 'hahahahahaha', 'heil', 'hups', 'hz', 'ii', 'iii', 'im', 'internet', 'iv', 'jpg', 'kaboom', 'kid', 'kidding', 'kr', 'lk', 'located', 'lol', 'meh', 'minnesota', 'mmm', 'motivated', 'mrbadgersir', 'msciwoj', 'muahaha', 'needed', 'neofolk', 'nigga', 'okay', 'opendocument', 'opps', 'patrioticmama', 'pawel', 'pffffft', 'politifuldm', 'reproducing', 'rumour', 'stormfront', 'studying', 'sveiks', 'swva', 'tereasa', 'tf', 'threadid', 'tnb', 'topix', 'tv', 'twp', 'ty', 'usa', 'vancouver', 'weku', 'wellsburg', 'whiteutopian', 'wierd', 'wiki', 'wntube', 'wp', 'wpww', 'wrs', 'wulfi', 'wv', 'youtube', 'yuenglings', 'yup', 'zdrowie']\n"
     ]
    }
   ],
   "source": [
    "crt = unusual_words(data['lemmatized'])\n",
    "print(crt)"
   ]
  },
  {
   "cell_type": "code",
   "execution_count": 75,
   "metadata": {
    "scrolled": true
   },
   "outputs": [
    {
     "data": {
      "text/plain": [
       "['africa',\n",
       " 'dragoon',\n",
       " 'asked',\n",
       " 'asking',\n",
       " 'asmodean',\n",
       " 'by',\n",
       " 'brain',\n",
       " 'bal',\n",
       " 'cabman',\n",
       " 'came',\n",
       " 'cf',\n",
       " 'cheaper',\n",
       " 'congress',\n",
       " 'contradicting',\n",
       " 'cripppinnn',\n",
       " 'czynski',\n",
       " 'dallas',\n",
       " 'do',\n",
       " 'download',\n",
       " 'dr',\n",
       " 'dublin',\n",
       " 'tonics',\n",
       " 'edmonton',\n",
       " 'eliza',\n",
       " 'embarrassing',\n",
       " 'foi',\n",
       " 'ville',\n",
       " 'grouped',\n",
       " 'gypsies',\n",
       " 'hata',\n",
       " 'hahahahahaha',\n",
       " 'heal',\n",
       " 'huts',\n",
       " 'he',\n",
       " 'ii',\n",
       " 'iii',\n",
       " 'in',\n",
       " 'internet',\n",
       " 'iv',\n",
       " 'pg',\n",
       " 'boom',\n",
       " 'kid',\n",
       " 'bidding',\n",
       " 'or',\n",
       " 'll',\n",
       " 'located',\n",
       " 'll',\n",
       " 'me',\n",
       " 'minnesota',\n",
       " 'mmm',\n",
       " 'motivate',\n",
       " 'mrbadgersir',\n",
       " 'msciwoj',\n",
       " 'muahaha',\n",
       " 'needed',\n",
       " 'norfolk',\n",
       " 'night',\n",
       " 'okay',\n",
       " 'opendocument',\n",
       " 'open',\n",
       " 'patrioticmama',\n",
       " 'panel',\n",
       " 'pffffft',\n",
       " 'politifuldm',\n",
       " 'reproducing',\n",
       " 'rumour',\n",
       " 'stormfront',\n",
       " 'studying',\n",
       " 'veins',\n",
       " 'saw',\n",
       " 'theresa',\n",
       " 'of',\n",
       " 'thread',\n",
       " 'tub',\n",
       " 'topic',\n",
       " 'to',\n",
       " 'two',\n",
       " 'ty',\n",
       " 'us',\n",
       " 'vancouver',\n",
       " 'wetu',\n",
       " 'wellsburg',\n",
       " 'whiteutopian',\n",
       " 'wired',\n",
       " 'wiki',\n",
       " 'tube',\n",
       " 'up',\n",
       " 'www',\n",
       " 'was',\n",
       " 'wolf',\n",
       " 'we',\n",
       " 'couture',\n",
       " 'yuenglings',\n",
       " 'up',\n",
       " 'zdrowie']"
      ]
     },
     "execution_count": 75,
     "metadata": {},
     "output_type": "execute_result"
    }
   ],
   "source": [
    "corrected_w =[TextBlob(word).correct().words[0] for word in crt]\n",
    "corrected_w"
   ]
  },
  {
   "cell_type": "code",
   "execution_count": 76,
   "metadata": {},
   "outputs": [],
   "source": [
    "from autocorrect import Speller\n",
    "def autocorr(text):\n",
    "    crt = unusual_words(text)\n",
    "    for t in crt:\n",
    "        auto = Speller(lang='en')\n",
    "        corr = auto(t)\n",
    "        if t != corr:\n",
    "            print(t, corr)"
   ]
  },
  {
   "cell_type": "code",
   "execution_count": 77,
   "metadata": {
    "scrolled": true
   },
   "outputs": [
    {
     "name": "stdout",
     "output_type": "stream",
     "text": [
      "aragorn dragon\n",
      "btl bl\n",
      "calman salman\n",
      "camie came\n",
      "congrats contrast\n",
      "elmira lira\n",
      "embarassing embarrassing\n",
      "gille ville\n",
      "groupid grouped\n",
      "heil heir\n",
      "hups ups\n",
      "kaboom boom\n",
      "neofolk norfolk\n",
      "nigga nigra\n",
      "opps apps\n",
      "pawel panel\n",
      "pffffft ffffff\n",
      "stormfront storefront\n",
      "sveiks speaks\n",
      "swva swa\n",
      "tereasa teresa\n",
      "threadid threaded\n",
      "tnb nb\n",
      "topix topic\n",
      "weku wek\n",
      "wierd weird\n",
      "wntube tube\n",
      "wpww www\n",
      "wulfi multi\n"
     ]
    }
   ],
   "source": [
    "autocorr(data['lemmatized']) ##"
   ]
  },
  {
   "cell_type": "code",
   "execution_count": 78,
   "metadata": {},
   "outputs": [],
   "source": [
    "# sentiment polarity TEXTBLOB https://textblob.readthedocs.io/en/dev/quickstart.html"
   ]
  },
  {
   "cell_type": "code",
   "execution_count": null,
   "metadata": {},
   "outputs": [],
   "source": []
  },
  {
   "cell_type": "markdown",
   "metadata": {},
   "source": [
    "# 4. MODELS"
   ]
  },
  {
   "cell_type": "code",
   "execution_count": 79,
   "metadata": {},
   "outputs": [
    {
     "data": {
      "text/plain": [
       "(10926, 12731)"
      ]
     },
     "execution_count": 79,
     "metadata": {},
     "output_type": "execute_result"
    }
   ],
   "source": [
    "tfidf_vectorizer = TfidfVectorizer()\n",
    "X_class = tfidf_vectorizer.fit_transform(data['lemmatized'])\n",
    "y_class = data[\"label\"]\n",
    "X_class.shape"
   ]
  },
  {
   "cell_type": "code",
   "execution_count": 80,
   "metadata": {},
   "outputs": [],
   "source": [
    "from sklearn.model_selection import train_test_split\n",
    "X_train, X_test, y_train, y_test = train_test_split(X_class, y_class, test_size=0.3, random_state=42, stratify=y_class)"
   ]
  },
  {
   "cell_type": "code",
   "execution_count": 81,
   "metadata": {},
   "outputs": [],
   "source": [
    "from sklearn.metrics import f1_score, accuracy_score, precision_score, recall_score, classification_report, confusion_matrix\n",
    "from sklearn.naive_bayes import MultinomialNB\n",
    "from sklearn import tree\n",
    "from sklearn.tree import DecisionTreeClassifier, DecisionTreeRegressor\n",
    "from sklearn.neighbors import KNeighborsClassifier\n",
    "from sklearn.svm import SVC\n",
    "import sklearn as sk\n",
    "from sklearn.neural_network import MLPClassifier\n",
    "from sklearn.linear_model import LogisticRegression\n",
    "from sklearn.ensemble import RandomForestClassifier\n",
    "from sklearn import svm\n",
    "random_state = np.random.RandomState(0)"
   ]
  },
  {
   "cell_type": "code",
   "execution_count": 82,
   "metadata": {},
   "outputs": [
    {
     "name": "stdout",
     "output_type": "stream",
     "text": [
      "[[2696  154]\n",
      " [ 323  105]]\n",
      "              precision    recall  f1-score   support\n",
      "\n",
      "           0       0.89      0.95      0.92      2850\n",
      "           1       0.41      0.25      0.31       428\n",
      "\n",
      "    accuracy                           0.85      3278\n",
      "   macro avg       0.65      0.60      0.61      3278\n",
      "weighted avg       0.83      0.85      0.84      3278\n",
      "\n",
      "0.8544844417327638\n"
     ]
    }
   ],
   "source": [
    "# Multinomial Naive Bayes\n",
    "mnb = MultinomialNB(alpha=0.01)\n",
    "mnb.fit(X_train, y_train)\n",
    "y_mnb = mnb.predict(X_test)\n",
    "as_mnb = accuracy_score(y_test, y_mnb)\n",
    "f1s_mnb = f1_score(y_test, y_mnb, average= \"macro\")\n",
    "prec_mnb = precision_score(y_test, y_mnb)\n",
    "rec_mnb = recall_score(y_test, y_mnb, average='macro')\n",
    "print(confusion_matrix(y_test,y_mnb))\n",
    "print(classification_report(y_test,y_mnb))\n",
    "print(accuracy_score(y_test, y_mnb))"
   ]
  },
  {
   "cell_type": "code",
   "execution_count": 83,
   "metadata": {},
   "outputs": [
    {
     "name": "stdout",
     "output_type": "stream",
     "text": [
      "[LibSVM][[2847    3]\n",
      " [ 407   21]]\n",
      "              precision    recall  f1-score   support\n",
      "\n",
      "           0       0.87      1.00      0.93      2850\n",
      "           1       0.88      0.05      0.09       428\n",
      "\n",
      "    accuracy                           0.87      3278\n",
      "   macro avg       0.87      0.52      0.51      3278\n",
      "weighted avg       0.87      0.87      0.82      3278\n",
      "\n",
      "0.8749237339841367\n"
     ]
    }
   ],
   "source": [
    "# Support Vector Machine\n",
    "svc = SVC(verbose=10)\n",
    "svc.fit(X_train, y_train)\n",
    "y_svc = svc.predict(X_test)\n",
    "as_svc = accuracy_score(y_test, y_svc)\n",
    "f1s_svc = f1_score(y_test, y_svc, average=\"macro\")\n",
    "prec_svc = precision_score(y_test, y_svc)\n",
    "rec_svc = recall_score(y_test, y_svc, average='macro')\n",
    "print(confusion_matrix(y_test,y_svc))\n",
    "print(classification_report(y_test,y_svc))\n",
    "print(accuracy_score(y_test, y_svc))"
   ]
  },
  {
   "cell_type": "code",
   "execution_count": 84,
   "metadata": {},
   "outputs": [
    {
     "name": "stdout",
     "output_type": "stream",
     "text": [
      "[[2839   11]\n",
      " [ 400   28]]\n",
      "              precision    recall  f1-score   support\n",
      "\n",
      "           0       0.88      1.00      0.93      2850\n",
      "           1       0.72      0.07      0.12       428\n",
      "\n",
      "    accuracy                           0.87      3278\n",
      "   macro avg       0.80      0.53      0.53      3278\n",
      "weighted avg       0.86      0.87      0.83      3278\n",
      "\n",
      "0.8746186699206834\n"
     ]
    }
   ],
   "source": [
    "# Logistic\n",
    "log_fit = LogisticRegression(random_state=42).fit(X_train, y_train)\n",
    "y_log = log_fit.predict(X_test)\n",
    "as_log = accuracy_score(y_test, y_log)\n",
    "f1s_log = f1_score(y_test, y_log, average= \"macro\")\n",
    "prec_log = precision_score(y_test, y_log)\n",
    "rec_log = recall_score(y_test, y_log, average='macro')\n",
    "print(confusion_matrix(y_test,y_log))\n",
    "print(classification_report(y_test,y_log))\n",
    "print(accuracy_score(y_test, y_log))"
   ]
  },
  {
   "cell_type": "code",
   "execution_count": 85,
   "metadata": {},
   "outputs": [
    {
     "name": "stdout",
     "output_type": "stream",
     "text": [
      "[[2822   28]\n",
      " [ 379   49]]\n",
      "              precision    recall  f1-score   support\n",
      "\n",
      "           0       0.88      0.99      0.93      2850\n",
      "           1       0.64      0.11      0.19       428\n",
      "\n",
      "    accuracy                           0.88      3278\n",
      "   macro avg       0.76      0.55      0.56      3278\n",
      "weighted avg       0.85      0.88      0.84      3278\n",
      "\n",
      "0.8758389261744967\n"
     ]
    }
   ],
   "source": [
    "# Random Forest\n",
    "rf = RandomForestClassifier(n_estimators=10, random_state=42)\n",
    "rf.fit(X_train, y_train) \n",
    "y_rf = rf.predict(X_test)\n",
    "as_rf = accuracy_score(y_test, y_rf)\n",
    "f1s_rf = f1_score(y_test, y_rf, average= \"macro\")\n",
    "prec_rf = precision_score(y_test, y_rf)\n",
    "rec_rf = recall_score(y_test, y_rf, average='macro')\n",
    "print(confusion_matrix(y_test,y_rf))\n",
    "print(classification_report(y_test,y_rf))\n",
    "print(accuracy_score(y_test, y_rf))"
   ]
  },
  {
   "cell_type": "code",
   "execution_count": 86,
   "metadata": {},
   "outputs": [
    {
     "name": "stdout",
     "output_type": "stream",
     "text": [
      "[[2673  177]\n",
      " [ 297  131]]\n",
      "              precision    recall  f1-score   support\n",
      "\n",
      "           0       0.90      0.94      0.92      2850\n",
      "           1       0.43      0.31      0.36       428\n",
      "\n",
      "    accuracy                           0.86      3278\n",
      "   macro avg       0.66      0.62      0.64      3278\n",
      "weighted avg       0.84      0.86      0.85      3278\n",
      "\n",
      "0.8553996339231239\n"
     ]
    },
    {
     "name": "stderr",
     "output_type": "stream",
     "text": [
      "C:\\Users\\marti\\anaconda3\\lib\\site-packages\\sklearn\\neural_network\\_multilayer_perceptron.py:614: ConvergenceWarning: Stochastic Optimizer: Maximum iterations (50) reached and the optimization hasn't converged yet.\n",
      "  warnings.warn(\n"
     ]
    }
   ],
   "source": [
    "# Neural Networks\n",
    "NN = MLPClassifier(random_state=42, max_iter=50)\n",
    "NN.fit(X_train, y_train)\n",
    "y_NN = NN.predict(X_test)\n",
    "as_NN = accuracy_score(y_test, y_NN)\n",
    "f1s_NN = f1_score(y_test, y_NN, average= \"macro\")\n",
    "prec_NN = precision_score(y_test, y_NN)\n",
    "rec_NN = recall_score(y_test, y_NN, average='macro')\n",
    "print(confusion_matrix(y_test,y_NN))\n",
    "print(classification_report(y_test,y_NN))\n",
    "print(accuracy_score(y_test, y_NN))"
   ]
  },
  {
   "cell_type": "code",
   "execution_count": 87,
   "metadata": {},
   "outputs": [
    {
     "name": "stdout",
     "output_type": "stream",
     "text": [
      "[[2628  222]\n",
      " [ 271  157]]\n",
      "              precision    recall  f1-score   support\n",
      "\n",
      "           0       0.91      0.92      0.91      2850\n",
      "           1       0.41      0.37      0.39       428\n",
      "\n",
      "    accuracy                           0.85      3278\n",
      "   macro avg       0.66      0.64      0.65      3278\n",
      "weighted avg       0.84      0.85      0.85      3278\n",
      "\n",
      "0.8496034167175107\n"
     ]
    }
   ],
   "source": [
    "# Decision Tree\n",
    "tree = DecisionTreeClassifier()\n",
    "tree.fit(X_train, y_train)\n",
    "y_tree = tree.predict(X_test)\n",
    "as_tree = accuracy_score(y_test, y_tree)\n",
    "f1s_tree = f1_score(y_test, y_tree, average= \"macro\")\n",
    "prec_tree = precision_score(y_test, y_tree)\n",
    "rec_tree = recall_score(y_test, y_tree, average='macro')\n",
    "print(confusion_matrix(y_test,y_tree))\n",
    "print(classification_report(y_test,y_tree))\n",
    "print(accuracy_score(y_test, y_tree))"
   ]
  },
  {
   "cell_type": "code",
   "execution_count": 88,
   "metadata": {},
   "outputs": [
    {
     "name": "stdout",
     "output_type": "stream",
     "text": [
      "[[2850    0]\n",
      " [ 419    9]]\n",
      "              precision    recall  f1-score   support\n",
      "\n",
      "           0       0.87      1.00      0.93      2850\n",
      "           1       1.00      0.02      0.04       428\n",
      "\n",
      "    accuracy                           0.87      3278\n",
      "   macro avg       0.94      0.51      0.49      3278\n",
      "weighted avg       0.89      0.87      0.82      3278\n",
      "\n",
      "0.8721781574130567\n"
     ]
    }
   ],
   "source": [
    "# K-Nearest Neighbors\n",
    "knn = KNeighborsClassifier()\n",
    "knn.fit(X_train, y_train)\n",
    "y_knn = knn.predict(X_test)\n",
    "as_knn = accuracy_score(y_test, y_knn)\n",
    "f1s_knn = f1_score(y_test, y_knn, average= \"macro\")\n",
    "prec_knn = precision_score(y_test, y_knn)\n",
    "rec_knn = recall_score(y_test, y_knn, average='macro')\n",
    "print(confusion_matrix(y_test,y_knn))\n",
    "print(classification_report(y_test,y_knn))\n",
    "print(accuracy_score(y_test, y_knn))"
   ]
  },
  {
   "cell_type": "code",
   "execution_count": 89,
   "metadata": {},
   "outputs": [
    {
     "data": {
      "text/html": [
       "<style  type=\"text/css\" >\n",
       "#T_95965534_9dfe_11eb_a8df_b077b776b53arow0_col1,#T_95965534_9dfe_11eb_a8df_b077b776b53arow5_col0,#T_95965534_9dfe_11eb_a8df_b077b776b53arow6_col2,#T_95965534_9dfe_11eb_a8df_b077b776b53arow6_col3{\n",
       "            background-color:  tomato;\n",
       "        }#T_95965534_9dfe_11eb_a8df_b077b776b53arow3_col0,#T_95965534_9dfe_11eb_a8df_b077b776b53arow5_col2,#T_95965534_9dfe_11eb_a8df_b077b776b53arow5_col3,#T_95965534_9dfe_11eb_a8df_b077b776b53arow6_col1{\n",
       "            background-color:  lightgreen;\n",
       "        }</style><table id=\"T_95965534_9dfe_11eb_a8df_b077b776b53a\" ><thead>    <tr>        <th class=\"blank level0\" ></th>        <th class=\"col_heading level0 col0\" >Accuracy Score</th>        <th class=\"col_heading level0 col1\" >Precision Score</th>        <th class=\"col_heading level0 col2\" >Recall Score</th>        <th class=\"col_heading level0 col3\" >F1 Score</th>    </tr></thead><tbody>\n",
       "                <tr>\n",
       "                        <th id=\"T_95965534_9dfe_11eb_a8df_b077b776b53alevel0_row0\" class=\"row_heading level0 row0\" >Multinomial Naive Bayes</th>\n",
       "                        <td id=\"T_95965534_9dfe_11eb_a8df_b077b776b53arow0_col0\" class=\"data row0 col0\" >0.854484</td>\n",
       "                        <td id=\"T_95965534_9dfe_11eb_a8df_b077b776b53arow0_col1\" class=\"data row0 col1\" >0.405405</td>\n",
       "                        <td id=\"T_95965534_9dfe_11eb_a8df_b077b776b53arow0_col2\" class=\"data row0 col2\" >0.595646</td>\n",
       "                        <td id=\"T_95965534_9dfe_11eb_a8df_b077b776b53arow0_col3\" class=\"data row0 col3\" >0.612201</td>\n",
       "            </tr>\n",
       "            <tr>\n",
       "                        <th id=\"T_95965534_9dfe_11eb_a8df_b077b776b53alevel0_row1\" class=\"row_heading level0 row1\" >Support Vector Machine</th>\n",
       "                        <td id=\"T_95965534_9dfe_11eb_a8df_b077b776b53arow1_col0\" class=\"data row1 col0\" >0.874924</td>\n",
       "                        <td id=\"T_95965534_9dfe_11eb_a8df_b077b776b53arow1_col1\" class=\"data row1 col1\" >0.875000</td>\n",
       "                        <td id=\"T_95965534_9dfe_11eb_a8df_b077b776b53arow1_col2\" class=\"data row1 col2\" >0.524006</td>\n",
       "                        <td id=\"T_95965534_9dfe_11eb_a8df_b077b776b53arow1_col3\" class=\"data row1 col3\" >0.512876</td>\n",
       "            </tr>\n",
       "            <tr>\n",
       "                        <th id=\"T_95965534_9dfe_11eb_a8df_b077b776b53alevel0_row2\" class=\"row_heading level0 row2\" >Logistic Regression</th>\n",
       "                        <td id=\"T_95965534_9dfe_11eb_a8df_b077b776b53arow2_col0\" class=\"data row2 col0\" >0.874619</td>\n",
       "                        <td id=\"T_95965534_9dfe_11eb_a8df_b077b776b53arow2_col1\" class=\"data row2 col1\" >0.717949</td>\n",
       "                        <td id=\"T_95965534_9dfe_11eb_a8df_b077b776b53arow2_col2\" class=\"data row2 col2\" >0.530780</td>\n",
       "                        <td id=\"T_95965534_9dfe_11eb_a8df_b077b776b53arow2_col3\" class=\"data row2 col3\" >0.526208</td>\n",
       "            </tr>\n",
       "            <tr>\n",
       "                        <th id=\"T_95965534_9dfe_11eb_a8df_b077b776b53alevel0_row3\" class=\"row_heading level0 row3\" >Random Forest</th>\n",
       "                        <td id=\"T_95965534_9dfe_11eb_a8df_b077b776b53arow3_col0\" class=\"data row3 col0\" >0.875839</td>\n",
       "                        <td id=\"T_95965534_9dfe_11eb_a8df_b077b776b53arow3_col1\" class=\"data row3 col1\" >0.636364</td>\n",
       "                        <td id=\"T_95965534_9dfe_11eb_a8df_b077b776b53arow3_col2\" class=\"data row3 col2\" >0.552331</td>\n",
       "                        <td id=\"T_95965534_9dfe_11eb_a8df_b077b776b53arow3_col3\" class=\"data row3 col3\" >0.563399</td>\n",
       "            </tr>\n",
       "            <tr>\n",
       "                        <th id=\"T_95965534_9dfe_11eb_a8df_b077b776b53alevel0_row4\" class=\"row_heading level0 row4\" >Neural Networks</th>\n",
       "                        <td id=\"T_95965534_9dfe_11eb_a8df_b077b776b53arow4_col0\" class=\"data row4 col0\" >0.855400</td>\n",
       "                        <td id=\"T_95965534_9dfe_11eb_a8df_b077b776b53arow4_col1\" class=\"data row4 col1\" >0.425325</td>\n",
       "                        <td id=\"T_95965534_9dfe_11eb_a8df_b077b776b53arow4_col2\" class=\"data row4 col2\" >0.621985</td>\n",
       "                        <td id=\"T_95965534_9dfe_11eb_a8df_b077b776b53arow4_col3\" class=\"data row4 col3\" >0.637267</td>\n",
       "            </tr>\n",
       "            <tr>\n",
       "                        <th id=\"T_95965534_9dfe_11eb_a8df_b077b776b53alevel0_row5\" class=\"row_heading level0 row5\" >Decision Tree</th>\n",
       "                        <td id=\"T_95965534_9dfe_11eb_a8df_b077b776b53arow5_col0\" class=\"data row5 col0\" >0.849603</td>\n",
       "                        <td id=\"T_95965534_9dfe_11eb_a8df_b077b776b53arow5_col1\" class=\"data row5 col1\" >0.414248</td>\n",
       "                        <td id=\"T_95965534_9dfe_11eb_a8df_b077b776b53arow5_col2\" class=\"data row5 col2\" >0.644464</td>\n",
       "                        <td id=\"T_95965534_9dfe_11eb_a8df_b077b776b53arow5_col3\" class=\"data row5 col3\" >0.651671</td>\n",
       "            </tr>\n",
       "            <tr>\n",
       "                        <th id=\"T_95965534_9dfe_11eb_a8df_b077b776b53alevel0_row6\" class=\"row_heading level0 row6\" >K-Nearest Neighbors</th>\n",
       "                        <td id=\"T_95965534_9dfe_11eb_a8df_b077b776b53arow6_col0\" class=\"data row6 col0\" >0.872178</td>\n",
       "                        <td id=\"T_95965534_9dfe_11eb_a8df_b077b776b53arow6_col1\" class=\"data row6 col1\" >1.000000</td>\n",
       "                        <td id=\"T_95965534_9dfe_11eb_a8df_b077b776b53arow6_col2\" class=\"data row6 col2\" >0.510514</td>\n",
       "                        <td id=\"T_95965534_9dfe_11eb_a8df_b077b776b53arow6_col3\" class=\"data row6 col3\" >0.486357</td>\n",
       "            </tr>\n",
       "    </tbody></table>"
      ],
      "text/plain": [
       "<pandas.io.formats.style.Styler at 0x1bed127e910>"
      ]
     },
     "execution_count": 89,
     "metadata": {},
     "output_type": "execute_result"
    }
   ],
   "source": [
    "s1 = pd.Series([as_mnb, as_svc, as_log, as_rf, as_NN, as_tree, as_knn], index=['Multinomial Naive Bayes', 'Support Vector Machine', 'Logistic Regression', 'Random Forest', 'Neural Networks', 'Decision Tree', 'K-Nearest Neighbors'])\n",
    "s2 = pd.Series([f1s_mnb, f1s_svc, f1s_log, f1s_rf, f1s_NN, f1s_tree, f1s_knn], index=['Multinomial Naive Bayes', 'Support Vector Machine', 'Logistic Regression','Random Forest', 'Neural Networks', 'Decision Tree', 'K-Nearest Neighbors'])\n",
    "s3 = pd.Series([prec_mnb, prec_svc, prec_log, prec_rf, prec_NN, prec_tree, prec_knn], index=['Multinomial Naive Bayes', 'Support Vector Machine', 'Logistic Regression', 'Random Forest', 'Neural Networks', 'Decision Tree', 'K-Nearest Neighbors'])\n",
    "s4 = pd.Series([rec_mnb, rec_svc, rec_log, rec_rf, rec_NN, rec_tree, rec_knn], index=['Multinomial Naive Bayes', 'Support Vector Machine', 'Logistic Regression', 'Random Forest', 'Neural Networks', 'Decision Tree', 'K-Nearest Neighbors'])\n",
    "d = {'Accuracy Score' : s1, 'Precision Score': s3, 'Recall Score' : s4, 'F1 Score' : s2 }\n",
    "dfm = pd.DataFrame(d)\n",
    "dfm.style.highlight_max(color = 'lightgreen', axis = 0).highlight_min(color = 'tomato', axis = 0)"
   ]
  },
  {
   "cell_type": "code",
   "execution_count": 90,
   "metadata": {},
   "outputs": [
    {
     "data": {
      "text/plain": [
       "Text(0.5, 1.0, '2-class Precision-Recall curve: AP=0.88')"
      ]
     },
     "execution_count": 90,
     "metadata": {},
     "output_type": "execute_result"
    },
    {
     "data": {
      "image/png": "[encoded data removed]",
      "text/plain": [
       "<Figure size 432x288 with 1 Axes>"
      ]
     },
     "metadata": {
      "needs_background": "light"
     },
     "output_type": "display_data"
    }
   ],
   "source": [
    "from sklearn.metrics import precision_recall_curve\n",
    "from sklearn.metrics import plot_precision_recall_curve\n",
    "import matplotlib.pyplot as plt\n",
    "\n",
    "classifier = svm.LinearSVC(random_state=random_state)\n",
    "classifier.fit(X_train, y_train)\n",
    "\n",
    "disp = plot_precision_recall_curve(classifier, X_test, y_test)\n",
    "disp.ax_.set_title('2-class Precision-Recall curve: '\n",
    "                   'AP={0:0.2f}'.format(prec_svc))"
   ]
  },
  {
   "cell_type": "code",
   "execution_count": null,
   "metadata": {},
   "outputs": [],
   "source": []
  },
  {
   "cell_type": "markdown",
   "metadata": {},
   "source": [
    "# 4.1 Imbalanced"
   ]
  },
  {
   "cell_type": "code",
   "execution_count": 91,
   "metadata": {},
   "outputs": [],
   "source": [
    "import imblearn\n",
    "from imblearn.under_sampling import RandomUnderSampler \n",
    "undersample = RandomUnderSampler(sampling_strategy='majority')"
   ]
  },
  {
   "cell_type": "code",
   "execution_count": 92,
   "metadata": {},
   "outputs": [],
   "source": [
    "X_over, y_over = undersample.fit_resample(X_class, y_class)"
   ]
  },
  {
   "cell_type": "code",
   "execution_count": 93,
   "metadata": {},
   "outputs": [
    {
     "name": "stdout",
     "output_type": "stream",
     "text": [
      "Counter({0: 1428, 1: 1428})\n"
     ]
    }
   ],
   "source": [
    "from collections import Counter\n",
    "print(Counter(y_over))"
   ]
  },
  {
   "cell_type": "code",
   "execution_count": 94,
   "metadata": {},
   "outputs": [],
   "source": [
    "X_train, X_test, y_train, y_test = train_test_split(X_over, y_over, test_size=0.3, random_state=42, stratify=y_over)"
   ]
  },
  {
   "cell_type": "code",
   "execution_count": 95,
   "metadata": {},
   "outputs": [
    {
     "name": "stdout",
     "output_type": "stream",
     "text": [
      "[[263 166]\n",
      " [131 297]]\n",
      "              precision    recall  f1-score   support\n",
      "\n",
      "           0       0.67      0.61      0.64       429\n",
      "           1       0.64      0.69      0.67       428\n",
      "\n",
      "    accuracy                           0.65       857\n",
      "   macro avg       0.65      0.65      0.65       857\n",
      "weighted avg       0.65      0.65      0.65       857\n",
      "\n",
      "0.6534422403733956\n"
     ]
    }
   ],
   "source": [
    "# Multinomial Naive Bayes\n",
    "mnb_i = MultinomialNB(alpha=0.01)\n",
    "mnb_i.fit(X_train, y_train)\n",
    "y_mnb_i = mnb_i.predict(X_test)\n",
    "as_mnb_i = accuracy_score(y_test, y_mnb_i)\n",
    "f1s_mnb_i = f1_score(y_test, y_mnb_i, average= \"macro\")\n",
    "prec_mnb_i = precision_score(y_test, y_mnb_i)\n",
    "rec_mnb_i = recall_score(y_test, y_mnb_i, average='macro')\n",
    "print(confusion_matrix(y_test,y_mnb_i))\n",
    "print(classification_report(y_test,y_mnb_i))\n",
    "print(accuracy_score(y_test, y_mnb_i))"
   ]
  },
  {
   "cell_type": "code",
   "execution_count": 96,
   "metadata": {},
   "outputs": [
    {
     "name": "stdout",
     "output_type": "stream",
     "text": [
      "[LibSVM][[334  95]\n",
      " [145 283]]\n",
      "              precision    recall  f1-score   support\n",
      "\n",
      "           0       0.70      0.78      0.74       429\n",
      "           1       0.75      0.66      0.70       428\n",
      "\n",
      "    accuracy                           0.72       857\n",
      "   macro avg       0.72      0.72      0.72       857\n",
      "weighted avg       0.72      0.72      0.72       857\n",
      "\n",
      "0.7199533255542591\n"
     ]
    }
   ],
   "source": [
    "# Support Vector Machine\n",
    "svc_i = SVC(verbose=10)\n",
    "svc_i.fit(X_train, y_train)\n",
    "y_svc_i = svc_i.predict(X_test)\n",
    "as_svc_i = accuracy_score(y_test, y_svc_i)\n",
    "f1s_svc_i = f1_score(y_test, y_svc_i, average=\"macro\")\n",
    "prec_svc_i = precision_score(y_test, y_svc_i)\n",
    "rec_svc_i = recall_score(y_test, y_svc_i, average='macro')\n",
    "print(confusion_matrix(y_test,y_svc_i))\n",
    "print(classification_report(y_test,y_svc_i))\n",
    "print(accuracy_score(y_test, y_svc_i))"
   ]
  },
  {
   "cell_type": "code",
   "execution_count": 97,
   "metadata": {},
   "outputs": [
    {
     "name": "stdout",
     "output_type": "stream",
     "text": [
      "[[337  92]\n",
      " [141 287]]\n",
      "              precision    recall  f1-score   support\n",
      "\n",
      "           0       0.71      0.79      0.74       429\n",
      "           1       0.76      0.67      0.71       428\n",
      "\n",
      "    accuracy                           0.73       857\n",
      "   macro avg       0.73      0.73      0.73       857\n",
      "weighted avg       0.73      0.73      0.73       857\n",
      "\n",
      "0.7281213535589265\n"
     ]
    }
   ],
   "source": [
    "# Logistic\n",
    "log_fit_i = LogisticRegression(random_state=42).fit(X_train, y_train)\n",
    "y_log_i = log_fit_i.predict(X_test)\n",
    "as_log_i = accuracy_score(y_test, y_log_i)\n",
    "f1s_log_i = f1_score(y_test, y_log_i, average= \"macro\")\n",
    "prec_log_i = precision_score(y_test, y_log_i)\n",
    "rec_log_i = recall_score(y_test, y_log_i, average='macro')\n",
    "print(confusion_matrix(y_test,y_log_i))\n",
    "print(classification_report(y_test,y_log_i))\n",
    "print(accuracy_score(y_test, y_log_i))"
   ]
  },
  {
   "cell_type": "code",
   "execution_count": 98,
   "metadata": {},
   "outputs": [
    {
     "name": "stdout",
     "output_type": "stream",
     "text": [
      "[[345  84]\n",
      " [209 219]]\n",
      "              precision    recall  f1-score   support\n",
      "\n",
      "           0       0.62      0.80      0.70       429\n",
      "           1       0.72      0.51      0.60       428\n",
      "\n",
      "    accuracy                           0.66       857\n",
      "   macro avg       0.67      0.66      0.65       857\n",
      "weighted avg       0.67      0.66      0.65       857\n",
      "\n",
      "0.6581096849474912\n"
     ]
    }
   ],
   "source": [
    "# Random Forest\n",
    "rf_i = RandomForestClassifier(n_estimators=10, random_state=42)\n",
    "rf_i.fit(X_train, y_train) \n",
    "y_rf_i = rf_i.predict(X_test)\n",
    "as_rf_i = accuracy_score(y_test, y_rf_i)\n",
    "f1s_rf_i = f1_score(y_test, y_rf_i, average= \"macro\")\n",
    "prec_rf_i = precision_score(y_test, y_rf_i)\n",
    "rec_rf_i = recall_score(y_test, y_rf_i, average='macro')\n",
    "print(confusion_matrix(y_test,y_rf_i))\n",
    "print(classification_report(y_test,y_rf_i))\n",
    "print(accuracy_score(y_test, y_rf_i))"
   ]
  },
  {
   "cell_type": "code",
   "execution_count": 99,
   "metadata": {},
   "outputs": [
    {
     "name": "stdout",
     "output_type": "stream",
     "text": [
      "[[310 119]\n",
      " [144 284]]\n",
      "              precision    recall  f1-score   support\n",
      "\n",
      "           0       0.68      0.72      0.70       429\n",
      "           1       0.70      0.66      0.68       428\n",
      "\n",
      "    accuracy                           0.69       857\n",
      "   macro avg       0.69      0.69      0.69       857\n",
      "weighted avg       0.69      0.69      0.69       857\n",
      "\n",
      "0.6931155192532089\n"
     ]
    },
    {
     "name": "stderr",
     "output_type": "stream",
     "text": [
      "C:\\Users\\marti\\anaconda3\\lib\\site-packages\\sklearn\\neural_network\\_multilayer_perceptron.py:614: ConvergenceWarning: Stochastic Optimizer: Maximum iterations (10) reached and the optimization hasn't converged yet.\n",
      "  warnings.warn(\n"
     ]
    }
   ],
   "source": [
    "# Neural Networks\n",
    "NN_i = MLPClassifier(random_state=42, max_iter=10)\n",
    "NN_i.fit(X_train, y_train)\n",
    "#NN.score(X_test, y_test)\n",
    "y_NN_i = NN_i.predict(X_test)\n",
    "as_NN_i = accuracy_score(y_test, y_NN_i)\n",
    "f1s_NN_i = f1_score(y_test, y_NN_i, average= \"macro\")\n",
    "prec_NN_i = precision_score(y_test, y_NN_i)\n",
    "rec_NN_i = recall_score(y_test, y_NN_i, average='macro')\n",
    "print(confusion_matrix(y_test,y_NN_i))\n",
    "print(classification_report(y_test,y_NN_i))\n",
    "print(accuracy_score(y_test, y_NN_i))"
   ]
  },
  {
   "cell_type": "code",
   "execution_count": 100,
   "metadata": {},
   "outputs": [
    {
     "name": "stdout",
     "output_type": "stream",
     "text": [
      "[[304 125]\n",
      " [169 259]]\n",
      "              precision    recall  f1-score   support\n",
      "\n",
      "           0       0.64      0.71      0.67       429\n",
      "           1       0.67      0.61      0.64       428\n",
      "\n",
      "    accuracy                           0.66       857\n",
      "   macro avg       0.66      0.66      0.66       857\n",
      "weighted avg       0.66      0.66      0.66       857\n",
      "\n",
      "0.6569428238039673\n"
     ]
    }
   ],
   "source": [
    "# Decision Tree\n",
    "tree_i = DecisionTreeClassifier()\n",
    "tree_i.fit(X_train, y_train)\n",
    "y_tree_i = tree_i.predict(X_test)\n",
    "as_tree_i = accuracy_score(y_test, y_tree_i)\n",
    "f1s_tree_i = f1_score(y_test, y_tree_i, average= \"macro\")\n",
    "prec_tree_i = precision_score(y_test, y_tree_i)\n",
    "rec_tree_i = recall_score(y_test, y_tree_i, average='macro')\n",
    "print(confusion_matrix(y_test,y_tree_i))\n",
    "print(classification_report(y_test,y_tree_i))\n",
    "print(accuracy_score(y_test, y_tree_i))"
   ]
  },
  {
   "cell_type": "code",
   "execution_count": 101,
   "metadata": {},
   "outputs": [
    {
     "name": "stdout",
     "output_type": "stream",
     "text": [
      "[[428   1]\n",
      " [413  15]]\n",
      "              precision    recall  f1-score   support\n",
      "\n",
      "           0       0.51      1.00      0.67       429\n",
      "           1       0.94      0.04      0.07       428\n",
      "\n",
      "    accuracy                           0.52       857\n",
      "   macro avg       0.72      0.52      0.37       857\n",
      "weighted avg       0.72      0.52      0.37       857\n",
      "\n",
      "0.5169194865810969\n"
     ]
    }
   ],
   "source": [
    "# K-Nearest Neighbors\n",
    "knn_i = KNeighborsClassifier()\n",
    "knn_i.fit(X_train, y_train)\n",
    "y_knn_i = knn_i.predict(X_test)\n",
    "as_knn_i = accuracy_score(y_test, y_knn_i)\n",
    "f1s_knn_i = f1_score(y_test, y_knn_i, average= \"macro\")\n",
    "prec_knn_i = precision_score(y_test, y_knn_i)\n",
    "rec_knn_i = recall_score(y_test, y_knn_i, average='macro')\n",
    "print(confusion_matrix(y_test,y_knn_i))\n",
    "print(classification_report(y_test,y_knn_i))\n",
    "print(accuracy_score(y_test, y_knn_i))"
   ]
  },
  {
   "cell_type": "code",
   "execution_count": 102,
   "metadata": {},
   "outputs": [
    {
     "data": {
      "text/html": [
       "<style  type=\"text/css\" >\n",
       "#T_9ae5e5f1_9dfe_11eb_9295_b077b776b53arow0_col1,#T_9ae5e5f1_9dfe_11eb_9295_b077b776b53arow6_col0,#T_9ae5e5f1_9dfe_11eb_9295_b077b776b53arow6_col2,#T_9ae5e5f1_9dfe_11eb_9295_b077b776b53arow6_col3{\n",
       "            background-color:  tomato;\n",
       "        }#T_9ae5e5f1_9dfe_11eb_9295_b077b776b53arow2_col0,#T_9ae5e5f1_9dfe_11eb_9295_b077b776b53arow2_col3,#T_9ae5e5f1_9dfe_11eb_9295_b077b776b53arow5_col2,#T_9ae5e5f1_9dfe_11eb_9295_b077b776b53arow6_col1{\n",
       "            background-color:  lightgreen;\n",
       "        }</style><table id=\"T_9ae5e5f1_9dfe_11eb_9295_b077b776b53a\" ><thead>    <tr>        <th class=\"blank level0\" ></th>        <th class=\"col_heading level0 col0\" >Accuracy Score</th>        <th class=\"col_heading level0 col1\" >Precision Score</th>        <th class=\"col_heading level0 col2\" >Recall Score</th>        <th class=\"col_heading level0 col3\" >F1 Score</th>    </tr></thead><tbody>\n",
       "                <tr>\n",
       "                        <th id=\"T_9ae5e5f1_9dfe_11eb_9295_b077b776b53alevel0_row0\" class=\"row_heading level0 row0\" >Multinomial Naive Bayes</th>\n",
       "                        <td id=\"T_9ae5e5f1_9dfe_11eb_9295_b077b776b53arow0_col0\" class=\"data row0 col0\" >0.653442</td>\n",
       "                        <td id=\"T_9ae5e5f1_9dfe_11eb_9295_b077b776b53arow0_col1\" class=\"data row0 col1\" >0.641469</td>\n",
       "                        <td id=\"T_9ae5e5f1_9dfe_11eb_9295_b077b776b53arow0_col2\" class=\"data row0 col2\" >0.595646</td>\n",
       "                        <td id=\"T_9ae5e5f1_9dfe_11eb_9295_b077b776b53arow0_col3\" class=\"data row0 col3\" >0.652896</td>\n",
       "            </tr>\n",
       "            <tr>\n",
       "                        <th id=\"T_9ae5e5f1_9dfe_11eb_9295_b077b776b53alevel0_row1\" class=\"row_heading level0 row1\" >Support Vector Machine</th>\n",
       "                        <td id=\"T_9ae5e5f1_9dfe_11eb_9295_b077b776b53arow1_col0\" class=\"data row1 col0\" >0.719953</td>\n",
       "                        <td id=\"T_9ae5e5f1_9dfe_11eb_9295_b077b776b53arow1_col1\" class=\"data row1 col1\" >0.748677</td>\n",
       "                        <td id=\"T_9ae5e5f1_9dfe_11eb_9295_b077b776b53arow1_col2\" class=\"data row1 col2\" >0.524006</td>\n",
       "                        <td id=\"T_9ae5e5f1_9dfe_11eb_9295_b077b776b53arow1_col3\" class=\"data row1 col3\" >0.718958</td>\n",
       "            </tr>\n",
       "            <tr>\n",
       "                        <th id=\"T_9ae5e5f1_9dfe_11eb_9295_b077b776b53alevel0_row2\" class=\"row_heading level0 row2\" >Logistic Regression</th>\n",
       "                        <td id=\"T_9ae5e5f1_9dfe_11eb_9295_b077b776b53arow2_col0\" class=\"data row2 col0\" >0.728121</td>\n",
       "                        <td id=\"T_9ae5e5f1_9dfe_11eb_9295_b077b776b53arow2_col1\" class=\"data row2 col1\" >0.757256</td>\n",
       "                        <td id=\"T_9ae5e5f1_9dfe_11eb_9295_b077b776b53arow2_col2\" class=\"data row2 col2\" >0.530780</td>\n",
       "                        <td id=\"T_9ae5e5f1_9dfe_11eb_9295_b077b776b53arow2_col3\" class=\"data row2 col3\" >0.727193</td>\n",
       "            </tr>\n",
       "            <tr>\n",
       "                        <th id=\"T_9ae5e5f1_9dfe_11eb_9295_b077b776b53alevel0_row3\" class=\"row_heading level0 row3\" >Random Forest</th>\n",
       "                        <td id=\"T_9ae5e5f1_9dfe_11eb_9295_b077b776b53arow3_col0\" class=\"data row3 col0\" >0.658110</td>\n",
       "                        <td id=\"T_9ae5e5f1_9dfe_11eb_9295_b077b776b53arow3_col1\" class=\"data row3 col1\" >0.722772</td>\n",
       "                        <td id=\"T_9ae5e5f1_9dfe_11eb_9295_b077b776b53arow3_col2\" class=\"data row3 col2\" >0.552331</td>\n",
       "                        <td id=\"T_9ae5e5f1_9dfe_11eb_9295_b077b776b53arow3_col3\" class=\"data row3 col3\" >0.650556</td>\n",
       "            </tr>\n",
       "            <tr>\n",
       "                        <th id=\"T_9ae5e5f1_9dfe_11eb_9295_b077b776b53alevel0_row4\" class=\"row_heading level0 row4\" >Neural Networks</th>\n",
       "                        <td id=\"T_9ae5e5f1_9dfe_11eb_9295_b077b776b53arow4_col0\" class=\"data row4 col0\" >0.693116</td>\n",
       "                        <td id=\"T_9ae5e5f1_9dfe_11eb_9295_b077b776b53arow4_col1\" class=\"data row4 col1\" >0.704715</td>\n",
       "                        <td id=\"T_9ae5e5f1_9dfe_11eb_9295_b077b776b53arow4_col2\" class=\"data row4 col2\" >0.621985</td>\n",
       "                        <td id=\"T_9ae5e5f1_9dfe_11eb_9295_b077b776b53arow4_col3\" class=\"data row4 col3\" >0.692833</td>\n",
       "            </tr>\n",
       "            <tr>\n",
       "                        <th id=\"T_9ae5e5f1_9dfe_11eb_9295_b077b776b53alevel0_row5\" class=\"row_heading level0 row5\" >Decision Tree</th>\n",
       "                        <td id=\"T_9ae5e5f1_9dfe_11eb_9295_b077b776b53arow5_col0\" class=\"data row5 col0\" >0.656943</td>\n",
       "                        <td id=\"T_9ae5e5f1_9dfe_11eb_9295_b077b776b53arow5_col1\" class=\"data row5 col1\" >0.674479</td>\n",
       "                        <td id=\"T_9ae5e5f1_9dfe_11eb_9295_b077b776b53arow5_col2\" class=\"data row5 col2\" >0.644464</td>\n",
       "                        <td id=\"T_9ae5e5f1_9dfe_11eb_9295_b077b776b53arow5_col3\" class=\"data row5 col3\" >0.655994</td>\n",
       "            </tr>\n",
       "            <tr>\n",
       "                        <th id=\"T_9ae5e5f1_9dfe_11eb_9295_b077b776b53alevel0_row6\" class=\"row_heading level0 row6\" >K-Nearest Neighbors</th>\n",
       "                        <td id=\"T_9ae5e5f1_9dfe_11eb_9295_b077b776b53arow6_col0\" class=\"data row6 col0\" >0.516919</td>\n",
       "                        <td id=\"T_9ae5e5f1_9dfe_11eb_9295_b077b776b53arow6_col1\" class=\"data row6 col1\" >0.937500</td>\n",
       "                        <td id=\"T_9ae5e5f1_9dfe_11eb_9295_b077b776b53arow6_col2\" class=\"data row6 col2\" >0.510514</td>\n",
       "                        <td id=\"T_9ae5e5f1_9dfe_11eb_9295_b077b776b53arow6_col3\" class=\"data row6 col3\" >0.370792</td>\n",
       "            </tr>\n",
       "    </tbody></table>"
      ],
      "text/plain": [
       "<pandas.io.formats.style.Styler at 0x1bed134d490>"
      ]
     },
     "execution_count": 102,
     "metadata": {},
     "output_type": "execute_result"
    }
   ],
   "source": [
    "s1_i = pd.Series([as_mnb_i, as_svc_i, as_log_i, as_rf_i, as_NN_i, as_tree_i, as_knn_i], index=['Multinomial Naive Bayes', 'Support Vector Machine', 'Logistic Regression', 'Random Forest', 'Neural Networks', 'Decision Tree', 'K-Nearest Neighbors'])\n",
    "s2_i = pd.Series([f1s_mnb_i, f1s_svc_i, f1s_log_i, f1s_rf_i, f1s_NN_i, f1s_tree_i, f1s_knn_i], index=['Multinomial Naive Bayes', 'Support Vector Machine', 'Logistic Regression','Random Forest', 'Neural Networks', 'Decision Tree', 'K-Nearest Neighbors'])\n",
    "s3_i = pd.Series([prec_mnb_i, prec_svc_i, prec_log_i, prec_rf_i, prec_NN_i, prec_tree_i, prec_knn_i], index=['Multinomial Naive Bayes', 'Support Vector Machine', 'Logistic Regression', 'Random Forest', 'Neural Networks', 'Decision Tree', 'K-Nearest Neighbors'])\n",
    "s4_i = pd.Series([rec_mnb, rec_svc, rec_log, rec_rf, rec_NN, rec_tree, rec_knn], index=['Multinomial Naive Bayes', 'Support Vector Machine', 'Logistic Regression', 'Random Forest', 'Neural Networks', 'Decision Tree', 'K-Nearest Neighbors'])\n",
    "d_i = {'Accuracy Score' : s1_i, 'Precision Score': s3_i, 'Recall Score' : s4_i, 'F1 Score' : s2_i}\n",
    "dfm_i = pd.DataFrame(d_i)\n",
    "dfm_i.style.highlight_max(color = 'lightgreen', axis = 0).highlight_min(color = 'tomato', axis = 0)"
   ]
  },
  {
   "cell_type": "code",
   "execution_count": null,
   "metadata": {},
   "outputs": [],
   "source": []
  },
  {
   "cell_type": "markdown",
   "metadata": {},
   "source": [
    "## 4.2 Models on POS"
   ]
  },
  {
   "cell_type": "code",
   "execution_count": 103,
   "metadata": {
    "execution": {
     "iopub.execute_input": "2021-04-13T20:26:52.164476Z",
     "iopub.status.busy": "2021-04-13T20:26:52.164195Z",
     "iopub.status.idle": "2021-04-13T20:26:52.169915Z",
     "shell.execute_reply": "2021-04-13T20:26:52.168851Z",
     "shell.execute_reply.started": "2021-04-13T20:26:52.164447Z"
    }
   },
   "outputs": [],
   "source": [
    "def filter_text_pos(x):\n",
    "    final_pos_text = []\n",
    "    for elem in x:\n",
    "        for pos in pos_list:\n",
    "            if elem[1] == pos:\n",
    "                final_pos_text.append(elem[0])\n",
    "    \n",
    "    return \" \".join(final_pos_text)"
   ]
  },
  {
   "cell_type": "markdown",
   "metadata": {},
   "source": [
    "### 4.2.1 Proper Nouns"
   ]
  },
  {
   "cell_type": "code",
   "execution_count": 104,
   "metadata": {
    "execution": {
     "iopub.execute_input": "2021-04-13T20:27:06.486857Z",
     "iopub.status.busy": "2021-04-13T20:27:06.486535Z",
     "iopub.status.idle": "2021-04-13T20:27:06.490613Z",
     "shell.execute_reply": "2021-04-13T20:27:06.489765Z",
     "shell.execute_reply.started": "2021-04-13T20:27:06.486828Z"
    }
   },
   "outputs": [],
   "source": [
    "pos_list = [\"PROPN\"]"
   ]
  },
  {
   "cell_type": "code",
   "execution_count": 105,
   "metadata": {
    "execution": {
     "iopub.execute_input": "2021-04-13T20:27:09.190085Z",
     "iopub.status.busy": "2021-04-13T20:27:09.189633Z",
     "iopub.status.idle": "2021-04-13T20:27:09.431750Z",
     "shell.execute_reply": "2021-04-13T20:27:09.431160Z",
     "shell.execute_reply.started": "2021-04-13T20:27:09.190030Z"
    }
   },
   "outputs": [],
   "source": [
    "data[\"PROPN\"] = data.apply(lambda x: filter_text_pos(x[\"POS_spacy\"]), axis=1)"
   ]
  },
  {
   "cell_type": "code",
   "execution_count": 106,
   "metadata": {},
   "outputs": [
    {
     "data": {
      "text/plain": [
       "(10926, 6632)"
      ]
     },
     "execution_count": 106,
     "metadata": {},
     "output_type": "execute_result"
    }
   ],
   "source": [
    "tfidf_vectorizer = TfidfVectorizer()\n",
    "X_Propn = tfidf_vectorizer.fit_transform(data[\"PROPN\"])\n",
    "y_Propn = data[\"label\"]\n",
    "X_Propn.shape"
   ]
  },
  {
   "cell_type": "code",
   "execution_count": 107,
   "metadata": {},
   "outputs": [],
   "source": [
    "X_over, y_over = undersample.fit_resample(X_Propn, y_Propn)"
   ]
  },
  {
   "cell_type": "code",
   "execution_count": 108,
   "metadata": {},
   "outputs": [],
   "source": [
    "X_train, X_test, y_train, y_test = train_test_split(X_over, y_over, test_size=0.3, random_state=42, stratify=y_over)"
   ]
  },
  {
   "cell_type": "code",
   "execution_count": 109,
   "metadata": {},
   "outputs": [
    {
     "name": "stdout",
     "output_type": "stream",
     "text": [
      "[[159 270]\n",
      " [117 311]]\n",
      "              precision    recall  f1-score   support\n",
      "\n",
      "           0       0.58      0.37      0.45       429\n",
      "           1       0.54      0.73      0.62       428\n",
      "\n",
      "    accuracy                           0.55       857\n",
      "   macro avg       0.56      0.55      0.53       857\n",
      "weighted avg       0.56      0.55      0.53       857\n",
      "\n",
      "0.5484247374562428\n"
     ]
    }
   ],
   "source": [
    "# Multinomial Naive Bayes\n",
    "mnb_i = MultinomialNB(alpha=0.01)\n",
    "mnb_i.fit(X_train, y_train)\n",
    "y_mnb_i = mnb_i.predict(X_test)\n",
    "as_mnb_i = accuracy_score(y_test, y_mnb_i)\n",
    "f1s_mnb_i = f1_score(y_test, y_mnb_i, average= \"macro\")\n",
    "prec_mnb_i = precision_score(y_test, y_mnb_i)\n",
    "rec_mnb_i = recall_score(y_test, y_mnb_i, average='macro')\n",
    "print(confusion_matrix(y_test,y_mnb_i))\n",
    "print(classification_report(y_test,y_mnb_i))\n",
    "print(accuracy_score(y_test, y_mnb_i))"
   ]
  },
  {
   "cell_type": "code",
   "execution_count": 110,
   "metadata": {},
   "outputs": [
    {
     "name": "stdout",
     "output_type": "stream",
     "text": [
      "[LibSVM][[280 149]\n",
      " [184 244]]\n",
      "              precision    recall  f1-score   support\n",
      "\n",
      "           0       0.60      0.65      0.63       429\n",
      "           1       0.62      0.57      0.59       428\n",
      "\n",
      "    accuracy                           0.61       857\n",
      "   macro avg       0.61      0.61      0.61       857\n",
      "weighted avg       0.61      0.61      0.61       857\n",
      "\n",
      "0.6114352392065344\n"
     ]
    }
   ],
   "source": [
    "# Support Vector Machine\n",
    "svc_i = SVC(verbose=10)\n",
    "svc_i.fit(X_train, y_train)\n",
    "y_svc_i = svc_i.predict(X_test)\n",
    "as_svc_i = accuracy_score(y_test, y_svc_i)\n",
    "f1s_svc_i = f1_score(y_test, y_svc_i, average=\"macro\")\n",
    "prec_svc_i = precision_score(y_test, y_svc_i)\n",
    "rec_svc_i = recall_score(y_test, y_svc_i, average='macro')\n",
    "print(confusion_matrix(y_test,y_svc_i))\n",
    "print(classification_report(y_test,y_svc_i))\n",
    "print(accuracy_score(y_test, y_svc_i))"
   ]
  },
  {
   "cell_type": "code",
   "execution_count": 111,
   "metadata": {},
   "outputs": [
    {
     "name": "stdout",
     "output_type": "stream",
     "text": [
      "[[361  68]\n",
      " [244 184]]\n",
      "              precision    recall  f1-score   support\n",
      "\n",
      "           0       0.60      0.84      0.70       429\n",
      "           1       0.73      0.43      0.54       428\n",
      "\n",
      "    accuracy                           0.64       857\n",
      "   macro avg       0.66      0.64      0.62       857\n",
      "weighted avg       0.66      0.64      0.62       857\n",
      "\n",
      "0.6359393232205367\n"
     ]
    }
   ],
   "source": [
    "# Logistic\n",
    "log_fit_i = LogisticRegression(random_state=42).fit(X_train, y_train)\n",
    "y_log_i = log_fit_i.predict(X_test)\n",
    "as_log_i = accuracy_score(y_test, y_log_i)\n",
    "f1s_log_i = f1_score(y_test, y_log_i, average= \"macro\")\n",
    "prec_log_i = precision_score(y_test, y_log_i)\n",
    "rec_log_i = recall_score(y_test, y_log_i, average='macro')\n",
    "print(confusion_matrix(y_test,y_log_i))\n",
    "print(classification_report(y_test,y_log_i))\n",
    "print(accuracy_score(y_test, y_log_i))"
   ]
  },
  {
   "cell_type": "code",
   "execution_count": 112,
   "metadata": {},
   "outputs": [
    {
     "name": "stdout",
     "output_type": "stream",
     "text": [
      "[[362  67]\n",
      " [259 169]]\n",
      "              precision    recall  f1-score   support\n",
      "\n",
      "           0       0.58      0.84      0.69       429\n",
      "           1       0.72      0.39      0.51       428\n",
      "\n",
      "    accuracy                           0.62       857\n",
      "   macro avg       0.65      0.62      0.60       857\n",
      "weighted avg       0.65      0.62      0.60       857\n",
      "\n",
      "0.6196032672112018\n"
     ]
    }
   ],
   "source": [
    "# Random Forest\n",
    "rf_i = RandomForestClassifier(n_estimators=10, random_state=42)\n",
    "rf_i.fit(X_train, y_train) \n",
    "y_rf_i = rf_i.predict(X_test)\n",
    "as_rf_i = accuracy_score(y_test, y_rf_i)\n",
    "f1s_rf_i = f1_score(y_test, y_rf_i, average= \"macro\")\n",
    "prec_rf_i = precision_score(y_test, y_rf_i)\n",
    "rec_rf_i = recall_score(y_test, y_rf_i, average='macro')\n",
    "print(confusion_matrix(y_test,y_rf_i))\n",
    "print(classification_report(y_test,y_rf_i))\n",
    "print(accuracy_score(y_test, y_rf_i))"
   ]
  },
  {
   "cell_type": "code",
   "execution_count": 113,
   "metadata": {},
   "outputs": [
    {
     "name": "stdout",
     "output_type": "stream",
     "text": [
      "[[341  88]\n",
      " [241 187]]\n",
      "              precision    recall  f1-score   support\n",
      "\n",
      "           0       0.59      0.79      0.67       429\n",
      "           1       0.68      0.44      0.53       428\n",
      "\n",
      "    accuracy                           0.62       857\n",
      "   macro avg       0.63      0.62      0.60       857\n",
      "weighted avg       0.63      0.62      0.60       857\n",
      "\n",
      "0.6161026837806302\n"
     ]
    },
    {
     "name": "stderr",
     "output_type": "stream",
     "text": [
      "C:\\Users\\marti\\anaconda3\\lib\\site-packages\\sklearn\\neural_network\\_multilayer_perceptron.py:614: ConvergenceWarning: Stochastic Optimizer: Maximum iterations (50) reached and the optimization hasn't converged yet.\n",
      "  warnings.warn(\n"
     ]
    }
   ],
   "source": [
    "# Neural Networks\n",
    "NN_i = MLPClassifier(random_state=42, max_iter=50)\n",
    "NN_i.fit(X_train, y_train)\n",
    "#NN.score(X_test, y_test)\n",
    "y_NN_i = NN_i.predict(X_test)\n",
    "as_NN_i = accuracy_score(y_test, y_NN_i)\n",
    "f1s_NN_i = f1_score(y_test, y_NN_i, average= \"macro\")\n",
    "prec_NN_i = precision_score(y_test, y_NN_i)\n",
    "rec_NN_i = recall_score(y_test, y_NN_i, average='macro')\n",
    "print(confusion_matrix(y_test,y_NN_i))\n",
    "print(classification_report(y_test,y_NN_i))\n",
    "print(accuracy_score(y_test, y_NN_i))"
   ]
  },
  {
   "cell_type": "code",
   "execution_count": 114,
   "metadata": {},
   "outputs": [
    {
     "name": "stdout",
     "output_type": "stream",
     "text": [
      "[[369  60]\n",
      " [265 163]]\n",
      "              precision    recall  f1-score   support\n",
      "\n",
      "           0       0.58      0.86      0.69       429\n",
      "           1       0.73      0.38      0.50       428\n",
      "\n",
      "    accuracy                           0.62       857\n",
      "   macro avg       0.66      0.62      0.60       857\n",
      "weighted avg       0.66      0.62      0.60       857\n",
      "\n",
      "0.6207701283547258\n"
     ]
    }
   ],
   "source": [
    "# Decision Tree\n",
    "tree_i = DecisionTreeClassifier()\n",
    "tree_i.fit(X_train, y_train)\n",
    "y_tree_i = tree_i.predict(X_test)\n",
    "as_tree_i = accuracy_score(y_test, y_tree_i)\n",
    "f1s_tree_i = f1_score(y_test, y_tree_i, average= \"macro\")\n",
    "prec_tree_i = precision_score(y_test, y_tree_i)\n",
    "rec_tree_i = recall_score(y_test, y_tree_i, average='macro')\n",
    "print(confusion_matrix(y_test,y_tree_i))\n",
    "print(classification_report(y_test,y_tree_i))\n",
    "print(accuracy_score(y_test, y_tree_i))"
   ]
  },
  {
   "cell_type": "code",
   "execution_count": 115,
   "metadata": {},
   "outputs": [
    {
     "name": "stdout",
     "output_type": "stream",
     "text": [
      "[[414  15]\n",
      " [356  72]]\n",
      "              precision    recall  f1-score   support\n",
      "\n",
      "           0       0.54      0.97      0.69       429\n",
      "           1       0.83      0.17      0.28       428\n",
      "\n",
      "    accuracy                           0.57       857\n",
      "   macro avg       0.68      0.57      0.49       857\n",
      "weighted avg       0.68      0.57      0.49       857\n",
      "\n",
      "0.5670945157526255\n"
     ]
    }
   ],
   "source": [
    "# K-Nearest Neighbors\n",
    "knn_i = KNeighborsClassifier()\n",
    "knn_i.fit(X_train, y_train)\n",
    "y_knn_i = knn_i.predict(X_test)\n",
    "as_knn_i = accuracy_score(y_test, y_knn_i)\n",
    "f1s_knn_i = f1_score(y_test, y_knn_i, average= \"macro\")\n",
    "prec_knn_i = precision_score(y_test, y_knn_i)\n",
    "rec_knn_i = recall_score(y_test, y_knn_i, average='macro')\n",
    "print(confusion_matrix(y_test,y_knn_i))\n",
    "print(classification_report(y_test,y_knn_i))\n",
    "print(accuracy_score(y_test, y_knn_i))"
   ]
  },
  {
   "cell_type": "code",
   "execution_count": 116,
   "metadata": {},
   "outputs": [
    {
     "data": {
      "text/html": [
       "<style  type=\"text/css\" >\n",
       "#T_a711c700_9dfe_11eb_9daa_b077b776b53arow0_col0,#T_a711c700_9dfe_11eb_9daa_b077b776b53arow0_col1,#T_a711c700_9dfe_11eb_9daa_b077b776b53arow6_col2,#T_a711c700_9dfe_11eb_9daa_b077b776b53arow6_col3{\n",
       "            background-color:  tomato;\n",
       "        }#T_a711c700_9dfe_11eb_9daa_b077b776b53arow2_col0,#T_a711c700_9dfe_11eb_9daa_b077b776b53arow2_col3,#T_a711c700_9dfe_11eb_9daa_b077b776b53arow5_col2,#T_a711c700_9dfe_11eb_9daa_b077b776b53arow6_col1{\n",
       "            background-color:  lightgreen;\n",
       "        }</style><table id=\"T_a711c700_9dfe_11eb_9daa_b077b776b53a\" ><thead>    <tr>        <th class=\"blank level0\" ></th>        <th class=\"col_heading level0 col0\" >Accuracy Score</th>        <th class=\"col_heading level0 col1\" >Precision Score</th>        <th class=\"col_heading level0 col2\" >Recall Score</th>        <th class=\"col_heading level0 col3\" >F1 Score</th>    </tr></thead><tbody>\n",
       "                <tr>\n",
       "                        <th id=\"T_a711c700_9dfe_11eb_9daa_b077b776b53alevel0_row0\" class=\"row_heading level0 row0\" >Multinomial Naive Bayes</th>\n",
       "                        <td id=\"T_a711c700_9dfe_11eb_9daa_b077b776b53arow0_col0\" class=\"data row0 col0\" >0.548425</td>\n",
       "                        <td id=\"T_a711c700_9dfe_11eb_9daa_b077b776b53arow0_col1\" class=\"data row0 col1\" >0.535284</td>\n",
       "                        <td id=\"T_a711c700_9dfe_11eb_9daa_b077b776b53arow0_col2\" class=\"data row0 col2\" >0.595646</td>\n",
       "                        <td id=\"T_a711c700_9dfe_11eb_9daa_b077b776b53arow0_col3\" class=\"data row0 col3\" >0.533758</td>\n",
       "            </tr>\n",
       "            <tr>\n",
       "                        <th id=\"T_a711c700_9dfe_11eb_9daa_b077b776b53alevel0_row1\" class=\"row_heading level0 row1\" >Support Vector Machine</th>\n",
       "                        <td id=\"T_a711c700_9dfe_11eb_9daa_b077b776b53arow1_col0\" class=\"data row1 col0\" >0.611435</td>\n",
       "                        <td id=\"T_a711c700_9dfe_11eb_9daa_b077b776b53arow1_col1\" class=\"data row1 col1\" >0.620865</td>\n",
       "                        <td id=\"T_a711c700_9dfe_11eb_9daa_b077b776b53arow1_col2\" class=\"data row1 col2\" >0.524006</td>\n",
       "                        <td id=\"T_a711c700_9dfe_11eb_9daa_b077b776b53arow1_col3\" class=\"data row1 col3\" >0.610748</td>\n",
       "            </tr>\n",
       "            <tr>\n",
       "                        <th id=\"T_a711c700_9dfe_11eb_9daa_b077b776b53alevel0_row2\" class=\"row_heading level0 row2\" >Logistic Regression</th>\n",
       "                        <td id=\"T_a711c700_9dfe_11eb_9daa_b077b776b53arow2_col0\" class=\"data row2 col0\" >0.635939</td>\n",
       "                        <td id=\"T_a711c700_9dfe_11eb_9daa_b077b776b53arow2_col1\" class=\"data row2 col1\" >0.730159</td>\n",
       "                        <td id=\"T_a711c700_9dfe_11eb_9daa_b077b776b53arow2_col2\" class=\"data row2 col2\" >0.530780</td>\n",
       "                        <td id=\"T_a711c700_9dfe_11eb_9daa_b077b776b53arow2_col3\" class=\"data row2 col3\" >0.619718</td>\n",
       "            </tr>\n",
       "            <tr>\n",
       "                        <th id=\"T_a711c700_9dfe_11eb_9daa_b077b776b53alevel0_row3\" class=\"row_heading level0 row3\" >Random Forest</th>\n",
       "                        <td id=\"T_a711c700_9dfe_11eb_9daa_b077b776b53arow3_col0\" class=\"data row3 col0\" >0.619603</td>\n",
       "                        <td id=\"T_a711c700_9dfe_11eb_9daa_b077b776b53arow3_col1\" class=\"data row3 col1\" >0.716102</td>\n",
       "                        <td id=\"T_a711c700_9dfe_11eb_9daa_b077b776b53arow3_col2\" class=\"data row3 col2\" >0.552331</td>\n",
       "                        <td id=\"T_a711c700_9dfe_11eb_9daa_b077b776b53arow3_col3\" class=\"data row3 col3\" >0.599280</td>\n",
       "            </tr>\n",
       "            <tr>\n",
       "                        <th id=\"T_a711c700_9dfe_11eb_9daa_b077b776b53alevel0_row4\" class=\"row_heading level0 row4\" >Neural Networks</th>\n",
       "                        <td id=\"T_a711c700_9dfe_11eb_9daa_b077b776b53arow4_col0\" class=\"data row4 col0\" >0.616103</td>\n",
       "                        <td id=\"T_a711c700_9dfe_11eb_9daa_b077b776b53arow4_col1\" class=\"data row4 col1\" >0.680000</td>\n",
       "                        <td id=\"T_a711c700_9dfe_11eb_9daa_b077b776b53arow4_col2\" class=\"data row4 col2\" >0.621985</td>\n",
       "                        <td id=\"T_a711c700_9dfe_11eb_9daa_b077b776b53arow4_col3\" class=\"data row4 col3\" >0.603293</td>\n",
       "            </tr>\n",
       "            <tr>\n",
       "                        <th id=\"T_a711c700_9dfe_11eb_9daa_b077b776b53alevel0_row5\" class=\"row_heading level0 row5\" >Decision Tree</th>\n",
       "                        <td id=\"T_a711c700_9dfe_11eb_9daa_b077b776b53arow5_col0\" class=\"data row5 col0\" >0.620770</td>\n",
       "                        <td id=\"T_a711c700_9dfe_11eb_9daa_b077b776b53arow5_col1\" class=\"data row5 col1\" >0.730942</td>\n",
       "                        <td id=\"T_a711c700_9dfe_11eb_9daa_b077b776b53arow5_col2\" class=\"data row5 col2\" >0.644464</td>\n",
       "                        <td id=\"T_a711c700_9dfe_11eb_9daa_b077b776b53arow5_col3\" class=\"data row5 col3\" >0.597515</td>\n",
       "            </tr>\n",
       "            <tr>\n",
       "                        <th id=\"T_a711c700_9dfe_11eb_9daa_b077b776b53alevel0_row6\" class=\"row_heading level0 row6\" >K-Nearest Neighbors</th>\n",
       "                        <td id=\"T_a711c700_9dfe_11eb_9daa_b077b776b53arow6_col0\" class=\"data row6 col0\" >0.567095</td>\n",
       "                        <td id=\"T_a711c700_9dfe_11eb_9daa_b077b776b53arow6_col1\" class=\"data row6 col1\" >0.827586</td>\n",
       "                        <td id=\"T_a711c700_9dfe_11eb_9daa_b077b776b53arow6_col2\" class=\"data row6 col2\" >0.510514</td>\n",
       "                        <td id=\"T_a711c700_9dfe_11eb_9daa_b077b776b53arow6_col3\" class=\"data row6 col3\" >0.485094</td>\n",
       "            </tr>\n",
       "    </tbody></table>"
      ],
      "text/plain": [
       "<pandas.io.formats.style.Styler at 0x1bed134d2e0>"
      ]
     },
     "execution_count": 116,
     "metadata": {},
     "output_type": "execute_result"
    }
   ],
   "source": [
    "s1_i = pd.Series([as_mnb_i, as_svc_i, as_log_i, as_rf_i, as_NN_i, as_tree_i, as_knn_i], index=['Multinomial Naive Bayes', 'Support Vector Machine', 'Logistic Regression', 'Random Forest', 'Neural Networks', 'Decision Tree', 'K-Nearest Neighbors'])\n",
    "s2_i = pd.Series([f1s_mnb_i, f1s_svc_i, f1s_log_i, f1s_rf_i, f1s_NN_i, f1s_tree_i, f1s_knn_i], index=['Multinomial Naive Bayes', 'Support Vector Machine', 'Logistic Regression','Random Forest', 'Neural Networks', 'Decision Tree', 'K-Nearest Neighbors'])\n",
    "s3_i = pd.Series([prec_mnb_i, prec_svc_i, prec_log_i, prec_rf_i, prec_NN_i, prec_tree_i, prec_knn_i], index=['Multinomial Naive Bayes', 'Support Vector Machine', 'Logistic Regression', 'Random Forest', 'Neural Networks', 'Decision Tree', 'K-Nearest Neighbors'])\n",
    "s4_i = pd.Series([rec_mnb, rec_svc, rec_log, rec_rf, rec_NN, rec_tree, rec_knn], index=['Multinomial Naive Bayes', 'Support Vector Machine', 'Logistic Regression', 'Random Forest', 'Neural Networks', 'Decision Tree', 'K-Nearest Neighbors'])\n",
    "d_i = {'Accuracy Score' : s1_i, 'Precision Score': s3_i, 'Recall Score' : s4_i, 'F1 Score' : s2_i}\n",
    "dfm_i = pd.DataFrame(d_i)\n",
    "dfm_i.style.highlight_max(color = 'lightgreen', axis = 0).highlight_min(color = 'tomato', axis = 0)"
   ]
  },
  {
   "cell_type": "code",
   "execution_count": 117,
   "metadata": {},
   "outputs": [],
   "source": [
    "# Considering only PROPN in tfidf and models, the results for \"hate speech\" (label = 1) have higher levels of precision, both wrt \"no hate\" (except Mnb) and also to other POS (ex: NOUN has Precision Score below 0.668)."
   ]
  },
  {
   "cell_type": "markdown",
   "metadata": {},
   "source": [
    "### 4.2.2 Nouns + Proper Nouns + Verbs"
   ]
  },
  {
   "cell_type": "code",
   "execution_count": 118,
   "metadata": {},
   "outputs": [],
   "source": [
    "pos_list = [\"NOUN\",\"PROPN\", \"VERB\"]"
   ]
  },
  {
   "cell_type": "code",
   "execution_count": 119,
   "metadata": {},
   "outputs": [],
   "source": [
    "data[\"NOUN_PROPN_VERB\"] = data.apply(lambda x: filter_text_pos(x[\"POS_spacy\"]), axis=1)"
   ]
  },
  {
   "cell_type": "code",
   "execution_count": 120,
   "metadata": {},
   "outputs": [
    {
     "data": {
      "text/plain": [
       "(10926, 11066)"
      ]
     },
     "execution_count": 120,
     "metadata": {},
     "output_type": "execute_result"
    }
   ],
   "source": [
    "tfidf_vectorizer = TfidfVectorizer()\n",
    "X_NounPropnVerb = tfidf_vectorizer.fit_transform(data[\"NOUN_PROPN_VERB\"])\n",
    "y_NounPropnVerb = data[\"label\"]\n",
    "X_NounPropnVerb.shape"
   ]
  },
  {
   "cell_type": "code",
   "execution_count": 121,
   "metadata": {},
   "outputs": [],
   "source": [
    "X_over, y_over = undersample.fit_resample(X_NounPropnVerb, y_NounPropnVerb)"
   ]
  },
  {
   "cell_type": "code",
   "execution_count": 122,
   "metadata": {},
   "outputs": [],
   "source": [
    "X_train, X_test, y_train, y_test = train_test_split(X_over, y_over, test_size=0.3, random_state=42, stratify=y_over)"
   ]
  },
  {
   "cell_type": "code",
   "execution_count": 123,
   "metadata": {},
   "outputs": [
    {
     "name": "stdout",
     "output_type": "stream",
     "text": [
      "[[254 175]\n",
      " [122 306]]\n",
      "              precision    recall  f1-score   support\n",
      "\n",
      "           0       0.68      0.59      0.63       429\n",
      "           1       0.64      0.71      0.67       428\n",
      "\n",
      "    accuracy                           0.65       857\n",
      "   macro avg       0.66      0.65      0.65       857\n",
      "weighted avg       0.66      0.65      0.65       857\n",
      "\n",
      "0.6534422403733956\n"
     ]
    }
   ],
   "source": [
    "# Multinomial Naive Bayes\n",
    "mnb_i = MultinomialNB(alpha=0.01)\n",
    "mnb_i.fit(X_train, y_train)\n",
    "y_mnb_i = mnb_i.predict(X_test)\n",
    "as_mnb_i = accuracy_score(y_test, y_mnb_i)\n",
    "f1s_mnb_i = f1_score(y_test, y_mnb_i, average= \"macro\")\n",
    "prec_mnb_i = precision_score(y_test, y_mnb_i)\n",
    "rec_mnb_i = recall_score(y_test, y_mnb_i, average='macro')\n",
    "print(confusion_matrix(y_test,y_mnb_i))\n",
    "print(classification_report(y_test,y_mnb_i))\n",
    "print(accuracy_score(y_test, y_mnb_i))"
   ]
  },
  {
   "cell_type": "code",
   "execution_count": 124,
   "metadata": {},
   "outputs": [
    {
     "name": "stdout",
     "output_type": "stream",
     "text": [
      "[LibSVM][[319 110]\n",
      " [146 282]]\n",
      "              precision    recall  f1-score   support\n",
      "\n",
      "           0       0.69      0.74      0.71       429\n",
      "           1       0.72      0.66      0.69       428\n",
      "\n",
      "    accuracy                           0.70       857\n",
      "   macro avg       0.70      0.70      0.70       857\n",
      "weighted avg       0.70      0.70      0.70       857\n",
      "\n",
      "0.7012835472578763\n"
     ]
    }
   ],
   "source": [
    "# Support Vector Machine\n",
    "svc_i = SVC(verbose=10)\n",
    "svc_i.fit(X_train, y_train)\n",
    "y_svc_i = svc_i.predict(X_test)\n",
    "as_svc_i = accuracy_score(y_test, y_svc_i)\n",
    "f1s_svc_i = f1_score(y_test, y_svc_i, average=\"macro\")\n",
    "prec_svc_i = precision_score(y_test, y_svc_i)\n",
    "rec_svc_i = recall_score(y_test, y_svc_i, average='macro')\n",
    "print(confusion_matrix(y_test,y_svc_i))\n",
    "print(classification_report(y_test,y_svc_i))\n",
    "print(accuracy_score(y_test, y_svc_i))"
   ]
  },
  {
   "cell_type": "code",
   "execution_count": 125,
   "metadata": {},
   "outputs": [
    {
     "name": "stdout",
     "output_type": "stream",
     "text": [
      "[[329 100]\n",
      " [158 270]]\n",
      "              precision    recall  f1-score   support\n",
      "\n",
      "           0       0.68      0.77      0.72       429\n",
      "           1       0.73      0.63      0.68       428\n",
      "\n",
      "    accuracy                           0.70       857\n",
      "   macro avg       0.70      0.70      0.70       857\n",
      "weighted avg       0.70      0.70      0.70       857\n",
      "\n",
      "0.6989498249708285\n"
     ]
    }
   ],
   "source": [
    "# Logistic\n",
    "log_fit_i = LogisticRegression(random_state=42).fit(X_train, y_train)\n",
    "y_log_i = log_fit_i.predict(X_test)\n",
    "as_log_i = accuracy_score(y_test, y_log_i)\n",
    "f1s_log_i = f1_score(y_test, y_log_i, average= \"macro\")\n",
    "prec_log_i = precision_score(y_test, y_log_i)\n",
    "rec_log_i = recall_score(y_test, y_log_i, average='macro')\n",
    "print(confusion_matrix(y_test,y_log_i))\n",
    "print(classification_report(y_test,y_log_i))\n",
    "print(accuracy_score(y_test, y_log_i))"
   ]
  },
  {
   "cell_type": "code",
   "execution_count": 126,
   "metadata": {},
   "outputs": [
    {
     "name": "stdout",
     "output_type": "stream",
     "text": [
      "[[339  90]\n",
      " [200 228]]\n",
      "              precision    recall  f1-score   support\n",
      "\n",
      "           0       0.63      0.79      0.70       429\n",
      "           1       0.72      0.53      0.61       428\n",
      "\n",
      "    accuracy                           0.66       857\n",
      "   macro avg       0.67      0.66      0.66       857\n",
      "weighted avg       0.67      0.66      0.66       857\n",
      "\n",
      "0.661610268378063\n"
     ]
    }
   ],
   "source": [
    "# Random Forest\n",
    "rf_i = RandomForestClassifier(n_estimators=10, random_state=42)\n",
    "rf_i.fit(X_train, y_train) \n",
    "y_rf_i = rf_i.predict(X_test)\n",
    "as_rf_i = accuracy_score(y_test, y_rf_i)\n",
    "f1s_rf_i = f1_score(y_test, y_rf_i, average= \"macro\")\n",
    "prec_rf_i = precision_score(y_test, y_rf_i)\n",
    "rec_rf_i = recall_score(y_test, y_rf_i, average='macro')\n",
    "print(confusion_matrix(y_test,y_rf_i))\n",
    "print(classification_report(y_test,y_rf_i))\n",
    "print(accuracy_score(y_test, y_rf_i))"
   ]
  },
  {
   "cell_type": "code",
   "execution_count": 127,
   "metadata": {},
   "outputs": [
    {
     "name": "stdout",
     "output_type": "stream",
     "text": [
      "[[292 137]\n",
      " [149 279]]\n",
      "              precision    recall  f1-score   support\n",
      "\n",
      "           0       0.66      0.68      0.67       429\n",
      "           1       0.67      0.65      0.66       428\n",
      "\n",
      "    accuracy                           0.67       857\n",
      "   macro avg       0.67      0.67      0.67       857\n",
      "weighted avg       0.67      0.67      0.67       857\n",
      "\n",
      "0.6662777129521587\n"
     ]
    },
    {
     "name": "stderr",
     "output_type": "stream",
     "text": [
      "C:\\Users\\marti\\anaconda3\\lib\\site-packages\\sklearn\\neural_network\\_multilayer_perceptron.py:614: ConvergenceWarning: Stochastic Optimizer: Maximum iterations (50) reached and the optimization hasn't converged yet.\n",
      "  warnings.warn(\n"
     ]
    }
   ],
   "source": [
    "# Neural Networks\n",
    "NN_i = MLPClassifier(random_state=42, max_iter=50)\n",
    "NN_i.fit(X_train, y_train)\n",
    "#NN.score(X_test, y_test)\n",
    "y_NN_i = NN_i.predict(X_test)\n",
    "as_NN_i = accuracy_score(y_test, y_NN_i)\n",
    "f1s_NN_i = f1_score(y_test, y_NN_i, average= \"macro\")\n",
    "prec_NN_i = precision_score(y_test, y_NN_i)\n",
    "rec_NN_i = recall_score(y_test, y_NN_i, average='macro')\n",
    "print(confusion_matrix(y_test,y_NN_i))\n",
    "print(classification_report(y_test,y_NN_i))\n",
    "print(accuracy_score(y_test, y_NN_i))"
   ]
  },
  {
   "cell_type": "code",
   "execution_count": 128,
   "metadata": {},
   "outputs": [
    {
     "name": "stdout",
     "output_type": "stream",
     "text": [
      "[[316 113]\n",
      " [182 246]]\n",
      "              precision    recall  f1-score   support\n",
      "\n",
      "           0       0.63      0.74      0.68       429\n",
      "           1       0.69      0.57      0.63       428\n",
      "\n",
      "    accuracy                           0.66       857\n",
      "   macro avg       0.66      0.66      0.65       857\n",
      "weighted avg       0.66      0.66      0.65       857\n",
      "\n",
      "0.6557759626604434\n"
     ]
    }
   ],
   "source": [
    "# Decision Tree\n",
    "tree_i = DecisionTreeClassifier()\n",
    "tree_i.fit(X_train, y_train)\n",
    "y_tree_i = tree_i.predict(X_test)\n",
    "as_tree_i = accuracy_score(y_test, y_tree_i)\n",
    "f1s_tree_i = f1_score(y_test, y_tree_i, average= \"macro\")\n",
    "prec_tree_i = precision_score(y_test, y_tree_i)\n",
    "rec_tree_i = recall_score(y_test, y_tree_i, average='macro')\n",
    "print(confusion_matrix(y_test,y_tree_i))\n",
    "print(classification_report(y_test,y_tree_i))\n",
    "print(accuracy_score(y_test, y_tree_i))"
   ]
  },
  {
   "cell_type": "code",
   "execution_count": 129,
   "metadata": {},
   "outputs": [
    {
     "name": "stdout",
     "output_type": "stream",
     "text": [
      "[[395  34]\n",
      " [386  42]]\n",
      "              precision    recall  f1-score   support\n",
      "\n",
      "           0       0.51      0.92      0.65       429\n",
      "           1       0.55      0.10      0.17       428\n",
      "\n",
      "    accuracy                           0.51       857\n",
      "   macro avg       0.53      0.51      0.41       857\n",
      "weighted avg       0.53      0.51      0.41       857\n",
      "\n",
      "0.5099183197199533\n"
     ]
    }
   ],
   "source": [
    "# K-Nearest Neighbors\n",
    "knn_i = KNeighborsClassifier()\n",
    "knn_i.fit(X_train, y_train)\n",
    "y_knn_i = knn_i.predict(X_test)\n",
    "as_knn_i = accuracy_score(y_test, y_knn_i)\n",
    "f1s_knn_i = f1_score(y_test, y_knn_i, average= \"macro\")\n",
    "prec_knn_i = precision_score(y_test, y_knn_i)\n",
    "rec_knn_i = recall_score(y_test, y_knn_i, average='macro')\n",
    "print(confusion_matrix(y_test,y_knn_i))\n",
    "print(classification_report(y_test,y_knn_i))\n",
    "print(accuracy_score(y_test, y_knn_i))"
   ]
  },
  {
   "cell_type": "code",
   "execution_count": 130,
   "metadata": {},
   "outputs": [
    {
     "data": {
      "text/html": [
       "<style  type=\"text/css\" >\n",
       "#T_ba2ddbcc_9dfe_11eb_bc25_b077b776b53arow1_col0,#T_ba2ddbcc_9dfe_11eb_bc25_b077b776b53arow1_col3,#T_ba2ddbcc_9dfe_11eb_bc25_b077b776b53arow2_col1,#T_ba2ddbcc_9dfe_11eb_bc25_b077b776b53arow5_col2{\n",
       "            background-color:  lightgreen;\n",
       "        }#T_ba2ddbcc_9dfe_11eb_bc25_b077b776b53arow6_col0,#T_ba2ddbcc_9dfe_11eb_bc25_b077b776b53arow6_col1,#T_ba2ddbcc_9dfe_11eb_bc25_b077b776b53arow6_col2,#T_ba2ddbcc_9dfe_11eb_bc25_b077b776b53arow6_col3{\n",
       "            background-color:  tomato;\n",
       "        }</style><table id=\"T_ba2ddbcc_9dfe_11eb_bc25_b077b776b53a\" ><thead>    <tr>        <th class=\"blank level0\" ></th>        <th class=\"col_heading level0 col0\" >Accuracy Score</th>        <th class=\"col_heading level0 col1\" >Precision Score</th>        <th class=\"col_heading level0 col2\" >Recall Score</th>        <th class=\"col_heading level0 col3\" >F1 Score</th>    </tr></thead><tbody>\n",
       "                <tr>\n",
       "                        <th id=\"T_ba2ddbcc_9dfe_11eb_bc25_b077b776b53alevel0_row0\" class=\"row_heading level0 row0\" >Multinomial Naive Bayes</th>\n",
       "                        <td id=\"T_ba2ddbcc_9dfe_11eb_bc25_b077b776b53arow0_col0\" class=\"data row0 col0\" >0.653442</td>\n",
       "                        <td id=\"T_ba2ddbcc_9dfe_11eb_bc25_b077b776b53arow0_col1\" class=\"data row0 col1\" >0.636175</td>\n",
       "                        <td id=\"T_ba2ddbcc_9dfe_11eb_bc25_b077b776b53arow0_col2\" class=\"data row0 col2\" >0.595646</td>\n",
       "                        <td id=\"T_ba2ddbcc_9dfe_11eb_bc25_b077b776b53arow0_col3\" class=\"data row0 col3\" >0.652162</td>\n",
       "            </tr>\n",
       "            <tr>\n",
       "                        <th id=\"T_ba2ddbcc_9dfe_11eb_bc25_b077b776b53alevel0_row1\" class=\"row_heading level0 row1\" >Support Vector Machine</th>\n",
       "                        <td id=\"T_ba2ddbcc_9dfe_11eb_bc25_b077b776b53arow1_col0\" class=\"data row1 col0\" >0.701284</td>\n",
       "                        <td id=\"T_ba2ddbcc_9dfe_11eb_bc25_b077b776b53arow1_col1\" class=\"data row1 col1\" >0.719388</td>\n",
       "                        <td id=\"T_ba2ddbcc_9dfe_11eb_bc25_b077b776b53arow1_col2\" class=\"data row1 col2\" >0.524006</td>\n",
       "                        <td id=\"T_ba2ddbcc_9dfe_11eb_bc25_b077b776b53arow1_col3\" class=\"data row1 col3\" >0.700726</td>\n",
       "            </tr>\n",
       "            <tr>\n",
       "                        <th id=\"T_ba2ddbcc_9dfe_11eb_bc25_b077b776b53alevel0_row2\" class=\"row_heading level0 row2\" >Logistic Regression</th>\n",
       "                        <td id=\"T_ba2ddbcc_9dfe_11eb_bc25_b077b776b53arow2_col0\" class=\"data row2 col0\" >0.698950</td>\n",
       "                        <td id=\"T_ba2ddbcc_9dfe_11eb_bc25_b077b776b53arow2_col1\" class=\"data row2 col1\" >0.729730</td>\n",
       "                        <td id=\"T_ba2ddbcc_9dfe_11eb_bc25_b077b776b53arow2_col2\" class=\"data row2 col2\" >0.530780</td>\n",
       "                        <td id=\"T_ba2ddbcc_9dfe_11eb_bc25_b077b776b53arow2_col3\" class=\"data row2 col3\" >0.697516</td>\n",
       "            </tr>\n",
       "            <tr>\n",
       "                        <th id=\"T_ba2ddbcc_9dfe_11eb_bc25_b077b776b53alevel0_row3\" class=\"row_heading level0 row3\" >Random Forest</th>\n",
       "                        <td id=\"T_ba2ddbcc_9dfe_11eb_bc25_b077b776b53arow3_col0\" class=\"data row3 col0\" >0.661610</td>\n",
       "                        <td id=\"T_ba2ddbcc_9dfe_11eb_bc25_b077b776b53arow3_col1\" class=\"data row3 col1\" >0.716981</td>\n",
       "                        <td id=\"T_ba2ddbcc_9dfe_11eb_bc25_b077b776b53arow3_col2\" class=\"data row3 col2\" >0.552331</td>\n",
       "                        <td id=\"T_ba2ddbcc_9dfe_11eb_bc25_b077b776b53arow3_col3\" class=\"data row3 col3\" >0.655837</td>\n",
       "            </tr>\n",
       "            <tr>\n",
       "                        <th id=\"T_ba2ddbcc_9dfe_11eb_bc25_b077b776b53alevel0_row4\" class=\"row_heading level0 row4\" >Neural Networks</th>\n",
       "                        <td id=\"T_ba2ddbcc_9dfe_11eb_bc25_b077b776b53arow4_col0\" class=\"data row4 col0\" >0.666278</td>\n",
       "                        <td id=\"T_ba2ddbcc_9dfe_11eb_bc25_b077b776b53arow4_col1\" class=\"data row4 col1\" >0.670673</td>\n",
       "                        <td id=\"T_ba2ddbcc_9dfe_11eb_bc25_b077b776b53arow4_col2\" class=\"data row4 col2\" >0.621985</td>\n",
       "                        <td id=\"T_ba2ddbcc_9dfe_11eb_bc25_b077b776b53arow4_col3\" class=\"data row4 col3\" >0.666201</td>\n",
       "            </tr>\n",
       "            <tr>\n",
       "                        <th id=\"T_ba2ddbcc_9dfe_11eb_bc25_b077b776b53alevel0_row5\" class=\"row_heading level0 row5\" >Decision Tree</th>\n",
       "                        <td id=\"T_ba2ddbcc_9dfe_11eb_bc25_b077b776b53arow5_col0\" class=\"data row5 col0\" >0.655776</td>\n",
       "                        <td id=\"T_ba2ddbcc_9dfe_11eb_bc25_b077b776b53arow5_col1\" class=\"data row5 col1\" >0.685237</td>\n",
       "                        <td id=\"T_ba2ddbcc_9dfe_11eb_bc25_b077b776b53arow5_col2\" class=\"data row5 col2\" >0.644464</td>\n",
       "                        <td id=\"T_ba2ddbcc_9dfe_11eb_bc25_b077b776b53arow5_col3\" class=\"data row5 col3\" >0.653464</td>\n",
       "            </tr>\n",
       "            <tr>\n",
       "                        <th id=\"T_ba2ddbcc_9dfe_11eb_bc25_b077b776b53alevel0_row6\" class=\"row_heading level0 row6\" >K-Nearest Neighbors</th>\n",
       "                        <td id=\"T_ba2ddbcc_9dfe_11eb_bc25_b077b776b53arow6_col0\" class=\"data row6 col0\" >0.509918</td>\n",
       "                        <td id=\"T_ba2ddbcc_9dfe_11eb_bc25_b077b776b53arow6_col1\" class=\"data row6 col1\" >0.552632</td>\n",
       "                        <td id=\"T_ba2ddbcc_9dfe_11eb_bc25_b077b776b53arow6_col2\" class=\"data row6 col2\" >0.510514</td>\n",
       "                        <td id=\"T_ba2ddbcc_9dfe_11eb_bc25_b077b776b53arow6_col3\" class=\"data row6 col3\" >0.409780</td>\n",
       "            </tr>\n",
       "    </tbody></table>"
      ],
      "text/plain": [
       "<pandas.io.formats.style.Styler at 0x1bed0b51610>"
      ]
     },
     "execution_count": 130,
     "metadata": {},
     "output_type": "execute_result"
    }
   ],
   "source": [
    "s1_i = pd.Series([as_mnb_i, as_svc_i, as_log_i, as_rf_i, as_NN_i, as_tree_i, as_knn_i], index=['Multinomial Naive Bayes', 'Support Vector Machine', 'Logistic Regression', 'Random Forest', 'Neural Networks', 'Decision Tree', 'K-Nearest Neighbors'])\n",
    "s2_i = pd.Series([f1s_mnb_i, f1s_svc_i, f1s_log_i, f1s_rf_i, f1s_NN_i, f1s_tree_i, f1s_knn_i], index=['Multinomial Naive Bayes', 'Support Vector Machine', 'Logistic Regression','Random Forest', 'Neural Networks', 'Decision Tree', 'K-Nearest Neighbors'])\n",
    "s3_i = pd.Series([prec_mnb_i, prec_svc_i, prec_log_i, prec_rf_i, prec_NN_i, prec_tree_i, prec_knn_i], index=['Multinomial Naive Bayes', 'Support Vector Machine', 'Logistic Regression', 'Random Forest', 'Neural Networks', 'Decision Tree', 'K-Nearest Neighbors'])\n",
    "s4_i = pd.Series([rec_mnb, rec_svc, rec_log, rec_rf, rec_NN, rec_tree, rec_knn], index=['Multinomial Naive Bayes', 'Support Vector Machine', 'Logistic Regression', 'Random Forest', 'Neural Networks', 'Decision Tree', 'K-Nearest Neighbors'])\n",
    "d_i = {'Accuracy Score' : s1_i, 'Precision Score': s3_i, 'Recall Score' : s4_i, 'F1 Score' : s2_i}\n",
    "dfm_i = pd.DataFrame(d_i)\n",
    "dfm_i.style.highlight_max(color = 'lightgreen', axis = 0).highlight_min(color = 'tomato', axis = 0)"
   ]
  },
  {
   "cell_type": "code",
   "execution_count": null,
   "metadata": {},
   "outputs": [],
   "source": []
  },
  {
   "cell_type": "markdown",
   "metadata": {},
   "source": [
    "### SENTIMENT ANALYSIS by nltk VEDER"
   ]
  },
  {
   "cell_type": "code",
   "execution_count": 131,
   "metadata": {},
   "outputs": [
    {
     "name": "stdout",
     "output_type": "stream",
     "text": [
      "-0.1143327140569865\n"
     ]
    }
   ],
   "source": [
    "sia = vd.SentimentIntensityAnalyzer()\n",
    "data['sentiment_text'] = data[\"lemmatized\"].apply(lambda x: sum([sia.polarity_scores(i)['compound'] for i in word_tokenize(x)]))\n",
    "col1 = data['label']\n",
    "col2 = data['sentiment_text']\n",
    "correl_text = col1.corr(col2)\n",
    "print(correl_text)"
   ]
  },
  {
   "cell_type": "code",
   "execution_count": 132,
   "metadata": {},
   "outputs": [
    {
     "name": "stdout",
     "output_type": "stream",
     "text": [
      "-0.09807079431437497\n"
     ]
    }
   ],
   "source": [
    "data['sentiment_NPV'] = data[\"NOUN_PROPN_VERB\"].apply(lambda x: sum([sia.polarity_scores(i)['compound'] for i in word_tokenize(x)]))\n",
    "col1 = data['label']\n",
    "col2 = data['sentiment_NPV']\n",
    "correl_NPV = col1.corr(col2)\n",
    "print(correl_NPV)"
   ]
  },
  {
   "cell_type": "code",
   "execution_count": 133,
   "metadata": {},
   "outputs": [
    {
     "name": "stdout",
     "output_type": "stream",
     "text": [
      "-0.08791668104919677\n"
     ]
    }
   ],
   "source": [
    "pos_list = [\"ADJ\"]\n",
    "data[\"ADJ\"] = data.apply(lambda x: filter_text_pos(x[\"POS_spacy\"]), axis=1)\n",
    "data['sentiment_ADJ'] = data[\"ADJ\"].apply(lambda x: sum([sia.polarity_scores(i)['compound'] for i in word_tokenize(x)]))\n",
    "col1 = data['label']\n",
    "col2 = data['sentiment_ADJ']\n",
    "correl_ADJ = col1.corr(col2)\n",
    "print(correl_ADJ)"
   ]
  },
  {
   "cell_type": "code",
   "execution_count": 134,
   "metadata": {},
   "outputs": [
    {
     "name": "stdout",
     "output_type": "stream",
     "text": [
      "-0.07076059713818643\n"
     ]
    }
   ],
   "source": [
    "pos_list = [\"NOUN\"]\n",
    "data[\"NOUN\"] = data.apply(lambda x: filter_text_pos(x[\"POS_spacy\"]), axis=1)\n",
    "data['sentiment_NOUN'] = data[\"NOUN\"].apply(lambda x: sum([sia.polarity_scores(i)['compound'] for i in word_tokenize(x)]))\n",
    "col1 = data['label']\n",
    "col2 = data['sentiment_NOUN']\n",
    "correl_NOUN = col1.corr(col2)\n",
    "print(correl_NOUN)"
   ]
  },
  {
   "cell_type": "code",
   "execution_count": 135,
   "metadata": {},
   "outputs": [
    {
     "name": "stdout",
     "output_type": "stream",
     "text": [
      "-0.06372538235181831\n"
     ]
    }
   ],
   "source": [
    "pos_list = [\"VERB\"]\n",
    "data[\"VERB\"] = data.apply(lambda x: filter_text_pos(x[\"POS_spacy\"]), axis=1)\n",
    "data['sentiment_VERB'] = data[\"VERB\"].apply(lambda x: sum([sia.polarity_scores(i)['compound'] for i in word_tokenize(x)]))\n",
    "col1 = data['label']\n",
    "col2 = data['sentiment_VERB']\n",
    "correl_VERB = col1.corr(col2)\n",
    "print(correl_VERB)"
   ]
  },
  {
   "cell_type": "code",
   "execution_count": 136,
   "metadata": {},
   "outputs": [
    {
     "name": "stdout",
     "output_type": "stream",
     "text": [
      "-0.045808163551427854\n"
     ]
    }
   ],
   "source": [
    "data['sentiment_PROPN'] = data[\"PROPN\"].apply(lambda x: sum([sia.polarity_scores(i)['compound'] for i in word_tokenize(x)]))\n",
    "col1 = data['label']\n",
    "col2 = data['sentiment_PROPN']\n",
    "correl_PROPN = col1.corr(col2)\n",
    "print(correl_PROPN)"
   ]
  },
  {
   "cell_type": "code",
   "execution_count": null,
   "metadata": {},
   "outputs": [],
   "source": []
  },
  {
   "cell_type": "markdown",
   "metadata": {},
   "source": [
    "#### Check for punctuation (POS=PUNCT)"
   ]
  },
  {
   "cell_type": "code",
   "execution_count": 137,
   "metadata": {},
   "outputs": [],
   "source": [
    "pos_list = [\"PUNCT\"]"
   ]
  },
  {
   "cell_type": "code",
   "execution_count": 138,
   "metadata": {},
   "outputs": [],
   "source": [
    "data[\"PUNCT\"] = data.apply(lambda x: filter_text_pos(x[\"POS_spacy\"]), axis=1)"
   ]
  },
  {
   "cell_type": "code",
   "execution_count": 139,
   "metadata": {},
   "outputs": [
    {
     "data": {
      "text/html": [
       "<div>\n",
       "<style scoped>\n",
       "    .dataframe tbody tr th:only-of-type {\n",
       "        vertical-align: middle;\n",
       "    }\n",
       "\n",
       "    .dataframe tbody tr th {\n",
       "        vertical-align: top;\n",
       "    }\n",
       "\n",
       "    .dataframe thead th {\n",
       "        text-align: right;\n",
       "    }\n",
       "</style>\n",
       "<table border=\"1\" class=\"dataframe\">\n",
       "  <thead>\n",
       "    <tr style=\"text-align: right;\">\n",
       "      <th></th>\n",
       "      <th>file_id</th>\n",
       "      <th>user_id</th>\n",
       "      <th>subforum_id</th>\n",
       "      <th>num_contexts</th>\n",
       "      <th>label</th>\n",
       "      <th>text</th>\n",
       "      <th>text_clean</th>\n",
       "      <th>stemmed</th>\n",
       "      <th>lemmatized</th>\n",
       "      <th>tokens</th>\n",
       "      <th>...</th>\n",
       "      <th>sentiment_text</th>\n",
       "      <th>sentiment_NPV</th>\n",
       "      <th>ADJ</th>\n",
       "      <th>sentiment_ADJ</th>\n",
       "      <th>NOUN</th>\n",
       "      <th>sentiment_NOUN</th>\n",
       "      <th>VERB</th>\n",
       "      <th>sentiment_VERB</th>\n",
       "      <th>sentiment_PROPN</th>\n",
       "      <th>PUNCT</th>\n",
       "    </tr>\n",
       "  </thead>\n",
       "  <tbody>\n",
       "    <tr>\n",
       "      <th>1184</th>\n",
       "      <td>13052957_1</td>\n",
       "      <td>579087</td>\n",
       "      <td>1345</td>\n",
       "      <td>1</td>\n",
       "      <td>0</td>\n",
       "      <td>I bet all the Ted Pike stuff is on the ADL hit...</td>\n",
       "      <td>bet ted pike stuff adl hit list look start dis...</td>\n",
       "      <td>bet ted pike stuff adl hit list look start dis...</td>\n",
       "      <td>bet ted pike stuff adl hit list look start dis...</td>\n",
       "      <td>[bet, ted, pike, stuff, adl, hit, list, look, ...</td>\n",
       "      <td>...</td>\n",
       "      <td>0.0000</td>\n",
       "      <td>0.0000</td>\n",
       "      <td></td>\n",
       "      <td>0.0000</td>\n",
       "      <td>stuff list memory hole</td>\n",
       "      <td>0.0000</td>\n",
       "      <td>hit look start disappearing</td>\n",
       "      <td>0.0000</td>\n",
       "      <td>0.0000</td>\n",
       "      <td>adl</td>\n",
       "    </tr>\n",
       "    <tr>\n",
       "      <th>1220</th>\n",
       "      <td>13350432_1</td>\n",
       "      <td>576002</td>\n",
       "      <td>1345</td>\n",
       "      <td>1</td>\n",
       "      <td>0</td>\n",
       "      <td>:hide And if you 're around Knights of Columbu...</td>\n",
       "      <td>around knights columbus roman catholic brether...</td>\n",
       "      <td>around knight columbu roman cathol brethern ke...</td>\n",
       "      <td>around knight columbus roman catholic brethern...</td>\n",
       "      <td>[around, knight, columbus, roman, catholic, br...</td>\n",
       "      <td>...</td>\n",
       "      <td>0.0000</td>\n",
       "      <td>0.0000</td>\n",
       "      <td>close young</td>\n",
       "      <td>0.0000</td>\n",
       "      <td>hold child</td>\n",
       "      <td>0.0000</td>\n",
       "      <td>keep</td>\n",
       "      <td>0.0000</td>\n",
       "      <td>0.0000</td>\n",
       "      <td>boy</td>\n",
       "    </tr>\n",
       "    <tr>\n",
       "      <th>1495</th>\n",
       "      <td>14014774_2</td>\n",
       "      <td>579541</td>\n",
       "      <td>1388</td>\n",
       "      <td>0</td>\n",
       "      <td>0</td>\n",
       "      <td>The French N.B communities near Quebec especia...</td>\n",
       "      <td>french communities near quebec especially woul...</td>\n",
       "      <td>french commun near quebec especi would white</td>\n",
       "      <td>french community near quebec especially would ...</td>\n",
       "      <td>[french, community, near, quebec, especially, ...</td>\n",
       "      <td>...</td>\n",
       "      <td>0.0000</td>\n",
       "      <td>0.0000</td>\n",
       "      <td></td>\n",
       "      <td>0.0000</td>\n",
       "      <td></td>\n",
       "      <td>0.0000</td>\n",
       "      <td>would</td>\n",
       "      <td>0.0000</td>\n",
       "      <td>0.0000</td>\n",
       "      <td>white</td>\n",
       "    </tr>\n",
       "    <tr>\n",
       "      <th>1624</th>\n",
       "      <td>14095095_2</td>\n",
       "      <td>598702</td>\n",
       "      <td>1381</td>\n",
       "      <td>0</td>\n",
       "      <td>0</td>\n",
       "      <td>For example , almost all the 12 year olds last...</td>\n",
       "      <td>example almost year olds last year dressed wig...</td>\n",
       "      <td>exampl almost year old last year dress wigger ...</td>\n",
       "      <td>example almost year old last year dressed wigg...</td>\n",
       "      <td>[example, almost, year, old, last, year, dress...</td>\n",
       "      <td>...</td>\n",
       "      <td>-0.6486</td>\n",
       "      <td>0.0000</td>\n",
       "      <td>old last</td>\n",
       "      <td>0.0000</td>\n",
       "      <td>example year year wiggers</td>\n",
       "      <td>0.0000</td>\n",
       "      <td>dressed pimp</td>\n",
       "      <td>0.0000</td>\n",
       "      <td>0.0000</td>\n",
       "      <td>halloween</td>\n",
       "    </tr>\n",
       "    <tr>\n",
       "      <th>1901</th>\n",
       "      <td>30462409_2</td>\n",
       "      <td>576093</td>\n",
       "      <td>1362</td>\n",
       "      <td>4</td>\n",
       "      <td>0</td>\n",
       "      <td>Dumb goyim are a good revenue source .</td>\n",
       "      <td>dumb goyim good revenue source</td>\n",
       "      <td>dumb goyim good revenu sourc</td>\n",
       "      <td>dumb goy good revenue source</td>\n",
       "      <td>[dumb, goy, good, revenue, source]</td>\n",
       "      <td>...</td>\n",
       "      <td>-0.0702</td>\n",
       "      <td>0.0000</td>\n",
       "      <td>dumb good</td>\n",
       "      <td>-0.0702</td>\n",
       "      <td>revenue source</td>\n",
       "      <td>0.0000</td>\n",
       "      <td></td>\n",
       "      <td>0.0000</td>\n",
       "      <td>0.0000</td>\n",
       "      <td>goy</td>\n",
       "    </tr>\n",
       "    <tr>\n",
       "      <th>1954</th>\n",
       "      <td>30549038_2</td>\n",
       "      <td>573414</td>\n",
       "      <td>1359</td>\n",
       "      <td>0</td>\n",
       "      <td>0</td>\n",
       "      <td>I told him how to go and then said , you ar no...</td>\n",
       "      <td>told go said ar around ya lol</td>\n",
       "      <td>told go said ar around ya lol</td>\n",
       "      <td>told go said ar around ya lol</td>\n",
       "      <td>[told, go, said, ar, around, ya, lol]</td>\n",
       "      <td>...</td>\n",
       "      <td>0.4215</td>\n",
       "      <td>0.0000</td>\n",
       "      <td></td>\n",
       "      <td>0.0000</td>\n",
       "      <td></td>\n",
       "      <td>0.0000</td>\n",
       "      <td>told said</td>\n",
       "      <td>0.0000</td>\n",
       "      <td>0.0000</td>\n",
       "      <td>lol</td>\n",
       "    </tr>\n",
       "    <tr>\n",
       "      <th>2783</th>\n",
       "      <td>14101526_3</td>\n",
       "      <td>593187</td>\n",
       "      <td>1381</td>\n",
       "      <td>0</td>\n",
       "      <td>0</td>\n",
       "      <td>WP WP WP WP</td>\n",
       "      <td>wp wp wp wp</td>\n",
       "      <td>wp wp wp wp</td>\n",
       "      <td>wp wp wp wp</td>\n",
       "      <td>[wp, wp, wp, wp]</td>\n",
       "      <td>...</td>\n",
       "      <td>1.0000</td>\n",
       "      <td>0.7500</td>\n",
       "      <td></td>\n",
       "      <td>0.0000</td>\n",
       "      <td></td>\n",
       "      <td>0.0000</td>\n",
       "      <td></td>\n",
       "      <td>0.0000</td>\n",
       "      <td>0.7500</td>\n",
       "      <td>wp</td>\n",
       "    </tr>\n",
       "    <tr>\n",
       "      <th>2879</th>\n",
       "      <td>14406890_3</td>\n",
       "      <td>575011</td>\n",
       "      <td>1375</td>\n",
       "      <td>0</td>\n",
       "      <td>1</td>\n",
       "      <td>Teach our men to be men again and defend our c...</td>\n",
       "      <td>teach men men defend countries women folk non ...</td>\n",
       "      <td>teach men men defend countri women folk non white</td>\n",
       "      <td>teach men men defend country woman folk non white</td>\n",
       "      <td>[teach, men, men, defend, country, woman, folk...</td>\n",
       "      <td>...</td>\n",
       "      <td>0.0000</td>\n",
       "      <td>0.0000</td>\n",
       "      <td>white</td>\n",
       "      <td>0.0000</td>\n",
       "      <td>men men country woman folk</td>\n",
       "      <td>0.0000</td>\n",
       "      <td>teach defend</td>\n",
       "      <td>0.0000</td>\n",
       "      <td>0.0000</td>\n",
       "      <td>non</td>\n",
       "    </tr>\n",
       "    <tr>\n",
       "      <th>2979</th>\n",
       "      <td>30383111_2</td>\n",
       "      <td>734660</td>\n",
       "      <td>1348</td>\n",
       "      <td>0</td>\n",
       "      <td>0</td>\n",
       "      <td>But that is why I belong and support Stormfront .</td>\n",
       "      <td>belong support stormfront</td>\n",
       "      <td>belong support stormfront</td>\n",
       "      <td>belong support stormfront</td>\n",
       "      <td>[belong, support, stormfront]</td>\n",
       "      <td>...</td>\n",
       "      <td>0.4019</td>\n",
       "      <td>0.4019</td>\n",
       "      <td></td>\n",
       "      <td>0.0000</td>\n",
       "      <td>support</td>\n",
       "      <td>0.4019</td>\n",
       "      <td>belong</td>\n",
       "      <td>0.0000</td>\n",
       "      <td>0.0000</td>\n",
       "      <td>stormfront</td>\n",
       "    </tr>\n",
       "    <tr>\n",
       "      <th>3133</th>\n",
       "      <td>30593435_1</td>\n",
       "      <td>575781</td>\n",
       "      <td>1359</td>\n",
       "      <td>0</td>\n",
       "      <td>0</td>\n",
       "      <td>Only 6 Corporations Control Over 90 % of the T...</td>\n",
       "      <td>corporations control television channels corpo...</td>\n",
       "      <td>corpor control televis channel corpor turn peo...</td>\n",
       "      <td>corporation control television channel corpora...</td>\n",
       "      <td>[corporation, control, television, channel, co...</td>\n",
       "      <td>...</td>\n",
       "      <td>0.8016</td>\n",
       "      <td>0.4404</td>\n",
       "      <td>alternative</td>\n",
       "      <td>0.0000</td>\n",
       "      <td>people break monopoly news information medium</td>\n",
       "      <td>0.0000</td>\n",
       "      <td>turning let supporting</td>\n",
       "      <td>0.4404</td>\n",
       "      <td>0.0000</td>\n",
       "      <td>stormfront</td>\n",
       "    </tr>\n",
       "    <tr>\n",
       "      <th>3430</th>\n",
       "      <td>13438987_4</td>\n",
       "      <td>572043</td>\n",
       "      <td>1347</td>\n",
       "      <td>0</td>\n",
       "      <td>0</td>\n",
       "      <td>People in my circle of acquaintances are a bit...</td>\n",
       "      <td>people circle acquaintances bit obsessed iq</td>\n",
       "      <td>peopl circl acquaint bit obsess iq</td>\n",
       "      <td>people circle acquaintance bit obsessed iq</td>\n",
       "      <td>[people, circle, acquaintance, bit, obsessed, iq]</td>\n",
       "      <td>...</td>\n",
       "      <td>-0.1779</td>\n",
       "      <td>0.0000</td>\n",
       "      <td>obsessed</td>\n",
       "      <td>-0.1779</td>\n",
       "      <td>people acquaintance</td>\n",
       "      <td>0.0000</td>\n",
       "      <td></td>\n",
       "      <td>0.0000</td>\n",
       "      <td>0.0000</td>\n",
       "      <td>iq</td>\n",
       "    </tr>\n",
       "    <tr>\n",
       "      <th>3689</th>\n",
       "      <td>14014971_2</td>\n",
       "      <td>577755</td>\n",
       "      <td>1388</td>\n",
       "      <td>0</td>\n",
       "      <td>0</td>\n",
       "      <td>Like any new group ; some you 'll like and som...</td>\n",
       "      <td>like new group like wo</td>\n",
       "      <td>like new group like wo</td>\n",
       "      <td>like new group like wo</td>\n",
       "      <td>[like, new, group, like, wo]</td>\n",
       "      <td>...</td>\n",
       "      <td>0.7224</td>\n",
       "      <td>0.0000</td>\n",
       "      <td>new</td>\n",
       "      <td>0.0000</td>\n",
       "      <td>group</td>\n",
       "      <td>0.0000</td>\n",
       "      <td></td>\n",
       "      <td>0.0000</td>\n",
       "      <td>0.0000</td>\n",
       "      <td>wo</td>\n",
       "    </tr>\n",
       "    <tr>\n",
       "      <th>3739</th>\n",
       "      <td>14038566_3</td>\n",
       "      <td>596097</td>\n",
       "      <td>1387</td>\n",
       "      <td>0</td>\n",
       "      <td>0</td>\n",
       "      <td>Paris is a weekly riot fest .</td>\n",
       "      <td>paris weekly riot fest</td>\n",
       "      <td>pari weekli riot fest</td>\n",
       "      <td>paris weekly riot fest</td>\n",
       "      <td>[paris, weekly, riot, fest]</td>\n",
       "      <td>...</td>\n",
       "      <td>-0.5574</td>\n",
       "      <td>-0.5574</td>\n",
       "      <td></td>\n",
       "      <td>0.0000</td>\n",
       "      <td></td>\n",
       "      <td>0.0000</td>\n",
       "      <td></td>\n",
       "      <td>0.0000</td>\n",
       "      <td>-0.5574</td>\n",
       "      <td>fest</td>\n",
       "    </tr>\n",
       "    <tr>\n",
       "      <th>3779</th>\n",
       "      <td>14075992_1</td>\n",
       "      <td>581372</td>\n",
       "      <td>1383</td>\n",
       "      <td>0</td>\n",
       "      <td>0</td>\n",
       "      <td>If there are , they hide or do not know Stormf...</td>\n",
       "      <td>hide know stormfront</td>\n",
       "      <td>hide know stormfront</td>\n",
       "      <td>hide know stormfront</td>\n",
       "      <td>[hide, know, stormfront]</td>\n",
       "      <td>...</td>\n",
       "      <td>-0.1779</td>\n",
       "      <td>-0.1779</td>\n",
       "      <td></td>\n",
       "      <td>0.0000</td>\n",
       "      <td></td>\n",
       "      <td>0.0000</td>\n",
       "      <td>hide know</td>\n",
       "      <td>-0.1779</td>\n",
       "      <td>0.0000</td>\n",
       "      <td>stormfront</td>\n",
       "    </tr>\n",
       "    <tr>\n",
       "      <th>3836</th>\n",
       "      <td>14108132_1</td>\n",
       "      <td>600247</td>\n",
       "      <td>1381</td>\n",
       "      <td>0</td>\n",
       "      <td>0</td>\n",
       "      <td>Hey there Welcome to Stormfront .</td>\n",
       "      <td>hey welcome stormfront</td>\n",
       "      <td>hey welcom stormfront</td>\n",
       "      <td>hey welcome stormfront</td>\n",
       "      <td>[hey, welcome, stormfront]</td>\n",
       "      <td>...</td>\n",
       "      <td>0.4588</td>\n",
       "      <td>0.0000</td>\n",
       "      <td></td>\n",
       "      <td>0.0000</td>\n",
       "      <td></td>\n",
       "      <td>0.0000</td>\n",
       "      <td></td>\n",
       "      <td>0.0000</td>\n",
       "      <td>0.0000</td>\n",
       "      <td>stormfront</td>\n",
       "    </tr>\n",
       "    <tr>\n",
       "      <th>4200</th>\n",
       "      <td>30626480_3</td>\n",
       "      <td>573148</td>\n",
       "      <td>1348</td>\n",
       "      <td>0</td>\n",
       "      <td>0</td>\n",
       "      <td>Great Halloween !</td>\n",
       "      <td>great halloween</td>\n",
       "      <td>great halloween</td>\n",
       "      <td>great halloween</td>\n",
       "      <td>[great, halloween]</td>\n",
       "      <td>...</td>\n",
       "      <td>0.6249</td>\n",
       "      <td>0.0000</td>\n",
       "      <td>great</td>\n",
       "      <td>0.6249</td>\n",
       "      <td></td>\n",
       "      <td>0.0000</td>\n",
       "      <td></td>\n",
       "      <td>0.0000</td>\n",
       "      <td>0.0000</td>\n",
       "      <td>halloween</td>\n",
       "    </tr>\n",
       "    <tr>\n",
       "      <th>4293</th>\n",
       "      <td>30776478_1</td>\n",
       "      <td>572107</td>\n",
       "      <td>1354</td>\n",
       "      <td>0</td>\n",
       "      <td>0</td>\n",
       "      <td>My favorite part. sheds some light on how the ...</td>\n",
       "      <td>favorite part sheds light holocaust taught hig...</td>\n",
       "      <td>favorit part shed light holocaust taught high ...</td>\n",
       "      <td>favorite part shed light holocaust taught high...</td>\n",
       "      <td>[favorite, part, shed, light, holocaust, taugh...</td>\n",
       "      <td>...</td>\n",
       "      <td>0.7770</td>\n",
       "      <td>0.0000</td>\n",
       "      <td>favorite light high high global high sure</td>\n",
       "      <td>0.7770</td>\n",
       "      <td>part holocaust school world bankroll country s...</td>\n",
       "      <td>0.0000</td>\n",
       "      <td>shed taught got keep going going making taught...</td>\n",
       "      <td>0.0000</td>\n",
       "      <td>0.0000</td>\n",
       "      <td>mean</td>\n",
       "    </tr>\n",
       "    <tr>\n",
       "      <th>4626</th>\n",
       "      <td>13506308_4</td>\n",
       "      <td>573983</td>\n",
       "      <td>1395</td>\n",
       "      <td>0</td>\n",
       "      <td>0</td>\n",
       "      <td>Now learn your ballet ! : P - ZoÃ«</td>\n",
       "      <td>learn ballet p zo</td>\n",
       "      <td>learn ballet p zo</td>\n",
       "      <td>learn ballet p zo</td>\n",
       "      <td>[learn, ballet, p, zo]</td>\n",
       "      <td>...</td>\n",
       "      <td>0.0000</td>\n",
       "      <td>0.0000</td>\n",
       "      <td></td>\n",
       "      <td>0.0000</td>\n",
       "      <td></td>\n",
       "      <td>0.0000</td>\n",
       "      <td>learn</td>\n",
       "      <td>0.0000</td>\n",
       "      <td>0.0000</td>\n",
       "      <td>zo</td>\n",
       "    </tr>\n",
       "    <tr>\n",
       "      <th>5519</th>\n",
       "      <td>31772063_2</td>\n",
       "      <td>599489</td>\n",
       "      <td>1363</td>\n",
       "      <td>0</td>\n",
       "      <td>0</td>\n",
       "      <td>Welcome to Stormfront .</td>\n",
       "      <td>welcome stormfront</td>\n",
       "      <td>welcom stormfront</td>\n",
       "      <td>welcome stormfront</td>\n",
       "      <td>[welcome, stormfront]</td>\n",
       "      <td>...</td>\n",
       "      <td>0.4588</td>\n",
       "      <td>0.0000</td>\n",
       "      <td></td>\n",
       "      <td>0.0000</td>\n",
       "      <td></td>\n",
       "      <td>0.0000</td>\n",
       "      <td></td>\n",
       "      <td>0.0000</td>\n",
       "      <td>0.0000</td>\n",
       "      <td>stormfront</td>\n",
       "    </tr>\n",
       "    <tr>\n",
       "      <th>5560</th>\n",
       "      <td>12844355_1</td>\n",
       "      <td>572531</td>\n",
       "      <td>1397</td>\n",
       "      <td>0</td>\n",
       "      <td>0</td>\n",
       "      <td>I know what you mean .</td>\n",
       "      <td>know mean</td>\n",
       "      <td>know mean</td>\n",
       "      <td>know mean</td>\n",
       "      <td>[know, mean]</td>\n",
       "      <td>...</td>\n",
       "      <td>0.0000</td>\n",
       "      <td>0.0000</td>\n",
       "      <td></td>\n",
       "      <td>0.0000</td>\n",
       "      <td></td>\n",
       "      <td>0.0000</td>\n",
       "      <td>know</td>\n",
       "      <td>0.0000</td>\n",
       "      <td>0.0000</td>\n",
       "      <td>mean</td>\n",
       "    </tr>\n",
       "    <tr>\n",
       "      <th>5593</th>\n",
       "      <td>12874777_2</td>\n",
       "      <td>577459</td>\n",
       "      <td>1347</td>\n",
       "      <td>0</td>\n",
       "      <td>1</td>\n",
       "      <td>The non white homelands have so much trash and...</td>\n",
       "      <td>non white homelands much trash crime non white...</td>\n",
       "      <td>non white homeland much trash crime non white ...</td>\n",
       "      <td>non white homeland much trash crime non white ...</td>\n",
       "      <td>[non, white, homeland, much, trash, crime, non...</td>\n",
       "      <td>...</td>\n",
       "      <td>-0.5423</td>\n",
       "      <td>-0.5423</td>\n",
       "      <td>non white much</td>\n",
       "      <td>0.0000</td>\n",
       "      <td>homeland trash crime</td>\n",
       "      <td>-0.5423</td>\n",
       "      <td>choose stay</td>\n",
       "      <td>0.0000</td>\n",
       "      <td>0.0000</td>\n",
       "      <td>non</td>\n",
       "    </tr>\n",
       "    <tr>\n",
       "      <th>5661</th>\n",
       "      <td>13449160_2</td>\n",
       "      <td>575384</td>\n",
       "      <td>1347</td>\n",
       "      <td>0</td>\n",
       "      <td>0</td>\n",
       "      <td>I can go on forever talking about how to prote...</td>\n",
       "      <td>go forever talking protect white europe everyo...</td>\n",
       "      <td>go forev talk protect white europ everyon stor...</td>\n",
       "      <td>go forever talking protect white europe everyo...</td>\n",
       "      <td>[go, forever, talking, protect, white, europe,...</td>\n",
       "      <td>...</td>\n",
       "      <td>0.3818</td>\n",
       "      <td>0.3818</td>\n",
       "      <td></td>\n",
       "      <td>0.0000</td>\n",
       "      <td>mentality</td>\n",
       "      <td>0.0000</td>\n",
       "      <td>go talking protect know</td>\n",
       "      <td>0.3818</td>\n",
       "      <td>0.0000</td>\n",
       "      <td>stormfront</td>\n",
       "    </tr>\n",
       "    <tr>\n",
       "      <th>5926</th>\n",
       "      <td>14022819_1</td>\n",
       "      <td>572367</td>\n",
       "      <td>1388</td>\n",
       "      <td>0</td>\n",
       "      <td>0</td>\n",
       "      <td>I saw a white person in Scarborough once .</td>\n",
       "      <td>saw white person scarborough</td>\n",
       "      <td>saw white person scarborough</td>\n",
       "      <td>saw white person scarborough</td>\n",
       "      <td>[saw, white, person, scarborough]</td>\n",
       "      <td>...</td>\n",
       "      <td>0.0000</td>\n",
       "      <td>0.0000</td>\n",
       "      <td></td>\n",
       "      <td>0.0000</td>\n",
       "      <td>person</td>\n",
       "      <td>0.0000</td>\n",
       "      <td>saw</td>\n",
       "      <td>0.0000</td>\n",
       "      <td>0.0000</td>\n",
       "      <td>scarborough</td>\n",
       "    </tr>\n",
       "    <tr>\n",
       "      <th>7115</th>\n",
       "      <td>14103860_1</td>\n",
       "      <td>599101</td>\n",
       "      <td>1381</td>\n",
       "      <td>0</td>\n",
       "      <td>0</td>\n",
       "      <td>well i have no money to go over the sea neithe...</td>\n",
       "      <td>well money go sea neither think world day dont...</td>\n",
       "      <td>well money go sea neither think world day dont...</td>\n",
       "      <td>well money go sea neither think world day dont...</td>\n",
       "      <td>[well, money, go, sea, neither, think, world, ...</td>\n",
       "      <td>...</td>\n",
       "      <td>0.2732</td>\n",
       "      <td>0.0000</td>\n",
       "      <td>enough</td>\n",
       "      <td>0.0000</td>\n",
       "      <td>money sea world day money travel</td>\n",
       "      <td>0.0000</td>\n",
       "      <td>go think</td>\n",
       "      <td>0.0000</td>\n",
       "      <td>0.0000</td>\n",
       "      <td>wpww</td>\n",
       "    </tr>\n",
       "    <tr>\n",
       "      <th>7266</th>\n",
       "      <td>14426199_1</td>\n",
       "      <td>573740</td>\n",
       "      <td>1375</td>\n",
       "      <td>0</td>\n",
       "      <td>0</td>\n",
       "      <td>Welcome to Stormfront .</td>\n",
       "      <td>welcome stormfront</td>\n",
       "      <td>welcom stormfront</td>\n",
       "      <td>welcome stormfront</td>\n",
       "      <td>[welcome, stormfront]</td>\n",
       "      <td>...</td>\n",
       "      <td>0.4588</td>\n",
       "      <td>0.0000</td>\n",
       "      <td></td>\n",
       "      <td>0.0000</td>\n",
       "      <td></td>\n",
       "      <td>0.0000</td>\n",
       "      <td></td>\n",
       "      <td>0.0000</td>\n",
       "      <td>0.0000</td>\n",
       "      <td>stormfront</td>\n",
       "    </tr>\n",
       "    <tr>\n",
       "      <th>7328</th>\n",
       "      <td>30384268_2</td>\n",
       "      <td>734525</td>\n",
       "      <td>1354</td>\n",
       "      <td>0</td>\n",
       "      <td>0</td>\n",
       "      <td>The lengths the fed. gov. will go to in order ...</td>\n",
       "      <td>lengths fed gov go order put notch preverbial ...</td>\n",
       "      <td>length fed gov go order put notch preverbi sp ...</td>\n",
       "      <td>length fed gov go order put notch preverbial s...</td>\n",
       "      <td>[length, fed, gov, go, order, put, notch, prev...</td>\n",
       "      <td>...</td>\n",
       "      <td>0.0000</td>\n",
       "      <td>0.0000</td>\n",
       "      <td>preverbial</td>\n",
       "      <td>0.0000</td>\n",
       "      <td>order</td>\n",
       "      <td>0.0000</td>\n",
       "      <td>go put</td>\n",
       "      <td>0.0000</td>\n",
       "      <td>0.0000</td>\n",
       "      <td>gov</td>\n",
       "    </tr>\n",
       "    <tr>\n",
       "      <th>8189</th>\n",
       "      <td>14096493_1</td>\n",
       "      <td>589735</td>\n",
       "      <td>1381</td>\n",
       "      <td>0</td>\n",
       "      <td>0</td>\n",
       "      <td>Hi, I am very respectable nordic man , living ...</td>\n",
       "      <td>hi respectable nordic man living finland aged</td>\n",
       "      <td>hi respect nordic man live finland age</td>\n",
       "      <td>hi respectable nordic man living finland aged</td>\n",
       "      <td>[hi, respectable, nordic, man, living, finland...</td>\n",
       "      <td>...</td>\n",
       "      <td>0.4404</td>\n",
       "      <td>0.0000</td>\n",
       "      <td>respectable nordic</td>\n",
       "      <td>0.4404</td>\n",
       "      <td>man finland</td>\n",
       "      <td>0.0000</td>\n",
       "      <td>living</td>\n",
       "      <td>0.0000</td>\n",
       "      <td>0.0000</td>\n",
       "      <td>aged</td>\n",
       "    </tr>\n",
       "    <tr>\n",
       "      <th>8538</th>\n",
       "      <td>30566606_1</td>\n",
       "      <td>573684</td>\n",
       "      <td>1362</td>\n",
       "      <td>0</td>\n",
       "      <td>0</td>\n",
       "      <td>Please let me know if the school needs anythin...</td>\n",
       "      <td>please let know school needs anything get webs...</td>\n",
       "      <td>pleas let know school need anyth get websit re...</td>\n",
       "      <td>please let know school need anything get websi...</td>\n",
       "      <td>[please, let, know, school, need, anything, ge...</td>\n",
       "      <td>...</td>\n",
       "      <td>0.6794</td>\n",
       "      <td>0.0000</td>\n",
       "      <td>ready</td>\n",
       "      <td>0.3612</td>\n",
       "      <td>school website</td>\n",
       "      <td>0.0000</td>\n",
       "      <td>let know need let know</td>\n",
       "      <td>0.0000</td>\n",
       "      <td>0.0000</td>\n",
       "      <td>bandwith</td>\n",
       "    </tr>\n",
       "    <tr>\n",
       "      <th>8865</th>\n",
       "      <td>13455402_2</td>\n",
       "      <td>582379</td>\n",
       "      <td>1347</td>\n",
       "      <td>0</td>\n",
       "      <td>0</td>\n",
       "      <td>You can start out as an aware person who does ...</td>\n",
       "      <td>start aware person need herd tell something ri...</td>\n",
       "      <td>start awar person need herd tell someth right ...</td>\n",
       "      <td>start aware person need herd tell something ri...</td>\n",
       "      <td>[start, aware, person, need, herd, tell, somet...</td>\n",
       "      <td>...</td>\n",
       "      <td>0.0000</td>\n",
       "      <td>0.0000</td>\n",
       "      <td>aware right</td>\n",
       "      <td>0.0000</td>\n",
       "      <td>person herd ally mass point view</td>\n",
       "      <td>0.0000</td>\n",
       "      <td>start need tell bombarded</td>\n",
       "      <td>0.0000</td>\n",
       "      <td>0.0000</td>\n",
       "      <td>succumb</td>\n",
       "    </tr>\n",
       "    <tr>\n",
       "      <th>9726</th>\n",
       "      <td>31741831_2</td>\n",
       "      <td>586659</td>\n",
       "      <td>1363</td>\n",
       "      <td>0</td>\n",
       "      <td>0</td>\n",
       "      <td>Do not show your email adress publicly on the ...</td>\n",
       "      <td>show email adress publicly forums</td>\n",
       "      <td>show email adress publicli forum</td>\n",
       "      <td>show email adress publicly forum</td>\n",
       "      <td>[show, email, adress, publicly, forum]</td>\n",
       "      <td>...</td>\n",
       "      <td>0.0000</td>\n",
       "      <td>0.0000</td>\n",
       "      <td></td>\n",
       "      <td>0.0000</td>\n",
       "      <td>adress</td>\n",
       "      <td>0.0000</td>\n",
       "      <td>show</td>\n",
       "      <td>0.0000</td>\n",
       "      <td>0.0000</td>\n",
       "      <td>forum</td>\n",
       "    </tr>\n",
       "    <tr>\n",
       "      <th>9962</th>\n",
       "      <td>13491212_4</td>\n",
       "      <td>585008</td>\n",
       "      <td>1395</td>\n",
       "      <td>0</td>\n",
       "      <td>0</td>\n",
       "      <td>About 1000 of Israely military specialists vol...</td>\n",
       "      <td>israely military specialists voluntary say ser...</td>\n",
       "      <td>isra militari specialist voluntari say serv ge...</td>\n",
       "      <td>israely military specialist voluntary say serv...</td>\n",
       "      <td>[israely, military, specialist, voluntary, say...</td>\n",
       "      <td>...</td>\n",
       "      <td>-0.5859</td>\n",
       "      <td>-0.5859</td>\n",
       "      <td>military voluntary georgian</td>\n",
       "      <td>0.0000</td>\n",
       "      <td>specialist prepare assault</td>\n",
       "      <td>-0.5859</td>\n",
       "      <td>served</td>\n",
       "      <td>0.0000</td>\n",
       "      <td>0.0000</td>\n",
       "      <td>tshinvaly</td>\n",
       "    </tr>\n",
       "    <tr>\n",
       "      <th>10415</th>\n",
       "      <td>14418989_1</td>\n",
       "      <td>586615</td>\n",
       "      <td>1375</td>\n",
       "      <td>0</td>\n",
       "      <td>0</td>\n",
       "      <td>This should be passed to the left too , who ha...</td>\n",
       "      <td>passed left victims adl tactics including thef...</td>\n",
       "      <td>pass left victim adl tactic includ theft polic...</td>\n",
       "      <td>passed left victim adl tactic including theft ...</td>\n",
       "      <td>[passed, left, victim, adl, tactic, including,...</td>\n",
       "      <td>...</td>\n",
       "      <td>-0.8306</td>\n",
       "      <td>-0.2732</td>\n",
       "      <td>illegal</td>\n",
       "      <td>-0.5574</td>\n",
       "      <td>victim tactic theft police file spying</td>\n",
       "      <td>-0.2732</td>\n",
       "      <td>passed left including smearing</td>\n",
       "      <td>0.0000</td>\n",
       "      <td>0.0000</td>\n",
       "      <td>adl</td>\n",
       "    </tr>\n",
       "    <tr>\n",
       "      <th>10772</th>\n",
       "      <td>30677056_1</td>\n",
       "      <td>572236</td>\n",
       "      <td>1348</td>\n",
       "      <td>0</td>\n",
       "      <td>0</td>\n",
       "      <td>(Warning: do not watch on a full stomach ) I '...</td>\n",
       "      <td>warning watch full stomach jewish know officia...</td>\n",
       "      <td>warn watch full stomach jewish know offici par...</td>\n",
       "      <td>warning watch full stomach jewish know officia...</td>\n",
       "      <td>[warning, watch, full, stomach, jewish, know, ...</td>\n",
       "      <td>...</td>\n",
       "      <td>0.1867</td>\n",
       "      <td>-0.3400</td>\n",
       "      <td>full jewish official sexy</td>\n",
       "      <td>0.5267</td>\n",
       "      <td>warning stomach parody</td>\n",
       "      <td>-0.3400</td>\n",
       "      <td>watch know know</td>\n",
       "      <td>0.0000</td>\n",
       "      <td>0.0000</td>\n",
       "      <td>youtube</td>\n",
       "    </tr>\n",
       "  </tbody>\n",
       "</table>\n",
       "<p>33 rows × 23 columns</p>\n",
       "</div>"
      ],
      "text/plain": [
       "          file_id  user_id  subforum_id  num_contexts  label  \\\n",
       "1184   13052957_1   579087         1345             1      0   \n",
       "1220   13350432_1   576002         1345             1      0   \n",
       "1495   14014774_2   579541         1388             0      0   \n",
       "1624   14095095_2   598702         1381             0      0   \n",
       "1901   30462409_2   576093         1362             4      0   \n",
       "1954   30549038_2   573414         1359             0      0   \n",
       "2783   14101526_3   593187         1381             0      0   \n",
       "2879   14406890_3   575011         1375             0      1   \n",
       "2979   30383111_2   734660         1348             0      0   \n",
       "3133   30593435_1   575781         1359             0      0   \n",
       "3430   13438987_4   572043         1347             0      0   \n",
       "3689   14014971_2   577755         1388             0      0   \n",
       "3739   14038566_3   596097         1387             0      0   \n",
       "3779   14075992_1   581372         1383             0      0   \n",
       "3836   14108132_1   600247         1381             0      0   \n",
       "4200   30626480_3   573148         1348             0      0   \n",
       "4293   30776478_1   572107         1354             0      0   \n",
       "4626   13506308_4   573983         1395             0      0   \n",
       "5519   31772063_2   599489         1363             0      0   \n",
       "5560   12844355_1   572531         1397             0      0   \n",
       "5593   12874777_2   577459         1347             0      1   \n",
       "5661   13449160_2   575384         1347             0      0   \n",
       "5926   14022819_1   572367         1388             0      0   \n",
       "7115   14103860_1   599101         1381             0      0   \n",
       "7266   14426199_1   573740         1375             0      0   \n",
       "7328   30384268_2   734525         1354             0      0   \n",
       "8189   14096493_1   589735         1381             0      0   \n",
       "8538   30566606_1   573684         1362             0      0   \n",
       "8865   13455402_2   582379         1347             0      0   \n",
       "9726   31741831_2   586659         1363             0      0   \n",
       "9962   13491212_4   585008         1395             0      0   \n",
       "10415  14418989_1   586615         1375             0      0   \n",
       "10772  30677056_1   572236         1348             0      0   \n",
       "\n",
       "                                                    text  \\\n",
       "1184   I bet all the Ted Pike stuff is on the ADL hit...   \n",
       "1220   :hide And if you 're around Knights of Columbu...   \n",
       "1495   The French N.B communities near Quebec especia...   \n",
       "1624   For example , almost all the 12 year olds last...   \n",
       "1901              Dumb goyim are a good revenue source .   \n",
       "1954   I told him how to go and then said , you ar no...   \n",
       "2783                                         WP WP WP WP   \n",
       "2879   Teach our men to be men again and defend our c...   \n",
       "2979   But that is why I belong and support Stormfront .   \n",
       "3133   Only 6 Corporations Control Over 90 % of the T...   \n",
       "3430   People in my circle of acquaintances are a bit...   \n",
       "3689   Like any new group ; some you 'll like and som...   \n",
       "3739                       Paris is a weekly riot fest .   \n",
       "3779   If there are , they hide or do not know Stormf...   \n",
       "3836                   Hey there Welcome to Stormfront .   \n",
       "4200                                   Great Halloween !   \n",
       "4293   My favorite part. sheds some light on how the ...   \n",
       "4626                  Now learn your ballet ! : P - ZoÃ«   \n",
       "5519                             Welcome to Stormfront .   \n",
       "5560                              I know what you mean .   \n",
       "5593   The non white homelands have so much trash and...   \n",
       "5661   I can go on forever talking about how to prote...   \n",
       "5926          I saw a white person in Scarborough once .   \n",
       "7115   well i have no money to go over the sea neithe...   \n",
       "7266                             Welcome to Stormfront .   \n",
       "7328   The lengths the fed. gov. will go to in order ...   \n",
       "8189   Hi, I am very respectable nordic man , living ...   \n",
       "8538   Please let me know if the school needs anythin...   \n",
       "8865   You can start out as an aware person who does ...   \n",
       "9726   Do not show your email adress publicly on the ...   \n",
       "9962   About 1000 of Israely military specialists vol...   \n",
       "10415  This should be passed to the left too , who ha...   \n",
       "10772  (Warning: do not watch on a full stomach ) I '...   \n",
       "\n",
       "                                              text_clean  \\\n",
       "1184   bet ted pike stuff adl hit list look start dis...   \n",
       "1220   around knights columbus roman catholic brether...   \n",
       "1495   french communities near quebec especially woul...   \n",
       "1624   example almost year olds last year dressed wig...   \n",
       "1901                      dumb goyim good revenue source   \n",
       "1954                       told go said ar around ya lol   \n",
       "2783                                         wp wp wp wp   \n",
       "2879   teach men men defend countries women folk non ...   \n",
       "2979                           belong support stormfront   \n",
       "3133   corporations control television channels corpo...   \n",
       "3430         people circle acquaintances bit obsessed iq   \n",
       "3689                              like new group like wo   \n",
       "3739                              paris weekly riot fest   \n",
       "3779                                hide know stormfront   \n",
       "3836                              hey welcome stormfront   \n",
       "4200                                     great halloween   \n",
       "4293   favorite part sheds light holocaust taught hig...   \n",
       "4626                                   learn ballet p zo   \n",
       "5519                                  welcome stormfront   \n",
       "5560                                           know mean   \n",
       "5593   non white homelands much trash crime non white...   \n",
       "5661   go forever talking protect white europe everyo...   \n",
       "5926                        saw white person scarborough   \n",
       "7115   well money go sea neither think world day dont...   \n",
       "7266                                  welcome stormfront   \n",
       "7328   lengths fed gov go order put notch preverbial ...   \n",
       "8189       hi respectable nordic man living finland aged   \n",
       "8538   please let know school needs anything get webs...   \n",
       "8865   start aware person need herd tell something ri...   \n",
       "9726                   show email adress publicly forums   \n",
       "9962   israely military specialists voluntary say ser...   \n",
       "10415  passed left victims adl tactics including thef...   \n",
       "10772  warning watch full stomach jewish know officia...   \n",
       "\n",
       "                                                 stemmed  \\\n",
       "1184   bet ted pike stuff adl hit list look start dis...   \n",
       "1220   around knight columbu roman cathol brethern ke...   \n",
       "1495        french commun near quebec especi would white   \n",
       "1624   exampl almost year old last year dress wigger ...   \n",
       "1901                        dumb goyim good revenu sourc   \n",
       "1954                       told go said ar around ya lol   \n",
       "2783                                         wp wp wp wp   \n",
       "2879   teach men men defend countri women folk non white   \n",
       "2979                           belong support stormfront   \n",
       "3133   corpor control televis channel corpor turn peo...   \n",
       "3430                  peopl circl acquaint bit obsess iq   \n",
       "3689                              like new group like wo   \n",
       "3739                               pari weekli riot fest   \n",
       "3779                                hide know stormfront   \n",
       "3836                               hey welcom stormfront   \n",
       "4200                                     great halloween   \n",
       "4293   favorit part shed light holocaust taught high ...   \n",
       "4626                                   learn ballet p zo   \n",
       "5519                                   welcom stormfront   \n",
       "5560                                           know mean   \n",
       "5593   non white homeland much trash crime non white ...   \n",
       "5661   go forev talk protect white europ everyon stor...   \n",
       "5926                        saw white person scarborough   \n",
       "7115   well money go sea neither think world day dont...   \n",
       "7266                                   welcom stormfront   \n",
       "7328   length fed gov go order put notch preverbi sp ...   \n",
       "8189              hi respect nordic man live finland age   \n",
       "8538   pleas let know school need anyth get websit re...   \n",
       "8865   start awar person need herd tell someth right ...   \n",
       "9726                    show email adress publicli forum   \n",
       "9962   isra militari specialist voluntari say serv ge...   \n",
       "10415  pass left victim adl tactic includ theft polic...   \n",
       "10772  warn watch full stomach jewish know offici par...   \n",
       "\n",
       "                                              lemmatized  \\\n",
       "1184   bet ted pike stuff adl hit list look start dis...   \n",
       "1220   around knight columbus roman catholic brethern...   \n",
       "1495   french community near quebec especially would ...   \n",
       "1624   example almost year old last year dressed wigg...   \n",
       "1901                        dumb goy good revenue source   \n",
       "1954                       told go said ar around ya lol   \n",
       "2783                                         wp wp wp wp   \n",
       "2879   teach men men defend country woman folk non white   \n",
       "2979                           belong support stormfront   \n",
       "3133   corporation control television channel corpora...   \n",
       "3430          people circle acquaintance bit obsessed iq   \n",
       "3689                              like new group like wo   \n",
       "3739                              paris weekly riot fest   \n",
       "3779                                hide know stormfront   \n",
       "3836                              hey welcome stormfront   \n",
       "4200                                     great halloween   \n",
       "4293   favorite part shed light holocaust taught high...   \n",
       "4626                                   learn ballet p zo   \n",
       "5519                                  welcome stormfront   \n",
       "5560                                           know mean   \n",
       "5593   non white homeland much trash crime non white ...   \n",
       "5661   go forever talking protect white europe everyo...   \n",
       "5926                        saw white person scarborough   \n",
       "7115   well money go sea neither think world day dont...   \n",
       "7266                                  welcome stormfront   \n",
       "7328   length fed gov go order put notch preverbial s...   \n",
       "8189       hi respectable nordic man living finland aged   \n",
       "8538   please let know school need anything get websi...   \n",
       "8865   start aware person need herd tell something ri...   \n",
       "9726                    show email adress publicly forum   \n",
       "9962   israely military specialist voluntary say serv...   \n",
       "10415  passed left victim adl tactic including theft ...   \n",
       "10772  warning watch full stomach jewish know officia...   \n",
       "\n",
       "                                                  tokens  ... sentiment_text  \\\n",
       "1184   [bet, ted, pike, stuff, adl, hit, list, look, ...  ...         0.0000   \n",
       "1220   [around, knight, columbus, roman, catholic, br...  ...         0.0000   \n",
       "1495   [french, community, near, quebec, especially, ...  ...         0.0000   \n",
       "1624   [example, almost, year, old, last, year, dress...  ...        -0.6486   \n",
       "1901                  [dumb, goy, good, revenue, source]  ...        -0.0702   \n",
       "1954               [told, go, said, ar, around, ya, lol]  ...         0.4215   \n",
       "2783                                    [wp, wp, wp, wp]  ...         1.0000   \n",
       "2879   [teach, men, men, defend, country, woman, folk...  ...         0.0000   \n",
       "2979                       [belong, support, stormfront]  ...         0.4019   \n",
       "3133   [corporation, control, television, channel, co...  ...         0.8016   \n",
       "3430   [people, circle, acquaintance, bit, obsessed, iq]  ...        -0.1779   \n",
       "3689                        [like, new, group, like, wo]  ...         0.7224   \n",
       "3739                         [paris, weekly, riot, fest]  ...        -0.5574   \n",
       "3779                            [hide, know, stormfront]  ...        -0.1779   \n",
       "3836                          [hey, welcome, stormfront]  ...         0.4588   \n",
       "4200                                  [great, halloween]  ...         0.6249   \n",
       "4293   [favorite, part, shed, light, holocaust, taugh...  ...         0.7770   \n",
       "4626                              [learn, ballet, p, zo]  ...         0.0000   \n",
       "5519                               [welcome, stormfront]  ...         0.4588   \n",
       "5560                                        [know, mean]  ...         0.0000   \n",
       "5593   [non, white, homeland, much, trash, crime, non...  ...        -0.5423   \n",
       "5661   [go, forever, talking, protect, white, europe,...  ...         0.3818   \n",
       "5926                   [saw, white, person, scarborough]  ...         0.0000   \n",
       "7115   [well, money, go, sea, neither, think, world, ...  ...         0.2732   \n",
       "7266                               [welcome, stormfront]  ...         0.4588   \n",
       "7328   [length, fed, gov, go, order, put, notch, prev...  ...         0.0000   \n",
       "8189   [hi, respectable, nordic, man, living, finland...  ...         0.4404   \n",
       "8538   [please, let, know, school, need, anything, ge...  ...         0.6794   \n",
       "8865   [start, aware, person, need, herd, tell, somet...  ...         0.0000   \n",
       "9726              [show, email, adress, publicly, forum]  ...         0.0000   \n",
       "9962   [israely, military, specialist, voluntary, say...  ...        -0.5859   \n",
       "10415  [passed, left, victim, adl, tactic, including,...  ...        -0.8306   \n",
       "10772  [warning, watch, full, stomach, jewish, know, ...  ...         0.1867   \n",
       "\n",
       "      sentiment_NPV                                        ADJ  sentiment_ADJ  \\\n",
       "1184         0.0000                                                    0.0000   \n",
       "1220         0.0000                                close young         0.0000   \n",
       "1495         0.0000                                                    0.0000   \n",
       "1624         0.0000                                   old last         0.0000   \n",
       "1901         0.0000                                  dumb good        -0.0702   \n",
       "1954         0.0000                                                    0.0000   \n",
       "2783         0.7500                                                    0.0000   \n",
       "2879         0.0000                                      white         0.0000   \n",
       "2979         0.4019                                                    0.0000   \n",
       "3133         0.4404                                alternative         0.0000   \n",
       "3430         0.0000                                   obsessed        -0.1779   \n",
       "3689         0.0000                                        new         0.0000   \n",
       "3739        -0.5574                                                    0.0000   \n",
       "3779        -0.1779                                                    0.0000   \n",
       "3836         0.0000                                                    0.0000   \n",
       "4200         0.0000                                      great         0.6249   \n",
       "4293         0.0000  favorite light high high global high sure         0.7770   \n",
       "4626         0.0000                                                    0.0000   \n",
       "5519         0.0000                                                    0.0000   \n",
       "5560         0.0000                                                    0.0000   \n",
       "5593        -0.5423                             non white much         0.0000   \n",
       "5661         0.3818                                                    0.0000   \n",
       "5926         0.0000                                                    0.0000   \n",
       "7115         0.0000                                     enough         0.0000   \n",
       "7266         0.0000                                                    0.0000   \n",
       "7328         0.0000                                 preverbial         0.0000   \n",
       "8189         0.0000                         respectable nordic         0.4404   \n",
       "8538         0.0000                                      ready         0.3612   \n",
       "8865         0.0000                                aware right         0.0000   \n",
       "9726         0.0000                                                    0.0000   \n",
       "9962        -0.5859                military voluntary georgian         0.0000   \n",
       "10415       -0.2732                                    illegal        -0.5574   \n",
       "10772       -0.3400                  full jewish official sexy         0.5267   \n",
       "\n",
       "                                                    NOUN sentiment_NOUN  \\\n",
       "1184                              stuff list memory hole         0.0000   \n",
       "1220                                          hold child         0.0000   \n",
       "1495                                                             0.0000   \n",
       "1624                           example year year wiggers         0.0000   \n",
       "1901                                      revenue source         0.0000   \n",
       "1954                                                             0.0000   \n",
       "2783                                                             0.0000   \n",
       "2879                          men men country woman folk         0.0000   \n",
       "2979                                             support         0.4019   \n",
       "3133       people break monopoly news information medium         0.0000   \n",
       "3430                                 people acquaintance         0.0000   \n",
       "3689                                               group         0.0000   \n",
       "3739                                                             0.0000   \n",
       "3779                                                             0.0000   \n",
       "3836                                                             0.0000   \n",
       "4200                                                             0.0000   \n",
       "4293   part holocaust school world bankroll country s...         0.0000   \n",
       "4626                                                             0.0000   \n",
       "5519                                                             0.0000   \n",
       "5560                                                             0.0000   \n",
       "5593                                homeland trash crime        -0.5423   \n",
       "5661                                           mentality         0.0000   \n",
       "5926                                              person         0.0000   \n",
       "7115                    money sea world day money travel         0.0000   \n",
       "7266                                                             0.0000   \n",
       "7328                                               order         0.0000   \n",
       "8189                                         man finland         0.0000   \n",
       "8538                                      school website         0.0000   \n",
       "8865                    person herd ally mass point view         0.0000   \n",
       "9726                                              adress         0.0000   \n",
       "9962                          specialist prepare assault        -0.5859   \n",
       "10415             victim tactic theft police file spying        -0.2732   \n",
       "10772                             warning stomach parody        -0.3400   \n",
       "\n",
       "                                                    VERB sentiment_VERB  \\\n",
       "1184                         hit look start disappearing         0.0000   \n",
       "1220                                                keep         0.0000   \n",
       "1495                                               would         0.0000   \n",
       "1624                                        dressed pimp         0.0000   \n",
       "1901                                                             0.0000   \n",
       "1954                                           told said         0.0000   \n",
       "2783                                                             0.0000   \n",
       "2879                                        teach defend         0.0000   \n",
       "2979                                              belong         0.0000   \n",
       "3133                              turning let supporting         0.4404   \n",
       "3430                                                             0.0000   \n",
       "3689                                                             0.0000   \n",
       "3739                                                             0.0000   \n",
       "3779                                           hide know        -0.1779   \n",
       "3836                                                             0.0000   \n",
       "4200                                                             0.0000   \n",
       "4293   shed taught got keep going going making taught...         0.0000   \n",
       "4626                                               learn         0.0000   \n",
       "5519                                                             0.0000   \n",
       "5560                                                know         0.0000   \n",
       "5593                                         choose stay         0.0000   \n",
       "5661                             go talking protect know         0.3818   \n",
       "5926                                                 saw         0.0000   \n",
       "7115                                            go think         0.0000   \n",
       "7266                                                             0.0000   \n",
       "7328                                              go put         0.0000   \n",
       "8189                                              living         0.0000   \n",
       "8538                              let know need let know         0.0000   \n",
       "8865                           start need tell bombarded         0.0000   \n",
       "9726                                                show         0.0000   \n",
       "9962                                              served         0.0000   \n",
       "10415                     passed left including smearing         0.0000   \n",
       "10772                                    watch know know         0.0000   \n",
       "\n",
       "       sentiment_PROPN        PUNCT  \n",
       "1184            0.0000          adl  \n",
       "1220            0.0000          boy  \n",
       "1495            0.0000        white  \n",
       "1624            0.0000    halloween  \n",
       "1901            0.0000          goy  \n",
       "1954            0.0000          lol  \n",
       "2783            0.7500           wp  \n",
       "2879            0.0000          non  \n",
       "2979            0.0000   stormfront  \n",
       "3133            0.0000   stormfront  \n",
       "3430            0.0000           iq  \n",
       "3689            0.0000           wo  \n",
       "3739           -0.5574         fest  \n",
       "3779            0.0000   stormfront  \n",
       "3836            0.0000   stormfront  \n",
       "4200            0.0000    halloween  \n",
       "4293            0.0000         mean  \n",
       "4626            0.0000           zo  \n",
       "5519            0.0000   stormfront  \n",
       "5560            0.0000         mean  \n",
       "5593            0.0000          non  \n",
       "5661            0.0000   stormfront  \n",
       "5926            0.0000  scarborough  \n",
       "7115            0.0000         wpww  \n",
       "7266            0.0000   stormfront  \n",
       "7328            0.0000          gov  \n",
       "8189            0.0000         aged  \n",
       "8538            0.0000     bandwith  \n",
       "8865            0.0000      succumb  \n",
       "9726            0.0000        forum  \n",
       "9962            0.0000    tshinvaly  \n",
       "10415           0.0000          adl  \n",
       "10772           0.0000      youtube  \n",
       "\n",
       "[33 rows x 23 columns]"
      ]
     },
     "execution_count": 139,
     "metadata": {},
     "output_type": "execute_result"
    }
   ],
   "source": [
    "data[data['PUNCT'].str.contains(\".\")]"
   ]
  },
  {
   "cell_type": "code",
   "execution_count": 140,
   "metadata": {},
   "outputs": [],
   "source": [
    "pos_list = [\"X_POS\"]"
   ]
  },
  {
   "cell_type": "code",
   "execution_count": 141,
   "metadata": {},
   "outputs": [],
   "source": [
    "data[\"X_POS\"] = data.apply(lambda x: filter_text_pos(x[\"POS_spacy\"]), axis=1)"
   ]
  },
  {
   "cell_type": "code",
   "execution_count": 142,
   "metadata": {},
   "outputs": [
    {
     "data": {
      "text/html": [
       "<div>\n",
       "<style scoped>\n",
       "    .dataframe tbody tr th:only-of-type {\n",
       "        vertical-align: middle;\n",
       "    }\n",
       "\n",
       "    .dataframe tbody tr th {\n",
       "        vertical-align: top;\n",
       "    }\n",
       "\n",
       "    .dataframe thead th {\n",
       "        text-align: right;\n",
       "    }\n",
       "</style>\n",
       "<table border=\"1\" class=\"dataframe\">\n",
       "  <thead>\n",
       "    <tr style=\"text-align: right;\">\n",
       "      <th></th>\n",
       "      <th>file_id</th>\n",
       "      <th>user_id</th>\n",
       "      <th>subforum_id</th>\n",
       "      <th>num_contexts</th>\n",
       "      <th>label</th>\n",
       "      <th>text</th>\n",
       "      <th>text_clean</th>\n",
       "      <th>stemmed</th>\n",
       "      <th>lemmatized</th>\n",
       "      <th>tokens</th>\n",
       "      <th>...</th>\n",
       "      <th>sentiment_NPV</th>\n",
       "      <th>ADJ</th>\n",
       "      <th>sentiment_ADJ</th>\n",
       "      <th>NOUN</th>\n",
       "      <th>sentiment_NOUN</th>\n",
       "      <th>VERB</th>\n",
       "      <th>sentiment_VERB</th>\n",
       "      <th>sentiment_PROPN</th>\n",
       "      <th>PUNCT</th>\n",
       "      <th>X_POS</th>\n",
       "    </tr>\n",
       "  </thead>\n",
       "  <tbody>\n",
       "  </tbody>\n",
       "</table>\n",
       "<p>0 rows × 24 columns</p>\n",
       "</div>"
      ],
      "text/plain": [
       "Empty DataFrame\n",
       "Columns: [file_id, user_id, subforum_id, num_contexts, label, text, text_clean, stemmed, lemmatized, tokens, POS_spacy, PROPN, NOUN_PROPN_VERB, sentiment_text, sentiment_NPV, ADJ, sentiment_ADJ, NOUN, sentiment_NOUN, VERB, sentiment_VERB, sentiment_PROPN, PUNCT, X_POS]\n",
       "Index: []\n",
       "\n",
       "[0 rows x 24 columns]"
      ]
     },
     "execution_count": 142,
     "metadata": {},
     "output_type": "execute_result"
    }
   ],
   "source": [
    "data[data['X_POS'].str.contains(\".\")]"
   ]
  },
  {
   "cell_type": "code",
   "execution_count": null,
   "metadata": {},
   "outputs": [],
   "source": []
  },
  {
   "cell_type": "markdown",
   "metadata": {},
   "source": [
    "# N-grams"
   ]
  },
  {
   "cell_type": "markdown",
   "metadata": {},
   "source": [
    "### Bi-grams"
   ]
  },
  {
   "cell_type": "code",
   "execution_count": 143,
   "metadata": {
    "scrolled": true
   },
   "outputs": [],
   "source": [
    "bi = [list(nltk.bigrams(x)) for x in data['tokens']]"
   ]
  },
  {
   "cell_type": "code",
   "execution_count": 144,
   "metadata": {
    "scrolled": true
   },
   "outputs": [],
   "source": [
    "from collections import Counter\n",
    "lista = []\n",
    "for x in bi:\n",
    "    if x not in lista:\n",
    "        lista.append(x)"
   ]
  },
  {
   "cell_type": "code",
   "execution_count": 145,
   "metadata": {},
   "outputs": [],
   "source": [
    "#two_grams_list = [item for item in lista]"
   ]
  },
  {
   "cell_type": "code",
   "execution_count": 146,
   "metadata": {},
   "outputs": [],
   "source": [
    "bi_count = {}\n",
    "for item in lista:\n",
    "    for x in item:\n",
    "        if x in bi_count:\n",
    "            bi_count[x] +=1\n",
    "        else:\n",
    "            bi_count[x] = 1"
   ]
  },
  {
   "cell_type": "code",
   "execution_count": 147,
   "metadata": {},
   "outputs": [
    {
     "data": {
      "text/plain": [
       "{('can', 'not'): 114,\n",
       " ('personal', 'message'): 75,\n",
       " ('white', 'people'): 73,\n",
       " ('look', 'like'): 71,\n",
       " ('year', 'old'): 65,\n",
       " ('white', 'nationalist'): 63,\n",
       " ('would', 'like'): 60,\n",
       " ('year', 'ago'): 60,\n",
       " ('white', 'woman'): 55,\n",
       " ('non', 'white'): 48,\n",
       " ('high', 'school'): 39,\n",
       " ('white', 'race'): 36,\n",
       " ('white', 'girl'): 33,\n",
       " ('new', 'york'): 32,\n",
       " ('last', 'year'): 31,\n",
       " ('sound', 'like'): 31,\n",
       " ('white', 'man'): 30,\n",
       " ('public', 'school'): 29,\n",
       " ('south', 'africa'): 29,\n",
       " ('one', 'day'): 28}"
      ]
     },
     "execution_count": 147,
     "metadata": {},
     "output_type": "execute_result"
    }
   ],
   "source": [
    "top_bi = {k: v for k, v in sorted(bi_count.items(), key=lambda item: item[1], reverse=True)[:20]}\n",
    "top_bi"
   ]
  },
  {
   "cell_type": "code",
   "execution_count": 148,
   "metadata": {},
   "outputs": [
    {
     "data": {
      "text/html": [
       "<div>\n",
       "<style scoped>\n",
       "    .dataframe tbody tr th:only-of-type {\n",
       "        vertical-align: middle;\n",
       "    }\n",
       "\n",
       "    .dataframe tbody tr th {\n",
       "        vertical-align: top;\n",
       "    }\n",
       "\n",
       "    .dataframe thead th {\n",
       "        text-align: right;\n",
       "    }\n",
       "</style>\n",
       "<table border=\"1\" class=\"dataframe\">\n",
       "  <thead>\n",
       "    <tr style=\"text-align: right;\">\n",
       "      <th></th>\n",
       "      <th>file_id</th>\n",
       "      <th>user_id</th>\n",
       "      <th>subforum_id</th>\n",
       "      <th>num_contexts</th>\n",
       "      <th>label</th>\n",
       "      <th>text</th>\n",
       "      <th>text_clean</th>\n",
       "      <th>stemmed</th>\n",
       "      <th>lemmatized</th>\n",
       "      <th>tokens</th>\n",
       "      <th>...</th>\n",
       "      <th>sentiment_NPV</th>\n",
       "      <th>ADJ</th>\n",
       "      <th>sentiment_ADJ</th>\n",
       "      <th>NOUN</th>\n",
       "      <th>sentiment_NOUN</th>\n",
       "      <th>VERB</th>\n",
       "      <th>sentiment_VERB</th>\n",
       "      <th>sentiment_PROPN</th>\n",
       "      <th>PUNCT</th>\n",
       "      <th>X_POS</th>\n",
       "    </tr>\n",
       "  </thead>\n",
       "  <tbody>\n",
       "    <tr>\n",
       "      <th>34</th>\n",
       "      <td>12855497_1</td>\n",
       "      <td>575939</td>\n",
       "      <td>1346</td>\n",
       "      <td>0</td>\n",
       "      <td>0</td>\n",
       "      <td>This whole situation starts to become really b...</td>\n",
       "      <td>whole situation starts become really bizarre</td>\n",
       "      <td>whole situat start becom realli bizarr</td>\n",
       "      <td>whole situation start become really bizarre</td>\n",
       "      <td>[whole, situation, start, become, really, biza...</td>\n",
       "      <td>...</td>\n",
       "      <td>0.0000</td>\n",
       "      <td>whole bizarre</td>\n",
       "      <td>-0.3182</td>\n",
       "      <td>situation</td>\n",
       "      <td>0.0000</td>\n",
       "      <td>start become</td>\n",
       "      <td>0.0000</td>\n",
       "      <td>0.0000</td>\n",
       "      <td></td>\n",
       "      <td></td>\n",
       "    </tr>\n",
       "    <tr>\n",
       "      <th>107</th>\n",
       "      <td>13341044_1</td>\n",
       "      <td>572139</td>\n",
       "      <td>1345</td>\n",
       "      <td>0</td>\n",
       "      <td>0</td>\n",
       "      <td>Obama has membership in Prince Hall ( for blac...</td>\n",
       "      <td>obama membership prince hall blacks lodge beco...</td>\n",
       "      <td>obama membership princ hall black lodg becom n...</td>\n",
       "      <td>obama membership prince hall black lodge becom...</td>\n",
       "      <td>[obama, membership, prince, hall, black, lodge...</td>\n",
       "      <td>...</td>\n",
       "      <td>0.0000</td>\n",
       "      <td>nlfrsregii</td>\n",
       "      <td>0.0000</td>\n",
       "      <td>membership zagami</td>\n",
       "      <td>0.0000</td>\n",
       "      <td>become according</td>\n",
       "      <td>0.0000</td>\n",
       "      <td>0.0000</td>\n",
       "      <td></td>\n",
       "      <td></td>\n",
       "    </tr>\n",
       "    <tr>\n",
       "      <th>187</th>\n",
       "      <td>13480997_1</td>\n",
       "      <td>573561</td>\n",
       "      <td>1345</td>\n",
       "      <td>3</td>\n",
       "      <td>1</td>\n",
       "      <td>I hate to see such beautiful white females bec...</td>\n",
       "      <td>hate see beautiful white females become victim...</td>\n",
       "      <td>hate see beauti white femal becom victim sick ...</td>\n",
       "      <td>hate see beautiful white female become victim ...</td>\n",
       "      <td>[hate, see, beautiful, white, female, become, ...</td>\n",
       "      <td>...</td>\n",
       "      <td>-0.8451</td>\n",
       "      <td>beautiful white sick violent</td>\n",
       "      <td>-0.5106</td>\n",
       "      <td>hate female victim merciless animal</td>\n",
       "      <td>-0.8451</td>\n",
       "      <td>see become</td>\n",
       "      <td>0.0000</td>\n",
       "      <td>0.0000</td>\n",
       "      <td></td>\n",
       "      <td></td>\n",
       "    </tr>\n",
       "    <tr>\n",
       "      <th>309</th>\n",
       "      <td>13849471_1</td>\n",
       "      <td>591119</td>\n",
       "      <td>1391</td>\n",
       "      <td>0</td>\n",
       "      <td>0</td>\n",
       "      <td>good luck NoRemorseNoRegrets , hopefully its g...</td>\n",
       "      <td>good luck noremorsenoregrets hopefully good ne...</td>\n",
       "      <td>good luck noremorsenoregret hope good news job...</td>\n",
       "      <td>good luck noremorsenoregrets hopefully good ne...</td>\n",
       "      <td>[good, luck, noremorsenoregrets, hopefully, go...</td>\n",
       "      <td>...</td>\n",
       "      <td>0.8992</td>\n",
       "      <td>good good</td>\n",
       "      <td>0.8808</td>\n",
       "      <td>luck noremorsenoregrets news job hope figure stat</td>\n",
       "      <td>0.8992</td>\n",
       "      <td>let become</td>\n",
       "      <td>0.0000</td>\n",
       "      <td>0.0000</td>\n",
       "      <td></td>\n",
       "      <td></td>\n",
       "    </tr>\n",
       "    <tr>\n",
       "      <th>413</th>\n",
       "      <td>14036242_1</td>\n",
       "      <td>596557</td>\n",
       "      <td>1387</td>\n",
       "      <td>0</td>\n",
       "      <td>0</td>\n",
       "      <td>Hey I 'm not really new to browsing the forums...</td>\n",
       "      <td>hey really new browsing forums got account dec...</td>\n",
       "      <td>hey realli new brows forum got account decid b...</td>\n",
       "      <td>hey really new browsing forum got account deci...</td>\n",
       "      <td>[hey, really, new, browsing, forum, got, accou...</td>\n",
       "      <td>...</td>\n",
       "      <td>0.0000</td>\n",
       "      <td>new active online</td>\n",
       "      <td>0.4019</td>\n",
       "      <td>browsing forum account day day life</td>\n",
       "      <td>0.0000</td>\n",
       "      <td>got decided become</td>\n",
       "      <td>0.0000</td>\n",
       "      <td>0.0000</td>\n",
       "      <td></td>\n",
       "      <td></td>\n",
       "    </tr>\n",
       "    <tr>\n",
       "      <th>657</th>\n",
       "      <td>14438669_1</td>\n",
       "      <td>573617</td>\n",
       "      <td>1375</td>\n",
       "      <td>0</td>\n",
       "      <td>0</td>\n",
       "      <td>I was wondering if you can give me a link on h...</td>\n",
       "      <td>wondering give link become ordained minister i...</td>\n",
       "      <td>wonder give link becom ordain minist internet</td>\n",
       "      <td>wondering give link become ordained minister i...</td>\n",
       "      <td>[wondering, give, link, become, ordained, mini...</td>\n",
       "      <td>...</td>\n",
       "      <td>0.0000</td>\n",
       "      <td></td>\n",
       "      <td>0.0000</td>\n",
       "      <td>link</td>\n",
       "      <td>0.0000</td>\n",
       "      <td>wondering give become ordained</td>\n",
       "      <td>0.0000</td>\n",
       "      <td>0.0000</td>\n",
       "      <td></td>\n",
       "      <td></td>\n",
       "    </tr>\n",
       "    <tr>\n",
       "      <th>994</th>\n",
       "      <td>30684884_1</td>\n",
       "      <td>572129</td>\n",
       "      <td>1362</td>\n",
       "      <td>0</td>\n",
       "      <td>0</td>\n",
       "      <td>My new word o ' the week ( which has somehow b...</td>\n",
       "      <td>new word week somehow become word two weeks to...</td>\n",
       "      <td>new word week somehow becom word two week torp...</td>\n",
       "      <td>new word week somehow become word two week tor...</td>\n",
       "      <td>[new, word, week, somehow, become, word, two, ...</td>\n",
       "      <td>...</td>\n",
       "      <td>0.0000</td>\n",
       "      <td>new dormant</td>\n",
       "      <td>0.0000</td>\n",
       "      <td>word week word week torpid tor hibernating</td>\n",
       "      <td>0.0000</td>\n",
       "      <td>become</td>\n",
       "      <td>0.0000</td>\n",
       "      <td>0.0000</td>\n",
       "      <td></td>\n",
       "      <td></td>\n",
       "    </tr>\n",
       "    <tr>\n",
       "      <th>1313</th>\n",
       "      <td>13491141_1</td>\n",
       "      <td>585852</td>\n",
       "      <td>1395</td>\n",
       "      <td>0</td>\n",
       "      <td>0</td>\n",
       "      <td>The site become legendary www.ns-wp.cc has aga...</td>\n",
       "      <td>site become legendary opened video section acc...</td>\n",
       "      <td>site becom legendari open video section access...</td>\n",
       "      <td>site become legendary opened video section acc...</td>\n",
       "      <td>[site, become, legendary, opened, video, secti...</td>\n",
       "      <td>...</td>\n",
       "      <td>0.5994</td>\n",
       "      <td>legendary accessible cid new</td>\n",
       "      <td>0.0000</td>\n",
       "      <td>site video section option com jdownloads task ...</td>\n",
       "      <td>0.5994</td>\n",
       "      <td>become opened itemid itemid flying</td>\n",
       "      <td>0.0000</td>\n",
       "      <td>0.0000</td>\n",
       "      <td></td>\n",
       "      <td></td>\n",
       "    </tr>\n",
       "    <tr>\n",
       "      <th>1524</th>\n",
       "      <td>14026532_2</td>\n",
       "      <td>578419</td>\n",
       "      <td>1387</td>\n",
       "      <td>0</td>\n",
       "      <td>1</td>\n",
       "      <td>Then , we can look forward to cases of Multi-D...</td>\n",
       "      <td>look forward cases resistant mdr extensively d...</td>\n",
       "      <td>look forward case resist mdr extens drug resis...</td>\n",
       "      <td>look forward case resistant mdr extensively dr...</td>\n",
       "      <td>[look, forward, case, resistant, mdr, extensiv...</td>\n",
       "      <td>...</td>\n",
       "      <td>0.0000</td>\n",
       "      <td>resistant resistant common</td>\n",
       "      <td>0.0000</td>\n",
       "      <td>case drug disease</td>\n",
       "      <td>0.0000</td>\n",
       "      <td>look become</td>\n",
       "      <td>0.0000</td>\n",
       "      <td>0.0000</td>\n",
       "      <td></td>\n",
       "      <td></td>\n",
       "    </tr>\n",
       "    <tr>\n",
       "      <th>2355</th>\n",
       "      <td>13474668_1</td>\n",
       "      <td>572224</td>\n",
       "      <td>1346</td>\n",
       "      <td>0</td>\n",
       "      <td>1</td>\n",
       "      <td>But unfortunately , Maine 's become the dumpin...</td>\n",
       "      <td>unfortunately maine become dumping ground soma...</td>\n",
       "      <td>unfortun main becom dump ground somali african...</td>\n",
       "      <td>unfortunately maine become dumping ground soma...</td>\n",
       "      <td>[unfortunately, maine, become, dumping, ground...</td>\n",
       "      <td>...</td>\n",
       "      <td>-0.3182</td>\n",
       "      <td>somali african</td>\n",
       "      <td>0.0000</td>\n",
       "      <td>ground trash</td>\n",
       "      <td>0.0000</td>\n",
       "      <td>become dumping</td>\n",
       "      <td>-0.3182</td>\n",
       "      <td>0.0000</td>\n",
       "      <td></td>\n",
       "      <td></td>\n",
       "    </tr>\n",
       "    <tr>\n",
       "      <th>2487</th>\n",
       "      <td>13640781_1</td>\n",
       "      <td>591109</td>\n",
       "      <td>1391</td>\n",
       "      <td>0</td>\n",
       "      <td>1</td>\n",
       "      <td>Its only a matter of time until we become a he...</td>\n",
       "      <td>matter time become hell hole like sweden uk</td>\n",
       "      <td>matter time becom hell hole like sweden uk</td>\n",
       "      <td>matter time become hell hole like sweden uk</td>\n",
       "      <td>[matter, time, become, hell, hole, like, swede...</td>\n",
       "      <td>...</td>\n",
       "      <td>-0.6550</td>\n",
       "      <td></td>\n",
       "      <td>0.0000</td>\n",
       "      <td>hole</td>\n",
       "      <td>0.0000</td>\n",
       "      <td>become</td>\n",
       "      <td>0.0000</td>\n",
       "      <td>-0.6550</td>\n",
       "      <td></td>\n",
       "      <td></td>\n",
       "    </tr>\n",
       "    <tr>\n",
       "      <th>2563</th>\n",
       "      <td>14017062_1</td>\n",
       "      <td>577037</td>\n",
       "      <td>1388</td>\n",
       "      <td>0</td>\n",
       "      <td>1</td>\n",
       "      <td>I'm with you , Winnipeg has become a cesspool .</td>\n",
       "      <td>winnipeg become cesspool</td>\n",
       "      <td>winnipeg becom cesspool</td>\n",
       "      <td>winnipeg become cesspool</td>\n",
       "      <td>[winnipeg, become, cesspool]</td>\n",
       "      <td>...</td>\n",
       "      <td>0.0000</td>\n",
       "      <td>cesspool</td>\n",
       "      <td>0.0000</td>\n",
       "      <td></td>\n",
       "      <td>0.0000</td>\n",
       "      <td>become</td>\n",
       "      <td>0.0000</td>\n",
       "      <td>0.0000</td>\n",
       "      <td></td>\n",
       "      <td></td>\n",
       "    </tr>\n",
       "    <tr>\n",
       "      <th>2636</th>\n",
       "      <td>14035837_2</td>\n",
       "      <td>595786</td>\n",
       "      <td>1387</td>\n",
       "      <td>0</td>\n",
       "      <td>0</td>\n",
       "      <td>The sooner we acknowledge eachother in local a...</td>\n",
       "      <td>sooner acknowledge eachother local areas band ...</td>\n",
       "      <td>sooner acknowledg eachoth local area band toge...</td>\n",
       "      <td>sooner acknowledge eachother local area band t...</td>\n",
       "      <td>[sooner, acknowledge, eachother, local, area, ...</td>\n",
       "      <td>...</td>\n",
       "      <td>0.0000</td>\n",
       "      <td>local strong white</td>\n",
       "      <td>0.5106</td>\n",
       "      <td>area band unit nation</td>\n",
       "      <td>0.0000</td>\n",
       "      <td>acknowledge become</td>\n",
       "      <td>0.0000</td>\n",
       "      <td>0.0000</td>\n",
       "      <td></td>\n",
       "      <td></td>\n",
       "    </tr>\n",
       "    <tr>\n",
       "      <th>2803</th>\n",
       "      <td>14105080_3</td>\n",
       "      <td>599798</td>\n",
       "      <td>1381</td>\n",
       "      <td>1</td>\n",
       "      <td>0</td>\n",
       "      <td>They 're music is one of the reasons I decided...</td>\n",
       "      <td>music one reasons decided become white nationa...</td>\n",
       "      <td>music one reason decid becom white nationalist...</td>\n",
       "      <td>music one reason decided become white national...</td>\n",
       "      <td>[music, one, reason, decided, become, white, n...</td>\n",
       "      <td>...</td>\n",
       "      <td>0.0000</td>\n",
       "      <td>white nationalist first</td>\n",
       "      <td>0.0000</td>\n",
       "      <td>music reason place</td>\n",
       "      <td>0.0000</td>\n",
       "      <td>decided become</td>\n",
       "      <td>0.0000</td>\n",
       "      <td>0.0000</td>\n",
       "      <td></td>\n",
       "      <td></td>\n",
       "    </tr>\n",
       "    <tr>\n",
       "      <th>2914</th>\n",
       "      <td>14429748_2</td>\n",
       "      <td>600229</td>\n",
       "      <td>1375</td>\n",
       "      <td>0</td>\n",
       "      <td>0</td>\n",
       "      <td>I have been able to become more active than ev...</td>\n",
       "      <td>able become active ever site</td>\n",
       "      <td>abl becom activ ever site</td>\n",
       "      <td>able become active ever site</td>\n",
       "      <td>[able, become, active, ever, site]</td>\n",
       "      <td>...</td>\n",
       "      <td>0.0000</td>\n",
       "      <td>able active</td>\n",
       "      <td>0.4019</td>\n",
       "      <td>site</td>\n",
       "      <td>0.0000</td>\n",
       "      <td>become</td>\n",
       "      <td>0.0000</td>\n",
       "      <td>0.0000</td>\n",
       "      <td></td>\n",
       "      <td></td>\n",
       "    </tr>\n",
       "    <tr>\n",
       "      <th>2997</th>\n",
       "      <td>30416052_1</td>\n",
       "      <td>734579</td>\n",
       "      <td>1362</td>\n",
       "      <td>0</td>\n",
       "      <td>0</td>\n",
       "      <td>The reason liberals become teachers and social...</td>\n",
       "      <td>reason liberals become teachers social workers...</td>\n",
       "      <td>reason liber becom teacher social worker occup...</td>\n",
       "      <td>reason liberal become teacher social worker oc...</td>\n",
       "      <td>[reason, liberal, become, teacher, social, wor...</td>\n",
       "      <td>...</td>\n",
       "      <td>0.3818</td>\n",
       "      <td>social political</td>\n",
       "      <td>0.0000</td>\n",
       "      <td>reason teacher worker occupation people fantas...</td>\n",
       "      <td>0.0000</td>\n",
       "      <td>become accepting live</td>\n",
       "      <td>0.3818</td>\n",
       "      <td>0.0000</td>\n",
       "      <td></td>\n",
       "      <td></td>\n",
       "    </tr>\n",
       "    <tr>\n",
       "      <th>3251</th>\n",
       "      <td>31711240_3</td>\n",
       "      <td>744926</td>\n",
       "      <td>1363</td>\n",
       "      <td>0</td>\n",
       "      <td>0</td>\n",
       "      <td>There are many whites out there who would beco...</td>\n",
       "      <td>many whites would become part movement know no...</td>\n",
       "      <td>mani white would becom part movement know noth</td>\n",
       "      <td>many white would become part movement know not...</td>\n",
       "      <td>[many, white, would, become, part, movement, k...</td>\n",
       "      <td>...</td>\n",
       "      <td>0.0000</td>\n",
       "      <td>many</td>\n",
       "      <td>0.0000</td>\n",
       "      <td>part movement</td>\n",
       "      <td>0.0000</td>\n",
       "      <td>would become know</td>\n",
       "      <td>0.0000</td>\n",
       "      <td>0.0000</td>\n",
       "      <td></td>\n",
       "      <td></td>\n",
       "    </tr>\n",
       "    <tr>\n",
       "      <th>3608</th>\n",
       "      <td>13603727_1</td>\n",
       "      <td>586977</td>\n",
       "      <td>1393</td>\n",
       "      <td>0</td>\n",
       "      <td>0</td>\n",
       "      <td>The negress above have boasted about that she ...</td>\n",
       "      <td>negress boasted become first black woman prime...</td>\n",
       "      <td>negress boast becom first black woman prime mi...</td>\n",
       "      <td>negress boasted become first black woman prime...</td>\n",
       "      <td>[negress, boasted, become, first, black, woman...</td>\n",
       "      <td>...</td>\n",
       "      <td>0.0000</td>\n",
       "      <td>first black</td>\n",
       "      <td>0.0000</td>\n",
       "      <td>woman</td>\n",
       "      <td>0.0000</td>\n",
       "      <td>boasted become</td>\n",
       "      <td>0.0000</td>\n",
       "      <td>0.0000</td>\n",
       "      <td></td>\n",
       "      <td></td>\n",
       "    </tr>\n",
       "    <tr>\n",
       "      <th>3926</th>\n",
       "      <td>14417219_2</td>\n",
       "      <td>606601</td>\n",
       "      <td>1375</td>\n",
       "      <td>0</td>\n",
       "      <td>0</td>\n",
       "      <td>The WACPG 's focus is to shed light on how bac...</td>\n",
       "      <td>wacpg focus shed light backwards become affirm...</td>\n",
       "      <td>wacpg focu shed light backward becom affirm ac...</td>\n",
       "      <td>wacpg focus shed light backwards become affirm...</td>\n",
       "      <td>[wacpg, focus, shed, light, backwards, become,...</td>\n",
       "      <td>...</td>\n",
       "      <td>0.4588</td>\n",
       "      <td>affirmative black</td>\n",
       "      <td>0.0000</td>\n",
       "      <td>focus light action program prosper closing</td>\n",
       "      <td>0.0000</td>\n",
       "      <td>shed become allowing established grow benefit</td>\n",
       "      <td>0.4588</td>\n",
       "      <td>0.0000</td>\n",
       "      <td></td>\n",
       "      <td></td>\n",
       "    </tr>\n",
       "    <tr>\n",
       "      <th>3959</th>\n",
       "      <td>14438853_1</td>\n",
       "      <td>581667</td>\n",
       "      <td>1375</td>\n",
       "      <td>0</td>\n",
       "      <td>0</td>\n",
       "      <td>I came here to find out why such a small popul...</td>\n",
       "      <td>came find small population living small area p...</td>\n",
       "      <td>came find small popul live small area planet c...</td>\n",
       "      <td>came find small population living small area p...</td>\n",
       "      <td>[came, find, small, population, living, small,...</td>\n",
       "      <td>...</td>\n",
       "      <td>-0.1779</td>\n",
       "      <td>small small</td>\n",
       "      <td>0.0000</td>\n",
       "      <td>population area planet war instability opitomy...</td>\n",
       "      <td>-0.1779</td>\n",
       "      <td>came find living ravaged managed become rule</td>\n",
       "      <td>0.0000</td>\n",
       "      <td>0.0000</td>\n",
       "      <td></td>\n",
       "      <td></td>\n",
       "    </tr>\n",
       "    <tr>\n",
       "      <th>3962</th>\n",
       "      <td>14651924_3</td>\n",
       "      <td>572170</td>\n",
       "      <td>1371</td>\n",
       "      <td>0</td>\n",
       "      <td>0</td>\n",
       "      <td>I think a lot of black males become conceited ...</td>\n",
       "      <td>think lot black males become conceited</td>\n",
       "      <td>think lot black male becom conceit</td>\n",
       "      <td>think lot black male become conceited</td>\n",
       "      <td>[think, lot, black, male, become, conceited]</td>\n",
       "      <td>...</td>\n",
       "      <td>0.0000</td>\n",
       "      <td>lot black conceited</td>\n",
       "      <td>0.0000</td>\n",
       "      <td>male</td>\n",
       "      <td>0.0000</td>\n",
       "      <td>think become</td>\n",
       "      <td>0.0000</td>\n",
       "      <td>0.0000</td>\n",
       "      <td></td>\n",
       "      <td></td>\n",
       "    </tr>\n",
       "    <tr>\n",
       "      <th>5008</th>\n",
       "      <td>14654092_1</td>\n",
       "      <td>573247</td>\n",
       "      <td>1371</td>\n",
       "      <td>0</td>\n",
       "      <td>0</td>\n",
       "      <td>And speaking of which , do you find it as comi...</td>\n",
       "      <td>speaking find comical people lacking beauty wo...</td>\n",
       "      <td>speak find comic peopl lack beauti would want ...</td>\n",
       "      <td>speaking find comical people lacking beauty wo...</td>\n",
       "      <td>[speaking, find, comical, people, lacking, bea...</td>\n",
       "      <td>...</td>\n",
       "      <td>0.6631</td>\n",
       "      <td>comical beautician</td>\n",
       "      <td>0.2960</td>\n",
       "      <td>people beauty</td>\n",
       "      <td>0.5859</td>\n",
       "      <td>speaking find lacking would want become</td>\n",
       "      <td>0.0772</td>\n",
       "      <td>0.0000</td>\n",
       "      <td></td>\n",
       "      <td></td>\n",
       "    </tr>\n",
       "    <tr>\n",
       "      <th>5021</th>\n",
       "      <td>14664974_2</td>\n",
       "      <td>614322</td>\n",
       "      <td>1371</td>\n",
       "      <td>0</td>\n",
       "      <td>1</td>\n",
       "      <td>About the Chinese , those who remain in their ...</td>\n",
       "      <td>chinese remain country good become illegal imm...</td>\n",
       "      <td>chines remain countri good becom illeg immigr ...</td>\n",
       "      <td>chinese remain country good become illegal imm...</td>\n",
       "      <td>[chinese, remain, country, good, become, illeg...</td>\n",
       "      <td>...</td>\n",
       "      <td>0.0000</td>\n",
       "      <td>good illegal immigrant white bad</td>\n",
       "      <td>-0.6593</td>\n",
       "      <td>country nation</td>\n",
       "      <td>0.0000</td>\n",
       "      <td>remain become</td>\n",
       "      <td>0.0000</td>\n",
       "      <td>0.0000</td>\n",
       "      <td></td>\n",
       "      <td></td>\n",
       "    </tr>\n",
       "    <tr>\n",
       "      <th>5048</th>\n",
       "      <td>14673299_2</td>\n",
       "      <td>579196</td>\n",
       "      <td>1371</td>\n",
       "      <td>0</td>\n",
       "      <td>1</td>\n",
       "      <td>I do not think anyone looks up to white Negroe...</td>\n",
       "      <td>think anyone looks white negroes black ones be...</td>\n",
       "      <td>think anyon look white negro black one becom w...</td>\n",
       "      <td>think anyone look white negro black one become...</td>\n",
       "      <td>[think, anyone, look, white, negro, black, one...</td>\n",
       "      <td>...</td>\n",
       "      <td>0.0000</td>\n",
       "      <td>white black</td>\n",
       "      <td>0.0000</td>\n",
       "      <td>wiggers</td>\n",
       "      <td>0.0000</td>\n",
       "      <td>think look become</td>\n",
       "      <td>0.0000</td>\n",
       "      <td>0.0000</td>\n",
       "      <td></td>\n",
       "      <td></td>\n",
       "    </tr>\n",
       "    <tr>\n",
       "      <th>5461</th>\n",
       "      <td>31708648_1</td>\n",
       "      <td>572043</td>\n",
       "      <td>1363</td>\n",
       "      <td>0</td>\n",
       "      <td>0</td>\n",
       "      <td>i have always wanted to be a cop and will beco...</td>\n",
       "      <td>always wanted cop become one bad anti skinhead...</td>\n",
       "      <td>alway want cop becom one bad anti skinhead cop...</td>\n",
       "      <td>always wanted cop become one bad anti skinhead...</td>\n",
       "      <td>[always, wanted, cop, become, one, bad, anti, ...</td>\n",
       "      <td>...</td>\n",
       "      <td>-0.4019</td>\n",
       "      <td>bad anti best</td>\n",
       "      <td>-0.2236</td>\n",
       "      <td>cop cop job fact street</td>\n",
       "      <td>0.0000</td>\n",
       "      <td>wanted become think cleaning</td>\n",
       "      <td>0.0000</td>\n",
       "      <td>-0.4019</td>\n",
       "      <td></td>\n",
       "      <td></td>\n",
       "    </tr>\n",
       "    <tr>\n",
       "      <th>5523</th>\n",
       "      <td>31775640_1</td>\n",
       "      <td>585783</td>\n",
       "      <td>1363</td>\n",
       "      <td>0</td>\n",
       "      <td>0</td>\n",
       "      <td>Welcome SourceX , I hope you will read more an...</td>\n",
       "      <td>welcome sourcex hope read maybe become white n...</td>\n",
       "      <td>welcom sourcex hope read mayb becom white nati...</td>\n",
       "      <td>welcome sourcex hope read maybe become white n...</td>\n",
       "      <td>[welcome, sourcex, hope, read, maybe, become, ...</td>\n",
       "      <td>...</td>\n",
       "      <td>-0.2079</td>\n",
       "      <td>white nationalist white</td>\n",
       "      <td>0.0000</td>\n",
       "      <td>hope refrain racist race race culture country</td>\n",
       "      <td>-0.1720</td>\n",
       "      <td>read become calling want preserve live</td>\n",
       "      <td>0.0772</td>\n",
       "      <td>-0.1131</td>\n",
       "      <td></td>\n",
       "      <td></td>\n",
       "    </tr>\n",
       "    <tr>\n",
       "      <th>5800</th>\n",
       "      <td>13597604_2</td>\n",
       "      <td>582172</td>\n",
       "      <td>1393</td>\n",
       "      <td>0</td>\n",
       "      <td>0</td>\n",
       "      <td>Finns and Sweds can become even closer after t...</td>\n",
       "      <td>finns sweds become even closer start become tr...</td>\n",
       "      <td>finn swed becom even closer start becom true b...</td>\n",
       "      <td>finn sweds become even closer start become tru...</td>\n",
       "      <td>[finn, sweds, become, even, closer, start, bec...</td>\n",
       "      <td>...</td>\n",
       "      <td>0.0000</td>\n",
       "      <td>closer true</td>\n",
       "      <td>0.4215</td>\n",
       "      <td>sweds start brother nation</td>\n",
       "      <td>0.0000</td>\n",
       "      <td>become become</td>\n",
       "      <td>0.0000</td>\n",
       "      <td>0.0000</td>\n",
       "      <td></td>\n",
       "      <td></td>\n",
       "    </tr>\n",
       "    <tr>\n",
       "      <th>5971</th>\n",
       "      <td>14037278_2</td>\n",
       "      <td>578715</td>\n",
       "      <td>1387</td>\n",
       "      <td>0</td>\n",
       "      <td>0</td>\n",
       "      <td>The greatest result of this is that their narr...</td>\n",
       "      <td>greatest result narrative become estranged tru...</td>\n",
       "      <td>greatest result narr becom estrang truth help ...</td>\n",
       "      <td>greatest result narrative become estranged tru...</td>\n",
       "      <td>[greatest, result, narrative, become, estrange...</td>\n",
       "      <td>...</td>\n",
       "      <td>0.7201</td>\n",
       "      <td>greatest estranged</td>\n",
       "      <td>0.6369</td>\n",
       "      <td>result narrative truth help people</td>\n",
       "      <td>0.7201</td>\n",
       "      <td>become wake</td>\n",
       "      <td>0.0000</td>\n",
       "      <td>0.0000</td>\n",
       "      <td></td>\n",
       "      <td></td>\n",
       "    </tr>\n",
       "    <tr>\n",
       "      <th>5979</th>\n",
       "      <td>14038029_2</td>\n",
       "      <td>577318</td>\n",
       "      <td>1387</td>\n",
       "      <td>0</td>\n",
       "      <td>0</td>\n",
       "      <td>I hope you all stick around on SF and become i...</td>\n",
       "      <td>hope stick around sf become involved stay invo...</td>\n",
       "      <td>hope stick around sf becom involv stay involv ...</td>\n",
       "      <td>hope stick around sf become involved stay invo...</td>\n",
       "      <td>[hope, stick, around, sf, become, involved, st...</td>\n",
       "      <td>...</td>\n",
       "      <td>0.4404</td>\n",
       "      <td>involved involved nationalist</td>\n",
       "      <td>0.0000</td>\n",
       "      <td>stay politics</td>\n",
       "      <td>0.0000</td>\n",
       "      <td>become</td>\n",
       "      <td>0.0000</td>\n",
       "      <td>0.4404</td>\n",
       "      <td></td>\n",
       "      <td></td>\n",
       "    </tr>\n",
       "    <tr>\n",
       "      <th>6118</th>\n",
       "      <td>14296672_2</td>\n",
       "      <td>575071</td>\n",
       "      <td>1380</td>\n",
       "      <td>0</td>\n",
       "      <td>0</td>\n",
       "      <td>Looking to become more active and make more fr...</td>\n",
       "      <td>looking become active make friends white natio...</td>\n",
       "      <td>look becom activ make friend white nationalist...</td>\n",
       "      <td>looking become active make friend white nation...</td>\n",
       "      <td>[looking, become, active, make, friend, white,...</td>\n",
       "      <td>...</td>\n",
       "      <td>0.4939</td>\n",
       "      <td>active nationalist</td>\n",
       "      <td>0.4019</td>\n",
       "      <td>friend</td>\n",
       "      <td>0.4939</td>\n",
       "      <td>looking become make</td>\n",
       "      <td>0.0000</td>\n",
       "      <td>0.0000</td>\n",
       "      <td></td>\n",
       "      <td></td>\n",
       "    </tr>\n",
       "    <tr>\n",
       "      <th>6186</th>\n",
       "      <td>14436170_1</td>\n",
       "      <td>573794</td>\n",
       "      <td>1375</td>\n",
       "      <td>0</td>\n",
       "      <td>0</td>\n",
       "      <td>I know people have posted this link on StormFr...</td>\n",
       "      <td>know people posted link stormfront think one e...</td>\n",
       "      <td>know peopl post link stormfront think one easi...</td>\n",
       "      <td>know people posted link stormfront think one e...</td>\n",
       "      <td>[know, people, posted, link, stormfront, think...</td>\n",
       "      <td>...</td>\n",
       "      <td>0.0000</td>\n",
       "      <td>easiest involved</td>\n",
       "      <td>0.4215</td>\n",
       "      <td>people way</td>\n",
       "      <td>0.0000</td>\n",
       "      <td>know posted think become</td>\n",
       "      <td>0.0000</td>\n",
       "      <td>0.0000</td>\n",
       "      <td></td>\n",
       "      <td></td>\n",
       "    </tr>\n",
       "    <tr>\n",
       "      <th>6207</th>\n",
       "      <td>14664558_2</td>\n",
       "      <td>574356</td>\n",
       "      <td>1371</td>\n",
       "      <td>0</td>\n",
       "      <td>1</td>\n",
       "      <td>If it continues England will become a cesspool...</td>\n",
       "      <td>continues england become cesspool sh pardon en...</td>\n",
       "      <td>continu england becom cesspool sh pardon english</td>\n",
       "      <td>continues england become cesspool sh pardon en...</td>\n",
       "      <td>[continues, england, become, cesspool, sh, par...</td>\n",
       "      <td>...</td>\n",
       "      <td>0.3182</td>\n",
       "      <td></td>\n",
       "      <td>0.0000</td>\n",
       "      <td></td>\n",
       "      <td>0.0000</td>\n",
       "      <td>continues</td>\n",
       "      <td>0.0000</td>\n",
       "      <td>0.3182</td>\n",
       "      <td></td>\n",
       "      <td></td>\n",
       "    </tr>\n",
       "    <tr>\n",
       "      <th>6230</th>\n",
       "      <td>14669497_1</td>\n",
       "      <td>572043</td>\n",
       "      <td>1371</td>\n",
       "      <td>0</td>\n",
       "      <td>0</td>\n",
       "      <td>why do you white nationalist try to spread fea...</td>\n",
       "      <td>white nationalist try spread fear blacks sayin...</td>\n",
       "      <td>white nationalist tri spread fear black say je...</td>\n",
       "      <td>white nationalist try spread fear black saying...</td>\n",
       "      <td>[white, nationalist, try, spread, fear, black,...</td>\n",
       "      <td>...</td>\n",
       "      <td>-1.0074</td>\n",
       "      <td>black affirmative many black rich black black ...</td>\n",
       "      <td>0.5574</td>\n",
       "      <td>try fear reason action place job reason enemy ...</td>\n",
       "      <td>-1.5785</td>\n",
       "      <td>spread saying care allows take become includin...</td>\n",
       "      <td>0.5711</td>\n",
       "      <td>0.0000</td>\n",
       "      <td></td>\n",
       "      <td></td>\n",
       "    </tr>\n",
       "    <tr>\n",
       "      <th>6271</th>\n",
       "      <td>30392156_1</td>\n",
       "      <td>603271</td>\n",
       "      <td>1362</td>\n",
       "      <td>3</td>\n",
       "      <td>0</td>\n",
       "      <td>Tell that scumbag teacher if the jews in Israe...</td>\n",
       "      <td>tell scumbag teacher jews israel become minior...</td>\n",
       "      <td>tell scumbag teacher jew israel becom minior t...</td>\n",
       "      <td>tell scumbag teacher jew israel become miniori...</td>\n",
       "      <td>[tell, scumbag, teacher, jew, israel, become, ...</td>\n",
       "      <td>...</td>\n",
       "      <td>-0.6369</td>\n",
       "      <td></td>\n",
       "      <td>0.0000</td>\n",
       "      <td>teacher</td>\n",
       "      <td>0.0000</td>\n",
       "      <td>become</td>\n",
       "      <td>0.0000</td>\n",
       "      <td>-0.6369</td>\n",
       "      <td></td>\n",
       "      <td></td>\n",
       "    </tr>\n",
       "    <tr>\n",
       "      <th>6364</th>\n",
       "      <td>30511208_1</td>\n",
       "      <td>572037</td>\n",
       "      <td>1388</td>\n",
       "      <td>0</td>\n",
       "      <td>1</td>\n",
       "      <td>Whites wo not exist in Canada anymore they all...</td>\n",
       "      <td>whites wo exist canada anymore left mixed away...</td>\n",
       "      <td>white wo exist canada anymor left mix away bas...</td>\n",
       "      <td>white wo exist canada anymore left mixed away ...</td>\n",
       "      <td>[white, wo, exist, canada, anymore, left, mixe...</td>\n",
       "      <td>...</td>\n",
       "      <td>0.0000</td>\n",
       "      <td>large</td>\n",
       "      <td>0.0000</td>\n",
       "      <td>ghetto</td>\n",
       "      <td>0.0000</td>\n",
       "      <td>wo exist left mixed leaving become</td>\n",
       "      <td>0.0000</td>\n",
       "      <td>0.0000</td>\n",
       "      <td></td>\n",
       "      <td></td>\n",
       "    </tr>\n",
       "    <tr>\n",
       "      <th>6424</th>\n",
       "      <td>30593088_1</td>\n",
       "      <td>573285</td>\n",
       "      <td>1359</td>\n",
       "      <td>0</td>\n",
       "      <td>0</td>\n",
       "      <td>This judge is an idiot and a prime example of ...</td>\n",
       "      <td>judge idiot prime example law gets little resp...</td>\n",
       "      <td>judg idiot prime exampl law get littl respect ...</td>\n",
       "      <td>judge idiot prime example law get little respe...</td>\n",
       "      <td>[judge, idiot, prime, example, law, get, littl...</td>\n",
       "      <td>...</td>\n",
       "      <td>-0.0339</td>\n",
       "      <td>little</td>\n",
       "      <td>0.0000</td>\n",
       "      <td>example law respect day connection judge day</td>\n",
       "      <td>0.4767</td>\n",
       "      <td>get let agenda become</td>\n",
       "      <td>0.0000</td>\n",
       "      <td>-0.5106</td>\n",
       "      <td></td>\n",
       "      <td></td>\n",
       "    </tr>\n",
       "    <tr>\n",
       "      <th>7182</th>\n",
       "      <td>14278709_2</td>\n",
       "      <td>573859</td>\n",
       "      <td>1380</td>\n",
       "      <td>0</td>\n",
       "      <td>0</td>\n",
       "      <td>The lemmings have become so used to having a d...</td>\n",
       "      <td>lemmings become used different color ribbon di...</td>\n",
       "      <td>lem becom use differ color ribbon differ caus</td>\n",
       "      <td>lemming become used different color ribbon dif...</td>\n",
       "      <td>[lemming, become, used, different, color, ribb...</td>\n",
       "      <td>...</td>\n",
       "      <td>0.0000</td>\n",
       "      <td>different different</td>\n",
       "      <td>0.0000</td>\n",
       "      <td>color ribbon cause</td>\n",
       "      <td>0.0000</td>\n",
       "      <td>lemming become used</td>\n",
       "      <td>0.0000</td>\n",
       "      <td>0.0000</td>\n",
       "      <td></td>\n",
       "      <td></td>\n",
       "    </tr>\n",
       "    <tr>\n",
       "      <th>7191</th>\n",
       "      <td>14289324_1</td>\n",
       "      <td>572043</td>\n",
       "      <td>1380</td>\n",
       "      <td>0</td>\n",
       "      <td>0</td>\n",
       "      <td>But what do you say to the ivy who wants to be...</td>\n",
       "      <td>say ivy wants become tree</td>\n",
       "      <td>say ivi want becom tree</td>\n",
       "      <td>say ivy want become tree</td>\n",
       "      <td>[say, ivy, want, become, tree]</td>\n",
       "      <td>...</td>\n",
       "      <td>0.0772</td>\n",
       "      <td></td>\n",
       "      <td>0.0000</td>\n",
       "      <td>tree</td>\n",
       "      <td>0.0000</td>\n",
       "      <td>say want become</td>\n",
       "      <td>0.0772</td>\n",
       "      <td>0.0000</td>\n",
       "      <td></td>\n",
       "      <td></td>\n",
       "    </tr>\n",
       "    <tr>\n",
       "      <th>7252</th>\n",
       "      <td>14414600_1</td>\n",
       "      <td>574021</td>\n",
       "      <td>1375</td>\n",
       "      <td>0</td>\n",
       "      <td>0</td>\n",
       "      <td>it does not make sense to have hispanics secur...</td>\n",
       "      <td>make sense hispanics securing border loyalties...</td>\n",
       "      <td>make sens hispan secur border loyalti let supp...</td>\n",
       "      <td>make sense hispanic securing border loyalty le...</td>\n",
       "      <td>[make, sense, hispanic, securing, border, loya...</td>\n",
       "      <td>...</td>\n",
       "      <td>1.3396</td>\n",
       "      <td>hispanic</td>\n",
       "      <td>0.0000</td>\n",
       "      <td>sense border loyalty support border patrol agent</td>\n",
       "      <td>0.9442</td>\n",
       "      <td>make securing let want become</td>\n",
       "      <td>0.3954</td>\n",
       "      <td>0.0000</td>\n",
       "      <td></td>\n",
       "      <td></td>\n",
       "    </tr>\n",
       "    <tr>\n",
       "      <th>7411</th>\n",
       "      <td>30484527_1</td>\n",
       "      <td>572226</td>\n",
       "      <td>1362</td>\n",
       "      <td>0</td>\n",
       "      <td>0</td>\n",
       "      <td>Show them William Pierce videos and tell them ...</td>\n",
       "      <td>show william pierce videos tell inheritance be...</td>\n",
       "      <td>show william pierc video tell inherit becom ra...</td>\n",
       "      <td>show william pierce video tell inheritance bec...</td>\n",
       "      <td>[show, william, pierce, video, tell, inheritan...</td>\n",
       "      <td>...</td>\n",
       "      <td>0.0000</td>\n",
       "      <td></td>\n",
       "      <td>0.0000</td>\n",
       "      <td>inheritance race traitor</td>\n",
       "      <td>0.0000</td>\n",
       "      <td>tell become</td>\n",
       "      <td>0.0000</td>\n",
       "      <td>0.0000</td>\n",
       "      <td></td>\n",
       "      <td></td>\n",
       "    </tr>\n",
       "    <tr>\n",
       "      <th>7741</th>\n",
       "      <td>32389746_1</td>\n",
       "      <td>574979</td>\n",
       "      <td>1345</td>\n",
       "      <td>0</td>\n",
       "      <td>0</td>\n",
       "      <td>Dr. Duke , if we are ever able to form a white...</td>\n",
       "      <td>dr duke ever able form white nation god willin...</td>\n",
       "      <td>dr duke ever abl form white nation god will ho...</td>\n",
       "      <td>dr duke ever able form white nation god willin...</td>\n",
       "      <td>[dr, duke, ever, able, form, white, nation, go...</td>\n",
       "      <td>...</td>\n",
       "      <td>0.7136</td>\n",
       "      <td>able white willing</td>\n",
       "      <td>0.0000</td>\n",
       "      <td>form nation hope president</td>\n",
       "      <td>0.4404</td>\n",
       "      <td>become</td>\n",
       "      <td>0.0000</td>\n",
       "      <td>0.2732</td>\n",
       "      <td></td>\n",
       "      <td></td>\n",
       "    </tr>\n",
       "    <tr>\n",
       "      <th>7868</th>\n",
       "      <td>13458990_1</td>\n",
       "      <td>573278</td>\n",
       "      <td>1347</td>\n",
       "      <td>0</td>\n",
       "      <td>1</td>\n",
       "      <td>The kind of savagery against females that has ...</td>\n",
       "      <td>kind savagery females become expected negroids...</td>\n",
       "      <td>kind savageri femal becom expect negroid today...</td>\n",
       "      <td>kind savagery female become expected negroid t...</td>\n",
       "      <td>[kind, savagery, female, become, expected, neg...</td>\n",
       "      <td>...</td>\n",
       "      <td>-0.0156</td>\n",
       "      <td>female</td>\n",
       "      <td>0.0000</td>\n",
       "      <td>today society</td>\n",
       "      <td>0.0000</td>\n",
       "      <td>become expected</td>\n",
       "      <td>0.0000</td>\n",
       "      <td>-0.0156</td>\n",
       "      <td></td>\n",
       "      <td></td>\n",
       "    </tr>\n",
       "    <tr>\n",
       "      <th>8221</th>\n",
       "      <td>14106899_1</td>\n",
       "      <td>600023</td>\n",
       "      <td>1381</td>\n",
       "      <td>0</td>\n",
       "      <td>0</td>\n",
       "      <td>hi lily i am not to far from ya i live in olea...</td>\n",
       "      <td>hi lily far ya live olean new hope become friends</td>\n",
       "      <td>hi lili far ya live olean new hope becom friend</td>\n",
       "      <td>hi lily far ya live olean new hope become friend</td>\n",
       "      <td>[hi, lily, far, ya, live, olean, new, hope, be...</td>\n",
       "      <td>...</td>\n",
       "      <td>0.9343</td>\n",
       "      <td>new</td>\n",
       "      <td>0.0000</td>\n",
       "      <td>hope friend</td>\n",
       "      <td>0.9343</td>\n",
       "      <td>live become</td>\n",
       "      <td>0.0000</td>\n",
       "      <td>0.0000</td>\n",
       "      <td></td>\n",
       "      <td></td>\n",
       "    </tr>\n",
       "    <tr>\n",
       "      <th>8243</th>\n",
       "      <td>14267358_1</td>\n",
       "      <td>573684</td>\n",
       "      <td>1380</td>\n",
       "      <td>0</td>\n",
       "      <td>0</td>\n",
       "      <td>If you want to buy the homes and businesses ar...</td>\n",
       "      <td>want buy homes businesses around personal mess...</td>\n",
       "      <td>want buy home busi around person messag ill sh...</td>\n",
       "      <td>want buy home business around personal message...</td>\n",
       "      <td>[want, buy, home, business, around, personal, ...</td>\n",
       "      <td>...</td>\n",
       "      <td>0.4590</td>\n",
       "      <td>personal ill available bad</td>\n",
       "      <td>-0.9638</td>\n",
       "      <td>home business message show purchase property c...</td>\n",
       "      <td>0.3818</td>\n",
       "      <td>want buy become</td>\n",
       "      <td>0.0772</td>\n",
       "      <td>0.0000</td>\n",
       "      <td></td>\n",
       "      <td></td>\n",
       "    </tr>\n",
       "    <tr>\n",
       "      <th>8301</th>\n",
       "      <td>14421972_1</td>\n",
       "      <td>575777</td>\n",
       "      <td>1375</td>\n",
       "      <td>0</td>\n",
       "      <td>0</td>\n",
       "      <td>If you are looking to become involved , I woul...</td>\n",
       "      <td>looking become involved would suggest try call...</td>\n",
       "      <td>look becom involv would suggest tri call natio...</td>\n",
       "      <td>looking become involved would suggest try call...</td>\n",
       "      <td>[looking, become, involved, would, suggest, tr...</td>\n",
       "      <td>...</td>\n",
       "      <td>0.0000</td>\n",
       "      <td>involved</td>\n",
       "      <td>0.0000</td>\n",
       "      <td></td>\n",
       "      <td>0.0000</td>\n",
       "      <td>looking become would suggest try calling</td>\n",
       "      <td>0.0000</td>\n",
       "      <td>0.0000</td>\n",
       "      <td></td>\n",
       "      <td></td>\n",
       "    </tr>\n",
       "    <tr>\n",
       "      <th>8348</th>\n",
       "      <td>14668720_1</td>\n",
       "      <td>572043</td>\n",
       "      <td>1371</td>\n",
       "      <td>0</td>\n",
       "      <td>0</td>\n",
       "      <td>you should' t say that white are more intellig...</td>\n",
       "      <td>say white intelligent blacks black neurosurgeo...</td>\n",
       "      <td>say white intellig black black neurosurgeon ta...</td>\n",
       "      <td>say white intelligent black black neurosurgeon...</td>\n",
       "      <td>[say, white, intelligent, black, black, neuros...</td>\n",
       "      <td>...</td>\n",
       "      <td>0.4767</td>\n",
       "      <td>white intelligent black black high</td>\n",
       "      <td>0.4588</td>\n",
       "      <td>neurosurgeon level intelligence become</td>\n",
       "      <td>0.4767</td>\n",
       "      <td>say take think speak</td>\n",
       "      <td>0.0000</td>\n",
       "      <td>0.0000</td>\n",
       "      <td></td>\n",
       "      <td></td>\n",
       "    </tr>\n",
       "    <tr>\n",
       "      <th>8875</th>\n",
       "      <td>13456392_1</td>\n",
       "      <td>575253</td>\n",
       "      <td>1396</td>\n",
       "      <td>0</td>\n",
       "      <td>0</td>\n",
       "      <td>Get the hell out before you people become part...</td>\n",
       "      <td>get hell people become part great dirt</td>\n",
       "      <td>get hell peopl becom part great dirt</td>\n",
       "      <td>get hell people become part great dirt</td>\n",
       "      <td>[get, hell, people, become, part, great, dirt]</td>\n",
       "      <td>...</td>\n",
       "      <td>-1.0208</td>\n",
       "      <td>great</td>\n",
       "      <td>0.6249</td>\n",
       "      <td>people part dirt</td>\n",
       "      <td>-0.3400</td>\n",
       "      <td>become</td>\n",
       "      <td>0.0000</td>\n",
       "      <td>-0.6808</td>\n",
       "      <td></td>\n",
       "      <td></td>\n",
       "    </tr>\n",
       "    <tr>\n",
       "      <th>9122</th>\n",
       "      <td>14039567_1</td>\n",
       "      <td>577432</td>\n",
       "      <td>1387</td>\n",
       "      <td>0</td>\n",
       "      <td>1</td>\n",
       "      <td>Yeah London has gone to hell , when all the re...</td>\n",
       "      <td>yeah london gone hell remaining whites gone be...</td>\n",
       "      <td>yeah london gone hell remain white gone becom ...</td>\n",
       "      <td>yeah london gone hell remaining white gone bec...</td>\n",
       "      <td>[yeah, london, gone, hell, remaining, white, g...</td>\n",
       "      <td>...</td>\n",
       "      <td>-0.6808</td>\n",
       "      <td>white</td>\n",
       "      <td>0.0000</td>\n",
       "      <td>zombie town building dealer</td>\n",
       "      <td>0.0000</td>\n",
       "      <td>gone remaining gone become crumbling</td>\n",
       "      <td>0.0000</td>\n",
       "      <td>-0.6808</td>\n",
       "      <td></td>\n",
       "      <td></td>\n",
       "    </tr>\n",
       "    <tr>\n",
       "      <th>9255</th>\n",
       "      <td>14267724_2</td>\n",
       "      <td>576945</td>\n",
       "      <td>1380</td>\n",
       "      <td>0</td>\n",
       "      <td>0</td>\n",
       "      <td>And the dream would become a reality with a PL...</td>\n",
       "      <td>dream would become reality ple aka stormfront ...</td>\n",
       "      <td>dream would becom realiti ple aka stormfront s...</td>\n",
       "      <td>dream would become reality ple aka stormfront ...</td>\n",
       "      <td>[dream, would, become, reality, ple, aka, stor...</td>\n",
       "      <td>...</td>\n",
       "      <td>0.2500</td>\n",
       "      <td></td>\n",
       "      <td>0.0000</td>\n",
       "      <td>dream reality ple</td>\n",
       "      <td>0.2500</td>\n",
       "      <td>would become</td>\n",
       "      <td>0.0000</td>\n",
       "      <td>0.0000</td>\n",
       "      <td></td>\n",
       "      <td></td>\n",
       "    </tr>\n",
       "    <tr>\n",
       "      <th>9327</th>\n",
       "      <td>14417601_1</td>\n",
       "      <td>596851</td>\n",
       "      <td>1375</td>\n",
       "      <td>0</td>\n",
       "      <td>0</td>\n",
       "      <td>Our youth are our future indeed ! Just as Hitl...</td>\n",
       "      <td>youth future indeed hitler youth must addresse...</td>\n",
       "      <td>youth futur inde hitler youth must address ear...</td>\n",
       "      <td>youth future indeed hitler youth must addresse...</td>\n",
       "      <td>[youth, future, indeed, hitler, youth, must, a...</td>\n",
       "      <td>...</td>\n",
       "      <td>-0.0721</td>\n",
       "      <td>early secure foundamental inherent timely thie...</td>\n",
       "      <td>0.9394</td>\n",
       "      <td>youth future youth doctrine order belief syste...</td>\n",
       "      <td>-0.2500</td>\n",
       "      <td>must addressed enabling incorporating must bec...</td>\n",
       "      <td>0.1779</td>\n",
       "      <td>0.0000</td>\n",
       "      <td></td>\n",
       "      <td></td>\n",
       "    </tr>\n",
       "    <tr>\n",
       "      <th>9356</th>\n",
       "      <td>14666793_1</td>\n",
       "      <td>614245</td>\n",
       "      <td>1371</td>\n",
       "      <td>0</td>\n",
       "      <td>1</td>\n",
       "      <td>Let black people to join the result of `` dive...</td>\n",
       "      <td>let black people join result diversity glass m...</td>\n",
       "      <td>let black peopl join result divers glass milk ...</td>\n",
       "      <td>let black people join result diversity glass m...</td>\n",
       "      <td>[let, black, people, join, result, diversity, ...</td>\n",
       "      <td>...</td>\n",
       "      <td>0.0228</td>\n",
       "      <td>black dark useless</td>\n",
       "      <td>-0.4215</td>\n",
       "      <td>people result diversity glass milk example dro...</td>\n",
       "      <td>-0.2732</td>\n",
       "      <td>let join put become</td>\n",
       "      <td>0.2960</td>\n",
       "      <td>0.0000</td>\n",
       "      <td></td>\n",
       "      <td></td>\n",
       "    </tr>\n",
       "    <tr>\n",
       "      <th>9807</th>\n",
       "      <td>12856759_2</td>\n",
       "      <td>572087</td>\n",
       "      <td>1346</td>\n",
       "      <td>0</td>\n",
       "      <td>1</td>\n",
       "      <td>I hope the Ukrainians become experts in identi...</td>\n",
       "      <td>hope ukrainians become experts identifing toxi...</td>\n",
       "      <td>hope ukrainian becom expert identif toxic mush...</td>\n",
       "      <td>hope ukrainian become expert identifing toxic ...</td>\n",
       "      <td>[hope, ukrainian, become, expert, identifing, ...</td>\n",
       "      <td>...</td>\n",
       "      <td>0.4404</td>\n",
       "      <td>expert toxic</td>\n",
       "      <td>0.0000</td>\n",
       "      <td>mushroom springing</td>\n",
       "      <td>0.0000</td>\n",
       "      <td>become identifing</td>\n",
       "      <td>0.0000</td>\n",
       "      <td>0.4404</td>\n",
       "      <td></td>\n",
       "      <td></td>\n",
       "    </tr>\n",
       "    <tr>\n",
       "      <th>9928</th>\n",
       "      <td>13462989_1</td>\n",
       "      <td>572043</td>\n",
       "      <td>1347</td>\n",
       "      <td>0</td>\n",
       "      <td>0</td>\n",
       "      <td>But what do you say to the ivy who wants to be...</td>\n",
       "      <td>say ivy wants become tree</td>\n",
       "      <td>say ivi want becom tree</td>\n",
       "      <td>say ivy want become tree</td>\n",
       "      <td>[say, ivy, want, become, tree]</td>\n",
       "      <td>...</td>\n",
       "      <td>0.0772</td>\n",
       "      <td></td>\n",
       "      <td>0.0000</td>\n",
       "      <td>tree</td>\n",
       "      <td>0.0000</td>\n",
       "      <td>say want become</td>\n",
       "      <td>0.0772</td>\n",
       "      <td>0.0000</td>\n",
       "      <td></td>\n",
       "      <td></td>\n",
       "    </tr>\n",
       "    <tr>\n",
       "      <th>10026</th>\n",
       "      <td>13589434_3</td>\n",
       "      <td>586605</td>\n",
       "      <td>1393</td>\n",
       "      <td>0</td>\n",
       "      <td>0</td>\n",
       "      <td>I believe it started to become cooler not long...</td>\n",
       "      <td>believe started become cooler long arrived nor...</td>\n",
       "      <td>believ start becom cooler long arriv nordic se...</td>\n",
       "      <td>believe started become cooler long arrived nor...</td>\n",
       "      <td>[believe, started, become, cooler, long, arriv...</td>\n",
       "      <td>...</td>\n",
       "      <td>0.0000</td>\n",
       "      <td>cooler nordic</td>\n",
       "      <td>0.0000</td>\n",
       "      <td>settlement fact inuit</td>\n",
       "      <td>0.0000</td>\n",
       "      <td>started become arrived expanding encountered</td>\n",
       "      <td>0.0000</td>\n",
       "      <td>0.0000</td>\n",
       "      <td></td>\n",
       "      <td></td>\n",
       "    </tr>\n",
       "    <tr>\n",
       "      <th>10200</th>\n",
       "      <td>14037300_1</td>\n",
       "      <td>596600</td>\n",
       "      <td>1387</td>\n",
       "      <td>0</td>\n",
       "      <td>1</td>\n",
       "      <td>Hiya i 'm new here and sick of watching my cou...</td>\n",
       "      <td>hiya new sick watching country become infected...</td>\n",
       "      <td>hiya new sick watch countri becom infect disea...</td>\n",
       "      <td>hiya new sick watching country become infected...</td>\n",
       "      <td>[hiya, new, sick, watching, country, become, i...</td>\n",
       "      <td>...</td>\n",
       "      <td>0.0000</td>\n",
       "      <td>sick infected</td>\n",
       "      <td>-1.0045</td>\n",
       "      <td>country disease multiculturalism</td>\n",
       "      <td>0.0000</td>\n",
       "      <td>watching become</td>\n",
       "      <td>0.0000</td>\n",
       "      <td>0.0000</td>\n",
       "      <td></td>\n",
       "      <td></td>\n",
       "    </tr>\n",
       "    <tr>\n",
       "      <th>10454</th>\n",
       "      <td>14668617_1</td>\n",
       "      <td>572344</td>\n",
       "      <td>1371</td>\n",
       "      <td>0</td>\n",
       "      <td>0</td>\n",
       "      <td>Thus Whites have to wait until they become a m...</td>\n",
       "      <td>thus whites wait become minority country pride</td>\n",
       "      <td>thu white wait becom minor countri pride</td>\n",
       "      <td>thus white wait become minority country pride</td>\n",
       "      <td>[thus, white, wait, become, minority, country,...</td>\n",
       "      <td>...</td>\n",
       "      <td>0.3400</td>\n",
       "      <td></td>\n",
       "      <td>0.0000</td>\n",
       "      <td>minority country pride</td>\n",
       "      <td>0.3400</td>\n",
       "      <td>wait become</td>\n",
       "      <td>0.0000</td>\n",
       "      <td>0.0000</td>\n",
       "      <td></td>\n",
       "      <td></td>\n",
       "    </tr>\n",
       "    <tr>\n",
       "      <th>10516</th>\n",
       "      <td>30399174_1</td>\n",
       "      <td>735861</td>\n",
       "      <td>1362</td>\n",
       "      <td>0</td>\n",
       "      <td>0</td>\n",
       "      <td>its disgusting how a person color of skin dete...</td>\n",
       "      <td>disgusting person color skin determines whethe...</td>\n",
       "      <td>disgust person color skin determin whether giv...</td>\n",
       "      <td>disgusting person color skin determines whethe...</td>\n",
       "      <td>[disgusting, person, color, skin, determines, ...</td>\n",
       "      <td>...</td>\n",
       "      <td>0.4939</td>\n",
       "      <td>disgusting racist</td>\n",
       "      <td>-1.1391</td>\n",
       "      <td>person color skin training doctor life</td>\n",
       "      <td>0.0000</td>\n",
       "      <td>determines give become save s</td>\n",
       "      <td>0.4939</td>\n",
       "      <td>0.0000</td>\n",
       "      <td></td>\n",
       "      <td></td>\n",
       "    </tr>\n",
       "  </tbody>\n",
       "</table>\n",
       "<p>57 rows × 24 columns</p>\n",
       "</div>"
      ],
      "text/plain": [
       "          file_id  user_id  subforum_id  num_contexts  label  \\\n",
       "34     12855497_1   575939         1346             0      0   \n",
       "107    13341044_1   572139         1345             0      0   \n",
       "187    13480997_1   573561         1345             3      1   \n",
       "309    13849471_1   591119         1391             0      0   \n",
       "413    14036242_1   596557         1387             0      0   \n",
       "657    14438669_1   573617         1375             0      0   \n",
       "994    30684884_1   572129         1362             0      0   \n",
       "1313   13491141_1   585852         1395             0      0   \n",
       "1524   14026532_2   578419         1387             0      1   \n",
       "2355   13474668_1   572224         1346             0      1   \n",
       "2487   13640781_1   591109         1391             0      1   \n",
       "2563   14017062_1   577037         1388             0      1   \n",
       "2636   14035837_2   595786         1387             0      0   \n",
       "2803   14105080_3   599798         1381             1      0   \n",
       "2914   14429748_2   600229         1375             0      0   \n",
       "2997   30416052_1   734579         1362             0      0   \n",
       "3251   31711240_3   744926         1363             0      0   \n",
       "3608   13603727_1   586977         1393             0      0   \n",
       "3926   14417219_2   606601         1375             0      0   \n",
       "3959   14438853_1   581667         1375             0      0   \n",
       "3962   14651924_3   572170         1371             0      0   \n",
       "5008   14654092_1   573247         1371             0      0   \n",
       "5021   14664974_2   614322         1371             0      1   \n",
       "5048   14673299_2   579196         1371             0      1   \n",
       "5461   31708648_1   572043         1363             0      0   \n",
       "5523   31775640_1   585783         1363             0      0   \n",
       "5800   13597604_2   582172         1393             0      0   \n",
       "5971   14037278_2   578715         1387             0      0   \n",
       "5979   14038029_2   577318         1387             0      0   \n",
       "6118   14296672_2   575071         1380             0      0   \n",
       "6186   14436170_1   573794         1375             0      0   \n",
       "6207   14664558_2   574356         1371             0      1   \n",
       "6230   14669497_1   572043         1371             0      0   \n",
       "6271   30392156_1   603271         1362             3      0   \n",
       "6364   30511208_1   572037         1388             0      1   \n",
       "6424   30593088_1   573285         1359             0      0   \n",
       "7182   14278709_2   573859         1380             0      0   \n",
       "7191   14289324_1   572043         1380             0      0   \n",
       "7252   14414600_1   574021         1375             0      0   \n",
       "7411   30484527_1   572226         1362             0      0   \n",
       "7741   32389746_1   574979         1345             0      0   \n",
       "7868   13458990_1   573278         1347             0      1   \n",
       "8221   14106899_1   600023         1381             0      0   \n",
       "8243   14267358_1   573684         1380             0      0   \n",
       "8301   14421972_1   575777         1375             0      0   \n",
       "8348   14668720_1   572043         1371             0      0   \n",
       "8875   13456392_1   575253         1396             0      0   \n",
       "9122   14039567_1   577432         1387             0      1   \n",
       "9255   14267724_2   576945         1380             0      0   \n",
       "9327   14417601_1   596851         1375             0      0   \n",
       "9356   14666793_1   614245         1371             0      1   \n",
       "9807   12856759_2   572087         1346             0      1   \n",
       "9928   13462989_1   572043         1347             0      0   \n",
       "10026  13589434_3   586605         1393             0      0   \n",
       "10200  14037300_1   596600         1387             0      1   \n",
       "10454  14668617_1   572344         1371             0      0   \n",
       "10516  30399174_1   735861         1362             0      0   \n",
       "\n",
       "                                                    text  \\\n",
       "34     This whole situation starts to become really b...   \n",
       "107    Obama has membership in Prince Hall ( for blac...   \n",
       "187    I hate to see such beautiful white females bec...   \n",
       "309    good luck NoRemorseNoRegrets , hopefully its g...   \n",
       "413    Hey I 'm not really new to browsing the forums...   \n",
       "657    I was wondering if you can give me a link on h...   \n",
       "994    My new word o ' the week ( which has somehow b...   \n",
       "1313   The site become legendary www.ns-wp.cc has aga...   \n",
       "1524   Then , we can look forward to cases of Multi-D...   \n",
       "2355   But unfortunately , Maine 's become the dumpin...   \n",
       "2487   Its only a matter of time until we become a he...   \n",
       "2563     I'm with you , Winnipeg has become a cesspool .   \n",
       "2636   The sooner we acknowledge eachother in local a...   \n",
       "2803   They 're music is one of the reasons I decided...   \n",
       "2914   I have been able to become more active than ev...   \n",
       "2997   The reason liberals become teachers and social...   \n",
       "3251   There are many whites out there who would beco...   \n",
       "3608   The negress above have boasted about that she ...   \n",
       "3926   The WACPG 's focus is to shed light on how bac...   \n",
       "3959   I came here to find out why such a small popul...   \n",
       "3962   I think a lot of black males become conceited ...   \n",
       "5008   And speaking of which , do you find it as comi...   \n",
       "5021   About the Chinese , those who remain in their ...   \n",
       "5048   I do not think anyone looks up to white Negroe...   \n",
       "5461   i have always wanted to be a cop and will beco...   \n",
       "5523   Welcome SourceX , I hope you will read more an...   \n",
       "5800   Finns and Sweds can become even closer after t...   \n",
       "5971   The greatest result of this is that their narr...   \n",
       "5979   I hope you all stick around on SF and become i...   \n",
       "6118   Looking to become more active and make more fr...   \n",
       "6186   I know people have posted this link on StormFr...   \n",
       "6207   If it continues England will become a cesspool...   \n",
       "6230   why do you white nationalist try to spread fea...   \n",
       "6271   Tell that scumbag teacher if the jews in Israe...   \n",
       "6364   Whites wo not exist in Canada anymore they all...   \n",
       "6424   This judge is an idiot and a prime example of ...   \n",
       "7182   The lemmings have become so used to having a d...   \n",
       "7191   But what do you say to the ivy who wants to be...   \n",
       "7252   it does not make sense to have hispanics secur...   \n",
       "7411   Show them William Pierce videos and tell them ...   \n",
       "7741   Dr. Duke , if we are ever able to form a white...   \n",
       "7868   The kind of savagery against females that has ...   \n",
       "8221   hi lily i am not to far from ya i live in olea...   \n",
       "8243   If you want to buy the homes and businesses ar...   \n",
       "8301   If you are looking to become involved , I woul...   \n",
       "8348   you should' t say that white are more intellig...   \n",
       "8875   Get the hell out before you people become part...   \n",
       "9122   Yeah London has gone to hell , when all the re...   \n",
       "9255   And the dream would become a reality with a PL...   \n",
       "9327   Our youth are our future indeed ! Just as Hitl...   \n",
       "9356   Let black people to join the result of `` dive...   \n",
       "9807   I hope the Ukrainians become experts in identi...   \n",
       "9928   But what do you say to the ivy who wants to be...   \n",
       "10026  I believe it started to become cooler not long...   \n",
       "10200  Hiya i 'm new here and sick of watching my cou...   \n",
       "10454  Thus Whites have to wait until they become a m...   \n",
       "10516  its disgusting how a person color of skin dete...   \n",
       "\n",
       "                                              text_clean  \\\n",
       "34          whole situation starts become really bizarre   \n",
       "107    obama membership prince hall blacks lodge beco...   \n",
       "187    hate see beautiful white females become victim...   \n",
       "309    good luck noremorsenoregrets hopefully good ne...   \n",
       "413    hey really new browsing forums got account dec...   \n",
       "657    wondering give link become ordained minister i...   \n",
       "994    new word week somehow become word two weeks to...   \n",
       "1313   site become legendary opened video section acc...   \n",
       "1524   look forward cases resistant mdr extensively d...   \n",
       "2355   unfortunately maine become dumping ground soma...   \n",
       "2487         matter time become hell hole like sweden uk   \n",
       "2563                            winnipeg become cesspool   \n",
       "2636   sooner acknowledge eachother local areas band ...   \n",
       "2803   music one reasons decided become white nationa...   \n",
       "2914                        able become active ever site   \n",
       "2997   reason liberals become teachers social workers...   \n",
       "3251   many whites would become part movement know no...   \n",
       "3608   negress boasted become first black woman prime...   \n",
       "3926   wacpg focus shed light backwards become affirm...   \n",
       "3959   came find small population living small area p...   \n",
       "3962              think lot black males become conceited   \n",
       "5008   speaking find comical people lacking beauty wo...   \n",
       "5021   chinese remain country good become illegal imm...   \n",
       "5048   think anyone looks white negroes black ones be...   \n",
       "5461   always wanted cop become one bad anti skinhead...   \n",
       "5523   welcome sourcex hope read maybe become white n...   \n",
       "5800   finns sweds become even closer start become tr...   \n",
       "5971   greatest result narrative become estranged tru...   \n",
       "5979   hope stick around sf become involved stay invo...   \n",
       "6118   looking become active make friends white natio...   \n",
       "6186   know people posted link stormfront think one e...   \n",
       "6207   continues england become cesspool sh pardon en...   \n",
       "6230   white nationalist try spread fear blacks sayin...   \n",
       "6271   tell scumbag teacher jews israel become minior...   \n",
       "6364   whites wo exist canada anymore left mixed away...   \n",
       "6424   judge idiot prime example law gets little resp...   \n",
       "7182   lemmings become used different color ribbon di...   \n",
       "7191                           say ivy wants become tree   \n",
       "7252   make sense hispanics securing border loyalties...   \n",
       "7411   show william pierce videos tell inheritance be...   \n",
       "7741   dr duke ever able form white nation god willin...   \n",
       "7868   kind savagery females become expected negroids...   \n",
       "8221   hi lily far ya live olean new hope become friends   \n",
       "8243   want buy homes businesses around personal mess...   \n",
       "8301   looking become involved would suggest try call...   \n",
       "8348   say white intelligent blacks black neurosurgeo...   \n",
       "8875              get hell people become part great dirt   \n",
       "9122   yeah london gone hell remaining whites gone be...   \n",
       "9255   dream would become reality ple aka stormfront ...   \n",
       "9327   youth future indeed hitler youth must addresse...   \n",
       "9356   let black people join result diversity glass m...   \n",
       "9807   hope ukrainians become experts identifing toxi...   \n",
       "9928                           say ivy wants become tree   \n",
       "10026  believe started become cooler long arrived nor...   \n",
       "10200  hiya new sick watching country become infected...   \n",
       "10454     thus whites wait become minority country pride   \n",
       "10516  disgusting person color skin determines whethe...   \n",
       "\n",
       "                                                 stemmed  \\\n",
       "34                whole situat start becom realli bizarr   \n",
       "107    obama membership princ hall black lodg becom n...   \n",
       "187    hate see beauti white femal becom victim sick ...   \n",
       "309    good luck noremorsenoregret hope good news job...   \n",
       "413    hey realli new brows forum got account decid b...   \n",
       "657        wonder give link becom ordain minist internet   \n",
       "994    new word week somehow becom word two week torp...   \n",
       "1313   site becom legendari open video section access...   \n",
       "1524   look forward case resist mdr extens drug resis...   \n",
       "2355   unfortun main becom dump ground somali african...   \n",
       "2487          matter time becom hell hole like sweden uk   \n",
       "2563                             winnipeg becom cesspool   \n",
       "2636   sooner acknowledg eachoth local area band toge...   \n",
       "2803   music one reason decid becom white nationalist...   \n",
       "2914                           abl becom activ ever site   \n",
       "2997   reason liber becom teacher social worker occup...   \n",
       "3251      mani white would becom part movement know noth   \n",
       "3608   negress boast becom first black woman prime mi...   \n",
       "3926   wacpg focu shed light backward becom affirm ac...   \n",
       "3959   came find small popul live small area planet c...   \n",
       "3962                  think lot black male becom conceit   \n",
       "5008   speak find comic peopl lack beauti would want ...   \n",
       "5021   chines remain countri good becom illeg immigr ...   \n",
       "5048   think anyon look white negro black one becom w...   \n",
       "5461   alway want cop becom one bad anti skinhead cop...   \n",
       "5523   welcom sourcex hope read mayb becom white nati...   \n",
       "5800   finn swed becom even closer start becom true b...   \n",
       "5971   greatest result narr becom estrang truth help ...   \n",
       "5979   hope stick around sf becom involv stay involv ...   \n",
       "6118   look becom activ make friend white nationalist...   \n",
       "6186   know peopl post link stormfront think one easi...   \n",
       "6207    continu england becom cesspool sh pardon english   \n",
       "6230   white nationalist tri spread fear black say je...   \n",
       "6271   tell scumbag teacher jew israel becom minior t...   \n",
       "6364   white wo exist canada anymor left mix away bas...   \n",
       "6424   judg idiot prime exampl law get littl respect ...   \n",
       "7182       lem becom use differ color ribbon differ caus   \n",
       "7191                             say ivi want becom tree   \n",
       "7252   make sens hispan secur border loyalti let supp...   \n",
       "7411   show william pierc video tell inherit becom ra...   \n",
       "7741   dr duke ever abl form white nation god will ho...   \n",
       "7868   kind savageri femal becom expect negroid today...   \n",
       "8221     hi lili far ya live olean new hope becom friend   \n",
       "8243   want buy home busi around person messag ill sh...   \n",
       "8301   look becom involv would suggest tri call natio...   \n",
       "8348   say white intellig black black neurosurgeon ta...   \n",
       "8875                get hell peopl becom part great dirt   \n",
       "9122   yeah london gone hell remain white gone becom ...   \n",
       "9255   dream would becom realiti ple aka stormfront s...   \n",
       "9327   youth futur inde hitler youth must address ear...   \n",
       "9356   let black peopl join result divers glass milk ...   \n",
       "9807   hope ukrainian becom expert identif toxic mush...   \n",
       "9928                             say ivi want becom tree   \n",
       "10026  believ start becom cooler long arriv nordic se...   \n",
       "10200  hiya new sick watch countri becom infect disea...   \n",
       "10454           thu white wait becom minor countri pride   \n",
       "10516  disgust person color skin determin whether giv...   \n",
       "\n",
       "                                              lemmatized  \\\n",
       "34           whole situation start become really bizarre   \n",
       "107    obama membership prince hall black lodge becom...   \n",
       "187    hate see beautiful white female become victim ...   \n",
       "309    good luck noremorsenoregrets hopefully good ne...   \n",
       "413    hey really new browsing forum got account deci...   \n",
       "657    wondering give link become ordained minister i...   \n",
       "994    new word week somehow become word two week tor...   \n",
       "1313   site become legendary opened video section acc...   \n",
       "1524   look forward case resistant mdr extensively dr...   \n",
       "2355   unfortunately maine become dumping ground soma...   \n",
       "2487         matter time become hell hole like sweden uk   \n",
       "2563                            winnipeg become cesspool   \n",
       "2636   sooner acknowledge eachother local area band t...   \n",
       "2803   music one reason decided become white national...   \n",
       "2914                        able become active ever site   \n",
       "2997   reason liberal become teacher social worker oc...   \n",
       "3251   many white would become part movement know not...   \n",
       "3608   negress boasted become first black woman prime...   \n",
       "3926   wacpg focus shed light backwards become affirm...   \n",
       "3959   came find small population living small area p...   \n",
       "3962               think lot black male become conceited   \n",
       "5008   speaking find comical people lacking beauty wo...   \n",
       "5021   chinese remain country good become illegal imm...   \n",
       "5048   think anyone look white negro black one become...   \n",
       "5461   always wanted cop become one bad anti skinhead...   \n",
       "5523   welcome sourcex hope read maybe become white n...   \n",
       "5800   finn sweds become even closer start become tru...   \n",
       "5971   greatest result narrative become estranged tru...   \n",
       "5979   hope stick around sf become involved stay invo...   \n",
       "6118   looking become active make friend white nation...   \n",
       "6186   know people posted link stormfront think one e...   \n",
       "6207   continues england become cesspool sh pardon en...   \n",
       "6230   white nationalist try spread fear black saying...   \n",
       "6271   tell scumbag teacher jew israel become miniori...   \n",
       "6364   white wo exist canada anymore left mixed away ...   \n",
       "6424   judge idiot prime example law get little respe...   \n",
       "7182   lemming become used different color ribbon dif...   \n",
       "7191                            say ivy want become tree   \n",
       "7252   make sense hispanic securing border loyalty le...   \n",
       "7411   show william pierce video tell inheritance bec...   \n",
       "7741   dr duke ever able form white nation god willin...   \n",
       "7868   kind savagery female become expected negroid t...   \n",
       "8221    hi lily far ya live olean new hope become friend   \n",
       "8243   want buy home business around personal message...   \n",
       "8301   looking become involved would suggest try call...   \n",
       "8348   say white intelligent black black neurosurgeon...   \n",
       "8875              get hell people become part great dirt   \n",
       "9122   yeah london gone hell remaining white gone bec...   \n",
       "9255   dream would become reality ple aka stormfront ...   \n",
       "9327   youth future indeed hitler youth must addresse...   \n",
       "9356   let black people join result diversity glass m...   \n",
       "9807   hope ukrainian become expert identifing toxic ...   \n",
       "9928                            say ivy want become tree   \n",
       "10026  believe started become cooler long arrived nor...   \n",
       "10200  hiya new sick watching country become infected...   \n",
       "10454      thus white wait become minority country pride   \n",
       "10516  disgusting person color skin determines whethe...   \n",
       "\n",
       "                                                  tokens  ... sentiment_NPV  \\\n",
       "34     [whole, situation, start, become, really, biza...  ...        0.0000   \n",
       "107    [obama, membership, prince, hall, black, lodge...  ...        0.0000   \n",
       "187    [hate, see, beautiful, white, female, become, ...  ...       -0.8451   \n",
       "309    [good, luck, noremorsenoregrets, hopefully, go...  ...        0.8992   \n",
       "413    [hey, really, new, browsing, forum, got, accou...  ...        0.0000   \n",
       "657    [wondering, give, link, become, ordained, mini...  ...        0.0000   \n",
       "994    [new, word, week, somehow, become, word, two, ...  ...        0.0000   \n",
       "1313   [site, become, legendary, opened, video, secti...  ...        0.5994   \n",
       "1524   [look, forward, case, resistant, mdr, extensiv...  ...        0.0000   \n",
       "2355   [unfortunately, maine, become, dumping, ground...  ...       -0.3182   \n",
       "2487   [matter, time, become, hell, hole, like, swede...  ...       -0.6550   \n",
       "2563                        [winnipeg, become, cesspool]  ...        0.0000   \n",
       "2636   [sooner, acknowledge, eachother, local, area, ...  ...        0.0000   \n",
       "2803   [music, one, reason, decided, become, white, n...  ...        0.0000   \n",
       "2914                  [able, become, active, ever, site]  ...        0.0000   \n",
       "2997   [reason, liberal, become, teacher, social, wor...  ...        0.3818   \n",
       "3251   [many, white, would, become, part, movement, k...  ...        0.0000   \n",
       "3608   [negress, boasted, become, first, black, woman...  ...        0.0000   \n",
       "3926   [wacpg, focus, shed, light, backwards, become,...  ...        0.4588   \n",
       "3959   [came, find, small, population, living, small,...  ...       -0.1779   \n",
       "3962        [think, lot, black, male, become, conceited]  ...        0.0000   \n",
       "5008   [speaking, find, comical, people, lacking, bea...  ...        0.6631   \n",
       "5021   [chinese, remain, country, good, become, illeg...  ...        0.0000   \n",
       "5048   [think, anyone, look, white, negro, black, one...  ...        0.0000   \n",
       "5461   [always, wanted, cop, become, one, bad, anti, ...  ...       -0.4019   \n",
       "5523   [welcome, sourcex, hope, read, maybe, become, ...  ...       -0.2079   \n",
       "5800   [finn, sweds, become, even, closer, start, bec...  ...        0.0000   \n",
       "5971   [greatest, result, narrative, become, estrange...  ...        0.7201   \n",
       "5979   [hope, stick, around, sf, become, involved, st...  ...        0.4404   \n",
       "6118   [looking, become, active, make, friend, white,...  ...        0.4939   \n",
       "6186   [know, people, posted, link, stormfront, think...  ...        0.0000   \n",
       "6207   [continues, england, become, cesspool, sh, par...  ...        0.3182   \n",
       "6230   [white, nationalist, try, spread, fear, black,...  ...       -1.0074   \n",
       "6271   [tell, scumbag, teacher, jew, israel, become, ...  ...       -0.6369   \n",
       "6364   [white, wo, exist, canada, anymore, left, mixe...  ...        0.0000   \n",
       "6424   [judge, idiot, prime, example, law, get, littl...  ...       -0.0339   \n",
       "7182   [lemming, become, used, different, color, ribb...  ...        0.0000   \n",
       "7191                      [say, ivy, want, become, tree]  ...        0.0772   \n",
       "7252   [make, sense, hispanic, securing, border, loya...  ...        1.3396   \n",
       "7411   [show, william, pierce, video, tell, inheritan...  ...        0.0000   \n",
       "7741   [dr, duke, ever, able, form, white, nation, go...  ...        0.7136   \n",
       "7868   [kind, savagery, female, become, expected, neg...  ...       -0.0156   \n",
       "8221   [hi, lily, far, ya, live, olean, new, hope, be...  ...        0.9343   \n",
       "8243   [want, buy, home, business, around, personal, ...  ...        0.4590   \n",
       "8301   [looking, become, involved, would, suggest, tr...  ...        0.0000   \n",
       "8348   [say, white, intelligent, black, black, neuros...  ...        0.4767   \n",
       "8875      [get, hell, people, become, part, great, dirt]  ...       -1.0208   \n",
       "9122   [yeah, london, gone, hell, remaining, white, g...  ...       -0.6808   \n",
       "9255   [dream, would, become, reality, ple, aka, stor...  ...        0.2500   \n",
       "9327   [youth, future, indeed, hitler, youth, must, a...  ...       -0.0721   \n",
       "9356   [let, black, people, join, result, diversity, ...  ...        0.0228   \n",
       "9807   [hope, ukrainian, become, expert, identifing, ...  ...        0.4404   \n",
       "9928                      [say, ivy, want, become, tree]  ...        0.0772   \n",
       "10026  [believe, started, become, cooler, long, arriv...  ...        0.0000   \n",
       "10200  [hiya, new, sick, watching, country, become, i...  ...        0.0000   \n",
       "10454  [thus, white, wait, become, minority, country,...  ...        0.3400   \n",
       "10516  [disgusting, person, color, skin, determines, ...  ...        0.4939   \n",
       "\n",
       "                                                     ADJ sentiment_ADJ  \\\n",
       "34                                         whole bizarre       -0.3182   \n",
       "107                                           nlfrsregii        0.0000   \n",
       "187                         beautiful white sick violent       -0.5106   \n",
       "309                                            good good        0.8808   \n",
       "413                                    new active online        0.4019   \n",
       "657                                                             0.0000   \n",
       "994                                          new dormant        0.0000   \n",
       "1313                        legendary accessible cid new        0.0000   \n",
       "1524                          resistant resistant common        0.0000   \n",
       "2355                                      somali african        0.0000   \n",
       "2487                                                            0.0000   \n",
       "2563                                            cesspool        0.0000   \n",
       "2636                                  local strong white        0.5106   \n",
       "2803                             white nationalist first        0.0000   \n",
       "2914                                         able active        0.4019   \n",
       "2997                                    social political        0.0000   \n",
       "3251                                                many        0.0000   \n",
       "3608                                         first black        0.0000   \n",
       "3926                                   affirmative black        0.0000   \n",
       "3959                                         small small        0.0000   \n",
       "3962                                 lot black conceited        0.0000   \n",
       "5008                                  comical beautician        0.2960   \n",
       "5021                    good illegal immigrant white bad       -0.6593   \n",
       "5048                                         white black        0.0000   \n",
       "5461                                       bad anti best       -0.2236   \n",
       "5523                             white nationalist white        0.0000   \n",
       "5800                                         closer true        0.4215   \n",
       "5971                                  greatest estranged        0.6369   \n",
       "5979                       involved involved nationalist        0.0000   \n",
       "6118                                  active nationalist        0.4019   \n",
       "6186                                    easiest involved        0.4215   \n",
       "6207                                                            0.0000   \n",
       "6230   black affirmative many black rich black black ...        0.5574   \n",
       "6271                                                            0.0000   \n",
       "6364                                               large        0.0000   \n",
       "6424                                              little        0.0000   \n",
       "7182                                 different different        0.0000   \n",
       "7191                                                            0.0000   \n",
       "7252                                            hispanic        0.0000   \n",
       "7411                                                            0.0000   \n",
       "7741                                  able white willing        0.0000   \n",
       "7868                                              female        0.0000   \n",
       "8221                                                 new        0.0000   \n",
       "8243                          personal ill available bad       -0.9638   \n",
       "8301                                            involved        0.0000   \n",
       "8348                  white intelligent black black high        0.4588   \n",
       "8875                                               great        0.6249   \n",
       "9122                                               white        0.0000   \n",
       "9255                                                            0.0000   \n",
       "9327   early secure foundamental inherent timely thie...        0.9394   \n",
       "9356                                  black dark useless       -0.4215   \n",
       "9807                                        expert toxic        0.0000   \n",
       "9928                                                            0.0000   \n",
       "10026                                      cooler nordic        0.0000   \n",
       "10200                                      sick infected       -1.0045   \n",
       "10454                                                           0.0000   \n",
       "10516                                  disgusting racist       -1.1391   \n",
       "\n",
       "                                                    NOUN  sentiment_NOUN  \\\n",
       "34                                             situation          0.0000   \n",
       "107                                    membership zagami          0.0000   \n",
       "187                  hate female victim merciless animal         -0.8451   \n",
       "309    luck noremorsenoregrets news job hope figure stat          0.8992   \n",
       "413                  browsing forum account day day life          0.0000   \n",
       "657                                                 link          0.0000   \n",
       "994           word week word week torpid tor hibernating          0.0000   \n",
       "1313   site video section option com jdownloads task ...          0.5994   \n",
       "1524                                   case drug disease          0.0000   \n",
       "2355                                        ground trash          0.0000   \n",
       "2487                                                hole          0.0000   \n",
       "2563                                                              0.0000   \n",
       "2636                               area band unit nation          0.0000   \n",
       "2803                                  music reason place          0.0000   \n",
       "2914                                                site          0.0000   \n",
       "2997   reason teacher worker occupation people fantas...          0.0000   \n",
       "3251                                       part movement          0.0000   \n",
       "3608                                               woman          0.0000   \n",
       "3926          focus light action program prosper closing          0.0000   \n",
       "3959   population area planet war instability opitomy...         -0.1779   \n",
       "3962                                                male          0.0000   \n",
       "5008                                       people beauty          0.5859   \n",
       "5021                                      country nation          0.0000   \n",
       "5048                                             wiggers          0.0000   \n",
       "5461                             cop cop job fact street          0.0000   \n",
       "5523       hope refrain racist race race culture country         -0.1720   \n",
       "5800                          sweds start brother nation          0.0000   \n",
       "5971                  result narrative truth help people          0.7201   \n",
       "5979                                       stay politics          0.0000   \n",
       "6118                                              friend          0.4939   \n",
       "6186                                          people way          0.0000   \n",
       "6207                                                              0.0000   \n",
       "6230   try fear reason action place job reason enemy ...         -1.5785   \n",
       "6271                                             teacher          0.0000   \n",
       "6364                                              ghetto          0.0000   \n",
       "6424        example law respect day connection judge day          0.4767   \n",
       "7182                                  color ribbon cause          0.0000   \n",
       "7191                                                tree          0.0000   \n",
       "7252    sense border loyalty support border patrol agent          0.9442   \n",
       "7411                            inheritance race traitor          0.0000   \n",
       "7741                          form nation hope president          0.4404   \n",
       "7868                                       today society          0.0000   \n",
       "8221                                         hope friend          0.9343   \n",
       "8243   home business message show purchase property c...          0.3818   \n",
       "8301                                                              0.0000   \n",
       "8348              neurosurgeon level intelligence become          0.4767   \n",
       "8875                                    people part dirt         -0.3400   \n",
       "9122                         zombie town building dealer          0.0000   \n",
       "9255                                   dream reality ple          0.2500   \n",
       "9327   youth future youth doctrine order belief syste...         -0.2500   \n",
       "9356   people result diversity glass milk example dro...         -0.2732   \n",
       "9807                                  mushroom springing          0.0000   \n",
       "9928                                                tree          0.0000   \n",
       "10026                              settlement fact inuit          0.0000   \n",
       "10200                   country disease multiculturalism          0.0000   \n",
       "10454                             minority country pride          0.3400   \n",
       "10516             person color skin training doctor life          0.0000   \n",
       "\n",
       "                                                    VERB  sentiment_VERB  \\\n",
       "34                                          start become          0.0000   \n",
       "107                                     become according          0.0000   \n",
       "187                                           see become          0.0000   \n",
       "309                                           let become          0.0000   \n",
       "413                                   got decided become          0.0000   \n",
       "657                       wondering give become ordained          0.0000   \n",
       "994                                               become          0.0000   \n",
       "1313                  become opened itemid itemid flying          0.0000   \n",
       "1524                                         look become          0.0000   \n",
       "2355                                      become dumping         -0.3182   \n",
       "2487                                              become          0.0000   \n",
       "2563                                              become          0.0000   \n",
       "2636                                  acknowledge become          0.0000   \n",
       "2803                                      decided become          0.0000   \n",
       "2914                                              become          0.0000   \n",
       "2997                               become accepting live          0.3818   \n",
       "3251                                   would become know          0.0000   \n",
       "3608                                      boasted become          0.0000   \n",
       "3926       shed become allowing established grow benefit          0.4588   \n",
       "3959        came find living ravaged managed become rule          0.0000   \n",
       "3962                                        think become          0.0000   \n",
       "5008             speaking find lacking would want become          0.0772   \n",
       "5021                                       remain become          0.0000   \n",
       "5048                                   think look become          0.0000   \n",
       "5461                        wanted become think cleaning          0.0000   \n",
       "5523              read become calling want preserve live          0.0772   \n",
       "5800                                       become become          0.0000   \n",
       "5971                                         become wake          0.0000   \n",
       "5979                                              become          0.0000   \n",
       "6118                                 looking become make          0.0000   \n",
       "6186                            know posted think become          0.0000   \n",
       "6207                                           continues          0.0000   \n",
       "6230   spread saying care allows take become includin...          0.5711   \n",
       "6271                                              become          0.0000   \n",
       "6364                  wo exist left mixed leaving become          0.0000   \n",
       "6424                               get let agenda become          0.0000   \n",
       "7182                                 lemming become used          0.0000   \n",
       "7191                                     say want become          0.0772   \n",
       "7252                       make securing let want become          0.3954   \n",
       "7411                                         tell become          0.0000   \n",
       "7741                                              become          0.0000   \n",
       "7868                                     become expected          0.0000   \n",
       "8221                                         live become          0.0000   \n",
       "8243                                     want buy become          0.0772   \n",
       "8301            looking become would suggest try calling          0.0000   \n",
       "8348                                say take think speak          0.0000   \n",
       "8875                                              become          0.0000   \n",
       "9122                gone remaining gone become crumbling          0.0000   \n",
       "9255                                        would become          0.0000   \n",
       "9327   must addressed enabling incorporating must bec...          0.1779   \n",
       "9356                                 let join put become          0.2960   \n",
       "9807                                   become identifing          0.0000   \n",
       "9928                                     say want become          0.0772   \n",
       "10026       started become arrived expanding encountered          0.0000   \n",
       "10200                                    watching become          0.0000   \n",
       "10454                                        wait become          0.0000   \n",
       "10516                      determines give become save s          0.4939   \n",
       "\n",
       "      sentiment_PROPN  PUNCT X_POS  \n",
       "34             0.0000               \n",
       "107            0.0000               \n",
       "187            0.0000               \n",
       "309            0.0000               \n",
       "413            0.0000               \n",
       "657            0.0000               \n",
       "994            0.0000               \n",
       "1313           0.0000               \n",
       "1524           0.0000               \n",
       "2355           0.0000               \n",
       "2487          -0.6550               \n",
       "2563           0.0000               \n",
       "2636           0.0000               \n",
       "2803           0.0000               \n",
       "2914           0.0000               \n",
       "2997           0.0000               \n",
       "3251           0.0000               \n",
       "3608           0.0000               \n",
       "3926           0.0000               \n",
       "3959           0.0000               \n",
       "3962           0.0000               \n",
       "5008           0.0000               \n",
       "5021           0.0000               \n",
       "5048           0.0000               \n",
       "5461          -0.4019               \n",
       "5523          -0.1131               \n",
       "5800           0.0000               \n",
       "5971           0.0000               \n",
       "5979           0.4404               \n",
       "6118           0.0000               \n",
       "6186           0.0000               \n",
       "6207           0.3182               \n",
       "6230           0.0000               \n",
       "6271          -0.6369               \n",
       "6364           0.0000               \n",
       "6424          -0.5106               \n",
       "7182           0.0000               \n",
       "7191           0.0000               \n",
       "7252           0.0000               \n",
       "7411           0.0000               \n",
       "7741           0.2732               \n",
       "7868          -0.0156               \n",
       "8221           0.0000               \n",
       "8243           0.0000               \n",
       "8301           0.0000               \n",
       "8348           0.0000               \n",
       "8875          -0.6808               \n",
       "9122          -0.6808               \n",
       "9255           0.0000               \n",
       "9327           0.0000               \n",
       "9356           0.0000               \n",
       "9807           0.4404               \n",
       "9928           0.0000               \n",
       "10026          0.0000               \n",
       "10200          0.0000               \n",
       "10454          0.0000               \n",
       "10516          0.0000               \n",
       "\n",
       "[57 rows x 24 columns]"
      ]
     },
     "execution_count": 148,
     "metadata": {},
     "output_type": "execute_result"
    }
   ],
   "source": [
    "data[data['text_clean'].str.contains(\" become \")] ##"
   ]
  },
  {
   "cell_type": "markdown",
   "metadata": {},
   "source": [
    "### Tri-grams"
   ]
  },
  {
   "cell_type": "code",
   "execution_count": 149,
   "metadata": {},
   "outputs": [],
   "source": [
    "tri = [list(nltk.trigrams(x)) for x in data['tokens']]"
   ]
  },
  {
   "cell_type": "code",
   "execution_count": 150,
   "metadata": {},
   "outputs": [],
   "source": [
    "lista_tri = []\n",
    "for x in tri:\n",
    "    if x not in lista_tri:\n",
    "        lista_tri.append(x)"
   ]
  },
  {
   "cell_type": "code",
   "execution_count": 151,
   "metadata": {},
   "outputs": [],
   "source": [
    "tri_count = {}\n",
    "for item in lista_tri:\n",
    "    for x in item:\n",
    "        if x in tri_count:\n",
    "            tri_count[x] +=1\n",
    "        else:\n",
    "            tri_count[x] = 1"
   ]
  },
  {
   "cell_type": "code",
   "execution_count": 152,
   "metadata": {},
   "outputs": [
    {
     "data": {
      "text/plain": [
       "{('send', 'personal', 'message'): 10,\n",
       " ('hair', 'blue', 'eye'): 9,\n",
       " ('can', 'not', 'wait'): 9,\n",
       " ('new', 'york', 'city'): 8,\n",
       " ('dr', 'william', 'pierce'): 8,\n",
       " ('like', 'minded', 'people'): 7,\n",
       " ('ku', 'klux', 'klan'): 7,\n",
       " ('would', 'like', 'say'): 7,\n",
       " ('hair', 'brown', 'eye'): 6,\n",
       " ('please', 'personal', 'message'): 6,\n",
       " ('youtube', 'sa', 'survival'): 6,\n",
       " ('sa', 'survival', 'secret'): 6,\n",
       " ('survival', 'secret', 'pt'): 6,\n",
       " ('update', 'message', 'cst'): 6,\n",
       " ('would', 'like', 'get'): 5,\n",
       " ('can', 'not', 'get'): 5,\n",
       " ('every', 'time', 'see'): 5,\n",
       " ('black', 'history', 'month'): 5,\n",
       " ('nnn', 'reporter', 'newsroom'): 5,\n",
       " ('reporter', 'newsroom', 'forum'): 5}"
      ]
     },
     "execution_count": 152,
     "metadata": {},
     "output_type": "execute_result"
    }
   ],
   "source": [
    "top_tri = {k: v for k, v in sorted(tri_count.items(), key=lambda item: item[1], reverse=True)[:20]}\n",
    "top_tri"
   ]
  },
  {
   "cell_type": "code",
   "execution_count": 153,
   "metadata": {},
   "outputs": [
    {
     "data": {
      "text/html": [
       "<div>\n",
       "<style scoped>\n",
       "    .dataframe tbody tr th:only-of-type {\n",
       "        vertical-align: middle;\n",
       "    }\n",
       "\n",
       "    .dataframe tbody tr th {\n",
       "        vertical-align: top;\n",
       "    }\n",
       "\n",
       "    .dataframe thead th {\n",
       "        text-align: right;\n",
       "    }\n",
       "</style>\n",
       "<table border=\"1\" class=\"dataframe\">\n",
       "  <thead>\n",
       "    <tr style=\"text-align: right;\">\n",
       "      <th></th>\n",
       "      <th>file_id</th>\n",
       "      <th>user_id</th>\n",
       "      <th>subforum_id</th>\n",
       "      <th>num_contexts</th>\n",
       "      <th>label</th>\n",
       "      <th>text</th>\n",
       "      <th>text_clean</th>\n",
       "      <th>stemmed</th>\n",
       "      <th>lemmatized</th>\n",
       "      <th>tokens</th>\n",
       "      <th>...</th>\n",
       "      <th>sentiment_NPV</th>\n",
       "      <th>ADJ</th>\n",
       "      <th>sentiment_ADJ</th>\n",
       "      <th>NOUN</th>\n",
       "      <th>sentiment_NOUN</th>\n",
       "      <th>VERB</th>\n",
       "      <th>sentiment_VERB</th>\n",
       "      <th>sentiment_PROPN</th>\n",
       "      <th>PUNCT</th>\n",
       "      <th>X_POS</th>\n",
       "    </tr>\n",
       "  </thead>\n",
       "  <tbody>\n",
       "    <tr>\n",
       "      <th>76</th>\n",
       "      <td>13063290_2</td>\n",
       "      <td>578990</td>\n",
       "      <td>1345</td>\n",
       "      <td>2</td>\n",
       "      <td>0</td>\n",
       "      <td>* Unsubscribed * Off to the SA threads .</td>\n",
       "      <td>unsubscribed sa threads</td>\n",
       "      <td>unsubscrib sa thread</td>\n",
       "      <td>unsubscribed sa thread</td>\n",
       "      <td>[unsubscribed, sa, thread]</td>\n",
       "      <td>...</td>\n",
       "      <td>0.0000</td>\n",
       "      <td></td>\n",
       "      <td>0.0000</td>\n",
       "      <td>thread</td>\n",
       "      <td>0.0</td>\n",
       "      <td></td>\n",
       "      <td>0.0000</td>\n",
       "      <td>0.0000</td>\n",
       "      <td></td>\n",
       "      <td></td>\n",
       "    </tr>\n",
       "    <tr>\n",
       "      <th>141</th>\n",
       "      <td>13456696_1</td>\n",
       "      <td>572219</td>\n",
       "      <td>1396</td>\n",
       "      <td>2</td>\n",
       "      <td>0</td>\n",
       "      <td>[QUOTE=Trotis;10497843]Isnot South African cho...</td>\n",
       "      <td>south african chocolate made overseas companie...</td>\n",
       "      <td>south african chocol made oversea compani base...</td>\n",
       "      <td>south african chocolate made overseas company ...</td>\n",
       "      <td>[south, african, chocolate, made, overseas, co...</td>\n",
       "      <td>...</td>\n",
       "      <td>0.0000</td>\n",
       "      <td>south african overseas different</td>\n",
       "      <td>0.0000</td>\n",
       "      <td>chocolate company bar taste quote stuff taste</td>\n",
       "      <td>0.0</td>\n",
       "      <td>made based would mar made compared would thought</td>\n",
       "      <td>0.0000</td>\n",
       "      <td>0.0000</td>\n",
       "      <td></td>\n",
       "      <td></td>\n",
       "    </tr>\n",
       "    <tr>\n",
       "      <th>2230</th>\n",
       "      <td>12846972_3</td>\n",
       "      <td>572185</td>\n",
       "      <td>1397</td>\n",
       "      <td>1</td>\n",
       "      <td>0</td>\n",
       "      <td>- YouTube Magyar hadsereg bevonulÃ¡sa erdÃ©lyb...</td>\n",
       "      <td>youtube magyar hadsereg bevonul sa erd lybe ko...</td>\n",
       "      <td>youtub magyar hadsereg bevonul sa erd lybe kol...</td>\n",
       "      <td>youtube magyar hadsereg bevonul sa erd lybe ko...</td>\n",
       "      <td>[youtube, magyar, hadsereg, bevonul, sa, erd, ...</td>\n",
       "      <td>...</td>\n",
       "      <td>0.3067</td>\n",
       "      <td>sszemle hungarian</td>\n",
       "      <td>0.0000</td>\n",
       "      <td>amry troop</td>\n",
       "      <td>0.0</td>\n",
       "      <td>ri enter fought</td>\n",
       "      <td>-0.3182</td>\n",
       "      <td>0.6249</td>\n",
       "      <td></td>\n",
       "      <td></td>\n",
       "    </tr>\n",
       "    <tr>\n",
       "      <th>3343</th>\n",
       "      <td>12846406_2</td>\n",
       "      <td>573196</td>\n",
       "      <td>1396</td>\n",
       "      <td>9</td>\n",
       "      <td>0</td>\n",
       "      <td>He was a saint apparently hope nothing awful h...</td>\n",
       "      <td>saint apparently hope nothing awful happens wh...</td>\n",
       "      <td>saint appar hope noth aw happen white brother ...</td>\n",
       "      <td>saint apparently hope nothing awful happens wh...</td>\n",
       "      <td>[saint, apparently, hope, nothing, awful, happ...</td>\n",
       "      <td>...</td>\n",
       "      <td>0.4404</td>\n",
       "      <td>awful white safe</td>\n",
       "      <td>-0.0184</td>\n",
       "      <td>brother sister</td>\n",
       "      <td>0.0</td>\n",
       "      <td>hope happens keep</td>\n",
       "      <td>0.4404</td>\n",
       "      <td>0.0000</td>\n",
       "      <td></td>\n",
       "      <td></td>\n",
       "    </tr>\n",
       "    <tr>\n",
       "      <th>3781</th>\n",
       "      <td>14075992_3</td>\n",
       "      <td>581372</td>\n",
       "      <td>1383</td>\n",
       "      <td>0</td>\n",
       "      <td>1</td>\n",
       "      <td>Jesli sa , to sie chowaja , albo nie wiedza co...</td>\n",
       "      <td>jesli sa sie chowaja albo nie wiedza co stormf...</td>\n",
       "      <td>jesli sa sie chowaja albo nie wiedza co stormf...</td>\n",
       "      <td>jesli sa sie chowaja albo nie wiedza co stormf...</td>\n",
       "      <td>[jesli, sa, sie, chowaja, albo, nie, wiedza, c...</td>\n",
       "      <td>...</td>\n",
       "      <td>0.0000</td>\n",
       "      <td></td>\n",
       "      <td>0.0000</td>\n",
       "      <td></td>\n",
       "      <td>0.0</td>\n",
       "      <td></td>\n",
       "      <td>0.0000</td>\n",
       "      <td>0.0000</td>\n",
       "      <td></td>\n",
       "      <td></td>\n",
       "    </tr>\n",
       "    <tr>\n",
       "      <th>5073</th>\n",
       "      <td>30385212_1</td>\n",
       "      <td>576789</td>\n",
       "      <td>1359</td>\n",
       "      <td>0</td>\n",
       "      <td>0</td>\n",
       "      <td>YouTube - SAS Survival Secrets Ep1 Pt 1/6 YouT...</td>\n",
       "      <td>youtube sas survival secrets pt youtube sas su...</td>\n",
       "      <td>youtub sa surviv secret pt youtub sa surviv se...</td>\n",
       "      <td>youtube sa survival secret pt youtube sa survi...</td>\n",
       "      <td>[youtube, sa, survival, secret, pt, youtube, s...</td>\n",
       "      <td>...</td>\n",
       "      <td>0.0000</td>\n",
       "      <td>secret</td>\n",
       "      <td>0.0000</td>\n",
       "      <td>pt</td>\n",
       "      <td>0.0</td>\n",
       "      <td></td>\n",
       "      <td>0.0000</td>\n",
       "      <td>0.0000</td>\n",
       "      <td></td>\n",
       "      <td></td>\n",
       "    </tr>\n",
       "    <tr>\n",
       "      <th>5120</th>\n",
       "      <td>30421625_2</td>\n",
       "      <td>736708</td>\n",
       "      <td>1396</td>\n",
       "      <td>0</td>\n",
       "      <td>0</td>\n",
       "      <td>The people running SA into the ground , want t...</td>\n",
       "      <td>people running sa ground want wipe</td>\n",
       "      <td>peopl run sa ground want wipe</td>\n",
       "      <td>people running sa ground want wipe</td>\n",
       "      <td>[people, running, sa, ground, want, wipe]</td>\n",
       "      <td>...</td>\n",
       "      <td>0.0772</td>\n",
       "      <td></td>\n",
       "      <td>0.0000</td>\n",
       "      <td>people ground wipe</td>\n",
       "      <td>0.0</td>\n",
       "      <td>running want</td>\n",
       "      <td>0.0772</td>\n",
       "      <td>0.0000</td>\n",
       "      <td></td>\n",
       "      <td></td>\n",
       "    </tr>\n",
       "    <tr>\n",
       "      <th>6656</th>\n",
       "      <td>12845726_1</td>\n",
       "      <td>575453</td>\n",
       "      <td>1396</td>\n",
       "      <td>0</td>\n",
       "      <td>0</td>\n",
       "      <td>Our brothers &amp; sisters in SA must stand their ...</td>\n",
       "      <td>brothers sisters sa must stand ground earned b...</td>\n",
       "      <td>brother sister sa must stand ground earn blood...</td>\n",
       "      <td>brother sister sa must stand ground earned blo...</td>\n",
       "      <td>[brother, sister, sa, must, stand, ground, ear...</td>\n",
       "      <td>...</td>\n",
       "      <td>0.0000</td>\n",
       "      <td></td>\n",
       "      <td>0.0000</td>\n",
       "      <td>ground blood sweat ancestor</td>\n",
       "      <td>0.0</td>\n",
       "      <td>must stand earned</td>\n",
       "      <td>0.0000</td>\n",
       "      <td>0.0000</td>\n",
       "      <td></td>\n",
       "      <td></td>\n",
       "    </tr>\n",
       "    <tr>\n",
       "      <th>7341</th>\n",
       "      <td>30405478_1</td>\n",
       "      <td>572287</td>\n",
       "      <td>1396</td>\n",
       "      <td>0</td>\n",
       "      <td>0</td>\n",
       "      <td>From your post it seems you see no future for ...</td>\n",
       "      <td>post seems see future sa white country</td>\n",
       "      <td>post seem see futur sa white countri</td>\n",
       "      <td>post seems see future sa white country</td>\n",
       "      <td>[post, seems, see, future, sa, white, country]</td>\n",
       "      <td>...</td>\n",
       "      <td>0.0000</td>\n",
       "      <td>future white</td>\n",
       "      <td>0.0000</td>\n",
       "      <td>country</td>\n",
       "      <td>0.0</td>\n",
       "      <td>seems see</td>\n",
       "      <td>0.0000</td>\n",
       "      <td>0.0000</td>\n",
       "      <td></td>\n",
       "      <td></td>\n",
       "    </tr>\n",
       "  </tbody>\n",
       "</table>\n",
       "<p>9 rows × 24 columns</p>\n",
       "</div>"
      ],
      "text/plain": [
       "         file_id  user_id  subforum_id  num_contexts  label  \\\n",
       "76    13063290_2   578990         1345             2      0   \n",
       "141   13456696_1   572219         1396             2      0   \n",
       "2230  12846972_3   572185         1397             1      0   \n",
       "3343  12846406_2   573196         1396             9      0   \n",
       "3781  14075992_3   581372         1383             0      1   \n",
       "5073  30385212_1   576789         1359             0      0   \n",
       "5120  30421625_2   736708         1396             0      0   \n",
       "6656  12845726_1   575453         1396             0      0   \n",
       "7341  30405478_1   572287         1396             0      0   \n",
       "\n",
       "                                                   text  \\\n",
       "76             * Unsubscribed * Off to the SA threads .   \n",
       "141   [QUOTE=Trotis;10497843]Isnot South African cho...   \n",
       "2230  - YouTube Magyar hadsereg bevonulÃ¡sa erdÃ©lyb...   \n",
       "3343  He was a saint apparently hope nothing awful h...   \n",
       "3781  Jesli sa , to sie chowaja , albo nie wiedza co...   \n",
       "5073  YouTube - SAS Survival Secrets Ep1 Pt 1/6 YouT...   \n",
       "5120  The people running SA into the ground , want t...   \n",
       "6656  Our brothers & sisters in SA must stand their ...   \n",
       "7341  From your post it seems you see no future for ...   \n",
       "\n",
       "                                             text_clean  \\\n",
       "76                              unsubscribed sa threads   \n",
       "141   south african chocolate made overseas companie...   \n",
       "2230  youtube magyar hadsereg bevonul sa erd lybe ko...   \n",
       "3343  saint apparently hope nothing awful happens wh...   \n",
       "3781  jesli sa sie chowaja albo nie wiedza co stormf...   \n",
       "5073  youtube sas survival secrets pt youtube sas su...   \n",
       "5120                 people running sa ground want wipe   \n",
       "6656  brothers sisters sa must stand ground earned b...   \n",
       "7341             post seems see future sa white country   \n",
       "\n",
       "                                                stemmed  \\\n",
       "76                                 unsubscrib sa thread   \n",
       "141   south african chocol made oversea compani base...   \n",
       "2230  youtub magyar hadsereg bevonul sa erd lybe kol...   \n",
       "3343  saint appar hope noth aw happen white brother ...   \n",
       "3781  jesli sa sie chowaja albo nie wiedza co stormf...   \n",
       "5073  youtub sa surviv secret pt youtub sa surviv se...   \n",
       "5120                      peopl run sa ground want wipe   \n",
       "6656  brother sister sa must stand ground earn blood...   \n",
       "7341               post seem see futur sa white countri   \n",
       "\n",
       "                                             lemmatized  \\\n",
       "76                               unsubscribed sa thread   \n",
       "141   south african chocolate made overseas company ...   \n",
       "2230  youtube magyar hadsereg bevonul sa erd lybe ko...   \n",
       "3343  saint apparently hope nothing awful happens wh...   \n",
       "3781  jesli sa sie chowaja albo nie wiedza co stormf...   \n",
       "5073  youtube sa survival secret pt youtube sa survi...   \n",
       "5120                 people running sa ground want wipe   \n",
       "6656  brother sister sa must stand ground earned blo...   \n",
       "7341             post seems see future sa white country   \n",
       "\n",
       "                                                 tokens  ... sentiment_NPV  \\\n",
       "76                           [unsubscribed, sa, thread]  ...        0.0000   \n",
       "141   [south, african, chocolate, made, overseas, co...  ...        0.0000   \n",
       "2230  [youtube, magyar, hadsereg, bevonul, sa, erd, ...  ...        0.3067   \n",
       "3343  [saint, apparently, hope, nothing, awful, happ...  ...        0.4404   \n",
       "3781  [jesli, sa, sie, chowaja, albo, nie, wiedza, c...  ...        0.0000   \n",
       "5073  [youtube, sa, survival, secret, pt, youtube, s...  ...        0.0000   \n",
       "5120          [people, running, sa, ground, want, wipe]  ...        0.0772   \n",
       "6656  [brother, sister, sa, must, stand, ground, ear...  ...        0.0000   \n",
       "7341     [post, seems, see, future, sa, white, country]  ...        0.0000   \n",
       "\n",
       "                                   ADJ sentiment_ADJ  \\\n",
       "76                                            0.0000   \n",
       "141   south african overseas different        0.0000   \n",
       "2230                 sszemle hungarian        0.0000   \n",
       "3343                  awful white safe       -0.0184   \n",
       "3781                                          0.0000   \n",
       "5073                            secret        0.0000   \n",
       "5120                                          0.0000   \n",
       "6656                                          0.0000   \n",
       "7341                      future white        0.0000   \n",
       "\n",
       "                                               NOUN  sentiment_NOUN  \\\n",
       "76                                           thread             0.0   \n",
       "141   chocolate company bar taste quote stuff taste             0.0   \n",
       "2230                                     amry troop             0.0   \n",
       "3343                                 brother sister             0.0   \n",
       "3781                                                            0.0   \n",
       "5073                                             pt             0.0   \n",
       "5120                             people ground wipe             0.0   \n",
       "6656                    ground blood sweat ancestor             0.0   \n",
       "7341                                        country             0.0   \n",
       "\n",
       "                                                  VERB  sentiment_VERB  \\\n",
       "76                                                              0.0000   \n",
       "141   made based would mar made compared would thought          0.0000   \n",
       "2230                                   ri enter fought         -0.3182   \n",
       "3343                                 hope happens keep          0.4404   \n",
       "3781                                                            0.0000   \n",
       "5073                                                            0.0000   \n",
       "5120                                      running want          0.0772   \n",
       "6656                                 must stand earned          0.0000   \n",
       "7341                                         seems see          0.0000   \n",
       "\n",
       "     sentiment_PROPN  PUNCT X_POS  \n",
       "76            0.0000               \n",
       "141           0.0000               \n",
       "2230          0.6249               \n",
       "3343          0.0000               \n",
       "3781          0.0000               \n",
       "5073          0.0000               \n",
       "5120          0.0000               \n",
       "6656          0.0000               \n",
       "7341          0.0000               \n",
       "\n",
       "[9 rows x 24 columns]"
      ]
     },
     "execution_count": 153,
     "metadata": {},
     "output_type": "execute_result"
    }
   ],
   "source": [
    "data[data['lemmatized'].str.contains(\" sa \")] ##"
   ]
  },
  {
   "cell_type": "code",
   "execution_count": 154,
   "metadata": {},
   "outputs": [
    {
     "data": {
      "text/plain": [
       "'Jesli sa , to sie chowaja , albo nie wiedza co to Stormfront .'"
      ]
     },
     "execution_count": 154,
     "metadata": {},
     "output_type": "execute_result"
    }
   ],
   "source": [
    "data['text'][3781]"
   ]
  },
  {
   "cell_type": "code",
   "execution_count": null,
   "metadata": {},
   "outputs": [],
   "source": []
  }
 ],
 "metadata": {
  "kernelspec": {
   "display_name": "Python 3",
   "language": "python",
   "name": "python3"
  },
  "language_info": {
   "codemirror_mode": {
    "name": "ipython",
    "version": 3
   },
   "file_extension": ".py",
   "mimetype": "text/x-python",
   "name": "python",
   "nbconvert_exporter": "python",
   "pygments_lexer": "ipython3",
   "version": "3.8.5"
  }
 },
 "nbformat": 4,
 "nbformat_minor": 4
}
