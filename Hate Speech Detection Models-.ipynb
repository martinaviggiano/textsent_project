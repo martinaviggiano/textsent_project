{
 "cells": [
  {
   "cell_type": "markdown",
   "metadata": {},
   "source": [
    "# HATE SPEECH DETECTION - Sentiment Analysis Project\n",
    "\n",
    "\n",
    "Viggiano Martina (954603)"
   ]
  },
  {
   "cell_type": "markdown",
   "metadata": {},
   "source": [
    "## 1. Data import and error removal\n",
    "Hate speech dataset from a white supremacist forum:  https://github.com/Vicomtech/hate-speech-dataset"
   ]
  },
  {
   "cell_type": "code",
   "execution_count": 1,
   "metadata": {
    "execution": {
     "iopub.execute_input": "2021-04-13T19:41:43.266996Z",
     "iopub.status.busy": "2021-04-13T19:41:43.266711Z",
     "iopub.status.idle": "2021-04-13T19:41:43.658246Z",
     "shell.execute_reply": "2021-04-13T19:41:43.657234Z",
     "shell.execute_reply.started": "2021-04-13T19:41:43.266964Z"
    }
   },
   "outputs": [
    {
     "name": "stderr",
     "output_type": "stream",
     "text": [
      "C:\\Users\\marti\\anaconda3\\lib\\site-packages\\tqdm\\std.py:697: FutureWarning: The Panel class is removed from pandas. Accessing it from the top-level namespace will also be removed in the next version\n",
      "  from pandas import Panel\n"
     ]
    }
   ],
   "source": [
    "import pandas as pd\n",
    "import numpy as np\n",
    "import glob\n",
    "import os\n",
    "from tqdm import tqdm\n",
    "import ntpath\n",
    "from sklearn.feature_extraction.text import CountVectorizer, TfidfVectorizer\n",
    "import matplotlib.pyplot as plt\n",
    "tqdm.pandas()"
   ]
  },
  {
   "cell_type": "code",
   "execution_count": 2,
   "metadata": {
    "execution": {
     "iopub.execute_input": "2021-04-13T19:41:44.161998Z",
     "iopub.status.busy": "2021-04-13T19:41:44.161743Z",
     "iopub.status.idle": "2021-04-13T19:41:44.193604Z",
     "shell.execute_reply": "2021-04-13T19:41:44.192912Z",
     "shell.execute_reply.started": "2021-04-13T19:41:44.161973Z"
    }
   },
   "outputs": [],
   "source": [
    "all_files_paths = glob.glob(\"hate-speech-dataset/all_files/*.txt\")"
   ]
  },
  {
   "cell_type": "code",
   "execution_count": 3,
   "metadata": {
    "execution": {
     "iopub.execute_input": "2021-04-13T19:41:44.667316Z",
     "iopub.status.busy": "2021-04-13T19:41:44.666609Z",
     "iopub.status.idle": "2021-04-13T19:41:45.442194Z",
     "shell.execute_reply": "2021-04-13T19:41:45.441283Z",
     "shell.execute_reply.started": "2021-04-13T19:41:44.667235Z"
    }
   },
   "outputs": [],
   "source": [
    "all_files_paths = [f for f in all_files_paths if os.path.isfile(f)]"
   ]
  },
  {
   "cell_type": "code",
   "execution_count": 4,
   "metadata": {
    "execution": {
     "iopub.execute_input": "2021-04-13T19:41:45.453641Z",
     "iopub.status.busy": "2021-04-13T19:41:45.453476Z",
     "iopub.status.idle": "2021-04-13T19:41:45.489155Z",
     "shell.execute_reply": "2021-04-13T19:41:45.488473Z",
     "shell.execute_reply.started": "2021-04-13T19:41:45.453621Z"
    }
   },
   "outputs": [],
   "source": [
    "all_files_names = [str(ntpath.basename(f)).replace(\".txt\", \"\") for f in all_files_paths]"
   ]
  },
  {
   "cell_type": "code",
   "execution_count": 5,
   "metadata": {
    "execution": {
     "iopub.execute_input": "2021-04-13T19:41:45.951405Z",
     "iopub.status.busy": "2021-04-13T19:41:45.950713Z",
     "iopub.status.idle": "2021-04-13T19:41:47.634339Z",
     "shell.execute_reply": "2021-04-13T19:41:47.633827Z",
     "shell.execute_reply.started": "2021-04-13T19:41:45.951326Z"
    }
   },
   "outputs": [
    {
     "name": "stderr",
     "output_type": "stream",
     "text": [
      "100%|██████████| 10944/10944 [00:01<00:00, 6766.80it/s]\n"
     ]
    }
   ],
   "source": [
    "txt_content = {}\n",
    "errors = []\n",
    "for name, path in tqdm(list(zip(all_files_names, all_files_paths))):\n",
    "    with open(path, \"r\") as txt:\n",
    "        try:\n",
    "            txt_content[name] = txt.readline()\n",
    "        except Exception as ex:\n",
    "            errors.append((name, str(ex)))"
   ]
  },
  {
   "cell_type": "code",
   "execution_count": 6,
   "metadata": {
    "execution": {
     "iopub.execute_input": "2021-04-13T19:41:48.367469Z",
     "iopub.status.busy": "2021-04-13T19:41:48.367219Z",
     "iopub.status.idle": "2021-04-13T19:41:48.371709Z",
     "shell.execute_reply": "2021-04-13T19:41:48.370960Z",
     "shell.execute_reply.started": "2021-04-13T19:41:48.367441Z"
    },
    "scrolled": true
   },
   "outputs": [
    {
     "data": {
      "text/plain": [
       "[('13491591_4',\n",
       "  \"'charmap' codec can't decode byte 0x81 in position 23: character maps to <undefined>\"),\n",
       " ('13493456_1',\n",
       "  \"'charmap' codec can't decode byte 0x81 in position 169: character maps to <undefined>\"),\n",
       " ('13500400_1',\n",
       "  \"'charmap' codec can't decode byte 0x81 in position 67: character maps to <undefined>\"),\n",
       " ('13560796_1',\n",
       "  \"'charmap' codec can't decode byte 0x81 in position 5: character maps to <undefined>\"),\n",
       " ('13572081_1',\n",
       "  \"'charmap' codec can't decode byte 0x81 in position 3: character maps to <undefined>\")]"
      ]
     },
     "execution_count": 6,
     "metadata": {},
     "output_type": "execute_result"
    }
   ],
   "source": [
    "errors[:5]"
   ]
  },
  {
   "cell_type": "code",
   "execution_count": 7,
   "metadata": {
    "execution": {
     "iopub.execute_input": "2021-04-13T19:41:49.279295Z",
     "iopub.status.busy": "2021-04-13T19:41:49.278004Z",
     "iopub.status.idle": "2021-04-13T19:41:49.289284Z",
     "shell.execute_reply": "2021-04-13T19:41:49.287796Z",
     "shell.execute_reply.started": "2021-04-13T19:41:49.279130Z"
    }
   },
   "outputs": [],
   "source": [
    "errors_list = [err[0] for err in errors]"
   ]
  },
  {
   "cell_type": "code",
   "execution_count": 8,
   "metadata": {
    "execution": {
     "iopub.execute_input": "2021-04-13T19:41:49.773335Z",
     "iopub.status.busy": "2021-04-13T19:41:49.772542Z",
     "iopub.status.idle": "2021-04-13T19:41:49.797825Z",
     "shell.execute_reply": "2021-04-13T19:41:49.797102Z",
     "shell.execute_reply.started": "2021-04-13T19:41:49.773219Z"
    }
   },
   "outputs": [],
   "source": [
    "df = pd.DataFrame.from_dict(txt_content, orient='index').reset_index()\n",
    "df.columns = [\"file_id\", \"text\"]"
   ]
  },
  {
   "cell_type": "code",
   "execution_count": 9,
   "metadata": {
    "execution": {
     "iopub.execute_input": "2021-04-13T19:41:50.654305Z",
     "iopub.status.busy": "2021-04-13T19:41:50.653589Z",
     "iopub.status.idle": "2021-04-13T19:41:50.676955Z",
     "shell.execute_reply": "2021-04-13T19:41:50.675693Z",
     "shell.execute_reply.started": "2021-04-13T19:41:50.654213Z"
    }
   },
   "outputs": [
    {
     "data": {
      "text/html": [
       "<div>\n",
       "<style scoped>\n",
       "    .dataframe tbody tr th:only-of-type {\n",
       "        vertical-align: middle;\n",
       "    }\n",
       "\n",
       "    .dataframe tbody tr th {\n",
       "        vertical-align: top;\n",
       "    }\n",
       "\n",
       "    .dataframe thead th {\n",
       "        text-align: right;\n",
       "    }\n",
       "</style>\n",
       "<table border=\"1\" class=\"dataframe\">\n",
       "  <thead>\n",
       "    <tr style=\"text-align: right;\">\n",
       "      <th></th>\n",
       "      <th>file_id</th>\n",
       "      <th>text</th>\n",
       "    </tr>\n",
       "  </thead>\n",
       "  <tbody>\n",
       "    <tr>\n",
       "      <th>0</th>\n",
       "      <td>12834217_1</td>\n",
       "      <td>As of March 13th , 2014 , the booklet had been...</td>\n",
       "    </tr>\n",
       "    <tr>\n",
       "      <th>1</th>\n",
       "      <td>12834217_10</td>\n",
       "      <td>Thank you in advance. : ) Download the youtube...</td>\n",
       "    </tr>\n",
       "    <tr>\n",
       "      <th>2</th>\n",
       "      <td>12834217_2</td>\n",
       "      <td>In order to help increase the booklets downloa...</td>\n",
       "    </tr>\n",
       "    <tr>\n",
       "      <th>3</th>\n",
       "      <td>12834217_3</td>\n",
       "      <td>( Simply copy and paste the following text int...</td>\n",
       "    </tr>\n",
       "    <tr>\n",
       "      <th>4</th>\n",
       "      <td>12834217_4</td>\n",
       "      <td>Click below for a FREE download of a colorfull...</td>\n",
       "    </tr>\n",
       "  </tbody>\n",
       "</table>\n",
       "</div>"
      ],
      "text/plain": [
       "       file_id                                               text\n",
       "0   12834217_1  As of March 13th , 2014 , the booklet had been...\n",
       "1  12834217_10  Thank you in advance. : ) Download the youtube...\n",
       "2   12834217_2  In order to help increase the booklets downloa...\n",
       "3   12834217_3  ( Simply copy and paste the following text int...\n",
       "4   12834217_4  Click below for a FREE download of a colorfull..."
      ]
     },
     "execution_count": 9,
     "metadata": {},
     "output_type": "execute_result"
    }
   ],
   "source": [
    "df.head()"
   ]
  },
  {
   "cell_type": "code",
   "execution_count": 10,
   "metadata": {
    "execution": {
     "iopub.execute_input": "2021-04-13T19:41:54.535670Z",
     "iopub.status.busy": "2021-04-13T19:41:54.535200Z",
     "iopub.status.idle": "2021-04-13T19:41:54.558561Z",
     "shell.execute_reply": "2021-04-13T19:41:54.557202Z",
     "shell.execute_reply.started": "2021-04-13T19:41:54.535615Z"
    }
   },
   "outputs": [],
   "source": [
    "ann = pd.read_csv('hate-speech-dataset/annotations_metadata.csv')"
   ]
  },
  {
   "cell_type": "code",
   "execution_count": 11,
   "metadata": {
    "execution": {
     "iopub.execute_input": "2021-04-13T19:41:55.562888Z",
     "iopub.status.busy": "2021-04-13T19:41:55.562151Z",
     "iopub.status.idle": "2021-04-13T19:41:55.580248Z",
     "shell.execute_reply": "2021-04-13T19:41:55.579237Z",
     "shell.execute_reply.started": "2021-04-13T19:41:55.562804Z"
    }
   },
   "outputs": [
    {
     "data": {
      "text/html": [
       "<div>\n",
       "<style scoped>\n",
       "    .dataframe tbody tr th:only-of-type {\n",
       "        vertical-align: middle;\n",
       "    }\n",
       "\n",
       "    .dataframe tbody tr th {\n",
       "        vertical-align: top;\n",
       "    }\n",
       "\n",
       "    .dataframe thead th {\n",
       "        text-align: right;\n",
       "    }\n",
       "</style>\n",
       "<table border=\"1\" class=\"dataframe\">\n",
       "  <thead>\n",
       "    <tr style=\"text-align: right;\">\n",
       "      <th></th>\n",
       "      <th>file_id</th>\n",
       "      <th>user_id</th>\n",
       "      <th>subforum_id</th>\n",
       "      <th>num_contexts</th>\n",
       "      <th>label</th>\n",
       "    </tr>\n",
       "  </thead>\n",
       "  <tbody>\n",
       "    <tr>\n",
       "      <th>0</th>\n",
       "      <td>12834217_1</td>\n",
       "      <td>572066</td>\n",
       "      <td>1346</td>\n",
       "      <td>0</td>\n",
       "      <td>noHate</td>\n",
       "    </tr>\n",
       "    <tr>\n",
       "      <th>1</th>\n",
       "      <td>12834217_2</td>\n",
       "      <td>572066</td>\n",
       "      <td>1346</td>\n",
       "      <td>0</td>\n",
       "      <td>noHate</td>\n",
       "    </tr>\n",
       "    <tr>\n",
       "      <th>2</th>\n",
       "      <td>12834217_3</td>\n",
       "      <td>572066</td>\n",
       "      <td>1346</td>\n",
       "      <td>0</td>\n",
       "      <td>noHate</td>\n",
       "    </tr>\n",
       "    <tr>\n",
       "      <th>3</th>\n",
       "      <td>12834217_4</td>\n",
       "      <td>572066</td>\n",
       "      <td>1346</td>\n",
       "      <td>0</td>\n",
       "      <td>hate</td>\n",
       "    </tr>\n",
       "    <tr>\n",
       "      <th>4</th>\n",
       "      <td>12834217_5</td>\n",
       "      <td>572066</td>\n",
       "      <td>1346</td>\n",
       "      <td>0</td>\n",
       "      <td>noHate</td>\n",
       "    </tr>\n",
       "  </tbody>\n",
       "</table>\n",
       "</div>"
      ],
      "text/plain": [
       "      file_id  user_id  subforum_id  num_contexts   label\n",
       "0  12834217_1   572066         1346             0  noHate\n",
       "1  12834217_2   572066         1346             0  noHate\n",
       "2  12834217_3   572066         1346             0  noHate\n",
       "3  12834217_4   572066         1346             0    hate\n",
       "4  12834217_5   572066         1346             0  noHate"
      ]
     },
     "execution_count": 11,
     "metadata": {},
     "output_type": "execute_result"
    }
   ],
   "source": [
    "ann.head()"
   ]
  },
  {
   "cell_type": "code",
   "execution_count": 12,
   "metadata": {
    "execution": {
     "iopub.execute_input": "2021-04-13T19:41:56.051924Z",
     "iopub.status.busy": "2021-04-13T19:41:56.050751Z",
     "iopub.status.idle": "2021-04-13T19:41:56.072639Z",
     "shell.execute_reply": "2021-04-13T19:41:56.071101Z",
     "shell.execute_reply.started": "2021-04-13T19:41:56.051789Z"
    }
   },
   "outputs": [],
   "source": [
    "ann = ann[~ann['file_id'].isin(errors_list)]"
   ]
  },
  {
   "cell_type": "code",
   "execution_count": 13,
   "metadata": {
    "execution": {
     "iopub.execute_input": "2021-04-13T19:41:56.348498Z",
     "iopub.status.busy": "2021-04-13T19:41:56.347680Z",
     "iopub.status.idle": "2021-04-13T19:41:56.384187Z",
     "shell.execute_reply": "2021-04-13T19:41:56.383286Z",
     "shell.execute_reply.started": "2021-04-13T19:41:56.348412Z"
    }
   },
   "outputs": [
    {
     "data": {
      "text/html": [
       "<div>\n",
       "<style scoped>\n",
       "    .dataframe tbody tr th:only-of-type {\n",
       "        vertical-align: middle;\n",
       "    }\n",
       "\n",
       "    .dataframe tbody tr th {\n",
       "        vertical-align: top;\n",
       "    }\n",
       "\n",
       "    .dataframe thead th {\n",
       "        text-align: right;\n",
       "    }\n",
       "</style>\n",
       "<table border=\"1\" class=\"dataframe\">\n",
       "  <thead>\n",
       "    <tr style=\"text-align: right;\">\n",
       "      <th></th>\n",
       "      <th>file_id</th>\n",
       "      <th>user_id</th>\n",
       "      <th>subforum_id</th>\n",
       "      <th>num_contexts</th>\n",
       "      <th>label</th>\n",
       "      <th>text</th>\n",
       "    </tr>\n",
       "  </thead>\n",
       "  <tbody>\n",
       "    <tr>\n",
       "      <th>0</th>\n",
       "      <td>12834217_1</td>\n",
       "      <td>572066</td>\n",
       "      <td>1346</td>\n",
       "      <td>0</td>\n",
       "      <td>noHate</td>\n",
       "      <td>As of March 13th , 2014 , the booklet had been...</td>\n",
       "    </tr>\n",
       "    <tr>\n",
       "      <th>1</th>\n",
       "      <td>12834217_2</td>\n",
       "      <td>572066</td>\n",
       "      <td>1346</td>\n",
       "      <td>0</td>\n",
       "      <td>noHate</td>\n",
       "      <td>In order to help increase the booklets downloa...</td>\n",
       "    </tr>\n",
       "    <tr>\n",
       "      <th>2</th>\n",
       "      <td>12834217_3</td>\n",
       "      <td>572066</td>\n",
       "      <td>1346</td>\n",
       "      <td>0</td>\n",
       "      <td>noHate</td>\n",
       "      <td>( Simply copy and paste the following text int...</td>\n",
       "    </tr>\n",
       "    <tr>\n",
       "      <th>3</th>\n",
       "      <td>12834217_4</td>\n",
       "      <td>572066</td>\n",
       "      <td>1346</td>\n",
       "      <td>0</td>\n",
       "      <td>hate</td>\n",
       "      <td>Click below for a FREE download of a colorfull...</td>\n",
       "    </tr>\n",
       "    <tr>\n",
       "      <th>4</th>\n",
       "      <td>12834217_5</td>\n",
       "      <td>572066</td>\n",
       "      <td>1346</td>\n",
       "      <td>0</td>\n",
       "      <td>noHate</td>\n",
       "      <td>Click on the `` DOWNLOAD ( 7.42 MB ) '' green ...</td>\n",
       "    </tr>\n",
       "  </tbody>\n",
       "</table>\n",
       "</div>"
      ],
      "text/plain": [
       "      file_id  user_id  subforum_id  num_contexts   label  \\\n",
       "0  12834217_1   572066         1346             0  noHate   \n",
       "1  12834217_2   572066         1346             0  noHate   \n",
       "2  12834217_3   572066         1346             0  noHate   \n",
       "3  12834217_4   572066         1346             0    hate   \n",
       "4  12834217_5   572066         1346             0  noHate   \n",
       "\n",
       "                                                text  \n",
       "0  As of March 13th , 2014 , the booklet had been...  \n",
       "1  In order to help increase the booklets downloa...  \n",
       "2  ( Simply copy and paste the following text int...  \n",
       "3  Click below for a FREE download of a colorfull...  \n",
       "4  Click on the `` DOWNLOAD ( 7.42 MB ) '' green ...  "
      ]
     },
     "execution_count": 13,
     "metadata": {},
     "output_type": "execute_result"
    }
   ],
   "source": [
    "data = pd.merge(left=ann, right=df, left_on='file_id', right_on='file_id')\n",
    "data.shape\n",
    "data.head()"
   ]
  },
  {
   "cell_type": "code",
   "execution_count": 14,
   "metadata": {
    "execution": {
     "iopub.execute_input": "2021-04-13T19:41:57.833776Z",
     "iopub.status.busy": "2021-04-13T19:41:57.833100Z",
     "iopub.status.idle": "2021-04-13T19:41:57.951245Z",
     "shell.execute_reply": "2021-04-13T19:41:57.950622Z",
     "shell.execute_reply.started": "2021-04-13T19:41:57.833698Z"
    }
   },
   "outputs": [],
   "source": [
    "data['label'] = data.apply(lambda x: 0 if x['label'] == \"noHate\" else 1, axis=1)"
   ]
  },
  {
   "cell_type": "markdown",
   "metadata": {},
   "source": [
    "### 2. Cleaning and tokenization"
   ]
  },
  {
   "cell_type": "code",
   "execution_count": 15,
   "metadata": {
    "execution": {
     "iopub.execute_input": "2021-04-13T19:42:03.415905Z",
     "iopub.status.busy": "2021-04-13T19:42:03.415617Z",
     "iopub.status.idle": "2021-04-13T19:42:03.823460Z",
     "shell.execute_reply": "2021-04-13T19:42:03.822975Z",
     "shell.execute_reply.started": "2021-04-13T19:42:03.415874Z"
    },
    "scrolled": true
   },
   "outputs": [
    {
     "name": "stderr",
     "output_type": "stream",
     "text": [
      "[nltk_data] Downloading package vader_lexicon to\n",
      "[nltk_data]     C:\\Users\\marti\\AppData\\Roaming\\nltk_data...\n",
      "[nltk_data]   Package vader_lexicon is already up-to-date!\n"
     ]
    },
    {
     "data": {
      "text/plain": [
       "True"
      ]
     },
     "execution_count": 15,
     "metadata": {},
     "output_type": "execute_result"
    }
   ],
   "source": [
    "import nltk\n",
    "from nltk.corpus import stopwords\n",
    "from nltk.tokenize import word_tokenize\n",
    "from nltk.tokenize import sent_tokenize\n",
    "from nltk.stem import WordNetLemmatizer\n",
    "from nltk.stem import PorterStemmer\n",
    "import string\n",
    "import nltk.sentiment.vader as vd\n",
    "from nltk import download\n",
    "download('vader_lexicon')"
   ]
  },
  {
   "cell_type": "markdown",
   "metadata": {},
   "source": [
    "#### 2.1 Removing links, tags, numbers and bias"
   ]
  },
  {
   "cell_type": "code",
   "execution_count": 16,
   "metadata": {},
   "outputs": [],
   "source": [
    "#engl = []\n",
    "#other = []\n",
    "#for x in range(len(data['text'])):\n",
    "#    try:\n",
    "#        if detect(data['text'][x]) == 'en':\n",
    "#            engl.append(data['text'][x], detect(data['text'][x])\n",
    "#        else:\n",
    "#            other,(data['text'][x], detect(data['text'][x]))\n",
    "#    except:\n",
    "#        None"
   ]
  },
  {
   "cell_type": "code",
   "execution_count": 17,
   "metadata": {},
   "outputs": [],
   "source": [
    "import re\n",
    "cList = {\n",
    "    \"n't\": \"not\",\n",
    "    \"/TD\": \" \",\n",
    "    \"pm\": \"personal message\",\n",
    "    \"PM\": \"personal message\",\n",
    "    \"Donot\": \"do not\",\n",
    "    \"MB\" : \"megabytes\"}\n",
    "c_re = re.compile('(%s)' % '|'.join(cList.keys()))\n",
    "\n",
    "def expandContractions(text, c_re=c_re):\n",
    "    def replace(match):\n",
    "        return cList[match.group(0)]\n",
    "    return c_re.sub(replace, text)"
   ]
  },
  {
   "cell_type": "code",
   "execution_count": 18,
   "metadata": {},
   "outputs": [],
   "source": [
    "data['text']= [expandContractions(x) for x in data['text']]"
   ]
  },
  {
   "cell_type": "code",
   "execution_count": 19,
   "metadata": {
    "execution": {
     "iopub.execute_input": "2021-04-13T19:42:07.317594Z",
     "iopub.status.busy": "2021-04-13T19:42:07.317114Z",
     "iopub.status.idle": "2021-04-13T19:42:07.519821Z",
     "shell.execute_reply": "2021-04-13T19:42:07.519288Z",
     "shell.execute_reply.started": "2021-04-13T19:42:07.317526Z"
    }
   },
   "outputs": [],
   "source": [
    "additional  = ['rt','rts','retweet']\n",
    "swords = set().union(stopwords.words('english'), additional, string.punctuation)\n",
    "data['text_clean'] = data['text'].str.lower()\\\n",
    "    .str.replace('(@[a-z0-9]+)\\w+',' ')\\\n",
    "    .str.replace(r'http\\S+', '')\\\n",
    "    .str.replace(r'www\\S+',' ')\\\n",
    "    .str.replace(r'com/watch', ' ')\\\n",
    "    .str.replace(r'\\S*[.,:;!?-]\\S*[^\\s\\.,:;!?-]',' ')\\\n",
    "    .str.replace(r' ca ', ' cannot ')\\\n",
    "    .str.replace(r'\\w*\\d\\w*',' ')\\\n",
    "    .str.replace(r'rlm',' ')\\\n",
    "    .str.replace(r'pttm',' ')\\\n",
    "    .str.replace(r'ghlight',' ')\\\n",
    "    .str.replace('[0-9]+(?:st| st|nd| nd|rd| rd|th| th)', '')\\\n",
    "    .str.replace('([^a-z \\t])',' ')\\\n",
    "    .str.replace(' +',' ')\\\n",
    "    .apply(lambda x: \" \".join([i for i in x.split() if not i in swords]))\n",
    "#any alpha numeric after @ #http # any value except alpha numeric tab character ('\\u0009')\n",
    "#.str.replace(r'#\\S+', ' ')\\"
   ]
  },
  {
   "cell_type": "code",
   "execution_count": 20,
   "metadata": {},
   "outputs": [
    {
     "data": {
      "image/png": "[encoded data removed]",
      "text/plain": [
       "<Figure size 720x360 with 1 Axes>"
      ]
     },
     "metadata": {
      "needs_background": "light"
     },
     "output_type": "display_data"
    }
   ],
   "source": [
    "data['word_count'] = data['text_clean'].apply(lambda x: len(x.split())) # Number of words in the string\n",
    "plt.figure(figsize=(10,5))\n",
    "plt.hist(data.word_count.values, bins = range(0, 50))\n",
    "plt.xlabel(\"Number of words\")\n",
    "plt.ylabel(\"Number of documents\")\n",
    "plt.grid(True)\n",
    "plt.show()"
   ]
  },
  {
   "cell_type": "code",
   "execution_count": 21,
   "metadata": {},
   "outputs": [
    {
     "data": {
      "text/plain": [
       "\"Classic trucker songs YouTube - & #x202a ; Dave Dudley - Diesel Smoke ( 18WoS : PTTM ) & #x202c ; & rlm ; Diesel Smoke another of same song , different video , says the artist was Red Simpson YouTube - & #x202a ; Red Simpson - Diesel smoke , & #x202c ; & rlm ; YouTube - & #x202a ; Red Sovine-Truck Drivin ' Son Of A Gun & #x202c ; & rlm ; Truck Drivin ' Son of a Gun YouTube - & #x202a ; Terry Allen - Amarillo Highway & #x202c ; & rlm ; Amarillo Highway ( slow version , live , with violins ) YouTube - & #x202a ; Robert Earl Keen - Amarillo Highway & #x202c ; & rlm ; Fast rockin ' country version by Robert Earl Keene\""
      ]
     },
     "execution_count": 21,
     "metadata": {},
     "output_type": "execute_result"
    }
   ],
   "source": [
    "data['text'][3156]"
   ]
  },
  {
   "cell_type": "code",
   "execution_count": 22,
   "metadata": {},
   "outputs": [
    {
     "data": {
      "text/plain": [
       "'classic trucker songs youtube dave dudley diesel smoke diesel smoke another song different video says artist red simpson youtube red simpson diesel smoke youtube red drivin son gun truck drivin son gun youtube terry allen amarillo highway amarillo highway slow version live violins youtube robert earl keen amarillo highway fast rockin country version robert earl keene'"
      ]
     },
     "execution_count": 22,
     "metadata": {},
     "output_type": "execute_result"
    }
   ],
   "source": [
    "data['text_clean'][3156]"
   ]
  },
  {
   "cell_type": "code",
   "execution_count": 23,
   "metadata": {},
   "outputs": [
    {
     "data": {
      "text/plain": [
       "Series([], Name: text, dtype: object)"
      ]
     },
     "execution_count": 23,
     "metadata": {},
     "output_type": "execute_result"
    }
   ],
   "source": [
    "data['text'][data['text_clean'].str.contains(\"#\")]"
   ]
  },
  {
   "cell_type": "code",
   "execution_count": 24,
   "metadata": {
    "execution": {
     "iopub.execute_input": "2021-04-13T19:42:07.798311Z",
     "iopub.status.busy": "2021-04-13T19:42:07.797074Z",
     "iopub.status.idle": "2021-04-13T19:42:10.131498Z",
     "shell.execute_reply": "2021-04-13T19:42:10.130965Z",
     "shell.execute_reply.started": "2021-04-13T19:42:07.798155Z"
    }
   },
   "outputs": [],
   "source": [
    "# Stemming\n",
    "ps = PorterStemmer()\n",
    "data['stemmed'] = data['text_clean'].apply(lambda x: \" \".join([ps.stem(i) for i in word_tokenize(x)]))"
   ]
  },
  {
   "cell_type": "code",
   "execution_count": 25,
   "metadata": {
    "execution": {
     "iopub.execute_input": "2021-04-13T19:42:12.769666Z",
     "iopub.status.busy": "2021-04-13T19:42:12.768953Z",
     "iopub.status.idle": "2021-04-13T19:42:15.518103Z",
     "shell.execute_reply": "2021-04-13T19:42:15.517561Z",
     "shell.execute_reply.started": "2021-04-13T19:42:12.769584Z"
    }
   },
   "outputs": [],
   "source": [
    "# Lemmatizer\n",
    "lm = nltk.WordNetLemmatizer()\n",
    "data['lemmatized'] = data['text_clean'].apply(lambda x: \" \".join([lm.lemmatize(i) for i in word_tokenize(x)]))"
   ]
  },
  {
   "cell_type": "code",
   "execution_count": 26,
   "metadata": {},
   "outputs": [],
   "source": [
    "data['tokens'] = data['lemmatized'].apply(word_tokenize)"
   ]
  },
  {
   "cell_type": "code",
   "execution_count": 27,
   "metadata": {},
   "outputs": [
    {
     "name": "stderr",
     "output_type": "stream",
     "text": [
      "100%|██████████| 10926/10926 [01:28<00:00, 123.76it/s]\n"
     ]
    }
   ],
   "source": [
    "from langdetect import detect\n",
    "languages = []\n",
    "for x in tqdm(range(len(data['text']))):\n",
    "    try:\n",
    "        languages.append(detect(data['text'][x]))\n",
    "    except:\n",
    "        None"
   ]
  },
  {
   "cell_type": "code",
   "execution_count": 28,
   "metadata": {},
   "outputs": [
    {
     "name": "stdout",
     "output_type": "stream",
     "text": [
      "booklet updated feb da\n",
      "downloads pl\n",
      "came across piece garbage ro\n",
      "comment say sa tl\n",
      "old tarzan movie zulu king kong many image tl\n",
      "girl start talking guy middle lip start moving no\n",
      "believe dog would like get far away possible af\n",
      "watch hollywood movie en\n",
      "v watch min obama aipac youtube en\n",
      "v entire myron fagan video youtube es\n",
      "v sk\n",
      "note it\n",
      "wntube pl\n",
      "please contribute donate ro\n",
      "vid code es\n",
      "jesus christ lord indeed nl\n",
      "nice day pl\n",
      "sooner better no\n",
      "hard time believing da\n",
      "hundred people black da\n",
      "excellent article jail fr\n",
      "good so\n",
      "hope starve af\n",
      "aragorn cy\n",
      "respond armenian scum stop ro\n",
      "see giving af\n",
      "btl tr\n",
      "apologize ignorance it\n",
      "give example progress made skinhead klan da\n",
      "seems precipitous decline ca\n",
      "pesticide fresh fruit veggie ca\n",
      "negro rainforest music it\n",
      "pffffft cy\n",
      "thanks saving picture one saw black guy looking laptop white girl sitting next laughing hanging also looking laptop show laptop en\n",
      "hell care kosher sq\n",
      "concerned zog controlling u russia it\n",
      "kris roman jan kristel dr alfred vierling dr david duke thiery van roy frederik ranson andreas thierry stephanos gekas af\n",
      "robert steuckers dr david duke gunther van den eynde en dr david duke nl\n",
      "traitor it\n",
      "attaboy putin tl\n",
      "keep telling people thing like never believe af\n",
      "great ro\n",
      "go work pl\n",
      "lol es\n",
      "swede hide best looking female af\n",
      "gl delig jul da\n",
      "interesting en\n",
      "found pretty interesting hope g delig jul no\n",
      "make damn angry swede can not see af\n",
      "det er forresten en ting til rkneyjar vil si deg tack mycket no\n",
      "say jotunheim fi\n",
      "figure ro\n",
      "much important estimation fr\n",
      "denmark assuming population million good job denmark et\n",
      "let see get zero nl\n",
      "aragorn tl\n",
      "good news norge cy\n",
      "possible fr\n",
      "dare look so\n",
      "see grandma hair looked like year ago af\n",
      "jag har inte sj lv varit med n gon g ng men jag har stor respekt f r de som deltar no\n",
      "damn finland closing sweden poll sv\n",
      "suomalainen totta kai fi\n",
      "reminds old joke et\n",
      "cheer nl\n",
      "feel mix intense hate depression let thing degenerate far en\n",
      "looking forward af\n",
      "regard draiodoir cy\n",
      "true vi\n",
      "look jealousy cs\n",
      "lie lie lie af\n",
      "love darker hair skin eye tr\n",
      "stunning kiss fi\n",
      "use personal message get touch fr\n",
      "pig bladder used football made camel doings no\n",
      "know en\n",
      "happening school nl\n",
      "donot ridiculous pt\n",
      "indeed nl\n",
      "buying gun bullet id\n",
      "fault bnp run gangster no\n",
      "hello friend forum no\n",
      "sat minute took dog walk af\n",
      "sugar bowl lemon side es\n",
      "pleasure make acquaintance madam fr\n",
      "mean ro\n",
      "better hated loved da\n",
      "rule britannia ro\n",
      "telling kid frankfurt foreigner da\n",
      "jeeze worst uk pl\n",
      "girl indeed amazing nl\n",
      "ukraine russia poland romania fake ukrainian et\n",
      "p someone else csabi according csabi romanian listen hungarian music it\n",
      "stumbled n accident absolute savage yet liberal woman saying great multiculturalism le l gramme france montpellier en\n",
      "ap ro g ant trois jeunes soup onn de viol fr\n",
      "start sv\n",
      "genius lt\n",
      "power want white dumbed negro blood en\n",
      "liberia awaits id\n",
      "tired da\n",
      "hope negro beat negro af\n",
      "stupid hr\n",
      "indeed nl\n",
      "candle light good drink forbidden flag wall triumph de willens telly en\n",
      "dusty rhodes cy\n",
      "name past tl\n",
      "try link lt\n",
      "use one part fr\n",
      "kalamzoo u odinists town hr\n",
      "like jager et\n",
      "neofolk no\n",
      "email personal message fr\n",
      "would like talk af\n",
      "jeremy wpww pl\n",
      "dallas it\n",
      "worker af\n",
      "inch dark blonde hazel green eye lb babyface nl\n",
      "well good cy\n",
      "join nationalist coalition fi\n",
      "live san bernardino send personal message da\n",
      "live san bernardino send personal message ontario mill eh it\n",
      "like week ago got new doc maybe talk af\n",
      "like wall idea af\n",
      "next read ro\n",
      "everyone keep spreading dr duke video around internet soon win war af\n",
      "would die child nl\n",
      "taken dance class various time enjoy fr\n",
      "problem multiracial environment mean dance ca\n",
      "eurocentric civ documentary europhobia ro\n",
      "hahahahahaha so\n",
      "kinda place tr\n",
      "look like jew taken read section website dealing kosher tax en\n",
      "flyer home symbol look return home get info da\n",
      "saw poll missippi said think lott step segregationist remark et\n",
      "justifies policy fr\n",
      "last paragraph essay talk sticker technique fr\n",
      "awakening still print sv\n",
      "wondering give link become ordained minister internet en\n",
      "thank sieg heil ryan af\n",
      "wonder nl\n",
      "mention business jail among gang id\n",
      "exactly want u lay die so\n",
      "america beautiful rainbow ro\n",
      "tell legalize drug pedophilia it\n",
      "dear ro\n",
      "upgraded black sv\n",
      "asian id\n",
      "light skin dark hair af\n",
      "native american it\n",
      "jew enemy good set brain pl\n",
      "nope it\n",
      "keep civil nl\n",
      "peanut butter ro\n",
      "link fi\n",
      "pretty simple come come it\n",
      "ya got virgin shooter af\n",
      "hundred yard cy\n",
      "paper plate ca\n",
      "minute et\n",
      "problem cs\n",
      "display id\n",
      "good shape so\n",
      "look picture put clear en\n",
      "working splendidly af\n",
      "stay away alberta so\n",
      "lol tim es\n",
      "yep tr\n",
      "anyone ever asked da\n",
      "say dont care fr\n",
      "want mixed kid so\n",
      "facebook van page nl\n",
      "lot old ambulance rescue van ripe modding live ro\n",
      "predator xtreme august ro\n",
      "ever gave hard knock better got no\n",
      "taken together dark region suggest many shape running man no\n",
      "yeah hay ride popular tl\n",
      "gone corn maze well it\n",
      "good memory cy\n",
      "one fi\n",
      "watch sw\n",
      "need get done luck find idf general da\n",
      "transfer uni ca\n",
      "teach alot lie student ro\n",
      "gone full retard it\n",
      "ever wonder nl\n",
      "basketball baseball no\n",
      "pellet flattened quite nicely fr\n",
      "even smaller pellet probably ideal buck perhaps no\n",
      "always partial lully rameau jean baptiste lully l orchestre du roi soleil youtube jean philippe rameau orchestral suite youtube fr\n",
      "except peanut butter ro\n",
      "like french da\n",
      "also like renoir sl\n",
      "man idiot id\n",
      "yuenglings tl\n",
      "problem cs\n",
      "kid come get nl\n",
      "yamaha aerox p youtube yep cc aerox id\n",
      "sister grey eye sister blue eye sister green eye brother blue eye no\n",
      "hitler mein kampf de\n",
      "slowly making way romanian bible got birthday july so\n",
      "gon na suggest old marlin remembered mag da\n",
      "week two one kid asks jewish pl\n",
      "goy friend da\n",
      "good article en\n",
      "ghost goblin etc cy\n",
      "went baofeng website chinese de\n",
      "saw one palm spring tl\n",
      "surprised see palm canyon drive detail fr\n",
      "dude stink bomb event get dark chuck bunch floor different spot chimp start jiving grooving step nl\n",
      "great ro\n",
      "trying dumb u purpose said say working tl\n",
      "look nonsense tv af\n",
      "wife post pl\n",
      "still great liberal experiment continues ca\n",
      "find inspiring da\n",
      "bull tr\n",
      "son ever come home something like bet something say da\n",
      "cent unit study store ro\n",
      "cool site it\n",
      "yeah tr\n",
      "describe sister es\n",
      "come pride stay love es\n",
      "six remember dark id\n",
      "god one claim merciful like nature hr\n",
      "bet negro planning insanity defense may get no\n",
      "make great vvalentines day movement good luck passing flyres en\n",
      "donot love double standard fr\n",
      "parent like no\n",
      "wulfi so\n",
      "feel nl\n",
      "keep simple et\n",
      "well good hear cy\n",
      "good so\n",
      "knew kid street home schooled didnt act like kid age nl\n",
      "maybe so\n",
      "hey everyone would like get together people state like af\n",
      "freuer frei da\n",
      "im roxbury pl\n",
      "god save hr\n",
      "robbie funny problem sk\n",
      "bobby van jaarsveld kyk waar ons nou official music video youtube dance feel good en\n",
      "two outspoken artist steve hofmeyer sunette bridge en\n",
      "seen interview seem trashy af\n",
      "agreed af\n",
      "absolutely en\n",
      "nope it\n",
      "know en\n",
      "bean potato yam id\n",
      "seems nature taking trash et\n",
      "certain cultural practice tell volume people ro\n",
      "goody run cy\n",
      "lenny pitt article one fr\n",
      "knew report lie entire time en\n",
      "take long release en\n",
      "make sw\n",
      "embarassing id\n",
      "precisely en\n",
      "doubt coming leprechaun chinese flavored uncle sam fr\n",
      "rumour fr\n",
      "disgusting negro make u white people look bad en\n",
      "flagged reported skyyjohn channel youtube sent blind date no\n",
      "make tired hr\n",
      "cologne seat it\n",
      "put cursor american dissident voice tab click link menu drop ro\n",
      "never ever grocery look like af\n",
      "even like buying carton juice nl\n",
      "hate crime video posted pt\n",
      "fa pageid cy\n",
      "notice say kid jew hr\n",
      "sad happens want take think want date one negro woman af\n",
      "bid good night cy\n",
      "dmitriy hvorostovskiy prince yeletsky queen spade tchaikovsky hvorostovsky metropolitan opera youtube ya va lyublyu dmitri hvorostovsky renee fleming dmitri hvorostovsky perform final scene tchaikovsky yevgeny onegin part youtube yevgeny onegin final scene hvorostovsky fleming renee fleming dmitri hvorostovsky perform final scene tchaikovsky yevgeny onegin part ii youtube yevgeny onegin final scene hvorostovsky fleming ii renee fleming tatiana dmitri hvorostovsky eugene onegin first act aria tchaikovsky opera sk\n"
     ]
    },
    {
     "name": "stdout",
     "output_type": "stream",
     "text": [
      "youtube dmitri hvorostovsky eugene onegin onegin act aria renee fleming dmitri hvorostovsk lippen schweigen lehar die lustige witwe youtube lippen schweigen hvorostovsky fleming offtop bonus hvorostovsky troika youtube hvorostovsky troika dmitri hvorostovsky temnaya noch youtube temnaya noch dmitri hvorostovsky little bell youtube hvorostovsky little bell dmitri hvorostovsky moscow night youtube dmitri hvorostovsky moscow night sk\n",
      "eye nose skin tone give away af\n",
      "yes born svrljig sv\n",
      "read million figure million figure estimate million figure compromised it\n",
      "gon na long post see konavle look better map small land important af\n",
      "pray sk\n",
      "peter drafted army said cy\n",
      "live forum day job da\n",
      "can not good en\n",
      "riga day so\n",
      "anyone like meet drink love say hello personal message reply no\n",
      "matter dress mud no\n",
      "mud mud mud et\n",
      "gypsie woman like black sabbath dont like gypsy af\n",
      "sympathy cy\n",
      "rensen r er f dt april kolding da\n",
      "har taget en p handelsskolen nyborg da\n",
      "medlem af dfu bestyrelse da\n",
      "sin fritid g r karina rensen p jagt med sin far dyrker styrketr ning eller nyder tilv relsen med sin k reste no\n",
      "valgt vejle amt som folketingets yngste medlem nogensinde da\n",
      "karina rensen er medlem af kontaktudvalget da\n",
      "rensen year old born april kolding da\n",
      "member dfu directorate ro\n",
      "met mr griffin found amiable well spoken no\n",
      "anyway good luck so\n",
      "homo tried fag pride parade serbia year ago beaten en\n",
      "suggesting anything tl\n",
      "aragorn cy\n",
      "damn making tag along tl\n",
      "good night europe af\n",
      "susan tl\n",
      "mistenkt krigsforbrytelser ker asyl norge en tsjetsjener etters kt terrorhandlinger og en libaneser mistenkt ha beg tt krigsforbrytelser bor p asylmottak norge med sine familier no\n",
      "myndighetene vurderer n om de skal f permanent oppholdstillatelse da\n",
      "government judging granted permanent residency da\n",
      "lebanese one massacre sabra shattila direction israel it\n",
      "may put away good tl\n",
      "wolf pl\n",
      "look like dennys list af\n",
      "aoh legend de\n",
      "likely moving belfast no\n",
      "send personal message going da\n",
      "e u soviet system much worse nl\n",
      "well done cy\n",
      "time drive traitor sq\n",
      "yah sad see irish dont quash soon last kelt gone world so\n",
      "scum ro\n",
      "back ya came id\n",
      "gone find it\n",
      "go okay sshh so\n",
      "wow pl\n",
      "video etc welcome nl\n",
      "get lead example ca\n",
      "alot work done af\n",
      "criminal scum ro\n",
      "wisdom post pl\n",
      "still prefer native every japanese korean no\n",
      "get mine outlet even enemy one nl\n",
      "good keep track enemy well see saying af\n",
      "damn canada so\n",
      "ulterior motive course ro\n",
      "let get lad da\n",
      "bad news cy\n",
      "wait open door poor people tb capital europe romania ro\n",
      "absolute madness et\n",
      "london f ked da\n",
      "oh irony cy\n",
      "black muslim majority sv\n",
      "perhaps would like comment link nl\n",
      "got quote someone it\n",
      "saw clip tl\n",
      "mean warsaw uprising museum id\n",
      "must say great museum en\n",
      "feel like et\n",
      "let make clear like muslim still slav brother long keep religion problem no\n",
      "feel free join no\n",
      "groupid fr\n",
      "got nothing slav slav no\n",
      "part ethnic group fr\n",
      "salute bulgaria comrade ro\n",
      "wonder many mom would kill look good kid af\n",
      "let alone fr\n",
      "beautiful fr\n",
      "address read enjoy no\n",
      "link fi\n",
      "maybe skip generation da\n",
      "get ride see time summer cool need get someone nj name hal talk want meet go see stop see ok af\n",
      "live peoria az it\n",
      "normal pt\n",
      "normal people left ro\n",
      "hehe de\n",
      "damn cool so\n",
      "would like help project nl\n",
      "im irish skin id like hear skin nonskin girl around world af\n",
      "tight referring slogan no\n",
      "curious ro\n",
      "lass fi\n",
      "mod gone cy\n",
      "make sense no\n",
      "promote nordic superiority it\n",
      "ty fi\n",
      "passed devil lake nd flooding et\n",
      "massive fi\n",
      "good so\n",
      "welcome ku klux klan knight party af\n",
      "let keep fight one roof keep one fight free af\n",
      "planet ape no\n",
      "good so\n",
      "little troll longer going nip pant leg let look platform no\n",
      "figure available none made public fr\n",
      "yeah surprised id\n",
      "guess keep et\n",
      "good point hr\n",
      "horny dumb kid sk\n",
      "philippine tl\n",
      "jesus christ sk\n",
      "tf care ro\n",
      "get nl\n",
      "extra concern care tibet ro\n",
      "look talking et\n",
      "hide behind link something da\n",
      "moron sk\n",
      "wow pl\n",
      "hey negro genius cy\n",
      "swim back jew arm pl\n",
      "unreal ro\n",
      "situation it\n",
      "black gene always come dominant gene en\n",
      "wrong cy\n",
      "also genocide stop calling it\n",
      "wow pl\n",
      "putting meet feel free private message no\n",
      "well wo stand af\n",
      "visit today fi\n",
      "see one et\n",
      "also available line source ie ke l b fr\n",
      "trudeau sneaking like et\n",
      "could trudeau buddy set fire request fr\n",
      "hiv aid killing fast enough et\n",
      "yes want way sw\n",
      "enlightening nl\n",
      "appreciate contribution fan long time it\n",
      "call government appropriate name it\n",
      "gotten fatter year no\n",
      "used bikini model skinny et\n",
      "may want read en\n",
      "later went get beer opened door yep guessed blood geyser af\n",
      "sport no\n",
      "lying marxist tl\n",
      "title like teach black kid en\n",
      "people utter garbage get brain transplant no\n",
      "sentiment exactly ca\n",
      "make happen nl\n",
      "told go said ar around ya lol cy\n",
      "wo talk anymore wo go church anymore pl\n",
      "listening fi\n",
      "minute gorgeous et\n",
      "dresden remembrance last year year es\n",
      "yep tr\n",
      "law center prevent gun violence fr\n",
      "period basket stamped full top flap holster da\n",
      "best part fr\n",
      "lisa grandpa department poker game back ca\n",
      "nobody nobody part basque made w hybrid cy\n",
      "hope negro right ever af\n",
      "mom blue eye dad green eye got eye af\n",
      "matter quickly dropped fr\n",
      "love video much es\n",
      "seen believe sf thank posting af\n",
      "haha thinking thing vi\n",
      "nah man enough id\n",
      "like mauricio rua lt\n",
      "like rony jason et\n",
      "ufc tuf rigged staged da\n",
      "true vi\n",
      "younger one say survivor sperm men egg woman no\n",
      "unforgivable da\n",
      "guess jew rabbi guy say must serve jew iraqi jew hr\n",
      "hell teacher like en\n",
      "grin bear keep getting respectable grade af\n",
      "requirement circumcision found nt fr\n",
      "truth vi\n",
      "virtually useless fi\n",
      "take look blog example no\n",
      "ha so\n",
      "like teach negro sl\n",
      "problem jew destroyed one else da\n",
      "usa also ca\n",
      "laughable ca\n",
      "intended nl\n",
      "git happy as tl\n",
      "iran war time id\n",
      "solution simple fr\n",
      "break no\n",
      "please keep mind et\n",
      "regard kyle sv\n",
      "liberal care diversity it\n",
      "let race continue fr\n",
      "link fi\n",
      "check de\n",
      "jim sw\n",
      "god cy\n",
      "hell ill even give pic aim p ladieees p aim trilidon ca\n",
      "ya lazy cant get real job deal drug jump job job job sl\n",
      "great ro\n",
      "black wont kid nl\n",
      "im grade im hr\n",
      "find several compatriot en\n",
      "havent put logins fr\n",
      "great ro\n",
      "jew insane literal demonic dna sl\n",
      "feel nl\n",
      "adrien holboth julia kovacs anita salata dora barkaszi zsofia buki beata frank eszter gulyas eniko halasz ramona kiss marta knoll szandra proksa hu\n",
      "never understand pain must felt no\n",
      "lunch surreal ro\n",
      "kid allowed talk so\n",
      "silence fr\n",
      "ready go cy\n",
      "fun es\n",
      "obama declare martial law freedom outpost pt\n",
      "god rest man soul fr\n",
      "perhaps get put bnp sticker sv\n",
      "r student negro nl\n",
      "else da\n",
      "thorongil get one twin get nl\n",
      "oh god cy\n",
      "good so\n",
      "ai daddy new world order either like jew world order af\n",
      "latest attack groid fr\n",
      "impulsive negro stripping it\n",
      "driving near usc darky sv\n",
      "ca ro\n",
      "allegedly grabbed knife home kitchen ended stabbing engelhardt father alan maternal grandmother marlene gacek en\n",
      "source fr\n",
      "dont get kid burden white people nl\n",
      "say love god much like hr\n",
      "get right af\n",
      "go figure it\n",
      "absolutely en\n",
      "disgusting advertisement ever seen fact disgusting thing seen ever nl\n",
      "image melvin wei de\n",
      "wow beautiful wn like seig heil salute need woman like beautiful indeed af\n",
      "look like quite picked lot aryan gene af\n",
      "aragorn cy\n",
      "struggle make self da\n",
      "truth vi\n",
      "msciwoj pl\n",
      "good thing yugoslavia en\n",
      "soccer music it\n",
      "google skill failed da\n",
      "lycurgus moderation forever let da\n",
      "middle ground da\n",
      "live oslo huge problem sl\n",
      "sad true es\n",
      "downfall begun cy\n",
      "kiss uncle samael et\n",
      "look arabic anything tl\n",
      "aragorn cy\n",
      "far excelled anatoly karpov garry kasparov sv\n",
      "adopting kid answer af\n",
      "ethnic crime ro\n",
      "get nl\n",
      "refuse believe da\n",
      "fun way so\n",
      "aragorn cy\n",
      "matter time become hell hole like sweden uk da\n",
      "god bless cy\n",
      "good news happens european nation doubt pushed like jew like summer redstone mtv en\n",
      "god bless cy\n",
      "islamisation going europe object en\n",
      "agreed af\n",
      "nice pl\n",
      "bull tr\n",
      "eu wonderful af\n",
      "id cy\n",
      "sure seen munster fan last weekend af\n",
      "czynski pl\n",
      "visited website facebook page like see af\n",
      "bad bc so\n",
      "would meet ya lot work lol af\n",
      "maaaaany pinders asian tl\n",
      "sound like sensible well plan af\n",
      "dumb dumb dumb fr\n",
      "wayne want brown baby like girl estate en\n",
      "government keep track suit vodka first loot kit brood af\n",
      "went talk georgetown university last week en\n",
      "wonder happened nl\n",
      "prime miss jean brodie trailer youtube fr\n",
      "difference it\n",
      "andr rieu beautiful blue danube youtube fr\n",
      "kindest regard je sl\n",
      "usa fi\n",
      "many sw\n",
      "indeed nl\n",
      "c vi\n",
      "well someone need set one asap en\n",
      "situation australia canada it\n",
      "indian stanis spit street af\n",
      "disgusting af\n"
     ]
    },
    {
     "name": "stdout",
     "output_type": "stream",
     "text": [
      "glad realized hr\n",
      "correct es\n",
      "changing guard changing negro tl\n",
      "lol es\n",
      "npd demonstration hamburg attendant sv\n",
      "said lv\n",
      "demonstranten gegen au dem land kn kieler nachrichten kiel kurd pkk demostration today de\n",
      "google translate google translate af\n",
      "nice picture video ro\n",
      "wait going people euro af\n",
      "send u drmradio cy\n",
      "john fi\n",
      "vancouver fr\n",
      "want female smart look like top model imporant ask deserve af\n",
      "note self lose wombat af\n",
      "seen happen nl\n",
      "around hungarian anyone tl\n",
      "get credit nl\n",
      "place go deep foot nl\n",
      "guess could fr\n",
      "alot busier saturday sunday id\n",
      "buddy boat cy\n",
      "looking howe sound af\n",
      "go near cy\n",
      "agreeance great place speak vent anger get living zogworld nl\n",
      "wp wp wp wp pl\n",
      "race skin color ro\n",
      "like japanese really et\n",
      "respect es\n",
      "sweet af\n",
      "bb hu\n",
      "u wan na chat drop line rahowa pl\n",
      "good luck so\n",
      "black metal preserving european culture value ro\n",
      "kc skin boy looking kc skin girl af\n",
      "draco es\n",
      "go school oregon nl\n",
      "cheer edward nl\n",
      "look like jjt taken lead et\n",
      "defend boarder da\n",
      "mrbadgersir id\n",
      "dont doubt saying bnp hope well af\n",
      "bless mr duke no\n",
      "persecution ro\n",
      "able elect mayor soon es\n",
      "lot run house en\n",
      "harsh punishment rapist sq\n",
      "klansman refuse see real problem af\n",
      "time perplexing ro\n",
      "good work af\n",
      "plan going work making money tl\n",
      "nig need day smoke blunts drink ouncers af\n",
      "idea page it\n",
      "jim sw\n",
      "calman ca\n",
      "thank skingirl af\n",
      "cf cy\n",
      "evolve homo sapiens quite contrary retained intelligence spite fr\n",
      "rotten core it\n",
      "israel disagrees af\n",
      "asian smart id\n",
      "glad gay so\n",
      "contradicts statement race dont exist fr\n",
      "play game day want so\n",
      "must met point time fr\n",
      "guess taste pt\n",
      "elk hunter no\n",
      "dr cy\n",
      "nation desperate need immigration time zero tolerance policy illegally it\n",
      "think video inappropriate child en\n",
      "tactical pen ca\n",
      "else new af\n",
      "gay late party tl\n",
      "saying sky blue grass green no\n",
      "way so\n",
      "tnb no\n",
      "savage mag et\n",
      "scope it\n",
      "oh look al qaeda so\n",
      "like et\n",
      "people friend fr\n",
      "doubt los angeles ce pool es\n",
      "hearing wagner end video made want charge night sword nl\n",
      "bookmarked website last night af\n",
      "went miss state saw jew student nl\n",
      "got ta represent coconut mango yo ca\n",
      "one hell system designed flood shaft da\n",
      "saw episode soprano applauding tony tl\n",
      "never liked working metal much wood af\n",
      "steel casing harder gun nl\n",
      "steel harder brass nl\n",
      "pull right push en\n",
      "agreed af\n",
      "worried well af\n",
      "herp vet gone til middle april can not wait get checked nl\n",
      "roll big mamma youtube tl\n",
      "like legend vigger charlie crack da\n",
      "go see tube video van af\n",
      "fedor going like hurt lot no\n",
      "anything tl\n",
      "v vaezznw mjo sl\n",
      "great job dr lorraine day deanna spingola en\n",
      "one talk real problem et\n",
      "already en\n",
      "take little person no\n",
      "pagan wedding man woman tl\n",
      "amazing picture ro\n",
      "always see enemy hole roof made mess en\n",
      "jew demanding worst patient nl\n",
      "link document b moore put film ro\n",
      "good site sign newsletter af\n",
      "keep spread word af\n",
      "love big dog sl\n",
      "nice picture ro\n",
      "david s sv\n",
      "take care en\n",
      "seems old proverb dog flea come mind da\n",
      "course dog noble creature fr\n",
      "allude et\n",
      "well like said keep af\n",
      "good luck so\n",
      "make easier form no\n",
      "im girl year old skin canada tr\n",
      "put msn dont accept dont want en\n",
      "girl bey fly cy\n",
      "attack sv\n",
      "fair enough fr\n",
      "got message trying get across first post felt like messing no\n",
      "haha so\n",
      "earth getting bigger people en\n",
      "please zuma good little kaffir take land et\n",
      "send message plan come make arrangement meet nl\n",
      "sixteen jones die antwoord daughter youtube af\n",
      "keep hearing wonderful someone even likened christ nl\n",
      "happening nl\n",
      "zulu final attack youtube ro\n",
      "rapist technique fr\n",
      "think video talking earlier make grateful guy keep driving mile mile af\n",
      "youtube tour detroit ghetto fr\n",
      "uncalled unwhite uncivilized it\n",
      "period it\n",
      "picture headline detroit crap ro\n",
      "final fried chicken delivery truck leaf detroit never seen en\n",
      "dung stupid able tap market id\n",
      "story like sad sk\n",
      "reading article one get get impression comp sci department desperate grateful body regardless color department en\n",
      "jack mclamb contacted ca\n",
      "course fr\n",
      "nancy grace news week pl\n",
      "may need turn savage loose justice take care en\n",
      "let shaniqua leave kid home burn house go da club en\n",
      "string em da\n",
      "bible jewish pl\n",
      "always take something someone else make no\n",
      "taken particular test like ten time no\n",
      "people circle acquaintance bit obsessed iq fr\n",
      "pretty sure troll en\n",
      "interesting guy never seen derren brown nl\n",
      "got kid got ta pay kid tl\n",
      "youtube obama going pay gas mortgage tl\n",
      "youtube id\n",
      "crippin nigga tl\n",
      "crippin nigga tl\n",
      "cripppinnn it\n",
      "video belong animal planet tv channel en\n",
      "going get bad come nl\n",
      "hydradeck human youtube cy\n",
      "even rest world dagger ready strike heart still show kindness en\n",
      "imagine uproar black girl said ten sv\n",
      "youtube id\n",
      "study ago cy\n",
      "tf no\n",
      "love sl\n",
      "azer syria georgia greece ro\n",
      "mongol england tl\n",
      "mean look photo dont get feeling nl\n",
      "edin eko bosnian soccer player zvjezdan misimovi mismovic eko bosnian president zeljko komsic angela lejla damardzic bosnian special force ose bosnian street people sl\n",
      "please put picture average people model ro\n",
      "mate one would asking en\n",
      "wow pl\n",
      "slav black darker hair color sv\n",
      "would like see one time faves en\n",
      "keep russia free dark skinned being thank please forgive mistake no\n",
      "know gypises look like easten europe seen many lviv ukraine begging food no\n",
      "opendocument ro\n",
      "kkk ku klux klan time et\n",
      "since eleventh letter alphabet k k ku klux klan da\n",
      "skinhead racial prejudice skinheadsi protiv rasne diskriminacije arpovci debili hr\n",
      "restaurant ca\n",
      "restaurant skadarlija tri sesira restaurant summer skadarlija id\n",
      "restaurant summer skadarlija ima dana restaurant id\n",
      "download enjoy cy\n",
      "anything swede honest good get rid cy\n",
      "aragorn tl\n",
      "never forget heroism da\n",
      "hello fi\n",
      "swede cy\n",
      "tell wo happen nl\n",
      "father sweden watch daughter safety cy\n",
      "dream negress sd come riksdag no\n",
      "gone it\n",
      "taking advantage nature far long tl\n",
      "ya gota fecken kiddin st patrick black sv\n",
      "hope sort protest fr\n",
      "never attacked son plus dont care problem en\n",
      "hail cy\n",
      "nobody idolizes ira cy\n",
      "id pt n af\n",
      "say draiodoir cy\n",
      "elizabeth hu\n",
      "like see video picture et\n",
      "like new group like wo af\n",
      "gon na soon tl\n",
      "male female ro\n",
      "wonder blame one white man en\n",
      "simple it\n",
      "bad never lower self level self denial blindness da\n",
      "hello typing see message no\n",
      "indeed nl\n",
      "slag anyone vote bnp nf af\n",
      "excuse pt\n",
      "fact reflect actual essence person could en\n",
      "hello fi\n",
      "asmodean pt\n",
      "greeting af\n",
      "supporting destruction future generation fr\n",
      "beuthen gro stadt im oberschlesischen kohlenrevier youtube de\n",
      "dunnes striker attend funeral let hope red mistaken usual white target jungle savage no\n",
      "hi guy thinking going katowice weekend en\n",
      "id cy\n",
      "wonder taste come europe couple decade fr\n",
      "never met london no\n",
      "jesli sa sie chowaja albo nie wiedza co stormfront pl\n",
      "nigdy nie spotkalem zadnego w londynie pl\n",
      "greeting af\n",
      "must say younger guy sure keep gal young fit en\n",
      "eye linger no\n",
      "said year old cy\n",
      "im de\n",
      "kelly hu\n",
      "clue lol es\n",
      "anyways wan na party respond tl\n",
      "especially liberal area es\n",
      "hundred skin esp area da\n",
      "sent ya personal message id\n",
      "check local regional post it\n",
      "gott mit un de\n",
      "going tl\n",
      "skin hr\n",
      "ca ro\n",
      "looking pen pal would like hear u af\n",
      "wolf pl\n",
      "anybody new york cy\n",
      "sean gillespie attack it\n",
      "cool dude fr\n",
      "right want lil rotweiler het one name schatzi aww cause sweetie val love smiley nl\n",
      "driving virtual adventure no\n",
      "butte montana promotional video youtube it\n",
      "guess everyone glacier weekend nl\n",
      "getting someone else dirty work got u mess today af\n",
      "decided take debate personal message da\n",
      "check personal message it\n",
      "robert sk\n",
      "perhaps retire ca\n",
      "kind say coming tl\n",
      "congrats ca\n",
      "comment spot target fr\n",
      "absolutely en\n",
      "hoodies sweetshirts woman t men t af\n",
      "crime particular problem live ro\n",
      "stay away fast food garbage so\n",
      "let pollute body garbage da\n",
      "maybe so\n",
      "vouch cs\n",
      "working af\n",
      "w event id nl\n",
      "big talk none ball tell skin face no\n",
      "skin wore suit rally af\n",
      "asked et\n",
      "like idea et\n",
      "never smile da\n",
      "talk like gangster yo yo yo tr\n",
      "smoke skinny cigar sv\n",
      "avoid fi\n",
      "never seen asian woman dating asian like white man wiggers detrimental towards af\n",
      "seen happen many time site lurking day id\n",
      "disgusting af\n",
      "hi sw\n",
      "welfare cy\n",
      "dont move nebraska sl\n",
      "minnesota fi\n",
      "deal es\n",
      "sexual reference ca\n",
      "like groomed af\n",
      "v index list de\n",
      "never sl\n",
      "v deiw v v v wtnfdpxtfek sk\n",
      "man got listen pas nl\n",
      "get trouble speaking no\n",
      "alien de\n",
      "tutorial university guelph physic department ca\n",
      "mr b anti gay message important en\n",
      "vital fi\n",
      "total disgrace dollar go promoting degenerate filth it\n",
      "expect homosexual muslim mayor es\n",
      "say dont want take gun id\n",
      "say want mile apart tl\n",
      "oh fi\n",
      "easier explain fr\n",
      "anything like market today id\n"
     ]
    },
    {
     "name": "stdout",
     "output_type": "stream",
     "text": [
      "op faggot da\n",
      "hardly slav great great grandma serbian little slavic no\n",
      "next week planning buy rifle af\n",
      "suggestion get da\n",
      "make suck jew run black play hr\n",
      "warning lot naked skin boob hope forgive af\n",
      "year ago en\n",
      "yup id\n",
      "winchester defense load look nasty en\n",
      "stay gel test af\n",
      "fantastic idea ca\n",
      "support it\n",
      "gay dude so\n",
      "disagree af\n",
      "got deserved da\n",
      "imagine got percent negro it\n",
      "never seen poster af\n",
      "movie sk\n",
      "like said rule change would destroy sport af\n",
      "striking even dominated grappling rule minimal let alone no\n",
      "ignorance sport pretty striking no\n",
      "hope compete pt\n",
      "evangel n af\n",
      "going play black sheep say nothing wrong tl\n",
      "mechanism death question along remembrance people die fr\n",
      "miss dr pierce much fr\n",
      "music lesson fr\n",
      "lord fredrik leighton no\n",
      "monster no\n",
      "compulsatory education school special pleader suspense girl dog la pensierosa en\n",
      "marie spartali stillman it\n",
      "mary gow pl\n",
      "lady dream cy\n",
      "frederick burton en\n",
      "calmady child cy\n",
      "maybe different cy\n",
      "one nice doll it\n",
      "youtube barbie doll test fr\n",
      "bump id\n",
      "lighten people nl\n",
      "explain garbage son fr\n",
      "comment appreciated it\n",
      "jap total hoot center universe loud brash vain arrogant nl\n",
      "like wiggers af\n",
      "dress like black talk ike act stupid no\n",
      "carry n r brush sag pant cy\n",
      "sad time et\n",
      "voted likely take world first kill en\n",
      "never ever gotten first base no\n",
      "look like black lost even one lol diablo et\n",
      "maybe similar tl\n",
      "peter great no\n",
      "lived union truckstop truckstop milliken avenue exit sv\n",
      "drink beer relaxe good luck af\n",
      "school begin week answering question nl\n",
      "well done cy\n",
      "disgusting perverted no\n",
      "asset fi\n",
      "true good point fr\n",
      "putting u debt id\n",
      "go post soon possible fr\n",
      "none video play es\n",
      "seem fake window trying get go hook site af\n",
      "god bless cy\n",
      "good video af\n",
      "deserve as kicking af\n",
      "ple sayanim tl\n",
      "wiki sw\n",
      "close finnic estonian ro\n",
      "liked music way en\n",
      "since die stem racist ro\n",
      "saved site no\n",
      "get vomit bag nl\n",
      "oh ing god cy\n",
      "negro sl\n",
      "holding sign say god hate fag bit much tl\n",
      "sure negro coming it\n",
      "youtube euclid square mall dead mall anyone report euclid ohio ca\n",
      "ohio general look bad shape en\n",
      "yah guess id\n",
      "black send back sv\n",
      "pathetic scum en\n",
      "open door anyone nl\n",
      "assuming skinhead tattoo kill people fun et\n",
      "ha ha true vi\n",
      "yo crap es\n",
      "sound like intelligent person say need remove race message message da\n",
      "cant protest fr\n",
      "youtube id\n",
      "send afreaka sink farkin boat da\n",
      "bernard goetz need af\n",
      "uk july fi\n",
      "los angeles gone es\n",
      "yes saw tl\n",
      "uncomfortable es\n",
      "yes seen many time fi\n",
      "like god telling u work af\n",
      "usa represented negro family australia clue family en\n",
      "week grocery look like around world fstoppers af\n",
      "himmler bundesarchiv june de\n",
      "yes tr\n",
      "sometimes european look alike af\n",
      "likewise af\n",
      "il kidnap sl\n",
      "cia fsb team ca\n",
      "need feel skin next time wont give land subhuman muslim dog af\n",
      "saying see tl\n",
      "hate drama bull like sq\n",
      "ukraine matter fi\n",
      "appreciate it\n",
      "lot pic godunov anyone ever care see ca\n",
      "muahaha id\n",
      "learn ballet p zo en\n",
      "palatka fla id\n",
      "hope line discussion die time it\n",
      "shore sq\n",
      "good day so\n",
      "seen young latvian girl prague airport dark arab little girl dark id\n",
      "get unreserved total support it\n",
      "hail new king norway tl\n",
      "meter tall pas norwegian danish guy id\n",
      "massive fan skrewdriver like song no\n",
      "sure guy red like song no\n",
      "come support it\n",
      "like blowing old lady little kid no\n",
      "went old friend day drink en\n",
      "yeah tr\n",
      "guy b h forum en\n",
      "meineehre heisst treue treue und ehre bi zum tod niemals aufgeben niemals reue da haben wir un einst geschworn class song de\n",
      "still snooping eh tl\n",
      "accident es\n",
      "nonsense af\n",
      "rosanna davison think name en\n",
      "ugly hag so\n",
      "bye no\n",
      "dave live frigin brampton da\n",
      "man suck lol id\n",
      "hello joined fi\n",
      "told immigrant like go home af\n",
      "knew girl school went one nl\n",
      "last week af\n",
      "fantastic it\n",
      "week ago af\n",
      "gross af\n",
      "thats baz rutten ken shamrock started ufc en\n",
      "hd download gb read episode cy\n",
      "muslim sikh et\n",
      "cultural threat en\n",
      "giant zoo toy erected playground christian school freiburg west neues kletterger st mit einer spende nl\n",
      "final solution goy problem en\n",
      "marxist america ca\n",
      "running giving mud no\n",
      "call lost cause call home it\n",
      "related slav no\n",
      "wow pl\n",
      "live bad da\n",
      "tell u it\n",
      "karl tr\n",
      "small dog like maltese thing call stoep kakkers good leaving turd stoop af\n",
      "welcome greatest site meet like minded white folk like world af\n",
      "wpww sw\n",
      "sure someone come along it\n",
      "patience virtue know fr\n",
      "control medium it\n",
      "wonder nl\n",
      "good luck so\n",
      "blut und ehre de\n",
      "chris de\n",
      "liquor store le half mile radius one stop selling beer midnight af\n",
      "lol es\n",
      "love speak sl\n",
      "got personal message strange no\n",
      "work way af\n",
      "camie es\n",
      "met cute florida girl logan pas today es\n",
      "decided go road trip es\n",
      "bighorn youtube first run whitefish montana skifahren den rockies mit skireisen und mehr en\n",
      "agreed af\n",
      "nice pl\n",
      "ouuuuuuu hate fi\n",
      "hi age sw\n",
      "done it\n",
      "great work mjodr af\n",
      "hard american get sa sv\n",
      "never visa left continental usa it\n",
      "owner bar dont even look bartender place bar nl\n",
      "subtle message et\n",
      "click enlarge save desktop use cb punet cbr punet can not punet made day ago using craig list europe fr\n",
      "glad planning getting sv\n",
      "arkan usa id\n",
      "great ro\n",
      "judge moore spoke constitution party event st louis drew people en\n",
      "suggestion distribution collection fr\n",
      "zip one big file share gnotella new movie it\n",
      "quick fr\n",
      "pop quiz pt\n",
      "ready go cy\n",
      "mr cy\n",
      "lying tl\n",
      "flint violent no\n",
      "gee son obama matter sv\n",
      "see af\n",
      "unless conscience fr\n",
      "youtube sa survival secret pt youtube sa survival secret pt youtube sa survival secret pt youtube sa survival secret pt youtube sa survival secret pt youtube sa survival secret pt fr\n",
      "greeting af\n",
      "next week thanksgiving af\n",
      "still seeing pumpkin et\n",
      "scum traitor ro\n",
      "said like et\n",
      "great job guy no\n",
      "hope help nl\n",
      "yep junk fi\n",
      "post sl\n",
      "wonder one guy jew nl\n",
      "graduate school seems like good place meet marry man intelligent obviously nl\n",
      "german men sound sexy sv\n",
      "oh song sv\n",
      "hook nose af\n",
      "enemy germany inside border time da\n",
      "picture truly beautiful ro\n",
      "speak soul race ro\n",
      "youtube ukraine fi\n",
      "would nice pl\n",
      "didnot get government memo nl\n",
      "even black pakistani somehow diverse da\n",
      "suggesting appreciate it\n",
      "mam dad side irish so\n",
      "kid get candy good bowl cy\n",
      "even mention jest fr\n",
      "form letter send german government behalf ernst zundel da\n",
      "help keep case alive nl\n",
      "would want die go heaven germany af\n",
      "like made good money af\n",
      "made sweet potato pie it\n",
      "awesome af\n",
      "please keep u updated result get et\n",
      "want know ragnar time read ragnars saga lo br kar tl\n",
      "fmj full metal jacket bullet sv\n",
      "day age possible fr\n",
      "german japanese italianos id\n",
      "peeper getting old no\n",
      "hard find video version song youtube delete da\n",
      "let try no\n",
      "kettledrummer elo sambo prussian life guard hussar no\n",
      "suggestion da\n",
      "video demonstrating handle front tire da\n",
      "slam brake hr\n",
      "youtube id\n",
      "good way lose weight eat green salad af\n",
      "meat potato bread rice en\n",
      "part expensive exclusive fr\n",
      "ammo expensive pt\n",
      "list go fr\n",
      "wont last jump nl\n",
      "opinion lt\n",
      "would love ancient greek pagan name nl\n",
      "good time get af\n",
      "get armor nl\n",
      "get ballistic helmet nl\n",
      "get gas mask lt\n",
      "get armor kid da\n",
      "get armor dog da\n",
      "buy regret bill like ever pass no\n",
      "border fence border fence da\n",
      "good crow duck squirell rabbit etecerta en\n",
      "living well best revenge nl\n",
      "yet black get friend jump da\n",
      "youtube david irving part en\n",
      "practice use lr learn ro\n",
      "wp pl\n",
      "never lesson no\n",
      "funny cy\n",
      "dragonball z hairstyle rage amongst yr old boy cy\n",
      "concerned japanese culture insinuating american culture ro\n",
      "doubt ask clerk no\n",
      "francesca ortolani aka aufidena youtube francesca ortolani aufidena deinen augen youtube tomorrow belongs youtube aufidena moon come youtube aufidena towards light youtube francesca ortolani scarecrow es\n",
      "year going dog two friend going ghost mail man en\n",
      "vox romantic it\n",
      "like many sw\n",
      "greatest movement romantic join fr\n",
      "hello rome it\n",
      "post back cs\n",
      "go defending jew hr\n",
      "ok get dont like talk bad jew btw said kapo af\n",
      "much doubt anybody else ask hardly anybody else go like cs\n",
      "hope go well cy\n",
      "good so\n",
      "ask let know no\n",
      "ah old day so\n",
      "sure result discrimination ro\n",
      "type museum zoo need museum animal nature et\n",
      "good find cy\n",
      "black strong sv\n",
      "also left comment need wait see get approved en\n",
      "comment quite favorable fiercely favorable fr\n",
      "negative sl\n",
      "honest long overdue no\n",
      "like see iran wipe israel map af\n",
      "would gook want look white af\n",
      "proud race admire u want proud fr\n",
      "kimora lee simmons fi\n",
      "visit used book store riverside af\n",
      "check stack pl\n",
      "also national alliance local area contact riverside can not it\n",
      "calvin college grand rapid mich en\n",
      "college claremont calif it\n",
      "college va nl\n",
      "thomas aquinas college santa paula calif es\n"
     ]
    },
    {
     "name": "stdout",
     "output_type": "stream",
     "text": [
      "congratulation decision it\n",
      "good good friend cy\n",
      "well skin san diego however glad see back af\n",
      "peter great no\n",
      "enjoy classical music es\n",
      "peter great no\n",
      "ya hey der so\n",
      "seen initial fi\n",
      "so sv\n",
      "jesus even said face son satan fr\n",
      "yes tr\n",
      "seen price beef nl\n",
      "nice day tr\n",
      "zdrowie pl\n",
      "click download megabyte link en\n",
      "booklet updated dec nl\n",
      "downloads pl\n",
      "becs let napj vide nagyon tuti mindig amikor n zek felv teleket vagy ismer seim bar taim me lik hihetetlen sajn lom h tan v pont gy esik h nem tudok ott lenni hu\n",
      "u dollar please es\n",
      "odds flag ordered half staff communist negro terrorist united state da\n",
      "got wrong cy\n",
      "yeah de moines fr\n",
      "one fi\n",
      "going reah soon tl\n",
      "let ask stop federal reserve grab book long af\n",
      "wow hope negro race pl\n",
      "patrioticmama it\n",
      "protesting funeral no\n",
      "saying south africa die kop dom moet die lyf sukkel af\n",
      "feel sorry little sister maybe saved becoming wigger look older sister example en\n",
      "seems like jewtube hour af\n",
      "update message cst fr\n",
      "japan reactor rod melt ro\n",
      "japan reactor rod melt ro\n",
      "know say so\n",
      "probably cs\n",
      "yawn sw\n",
      "doesnt even look right af\n",
      "get used looking like looked obviously fake af\n",
      "came nonsense posting part it\n",
      "see symbol ware af\n",
      "added treblinka carlo mattogno extermination camp transit camp it\n",
      "plan add book today well cy\n",
      "mitt fi\n",
      "pure ro\n",
      "school system broken cs\n",
      "youtube detroit gang battle funeral fr\n",
      "never date outside race someone site post fr\n",
      "noble effort cy\n",
      "wonder gobi nl\n",
      "two element comment quite baffling fr\n",
      "info ethnic crime report ro\n",
      "gon na see hell like af\n",
      "nra may longer exist es\n",
      "ukraine need rid jewish oligarch en\n",
      "youtube kolovrat kosovski front lrm sl\n",
      "pallada photo san francisco bay es\n",
      "untrue ro\n",
      "sign time da\n",
      "ukrainian lt\n",
      "hope filthy scumbags get deserve en\n",
      "alba so\n",
      "good idea release video et\n",
      "refusing register sex offender molesting year old girl da\n",
      "get dog track say da\n",
      "wanted friend en\n",
      "croat fortunate reliable ally ro\n",
      "barbarian id\n",
      "leaf surprise fr\n",
      "kill fast would kill enemy da\n",
      "braun lv\n",
      "style posting unique unappreciated fr\n",
      "young man tl\n",
      "tch tch tch vi\n",
      "wolf pl\n",
      "hups vi\n",
      "mean muddy bay cy\n",
      "sure fr\n",
      "indeed seen heard machine raping robbing people street stockholm yet immigrant however en\n",
      "sick de\n",
      "wonder let keep extra euro say unwaged nl\n",
      "correct es\n",
      "meh id\n",
      "mr correct es\n",
      "enjoy no\n",
      "would like hear en\n",
      "damn fine job sure fr\n",
      "israel arrest bet lentin co student looking see scum jew nl\n",
      "mean ro\n",
      "agree af\n",
      "anyone go last night tl\n",
      "looking website sell deliver flag ireland af\n",
      "uh oh bad move mr king sl\n",
      "aragorn cy\n",
      "feel like pull passport want walmart ing pakis af\n",
      "look like jew good broken car garage laugh saw af\n",
      "anyone back zoo lately tl\n",
      "sad true es\n",
      "double standard fr\n",
      "even close es\n",
      "stopped looked like wtf af\n",
      "gift keep giving da\n",
      "n government view dangerous people would decide worthy unworthy would make king maker decide nl\n",
      "parent need go home get one nl\n",
      "text table going destroy culture implement communist state fr\n",
      "got ta travel light governor sl\n",
      "roosevelt deserve die thousand death en\n",
      "saying tl\n",
      "manslaughter id\n",
      "mate id\n",
      "cheer nl\n",
      "men saying id\n",
      "multiple gang tl\n",
      "bang tl\n",
      "nwo beast en\n",
      "hello fi\n",
      "someone kindly tell enter signature da\n",
      "kurd berlin germany watch thousand kurdish protester rally berlin youtube hamburg germany see hamburg swamped global action day youtube munich zwei kommen munter und gesund zur welt nchen en\n",
      "imagine someone tell fault provoked russian similar idiotic bullcrap it\n",
      "plan new sf europe af\n",
      "youtube sw\n",
      "ugh so\n",
      "god willing cy\n",
      "full name saylum tr\n",
      "dragging blanket around went closet get warm sweater af\n",
      "yeah tr\n",
      "haha doze gangstaas kno sheeeeiit bout pimpin tl\n",
      "got ta surprise else get away af\n",
      "work af\n",
      "pic taken summer fi\n",
      "eeeeh great summer nl\n",
      "friend mar nice cat ro\n",
      "pawel cy\n",
      "lazy want digg two graf fallen soldier af\n",
      "brutal war so\n",
      "look like everyone got haircut door except friend af\n",
      "sign like passop danger da\n",
      "badly spelt like everything else holland no\n",
      "comment fr\n",
      "guess must forgotten engles lack use try espagnol fr\n",
      "later paid byjiffylube car good new cy\n",
      "live stevens point fr\n",
      "wan na talk im personal message id\n",
      "may always love way loved today en\n",
      "single live elizabeth nj sq\n",
      "want meet single girl alberta idea want meet old let know nl\n",
      "may god goddess watch cy\n",
      "tereasa ro\n",
      "wonder list hate jew nl\n",
      "see af\n",
      "la es\n",
      "eric it\n",
      "event would made great tv nl\n",
      "america hate crime law it\n",
      "sometimes person dye hair black look strange no\n",
      "dark hair dyed hair black looked odd cy\n",
      "ask away redneck pl\n",
      "saw post day ago tl\n",
      "place look job cs\n",
      "utah id\n",
      "example local economy employment opportunity fr\n",
      "call it\n",
      "fsicqgo agw cy\n",
      "time sq\n",
      "wonder jackhammer vault foundation nl\n",
      "last one night durn tired format jpeg pdf get flyering da\n",
      "cf cy\n",
      "give taste medicience it\n",
      "actually u killing killing u tl\n",
      "way say hi so\n",
      "like pas paper nationalist time looking et\n",
      "check web site de\n",
      "best paper movement no\n",
      "sound like paradise et\n",
      "sad so\n",
      "african anyway cy\n",
      "falling laughing tl\n",
      "understand post depressing en\n",
      "trolling venting no\n",
      "problem black pride sl\n",
      "even support fr\n",
      "contradicting es\n",
      "fbi tr\n",
      "discus ro\n",
      "person need disappear it\n",
      "get nl\n",
      "hierarchy cy\n",
      "ant tl\n",
      "like wolf fight die af\n",
      "see ripped guy like wonder sexy type woman would go internet warrior nerd like af\n",
      "check de\n",
      "deadly cy\n",
      "n tl\n",
      "let see say af\n",
      "moment situation dire it\n",
      "crazy pl\n",
      "keep eye open time fallen powerlines nl\n",
      "seen game store af\n",
      "well done cy\n",
      "good choice xd en\n",
      "sub compact xdm ro\n",
      "get hand get one fit da\n",
      "yes kkk canada invited get tr\n",
      "like keep cop et\n",
      "simple lack judgement caused fr\n",
      "sad so\n",
      "disgusting justin want live af\n",
      "disturbing muslim refugee video ever see buzzpo af\n",
      "least people u gun defend fr\n",
      "canada big so\n",
      "still bottle cage bike en\n",
      "put sport drink longer ride keep water camelback af\n",
      "cindy pl\n",
      "walked right af\n",
      "going get time da\n",
      "kick piece pl\n",
      "ask friend da\n",
      "plan youtube tl\n",
      "oh better believe da\n",
      "black sv\n",
      "im gon na see get kobo damn nope hr\n",
      "norman conquest es\n",
      "send u email pt\n",
      "defend de\n",
      "look good so\n",
      "love audio it\n",
      "evidence es\n",
      "v clav neck karel dr marta kubi ov dary nesem youtube sl\n",
      "somebody know sk\n",
      "gun show year so\n",
      "young gun show tl\n",
      "black need black pas gene sv\n",
      "hmmmm fan hydroshok round en\n",
      "let see find da\n",
      "okay enjoy toast fi\n",
      "yeh yay so\n",
      "judge idiot prime example law get little respect day let anyone agenda connection become judge day fr\n",
      "smell gone matter second it\n",
      "x x so\n",
      "solution walkie talkie take double battery af\n",
      "many master desire ca\n",
      "dare give u evidence crime tape it\n",
      "video like make go hmm sl\n",
      "brass super blackhawk dragoon grip frame sv\n",
      "best cap ball revolver ever made no\n",
      "period it\n",
      "rifle cy\n",
      "best round mean grain pyrodex pellet grain fffg cap get job done fr\n",
      "ruger old army moore harris double da\n",
      "shame so\n",
      "student vote class nl\n",
      "oh fawk cy\n",
      "zoo nl\n",
      "hard either en\n",
      "spanish language tl\n",
      "racist someone love race it\n",
      "little miss little miss muffet sat tuffet eating big mac fry along came spider sat beside yuck said prefer fly en\n",
      "get aid soon die af\n",
      "hi michael sw\n",
      "personal message it\n",
      "maybe know so\n",
      "im central nj pt\n",
      "aim n lv\n",
      "holla cy\n",
      "ebonics ca\n",
      "wigger stage da\n",
      "wpww eddie cy\n",
      "couple get fr\n",
      "justin trudeau embarrassment canada youtube ca\n",
      "van rensburg nostradamus etc af\n",
      "handler joe slovo no\n",
      "ai deaf yet cy\n",
      "people still join militia fi\n",
      "militia risky fed sk\n",
      "idiot hasten armageddon get free ride heaven nl\n",
      "kidding af\n",
      "wierd pl\n",
      "v maker video may jewish sure big nose en\n",
      "enough support mesico support africa it\n",
      "hmm wonder get jump river put ad tv billion gold bottom river sv\n",
      "david duke bruno gollnisch sl\n",
      "poor monkey ever nl\n",
      "heat mean gun case ai wit da slang id\n",
      "amen ca\n",
      "sad so\n",
      "folk nigeria acting like one big ghetto queen squeezing baby negro bigger handout government en\n",
      "good lion cy\n",
      "took test af\n",
      "scored it\n",
      "like public board sl\n",
      "matter time hit europe fr\n",
      "favourite dr pierce fr\n",
      "amen ca\n",
      "tamir hamilton sadistic rapist murder et\n",
      "get site click dark crime it\n",
      "cause rage fr\n",
      "anyone else see guinness black lager commercial ca\n",
      "source fr\n",
      "making history none tl\n",
      "mate britain ro\n",
      "yea tr\n",
      "sound like smart idea no\n",
      "dull sometimes it\n",
      "freehold da\n",
      "listen radio fi\n",
      "hz hu\n",
      "blog page tl\n",
      "v sk\n",
      "already tell friend da\n",
      "true friend serb people da\n",
      "och nu har jag ocksa forlorad min svensk medborgarskap och far inte har en nya passport sv\n",
      "always campaign multikulti propaganda tl\n",
      "ztv owner tv pl\n",
      "also swede least get mtv eurosport nl\n",
      "sum situation sweden complete disaster it\n",
      "even happened nl\n"
     ]
    },
    {
     "name": "stdout",
     "output_type": "stream",
     "text": [
      "kokkepige stuepige barnepige tjenestepige tienestefolk huus jomfure no\n",
      "politifuldm ro\n",
      "lodger da\n",
      "also student underholdes af faderen student da\n",
      "beautiful glad went well cy\n",
      "see hook nose af\n",
      "see dark hair id\n",
      "verdil se snakk af\n",
      "greit du er forn yd med din nasjonalitet det er ikke det er snakk om slapp av kamerat no\n",
      "men det ser ut som om du er litt usikker deg selv n r du fr gar om nesen din no\n",
      "seems little uncertain ask question nose fr\n",
      "wolf pl\n",
      "arrest ca\n",
      "id cy\n",
      "continue it\n",
      "click video look happening sweden nl\n",
      "tall lassigie it\n",
      "trying kill tl\n",
      "odd cy\n",
      "forget ira da\n",
      "brit everyone else da\n",
      "moral sl\n",
      "see gardai grab deport none entitled fr\n",
      "full version lightning sun no\n",
      "way so\n",
      "onward cy\n",
      "hope hard feeling nl\n",
      "yea tr\n",
      "quick fr\n",
      "like always said say till dying day beyond tl\n",
      "b tr\n",
      "ever spent time outside vancouver area fr\n",
      "internet de\n",
      "plus dress like lady stripper forced look face fake tit miniskirt en\n",
      "mvi dead pig stop new mosque construction en\n",
      "im also young probably young tl\n",
      "glad hanging tl\n",
      "macc lad got gordons youtube ca\n",
      "asking tl\n",
      "like suggested get get amongst folk good da\n",
      "demographic london en\n",
      "like cat example ca\n",
      "saying tl\n",
      "dog pt\n",
      "kinda place tr\n",
      "oberschlesien al die deutschen weg waren youtube de\n",
      "kapela osp radawie pl\n",
      "arrestants personal friend mean lot u ca\n",
      "funny language similar tl\n",
      "boleslav brave sk\n",
      "google translate work kinda af\n",
      "see getting belted robbed sofia da\n",
      "one youtube gru wort von matthias faust dvu auf dem en\n",
      "gentleman remember post english deleted da\n",
      "understood sf bulgaria da\n",
      "bg mk bg mk error see like average answares le change no\n",
      "please quote implied said fr\n",
      "damn fine son sv\n",
      "rule britannia love ro\n",
      "hello fi\n",
      "talk fi\n",
      "edmonton it\n",
      "gott mit un de\n",
      "anything en\n",
      "looking intelligent white man sense humor age af\n",
      "yr old live mn cy\n",
      "cowboy pl\n",
      "entertaining fr\n",
      "nice meeting lunch en\n",
      "look forward seeing af\n",
      "note mention part four fr\n",
      "put last hour fr\n",
      "ghetto north it\n",
      "someone genius no\n",
      "jim sw\n",
      "win way lol so\n",
      "could get link nl\n",
      "saw two black website pl\n",
      "many sw\n",
      "name josh gilmore sq\n",
      "saw girl tl\n",
      "singing cute tl\n",
      "hope continue fr\n",
      "true essence divinity fr\n",
      "dresden got see well wonderful thing see af\n",
      "extreme mini blizzard cookie dough dairy extremist fr\n",
      "extreme paper move fr\n",
      "evidence support oppose it\n",
      "well done guy let keep sticking system af\n",
      "saw tl\n",
      "need help nl\n",
      "cf cy\n",
      "bump id\n",
      "close call es\n",
      "quite farcical actually ca\n",
      "youtube video guy fb page es\n",
      "disgusting af\n",
      "course fr\n",
      "ignorant troll sadly even entertaining no\n",
      "wolf dog wolf coyote cy\n",
      "link appears broken sv\n",
      "good grief cy\n",
      "david irving site offer hitler table talk no\n",
      "letter david irving website af\n",
      "give skype answer question fr\n",
      "seems like message getting right people af\n",
      "look forward meeting like minded people next friday en\n",
      "god bless mr trump da\n",
      "wow pl\n",
      "see injun feature ro\n",
      "love sl\n",
      "appalling it\n",
      "adopt musical style hand gesture poison soul fr\n",
      "bernt anker hoffman pakkis no\n",
      "olje p lerret x cm sl\n",
      "sysselmannen p svalbard sv\n",
      "bernt anker hoffman da\n",
      "oil canvas x cm pt\n",
      "governor svalbard hr\n",
      "pakkis common slang nickname arab general original link pakistani immigrant en\n",
      "take dna test mountain salt fi\n",
      "returned home da\n",
      "stupid hell happens time sv\n",
      "sue racism es\n",
      "point bible verse support position fr\n",
      "guess canada pt\n",
      "wonder like af\n",
      "older folk interesting much offer da\n",
      "get strongest pepper spray find da\n",
      "make practice hr\n",
      "lesson child fr\n",
      "live near london it\n",
      "hitlerjugend quex der ewige jude jude sus movie nazi made good informative nl\n",
      "dont quote im pretty sure open carry long gun texas legal fr\n",
      "going go old man tl\n",
      "week see whole day night per week drive take something af\n",
      "say like idea ruger lcr da\n",
      "grade pt\n",
      "like said world gone freak af\n",
      "parent girl nothing say tl\n",
      "one greatest time one personal favorite portrait french artist eugene delacroix fr\n",
      "arab militia doubly pt\n",
      "surprise anyone fr\n",
      "go halloween en\n",
      "else house block af\n",
      "arab so\n",
      "asian id\n",
      "mexican es\n",
      "guy seems get otherwise sorry jig af\n",
      "impressive site it\n",
      "talk adult kid age et\n",
      "hidden message found da\n",
      "time undo damage pt\n",
      "dog collar toddler cy\n",
      "idea et\n",
      "aware event detail nl\n",
      "brave brave man hr\n",
      "nigga tl\n",
      "singer leaf eye da\n",
      "love voice sk\n",
      "looked amazon hu\n",
      "may get one day nl\n",
      "time game sq\n",
      "although work freelance degree keep door open work firm choose en\n",
      "good luck so\n",
      "burger king next no\n",
      "sabotaging system good idea tl\n",
      "plan work donig year med school nl\n",
      "yeah sad see people like et\n",
      "run jap tonight fi\n",
      "lame es\n",
      "struggle race culture ro\n",
      "see af\n",
      "dont even include face en\n",
      "constant movement fr\n",
      "need something else no\n",
      "cent pt\n",
      "joined marine fi\n",
      "well cy\n",
      "hello fi\n",
      "u search yahoo find so\n",
      "hope labrat get back liked site da\n",
      "never mind post da\n",
      "seig heil andrew de\n",
      "think would tighter grip zog would u en\n",
      "goal hr\n",
      "travel usa it\n",
      "course none set stone fr\n",
      "conclusion it\n",
      "please keep seeding af\n",
      "best af\n",
      "duke id\n",
      "ya saw laughed sick cy\n",
      "praying rain id\n",
      "glad walk thing en\n",
      "definition genocide es\n",
      "interesting genocide crime happens european fr\n",
      "rhodine van der walt shot killed home kempton park saturday night feb black da\n",
      "good start one prodigal genius written john j neill nl\n",
      "weku pl\n",
      "share prepare sq\n",
      "youtube multicultural enrichment stop violence ro\n",
      "time like present sq\n",
      "maybe unionized it\n",
      "article reinforce mind dealing ro\n",
      "wow pl\n",
      "p sl\n",
      "wonder juden nl\n",
      "lord planet solar system beyond no\n",
      "hail imperium ro\n",
      "hail imperium europae ro\n",
      "black girl take baseball bat carry baseball bat date id\n",
      "dr duke really drive nerve center communism video clip it\n",
      "outstanding af\n",
      "wow pl\n",
      "vice guide travel liberia part youtube es\n",
      "oslo turning major criminal muslim mecca sl\n",
      "dr william pierce pl\n",
      "maybe mistaken et\n",
      "say undeclared war so\n",
      "inhabitant village perhaps ethnic georgian ca\n",
      "galicia bukovina moldova romania balkan greece see many people look like sk\n",
      "boy cy\n",
      "call soul economical mean it\n",
      "true vi\n",
      "elmira tr\n",
      "serbian chetniks german soldier stop telling lie serbian chetniks nazi german soldier af\n",
      "slavic people make european population ro\n",
      "kid living apartment et\n",
      "look partner steve hamilton no\n",
      "need post le learn en\n",
      "consider ignored it\n",
      "agent bulldog sweden oi cy\n",
      "norske legion norway oi no\n",
      "contain song many ballbreaking band tl\n",
      "rebel da\n",
      "tuleistu minu k rvale et\n",
      "suitable singing talking singing tl\n",
      "national song dance festival estonia today yesterday en\n",
      "proven many time jew medium sk\n",
      "like img document settingsblueguardskrivebordny img sv\n",
      "thank proving said en\n",
      "dunham english name de\n",
      "look like obama lived legacy et\n",
      "never attacked son plus dont care problem fr\n",
      "dublin fr\n",
      "one last place expect fr\n",
      "quite opposite fact fr\n",
      "hail cy\n",
      "people differ it\n",
      "hail cy\n",
      "aragorn cy\n",
      "grow fruit en\n",
      "idea mississauga canada decided look pt\n",
      "yes fine tr\n",
      "day so\n",
      "fan cy\n",
      "new supreme court justice lord dyson jc article fr\n",
      "lk so\n",
      "pretty much say get mugged fault sv\n",
      "people scum ro\n",
      "get one next time see asatru versand kein islam europa da christentum ist schlimm genug kein islam europa da christentum ist schlimm genug de\n",
      "like usa et\n",
      "code word max nl\n",
      "never called nazi it\n",
      "three week house one knew dead sad indictement modern england en\n",
      "worse benefit st af\n",
      "gleiwitz oberschlesien youtube de\n",
      "okay take word people use word say cymru wale polska poland pl\n",
      "must mossad cia ca\n",
      "guess automaidan pt\n",
      "read car participated ro\n",
      "idea et\n",
      "indeed look like strange thing af\n",
      "poster damn unsuccessful troll ro\n",
      "please stop nonsense en\n",
      "believe looking never find true love da\n",
      "camie es\n",
      "looking friend people en\n",
      "br tapio lt\n",
      "german fest da\n",
      "hope see word af\n",
      "beautiful place ro\n",
      "part berserkergrrl no\n",
      "figured would get worst af\n",
      "welcome erica en\n",
      "later ro\n",
      "hope talk later af\n",
      "aimee et\n",
      "im sorry find talk talk someone trying get degree personal message sf im aol yahoo no\n",
      "welcome nl\n",
      "hi glendale az it\n",
      "even restaurant fr\n",
      "google see mean af\n",
      "possible someone construe post way fr\n",
      "next read ro\n",
      "alabama so\n",
      "birmingham even nicer suburban area getting darker darker id\n",
      "needed af\n",
      "yeah map territory en\n",
      "dont think would get nl\n",
      "let beaner da\n",
      "good luck so\n",
      "jim sw\n",
      "sveiks lt\n",
      "dc pt\n",
      "great idea organize political action manner ro\n",
      "lemming hears duke awaken id\n",
      "seen couple chinese japanese tourist dont hate fr\n",
      "allegiance mexico first america second it\n",
      "leave fr\n",
      "please save u buzz hr\n",
      "maybe so\n",
      "guess fit ca\n",
      "race traitor ro\n",
      "million can not it\n",
      "fit dna dna found ancient mummy ca\n",
      "egyptian arab egyptian hu\n",
      "like see af\n",
      "post vnn cs\n",
      "say black arab jew lie pl\n",
      "nation fraud fr\n",
      "never build da\n",
      "deal ro\n",
      "control medium proof it\n",
      "gun n rose music es\n",
      "folk melody no\n"
     ]
    },
    {
     "name": "stdout",
     "output_type": "stream",
     "text": [
      "cool texas good so\n",
      "knowledge skill trump gear everytime da\n",
      "v sk\n",
      "guy soooo annoying so\n",
      "kkk sent shiver fear spine enemy like never know no\n",
      "vancouver fr\n",
      "vancouver fr\n",
      "like hongcouver fr\n",
      "mound misshapened aluminum en\n",
      "reminds homer simpson angry art look like something made kid winner en\n",
      "scottish mom side portuguese dad side live north portugal pt\n",
      "see future testing en\n",
      "ugh so\n",
      "apart decent video ca\n",
      "dealer messing da\n",
      "look et\n",
      "brewer convention pres hamms pres schlitz pres bubweiser pres guiness meet decide lunch together en\n",
      "resturant pres hamms order hamms pres schlitz order schlitz pres budweiser order bud pres guiness order cup tea de\n",
      "order beer ask af\n",
      "okay sw\n",
      "ta ra aye so\n",
      "credit nasa esa brown pt\n",
      "valid et\n",
      "au n ft p cy\n",
      "ca comment content yet fr\n",
      "fine shirt sq\n",
      "never pin point eye color it\n",
      "truly vi\n",
      "blue green grey different time en\n",
      "anybody else experience ca\n",
      "make wonder man built range anti gun zealot like neighbor together nl\n",
      "boat extent ca\n",
      "like max et\n",
      "also glass magnet type decoration patio door en\n",
      "weekend decoration go nl\n",
      "youtube id\n",
      "nice see ro\n",
      "say big brother tl\n",
      "green eye seem pretty rare af\n",
      "ya ignorant want registered gun criminal gun en\n",
      "great idea see go crime stats it\n",
      "funny cy\n",
      "project hr\n",
      "lambent adjective ca\n",
      "agree af\n",
      "go non denominational private school it\n",
      "funny see guy make fun u call u dumb redneck spell grade level ca\n",
      "going tl\n",
      "ok get back picking school nl\n",
      "personal message address name get started no\n",
      "wow pl\n",
      "mean kill thread looooooooooooong post et\n",
      "david s sv\n",
      "double standard fr\n",
      "raise kid one language et\n",
      "speak two en\n",
      "kid et\n",
      "living consequence punishment enough fr\n",
      "kosher slaughter blessed every rabbi sun no\n",
      "capitalism it\n",
      "agreed af\n",
      "look internet see af\n",
      "big plan tl\n",
      "ika klansman tl\n",
      "im lol sl\n",
      "time scarey alone it\n",
      "mix like et\n",
      "kamerad id\n",
      "wrs pl\n",
      "hello fi\n",
      "hello wondering tripple flag stand nl\n",
      "canada sure mean american injun innuit ro\n",
      "look like african blood maybe makeup af\n",
      "wrong cy\n",
      "lady gaga so\n",
      "get support ever no\n",
      "bad move jew puppet sl\n",
      "idea et\n",
      "spiritual awakening say stupid tl\n",
      "ten dollar would give entertainment nl\n",
      "definitely act genocide en\n",
      "guess blind idiot overlooked nfl nba like leave one miss en\n",
      "black sv\n",
      "justice emily fr\n",
      "let poor kid die vain still draw air af\n",
      "poor kid swing folk also get good guard breed dog af\n",
      "negro dumb it\n",
      "planet x let stop talking start looking like crazy af\n",
      "hell planet x nl\n",
      "glimps docid hl ca\n",
      "great link no\n",
      "rep later ro\n",
      "africa epitome progress it\n",
      "good one cy\n",
      "orture mode pf fr\n",
      "fun trying convince european unite one government eu collapse fr\n",
      "guess ghetto express it\n",
      "word needed af\n",
      "vie isobox rec en\n",
      "seems none pinhead wanted get dirty af\n",
      "biggest problem new black street new york think nigeria en\n",
      "last two time saw saw zero pl\n",
      "wrong husband tl\n",
      "god bless hell black cy\n",
      "angela spain murdered home drifter negro da\n",
      "ran id\n",
      "indeed nl\n",
      "give take good hr\n",
      "good pumped awesome knocking door asking surrender gun en\n",
      "obama civilian defense force different name ca\n",
      "see video af\n",
      "act quite civilized video suppose went mugging spree en\n",
      "fan german rock band rammstein sv\n",
      "seen picture soviet soldier berlin fall nl\n",
      "ricearrives lithuania nato talk go home africa condoleeza rice it\n",
      "want lithuania usa sw\n",
      "wellsburg de\n",
      "twp pl\n",
      "absolutely hu\n",
      "awesome post en\n",
      "good see norwegian af\n",
      "suomalainen nest kansallismielisi koska nyt vied n viimeisi fi\n",
      "say let let rant mouth mudslums fr\n",
      "far seen nl\n",
      "look like friend krekar winning lot vote party norway upcoming election en\n",
      "way go so\n",
      "message vanish nl\n",
      "anybody pointed finland part scandinavia yet hur gick det finnkampen vet ni det en\n",
      "jag kollade inte et\n",
      "like said kevin myers always voice u ireland af\n",
      "dream driving car past time running b no\n",
      "got b af\n",
      "id pt n af\n",
      "bnp fill gap sv\n",
      "understand unfortunatly one else turn en\n",
      "especially brampton es\n",
      "heil nl\n",
      "best ignore individual like da\n",
      "wanted thank meeting weekend af\n",
      "good meet decent conversation nl\n",
      "terrible da\n",
      "please comment fr\n",
      "obviously cs\n",
      "hello norfolk no\n",
      "jerry springer attack kkk dad part youtube sv\n",
      "burka bad enough hijab need ban burka so\n",
      "p sl\n",
      "reader stand donetsk sv\n",
      "rest tatar ca\n",
      "ukrainian carpathians id\n",
      "try find stupid message forum da\n",
      "youtube id\n",
      "ok idiot see act nl\n",
      "adult late ro\n",
      "luck driving sv\n",
      "second it\n",
      "also dont drink drive nl\n",
      "finish drinking drive sv\n",
      "better no\n",
      "drive risk accident drunk walk certainly get murdered kaffir da\n",
      "side country es\n",
      "ever ridden dirt bike florida da\n",
      "mile bad so\n",
      "thank one tall self one el see guy like pic make sure know wp like white men way see en\n",
      "hi chandra cy\n",
      "feel pain nl\n",
      "much nicer e mail sometime it\n",
      "hope respond pt\n",
      "elizabeth sq\n",
      "find glass stupid jump et\n",
      "good so\n",
      "opening week af\n",
      "tell people every sent commit fraud fr\n",
      "record es\n",
      "must favorite no\n",
      "job god given light perceive da\n",
      "lol yes es\n",
      "danny lol cy\n",
      "trouble landlord dot dot dot fr\n",
      "tell service it\n",
      "dot dot dot nl\n",
      "nb haman fenris muaddib v zzsjrfozlfy hu\n",
      "go profile leave message fr\n",
      "listed friend da\n",
      "need get ahold everyone plan something weekend nl\n",
      "pov fire next time pb ro\n",
      "get camp nl\n",
      "frakkin awesome no\n",
      "joke fi\n",
      "many nazi sit ass drink beer watch tv en\n",
      "kind disturbing af\n",
      "wow awe pl\n",
      "never seen asian woman dating asian like white man wiggers detrimental towards af\n",
      "gambit denied ca\n",
      "find like many time sq\n",
      "want see fate win af\n",
      "look et\n",
      "going say sod say way f k f k tl\n",
      "suppose get loose end af\n",
      "lol es\n",
      "negro task master no\n",
      "liberal ranting tribalism behave tribal manner en\n",
      "dna test prove still mongrel no\n",
      "also contradict ca\n",
      "lol es\n",
      "cite source fr\n",
      "believe human different specie evolve point nl\n",
      "donot say abomination tl\n",
      "see af\n",
      "sa model world af\n",
      "dealt nonsense university no\n",
      "wpww sw\n",
      "lite fast ro\n",
      "r benach rodendorf family cy\n",
      "meantime consider it\n",
      "tv sk\n",
      "buy movie show like dvd af\n",
      "magnum tl\n",
      "hope help nl\n",
      "almost took dozen fighting street night en\n",
      "student went still young like no\n",
      "savage mark affordable accurate come adjustable accutrigger ro\n",
      "seen swedish building similar japanese style en\n",
      "love edward hopper work af\n",
      "break period needed af\n",
      "kaboom so\n",
      "problem cs\n",
      "good time kid hr\n",
      "shin bone like glass sq\n",
      "see pro con it\n",
      "idea et\n",
      "donot suck it\n",
      "read try add word learn well cy\n",
      "like said bet liberal parent no\n",
      "bet liberal men sure proud daughter fr\n",
      "erik no\n",
      "glass boddington tap bar back tl\n",
      "live ar da\n",
      "wondering get homeschooled nl\n",
      "got great deal ca\n",
      "full msrp night sight model en\n",
      "store went non night sight model paid night sight model new sale sigs af\n",
      "work great simple use even kid af\n",
      "grade question difficult fr\n",
      "expecting question fr\n",
      "list middle name son et\n",
      "saw movie sk\n",
      "still matter sv\n",
      "claim alone take en\n",
      "like dressing amerindian kindergarden da\n",
      "mmm da\n",
      "savate basic technique youtube fr\n",
      "uniform ro\n",
      "uniform ro\n",
      "student able express fr\n",
      "gender segregated no\n",
      "dance music fr\n",
      "seen wall cuzco en\n",
      "based sven hassel story name en\n",
      "like far no\n",
      "knight ku klux klan youth corp en\n",
      "like add medium reporting paper diabolical en\n",
      "shame so\n",
      "feel pretty alone alot time mine it\n",
      "congratulation it\n",
      "applied technique one many occasion seen considerable success fr\n",
      "kr sk\n",
      "try vi\n",
      "enjoy classroom es\n",
      "quite bit white kid like keep underwraps cause trouble af\n",
      "check de\n",
      "seems like along post belong general rant forum no\n",
      "tell city lie europe fr\n",
      "gripfasts shoe boot boot worn break shoe dressier af\n",
      "letting fish pocket sv\n",
      "lol es\n",
      "nose broken time haha sq\n",
      "old tr\n",
      "make sure inside mall outside et\n",
      "janice hr\n",
      "trudeau senior got u mess fr\n",
      "welcome grab like af\n",
      "egyet se ismerek hu\n",
      "fogalmam sincs hogy mennyi lehet itt hu\n",
      "itt legtobb kanadai aki meg nem az fel kimondani az erzelmeit mert ez sajnos multikulturalizmus oraszaga hu\n",
      "feher embernek nincs jovoje kanadaba az biztos mert az orszag el van arasztva bevandorlokkal hu\n",
      "persze majd egyutest alakitok e csinalunk jo hazafias bulikat hu\n",
      "unfortunately country multiculturalism ro\n",
      "look like et\n",
      "good guy so\n",
      "jjt talking kid run house et\n",
      "see pattern it\n",
      "agreed af\n",
      "nasty tl\n",
      "lighter skin negro af\n",
      "pace retailer collapse accelerates larger mall begin go dark it\n",
      "least retail job lost et\n",
      "art id sv\n",
      "ever ride l chicago pay attention color code it\n",
      "true vi\n",
      "saying go take ape jungle can not take jungle ape id\n",
      "source quote fr\n",
      "africa ro\n",
      "mere coincidence liberal party color blue es\n",
      "symbol demonstrating lack oxygen head member en\n",
      "wait see af\n",
      "one part video surprising it\n",
      "brawl break hip hop award en\n",
      "ill post it\n",
      "like dress lovely gorgeous no\n",
      "like outfit dressed simian look regal et\n",
      "b anyway cy\n",
      "understand de\n",
      "genocide es\n"
     ]
    },
    {
     "name": "stdout",
     "output_type": "stream",
     "text": [
      "patrick cassidy vide cor meum pt\n",
      "youtube vide cor meum brilliant pt\n",
      "true point fr\n",
      "dont want argue nordicists ever stop claiming blondism rest europe come land en\n",
      "laughing smilie misleading et\n",
      "careful laugh ro\n",
      "name sunofsvarog hr\n",
      "medium run da\n",
      "jup grew saw black tv hr\n",
      "youtube macedonian fan croatia youtube izlezi momce macedonia v great britain ro\n",
      "try book seller en\n",
      "er r emc r cy\n",
      "victim illegal alien crime report crime it\n",
      "small janj river una river novi grad tara river republic srpska sava river near town srpski brod vrbas river lake nevesinje neretva river republic srpska izvor sipovo hr\n",
      "nter ryssland sv\n",
      "markus riikonen et\n",
      "let hope fr\n",
      "aragorn cy\n",
      "anyone tell happened lake no\n",
      "r tel sem staddur er h r landi opinberri heims kn samt eiginkonu sinni indgrid r tel sag ennfremur mikill tti hafi veri vi sov tr kin beittu landi hervaldi eftir sj lfsst isyfirl singuna no\n",
      "r tel tala um hve erfi ir mar hef u veri egar sj lfst isyfirl singin var gefin da\n",
      "var persafl astr og miklir umbrotat mar sov tr kjunum no\n",
      "idiotic it\n",
      "wow pl\n",
      "sound like beginning immigration problem no\n",
      "excellent korefan da\n",
      "starting happen riga sv\n",
      "come moment must act regardless consequence fr\n",
      "however hope get butt nl\n",
      "speak arabic id\n",
      "britain fr\n",
      "maybe try red harvest berzerker mistress da\n",
      "went dubious deed set museum alarm system af\n",
      "hail celtic dawn cy\n",
      "capital promotes multicultural dublin ro\n",
      "excellent idea ca\n",
      "help anyway cy\n",
      "latha math dhuibh agus tha dol agad fh ph druig hello pat en\n",
      "ii so\n",
      "iii so\n",
      "make visit lad et\n",
      "iv hr\n",
      "pray vnto odin sk\n",
      "gille tr\n",
      "part europe fr\n",
      "probably come regina en\n",
      "vancouver fr\n",
      "problem western elite feed look useless savage like malema af\n",
      "use run year ago use run around lad london es\n",
      "go pollute pool disgusting paedophilia et\n",
      "kiss make kid real enemy street raping woman af\n",
      "nice individual it\n",
      "wonder end people enough well nl\n",
      "second pipe aboard it\n",
      "find video disturbing best da\n",
      "juden never stop race mixing yet want nl\n",
      "disgusting af\n",
      "joke bnp sl\n",
      "friendly da\n",
      "similar event future sq\n",
      "lazy make proper rage comic en\n",
      "fyromia encyclopedia dramatica greece encyclopedia dramatica bulgaria encyclopedia dramatica ca\n",
      "evil get huh da\n",
      "freundschaft sleipnir nemesis mit english und deutsch lyric youtube de\n",
      "oh god cy\n",
      "id like say something heard nothing good say dont say anything tl\n",
      "yer side tr\n",
      "bloddy side cy\n",
      "seen pole america see nl\n",
      "russian fi\n",
      "hungarian id\n",
      "gyspsies lt\n",
      "jew pl\n",
      "dessert de\n",
      "like take test drive no\n",
      "close left coast ro\n",
      "got hr\n",
      "wv sw\n",
      "drink vodka sound like ten year older even worse af\n",
      "happened left no\n",
      "went school soon graduated left nl\n",
      "get hell soon possible no\n",
      "crazy one stay pl\n",
      "like talk send message et\n",
      "get better da\n",
      "nice know pl\n",
      "good luck so\n",
      "oh see son mist fi\n",
      "laugh u yet see picture en\n",
      "thanks kind word personal message en\n",
      "email profile pt\n",
      "looking make new friend west middle tn area af\n",
      "moved wood work en\n",
      "balt tr\n",
      "noose af\n",
      "swva af\n",
      "email ericahoesch pt\n",
      "erica it\n",
      "great got tell funny joke get reaction no\n",
      "ya wan na talk personal message id\n",
      "ok bye no\n",
      "cgg many taste tl\n",
      "chicago u live it\n",
      "u look like et\n",
      "drop line nl\n",
      "went nl\n",
      "taking money oregon taxpayer mile away tl\n",
      "look forward seeing ple soon af\n",
      "got ta green grass tree af\n",
      "live music dancing fr\n",
      "getting someone else dirty work got u mess today af\n",
      "can not keep running suburb id\n",
      "criminal organization place criminal klan ro\n",
      "camellia idea great it\n",
      "le talk activism fr\n",
      "problem cs\n",
      "site list state believe af\n",
      "never begin da\n",
      "ok sk\n",
      "care le better it\n",
      "went great korean guise japanese name af\n",
      "way take advantage state everywhere else en\n",
      "said jew israel chart cy\n",
      "question time may mud blood fr\n",
      "talking fi\n",
      "sweden sweden sweden sweden sweden sweden sweden god save af\n",
      "hell sweden ever anyone deserve kind treatment da\n",
      "huh sw\n",
      "got say tl\n",
      "day kill dem injun id\n",
      "dids dey colononialize da new erffs it\n",
      "daay getz dat junglef feeeaaver rr ape da slabve girl da\n",
      "build tr\n",
      "yup get married still work get idiot bring husband guise family member en\n",
      "put crack pipe moron ro\n",
      "yep london ya es\n",
      "therefore dumb brute like black en\n",
      "eye jew libtard race problem problem u cs\n",
      "canada par worse germany day id\n",
      "variety always better putting egg one basket no\n",
      "aggressiveness massive reason success it\n",
      "lucky bet careful next time ro\n",
      "went kid great af\n",
      "line fi\n",
      "nigga wait line sw\n",
      "stunk like refer black sweat da\n",
      "ha so\n",
      "god hate canada cy\n",
      "night got engaged stuff af\n",
      "would go range rifle pistol week af\n",
      "yes libertarian birth id\n",
      "also day wanted so\n",
      "yup id\n",
      "lose matter it\n",
      "dark say modern iraqi so\n",
      "explain liberal liar tell crime statistic it\n",
      "fact cosmic jellyfish part supernova remnant ic expanding debris cloud massive star exploded en\n",
      "jellyfish nebula away so\n",
      "argued bit asked see list name et\n",
      "obama mean muslim id\n",
      "blood many muslim hand tl\n",
      "jewish puppet pl\n",
      "ask yes bite lip tr\n",
      "detest chap stick nl\n",
      "buck stop lazy pl\n",
      "sami finn sv\n",
      "lager scale fr\n",
      "far cy\n",
      "anyway look similar sami finn tl\n",
      "great mystery no\n",
      "video end lol es\n",
      "cheer nl\n",
      "greeneville tn home land no\n",
      "k sw\n",
      "free pdf e da\n",
      "long per day go tl\n",
      "read saga since kid et\n",
      "peter green book pretty good af\n",
      "interesting appendix well well map etc nl\n",
      "coward pl\n",
      "atrabilious adj pt\n",
      "also atrabiliar origin l atra bili black bile ous ra bil iou ness n it\n",
      "erik no\n",
      "reproducing ro\n",
      "los angeles brace weekend carmageddon u news en\n",
      "happened late hong kong no\n",
      "unfortunately ro\n",
      "custom carbine ar one mine ro\n",
      "mossberg bayonet tl\n",
      "folding stock sv\n",
      "p vtac ca\n",
      "update list bit fr\n",
      "forgot da\n",
      "opps no\n",
      "viva la mayheeko fi\n",
      "jpg sl\n",
      "yes precisely es\n",
      "interesting en\n",
      "lady dressed scarlett hara sv\n",
      "innocence gone it\n",
      "kali yuga so\n",
      "saw movie valkyrie tom cruise lead role af\n",
      "news cy\n",
      "jew pl\n",
      "susan tl\n",
      "jew god people tring kill hr\n",
      "word jew even old text bible nl\n",
      "bible jesus god people ever called jew en\n",
      "u dealt directly jew different dealt mafia ro\n",
      "surely point duty call amongst guest vile remark fr\n",
      "transparency fr\n",
      "safe cy\n",
      "break never talk no\n",
      "jim sw\n",
      "kidding af\n",
      "im gon na spring area soon want meet somehwere like indy nation lotsa skin af\n",
      "got back new job en\n",
      "drive forklift docking bay da\n",
      "absolutely en\n",
      "may well think blood animal en\n",
      "alot demonstration immigration confederate flag interracial stuff it\n",
      "cant say tl\n",
      "black forum happy sv\n",
      "pierre trudeau gave canadian ro\n",
      "get nl\n"
     ]
    }
   ],
   "source": [
    "other = []\n",
    "for x in range(len(data['lemmatized'])):\n",
    "    try:\n",
    "        if detect(data['lemmatized'][x]) != 'en':\n",
    "            print(data['lemmatized'][x], detect(data['lemmatized'][x]))\n",
    "    except:\n",
    "        None"
   ]
  },
  {
   "cell_type": "code",
   "execution_count": 29,
   "metadata": {
    "execution": {
     "iopub.execute_input": "2021-04-13T19:42:15.551903Z",
     "iopub.status.busy": "2021-04-13T19:42:15.551741Z",
     "iopub.status.idle": "2021-04-13T19:42:15.565401Z",
     "shell.execute_reply": "2021-04-13T19:42:15.564755Z",
     "shell.execute_reply.started": "2021-04-13T19:42:15.551883Z"
    }
   },
   "outputs": [
    {
     "data": {
      "text/html": [
       "<div>\n",
       "<style scoped>\n",
       "    .dataframe tbody tr th:only-of-type {\n",
       "        vertical-align: middle;\n",
       "    }\n",
       "\n",
       "    .dataframe tbody tr th {\n",
       "        vertical-align: top;\n",
       "    }\n",
       "\n",
       "    .dataframe thead th {\n",
       "        text-align: right;\n",
       "    }\n",
       "</style>\n",
       "<table border=\"1\" class=\"dataframe\">\n",
       "  <thead>\n",
       "    <tr style=\"text-align: right;\">\n",
       "      <th></th>\n",
       "      <th>file_id</th>\n",
       "      <th>user_id</th>\n",
       "      <th>subforum_id</th>\n",
       "      <th>num_contexts</th>\n",
       "      <th>label</th>\n",
       "      <th>text</th>\n",
       "      <th>text_clean</th>\n",
       "      <th>word_count</th>\n",
       "      <th>stemmed</th>\n",
       "      <th>lemmatized</th>\n",
       "      <th>tokens</th>\n",
       "    </tr>\n",
       "  </thead>\n",
       "  <tbody>\n",
       "    <tr>\n",
       "      <th>0</th>\n",
       "      <td>12834217_1</td>\n",
       "      <td>572066</td>\n",
       "      <td>1346</td>\n",
       "      <td>0</td>\n",
       "      <td>0</td>\n",
       "      <td>As of March 13th , 2014 , the booklet had been...</td>\n",
       "      <td>march booklet downloaded times counting</td>\n",
       "      <td>5</td>\n",
       "      <td>march booklet download time count</td>\n",
       "      <td>march booklet downloaded time counting</td>\n",
       "      <td>[march, booklet, downloaded, time, counting]</td>\n",
       "    </tr>\n",
       "    <tr>\n",
       "      <th>1</th>\n",
       "      <td>12834217_2</td>\n",
       "      <td>572066</td>\n",
       "      <td>1346</td>\n",
       "      <td>0</td>\n",
       "      <td>0</td>\n",
       "      <td>In order to help increase the booklets downloa...</td>\n",
       "      <td>order help increase booklets downloads would g...</td>\n",
       "      <td>19</td>\n",
       "      <td>order help increas booklet download would grea...</td>\n",
       "      <td>order help increase booklet downloads would gr...</td>\n",
       "      <td>[order, help, increase, booklet, downloads, wo...</td>\n",
       "    </tr>\n",
       "    <tr>\n",
       "      <th>2</th>\n",
       "      <td>12834217_3</td>\n",
       "      <td>572066</td>\n",
       "      <td>1346</td>\n",
       "      <td>0</td>\n",
       "      <td>0</td>\n",
       "      <td>( Simply copy and paste the following text int...</td>\n",
       "      <td>simply copy paste following text youtube video...</td>\n",
       "      <td>9</td>\n",
       "      <td>simpli copi past follow text youtub video desc...</td>\n",
       "      <td>simply copy paste following text youtube video...</td>\n",
       "      <td>[simply, copy, paste, following, text, youtube...</td>\n",
       "    </tr>\n",
       "    <tr>\n",
       "      <th>3</th>\n",
       "      <td>12834217_4</td>\n",
       "      <td>572066</td>\n",
       "      <td>1346</td>\n",
       "      <td>0</td>\n",
       "      <td>1</td>\n",
       "      <td>Click below for a FREE download of a colorfull...</td>\n",
       "      <td>click free download colorfully illustrated pag...</td>\n",
       "      <td>10</td>\n",
       "      <td>click free download color illustr page intent ...</td>\n",
       "      <td>click free download colorfully illustrated pag...</td>\n",
       "      <td>[click, free, download, colorfully, illustrate...</td>\n",
       "    </tr>\n",
       "    <tr>\n",
       "      <th>4</th>\n",
       "      <td>12834217_5</td>\n",
       "      <td>572066</td>\n",
       "      <td>1346</td>\n",
       "      <td>0</td>\n",
       "      <td>0</td>\n",
       "      <td>Click on the `` DOWNLOAD ( 7.42 megabytes ) ''...</td>\n",
       "      <td>click download megabytes green banner link</td>\n",
       "      <td>6</td>\n",
       "      <td>click download megabyt green banner link</td>\n",
       "      <td>click download megabyte green banner link</td>\n",
       "      <td>[click, download, megabyte, green, banner, link]</td>\n",
       "    </tr>\n",
       "  </tbody>\n",
       "</table>\n",
       "</div>"
      ],
      "text/plain": [
       "      file_id  user_id  subforum_id  num_contexts  label  \\\n",
       "0  12834217_1   572066         1346             0      0   \n",
       "1  12834217_2   572066         1346             0      0   \n",
       "2  12834217_3   572066         1346             0      0   \n",
       "3  12834217_4   572066         1346             0      1   \n",
       "4  12834217_5   572066         1346             0      0   \n",
       "\n",
       "                                                text  \\\n",
       "0  As of March 13th , 2014 , the booklet had been...   \n",
       "1  In order to help increase the booklets downloa...   \n",
       "2  ( Simply copy and paste the following text int...   \n",
       "3  Click below for a FREE download of a colorfull...   \n",
       "4  Click on the `` DOWNLOAD ( 7.42 megabytes ) ''...   \n",
       "\n",
       "                                          text_clean  word_count  \\\n",
       "0            march booklet downloaded times counting           5   \n",
       "1  order help increase booklets downloads would g...          19   \n",
       "2  simply copy paste following text youtube video...           9   \n",
       "3  click free download colorfully illustrated pag...          10   \n",
       "4         click download megabytes green banner link           6   \n",
       "\n",
       "                                             stemmed  \\\n",
       "0                  march booklet download time count   \n",
       "1  order help increas booklet download would grea...   \n",
       "2  simpli copi past follow text youtub video desc...   \n",
       "3  click free download color illustr page intent ...   \n",
       "4           click download megabyt green banner link   \n",
       "\n",
       "                                          lemmatized  \\\n",
       "0             march booklet downloaded time counting   \n",
       "1  order help increase booklet downloads would gr...   \n",
       "2  simply copy paste following text youtube video...   \n",
       "3  click free download colorfully illustrated pag...   \n",
       "4          click download megabyte green banner link   \n",
       "\n",
       "                                              tokens  \n",
       "0       [march, booklet, downloaded, time, counting]  \n",
       "1  [order, help, increase, booklet, downloads, wo...  \n",
       "2  [simply, copy, paste, following, text, youtube...  \n",
       "3  [click, free, download, colorfully, illustrate...  \n",
       "4   [click, download, megabyte, green, banner, link]  "
      ]
     },
     "execution_count": 29,
     "metadata": {},
     "output_type": "execute_result"
    }
   ],
   "source": [
    "data.head()"
   ]
  },
  {
   "cell_type": "markdown",
   "metadata": {
    "collapsed": "true"
   },
   "source": [
    "#### 2.2 Bow and Tfidf"
   ]
  },
  {
   "cell_type": "code",
   "execution_count": 30,
   "metadata": {},
   "outputs": [],
   "source": [
    "# Bow vectorizer\n",
    "bow_vectorizer = CountVectorizer()\n",
    "X_bow = bow_vectorizer.fit_transform(data['lemmatized'])\n",
    "#print(bow_vectorizer.get_feature_names())"
   ]
  },
  {
   "cell_type": "code",
   "execution_count": 31,
   "metadata": {},
   "outputs": [],
   "source": [
    "# Tfidf vectorizer\n",
    "tfidf_vectorizer = TfidfVectorizer()\n",
    "X_tfidf = tfidf_vectorizer.fit_transform(data['lemmatized'])\n",
    "#print(tfidf_vectorizer.get_feature_names())"
   ]
  },
  {
   "cell_type": "code",
   "execution_count": 32,
   "metadata": {},
   "outputs": [
    {
     "data": {
      "text/html": [
       "<div>\n",
       "<style scoped>\n",
       "    .dataframe tbody tr th:only-of-type {\n",
       "        vertical-align: middle;\n",
       "    }\n",
       "\n",
       "    .dataframe tbody tr th {\n",
       "        vertical-align: top;\n",
       "    }\n",
       "\n",
       "    .dataframe thead th {\n",
       "        text-align: right;\n",
       "    }\n",
       "</style>\n",
       "<table border=\"1\" class=\"dataframe\">\n",
       "  <thead>\n",
       "    <tr style=\"text-align: right;\">\n",
       "      <th></th>\n",
       "      <th>white</th>\n",
       "      <th>black</th>\n",
       "      <th>kill</th>\n",
       "      <th>kid</th>\n",
       "      <th>school</th>\n",
       "      <th>student</th>\n",
       "    </tr>\n",
       "  </thead>\n",
       "  <tbody>\n",
       "    <tr>\n",
       "      <th>10</th>\n",
       "      <td>0.117607</td>\n",
       "      <td>0.149276</td>\n",
       "      <td>0.243694</td>\n",
       "      <td>0.000000</td>\n",
       "      <td>0.000000</td>\n",
       "      <td>0.000000</td>\n",
       "    </tr>\n",
       "    <tr>\n",
       "      <th>11</th>\n",
       "      <td>0.000000</td>\n",
       "      <td>0.000000</td>\n",
       "      <td>0.000000</td>\n",
       "      <td>0.000000</td>\n",
       "      <td>0.000000</td>\n",
       "      <td>0.000000</td>\n",
       "    </tr>\n",
       "    <tr>\n",
       "      <th>12</th>\n",
       "      <td>0.000000</td>\n",
       "      <td>0.000000</td>\n",
       "      <td>0.000000</td>\n",
       "      <td>0.000000</td>\n",
       "      <td>0.000000</td>\n",
       "      <td>0.000000</td>\n",
       "    </tr>\n",
       "    <tr>\n",
       "      <th>13</th>\n",
       "      <td>0.000000</td>\n",
       "      <td>0.000000</td>\n",
       "      <td>0.000000</td>\n",
       "      <td>0.000000</td>\n",
       "      <td>0.000000</td>\n",
       "      <td>0.000000</td>\n",
       "    </tr>\n",
       "    <tr>\n",
       "      <th>14</th>\n",
       "      <td>0.000000</td>\n",
       "      <td>0.000000</td>\n",
       "      <td>0.000000</td>\n",
       "      <td>0.000000</td>\n",
       "      <td>0.000000</td>\n",
       "      <td>0.000000</td>\n",
       "    </tr>\n",
       "    <tr>\n",
       "      <th>15</th>\n",
       "      <td>0.000000</td>\n",
       "      <td>0.000000</td>\n",
       "      <td>0.000000</td>\n",
       "      <td>0.000000</td>\n",
       "      <td>0.000000</td>\n",
       "      <td>0.000000</td>\n",
       "    </tr>\n",
       "    <tr>\n",
       "      <th>16</th>\n",
       "      <td>0.000000</td>\n",
       "      <td>0.000000</td>\n",
       "      <td>0.000000</td>\n",
       "      <td>0.000000</td>\n",
       "      <td>0.000000</td>\n",
       "      <td>0.000000</td>\n",
       "    </tr>\n",
       "    <tr>\n",
       "      <th>17</th>\n",
       "      <td>0.300627</td>\n",
       "      <td>0.000000</td>\n",
       "      <td>0.000000</td>\n",
       "      <td>0.000000</td>\n",
       "      <td>0.000000</td>\n",
       "      <td>0.000000</td>\n",
       "    </tr>\n",
       "    <tr>\n",
       "      <th>18</th>\n",
       "      <td>0.137151</td>\n",
       "      <td>0.000000</td>\n",
       "      <td>0.000000</td>\n",
       "      <td>0.000000</td>\n",
       "      <td>0.000000</td>\n",
       "      <td>0.000000</td>\n",
       "    </tr>\n",
       "    <tr>\n",
       "      <th>19</th>\n",
       "      <td>0.000000</td>\n",
       "      <td>0.000000</td>\n",
       "      <td>0.000000</td>\n",
       "      <td>0.000000</td>\n",
       "      <td>0.000000</td>\n",
       "      <td>0.000000</td>\n",
       "    </tr>\n",
       "    <tr>\n",
       "      <th>20</th>\n",
       "      <td>0.000000</td>\n",
       "      <td>0.000000</td>\n",
       "      <td>0.000000</td>\n",
       "      <td>0.000000</td>\n",
       "      <td>0.000000</td>\n",
       "      <td>0.000000</td>\n",
       "    </tr>\n",
       "    <tr>\n",
       "      <th>21</th>\n",
       "      <td>0.000000</td>\n",
       "      <td>0.000000</td>\n",
       "      <td>0.000000</td>\n",
       "      <td>0.199401</td>\n",
       "      <td>0.000000</td>\n",
       "      <td>0.000000</td>\n",
       "    </tr>\n",
       "    <tr>\n",
       "      <th>22</th>\n",
       "      <td>0.229159</td>\n",
       "      <td>0.000000</td>\n",
       "      <td>0.000000</td>\n",
       "      <td>0.000000</td>\n",
       "      <td>0.327657</td>\n",
       "      <td>0.441667</td>\n",
       "    </tr>\n",
       "    <tr>\n",
       "      <th>23</th>\n",
       "      <td>0.000000</td>\n",
       "      <td>0.000000</td>\n",
       "      <td>0.000000</td>\n",
       "      <td>0.368308</td>\n",
       "      <td>0.000000</td>\n",
       "      <td>0.000000</td>\n",
       "    </tr>\n",
       "    <tr>\n",
       "      <th>24</th>\n",
       "      <td>0.000000</td>\n",
       "      <td>0.000000</td>\n",
       "      <td>0.000000</td>\n",
       "      <td>0.000000</td>\n",
       "      <td>0.000000</td>\n",
       "      <td>0.221012</td>\n",
       "    </tr>\n",
       "  </tbody>\n",
       "</table>\n",
       "</div>"
      ],
      "text/plain": [
       "       white     black      kill       kid    school   student\n",
       "10  0.117607  0.149276  0.243694  0.000000  0.000000  0.000000\n",
       "11  0.000000  0.000000  0.000000  0.000000  0.000000  0.000000\n",
       "12  0.000000  0.000000  0.000000  0.000000  0.000000  0.000000\n",
       "13  0.000000  0.000000  0.000000  0.000000  0.000000  0.000000\n",
       "14  0.000000  0.000000  0.000000  0.000000  0.000000  0.000000\n",
       "15  0.000000  0.000000  0.000000  0.000000  0.000000  0.000000\n",
       "16  0.000000  0.000000  0.000000  0.000000  0.000000  0.000000\n",
       "17  0.300627  0.000000  0.000000  0.000000  0.000000  0.000000\n",
       "18  0.137151  0.000000  0.000000  0.000000  0.000000  0.000000\n",
       "19  0.000000  0.000000  0.000000  0.000000  0.000000  0.000000\n",
       "20  0.000000  0.000000  0.000000  0.000000  0.000000  0.000000\n",
       "21  0.000000  0.000000  0.000000  0.199401  0.000000  0.000000\n",
       "22  0.229159  0.000000  0.000000  0.000000  0.327657  0.441667\n",
       "23  0.000000  0.000000  0.000000  0.368308  0.000000  0.000000\n",
       "24  0.000000  0.000000  0.000000  0.000000  0.000000  0.221012"
      ]
     },
     "execution_count": 32,
     "metadata": {},
     "output_type": "execute_result"
    }
   ],
   "source": [
    "Xa = pd.DataFrame(X_tfidf.toarray(), columns=tfidf_vectorizer.get_feature_names())\n",
    "dictionary = ['white', 'black', 'kill', 'kid', 'school','student']\n",
    "A = Xa[dictionary]\n",
    "A[10:25]"
   ]
  },
  {
   "cell_type": "code",
   "execution_count": 33,
   "metadata": {},
   "outputs": [],
   "source": [
    "#pd.DataFrame(X_tfidf[20:50, 58:70].toarray(), columns=list(tfidf_vectorizer.vocabulary_.keys())[58:70])"
   ]
  },
  {
   "cell_type": "markdown",
   "metadata": {
    "execution": {
     "iopub.execute_input": "2021-04-10T21:54:53.405206Z",
     "iopub.status.busy": "2021-04-10T21:54:53.404483Z",
     "iopub.status.idle": "2021-04-10T21:54:53.413166Z",
     "shell.execute_reply": "2021-04-10T21:54:53.410680Z",
     "shell.execute_reply.started": "2021-04-10T21:54:53.405126Z"
    }
   },
   "source": [
    "### 3 Top words"
   ]
  },
  {
   "cell_type": "code",
   "execution_count": 34,
   "metadata": {
    "execution": {
     "iopub.execute_input": "2021-04-13T19:42:27.208972Z",
     "iopub.status.busy": "2021-04-13T19:42:27.208516Z",
     "iopub.status.idle": "2021-04-13T19:42:27.217351Z",
     "shell.execute_reply": "2021-04-13T19:42:27.216392Z",
     "shell.execute_reply.started": "2021-04-13T19:42:27.208920Z"
    }
   },
   "outputs": [],
   "source": [
    "# https://medium.com/@cristhianboujon/how-to-list-the-most-common-words-from-text-corpus-using-scikit-learn-dad4d0cab41d\n",
    "def get_top_n_words(corpus, n=None):\n",
    "    vec = CountVectorizer().fit(corpus)\n",
    "    bag_of_words = vec.transform(corpus)\n",
    "    sum_words = bag_of_words.sum(axis=0) \n",
    "    words_freq = [(word, sum_words[0, idx]) for word, idx in vec.vocabulary_.items()]\n",
    "    words_freq = sorted(words_freq, key = lambda x: x[1], reverse=True)\n",
    "    return words_freq[:n]"
   ]
  },
  {
   "cell_type": "code",
   "execution_count": 35,
   "metadata": {
    "execution": {
     "iopub.execute_input": "2021-04-13T19:42:27.642733Z",
     "iopub.status.busy": "2021-04-13T19:42:27.641972Z",
     "iopub.status.idle": "2021-04-13T19:42:27.919694Z",
     "shell.execute_reply": "2021-04-13T19:42:27.919013Z",
     "shell.execute_reply.started": "2021-04-13T19:42:27.642646Z"
    }
   },
   "outputs": [],
   "source": [
    "common_words = get_top_n_words(data['lemmatized'], 50)\n",
    "cmw = {word: freq for word, freq in common_words}"
   ]
  },
  {
   "cell_type": "code",
   "execution_count": 36,
   "metadata": {
    "execution": {
     "iopub.execute_input": "2021-04-13T19:42:28.542966Z",
     "iopub.status.busy": "2021-04-13T19:42:28.542189Z",
     "iopub.status.idle": "2021-04-13T19:42:28.566492Z",
     "shell.execute_reply": "2021-04-13T19:42:28.565681Z",
     "shell.execute_reply.started": "2021-04-13T19:42:28.542882Z"
    },
    "scrolled": true
   },
   "outputs": [
    {
     "data": {
      "text/html": [
       "<div>\n",
       "<style scoped>\n",
       "    .dataframe tbody tr th:only-of-type {\n",
       "        vertical-align: middle;\n",
       "    }\n",
       "\n",
       "    .dataframe tbody tr th {\n",
       "        vertical-align: top;\n",
       "    }\n",
       "\n",
       "    .dataframe thead th {\n",
       "        text-align: right;\n",
       "    }\n",
       "</style>\n",
       "<table border=\"1\" class=\"dataframe\">\n",
       "  <thead>\n",
       "    <tr style=\"text-align: right;\">\n",
       "      <th></th>\n",
       "      <th>words</th>\n",
       "      <th>freq</th>\n",
       "    </tr>\n",
       "  </thead>\n",
       "  <tbody>\n",
       "    <tr>\n",
       "      <th>0</th>\n",
       "      <td>white</td>\n",
       "      <td>1477</td>\n",
       "    </tr>\n",
       "    <tr>\n",
       "      <th>1</th>\n",
       "      <td>like</td>\n",
       "      <td>796</td>\n",
       "    </tr>\n",
       "    <tr>\n",
       "      <th>2</th>\n",
       "      <td>people</td>\n",
       "      <td>626</td>\n",
       "    </tr>\n",
       "    <tr>\n",
       "      <th>3</th>\n",
       "      <td>black</td>\n",
       "      <td>612</td>\n",
       "    </tr>\n",
       "    <tr>\n",
       "      <th>4</th>\n",
       "      <td>one</td>\n",
       "      <td>561</td>\n",
       "    </tr>\n",
       "    <tr>\n",
       "      <th>5</th>\n",
       "      <td>get</td>\n",
       "      <td>520</td>\n",
       "    </tr>\n",
       "    <tr>\n",
       "      <th>6</th>\n",
       "      <td>would</td>\n",
       "      <td>515</td>\n",
       "    </tr>\n",
       "    <tr>\n",
       "      <th>7</th>\n",
       "      <td>youtube</td>\n",
       "      <td>469</td>\n",
       "    </tr>\n",
       "    <tr>\n",
       "      <th>8</th>\n",
       "      <td>time</td>\n",
       "      <td>395</td>\n",
       "    </tr>\n",
       "    <tr>\n",
       "      <th>9</th>\n",
       "      <td>year</td>\n",
       "      <td>387</td>\n",
       "    </tr>\n",
       "    <tr>\n",
       "      <th>10</th>\n",
       "      <td>see</td>\n",
       "      <td>374</td>\n",
       "    </tr>\n",
       "    <tr>\n",
       "      <th>11</th>\n",
       "      <td>good</td>\n",
       "      <td>373</td>\n",
       "    </tr>\n",
       "    <tr>\n",
       "      <th>12</th>\n",
       "      <td>school</td>\n",
       "      <td>356</td>\n",
       "    </tr>\n",
       "    <tr>\n",
       "      <th>13</th>\n",
       "      <td>go</td>\n",
       "      <td>353</td>\n",
       "    </tr>\n",
       "    <tr>\n",
       "      <th>14</th>\n",
       "      <td>know</td>\n",
       "      <td>349</td>\n",
       "    </tr>\n",
       "    <tr>\n",
       "      <th>15</th>\n",
       "      <td>say</td>\n",
       "      <td>309</td>\n",
       "    </tr>\n",
       "    <tr>\n",
       "      <th>16</th>\n",
       "      <td>think</td>\n",
       "      <td>298</td>\n",
       "    </tr>\n",
       "    <tr>\n",
       "      <th>17</th>\n",
       "      <td>day</td>\n",
       "      <td>298</td>\n",
       "    </tr>\n",
       "    <tr>\n",
       "      <th>18</th>\n",
       "      <td>want</td>\n",
       "      <td>292</td>\n",
       "    </tr>\n",
       "    <tr>\n",
       "      <th>19</th>\n",
       "      <td>kid</td>\n",
       "      <td>271</td>\n",
       "    </tr>\n",
       "  </tbody>\n",
       "</table>\n",
       "</div>"
      ],
      "text/plain": [
       "      words  freq\n",
       "0     white  1477\n",
       "1      like   796\n",
       "2    people   626\n",
       "3     black   612\n",
       "4       one   561\n",
       "5       get   520\n",
       "6     would   515\n",
       "7   youtube   469\n",
       "8      time   395\n",
       "9      year   387\n",
       "10      see   374\n",
       "11     good   373\n",
       "12   school   356\n",
       "13       go   353\n",
       "14     know   349\n",
       "15      say   309\n",
       "16    think   298\n",
       "17      day   298\n",
       "18     want   292\n",
       "19      kid   271"
      ]
     },
     "execution_count": 36,
     "metadata": {},
     "output_type": "execute_result"
    }
   ],
   "source": [
    "mcw = pd.DataFrame.from_dict(cmw, orient='index').reset_index()\n",
    "mcw.columns = [\"words\", \"freq\"]\n",
    "mcw[:20] # Most common words between lemmatized words and frequencies"
   ]
  },
  {
   "cell_type": "code",
   "execution_count": 37,
   "metadata": {
    "execution": {
     "iopub.execute_input": "2021-04-13T19:42:29.334035Z",
     "iopub.status.busy": "2021-04-13T19:42:29.333146Z",
     "iopub.status.idle": "2021-04-13T19:42:29.841426Z",
     "shell.execute_reply": "2021-04-13T19:42:29.840867Z",
     "shell.execute_reply.started": "2021-04-13T19:42:29.333934Z"
    }
   },
   "outputs": [
    {
     "data": {
      "image/png": "[encoded data removed]",
      "text/plain": [
       "<Figure size 720x360 with 1 Axes>"
      ]
     },
     "metadata": {
      "needs_background": "light"
     },
     "output_type": "display_data"
    }
   ],
   "source": [
    "mcw.plot(x=\"words\", y=\"freq\", kind=\"bar\", figsize=(10,5))\n",
    "plt.show()"
   ]
  },
  {
   "cell_type": "markdown",
   "metadata": {},
   "source": [
    "#### 3.1 Part of speech (POS)"
   ]
  },
  {
   "cell_type": "code",
   "execution_count": 38,
   "metadata": {},
   "outputs": [],
   "source": [
    "from textblob import TextBlob\n",
    "def pos_tag(text):\n",
    "    try:\n",
    "        return TextBlob(text).tags\n",
    "    except:\n",
    "        return None"
   ]
  },
  {
   "cell_type": "code",
   "execution_count": 39,
   "metadata": {},
   "outputs": [
    {
     "name": "stdout",
     "output_type": "stream",
     "text": [
      "[('click', 'NN'), ('download', 'NN'), ('megabytes', 'VBZ'), ('green', 'JJ'), ('banner', 'NN'), ('link', 'NN')]\n",
      "[('click', 'NN'), ('download', 'NN'), ('megabyt', 'NN'), ('green', 'JJ'), ('banner', 'NN'), ('link', 'NN')]\n"
     ]
    }
   ],
   "source": [
    "print(TextBlob(data.iloc[4][\"text_clean\"]).tags)\n",
    "print(TextBlob(data.iloc[4][\"stemmed\"]).tags)"
   ]
  },
  {
   "cell_type": "code",
   "execution_count": 40,
   "metadata": {
    "execution": {
     "iopub.execute_input": "2021-04-13T19:42:52.339515Z",
     "iopub.status.busy": "2021-04-13T19:42:52.339165Z",
     "iopub.status.idle": "2021-04-13T19:42:53.240746Z",
     "shell.execute_reply": "2021-04-13T19:42:53.240096Z",
     "shell.execute_reply.started": "2021-04-13T19:42:52.339476Z"
    }
   },
   "outputs": [],
   "source": [
    "import spacy\n",
    "nlp = spacy.load(\"en_core_web_sm\")"
   ]
  },
  {
   "cell_type": "code",
   "execution_count": 41,
   "metadata": {
    "execution": {
     "iopub.execute_input": "2021-04-13T19:42:54.606664Z",
     "iopub.status.busy": "2021-04-13T19:42:54.605946Z",
     "iopub.status.idle": "2021-04-13T19:44:13.751490Z",
     "shell.execute_reply": "2021-04-13T19:44:13.750789Z",
     "shell.execute_reply.started": "2021-04-13T19:42:54.606582Z"
    }
   },
   "outputs": [
    {
     "name": "stderr",
     "output_type": "stream",
     "text": [
      "100%|██████████| 10926/10926 [01:25<00:00, 127.70it/s]\n"
     ]
    }
   ],
   "source": [
    "data['POS_spacy'] = data['lemmatized'].progress_apply(lambda x: [(token.text, token.pos_) for token in nlp(x)])"
   ]
  },
  {
   "cell_type": "code",
   "execution_count": 42,
   "metadata": {
    "execution": {
     "iopub.execute_input": "2021-04-13T19:46:04.797538Z",
     "iopub.status.busy": "2021-04-13T19:46:04.797163Z",
     "iopub.status.idle": "2021-04-13T19:46:11.552215Z",
     "shell.execute_reply": "2021-04-13T19:46:11.551164Z",
     "shell.execute_reply.started": "2021-04-13T19:46:04.797491Z"
    }
   },
   "outputs": [],
   "source": [
    "all_pos = data['POS_spacy'].sum()"
   ]
  },
  {
   "cell_type": "code",
   "execution_count": 43,
   "metadata": {
    "execution": {
     "iopub.execute_input": "2021-04-13T19:46:11.554280Z",
     "iopub.status.busy": "2021-04-13T19:46:11.553976Z",
     "iopub.status.idle": "2021-04-13T19:46:11.587179Z",
     "shell.execute_reply": "2021-04-13T19:46:11.586399Z",
     "shell.execute_reply.started": "2021-04-13T19:46:11.554244Z"
    }
   },
   "outputs": [],
   "source": [
    "all_adjs = [x[0] for x in all_pos if x[1] == \"ADJ\"]\n",
    "all_nouns = [x[0] for x in all_pos if x[1] == \"NOUN\"]"
   ]
  },
  {
   "cell_type": "code",
   "execution_count": 44,
   "metadata": {
    "execution": {
     "iopub.execute_input": "2021-04-13T19:46:11.588739Z",
     "iopub.status.busy": "2021-04-13T19:46:11.588527Z",
     "iopub.status.idle": "2021-04-13T19:46:11.621946Z",
     "shell.execute_reply": "2021-04-13T19:46:11.621161Z",
     "shell.execute_reply.started": "2021-04-13T19:46:11.588714Z"
    }
   },
   "outputs": [],
   "source": [
    "hate = data.loc[data[\"label\"] == 1]"
   ]
  },
  {
   "cell_type": "code",
   "execution_count": 45,
   "metadata": {
    "execution": {
     "iopub.execute_input": "2021-04-13T19:46:11.623286Z",
     "iopub.status.busy": "2021-04-13T19:46:11.623063Z",
     "iopub.status.idle": "2021-04-13T19:46:11.630382Z",
     "shell.execute_reply": "2021-04-13T19:46:11.627536Z",
     "shell.execute_reply.started": "2021-04-13T19:46:11.623258Z"
    }
   },
   "outputs": [
    {
     "data": {
      "text/plain": [
       "(1428, 10926)"
      ]
     },
     "execution_count": 45,
     "metadata": {},
     "output_type": "execute_result"
    }
   ],
   "source": [
    "hate.shape[0], data.shape[0] # 1428 over 10926 rows"
   ]
  },
  {
   "cell_type": "code",
   "execution_count": 46,
   "metadata": {
    "execution": {
     "iopub.execute_input": "2021-04-13T19:46:11.633465Z",
     "iopub.status.busy": "2021-04-13T19:46:11.632577Z",
     "iopub.status.idle": "2021-04-13T19:46:11.642394Z",
     "shell.execute_reply": "2021-04-13T19:46:11.641750Z",
     "shell.execute_reply.started": "2021-04-13T19:46:11.633387Z"
    }
   },
   "outputs": [
    {
     "data": {
      "text/plain": [
       "0    9498\n",
       "1    1428\n",
       "Name: label, dtype: int64"
      ]
     },
     "execution_count": 46,
     "metadata": {},
     "output_type": "execute_result"
    }
   ],
   "source": [
    "data.label.value_counts()"
   ]
  },
  {
   "cell_type": "code",
   "execution_count": 47,
   "metadata": {
    "execution": {
     "iopub.execute_input": "2021-04-13T19:46:11.643538Z",
     "iopub.status.busy": "2021-04-13T19:46:11.643316Z",
     "iopub.status.idle": "2021-04-13T19:46:11.725274Z",
     "shell.execute_reply": "2021-04-13T19:46:11.724354Z",
     "shell.execute_reply.started": "2021-04-13T19:46:11.643511Z"
    }
   },
   "outputs": [],
   "source": [
    "all_pos_hate = hate['POS_spacy'].sum()"
   ]
  },
  {
   "cell_type": "code",
   "execution_count": 48,
   "metadata": {
    "execution": {
     "iopub.execute_input": "2021-04-13T19:46:11.726879Z",
     "iopub.status.busy": "2021-04-13T19:46:11.726527Z",
     "iopub.status.idle": "2021-04-13T19:46:11.738477Z",
     "shell.execute_reply": "2021-04-13T19:46:11.737875Z",
     "shell.execute_reply.started": "2021-04-13T19:46:11.726839Z"
    }
   },
   "outputs": [],
   "source": [
    "all_adjs_hate = [x[0] for x in all_pos_hate if x[1] == \"ADJ\"]\n",
    "all_nouns_hate = [x[0] for x in all_pos_hate if x[1] == \"NOUN\"]"
   ]
  },
  {
   "cell_type": "code",
   "execution_count": 49,
   "metadata": {
    "execution": {
     "iopub.execute_input": "2021-04-13T19:46:17.103327Z",
     "iopub.status.busy": "2021-04-13T19:46:17.103040Z",
     "iopub.status.idle": "2021-04-13T19:46:17.124498Z",
     "shell.execute_reply": "2021-04-13T19:46:17.123907Z",
     "shell.execute_reply.started": "2021-04-13T19:46:17.103294Z"
    },
    "scrolled": true
   },
   "outputs": [],
   "source": [
    "adj_counter = {}\n",
    "for word in all_adjs:\n",
    "    if word in adj_counter:\n",
    "        adj_counter[word] += 1\n",
    "    else:\n",
    "        adj_counter[word] = 1\n",
    "\n",
    "top_20_adj = {k: v for k, v in sorted(adj_counter.items(), key=lambda item: item[1], reverse=True)[:20]}\n",
    "#pd.DataFrame.from_dict(top_20_adj, orient=\"index\", columns=[\"Freq\"]).reset_index()"
   ]
  },
  {
   "cell_type": "code",
   "execution_count": 50,
   "metadata": {
    "execution": {
     "iopub.execute_input": "2021-04-13T19:46:21.313836Z",
     "iopub.status.busy": "2021-04-13T19:46:21.313313Z",
     "iopub.status.idle": "2021-04-13T19:46:21.341592Z",
     "shell.execute_reply": "2021-04-13T19:46:21.340919Z",
     "shell.execute_reply.started": "2021-04-13T19:46:21.313775Z"
    },
    "scrolled": true
   },
   "outputs": [],
   "source": [
    "noun_counter = {}\n",
    "for word in all_nouns:\n",
    "    if word in noun_counter:\n",
    "        noun_counter[word] += 1\n",
    "    else:\n",
    "        noun_counter[word] = 1\n",
    "            \n",
    "top_20_noun = {k: v for k, v in sorted(noun_counter.items(), key=lambda item: item[1], reverse=True)[:20]}\n",
    "#pd.DataFrame.from_dict(top_20_noun, orient=\"index\", columns=[\"Freq\"]).reset_index()"
   ]
  },
  {
   "cell_type": "code",
   "execution_count": 51,
   "metadata": {
    "execution": {
     "iopub.execute_input": "2021-04-13T19:46:28.273267Z",
     "iopub.status.busy": "2021-04-13T19:46:28.272970Z",
     "iopub.status.idle": "2021-04-13T19:46:28.289280Z",
     "shell.execute_reply": "2021-04-13T19:46:28.288365Z",
     "shell.execute_reply.started": "2021-04-13T19:46:28.273235Z"
    },
    "scrolled": true
   },
   "outputs": [],
   "source": [
    "adj_counter1 = {}\n",
    "for word in all_adjs_hate:\n",
    "    if word in adj_counter1:\n",
    "        adj_counter1[word] += 1\n",
    "    else:\n",
    "        adj_counter1[word] = 1\n",
    "            \n",
    "top_20_adj1 = {k: v for k, v in sorted(adj_counter1.items(), key=lambda item: item[1], reverse=True)[:20]}\n",
    "#pd.DataFrame.from_dict(top_20_adj1, orient=\"index\", columns=[\"Freq\"]).reset_index()"
   ]
  },
  {
   "cell_type": "code",
   "execution_count": 52,
   "metadata": {
    "execution": {
     "iopub.execute_input": "2021-04-13T19:46:28.668734Z",
     "iopub.status.busy": "2021-04-13T19:46:28.668378Z",
     "iopub.status.idle": "2021-04-13T19:46:28.690872Z",
     "shell.execute_reply": "2021-04-13T19:46:28.687351Z",
     "shell.execute_reply.started": "2021-04-13T19:46:28.668695Z"
    },
    "scrolled": true
   },
   "outputs": [],
   "source": [
    "noun_counter1 = {}\n",
    "for word in all_nouns_hate:\n",
    "    if word in noun_counter1:\n",
    "        noun_counter1[word] += 1\n",
    "    else:\n",
    "        noun_counter1[word] = 1\n",
    "            \n",
    "top_20_noun1 = {k: v for k, v in sorted(noun_counter1.items(), key=lambda item: item[1], reverse=True)[:20]}\n",
    "#pd.DataFrame.from_dict(top_20_noun1, orient=\"index\", columns=[\"Freq\"]).reset_index()"
   ]
  },
  {
   "cell_type": "code",
   "execution_count": 53,
   "metadata": {},
   "outputs": [
    {
     "data": {
      "image/png": "[encoded data removed]",
      "text/plain": [
       "<Figure size 432x288 with 1 Axes>"
      ]
     },
     "metadata": {
      "needs_background": "light"
     },
     "output_type": "display_data"
    }
   ],
   "source": [
    "from wordcloud import WordCloud\n",
    "wc = WordCloud().generate_from_frequencies(top_20_noun1)\n",
    "plt.figure()\n",
    "plt.imshow(wc, interpolation=\"bilinear\")\n",
    "plt.axis(\"off\")\n",
    "plt.show()"
   ]
  },
  {
   "cell_type": "code",
   "execution_count": 54,
   "metadata": {},
   "outputs": [
    {
     "data": {
      "image/png": "[encoded data removed]",
      "text/plain": [
       "<Figure size 432x288 with 1 Axes>"
      ]
     },
     "metadata": {
      "needs_background": "light"
     },
     "output_type": "display_data"
    }
   ],
   "source": [
    "wc = WordCloud().generate_from_frequencies(top_20_adj1)\n",
    "plt.figure()\n",
    "plt.imshow(wc, interpolation=\"bilinear\")\n",
    "plt.axis(\"off\")\n",
    "plt.show()"
   ]
  },
  {
   "cell_type": "code",
   "execution_count": 55,
   "metadata": {
    "execution": {
     "iopub.execute_input": "2021-04-13T19:46:31.909283Z",
     "iopub.status.busy": "2021-04-13T19:46:31.908992Z",
     "iopub.status.idle": "2021-04-13T19:46:31.924599Z",
     "shell.execute_reply": "2021-04-13T19:46:31.923916Z",
     "shell.execute_reply.started": "2021-04-13T19:46:31.909250Z"
    }
   },
   "outputs": [
    {
     "data": {
      "text/html": [
       "<div>\n",
       "<style scoped>\n",
       "    .dataframe tbody tr th:only-of-type {\n",
       "        vertical-align: middle;\n",
       "    }\n",
       "\n",
       "    .dataframe tbody tr th {\n",
       "        vertical-align: top;\n",
       "    }\n",
       "\n",
       "    .dataframe thead th {\n",
       "        text-align: right;\n",
       "    }\n",
       "</style>\n",
       "<table border=\"1\" class=\"dataframe\">\n",
       "  <thead>\n",
       "    <tr style=\"text-align: right;\">\n",
       "      <th></th>\n",
       "      <th>Total</th>\n",
       "      <th>R_Freq_Total</th>\n",
       "      <th>Hate_Speech</th>\n",
       "      <th>R_Freq_Hate</th>\n",
       "    </tr>\n",
       "  </thead>\n",
       "  <tbody>\n",
       "    <tr>\n",
       "      <th>0</th>\n",
       "      <td>people</td>\n",
       "      <td>0.146</td>\n",
       "      <td>people</td>\n",
       "      <td>0.138</td>\n",
       "    </tr>\n",
       "    <tr>\n",
       "      <th>1</th>\n",
       "      <td>time</td>\n",
       "      <td>0.086</td>\n",
       "      <td>race</td>\n",
       "      <td>0.111</td>\n",
       "    </tr>\n",
       "    <tr>\n",
       "      <th>2</th>\n",
       "      <td>year</td>\n",
       "      <td>0.085</td>\n",
       "      <td>country</td>\n",
       "      <td>0.087</td>\n",
       "    </tr>\n",
       "    <tr>\n",
       "      <th>3</th>\n",
       "      <td>school</td>\n",
       "      <td>0.064</td>\n",
       "      <td>time</td>\n",
       "      <td>0.063</td>\n",
       "    </tr>\n",
       "    <tr>\n",
       "      <th>4</th>\n",
       "      <td>race</td>\n",
       "      <td>0.059</td>\n",
       "      <td>woman</td>\n",
       "      <td>0.058</td>\n",
       "    </tr>\n",
       "    <tr>\n",
       "      <th>5</th>\n",
       "      <td>day</td>\n",
       "      <td>0.054</td>\n",
       "      <td>thing</td>\n",
       "      <td>0.054</td>\n",
       "    </tr>\n",
       "    <tr>\n",
       "      <th>6</th>\n",
       "      <td>thing</td>\n",
       "      <td>0.049</td>\n",
       "      <td>child</td>\n",
       "      <td>0.051</td>\n",
       "    </tr>\n",
       "    <tr>\n",
       "      <th>7</th>\n",
       "      <td>country</td>\n",
       "      <td>0.048</td>\n",
       "      <td>school</td>\n",
       "      <td>0.051</td>\n",
       "    </tr>\n",
       "    <tr>\n",
       "      <th>8</th>\n",
       "      <td>video</td>\n",
       "      <td>0.044</td>\n",
       "      <td>way</td>\n",
       "      <td>0.043</td>\n",
       "    </tr>\n",
       "    <tr>\n",
       "      <th>9</th>\n",
       "      <td>child</td>\n",
       "      <td>0.044</td>\n",
       "      <td>ape</td>\n",
       "      <td>0.043</td>\n",
       "    </tr>\n",
       "    <tr>\n",
       "      <th>10</th>\n",
       "      <td>way</td>\n",
       "      <td>0.038</td>\n",
       "      <td>year</td>\n",
       "      <td>0.039</td>\n",
       "    </tr>\n",
       "    <tr>\n",
       "      <th>11</th>\n",
       "      <td>woman</td>\n",
       "      <td>0.035</td>\n",
       "      <td>day</td>\n",
       "      <td>0.037</td>\n",
       "    </tr>\n",
       "    <tr>\n",
       "      <th>12</th>\n",
       "      <td>message</td>\n",
       "      <td>0.035</td>\n",
       "      <td>crime</td>\n",
       "      <td>0.032</td>\n",
       "    </tr>\n",
       "    <tr>\n",
       "      <th>13</th>\n",
       "      <td>kid</td>\n",
       "      <td>0.034</td>\n",
       "      <td>kid</td>\n",
       "      <td>0.030</td>\n",
       "    </tr>\n",
       "    <tr>\n",
       "      <th>14</th>\n",
       "      <td>thread</td>\n",
       "      <td>0.032</td>\n",
       "      <td>place</td>\n",
       "      <td>0.030</td>\n",
       "    </tr>\n",
       "    <tr>\n",
       "      <th>15</th>\n",
       "      <td>friend</td>\n",
       "      <td>0.032</td>\n",
       "      <td>world</td>\n",
       "      <td>0.029</td>\n",
       "    </tr>\n",
       "    <tr>\n",
       "      <th>16</th>\n",
       "      <td>place</td>\n",
       "      <td>0.030</td>\n",
       "      <td>girl</td>\n",
       "      <td>0.029</td>\n",
       "    </tr>\n",
       "    <tr>\n",
       "      <th>17</th>\n",
       "      <td>girl</td>\n",
       "      <td>0.028</td>\n",
       "      <td>mud</td>\n",
       "      <td>0.026</td>\n",
       "    </tr>\n",
       "    <tr>\n",
       "      <th>18</th>\n",
       "      <td>week</td>\n",
       "      <td>0.028</td>\n",
       "      <td>job</td>\n",
       "      <td>0.024</td>\n",
       "    </tr>\n",
       "    <tr>\n",
       "      <th>19</th>\n",
       "      <td>area</td>\n",
       "      <td>0.028</td>\n",
       "      <td>life</td>\n",
       "      <td>0.024</td>\n",
       "    </tr>\n",
       "  </tbody>\n",
       "</table>\n",
       "</div>"
      ],
      "text/plain": [
       "      Total  R_Freq_Total Hate_Speech  R_Freq_Hate\n",
       "0    people         0.146      people        0.138\n",
       "1      time         0.086        race        0.111\n",
       "2      year         0.085     country        0.087\n",
       "3    school         0.064        time        0.063\n",
       "4      race         0.059       woman        0.058\n",
       "5       day         0.054       thing        0.054\n",
       "6     thing         0.049       child        0.051\n",
       "7   country         0.048      school        0.051\n",
       "8     video         0.044         way        0.043\n",
       "9     child         0.044         ape        0.043\n",
       "10      way         0.038        year        0.039\n",
       "11    woman         0.035         day        0.037\n",
       "12  message         0.035       crime        0.032\n",
       "13      kid         0.034         kid        0.030\n",
       "14   thread         0.032       place        0.030\n",
       "15   friend         0.032       world        0.029\n",
       "16    place         0.030        girl        0.029\n",
       "17     girl         0.028         mud        0.026\n",
       "18     week         0.028         job        0.024\n",
       "19     area         0.028        life        0.024"
      ]
     },
     "execution_count": 55,
     "metadata": {},
     "output_type": "execute_result"
    }
   ],
   "source": [
    "top_noun = {\"Total\": top_20_noun.keys(), \"Freq_Total\": top_20_noun.values(), \"Hate_Speech\": top_20_noun1.keys(), \"Freq_Hate\": top_20_noun1.values()}\n",
    "top_noun = pd.DataFrame(top_noun)\n",
    "top_noun[\"R_Freq_Total\"] = top_noun.apply(lambda x: np.round(x.Freq_Total / top_noun.Freq_Total.sum(), 3), axis=1)\n",
    "top_noun[\"R_Freq_Hate\"] = top_noun.apply(lambda x: np.round(x.Freq_Hate / top_noun.Freq_Hate.sum(), 3), axis=1)\n",
    "top_noun = top_noun.reindex(columns=['Total', 'R_Freq_Total', 'Hate_Speech', 'R_Freq_Hate'])\n",
    "top_noun"
   ]
  },
  {
   "cell_type": "code",
   "execution_count": 56,
   "metadata": {
    "execution": {
     "iopub.execute_input": "2021-04-13T19:46:34.765335Z",
     "iopub.status.busy": "2021-04-13T19:46:34.764991Z",
     "iopub.status.idle": "2021-04-13T19:46:34.769486Z",
     "shell.execute_reply": "2021-04-13T19:46:34.768825Z",
     "shell.execute_reply.started": "2021-04-13T19:46:34.765297Z"
    }
   },
   "outputs": [],
   "source": [
    "common_nouns = list(set(top_noun[\"Hate_Speech\"].values).union(set(top_noun[\"Total\"].values)))"
   ]
  },
  {
   "cell_type": "code",
   "execution_count": 57,
   "metadata": {
    "execution": {
     "iopub.execute_input": "2021-04-13T19:46:35.110203Z",
     "iopub.status.busy": "2021-04-13T19:46:35.109915Z",
     "iopub.status.idle": "2021-04-13T19:46:35.114804Z",
     "shell.execute_reply": "2021-04-13T19:46:35.113614Z",
     "shell.execute_reply.started": "2021-04-13T19:46:35.110171Z"
    }
   },
   "outputs": [],
   "source": [
    "freq_common_tot = [noun_counter[x] for x in common_nouns]\n",
    "freq_common_hate = [noun_counter1[x] for x in common_nouns]"
   ]
  },
  {
   "cell_type": "code",
   "execution_count": 58,
   "metadata": {
    "execution": {
     "iopub.execute_input": "2021-04-13T19:46:35.348657Z",
     "iopub.status.busy": "2021-04-13T19:46:35.348406Z",
     "iopub.status.idle": "2021-04-13T19:46:35.353359Z",
     "shell.execute_reply": "2021-04-13T19:46:35.352475Z",
     "shell.execute_reply.started": "2021-04-13T19:46:35.348631Z"
    }
   },
   "outputs": [],
   "source": [
    "common_noun_df = pd.DataFrame({\"Nouns\" : common_nouns, \"Freq_tot\": freq_common_tot, \"Freq_Hate_Speech\": freq_common_hate })"
   ]
  },
  {
   "cell_type": "code",
   "execution_count": 59,
   "metadata": {
    "execution": {
     "iopub.execute_input": "2021-04-13T19:46:36.238385Z",
     "iopub.status.busy": "2021-04-13T19:46:36.237674Z",
     "iopub.status.idle": "2021-04-13T19:46:36.249855Z",
     "shell.execute_reply": "2021-04-13T19:46:36.247511Z",
     "shell.execute_reply.started": "2021-04-13T19:46:36.238304Z"
    }
   },
   "outputs": [],
   "source": [
    "common_noun_df.sort_values(by=[\"Freq_Hate_Speech\"], ascending= False, inplace=True)"
   ]
  },
  {
   "cell_type": "code",
   "execution_count": 60,
   "metadata": {
    "execution": {
     "iopub.execute_input": "2021-04-13T19:46:36.542882Z",
     "iopub.status.busy": "2021-04-13T19:46:36.542595Z",
     "iopub.status.idle": "2021-04-13T19:46:36.898645Z",
     "shell.execute_reply": "2021-04-13T19:46:36.897578Z",
     "shell.execute_reply.started": "2021-04-13T19:46:36.542850Z"
    }
   },
   "outputs": [
    {
     "data": {
      "image/png": "[encoded data removed]",
      "text/plain": [
       "<Figure size 720x576 with 1 Axes>"
      ]
     },
     "metadata": {
      "needs_background": "light"
     },
     "output_type": "display_data"
    }
   ],
   "source": [
    "common_noun_df.plot('Nouns', y=['Freq_tot', 'Freq_Hate_Speech'], kind='bar', figsize=(10,8))\n",
    "plt.show()"
   ]
  },
  {
   "cell_type": "code",
   "execution_count": 61,
   "metadata": {
    "execution": {
     "iopub.execute_input": "2021-04-13T19:47:24.841579Z",
     "iopub.status.busy": "2021-04-13T19:47:24.841292Z",
     "iopub.status.idle": "2021-04-13T19:47:24.856848Z",
     "shell.execute_reply": "2021-04-13T19:47:24.856151Z",
     "shell.execute_reply.started": "2021-04-13T19:47:24.841547Z"
    }
   },
   "outputs": [
    {
     "data": {
      "text/html": [
       "<div>\n",
       "<style scoped>\n",
       "    .dataframe tbody tr th:only-of-type {\n",
       "        vertical-align: middle;\n",
       "    }\n",
       "\n",
       "    .dataframe tbody tr th {\n",
       "        vertical-align: top;\n",
       "    }\n",
       "\n",
       "    .dataframe thead th {\n",
       "        text-align: right;\n",
       "    }\n",
       "</style>\n",
       "<table border=\"1\" class=\"dataframe\">\n",
       "  <thead>\n",
       "    <tr style=\"text-align: right;\">\n",
       "      <th></th>\n",
       "      <th>Total</th>\n",
       "      <th>R_Freq_Total</th>\n",
       "      <th>Hate_Speech</th>\n",
       "      <th>R_Freq_Hate</th>\n",
       "    </tr>\n",
       "  </thead>\n",
       "  <tbody>\n",
       "    <tr>\n",
       "      <th>0</th>\n",
       "      <td>white</td>\n",
       "      <td>0.244</td>\n",
       "      <td>white</td>\n",
       "      <td>0.290</td>\n",
       "    </tr>\n",
       "    <tr>\n",
       "      <th>1</th>\n",
       "      <td>black</td>\n",
       "      <td>0.128</td>\n",
       "      <td>black</td>\n",
       "      <td>0.211</td>\n",
       "    </tr>\n",
       "    <tr>\n",
       "      <th>2</th>\n",
       "      <td>good</td>\n",
       "      <td>0.096</td>\n",
       "      <td>good</td>\n",
       "      <td>0.051</td>\n",
       "    </tr>\n",
       "    <tr>\n",
       "      <th>3</th>\n",
       "      <td>many</td>\n",
       "      <td>0.064</td>\n",
       "      <td>many</td>\n",
       "      <td>0.046</td>\n",
       "    </tr>\n",
       "    <tr>\n",
       "      <th>4</th>\n",
       "      <td>new</td>\n",
       "      <td>0.052</td>\n",
       "      <td>last</td>\n",
       "      <td>0.040</td>\n",
       "    </tr>\n",
       "    <tr>\n",
       "      <th>5</th>\n",
       "      <td>old</td>\n",
       "      <td>0.051</td>\n",
       "      <td>negro</td>\n",
       "      <td>0.038</td>\n",
       "    </tr>\n",
       "    <tr>\n",
       "      <th>6</th>\n",
       "      <td>last</td>\n",
       "      <td>0.045</td>\n",
       "      <td>little</td>\n",
       "      <td>0.033</td>\n",
       "    </tr>\n",
       "    <tr>\n",
       "      <th>7</th>\n",
       "      <td>great</td>\n",
       "      <td>0.042</td>\n",
       "      <td>liberal</td>\n",
       "      <td>0.029</td>\n",
       "    </tr>\n",
       "    <tr>\n",
       "      <th>8</th>\n",
       "      <td>little</td>\n",
       "      <td>0.033</td>\n",
       "      <td>non</td>\n",
       "      <td>0.028</td>\n",
       "    </tr>\n",
       "    <tr>\n",
       "      <th>9</th>\n",
       "      <td>much</td>\n",
       "      <td>0.032</td>\n",
       "      <td>much</td>\n",
       "      <td>0.027</td>\n",
       "    </tr>\n",
       "    <tr>\n",
       "      <th>10</th>\n",
       "      <td>bad</td>\n",
       "      <td>0.026</td>\n",
       "      <td>great</td>\n",
       "      <td>0.023</td>\n",
       "    </tr>\n",
       "    <tr>\n",
       "      <th>11</th>\n",
       "      <td>personal</td>\n",
       "      <td>0.025</td>\n",
       "      <td>jewish</td>\n",
       "      <td>0.023</td>\n",
       "    </tr>\n",
       "    <tr>\n",
       "      <th>12</th>\n",
       "      <td>free</td>\n",
       "      <td>0.024</td>\n",
       "      <td>new</td>\n",
       "      <td>0.022</td>\n",
       "    </tr>\n",
       "    <tr>\n",
       "      <th>13</th>\n",
       "      <td>right</td>\n",
       "      <td>0.023</td>\n",
       "      <td>bad</td>\n",
       "      <td>0.022</td>\n",
       "    </tr>\n",
       "    <tr>\n",
       "      <th>14</th>\n",
       "      <td>next</td>\n",
       "      <td>0.022</td>\n",
       "      <td>old</td>\n",
       "      <td>0.022</td>\n",
       "    </tr>\n",
       "    <tr>\n",
       "      <th>15</th>\n",
       "      <td>big</td>\n",
       "      <td>0.020</td>\n",
       "      <td>poor</td>\n",
       "      <td>0.020</td>\n",
       "    </tr>\n",
       "    <tr>\n",
       "      <th>16</th>\n",
       "      <td>different</td>\n",
       "      <td>0.019</td>\n",
       "      <td>asian</td>\n",
       "      <td>0.019</td>\n",
       "    </tr>\n",
       "    <tr>\n",
       "      <th>17</th>\n",
       "      <td>nationalist</td>\n",
       "      <td>0.019</td>\n",
       "      <td>dumb</td>\n",
       "      <td>0.019</td>\n",
       "    </tr>\n",
       "    <tr>\n",
       "      <th>18</th>\n",
       "      <td>first</td>\n",
       "      <td>0.019</td>\n",
       "      <td>real</td>\n",
       "      <td>0.018</td>\n",
       "    </tr>\n",
       "    <tr>\n",
       "      <th>19</th>\n",
       "      <td>public</td>\n",
       "      <td>0.018</td>\n",
       "      <td>wrong</td>\n",
       "      <td>0.018</td>\n",
       "    </tr>\n",
       "  </tbody>\n",
       "</table>\n",
       "</div>"
      ],
      "text/plain": [
       "          Total  R_Freq_Total Hate_Speech  R_Freq_Hate\n",
       "0         white         0.244       white        0.290\n",
       "1         black         0.128       black        0.211\n",
       "2          good         0.096        good        0.051\n",
       "3          many         0.064        many        0.046\n",
       "4           new         0.052        last        0.040\n",
       "5           old         0.051       negro        0.038\n",
       "6          last         0.045      little        0.033\n",
       "7         great         0.042     liberal        0.029\n",
       "8        little         0.033         non        0.028\n",
       "9          much         0.032        much        0.027\n",
       "10          bad         0.026       great        0.023\n",
       "11     personal         0.025      jewish        0.023\n",
       "12         free         0.024         new        0.022\n",
       "13        right         0.023         bad        0.022\n",
       "14         next         0.022         old        0.022\n",
       "15          big         0.020        poor        0.020\n",
       "16    different         0.019       asian        0.019\n",
       "17  nationalist         0.019        dumb        0.019\n",
       "18        first         0.019        real        0.018\n",
       "19       public         0.018       wrong        0.018"
      ]
     },
     "execution_count": 61,
     "metadata": {},
     "output_type": "execute_result"
    }
   ],
   "source": [
    "top_adj = {\"Total\": top_20_adj.keys(), \"Freq_Total\": top_20_adj.values(), \"Hate_Speech\": top_20_adj1.keys(), \"Freq_Hate\": top_20_adj1.values()}\n",
    "top_adj = pd.DataFrame(top_adj)\n",
    "top_adj[\"R_Freq_Total\"] = top_adj.apply(lambda x: np.round(x.Freq_Total / top_adj.Freq_Total.sum(), 3), axis=1)\n",
    "top_adj[\"R_Freq_Hate\"] = top_adj.apply(lambda x: np.round(x.Freq_Hate / top_adj.Freq_Hate.sum(), 3), axis=1)\n",
    "top_adj = top_adj.reindex(columns=['Total', 'R_Freq_Total', 'Hate_Speech', 'R_Freq_Hate'])\n",
    "top_adj"
   ]
  },
  {
   "cell_type": "code",
   "execution_count": 62,
   "metadata": {
    "execution": {
     "iopub.execute_input": "2021-04-13T19:47:30.779056Z",
     "iopub.status.busy": "2021-04-13T19:47:30.778772Z",
     "iopub.status.idle": "2021-04-13T19:47:30.782784Z",
     "shell.execute_reply": "2021-04-13T19:47:30.781996Z",
     "shell.execute_reply.started": "2021-04-13T19:47:30.779024Z"
    }
   },
   "outputs": [],
   "source": [
    "common_adj = list(set(top_adj[\"Hate_Speech\"].values).union(set(top_adj[\"Total\"].values)))"
   ]
  },
  {
   "cell_type": "code",
   "execution_count": 63,
   "metadata": {
    "execution": {
     "iopub.execute_input": "2021-04-13T19:47:31.820147Z",
     "iopub.status.busy": "2021-04-13T19:47:31.818830Z",
     "iopub.status.idle": "2021-04-13T19:47:31.829277Z",
     "shell.execute_reply": "2021-04-13T19:47:31.827627Z",
     "shell.execute_reply.started": "2021-04-13T19:47:31.820034Z"
    }
   },
   "outputs": [],
   "source": [
    "freq_common_tot_adj = [adj_counter[x] for x in common_adj]\n",
    "freq_common_hate_adj = [adj_counter1[x] for x in common_adj]"
   ]
  },
  {
   "cell_type": "code",
   "execution_count": 64,
   "metadata": {
    "execution": {
     "iopub.execute_input": "2021-04-13T19:47:32.111424Z",
     "iopub.status.busy": "2021-04-13T19:47:32.110719Z",
     "iopub.status.idle": "2021-04-13T19:47:32.122748Z",
     "shell.execute_reply": "2021-04-13T19:47:32.121479Z",
     "shell.execute_reply.started": "2021-04-13T19:47:32.111341Z"
    }
   },
   "outputs": [],
   "source": [
    "common_adj_df = pd.DataFrame({\"Adj\" : common_adj, \"Freq_tot\": freq_common_tot_adj, \"Freq_Hate_Speech\": freq_common_hate_adj })"
   ]
  },
  {
   "cell_type": "code",
   "execution_count": 65,
   "metadata": {
    "execution": {
     "iopub.execute_input": "2021-04-13T19:47:32.347323Z",
     "iopub.status.busy": "2021-04-13T19:47:32.347118Z",
     "iopub.status.idle": "2021-04-13T19:47:32.352107Z",
     "shell.execute_reply": "2021-04-13T19:47:32.350228Z",
     "shell.execute_reply.started": "2021-04-13T19:47:32.347301Z"
    }
   },
   "outputs": [],
   "source": [
    "common_adj_df.sort_values(by=[\"Freq_Hate_Speech\"], ascending= False, inplace=True)"
   ]
  },
  {
   "cell_type": "code",
   "execution_count": 66,
   "metadata": {
    "execution": {
     "iopub.execute_input": "2021-04-13T19:47:33.577691Z",
     "iopub.status.busy": "2021-04-13T19:47:33.576869Z",
     "iopub.status.idle": "2021-04-13T19:47:33.922826Z",
     "shell.execute_reply": "2021-04-13T19:47:33.922203Z",
     "shell.execute_reply.started": "2021-04-13T19:47:33.577610Z"
    }
   },
   "outputs": [
    {
     "data": {
      "image/png": "[encoded data removed]",
      "text/plain": [
       "<Figure size 720x576 with 1 Axes>"
      ]
     },
     "metadata": {
      "needs_background": "light"
     },
     "output_type": "display_data"
    }
   ],
   "source": [
    "common_adj_df.plot(x='Adj', y=['Freq_tot', 'Freq_Hate_Speech'], kind='bar', figsize=(10,8))\n",
    "plt.show()"
   ]
  },
  {
   "cell_type": "code",
   "execution_count": 67,
   "metadata": {
    "execution": {
     "iopub.execute_input": "2021-04-13T19:51:19.325466Z",
     "iopub.status.busy": "2021-04-13T19:51:19.325091Z",
     "iopub.status.idle": "2021-04-13T19:51:19.362674Z",
     "shell.execute_reply": "2021-04-13T19:51:19.361643Z",
     "shell.execute_reply.started": "2021-04-13T19:51:19.325425Z"
    }
   },
   "outputs": [],
   "source": [
    "pos_counter = {}\n",
    "for x in all_pos:\n",
    "    if x[1] in pos_counter:\n",
    "        pos_counter[x[1]] += 1\n",
    "    else:\n",
    "        pos_counter[x[1]] = 1\n",
    "        \n",
    "top_pos = {k: v for k, v in sorted(pos_counter.items(), key=lambda item: item[1], reverse=True)}"
   ]
  },
  {
   "cell_type": "code",
   "execution_count": 68,
   "metadata": {
    "execution": {
     "iopub.execute_input": "2021-04-13T19:51:19.587304Z",
     "iopub.status.busy": "2021-04-13T19:51:19.586982Z",
     "iopub.status.idle": "2021-04-13T19:51:19.601857Z",
     "shell.execute_reply": "2021-04-13T19:51:19.601032Z",
     "shell.execute_reply.started": "2021-04-13T19:51:19.587267Z"
    },
    "scrolled": true
   },
   "outputs": [],
   "source": [
    "freq_pos = pd.DataFrame.from_dict(top_pos, orient=\"index\", columns=[\"Freq\"]).reset_index()\n",
    "freq_pos[\"R_Freq\"] = freq_pos.apply(lambda x: np.round(x.Freq / freq_pos.Freq.sum(), 2), axis=1)"
   ]
  },
  {
   "cell_type": "code",
   "execution_count": 69,
   "metadata": {
    "execution": {
     "iopub.execute_input": "2021-04-13T19:51:22.830012Z",
     "iopub.status.busy": "2021-04-13T19:51:22.829656Z",
     "iopub.status.idle": "2021-04-13T19:51:22.840234Z",
     "shell.execute_reply": "2021-04-13T19:51:22.839652Z",
     "shell.execute_reply.started": "2021-04-13T19:51:22.829970Z"
    },
    "scrolled": true
   },
   "outputs": [],
   "source": [
    "pos_counter_hate = {}\n",
    "for x in all_pos_hate:\n",
    "    if x[1] in pos_counter_hate:\n",
    "        pos_counter_hate[x[1]] += 1\n",
    "    else:\n",
    "        pos_counter_hate[x[1]] = 1\n",
    "        \n",
    "top_pos_hate = {k: v for k, v in sorted(pos_counter_hate.items(), key=lambda item: item[1], reverse=True)}"
   ]
  },
  {
   "cell_type": "code",
   "execution_count": 70,
   "metadata": {
    "execution": {
     "iopub.execute_input": "2021-04-13T19:51:23.233307Z",
     "iopub.status.busy": "2021-04-13T19:51:23.232972Z",
     "iopub.status.idle": "2021-04-13T19:51:23.244850Z",
     "shell.execute_reply": "2021-04-13T19:51:23.243922Z",
     "shell.execute_reply.started": "2021-04-13T19:51:23.233274Z"
    }
   },
   "outputs": [],
   "source": [
    "freq_pos_hate = pd.DataFrame.from_dict(top_pos_hate, orient=\"index\", columns=[\"Freq\"]).reset_index()\n",
    "freq_pos_hate[\"R_Freq\"] = freq_pos_hate.apply(lambda x: np.round(x.Freq / freq_pos_hate.Freq.sum(), 2), axis=1)"
   ]
  },
  {
   "cell_type": "code",
   "execution_count": 71,
   "metadata": {
    "execution": {
     "iopub.execute_input": "2021-04-13T19:51:32.665223Z",
     "iopub.status.busy": "2021-04-13T19:51:32.664981Z",
     "iopub.status.idle": "2021-04-13T19:51:32.677093Z",
     "shell.execute_reply": "2021-04-13T19:51:32.676431Z",
     "shell.execute_reply.started": "2021-04-13T19:51:32.665196Z"
    }
   },
   "outputs": [
    {
     "data": {
      "text/html": [
       "<div>\n",
       "<style scoped>\n",
       "    .dataframe tbody tr th:only-of-type {\n",
       "        vertical-align: middle;\n",
       "    }\n",
       "\n",
       "    .dataframe tbody tr th {\n",
       "        vertical-align: top;\n",
       "    }\n",
       "\n",
       "    .dataframe thead th {\n",
       "        text-align: right;\n",
       "    }\n",
       "</style>\n",
       "<table border=\"1\" class=\"dataframe\">\n",
       "  <thead>\n",
       "    <tr style=\"text-align: right;\">\n",
       "      <th></th>\n",
       "      <th>Total</th>\n",
       "      <th>R_Freq_Total</th>\n",
       "      <th>Hate_Speech</th>\n",
       "      <th>R_Freq_Hate</th>\n",
       "    </tr>\n",
       "  </thead>\n",
       "  <tbody>\n",
       "    <tr>\n",
       "      <th>0</th>\n",
       "      <td>NOUN</td>\n",
       "      <td>0.291</td>\n",
       "      <td>NOUN</td>\n",
       "      <td>0.284</td>\n",
       "    </tr>\n",
       "    <tr>\n",
       "      <th>1</th>\n",
       "      <td>PROPN</td>\n",
       "      <td>0.236</td>\n",
       "      <td>PROPN</td>\n",
       "      <td>0.228</td>\n",
       "    </tr>\n",
       "    <tr>\n",
       "      <th>2</th>\n",
       "      <td>VERB</td>\n",
       "      <td>0.205</td>\n",
       "      <td>VERB</td>\n",
       "      <td>0.211</td>\n",
       "    </tr>\n",
       "    <tr>\n",
       "      <th>3</th>\n",
       "      <td>ADJ</td>\n",
       "      <td>0.133</td>\n",
       "      <td>ADJ</td>\n",
       "      <td>0.149</td>\n",
       "    </tr>\n",
       "    <tr>\n",
       "      <th>4</th>\n",
       "      <td>ADV</td>\n",
       "      <td>0.059</td>\n",
       "      <td>ADV</td>\n",
       "      <td>0.060</td>\n",
       "    </tr>\n",
       "    <tr>\n",
       "      <th>5</th>\n",
       "      <td>PRON</td>\n",
       "      <td>0.013</td>\n",
       "      <td>SCONJ</td>\n",
       "      <td>0.012</td>\n",
       "    </tr>\n",
       "    <tr>\n",
       "      <th>6</th>\n",
       "      <td>INTJ</td>\n",
       "      <td>0.012</td>\n",
       "      <td>PRON</td>\n",
       "      <td>0.011</td>\n",
       "    </tr>\n",
       "  </tbody>\n",
       "</table>\n",
       "</div>"
      ],
      "text/plain": [
       "   Total  R_Freq_Total Hate_Speech  R_Freq_Hate\n",
       "0   NOUN         0.291        NOUN        0.284\n",
       "1  PROPN         0.236       PROPN        0.228\n",
       "2   VERB         0.205        VERB        0.211\n",
       "3    ADJ         0.133         ADJ        0.149\n",
       "4    ADV         0.059         ADV        0.060\n",
       "5   PRON         0.013       SCONJ        0.012\n",
       "6   INTJ         0.012        PRON        0.011"
      ]
     },
     "execution_count": 71,
     "metadata": {},
     "output_type": "execute_result"
    }
   ],
   "source": [
    "compared_pos = {\"Total\": top_pos.keys(), \"Freq_Total\": top_pos.values(), \"Hate_Speech\": top_pos_hate.keys(), \"Freq_Hate\": top_pos_hate.values()}\n",
    "compared_pos = pd.DataFrame(compared_pos)\n",
    "compared_pos[\"R_Freq_Total\"] = compared_pos.apply(lambda x: np.round(x.Freq_Total / compared_pos.Freq_Total.sum(), 3), axis=1)\n",
    "compared_pos[\"R_Freq_Hate\"] = compared_pos.apply(lambda x: np.round(x.Freq_Hate / compared_pos.Freq_Hate.sum(), 3), axis=1)\n",
    "compared_pos = compared_pos.reindex(columns=['Total', 'R_Freq_Total', 'Hate_Speech', 'R_Freq_Hate'])\n",
    "compared_pos[:7]"
   ]
  },
  {
   "cell_type": "code",
   "execution_count": null,
   "metadata": {},
   "outputs": [],
   "source": []
  },
  {
   "cell_type": "markdown",
   "metadata": {},
   "source": [
    "# 4. MODELS"
   ]
  },
  {
   "cell_type": "code",
   "execution_count": 72,
   "metadata": {},
   "outputs": [
    {
     "data": {
      "text/plain": [
       "(10926, 12731)"
      ]
     },
     "execution_count": 72,
     "metadata": {},
     "output_type": "execute_result"
    }
   ],
   "source": [
    "tfidf_vectorizer = TfidfVectorizer()\n",
    "X_class = tfidf_vectorizer.fit_transform(data['lemmatized'])\n",
    "y_class = data[\"label\"]\n",
    "X_class.shape"
   ]
  },
  {
   "cell_type": "code",
   "execution_count": 73,
   "metadata": {},
   "outputs": [],
   "source": [
    "from sklearn.model_selection import train_test_split\n",
    "X_train, X_test, y_train, y_test = train_test_split(X_class, y_class, test_size=0.3, random_state=42, stratify=y_class)"
   ]
  },
  {
   "cell_type": "code",
   "execution_count": 110,
   "metadata": {},
   "outputs": [],
   "source": [
    "from sklearn.metrics import f1_score, accuracy_score, precision_score, recall_score, classification_report, confusion_matrix, plot_confusion_matrix, plot_precision_recall_curve, plot_roc_curve\n",
    "from sklearn.naive_bayes import MultinomialNB\n",
    "from sklearn import tree\n",
    "from sklearn.tree import DecisionTreeClassifier, DecisionTreeRegressor\n",
    "from sklearn.neighbors import KNeighborsClassifier\n",
    "from sklearn.svm import SVC\n",
    "import sklearn as sk\n",
    "from sklearn.neural_network import MLPClassifier\n",
    "from sklearn.linear_model import LogisticRegression\n",
    "from sklearn.ensemble import RandomForestClassifier\n",
    "from sklearn import svm\n",
    "random_state = np.random.RandomState(0)"
   ]
  },
  {
   "cell_type": "code",
   "execution_count": 75,
   "metadata": {},
   "outputs": [
    {
     "name": "stdout",
     "output_type": "stream",
     "text": [
      "\n",
      "Multinomial Naive Bayes - Original dataset\n",
      "\n",
      "              precision    recall  f1-score   support\n",
      "\n",
      "           0       0.89      0.95      0.92      2850\n",
      "           1       0.41      0.25      0.31       428\n",
      "\n",
      "    accuracy                           0.85      3278\n",
      "   macro avg       0.65      0.60      0.61      3278\n",
      "weighted avg       0.83      0.85      0.84      3278\n",
      "\n",
      "0.8544844417327638\n"
     ]
    },
    {
     "data": {
      "image/png": "[encoded data removed]",
      "text/plain": [
       "<Figure size 432x288 with 2 Axes>"
      ]
     },
     "metadata": {
      "needs_background": "light"
     },
     "output_type": "display_data"
    }
   ],
   "source": [
    "# Multinomial Naive Bayes\n",
    "mnb = MultinomialNB(alpha=0.01)\n",
    "mnb.fit(X_train, y_train)\n",
    "y_mnb = mnb.predict(X_test)\n",
    "as_mnb = accuracy_score(y_test, y_mnb)\n",
    "f1s_mnb = f1_score(y_test, y_mnb, average= \"macro\")\n",
    "prec_mnb = precision_score(y_test, y_mnb)\n",
    "rec_mnb = recall_score(y_test, y_mnb, average='macro')\n",
    "print(\"\\nMultinomial Naive Bayes - Original dataset\\n\")\n",
    "plot_confusion_matrix(mnb, X_test,y_test, cmap= \"Blues\")\n",
    "#print(confusion_matrix(y_test,y_mnb))\n",
    "print(classification_report(y_test,y_mnb))\n",
    "print(accuracy_score(y_test, y_mnb))"
   ]
  },
  {
   "cell_type": "code",
   "execution_count": 76,
   "metadata": {},
   "outputs": [
    {
     "name": "stdout",
     "output_type": "stream",
     "text": [
      "[LibSVM]\n",
      "Support Vector Machine - Original dataset\n",
      "\n",
      "              precision    recall  f1-score   support\n",
      "\n",
      "           0       0.87      1.00      0.93      2850\n",
      "           1       0.88      0.05      0.09       428\n",
      "\n",
      "    accuracy                           0.87      3278\n",
      "   macro avg       0.87      0.52      0.51      3278\n",
      "weighted avg       0.87      0.87      0.82      3278\n",
      "\n",
      "0.8749237339841367\n"
     ]
    },
    {
     "data": {
      "image/png": "[encoded data removed]",
      "text/plain": [
       "<Figure size 432x288 with 2 Axes>"
      ]
     },
     "metadata": {
      "needs_background": "light"
     },
     "output_type": "display_data"
    }
   ],
   "source": [
    "# Support Vector Machine\n",
    "svc = SVC(verbose=10, random_state=42)\n",
    "svc.fit(X_train, y_train)\n",
    "y_svc = svc.predict(X_test)\n",
    "as_svc = accuracy_score(y_test, y_svc)\n",
    "f1s_svc = f1_score(y_test, y_svc, average=\"macro\")\n",
    "prec_svc = precision_score(y_test, y_svc)\n",
    "rec_svc = recall_score(y_test, y_svc, average='macro')\n",
    "print(\"\\nSupport Vector Machine - Original dataset\\n\")\n",
    "plot_confusion_matrix(svc, X_test,y_test, cmap=\"Blues\")\n",
    "#print(confusion_matrix(y_test,y_svc))\n",
    "print(classification_report(y_test,y_svc))\n",
    "print(accuracy_score(y_test, y_svc))"
   ]
  },
  {
   "cell_type": "code",
   "execution_count": 77,
   "metadata": {},
   "outputs": [
    {
     "name": "stdout",
     "output_type": "stream",
     "text": [
      "\n",
      "Logistic Regression - Original dataset\n",
      "\n",
      "              precision    recall  f1-score   support\n",
      "\n",
      "           0       0.88      1.00      0.93      2850\n",
      "           1       0.72      0.07      0.12       428\n",
      "\n",
      "    accuracy                           0.87      3278\n",
      "   macro avg       0.80      0.53      0.53      3278\n",
      "weighted avg       0.86      0.87      0.83      3278\n",
      "\n",
      "0.8746186699206834\n"
     ]
    },
    {
     "data": {
      "image/png": "[encoded data removed]",
      "text/plain": [
       "<Figure size 432x288 with 2 Axes>"
      ]
     },
     "metadata": {
      "needs_background": "light"
     },
     "output_type": "display_data"
    }
   ],
   "source": [
    "# Logistic\n",
    "log_fit = LogisticRegression(random_state=42).fit(X_train, y_train)\n",
    "y_log = log_fit.predict(X_test)\n",
    "as_log = accuracy_score(y_test, y_log)\n",
    "f1s_log = f1_score(y_test, y_log, average= \"macro\")\n",
    "prec_log = precision_score(y_test, y_log)\n",
    "rec_log = recall_score(y_test, y_log, average='macro')\n",
    "print(\"\\nLogistic Regression - Original dataset\\n\")\n",
    "plot_confusion_matrix(log_fit, X_test,y_test, cmap=\"Blues\")\n",
    "#print(confusion_matrix(y_test,y_log))\n",
    "print(classification_report(y_test,y_log))\n",
    "print(accuracy_score(y_test, y_log))"
   ]
  },
  {
   "cell_type": "code",
   "execution_count": 78,
   "metadata": {},
   "outputs": [
    {
     "name": "stdout",
     "output_type": "stream",
     "text": [
      "\n",
      "Random Forest - Original dataset\n",
      "\n",
      "              precision    recall  f1-score   support\n",
      "\n",
      "           0       0.88      0.99      0.93      2850\n",
      "           1       0.64      0.11      0.19       428\n",
      "\n",
      "    accuracy                           0.88      3278\n",
      "   macro avg       0.76      0.55      0.56      3278\n",
      "weighted avg       0.85      0.88      0.84      3278\n",
      "\n",
      "0.8758389261744967\n"
     ]
    },
    {
     "data": {
      "image/png": "[encoded data removed]",
      "text/plain": [
       "<Figure size 432x288 with 2 Axes>"
      ]
     },
     "metadata": {
      "needs_background": "light"
     },
     "output_type": "display_data"
    }
   ],
   "source": [
    "# Random Forest\n",
    "rf = RandomForestClassifier(n_estimators=10, random_state=42)\n",
    "rf.fit(X_train, y_train) \n",
    "y_rf = rf.predict(X_test)\n",
    "as_rf = accuracy_score(y_test, y_rf)\n",
    "f1s_rf = f1_score(y_test, y_rf, average= \"macro\")\n",
    "prec_rf = precision_score(y_test, y_rf)\n",
    "rec_rf = recall_score(y_test, y_rf, average='macro')\n",
    "print(\"\\nRandom Forest - Original dataset\\n\")\n",
    "plot_confusion_matrix(rf, X_test,y_test, cmap=\"Blues\")\n",
    "#print(confusion_matrix(y_test,y_rf))\n",
    "print(classification_report(y_test,y_rf))\n",
    "print(accuracy_score(y_test, y_rf))"
   ]
  },
  {
   "cell_type": "code",
   "execution_count": 79,
   "metadata": {},
   "outputs": [
    {
     "name": "stderr",
     "output_type": "stream",
     "text": [
      "C:\\Users\\marti\\anaconda3\\lib\\site-packages\\sklearn\\neural_network\\_multilayer_perceptron.py:614: ConvergenceWarning: Stochastic Optimizer: Maximum iterations (30) reached and the optimization hasn't converged yet.\n",
      "  warnings.warn(\n"
     ]
    },
    {
     "name": "stdout",
     "output_type": "stream",
     "text": [
      "\n",
      "Neural Networks - Original dataset\n",
      "\n",
      "              precision    recall  f1-score   support\n",
      "\n",
      "           0       0.90      0.95      0.92      2850\n",
      "           1       0.44      0.27      0.33       428\n",
      "\n",
      "    accuracy                           0.86      3278\n",
      "   macro avg       0.67      0.61      0.63      3278\n",
      "weighted avg       0.84      0.86      0.84      3278\n",
      "\n",
      "0.8593654667480171\n"
     ]
    },
    {
     "data": {
      "image/png": "[encoded data removed]",
      "text/plain": [
       "<Figure size 432x288 with 2 Axes>"
      ]
     },
     "metadata": {
      "needs_background": "light"
     },
     "output_type": "display_data"
    }
   ],
   "source": [
    "# Neural Networks\n",
    "NN = MLPClassifier(random_state=42, max_iter=30)\n",
    "NN.fit(X_train, y_train)\n",
    "y_NN = NN.predict(X_test)\n",
    "as_NN = accuracy_score(y_test, y_NN)\n",
    "f1s_NN = f1_score(y_test, y_NN, average= \"macro\")\n",
    "prec_NN = precision_score(y_test, y_NN)\n",
    "rec_NN = recall_score(y_test, y_NN, average='macro')\n",
    "print(\"\\nNeural Networks - Original dataset\\n\")\n",
    "plot_confusion_matrix(NN, X_test,y_test, cmap=\"Blues\")\n",
    "#print(confusion_matrix(y_test,y_NN))\n",
    "print(classification_report(y_test,y_NN))\n",
    "print(accuracy_score(y_test, y_NN))"
   ]
  },
  {
   "cell_type": "code",
   "execution_count": 80,
   "metadata": {},
   "outputs": [
    {
     "name": "stdout",
     "output_type": "stream",
     "text": [
      "\n",
      "Decision Tree - Original dataset\n",
      "\n",
      "              precision    recall  f1-score   support\n",
      "\n",
      "           0       0.91      0.92      0.91      2850\n",
      "           1       0.41      0.36      0.39       428\n",
      "\n",
      "    accuracy                           0.85      3278\n",
      "   macro avg       0.66      0.64      0.65      3278\n",
      "weighted avg       0.84      0.85      0.84      3278\n",
      "\n",
      "0.8486882245271506\n"
     ]
    },
    {
     "data": {
      "image/png": "[encoded data removed]",
      "text/plain": [
       "<Figure size 432x288 with 2 Axes>"
      ]
     },
     "metadata": {
      "needs_background": "light"
     },
     "output_type": "display_data"
    }
   ],
   "source": [
    "# Decision Tree\n",
    "tree = DecisionTreeClassifier(random_state=42)\n",
    "tree.fit(X_train, y_train)\n",
    "y_tree = tree.predict(X_test)\n",
    "as_tree = accuracy_score(y_test, y_tree)\n",
    "f1s_tree = f1_score(y_test, y_tree, average= \"macro\")\n",
    "prec_tree = precision_score(y_test, y_tree)\n",
    "rec_tree = recall_score(y_test, y_tree, average='macro')\n",
    "print(\"\\nDecision Tree - Original dataset\\n\")\n",
    "plot_confusion_matrix(tree, X_test,y_test, cmap=\"Blues\")\n",
    "#print(confusion_matrix(y_test,y_tree))\n",
    "print(classification_report(y_test,y_tree))\n",
    "print(accuracy_score(y_test, y_tree))"
   ]
  },
  {
   "cell_type": "code",
   "execution_count": 81,
   "metadata": {},
   "outputs": [
    {
     "name": "stdout",
     "output_type": "stream",
     "text": [
      "\n",
      "K-Nearest Neighbors - Original dataset\n",
      "\n",
      "              precision    recall  f1-score   support\n",
      "\n",
      "           0       0.87      1.00      0.93      2850\n",
      "           1       1.00      0.02      0.04       428\n",
      "\n",
      "    accuracy                           0.87      3278\n",
      "   macro avg       0.94      0.51      0.49      3278\n",
      "weighted avg       0.89      0.87      0.82      3278\n",
      "\n",
      "0.8721781574130567\n"
     ]
    },
    {
     "data": {
      "image/png": "[encoded data removed]",
      "text/plain": [
       "<Figure size 432x288 with 2 Axes>"
      ]
     },
     "metadata": {
      "needs_background": "light"
     },
     "output_type": "display_data"
    }
   ],
   "source": [
    "# K-Nearest Neighbors\n",
    "knn = KNeighborsClassifier()\n",
    "knn.fit(X_train, y_train)\n",
    "y_knn = knn.predict(X_test)\n",
    "as_knn = accuracy_score(y_test, y_knn)\n",
    "f1s_knn = f1_score(y_test, y_knn, average= \"macro\")\n",
    "prec_knn = precision_score(y_test, y_knn)\n",
    "rec_knn = recall_score(y_test, y_knn, average='macro')\n",
    "print(\"\\nK-Nearest Neighbors - Original dataset\\n\")\n",
    "plot_confusion_matrix(knn, X_test,y_test, cmap=\"Blues\")\n",
    "#print(confusion_matrix(y_test,y_knn))\n",
    "print(classification_report(y_test,y_knn))\n",
    "print(accuracy_score(y_test, y_knn))"
   ]
  },
  {
   "cell_type": "code",
   "execution_count": 82,
   "metadata": {},
   "outputs": [
    {
     "name": "stdout",
     "output_type": "stream",
     "text": [
      "\n",
      "Original dataset\n",
      "\n"
     ]
    },
    {
     "data": {
      "text/html": [
       "<style  type=\"text/css\" >\n",
       "#T_a8ee44af_9e31_11eb_a017_b077b776b53arow0_col1,#T_a8ee44af_9e31_11eb_a017_b077b776b53arow5_col0,#T_a8ee44af_9e31_11eb_a017_b077b776b53arow6_col2,#T_a8ee44af_9e31_11eb_a017_b077b776b53arow6_col3{\n",
       "            background-color:  tomato;\n",
       "        }#T_a8ee44af_9e31_11eb_a017_b077b776b53arow3_col0,#T_a8ee44af_9e31_11eb_a017_b077b776b53arow5_col2,#T_a8ee44af_9e31_11eb_a017_b077b776b53arow5_col3,#T_a8ee44af_9e31_11eb_a017_b077b776b53arow6_col1{\n",
       "            background-color:  lightgreen;\n",
       "        }</style><table id=\"T_a8ee44af_9e31_11eb_a017_b077b776b53a\" ><thead>    <tr>        <th class=\"blank level0\" ></th>        <th class=\"col_heading level0 col0\" >Accuracy Score</th>        <th class=\"col_heading level0 col1\" >Precision Score</th>        <th class=\"col_heading level0 col2\" >Recall Score</th>        <th class=\"col_heading level0 col3\" >F1 Score</th>    </tr></thead><tbody>\n",
       "                <tr>\n",
       "                        <th id=\"T_a8ee44af_9e31_11eb_a017_b077b776b53alevel0_row0\" class=\"row_heading level0 row0\" >Multinomial Naive Bayes</th>\n",
       "                        <td id=\"T_a8ee44af_9e31_11eb_a017_b077b776b53arow0_col0\" class=\"data row0 col0\" >0.854484</td>\n",
       "                        <td id=\"T_a8ee44af_9e31_11eb_a017_b077b776b53arow0_col1\" class=\"data row0 col1\" >0.405405</td>\n",
       "                        <td id=\"T_a8ee44af_9e31_11eb_a017_b077b776b53arow0_col2\" class=\"data row0 col2\" >0.595646</td>\n",
       "                        <td id=\"T_a8ee44af_9e31_11eb_a017_b077b776b53arow0_col3\" class=\"data row0 col3\" >0.612201</td>\n",
       "            </tr>\n",
       "            <tr>\n",
       "                        <th id=\"T_a8ee44af_9e31_11eb_a017_b077b776b53alevel0_row1\" class=\"row_heading level0 row1\" >Support Vector Machine</th>\n",
       "                        <td id=\"T_a8ee44af_9e31_11eb_a017_b077b776b53arow1_col0\" class=\"data row1 col0\" >0.874924</td>\n",
       "                        <td id=\"T_a8ee44af_9e31_11eb_a017_b077b776b53arow1_col1\" class=\"data row1 col1\" >0.875000</td>\n",
       "                        <td id=\"T_a8ee44af_9e31_11eb_a017_b077b776b53arow1_col2\" class=\"data row1 col2\" >0.524006</td>\n",
       "                        <td id=\"T_a8ee44af_9e31_11eb_a017_b077b776b53arow1_col3\" class=\"data row1 col3\" >0.512876</td>\n",
       "            </tr>\n",
       "            <tr>\n",
       "                        <th id=\"T_a8ee44af_9e31_11eb_a017_b077b776b53alevel0_row2\" class=\"row_heading level0 row2\" >Logistic Regression</th>\n",
       "                        <td id=\"T_a8ee44af_9e31_11eb_a017_b077b776b53arow2_col0\" class=\"data row2 col0\" >0.874619</td>\n",
       "                        <td id=\"T_a8ee44af_9e31_11eb_a017_b077b776b53arow2_col1\" class=\"data row2 col1\" >0.717949</td>\n",
       "                        <td id=\"T_a8ee44af_9e31_11eb_a017_b077b776b53arow2_col2\" class=\"data row2 col2\" >0.530780</td>\n",
       "                        <td id=\"T_a8ee44af_9e31_11eb_a017_b077b776b53arow2_col3\" class=\"data row2 col3\" >0.526208</td>\n",
       "            </tr>\n",
       "            <tr>\n",
       "                        <th id=\"T_a8ee44af_9e31_11eb_a017_b077b776b53alevel0_row3\" class=\"row_heading level0 row3\" >Random Forest</th>\n",
       "                        <td id=\"T_a8ee44af_9e31_11eb_a017_b077b776b53arow3_col0\" class=\"data row3 col0\" >0.875839</td>\n",
       "                        <td id=\"T_a8ee44af_9e31_11eb_a017_b077b776b53arow3_col1\" class=\"data row3 col1\" >0.636364</td>\n",
       "                        <td id=\"T_a8ee44af_9e31_11eb_a017_b077b776b53arow3_col2\" class=\"data row3 col2\" >0.552331</td>\n",
       "                        <td id=\"T_a8ee44af_9e31_11eb_a017_b077b776b53arow3_col3\" class=\"data row3 col3\" >0.563399</td>\n",
       "            </tr>\n",
       "            <tr>\n",
       "                        <th id=\"T_a8ee44af_9e31_11eb_a017_b077b776b53alevel0_row4\" class=\"row_heading level0 row4\" >Neural Networks</th>\n",
       "                        <td id=\"T_a8ee44af_9e31_11eb_a017_b077b776b53arow4_col0\" class=\"data row4 col0\" >0.859365</td>\n",
       "                        <td id=\"T_a8ee44af_9e31_11eb_a017_b077b776b53arow4_col1\" class=\"data row4 col1\" >0.437736</td>\n",
       "                        <td id=\"T_a8ee44af_9e31_11eb_a017_b077b776b53arow4_col2\" class=\"data row4 col2\" >0.609374</td>\n",
       "                        <td id=\"T_a8ee44af_9e31_11eb_a017_b077b776b53arow4_col3\" class=\"data row4 col3\" >0.628074</td>\n",
       "            </tr>\n",
       "            <tr>\n",
       "                        <th id=\"T_a8ee44af_9e31_11eb_a017_b077b776b53alevel0_row5\" class=\"row_heading level0 row5\" >Decision Tree</th>\n",
       "                        <td id=\"T_a8ee44af_9e31_11eb_a017_b077b776b53arow5_col0\" class=\"data row5 col0\" >0.848688</td>\n",
       "                        <td id=\"T_a8ee44af_9e31_11eb_a017_b077b776b53arow5_col1\" class=\"data row5 col1\" >0.410526</td>\n",
       "                        <td id=\"T_a8ee44af_9e31_11eb_a017_b077b776b53arow5_col2\" class=\"data row5 col2\" >0.642945</td>\n",
       "                        <td id=\"T_a8ee44af_9e31_11eb_a017_b077b776b53arow5_col3\" class=\"data row5 col3\" >0.649924</td>\n",
       "            </tr>\n",
       "            <tr>\n",
       "                        <th id=\"T_a8ee44af_9e31_11eb_a017_b077b776b53alevel0_row6\" class=\"row_heading level0 row6\" >K-Nearest Neighbors</th>\n",
       "                        <td id=\"T_a8ee44af_9e31_11eb_a017_b077b776b53arow6_col0\" class=\"data row6 col0\" >0.872178</td>\n",
       "                        <td id=\"T_a8ee44af_9e31_11eb_a017_b077b776b53arow6_col1\" class=\"data row6 col1\" >1.000000</td>\n",
       "                        <td id=\"T_a8ee44af_9e31_11eb_a017_b077b776b53arow6_col2\" class=\"data row6 col2\" >0.510514</td>\n",
       "                        <td id=\"T_a8ee44af_9e31_11eb_a017_b077b776b53arow6_col3\" class=\"data row6 col3\" >0.486357</td>\n",
       "            </tr>\n",
       "    </tbody></table>"
      ],
      "text/plain": [
       "<pandas.io.formats.style.Styler at 0x22de9269a00>"
      ]
     },
     "execution_count": 82,
     "metadata": {},
     "output_type": "execute_result"
    }
   ],
   "source": [
    "s1 = pd.Series([as_mnb, as_svc, as_log, as_rf, as_NN, as_tree, as_knn], index=['Multinomial Naive Bayes', 'Support Vector Machine', 'Logistic Regression', 'Random Forest', 'Neural Networks', 'Decision Tree', 'K-Nearest Neighbors'])\n",
    "s2 = pd.Series([f1s_mnb, f1s_svc, f1s_log, f1s_rf, f1s_NN, f1s_tree, f1s_knn], index=['Multinomial Naive Bayes', 'Support Vector Machine', 'Logistic Regression','Random Forest', 'Neural Networks', 'Decision Tree', 'K-Nearest Neighbors'])\n",
    "s3 = pd.Series([prec_mnb, prec_svc, prec_log, prec_rf, prec_NN, prec_tree, prec_knn], index=['Multinomial Naive Bayes', 'Support Vector Machine', 'Logistic Regression', 'Random Forest', 'Neural Networks', 'Decision Tree', 'K-Nearest Neighbors'])\n",
    "s4 = pd.Series([rec_mnb, rec_svc, rec_log, rec_rf, rec_NN, rec_tree, rec_knn], index=['Multinomial Naive Bayes', 'Support Vector Machine', 'Logistic Regression', 'Random Forest', 'Neural Networks', 'Decision Tree', 'K-Nearest Neighbors'])\n",
    "d = {'Accuracy Score' : s1, 'Precision Score': s3, 'Recall Score' : s4, 'F1 Score' : s2 }\n",
    "dfm = pd.DataFrame(d)\n",
    "print(\"\\nOriginal dataset\\n\")\n",
    "dfm.style.highlight_max(color = 'lightgreen', axis = 0).highlight_min(color = 'tomato', axis = 0)"
   ]
  },
  {
   "cell_type": "code",
   "execution_count": null,
   "metadata": {},
   "outputs": [],
   "source": []
  },
  {
   "cell_type": "markdown",
   "metadata": {},
   "source": [
    "# 4.1 Imbalanced"
   ]
  },
  {
   "cell_type": "code",
   "execution_count": 83,
   "metadata": {},
   "outputs": [],
   "source": [
    "import imblearn\n",
    "from imblearn.under_sampling import RandomUnderSampler \n",
    "undersample = RandomUnderSampler(sampling_strategy='majority', random_state=42)"
   ]
  },
  {
   "cell_type": "code",
   "execution_count": 84,
   "metadata": {},
   "outputs": [],
   "source": [
    "X_over, y_over = undersample.fit_resample(X_class, y_class)"
   ]
  },
  {
   "cell_type": "code",
   "execution_count": 85,
   "metadata": {},
   "outputs": [
    {
     "name": "stdout",
     "output_type": "stream",
     "text": [
      "Counter({0: 1428, 1: 1428})\n"
     ]
    }
   ],
   "source": [
    "from collections import Counter\n",
    "print(Counter(y_over))"
   ]
  },
  {
   "cell_type": "code",
   "execution_count": 86,
   "metadata": {},
   "outputs": [],
   "source": [
    "X_train, X_test, y_train, y_test = train_test_split(X_over, y_over, test_size=0.3, random_state=42, stratify=y_over)"
   ]
  },
  {
   "cell_type": "code",
   "execution_count": 87,
   "metadata": {},
   "outputs": [
    {
     "name": "stdout",
     "output_type": "stream",
     "text": [
      "\n",
      "Multinomoial Naive Bayes - Balanced dataset\n",
      "\n",
      "              precision    recall  f1-score   support\n",
      "\n",
      "           0       0.69      0.57      0.62       429\n",
      "           1       0.63      0.74      0.68       428\n",
      "\n",
      "    accuracy                           0.65       857\n",
      "   macro avg       0.66      0.65      0.65       857\n",
      "weighted avg       0.66      0.65      0.65       857\n",
      "\n",
      "0.6546091015169195\n"
     ]
    },
    {
     "data": {
      "image/png": "[encoded data removed]",
      "text/plain": [
       "<Figure size 432x288 with 2 Axes>"
      ]
     },
     "metadata": {
      "needs_background": "light"
     },
     "output_type": "display_data"
    }
   ],
   "source": [
    "# Multinomial Naive Bayes\n",
    "mnb_i = MultinomialNB(alpha=0.01)\n",
    "mnb_i.fit(X_train, y_train)\n",
    "y_mnb_i = mnb_i.predict(X_test)\n",
    "as_mnb_i = accuracy_score(y_test, y_mnb_i)\n",
    "f1s_mnb_i = f1_score(y_test, y_mnb_i, average= \"macro\")\n",
    "prec_mnb_i = precision_score(y_test, y_mnb_i)\n",
    "rec_mnb_i = recall_score(y_test, y_mnb_i, average='macro')\n",
    "print(\"\\nMultinomoial Naive Bayes - Balanced dataset\\n\")\n",
    "plot_confusion_matrix(mnb_i, X_test,y_test, cmap = \"Blues\")\n",
    "#print(confusion_matrix(y_test,y_mnb_i))\n",
    "print(classification_report(y_test,y_mnb_i))\n",
    "print(accuracy_score(y_test, y_mnb_i))"
   ]
  },
  {
   "cell_type": "code",
   "execution_count": 88,
   "metadata": {},
   "outputs": [
    {
     "name": "stdout",
     "output_type": "stream",
     "text": [
      "[LibSVM]\n",
      "Support Vector Machine - Balanced dataset\n",
      "\n",
      "              precision    recall  f1-score   support\n",
      "\n",
      "           0       0.69      0.76      0.73       429\n",
      "           1       0.74      0.66      0.70       428\n",
      "\n",
      "    accuracy                           0.71       857\n",
      "   macro avg       0.72      0.71      0.71       857\n",
      "weighted avg       0.71      0.71      0.71       857\n",
      "\n",
      "0.7129521586931156\n"
     ]
    },
    {
     "data": {
      "image/png": "[encoded data removed]",
      "text/plain": [
       "<Figure size 432x288 with 2 Axes>"
      ]
     },
     "metadata": {
      "needs_background": "light"
     },
     "output_type": "display_data"
    }
   ],
   "source": [
    "# Support Vector Machine\n",
    "svc_i = SVC(verbose=10, random_state=42)\n",
    "svc_i.fit(X_train, y_train)\n",
    "y_svc_i = svc_i.predict(X_test)\n",
    "as_svc_i = accuracy_score(y_test, y_svc_i)\n",
    "f1s_svc_i = f1_score(y_test, y_svc_i, average=\"macro\")\n",
    "prec_svc_i = precision_score(y_test, y_svc_i)\n",
    "rec_svc_i = recall_score(y_test, y_svc_i, average='macro')\n",
    "print(\"\\nSupport Vector Machine - Balanced dataset\\n\")\n",
    "plot_confusion_matrix(svc_i, X_test,y_test, cmap=\"Blues\")\n",
    "#print(confusion_matrix(y_test,y_svc_i))\n",
    "print(classification_report(y_test,y_svc_i))\n",
    "print(accuracy_score(y_test, y_svc_i))"
   ]
  },
  {
   "cell_type": "code",
   "execution_count": 89,
   "metadata": {},
   "outputs": [
    {
     "name": "stdout",
     "output_type": "stream",
     "text": [
      "\n",
      "Logistic Regression - Balanced dataset\n",
      "\n",
      "              precision    recall  f1-score   support\n",
      "\n",
      "           0       0.70      0.79      0.74       429\n",
      "           1       0.76      0.67      0.71       428\n",
      "\n",
      "    accuracy                           0.73       857\n",
      "   macro avg       0.73      0.73      0.73       857\n",
      "weighted avg       0.73      0.73      0.73       857\n",
      "\n",
      "0.7269544924154026\n"
     ]
    },
    {
     "data": {
      "image/png": "[encoded data removed]",
      "text/plain": [
       "<Figure size 432x288 with 2 Axes>"
      ]
     },
     "metadata": {
      "needs_background": "light"
     },
     "output_type": "display_data"
    }
   ],
   "source": [
    "# Logistic\n",
    "log_fit_i = LogisticRegression(random_state=42).fit(X_train, y_train)\n",
    "y_log_i = log_fit_i.predict(X_test)\n",
    "as_log_i = accuracy_score(y_test, y_log_i)\n",
    "f1s_log_i = f1_score(y_test, y_log_i, average= \"macro\")\n",
    "prec_log_i = precision_score(y_test, y_log_i)\n",
    "rec_log_i = recall_score(y_test, y_log_i, average='macro')\n",
    "print(\"\\nLogistic Regression - Balanced dataset\\n\")\n",
    "plot_confusion_matrix(log_fit_i, X_test,y_test, cmap=\"Blues\")\n",
    "#print(confusion_matrix(y_test,y_log_i))\n",
    "print(classification_report(y_test,y_log_i))\n",
    "print(accuracy_score(y_test, y_log_i))"
   ]
  },
  {
   "cell_type": "code",
   "execution_count": 90,
   "metadata": {},
   "outputs": [
    {
     "name": "stdout",
     "output_type": "stream",
     "text": [
      "\n",
      "Random Forest - Balanced dataset\n",
      "\n",
      "              precision    recall  f1-score   support\n",
      "\n",
      "           0       0.66      0.79      0.72       429\n",
      "           1       0.73      0.59      0.65       428\n",
      "\n",
      "    accuracy                           0.69       857\n",
      "   macro avg       0.70      0.69      0.69       857\n",
      "weighted avg       0.70      0.69      0.69       857\n",
      "\n",
      "0.6884480746791132\n"
     ]
    },
    {
     "data": {
      "image/png": "[encoded data removed]",
      "text/plain": [
       "<Figure size 432x288 with 2 Axes>"
      ]
     },
     "metadata": {
      "needs_background": "light"
     },
     "output_type": "display_data"
    }
   ],
   "source": [
    "# Random Forest\n",
    "rf_i = RandomForestClassifier(n_estimators=10, random_state=42)\n",
    "rf_i.fit(X_train, y_train) \n",
    "y_rf_i = rf_i.predict(X_test)\n",
    "as_rf_i = accuracy_score(y_test, y_rf_i)\n",
    "f1s_rf_i = f1_score(y_test, y_rf_i, average= \"macro\")\n",
    "prec_rf_i = precision_score(y_test, y_rf_i)\n",
    "rec_rf_i = recall_score(y_test, y_rf_i, average='macro')\n",
    "print(\"\\nRandom Forest - Balanced dataset\\n\")\n",
    "plot_confusion_matrix(rf_i, X_test,y_test, cmap=\"Blues\")\n",
    "#print(confusion_matrix(y_test,y_rf_i))\n",
    "print(classification_report(y_test,y_rf_i))\n",
    "print(accuracy_score(y_test, y_rf_i))"
   ]
  },
  {
   "cell_type": "code",
   "execution_count": 91,
   "metadata": {},
   "outputs": [
    {
     "name": "stderr",
     "output_type": "stream",
     "text": [
      "C:\\Users\\marti\\anaconda3\\lib\\site-packages\\sklearn\\neural_network\\_multilayer_perceptron.py:614: ConvergenceWarning: Stochastic Optimizer: Maximum iterations (30) reached and the optimization hasn't converged yet.\n",
      "  warnings.warn(\n"
     ]
    },
    {
     "name": "stdout",
     "output_type": "stream",
     "text": [
      "\n",
      "Neural Networks - Balanced dataset\n",
      "\n",
      "              precision    recall  f1-score   support\n",
      "\n",
      "           0       0.69      0.73      0.71       429\n",
      "           1       0.71      0.67      0.69       428\n",
      "\n",
      "    accuracy                           0.70       857\n",
      "   macro avg       0.70      0.70      0.70       857\n",
      "weighted avg       0.70      0.70      0.70       857\n",
      "\n",
      "0.7001166861143524\n"
     ]
    },
    {
     "data": {
      "image/png": "[encoded data removed]",
      "text/plain": [
       "<Figure size 432x288 with 2 Axes>"
      ]
     },
     "metadata": {
      "needs_background": "light"
     },
     "output_type": "display_data"
    }
   ],
   "source": [
    "# Neural Networks\n",
    "NN_i = MLPClassifier(random_state=42, max_iter=30)\n",
    "NN_i.fit(X_train, y_train)\n",
    "#NN.score(X_test, y_test)\n",
    "y_NN_i = NN_i.predict(X_test)\n",
    "as_NN_i = accuracy_score(y_test, y_NN_i)\n",
    "f1s_NN_i = f1_score(y_test, y_NN_i, average= \"macro\")\n",
    "prec_NN_i = precision_score(y_test, y_NN_i)\n",
    "rec_NN_i = recall_score(y_test, y_NN_i, average='macro')\n",
    "print(\"\\nNeural Networks - Balanced dataset\\n\")\n",
    "plot_confusion_matrix(NN_i, X_test,y_test, cmap=\"Blues\")\n",
    "#print(confusion_matrix(y_test,y_NN_i))\n",
    "print(classification_report(y_test,y_NN_i))\n",
    "print(accuracy_score(y_test, y_NN_i))"
   ]
  },
  {
   "cell_type": "code",
   "execution_count": 92,
   "metadata": {},
   "outputs": [
    {
     "name": "stdout",
     "output_type": "stream",
     "text": [
      "\n",
      "Decision Tree - Balanced dataset\n",
      "\n",
      "              precision    recall  f1-score   support\n",
      "\n",
      "           0       0.67      0.70      0.69       429\n",
      "           1       0.69      0.66      0.67       428\n",
      "\n",
      "    accuracy                           0.68       857\n",
      "   macro avg       0.68      0.68      0.68       857\n",
      "weighted avg       0.68      0.68      0.68       857\n",
      "\n",
      "0.6814469078179697\n"
     ]
    },
    {
     "data": {
      "image/png": "[encoded data removed]",
      "text/plain": [
       "<Figure size 432x288 with 2 Axes>"
      ]
     },
     "metadata": {
      "needs_background": "light"
     },
     "output_type": "display_data"
    }
   ],
   "source": [
    "# Decision Tree\n",
    "tree_i = DecisionTreeClassifier(random_state=42)\n",
    "tree_i.fit(X_train, y_train)\n",
    "y_tree_i = tree_i.predict(X_test)\n",
    "as_tree_i = accuracy_score(y_test, y_tree_i)\n",
    "f1s_tree_i = f1_score(y_test, y_tree_i, average= \"macro\")\n",
    "prec_tree_i = precision_score(y_test, y_tree_i)\n",
    "rec_tree_i = recall_score(y_test, y_tree_i, average='macro')\n",
    "print(\"\\nDecision Tree - Balanced dataset\\n\")\n",
    "plot_confusion_matrix(tree_i, X_test,y_test, cmap=\"Blues\")\n",
    "#print(confusion_matrix(y_test,y_tree_i))\n",
    "print(classification_report(y_test,y_tree_i))\n",
    "print(accuracy_score(y_test, y_tree_i))"
   ]
  },
  {
   "cell_type": "code",
   "execution_count": 93,
   "metadata": {},
   "outputs": [
    {
     "name": "stdout",
     "output_type": "stream",
     "text": [
      "\n",
      "K-Nearest Neighbors - Balanced dataset\n",
      "\n",
      "              precision    recall  f1-score   support\n",
      "\n",
      "           0       0.51      0.99      0.67       429\n",
      "           1       0.81      0.03      0.06       428\n",
      "\n",
      "    accuracy                           0.51       857\n",
      "   macro avg       0.66      0.51      0.36       857\n",
      "weighted avg       0.66      0.51      0.37       857\n",
      "\n",
      "0.5122520420070011\n"
     ]
    },
    {
     "data": {
      "image/png": "[encoded data removed]",
      "text/plain": [
       "<Figure size 432x288 with 2 Axes>"
      ]
     },
     "metadata": {
      "needs_background": "light"
     },
     "output_type": "display_data"
    }
   ],
   "source": [
    "# K-Nearest Neighbors\n",
    "knn_i = KNeighborsClassifier()\n",
    "knn_i.fit(X_train, y_train)\n",
    "y_knn_i = knn_i.predict(X_test)\n",
    "as_knn_i = accuracy_score(y_test, y_knn_i)\n",
    "f1s_knn_i = f1_score(y_test, y_knn_i, average= \"macro\")\n",
    "prec_knn_i = precision_score(y_test, y_knn_i)\n",
    "rec_knn_i = recall_score(y_test, y_knn_i, average='macro')\n",
    "print(\"\\nK-Nearest Neighbors - Balanced dataset\\n\")\n",
    "plot_confusion_matrix(knn_i, X_test,y_test, cmap=\"Blues\")\n",
    "#print(confusion_matrix(y_test,y_knn_i))\n",
    "print(classification_report(y_test,y_knn_i))\n",
    "print(accuracy_score(y_test, y_knn_i))"
   ]
  },
  {
   "cell_type": "code",
   "execution_count": 94,
   "metadata": {},
   "outputs": [
    {
     "name": "stdout",
     "output_type": "stream",
     "text": [
      "\n",
      "Balanced dataset\n",
      "\n"
     ]
    },
    {
     "data": {
      "text/html": [
       "<style  type=\"text/css\" >\n",
       "#T_b66a3aac_9e31_11eb_9763_b077b776b53arow0_col1,#T_b66a3aac_9e31_11eb_9763_b077b776b53arow6_col0,#T_b66a3aac_9e31_11eb_9763_b077b776b53arow6_col2,#T_b66a3aac_9e31_11eb_9763_b077b776b53arow6_col3{\n",
       "            background-color:  tomato;\n",
       "        }#T_b66a3aac_9e31_11eb_9763_b077b776b53arow2_col0,#T_b66a3aac_9e31_11eb_9763_b077b776b53arow2_col2,#T_b66a3aac_9e31_11eb_9763_b077b776b53arow2_col3,#T_b66a3aac_9e31_11eb_9763_b077b776b53arow6_col1{\n",
       "            background-color:  lightgreen;\n",
       "        }</style><table id=\"T_b66a3aac_9e31_11eb_9763_b077b776b53a\" ><thead>    <tr>        <th class=\"blank level0\" ></th>        <th class=\"col_heading level0 col0\" >Accuracy Score</th>        <th class=\"col_heading level0 col1\" >Precision Score</th>        <th class=\"col_heading level0 col2\" >Recall Score</th>        <th class=\"col_heading level0 col3\" >F1 Score</th>    </tr></thead><tbody>\n",
       "                <tr>\n",
       "                        <th id=\"T_b66a3aac_9e31_11eb_9763_b077b776b53alevel0_row0\" class=\"row_heading level0 row0\" >Multinomial Naive Bayes</th>\n",
       "                        <td id=\"T_b66a3aac_9e31_11eb_9763_b077b776b53arow0_col0\" class=\"data row0 col0\" >0.654609</td>\n",
       "                        <td id=\"T_b66a3aac_9e31_11eb_9763_b077b776b53arow0_col1\" class=\"data row0 col1\" >0.632530</td>\n",
       "                        <td id=\"T_b66a3aac_9e31_11eb_9763_b077b776b53arow0_col2\" class=\"data row0 col2\" >0.654704</td>\n",
       "                        <td id=\"T_b66a3aac_9e31_11eb_9763_b077b776b53arow0_col3\" class=\"data row0 col3\" >0.652356</td>\n",
       "            </tr>\n",
       "            <tr>\n",
       "                        <th id=\"T_b66a3aac_9e31_11eb_9763_b077b776b53alevel0_row1\" class=\"row_heading level0 row1\" >Support Vector Machine</th>\n",
       "                        <td id=\"T_b66a3aac_9e31_11eb_9763_b077b776b53arow1_col0\" class=\"data row1 col0\" >0.712952</td>\n",
       "                        <td id=\"T_b66a3aac_9e31_11eb_9763_b077b776b53arow1_col1\" class=\"data row1 col1\" >0.735751</td>\n",
       "                        <td id=\"T_b66a3aac_9e31_11eb_9763_b077b776b53arow1_col2\" class=\"data row1 col2\" >0.712895</td>\n",
       "                        <td id=\"T_b66a3aac_9e31_11eb_9763_b077b776b53arow1_col3\" class=\"data row1 col3\" >0.712228</td>\n",
       "            </tr>\n",
       "            <tr>\n",
       "                        <th id=\"T_b66a3aac_9e31_11eb_9763_b077b776b53alevel0_row2\" class=\"row_heading level0 row2\" >Logistic Regression</th>\n",
       "                        <td id=\"T_b66a3aac_9e31_11eb_9763_b077b776b53arow2_col0\" class=\"data row2 col0\" >0.726954</td>\n",
       "                        <td id=\"T_b66a3aac_9e31_11eb_9763_b077b776b53arow2_col1\" class=\"data row2 col1\" >0.756614</td>\n",
       "                        <td id=\"T_b66a3aac_9e31_11eb_9763_b077b776b53arow2_col2\" class=\"data row2 col2\" >0.726886</td>\n",
       "                        <td id=\"T_b66a3aac_9e31_11eb_9763_b077b776b53arow2_col3\" class=\"data row2 col3\" >0.725984</td>\n",
       "            </tr>\n",
       "            <tr>\n",
       "                        <th id=\"T_b66a3aac_9e31_11eb_9763_b077b776b53alevel0_row3\" class=\"row_heading level0 row3\" >Random Forest</th>\n",
       "                        <td id=\"T_b66a3aac_9e31_11eb_9763_b077b776b53arow3_col0\" class=\"data row3 col0\" >0.688448</td>\n",
       "                        <td id=\"T_b66a3aac_9e31_11eb_9763_b077b776b53arow3_col1\" class=\"data row3 col1\" >0.734694</td>\n",
       "                        <td id=\"T_b66a3aac_9e31_11eb_9763_b077b776b53arow3_col2\" class=\"data row3 col2\" >0.688332</td>\n",
       "                        <td id=\"T_b66a3aac_9e31_11eb_9763_b077b776b53arow3_col3\" class=\"data row3 col3\" >0.685279</td>\n",
       "            </tr>\n",
       "            <tr>\n",
       "                        <th id=\"T_b66a3aac_9e31_11eb_9763_b077b776b53alevel0_row4\" class=\"row_heading level0 row4\" >Neural Networks</th>\n",
       "                        <td id=\"T_b66a3aac_9e31_11eb_9763_b077b776b53arow4_col0\" class=\"data row4 col0\" >0.700117</td>\n",
       "                        <td id=\"T_b66a3aac_9e31_11eb_9763_b077b776b53arow4_col1\" class=\"data row4 col1\" >0.712159</td>\n",
       "                        <td id=\"T_b66a3aac_9e31_11eb_9763_b077b776b53arow4_col2\" class=\"data row4 col2\" >0.700082</td>\n",
       "                        <td id=\"T_b66a3aac_9e31_11eb_9763_b077b776b53arow4_col3\" class=\"data row4 col3\" >0.699840</td>\n",
       "            </tr>\n",
       "            <tr>\n",
       "                        <th id=\"T_b66a3aac_9e31_11eb_9763_b077b776b53alevel0_row5\" class=\"row_heading level0 row5\" >Decision Tree</th>\n",
       "                        <td id=\"T_b66a3aac_9e31_11eb_9763_b077b776b53arow5_col0\" class=\"data row5 col0\" >0.681447</td>\n",
       "                        <td id=\"T_b66a3aac_9e31_11eb_9763_b077b776b53arow5_col1\" class=\"data row5 col1\" >0.689487</td>\n",
       "                        <td id=\"T_b66a3aac_9e31_11eb_9763_b077b776b53arow5_col2\" class=\"data row5 col2\" >0.681421</td>\n",
       "                        <td id=\"T_b66a3aac_9e31_11eb_9763_b077b776b53arow5_col3\" class=\"data row5 col3\" >0.681273</td>\n",
       "            </tr>\n",
       "            <tr>\n",
       "                        <th id=\"T_b66a3aac_9e31_11eb_9763_b077b776b53alevel0_row6\" class=\"row_heading level0 row6\" >K-Nearest Neighbors</th>\n",
       "                        <td id=\"T_b66a3aac_9e31_11eb_9763_b077b776b53arow6_col0\" class=\"data row6 col0\" >0.512252</td>\n",
       "                        <td id=\"T_b66a3aac_9e31_11eb_9763_b077b776b53arow6_col1\" class=\"data row6 col1\" >0.812500</td>\n",
       "                        <td id=\"T_b66a3aac_9e31_11eb_9763_b077b776b53arow6_col2\" class=\"data row6 col2\" >0.511690</td>\n",
       "                        <td id=\"T_b66a3aac_9e31_11eb_9763_b077b776b53arow6_col3\" class=\"data row6 col3\" >0.364712</td>\n",
       "            </tr>\n",
       "    </tbody></table>"
      ],
      "text/plain": [
       "<pandas.io.formats.style.Styler at 0x22de9915280>"
      ]
     },
     "execution_count": 94,
     "metadata": {},
     "output_type": "execute_result"
    }
   ],
   "source": [
    "s1_i = pd.Series([as_mnb_i, as_svc_i, as_log_i, as_rf_i, as_NN_i, as_tree_i, as_knn_i], index=['Multinomial Naive Bayes', 'Support Vector Machine', 'Logistic Regression', 'Random Forest', 'Neural Networks', 'Decision Tree', 'K-Nearest Neighbors'])\n",
    "s2_i = pd.Series([f1s_mnb_i, f1s_svc_i, f1s_log_i, f1s_rf_i, f1s_NN_i, f1s_tree_i, f1s_knn_i], index=['Multinomial Naive Bayes', 'Support Vector Machine', 'Logistic Regression','Random Forest', 'Neural Networks', 'Decision Tree', 'K-Nearest Neighbors'])\n",
    "s3_i = pd.Series([prec_mnb_i, prec_svc_i, prec_log_i, prec_rf_i, prec_NN_i, prec_tree_i, prec_knn_i], index=['Multinomial Naive Bayes', 'Support Vector Machine', 'Logistic Regression', 'Random Forest', 'Neural Networks', 'Decision Tree', 'K-Nearest Neighbors'])\n",
    "s4_i = pd.Series([rec_mnb_i, rec_svc_i, rec_log_i, rec_rf_i, rec_NN_i, rec_tree_i, rec_knn_i], index=['Multinomial Naive Bayes', 'Support Vector Machine', 'Logistic Regression', 'Random Forest', 'Neural Networks', 'Decision Tree', 'K-Nearest Neighbors'])\n",
    "d_i = {'Accuracy Score' : s1_i, 'Precision Score': s3_i, 'Recall Score' : s4_i, 'F1 Score' : s2_i}\n",
    "dfm_i = pd.DataFrame(d_i)\n",
    "print(\"\\nBalanced dataset\\n\")\n",
    "dfm_i.style.highlight_max(color = 'lightgreen', axis = 0).highlight_min(color = 'tomato', axis = 0)"
   ]
  },
  {
   "cell_type": "code",
   "execution_count": null,
   "metadata": {},
   "outputs": [],
   "source": []
  },
  {
   "cell_type": "markdown",
   "metadata": {},
   "source": [
    "## 4.2 Models on POS"
   ]
  },
  {
   "cell_type": "code",
   "execution_count": 95,
   "metadata": {
    "execution": {
     "iopub.execute_input": "2021-04-13T20:26:52.164476Z",
     "iopub.status.busy": "2021-04-13T20:26:52.164195Z",
     "iopub.status.idle": "2021-04-13T20:26:52.169915Z",
     "shell.execute_reply": "2021-04-13T20:26:52.168851Z",
     "shell.execute_reply.started": "2021-04-13T20:26:52.164447Z"
    }
   },
   "outputs": [],
   "source": [
    "def filter_text_pos(x):\n",
    "    final_pos_text = []\n",
    "    for elem in x:\n",
    "        for pos in pos_list:\n",
    "            if elem[1] == pos:\n",
    "                final_pos_text.append(elem[0])\n",
    "    \n",
    "    return \" \".join(final_pos_text)"
   ]
  },
  {
   "cell_type": "markdown",
   "metadata": {},
   "source": [
    "### 4.2.1 Nouns + Proper Nouns + Adjectives + Adverbs"
   ]
  },
  {
   "cell_type": "code",
   "execution_count": 96,
   "metadata": {
    "execution": {
     "iopub.execute_input": "2021-04-13T20:27:06.486857Z",
     "iopub.status.busy": "2021-04-13T20:27:06.486535Z",
     "iopub.status.idle": "2021-04-13T20:27:06.490613Z",
     "shell.execute_reply": "2021-04-13T20:27:06.489765Z",
     "shell.execute_reply.started": "2021-04-13T20:27:06.486828Z"
    }
   },
   "outputs": [],
   "source": [
    "pos_list = [\"NOUN\" , \"PROPN\" ,\"ADJ\" , \"ADV\"]"
   ]
  },
  {
   "cell_type": "code",
   "execution_count": 97,
   "metadata": {
    "execution": {
     "iopub.execute_input": "2021-04-13T20:27:09.190085Z",
     "iopub.status.busy": "2021-04-13T20:27:09.189633Z",
     "iopub.status.idle": "2021-04-13T20:27:09.431750Z",
     "shell.execute_reply": "2021-04-13T20:27:09.431160Z",
     "shell.execute_reply.started": "2021-04-13T20:27:09.190030Z"
    }
   },
   "outputs": [],
   "source": [
    "data[\"NOUN_PROPN_ADJ_ADV\"] = data.apply(lambda x: filter_text_pos(x[\"POS_spacy\"]), axis=1)"
   ]
  },
  {
   "cell_type": "code",
   "execution_count": 98,
   "metadata": {},
   "outputs": [
    {
     "data": {
      "text/plain": [
       "(10926, 10894)"
      ]
     },
     "execution_count": 98,
     "metadata": {},
     "output_type": "execute_result"
    }
   ],
   "source": [
    "tfidf_vectorizer = TfidfVectorizer()\n",
    "X_Propn = tfidf_vectorizer.fit_transform(data[\"NOUN_PROPN_ADJ_ADV\"])\n",
    "y_Propn = data[\"label\"]\n",
    "X_Propn.shape"
   ]
  },
  {
   "cell_type": "code",
   "execution_count": 99,
   "metadata": {},
   "outputs": [],
   "source": [
    "X_over_p, y_over_p = undersample.fit_resample(X_Propn, y_Propn)"
   ]
  },
  {
   "cell_type": "code",
   "execution_count": 100,
   "metadata": {},
   "outputs": [],
   "source": [
    "X_train, X_test, y_train, y_test = train_test_split(X_over_p, y_over_p, test_size=0.3, random_state=42, stratify=y_over_p)"
   ]
  },
  {
   "cell_type": "code",
   "execution_count": 101,
   "metadata": {},
   "outputs": [
    {
     "name": "stdout",
     "output_type": "stream",
     "text": [
      "\n",
      "Multinomoial Naive Bayes - NOUN_PROPN_ADJ_ADV\n",
      "\n",
      "              precision    recall  f1-score   support\n",
      "\n",
      "           0       0.69      0.55      0.62       429\n",
      "           1       0.63      0.75      0.68       428\n",
      "\n",
      "    accuracy                           0.65       857\n",
      "   macro avg       0.66      0.65      0.65       857\n",
      "weighted avg       0.66      0.65      0.65       857\n",
      "\n",
      "0.6534422403733956\n"
     ]
    },
    {
     "data": {
      "image/png": "[encoded data removed]",
      "text/plain": [
       "<Figure size 432x288 with 2 Axes>"
      ]
     },
     "metadata": {
      "needs_background": "light"
     },
     "output_type": "display_data"
    }
   ],
   "source": [
    "# Multinomial Naive Bayes\n",
    "mnb_p = MultinomialNB(alpha=0.01)\n",
    "mnb_p.fit(X_train, y_train)\n",
    "y_mnb_p = mnb_p.predict(X_test)\n",
    "as_mnb_p = accuracy_score(y_test, y_mnb_p)\n",
    "f1s_mnb_p = f1_score(y_test, y_mnb_p, average= \"macro\")\n",
    "prec_mnb_p = precision_score(y_test, y_mnb_p)\n",
    "rec_mnb_p = recall_score(y_test, y_mnb_p, average='macro')\n",
    "print(\"\\nMultinomoial Naive Bayes - NOUN_PROPN_ADJ_ADV\\n\")\n",
    "plot_confusion_matrix(mnb_p, X_test,y_test, cmap=\"Blues\")\n",
    "#print(confusion_matrix(y_test,y_mnb_p))\n",
    "print(classification_report(y_test,y_mnb_p))\n",
    "print(accuracy_score(y_test, y_mnb_p))"
   ]
  },
  {
   "cell_type": "code",
   "execution_count": 102,
   "metadata": {},
   "outputs": [
    {
     "name": "stdout",
     "output_type": "stream",
     "text": [
      "[LibSVM]\n",
      "Support Vector Machine - NOUN_PROPN_ADJ_ADV\n",
      "\n",
      "              precision    recall  f1-score   support\n",
      "\n",
      "           0       0.70      0.75      0.72       429\n",
      "           1       0.73      0.68      0.71       428\n",
      "\n",
      "    accuracy                           0.72       857\n",
      "   macro avg       0.72      0.72      0.71       857\n",
      "weighted avg       0.72      0.72      0.71       857\n",
      "\n",
      "0.7152858809801633\n"
     ]
    },
    {
     "data": {
      "image/png": "[encoded data removed]",
      "text/plain": [
       "<Figure size 432x288 with 2 Axes>"
      ]
     },
     "metadata": {
      "needs_background": "light"
     },
     "output_type": "display_data"
    }
   ],
   "source": [
    "# Support Vector Machine\n",
    "svc_p = SVC(verbose=10, random_state=42)\n",
    "svc_p.fit(X_train, y_train)\n",
    "y_svc_p = svc_p.predict(X_test)\n",
    "as_svc_p = accuracy_score(y_test, y_svc_p)\n",
    "f1s_svc_p = f1_score(y_test, y_svc_p, average=\"macro\")\n",
    "prec_svc_p = precision_score(y_test, y_svc_p)\n",
    "rec_svc_p = recall_score(y_test, y_svc_p, average='macro')\n",
    "print(\"\\nSupport Vector Machine - NOUN_PROPN_ADJ_ADV\\n\")\n",
    "plot_confusion_matrix(svc_p, X_test,y_test, cmap=\"Blues\")\n",
    "#print(confusion_matrix(y_test,y_svc_p))\n",
    "print(classification_report(y_test,y_svc_p))\n",
    "print(accuracy_score(y_test, y_svc_p))"
   ]
  },
  {
   "cell_type": "code",
   "execution_count": 103,
   "metadata": {},
   "outputs": [
    {
     "name": "stdout",
     "output_type": "stream",
     "text": [
      "\n",
      "Logistic Regression - NOUN_PROPN_ADJ_ADV\n",
      "\n",
      "              precision    recall  f1-score   support\n",
      "\n",
      "           0       0.71      0.78      0.74       429\n",
      "           1       0.76      0.68      0.72       428\n",
      "\n",
      "    accuracy                           0.73       857\n",
      "   macro avg       0.73      0.73      0.73       857\n",
      "weighted avg       0.73      0.73      0.73       857\n",
      "\n",
      "0.7304550758459744\n"
     ]
    },
    {
     "data": {
      "image/png": "[encoded data removed]",
      "text/plain": [
       "<Figure size 432x288 with 2 Axes>"
      ]
     },
     "metadata": {
      "needs_background": "light"
     },
     "output_type": "display_data"
    }
   ],
   "source": [
    "# Logistic\n",
    "log_fit_p = LogisticRegression(random_state=42).fit(X_train, y_train)\n",
    "y_log_p = log_fit_p.predict(X_test)\n",
    "as_log_p = accuracy_score(y_test, y_log_p)\n",
    "f1s_log_p = f1_score(y_test, y_log_p, average= \"macro\")\n",
    "prec_log_p = precision_score(y_test, y_log_p)\n",
    "rec_log_p = recall_score(y_test, y_log_p, average='macro')\n",
    "print(\"\\nLogistic Regression - NOUN_PROPN_ADJ_ADV\\n\")\n",
    "plot_confusion_matrix(log_fit_p, X_test,y_test, cmap=\"Blues\")\n",
    "#print(confusion_matrix(y_test,y_log_p))\n",
    "print(classification_report(y_test,y_log_p))\n",
    "print(accuracy_score(y_test, y_log_p))"
   ]
  },
  {
   "cell_type": "code",
   "execution_count": 104,
   "metadata": {},
   "outputs": [
    {
     "name": "stdout",
     "output_type": "stream",
     "text": [
      "\n",
      "Random Forest - NOUN_PROPN_ADJ_ADV\n",
      "\n",
      "              precision    recall  f1-score   support\n",
      "\n",
      "           0       0.69      0.82      0.75       429\n",
      "           1       0.78      0.64      0.70       428\n",
      "\n",
      "    accuracy                           0.73       857\n",
      "   macro avg       0.74      0.73      0.73       857\n",
      "weighted avg       0.74      0.73      0.73       857\n",
      "\n",
      "0.7281213535589265\n"
     ]
    },
    {
     "data": {
      "image/png": "[encoded data removed]",
      "text/plain": [
       "<Figure size 432x288 with 2 Axes>"
      ]
     },
     "metadata": {
      "needs_background": "light"
     },
     "output_type": "display_data"
    }
   ],
   "source": [
    "# Random Forest\n",
    "rf_p = RandomForestClassifier(n_estimators=10, random_state=42)\n",
    "rf_p.fit(X_train, y_train) \n",
    "y_rf_p = rf_p.predict(X_test)\n",
    "as_rf_p = accuracy_score(y_test, y_rf_p)\n",
    "f1s_rf_p = f1_score(y_test, y_rf_p, average= \"macro\")\n",
    "prec_rf_p = precision_score(y_test, y_rf_p)\n",
    "rec_rf_p = recall_score(y_test, y_rf_p, average='macro')\n",
    "print(\"\\nRandom Forest - NOUN_PROPN_ADJ_ADV\\n\")\n",
    "plot_confusion_matrix(rf_p, X_test,y_test, cmap=\"Blues\")\n",
    "#print(confusion_matrix(y_test,y_rf_p))\n",
    "print(classification_report(y_test,y_rf_p))\n",
    "print(accuracy_score(y_test, y_rf_p))"
   ]
  },
  {
   "cell_type": "code",
   "execution_count": 105,
   "metadata": {},
   "outputs": [
    {
     "name": "stderr",
     "output_type": "stream",
     "text": [
      "C:\\Users\\marti\\anaconda3\\lib\\site-packages\\sklearn\\neural_network\\_multilayer_perceptron.py:614: ConvergenceWarning: Stochastic Optimizer: Maximum iterations (30) reached and the optimization hasn't converged yet.\n",
      "  warnings.warn(\n"
     ]
    },
    {
     "name": "stdout",
     "output_type": "stream",
     "text": [
      "\n",
      "Neural Networks - NOUN_PROPN_ADJ_ADV\n",
      "\n",
      "              precision    recall  f1-score   support\n",
      "\n",
      "           0       0.68      0.69      0.68       429\n",
      "           1       0.68      0.68      0.68       428\n",
      "\n",
      "    accuracy                           0.68       857\n",
      "   macro avg       0.68      0.68      0.68       857\n",
      "weighted avg       0.68      0.68      0.68       857\n",
      "\n",
      "0.6826137689614936\n"
     ]
    },
    {
     "data": {
      "image/png": "[encoded data removed]",
      "text/plain": [
       "<Figure size 432x288 with 2 Axes>"
      ]
     },
     "metadata": {
      "needs_background": "light"
     },
     "output_type": "display_data"
    }
   ],
   "source": [
    "# Neural Networks\n",
    "NN_p = MLPClassifier(random_state=42, max_iter=30)\n",
    "NN_p.fit(X_train, y_train)\n",
    "y_NN_p = NN_p.predict(X_test)\n",
    "as_NN_p = accuracy_score(y_test, y_NN_p)\n",
    "f1s_NN_p = f1_score(y_test, y_NN_p, average= \"macro\")\n",
    "prec_NN_p = precision_score(y_test, y_NN_p)\n",
    "rec_NN_p = recall_score(y_test, y_NN_p, average='macro')\n",
    "print(\"\\nNeural Networks - NOUN_PROPN_ADJ_ADV\\n\")\n",
    "plot_confusion_matrix(NN_p, X_test,y_test, cmap=\"Blues\")\n",
    "#print(confusion_matrix(y_test,y_NN_p))\n",
    "print(classification_report(y_test,y_NN_p))\n",
    "print(accuracy_score(y_test, y_NN_p))"
   ]
  },
  {
   "cell_type": "code",
   "execution_count": 106,
   "metadata": {},
   "outputs": [
    {
     "name": "stdout",
     "output_type": "stream",
     "text": [
      "\n",
      "Decision Tree - NOUN_PROPN_ADJ_ADV\n",
      "\n",
      "              precision    recall  f1-score   support\n",
      "\n",
      "           0       0.68      0.72      0.70       429\n",
      "           1       0.70      0.66      0.68       428\n",
      "\n",
      "    accuracy                           0.69       857\n",
      "   macro avg       0.69      0.69      0.69       857\n",
      "weighted avg       0.69      0.69      0.69       857\n",
      "\n",
      "0.6931155192532089\n"
     ]
    },
    {
     "data": {
      "image/png": "[encoded data removed]",
      "text/plain": [
       "<Figure size 432x288 with 2 Axes>"
      ]
     },
     "metadata": {
      "needs_background": "light"
     },
     "output_type": "display_data"
    }
   ],
   "source": [
    "# Decision Tree\n",
    "tree_p = DecisionTreeClassifier(random_state=42)\n",
    "tree_p.fit(X_train, y_train)\n",
    "y_tree_p = tree_p.predict(X_test)\n",
    "as_tree_p = accuracy_score(y_test, y_tree_p)\n",
    "f1s_tree_p = f1_score(y_test, y_tree_p, average= \"macro\")\n",
    "prec_tree_p = precision_score(y_test, y_tree_p)\n",
    "rec_tree_p = recall_score(y_test, y_tree_p, average='macro')\n",
    "print(\"\\nDecision Tree - NOUN_PROPN_ADJ_ADV\\n\")\n",
    "plot_confusion_matrix(tree_p, X_test,y_test, cmap=\"Blues\")\n",
    "#print(confusion_matrix(y_test,y_tree_p))\n",
    "print(classification_report(y_test,y_tree_p))\n",
    "print(accuracy_score(y_test, y_tree_p))"
   ]
  },
  {
   "cell_type": "code",
   "execution_count": 107,
   "metadata": {},
   "outputs": [
    {
     "name": "stdout",
     "output_type": "stream",
     "text": [
      "\n",
      "K-Nearest Neighbors - NOUN_PROPN_ADJ_ADV\n",
      "\n",
      "              precision    recall  f1-score   support\n",
      "\n",
      "           0       0.51      0.98      0.67       429\n",
      "           1       0.74      0.06      0.11       428\n",
      "\n",
      "    accuracy                           0.52       857\n",
      "   macro avg       0.62      0.52      0.39       857\n",
      "weighted avg       0.62      0.52      0.39       857\n",
      "\n",
      "0.5192532088681447\n"
     ]
    },
    {
     "data": {
      "image/png": "[encoded data removed]",
      "text/plain": [
       "<Figure size 432x288 with 2 Axes>"
      ]
     },
     "metadata": {
      "needs_background": "light"
     },
     "output_type": "display_data"
    }
   ],
   "source": [
    "# K-Nearest Neighbors\n",
    "knn_p = KNeighborsClassifier()\n",
    "knn_p.fit(X_train, y_train)\n",
    "y_knn_p = knn_p.predict(X_test)\n",
    "as_knn_p = accuracy_score(y_test, y_knn_p)\n",
    "f1s_knn_p = f1_score(y_test, y_knn_p, average= \"macro\")\n",
    "prec_knn_p = precision_score(y_test, y_knn_p)\n",
    "rec_knn_p = recall_score(y_test, y_knn_p, average='macro')\n",
    "print(\"\\nK-Nearest Neighbors - NOUN_PROPN_ADJ_ADV\\n\")\n",
    "plot_confusion_matrix(knn_p, X_test,y_test, cmap=\"Blues\")\n",
    "#print(confusion_matrix(y_test,y_knn_p))\n",
    "print(classification_report(y_test,y_knn_p))\n",
    "print(accuracy_score(y_test, y_knn_p))"
   ]
  },
  {
   "cell_type": "code",
   "execution_count": 108,
   "metadata": {},
   "outputs": [
    {
     "name": "stdout",
     "output_type": "stream",
     "text": [
      "\n",
      "NOUN_PROPN_ADJ_ADV\n",
      "\n"
     ]
    },
    {
     "data": {
      "text/html": [
       "<style  type=\"text/css\" >\n",
       "#T_c2c1af92_9e31_11eb_aa2e_b077b776b53arow0_col1,#T_c2c1af92_9e31_11eb_aa2e_b077b776b53arow6_col0,#T_c2c1af92_9e31_11eb_aa2e_b077b776b53arow6_col2,#T_c2c1af92_9e31_11eb_aa2e_b077b776b53arow6_col3{\n",
       "            background-color:  tomato;\n",
       "        }#T_c2c1af92_9e31_11eb_aa2e_b077b776b53arow2_col0,#T_c2c1af92_9e31_11eb_aa2e_b077b776b53arow2_col2,#T_c2c1af92_9e31_11eb_aa2e_b077b776b53arow2_col3,#T_c2c1af92_9e31_11eb_aa2e_b077b776b53arow3_col1{\n",
       "            background-color:  lightgreen;\n",
       "        }</style><table id=\"T_c2c1af92_9e31_11eb_aa2e_b077b776b53a\" ><thead>    <tr>        <th class=\"blank level0\" ></th>        <th class=\"col_heading level0 col0\" >Accuracy Score</th>        <th class=\"col_heading level0 col1\" >Precision Score</th>        <th class=\"col_heading level0 col2\" >Recall Score</th>        <th class=\"col_heading level0 col3\" >F1 Score</th>    </tr></thead><tbody>\n",
       "                <tr>\n",
       "                        <th id=\"T_c2c1af92_9e31_11eb_aa2e_b077b776b53alevel0_row0\" class=\"row_heading level0 row0\" >Multinomial Naive Bayes</th>\n",
       "                        <td id=\"T_c2c1af92_9e31_11eb_aa2e_b077b776b53arow0_col0\" class=\"data row0 col0\" >0.653442</td>\n",
       "                        <td id=\"T_c2c1af92_9e31_11eb_aa2e_b077b776b53arow0_col1\" class=\"data row0 col1\" >0.627680</td>\n",
       "                        <td id=\"T_c2c1af92_9e31_11eb_aa2e_b077b776b53arow0_col2\" class=\"data row0 col2\" >0.653558</td>\n",
       "                        <td id=\"T_c2c1af92_9e31_11eb_aa2e_b077b776b53arow0_col3\" class=\"data row0 col3\" >0.650080</td>\n",
       "            </tr>\n",
       "            <tr>\n",
       "                        <th id=\"T_c2c1af92_9e31_11eb_aa2e_b077b776b53alevel0_row1\" class=\"row_heading level0 row1\" >Support Vector Machine</th>\n",
       "                        <td id=\"T_c2c1af92_9e31_11eb_aa2e_b077b776b53arow1_col0\" class=\"data row1 col0\" >0.715286</td>\n",
       "                        <td id=\"T_c2c1af92_9e31_11eb_aa2e_b077b776b53arow1_col1\" class=\"data row1 col1\" >0.730000</td>\n",
       "                        <td id=\"T_c2c1af92_9e31_11eb_aa2e_b077b776b53arow1_col2\" class=\"data row1 col2\" >0.715247</td>\n",
       "                        <td id=\"T_c2c1af92_9e31_11eb_aa2e_b077b776b53arow1_col3\" class=\"data row1 col3\" >0.714959</td>\n",
       "            </tr>\n",
       "            <tr>\n",
       "                        <th id=\"T_c2c1af92_9e31_11eb_aa2e_b077b776b53alevel0_row2\" class=\"row_heading level0 row2\" >Logistic Regression</th>\n",
       "                        <td id=\"T_c2c1af92_9e31_11eb_aa2e_b077b776b53arow2_col0\" class=\"data row2 col0\" >0.730455</td>\n",
       "                        <td id=\"T_c2c1af92_9e31_11eb_aa2e_b077b776b53arow2_col1\" class=\"data row2 col1\" >0.757180</td>\n",
       "                        <td id=\"T_c2c1af92_9e31_11eb_aa2e_b077b776b53arow2_col2\" class=\"data row2 col2\" >0.730393</td>\n",
       "                        <td id=\"T_c2c1af92_9e31_11eb_aa2e_b077b776b53arow2_col3\" class=\"data row2 col3\" >0.729676</td>\n",
       "            </tr>\n",
       "            <tr>\n",
       "                        <th id=\"T_c2c1af92_9e31_11eb_aa2e_b077b776b53alevel0_row3\" class=\"row_heading level0 row3\" >Random Forest</th>\n",
       "                        <td id=\"T_c2c1af92_9e31_11eb_aa2e_b077b776b53arow3_col0\" class=\"data row3 col0\" >0.728121</td>\n",
       "                        <td id=\"T_c2c1af92_9e31_11eb_aa2e_b077b776b53arow3_col1\" class=\"data row3 col1\" >0.776204</td>\n",
       "                        <td id=\"T_c2c1af92_9e31_11eb_aa2e_b077b776b53arow3_col2\" class=\"data row3 col2\" >0.728019</td>\n",
       "                        <td id=\"T_c2c1af92_9e31_11eb_aa2e_b077b776b53arow3_col3\" class=\"data row3 col3\" >0.725966</td>\n",
       "            </tr>\n",
       "            <tr>\n",
       "                        <th id=\"T_c2c1af92_9e31_11eb_aa2e_b077b776b53alevel0_row4\" class=\"row_heading level0 row4\" >Neural Networks</th>\n",
       "                        <td id=\"T_c2c1af92_9e31_11eb_aa2e_b077b776b53arow4_col0\" class=\"data row4 col0\" >0.682614</td>\n",
       "                        <td id=\"T_c2c1af92_9e31_11eb_aa2e_b077b776b53arow4_col1\" class=\"data row4 col1\" >0.683099</td>\n",
       "                        <td id=\"T_c2c1af92_9e31_11eb_aa2e_b077b776b53arow4_col2\" class=\"data row4 col2\" >0.682611</td>\n",
       "                        <td id=\"T_c2c1af92_9e31_11eb_aa2e_b077b776b53arow4_col3\" class=\"data row4 col3\" >0.682610</td>\n",
       "            </tr>\n",
       "            <tr>\n",
       "                        <th id=\"T_c2c1af92_9e31_11eb_aa2e_b077b776b53alevel0_row5\" class=\"row_heading level0 row5\" >Decision Tree</th>\n",
       "                        <td id=\"T_c2c1af92_9e31_11eb_aa2e_b077b776b53arow5_col0\" class=\"data row5 col0\" >0.693116</td>\n",
       "                        <td id=\"T_c2c1af92_9e31_11eb_aa2e_b077b776b53arow5_col1\" class=\"data row5 col1\" >0.704715</td>\n",
       "                        <td id=\"T_c2c1af92_9e31_11eb_aa2e_b077b776b53arow5_col2\" class=\"data row5 col2\" >0.693081</td>\n",
       "                        <td id=\"T_c2c1af92_9e31_11eb_aa2e_b077b776b53arow5_col3\" class=\"data row5 col3\" >0.692833</td>\n",
       "            </tr>\n",
       "            <tr>\n",
       "                        <th id=\"T_c2c1af92_9e31_11eb_aa2e_b077b776b53alevel0_row6\" class=\"row_heading level0 row6\" >K-Nearest Neighbors</th>\n",
       "                        <td id=\"T_c2c1af92_9e31_11eb_aa2e_b077b776b53arow6_col0\" class=\"data row6 col0\" >0.519253</td>\n",
       "                        <td id=\"T_c2c1af92_9e31_11eb_aa2e_b077b776b53arow6_col1\" class=\"data row6 col1\" >0.735294</td>\n",
       "                        <td id=\"T_c2c1af92_9e31_11eb_aa2e_b077b776b53arow6_col2\" class=\"data row6 col2\" >0.518716</td>\n",
       "                        <td id=\"T_c2c1af92_9e31_11eb_aa2e_b077b776b53arow6_col3\" class=\"data row6 col3\" >0.389576</td>\n",
       "            </tr>\n",
       "    </tbody></table>"
      ],
      "text/plain": [
       "<pandas.io.formats.style.Styler at 0x22de83d9160>"
      ]
     },
     "execution_count": 108,
     "metadata": {},
     "output_type": "execute_result"
    }
   ],
   "source": [
    "s1_p = pd.Series([as_mnb_p, as_svc_p, as_log_p, as_rf_p, as_NN_p, as_tree_p, as_knn_p], index=['Multinomial Naive Bayes', 'Support Vector Machine', 'Logistic Regression', 'Random Forest', 'Neural Networks', 'Decision Tree', 'K-Nearest Neighbors'])\n",
    "s2_p = pd.Series([f1s_mnb_p, f1s_svc_p, f1s_log_p, f1s_rf_p, f1s_NN_p, f1s_tree_p, f1s_knn_p], index=['Multinomial Naive Bayes', 'Support Vector Machine', 'Logistic Regression','Random Forest', 'Neural Networks', 'Decision Tree', 'K-Nearest Neighbors'])\n",
    "s3_p = pd.Series([prec_mnb_p, prec_svc_p, prec_log_p, prec_rf_p, prec_NN_p, prec_tree_p, prec_knn_p], index=['Multinomial Naive Bayes', 'Support Vector Machine', 'Logistic Regression', 'Random Forest', 'Neural Networks', 'Decision Tree', 'K-Nearest Neighbors'])\n",
    "s4_p = pd.Series([rec_mnb_p, rec_svc_p, rec_log_p, rec_rf_p, rec_NN_p, rec_tree_p, rec_knn_p], index=['Multinomial Naive Bayes', 'Support Vector Machine', 'Logistic Regression', 'Random Forest', 'Neural Networks', 'Decision Tree', 'K-Nearest Neighbors'])\n",
    "d_p = {'Accuracy Score' : s1_p, 'Precision Score': s3_p, 'Recall Score' : s4_p, 'F1 Score' : s2_p}\n",
    "dfm_p = pd.DataFrame(d_p)\n",
    "print(\"\\nNOUN_PROPN_ADJ_ADV\\n\")\n",
    "dfm_p.style.highlight_max(color = 'lightgreen', axis = 0).highlight_min(color = 'tomato', axis = 0)"
   ]
  },
  {
   "cell_type": "code",
   "execution_count": 111,
   "metadata": {},
   "outputs": [
    {
     "data": {
      "text/plain": [
       "<sklearn.metrics._plot.precision_recall_curve.PrecisionRecallDisplay at 0x22ddc5e3d00>"
      ]
     },
     "execution_count": 111,
     "metadata": {},
     "output_type": "execute_result"
    },
    {
     "data": {
      "image/png": "[encoded data removed]",
      "text/plain": [
       "<Figure size 432x288 with 1 Axes>"
      ]
     },
     "metadata": {
      "needs_background": "light"
     },
     "output_type": "display_data"
    }
   ],
   "source": [
    "plot_precision_recall_curve(log_fit_p, X_test, y_test)"
   ]
  },
  {
   "cell_type": "code",
   "execution_count": 112,
   "metadata": {
    "scrolled": true
   },
   "outputs": [
    {
     "data": {
      "text/plain": [
       "<sklearn.metrics._plot.roc_curve.RocCurveDisplay at 0x22de91dd0d0>"
      ]
     },
     "execution_count": 112,
     "metadata": {},
     "output_type": "execute_result"
    },
    {
     "data": {
      "image/png": "[encoded data removed]",
      "text/plain": [
       "<Figure size 432x288 with 1 Axes>"
      ]
     },
     "metadata": {
      "needs_background": "light"
     },
     "output_type": "display_data"
    }
   ],
   "source": [
    "plot_roc_curve(log_fit_p,  X_test, y_test)"
   ]
  },
  {
   "cell_type": "code",
   "execution_count": null,
   "metadata": {},
   "outputs": [],
   "source": []
  },
  {
   "cell_type": "markdown",
   "metadata": {},
   "source": [
    "### 4.2.2 Nouns + Proper Nouns + Verbs + Adjectives + Adverbs"
   ]
  },
  {
   "cell_type": "code",
   "execution_count": 113,
   "metadata": {},
   "outputs": [],
   "source": [
    "pos_list = [\"NOUN\",\"PROPN\", \"VERB\", \"ADJ\", \"ADV\"]"
   ]
  },
  {
   "cell_type": "code",
   "execution_count": 114,
   "metadata": {},
   "outputs": [],
   "source": [
    "data[\"NOUN_PROPN_VERB_ADJ_ADV\"] = data.apply(lambda x: filter_text_pos(x[\"POS_spacy\"]), axis=1)"
   ]
  },
  {
   "cell_type": "code",
   "execution_count": 115,
   "metadata": {},
   "outputs": [
    {
     "data": {
      "text/plain": [
       "(10926, 12565)"
      ]
     },
     "execution_count": 115,
     "metadata": {},
     "output_type": "execute_result"
    }
   ],
   "source": [
    "tfidf_vectorizer = TfidfVectorizer()\n",
    "X_NounPropnVerb = tfidf_vectorizer.fit_transform(data[\"NOUN_PROPN_VERB_ADJ_ADV\"])\n",
    "y_NounPropnVerb = data[\"label\"]\n",
    "X_NounPropnVerb.shape"
   ]
  },
  {
   "cell_type": "code",
   "execution_count": 116,
   "metadata": {},
   "outputs": [],
   "source": [
    "X_over_n, y_over_n = undersample.fit_resample(X_NounPropnVerb, y_NounPropnVerb)"
   ]
  },
  {
   "cell_type": "code",
   "execution_count": 117,
   "metadata": {},
   "outputs": [],
   "source": [
    "X_train, X_test, y_train, y_test = train_test_split(X_over_n, y_over_n, test_size=0.3, random_state=42, stratify=y_over_n)"
   ]
  },
  {
   "cell_type": "code",
   "execution_count": 118,
   "metadata": {},
   "outputs": [
    {
     "name": "stdout",
     "output_type": "stream",
     "text": [
      "\n",
      "Multinomoial Naive Bayes - NOUN_PROPN_VERB_ADJ_ADV\n",
      "\n",
      "              precision    recall  f1-score   support\n",
      "\n",
      "           0       0.68      0.56      0.62       429\n",
      "           1       0.63      0.74      0.68       428\n",
      "\n",
      "    accuracy                           0.65       857\n",
      "   macro avg       0.65      0.65      0.65       857\n",
      "weighted avg       0.65      0.65      0.65       857\n",
      "\n",
      "0.6499416569428238\n"
     ]
    },
    {
     "data": {
      "image/png": "[encoded data removed]",
      "text/plain": [
       "<Figure size 432x288 with 2 Axes>"
      ]
     },
     "metadata": {
      "needs_background": "light"
     },
     "output_type": "display_data"
    }
   ],
   "source": [
    "# Multinomial Naive Bayes\n",
    "mnb_n = MultinomialNB(alpha=0.01)\n",
    "mnb_n.fit(X_train, y_train)\n",
    "y_mnb_n = mnb_n.predict(X_test)\n",
    "as_mnb_n = accuracy_score(y_test, y_mnb_n)\n",
    "f1s_mnb_n = f1_score(y_test, y_mnb_n, average= \"macro\")\n",
    "prec_mnb_n = precision_score(y_test, y_mnb_n)\n",
    "rec_mnb_n = recall_score(y_test, y_mnb_n, average='macro')\n",
    "print(\"\\nMultinomoial Naive Bayes - NOUN_PROPN_VERB_ADJ_ADV\\n\")\n",
    "plot_confusion_matrix(mnb_n, X_test,y_test, cmap=\"Blues\")\n",
    "#print(confusion_matrix(y_test,y_mnb_n))\n",
    "print(classification_report(y_test,y_mnb_n))\n",
    "print(accuracy_score(y_test, y_mnb_n))"
   ]
  },
  {
   "cell_type": "code",
   "execution_count": 119,
   "metadata": {},
   "outputs": [
    {
     "name": "stdout",
     "output_type": "stream",
     "text": [
      "[LibSVM]\n",
      "Support Vector Machine - NOUN_PROPN_VERB_ADJ_ADV\n",
      "\n",
      "              precision    recall  f1-score   support\n",
      "\n",
      "           0       0.70      0.76      0.73       429\n",
      "           1       0.74      0.67      0.70       428\n",
      "\n",
      "    accuracy                           0.71       857\n",
      "   macro avg       0.72      0.71      0.71       857\n",
      "weighted avg       0.72      0.71      0.71       857\n",
      "\n",
      "0.7141190198366394\n"
     ]
    },
    {
     "data": {
      "image/png": "[encoded data removed]",
      "text/plain": [
       "<Figure size 432x288 with 2 Axes>"
      ]
     },
     "metadata": {
      "needs_background": "light"
     },
     "output_type": "display_data"
    }
   ],
   "source": [
    "# Support Vector Machine\n",
    "svc_n = SVC(verbose=10, random_state=42)\n",
    "svc_n.fit(X_train, y_train)\n",
    "y_svc_n = svc_n.predict(X_test)\n",
    "as_svc_n = accuracy_score(y_test, y_svc_n)\n",
    "f1s_svc_n = f1_score(y_test, y_svc_n, average=\"macro\")\n",
    "prec_svc_n = precision_score(y_test, y_svc_n)\n",
    "rec_svc_n = recall_score(y_test, y_svc_n, average='macro')\n",
    "print(\"\\nSupport Vector Machine - NOUN_PROPN_VERB_ADJ_ADV\\n\")\n",
    "plot_confusion_matrix(svc_n, X_test,y_test, cmap=\"Blues\")\n",
    "#print(confusion_matrix(y_test,y_svc_n)\n",
    "print(classification_report(y_test,y_svc_n))\n",
    "print(accuracy_score(y_test, y_svc_n))"
   ]
  },
  {
   "cell_type": "code",
   "execution_count": 120,
   "metadata": {},
   "outputs": [
    {
     "name": "stdout",
     "output_type": "stream",
     "text": [
      "\n",
      "Logistic Regression - NOUN_PROPN_VERB_ADJ_ADV\n",
      "\n",
      "              precision    recall  f1-score   support\n",
      "\n",
      "           0       0.71      0.78      0.74       429\n",
      "           1       0.76      0.68      0.72       428\n",
      "\n",
      "    accuracy                           0.73       857\n",
      "   macro avg       0.73      0.73      0.73       857\n",
      "weighted avg       0.73      0.73      0.73       857\n",
      "\n",
      "0.7304550758459744\n"
     ]
    },
    {
     "data": {
      "image/png": "[encoded data removed]",
      "text/plain": [
       "<Figure size 432x288 with 2 Axes>"
      ]
     },
     "metadata": {
      "needs_background": "light"
     },
     "output_type": "display_data"
    }
   ],
   "source": [
    "# Logistic\n",
    "log_fit_n = LogisticRegression(random_state=42).fit(X_train, y_train)\n",
    "y_log_n = log_fit_n.predict(X_test)\n",
    "as_log_n = accuracy_score(y_test, y_log_n)\n",
    "f1s_log_n = f1_score(y_test, y_log_n, average= \"macro\")\n",
    "prec_log_n = precision_score(y_test, y_log_n)\n",
    "rec_log_n = recall_score(y_test, y_log_n, average='macro')\n",
    "print(\"\\nLogistic Regression - NOUN_PROPN_VERB_ADJ_ADV\\n\")\n",
    "plot_confusion_matrix(log_fit_n, X_test,y_test, cmap=\"Blues\")\n",
    "#print(confusion_matrix(y_test,y_log_n))\n",
    "print(classification_report(y_test,y_log_n))\n",
    "print(accuracy_score(y_test, y_log_n))"
   ]
  },
  {
   "cell_type": "code",
   "execution_count": 121,
   "metadata": {},
   "outputs": [
    {
     "name": "stdout",
     "output_type": "stream",
     "text": [
      "\n",
      "Random Forest - NOUN_PROPN_VERB_ADJ_ADV\n",
      "\n",
      "              precision    recall  f1-score   support\n",
      "\n",
      "           0       0.64      0.78      0.71       429\n",
      "           1       0.72      0.57      0.63       428\n",
      "\n",
      "    accuracy                           0.67       857\n",
      "   macro avg       0.68      0.67      0.67       857\n",
      "weighted avg       0.68      0.67      0.67       857\n",
      "\n",
      "0.6744457409568262\n"
     ]
    },
    {
     "data": {
      "image/png": "[encoded data removed]",
      "text/plain": [
       "<Figure size 432x288 with 2 Axes>"
      ]
     },
     "metadata": {
      "needs_background": "light"
     },
     "output_type": "display_data"
    }
   ],
   "source": [
    "# Random Forest\n",
    "rf_n = RandomForestClassifier(n_estimators=10, random_state=42)\n",
    "rf_n.fit(X_train, y_train) \n",
    "y_rf_n = rf_n.predict(X_test)\n",
    "as_rf_n = accuracy_score(y_test, y_rf_n)\n",
    "f1s_rf_n = f1_score(y_test, y_rf_n, average= \"macro\")\n",
    "prec_rf_n = precision_score(y_test, y_rf_n)\n",
    "rec_rf_n = recall_score(y_test, y_rf_n, average='macro')\n",
    "print(\"\\nRandom Forest - NOUN_PROPN_VERB_ADJ_ADV\\n\")\n",
    "plot_confusion_matrix(rf_n, X_test,y_test, cmap=\"Blues\")\n",
    "#print(confusion_matrix(y_test,y_rf_n))\n",
    "print(classification_report(y_test,y_rf_n))\n",
    "print(accuracy_score(y_test, y_rf_n))"
   ]
  },
  {
   "cell_type": "code",
   "execution_count": 122,
   "metadata": {},
   "outputs": [
    {
     "name": "stderr",
     "output_type": "stream",
     "text": [
      "C:\\Users\\marti\\anaconda3\\lib\\site-packages\\sklearn\\neural_network\\_multilayer_perceptron.py:614: ConvergenceWarning: Stochastic Optimizer: Maximum iterations (30) reached and the optimization hasn't converged yet.\n",
      "  warnings.warn(\n"
     ]
    },
    {
     "name": "stdout",
     "output_type": "stream",
     "text": [
      "\n",
      "Neural Networks - NOUN_PROPN_VERB_ADJ_ADV\n",
      "\n",
      "              precision    recall  f1-score   support\n",
      "\n",
      "           0       0.70      0.71      0.70       429\n",
      "           1       0.70      0.69      0.70       428\n",
      "\n",
      "    accuracy                           0.70       857\n",
      "   macro avg       0.70      0.70      0.70       857\n",
      "weighted avg       0.70      0.70      0.70       857\n",
      "\n",
      "0.7001166861143524\n"
     ]
    },
    {
     "data": {
      "image/png": "[encoded data removed]",
      "text/plain": [
       "<Figure size 432x288 with 2 Axes>"
      ]
     },
     "metadata": {
      "needs_background": "light"
     },
     "output_type": "display_data"
    }
   ],
   "source": [
    "# Neural Networks\n",
    "NN_n = MLPClassifier(random_state=42, max_iter=30)\n",
    "NN_n.fit(X_train, y_train)\n",
    "y_NN_n = NN_n.predict(X_test)\n",
    "as_NN_n = accuracy_score(y_test, y_NN_n)\n",
    "f1s_NN_n = f1_score(y_test, y_NN_n, average= \"macro\")\n",
    "prec_NN_n = precision_score(y_test, y_NN_n)\n",
    "rec_NN_n = recall_score(y_test, y_NN_n, average='macro')\n",
    "print(\"\\nNeural Networks - NOUN_PROPN_VERB_ADJ_ADV\\n\")\n",
    "plot_confusion_matrix(NN_n, X_test,y_test, cmap=\"Blues\")\n",
    "#print(confusion_matrix(y_test,y_NN_n))\n",
    "print(classification_report(y_test,y_NN_n))\n",
    "print(accuracy_score(y_test, y_NN_n))"
   ]
  },
  {
   "cell_type": "code",
   "execution_count": 123,
   "metadata": {},
   "outputs": [
    {
     "name": "stdout",
     "output_type": "stream",
     "text": [
      "\n",
      "Decision Tree - NOUN_PROPN_VERB_ADJ_ADV\n",
      "\n",
      "              precision    recall  f1-score   support\n",
      "\n",
      "           0       0.68      0.69      0.68       429\n",
      "           1       0.68      0.67      0.68       428\n",
      "\n",
      "    accuracy                           0.68       857\n",
      "   macro avg       0.68      0.68      0.68       857\n",
      "weighted avg       0.68      0.68      0.68       857\n",
      "\n",
      "0.6802800466744457\n"
     ]
    },
    {
     "data": {
      "image/png": "[encoded data removed]",
      "text/plain": [
       "<Figure size 432x288 with 2 Axes>"
      ]
     },
     "metadata": {
      "needs_background": "light"
     },
     "output_type": "display_data"
    }
   ],
   "source": [
    "# Decision Tree\n",
    "tree_n = DecisionTreeClassifier(random_state=42)\n",
    "tree_n.fit(X_train, y_train)\n",
    "y_tree_n = tree_n.predict(X_test)\n",
    "as_tree_n = accuracy_score(y_test, y_tree_n)\n",
    "f1s_tree_n = f1_score(y_test, y_tree_n, average= \"macro\")\n",
    "prec_tree_n = precision_score(y_test, y_tree_n)\n",
    "rec_tree_n = recall_score(y_test, y_tree_n, average='macro')\n",
    "print(\"\\nDecision Tree - NOUN_PROPN_VERB_ADJ_ADV\\n\")\n",
    "plot_confusion_matrix(tree_n, X_test,y_test, cmap=\"Blues\")\n",
    "#print(confusion_matrix(y_test,y_tree_n))\n",
    "print(classification_report(y_test,y_tree_n))\n",
    "print(accuracy_score(y_test, y_tree_n))"
   ]
  },
  {
   "cell_type": "code",
   "execution_count": 124,
   "metadata": {},
   "outputs": [
    {
     "name": "stdout",
     "output_type": "stream",
     "text": [
      "\n",
      "K-Nearest Neighbors - NOUN_PROPN_VERB_ADJ_ADV\n",
      "\n",
      "              precision    recall  f1-score   support\n",
      "\n",
      "           0       0.51      0.98      0.67       429\n",
      "           1       0.75      0.05      0.09       428\n",
      "\n",
      "    accuracy                           0.52       857\n",
      "   macro avg       0.63      0.52      0.38       857\n",
      "weighted avg       0.63      0.52      0.38       857\n",
      "\n",
      "0.5169194865810969\n"
     ]
    },
    {
     "data": {
      "image/png": "[encoded data removed]",
      "text/plain": [
       "<Figure size 432x288 with 2 Axes>"
      ]
     },
     "metadata": {
      "needs_background": "light"
     },
     "output_type": "display_data"
    }
   ],
   "source": [
    "# K-Nearest Neighbors\n",
    "knn_n = KNeighborsClassifier()\n",
    "knn_n.fit(X_train, y_train)\n",
    "y_knn_n = knn_n.predict(X_test)\n",
    "as_knn_n = accuracy_score(y_test, y_knn_n)\n",
    "f1s_knn_n = f1_score(y_test, y_knn_n, average= \"macro\")\n",
    "prec_knn_n = precision_score(y_test, y_knn_n)\n",
    "rec_knn_n = recall_score(y_test, y_knn_n, average='macro')\n",
    "print(\"\\nK-Nearest Neighbors - NOUN_PROPN_VERB_ADJ_ADV\\n\")\n",
    "plot_confusion_matrix(knn_n, X_test,y_test, cmap=\"Blues\")\n",
    "#print(confusion_matrix(y_test,y_knn_n))\n",
    "print(classification_report(y_test,y_knn_n))\n",
    "print(accuracy_score(y_test, y_knn_n))"
   ]
  },
  {
   "cell_type": "code",
   "execution_count": 125,
   "metadata": {},
   "outputs": [
    {
     "name": "stdout",
     "output_type": "stream",
     "text": [
      "\n",
      "NOUN_PROPN_VERB_ADJ_ADV\n",
      "\n"
     ]
    },
    {
     "data": {
      "text/html": [
       "<style  type=\"text/css\" >\n",
       "#T_731900ed_9e32_11eb_af81_b077b776b53arow0_col1,#T_731900ed_9e32_11eb_af81_b077b776b53arow6_col0,#T_731900ed_9e32_11eb_af81_b077b776b53arow6_col2,#T_731900ed_9e32_11eb_af81_b077b776b53arow6_col3{\n",
       "            background-color:  tomato;\n",
       "        }#T_731900ed_9e32_11eb_af81_b077b776b53arow2_col0,#T_731900ed_9e32_11eb_af81_b077b776b53arow2_col1,#T_731900ed_9e32_11eb_af81_b077b776b53arow2_col2,#T_731900ed_9e32_11eb_af81_b077b776b53arow2_col3{\n",
       "            background-color:  lightgreen;\n",
       "        }</style><table id=\"T_731900ed_9e32_11eb_af81_b077b776b53a\" ><thead>    <tr>        <th class=\"blank level0\" ></th>        <th class=\"col_heading level0 col0\" >Accuracy Score</th>        <th class=\"col_heading level0 col1\" >Precision Score</th>        <th class=\"col_heading level0 col2\" >Recall Score</th>        <th class=\"col_heading level0 col3\" >F1 Score</th>    </tr></thead><tbody>\n",
       "                <tr>\n",
       "                        <th id=\"T_731900ed_9e32_11eb_af81_b077b776b53alevel0_row0\" class=\"row_heading level0 row0\" >Multinomial Naive Bayes</th>\n",
       "                        <td id=\"T_731900ed_9e32_11eb_af81_b077b776b53arow0_col0\" class=\"data row0 col0\" >0.649942</td>\n",
       "                        <td id=\"T_731900ed_9e32_11eb_af81_b077b776b53arow0_col1\" class=\"data row0 col1\" >0.626984</td>\n",
       "                        <td id=\"T_731900ed_9e32_11eb_af81_b077b776b53arow0_col2\" class=\"data row0 col2\" >0.650045</td>\n",
       "                        <td id=\"T_731900ed_9e32_11eb_af81_b077b776b53arow0_col3\" class=\"data row0 col3\" >0.647240</td>\n",
       "            </tr>\n",
       "            <tr>\n",
       "                        <th id=\"T_731900ed_9e32_11eb_af81_b077b776b53alevel0_row1\" class=\"row_heading level0 row1\" >Support Vector Machine</th>\n",
       "                        <td id=\"T_731900ed_9e32_11eb_af81_b077b776b53arow1_col0\" class=\"data row1 col0\" >0.714119</td>\n",
       "                        <td id=\"T_731900ed_9e32_11eb_af81_b077b776b53arow1_col1\" class=\"data row1 col1\" >0.736434</td>\n",
       "                        <td id=\"T_731900ed_9e32_11eb_af81_b077b776b53arow1_col2\" class=\"data row1 col2\" >0.714063</td>\n",
       "                        <td id=\"T_731900ed_9e32_11eb_af81_b077b776b53arow1_col3\" class=\"data row1 col3\" >0.713431</td>\n",
       "            </tr>\n",
       "            <tr>\n",
       "                        <th id=\"T_731900ed_9e32_11eb_af81_b077b776b53alevel0_row2\" class=\"row_heading level0 row2\" >Logistic Regression</th>\n",
       "                        <td id=\"T_731900ed_9e32_11eb_af81_b077b776b53arow2_col0\" class=\"data row2 col0\" >0.730455</td>\n",
       "                        <td id=\"T_731900ed_9e32_11eb_af81_b077b776b53arow2_col1\" class=\"data row2 col1\" >0.755844</td>\n",
       "                        <td id=\"T_731900ed_9e32_11eb_af81_b077b776b53arow2_col2\" class=\"data row2 col2\" >0.730396</td>\n",
       "                        <td id=\"T_731900ed_9e32_11eb_af81_b077b776b53arow2_col3\" class=\"data row2 col3\" >0.729743</td>\n",
       "            </tr>\n",
       "            <tr>\n",
       "                        <th id=\"T_731900ed_9e32_11eb_af81_b077b776b53alevel0_row3\" class=\"row_heading level0 row3\" >Random Forest</th>\n",
       "                        <td id=\"T_731900ed_9e32_11eb_af81_b077b776b53arow3_col0\" class=\"data row3 col0\" >0.674446</td>\n",
       "                        <td id=\"T_731900ed_9e32_11eb_af81_b077b776b53arow3_col1\" class=\"data row3 col1\" >0.722388</td>\n",
       "                        <td id=\"T_731900ed_9e32_11eb_af81_b077b776b53arow3_col2\" class=\"data row3 col2\" >0.674319</td>\n",
       "                        <td id=\"T_731900ed_9e32_11eb_af81_b077b776b53arow3_col3\" class=\"data row3 col3\" >0.670481</td>\n",
       "            </tr>\n",
       "            <tr>\n",
       "                        <th id=\"T_731900ed_9e32_11eb_af81_b077b776b53alevel0_row4\" class=\"row_heading level0 row4\" >Neural Networks</th>\n",
       "                        <td id=\"T_731900ed_9e32_11eb_af81_b077b776b53arow4_col0\" class=\"data row4 col0\" >0.700117</td>\n",
       "                        <td id=\"T_731900ed_9e32_11eb_af81_b077b776b53arow4_col1\" class=\"data row4 col1\" >0.704057</td>\n",
       "                        <td id=\"T_731900ed_9e32_11eb_af81_b077b776b53arow4_col2\" class=\"data row4 col2\" >0.700104</td>\n",
       "                        <td id=\"T_731900ed_9e32_11eb_af81_b077b776b53arow4_col3\" class=\"data row4 col3\" >0.700076</td>\n",
       "            </tr>\n",
       "            <tr>\n",
       "                        <th id=\"T_731900ed_9e32_11eb_af81_b077b776b53alevel0_row5\" class=\"row_heading level0 row5\" >Decision Tree</th>\n",
       "                        <td id=\"T_731900ed_9e32_11eb_af81_b077b776b53arow5_col0\" class=\"data row5 col0\" >0.680280</td>\n",
       "                        <td id=\"T_731900ed_9e32_11eb_af81_b077b776b53arow5_col1\" class=\"data row5 col1\" >0.682464</td>\n",
       "                        <td id=\"T_731900ed_9e32_11eb_af81_b077b776b53arow5_col2\" class=\"data row5 col2\" >0.680271</td>\n",
       "                        <td id=\"T_731900ed_9e32_11eb_af81_b077b776b53arow5_col3\" class=\"data row5 col3\" >0.680259</td>\n",
       "            </tr>\n",
       "            <tr>\n",
       "                        <th id=\"T_731900ed_9e32_11eb_af81_b077b776b53alevel0_row6\" class=\"row_heading level0 row6\" >K-Nearest Neighbors</th>\n",
       "                        <td id=\"T_731900ed_9e32_11eb_af81_b077b776b53arow6_col0\" class=\"data row6 col0\" >0.516919</td>\n",
       "                        <td id=\"T_731900ed_9e32_11eb_af81_b077b776b53arow6_col1\" class=\"data row6 col1\" >0.750000</td>\n",
       "                        <td id=\"T_731900ed_9e32_11eb_af81_b077b776b53arow6_col2\" class=\"data row6 col2\" >0.516374</td>\n",
       "                        <td id=\"T_731900ed_9e32_11eb_af81_b077b776b53arow6_col3\" class=\"data row6 col3\" >0.381506</td>\n",
       "            </tr>\n",
       "    </tbody></table>"
      ],
      "text/plain": [
       "<pandas.io.formats.style.Styler at 0x22de954dd00>"
      ]
     },
     "execution_count": 125,
     "metadata": {},
     "output_type": "execute_result"
    }
   ],
   "source": [
    "s1_n = pd.Series([as_mnb_n, as_svc_n, as_log_n, as_rf_n, as_NN_n, as_tree_n, as_knn_n], index=['Multinomial Naive Bayes', 'Support Vector Machine', 'Logistic Regression', 'Random Forest', 'Neural Networks', 'Decision Tree', 'K-Nearest Neighbors'])\n",
    "s2_n = pd.Series([f1s_mnb_n, f1s_svc_n, f1s_log_n, f1s_rf_n, f1s_NN_n, f1s_tree_n, f1s_knn_n], index=['Multinomial Naive Bayes', 'Support Vector Machine', 'Logistic Regression','Random Forest', 'Neural Networks', 'Decision Tree', 'K-Nearest Neighbors'])\n",
    "s3_n = pd.Series([prec_mnb_n, prec_svc_n, prec_log_n, prec_rf_n, prec_NN_n, prec_tree_n, prec_knn_n], index=['Multinomial Naive Bayes', 'Support Vector Machine', 'Logistic Regression', 'Random Forest', 'Neural Networks', 'Decision Tree', 'K-Nearest Neighbors'])\n",
    "s4_n = pd.Series([rec_mnb_n, rec_svc_n, rec_log_n, rec_rf_n, rec_NN_n, rec_tree_n, rec_knn_n], index=['Multinomial Naive Bayes', 'Support Vector Machine', 'Logistic Regression', 'Random Forest', 'Neural Networks', 'Decision Tree', 'K-Nearest Neighbors'])\n",
    "d_n = {'Accuracy Score' : s1_n, 'Precision Score': s3_n, 'Recall Score' : s4_n, 'F1 Score' : s2_n}\n",
    "dfm_n = pd.DataFrame(d_n)\n",
    "print(\"\\nNOUN_PROPN_VERB_ADJ_ADV\\n\")\n",
    "dfm_n.style.highlight_max(color = 'lightgreen', axis = 0).highlight_min(color = 'tomato', axis = 0)"
   ]
  },
  {
   "cell_type": "code",
   "execution_count": 126,
   "metadata": {},
   "outputs": [
    {
     "data": {
      "text/plain": [
       "<sklearn.metrics._plot.precision_recall_curve.PrecisionRecallDisplay at 0x22ddbca4310>"
      ]
     },
     "execution_count": 126,
     "metadata": {},
     "output_type": "execute_result"
    },
    {
     "data": {
      "image/png": "[encoded data removed]",
      "text/plain": [
       "<Figure size 432x288 with 1 Axes>"
      ]
     },
     "metadata": {
      "needs_background": "light"
     },
     "output_type": "display_data"
    }
   ],
   "source": [
    "plot_precision_recall_curve(log_fit_n, X_test, y_test)"
   ]
  },
  {
   "cell_type": "code",
   "execution_count": 127,
   "metadata": {},
   "outputs": [
    {
     "data": {
      "text/plain": [
       "<sklearn.metrics._plot.roc_curve.RocCurveDisplay at 0x22de97133a0>"
      ]
     },
     "execution_count": 127,
     "metadata": {},
     "output_type": "execute_result"
    },
    {
     "data": {
      "image/png": "[encoded data removed]",
      "text/plain": [
       "<Figure size 432x288 with 1 Axes>"
      ]
     },
     "metadata": {
      "needs_background": "light"
     },
     "output_type": "display_data"
    }
   ],
   "source": [
    "plot_roc_curve(log_fit_n,  X_test, y_test)"
   ]
  },
  {
   "cell_type": "code",
   "execution_count": null,
   "metadata": {},
   "outputs": [],
   "source": []
  },
  {
   "cell_type": "markdown",
   "metadata": {},
   "source": [
    "### Sentiment Analysis by nltk VEDER "
   ]
  },
  {
   "cell_type": "code",
   "execution_count": 128,
   "metadata": {},
   "outputs": [
    {
     "name": "stdout",
     "output_type": "stream",
     "text": [
      "-0.1143327140569865\n"
     ]
    }
   ],
   "source": [
    "sia = vd.SentimentIntensityAnalyzer()\n",
    "data['sentiment_text'] = data[\"lemmatized\"].apply(lambda x: sum([sia.polarity_scores(i)['compound'] for i in word_tokenize(x)]))\n",
    "col1 = data['label']\n",
    "col2 = data['sentiment_text']\n",
    "correl_text = col1.corr(col2)\n",
    "print(correl_text)"
   ]
  },
  {
   "cell_type": "code",
   "execution_count": 130,
   "metadata": {},
   "outputs": [
    {
     "name": "stdout",
     "output_type": "stream",
     "text": [
      "-0.10913545634508229\n"
     ]
    }
   ],
   "source": [
    "data['sentiment_NPAA'] = data[\"NOUN_PROPN_ADJ_ADV\"].apply(lambda x: sum([sia.polarity_scores(i)['compound'] for i in word_tokenize(x)]))\n",
    "col1 = data['label']\n",
    "col2 = data['sentiment_NPAA']\n",
    "correl_NPV = col1.corr(col2)\n",
    "print(correl_NPV)"
   ]
  },
  {
   "cell_type": "code",
   "execution_count": 131,
   "metadata": {},
   "outputs": [
    {
     "name": "stdout",
     "output_type": "stream",
     "text": [
      "-0.08791668104919677\n"
     ]
    }
   ],
   "source": [
    "pos_list = [\"ADJ\"]\n",
    "data[\"ADJ\"] = data.apply(lambda x: filter_text_pos(x[\"POS_spacy\"]), axis=1)\n",
    "data['sentiment_ADJ'] = data[\"ADJ\"].apply(lambda x: sum([sia.polarity_scores(i)['compound'] for i in word_tokenize(x)]))\n",
    "col1 = data['label']\n",
    "col2 = data['sentiment_ADJ']\n",
    "correl_ADJ = col1.corr(col2)\n",
    "print(correl_ADJ)"
   ]
  },
  {
   "cell_type": "code",
   "execution_count": 132,
   "metadata": {},
   "outputs": [
    {
     "name": "stdout",
     "output_type": "stream",
     "text": [
      "-0.07076059713818643\n"
     ]
    }
   ],
   "source": [
    "pos_list = [\"NOUN\"]\n",
    "data[\"NOUN\"] = data.apply(lambda x: filter_text_pos(x[\"POS_spacy\"]), axis=1)\n",
    "data['sentiment_NOUN'] = data[\"NOUN\"].apply(lambda x: sum([sia.polarity_scores(i)['compound'] for i in word_tokenize(x)]))\n",
    "col1 = data['label']\n",
    "col2 = data['sentiment_NOUN']\n",
    "correl_NOUN = col1.corr(col2)\n",
    "print(correl_NOUN)"
   ]
  },
  {
   "cell_type": "code",
   "execution_count": 133,
   "metadata": {},
   "outputs": [
    {
     "name": "stdout",
     "output_type": "stream",
     "text": [
      "-0.06372538235181831\n"
     ]
    }
   ],
   "source": [
    "pos_list = [\"VERB\"]\n",
    "data[\"VERB\"] = data.apply(lambda x: filter_text_pos(x[\"POS_spacy\"]), axis=1)\n",
    "data['sentiment_VERB'] = data[\"VERB\"].apply(lambda x: sum([sia.polarity_scores(i)['compound'] for i in word_tokenize(x)]))\n",
    "col1 = data['label']\n",
    "col2 = data['sentiment_VERB']\n",
    "correl_VERB = col1.corr(col2)\n",
    "print(correl_VERB)"
   ]
  },
  {
   "cell_type": "code",
   "execution_count": 139,
   "metadata": {},
   "outputs": [
    {
     "name": "stdout",
     "output_type": "stream",
     "text": [
      "-0.045808163551427854\n"
     ]
    }
   ],
   "source": [
    "pos_list = [\"PROPN\"]\n",
    "data[\"PROPN\"] = data.apply(lambda x: filter_text_pos(x[\"POS_spacy\"]), axis=1)\n",
    "data['sentiment_PROPN'] = data[\"PROPN\"].apply(lambda x: sum([sia.polarity_scores(i)['compound'] for i in word_tokenize(x)]))\n",
    "col1 = data['label']\n",
    "col2 = data['sentiment_PROPN']\n",
    "correl_PROPN = col1.corr(col2)\n",
    "print(correl_PROPN)"
   ]
  },
  {
   "cell_type": "code",
   "execution_count": null,
   "metadata": {},
   "outputs": [],
   "source": []
  },
  {
   "cell_type": "markdown",
   "metadata": {},
   "source": [
    "### Polarity by TextBlob"
   ]
  },
  {
   "cell_type": "code",
   "execution_count": 140,
   "metadata": {},
   "outputs": [
    {
     "data": {
      "text/plain": [
       "Text(0, 0.5, 'Number of texts')"
      ]
     },
     "execution_count": 140,
     "metadata": {},
     "output_type": "execute_result"
    },
    {
     "data": {
      "image/png": "[encoded data removed]",
      "text/plain": [
       "<Figure size 432x288 with 1 Axes>"
      ]
     },
     "metadata": {
      "needs_background": "light"
     },
     "output_type": "display_data"
    }
   ],
   "source": [
    "data['polarity'] = data['lemmatized'].map(lambda text: TextBlob(text).sentiment.polarity)\n",
    "data['polarity'].unique()\n",
    "data['polarity'].hist()\n",
    "plt.xlabel(\"Polarity\")\n",
    "plt.ylabel(\"Number of texts\")"
   ]
  },
  {
   "cell_type": "code",
   "execution_count": 145,
   "metadata": {},
   "outputs": [
    {
     "data": {
      "text/plain": [
       "Text(0, 0.5, 'Number of NPAA')"
      ]
     },
     "execution_count": 145,
     "metadata": {},
     "output_type": "execute_result"
    },
    {
     "data": {
      "image/png": "[encoded data removed]",
      "text/plain": [
       "<Figure size 432x288 with 1 Axes>"
      ]
     },
     "metadata": {
      "needs_background": "light"
     },
     "output_type": "display_data"
    }
   ],
   "source": [
    "data['polarity_NPAA'] = data[\"NOUN_PROPN_ADJ_ADV\"].map(lambda text: TextBlob(text).sentiment.polarity)\n",
    "data['polarity_NPAA'].hist()\n",
    "plt.xlabel(\"Polarity\")\n",
    "plt.ylabel(\"Number of NPAA\")"
   ]
  },
  {
   "cell_type": "code",
   "execution_count": 141,
   "metadata": {},
   "outputs": [
    {
     "data": {
      "text/plain": [
       "Text(0, 0.5, 'Number of Adjectives')"
      ]
     },
     "execution_count": 141,
     "metadata": {},
     "output_type": "execute_result"
    },
    {
     "data": {
      "image/png": "[encoded data removed]",
      "text/plain": [
       "<Figure size 432x288 with 1 Axes>"
      ]
     },
     "metadata": {
      "needs_background": "light"
     },
     "output_type": "display_data"
    }
   ],
   "source": [
    "data['polarity_ADJ'] = data['ADJ'].map(lambda text: TextBlob(text).sentiment.polarity)\n",
    "data['polarity_ADJ'].hist()\n",
    "plt.xlabel(\"Polarity\")\n",
    "plt.ylabel(\"Number of Adjectives\")"
   ]
  },
  {
   "cell_type": "code",
   "execution_count": 142,
   "metadata": {},
   "outputs": [
    {
     "data": {
      "text/plain": [
       "Text(0, 0.5, 'Number of Nouns')"
      ]
     },
     "execution_count": 142,
     "metadata": {},
     "output_type": "execute_result"
    },
    {
     "data": {
      "image/png": "[encoded data removed]",
      "text/plain": [
       "<Figure size 432x288 with 1 Axes>"
      ]
     },
     "metadata": {
      "needs_background": "light"
     },
     "output_type": "display_data"
    }
   ],
   "source": [
    "data['polarity_NOUN'] = data['NOUN'].map(lambda text: TextBlob(text).sentiment.polarity)\n",
    "data['polarity_NOUN'].hist()\n",
    "plt.xlabel(\"Polarity\")\n",
    "plt.ylabel(\"Number of Nouns\")"
   ]
  },
  {
   "cell_type": "code",
   "execution_count": 143,
   "metadata": {},
   "outputs": [
    {
     "data": {
      "text/plain": [
       "Text(0, 0.5, 'Number of Proper Nouns')"
      ]
     },
     "execution_count": 143,
     "metadata": {},
     "output_type": "execute_result"
    },
    {
     "data": {
      "image/png": "[encoded data removed]",
      "text/plain": [
       "<Figure size 432x288 with 1 Axes>"
      ]
     },
     "metadata": {
      "needs_background": "light"
     },
     "output_type": "display_data"
    }
   ],
   "source": [
    "data['polarity_PROPN'] = data['PROPN'].map(lambda text: TextBlob(text).sentiment.polarity)\n",
    "data['polarity_PROPN'].hist()\n",
    "plt.xlabel(\"Polarity\")\n",
    "plt.ylabel(\"Number of Proper Nouns\")"
   ]
  },
  {
   "cell_type": "code",
   "execution_count": 144,
   "metadata": {},
   "outputs": [
    {
     "data": {
      "text/plain": [
       "Text(0, 0.5, 'Number of Verbs')"
      ]
     },
     "execution_count": 144,
     "metadata": {},
     "output_type": "execute_result"
    },
    {
     "data": {
      "image/png": "[encoded data removed]",
      "text/plain": [
       "<Figure size 432x288 with 1 Axes>"
      ]
     },
     "metadata": {
      "needs_background": "light"
     },
     "output_type": "display_data"
    }
   ],
   "source": [
    "data['polarity_VERB'] = data['VERB'].map(lambda text: TextBlob(text).sentiment.polarity)\n",
    "data['polarity_VERB'].hist()\n",
    "plt.xlabel(\"Polarity\")\n",
    "plt.ylabel(\"Number of Verbs\")"
   ]
  },
  {
   "cell_type": "code",
   "execution_count": null,
   "metadata": {},
   "outputs": [],
   "source": []
  },
  {
   "cell_type": "markdown",
   "metadata": {},
   "source": [
    "#### Check for punctuation (POS=PUNCT)"
   ]
  },
  {
   "cell_type": "code",
   "execution_count": 146,
   "metadata": {},
   "outputs": [],
   "source": [
    "pos_list = [\"PUNCT\"]"
   ]
  },
  {
   "cell_type": "code",
   "execution_count": 147,
   "metadata": {},
   "outputs": [],
   "source": [
    "data[\"PUNCT\"] = data.apply(lambda x: filter_text_pos(x[\"POS_spacy\"]), axis=1)"
   ]
  },
  {
   "cell_type": "code",
   "execution_count": 148,
   "metadata": {
    "scrolled": true
   },
   "outputs": [
    {
     "data": {
      "text/html": [
       "<div>\n",
       "<style scoped>\n",
       "    .dataframe tbody tr th:only-of-type {\n",
       "        vertical-align: middle;\n",
       "    }\n",
       "\n",
       "    .dataframe tbody tr th {\n",
       "        vertical-align: top;\n",
       "    }\n",
       "\n",
       "    .dataframe thead th {\n",
       "        text-align: right;\n",
       "    }\n",
       "</style>\n",
       "<table border=\"1\" class=\"dataframe\">\n",
       "  <thead>\n",
       "    <tr style=\"text-align: right;\">\n",
       "      <th></th>\n",
       "      <th>file_id</th>\n",
       "      <th>user_id</th>\n",
       "      <th>subforum_id</th>\n",
       "      <th>num_contexts</th>\n",
       "      <th>label</th>\n",
       "      <th>text</th>\n",
       "      <th>text_clean</th>\n",
       "      <th>word_count</th>\n",
       "      <th>stemmed</th>\n",
       "      <th>lemmatized</th>\n",
       "      <th>...</th>\n",
       "      <th>sentiment_VERB</th>\n",
       "      <th>PROPN</th>\n",
       "      <th>sentiment_PROPN</th>\n",
       "      <th>polarity</th>\n",
       "      <th>polarity_ADJ</th>\n",
       "      <th>polarity_NOUN</th>\n",
       "      <th>polarity_PROPN</th>\n",
       "      <th>polarity_VERB</th>\n",
       "      <th>polarity_NPAA</th>\n",
       "      <th>PUNCT</th>\n",
       "    </tr>\n",
       "  </thead>\n",
       "  <tbody>\n",
       "    <tr>\n",
       "      <th>1184</th>\n",
       "      <td>13052957_1</td>\n",
       "      <td>579087</td>\n",
       "      <td>1345</td>\n",
       "      <td>1</td>\n",
       "      <td>0</td>\n",
       "      <td>I bet all the Ted Pike stuff is on the ADL hit...</td>\n",
       "      <td>bet ted pike stuff adl hit list look start dis...</td>\n",
       "      <td>12</td>\n",
       "      <td>bet ted pike stuff adl hit list look start dis...</td>\n",
       "      <td>bet ted pike stuff adl hit list look start dis...</td>\n",
       "      <td>...</td>\n",
       "      <td>0.0</td>\n",
       "      <td>bet ted pike</td>\n",
       "      <td>0.0</td>\n",
       "      <td>0.000000</td>\n",
       "      <td>0.0000</td>\n",
       "      <td>0.0</td>\n",
       "      <td>0.0</td>\n",
       "      <td>0.0</td>\n",
       "      <td>0.000000</td>\n",
       "      <td>adl</td>\n",
       "    </tr>\n",
       "    <tr>\n",
       "      <th>1220</th>\n",
       "      <td>13350432_1</td>\n",
       "      <td>576002</td>\n",
       "      <td>1345</td>\n",
       "      <td>1</td>\n",
       "      <td>0</td>\n",
       "      <td>:hide And if you 're around Knights of Columbu...</td>\n",
       "      <td>around knights columbus roman catholic brether...</td>\n",
       "      <td>13</td>\n",
       "      <td>around knight columbu roman cathol brethern ke...</td>\n",
       "      <td>around knight columbus roman catholic brethern...</td>\n",
       "      <td>...</td>\n",
       "      <td>0.0</td>\n",
       "      <td>knight columbus roman catholic brethern</td>\n",
       "      <td>0.0</td>\n",
       "      <td>0.088889</td>\n",
       "      <td>0.1000</td>\n",
       "      <td>0.0</td>\n",
       "      <td>0.0</td>\n",
       "      <td>0.0</td>\n",
       "      <td>0.088889</td>\n",
       "      <td>boy</td>\n",
       "    </tr>\n",
       "    <tr>\n",
       "      <th>1495</th>\n",
       "      <td>14014774_2</td>\n",
       "      <td>579541</td>\n",
       "      <td>1388</td>\n",
       "      <td>0</td>\n",
       "      <td>0</td>\n",
       "      <td>The French N.B communities near Quebec especia...</td>\n",
       "      <td>french communities near quebec especially woul...</td>\n",
       "      <td>7</td>\n",
       "      <td>french commun near quebec especi would white</td>\n",
       "      <td>french community near quebec especially would ...</td>\n",
       "      <td>...</td>\n",
       "      <td>0.0</td>\n",
       "      <td>french community quebec</td>\n",
       "      <td>0.0</td>\n",
       "      <td>0.025000</td>\n",
       "      <td>0.0000</td>\n",
       "      <td>0.0</td>\n",
       "      <td>0.0</td>\n",
       "      <td>0.0</td>\n",
       "      <td>0.000000</td>\n",
       "      <td>white</td>\n",
       "    </tr>\n",
       "    <tr>\n",
       "      <th>1624</th>\n",
       "      <td>14095095_2</td>\n",
       "      <td>598702</td>\n",
       "      <td>1381</td>\n",
       "      <td>0</td>\n",
       "      <td>0</td>\n",
       "      <td>For example , almost all the 12 year olds last...</td>\n",
       "      <td>example almost year olds last year dressed wig...</td>\n",
       "      <td>11</td>\n",
       "      <td>exampl almost year old last year dress wigger ...</td>\n",
       "      <td>example almost year old last year dressed wigg...</td>\n",
       "      <td>...</td>\n",
       "      <td>0.0</td>\n",
       "      <td></td>\n",
       "      <td>0.0</td>\n",
       "      <td>0.050000</td>\n",
       "      <td>0.0500</td>\n",
       "      <td>0.0</td>\n",
       "      <td>0.0</td>\n",
       "      <td>0.0</td>\n",
       "      <td>0.050000</td>\n",
       "      <td>halloween</td>\n",
       "    </tr>\n",
       "    <tr>\n",
       "      <th>1901</th>\n",
       "      <td>30462409_2</td>\n",
       "      <td>576093</td>\n",
       "      <td>1362</td>\n",
       "      <td>4</td>\n",
       "      <td>0</td>\n",
       "      <td>Dumb goyim are a good revenue source .</td>\n",
       "      <td>dumb goyim good revenue source</td>\n",
       "      <td>5</td>\n",
       "      <td>dumb goyim good revenu sourc</td>\n",
       "      <td>dumb goy good revenue source</td>\n",
       "      <td>...</td>\n",
       "      <td>0.0</td>\n",
       "      <td></td>\n",
       "      <td>0.0</td>\n",
       "      <td>0.162500</td>\n",
       "      <td>0.1625</td>\n",
       "      <td>0.0</td>\n",
       "      <td>0.0</td>\n",
       "      <td>0.0</td>\n",
       "      <td>0.162500</td>\n",
       "      <td>goy</td>\n",
       "    </tr>\n",
       "  </tbody>\n",
       "</table>\n",
       "<p>5 rows × 31 columns</p>\n",
       "</div>"
      ],
      "text/plain": [
       "         file_id  user_id  subforum_id  num_contexts  label  \\\n",
       "1184  13052957_1   579087         1345             1      0   \n",
       "1220  13350432_1   576002         1345             1      0   \n",
       "1495  14014774_2   579541         1388             0      0   \n",
       "1624  14095095_2   598702         1381             0      0   \n",
       "1901  30462409_2   576093         1362             4      0   \n",
       "\n",
       "                                                   text  \\\n",
       "1184  I bet all the Ted Pike stuff is on the ADL hit...   \n",
       "1220  :hide And if you 're around Knights of Columbu...   \n",
       "1495  The French N.B communities near Quebec especia...   \n",
       "1624  For example , almost all the 12 year olds last...   \n",
       "1901             Dumb goyim are a good revenue source .   \n",
       "\n",
       "                                             text_clean  word_count  \\\n",
       "1184  bet ted pike stuff adl hit list look start dis...          12   \n",
       "1220  around knights columbus roman catholic brether...          13   \n",
       "1495  french communities near quebec especially woul...           7   \n",
       "1624  example almost year olds last year dressed wig...          11   \n",
       "1901                     dumb goyim good revenue source           5   \n",
       "\n",
       "                                                stemmed  \\\n",
       "1184  bet ted pike stuff adl hit list look start dis...   \n",
       "1220  around knight columbu roman cathol brethern ke...   \n",
       "1495       french commun near quebec especi would white   \n",
       "1624  exampl almost year old last year dress wigger ...   \n",
       "1901                       dumb goyim good revenu sourc   \n",
       "\n",
       "                                             lemmatized  ... sentiment_VERB  \\\n",
       "1184  bet ted pike stuff adl hit list look start dis...  ...            0.0   \n",
       "1220  around knight columbus roman catholic brethern...  ...            0.0   \n",
       "1495  french community near quebec especially would ...  ...            0.0   \n",
       "1624  example almost year old last year dressed wigg...  ...            0.0   \n",
       "1901                       dumb goy good revenue source  ...            0.0   \n",
       "\n",
       "                                        PROPN sentiment_PROPN  polarity  \\\n",
       "1184                             bet ted pike             0.0  0.000000   \n",
       "1220  knight columbus roman catholic brethern             0.0  0.088889   \n",
       "1495                  french community quebec             0.0  0.025000   \n",
       "1624                                                      0.0  0.050000   \n",
       "1901                                                      0.0  0.162500   \n",
       "\n",
       "      polarity_ADJ  polarity_NOUN polarity_PROPN  polarity_VERB polarity_NPAA  \\\n",
       "1184        0.0000            0.0            0.0            0.0      0.000000   \n",
       "1220        0.1000            0.0            0.0            0.0      0.088889   \n",
       "1495        0.0000            0.0            0.0            0.0      0.000000   \n",
       "1624        0.0500            0.0            0.0            0.0      0.050000   \n",
       "1901        0.1625            0.0            0.0            0.0      0.162500   \n",
       "\n",
       "          PUNCT  \n",
       "1184        adl  \n",
       "1220        boy  \n",
       "1495      white  \n",
       "1624  halloween  \n",
       "1901        goy  \n",
       "\n",
       "[5 rows x 31 columns]"
      ]
     },
     "execution_count": 148,
     "metadata": {},
     "output_type": "execute_result"
    }
   ],
   "source": [
    "data[data['PUNCT'].str.contains(\".\")].head()"
   ]
  },
  {
   "cell_type": "code",
   "execution_count": 149,
   "metadata": {},
   "outputs": [],
   "source": [
    "pos_list = [\"X_POS\"]"
   ]
  },
  {
   "cell_type": "code",
   "execution_count": 150,
   "metadata": {},
   "outputs": [],
   "source": [
    "data[\"X_POS\"] = data.apply(lambda x: filter_text_pos(x[\"POS_spacy\"]), axis=1)"
   ]
  },
  {
   "cell_type": "code",
   "execution_count": 151,
   "metadata": {},
   "outputs": [
    {
     "data": {
      "text/html": [
       "<div>\n",
       "<style scoped>\n",
       "    .dataframe tbody tr th:only-of-type {\n",
       "        vertical-align: middle;\n",
       "    }\n",
       "\n",
       "    .dataframe tbody tr th {\n",
       "        vertical-align: top;\n",
       "    }\n",
       "\n",
       "    .dataframe thead th {\n",
       "        text-align: right;\n",
       "    }\n",
       "</style>\n",
       "<table border=\"1\" class=\"dataframe\">\n",
       "  <thead>\n",
       "    <tr style=\"text-align: right;\">\n",
       "      <th></th>\n",
       "      <th>file_id</th>\n",
       "      <th>user_id</th>\n",
       "      <th>subforum_id</th>\n",
       "      <th>num_contexts</th>\n",
       "      <th>label</th>\n",
       "      <th>text</th>\n",
       "      <th>text_clean</th>\n",
       "      <th>word_count</th>\n",
       "      <th>stemmed</th>\n",
       "      <th>lemmatized</th>\n",
       "      <th>...</th>\n",
       "      <th>PROPN</th>\n",
       "      <th>sentiment_PROPN</th>\n",
       "      <th>polarity</th>\n",
       "      <th>polarity_ADJ</th>\n",
       "      <th>polarity_NOUN</th>\n",
       "      <th>polarity_PROPN</th>\n",
       "      <th>polarity_VERB</th>\n",
       "      <th>polarity_NPAA</th>\n",
       "      <th>PUNCT</th>\n",
       "      <th>X_POS</th>\n",
       "    </tr>\n",
       "  </thead>\n",
       "  <tbody>\n",
       "  </tbody>\n",
       "</table>\n",
       "<p>0 rows × 32 columns</p>\n",
       "</div>"
      ],
      "text/plain": [
       "Empty DataFrame\n",
       "Columns: [file_id, user_id, subforum_id, num_contexts, label, text, text_clean, word_count, stemmed, lemmatized, tokens, POS_spacy, NOUN_PROPN_ADJ_ADV, NOUN_PROPN_VERB_ADJ_ADV, sentiment_text, sentiment_NPAA, ADJ, sentiment_ADJ, NOUN, sentiment_NOUN, VERB, sentiment_VERB, PROPN, sentiment_PROPN, polarity, polarity_ADJ, polarity_NOUN, polarity_PROPN, polarity_VERB, polarity_NPAA, PUNCT, X_POS]\n",
       "Index: []\n",
       "\n",
       "[0 rows x 32 columns]"
      ]
     },
     "execution_count": 151,
     "metadata": {},
     "output_type": "execute_result"
    }
   ],
   "source": [
    "data[data['X_POS'].str.contains(\".\")]"
   ]
  },
  {
   "cell_type": "code",
   "execution_count": null,
   "metadata": {},
   "outputs": [],
   "source": []
  },
  {
   "cell_type": "markdown",
   "metadata": {},
   "source": [
    "# N-grams"
   ]
  },
  {
   "cell_type": "markdown",
   "metadata": {},
   "source": [
    "### Bi-grams"
   ]
  },
  {
   "cell_type": "code",
   "execution_count": 152,
   "metadata": {
    "scrolled": true
   },
   "outputs": [],
   "source": [
    "bi = [list(nltk.bigrams(x)) for x in data['tokens']]"
   ]
  },
  {
   "cell_type": "code",
   "execution_count": 153,
   "metadata": {
    "scrolled": true
   },
   "outputs": [],
   "source": [
    "from collections import Counter\n",
    "lista = []\n",
    "for x in bi:\n",
    "    if x not in lista:\n",
    "        lista.append(x)"
   ]
  },
  {
   "cell_type": "code",
   "execution_count": 154,
   "metadata": {},
   "outputs": [],
   "source": [
    "bi_count = {}\n",
    "for item in lista:\n",
    "    for x in item:\n",
    "        if x in bi_count:\n",
    "            bi_count[x] +=1\n",
    "        else:\n",
    "            bi_count[x] = 1"
   ]
  },
  {
   "cell_type": "code",
   "execution_count": 155,
   "metadata": {},
   "outputs": [
    {
     "data": {
      "text/plain": [
       "{('can', 'not'): 114,\n",
       " ('personal', 'message'): 75,\n",
       " ('white', 'people'): 73,\n",
       " ('look', 'like'): 71,\n",
       " ('year', 'old'): 65,\n",
       " ('white', 'nationalist'): 63,\n",
       " ('would', 'like'): 60,\n",
       " ('year', 'ago'): 60,\n",
       " ('white', 'woman'): 55,\n",
       " ('non', 'white'): 48,\n",
       " ('high', 'school'): 39,\n",
       " ('white', 'race'): 36,\n",
       " ('white', 'girl'): 33,\n",
       " ('new', 'york'): 32,\n",
       " ('last', 'year'): 31,\n",
       " ('sound', 'like'): 31,\n",
       " ('white', 'man'): 30,\n",
       " ('public', 'school'): 29,\n",
       " ('south', 'africa'): 29,\n",
       " ('one', 'day'): 28}"
      ]
     },
     "execution_count": 155,
     "metadata": {},
     "output_type": "execute_result"
    }
   ],
   "source": [
    "top_bi = {k: v for k, v in sorted(bi_count.items(), key=lambda item: item[1], reverse=True)[:20]}\n",
    "top_bi"
   ]
  },
  {
   "cell_type": "markdown",
   "metadata": {},
   "source": [
    "### Tri-grams"
   ]
  },
  {
   "cell_type": "code",
   "execution_count": 156,
   "metadata": {},
   "outputs": [],
   "source": [
    "tri = [list(nltk.trigrams(x)) for x in data['tokens']]"
   ]
  },
  {
   "cell_type": "code",
   "execution_count": 157,
   "metadata": {},
   "outputs": [],
   "source": [
    "lista_tri = []\n",
    "for x in tri:\n",
    "    if x not in lista_tri:\n",
    "        lista_tri.append(x)"
   ]
  },
  {
   "cell_type": "code",
   "execution_count": 158,
   "metadata": {},
   "outputs": [],
   "source": [
    "tri_count = {}\n",
    "for item in lista_tri:\n",
    "    for x in item:\n",
    "        if x in tri_count:\n",
    "            tri_count[x] +=1\n",
    "        else:\n",
    "            tri_count[x] = 1"
   ]
  },
  {
   "cell_type": "code",
   "execution_count": 159,
   "metadata": {},
   "outputs": [
    {
     "data": {
      "text/plain": [
       "{('send', 'personal', 'message'): 10,\n",
       " ('hair', 'blue', 'eye'): 9,\n",
       " ('can', 'not', 'wait'): 9,\n",
       " ('new', 'york', 'city'): 8,\n",
       " ('dr', 'william', 'pierce'): 8,\n",
       " ('like', 'minded', 'people'): 7,\n",
       " ('ku', 'klux', 'klan'): 7,\n",
       " ('would', 'like', 'say'): 7,\n",
       " ('hair', 'brown', 'eye'): 6,\n",
       " ('please', 'personal', 'message'): 6,\n",
       " ('youtube', 'sa', 'survival'): 6,\n",
       " ('sa', 'survival', 'secret'): 6,\n",
       " ('survival', 'secret', 'pt'): 6,\n",
       " ('update', 'message', 'cst'): 6,\n",
       " ('would', 'like', 'get'): 5,\n",
       " ('can', 'not', 'get'): 5,\n",
       " ('every', 'time', 'see'): 5,\n",
       " ('black', 'history', 'month'): 5,\n",
       " ('nnn', 'reporter', 'newsroom'): 5,\n",
       " ('reporter', 'newsroom', 'forum'): 5}"
      ]
     },
     "execution_count": 159,
     "metadata": {},
     "output_type": "execute_result"
    }
   ],
   "source": [
    "top_tri = {k: v for k, v in sorted(tri_count.items(), key=lambda item: item[1], reverse=True)[:20]}\n",
    "top_tri"
   ]
  },
  {
   "cell_type": "code",
   "execution_count": 160,
   "metadata": {},
   "outputs": [
    {
     "data": {
      "text/plain": [
       "'Jesli sa , to sie chowaja , albo nie wiedza co to Stormfront .'"
      ]
     },
     "execution_count": 160,
     "metadata": {},
     "output_type": "execute_result"
    }
   ],
   "source": [
    "data['text'][3781]"
   ]
  },
  {
   "cell_type": "code",
   "execution_count": null,
   "metadata": {},
   "outputs": [],
   "source": []
  },
  {
   "cell_type": "code",
   "execution_count": null,
   "metadata": {},
   "outputs": [],
   "source": []
  }
 ],
 "metadata": {
  "kernelspec": {
   "display_name": "Python 3",
   "language": "python",
   "name": "python3"
  },
  "language_info": {
   "codemirror_mode": {
    "name": "ipython",
    "version": 3
   },
   "file_extension": ".py",
   "mimetype": "text/x-python",
   "name": "python",
   "nbconvert_exporter": "python",
   "pygments_lexer": "ipython3",
   "version": "3.8.5"
  }
 },
 "nbformat": 4,
 "nbformat_minor": 4
}
